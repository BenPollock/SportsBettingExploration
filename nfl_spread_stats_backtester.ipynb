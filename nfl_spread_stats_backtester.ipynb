{
 "cells": [
  {
   "cell_type": "code",
   "metadata": {
    "tags": [],
    "cell_id": "00000-ef07f82f-8812-45c0-a156-a776f4166ee6",
    "deepnote_to_be_reexecuted": false,
    "source_hash": "6147cd7f",
    "execution_start": 1632972550407,
    "execution_millis": 0,
    "deepnote_cell_type": "code"
   },
   "source": "#!pip install scikit-optimize\n#!pip install eli5\nimport numpy as np\nimport pandas as pd\nimport matplotlib.pyplot as plt\nimport seaborn as sns\nimport mpl_toolkits\nfrom collections import deque\nfrom functools import reduce\nfrom sklearn import preprocessing\nfrom sklearn.model_selection import cross_val_score\nfrom sklearn.model_selection import train_test_split\nfrom sklearn import ensemble\nfrom sklearn.metrics import roc_curve, auc\nimport scipy.stats as st\nimport math\nimport statistics\n\nfrom sklearn.model_selection import GridSearchCV\n\n%matplotlib inline",
   "execution_count": 20,
   "outputs": []
  },
  {
   "cell_type": "code",
   "metadata": {
    "tags": [],
    "cell_id": "00001-1546405d-b284-459e-b4f5-69fc2e8e2f24",
    "deepnote_to_be_reexecuted": false,
    "source_hash": "9a21b033",
    "execution_start": 1632971654352,
    "execution_millis": 3655,
    "deepnote_cell_type": "code"
   },
   "source": "# Get data\nglobal_df = pd.read_csv(\"nfl_games_and_bets.csv\")\nglobal_df = global_df.drop(global_df[global_df.schedule_season == 2021].index)\nglobal_df = global_df.drop(columns=['stadium','weather_temperature', 'weather_wind_mph','weather_humidity','weather_detail'])\nglobal_df = global_df.drop(global_df[global_df.schedule_season < 2000].index)\n\n# Account for team moves\nold_to_new_team_name = {\"San Diego Chargers\": \"Los Angeles Chargers\", \"St. Louis Rams\": \"Los Angeles Rams\", \\\n\"Washington Redskins\" : \"Washington Football Team\", \"Oakland Raiders\": \"Las Vegas Raiders\"}\nglobal_df = global_df.replace({\"team_away\": old_to_new_team_name}).replace({\"team_home\": old_to_new_team_name})\n\n# Maintain consistency between favourite and team name columns\nshort_form_to_team_name = {\"GB\": \"Green Bay Packers\", \"HOU\": \"Houston Texans\", \"KC\": \"Kansas City Chiefs\", \"BUF\": \"Buffalo Bills\", \\\n \"TEN\": \"Tennessee Titans\", \"NO\": \"New Orleans Saints\", \"SEA\": \"Seattle Seahawks\", \"MIN\": \"Minnesota Vikings\", \\\n \"TB\": \"Tampa Bay Buccaneers\", \"LVR\": \"Las Vegas Raiders\", \"BAL\": \"Baltimore Ravens\", \"LAC\": \"Los Angeles Chargers\", \\\n \"IND\": \"Indianapolis Colts\", \"DET\": \"Detroit Lions\", \"CLE\": \"Cleveland Browns\", \"JAX\": \"Jacksonville Jaguars\", \"MIA\": \"Miami Dolphins\", \\\n \"ARI\": \"Arizona Cardinals\", \"PIT\": \"Pittsburgh Steelers\", \"CHI\": \"Chicago Bears\",\"ATL\": \"Atlanta Falcons\", \"CAR\": \"Carolina Panthers\", \\\n \"LAR\": \"Los Angeles Rams\", \"CIN\": \"Cincinnati Bengals\", \"DAL\": \"Dallas Cowboys\", \"SF\": \"San Francisco 49ers\", \"NYG\": \"New York Giants\", \\\n \"WAS\": \"Washington Football Team\", \"DEN\": \"Denver Broncos\", \"PHI\": \"Philadelphia Eagles\", \"NYJ\": \"New York Jets\", \"NE\": \"New England Patriots\"}\nteam_name_to_short_form = {value: key for key, value in short_form_to_team_name.items()}\n\nglobal_df = global_df.replace({'team_away': team_name_to_short_form}).replace({\"team_home\": team_name_to_short_form})\n\n# Note: 'PICK' when spread == 0\n# Determine if teams are within the same division\n\n# AFC = A, NFC = N\n# West = W, etc etc\nteam_to_division = {\"ARI\": \"NW\", \"LAR\": \"NW\", \"SF\": \"NW\", \"SEA\": \"NW\", \"CAR\": \"NS\", \"TB\": \"NS\", \"NO\": \"NS\", \"ATL\": \"NS\", \\\n \"GB\": \"NN\", \"CHI\": \"NN\", \"MIN\": \"NN\", \"DET\": \"NN\", \"WAS\": \"NE\", \"DAL\": \"NE\", \"PHI\": \"NE\", \"NYG\": \"NE\", \\\n \"TEN\": \"AS\", \"HOU\": \"AS\", \"IND\": \"AS\", \"JAX\": \"AS\", \"BUF\": \"AE\", \"MIA\": \"AE\", \"NE\": \"AE\", \"NYJ\": \"AE\", \\\n \"BAL\": \"AN\", \"PIT\": \"AN\", \"CLE\": \"AN\", \"CIN\": \"AN\", \"LVR\": \"AW\", \"DEN\": \"AW\", \"KC\": \"AW\", \"LAC\": \"AW\"}\n\nglobal_df2 = global_df\nglobal_df2['home_division'] = global_df2.apply(lambda row: team_to_division[row.team_home], axis=1)\nglobal_df2['away_division'] = global_df2.apply(lambda row: team_to_division[row.team_away], axis=1)\nglobal_df2['intra_division'] = global_df2.apply(lambda row: row.home_division == row.away_division, axis=1)\nglobal_df2 = global_df2.drop(columns=['home_division', 'away_division'])\n\n# Create auxillary columns to make calculations easier\nglobal_df3 = global_df2\nglobal_df3['home_point_diff'] = global_df2.apply(lambda row: row.score_home - row.score_away, axis=1)\nglobal_df3['away_point_diff'] = global_df3.apply(lambda row: row.score_away - row.score_home, axis=1)\nglobal_df3['home_spread'] = global_df3.apply(lambda row: row.spread_favorite * -1 if row.team_favorite_id == row.team_away else row.spread_favorite, axis=1)\n\n# Loop, sorry pandas \nteam_to_games = {}\n\n# Get last one result\nfor index, row in global_df3.iterrows():\n\n    # Update the mapping\n    if row.team_home not in team_to_games:\n        team_to_games.update({row.team_home : deque([0,0,0])})\n\n    if row.team_away not in team_to_games:\n        team_to_games.update({row.team_away : deque([0,0,0])})\n\n    last_games = team_to_games.get(row.team_home)\n    home_last_3 = last_games[0] + last_games[1] + last_games[2]\n    home_last_1 = last_games[0]\n    last_games.pop()\n    last_games.appendleft(row.home_point_diff)\n\n    last_games = team_to_games.get(row.team_away)\n    away_last_3 = last_games[0] + last_games[1] + last_games[2]\n    away_last_1 = last_games[0]\n    last_games.pop()\n    last_games.appendleft(row.away_point_diff)\n\n    global_df3.at[index, 'home_last_3'] = home_last_3\n    global_df3.at[index, 'away_last_3'] = away_last_3\n    global_df3.at[index, 'home_last_1'] = home_last_1\n    global_df3.at[index, 'away_last_1'] = away_last_1\n\nglobal_df_final = global_df3\n\nglobal_df_final\n\n\n",
   "execution_count": 2,
   "outputs": [
    {
     "output_type": "execute_result",
     "execution_count": 2,
     "data": {
      "application/vnd.deepnote.dataframe.v2+json": {
       "row_count": 5593,
       "column_count": 20,
       "columns": [
        {
         "name": "schedule_date",
         "dtype": "object",
         "stats": {
          "unique_count": 1060,
          "nan_count": 0,
          "categories": [
           {
            "name": "1/2/2005",
            "count": 16
           },
           {
            "name": "12/28/2008",
            "count": 16
           },
           {
            "name": "1058 others",
            "count": 5561
           }
          ]
         }
        },
        {
         "name": "schedule_season",
         "dtype": "int64",
         "stats": {
          "unique_count": 21,
          "nan_count": 0,
          "min": "2000",
          "max": "2020",
          "histogram": [
           {
            "bin_start": 2000,
            "bin_end": 2002,
            "count": 518
           },
           {
            "bin_start": 2002,
            "bin_end": 2004,
            "count": 534
           },
           {
            "bin_start": 2004,
            "bin_end": 2006,
            "count": 534
           },
           {
            "bin_start": 2006,
            "bin_end": 2008,
            "count": 534
           },
           {
            "bin_start": 2008,
            "bin_end": 2010,
            "count": 534
           },
           {
            "bin_start": 2010,
            "bin_end": 2012,
            "count": 534
           },
           {
            "bin_start": 2012,
            "bin_end": 2014,
            "count": 534
           },
           {
            "bin_start": 2014,
            "bin_end": 2016,
            "count": 534
           },
           {
            "bin_start": 2016,
            "bin_end": 2018,
            "count": 534
           },
           {
            "bin_start": 2018,
            "bin_end": 2020,
            "count": 803
           }
          ]
         }
        },
        {
         "name": "schedule_week",
         "dtype": "object",
         "stats": {
          "unique_count": 23,
          "nan_count": 0,
          "categories": [
           {
            "name": "14",
            "count": 334
           },
           {
            "name": "15",
            "count": 334
           },
           {
            "name": "21 others",
            "count": 4925
           }
          ]
         }
        },
        {
         "name": "schedule_playoff",
         "dtype": "bool",
         "stats": {
          "unique_count": 2,
          "nan_count": 0,
          "categories": [
           {
            "name": "False",
            "count": 5360
           },
           {
            "name": "True",
            "count": 233
           }
          ]
         }
        },
        {
         "name": "team_home",
         "dtype": "object",
         "stats": {
          "unique_count": 32,
          "nan_count": 0,
          "categories": [
           {
            "name": "NE",
            "count": 198
           },
           {
            "name": "GB",
            "count": 183
           },
           {
            "name": "30 others",
            "count": 5212
           }
          ]
         }
        },
        {
         "name": "score_home",
         "dtype": "float64",
         "stats": {
          "unique_count": 59,
          "nan_count": 0,
          "min": "0.0",
          "max": "62.0",
          "histogram": [
           {
            "bin_start": 0,
            "bin_end": 6.2,
            "count": 246
           },
           {
            "bin_start": 6.2,
            "bin_end": 12.4,
            "count": 523
           },
           {
            "bin_start": 12.4,
            "bin_end": 18.6,
            "count": 1053
           },
           {
            "bin_start": 18.6,
            "bin_end": 24.8,
            "count": 1457
           },
           {
            "bin_start": 24.8,
            "bin_end": 31,
            "count": 973
           },
           {
            "bin_start": 31,
            "bin_end": 37.2,
            "count": 822
           },
           {
            "bin_start": 37.2,
            "bin_end": 43.4,
            "count": 317
           },
           {
            "bin_start": 43.4,
            "bin_end": 49.6,
            "count": 152
           },
           {
            "bin_start": 49.6,
            "bin_end": 55.800000000000004,
            "count": 38
           },
           {
            "bin_start": 55.800000000000004,
            "bin_end": 62,
            "count": 12
           }
          ]
         }
        },
        {
         "name": "score_away",
         "dtype": "float64",
         "stats": {
          "unique_count": 55,
          "nan_count": 0,
          "min": "0.0",
          "max": "59.0",
          "histogram": [
           {
            "bin_start": 0,
            "bin_end": 5.9,
            "count": 260
           },
           {
            "bin_start": 5.9,
            "bin_end": 11.8,
            "count": 775
           },
           {
            "bin_start": 11.8,
            "bin_end": 17.700000000000003,
            "count": 1292
           },
           {
            "bin_start": 17.700000000000003,
            "bin_end": 23.6,
            "count": 1066
           },
           {
            "bin_start": 23.6,
            "bin_end": 29.5,
            "count": 1042
           },
           {
            "bin_start": 29.5,
            "bin_end": 35.400000000000006,
            "count": 704
           },
           {
            "bin_start": 35.400000000000006,
            "bin_end": 41.300000000000004,
            "count": 317
           },
           {
            "bin_start": 41.300000000000004,
            "bin_end": 47.2,
            "count": 92
           },
           {
            "bin_start": 47.2,
            "bin_end": 53.1,
            "count": 37
           },
           {
            "bin_start": 53.1,
            "bin_end": 59,
            "count": 8
           }
          ]
         }
        },
        {
         "name": "team_away",
         "dtype": "object",
         "stats": {
          "unique_count": 32,
          "nan_count": 0,
          "categories": [
           {
            "name": "BAL",
            "count": 187
           },
           {
            "name": "SEA",
            "count": 183
           },
           {
            "name": "30 others",
            "count": 5223
           }
          ]
         }
        },
        {
         "name": "team_favorite_id",
         "dtype": "object",
         "stats": {
          "unique_count": 33,
          "nan_count": 0,
          "categories": [
           {
            "name": "NE",
            "count": 296
           },
           {
            "name": "PIT",
            "count": 257
           },
           {
            "name": "31 others",
            "count": 5040
           }
          ]
         }
        },
        {
         "name": "spread_favorite",
         "dtype": "float64",
         "stats": {
          "unique_count": 45,
          "nan_count": 0,
          "min": "-26.5",
          "max": "0.0",
          "histogram": [
           {
            "bin_start": -26.5,
            "bin_end": -23.85,
            "count": 2
           },
           {
            "bin_start": -23.85,
            "bin_end": -21.2,
            "count": 2
           },
           {
            "bin_start": -21.2,
            "bin_end": -18.55,
            "count": 6
           },
           {
            "bin_start": -18.55,
            "bin_end": -15.9,
            "count": 47
           },
           {
            "bin_start": -15.9,
            "bin_end": -13.25,
            "count": 159
           },
           {
            "bin_start": -13.25,
            "bin_end": -10.600000000000001,
            "count": 207
           },
           {
            "bin_start": -10.600000000000001,
            "bin_end": -7.949999999999999,
            "count": 689
           },
           {
            "bin_start": -7.949999999999999,
            "bin_end": -5.300000000000001,
            "count": 1367
           },
           {
            "bin_start": -5.300000000000001,
            "bin_end": -2.650000000000002,
            "count": 2067
           },
           {
            "bin_start": -2.650000000000002,
            "bin_end": 0,
            "count": 1047
           }
          ]
         }
        },
        {
         "name": "over_under_line",
         "dtype": "float64",
         "stats": {
          "unique_count": 64,
          "nan_count": 0,
          "min": "30.0",
          "max": "63.5",
          "histogram": [
           {
            "bin_start": 30,
            "bin_end": 33.35,
            "count": 73
           },
           {
            "bin_start": 33.35,
            "bin_end": 36.7,
            "count": 418
           },
           {
            "bin_start": 36.7,
            "bin_end": 40.05,
            "count": 972
           },
           {
            "bin_start": 40.05,
            "bin_end": 43.4,
            "count": 1195
           },
           {
            "bin_start": 43.4,
            "bin_end": 46.75,
            "count": 1503
           },
           {
            "bin_start": 46.75,
            "bin_end": 50.1,
            "count": 929
           },
           {
            "bin_start": 50.1,
            "bin_end": 53.45,
            "count": 295
           },
           {
            "bin_start": 53.45,
            "bin_end": 56.8,
            "count": 174
           },
           {
            "bin_start": 56.8,
            "bin_end": 60.150000000000006,
            "count": 31
           },
           {
            "bin_start": 60.150000000000006,
            "bin_end": 63.5,
            "count": 3
           }
          ]
         }
        },
        {
         "name": "stadium_neutral",
         "dtype": "object",
         "stats": {
          "unique_count": 2,
          "nan_count": 0,
          "categories": [
           {
            "name": "False",
            "count": 5529
           },
           {
            "name": "True",
            "count": 64
           }
          ]
         }
        },
        {
         "name": "intra_division",
         "dtype": "bool",
         "stats": {
          "unique_count": 2,
          "nan_count": 0,
          "categories": [
           {
            "name": "False",
            "count": 3599
           },
           {
            "name": "True",
            "count": 1994
           }
          ]
         }
        },
        {
         "name": "home_point_diff",
         "dtype": "float64",
         "stats": {
          "unique_count": 99,
          "nan_count": 0,
          "min": "-49.0",
          "max": "59.0",
          "histogram": [
           {
            "bin_start": -49,
            "bin_end": -38.2,
            "count": 10
           },
           {
            "bin_start": -38.2,
            "bin_end": -27.4,
            "count": 137
           },
           {
            "bin_start": -27.4,
            "bin_end": -16.599999999999994,
            "count": 427
           },
           {
            "bin_start": -16.599999999999994,
            "bin_end": -5.799999999999997,
            "count": 1022
           },
           {
            "bin_start": -5.799999999999997,
            "bin_end": 5,
            "count": 1641
           },
           {
            "bin_start": 5,
            "bin_end": 15.800000000000011,
            "count": 1353
           },
           {
            "bin_start": 15.800000000000011,
            "bin_end": 26.60000000000001,
            "count": 664
           },
           {
            "bin_start": 26.60000000000001,
            "bin_end": 37.400000000000006,
            "count": 279
           },
           {
            "bin_start": 37.400000000000006,
            "bin_end": 48.2,
            "count": 54
           },
           {
            "bin_start": 48.2,
            "bin_end": 59,
            "count": 6
           }
          ]
         }
        },
        {
         "name": "away_point_diff",
         "dtype": "float64",
         "stats": {
          "unique_count": 99,
          "nan_count": 0,
          "min": "-59.0",
          "max": "49.0",
          "histogram": [
           {
            "bin_start": -59,
            "bin_end": -48.2,
            "count": 6
           },
           {
            "bin_start": -48.2,
            "bin_end": -37.4,
            "count": 54
           },
           {
            "bin_start": -37.4,
            "bin_end": -26.599999999999994,
            "count": 279
           },
           {
            "bin_start": -26.599999999999994,
            "bin_end": -15.799999999999997,
            "count": 664
           },
           {
            "bin_start": -15.799999999999997,
            "bin_end": -5,
            "count": 1247
           },
           {
            "bin_start": -5,
            "bin_end": 5.800000000000011,
            "count": 1747
           },
           {
            "bin_start": 5.800000000000011,
            "bin_end": 16.60000000000001,
            "count": 1022
           },
           {
            "bin_start": 16.60000000000001,
            "bin_end": 27.400000000000006,
            "count": 427
           },
           {
            "bin_start": 27.400000000000006,
            "bin_end": 38.2,
            "count": 137
           },
           {
            "bin_start": 38.2,
            "bin_end": 49,
            "count": 10
           }
          ]
         }
        },
        {
         "name": "home_spread",
         "dtype": "float64",
         "stats": {
          "unique_count": 78,
          "nan_count": 0,
          "min": "-26.5",
          "max": "18.5",
          "histogram": [
           {
            "bin_start": -26.5,
            "bin_end": -22,
            "count": 3
           },
           {
            "bin_start": -22,
            "bin_end": -17.5,
            "count": 11
           },
           {
            "bin_start": -17.5,
            "bin_end": -13,
            "count": 169
           },
           {
            "bin_start": -13,
            "bin_end": -8.5,
            "count": 561
           },
           {
            "bin_start": -8.5,
            "bin_end": -4,
            "count": 1357
           },
           {
            "bin_start": -4,
            "bin_end": 0.5,
            "count": 1632
           },
           {
            "bin_start": 0.5,
            "bin_end": 5,
            "count": 1183
           },
           {
            "bin_start": 5,
            "bin_end": 9.5,
            "count": 535
           },
           {
            "bin_start": 9.5,
            "bin_end": 14,
            "count": 114
           },
           {
            "bin_start": 14,
            "bin_end": 18.5,
            "count": 28
           }
          ]
         }
        },
        {
         "name": "home_last_3",
         "dtype": "float64",
         "stats": {
          "unique_count": 181,
          "nan_count": 0,
          "min": "-117.0",
          "max": "120.0",
          "histogram": [
           {
            "bin_start": -117,
            "bin_end": -93.3,
            "count": 6
           },
           {
            "bin_start": -93.3,
            "bin_end": -69.6,
            "count": 32
           },
           {
            "bin_start": -69.6,
            "bin_end": -45.900000000000006,
            "count": 318
           },
           {
            "bin_start": -45.900000000000006,
            "bin_end": -22.200000000000003,
            "count": 867
           },
           {
            "bin_start": -22.200000000000003,
            "bin_end": 1.5,
            "count": 1768
           },
           {
            "bin_start": 1.5,
            "bin_end": 25.19999999999999,
            "count": 1619
           },
           {
            "bin_start": 25.19999999999999,
            "bin_end": 48.900000000000006,
            "count": 752
           },
           {
            "bin_start": 48.900000000000006,
            "bin_end": 72.6,
            "count": 196
           },
           {
            "bin_start": 72.6,
            "bin_end": 96.29999999999998,
            "count": 31
           },
           {
            "bin_start": 96.29999999999998,
            "bin_end": 120,
            "count": 4
           }
          ]
         }
        },
        {
         "name": "away_last_3",
         "dtype": "float64"
        },
        {
         "name": "home_last_1",
         "dtype": "float64"
        },
        {
         "name": "away_last_1",
         "dtype": "float64"
        },
        {
         "name": "_deepnote_index_column",
         "dtype": "int64"
        }
       ],
       "rows_top": [
        {
         "schedule_date": "9/3/2000",
         "schedule_season": 2000,
         "schedule_week": "1",
         "schedule_playoff": "False",
         "team_home": "ATL",
         "score_home": 36,
         "score_away": 28,
         "team_away": "SF",
         "team_favorite_id": "ATL",
         "spread_favorite": -6.5,
         "over_under_line": 46.5,
         "stadium_neutral": "False",
         "intra_division": "False",
         "home_point_diff": 8,
         "away_point_diff": -8,
         "home_spread": -6.5,
         "home_last_3": 0,
         "away_last_3": 0,
         "home_last_1": 0,
         "away_last_1": 0,
         "_deepnote_index_column": 4853
        },
        {
         "schedule_date": "9/3/2000",
         "schedule_season": 2000,
         "schedule_week": "1",
         "schedule_playoff": "False",
         "team_home": "BUF",
         "score_home": 16,
         "score_away": 13,
         "team_away": "TEN",
         "team_favorite_id": "BUF",
         "spread_favorite": -1,
         "over_under_line": 40,
         "stadium_neutral": "False",
         "intra_division": "False",
         "home_point_diff": 3,
         "away_point_diff": -3,
         "home_spread": -1,
         "home_last_3": 0,
         "away_last_3": 0,
         "home_last_1": 0,
         "away_last_1": 0,
         "_deepnote_index_column": 4854
        },
        {
         "schedule_date": "9/3/2000",
         "schedule_season": 2000,
         "schedule_week": "1",
         "schedule_playoff": "False",
         "team_home": "CLE",
         "score_home": 7,
         "score_away": 27,
         "team_away": "JAX",
         "team_favorite_id": "JAX",
         "spread_favorite": -10.5,
         "over_under_line": 38.5,
         "stadium_neutral": "False",
         "intra_division": "False",
         "home_point_diff": -20,
         "away_point_diff": 20,
         "home_spread": 10.5,
         "home_last_3": 0,
         "away_last_3": 0,
         "home_last_1": 0,
         "away_last_1": 0,
         "_deepnote_index_column": 4855
        },
        {
         "schedule_date": "9/3/2000",
         "schedule_season": 2000,
         "schedule_week": "1",
         "schedule_playoff": "False",
         "team_home": "DAL",
         "score_home": 14,
         "score_away": 41,
         "team_away": "PHI",
         "team_favorite_id": "DAL",
         "spread_favorite": -6,
         "over_under_line": 39.5,
         "stadium_neutral": "False",
         "intra_division": "True",
         "home_point_diff": -27,
         "away_point_diff": 27,
         "home_spread": -6,
         "home_last_3": 0,
         "away_last_3": 0,
         "home_last_1": 0,
         "away_last_1": 0,
         "_deepnote_index_column": 4856
        },
        {
         "schedule_date": "9/3/2000",
         "schedule_season": 2000,
         "schedule_week": "1",
         "schedule_playoff": "False",
         "team_home": "GB",
         "score_home": 16,
         "score_away": 20,
         "team_away": "NYJ",
         "team_favorite_id": "GB",
         "spread_favorite": -2.5,
         "over_under_line": 44,
         "stadium_neutral": "False",
         "intra_division": "False",
         "home_point_diff": -4,
         "away_point_diff": 4,
         "home_spread": -2.5,
         "home_last_3": 0,
         "away_last_3": 0,
         "home_last_1": 0,
         "away_last_1": 0,
         "_deepnote_index_column": 4857
        },
        {
         "schedule_date": "9/3/2000",
         "schedule_season": 2000,
         "schedule_week": "1",
         "schedule_playoff": "False",
         "team_home": "KC",
         "score_home": 14,
         "score_away": 27,
         "team_away": "IND",
         "team_favorite_id": "IND",
         "spread_favorite": -3.5,
         "over_under_line": 44,
         "stadium_neutral": "False",
         "intra_division": "False",
         "home_point_diff": -13,
         "away_point_diff": 13,
         "home_spread": 3.5,
         "home_last_3": 0,
         "away_last_3": 0,
         "home_last_1": 0,
         "away_last_1": 0,
         "_deepnote_index_column": 4858
        },
        {
         "schedule_date": "9/3/2000",
         "schedule_season": 2000,
         "schedule_week": "1",
         "schedule_playoff": "False",
         "team_home": "MIA",
         "score_home": 23,
         "score_away": 0,
         "team_away": "SEA",
         "team_favorite_id": "MIA",
         "spread_favorite": -2,
         "over_under_line": 36,
         "stadium_neutral": "False",
         "intra_division": "False",
         "home_point_diff": 23,
         "away_point_diff": -23,
         "home_spread": -2,
         "home_last_3": 0,
         "away_last_3": 0,
         "home_last_1": 0,
         "away_last_1": 0,
         "_deepnote_index_column": 4859
        },
        {
         "schedule_date": "9/3/2000",
         "schedule_season": 2000,
         "schedule_week": "1",
         "schedule_playoff": "False",
         "team_home": "MIN",
         "score_home": 30,
         "score_away": 27,
         "team_away": "CHI",
         "team_favorite_id": "MIN",
         "spread_favorite": -4.5,
         "over_under_line": 46.5,
         "stadium_neutral": "False",
         "intra_division": "True",
         "home_point_diff": 3,
         "away_point_diff": -3,
         "home_spread": -4.5,
         "home_last_3": 0,
         "away_last_3": 0,
         "home_last_1": 0,
         "away_last_1": 0,
         "_deepnote_index_column": 4860
        },
        {
         "schedule_date": "9/3/2000",
         "schedule_season": 2000,
         "schedule_week": "1",
         "schedule_playoff": "False",
         "team_home": "NE",
         "score_home": 16,
         "score_away": 21,
         "team_away": "TB",
         "team_favorite_id": "TB",
         "spread_favorite": -3,
         "over_under_line": 36,
         "stadium_neutral": "False",
         "intra_division": "False",
         "home_point_diff": -5,
         "away_point_diff": 5,
         "home_spread": 3,
         "home_last_3": 0,
         "away_last_3": 0,
         "home_last_1": 0,
         "away_last_1": 0,
         "_deepnote_index_column": 4861
        },
        {
         "schedule_date": "9/3/2000",
         "schedule_season": 2000,
         "schedule_week": "1",
         "schedule_playoff": "False",
         "team_home": "NO",
         "score_home": 10,
         "score_away": 14,
         "team_away": "DET",
         "team_favorite_id": "PICK",
         "spread_favorite": 0,
         "over_under_line": 40.5,
         "stadium_neutral": "False",
         "intra_division": "False",
         "home_point_diff": -4,
         "away_point_diff": 4,
         "home_spread": 0,
         "home_last_3": 0,
         "away_last_3": 0,
         "home_last_1": 0,
         "away_last_1": 0,
         "_deepnote_index_column": 4862
        },
        {
         "schedule_date": "9/3/2000",
         "schedule_season": 2000,
         "schedule_week": "1",
         "schedule_playoff": "False",
         "team_home": "NYG",
         "score_home": 21,
         "score_away": 16,
         "team_away": "ARI",
         "team_favorite_id": "NYG",
         "spread_favorite": -6.5,
         "over_under_line": 40,
         "stadium_neutral": "False",
         "intra_division": "False",
         "home_point_diff": 5,
         "away_point_diff": -5,
         "home_spread": -6.5,
         "home_last_3": 0,
         "away_last_3": 0,
         "home_last_1": 0,
         "away_last_1": 0,
         "_deepnote_index_column": 4863
        },
        {
         "schedule_date": "9/3/2000",
         "schedule_season": 2000,
         "schedule_week": "1",
         "schedule_playoff": "False",
         "team_home": "LVR",
         "score_home": 9,
         "score_away": 6,
         "team_away": "LAC",
         "team_favorite_id": "LVR",
         "spread_favorite": -6.5,
         "over_under_line": 39.5,
         "stadium_neutral": "False",
         "intra_division": "True",
         "home_point_diff": 3,
         "away_point_diff": -3,
         "home_spread": -6.5,
         "home_last_3": 0,
         "away_last_3": 0,
         "home_last_1": 0,
         "away_last_1": 0,
         "_deepnote_index_column": 4864
        },
        {
         "schedule_date": "9/3/2000",
         "schedule_season": 2000,
         "schedule_week": "1",
         "schedule_playoff": "False",
         "team_home": "PIT",
         "score_home": 0,
         "score_away": 16,
         "team_away": "BAL",
         "team_favorite_id": "BAL",
         "spread_favorite": -2.5,
         "over_under_line": 37,
         "stadium_neutral": "False",
         "intra_division": "True",
         "home_point_diff": -16,
         "away_point_diff": 16,
         "home_spread": 2.5,
         "home_last_3": 0,
         "away_last_3": 0,
         "home_last_1": 0,
         "away_last_1": 0,
         "_deepnote_index_column": 4865
        },
        {
         "schedule_date": "9/3/2000",
         "schedule_season": 2000,
         "schedule_week": "1",
         "schedule_playoff": "False",
         "team_home": "WAS",
         "score_home": 20,
         "score_away": 17,
         "team_away": "CAR",
         "team_favorite_id": "WAS",
         "spread_favorite": -10.5,
         "over_under_line": 47.5,
         "stadium_neutral": "False",
         "intra_division": "False",
         "home_point_diff": 3,
         "away_point_diff": -3,
         "home_spread": -10.5,
         "home_last_3": 0,
         "away_last_3": 0,
         "home_last_1": 0,
         "away_last_1": 0,
         "_deepnote_index_column": 4866
        },
        {
         "schedule_date": "9/4/2000",
         "schedule_season": 2000,
         "schedule_week": "1",
         "schedule_playoff": "False",
         "team_home": "LAR",
         "score_home": 41,
         "score_away": 36,
         "team_away": "DEN",
         "team_favorite_id": "LAR",
         "spread_favorite": -6.5,
         "over_under_line": 48.5,
         "stadium_neutral": "False",
         "intra_division": "False",
         "home_point_diff": 5,
         "away_point_diff": -5,
         "home_spread": -6.5,
         "home_last_3": 0,
         "away_last_3": 0,
         "home_last_1": 0,
         "away_last_1": 0,
         "_deepnote_index_column": 4867
        },
        {
         "schedule_date": "9/10/2000",
         "schedule_season": 2000,
         "schedule_week": "2",
         "schedule_playoff": "False",
         "team_home": "ARI",
         "score_home": 32,
         "score_away": 31,
         "team_away": "DAL",
         "team_favorite_id": "ARI",
         "spread_favorite": -3,
         "over_under_line": 38.5,
         "stadium_neutral": "False",
         "intra_division": "False",
         "home_point_diff": 1,
         "away_point_diff": -1,
         "home_spread": -3,
         "home_last_3": -5,
         "away_last_3": -27,
         "home_last_1": -5,
         "away_last_1": -27,
         "_deepnote_index_column": 4868
        },
        {
         "schedule_date": "9/10/2000",
         "schedule_season": 2000,
         "schedule_week": "2",
         "schedule_playoff": "False",
         "team_home": "BAL",
         "score_home": 39,
         "score_away": 36,
         "team_away": "JAX",
         "team_favorite_id": "BAL",
         "spread_favorite": -3,
         "over_under_line": 36.5,
         "stadium_neutral": "False",
         "intra_division": "False",
         "home_point_diff": 3,
         "away_point_diff": -3,
         "home_spread": -3,
         "home_last_3": 16,
         "away_last_3": 20,
         "home_last_1": 16,
         "away_last_1": 20,
         "_deepnote_index_column": 4869
        },
        {
         "schedule_date": "9/10/2000",
         "schedule_season": 2000,
         "schedule_week": "2",
         "schedule_playoff": "False",
         "team_home": "BUF",
         "score_home": 27,
         "score_away": 18,
         "team_away": "GB",
         "team_favorite_id": "BUF",
         "spread_favorite": -6,
         "over_under_line": 38.5,
         "stadium_neutral": "False",
         "intra_division": "False",
         "home_point_diff": 9,
         "away_point_diff": -9,
         "home_spread": -6,
         "home_last_3": 3,
         "away_last_3": -4,
         "home_last_1": 3,
         "away_last_1": -4,
         "_deepnote_index_column": 4870
        },
        {
         "schedule_date": "9/10/2000",
         "schedule_season": 2000,
         "schedule_week": "2",
         "schedule_playoff": "False",
         "team_home": "CIN",
         "score_home": 7,
         "score_away": 24,
         "team_away": "CLE",
         "team_favorite_id": "CIN",
         "spread_favorite": -6,
         "over_under_line": 40.5,
         "stadium_neutral": "False",
         "intra_division": "True",
         "home_point_diff": -17,
         "away_point_diff": 17,
         "home_spread": -6,
         "home_last_3": 0,
         "away_last_3": -20,
         "home_last_1": 0,
         "away_last_1": -20,
         "_deepnote_index_column": 4871
        },
        {
         "schedule_date": "9/10/2000",
         "schedule_season": 2000,
         "schedule_week": "2",
         "schedule_playoff": "False",
         "team_home": "DEN",
         "score_home": 42,
         "score_away": 14,
         "team_away": "ATL",
         "team_favorite_id": "DEN",
         "spread_favorite": -4.5,
         "over_under_line": 47,
         "stadium_neutral": "False",
         "intra_division": "False",
         "home_point_diff": 28,
         "away_point_diff": -28,
         "home_spread": -4.5,
         "home_last_3": -5,
         "away_last_3": 8,
         "home_last_1": -5,
         "away_last_1": 8,
         "_deepnote_index_column": 4872
        },
        {
         "schedule_date": "9/10/2000",
         "schedule_season": 2000,
         "schedule_week": "2",
         "schedule_playoff": "False",
         "team_home": "DET",
         "score_home": 15,
         "score_away": 10,
         "team_away": "WAS",
         "team_favorite_id": "WAS",
         "spread_favorite": -5.5,
         "over_under_line": 43,
         "stadium_neutral": "False",
         "intra_division": "False",
         "home_point_diff": 5,
         "away_point_diff": -5,
         "home_spread": 5.5,
         "home_last_3": 4,
         "away_last_3": 3,
         "home_last_1": 4,
         "away_last_1": 3,
         "_deepnote_index_column": 4873
        },
        {
         "schedule_date": "9/10/2000",
         "schedule_season": 2000,
         "schedule_week": "2",
         "schedule_playoff": "False",
         "team_home": "IND",
         "score_home": 31,
         "score_away": 38,
         "team_away": "LVR",
         "team_favorite_id": "IND",
         "spread_favorite": -6.5,
         "over_under_line": 44,
         "stadium_neutral": "False",
         "intra_division": "False",
         "home_point_diff": -7,
         "away_point_diff": 7,
         "home_spread": -6.5,
         "home_last_3": 13,
         "away_last_3": 3,
         "home_last_1": 13,
         "away_last_1": 3,
         "_deepnote_index_column": 4874
        },
        {
         "schedule_date": "9/10/2000",
         "schedule_season": 2000,
         "schedule_week": "2",
         "schedule_playoff": "False",
         "team_home": "MIN",
         "score_home": 13,
         "score_away": 7,
         "team_away": "MIA",
         "team_favorite_id": "MIN",
         "spread_favorite": -3,
         "over_under_line": 42.5,
         "stadium_neutral": "False",
         "intra_division": "False",
         "home_point_diff": 6,
         "away_point_diff": -6,
         "home_spread": -3,
         "home_last_3": 3,
         "away_last_3": 23,
         "home_last_1": 3,
         "away_last_1": 23,
         "_deepnote_index_column": 4875
        },
        {
         "schedule_date": "9/10/2000",
         "schedule_season": 2000,
         "schedule_week": "2",
         "schedule_playoff": "False",
         "team_home": "PHI",
         "score_home": 18,
         "score_away": 33,
         "team_away": "NYG",
         "team_favorite_id": "PHI",
         "spread_favorite": -3,
         "over_under_line": 39.5,
         "stadium_neutral": "False",
         "intra_division": "True",
         "home_point_diff": -15,
         "away_point_diff": 15,
         "home_spread": -3,
         "home_last_3": 27,
         "away_last_3": 5,
         "home_last_1": 27,
         "away_last_1": 5,
         "_deepnote_index_column": 4876
        },
        {
         "schedule_date": "9/10/2000",
         "schedule_season": 2000,
         "schedule_week": "2",
         "schedule_playoff": "False",
         "team_home": "LAC",
         "score_home": 27,
         "score_away": 28,
         "team_away": "NO",
         "team_favorite_id": "LAC",
         "spread_favorite": -5.5,
         "over_under_line": 35.5,
         "stadium_neutral": "False",
         "intra_division": "False",
         "home_point_diff": -1,
         "away_point_diff": 1,
         "home_spread": -5.5,
         "home_last_3": -3,
         "away_last_3": -4,
         "home_last_1": -3,
         "away_last_1": -4,
         "_deepnote_index_column": 4877
        }
       ],
       "rows_bottom": [
        {
         "schedule_date": "1/3/2021",
         "schedule_season": 2020,
         "schedule_week": "17",
         "schedule_playoff": "False",
         "team_home": "CLE",
         "score_home": 24,
         "score_away": 22,
         "team_away": "PIT",
         "team_favorite_id": "CLE",
         "spread_favorite": -10.5,
         "over_under_line": 44.5,
         "stadium_neutral": "False",
         "intra_division": "True",
         "home_point_diff": 2,
         "away_point_diff": -2,
         "home_spread": -10.5,
         "home_last_3": 2,
         "away_last_3": -17,
         "home_last_1": -7,
         "away_last_1": 4,
         "_deepnote_index_column": 10421
        },
        {
         "schedule_date": "1/3/2021",
         "schedule_season": 2020,
         "schedule_week": "17",
         "schedule_playoff": "False",
         "team_home": "DEN",
         "score_home": 31,
         "score_away": 32,
         "team_away": "LVR",
         "team_favorite_id": "LVR",
         "spread_favorite": -2.5,
         "over_under_line": 50.5,
         "stadium_neutral": "False",
         "intra_division": "True",
         "home_point_diff": -1,
         "away_point_diff": 1,
         "home_spread": 2.5,
         "home_last_3": -27,
         "away_last_3": -21,
         "home_last_1": -3,
         "away_last_1": -1,
         "_deepnote_index_column": 10422
        },
        {
         "schedule_date": "1/3/2021",
         "schedule_season": 2020,
         "schedule_week": "17",
         "schedule_playoff": "False",
         "team_home": "DET",
         "score_home": 35,
         "score_away": 37,
         "team_away": "MIN",
         "team_favorite_id": "MIN",
         "spread_favorite": -3,
         "over_under_line": 53.5,
         "stadium_neutral": "False",
         "intra_division": "True",
         "home_point_diff": -2,
         "away_point_diff": 2,
         "home_spread": 3,
         "home_last_3": -68,
         "away_last_3": -37,
         "home_last_1": -40,
         "away_last_1": -19,
         "_deepnote_index_column": 10423
        },
        {
         "schedule_date": "1/3/2021",
         "schedule_season": 2020,
         "schedule_week": "17",
         "schedule_playoff": "False",
         "team_home": "HOU",
         "score_home": 38,
         "score_away": 41,
         "team_away": "TEN",
         "team_favorite_id": "TEN",
         "spread_favorite": -7,
         "over_under_line": 55.5,
         "stadium_neutral": "False",
         "intra_division": "True",
         "home_point_diff": -3,
         "away_point_diff": 3,
         "home_spread": 7,
         "home_last_3": -42,
         "away_last_3": 16,
         "home_last_1": -6,
         "away_last_1": -26,
         "_deepnote_index_column": 10424
        },
        {
         "schedule_date": "1/3/2021",
         "schedule_season": 2020,
         "schedule_week": "17",
         "schedule_playoff": "False",
         "team_home": "IND",
         "score_home": 28,
         "score_away": 14,
         "team_away": "JAX",
         "team_favorite_id": "IND",
         "spread_favorite": -15.5,
         "over_under_line": 48,
         "stadium_neutral": "False",
         "intra_division": "True",
         "home_point_diff": 14,
         "away_point_diff": -14,
         "home_spread": -15.5,
         "home_last_3": 20,
         "away_last_3": -71,
         "home_last_1": -4,
         "away_last_1": -24,
         "_deepnote_index_column": 10425
        },
        {
         "schedule_date": "1/3/2021",
         "schedule_season": 2020,
         "schedule_week": "17",
         "schedule_playoff": "False",
         "team_home": "KC",
         "score_home": 21,
         "score_away": 38,
         "team_away": "LAC",
         "team_favorite_id": "LAC",
         "spread_favorite": -6.5,
         "over_under_line": 43,
         "stadium_neutral": "False",
         "intra_division": "True",
         "home_point_diff": -17,
         "away_point_diff": 17,
         "home_spread": 6.5,
         "home_last_3": 12,
         "away_last_3": 9,
         "home_last_1": 3,
         "away_last_1": 3,
         "_deepnote_index_column": 10426
        },
        {
         "schedule_date": "1/3/2021",
         "schedule_season": 2020,
         "schedule_week": "17",
         "schedule_playoff": "False",
         "team_home": "LAR",
         "score_home": 18,
         "score_away": 7,
         "team_away": "ARI",
         "team_favorite_id": "LAR",
         "spread_favorite": -1,
         "over_under_line": 42,
         "stadium_neutral": "False",
         "intra_division": "True",
         "home_point_diff": 11,
         "away_point_diff": -11,
         "home_spread": -1,
         "home_last_3": 7,
         "away_last_3": 18,
         "home_last_1": -11,
         "away_last_1": -8,
         "_deepnote_index_column": 10427
        },
        {
         "schedule_date": "1/3/2021",
         "schedule_season": 2020,
         "schedule_week": "17",
         "schedule_playoff": "False",
         "team_home": "NE",
         "score_home": 28,
         "score_away": 14,
         "team_away": "NYJ",
         "team_favorite_id": "NE",
         "spread_favorite": -3,
         "over_under_line": 41,
         "stadium_neutral": "False",
         "intra_division": "True",
         "home_point_diff": 14,
         "away_point_diff": -14,
         "home_spread": -3,
         "home_last_3": -60,
         "away_last_3": -27,
         "home_last_1": -29,
         "away_last_1": 7,
         "_deepnote_index_column": 10428
        },
        {
         "schedule_date": "1/3/2021",
         "schedule_season": 2020,
         "schedule_week": "17",
         "schedule_playoff": "False",
         "team_home": "NYG",
         "score_home": 23,
         "score_away": 19,
         "team_away": "DAL",
         "team_favorite_id": "DAL",
         "spread_favorite": -1.5,
         "over_under_line": 43.5,
         "stadium_neutral": "False",
         "intra_division": "True",
         "home_point_diff": 4,
         "away_point_diff": -4,
         "home_spread": 1.5,
         "home_last_3": -47,
         "away_last_3": 51,
         "home_last_1": -14,
         "away_last_1": 20,
         "_deepnote_index_column": 10429
        },
        {
         "schedule_date": "1/3/2021",
         "schedule_season": 2020,
         "schedule_week": "17",
         "schedule_playoff": "False",
         "team_home": "PHI",
         "score_home": 14,
         "score_away": 20,
         "team_away": "WAS",
         "team_favorite_id": "WAS",
         "spread_favorite": -6.5,
         "over_under_line": 43.5,
         "stadium_neutral": "False",
         "intra_division": "True",
         "home_point_diff": -6,
         "away_point_diff": 6,
         "home_spread": 6.5,
         "home_last_3": -24,
         "away_last_3": -4,
         "home_last_1": -20,
         "away_last_1": -7,
         "_deepnote_index_column": 10430
        },
        {
         "schedule_date": "1/3/2021",
         "schedule_season": 2020,
         "schedule_week": "17",
         "schedule_playoff": "False",
         "team_home": "SF",
         "score_home": 23,
         "score_away": 26,
         "team_away": "SEA",
         "team_favorite_id": "SEA",
         "spread_favorite": -7,
         "over_under_line": 45,
         "stadium_neutral": "False",
         "intra_division": "True",
         "home_point_diff": -3,
         "away_point_diff": 3,
         "home_spread": 7,
         "home_last_3": -8,
         "away_last_3": 53,
         "home_last_1": 8,
         "away_last_1": 11,
         "_deepnote_index_column": 10431
        },
        {
         "schedule_date": "1/3/2021",
         "schedule_season": 2020,
         "schedule_week": "17",
         "schedule_playoff": "False",
         "team_home": "TB",
         "score_home": 44,
         "score_away": 27,
         "team_away": "ATL",
         "team_favorite_id": "TB",
         "spread_favorite": -7,
         "over_under_line": 51,
         "stadium_neutral": "False",
         "intra_division": "True",
         "home_point_diff": 17,
         "away_point_diff": -17,
         "home_spread": -7,
         "home_last_3": 56,
         "away_last_3": -10,
         "home_last_1": 40,
         "away_last_1": -3,
         "_deepnote_index_column": 10432
        },
        {
         "schedule_date": "1/9/2021",
         "schedule_season": 2020,
         "schedule_week": "Wildcard",
         "schedule_playoff": "True",
         "team_home": "BUF",
         "score_home": 27,
         "score_away": 24,
         "team_away": "IND",
         "team_favorite_id": "BUF",
         "spread_favorite": -7,
         "over_under_line": 50.5,
         "stadium_neutral": "False",
         "intra_division": "False",
         "home_point_diff": 3,
         "away_point_diff": -3,
         "home_spread": -7,
         "home_last_3": 88,
         "away_last_3": 17,
         "home_last_1": 30,
         "away_last_1": 14,
         "_deepnote_index_column": 10433
        },
        {
         "schedule_date": "1/9/2021",
         "schedule_season": 2020,
         "schedule_week": "Wildcard",
         "schedule_playoff": "True",
         "team_home": "SEA",
         "score_home": 20,
         "score_away": 30,
         "team_away": "LAR",
         "team_favorite_id": "SEA",
         "spread_favorite": -3,
         "over_under_line": 42.5,
         "stadium_neutral": "False",
         "intra_division": "True",
         "home_point_diff": -10,
         "away_point_diff": 10,
         "home_spread": -3,
         "home_last_3": 19,
         "away_last_3": -3,
         "home_last_1": 3,
         "away_last_1": 11,
         "_deepnote_index_column": 10434
        },
        {
         "schedule_date": "1/9/2021",
         "schedule_season": 2020,
         "schedule_week": "Wildcard",
         "schedule_playoff": "True",
         "team_home": "WAS",
         "score_home": 23,
         "score_away": 31,
         "team_away": "TB",
         "team_favorite_id": "TB",
         "spread_favorite": -10,
         "over_under_line": 45,
         "stadium_neutral": "False",
         "intra_division": "False",
         "home_point_diff": -8,
         "away_point_diff": 8,
         "home_spread": 10,
         "home_last_3": -6,
         "away_last_3": 61,
         "home_last_1": 6,
         "away_last_1": 17,
         "_deepnote_index_column": 10435
        },
        {
         "schedule_date": "1/10/2021",
         "schedule_season": 2020,
         "schedule_week": "Wildcard",
         "schedule_playoff": "True",
         "team_home": "NO",
         "score_home": 21,
         "score_away": 9,
         "team_away": "CHI",
         "team_favorite_id": "NO",
         "spread_favorite": -11,
         "over_under_line": 48,
         "stadium_neutral": "False",
         "intra_division": "False",
         "home_point_diff": 12,
         "away_point_diff": -12,
         "home_spread": -11,
         "home_last_3": 42,
         "away_last_3": 11,
         "home_last_1": 26,
         "away_last_1": -19,
         "_deepnote_index_column": 10436
        },
        {
         "schedule_date": "1/10/2021",
         "schedule_season": 2020,
         "schedule_week": "Wildcard",
         "schedule_playoff": "True",
         "team_home": "PIT",
         "score_home": 37,
         "score_away": 48,
         "team_away": "CLE",
         "team_favorite_id": "PIT",
         "spread_favorite": -5.5,
         "over_under_line": 47.5,
         "stadium_neutral": "False",
         "intra_division": "True",
         "home_point_diff": -11,
         "away_point_diff": 11,
         "home_spread": -5.5,
         "home_last_3": -8,
         "away_last_3": 9,
         "home_last_1": -2,
         "away_last_1": 2,
         "_deepnote_index_column": 10437
        },
        {
         "schedule_date": "1/10/2021",
         "schedule_season": 2020,
         "schedule_week": "Wildcard",
         "schedule_playoff": "True",
         "team_home": "TEN",
         "score_home": 13,
         "score_away": 20,
         "team_away": "BAL",
         "team_favorite_id": "BAL",
         "spread_favorite": -3.5,
         "over_under_line": 53.5,
         "stadium_neutral": "False",
         "intra_division": "False",
         "home_point_diff": -7,
         "away_point_diff": 7,
         "home_spread": 3.5,
         "home_last_3": -2,
         "away_last_3": 75,
         "home_last_1": 3,
         "away_last_1": 35,
         "_deepnote_index_column": 10438
        },
        {
         "schedule_date": "1/16/2021",
         "schedule_season": 2020,
         "schedule_week": "Division",
         "schedule_playoff": "True",
         "team_home": "BUF",
         "score_home": 17,
         "score_away": 3,
         "team_away": "BAL",
         "team_favorite_id": "BUF",
         "spread_favorite": -2.5,
         "over_under_line": 49.5,
         "stadium_neutral": "False",
         "intra_division": "False",
         "home_point_diff": 14,
         "away_point_diff": -14,
         "home_spread": -2.5,
         "home_last_3": 62,
         "away_last_3": 56,
         "home_last_1": 3,
         "away_last_1": 7,
         "_deepnote_index_column": 10439
        },
        {
         "schedule_date": "1/16/2021",
         "schedule_season": 2020,
         "schedule_week": "Division",
         "schedule_playoff": "True",
         "team_home": "GB",
         "score_home": 32,
         "score_away": 18,
         "team_away": "LAR",
         "team_favorite_id": "GB",
         "spread_favorite": -7,
         "over_under_line": 45,
         "stadium_neutral": "False",
         "intra_division": "False",
         "home_point_diff": 14,
         "away_point_diff": -14,
         "home_spread": -7,
         "home_last_3": 53,
         "away_last_3": 10,
         "home_last_1": 19,
         "away_last_1": 10,
         "_deepnote_index_column": 10440
        },
        {
         "schedule_date": "1/17/2021",
         "schedule_season": 2020,
         "schedule_week": "Division",
         "schedule_playoff": "True",
         "team_home": "KC",
         "score_home": 22,
         "score_away": 17,
         "team_away": "CLE",
         "team_favorite_id": "KC",
         "spread_favorite": -8,
         "over_under_line": 56,
         "stadium_neutral": "False",
         "intra_division": "False",
         "home_point_diff": 5,
         "away_point_diff": -5,
         "home_spread": -8,
         "home_last_3": -11,
         "away_last_3": 6,
         "home_last_1": -17,
         "away_last_1": 11,
         "_deepnote_index_column": 10441
        },
        {
         "schedule_date": "1/17/2021",
         "schedule_season": 2020,
         "schedule_week": "Division",
         "schedule_playoff": "True",
         "team_home": "NO",
         "score_home": 20,
         "score_away": 30,
         "team_away": "TB",
         "team_favorite_id": "NO",
         "spread_favorite": -2.5,
         "over_under_line": 53,
         "stadium_neutral": "False",
         "intra_division": "True",
         "home_point_diff": -10,
         "away_point_diff": 10,
         "home_spread": -2.5,
         "home_last_3": 57,
         "away_last_3": 65,
         "home_last_1": 12,
         "away_last_1": 8,
         "_deepnote_index_column": 10442
        },
        {
         "schedule_date": "1/24/2021",
         "schedule_season": 2020,
         "schedule_week": "Conference",
         "schedule_playoff": "True",
         "team_home": "GB",
         "score_home": 26,
         "score_away": 31,
         "team_away": "TB",
         "team_favorite_id": "GB",
         "spread_favorite": -3,
         "over_under_line": 53,
         "stadium_neutral": "False",
         "intra_division": "False",
         "home_point_diff": -5,
         "away_point_diff": 5,
         "home_spread": -3,
         "home_last_3": 59,
         "away_last_3": 35,
         "home_last_1": 14,
         "away_last_1": 10,
         "_deepnote_index_column": 10443
        },
        {
         "schedule_date": "1/24/2021",
         "schedule_season": 2020,
         "schedule_week": "Conference",
         "schedule_playoff": "True",
         "team_home": "KC",
         "score_home": 38,
         "score_away": 24,
         "team_away": "BUF",
         "team_favorite_id": "KC",
         "spread_favorite": -3,
         "over_under_line": 55,
         "stadium_neutral": "False",
         "intra_division": "False",
         "home_point_diff": 14,
         "away_point_diff": -14,
         "home_spread": -3,
         "home_last_3": -9,
         "away_last_3": 47,
         "home_last_1": 5,
         "away_last_1": 14,
         "_deepnote_index_column": 10444
        },
        {
         "schedule_date": "2/7/2021",
         "schedule_season": 2020,
         "schedule_week": "Superbowl",
         "schedule_playoff": "True",
         "team_home": "TB",
         "score_home": 31,
         "score_away": 9,
         "team_away": "KC",
         "team_favorite_id": "KC",
         "spread_favorite": -3,
         "over_under_line": 54.5,
         "stadium_neutral": "False",
         "intra_division": "False",
         "home_point_diff": 22,
         "away_point_diff": -22,
         "home_spread": 3,
         "home_last_3": 23,
         "away_last_3": 2,
         "home_last_1": 5,
         "away_last_1": 14,
         "_deepnote_index_column": 10445
        }
       ]
      },
      "text/plain": "      schedule_date  schedule_season schedule_week  schedule_playoff  \\\n4853       9/3/2000             2000             1             False   \n4854       9/3/2000             2000             1             False   \n4855       9/3/2000             2000             1             False   \n4856       9/3/2000             2000             1             False   \n4857       9/3/2000             2000             1             False   \n...             ...              ...           ...               ...   \n10441     1/17/2021             2020      Division              True   \n10442     1/17/2021             2020      Division              True   \n10443     1/24/2021             2020    Conference              True   \n10444     1/24/2021             2020    Conference              True   \n10445      2/7/2021             2020     Superbowl              True   \n\n      team_home  score_home  score_away team_away team_favorite_id  \\\n4853        ATL        36.0        28.0        SF              ATL   \n4854        BUF        16.0        13.0       TEN              BUF   \n4855        CLE         7.0        27.0       JAX              JAX   \n4856        DAL        14.0        41.0       PHI              DAL   \n4857         GB        16.0        20.0       NYJ               GB   \n...         ...         ...         ...       ...              ...   \n10441        KC        22.0        17.0       CLE               KC   \n10442        NO        20.0        30.0        TB               NO   \n10443        GB        26.0        31.0        TB               GB   \n10444        KC        38.0        24.0       BUF               KC   \n10445        TB        31.0         9.0        KC               KC   \n\n       spread_favorite  over_under_line stadium_neutral  intra_division  \\\n4853              -6.5             46.5           False           False   \n4854              -1.0             40.0           False           False   \n4855             -10.5             38.5           False           False   \n4856              -6.0             39.5           False            True   \n4857              -2.5             44.0           False           False   \n...                ...              ...             ...             ...   \n10441             -8.0             56.0           False           False   \n10442             -2.5             53.0           False            True   \n10443             -3.0             53.0           False           False   \n10444             -3.0             55.0           False           False   \n10445             -3.0             54.5           False           False   \n\n       home_point_diff  away_point_diff  home_spread  home_last_3  \\\n4853               8.0             -8.0         -6.5          0.0   \n4854               3.0             -3.0         -1.0          0.0   \n4855             -20.0             20.0         10.5          0.0   \n4856             -27.0             27.0         -6.0          0.0   \n4857              -4.0              4.0         -2.5          0.0   \n...                ...              ...          ...          ...   \n10441              5.0             -5.0         -8.0        -11.0   \n10442            -10.0             10.0         -2.5         57.0   \n10443             -5.0              5.0         -3.0         59.0   \n10444             14.0            -14.0         -3.0         -9.0   \n10445             22.0            -22.0          3.0         23.0   \n\n       away_last_3  home_last_1  away_last_1  \n4853           0.0          0.0          0.0  \n4854           0.0          0.0          0.0  \n4855           0.0          0.0          0.0  \n4856           0.0          0.0          0.0  \n4857           0.0          0.0          0.0  \n...            ...          ...          ...  \n10441          6.0        -17.0         11.0  \n10442         65.0         12.0          8.0  \n10443         35.0         14.0         10.0  \n10444         47.0          5.0         14.0  \n10445          2.0          5.0         14.0  \n\n[5593 rows x 20 columns]",
      "text/html": "<div>\n<style scoped>\n    .dataframe tbody tr th:only-of-type {\n        vertical-align: middle;\n    }\n\n    .dataframe tbody tr th {\n        vertical-align: top;\n    }\n\n    .dataframe thead th {\n        text-align: right;\n    }\n</style>\n<table border=\"1\" class=\"dataframe\">\n  <thead>\n    <tr style=\"text-align: right;\">\n      <th></th>\n      <th>schedule_date</th>\n      <th>schedule_season</th>\n      <th>schedule_week</th>\n      <th>schedule_playoff</th>\n      <th>team_home</th>\n      <th>score_home</th>\n      <th>score_away</th>\n      <th>team_away</th>\n      <th>team_favorite_id</th>\n      <th>spread_favorite</th>\n      <th>over_under_line</th>\n      <th>stadium_neutral</th>\n      <th>intra_division</th>\n      <th>home_point_diff</th>\n      <th>away_point_diff</th>\n      <th>home_spread</th>\n      <th>home_last_3</th>\n      <th>away_last_3</th>\n      <th>home_last_1</th>\n      <th>away_last_1</th>\n    </tr>\n  </thead>\n  <tbody>\n    <tr>\n      <th>4853</th>\n      <td>9/3/2000</td>\n      <td>2000</td>\n      <td>1</td>\n      <td>False</td>\n      <td>ATL</td>\n      <td>36.0</td>\n      <td>28.0</td>\n      <td>SF</td>\n      <td>ATL</td>\n      <td>-6.5</td>\n      <td>46.5</td>\n      <td>False</td>\n      <td>False</td>\n      <td>8.0</td>\n      <td>-8.0</td>\n      <td>-6.5</td>\n      <td>0.0</td>\n      <td>0.0</td>\n      <td>0.0</td>\n      <td>0.0</td>\n    </tr>\n    <tr>\n      <th>4854</th>\n      <td>9/3/2000</td>\n      <td>2000</td>\n      <td>1</td>\n      <td>False</td>\n      <td>BUF</td>\n      <td>16.0</td>\n      <td>13.0</td>\n      <td>TEN</td>\n      <td>BUF</td>\n      <td>-1.0</td>\n      <td>40.0</td>\n      <td>False</td>\n      <td>False</td>\n      <td>3.0</td>\n      <td>-3.0</td>\n      <td>-1.0</td>\n      <td>0.0</td>\n      <td>0.0</td>\n      <td>0.0</td>\n      <td>0.0</td>\n    </tr>\n    <tr>\n      <th>4855</th>\n      <td>9/3/2000</td>\n      <td>2000</td>\n      <td>1</td>\n      <td>False</td>\n      <td>CLE</td>\n      <td>7.0</td>\n      <td>27.0</td>\n      <td>JAX</td>\n      <td>JAX</td>\n      <td>-10.5</td>\n      <td>38.5</td>\n      <td>False</td>\n      <td>False</td>\n      <td>-20.0</td>\n      <td>20.0</td>\n      <td>10.5</td>\n      <td>0.0</td>\n      <td>0.0</td>\n      <td>0.0</td>\n      <td>0.0</td>\n    </tr>\n    <tr>\n      <th>4856</th>\n      <td>9/3/2000</td>\n      <td>2000</td>\n      <td>1</td>\n      <td>False</td>\n      <td>DAL</td>\n      <td>14.0</td>\n      <td>41.0</td>\n      <td>PHI</td>\n      <td>DAL</td>\n      <td>-6.0</td>\n      <td>39.5</td>\n      <td>False</td>\n      <td>True</td>\n      <td>-27.0</td>\n      <td>27.0</td>\n      <td>-6.0</td>\n      <td>0.0</td>\n      <td>0.0</td>\n      <td>0.0</td>\n      <td>0.0</td>\n    </tr>\n    <tr>\n      <th>4857</th>\n      <td>9/3/2000</td>\n      <td>2000</td>\n      <td>1</td>\n      <td>False</td>\n      <td>GB</td>\n      <td>16.0</td>\n      <td>20.0</td>\n      <td>NYJ</td>\n      <td>GB</td>\n      <td>-2.5</td>\n      <td>44.0</td>\n      <td>False</td>\n      <td>False</td>\n      <td>-4.0</td>\n      <td>4.0</td>\n      <td>-2.5</td>\n      <td>0.0</td>\n      <td>0.0</td>\n      <td>0.0</td>\n      <td>0.0</td>\n    </tr>\n    <tr>\n      <th>...</th>\n      <td>...</td>\n      <td>...</td>\n      <td>...</td>\n      <td>...</td>\n      <td>...</td>\n      <td>...</td>\n      <td>...</td>\n      <td>...</td>\n      <td>...</td>\n      <td>...</td>\n      <td>...</td>\n      <td>...</td>\n      <td>...</td>\n      <td>...</td>\n      <td>...</td>\n      <td>...</td>\n      <td>...</td>\n      <td>...</td>\n      <td>...</td>\n      <td>...</td>\n    </tr>\n    <tr>\n      <th>10441</th>\n      <td>1/17/2021</td>\n      <td>2020</td>\n      <td>Division</td>\n      <td>True</td>\n      <td>KC</td>\n      <td>22.0</td>\n      <td>17.0</td>\n      <td>CLE</td>\n      <td>KC</td>\n      <td>-8.0</td>\n      <td>56.0</td>\n      <td>False</td>\n      <td>False</td>\n      <td>5.0</td>\n      <td>-5.0</td>\n      <td>-8.0</td>\n      <td>-11.0</td>\n      <td>6.0</td>\n      <td>-17.0</td>\n      <td>11.0</td>\n    </tr>\n    <tr>\n      <th>10442</th>\n      <td>1/17/2021</td>\n      <td>2020</td>\n      <td>Division</td>\n      <td>True</td>\n      <td>NO</td>\n      <td>20.0</td>\n      <td>30.0</td>\n      <td>TB</td>\n      <td>NO</td>\n      <td>-2.5</td>\n      <td>53.0</td>\n      <td>False</td>\n      <td>True</td>\n      <td>-10.0</td>\n      <td>10.0</td>\n      <td>-2.5</td>\n      <td>57.0</td>\n      <td>65.0</td>\n      <td>12.0</td>\n      <td>8.0</td>\n    </tr>\n    <tr>\n      <th>10443</th>\n      <td>1/24/2021</td>\n      <td>2020</td>\n      <td>Conference</td>\n      <td>True</td>\n      <td>GB</td>\n      <td>26.0</td>\n      <td>31.0</td>\n      <td>TB</td>\n      <td>GB</td>\n      <td>-3.0</td>\n      <td>53.0</td>\n      <td>False</td>\n      <td>False</td>\n      <td>-5.0</td>\n      <td>5.0</td>\n      <td>-3.0</td>\n      <td>59.0</td>\n      <td>35.0</td>\n      <td>14.0</td>\n      <td>10.0</td>\n    </tr>\n    <tr>\n      <th>10444</th>\n      <td>1/24/2021</td>\n      <td>2020</td>\n      <td>Conference</td>\n      <td>True</td>\n      <td>KC</td>\n      <td>38.0</td>\n      <td>24.0</td>\n      <td>BUF</td>\n      <td>KC</td>\n      <td>-3.0</td>\n      <td>55.0</td>\n      <td>False</td>\n      <td>False</td>\n      <td>14.0</td>\n      <td>-14.0</td>\n      <td>-3.0</td>\n      <td>-9.0</td>\n      <td>47.0</td>\n      <td>5.0</td>\n      <td>14.0</td>\n    </tr>\n    <tr>\n      <th>10445</th>\n      <td>2/7/2021</td>\n      <td>2020</td>\n      <td>Superbowl</td>\n      <td>True</td>\n      <td>TB</td>\n      <td>31.0</td>\n      <td>9.0</td>\n      <td>KC</td>\n      <td>KC</td>\n      <td>-3.0</td>\n      <td>54.5</td>\n      <td>False</td>\n      <td>False</td>\n      <td>22.0</td>\n      <td>-22.0</td>\n      <td>3.0</td>\n      <td>23.0</td>\n      <td>2.0</td>\n      <td>5.0</td>\n      <td>14.0</td>\n    </tr>\n  </tbody>\n</table>\n<p>5593 rows × 20 columns</p>\n</div>"
     },
     "metadata": {}
    }
   ]
  },
  {
   "cell_type": "code",
   "metadata": {
    "tags": [],
    "cell_id": "00002-71de0699-08a1-4ad9-98af-5bdbc6252a6b",
    "deepnote_to_be_reexecuted": false,
    "source_hash": "59b7e631",
    "execution_start": 1632975828750,
    "execution_millis": 28,
    "deepnote_cell_type": "code"
   },
   "source": "def print_stats(money, won, loss, push, sample_set):\n    std_dev = statistics.stdev(sample_set)\n    predicted_std_dev = std_dev / math.sqrt(len(sample_set))\n    mean = statistics.mean(sample_set)\n    # expected mean should be 0.5, if we have 50% win/loss\n    z_score = (mean-0.5) / predicted_std_dev\n    confidence = st.norm.cdf(abs(z_score))\n    win_percent = won / (won+loss) * 100\n\n    print (\"Ending money is %d\" %money)\n    print (\"Record: %d-%d-%d\" %(won, loss, push))\n    print (\"Win Percent: %f\" %win_percent)\n    print (\"Sample size %d, STD %f, mean %f\" %(len(sample_set), std_dev, mean))\n    print (\"Z-Score %f\" %z_score)\n    print (\"Confidence %f\" %confidence)\n\n\ndef print_basic_stats(money, won, loss, push, sample_set):\n    std_dev = statistics.stdev(sample_set)\n    predicted_std_dev = std_dev / math.sqrt(len(sample_set))\n    mean = statistics.mean(sample_set)\n    # expected mean should be 0.5, if we have 50% win/loss\n    z_score = (mean-0.5) / predicted_std_dev\n    confidence = st.norm.cdf(abs(z_score))\n    win_percent = won / (won+loss) * 100\n    print (\"Ending money is %d\" %money)\n    print (\"Record: %d-%d-%d\" %(won, loss, push))\n    print (\"Win Percent: %f\" %win_percent)\n    print (\"Confidence %f\" %confidence)\n\n\ndef bet_home(money, won, loss, push, sample_set, year_to_record):\n    if row.away_point_diff - row.home_spread > 0:\n        money = money - 300\n        loss += 1\n        sample_set.append(0)\n        year_to_record.update({row.schedule_season: year_to_record.get(row.schedule_season, 0) -1 })\n    elif row.away_point_diff - row.home_spread == 0:\n        push +=1\n    else:\n        money = money + 273\n        won += 1\n        sample_set.append(1)\n        year_to_record.update({row.schedule_season: year_to_record.get(row.schedule_season, 0) +1 })\n    return money, won, loss, push, sample_set, year_to_record\n\n\ndef bet_away(money, won, loss, push, sample_set, year_to_record):\n    if row.away_point_diff - row.home_spread > 0:\n        money = money + 273\n        won += 1\n        sample_set.append(1)\n        year_to_record.update({row.schedule_season: year_to_record.get(row.schedule_season, 0) +1 })\n    elif row.away_point_diff - row.home_spread == 0:\n        push +=1\n    else:\n        money = money - 300\n        loss += 1\n        sample_set.append(0)\n        year_to_record.update({row.schedule_season: year_to_record.get(row.schedule_season, 0) -1 })\n    return money, won, loss, push, sample_set, year_to_record\n\ndef key_number_away(number):\n    return number == -2.5 or number == -3 or number == -6.5 or number == -7\n\ndef set_vars():\n    money = 10000\n    won = 0\n    loss = 0\n    push = 0\n    sample_set = []\n    year_to_record = {}\n    return money, won, loss, push, sample_set, year_to_record\n\n\n",
   "execution_count": 88,
   "outputs": []
  },
  {
   "cell_type": "code",
   "metadata": {
    "tags": [],
    "cell_id": "00003-6eb56be0-e6c4-450a-909f-39577aaa8617",
    "deepnote_to_be_reexecuted": false,
    "source_hash": "51717d31",
    "execution_start": 1632976008871,
    "execution_millis": 723,
    "deepnote_cell_type": "code"
   },
   "source": "money, won, loss, push, sample_set, year_to_record = set_vars()\n\nfor row in global_df_final.itertuples():\n\n    if (row.away_last_1 <= -14 and row.away_last_1 >=-18 and row.intra_division and row.home_spread < 0): #bet on road underdog \n        money, won, loss, push, sample_set, year_to_record = bet_away(money, won, loss, push, sample_set, year_to_record)\n\nprint(\"\\nPicking the road division underdog when they most recently lost between 14 and 18 points\")\nprint_basic_stats(money, won, loss, push, sample_set)\nprint(year_to_record)\n\n#-------------------------------------\n\nmoney, won, loss, push, sample_set, year_to_record = set_vars()\n\nfor row in global_df_final.itertuples():\n\n    if (row.away_last_1 <= -14 and row.away_last_1 >=-18 and row.home_spread < 0): #bet on road underdog \n        money, won, loss, push, sample_set, year_to_record = bet_away(money, won, loss, push, sample_set, year_to_record)\n\nprint(\"\\nPicking the road underdog when they most recently lost between 14 and 18 points\")\nprint_basic_stats(money, won, loss, push, sample_set)\nprint(year_to_record)\n\n#-------------------------------------\n\nmoney, won, loss, push, sample_set, year_to_record = set_vars()\n\nfor row in global_df_final.itertuples():\n\n    if (row.home_spread < 0): #bet on road underdog \n        money, won, loss, push, sample_set, year_to_record = bet_away(money, won, loss, push, sample_set, year_to_record)\nprint(\"\\nPicking the road underdog\")\nprint_basic_stats(money, won, loss, push, sample_set)\nprint(year_to_record)\n\n#-------------------------------------\n\nmoney, won, loss, push, sample_set, year_to_record = set_vars()\n\nfor row in global_df_final.itertuples():\n\n    if (row.home_spread > 0):\n        money, won, loss, push, sample_set, year_to_record = bet_home(money, won, loss, push, sample_set, year_to_record)\n    \nprint(\"\\nPicking the home underdog\")\nprint_basic_stats(money, won, loss, push, sample_set)\nprint(year_to_record)\n\n#-------------------------------------\n\nmoney, won, loss, push, sample_set, year_to_record = set_vars()\n\nfor row in global_df_final.itertuples():\n\n    if (row.home_spread < 0):\n        money, won, loss, push, sample_set, year_to_record = bet_home(money, won, loss, push, sample_set, year_to_record)\n    \nprint(\"\\nPicking the home favourite\")\nprint_basic_stats(money, won, loss, push, sample_set)\nprint(year_to_record)\n\n#-------------------------------------\n\nmoney, won, loss, push, sample_set, year_to_record = set_vars()\n\nfor row in global_df_final.itertuples():\n\n    if (row.home_spread > 0 and row.home_last_1 <= -14 and row.home_last_1 >= -18):\n        money, won, loss, push, sample_set, year_to_record = bet_home(money, won, loss, push, sample_set, year_to_record)\n    \nprint(\"\\nPicking the home underdog when they most recently lost between 14 and 18 points\")\nprint_basic_stats(money, won, loss, push, sample_set)\nprint(year_to_record)\n\n#-------------------------------------\n\nmoney, won, loss, push, sample_set, year_to_record = set_vars()\n\nfor row in global_df_final.itertuples():\n\n    if (row.home_spread > 0 and row.home_last_1 <= -14 and row.home_last_1 >= -18 and row.intra_division):\n        money, won, loss, push, sample_set, year_to_record = bet_home(money, won, loss, push, sample_set, year_to_record)\n    \nprint(\"\\nPicking the home division underdog when they most recently lost between 14 and 18 points\")\nprint_basic_stats(money, won, loss, push, sample_set)\nprint(year_to_record)\n\n#-------------------------------------\n\nmoney, won, loss, push, sample_set, year_to_record = set_vars()\n\nfor row in global_df_final.itertuples():\n\n    if (row.home_spread <= -7): #bet on road underdog \n        money, won, loss, push, sample_set, year_to_record = bet_away(money, won, loss, push, sample_set, year_to_record)\nprint(\"\\nPicking the road underdog when the spread is >7\")\nprint_basic_stats(money, won, loss, push, sample_set)\nprint(year_to_record)\n\n#-------------------------------------\n\nmoney, won, loss, push, sample_set, year_to_record = set_vars()\n\nfor row in global_df_final.itertuples():\n\n    if (row.home_spread <= -14): #bet on road underdog \n        money, won, loss, push, sample_set, year_to_record = bet_away(money, won, loss, push, sample_set, year_to_record)\nprint(\"\\nPicking the road underdog when the spread is >14\")\nprint_basic_stats(money, won, loss, push, sample_set)\nprint(year_to_record)\n\n#-------------------------------------\n\nmoney, won, loss, push, sample_set, year_to_record = set_vars()\n\nfor row in global_df_final.itertuples():\n\n    if (row.away_last_3 <= -7 and row.intra_division): #bet on road underdog \n        money, won, loss, push, sample_set, year_to_record = bet_away(money, won, loss, push, sample_set, year_to_record)\nprint(\"\\nPicking the division road underdog when they've lost by at least one touchdown in the last 3 games\")\nprint_basic_stats(money, won, loss, push, sample_set)\nprint(year_to_record)\n\n#-------------------------------------\n\nmoney, won, loss, push, sample_set, year_to_record = set_vars()\n\nfor row in global_df_final.itertuples():\n\n    if (row.home_spread < 0 and row.over_under_line <= 42):\n        money, won, loss, push, sample_set, year_to_record = bet_away(money, won, loss, push, sample_set, year_to_record)\nprint(\"\\nPicking the road underdog when the OU is less than or equal to 42\")\nprint_basic_stats(money, won, loss, push, sample_set)\nprint(year_to_record)\n\n#-------------------------------------\n\nmoney, won, loss, push, sample_set, year_to_record = set_vars()\n\nfor row in global_df_final.itertuples():\n\n    if (row.over_under_line <= 42):\n        money, won, loss, push, sample_set, year_to_record = bet_away(money, won, loss, push, sample_set, year_to_record)\nprint(\"\\nPicking the road team when the OU is less than or equal to 42\")\nprint_basic_stats(money, won, loss, push, sample_set)\nprint(year_to_record)\n\n\n#-------------------------------------\n\nmoney, won, loss, push, sample_set, year_to_record = set_vars()\n\nfor row in global_df_final.itertuples():\n\n    if (row.home_spread < 0 and not key_number_away(row.home_spread)):\n        money, won, loss, push, sample_set, year_to_record = bet_away(money, won, loss, push, sample_set, year_to_record)\nprint(\"\\nPicking the road underdog on non-key numbers\")\nprint_basic_stats(money, won, loss, push, sample_set)\nprint(year_to_record)",
   "execution_count": 91,
   "outputs": [
    {
     "name": "stdout",
     "text": "\nPicking the road division underdog when they most recently lost between 14 and 18 points\nEnding money is 17083\nRecord: 71-41-4\nWin Percent: 63.392857\nConfidence 0.998300\n{2000: 1, 2001: -1, 2002: 3, 2003: 1, 2004: -1, 2005: -2, 2006: 3, 2007: 0, 2008: 0, 2009: 3, 2010: 4, 2011: 4, 2012: 3, 2013: 0, 2014: 3, 2015: 0, 2016: 0, 2017: 2, 2018: -2, 2019: 4, 2020: 5}\n\nPicking the road underdog when they most recently lost between 14 and 18 points\nEnding money is 20302\nRecord: 174-124-11\nWin Percent: 58.389262\nConfidence 0.998322\n{2000: 10, 2001: -5, 2002: 5, 2003: -2, 2004: 4, 2005: -4, 2006: 6, 2007: 1, 2008: 1, 2009: 2, 2010: 7, 2011: 1, 2012: 7, 2013: 2, 2014: -1, 2015: 7, 2016: -3, 2017: 4, 2018: 1, 2019: 6, 2020: 1}\n\nPicking the road underdog\nEnding money is 3145\nRecord: 1865-1720-106\nWin Percent: 52.022315\nConfidence 0.992311\n{2000: 11, 2001: 7, 2002: 14, 2003: 0, 2004: 8, 2005: -22, 2006: 18, 2007: -4, 2008: 14, 2009: 11, 2010: 7, 2011: 7, 2012: 11, 2013: -7, 2014: 8, 2015: 20, 2016: -11, 2017: -1, 2018: 19, 2019: 21, 2020: 14}\n\nPicking the home underdog\nEnding money is -7751\nRecord: 913-890-57\nWin Percent: 50.637826\nConfidence 0.705938\n{2000: 2, 2001: 7, 2002: 16, 2003: 1, 2004: -7, 2005: -22, 2006: 14, 2007: -1, 2008: -9, 2009: -4, 2010: 0, 2011: 8, 2012: 2, 2013: 4, 2014: 3, 2015: 7, 2016: -6, 2017: 0, 2018: 4, 2019: -7, 2020: 11}\n\nPicking the home favourite\nEnding money is -79940\nRecord: 1720-1865-106\nWin Percent: 47.977685\nConfidence 0.992311\n{2000: -11, 2001: -7, 2002: -14, 2003: 0, 2004: -8, 2005: 22, 2006: -18, 2007: 4, 2008: -14, 2009: -11, 2010: -7, 2011: -7, 2012: -11, 2013: 7, 2014: -8, 2015: -20, 2016: 11, 2017: 1, 2018: -19, 2019: -21, 2020: -14}\n\nPicking the home underdog when they most recently lost between 14 and 18 points\nEnding money is 5662\nRecord: 94-100-4\nWin Percent: 48.453608\nConfidence 0.666354\n{2000: 2, 2001: -3, 2002: 4, 2003: -4, 2004: 3, 2005: -2, 2006: 2, 2007: -2, 2008: -4, 2009: 3, 2010: -3, 2011: -1, 2012: -1, 2013: -4, 2014: 7, 2015: 4, 2016: -6, 2017: -2, 2018: 1, 2019: -2, 2020: 2}\n\nPicking the home division underdog when they most recently lost between 14 and 18 points\nEnding money is 9355\nRecord: 35-34-1\nWin Percent: 50.724638\nConfidence 0.547569\n{2000: -2, 2001: 0, 2002: 1, 2003: -2, 2004: 2, 2005: 1, 2006: 3, 2007: -2, 2008: -2, 2009: 0, 2010: -3, 2011: 1, 2012: 0, 2013: 0, 2014: 3, 2015: 4, 2016: 0, 2017: -2, 2018: 1, 2019: -3, 2020: 1}\n\nPicking the road underdog when the spread is >7\nEnding money is 1891\nRecord: 667-634-32\nWin Percent: 51.268255\nConfidence 0.819864\n{2000: -2, 2001: 9, 2002: 3, 2003: 5, 2004: 12, 2005: -4, 2006: -4, 2007: -4, 2008: 5, 2009: 2, 2010: 2, 2011: -8, 2012: 4, 2013: 3, 2014: -2, 2015: 7, 2016: -5, 2017: 0, 2018: 11, 2019: 3, 2020: -4}\n\nPicking the road underdog when the spread is >14\nEnding money is 12037\nRecord: 69-56-4\nWin Percent: 55.200000\nConfidence 0.877871\n{2000: -2, 2001: 1, 2002: 2, 2003: -1, 2005: 2, 2006: 3, 2007: 2, 2008: 5, 2009: -2, 2010: 1, 2011: -2, 2012: 2, 2013: 4, 2014: 2, 2015: -5, 2016: -2, 2017: -1, 2018: 2, 2019: 1, 2020: 1}\n\nPicking the division road underdog when they've lost by at least one touchdown in the last 3 games\nEnding money is 11968\nRecord: 416-372-26\nWin Percent: 52.791878\nConfidence 0.941663\n{2000: 2, 2001: 1, 2002: 0, 2003: -4, 2004: 11, 2005: -3, 2006: 7, 2007: 13, 2008: 6, 2009: 3, 2010: -2, 2011: 1, 2012: -3, 2013: -11, 2014: 9, 2015: 4, 2016: 1, 2017: 1, 2018: 0, 2019: 11, 2020: -3}\n\nPicking the road underdog when the OU is less than or equal to 42\nEnding money is 2923\nRecord: 751-707-47\nWin Percent: 51.508916\nConfidence 0.875432\n{2000: 7, 2001: 5, 2002: 1, 2003: 2, 2004: 1, 2005: -14, 2006: 9, 2007: 1, 2008: 6, 2009: 11, 2010: 2, 2011: 10, 2012: 4, 2013: 1, 2014: 3, 2015: 0, 2016: -9, 2017: -2, 2018: 8, 2019: -2, 2020: 0}\n\nPicking the road team when the OU is less than or equal to 42\nEnding money is -14300\nRecord: 1100-1082-74\nWin Percent: 50.412466\nConfidence 0.649980\n{2000: 8, 2001: -3, 2002: -9, 2003: 0, 2004: 9, 2005: -8, 2006: 3, 2007: 0, 2008: 12, 2009: 18, 2010: 1, 2011: 0, 2012: -1, 2013: 7, 2014: 1, 2015: -4, 2016: -4, 2017: -4, 2018: 2, 2019: -7, 2020: -3}\n\nPicking the road underdog on non-key numbers\nEnding money is -3707\nRecord: 1241-1175-30\nWin Percent: 51.365894\nConfidence 0.910360\n{2000: 0, 2001: 6, 2002: 9, 2003: -7, 2004: 1, 2005: -10, 2006: 10, 2007: -14, 2008: 10, 2009: -4, 2010: -5, 2011: 8, 2012: 8, 2013: -6, 2014: 5, 2015: 16, 2016: -13, 2017: 10, 2018: 13, 2019: 19, 2020: 10}\n",
     "output_type": "stream"
    }
   ]
  },
  {
   "cell_type": "markdown",
   "source": "<a style='text-decoration:none;line-height:16px;display:flex;color:#5B5B62;padding:10px;justify-content:end;' href='https://deepnote.com?utm_source=created-in-deepnote-cell&projectId=f0efbe77-01fa-4860-b5ee-e7eac30d44e8' target=\"_blank\">\n<img alt='Created in deepnote.com' style='display:inline;max-height:16px;margin:0px;margin-right:7.5px;' src='data:image/svg+xml;base64,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' > </img>\nCreated in <span style='font-weight:600;margin-left:4px;'>Deepnote</span></a>",
   "metadata": {
    "tags": [],
    "created_in_deepnote_cell": true,
    "deepnote_cell_type": "markdown"
   }
  }
 ],
 "nbformat": 4,
 "nbformat_minor": 2,
 "metadata": {
  "orig_nbformat": 2,
  "deepnote": {
   "is_reactive": false
  },
  "deepnote_notebook_id": "d6cc1725-ecf6-4950-96f8-e27e08de6011",
  "deepnote_execution_queue": []
 }
}