{
 "cells": [
  {
   "cell_type": "markdown",
   "source": "# Ideation\n\n",
   "metadata": {
    "tags": [],
    "cell_id": "00000-b0144350-4f8d-4a62-9dd3-65e55c5031f8",
    "deepnote_cell_type": "markdown"
   }
  },
  {
   "cell_type": "code",
   "metadata": {
    "tags": [],
    "cell_id": "00000-c13a5cd8-24d3-44f4-b64e-6f69327e5979",
    "deepnote_to_be_reexecuted": false,
    "source_hash": "f1484b6c",
    "execution_start": 1632708205579,
    "execution_millis": 9333,
    "deepnote_cell_type": "code"
   },
   "source": "# Imports etc\n\n#!pip install scikit-optimize\n!pip install eli5\nimport numpy as np\nimport pandas as pd\nimport matplotlib.pyplot as plt\nimport seaborn as sns\nimport mpl_toolkits\nfrom collections import deque\nfrom functools import reduce\nfrom sklearn import preprocessing\nfrom sklearn.model_selection import cross_val_score\nfrom sklearn.model_selection import train_test_split\nfrom sklearn import ensemble\nfrom sklearn.metrics import roc_curve, auc\nimport eli5\nfrom eli5.sklearn import PermutationImportance\n\nfrom sklearn.model_selection import GridSearchCV\n\n%matplotlib inline\n",
   "execution_count": 1,
   "outputs": [
    {
     "name": "stdout",
     "text": "Collecting eli5\n  Downloading eli5-0.11.0-py2.py3-none-any.whl (106 kB)\n\u001b[K     |████████████████████████████████| 106 kB 36.2 MB/s \n\u001b[?25hRequirement already satisfied: tabulate>=0.7.7 in /shared-libs/python3.7/py/lib/python3.7/site-packages (from eli5) (0.8.9)\nRequirement already satisfied: jinja2 in /shared-libs/python3.7/py-core/lib/python3.7/site-packages (from eli5) (3.0.1)\nRequirement already satisfied: numpy>=1.9.0 in /shared-libs/python3.7/py/lib/python3.7/site-packages (from eli5) (1.19.5)\nRequirement already satisfied: attrs>16.0.0 in /shared-libs/python3.7/py-core/lib/python3.7/site-packages (from eli5) (21.2.0)\nCollecting graphviz\n  Downloading graphviz-0.17-py3-none-any.whl (18 kB)\nRequirement already satisfied: scipy in /shared-libs/python3.7/py/lib/python3.7/site-packages (from eli5) (1.7.1)\nRequirement already satisfied: six in /shared-libs/python3.7/py-core/lib/python3.7/site-packages (from eli5) (1.16.0)\nRequirement already satisfied: scikit-learn>=0.20 in /shared-libs/python3.7/py/lib/python3.7/site-packages (from eli5) (0.24.2)\nRequirement already satisfied: threadpoolctl>=2.0.0 in /shared-libs/python3.7/py/lib/python3.7/site-packages (from scikit-learn>=0.20->eli5) (2.2.0)\nRequirement already satisfied: joblib>=0.11 in /shared-libs/python3.7/py/lib/python3.7/site-packages (from scikit-learn>=0.20->eli5) (1.0.1)\nRequirement already satisfied: MarkupSafe>=2.0 in /shared-libs/python3.7/py-core/lib/python3.7/site-packages (from jinja2->eli5) (2.0.1)\nInstalling collected packages: graphviz, eli5\nSuccessfully installed eli5-0.11.0 graphviz-0.17\n2021-09-27 02:03:32.522104: W tensorflow/stream_executor/platform/default/dso_loader.cc:60] Could not load dynamic library 'libcudart.so.11.0'; dlerror: libcudart.so.11.0: cannot open shared object file: No such file or directory\n2021-09-27 02:03:32.522142: I tensorflow/stream_executor/cuda/cudart_stub.cc:29] Ignore above cudart dlerror if you do not have a GPU set up on your machine.\n",
     "output_type": "stream"
    }
   ]
  },
  {
   "cell_type": "code",
   "metadata": {
    "tags": [],
    "cell_id": "00002-0d33c2c4-edff-41b4-80bc-b5a35a01cef7",
    "deepnote_to_be_reexecuted": false,
    "source_hash": "adbb9718",
    "execution_start": 1632708214916,
    "execution_millis": 165,
    "deepnote_cell_type": "code"
   },
   "source": "# Get data\nglobal_df = pd.read_csv(\"nfl_games_and_bets.csv\")\nglobal_df = global_df.drop(global_df[global_df.schedule_season == 2021].index)\nglobal_df = global_df.drop(columns=['stadium','weather_temperature', 'weather_wind_mph','weather_humidity','weather_detail'])\nglobal_df = global_df.drop(global_df[global_df.schedule_season < 2010].index)\nglobal_df\n",
   "execution_count": 2,
   "outputs": [
    {
     "output_type": "execute_result",
     "execution_count": 2,
     "data": {
      "application/vnd.deepnote.dataframe.v2+json": {
       "row_count": 2939,
       "column_count": 12,
       "columns": [
        {
         "name": "schedule_date",
         "dtype": "object",
         "stats": {
          "unique_count": 601,
          "nan_count": 0,
          "categories": [
           {
            "name": "1/2/2011",
            "count": 16
           },
           {
            "name": "1/1/2012",
            "count": 16
           },
           {
            "name": "599 others",
            "count": 2907
           }
          ]
         }
        },
        {
         "name": "schedule_season",
         "dtype": "int64",
         "stats": {
          "unique_count": 11,
          "nan_count": 0,
          "min": "2010",
          "max": "2020",
          "histogram": [
           {
            "bin_start": 2010,
            "bin_end": 2011,
            "count": 267
           },
           {
            "bin_start": 2011,
            "bin_end": 2012,
            "count": 267
           },
           {
            "bin_start": 2012,
            "bin_end": 2013,
            "count": 267
           },
           {
            "bin_start": 2013,
            "bin_end": 2014,
            "count": 267
           },
           {
            "bin_start": 2014,
            "bin_end": 2015,
            "count": 267
           },
           {
            "bin_start": 2015,
            "bin_end": 2016,
            "count": 267
           },
           {
            "bin_start": 2016,
            "bin_end": 2017,
            "count": 267
           },
           {
            "bin_start": 2017,
            "bin_end": 2018,
            "count": 267
           },
           {
            "bin_start": 2018,
            "bin_end": 2019,
            "count": 267
           },
           {
            "bin_start": 2019,
            "bin_end": 2020,
            "count": 536
           }
          ]
         }
        },
        {
         "name": "schedule_week",
         "dtype": "object",
         "stats": {
          "unique_count": 23,
          "nan_count": 0,
          "categories": [
           {
            "name": "2",
            "count": 176
           },
           {
            "name": "3",
            "count": 176
           },
           {
            "name": "21 others",
            "count": 2587
           }
          ]
         }
        },
        {
         "name": "schedule_playoff",
         "dtype": "bool",
         "stats": {
          "unique_count": 2,
          "nan_count": 0,
          "categories": [
           {
            "name": "False",
            "count": 2816
           },
           {
            "name": "True",
            "count": 123
           }
          ]
         }
        },
        {
         "name": "team_home",
         "dtype": "object",
         "stats": {
          "unique_count": 36,
          "nan_count": 0,
          "categories": [
           {
            "name": "New England Patriots",
            "count": 107
           },
           {
            "name": "Kansas City Chiefs",
            "count": 98
           },
           {
            "name": "34 others",
            "count": 2734
           }
          ]
         }
        },
        {
         "name": "score_home",
         "dtype": "float64",
         "stats": {
          "unique_count": 57,
          "nan_count": 0,
          "min": "0.0",
          "max": "62.0",
          "histogram": [
           {
            "bin_start": 0,
            "bin_end": 6.2,
            "count": 117
           },
           {
            "bin_start": 6.2,
            "bin_end": 12.4,
            "count": 239
           },
           {
            "bin_start": 12.4,
            "bin_end": 18.6,
            "count": 528
           },
           {
            "bin_start": 18.6,
            "bin_end": 24.8,
            "count": 761
           },
           {
            "bin_start": 24.8,
            "bin_end": 31,
            "count": 538
           },
           {
            "bin_start": 31,
            "bin_end": 37.2,
            "count": 454
           },
           {
            "bin_start": 37.2,
            "bin_end": 43.4,
            "count": 191
           },
           {
            "bin_start": 43.4,
            "bin_end": 49.6,
            "count": 81
           },
           {
            "bin_start": 49.6,
            "bin_end": 55.800000000000004,
            "count": 24
           },
           {
            "bin_start": 55.800000000000004,
            "bin_end": 62,
            "count": 6
           }
          ]
         }
        },
        {
         "name": "score_away",
         "dtype": "float64",
         "stats": {
          "unique_count": 54,
          "nan_count": 0,
          "min": "0.0",
          "max": "59.0",
          "histogram": [
           {
            "bin_start": 0,
            "bin_end": 5.9,
            "count": 96
           },
           {
            "bin_start": 5.9,
            "bin_end": 11.8,
            "count": 351
           },
           {
            "bin_start": 11.8,
            "bin_end": 17.700000000000003,
            "count": 644
           },
           {
            "bin_start": 17.700000000000003,
            "bin_end": 23.6,
            "count": 604
           },
           {
            "bin_start": 23.6,
            "bin_end": 29.5,
            "count": 579
           },
           {
            "bin_start": 29.5,
            "bin_end": 35.400000000000006,
            "count": 406
           },
           {
            "bin_start": 35.400000000000006,
            "bin_end": 41.300000000000004,
            "count": 176
           },
           {
            "bin_start": 41.300000000000004,
            "bin_end": 47.2,
            "count": 56
           },
           {
            "bin_start": 47.2,
            "bin_end": 53.1,
            "count": 22
           },
           {
            "bin_start": 53.1,
            "bin_end": 59,
            "count": 5
           }
          ]
         }
        },
        {
         "name": "team_away",
         "dtype": "object",
         "stats": {
          "unique_count": 36,
          "nan_count": 0,
          "categories": [
           {
            "name": "Seattle Seahawks",
            "count": 99
           },
           {
            "name": "Green Bay Packers",
            "count": 98
           },
           {
            "name": "34 others",
            "count": 2742
           }
          ]
         }
        },
        {
         "name": "team_favorite_id",
         "dtype": "object",
         "stats": {
          "unique_count": 33,
          "nan_count": 0,
          "categories": [
           {
            "name": "NE",
            "count": 173
           },
           {
            "name": "GB",
            "count": 142
           },
           {
            "name": "31 others",
            "count": 2624
           }
          ]
         }
        },
        {
         "name": "spread_favorite",
         "dtype": "float64",
         "stats": {
          "unique_count": 41,
          "nan_count": 0,
          "min": "-26.5",
          "max": "0.0",
          "histogram": [
           {
            "bin_start": -26.5,
            "bin_end": -23.85,
            "count": 1
           },
           {
            "bin_start": -23.85,
            "bin_end": -21.2,
            "count": 1
           },
           {
            "bin_start": -21.2,
            "bin_end": -18.55,
            "count": 4
           },
           {
            "bin_start": -18.55,
            "bin_end": -15.9,
            "count": 25
           },
           {
            "bin_start": -15.9,
            "bin_end": -13.25,
            "count": 78
           },
           {
            "bin_start": -13.25,
            "bin_end": -10.600000000000001,
            "count": 98
           },
           {
            "bin_start": -10.600000000000001,
            "bin_end": -7.949999999999999,
            "count": 322
           },
           {
            "bin_start": -7.949999999999999,
            "bin_end": -5.300000000000001,
            "count": 740
           },
           {
            "bin_start": -5.300000000000001,
            "bin_end": -2.650000000000002,
            "count": 1068
           },
           {
            "bin_start": -2.650000000000002,
            "bin_end": 0,
            "count": 602
           }
          ]
         }
        },
        {
         "name": "over_under_line",
         "dtype": "float64",
         "stats": {
          "unique_count": 57,
          "nan_count": 0,
          "min": "33.0",
          "max": "63.5",
          "histogram": [
           {
            "bin_start": 33,
            "bin_end": 36.05,
            "count": 23
           },
           {
            "bin_start": 36.05,
            "bin_end": 39.1,
            "count": 207
           },
           {
            "bin_start": 39.1,
            "bin_end": 42.15,
            "count": 502
           },
           {
            "bin_start": 42.15,
            "bin_end": 45.2,
            "count": 822
           },
           {
            "bin_start": 45.2,
            "bin_end": 48.25,
            "count": 687
           },
           {
            "bin_start": 48.25,
            "bin_end": 51.3,
            "count": 407
           },
           {
            "bin_start": 51.3,
            "bin_end": 54.349999999999994,
            "count": 190
           },
           {
            "bin_start": 54.349999999999994,
            "bin_end": 57.4,
            "count": 87
           },
           {
            "bin_start": 57.4,
            "bin_end": 60.45,
            "count": 12
           },
           {
            "bin_start": 60.45,
            "bin_end": 63.5,
            "count": 2
           }
          ]
         }
        },
        {
         "name": "stadium_neutral",
         "dtype": "object",
         "stats": {
          "unique_count": 2,
          "nan_count": 0,
          "categories": [
           {
            "name": "False",
            "count": 2895
           },
           {
            "name": "True",
            "count": 44
           }
          ]
         }
        },
        {
         "name": "_deepnote_index_column",
         "dtype": "int64"
        }
       ],
       "rows_top": [
        {
         "schedule_date": "9/9/2010",
         "schedule_season": 2010,
         "schedule_week": "1",
         "schedule_playoff": "False",
         "team_home": "New Orleans Saints",
         "score_home": 14,
         "score_away": 9,
         "team_away": "Minnesota Vikings",
         "team_favorite_id": "NO",
         "spread_favorite": -5,
         "over_under_line": 49.5,
         "stadium_neutral": "False",
         "_deepnote_index_column": 7507
        },
        {
         "schedule_date": "9/12/2010",
         "schedule_season": 2010,
         "schedule_week": "1",
         "schedule_playoff": "False",
         "team_home": "Buffalo Bills",
         "score_home": 10,
         "score_away": 15,
         "team_away": "Miami Dolphins",
         "team_favorite_id": "MIA",
         "spread_favorite": -3,
         "over_under_line": 39,
         "stadium_neutral": "False",
         "_deepnote_index_column": 7508
        },
        {
         "schedule_date": "9/12/2010",
         "schedule_season": 2010,
         "schedule_week": "1",
         "schedule_playoff": "False",
         "team_home": "Chicago Bears",
         "score_home": 19,
         "score_away": 14,
         "team_away": "Detroit Lions",
         "team_favorite_id": "CHI",
         "spread_favorite": -6.5,
         "over_under_line": 45,
         "stadium_neutral": "False",
         "_deepnote_index_column": 7509
        },
        {
         "schedule_date": "9/12/2010",
         "schedule_season": 2010,
         "schedule_week": "1",
         "schedule_playoff": "False",
         "team_home": "Houston Texans",
         "score_home": 34,
         "score_away": 24,
         "team_away": "Indianapolis Colts",
         "team_favorite_id": "IND",
         "spread_favorite": -1,
         "over_under_line": 48,
         "stadium_neutral": "False",
         "_deepnote_index_column": 7510
        },
        {
         "schedule_date": "9/12/2010",
         "schedule_season": 2010,
         "schedule_week": "1",
         "schedule_playoff": "False",
         "team_home": "Jacksonville Jaguars",
         "score_home": 24,
         "score_away": 17,
         "team_away": "Denver Broncos",
         "team_favorite_id": "JAX",
         "spread_favorite": -3,
         "over_under_line": 41.5,
         "stadium_neutral": "False",
         "_deepnote_index_column": 7511
        },
        {
         "schedule_date": "9/12/2010",
         "schedule_season": 2010,
         "schedule_week": "1",
         "schedule_playoff": "False",
         "team_home": "New England Patriots",
         "score_home": 38,
         "score_away": 24,
         "team_away": "Cincinnati Bengals",
         "team_favorite_id": "NE",
         "spread_favorite": -5.5,
         "over_under_line": 45,
         "stadium_neutral": "False",
         "_deepnote_index_column": 7512
        },
        {
         "schedule_date": "9/12/2010",
         "schedule_season": 2010,
         "schedule_week": "1",
         "schedule_playoff": "False",
         "team_home": "New York Giants",
         "score_home": 31,
         "score_away": 18,
         "team_away": "Carolina Panthers",
         "team_favorite_id": "NYG",
         "spread_favorite": -6,
         "over_under_line": 41,
         "stadium_neutral": "False",
         "_deepnote_index_column": 7513
        },
        {
         "schedule_date": "9/12/2010",
         "schedule_season": 2010,
         "schedule_week": "1",
         "schedule_playoff": "False",
         "team_home": "Philadelphia Eagles",
         "score_home": 20,
         "score_away": 27,
         "team_away": "Green Bay Packers",
         "team_favorite_id": "GB",
         "spread_favorite": -3,
         "over_under_line": 48,
         "stadium_neutral": "False",
         "_deepnote_index_column": 7514
        },
        {
         "schedule_date": "9/12/2010",
         "schedule_season": 2010,
         "schedule_week": "1",
         "schedule_playoff": "False",
         "team_home": "Pittsburgh Steelers",
         "score_home": 15,
         "score_away": 9,
         "team_away": "Atlanta Falcons",
         "team_favorite_id": "ATL",
         "spread_favorite": -1.5,
         "over_under_line": 39.5,
         "stadium_neutral": "False",
         "_deepnote_index_column": 7515
        },
        {
         "schedule_date": "9/12/2010",
         "schedule_season": 2010,
         "schedule_week": "1",
         "schedule_playoff": "False",
         "team_home": "Seattle Seahawks",
         "score_home": 31,
         "score_away": 6,
         "team_away": "San Francisco 49ers",
         "team_favorite_id": "SF",
         "spread_favorite": -3,
         "over_under_line": 37,
         "stadium_neutral": "False",
         "_deepnote_index_column": 7516
        },
        {
         "schedule_date": "9/12/2010",
         "schedule_season": 2010,
         "schedule_week": "1",
         "schedule_playoff": "False",
         "team_home": "St. Louis Rams",
         "score_home": 13,
         "score_away": 17,
         "team_away": "Arizona Cardinals",
         "team_favorite_id": "ARI",
         "spread_favorite": -3,
         "over_under_line": 39.5,
         "stadium_neutral": "False",
         "_deepnote_index_column": 7517
        },
        {
         "schedule_date": "9/12/2010",
         "schedule_season": 2010,
         "schedule_week": "1",
         "schedule_playoff": "False",
         "team_home": "Tampa Bay Buccaneers",
         "score_home": 17,
         "score_away": 14,
         "team_away": "Cleveland Browns",
         "team_favorite_id": "TB",
         "spread_favorite": -2.5,
         "over_under_line": 37,
         "stadium_neutral": "False",
         "_deepnote_index_column": 7518
        },
        {
         "schedule_date": "9/12/2010",
         "schedule_season": 2010,
         "schedule_week": "1",
         "schedule_playoff": "False",
         "team_home": "Tennessee Titans",
         "score_home": 38,
         "score_away": 13,
         "team_away": "Oakland Raiders",
         "team_favorite_id": "TEN",
         "spread_favorite": -6.5,
         "over_under_line": 40,
         "stadium_neutral": "False",
         "_deepnote_index_column": 7519
        },
        {
         "schedule_date": "9/12/2010",
         "schedule_season": 2010,
         "schedule_week": "1",
         "schedule_playoff": "False",
         "team_home": "Washington Redskins",
         "score_home": 13,
         "score_away": 7,
         "team_away": "Dallas Cowboys",
         "team_favorite_id": "DAL",
         "spread_favorite": -3,
         "over_under_line": 40,
         "stadium_neutral": "False",
         "_deepnote_index_column": 7520
        },
        {
         "schedule_date": "9/13/2010",
         "schedule_season": 2010,
         "schedule_week": "1",
         "schedule_playoff": "False",
         "team_home": "Kansas City Chiefs",
         "score_home": 21,
         "score_away": 14,
         "team_away": "San Diego Chargers",
         "team_favorite_id": "LAC",
         "spread_favorite": -4,
         "over_under_line": 45.5,
         "stadium_neutral": "False",
         "_deepnote_index_column": 7521
        },
        {
         "schedule_date": "9/13/2010",
         "schedule_season": 2010,
         "schedule_week": "1",
         "schedule_playoff": "False",
         "team_home": "New York Jets",
         "score_home": 9,
         "score_away": 10,
         "team_away": "Baltimore Ravens",
         "team_favorite_id": "NYJ",
         "spread_favorite": -1,
         "over_under_line": 36.5,
         "stadium_neutral": "False",
         "_deepnote_index_column": 7522
        },
        {
         "schedule_date": "9/19/2010",
         "schedule_season": 2010,
         "schedule_week": "2",
         "schedule_playoff": "False",
         "team_home": "Atlanta Falcons",
         "score_home": 41,
         "score_away": 7,
         "team_away": "Arizona Cardinals",
         "team_favorite_id": "ATL",
         "spread_favorite": -7,
         "over_under_line": 43.5,
         "stadium_neutral": "False",
         "_deepnote_index_column": 7523
        },
        {
         "schedule_date": "9/19/2010",
         "schedule_season": 2010,
         "schedule_week": "2",
         "schedule_playoff": "False",
         "team_home": "Carolina Panthers",
         "score_home": 7,
         "score_away": 20,
         "team_away": "Tampa Bay Buccaneers",
         "team_favorite_id": "CAR",
         "spread_favorite": -4,
         "over_under_line": 37.5,
         "stadium_neutral": "False",
         "_deepnote_index_column": 7524
        },
        {
         "schedule_date": "9/19/2010",
         "schedule_season": 2010,
         "schedule_week": "2",
         "schedule_playoff": "False",
         "team_home": "Cincinnati Bengals",
         "score_home": 15,
         "score_away": 10,
         "team_away": "Baltimore Ravens",
         "team_favorite_id": "BAL",
         "spread_favorite": -3,
         "over_under_line": 39.5,
         "stadium_neutral": "False",
         "_deepnote_index_column": 7525
        },
        {
         "schedule_date": "9/19/2010",
         "schedule_season": 2010,
         "schedule_week": "2",
         "schedule_playoff": "False",
         "team_home": "Cleveland Browns",
         "score_home": 14,
         "score_away": 16,
         "team_away": "Kansas City Chiefs",
         "team_favorite_id": "CLE",
         "spread_favorite": -3,
         "over_under_line": 38,
         "stadium_neutral": "False",
         "_deepnote_index_column": 7526
        },
        {
         "schedule_date": "9/19/2010",
         "schedule_season": 2010,
         "schedule_week": "2",
         "schedule_playoff": "False",
         "team_home": "Dallas Cowboys",
         "score_home": 20,
         "score_away": 27,
         "team_away": "Chicago Bears",
         "team_favorite_id": "DAL",
         "spread_favorite": -7,
         "over_under_line": 41.5,
         "stadium_neutral": "False",
         "_deepnote_index_column": 7527
        },
        {
         "schedule_date": "9/19/2010",
         "schedule_season": 2010,
         "schedule_week": "2",
         "schedule_playoff": "False",
         "team_home": "Denver Broncos",
         "score_home": 31,
         "score_away": 14,
         "team_away": "Seattle Seahawks",
         "team_favorite_id": "DEN",
         "spread_favorite": -3.5,
         "over_under_line": 41,
         "stadium_neutral": "False",
         "_deepnote_index_column": 7528
        },
        {
         "schedule_date": "9/19/2010",
         "schedule_season": 2010,
         "schedule_week": "2",
         "schedule_playoff": "False",
         "team_home": "Detroit Lions",
         "score_home": 32,
         "score_away": 35,
         "team_away": "Philadelphia Eagles",
         "team_favorite_id": "PHI",
         "spread_favorite": -6.5,
         "over_under_line": 41,
         "stadium_neutral": "False",
         "_deepnote_index_column": 7529
        },
        {
         "schedule_date": "9/19/2010",
         "schedule_season": 2010,
         "schedule_week": "2",
         "schedule_playoff": "False",
         "team_home": "Green Bay Packers",
         "score_home": 34,
         "score_away": 7,
         "team_away": "Buffalo Bills",
         "team_favorite_id": "GB",
         "spread_favorite": -13,
         "over_under_line": 43,
         "stadium_neutral": "False",
         "_deepnote_index_column": 7530
        },
        {
         "schedule_date": "9/19/2010",
         "schedule_season": 2010,
         "schedule_week": "2",
         "schedule_playoff": "False",
         "team_home": "Indianapolis Colts",
         "score_home": 38,
         "score_away": 14,
         "team_away": "New York Giants",
         "team_favorite_id": "IND",
         "spread_favorite": -4,
         "over_under_line": 48.5,
         "stadium_neutral": "False",
         "_deepnote_index_column": 7531
        },
        {
         "schedule_date": "9/19/2010",
         "schedule_season": 2010,
         "schedule_week": "2",
         "schedule_playoff": "False",
         "team_home": "Minnesota Vikings",
         "score_home": 10,
         "score_away": 14,
         "team_away": "Miami Dolphins",
         "team_favorite_id": "MIN",
         "spread_favorite": -6,
         "over_under_line": 41,
         "stadium_neutral": "False",
         "_deepnote_index_column": 7532
        },
        {
         "schedule_date": "9/19/2010",
         "schedule_season": 2010,
         "schedule_week": "2",
         "schedule_playoff": "False",
         "team_home": "New York Jets",
         "score_home": 28,
         "score_away": 14,
         "team_away": "New England Patriots",
         "team_favorite_id": "NE",
         "spread_favorite": -3,
         "over_under_line": 39.5,
         "stadium_neutral": "False",
         "_deepnote_index_column": 7533
        },
        {
         "schedule_date": "9/19/2010",
         "schedule_season": 2010,
         "schedule_week": "2",
         "schedule_playoff": "False",
         "team_home": "Oakland Raiders",
         "score_home": 16,
         "score_away": 14,
         "team_away": "St. Louis Rams",
         "team_favorite_id": "LVR",
         "spread_favorite": -3,
         "over_under_line": 37.5,
         "stadium_neutral": "False",
         "_deepnote_index_column": 7534
        },
        {
         "schedule_date": "9/19/2010",
         "schedule_season": 2010,
         "schedule_week": "2",
         "schedule_playoff": "False",
         "team_home": "San Diego Chargers",
         "score_home": 38,
         "score_away": 13,
         "team_away": "Jacksonville Jaguars",
         "team_favorite_id": "LAC",
         "spread_favorite": -7,
         "over_under_line": 45,
         "stadium_neutral": "False",
         "_deepnote_index_column": 7535
        },
        {
         "schedule_date": "9/19/2010",
         "schedule_season": 2010,
         "schedule_week": "2",
         "schedule_playoff": "False",
         "team_home": "Tennessee Titans",
         "score_home": 11,
         "score_away": 19,
         "team_away": "Pittsburgh Steelers",
         "team_favorite_id": "TEN",
         "spread_favorite": -6,
         "over_under_line": 37,
         "stadium_neutral": "False",
         "_deepnote_index_column": 7536
        },
        {
         "schedule_date": "9/19/2010",
         "schedule_season": 2010,
         "schedule_week": "2",
         "schedule_playoff": "False",
         "team_home": "Washington Redskins",
         "score_home": 27,
         "score_away": 30,
         "team_away": "Houston Texans",
         "team_favorite_id": "HOU",
         "spread_favorite": -3,
         "over_under_line": 42.5,
         "stadium_neutral": "False",
         "_deepnote_index_column": 7537
        },
        {
         "schedule_date": "9/20/2010",
         "schedule_season": 2010,
         "schedule_week": "2",
         "schedule_playoff": "False",
         "team_home": "San Francisco 49ers",
         "score_home": 22,
         "score_away": 25,
         "team_away": "New Orleans Saints",
         "team_favorite_id": "NO",
         "spread_favorite": -5,
         "over_under_line": 43.5,
         "stadium_neutral": "False",
         "_deepnote_index_column": 7538
        },
        {
         "schedule_date": "9/26/2010",
         "schedule_season": 2010,
         "schedule_week": "3",
         "schedule_playoff": "False",
         "team_home": "Arizona Cardinals",
         "score_home": 24,
         "score_away": 23,
         "team_away": "Oakland Raiders",
         "team_favorite_id": "ARI",
         "spread_favorite": -5.5,
         "over_under_line": 39,
         "stadium_neutral": "False",
         "_deepnote_index_column": 7539
        },
        {
         "schedule_date": "9/26/2010",
         "schedule_season": 2010,
         "schedule_week": "3",
         "schedule_playoff": "False",
         "team_home": "Baltimore Ravens",
         "score_home": 24,
         "score_away": 17,
         "team_away": "Cleveland Browns",
         "team_favorite_id": "BAL",
         "spread_favorite": -12.5,
         "over_under_line": 36.5,
         "stadium_neutral": "False",
         "_deepnote_index_column": 7540
        },
        {
         "schedule_date": "9/26/2010",
         "schedule_season": 2010,
         "schedule_week": "3",
         "schedule_playoff": "False",
         "team_home": "Carolina Panthers",
         "score_home": 7,
         "score_away": 20,
         "team_away": "Cincinnati Bengals",
         "team_favorite_id": "CIN",
         "spread_favorite": -3.5,
         "over_under_line": 37,
         "stadium_neutral": "False",
         "_deepnote_index_column": 7541
        },
        {
         "schedule_date": "9/26/2010",
         "schedule_season": 2010,
         "schedule_week": "3",
         "schedule_playoff": "False",
         "team_home": "Denver Broncos",
         "score_home": 13,
         "score_away": 27,
         "team_away": "Indianapolis Colts",
         "team_favorite_id": "IND",
         "spread_favorite": -6,
         "over_under_line": 47,
         "stadium_neutral": "False",
         "_deepnote_index_column": 7542
        },
        {
         "schedule_date": "9/26/2010",
         "schedule_season": 2010,
         "schedule_week": "3",
         "schedule_playoff": "False",
         "team_home": "Houston Texans",
         "score_home": 13,
         "score_away": 27,
         "team_away": "Dallas Cowboys",
         "team_favorite_id": "HOU",
         "spread_favorite": -2.5,
         "over_under_line": 47.5,
         "stadium_neutral": "False",
         "_deepnote_index_column": 7543
        },
        {
         "schedule_date": "9/26/2010",
         "schedule_season": 2010,
         "schedule_week": "3",
         "schedule_playoff": "False",
         "team_home": "Jacksonville Jaguars",
         "score_home": 3,
         "score_away": 28,
         "team_away": "Philadelphia Eagles",
         "team_favorite_id": "PHI",
         "spread_favorite": -3,
         "over_under_line": 45,
         "stadium_neutral": "False",
         "_deepnote_index_column": 7544
        },
        {
         "schedule_date": "9/26/2010",
         "schedule_season": 2010,
         "schedule_week": "3",
         "schedule_playoff": "False",
         "team_home": "Kansas City Chiefs",
         "score_home": 31,
         "score_away": 10,
         "team_away": "San Francisco 49ers",
         "team_favorite_id": "SF",
         "spread_favorite": -3,
         "over_under_line": 38,
         "stadium_neutral": "False",
         "_deepnote_index_column": 7545
        },
        {
         "schedule_date": "9/26/2010",
         "schedule_season": 2010,
         "schedule_week": "3",
         "schedule_playoff": "False",
         "team_home": "Miami Dolphins",
         "score_home": 23,
         "score_away": 31,
         "team_away": "New York Jets",
         "team_favorite_id": "MIA",
         "spread_favorite": -2.5,
         "over_under_line": 36,
         "stadium_neutral": "False",
         "_deepnote_index_column": 7546
        },
        {
         "schedule_date": "9/26/2010",
         "schedule_season": 2010,
         "schedule_week": "3",
         "schedule_playoff": "False",
         "team_home": "Minnesota Vikings",
         "score_home": 24,
         "score_away": 10,
         "team_away": "Detroit Lions",
         "team_favorite_id": "MIN",
         "spread_favorite": -13,
         "over_under_line": 43,
         "stadium_neutral": "False",
         "_deepnote_index_column": 7547
        }
       ],
       "rows_bottom": [
        {
         "schedule_date": "12/26/2020",
         "schedule_season": 2020,
         "schedule_week": "16",
         "schedule_playoff": "False",
         "team_home": "Las Vegas Raiders",
         "score_home": 25,
         "score_away": 26,
         "team_away": "Miami Dolphins",
         "team_favorite_id": "MIA",
         "spread_favorite": -2.5,
         "over_under_line": 50,
         "stadium_neutral": "False",
         "_deepnote_index_column": 10404
        },
        {
         "schedule_date": "12/27/2020",
         "schedule_season": 2020,
         "schedule_week": "16",
         "schedule_playoff": "False",
         "team_home": "Baltimore Ravens",
         "score_home": 27,
         "score_away": 13,
         "team_away": "New York Giants",
         "team_favorite_id": "BAL",
         "spread_favorite": -9.5,
         "over_under_line": 43.5,
         "stadium_neutral": "False",
         "_deepnote_index_column": 10405
        },
        {
         "schedule_date": "12/27/2020",
         "schedule_season": 2020,
         "schedule_week": "16",
         "schedule_playoff": "False",
         "team_home": "Dallas Cowboys",
         "score_home": 37,
         "score_away": 17,
         "team_away": "Philadelphia Eagles",
         "team_favorite_id": "PHI",
         "spread_favorite": -3,
         "over_under_line": 50.5,
         "stadium_neutral": "False",
         "_deepnote_index_column": 10406
        },
        {
         "schedule_date": "12/27/2020",
         "schedule_season": 2020,
         "schedule_week": "16",
         "schedule_playoff": "False",
         "team_home": "Green Bay Packers",
         "score_home": 40,
         "score_away": 14,
         "team_away": "Tennessee Titans",
         "team_favorite_id": "GB",
         "spread_favorite": -3,
         "over_under_line": 52.5,
         "stadium_neutral": "False",
         "_deepnote_index_column": 10407
        },
        {
         "schedule_date": "12/27/2020",
         "schedule_season": 2020,
         "schedule_week": "16",
         "schedule_playoff": "False",
         "team_home": "Houston Texans",
         "score_home": 31,
         "score_away": 37,
         "team_away": "Cincinnati Bengals",
         "team_favorite_id": "HOU",
         "spread_favorite": -7.5,
         "over_under_line": 46,
         "stadium_neutral": "False",
         "_deepnote_index_column": 10408
        },
        {
         "schedule_date": "12/27/2020",
         "schedule_season": 2020,
         "schedule_week": "16",
         "schedule_playoff": "False",
         "team_home": "Jacksonville Jaguars",
         "score_home": 17,
         "score_away": 41,
         "team_away": "Chicago Bears",
         "team_favorite_id": "CHI",
         "spread_favorite": -9.5,
         "over_under_line": 47,
         "stadium_neutral": "False",
         "_deepnote_index_column": 10409
        },
        {
         "schedule_date": "12/27/2020",
         "schedule_season": 2020,
         "schedule_week": "16",
         "schedule_playoff": "False",
         "team_home": "Kansas City Chiefs",
         "score_home": 17,
         "score_away": 14,
         "team_away": "Atlanta Falcons",
         "team_favorite_id": "KC",
         "spread_favorite": -11,
         "over_under_line": 54,
         "stadium_neutral": "False",
         "_deepnote_index_column": 10410
        },
        {
         "schedule_date": "12/27/2020",
         "schedule_season": 2020,
         "schedule_week": "16",
         "schedule_playoff": "False",
         "team_home": "Los Angeles Chargers",
         "score_home": 19,
         "score_away": 16,
         "team_away": "Denver Broncos",
         "team_favorite_id": "LAC",
         "spread_favorite": -2,
         "over_under_line": 47.5,
         "stadium_neutral": "False",
         "_deepnote_index_column": 10411
        },
        {
         "schedule_date": "12/27/2020",
         "schedule_season": 2020,
         "schedule_week": "16",
         "schedule_playoff": "False",
         "team_home": "New York Jets",
         "score_home": 23,
         "score_away": 16,
         "team_away": "Cleveland Browns",
         "team_favorite_id": "CLE",
         "spread_favorite": -6.5,
         "over_under_line": 45,
         "stadium_neutral": "False",
         "_deepnote_index_column": 10412
        },
        {
         "schedule_date": "12/27/2020",
         "schedule_season": 2020,
         "schedule_week": "16",
         "schedule_playoff": "False",
         "team_home": "Pittsburgh Steelers",
         "score_home": 28,
         "score_away": 24,
         "team_away": "Indianapolis Colts",
         "team_favorite_id": "IND",
         "spread_favorite": -1,
         "over_under_line": 42.5,
         "stadium_neutral": "False",
         "_deepnote_index_column": 10413
        },
        {
         "schedule_date": "12/27/2020",
         "schedule_season": 2020,
         "schedule_week": "16",
         "schedule_playoff": "False",
         "team_home": "Seattle Seahawks",
         "score_home": 20,
         "score_away": 9,
         "team_away": "Los Angeles Rams",
         "team_favorite_id": "SEA",
         "spread_favorite": -1.5,
         "over_under_line": 48,
         "stadium_neutral": "False",
         "_deepnote_index_column": 10414
        },
        {
         "schedule_date": "12/27/2020",
         "schedule_season": 2020,
         "schedule_week": "16",
         "schedule_playoff": "False",
         "team_home": "Washington Football Team",
         "score_home": 13,
         "score_away": 20,
         "team_away": "Carolina Panthers",
         "team_favorite_id": "CAR",
         "spread_favorite": -1,
         "over_under_line": 42,
         "stadium_neutral": "False",
         "_deepnote_index_column": 10415
        },
        {
         "schedule_date": "12/28/2020",
         "schedule_season": 2020,
         "schedule_week": "16",
         "schedule_playoff": "False",
         "team_home": "New England Patriots",
         "score_home": 9,
         "score_away": 38,
         "team_away": "Buffalo Bills",
         "team_favorite_id": "BUF",
         "spread_favorite": -7,
         "over_under_line": 47,
         "stadium_neutral": "False",
         "_deepnote_index_column": 10416
        },
        {
         "schedule_date": "1/3/2021",
         "schedule_season": 2020,
         "schedule_week": "17",
         "schedule_playoff": "False",
         "team_home": "Buffalo Bills",
         "score_home": 56,
         "score_away": 26,
         "team_away": "Miami Dolphins",
         "team_favorite_id": "MIA",
         "spread_favorite": -3,
         "over_under_line": 42.5,
         "stadium_neutral": "False",
         "_deepnote_index_column": 10417
        },
        {
         "schedule_date": "1/3/2021",
         "schedule_season": 2020,
         "schedule_week": "17",
         "schedule_playoff": "False",
         "team_home": "Carolina Panthers",
         "score_home": 7,
         "score_away": 33,
         "team_away": "New Orleans Saints",
         "team_favorite_id": "NO",
         "spread_favorite": -6,
         "over_under_line": 46.5,
         "stadium_neutral": "False",
         "_deepnote_index_column": 10418
        },
        {
         "schedule_date": "1/3/2021",
         "schedule_season": 2020,
         "schedule_week": "17",
         "schedule_playoff": "False",
         "team_home": "Chicago Bears",
         "score_home": 16,
         "score_away": 35,
         "team_away": "Green Bay Packers",
         "team_favorite_id": "GB",
         "spread_favorite": -4.5,
         "over_under_line": 48.5,
         "stadium_neutral": "False",
         "_deepnote_index_column": 10419
        },
        {
         "schedule_date": "1/3/2021",
         "schedule_season": 2020,
         "schedule_week": "17",
         "schedule_playoff": "False",
         "team_home": "Cincinnati Bengals",
         "score_home": 3,
         "score_away": 38,
         "team_away": "Baltimore Ravens",
         "team_favorite_id": "BAL",
         "spread_favorite": -13.5,
         "over_under_line": 45,
         "stadium_neutral": "False",
         "_deepnote_index_column": 10420
        },
        {
         "schedule_date": "1/3/2021",
         "schedule_season": 2020,
         "schedule_week": "17",
         "schedule_playoff": "False",
         "team_home": "Cleveland Browns",
         "score_home": 24,
         "score_away": 22,
         "team_away": "Pittsburgh Steelers",
         "team_favorite_id": "CLE",
         "spread_favorite": -10.5,
         "over_under_line": 44.5,
         "stadium_neutral": "False",
         "_deepnote_index_column": 10421
        },
        {
         "schedule_date": "1/3/2021",
         "schedule_season": 2020,
         "schedule_week": "17",
         "schedule_playoff": "False",
         "team_home": "Denver Broncos",
         "score_home": 31,
         "score_away": 32,
         "team_away": "Las Vegas Raiders",
         "team_favorite_id": "LVR",
         "spread_favorite": -2.5,
         "over_under_line": 50.5,
         "stadium_neutral": "False",
         "_deepnote_index_column": 10422
        },
        {
         "schedule_date": "1/3/2021",
         "schedule_season": 2020,
         "schedule_week": "17",
         "schedule_playoff": "False",
         "team_home": "Detroit Lions",
         "score_home": 35,
         "score_away": 37,
         "team_away": "Minnesota Vikings",
         "team_favorite_id": "MIN",
         "spread_favorite": -3,
         "over_under_line": 53.5,
         "stadium_neutral": "False",
         "_deepnote_index_column": 10423
        },
        {
         "schedule_date": "1/3/2021",
         "schedule_season": 2020,
         "schedule_week": "17",
         "schedule_playoff": "False",
         "team_home": "Houston Texans",
         "score_home": 38,
         "score_away": 41,
         "team_away": "Tennessee Titans",
         "team_favorite_id": "TEN",
         "spread_favorite": -7,
         "over_under_line": 55.5,
         "stadium_neutral": "False",
         "_deepnote_index_column": 10424
        },
        {
         "schedule_date": "1/3/2021",
         "schedule_season": 2020,
         "schedule_week": "17",
         "schedule_playoff": "False",
         "team_home": "Indianapolis Colts",
         "score_home": 28,
         "score_away": 14,
         "team_away": "Jacksonville Jaguars",
         "team_favorite_id": "IND",
         "spread_favorite": -15.5,
         "over_under_line": 48,
         "stadium_neutral": "False",
         "_deepnote_index_column": 10425
        },
        {
         "schedule_date": "1/3/2021",
         "schedule_season": 2020,
         "schedule_week": "17",
         "schedule_playoff": "False",
         "team_home": "Kansas City Chiefs",
         "score_home": 21,
         "score_away": 38,
         "team_away": "Los Angeles Chargers",
         "team_favorite_id": "LAC",
         "spread_favorite": -6.5,
         "over_under_line": 43,
         "stadium_neutral": "False",
         "_deepnote_index_column": 10426
        },
        {
         "schedule_date": "1/3/2021",
         "schedule_season": 2020,
         "schedule_week": "17",
         "schedule_playoff": "False",
         "team_home": "Los Angeles Rams",
         "score_home": 18,
         "score_away": 7,
         "team_away": "Arizona Cardinals",
         "team_favorite_id": "LAR",
         "spread_favorite": -1,
         "over_under_line": 42,
         "stadium_neutral": "False",
         "_deepnote_index_column": 10427
        },
        {
         "schedule_date": "1/3/2021",
         "schedule_season": 2020,
         "schedule_week": "17",
         "schedule_playoff": "False",
         "team_home": "New England Patriots",
         "score_home": 28,
         "score_away": 14,
         "team_away": "New York Jets",
         "team_favorite_id": "NE",
         "spread_favorite": -3,
         "over_under_line": 41,
         "stadium_neutral": "False",
         "_deepnote_index_column": 10428
        },
        {
         "schedule_date": "1/3/2021",
         "schedule_season": 2020,
         "schedule_week": "17",
         "schedule_playoff": "False",
         "team_home": "New York Giants",
         "score_home": 23,
         "score_away": 19,
         "team_away": "Dallas Cowboys",
         "team_favorite_id": "DAL",
         "spread_favorite": -1.5,
         "over_under_line": 43.5,
         "stadium_neutral": "False",
         "_deepnote_index_column": 10429
        },
        {
         "schedule_date": "1/3/2021",
         "schedule_season": 2020,
         "schedule_week": "17",
         "schedule_playoff": "False",
         "team_home": "Philadelphia Eagles",
         "score_home": 14,
         "score_away": 20,
         "team_away": "Washington Football Team",
         "team_favorite_id": "WAS",
         "spread_favorite": -6.5,
         "over_under_line": 43.5,
         "stadium_neutral": "False",
         "_deepnote_index_column": 10430
        },
        {
         "schedule_date": "1/3/2021",
         "schedule_season": 2020,
         "schedule_week": "17",
         "schedule_playoff": "False",
         "team_home": "San Francisco 49ers",
         "score_home": 23,
         "score_away": 26,
         "team_away": "Seattle Seahawks",
         "team_favorite_id": "SEA",
         "spread_favorite": -7,
         "over_under_line": 45,
         "stadium_neutral": "False",
         "_deepnote_index_column": 10431
        },
        {
         "schedule_date": "1/3/2021",
         "schedule_season": 2020,
         "schedule_week": "17",
         "schedule_playoff": "False",
         "team_home": "Tampa Bay Buccaneers",
         "score_home": 44,
         "score_away": 27,
         "team_away": "Atlanta Falcons",
         "team_favorite_id": "TB",
         "spread_favorite": -7,
         "over_under_line": 51,
         "stadium_neutral": "False",
         "_deepnote_index_column": 10432
        },
        {
         "schedule_date": "1/9/2021",
         "schedule_season": 2020,
         "schedule_week": "Wildcard",
         "schedule_playoff": "True",
         "team_home": "Buffalo Bills",
         "score_home": 27,
         "score_away": 24,
         "team_away": "Indianapolis Colts",
         "team_favorite_id": "BUF",
         "spread_favorite": -7,
         "over_under_line": 50.5,
         "stadium_neutral": "False",
         "_deepnote_index_column": 10433
        },
        {
         "schedule_date": "1/9/2021",
         "schedule_season": 2020,
         "schedule_week": "Wildcard",
         "schedule_playoff": "True",
         "team_home": "Seattle Seahawks",
         "score_home": 20,
         "score_away": 30,
         "team_away": "Los Angeles Rams",
         "team_favorite_id": "SEA",
         "spread_favorite": -3,
         "over_under_line": 42.5,
         "stadium_neutral": "False",
         "_deepnote_index_column": 10434
        },
        {
         "schedule_date": "1/9/2021",
         "schedule_season": 2020,
         "schedule_week": "Wildcard",
         "schedule_playoff": "True",
         "team_home": "Washington Football Team",
         "score_home": 23,
         "score_away": 31,
         "team_away": "Tampa Bay Buccaneers",
         "team_favorite_id": "TB",
         "spread_favorite": -10,
         "over_under_line": 45,
         "stadium_neutral": "False",
         "_deepnote_index_column": 10435
        },
        {
         "schedule_date": "1/10/2021",
         "schedule_season": 2020,
         "schedule_week": "Wildcard",
         "schedule_playoff": "True",
         "team_home": "New Orleans Saints",
         "score_home": 21,
         "score_away": 9,
         "team_away": "Chicago Bears",
         "team_favorite_id": "NO",
         "spread_favorite": -11,
         "over_under_line": 48,
         "stadium_neutral": "False",
         "_deepnote_index_column": 10436
        },
        {
         "schedule_date": "1/10/2021",
         "schedule_season": 2020,
         "schedule_week": "Wildcard",
         "schedule_playoff": "True",
         "team_home": "Pittsburgh Steelers",
         "score_home": 37,
         "score_away": 48,
         "team_away": "Cleveland Browns",
         "team_favorite_id": "PIT",
         "spread_favorite": -5.5,
         "over_under_line": 47.5,
         "stadium_neutral": "False",
         "_deepnote_index_column": 10437
        },
        {
         "schedule_date": "1/10/2021",
         "schedule_season": 2020,
         "schedule_week": "Wildcard",
         "schedule_playoff": "True",
         "team_home": "Tennessee Titans",
         "score_home": 13,
         "score_away": 20,
         "team_away": "Baltimore Ravens",
         "team_favorite_id": "BAL",
         "spread_favorite": -3.5,
         "over_under_line": 53.5,
         "stadium_neutral": "False",
         "_deepnote_index_column": 10438
        },
        {
         "schedule_date": "1/16/2021",
         "schedule_season": 2020,
         "schedule_week": "Division",
         "schedule_playoff": "True",
         "team_home": "Buffalo Bills",
         "score_home": 17,
         "score_away": 3,
         "team_away": "Baltimore Ravens",
         "team_favorite_id": "BUF",
         "spread_favorite": -2.5,
         "over_under_line": 49.5,
         "stadium_neutral": "False",
         "_deepnote_index_column": 10439
        },
        {
         "schedule_date": "1/16/2021",
         "schedule_season": 2020,
         "schedule_week": "Division",
         "schedule_playoff": "True",
         "team_home": "Green Bay Packers",
         "score_home": 32,
         "score_away": 18,
         "team_away": "Los Angeles Rams",
         "team_favorite_id": "GB",
         "spread_favorite": -7,
         "over_under_line": 45,
         "stadium_neutral": "False",
         "_deepnote_index_column": 10440
        },
        {
         "schedule_date": "1/17/2021",
         "schedule_season": 2020,
         "schedule_week": "Division",
         "schedule_playoff": "True",
         "team_home": "Kansas City Chiefs",
         "score_home": 22,
         "score_away": 17,
         "team_away": "Cleveland Browns",
         "team_favorite_id": "KC",
         "spread_favorite": -8,
         "over_under_line": 56,
         "stadium_neutral": "False",
         "_deepnote_index_column": 10441
        },
        {
         "schedule_date": "1/17/2021",
         "schedule_season": 2020,
         "schedule_week": "Division",
         "schedule_playoff": "True",
         "team_home": "New Orleans Saints",
         "score_home": 20,
         "score_away": 30,
         "team_away": "Tampa Bay Buccaneers",
         "team_favorite_id": "NO",
         "spread_favorite": -2.5,
         "over_under_line": 53,
         "stadium_neutral": "False",
         "_deepnote_index_column": 10442
        },
        {
         "schedule_date": "1/24/2021",
         "schedule_season": 2020,
         "schedule_week": "Conference",
         "schedule_playoff": "True",
         "team_home": "Green Bay Packers",
         "score_home": 26,
         "score_away": 31,
         "team_away": "Tampa Bay Buccaneers",
         "team_favorite_id": "GB",
         "spread_favorite": -3,
         "over_under_line": 53,
         "stadium_neutral": "False",
         "_deepnote_index_column": 10443
        },
        {
         "schedule_date": "1/24/2021",
         "schedule_season": 2020,
         "schedule_week": "Conference",
         "schedule_playoff": "True",
         "team_home": "Kansas City Chiefs",
         "score_home": 38,
         "score_away": 24,
         "team_away": "Buffalo Bills",
         "team_favorite_id": "KC",
         "spread_favorite": -3,
         "over_under_line": 55,
         "stadium_neutral": "False",
         "_deepnote_index_column": 10444
        },
        {
         "schedule_date": "2/7/2021",
         "schedule_season": 2020,
         "schedule_week": "Superbowl",
         "schedule_playoff": "True",
         "team_home": "Tampa Bay Buccaneers",
         "score_home": 31,
         "score_away": 9,
         "team_away": "Kansas City Chiefs",
         "team_favorite_id": "KC",
         "spread_favorite": -3,
         "over_under_line": 54.5,
         "stadium_neutral": "False",
         "_deepnote_index_column": 10445
        }
       ]
      },
      "text/plain": "      schedule_date  schedule_season schedule_week  schedule_playoff  \\\n7507       9/9/2010             2010             1             False   \n7508      9/12/2010             2010             1             False   \n7509      9/12/2010             2010             1             False   \n7510      9/12/2010             2010             1             False   \n7511      9/12/2010             2010             1             False   \n...             ...              ...           ...               ...   \n10441     1/17/2021             2020      Division              True   \n10442     1/17/2021             2020      Division              True   \n10443     1/24/2021             2020    Conference              True   \n10444     1/24/2021             2020    Conference              True   \n10445      2/7/2021             2020     Superbowl              True   \n\n                  team_home  score_home  score_away             team_away  \\\n7507     New Orleans Saints        14.0         9.0     Minnesota Vikings   \n7508          Buffalo Bills        10.0        15.0        Miami Dolphins   \n7509          Chicago Bears        19.0        14.0         Detroit Lions   \n7510         Houston Texans        34.0        24.0    Indianapolis Colts   \n7511   Jacksonville Jaguars        24.0        17.0        Denver Broncos   \n...                     ...         ...         ...                   ...   \n10441    Kansas City Chiefs        22.0        17.0      Cleveland Browns   \n10442    New Orleans Saints        20.0        30.0  Tampa Bay Buccaneers   \n10443     Green Bay Packers        26.0        31.0  Tampa Bay Buccaneers   \n10444    Kansas City Chiefs        38.0        24.0         Buffalo Bills   \n10445  Tampa Bay Buccaneers        31.0         9.0    Kansas City Chiefs   \n\n      team_favorite_id  spread_favorite  over_under_line stadium_neutral  \n7507                NO             -5.0             49.5           False  \n7508               MIA             -3.0             39.0           False  \n7509               CHI             -6.5             45.0           False  \n7510               IND             -1.0             48.0           False  \n7511               JAX             -3.0             41.5           False  \n...                ...              ...              ...             ...  \n10441               KC             -8.0             56.0           False  \n10442               NO             -2.5             53.0           False  \n10443               GB             -3.0             53.0           False  \n10444               KC             -3.0             55.0           False  \n10445               KC             -3.0             54.5           False  \n\n[2939 rows x 12 columns]",
      "text/html": "<div>\n<style scoped>\n    .dataframe tbody tr th:only-of-type {\n        vertical-align: middle;\n    }\n\n    .dataframe tbody tr th {\n        vertical-align: top;\n    }\n\n    .dataframe thead th {\n        text-align: right;\n    }\n</style>\n<table border=\"1\" class=\"dataframe\">\n  <thead>\n    <tr style=\"text-align: right;\">\n      <th></th>\n      <th>schedule_date</th>\n      <th>schedule_season</th>\n      <th>schedule_week</th>\n      <th>schedule_playoff</th>\n      <th>team_home</th>\n      <th>score_home</th>\n      <th>score_away</th>\n      <th>team_away</th>\n      <th>team_favorite_id</th>\n      <th>spread_favorite</th>\n      <th>over_under_line</th>\n      <th>stadium_neutral</th>\n    </tr>\n  </thead>\n  <tbody>\n    <tr>\n      <th>7507</th>\n      <td>9/9/2010</td>\n      <td>2010</td>\n      <td>1</td>\n      <td>False</td>\n      <td>New Orleans Saints</td>\n      <td>14.0</td>\n      <td>9.0</td>\n      <td>Minnesota Vikings</td>\n      <td>NO</td>\n      <td>-5.0</td>\n      <td>49.5</td>\n      <td>False</td>\n    </tr>\n    <tr>\n      <th>7508</th>\n      <td>9/12/2010</td>\n      <td>2010</td>\n      <td>1</td>\n      <td>False</td>\n      <td>Buffalo Bills</td>\n      <td>10.0</td>\n      <td>15.0</td>\n      <td>Miami Dolphins</td>\n      <td>MIA</td>\n      <td>-3.0</td>\n      <td>39.0</td>\n      <td>False</td>\n    </tr>\n    <tr>\n      <th>7509</th>\n      <td>9/12/2010</td>\n      <td>2010</td>\n      <td>1</td>\n      <td>False</td>\n      <td>Chicago Bears</td>\n      <td>19.0</td>\n      <td>14.0</td>\n      <td>Detroit Lions</td>\n      <td>CHI</td>\n      <td>-6.5</td>\n      <td>45.0</td>\n      <td>False</td>\n    </tr>\n    <tr>\n      <th>7510</th>\n      <td>9/12/2010</td>\n      <td>2010</td>\n      <td>1</td>\n      <td>False</td>\n      <td>Houston Texans</td>\n      <td>34.0</td>\n      <td>24.0</td>\n      <td>Indianapolis Colts</td>\n      <td>IND</td>\n      <td>-1.0</td>\n      <td>48.0</td>\n      <td>False</td>\n    </tr>\n    <tr>\n      <th>7511</th>\n      <td>9/12/2010</td>\n      <td>2010</td>\n      <td>1</td>\n      <td>False</td>\n      <td>Jacksonville Jaguars</td>\n      <td>24.0</td>\n      <td>17.0</td>\n      <td>Denver Broncos</td>\n      <td>JAX</td>\n      <td>-3.0</td>\n      <td>41.5</td>\n      <td>False</td>\n    </tr>\n    <tr>\n      <th>...</th>\n      <td>...</td>\n      <td>...</td>\n      <td>...</td>\n      <td>...</td>\n      <td>...</td>\n      <td>...</td>\n      <td>...</td>\n      <td>...</td>\n      <td>...</td>\n      <td>...</td>\n      <td>...</td>\n      <td>...</td>\n    </tr>\n    <tr>\n      <th>10441</th>\n      <td>1/17/2021</td>\n      <td>2020</td>\n      <td>Division</td>\n      <td>True</td>\n      <td>Kansas City Chiefs</td>\n      <td>22.0</td>\n      <td>17.0</td>\n      <td>Cleveland Browns</td>\n      <td>KC</td>\n      <td>-8.0</td>\n      <td>56.0</td>\n      <td>False</td>\n    </tr>\n    <tr>\n      <th>10442</th>\n      <td>1/17/2021</td>\n      <td>2020</td>\n      <td>Division</td>\n      <td>True</td>\n      <td>New Orleans Saints</td>\n      <td>20.0</td>\n      <td>30.0</td>\n      <td>Tampa Bay Buccaneers</td>\n      <td>NO</td>\n      <td>-2.5</td>\n      <td>53.0</td>\n      <td>False</td>\n    </tr>\n    <tr>\n      <th>10443</th>\n      <td>1/24/2021</td>\n      <td>2020</td>\n      <td>Conference</td>\n      <td>True</td>\n      <td>Green Bay Packers</td>\n      <td>26.0</td>\n      <td>31.0</td>\n      <td>Tampa Bay Buccaneers</td>\n      <td>GB</td>\n      <td>-3.0</td>\n      <td>53.0</td>\n      <td>False</td>\n    </tr>\n    <tr>\n      <th>10444</th>\n      <td>1/24/2021</td>\n      <td>2020</td>\n      <td>Conference</td>\n      <td>True</td>\n      <td>Kansas City Chiefs</td>\n      <td>38.0</td>\n      <td>24.0</td>\n      <td>Buffalo Bills</td>\n      <td>KC</td>\n      <td>-3.0</td>\n      <td>55.0</td>\n      <td>False</td>\n    </tr>\n    <tr>\n      <th>10445</th>\n      <td>2/7/2021</td>\n      <td>2020</td>\n      <td>Superbowl</td>\n      <td>True</td>\n      <td>Tampa Bay Buccaneers</td>\n      <td>31.0</td>\n      <td>9.0</td>\n      <td>Kansas City Chiefs</td>\n      <td>KC</td>\n      <td>-3.0</td>\n      <td>54.5</td>\n      <td>False</td>\n    </tr>\n  </tbody>\n</table>\n<p>2939 rows × 12 columns</p>\n</div>"
     },
     "metadata": {}
    }
   ]
  },
  {
   "cell_type": "code",
   "metadata": {
    "tags": [],
    "cell_id": "00003-0078aed8-5e65-4247-be6e-3d39d4f89449",
    "deepnote_to_be_reexecuted": false,
    "source_hash": "28bf552b",
    "execution_start": 1632708215079,
    "execution_millis": 151,
    "deepnote_cell_type": "code"
   },
   "source": "# Account for team moves\nold_to_new_team_name = {\"San Diego Chargers\": \"Los Angeles Chargers\", \"St. Louis Rams\": \"Los Angeles Rams\", \\\n\"Washington Redskins\" : \"Washington Football Team\", \"Oakland Raiders\": \"Las Vegas Raiders\"}\nglobal_df = global_df.replace({\"team_away\": old_to_new_team_name}).replace({\"team_home\": old_to_new_team_name})\n\n# Maintain consistency between favourite and team name columns\nshort_form_to_team_name = {\"GB\": \"Green Bay Packers\", \"HOU\": \"Houston Texans\", \"KC\": \"Kansas City Chiefs\", \"BUF\": \"Buffalo Bills\", \\\n \"TEN\": \"Tennessee Titans\", \"NO\": \"New Orleans Saints\", \"SEA\": \"Seattle Seahawks\", \"MIN\": \"Minnesota Vikings\", \\\n \"TB\": \"Tampa Bay Buccaneers\", \"LVR\": \"Las Vegas Raiders\", \"BAL\": \"Baltimore Ravens\", \"LAC\": \"Los Angeles Chargers\", \\\n \"IND\": \"Indianapolis Colts\", \"DET\": \"Detroit Lions\", \"CLE\": \"Cleveland Browns\", \"JAX\": \"Jacksonville Jaguars\", \"MIA\": \"Miami Dolphins\", \\\n \"ARI\": \"Arizona Cardinals\", \"PIT\": \"Pittsburgh Steelers\", \"CHI\": \"Chicago Bears\",\"ATL\": \"Atlanta Falcons\", \"CAR\": \"Carolina Panthers\", \\\n \"LAR\": \"Los Angeles Rams\", \"CIN\": \"Cincinnati Bengals\", \"DAL\": \"Dallas Cowboys\", \"SF\": \"San Francisco 49ers\", \"NYG\": \"New York Giants\", \\\n \"WAS\": \"Washington Football Team\", \"DEN\": \"Denver Broncos\", \"PHI\": \"Philadelphia Eagles\", \"NYJ\": \"New York Jets\", \"NE\": \"New England Patriots\"}\nteam_name_to_short_form = {value: key for key, value in short_form_to_team_name.items()}\n\nglobal_df = global_df.replace({'team_away': team_name_to_short_form}).replace({\"team_home\": team_name_to_short_form})\n\n# Note: 'PICK' when spread == 0\n\nglobal_df",
   "execution_count": 3,
   "outputs": [
    {
     "output_type": "execute_result",
     "execution_count": 3,
     "data": {
      "application/vnd.deepnote.dataframe.v2+json": {
       "row_count": 2939,
       "column_count": 12,
       "columns": [
        {
         "name": "schedule_date",
         "dtype": "object",
         "stats": {
          "unique_count": 601,
          "nan_count": 0,
          "categories": [
           {
            "name": "1/2/2011",
            "count": 16
           },
           {
            "name": "1/1/2012",
            "count": 16
           },
           {
            "name": "599 others",
            "count": 2907
           }
          ]
         }
        },
        {
         "name": "schedule_season",
         "dtype": "int64",
         "stats": {
          "unique_count": 11,
          "nan_count": 0,
          "min": "2010",
          "max": "2020",
          "histogram": [
           {
            "bin_start": 2010,
            "bin_end": 2011,
            "count": 267
           },
           {
            "bin_start": 2011,
            "bin_end": 2012,
            "count": 267
           },
           {
            "bin_start": 2012,
            "bin_end": 2013,
            "count": 267
           },
           {
            "bin_start": 2013,
            "bin_end": 2014,
            "count": 267
           },
           {
            "bin_start": 2014,
            "bin_end": 2015,
            "count": 267
           },
           {
            "bin_start": 2015,
            "bin_end": 2016,
            "count": 267
           },
           {
            "bin_start": 2016,
            "bin_end": 2017,
            "count": 267
           },
           {
            "bin_start": 2017,
            "bin_end": 2018,
            "count": 267
           },
           {
            "bin_start": 2018,
            "bin_end": 2019,
            "count": 267
           },
           {
            "bin_start": 2019,
            "bin_end": 2020,
            "count": 536
           }
          ]
         }
        },
        {
         "name": "schedule_week",
         "dtype": "object",
         "stats": {
          "unique_count": 23,
          "nan_count": 0,
          "categories": [
           {
            "name": "2",
            "count": 176
           },
           {
            "name": "3",
            "count": 176
           },
           {
            "name": "21 others",
            "count": 2587
           }
          ]
         }
        },
        {
         "name": "schedule_playoff",
         "dtype": "bool",
         "stats": {
          "unique_count": 2,
          "nan_count": 0,
          "categories": [
           {
            "name": "False",
            "count": 2816
           },
           {
            "name": "True",
            "count": 123
           }
          ]
         }
        },
        {
         "name": "team_home",
         "dtype": "object",
         "stats": {
          "unique_count": 32,
          "nan_count": 0,
          "categories": [
           {
            "name": "NE",
            "count": 107
           },
           {
            "name": "KC",
            "count": 98
           },
           {
            "name": "30 others",
            "count": 2734
           }
          ]
         }
        },
        {
         "name": "score_home",
         "dtype": "float64",
         "stats": {
          "unique_count": 57,
          "nan_count": 0,
          "min": "0.0",
          "max": "62.0",
          "histogram": [
           {
            "bin_start": 0,
            "bin_end": 6.2,
            "count": 117
           },
           {
            "bin_start": 6.2,
            "bin_end": 12.4,
            "count": 239
           },
           {
            "bin_start": 12.4,
            "bin_end": 18.6,
            "count": 528
           },
           {
            "bin_start": 18.6,
            "bin_end": 24.8,
            "count": 761
           },
           {
            "bin_start": 24.8,
            "bin_end": 31,
            "count": 538
           },
           {
            "bin_start": 31,
            "bin_end": 37.2,
            "count": 454
           },
           {
            "bin_start": 37.2,
            "bin_end": 43.4,
            "count": 191
           },
           {
            "bin_start": 43.4,
            "bin_end": 49.6,
            "count": 81
           },
           {
            "bin_start": 49.6,
            "bin_end": 55.800000000000004,
            "count": 24
           },
           {
            "bin_start": 55.800000000000004,
            "bin_end": 62,
            "count": 6
           }
          ]
         }
        },
        {
         "name": "score_away",
         "dtype": "float64",
         "stats": {
          "unique_count": 54,
          "nan_count": 0,
          "min": "0.0",
          "max": "59.0",
          "histogram": [
           {
            "bin_start": 0,
            "bin_end": 5.9,
            "count": 96
           },
           {
            "bin_start": 5.9,
            "bin_end": 11.8,
            "count": 351
           },
           {
            "bin_start": 11.8,
            "bin_end": 17.700000000000003,
            "count": 644
           },
           {
            "bin_start": 17.700000000000003,
            "bin_end": 23.6,
            "count": 604
           },
           {
            "bin_start": 23.6,
            "bin_end": 29.5,
            "count": 579
           },
           {
            "bin_start": 29.5,
            "bin_end": 35.400000000000006,
            "count": 406
           },
           {
            "bin_start": 35.400000000000006,
            "bin_end": 41.300000000000004,
            "count": 176
           },
           {
            "bin_start": 41.300000000000004,
            "bin_end": 47.2,
            "count": 56
           },
           {
            "bin_start": 47.2,
            "bin_end": 53.1,
            "count": 22
           },
           {
            "bin_start": 53.1,
            "bin_end": 59,
            "count": 5
           }
          ]
         }
        },
        {
         "name": "team_away",
         "dtype": "object",
         "stats": {
          "unique_count": 32,
          "nan_count": 0,
          "categories": [
           {
            "name": "SEA",
            "count": 99
           },
           {
            "name": "GB",
            "count": 98
           },
           {
            "name": "30 others",
            "count": 2742
           }
          ]
         }
        },
        {
         "name": "team_favorite_id",
         "dtype": "object",
         "stats": {
          "unique_count": 33,
          "nan_count": 0,
          "categories": [
           {
            "name": "NE",
            "count": 173
           },
           {
            "name": "GB",
            "count": 142
           },
           {
            "name": "31 others",
            "count": 2624
           }
          ]
         }
        },
        {
         "name": "spread_favorite",
         "dtype": "float64",
         "stats": {
          "unique_count": 41,
          "nan_count": 0,
          "min": "-26.5",
          "max": "0.0",
          "histogram": [
           {
            "bin_start": -26.5,
            "bin_end": -23.85,
            "count": 1
           },
           {
            "bin_start": -23.85,
            "bin_end": -21.2,
            "count": 1
           },
           {
            "bin_start": -21.2,
            "bin_end": -18.55,
            "count": 4
           },
           {
            "bin_start": -18.55,
            "bin_end": -15.9,
            "count": 25
           },
           {
            "bin_start": -15.9,
            "bin_end": -13.25,
            "count": 78
           },
           {
            "bin_start": -13.25,
            "bin_end": -10.600000000000001,
            "count": 98
           },
           {
            "bin_start": -10.600000000000001,
            "bin_end": -7.949999999999999,
            "count": 322
           },
           {
            "bin_start": -7.949999999999999,
            "bin_end": -5.300000000000001,
            "count": 740
           },
           {
            "bin_start": -5.300000000000001,
            "bin_end": -2.650000000000002,
            "count": 1068
           },
           {
            "bin_start": -2.650000000000002,
            "bin_end": 0,
            "count": 602
           }
          ]
         }
        },
        {
         "name": "over_under_line",
         "dtype": "float64",
         "stats": {
          "unique_count": 57,
          "nan_count": 0,
          "min": "33.0",
          "max": "63.5",
          "histogram": [
           {
            "bin_start": 33,
            "bin_end": 36.05,
            "count": 23
           },
           {
            "bin_start": 36.05,
            "bin_end": 39.1,
            "count": 207
           },
           {
            "bin_start": 39.1,
            "bin_end": 42.15,
            "count": 502
           },
           {
            "bin_start": 42.15,
            "bin_end": 45.2,
            "count": 822
           },
           {
            "bin_start": 45.2,
            "bin_end": 48.25,
            "count": 687
           },
           {
            "bin_start": 48.25,
            "bin_end": 51.3,
            "count": 407
           },
           {
            "bin_start": 51.3,
            "bin_end": 54.349999999999994,
            "count": 190
           },
           {
            "bin_start": 54.349999999999994,
            "bin_end": 57.4,
            "count": 87
           },
           {
            "bin_start": 57.4,
            "bin_end": 60.45,
            "count": 12
           },
           {
            "bin_start": 60.45,
            "bin_end": 63.5,
            "count": 2
           }
          ]
         }
        },
        {
         "name": "stadium_neutral",
         "dtype": "object",
         "stats": {
          "unique_count": 2,
          "nan_count": 0,
          "categories": [
           {
            "name": "False",
            "count": 2895
           },
           {
            "name": "True",
            "count": 44
           }
          ]
         }
        },
        {
         "name": "_deepnote_index_column",
         "dtype": "int64"
        }
       ],
       "rows_top": [
        {
         "schedule_date": "9/9/2010",
         "schedule_season": 2010,
         "schedule_week": "1",
         "schedule_playoff": "False",
         "team_home": "NO",
         "score_home": 14,
         "score_away": 9,
         "team_away": "MIN",
         "team_favorite_id": "NO",
         "spread_favorite": -5,
         "over_under_line": 49.5,
         "stadium_neutral": "False",
         "_deepnote_index_column": 7507
        },
        {
         "schedule_date": "9/12/2010",
         "schedule_season": 2010,
         "schedule_week": "1",
         "schedule_playoff": "False",
         "team_home": "BUF",
         "score_home": 10,
         "score_away": 15,
         "team_away": "MIA",
         "team_favorite_id": "MIA",
         "spread_favorite": -3,
         "over_under_line": 39,
         "stadium_neutral": "False",
         "_deepnote_index_column": 7508
        },
        {
         "schedule_date": "9/12/2010",
         "schedule_season": 2010,
         "schedule_week": "1",
         "schedule_playoff": "False",
         "team_home": "CHI",
         "score_home": 19,
         "score_away": 14,
         "team_away": "DET",
         "team_favorite_id": "CHI",
         "spread_favorite": -6.5,
         "over_under_line": 45,
         "stadium_neutral": "False",
         "_deepnote_index_column": 7509
        },
        {
         "schedule_date": "9/12/2010",
         "schedule_season": 2010,
         "schedule_week": "1",
         "schedule_playoff": "False",
         "team_home": "HOU",
         "score_home": 34,
         "score_away": 24,
         "team_away": "IND",
         "team_favorite_id": "IND",
         "spread_favorite": -1,
         "over_under_line": 48,
         "stadium_neutral": "False",
         "_deepnote_index_column": 7510
        },
        {
         "schedule_date": "9/12/2010",
         "schedule_season": 2010,
         "schedule_week": "1",
         "schedule_playoff": "False",
         "team_home": "JAX",
         "score_home": 24,
         "score_away": 17,
         "team_away": "DEN",
         "team_favorite_id": "JAX",
         "spread_favorite": -3,
         "over_under_line": 41.5,
         "stadium_neutral": "False",
         "_deepnote_index_column": 7511
        },
        {
         "schedule_date": "9/12/2010",
         "schedule_season": 2010,
         "schedule_week": "1",
         "schedule_playoff": "False",
         "team_home": "NE",
         "score_home": 38,
         "score_away": 24,
         "team_away": "CIN",
         "team_favorite_id": "NE",
         "spread_favorite": -5.5,
         "over_under_line": 45,
         "stadium_neutral": "False",
         "_deepnote_index_column": 7512
        },
        {
         "schedule_date": "9/12/2010",
         "schedule_season": 2010,
         "schedule_week": "1",
         "schedule_playoff": "False",
         "team_home": "NYG",
         "score_home": 31,
         "score_away": 18,
         "team_away": "CAR",
         "team_favorite_id": "NYG",
         "spread_favorite": -6,
         "over_under_line": 41,
         "stadium_neutral": "False",
         "_deepnote_index_column": 7513
        },
        {
         "schedule_date": "9/12/2010",
         "schedule_season": 2010,
         "schedule_week": "1",
         "schedule_playoff": "False",
         "team_home": "PHI",
         "score_home": 20,
         "score_away": 27,
         "team_away": "GB",
         "team_favorite_id": "GB",
         "spread_favorite": -3,
         "over_under_line": 48,
         "stadium_neutral": "False",
         "_deepnote_index_column": 7514
        },
        {
         "schedule_date": "9/12/2010",
         "schedule_season": 2010,
         "schedule_week": "1",
         "schedule_playoff": "False",
         "team_home": "PIT",
         "score_home": 15,
         "score_away": 9,
         "team_away": "ATL",
         "team_favorite_id": "ATL",
         "spread_favorite": -1.5,
         "over_under_line": 39.5,
         "stadium_neutral": "False",
         "_deepnote_index_column": 7515
        },
        {
         "schedule_date": "9/12/2010",
         "schedule_season": 2010,
         "schedule_week": "1",
         "schedule_playoff": "False",
         "team_home": "SEA",
         "score_home": 31,
         "score_away": 6,
         "team_away": "SF",
         "team_favorite_id": "SF",
         "spread_favorite": -3,
         "over_under_line": 37,
         "stadium_neutral": "False",
         "_deepnote_index_column": 7516
        },
        {
         "schedule_date": "9/12/2010",
         "schedule_season": 2010,
         "schedule_week": "1",
         "schedule_playoff": "False",
         "team_home": "LAR",
         "score_home": 13,
         "score_away": 17,
         "team_away": "ARI",
         "team_favorite_id": "ARI",
         "spread_favorite": -3,
         "over_under_line": 39.5,
         "stadium_neutral": "False",
         "_deepnote_index_column": 7517
        },
        {
         "schedule_date": "9/12/2010",
         "schedule_season": 2010,
         "schedule_week": "1",
         "schedule_playoff": "False",
         "team_home": "TB",
         "score_home": 17,
         "score_away": 14,
         "team_away": "CLE",
         "team_favorite_id": "TB",
         "spread_favorite": -2.5,
         "over_under_line": 37,
         "stadium_neutral": "False",
         "_deepnote_index_column": 7518
        },
        {
         "schedule_date": "9/12/2010",
         "schedule_season": 2010,
         "schedule_week": "1",
         "schedule_playoff": "False",
         "team_home": "TEN",
         "score_home": 38,
         "score_away": 13,
         "team_away": "LVR",
         "team_favorite_id": "TEN",
         "spread_favorite": -6.5,
         "over_under_line": 40,
         "stadium_neutral": "False",
         "_deepnote_index_column": 7519
        },
        {
         "schedule_date": "9/12/2010",
         "schedule_season": 2010,
         "schedule_week": "1",
         "schedule_playoff": "False",
         "team_home": "WAS",
         "score_home": 13,
         "score_away": 7,
         "team_away": "DAL",
         "team_favorite_id": "DAL",
         "spread_favorite": -3,
         "over_under_line": 40,
         "stadium_neutral": "False",
         "_deepnote_index_column": 7520
        },
        {
         "schedule_date": "9/13/2010",
         "schedule_season": 2010,
         "schedule_week": "1",
         "schedule_playoff": "False",
         "team_home": "KC",
         "score_home": 21,
         "score_away": 14,
         "team_away": "LAC",
         "team_favorite_id": "LAC",
         "spread_favorite": -4,
         "over_under_line": 45.5,
         "stadium_neutral": "False",
         "_deepnote_index_column": 7521
        },
        {
         "schedule_date": "9/13/2010",
         "schedule_season": 2010,
         "schedule_week": "1",
         "schedule_playoff": "False",
         "team_home": "NYJ",
         "score_home": 9,
         "score_away": 10,
         "team_away": "BAL",
         "team_favorite_id": "NYJ",
         "spread_favorite": -1,
         "over_under_line": 36.5,
         "stadium_neutral": "False",
         "_deepnote_index_column": 7522
        },
        {
         "schedule_date": "9/19/2010",
         "schedule_season": 2010,
         "schedule_week": "2",
         "schedule_playoff": "False",
         "team_home": "ATL",
         "score_home": 41,
         "score_away": 7,
         "team_away": "ARI",
         "team_favorite_id": "ATL",
         "spread_favorite": -7,
         "over_under_line": 43.5,
         "stadium_neutral": "False",
         "_deepnote_index_column": 7523
        },
        {
         "schedule_date": "9/19/2010",
         "schedule_season": 2010,
         "schedule_week": "2",
         "schedule_playoff": "False",
         "team_home": "CAR",
         "score_home": 7,
         "score_away": 20,
         "team_away": "TB",
         "team_favorite_id": "CAR",
         "spread_favorite": -4,
         "over_under_line": 37.5,
         "stadium_neutral": "False",
         "_deepnote_index_column": 7524
        },
        {
         "schedule_date": "9/19/2010",
         "schedule_season": 2010,
         "schedule_week": "2",
         "schedule_playoff": "False",
         "team_home": "CIN",
         "score_home": 15,
         "score_away": 10,
         "team_away": "BAL",
         "team_favorite_id": "BAL",
         "spread_favorite": -3,
         "over_under_line": 39.5,
         "stadium_neutral": "False",
         "_deepnote_index_column": 7525
        },
        {
         "schedule_date": "9/19/2010",
         "schedule_season": 2010,
         "schedule_week": "2",
         "schedule_playoff": "False",
         "team_home": "CLE",
         "score_home": 14,
         "score_away": 16,
         "team_away": "KC",
         "team_favorite_id": "CLE",
         "spread_favorite": -3,
         "over_under_line": 38,
         "stadium_neutral": "False",
         "_deepnote_index_column": 7526
        },
        {
         "schedule_date": "9/19/2010",
         "schedule_season": 2010,
         "schedule_week": "2",
         "schedule_playoff": "False",
         "team_home": "DAL",
         "score_home": 20,
         "score_away": 27,
         "team_away": "CHI",
         "team_favorite_id": "DAL",
         "spread_favorite": -7,
         "over_under_line": 41.5,
         "stadium_neutral": "False",
         "_deepnote_index_column": 7527
        },
        {
         "schedule_date": "9/19/2010",
         "schedule_season": 2010,
         "schedule_week": "2",
         "schedule_playoff": "False",
         "team_home": "DEN",
         "score_home": 31,
         "score_away": 14,
         "team_away": "SEA",
         "team_favorite_id": "DEN",
         "spread_favorite": -3.5,
         "over_under_line": 41,
         "stadium_neutral": "False",
         "_deepnote_index_column": 7528
        },
        {
         "schedule_date": "9/19/2010",
         "schedule_season": 2010,
         "schedule_week": "2",
         "schedule_playoff": "False",
         "team_home": "DET",
         "score_home": 32,
         "score_away": 35,
         "team_away": "PHI",
         "team_favorite_id": "PHI",
         "spread_favorite": -6.5,
         "over_under_line": 41,
         "stadium_neutral": "False",
         "_deepnote_index_column": 7529
        },
        {
         "schedule_date": "9/19/2010",
         "schedule_season": 2010,
         "schedule_week": "2",
         "schedule_playoff": "False",
         "team_home": "GB",
         "score_home": 34,
         "score_away": 7,
         "team_away": "BUF",
         "team_favorite_id": "GB",
         "spread_favorite": -13,
         "over_under_line": 43,
         "stadium_neutral": "False",
         "_deepnote_index_column": 7530
        },
        {
         "schedule_date": "9/19/2010",
         "schedule_season": 2010,
         "schedule_week": "2",
         "schedule_playoff": "False",
         "team_home": "IND",
         "score_home": 38,
         "score_away": 14,
         "team_away": "NYG",
         "team_favorite_id": "IND",
         "spread_favorite": -4,
         "over_under_line": 48.5,
         "stadium_neutral": "False",
         "_deepnote_index_column": 7531
        },
        {
         "schedule_date": "9/19/2010",
         "schedule_season": 2010,
         "schedule_week": "2",
         "schedule_playoff": "False",
         "team_home": "MIN",
         "score_home": 10,
         "score_away": 14,
         "team_away": "MIA",
         "team_favorite_id": "MIN",
         "spread_favorite": -6,
         "over_under_line": 41,
         "stadium_neutral": "False",
         "_deepnote_index_column": 7532
        },
        {
         "schedule_date": "9/19/2010",
         "schedule_season": 2010,
         "schedule_week": "2",
         "schedule_playoff": "False",
         "team_home": "NYJ",
         "score_home": 28,
         "score_away": 14,
         "team_away": "NE",
         "team_favorite_id": "NE",
         "spread_favorite": -3,
         "over_under_line": 39.5,
         "stadium_neutral": "False",
         "_deepnote_index_column": 7533
        },
        {
         "schedule_date": "9/19/2010",
         "schedule_season": 2010,
         "schedule_week": "2",
         "schedule_playoff": "False",
         "team_home": "LVR",
         "score_home": 16,
         "score_away": 14,
         "team_away": "LAR",
         "team_favorite_id": "LVR",
         "spread_favorite": -3,
         "over_under_line": 37.5,
         "stadium_neutral": "False",
         "_deepnote_index_column": 7534
        },
        {
         "schedule_date": "9/19/2010",
         "schedule_season": 2010,
         "schedule_week": "2",
         "schedule_playoff": "False",
         "team_home": "LAC",
         "score_home": 38,
         "score_away": 13,
         "team_away": "JAX",
         "team_favorite_id": "LAC",
         "spread_favorite": -7,
         "over_under_line": 45,
         "stadium_neutral": "False",
         "_deepnote_index_column": 7535
        },
        {
         "schedule_date": "9/19/2010",
         "schedule_season": 2010,
         "schedule_week": "2",
         "schedule_playoff": "False",
         "team_home": "TEN",
         "score_home": 11,
         "score_away": 19,
         "team_away": "PIT",
         "team_favorite_id": "TEN",
         "spread_favorite": -6,
         "over_under_line": 37,
         "stadium_neutral": "False",
         "_deepnote_index_column": 7536
        },
        {
         "schedule_date": "9/19/2010",
         "schedule_season": 2010,
         "schedule_week": "2",
         "schedule_playoff": "False",
         "team_home": "WAS",
         "score_home": 27,
         "score_away": 30,
         "team_away": "HOU",
         "team_favorite_id": "HOU",
         "spread_favorite": -3,
         "over_under_line": 42.5,
         "stadium_neutral": "False",
         "_deepnote_index_column": 7537
        },
        {
         "schedule_date": "9/20/2010",
         "schedule_season": 2010,
         "schedule_week": "2",
         "schedule_playoff": "False",
         "team_home": "SF",
         "score_home": 22,
         "score_away": 25,
         "team_away": "NO",
         "team_favorite_id": "NO",
         "spread_favorite": -5,
         "over_under_line": 43.5,
         "stadium_neutral": "False",
         "_deepnote_index_column": 7538
        },
        {
         "schedule_date": "9/26/2010",
         "schedule_season": 2010,
         "schedule_week": "3",
         "schedule_playoff": "False",
         "team_home": "ARI",
         "score_home": 24,
         "score_away": 23,
         "team_away": "LVR",
         "team_favorite_id": "ARI",
         "spread_favorite": -5.5,
         "over_under_line": 39,
         "stadium_neutral": "False",
         "_deepnote_index_column": 7539
        },
        {
         "schedule_date": "9/26/2010",
         "schedule_season": 2010,
         "schedule_week": "3",
         "schedule_playoff": "False",
         "team_home": "BAL",
         "score_home": 24,
         "score_away": 17,
         "team_away": "CLE",
         "team_favorite_id": "BAL",
         "spread_favorite": -12.5,
         "over_under_line": 36.5,
         "stadium_neutral": "False",
         "_deepnote_index_column": 7540
        },
        {
         "schedule_date": "9/26/2010",
         "schedule_season": 2010,
         "schedule_week": "3",
         "schedule_playoff": "False",
         "team_home": "CAR",
         "score_home": 7,
         "score_away": 20,
         "team_away": "CIN",
         "team_favorite_id": "CIN",
         "spread_favorite": -3.5,
         "over_under_line": 37,
         "stadium_neutral": "False",
         "_deepnote_index_column": 7541
        },
        {
         "schedule_date": "9/26/2010",
         "schedule_season": 2010,
         "schedule_week": "3",
         "schedule_playoff": "False",
         "team_home": "DEN",
         "score_home": 13,
         "score_away": 27,
         "team_away": "IND",
         "team_favorite_id": "IND",
         "spread_favorite": -6,
         "over_under_line": 47,
         "stadium_neutral": "False",
         "_deepnote_index_column": 7542
        },
        {
         "schedule_date": "9/26/2010",
         "schedule_season": 2010,
         "schedule_week": "3",
         "schedule_playoff": "False",
         "team_home": "HOU",
         "score_home": 13,
         "score_away": 27,
         "team_away": "DAL",
         "team_favorite_id": "HOU",
         "spread_favorite": -2.5,
         "over_under_line": 47.5,
         "stadium_neutral": "False",
         "_deepnote_index_column": 7543
        },
        {
         "schedule_date": "9/26/2010",
         "schedule_season": 2010,
         "schedule_week": "3",
         "schedule_playoff": "False",
         "team_home": "JAX",
         "score_home": 3,
         "score_away": 28,
         "team_away": "PHI",
         "team_favorite_id": "PHI",
         "spread_favorite": -3,
         "over_under_line": 45,
         "stadium_neutral": "False",
         "_deepnote_index_column": 7544
        },
        {
         "schedule_date": "9/26/2010",
         "schedule_season": 2010,
         "schedule_week": "3",
         "schedule_playoff": "False",
         "team_home": "KC",
         "score_home": 31,
         "score_away": 10,
         "team_away": "SF",
         "team_favorite_id": "SF",
         "spread_favorite": -3,
         "over_under_line": 38,
         "stadium_neutral": "False",
         "_deepnote_index_column": 7545
        },
        {
         "schedule_date": "9/26/2010",
         "schedule_season": 2010,
         "schedule_week": "3",
         "schedule_playoff": "False",
         "team_home": "MIA",
         "score_home": 23,
         "score_away": 31,
         "team_away": "NYJ",
         "team_favorite_id": "MIA",
         "spread_favorite": -2.5,
         "over_under_line": 36,
         "stadium_neutral": "False",
         "_deepnote_index_column": 7546
        },
        {
         "schedule_date": "9/26/2010",
         "schedule_season": 2010,
         "schedule_week": "3",
         "schedule_playoff": "False",
         "team_home": "MIN",
         "score_home": 24,
         "score_away": 10,
         "team_away": "DET",
         "team_favorite_id": "MIN",
         "spread_favorite": -13,
         "over_under_line": 43,
         "stadium_neutral": "False",
         "_deepnote_index_column": 7547
        }
       ],
       "rows_bottom": [
        {
         "schedule_date": "12/26/2020",
         "schedule_season": 2020,
         "schedule_week": "16",
         "schedule_playoff": "False",
         "team_home": "LVR",
         "score_home": 25,
         "score_away": 26,
         "team_away": "MIA",
         "team_favorite_id": "MIA",
         "spread_favorite": -2.5,
         "over_under_line": 50,
         "stadium_neutral": "False",
         "_deepnote_index_column": 10404
        },
        {
         "schedule_date": "12/27/2020",
         "schedule_season": 2020,
         "schedule_week": "16",
         "schedule_playoff": "False",
         "team_home": "BAL",
         "score_home": 27,
         "score_away": 13,
         "team_away": "NYG",
         "team_favorite_id": "BAL",
         "spread_favorite": -9.5,
         "over_under_line": 43.5,
         "stadium_neutral": "False",
         "_deepnote_index_column": 10405
        },
        {
         "schedule_date": "12/27/2020",
         "schedule_season": 2020,
         "schedule_week": "16",
         "schedule_playoff": "False",
         "team_home": "DAL",
         "score_home": 37,
         "score_away": 17,
         "team_away": "PHI",
         "team_favorite_id": "PHI",
         "spread_favorite": -3,
         "over_under_line": 50.5,
         "stadium_neutral": "False",
         "_deepnote_index_column": 10406
        },
        {
         "schedule_date": "12/27/2020",
         "schedule_season": 2020,
         "schedule_week": "16",
         "schedule_playoff": "False",
         "team_home": "GB",
         "score_home": 40,
         "score_away": 14,
         "team_away": "TEN",
         "team_favorite_id": "GB",
         "spread_favorite": -3,
         "over_under_line": 52.5,
         "stadium_neutral": "False",
         "_deepnote_index_column": 10407
        },
        {
         "schedule_date": "12/27/2020",
         "schedule_season": 2020,
         "schedule_week": "16",
         "schedule_playoff": "False",
         "team_home": "HOU",
         "score_home": 31,
         "score_away": 37,
         "team_away": "CIN",
         "team_favorite_id": "HOU",
         "spread_favorite": -7.5,
         "over_under_line": 46,
         "stadium_neutral": "False",
         "_deepnote_index_column": 10408
        },
        {
         "schedule_date": "12/27/2020",
         "schedule_season": 2020,
         "schedule_week": "16",
         "schedule_playoff": "False",
         "team_home": "JAX",
         "score_home": 17,
         "score_away": 41,
         "team_away": "CHI",
         "team_favorite_id": "CHI",
         "spread_favorite": -9.5,
         "over_under_line": 47,
         "stadium_neutral": "False",
         "_deepnote_index_column": 10409
        },
        {
         "schedule_date": "12/27/2020",
         "schedule_season": 2020,
         "schedule_week": "16",
         "schedule_playoff": "False",
         "team_home": "KC",
         "score_home": 17,
         "score_away": 14,
         "team_away": "ATL",
         "team_favorite_id": "KC",
         "spread_favorite": -11,
         "over_under_line": 54,
         "stadium_neutral": "False",
         "_deepnote_index_column": 10410
        },
        {
         "schedule_date": "12/27/2020",
         "schedule_season": 2020,
         "schedule_week": "16",
         "schedule_playoff": "False",
         "team_home": "LAC",
         "score_home": 19,
         "score_away": 16,
         "team_away": "DEN",
         "team_favorite_id": "LAC",
         "spread_favorite": -2,
         "over_under_line": 47.5,
         "stadium_neutral": "False",
         "_deepnote_index_column": 10411
        },
        {
         "schedule_date": "12/27/2020",
         "schedule_season": 2020,
         "schedule_week": "16",
         "schedule_playoff": "False",
         "team_home": "NYJ",
         "score_home": 23,
         "score_away": 16,
         "team_away": "CLE",
         "team_favorite_id": "CLE",
         "spread_favorite": -6.5,
         "over_under_line": 45,
         "stadium_neutral": "False",
         "_deepnote_index_column": 10412
        },
        {
         "schedule_date": "12/27/2020",
         "schedule_season": 2020,
         "schedule_week": "16",
         "schedule_playoff": "False",
         "team_home": "PIT",
         "score_home": 28,
         "score_away": 24,
         "team_away": "IND",
         "team_favorite_id": "IND",
         "spread_favorite": -1,
         "over_under_line": 42.5,
         "stadium_neutral": "False",
         "_deepnote_index_column": 10413
        },
        {
         "schedule_date": "12/27/2020",
         "schedule_season": 2020,
         "schedule_week": "16",
         "schedule_playoff": "False",
         "team_home": "SEA",
         "score_home": 20,
         "score_away": 9,
         "team_away": "LAR",
         "team_favorite_id": "SEA",
         "spread_favorite": -1.5,
         "over_under_line": 48,
         "stadium_neutral": "False",
         "_deepnote_index_column": 10414
        },
        {
         "schedule_date": "12/27/2020",
         "schedule_season": 2020,
         "schedule_week": "16",
         "schedule_playoff": "False",
         "team_home": "WAS",
         "score_home": 13,
         "score_away": 20,
         "team_away": "CAR",
         "team_favorite_id": "CAR",
         "spread_favorite": -1,
         "over_under_line": 42,
         "stadium_neutral": "False",
         "_deepnote_index_column": 10415
        },
        {
         "schedule_date": "12/28/2020",
         "schedule_season": 2020,
         "schedule_week": "16",
         "schedule_playoff": "False",
         "team_home": "NE",
         "score_home": 9,
         "score_away": 38,
         "team_away": "BUF",
         "team_favorite_id": "BUF",
         "spread_favorite": -7,
         "over_under_line": 47,
         "stadium_neutral": "False",
         "_deepnote_index_column": 10416
        },
        {
         "schedule_date": "1/3/2021",
         "schedule_season": 2020,
         "schedule_week": "17",
         "schedule_playoff": "False",
         "team_home": "BUF",
         "score_home": 56,
         "score_away": 26,
         "team_away": "MIA",
         "team_favorite_id": "MIA",
         "spread_favorite": -3,
         "over_under_line": 42.5,
         "stadium_neutral": "False",
         "_deepnote_index_column": 10417
        },
        {
         "schedule_date": "1/3/2021",
         "schedule_season": 2020,
         "schedule_week": "17",
         "schedule_playoff": "False",
         "team_home": "CAR",
         "score_home": 7,
         "score_away": 33,
         "team_away": "NO",
         "team_favorite_id": "NO",
         "spread_favorite": -6,
         "over_under_line": 46.5,
         "stadium_neutral": "False",
         "_deepnote_index_column": 10418
        },
        {
         "schedule_date": "1/3/2021",
         "schedule_season": 2020,
         "schedule_week": "17",
         "schedule_playoff": "False",
         "team_home": "CHI",
         "score_home": 16,
         "score_away": 35,
         "team_away": "GB",
         "team_favorite_id": "GB",
         "spread_favorite": -4.5,
         "over_under_line": 48.5,
         "stadium_neutral": "False",
         "_deepnote_index_column": 10419
        },
        {
         "schedule_date": "1/3/2021",
         "schedule_season": 2020,
         "schedule_week": "17",
         "schedule_playoff": "False",
         "team_home": "CIN",
         "score_home": 3,
         "score_away": 38,
         "team_away": "BAL",
         "team_favorite_id": "BAL",
         "spread_favorite": -13.5,
         "over_under_line": 45,
         "stadium_neutral": "False",
         "_deepnote_index_column": 10420
        },
        {
         "schedule_date": "1/3/2021",
         "schedule_season": 2020,
         "schedule_week": "17",
         "schedule_playoff": "False",
         "team_home": "CLE",
         "score_home": 24,
         "score_away": 22,
         "team_away": "PIT",
         "team_favorite_id": "CLE",
         "spread_favorite": -10.5,
         "over_under_line": 44.5,
         "stadium_neutral": "False",
         "_deepnote_index_column": 10421
        },
        {
         "schedule_date": "1/3/2021",
         "schedule_season": 2020,
         "schedule_week": "17",
         "schedule_playoff": "False",
         "team_home": "DEN",
         "score_home": 31,
         "score_away": 32,
         "team_away": "LVR",
         "team_favorite_id": "LVR",
         "spread_favorite": -2.5,
         "over_under_line": 50.5,
         "stadium_neutral": "False",
         "_deepnote_index_column": 10422
        },
        {
         "schedule_date": "1/3/2021",
         "schedule_season": 2020,
         "schedule_week": "17",
         "schedule_playoff": "False",
         "team_home": "DET",
         "score_home": 35,
         "score_away": 37,
         "team_away": "MIN",
         "team_favorite_id": "MIN",
         "spread_favorite": -3,
         "over_under_line": 53.5,
         "stadium_neutral": "False",
         "_deepnote_index_column": 10423
        },
        {
         "schedule_date": "1/3/2021",
         "schedule_season": 2020,
         "schedule_week": "17",
         "schedule_playoff": "False",
         "team_home": "HOU",
         "score_home": 38,
         "score_away": 41,
         "team_away": "TEN",
         "team_favorite_id": "TEN",
         "spread_favorite": -7,
         "over_under_line": 55.5,
         "stadium_neutral": "False",
         "_deepnote_index_column": 10424
        },
        {
         "schedule_date": "1/3/2021",
         "schedule_season": 2020,
         "schedule_week": "17",
         "schedule_playoff": "False",
         "team_home": "IND",
         "score_home": 28,
         "score_away": 14,
         "team_away": "JAX",
         "team_favorite_id": "IND",
         "spread_favorite": -15.5,
         "over_under_line": 48,
         "stadium_neutral": "False",
         "_deepnote_index_column": 10425
        },
        {
         "schedule_date": "1/3/2021",
         "schedule_season": 2020,
         "schedule_week": "17",
         "schedule_playoff": "False",
         "team_home": "KC",
         "score_home": 21,
         "score_away": 38,
         "team_away": "LAC",
         "team_favorite_id": "LAC",
         "spread_favorite": -6.5,
         "over_under_line": 43,
         "stadium_neutral": "False",
         "_deepnote_index_column": 10426
        },
        {
         "schedule_date": "1/3/2021",
         "schedule_season": 2020,
         "schedule_week": "17",
         "schedule_playoff": "False",
         "team_home": "LAR",
         "score_home": 18,
         "score_away": 7,
         "team_away": "ARI",
         "team_favorite_id": "LAR",
         "spread_favorite": -1,
         "over_under_line": 42,
         "stadium_neutral": "False",
         "_deepnote_index_column": 10427
        },
        {
         "schedule_date": "1/3/2021",
         "schedule_season": 2020,
         "schedule_week": "17",
         "schedule_playoff": "False",
         "team_home": "NE",
         "score_home": 28,
         "score_away": 14,
         "team_away": "NYJ",
         "team_favorite_id": "NE",
         "spread_favorite": -3,
         "over_under_line": 41,
         "stadium_neutral": "False",
         "_deepnote_index_column": 10428
        },
        {
         "schedule_date": "1/3/2021",
         "schedule_season": 2020,
         "schedule_week": "17",
         "schedule_playoff": "False",
         "team_home": "NYG",
         "score_home": 23,
         "score_away": 19,
         "team_away": "DAL",
         "team_favorite_id": "DAL",
         "spread_favorite": -1.5,
         "over_under_line": 43.5,
         "stadium_neutral": "False",
         "_deepnote_index_column": 10429
        },
        {
         "schedule_date": "1/3/2021",
         "schedule_season": 2020,
         "schedule_week": "17",
         "schedule_playoff": "False",
         "team_home": "PHI",
         "score_home": 14,
         "score_away": 20,
         "team_away": "WAS",
         "team_favorite_id": "WAS",
         "spread_favorite": -6.5,
         "over_under_line": 43.5,
         "stadium_neutral": "False",
         "_deepnote_index_column": 10430
        },
        {
         "schedule_date": "1/3/2021",
         "schedule_season": 2020,
         "schedule_week": "17",
         "schedule_playoff": "False",
         "team_home": "SF",
         "score_home": 23,
         "score_away": 26,
         "team_away": "SEA",
         "team_favorite_id": "SEA",
         "spread_favorite": -7,
         "over_under_line": 45,
         "stadium_neutral": "False",
         "_deepnote_index_column": 10431
        },
        {
         "schedule_date": "1/3/2021",
         "schedule_season": 2020,
         "schedule_week": "17",
         "schedule_playoff": "False",
         "team_home": "TB",
         "score_home": 44,
         "score_away": 27,
         "team_away": "ATL",
         "team_favorite_id": "TB",
         "spread_favorite": -7,
         "over_under_line": 51,
         "stadium_neutral": "False",
         "_deepnote_index_column": 10432
        },
        {
         "schedule_date": "1/9/2021",
         "schedule_season": 2020,
         "schedule_week": "Wildcard",
         "schedule_playoff": "True",
         "team_home": "BUF",
         "score_home": 27,
         "score_away": 24,
         "team_away": "IND",
         "team_favorite_id": "BUF",
         "spread_favorite": -7,
         "over_under_line": 50.5,
         "stadium_neutral": "False",
         "_deepnote_index_column": 10433
        },
        {
         "schedule_date": "1/9/2021",
         "schedule_season": 2020,
         "schedule_week": "Wildcard",
         "schedule_playoff": "True",
         "team_home": "SEA",
         "score_home": 20,
         "score_away": 30,
         "team_away": "LAR",
         "team_favorite_id": "SEA",
         "spread_favorite": -3,
         "over_under_line": 42.5,
         "stadium_neutral": "False",
         "_deepnote_index_column": 10434
        },
        {
         "schedule_date": "1/9/2021",
         "schedule_season": 2020,
         "schedule_week": "Wildcard",
         "schedule_playoff": "True",
         "team_home": "WAS",
         "score_home": 23,
         "score_away": 31,
         "team_away": "TB",
         "team_favorite_id": "TB",
         "spread_favorite": -10,
         "over_under_line": 45,
         "stadium_neutral": "False",
         "_deepnote_index_column": 10435
        },
        {
         "schedule_date": "1/10/2021",
         "schedule_season": 2020,
         "schedule_week": "Wildcard",
         "schedule_playoff": "True",
         "team_home": "NO",
         "score_home": 21,
         "score_away": 9,
         "team_away": "CHI",
         "team_favorite_id": "NO",
         "spread_favorite": -11,
         "over_under_line": 48,
         "stadium_neutral": "False",
         "_deepnote_index_column": 10436
        },
        {
         "schedule_date": "1/10/2021",
         "schedule_season": 2020,
         "schedule_week": "Wildcard",
         "schedule_playoff": "True",
         "team_home": "PIT",
         "score_home": 37,
         "score_away": 48,
         "team_away": "CLE",
         "team_favorite_id": "PIT",
         "spread_favorite": -5.5,
         "over_under_line": 47.5,
         "stadium_neutral": "False",
         "_deepnote_index_column": 10437
        },
        {
         "schedule_date": "1/10/2021",
         "schedule_season": 2020,
         "schedule_week": "Wildcard",
         "schedule_playoff": "True",
         "team_home": "TEN",
         "score_home": 13,
         "score_away": 20,
         "team_away": "BAL",
         "team_favorite_id": "BAL",
         "spread_favorite": -3.5,
         "over_under_line": 53.5,
         "stadium_neutral": "False",
         "_deepnote_index_column": 10438
        },
        {
         "schedule_date": "1/16/2021",
         "schedule_season": 2020,
         "schedule_week": "Division",
         "schedule_playoff": "True",
         "team_home": "BUF",
         "score_home": 17,
         "score_away": 3,
         "team_away": "BAL",
         "team_favorite_id": "BUF",
         "spread_favorite": -2.5,
         "over_under_line": 49.5,
         "stadium_neutral": "False",
         "_deepnote_index_column": 10439
        },
        {
         "schedule_date": "1/16/2021",
         "schedule_season": 2020,
         "schedule_week": "Division",
         "schedule_playoff": "True",
         "team_home": "GB",
         "score_home": 32,
         "score_away": 18,
         "team_away": "LAR",
         "team_favorite_id": "GB",
         "spread_favorite": -7,
         "over_under_line": 45,
         "stadium_neutral": "False",
         "_deepnote_index_column": 10440
        },
        {
         "schedule_date": "1/17/2021",
         "schedule_season": 2020,
         "schedule_week": "Division",
         "schedule_playoff": "True",
         "team_home": "KC",
         "score_home": 22,
         "score_away": 17,
         "team_away": "CLE",
         "team_favorite_id": "KC",
         "spread_favorite": -8,
         "over_under_line": 56,
         "stadium_neutral": "False",
         "_deepnote_index_column": 10441
        },
        {
         "schedule_date": "1/17/2021",
         "schedule_season": 2020,
         "schedule_week": "Division",
         "schedule_playoff": "True",
         "team_home": "NO",
         "score_home": 20,
         "score_away": 30,
         "team_away": "TB",
         "team_favorite_id": "NO",
         "spread_favorite": -2.5,
         "over_under_line": 53,
         "stadium_neutral": "False",
         "_deepnote_index_column": 10442
        },
        {
         "schedule_date": "1/24/2021",
         "schedule_season": 2020,
         "schedule_week": "Conference",
         "schedule_playoff": "True",
         "team_home": "GB",
         "score_home": 26,
         "score_away": 31,
         "team_away": "TB",
         "team_favorite_id": "GB",
         "spread_favorite": -3,
         "over_under_line": 53,
         "stadium_neutral": "False",
         "_deepnote_index_column": 10443
        },
        {
         "schedule_date": "1/24/2021",
         "schedule_season": 2020,
         "schedule_week": "Conference",
         "schedule_playoff": "True",
         "team_home": "KC",
         "score_home": 38,
         "score_away": 24,
         "team_away": "BUF",
         "team_favorite_id": "KC",
         "spread_favorite": -3,
         "over_under_line": 55,
         "stadium_neutral": "False",
         "_deepnote_index_column": 10444
        },
        {
         "schedule_date": "2/7/2021",
         "schedule_season": 2020,
         "schedule_week": "Superbowl",
         "schedule_playoff": "True",
         "team_home": "TB",
         "score_home": 31,
         "score_away": 9,
         "team_away": "KC",
         "team_favorite_id": "KC",
         "spread_favorite": -3,
         "over_under_line": 54.5,
         "stadium_neutral": "False",
         "_deepnote_index_column": 10445
        }
       ]
      },
      "text/plain": "      schedule_date  schedule_season schedule_week  schedule_playoff  \\\n7507       9/9/2010             2010             1             False   \n7508      9/12/2010             2010             1             False   \n7509      9/12/2010             2010             1             False   \n7510      9/12/2010             2010             1             False   \n7511      9/12/2010             2010             1             False   \n...             ...              ...           ...               ...   \n10441     1/17/2021             2020      Division              True   \n10442     1/17/2021             2020      Division              True   \n10443     1/24/2021             2020    Conference              True   \n10444     1/24/2021             2020    Conference              True   \n10445      2/7/2021             2020     Superbowl              True   \n\n      team_home  score_home  score_away team_away team_favorite_id  \\\n7507         NO        14.0         9.0       MIN               NO   \n7508        BUF        10.0        15.0       MIA              MIA   \n7509        CHI        19.0        14.0       DET              CHI   \n7510        HOU        34.0        24.0       IND              IND   \n7511        JAX        24.0        17.0       DEN              JAX   \n...         ...         ...         ...       ...              ...   \n10441        KC        22.0        17.0       CLE               KC   \n10442        NO        20.0        30.0        TB               NO   \n10443        GB        26.0        31.0        TB               GB   \n10444        KC        38.0        24.0       BUF               KC   \n10445        TB        31.0         9.0        KC               KC   \n\n       spread_favorite  over_under_line stadium_neutral  \n7507              -5.0             49.5           False  \n7508              -3.0             39.0           False  \n7509              -6.5             45.0           False  \n7510              -1.0             48.0           False  \n7511              -3.0             41.5           False  \n...                ...              ...             ...  \n10441             -8.0             56.0           False  \n10442             -2.5             53.0           False  \n10443             -3.0             53.0           False  \n10444             -3.0             55.0           False  \n10445             -3.0             54.5           False  \n\n[2939 rows x 12 columns]",
      "text/html": "<div>\n<style scoped>\n    .dataframe tbody tr th:only-of-type {\n        vertical-align: middle;\n    }\n\n    .dataframe tbody tr th {\n        vertical-align: top;\n    }\n\n    .dataframe thead th {\n        text-align: right;\n    }\n</style>\n<table border=\"1\" class=\"dataframe\">\n  <thead>\n    <tr style=\"text-align: right;\">\n      <th></th>\n      <th>schedule_date</th>\n      <th>schedule_season</th>\n      <th>schedule_week</th>\n      <th>schedule_playoff</th>\n      <th>team_home</th>\n      <th>score_home</th>\n      <th>score_away</th>\n      <th>team_away</th>\n      <th>team_favorite_id</th>\n      <th>spread_favorite</th>\n      <th>over_under_line</th>\n      <th>stadium_neutral</th>\n    </tr>\n  </thead>\n  <tbody>\n    <tr>\n      <th>7507</th>\n      <td>9/9/2010</td>\n      <td>2010</td>\n      <td>1</td>\n      <td>False</td>\n      <td>NO</td>\n      <td>14.0</td>\n      <td>9.0</td>\n      <td>MIN</td>\n      <td>NO</td>\n      <td>-5.0</td>\n      <td>49.5</td>\n      <td>False</td>\n    </tr>\n    <tr>\n      <th>7508</th>\n      <td>9/12/2010</td>\n      <td>2010</td>\n      <td>1</td>\n      <td>False</td>\n      <td>BUF</td>\n      <td>10.0</td>\n      <td>15.0</td>\n      <td>MIA</td>\n      <td>MIA</td>\n      <td>-3.0</td>\n      <td>39.0</td>\n      <td>False</td>\n    </tr>\n    <tr>\n      <th>7509</th>\n      <td>9/12/2010</td>\n      <td>2010</td>\n      <td>1</td>\n      <td>False</td>\n      <td>CHI</td>\n      <td>19.0</td>\n      <td>14.0</td>\n      <td>DET</td>\n      <td>CHI</td>\n      <td>-6.5</td>\n      <td>45.0</td>\n      <td>False</td>\n    </tr>\n    <tr>\n      <th>7510</th>\n      <td>9/12/2010</td>\n      <td>2010</td>\n      <td>1</td>\n      <td>False</td>\n      <td>HOU</td>\n      <td>34.0</td>\n      <td>24.0</td>\n      <td>IND</td>\n      <td>IND</td>\n      <td>-1.0</td>\n      <td>48.0</td>\n      <td>False</td>\n    </tr>\n    <tr>\n      <th>7511</th>\n      <td>9/12/2010</td>\n      <td>2010</td>\n      <td>1</td>\n      <td>False</td>\n      <td>JAX</td>\n      <td>24.0</td>\n      <td>17.0</td>\n      <td>DEN</td>\n      <td>JAX</td>\n      <td>-3.0</td>\n      <td>41.5</td>\n      <td>False</td>\n    </tr>\n    <tr>\n      <th>...</th>\n      <td>...</td>\n      <td>...</td>\n      <td>...</td>\n      <td>...</td>\n      <td>...</td>\n      <td>...</td>\n      <td>...</td>\n      <td>...</td>\n      <td>...</td>\n      <td>...</td>\n      <td>...</td>\n      <td>...</td>\n    </tr>\n    <tr>\n      <th>10441</th>\n      <td>1/17/2021</td>\n      <td>2020</td>\n      <td>Division</td>\n      <td>True</td>\n      <td>KC</td>\n      <td>22.0</td>\n      <td>17.0</td>\n      <td>CLE</td>\n      <td>KC</td>\n      <td>-8.0</td>\n      <td>56.0</td>\n      <td>False</td>\n    </tr>\n    <tr>\n      <th>10442</th>\n      <td>1/17/2021</td>\n      <td>2020</td>\n      <td>Division</td>\n      <td>True</td>\n      <td>NO</td>\n      <td>20.0</td>\n      <td>30.0</td>\n      <td>TB</td>\n      <td>NO</td>\n      <td>-2.5</td>\n      <td>53.0</td>\n      <td>False</td>\n    </tr>\n    <tr>\n      <th>10443</th>\n      <td>1/24/2021</td>\n      <td>2020</td>\n      <td>Conference</td>\n      <td>True</td>\n      <td>GB</td>\n      <td>26.0</td>\n      <td>31.0</td>\n      <td>TB</td>\n      <td>GB</td>\n      <td>-3.0</td>\n      <td>53.0</td>\n      <td>False</td>\n    </tr>\n    <tr>\n      <th>10444</th>\n      <td>1/24/2021</td>\n      <td>2020</td>\n      <td>Conference</td>\n      <td>True</td>\n      <td>KC</td>\n      <td>38.0</td>\n      <td>24.0</td>\n      <td>BUF</td>\n      <td>KC</td>\n      <td>-3.0</td>\n      <td>55.0</td>\n      <td>False</td>\n    </tr>\n    <tr>\n      <th>10445</th>\n      <td>2/7/2021</td>\n      <td>2020</td>\n      <td>Superbowl</td>\n      <td>True</td>\n      <td>TB</td>\n      <td>31.0</td>\n      <td>9.0</td>\n      <td>KC</td>\n      <td>KC</td>\n      <td>-3.0</td>\n      <td>54.5</td>\n      <td>False</td>\n    </tr>\n  </tbody>\n</table>\n<p>2939 rows × 12 columns</p>\n</div>"
     },
     "metadata": {}
    }
   ]
  },
  {
   "cell_type": "markdown",
   "source": "# Columns I'd like to add\n* Last game result (plus/minus) -- have enough data, but need to account for bye\n* Last few games results -- have enough data, also need to account for bye (maybe W in last 3, or total point difference in last 3)\n* Covered spread last game (bool) - have enough data\n* Who covered spread this game -- already a column but may need to feature engineer a bit\n* wind direction / speed - not enough data\n* divisional - have enough data but need to build the dataset manually\n* prime time - don't have enough data\n* twitter sentiment - don't have enough data\n* garbage game ? - can use schedule_date maybe",
   "metadata": {
    "tags": [],
    "cell_id": "00004-5643e281-a05c-44dc-a2ac-6414581396f9",
    "deepnote_cell_type": "markdown"
   }
  },
  {
   "cell_type": "code",
   "metadata": {
    "tags": [],
    "cell_id": "00004-f7aa0641-2cab-44f5-a30f-37e3d8853c53",
    "deepnote_to_be_reexecuted": false,
    "source_hash": "a9c800f3",
    "execution_start": 1632708215228,
    "execution_millis": 235,
    "deepnote_cell_type": "code"
   },
   "source": "# Determine if teams are within the same division\n\n# AFC = A, NFC = N\n# West = W, etc etc\nteam_to_division = {\"ARI\": \"NW\", \"LAR\": \"NW\", \"SF\": \"NW\", \"SEA\": \"NW\", \"CAR\": \"NS\", \"TB\": \"NS\", \"NO\": \"NS\", \"ATL\": \"NS\", \\\n \"GB\": \"NN\", \"CHI\": \"NN\", \"MIN\": \"NN\", \"DET\": \"NN\", \"WAS\": \"NE\", \"DAL\": \"NE\", \"PHI\": \"NE\", \"NYG\": \"NE\", \\\n \"TEN\": \"AS\", \"HOU\": \"AS\", \"IND\": \"AS\", \"JAX\": \"AS\", \"BUF\": \"AE\", \"MIA\": \"AE\", \"NE\": \"AE\", \"NYJ\": \"AE\", \\\n \"BAL\": \"AN\", \"PIT\": \"AN\", \"CLE\": \"AN\", \"CIN\": \"AN\", \"LVR\": \"AW\", \"DEN\": \"AW\", \"KC\": \"AW\", \"LAC\": \"AW\"}\n\nglobal_df2 = global_df\nglobal_df2['home_division'] = global_df2.apply(lambda row: team_to_division[row.team_home], axis=1)\nglobal_df2['away_division'] = global_df2.apply(lambda row: team_to_division[row.team_away], axis=1)\nglobal_df2['intra_division'] = global_df2.apply(lambda row: row.home_division == row.away_division, axis=1)\nglobal_df2 = global_df2.drop(columns=['home_division', 'away_division'])\nglobal_df2\n\n",
   "execution_count": 4,
   "outputs": [
    {
     "output_type": "execute_result",
     "execution_count": 4,
     "data": {
      "application/vnd.deepnote.dataframe.v2+json": {
       "row_count": 2939,
       "column_count": 13,
       "columns": [
        {
         "name": "schedule_date",
         "dtype": "object",
         "stats": {
          "unique_count": 601,
          "nan_count": 0,
          "categories": [
           {
            "name": "1/2/2011",
            "count": 16
           },
           {
            "name": "1/1/2012",
            "count": 16
           },
           {
            "name": "599 others",
            "count": 2907
           }
          ]
         }
        },
        {
         "name": "schedule_season",
         "dtype": "int64",
         "stats": {
          "unique_count": 11,
          "nan_count": 0,
          "min": "2010",
          "max": "2020",
          "histogram": [
           {
            "bin_start": 2010,
            "bin_end": 2011,
            "count": 267
           },
           {
            "bin_start": 2011,
            "bin_end": 2012,
            "count": 267
           },
           {
            "bin_start": 2012,
            "bin_end": 2013,
            "count": 267
           },
           {
            "bin_start": 2013,
            "bin_end": 2014,
            "count": 267
           },
           {
            "bin_start": 2014,
            "bin_end": 2015,
            "count": 267
           },
           {
            "bin_start": 2015,
            "bin_end": 2016,
            "count": 267
           },
           {
            "bin_start": 2016,
            "bin_end": 2017,
            "count": 267
           },
           {
            "bin_start": 2017,
            "bin_end": 2018,
            "count": 267
           },
           {
            "bin_start": 2018,
            "bin_end": 2019,
            "count": 267
           },
           {
            "bin_start": 2019,
            "bin_end": 2020,
            "count": 536
           }
          ]
         }
        },
        {
         "name": "schedule_week",
         "dtype": "object",
         "stats": {
          "unique_count": 23,
          "nan_count": 0,
          "categories": [
           {
            "name": "2",
            "count": 176
           },
           {
            "name": "3",
            "count": 176
           },
           {
            "name": "21 others",
            "count": 2587
           }
          ]
         }
        },
        {
         "name": "schedule_playoff",
         "dtype": "bool",
         "stats": {
          "unique_count": 2,
          "nan_count": 0,
          "categories": [
           {
            "name": "False",
            "count": 2816
           },
           {
            "name": "True",
            "count": 123
           }
          ]
         }
        },
        {
         "name": "team_home",
         "dtype": "object",
         "stats": {
          "unique_count": 32,
          "nan_count": 0,
          "categories": [
           {
            "name": "NE",
            "count": 107
           },
           {
            "name": "KC",
            "count": 98
           },
           {
            "name": "30 others",
            "count": 2734
           }
          ]
         }
        },
        {
         "name": "score_home",
         "dtype": "float64",
         "stats": {
          "unique_count": 57,
          "nan_count": 0,
          "min": "0.0",
          "max": "62.0",
          "histogram": [
           {
            "bin_start": 0,
            "bin_end": 6.2,
            "count": 117
           },
           {
            "bin_start": 6.2,
            "bin_end": 12.4,
            "count": 239
           },
           {
            "bin_start": 12.4,
            "bin_end": 18.6,
            "count": 528
           },
           {
            "bin_start": 18.6,
            "bin_end": 24.8,
            "count": 761
           },
           {
            "bin_start": 24.8,
            "bin_end": 31,
            "count": 538
           },
           {
            "bin_start": 31,
            "bin_end": 37.2,
            "count": 454
           },
           {
            "bin_start": 37.2,
            "bin_end": 43.4,
            "count": 191
           },
           {
            "bin_start": 43.4,
            "bin_end": 49.6,
            "count": 81
           },
           {
            "bin_start": 49.6,
            "bin_end": 55.800000000000004,
            "count": 24
           },
           {
            "bin_start": 55.800000000000004,
            "bin_end": 62,
            "count": 6
           }
          ]
         }
        },
        {
         "name": "score_away",
         "dtype": "float64",
         "stats": {
          "unique_count": 54,
          "nan_count": 0,
          "min": "0.0",
          "max": "59.0",
          "histogram": [
           {
            "bin_start": 0,
            "bin_end": 5.9,
            "count": 96
           },
           {
            "bin_start": 5.9,
            "bin_end": 11.8,
            "count": 351
           },
           {
            "bin_start": 11.8,
            "bin_end": 17.700000000000003,
            "count": 644
           },
           {
            "bin_start": 17.700000000000003,
            "bin_end": 23.6,
            "count": 604
           },
           {
            "bin_start": 23.6,
            "bin_end": 29.5,
            "count": 579
           },
           {
            "bin_start": 29.5,
            "bin_end": 35.400000000000006,
            "count": 406
           },
           {
            "bin_start": 35.400000000000006,
            "bin_end": 41.300000000000004,
            "count": 176
           },
           {
            "bin_start": 41.300000000000004,
            "bin_end": 47.2,
            "count": 56
           },
           {
            "bin_start": 47.2,
            "bin_end": 53.1,
            "count": 22
           },
           {
            "bin_start": 53.1,
            "bin_end": 59,
            "count": 5
           }
          ]
         }
        },
        {
         "name": "team_away",
         "dtype": "object",
         "stats": {
          "unique_count": 32,
          "nan_count": 0,
          "categories": [
           {
            "name": "SEA",
            "count": 99
           },
           {
            "name": "GB",
            "count": 98
           },
           {
            "name": "30 others",
            "count": 2742
           }
          ]
         }
        },
        {
         "name": "team_favorite_id",
         "dtype": "object",
         "stats": {
          "unique_count": 33,
          "nan_count": 0,
          "categories": [
           {
            "name": "NE",
            "count": 173
           },
           {
            "name": "GB",
            "count": 142
           },
           {
            "name": "31 others",
            "count": 2624
           }
          ]
         }
        },
        {
         "name": "spread_favorite",
         "dtype": "float64",
         "stats": {
          "unique_count": 41,
          "nan_count": 0,
          "min": "-26.5",
          "max": "0.0",
          "histogram": [
           {
            "bin_start": -26.5,
            "bin_end": -23.85,
            "count": 1
           },
           {
            "bin_start": -23.85,
            "bin_end": -21.2,
            "count": 1
           },
           {
            "bin_start": -21.2,
            "bin_end": -18.55,
            "count": 4
           },
           {
            "bin_start": -18.55,
            "bin_end": -15.9,
            "count": 25
           },
           {
            "bin_start": -15.9,
            "bin_end": -13.25,
            "count": 78
           },
           {
            "bin_start": -13.25,
            "bin_end": -10.600000000000001,
            "count": 98
           },
           {
            "bin_start": -10.600000000000001,
            "bin_end": -7.949999999999999,
            "count": 322
           },
           {
            "bin_start": -7.949999999999999,
            "bin_end": -5.300000000000001,
            "count": 740
           },
           {
            "bin_start": -5.300000000000001,
            "bin_end": -2.650000000000002,
            "count": 1068
           },
           {
            "bin_start": -2.650000000000002,
            "bin_end": 0,
            "count": 602
           }
          ]
         }
        },
        {
         "name": "over_under_line",
         "dtype": "float64",
         "stats": {
          "unique_count": 57,
          "nan_count": 0,
          "min": "33.0",
          "max": "63.5",
          "histogram": [
           {
            "bin_start": 33,
            "bin_end": 36.05,
            "count": 23
           },
           {
            "bin_start": 36.05,
            "bin_end": 39.1,
            "count": 207
           },
           {
            "bin_start": 39.1,
            "bin_end": 42.15,
            "count": 502
           },
           {
            "bin_start": 42.15,
            "bin_end": 45.2,
            "count": 822
           },
           {
            "bin_start": 45.2,
            "bin_end": 48.25,
            "count": 687
           },
           {
            "bin_start": 48.25,
            "bin_end": 51.3,
            "count": 407
           },
           {
            "bin_start": 51.3,
            "bin_end": 54.349999999999994,
            "count": 190
           },
           {
            "bin_start": 54.349999999999994,
            "bin_end": 57.4,
            "count": 87
           },
           {
            "bin_start": 57.4,
            "bin_end": 60.45,
            "count": 12
           },
           {
            "bin_start": 60.45,
            "bin_end": 63.5,
            "count": 2
           }
          ]
         }
        },
        {
         "name": "stadium_neutral",
         "dtype": "object",
         "stats": {
          "unique_count": 2,
          "nan_count": 0,
          "categories": [
           {
            "name": "False",
            "count": 2895
           },
           {
            "name": "True",
            "count": 44
           }
          ]
         }
        },
        {
         "name": "intra_division",
         "dtype": "bool",
         "stats": {
          "unique_count": 2,
          "nan_count": 0,
          "categories": [
           {
            "name": "False",
            "count": 1870
           },
           {
            "name": "True",
            "count": 1069
           }
          ]
         }
        },
        {
         "name": "_deepnote_index_column",
         "dtype": "int64"
        }
       ],
       "rows_top": [
        {
         "schedule_date": "9/9/2010",
         "schedule_season": 2010,
         "schedule_week": "1",
         "schedule_playoff": "False",
         "team_home": "NO",
         "score_home": 14,
         "score_away": 9,
         "team_away": "MIN",
         "team_favorite_id": "NO",
         "spread_favorite": -5,
         "over_under_line": 49.5,
         "stadium_neutral": "False",
         "intra_division": "False",
         "_deepnote_index_column": 7507
        },
        {
         "schedule_date": "9/12/2010",
         "schedule_season": 2010,
         "schedule_week": "1",
         "schedule_playoff": "False",
         "team_home": "BUF",
         "score_home": 10,
         "score_away": 15,
         "team_away": "MIA",
         "team_favorite_id": "MIA",
         "spread_favorite": -3,
         "over_under_line": 39,
         "stadium_neutral": "False",
         "intra_division": "True",
         "_deepnote_index_column": 7508
        },
        {
         "schedule_date": "9/12/2010",
         "schedule_season": 2010,
         "schedule_week": "1",
         "schedule_playoff": "False",
         "team_home": "CHI",
         "score_home": 19,
         "score_away": 14,
         "team_away": "DET",
         "team_favorite_id": "CHI",
         "spread_favorite": -6.5,
         "over_under_line": 45,
         "stadium_neutral": "False",
         "intra_division": "True",
         "_deepnote_index_column": 7509
        },
        {
         "schedule_date": "9/12/2010",
         "schedule_season": 2010,
         "schedule_week": "1",
         "schedule_playoff": "False",
         "team_home": "HOU",
         "score_home": 34,
         "score_away": 24,
         "team_away": "IND",
         "team_favorite_id": "IND",
         "spread_favorite": -1,
         "over_under_line": 48,
         "stadium_neutral": "False",
         "intra_division": "True",
         "_deepnote_index_column": 7510
        },
        {
         "schedule_date": "9/12/2010",
         "schedule_season": 2010,
         "schedule_week": "1",
         "schedule_playoff": "False",
         "team_home": "JAX",
         "score_home": 24,
         "score_away": 17,
         "team_away": "DEN",
         "team_favorite_id": "JAX",
         "spread_favorite": -3,
         "over_under_line": 41.5,
         "stadium_neutral": "False",
         "intra_division": "False",
         "_deepnote_index_column": 7511
        },
        {
         "schedule_date": "9/12/2010",
         "schedule_season": 2010,
         "schedule_week": "1",
         "schedule_playoff": "False",
         "team_home": "NE",
         "score_home": 38,
         "score_away": 24,
         "team_away": "CIN",
         "team_favorite_id": "NE",
         "spread_favorite": -5.5,
         "over_under_line": 45,
         "stadium_neutral": "False",
         "intra_division": "False",
         "_deepnote_index_column": 7512
        },
        {
         "schedule_date": "9/12/2010",
         "schedule_season": 2010,
         "schedule_week": "1",
         "schedule_playoff": "False",
         "team_home": "NYG",
         "score_home": 31,
         "score_away": 18,
         "team_away": "CAR",
         "team_favorite_id": "NYG",
         "spread_favorite": -6,
         "over_under_line": 41,
         "stadium_neutral": "False",
         "intra_division": "False",
         "_deepnote_index_column": 7513
        },
        {
         "schedule_date": "9/12/2010",
         "schedule_season": 2010,
         "schedule_week": "1",
         "schedule_playoff": "False",
         "team_home": "PHI",
         "score_home": 20,
         "score_away": 27,
         "team_away": "GB",
         "team_favorite_id": "GB",
         "spread_favorite": -3,
         "over_under_line": 48,
         "stadium_neutral": "False",
         "intra_division": "False",
         "_deepnote_index_column": 7514
        },
        {
         "schedule_date": "9/12/2010",
         "schedule_season": 2010,
         "schedule_week": "1",
         "schedule_playoff": "False",
         "team_home": "PIT",
         "score_home": 15,
         "score_away": 9,
         "team_away": "ATL",
         "team_favorite_id": "ATL",
         "spread_favorite": -1.5,
         "over_under_line": 39.5,
         "stadium_neutral": "False",
         "intra_division": "False",
         "_deepnote_index_column": 7515
        },
        {
         "schedule_date": "9/12/2010",
         "schedule_season": 2010,
         "schedule_week": "1",
         "schedule_playoff": "False",
         "team_home": "SEA",
         "score_home": 31,
         "score_away": 6,
         "team_away": "SF",
         "team_favorite_id": "SF",
         "spread_favorite": -3,
         "over_under_line": 37,
         "stadium_neutral": "False",
         "intra_division": "True",
         "_deepnote_index_column": 7516
        },
        {
         "schedule_date": "9/12/2010",
         "schedule_season": 2010,
         "schedule_week": "1",
         "schedule_playoff": "False",
         "team_home": "LAR",
         "score_home": 13,
         "score_away": 17,
         "team_away": "ARI",
         "team_favorite_id": "ARI",
         "spread_favorite": -3,
         "over_under_line": 39.5,
         "stadium_neutral": "False",
         "intra_division": "True",
         "_deepnote_index_column": 7517
        },
        {
         "schedule_date": "9/12/2010",
         "schedule_season": 2010,
         "schedule_week": "1",
         "schedule_playoff": "False",
         "team_home": "TB",
         "score_home": 17,
         "score_away": 14,
         "team_away": "CLE",
         "team_favorite_id": "TB",
         "spread_favorite": -2.5,
         "over_under_line": 37,
         "stadium_neutral": "False",
         "intra_division": "False",
         "_deepnote_index_column": 7518
        },
        {
         "schedule_date": "9/12/2010",
         "schedule_season": 2010,
         "schedule_week": "1",
         "schedule_playoff": "False",
         "team_home": "TEN",
         "score_home": 38,
         "score_away": 13,
         "team_away": "LVR",
         "team_favorite_id": "TEN",
         "spread_favorite": -6.5,
         "over_under_line": 40,
         "stadium_neutral": "False",
         "intra_division": "False",
         "_deepnote_index_column": 7519
        },
        {
         "schedule_date": "9/12/2010",
         "schedule_season": 2010,
         "schedule_week": "1",
         "schedule_playoff": "False",
         "team_home": "WAS",
         "score_home": 13,
         "score_away": 7,
         "team_away": "DAL",
         "team_favorite_id": "DAL",
         "spread_favorite": -3,
         "over_under_line": 40,
         "stadium_neutral": "False",
         "intra_division": "True",
         "_deepnote_index_column": 7520
        },
        {
         "schedule_date": "9/13/2010",
         "schedule_season": 2010,
         "schedule_week": "1",
         "schedule_playoff": "False",
         "team_home": "KC",
         "score_home": 21,
         "score_away": 14,
         "team_away": "LAC",
         "team_favorite_id": "LAC",
         "spread_favorite": -4,
         "over_under_line": 45.5,
         "stadium_neutral": "False",
         "intra_division": "True",
         "_deepnote_index_column": 7521
        },
        {
         "schedule_date": "9/13/2010",
         "schedule_season": 2010,
         "schedule_week": "1",
         "schedule_playoff": "False",
         "team_home": "NYJ",
         "score_home": 9,
         "score_away": 10,
         "team_away": "BAL",
         "team_favorite_id": "NYJ",
         "spread_favorite": -1,
         "over_under_line": 36.5,
         "stadium_neutral": "False",
         "intra_division": "False",
         "_deepnote_index_column": 7522
        },
        {
         "schedule_date": "9/19/2010",
         "schedule_season": 2010,
         "schedule_week": "2",
         "schedule_playoff": "False",
         "team_home": "ATL",
         "score_home": 41,
         "score_away": 7,
         "team_away": "ARI",
         "team_favorite_id": "ATL",
         "spread_favorite": -7,
         "over_under_line": 43.5,
         "stadium_neutral": "False",
         "intra_division": "False",
         "_deepnote_index_column": 7523
        },
        {
         "schedule_date": "9/19/2010",
         "schedule_season": 2010,
         "schedule_week": "2",
         "schedule_playoff": "False",
         "team_home": "CAR",
         "score_home": 7,
         "score_away": 20,
         "team_away": "TB",
         "team_favorite_id": "CAR",
         "spread_favorite": -4,
         "over_under_line": 37.5,
         "stadium_neutral": "False",
         "intra_division": "True",
         "_deepnote_index_column": 7524
        },
        {
         "schedule_date": "9/19/2010",
         "schedule_season": 2010,
         "schedule_week": "2",
         "schedule_playoff": "False",
         "team_home": "CIN",
         "score_home": 15,
         "score_away": 10,
         "team_away": "BAL",
         "team_favorite_id": "BAL",
         "spread_favorite": -3,
         "over_under_line": 39.5,
         "stadium_neutral": "False",
         "intra_division": "True",
         "_deepnote_index_column": 7525
        },
        {
         "schedule_date": "9/19/2010",
         "schedule_season": 2010,
         "schedule_week": "2",
         "schedule_playoff": "False",
         "team_home": "CLE",
         "score_home": 14,
         "score_away": 16,
         "team_away": "KC",
         "team_favorite_id": "CLE",
         "spread_favorite": -3,
         "over_under_line": 38,
         "stadium_neutral": "False",
         "intra_division": "False",
         "_deepnote_index_column": 7526
        },
        {
         "schedule_date": "9/19/2010",
         "schedule_season": 2010,
         "schedule_week": "2",
         "schedule_playoff": "False",
         "team_home": "DAL",
         "score_home": 20,
         "score_away": 27,
         "team_away": "CHI",
         "team_favorite_id": "DAL",
         "spread_favorite": -7,
         "over_under_line": 41.5,
         "stadium_neutral": "False",
         "intra_division": "False",
         "_deepnote_index_column": 7527
        },
        {
         "schedule_date": "9/19/2010",
         "schedule_season": 2010,
         "schedule_week": "2",
         "schedule_playoff": "False",
         "team_home": "DEN",
         "score_home": 31,
         "score_away": 14,
         "team_away": "SEA",
         "team_favorite_id": "DEN",
         "spread_favorite": -3.5,
         "over_under_line": 41,
         "stadium_neutral": "False",
         "intra_division": "False",
         "_deepnote_index_column": 7528
        },
        {
         "schedule_date": "9/19/2010",
         "schedule_season": 2010,
         "schedule_week": "2",
         "schedule_playoff": "False",
         "team_home": "DET",
         "score_home": 32,
         "score_away": 35,
         "team_away": "PHI",
         "team_favorite_id": "PHI",
         "spread_favorite": -6.5,
         "over_under_line": 41,
         "stadium_neutral": "False",
         "intra_division": "False",
         "_deepnote_index_column": 7529
        },
        {
         "schedule_date": "9/19/2010",
         "schedule_season": 2010,
         "schedule_week": "2",
         "schedule_playoff": "False",
         "team_home": "GB",
         "score_home": 34,
         "score_away": 7,
         "team_away": "BUF",
         "team_favorite_id": "GB",
         "spread_favorite": -13,
         "over_under_line": 43,
         "stadium_neutral": "False",
         "intra_division": "False",
         "_deepnote_index_column": 7530
        },
        {
         "schedule_date": "9/19/2010",
         "schedule_season": 2010,
         "schedule_week": "2",
         "schedule_playoff": "False",
         "team_home": "IND",
         "score_home": 38,
         "score_away": 14,
         "team_away": "NYG",
         "team_favorite_id": "IND",
         "spread_favorite": -4,
         "over_under_line": 48.5,
         "stadium_neutral": "False",
         "intra_division": "False",
         "_deepnote_index_column": 7531
        },
        {
         "schedule_date": "9/19/2010",
         "schedule_season": 2010,
         "schedule_week": "2",
         "schedule_playoff": "False",
         "team_home": "MIN",
         "score_home": 10,
         "score_away": 14,
         "team_away": "MIA",
         "team_favorite_id": "MIN",
         "spread_favorite": -6,
         "over_under_line": 41,
         "stadium_neutral": "False",
         "intra_division": "False",
         "_deepnote_index_column": 7532
        },
        {
         "schedule_date": "9/19/2010",
         "schedule_season": 2010,
         "schedule_week": "2",
         "schedule_playoff": "False",
         "team_home": "NYJ",
         "score_home": 28,
         "score_away": 14,
         "team_away": "NE",
         "team_favorite_id": "NE",
         "spread_favorite": -3,
         "over_under_line": 39.5,
         "stadium_neutral": "False",
         "intra_division": "True",
         "_deepnote_index_column": 7533
        },
        {
         "schedule_date": "9/19/2010",
         "schedule_season": 2010,
         "schedule_week": "2",
         "schedule_playoff": "False",
         "team_home": "LVR",
         "score_home": 16,
         "score_away": 14,
         "team_away": "LAR",
         "team_favorite_id": "LVR",
         "spread_favorite": -3,
         "over_under_line": 37.5,
         "stadium_neutral": "False",
         "intra_division": "False",
         "_deepnote_index_column": 7534
        },
        {
         "schedule_date": "9/19/2010",
         "schedule_season": 2010,
         "schedule_week": "2",
         "schedule_playoff": "False",
         "team_home": "LAC",
         "score_home": 38,
         "score_away": 13,
         "team_away": "JAX",
         "team_favorite_id": "LAC",
         "spread_favorite": -7,
         "over_under_line": 45,
         "stadium_neutral": "False",
         "intra_division": "False",
         "_deepnote_index_column": 7535
        },
        {
         "schedule_date": "9/19/2010",
         "schedule_season": 2010,
         "schedule_week": "2",
         "schedule_playoff": "False",
         "team_home": "TEN",
         "score_home": 11,
         "score_away": 19,
         "team_away": "PIT",
         "team_favorite_id": "TEN",
         "spread_favorite": -6,
         "over_under_line": 37,
         "stadium_neutral": "False",
         "intra_division": "False",
         "_deepnote_index_column": 7536
        },
        {
         "schedule_date": "9/19/2010",
         "schedule_season": 2010,
         "schedule_week": "2",
         "schedule_playoff": "False",
         "team_home": "WAS",
         "score_home": 27,
         "score_away": 30,
         "team_away": "HOU",
         "team_favorite_id": "HOU",
         "spread_favorite": -3,
         "over_under_line": 42.5,
         "stadium_neutral": "False",
         "intra_division": "False",
         "_deepnote_index_column": 7537
        },
        {
         "schedule_date": "9/20/2010",
         "schedule_season": 2010,
         "schedule_week": "2",
         "schedule_playoff": "False",
         "team_home": "SF",
         "score_home": 22,
         "score_away": 25,
         "team_away": "NO",
         "team_favorite_id": "NO",
         "spread_favorite": -5,
         "over_under_line": 43.5,
         "stadium_neutral": "False",
         "intra_division": "False",
         "_deepnote_index_column": 7538
        },
        {
         "schedule_date": "9/26/2010",
         "schedule_season": 2010,
         "schedule_week": "3",
         "schedule_playoff": "False",
         "team_home": "ARI",
         "score_home": 24,
         "score_away": 23,
         "team_away": "LVR",
         "team_favorite_id": "ARI",
         "spread_favorite": -5.5,
         "over_under_line": 39,
         "stadium_neutral": "False",
         "intra_division": "False",
         "_deepnote_index_column": 7539
        },
        {
         "schedule_date": "9/26/2010",
         "schedule_season": 2010,
         "schedule_week": "3",
         "schedule_playoff": "False",
         "team_home": "BAL",
         "score_home": 24,
         "score_away": 17,
         "team_away": "CLE",
         "team_favorite_id": "BAL",
         "spread_favorite": -12.5,
         "over_under_line": 36.5,
         "stadium_neutral": "False",
         "intra_division": "True",
         "_deepnote_index_column": 7540
        },
        {
         "schedule_date": "9/26/2010",
         "schedule_season": 2010,
         "schedule_week": "3",
         "schedule_playoff": "False",
         "team_home": "CAR",
         "score_home": 7,
         "score_away": 20,
         "team_away": "CIN",
         "team_favorite_id": "CIN",
         "spread_favorite": -3.5,
         "over_under_line": 37,
         "stadium_neutral": "False",
         "intra_division": "False",
         "_deepnote_index_column": 7541
        },
        {
         "schedule_date": "9/26/2010",
         "schedule_season": 2010,
         "schedule_week": "3",
         "schedule_playoff": "False",
         "team_home": "DEN",
         "score_home": 13,
         "score_away": 27,
         "team_away": "IND",
         "team_favorite_id": "IND",
         "spread_favorite": -6,
         "over_under_line": 47,
         "stadium_neutral": "False",
         "intra_division": "False",
         "_deepnote_index_column": 7542
        },
        {
         "schedule_date": "9/26/2010",
         "schedule_season": 2010,
         "schedule_week": "3",
         "schedule_playoff": "False",
         "team_home": "HOU",
         "score_home": 13,
         "score_away": 27,
         "team_away": "DAL",
         "team_favorite_id": "HOU",
         "spread_favorite": -2.5,
         "over_under_line": 47.5,
         "stadium_neutral": "False",
         "intra_division": "False",
         "_deepnote_index_column": 7543
        },
        {
         "schedule_date": "9/26/2010",
         "schedule_season": 2010,
         "schedule_week": "3",
         "schedule_playoff": "False",
         "team_home": "JAX",
         "score_home": 3,
         "score_away": 28,
         "team_away": "PHI",
         "team_favorite_id": "PHI",
         "spread_favorite": -3,
         "over_under_line": 45,
         "stadium_neutral": "False",
         "intra_division": "False",
         "_deepnote_index_column": 7544
        }
       ],
       "rows_bottom": [
        {
         "schedule_date": "12/27/2020",
         "schedule_season": 2020,
         "schedule_week": "16",
         "schedule_playoff": "False",
         "team_home": "HOU",
         "score_home": 31,
         "score_away": 37,
         "team_away": "CIN",
         "team_favorite_id": "HOU",
         "spread_favorite": -7.5,
         "over_under_line": 46,
         "stadium_neutral": "False",
         "intra_division": "False",
         "_deepnote_index_column": 10408
        },
        {
         "schedule_date": "12/27/2020",
         "schedule_season": 2020,
         "schedule_week": "16",
         "schedule_playoff": "False",
         "team_home": "JAX",
         "score_home": 17,
         "score_away": 41,
         "team_away": "CHI",
         "team_favorite_id": "CHI",
         "spread_favorite": -9.5,
         "over_under_line": 47,
         "stadium_neutral": "False",
         "intra_division": "False",
         "_deepnote_index_column": 10409
        },
        {
         "schedule_date": "12/27/2020",
         "schedule_season": 2020,
         "schedule_week": "16",
         "schedule_playoff": "False",
         "team_home": "KC",
         "score_home": 17,
         "score_away": 14,
         "team_away": "ATL",
         "team_favorite_id": "KC",
         "spread_favorite": -11,
         "over_under_line": 54,
         "stadium_neutral": "False",
         "intra_division": "False",
         "_deepnote_index_column": 10410
        },
        {
         "schedule_date": "12/27/2020",
         "schedule_season": 2020,
         "schedule_week": "16",
         "schedule_playoff": "False",
         "team_home": "LAC",
         "score_home": 19,
         "score_away": 16,
         "team_away": "DEN",
         "team_favorite_id": "LAC",
         "spread_favorite": -2,
         "over_under_line": 47.5,
         "stadium_neutral": "False",
         "intra_division": "True",
         "_deepnote_index_column": 10411
        },
        {
         "schedule_date": "12/27/2020",
         "schedule_season": 2020,
         "schedule_week": "16",
         "schedule_playoff": "False",
         "team_home": "NYJ",
         "score_home": 23,
         "score_away": 16,
         "team_away": "CLE",
         "team_favorite_id": "CLE",
         "spread_favorite": -6.5,
         "over_under_line": 45,
         "stadium_neutral": "False",
         "intra_division": "False",
         "_deepnote_index_column": 10412
        },
        {
         "schedule_date": "12/27/2020",
         "schedule_season": 2020,
         "schedule_week": "16",
         "schedule_playoff": "False",
         "team_home": "PIT",
         "score_home": 28,
         "score_away": 24,
         "team_away": "IND",
         "team_favorite_id": "IND",
         "spread_favorite": -1,
         "over_under_line": 42.5,
         "stadium_neutral": "False",
         "intra_division": "False",
         "_deepnote_index_column": 10413
        },
        {
         "schedule_date": "12/27/2020",
         "schedule_season": 2020,
         "schedule_week": "16",
         "schedule_playoff": "False",
         "team_home": "SEA",
         "score_home": 20,
         "score_away": 9,
         "team_away": "LAR",
         "team_favorite_id": "SEA",
         "spread_favorite": -1.5,
         "over_under_line": 48,
         "stadium_neutral": "False",
         "intra_division": "True",
         "_deepnote_index_column": 10414
        },
        {
         "schedule_date": "12/27/2020",
         "schedule_season": 2020,
         "schedule_week": "16",
         "schedule_playoff": "False",
         "team_home": "WAS",
         "score_home": 13,
         "score_away": 20,
         "team_away": "CAR",
         "team_favorite_id": "CAR",
         "spread_favorite": -1,
         "over_under_line": 42,
         "stadium_neutral": "False",
         "intra_division": "False",
         "_deepnote_index_column": 10415
        },
        {
         "schedule_date": "12/28/2020",
         "schedule_season": 2020,
         "schedule_week": "16",
         "schedule_playoff": "False",
         "team_home": "NE",
         "score_home": 9,
         "score_away": 38,
         "team_away": "BUF",
         "team_favorite_id": "BUF",
         "spread_favorite": -7,
         "over_under_line": 47,
         "stadium_neutral": "False",
         "intra_division": "True",
         "_deepnote_index_column": 10416
        },
        {
         "schedule_date": "1/3/2021",
         "schedule_season": 2020,
         "schedule_week": "17",
         "schedule_playoff": "False",
         "team_home": "BUF",
         "score_home": 56,
         "score_away": 26,
         "team_away": "MIA",
         "team_favorite_id": "MIA",
         "spread_favorite": -3,
         "over_under_line": 42.5,
         "stadium_neutral": "False",
         "intra_division": "True",
         "_deepnote_index_column": 10417
        },
        {
         "schedule_date": "1/3/2021",
         "schedule_season": 2020,
         "schedule_week": "17",
         "schedule_playoff": "False",
         "team_home": "CAR",
         "score_home": 7,
         "score_away": 33,
         "team_away": "NO",
         "team_favorite_id": "NO",
         "spread_favorite": -6,
         "over_under_line": 46.5,
         "stadium_neutral": "False",
         "intra_division": "True",
         "_deepnote_index_column": 10418
        },
        {
         "schedule_date": "1/3/2021",
         "schedule_season": 2020,
         "schedule_week": "17",
         "schedule_playoff": "False",
         "team_home": "CHI",
         "score_home": 16,
         "score_away": 35,
         "team_away": "GB",
         "team_favorite_id": "GB",
         "spread_favorite": -4.5,
         "over_under_line": 48.5,
         "stadium_neutral": "False",
         "intra_division": "True",
         "_deepnote_index_column": 10419
        },
        {
         "schedule_date": "1/3/2021",
         "schedule_season": 2020,
         "schedule_week": "17",
         "schedule_playoff": "False",
         "team_home": "CIN",
         "score_home": 3,
         "score_away": 38,
         "team_away": "BAL",
         "team_favorite_id": "BAL",
         "spread_favorite": -13.5,
         "over_under_line": 45,
         "stadium_neutral": "False",
         "intra_division": "True",
         "_deepnote_index_column": 10420
        },
        {
         "schedule_date": "1/3/2021",
         "schedule_season": 2020,
         "schedule_week": "17",
         "schedule_playoff": "False",
         "team_home": "CLE",
         "score_home": 24,
         "score_away": 22,
         "team_away": "PIT",
         "team_favorite_id": "CLE",
         "spread_favorite": -10.5,
         "over_under_line": 44.5,
         "stadium_neutral": "False",
         "intra_division": "True",
         "_deepnote_index_column": 10421
        },
        {
         "schedule_date": "1/3/2021",
         "schedule_season": 2020,
         "schedule_week": "17",
         "schedule_playoff": "False",
         "team_home": "DEN",
         "score_home": 31,
         "score_away": 32,
         "team_away": "LVR",
         "team_favorite_id": "LVR",
         "spread_favorite": -2.5,
         "over_under_line": 50.5,
         "stadium_neutral": "False",
         "intra_division": "True",
         "_deepnote_index_column": 10422
        },
        {
         "schedule_date": "1/3/2021",
         "schedule_season": 2020,
         "schedule_week": "17",
         "schedule_playoff": "False",
         "team_home": "DET",
         "score_home": 35,
         "score_away": 37,
         "team_away": "MIN",
         "team_favorite_id": "MIN",
         "spread_favorite": -3,
         "over_under_line": 53.5,
         "stadium_neutral": "False",
         "intra_division": "True",
         "_deepnote_index_column": 10423
        },
        {
         "schedule_date": "1/3/2021",
         "schedule_season": 2020,
         "schedule_week": "17",
         "schedule_playoff": "False",
         "team_home": "HOU",
         "score_home": 38,
         "score_away": 41,
         "team_away": "TEN",
         "team_favorite_id": "TEN",
         "spread_favorite": -7,
         "over_under_line": 55.5,
         "stadium_neutral": "False",
         "intra_division": "True",
         "_deepnote_index_column": 10424
        },
        {
         "schedule_date": "1/3/2021",
         "schedule_season": 2020,
         "schedule_week": "17",
         "schedule_playoff": "False",
         "team_home": "IND",
         "score_home": 28,
         "score_away": 14,
         "team_away": "JAX",
         "team_favorite_id": "IND",
         "spread_favorite": -15.5,
         "over_under_line": 48,
         "stadium_neutral": "False",
         "intra_division": "True",
         "_deepnote_index_column": 10425
        },
        {
         "schedule_date": "1/3/2021",
         "schedule_season": 2020,
         "schedule_week": "17",
         "schedule_playoff": "False",
         "team_home": "KC",
         "score_home": 21,
         "score_away": 38,
         "team_away": "LAC",
         "team_favorite_id": "LAC",
         "spread_favorite": -6.5,
         "over_under_line": 43,
         "stadium_neutral": "False",
         "intra_division": "True",
         "_deepnote_index_column": 10426
        },
        {
         "schedule_date": "1/3/2021",
         "schedule_season": 2020,
         "schedule_week": "17",
         "schedule_playoff": "False",
         "team_home": "LAR",
         "score_home": 18,
         "score_away": 7,
         "team_away": "ARI",
         "team_favorite_id": "LAR",
         "spread_favorite": -1,
         "over_under_line": 42,
         "stadium_neutral": "False",
         "intra_division": "True",
         "_deepnote_index_column": 10427
        },
        {
         "schedule_date": "1/3/2021",
         "schedule_season": 2020,
         "schedule_week": "17",
         "schedule_playoff": "False",
         "team_home": "NE",
         "score_home": 28,
         "score_away": 14,
         "team_away": "NYJ",
         "team_favorite_id": "NE",
         "spread_favorite": -3,
         "over_under_line": 41,
         "stadium_neutral": "False",
         "intra_division": "True",
         "_deepnote_index_column": 10428
        },
        {
         "schedule_date": "1/3/2021",
         "schedule_season": 2020,
         "schedule_week": "17",
         "schedule_playoff": "False",
         "team_home": "NYG",
         "score_home": 23,
         "score_away": 19,
         "team_away": "DAL",
         "team_favorite_id": "DAL",
         "spread_favorite": -1.5,
         "over_under_line": 43.5,
         "stadium_neutral": "False",
         "intra_division": "True",
         "_deepnote_index_column": 10429
        },
        {
         "schedule_date": "1/3/2021",
         "schedule_season": 2020,
         "schedule_week": "17",
         "schedule_playoff": "False",
         "team_home": "PHI",
         "score_home": 14,
         "score_away": 20,
         "team_away": "WAS",
         "team_favorite_id": "WAS",
         "spread_favorite": -6.5,
         "over_under_line": 43.5,
         "stadium_neutral": "False",
         "intra_division": "True",
         "_deepnote_index_column": 10430
        },
        {
         "schedule_date": "1/3/2021",
         "schedule_season": 2020,
         "schedule_week": "17",
         "schedule_playoff": "False",
         "team_home": "SF",
         "score_home": 23,
         "score_away": 26,
         "team_away": "SEA",
         "team_favorite_id": "SEA",
         "spread_favorite": -7,
         "over_under_line": 45,
         "stadium_neutral": "False",
         "intra_division": "True",
         "_deepnote_index_column": 10431
        },
        {
         "schedule_date": "1/3/2021",
         "schedule_season": 2020,
         "schedule_week": "17",
         "schedule_playoff": "False",
         "team_home": "TB",
         "score_home": 44,
         "score_away": 27,
         "team_away": "ATL",
         "team_favorite_id": "TB",
         "spread_favorite": -7,
         "over_under_line": 51,
         "stadium_neutral": "False",
         "intra_division": "True",
         "_deepnote_index_column": 10432
        },
        {
         "schedule_date": "1/9/2021",
         "schedule_season": 2020,
         "schedule_week": "Wildcard",
         "schedule_playoff": "True",
         "team_home": "BUF",
         "score_home": 27,
         "score_away": 24,
         "team_away": "IND",
         "team_favorite_id": "BUF",
         "spread_favorite": -7,
         "over_under_line": 50.5,
         "stadium_neutral": "False",
         "intra_division": "False",
         "_deepnote_index_column": 10433
        },
        {
         "schedule_date": "1/9/2021",
         "schedule_season": 2020,
         "schedule_week": "Wildcard",
         "schedule_playoff": "True",
         "team_home": "SEA",
         "score_home": 20,
         "score_away": 30,
         "team_away": "LAR",
         "team_favorite_id": "SEA",
         "spread_favorite": -3,
         "over_under_line": 42.5,
         "stadium_neutral": "False",
         "intra_division": "True",
         "_deepnote_index_column": 10434
        },
        {
         "schedule_date": "1/9/2021",
         "schedule_season": 2020,
         "schedule_week": "Wildcard",
         "schedule_playoff": "True",
         "team_home": "WAS",
         "score_home": 23,
         "score_away": 31,
         "team_away": "TB",
         "team_favorite_id": "TB",
         "spread_favorite": -10,
         "over_under_line": 45,
         "stadium_neutral": "False",
         "intra_division": "False",
         "_deepnote_index_column": 10435
        },
        {
         "schedule_date": "1/10/2021",
         "schedule_season": 2020,
         "schedule_week": "Wildcard",
         "schedule_playoff": "True",
         "team_home": "NO",
         "score_home": 21,
         "score_away": 9,
         "team_away": "CHI",
         "team_favorite_id": "NO",
         "spread_favorite": -11,
         "over_under_line": 48,
         "stadium_neutral": "False",
         "intra_division": "False",
         "_deepnote_index_column": 10436
        },
        {
         "schedule_date": "1/10/2021",
         "schedule_season": 2020,
         "schedule_week": "Wildcard",
         "schedule_playoff": "True",
         "team_home": "PIT",
         "score_home": 37,
         "score_away": 48,
         "team_away": "CLE",
         "team_favorite_id": "PIT",
         "spread_favorite": -5.5,
         "over_under_line": 47.5,
         "stadium_neutral": "False",
         "intra_division": "True",
         "_deepnote_index_column": 10437
        },
        {
         "schedule_date": "1/10/2021",
         "schedule_season": 2020,
         "schedule_week": "Wildcard",
         "schedule_playoff": "True",
         "team_home": "TEN",
         "score_home": 13,
         "score_away": 20,
         "team_away": "BAL",
         "team_favorite_id": "BAL",
         "spread_favorite": -3.5,
         "over_under_line": 53.5,
         "stadium_neutral": "False",
         "intra_division": "False",
         "_deepnote_index_column": 10438
        },
        {
         "schedule_date": "1/16/2021",
         "schedule_season": 2020,
         "schedule_week": "Division",
         "schedule_playoff": "True",
         "team_home": "BUF",
         "score_home": 17,
         "score_away": 3,
         "team_away": "BAL",
         "team_favorite_id": "BUF",
         "spread_favorite": -2.5,
         "over_under_line": 49.5,
         "stadium_neutral": "False",
         "intra_division": "False",
         "_deepnote_index_column": 10439
        },
        {
         "schedule_date": "1/16/2021",
         "schedule_season": 2020,
         "schedule_week": "Division",
         "schedule_playoff": "True",
         "team_home": "GB",
         "score_home": 32,
         "score_away": 18,
         "team_away": "LAR",
         "team_favorite_id": "GB",
         "spread_favorite": -7,
         "over_under_line": 45,
         "stadium_neutral": "False",
         "intra_division": "False",
         "_deepnote_index_column": 10440
        },
        {
         "schedule_date": "1/17/2021",
         "schedule_season": 2020,
         "schedule_week": "Division",
         "schedule_playoff": "True",
         "team_home": "KC",
         "score_home": 22,
         "score_away": 17,
         "team_away": "CLE",
         "team_favorite_id": "KC",
         "spread_favorite": -8,
         "over_under_line": 56,
         "stadium_neutral": "False",
         "intra_division": "False",
         "_deepnote_index_column": 10441
        },
        {
         "schedule_date": "1/17/2021",
         "schedule_season": 2020,
         "schedule_week": "Division",
         "schedule_playoff": "True",
         "team_home": "NO",
         "score_home": 20,
         "score_away": 30,
         "team_away": "TB",
         "team_favorite_id": "NO",
         "spread_favorite": -2.5,
         "over_under_line": 53,
         "stadium_neutral": "False",
         "intra_division": "True",
         "_deepnote_index_column": 10442
        },
        {
         "schedule_date": "1/24/2021",
         "schedule_season": 2020,
         "schedule_week": "Conference",
         "schedule_playoff": "True",
         "team_home": "GB",
         "score_home": 26,
         "score_away": 31,
         "team_away": "TB",
         "team_favorite_id": "GB",
         "spread_favorite": -3,
         "over_under_line": 53,
         "stadium_neutral": "False",
         "intra_division": "False",
         "_deepnote_index_column": 10443
        },
        {
         "schedule_date": "1/24/2021",
         "schedule_season": 2020,
         "schedule_week": "Conference",
         "schedule_playoff": "True",
         "team_home": "KC",
         "score_home": 38,
         "score_away": 24,
         "team_away": "BUF",
         "team_favorite_id": "KC",
         "spread_favorite": -3,
         "over_under_line": 55,
         "stadium_neutral": "False",
         "intra_division": "False",
         "_deepnote_index_column": 10444
        },
        {
         "schedule_date": "2/7/2021",
         "schedule_season": 2020,
         "schedule_week": "Superbowl",
         "schedule_playoff": "True",
         "team_home": "TB",
         "score_home": 31,
         "score_away": 9,
         "team_away": "KC",
         "team_favorite_id": "KC",
         "spread_favorite": -3,
         "over_under_line": 54.5,
         "stadium_neutral": "False",
         "intra_division": "False",
         "_deepnote_index_column": 10445
        }
       ]
      },
      "text/plain": "      schedule_date  schedule_season schedule_week  schedule_playoff  \\\n7507       9/9/2010             2010             1             False   \n7508      9/12/2010             2010             1             False   \n7509      9/12/2010             2010             1             False   \n7510      9/12/2010             2010             1             False   \n7511      9/12/2010             2010             1             False   \n...             ...              ...           ...               ...   \n10441     1/17/2021             2020      Division              True   \n10442     1/17/2021             2020      Division              True   \n10443     1/24/2021             2020    Conference              True   \n10444     1/24/2021             2020    Conference              True   \n10445      2/7/2021             2020     Superbowl              True   \n\n      team_home  score_home  score_away team_away team_favorite_id  \\\n7507         NO        14.0         9.0       MIN               NO   \n7508        BUF        10.0        15.0       MIA              MIA   \n7509        CHI        19.0        14.0       DET              CHI   \n7510        HOU        34.0        24.0       IND              IND   \n7511        JAX        24.0        17.0       DEN              JAX   \n...         ...         ...         ...       ...              ...   \n10441        KC        22.0        17.0       CLE               KC   \n10442        NO        20.0        30.0        TB               NO   \n10443        GB        26.0        31.0        TB               GB   \n10444        KC        38.0        24.0       BUF               KC   \n10445        TB        31.0         9.0        KC               KC   \n\n       spread_favorite  over_under_line stadium_neutral  intra_division  \n7507              -5.0             49.5           False           False  \n7508              -3.0             39.0           False            True  \n7509              -6.5             45.0           False            True  \n7510              -1.0             48.0           False            True  \n7511              -3.0             41.5           False           False  \n...                ...              ...             ...             ...  \n10441             -8.0             56.0           False           False  \n10442             -2.5             53.0           False            True  \n10443             -3.0             53.0           False           False  \n10444             -3.0             55.0           False           False  \n10445             -3.0             54.5           False           False  \n\n[2939 rows x 13 columns]",
      "text/html": "<div>\n<style scoped>\n    .dataframe tbody tr th:only-of-type {\n        vertical-align: middle;\n    }\n\n    .dataframe tbody tr th {\n        vertical-align: top;\n    }\n\n    .dataframe thead th {\n        text-align: right;\n    }\n</style>\n<table border=\"1\" class=\"dataframe\">\n  <thead>\n    <tr style=\"text-align: right;\">\n      <th></th>\n      <th>schedule_date</th>\n      <th>schedule_season</th>\n      <th>schedule_week</th>\n      <th>schedule_playoff</th>\n      <th>team_home</th>\n      <th>score_home</th>\n      <th>score_away</th>\n      <th>team_away</th>\n      <th>team_favorite_id</th>\n      <th>spread_favorite</th>\n      <th>over_under_line</th>\n      <th>stadium_neutral</th>\n      <th>intra_division</th>\n    </tr>\n  </thead>\n  <tbody>\n    <tr>\n      <th>7507</th>\n      <td>9/9/2010</td>\n      <td>2010</td>\n      <td>1</td>\n      <td>False</td>\n      <td>NO</td>\n      <td>14.0</td>\n      <td>9.0</td>\n      <td>MIN</td>\n      <td>NO</td>\n      <td>-5.0</td>\n      <td>49.5</td>\n      <td>False</td>\n      <td>False</td>\n    </tr>\n    <tr>\n      <th>7508</th>\n      <td>9/12/2010</td>\n      <td>2010</td>\n      <td>1</td>\n      <td>False</td>\n      <td>BUF</td>\n      <td>10.0</td>\n      <td>15.0</td>\n      <td>MIA</td>\n      <td>MIA</td>\n      <td>-3.0</td>\n      <td>39.0</td>\n      <td>False</td>\n      <td>True</td>\n    </tr>\n    <tr>\n      <th>7509</th>\n      <td>9/12/2010</td>\n      <td>2010</td>\n      <td>1</td>\n      <td>False</td>\n      <td>CHI</td>\n      <td>19.0</td>\n      <td>14.0</td>\n      <td>DET</td>\n      <td>CHI</td>\n      <td>-6.5</td>\n      <td>45.0</td>\n      <td>False</td>\n      <td>True</td>\n    </tr>\n    <tr>\n      <th>7510</th>\n      <td>9/12/2010</td>\n      <td>2010</td>\n      <td>1</td>\n      <td>False</td>\n      <td>HOU</td>\n      <td>34.0</td>\n      <td>24.0</td>\n      <td>IND</td>\n      <td>IND</td>\n      <td>-1.0</td>\n      <td>48.0</td>\n      <td>False</td>\n      <td>True</td>\n    </tr>\n    <tr>\n      <th>7511</th>\n      <td>9/12/2010</td>\n      <td>2010</td>\n      <td>1</td>\n      <td>False</td>\n      <td>JAX</td>\n      <td>24.0</td>\n      <td>17.0</td>\n      <td>DEN</td>\n      <td>JAX</td>\n      <td>-3.0</td>\n      <td>41.5</td>\n      <td>False</td>\n      <td>False</td>\n    </tr>\n    <tr>\n      <th>...</th>\n      <td>...</td>\n      <td>...</td>\n      <td>...</td>\n      <td>...</td>\n      <td>...</td>\n      <td>...</td>\n      <td>...</td>\n      <td>...</td>\n      <td>...</td>\n      <td>...</td>\n      <td>...</td>\n      <td>...</td>\n      <td>...</td>\n    </tr>\n    <tr>\n      <th>10441</th>\n      <td>1/17/2021</td>\n      <td>2020</td>\n      <td>Division</td>\n      <td>True</td>\n      <td>KC</td>\n      <td>22.0</td>\n      <td>17.0</td>\n      <td>CLE</td>\n      <td>KC</td>\n      <td>-8.0</td>\n      <td>56.0</td>\n      <td>False</td>\n      <td>False</td>\n    </tr>\n    <tr>\n      <th>10442</th>\n      <td>1/17/2021</td>\n      <td>2020</td>\n      <td>Division</td>\n      <td>True</td>\n      <td>NO</td>\n      <td>20.0</td>\n      <td>30.0</td>\n      <td>TB</td>\n      <td>NO</td>\n      <td>-2.5</td>\n      <td>53.0</td>\n      <td>False</td>\n      <td>True</td>\n    </tr>\n    <tr>\n      <th>10443</th>\n      <td>1/24/2021</td>\n      <td>2020</td>\n      <td>Conference</td>\n      <td>True</td>\n      <td>GB</td>\n      <td>26.0</td>\n      <td>31.0</td>\n      <td>TB</td>\n      <td>GB</td>\n      <td>-3.0</td>\n      <td>53.0</td>\n      <td>False</td>\n      <td>False</td>\n    </tr>\n    <tr>\n      <th>10444</th>\n      <td>1/24/2021</td>\n      <td>2020</td>\n      <td>Conference</td>\n      <td>True</td>\n      <td>KC</td>\n      <td>38.0</td>\n      <td>24.0</td>\n      <td>BUF</td>\n      <td>KC</td>\n      <td>-3.0</td>\n      <td>55.0</td>\n      <td>False</td>\n      <td>False</td>\n    </tr>\n    <tr>\n      <th>10445</th>\n      <td>2/7/2021</td>\n      <td>2020</td>\n      <td>Superbowl</td>\n      <td>True</td>\n      <td>TB</td>\n      <td>31.0</td>\n      <td>9.0</td>\n      <td>KC</td>\n      <td>KC</td>\n      <td>-3.0</td>\n      <td>54.5</td>\n      <td>False</td>\n      <td>False</td>\n    </tr>\n  </tbody>\n</table>\n<p>2939 rows × 13 columns</p>\n</div>"
     },
     "metadata": {}
    }
   ]
  },
  {
   "cell_type": "code",
   "metadata": {
    "tags": [],
    "cell_id": "00006-cdfba250-8ce3-4619-8ef5-63e17d8ed6e4",
    "deepnote_to_be_reexecuted": false,
    "source_hash": "ca4b640e",
    "execution_start": 1632708215513,
    "execution_millis": 729,
    "deepnote_cell_type": "code"
   },
   "source": "# Create auxillary columns to make calculations easier\nglobal_df3 = global_df2\nglobal_df3['home_point_diff'] = global_df2.apply(lambda row: row.score_home - row.score_away, axis=1)\nglobal_df3['away_point_diff'] = global_df3.apply(lambda row: row.score_away - row.score_home, axis=1)\nglobal_df3['home_spread'] = global_df3.apply(lambda row: row.spread_favorite * -1 if row.team_favorite_id == row.team_away else row.spread_favorite, axis=1)\n\n# Loop, sorry pandas \nteam_to_games = {}\n\n# Get last one result\nfor index, row in global_df3.iterrows():\n\n    # Update the mapping\n    if row.team_home not in team_to_games:\n        team_to_games.update({row.team_home : deque([0,0,0])})\n\n    if row.team_away not in team_to_games:\n        team_to_games.update({row.team_away : deque([0,0,0])})\n\n    last_games = team_to_games.get(row.team_home)\n    home_last_3 = last_games[0] + last_games[1] + last_games[2]\n    home_last_1 = last_games[0]\n    last_games.pop()\n    last_games.appendleft(row.home_point_diff)\n\n    last_games = team_to_games.get(row.team_away)\n    away_last_3 = last_games[0] + last_games[1] + last_games[2]\n    away_last_1 = last_games[0]\n    last_games.pop()\n    last_games.appendleft(row.away_point_diff)\n\n    global_df3.at[index, 'home_last_3'] = home_last_3\n    global_df3.at[index, 'away_last_3'] = away_last_3\n    global_df3.at[index, 'home_last_1'] = home_last_1\n    global_df3.at[index, 'away_last_1'] = away_last_1\n\n    # Update the DF\n\n\nteam_to_games\n\n\n#global_df3['home_last_game_result'] = global_df3.groupby('')\n\n\n#global_df3\n#team_to_games.get(\"TB\")[0]\n\n\n",
   "execution_count": 5,
   "outputs": [
    {
     "output_type": "execute_result",
     "execution_count": 5,
     "data": {
      "text/plain": "{'NO': deque([-10.0, 12.0, 26.0]),\n 'MIN': deque([2.0, -19.0, -6.0]),\n 'BUF': deque([-14.0, 14.0, 3.0]),\n 'MIA': deque([-30.0, 1.0, 10.0]),\n 'CHI': deque([-12.0, -19.0, 24.0]),\n 'DET': deque([-2.0, -40.0, -21.0]),\n 'HOU': deque([-3.0, -6.0, -7.0]),\n 'IND': deque([-3.0, 14.0, -4.0]),\n 'JAX': deque([-14.0, -24.0, -26.0]),\n 'DEN': deque([-1.0, -3.0, -29.0]),\n 'NE': deque([14.0, -29.0, -10.0]),\n 'CIN': deque([-35.0, 6.0, 10.0]),\n 'NYG': deque([4.0, -14.0, -14.0]),\n 'CAR': deque([-26.0, 7.0, -8.0]),\n 'PHI': deque([-6.0, -20.0, -7.0]),\n 'GB': deque([-5.0, 14.0, 19.0]),\n 'PIT': deque([-11.0, -2.0, 4.0]),\n 'ATL': deque([-17.0, -3.0, -4.0]),\n 'SEA': deque([-10.0, 3.0, 11.0]),\n 'SF': deque([-3.0, 8.0, -8.0]),\n 'LAR': deque([-14.0, 10.0, 11.0]),\n 'ARI': deque([-11.0, -8.0, 7.0]),\n 'TB': deque([22.0, 5.0, 10.0]),\n 'CLE': deque([-5.0, 11.0, 2.0]),\n 'TEN': deque([-7.0, 3.0, -26.0]),\n 'LVR': deque([1.0, -1.0, -3.0]),\n 'WAS': deque([-8.0, 6.0, -7.0]),\n 'DAL': deque([-4.0, 20.0, 8.0]),\n 'KC': deque([-22.0, 14.0, 5.0]),\n 'LAC': deque([17.0, 3.0, 3.0]),\n 'NYJ': deque([-14.0, 7.0, 3.0]),\n 'BAL': deque([-14.0, 7.0, 35.0])}"
     },
     "metadata": {}
    }
   ]
  },
  {
   "cell_type": "code",
   "metadata": {
    "tags": [],
    "cell_id": "00007-41bf27cd-af26-49b0-9d6d-481d65f62390",
    "deepnote_to_be_reexecuted": false,
    "source_hash": "a268d41a",
    "execution_start": 1632708216239,
    "execution_millis": 137,
    "deepnote_cell_type": "code"
   },
   "source": "global_df3",
   "execution_count": 6,
   "outputs": [
    {
     "output_type": "execute_result",
     "execution_count": 6,
     "data": {
      "application/vnd.deepnote.dataframe.v2+json": {
       "row_count": 2939,
       "column_count": 20,
       "columns": [
        {
         "name": "schedule_date",
         "dtype": "object",
         "stats": {
          "unique_count": 601,
          "nan_count": 0,
          "categories": [
           {
            "name": "1/2/2011",
            "count": 16
           },
           {
            "name": "1/1/2012",
            "count": 16
           },
           {
            "name": "599 others",
            "count": 2907
           }
          ]
         }
        },
        {
         "name": "schedule_season",
         "dtype": "int64",
         "stats": {
          "unique_count": 11,
          "nan_count": 0,
          "min": "2010",
          "max": "2020",
          "histogram": [
           {
            "bin_start": 2010,
            "bin_end": 2011,
            "count": 267
           },
           {
            "bin_start": 2011,
            "bin_end": 2012,
            "count": 267
           },
           {
            "bin_start": 2012,
            "bin_end": 2013,
            "count": 267
           },
           {
            "bin_start": 2013,
            "bin_end": 2014,
            "count": 267
           },
           {
            "bin_start": 2014,
            "bin_end": 2015,
            "count": 267
           },
           {
            "bin_start": 2015,
            "bin_end": 2016,
            "count": 267
           },
           {
            "bin_start": 2016,
            "bin_end": 2017,
            "count": 267
           },
           {
            "bin_start": 2017,
            "bin_end": 2018,
            "count": 267
           },
           {
            "bin_start": 2018,
            "bin_end": 2019,
            "count": 267
           },
           {
            "bin_start": 2019,
            "bin_end": 2020,
            "count": 536
           }
          ]
         }
        },
        {
         "name": "schedule_week",
         "dtype": "object",
         "stats": {
          "unique_count": 23,
          "nan_count": 0,
          "categories": [
           {
            "name": "2",
            "count": 176
           },
           {
            "name": "3",
            "count": 176
           },
           {
            "name": "21 others",
            "count": 2587
           }
          ]
         }
        },
        {
         "name": "schedule_playoff",
         "dtype": "bool",
         "stats": {
          "unique_count": 2,
          "nan_count": 0,
          "categories": [
           {
            "name": "False",
            "count": 2816
           },
           {
            "name": "True",
            "count": 123
           }
          ]
         }
        },
        {
         "name": "team_home",
         "dtype": "object",
         "stats": {
          "unique_count": 32,
          "nan_count": 0,
          "categories": [
           {
            "name": "NE",
            "count": 107
           },
           {
            "name": "KC",
            "count": 98
           },
           {
            "name": "30 others",
            "count": 2734
           }
          ]
         }
        },
        {
         "name": "score_home",
         "dtype": "float64",
         "stats": {
          "unique_count": 57,
          "nan_count": 0,
          "min": "0.0",
          "max": "62.0",
          "histogram": [
           {
            "bin_start": 0,
            "bin_end": 6.2,
            "count": 117
           },
           {
            "bin_start": 6.2,
            "bin_end": 12.4,
            "count": 239
           },
           {
            "bin_start": 12.4,
            "bin_end": 18.6,
            "count": 528
           },
           {
            "bin_start": 18.6,
            "bin_end": 24.8,
            "count": 761
           },
           {
            "bin_start": 24.8,
            "bin_end": 31,
            "count": 538
           },
           {
            "bin_start": 31,
            "bin_end": 37.2,
            "count": 454
           },
           {
            "bin_start": 37.2,
            "bin_end": 43.4,
            "count": 191
           },
           {
            "bin_start": 43.4,
            "bin_end": 49.6,
            "count": 81
           },
           {
            "bin_start": 49.6,
            "bin_end": 55.800000000000004,
            "count": 24
           },
           {
            "bin_start": 55.800000000000004,
            "bin_end": 62,
            "count": 6
           }
          ]
         }
        },
        {
         "name": "score_away",
         "dtype": "float64",
         "stats": {
          "unique_count": 54,
          "nan_count": 0,
          "min": "0.0",
          "max": "59.0",
          "histogram": [
           {
            "bin_start": 0,
            "bin_end": 5.9,
            "count": 96
           },
           {
            "bin_start": 5.9,
            "bin_end": 11.8,
            "count": 351
           },
           {
            "bin_start": 11.8,
            "bin_end": 17.700000000000003,
            "count": 644
           },
           {
            "bin_start": 17.700000000000003,
            "bin_end": 23.6,
            "count": 604
           },
           {
            "bin_start": 23.6,
            "bin_end": 29.5,
            "count": 579
           },
           {
            "bin_start": 29.5,
            "bin_end": 35.400000000000006,
            "count": 406
           },
           {
            "bin_start": 35.400000000000006,
            "bin_end": 41.300000000000004,
            "count": 176
           },
           {
            "bin_start": 41.300000000000004,
            "bin_end": 47.2,
            "count": 56
           },
           {
            "bin_start": 47.2,
            "bin_end": 53.1,
            "count": 22
           },
           {
            "bin_start": 53.1,
            "bin_end": 59,
            "count": 5
           }
          ]
         }
        },
        {
         "name": "team_away",
         "dtype": "object",
         "stats": {
          "unique_count": 32,
          "nan_count": 0,
          "categories": [
           {
            "name": "SEA",
            "count": 99
           },
           {
            "name": "GB",
            "count": 98
           },
           {
            "name": "30 others",
            "count": 2742
           }
          ]
         }
        },
        {
         "name": "team_favorite_id",
         "dtype": "object",
         "stats": {
          "unique_count": 33,
          "nan_count": 0,
          "categories": [
           {
            "name": "NE",
            "count": 173
           },
           {
            "name": "GB",
            "count": 142
           },
           {
            "name": "31 others",
            "count": 2624
           }
          ]
         }
        },
        {
         "name": "spread_favorite",
         "dtype": "float64",
         "stats": {
          "unique_count": 41,
          "nan_count": 0,
          "min": "-26.5",
          "max": "0.0",
          "histogram": [
           {
            "bin_start": -26.5,
            "bin_end": -23.85,
            "count": 1
           },
           {
            "bin_start": -23.85,
            "bin_end": -21.2,
            "count": 1
           },
           {
            "bin_start": -21.2,
            "bin_end": -18.55,
            "count": 4
           },
           {
            "bin_start": -18.55,
            "bin_end": -15.9,
            "count": 25
           },
           {
            "bin_start": -15.9,
            "bin_end": -13.25,
            "count": 78
           },
           {
            "bin_start": -13.25,
            "bin_end": -10.600000000000001,
            "count": 98
           },
           {
            "bin_start": -10.600000000000001,
            "bin_end": -7.949999999999999,
            "count": 322
           },
           {
            "bin_start": -7.949999999999999,
            "bin_end": -5.300000000000001,
            "count": 740
           },
           {
            "bin_start": -5.300000000000001,
            "bin_end": -2.650000000000002,
            "count": 1068
           },
           {
            "bin_start": -2.650000000000002,
            "bin_end": 0,
            "count": 602
           }
          ]
         }
        },
        {
         "name": "over_under_line",
         "dtype": "float64",
         "stats": {
          "unique_count": 57,
          "nan_count": 0,
          "min": "33.0",
          "max": "63.5",
          "histogram": [
           {
            "bin_start": 33,
            "bin_end": 36.05,
            "count": 23
           },
           {
            "bin_start": 36.05,
            "bin_end": 39.1,
            "count": 207
           },
           {
            "bin_start": 39.1,
            "bin_end": 42.15,
            "count": 502
           },
           {
            "bin_start": 42.15,
            "bin_end": 45.2,
            "count": 822
           },
           {
            "bin_start": 45.2,
            "bin_end": 48.25,
            "count": 687
           },
           {
            "bin_start": 48.25,
            "bin_end": 51.3,
            "count": 407
           },
           {
            "bin_start": 51.3,
            "bin_end": 54.349999999999994,
            "count": 190
           },
           {
            "bin_start": 54.349999999999994,
            "bin_end": 57.4,
            "count": 87
           },
           {
            "bin_start": 57.4,
            "bin_end": 60.45,
            "count": 12
           },
           {
            "bin_start": 60.45,
            "bin_end": 63.5,
            "count": 2
           }
          ]
         }
        },
        {
         "name": "stadium_neutral",
         "dtype": "object",
         "stats": {
          "unique_count": 2,
          "nan_count": 0,
          "categories": [
           {
            "name": "False",
            "count": 2895
           },
           {
            "name": "True",
            "count": 44
           }
          ]
         }
        },
        {
         "name": "intra_division",
         "dtype": "bool",
         "stats": {
          "unique_count": 2,
          "nan_count": 0,
          "categories": [
           {
            "name": "False",
            "count": 1870
           },
           {
            "name": "True",
            "count": 1069
           }
          ]
         }
        },
        {
         "name": "home_point_diff",
         "dtype": "float64",
         "stats": {
          "unique_count": 91,
          "nan_count": 0,
          "min": "-49.0",
          "max": "58.0",
          "histogram": [
           {
            "bin_start": -49,
            "bin_end": -38.3,
            "count": 6
           },
           {
            "bin_start": -38.3,
            "bin_end": -27.6,
            "count": 76
           },
           {
            "bin_start": -27.6,
            "bin_end": -16.900000000000006,
            "count": 218
           },
           {
            "bin_start": -16.900000000000006,
            "bin_end": -6.200000000000003,
            "count": 457
           },
           {
            "bin_start": -6.200000000000003,
            "bin_end": 4.5,
            "count": 955
           },
           {
            "bin_start": 4.5,
            "bin_end": 15.199999999999989,
            "count": 722
           },
           {
            "bin_start": 15.199999999999989,
            "bin_end": 25.89999999999999,
            "count": 322
           },
           {
            "bin_start": 25.89999999999999,
            "bin_end": 36.599999999999994,
            "count": 149
           },
           {
            "bin_start": 36.599999999999994,
            "bin_end": 47.3,
            "count": 30
           },
           {
            "bin_start": 47.3,
            "bin_end": 58,
            "count": 4
           }
          ]
         }
        },
        {
         "name": "away_point_diff",
         "dtype": "float64",
         "stats": {
          "unique_count": 91,
          "nan_count": 0,
          "min": "-58.0",
          "max": "49.0",
          "histogram": [
           {
            "bin_start": -58,
            "bin_end": -47.3,
            "count": 4
           },
           {
            "bin_start": -47.3,
            "bin_end": -36.6,
            "count": 30
           },
           {
            "bin_start": -36.6,
            "bin_end": -25.900000000000006,
            "count": 149
           },
           {
            "bin_start": -25.900000000000006,
            "bin_end": -15.200000000000003,
            "count": 322
           },
           {
            "bin_start": -15.200000000000003,
            "bin_end": -4.5,
            "count": 722
           },
           {
            "bin_start": -4.5,
            "bin_end": 6.199999999999989,
            "count": 955
           },
           {
            "bin_start": 6.199999999999989,
            "bin_end": 16.89999999999999,
            "count": 457
           },
           {
            "bin_start": 16.89999999999999,
            "bin_end": 27.599999999999994,
            "count": 218
           },
           {
            "bin_start": 27.599999999999994,
            "bin_end": 38.3,
            "count": 76
           },
           {
            "bin_start": 38.3,
            "bin_end": 49,
            "count": 6
           }
          ]
         }
        },
        {
         "name": "home_spread",
         "dtype": "float64",
         "stats": {
          "unique_count": 71,
          "nan_count": 0,
          "min": "-26.5",
          "max": "18.0",
          "histogram": [
           {
            "bin_start": -26.5,
            "bin_end": -22.05,
            "count": 1
           },
           {
            "bin_start": -22.05,
            "bin_end": -17.6,
            "count": 5
           },
           {
            "bin_start": -17.6,
            "bin_end": -13.149999999999999,
            "count": 87
           },
           {
            "bin_start": -13.149999999999999,
            "bin_end": -8.7,
            "count": 266
           },
           {
            "bin_start": -8.7,
            "bin_end": -4.25,
            "count": 700
           },
           {
            "bin_start": -4.25,
            "bin_end": 0.20000000000000284,
            "count": 852
           },
           {
            "bin_start": 0.20000000000000284,
            "bin_end": 4.650000000000002,
            "count": 662
           },
           {
            "bin_start": 4.650000000000002,
            "bin_end": 9.100000000000001,
            "count": 290
           },
           {
            "bin_start": 9.100000000000001,
            "bin_end": 13.550000000000004,
            "count": 63
           },
           {
            "bin_start": 13.550000000000004,
            "bin_end": 18,
            "count": 13
           }
          ]
         }
        },
        {
         "name": "home_last_3",
         "dtype": "float64",
         "stats": {
          "unique_count": 164,
          "nan_count": 0,
          "min": "-117.0",
          "max": "120.0",
          "histogram": [
           {
            "bin_start": -117,
            "bin_end": -93.3,
            "count": 2
           },
           {
            "bin_start": -93.3,
            "bin_end": -69.6,
            "count": 13
           },
           {
            "bin_start": -69.6,
            "bin_end": -45.900000000000006,
            "count": 156
           },
           {
            "bin_start": -45.900000000000006,
            "bin_end": -22.200000000000003,
            "count": 454
           },
           {
            "bin_start": -22.200000000000003,
            "bin_end": 1.5,
            "count": 953
           },
           {
            "bin_start": 1.5,
            "bin_end": 25.19999999999999,
            "count": 855
           },
           {
            "bin_start": 25.19999999999999,
            "bin_end": 48.900000000000006,
            "count": 384
           },
           {
            "bin_start": 48.900000000000006,
            "bin_end": 72.6,
            "count": 102
           },
           {
            "bin_start": 72.6,
            "bin_end": 96.29999999999998,
            "count": 17
           },
           {
            "bin_start": 96.29999999999998,
            "bin_end": 120,
            "count": 3
           }
          ]
         }
        },
        {
         "name": "away_last_3",
         "dtype": "float64",
         "stats": {
          "unique_count": 162,
          "nan_count": 0,
          "min": "-117.0",
          "max": "93.0",
          "histogram": [
           {
            "bin_start": -117,
            "bin_end": -96,
            "count": 2
           },
           {
            "bin_start": -96,
            "bin_end": -75,
            "count": 9
           },
           {
            "bin_start": -75,
            "bin_end": -54,
            "count": 50
           },
           {
            "bin_start": -54,
            "bin_end": -33,
            "count": 251
           },
           {
            "bin_start": -33,
            "bin_end": -12,
            "count": 623
           },
           {
            "bin_start": -12,
            "bin_end": 9,
            "count": 848
           },
           {
            "bin_start": 9,
            "bin_end": 30,
            "count": 726
           },
           {
            "bin_start": 30,
            "bin_end": 51,
            "count": 312
           },
           {
            "bin_start": 51,
            "bin_end": 72,
            "count": 106
           },
           {
            "bin_start": 72,
            "bin_end": 93,
            "count": 12
           }
          ]
         }
        },
        {
         "name": "home_last_1",
         "dtype": "float64",
         "stats": {
          "unique_count": 93,
          "nan_count": 0,
          "min": "-58.0",
          "max": "49.0",
          "histogram": [
           {
            "bin_start": -58,
            "bin_end": -47.3,
            "count": 4
           },
           {
            "bin_start": -47.3,
            "bin_end": -36.6,
            "count": 21
           },
           {
            "bin_start": -36.6,
            "bin_end": -25.900000000000006,
            "count": 125
           },
           {
            "bin_start": -25.900000000000006,
            "bin_end": -15.200000000000003,
            "count": 294
           },
           {
            "bin_start": -15.200000000000003,
            "bin_end": -4.5,
            "count": 657
           },
           {
            "bin_start": -4.5,
            "bin_end": 6.199999999999989,
            "count": 995
           },
           {
            "bin_start": 6.199999999999989,
            "bin_end": 16.89999999999999,
            "count": 475
           },
           {
            "bin_start": 16.89999999999999,
            "bin_end": 27.599999999999994,
            "count": 260
           },
           {
            "bin_start": 27.599999999999994,
            "bin_end": 38.3,
            "count": 98
           },
           {
            "bin_start": 38.3,
            "bin_end": 49,
            "count": 10
           }
          ]
         }
        },
        {
         "name": "away_last_1",
         "dtype": "float64",
         "stats": {
          "unique_count": 91,
          "nan_count": 0,
          "min": "-55.0",
          "max": "58.0",
          "histogram": [
           {
            "bin_start": -55,
            "bin_end": -43.7,
            "count": 3
           },
           {
            "bin_start": -43.7,
            "bin_end": -32.4,
            "count": 41
           },
           {
            "bin_start": -32.4,
            "bin_end": -21.099999999999994,
            "count": 148
           },
           {
            "bin_start": -21.099999999999994,
            "bin_end": -9.799999999999997,
            "count": 461
           },
           {
            "bin_start": -9.799999999999997,
            "bin_end": 1.5,
            "count": 814
           },
           {
            "bin_start": 1.5,
            "bin_end": 12.800000000000011,
            "count": 883
           },
           {
            "bin_start": 12.800000000000011,
            "bin_end": 24.10000000000001,
            "count": 420
           },
           {
            "bin_start": 24.10000000000001,
            "bin_end": 35.400000000000006,
            "count": 142
           },
           {
            "bin_start": 35.400000000000006,
            "bin_end": 46.7,
            "count": 23
           },
           {
            "bin_start": 46.7,
            "bin_end": 58,
            "count": 4
           }
          ]
         }
        },
        {
         "name": "_deepnote_index_column",
         "dtype": "int64"
        }
       ],
       "rows_top": [
        {
         "schedule_date": "9/9/2010",
         "schedule_season": 2010,
         "schedule_week": "1",
         "schedule_playoff": "False",
         "team_home": "NO",
         "score_home": 14,
         "score_away": 9,
         "team_away": "MIN",
         "team_favorite_id": "NO",
         "spread_favorite": -5,
         "over_under_line": 49.5,
         "stadium_neutral": "False",
         "intra_division": "False",
         "home_point_diff": 5,
         "away_point_diff": -5,
         "home_spread": -5,
         "home_last_3": 0,
         "away_last_3": 0,
         "home_last_1": 0,
         "away_last_1": 0,
         "_deepnote_index_column": 7507
        },
        {
         "schedule_date": "9/12/2010",
         "schedule_season": 2010,
         "schedule_week": "1",
         "schedule_playoff": "False",
         "team_home": "BUF",
         "score_home": 10,
         "score_away": 15,
         "team_away": "MIA",
         "team_favorite_id": "MIA",
         "spread_favorite": -3,
         "over_under_line": 39,
         "stadium_neutral": "False",
         "intra_division": "True",
         "home_point_diff": -5,
         "away_point_diff": 5,
         "home_spread": 3,
         "home_last_3": 0,
         "away_last_3": 0,
         "home_last_1": 0,
         "away_last_1": 0,
         "_deepnote_index_column": 7508
        },
        {
         "schedule_date": "9/12/2010",
         "schedule_season": 2010,
         "schedule_week": "1",
         "schedule_playoff": "False",
         "team_home": "CHI",
         "score_home": 19,
         "score_away": 14,
         "team_away": "DET",
         "team_favorite_id": "CHI",
         "spread_favorite": -6.5,
         "over_under_line": 45,
         "stadium_neutral": "False",
         "intra_division": "True",
         "home_point_diff": 5,
         "away_point_diff": -5,
         "home_spread": -6.5,
         "home_last_3": 0,
         "away_last_3": 0,
         "home_last_1": 0,
         "away_last_1": 0,
         "_deepnote_index_column": 7509
        },
        {
         "schedule_date": "9/12/2010",
         "schedule_season": 2010,
         "schedule_week": "1",
         "schedule_playoff": "False",
         "team_home": "HOU",
         "score_home": 34,
         "score_away": 24,
         "team_away": "IND",
         "team_favorite_id": "IND",
         "spread_favorite": -1,
         "over_under_line": 48,
         "stadium_neutral": "False",
         "intra_division": "True",
         "home_point_diff": 10,
         "away_point_diff": -10,
         "home_spread": 1,
         "home_last_3": 0,
         "away_last_3": 0,
         "home_last_1": 0,
         "away_last_1": 0,
         "_deepnote_index_column": 7510
        },
        {
         "schedule_date": "9/12/2010",
         "schedule_season": 2010,
         "schedule_week": "1",
         "schedule_playoff": "False",
         "team_home": "JAX",
         "score_home": 24,
         "score_away": 17,
         "team_away": "DEN",
         "team_favorite_id": "JAX",
         "spread_favorite": -3,
         "over_under_line": 41.5,
         "stadium_neutral": "False",
         "intra_division": "False",
         "home_point_diff": 7,
         "away_point_diff": -7,
         "home_spread": -3,
         "home_last_3": 0,
         "away_last_3": 0,
         "home_last_1": 0,
         "away_last_1": 0,
         "_deepnote_index_column": 7511
        },
        {
         "schedule_date": "9/12/2010",
         "schedule_season": 2010,
         "schedule_week": "1",
         "schedule_playoff": "False",
         "team_home": "NE",
         "score_home": 38,
         "score_away": 24,
         "team_away": "CIN",
         "team_favorite_id": "NE",
         "spread_favorite": -5.5,
         "over_under_line": 45,
         "stadium_neutral": "False",
         "intra_division": "False",
         "home_point_diff": 14,
         "away_point_diff": -14,
         "home_spread": -5.5,
         "home_last_3": 0,
         "away_last_3": 0,
         "home_last_1": 0,
         "away_last_1": 0,
         "_deepnote_index_column": 7512
        },
        {
         "schedule_date": "9/12/2010",
         "schedule_season": 2010,
         "schedule_week": "1",
         "schedule_playoff": "False",
         "team_home": "NYG",
         "score_home": 31,
         "score_away": 18,
         "team_away": "CAR",
         "team_favorite_id": "NYG",
         "spread_favorite": -6,
         "over_under_line": 41,
         "stadium_neutral": "False",
         "intra_division": "False",
         "home_point_diff": 13,
         "away_point_diff": -13,
         "home_spread": -6,
         "home_last_3": 0,
         "away_last_3": 0,
         "home_last_1": 0,
         "away_last_1": 0,
         "_deepnote_index_column": 7513
        },
        {
         "schedule_date": "9/12/2010",
         "schedule_season": 2010,
         "schedule_week": "1",
         "schedule_playoff": "False",
         "team_home": "PHI",
         "score_home": 20,
         "score_away": 27,
         "team_away": "GB",
         "team_favorite_id": "GB",
         "spread_favorite": -3,
         "over_under_line": 48,
         "stadium_neutral": "False",
         "intra_division": "False",
         "home_point_diff": -7,
         "away_point_diff": 7,
         "home_spread": 3,
         "home_last_3": 0,
         "away_last_3": 0,
         "home_last_1": 0,
         "away_last_1": 0,
         "_deepnote_index_column": 7514
        },
        {
         "schedule_date": "9/12/2010",
         "schedule_season": 2010,
         "schedule_week": "1",
         "schedule_playoff": "False",
         "team_home": "PIT",
         "score_home": 15,
         "score_away": 9,
         "team_away": "ATL",
         "team_favorite_id": "ATL",
         "spread_favorite": -1.5,
         "over_under_line": 39.5,
         "stadium_neutral": "False",
         "intra_division": "False",
         "home_point_diff": 6,
         "away_point_diff": -6,
         "home_spread": 1.5,
         "home_last_3": 0,
         "away_last_3": 0,
         "home_last_1": 0,
         "away_last_1": 0,
         "_deepnote_index_column": 7515
        },
        {
         "schedule_date": "9/12/2010",
         "schedule_season": 2010,
         "schedule_week": "1",
         "schedule_playoff": "False",
         "team_home": "SEA",
         "score_home": 31,
         "score_away": 6,
         "team_away": "SF",
         "team_favorite_id": "SF",
         "spread_favorite": -3,
         "over_under_line": 37,
         "stadium_neutral": "False",
         "intra_division": "True",
         "home_point_diff": 25,
         "away_point_diff": -25,
         "home_spread": 3,
         "home_last_3": 0,
         "away_last_3": 0,
         "home_last_1": 0,
         "away_last_1": 0,
         "_deepnote_index_column": 7516
        },
        {
         "schedule_date": "9/12/2010",
         "schedule_season": 2010,
         "schedule_week": "1",
         "schedule_playoff": "False",
         "team_home": "LAR",
         "score_home": 13,
         "score_away": 17,
         "team_away": "ARI",
         "team_favorite_id": "ARI",
         "spread_favorite": -3,
         "over_under_line": 39.5,
         "stadium_neutral": "False",
         "intra_division": "True",
         "home_point_diff": -4,
         "away_point_diff": 4,
         "home_spread": 3,
         "home_last_3": 0,
         "away_last_3": 0,
         "home_last_1": 0,
         "away_last_1": 0,
         "_deepnote_index_column": 7517
        },
        {
         "schedule_date": "9/12/2010",
         "schedule_season": 2010,
         "schedule_week": "1",
         "schedule_playoff": "False",
         "team_home": "TB",
         "score_home": 17,
         "score_away": 14,
         "team_away": "CLE",
         "team_favorite_id": "TB",
         "spread_favorite": -2.5,
         "over_under_line": 37,
         "stadium_neutral": "False",
         "intra_division": "False",
         "home_point_diff": 3,
         "away_point_diff": -3,
         "home_spread": -2.5,
         "home_last_3": 0,
         "away_last_3": 0,
         "home_last_1": 0,
         "away_last_1": 0,
         "_deepnote_index_column": 7518
        },
        {
         "schedule_date": "9/12/2010",
         "schedule_season": 2010,
         "schedule_week": "1",
         "schedule_playoff": "False",
         "team_home": "TEN",
         "score_home": 38,
         "score_away": 13,
         "team_away": "LVR",
         "team_favorite_id": "TEN",
         "spread_favorite": -6.5,
         "over_under_line": 40,
         "stadium_neutral": "False",
         "intra_division": "False",
         "home_point_diff": 25,
         "away_point_diff": -25,
         "home_spread": -6.5,
         "home_last_3": 0,
         "away_last_3": 0,
         "home_last_1": 0,
         "away_last_1": 0,
         "_deepnote_index_column": 7519
        },
        {
         "schedule_date": "9/12/2010",
         "schedule_season": 2010,
         "schedule_week": "1",
         "schedule_playoff": "False",
         "team_home": "WAS",
         "score_home": 13,
         "score_away": 7,
         "team_away": "DAL",
         "team_favorite_id": "DAL",
         "spread_favorite": -3,
         "over_under_line": 40,
         "stadium_neutral": "False",
         "intra_division": "True",
         "home_point_diff": 6,
         "away_point_diff": -6,
         "home_spread": 3,
         "home_last_3": 0,
         "away_last_3": 0,
         "home_last_1": 0,
         "away_last_1": 0,
         "_deepnote_index_column": 7520
        },
        {
         "schedule_date": "9/13/2010",
         "schedule_season": 2010,
         "schedule_week": "1",
         "schedule_playoff": "False",
         "team_home": "KC",
         "score_home": 21,
         "score_away": 14,
         "team_away": "LAC",
         "team_favorite_id": "LAC",
         "spread_favorite": -4,
         "over_under_line": 45.5,
         "stadium_neutral": "False",
         "intra_division": "True",
         "home_point_diff": 7,
         "away_point_diff": -7,
         "home_spread": 4,
         "home_last_3": 0,
         "away_last_3": 0,
         "home_last_1": 0,
         "away_last_1": 0,
         "_deepnote_index_column": 7521
        },
        {
         "schedule_date": "9/13/2010",
         "schedule_season": 2010,
         "schedule_week": "1",
         "schedule_playoff": "False",
         "team_home": "NYJ",
         "score_home": 9,
         "score_away": 10,
         "team_away": "BAL",
         "team_favorite_id": "NYJ",
         "spread_favorite": -1,
         "over_under_line": 36.5,
         "stadium_neutral": "False",
         "intra_division": "False",
         "home_point_diff": -1,
         "away_point_diff": 1,
         "home_spread": -1,
         "home_last_3": 0,
         "away_last_3": 0,
         "home_last_1": 0,
         "away_last_1": 0,
         "_deepnote_index_column": 7522
        },
        {
         "schedule_date": "9/19/2010",
         "schedule_season": 2010,
         "schedule_week": "2",
         "schedule_playoff": "False",
         "team_home": "ATL",
         "score_home": 41,
         "score_away": 7,
         "team_away": "ARI",
         "team_favorite_id": "ATL",
         "spread_favorite": -7,
         "over_under_line": 43.5,
         "stadium_neutral": "False",
         "intra_division": "False",
         "home_point_diff": 34,
         "away_point_diff": -34,
         "home_spread": -7,
         "home_last_3": -6,
         "away_last_3": 4,
         "home_last_1": -6,
         "away_last_1": 4,
         "_deepnote_index_column": 7523
        },
        {
         "schedule_date": "9/19/2010",
         "schedule_season": 2010,
         "schedule_week": "2",
         "schedule_playoff": "False",
         "team_home": "CAR",
         "score_home": 7,
         "score_away": 20,
         "team_away": "TB",
         "team_favorite_id": "CAR",
         "spread_favorite": -4,
         "over_under_line": 37.5,
         "stadium_neutral": "False",
         "intra_division": "True",
         "home_point_diff": -13,
         "away_point_diff": 13,
         "home_spread": -4,
         "home_last_3": -13,
         "away_last_3": 3,
         "home_last_1": -13,
         "away_last_1": 3,
         "_deepnote_index_column": 7524
        },
        {
         "schedule_date": "9/19/2010",
         "schedule_season": 2010,
         "schedule_week": "2",
         "schedule_playoff": "False",
         "team_home": "CIN",
         "score_home": 15,
         "score_away": 10,
         "team_away": "BAL",
         "team_favorite_id": "BAL",
         "spread_favorite": -3,
         "over_under_line": 39.5,
         "stadium_neutral": "False",
         "intra_division": "True",
         "home_point_diff": 5,
         "away_point_diff": -5,
         "home_spread": 3,
         "home_last_3": -14,
         "away_last_3": 1,
         "home_last_1": -14,
         "away_last_1": 1,
         "_deepnote_index_column": 7525
        },
        {
         "schedule_date": "9/19/2010",
         "schedule_season": 2010,
         "schedule_week": "2",
         "schedule_playoff": "False",
         "team_home": "CLE",
         "score_home": 14,
         "score_away": 16,
         "team_away": "KC",
         "team_favorite_id": "CLE",
         "spread_favorite": -3,
         "over_under_line": 38,
         "stadium_neutral": "False",
         "intra_division": "False",
         "home_point_diff": -2,
         "away_point_diff": 2,
         "home_spread": -3,
         "home_last_3": -3,
         "away_last_3": 7,
         "home_last_1": -3,
         "away_last_1": 7,
         "_deepnote_index_column": 7526
        },
        {
         "schedule_date": "9/19/2010",
         "schedule_season": 2010,
         "schedule_week": "2",
         "schedule_playoff": "False",
         "team_home": "DAL",
         "score_home": 20,
         "score_away": 27,
         "team_away": "CHI",
         "team_favorite_id": "DAL",
         "spread_favorite": -7,
         "over_under_line": 41.5,
         "stadium_neutral": "False",
         "intra_division": "False",
         "home_point_diff": -7,
         "away_point_diff": 7,
         "home_spread": -7,
         "home_last_3": -6,
         "away_last_3": 5,
         "home_last_1": -6,
         "away_last_1": 5,
         "_deepnote_index_column": 7527
        },
        {
         "schedule_date": "9/19/2010",
         "schedule_season": 2010,
         "schedule_week": "2",
         "schedule_playoff": "False",
         "team_home": "DEN",
         "score_home": 31,
         "score_away": 14,
         "team_away": "SEA",
         "team_favorite_id": "DEN",
         "spread_favorite": -3.5,
         "over_under_line": 41,
         "stadium_neutral": "False",
         "intra_division": "False",
         "home_point_diff": 17,
         "away_point_diff": -17,
         "home_spread": -3.5,
         "home_last_3": -7,
         "away_last_3": 25,
         "home_last_1": -7,
         "away_last_1": 25,
         "_deepnote_index_column": 7528
        },
        {
         "schedule_date": "9/19/2010",
         "schedule_season": 2010,
         "schedule_week": "2",
         "schedule_playoff": "False",
         "team_home": "DET",
         "score_home": 32,
         "score_away": 35,
         "team_away": "PHI",
         "team_favorite_id": "PHI",
         "spread_favorite": -6.5,
         "over_under_line": 41,
         "stadium_neutral": "False",
         "intra_division": "False",
         "home_point_diff": -3,
         "away_point_diff": 3,
         "home_spread": 6.5,
         "home_last_3": -5,
         "away_last_3": -7,
         "home_last_1": -5,
         "away_last_1": -7,
         "_deepnote_index_column": 7529
        },
        {
         "schedule_date": "9/19/2010",
         "schedule_season": 2010,
         "schedule_week": "2",
         "schedule_playoff": "False",
         "team_home": "GB",
         "score_home": 34,
         "score_away": 7,
         "team_away": "BUF",
         "team_favorite_id": "GB",
         "spread_favorite": -13,
         "over_under_line": 43,
         "stadium_neutral": "False",
         "intra_division": "False",
         "home_point_diff": 27,
         "away_point_diff": -27,
         "home_spread": -13,
         "home_last_3": 7,
         "away_last_3": -5,
         "home_last_1": 7,
         "away_last_1": -5,
         "_deepnote_index_column": 7530
        },
        {
         "schedule_date": "9/19/2010",
         "schedule_season": 2010,
         "schedule_week": "2",
         "schedule_playoff": "False",
         "team_home": "IND",
         "score_home": 38,
         "score_away": 14,
         "team_away": "NYG",
         "team_favorite_id": "IND",
         "spread_favorite": -4,
         "over_under_line": 48.5,
         "stadium_neutral": "False",
         "intra_division": "False",
         "home_point_diff": 24,
         "away_point_diff": -24,
         "home_spread": -4,
         "home_last_3": -10,
         "away_last_3": 13,
         "home_last_1": -10,
         "away_last_1": 13,
         "_deepnote_index_column": 7531
        }
       ],
       "rows_bottom": [
        {
         "schedule_date": "1/3/2021",
         "schedule_season": 2020,
         "schedule_week": "17",
         "schedule_playoff": "False",
         "team_home": "CLE",
         "score_home": 24,
         "score_away": 22,
         "team_away": "PIT",
         "team_favorite_id": "CLE",
         "spread_favorite": -10.5,
         "over_under_line": 44.5,
         "stadium_neutral": "False",
         "intra_division": "True",
         "home_point_diff": 2,
         "away_point_diff": -2,
         "home_spread": -10.5,
         "home_last_3": 2,
         "away_last_3": -17,
         "home_last_1": -7,
         "away_last_1": 4,
         "_deepnote_index_column": 10421
        },
        {
         "schedule_date": "1/3/2021",
         "schedule_season": 2020,
         "schedule_week": "17",
         "schedule_playoff": "False",
         "team_home": "DEN",
         "score_home": 31,
         "score_away": 32,
         "team_away": "LVR",
         "team_favorite_id": "LVR",
         "spread_favorite": -2.5,
         "over_under_line": 50.5,
         "stadium_neutral": "False",
         "intra_division": "True",
         "home_point_diff": -1,
         "away_point_diff": 1,
         "home_spread": 2.5,
         "home_last_3": -27,
         "away_last_3": -21,
         "home_last_1": -3,
         "away_last_1": -1,
         "_deepnote_index_column": 10422
        },
        {
         "schedule_date": "1/3/2021",
         "schedule_season": 2020,
         "schedule_week": "17",
         "schedule_playoff": "False",
         "team_home": "DET",
         "score_home": 35,
         "score_away": 37,
         "team_away": "MIN",
         "team_favorite_id": "MIN",
         "spread_favorite": -3,
         "over_under_line": 53.5,
         "stadium_neutral": "False",
         "intra_division": "True",
         "home_point_diff": -2,
         "away_point_diff": 2,
         "home_spread": 3,
         "home_last_3": -68,
         "away_last_3": -37,
         "home_last_1": -40,
         "away_last_1": -19,
         "_deepnote_index_column": 10423
        },
        {
         "schedule_date": "1/3/2021",
         "schedule_season": 2020,
         "schedule_week": "17",
         "schedule_playoff": "False",
         "team_home": "HOU",
         "score_home": 38,
         "score_away": 41,
         "team_away": "TEN",
         "team_favorite_id": "TEN",
         "spread_favorite": -7,
         "over_under_line": 55.5,
         "stadium_neutral": "False",
         "intra_division": "True",
         "home_point_diff": -3,
         "away_point_diff": 3,
         "home_spread": 7,
         "home_last_3": -42,
         "away_last_3": 16,
         "home_last_1": -6,
         "away_last_1": -26,
         "_deepnote_index_column": 10424
        },
        {
         "schedule_date": "1/3/2021",
         "schedule_season": 2020,
         "schedule_week": "17",
         "schedule_playoff": "False",
         "team_home": "IND",
         "score_home": 28,
         "score_away": 14,
         "team_away": "JAX",
         "team_favorite_id": "IND",
         "spread_favorite": -15.5,
         "over_under_line": 48,
         "stadium_neutral": "False",
         "intra_division": "True",
         "home_point_diff": 14,
         "away_point_diff": -14,
         "home_spread": -15.5,
         "home_last_3": 20,
         "away_last_3": -71,
         "home_last_1": -4,
         "away_last_1": -24,
         "_deepnote_index_column": 10425
        },
        {
         "schedule_date": "1/3/2021",
         "schedule_season": 2020,
         "schedule_week": "17",
         "schedule_playoff": "False",
         "team_home": "KC",
         "score_home": 21,
         "score_away": 38,
         "team_away": "LAC",
         "team_favorite_id": "LAC",
         "spread_favorite": -6.5,
         "over_under_line": 43,
         "stadium_neutral": "False",
         "intra_division": "True",
         "home_point_diff": -17,
         "away_point_diff": 17,
         "home_spread": 6.5,
         "home_last_3": 12,
         "away_last_3": 9,
         "home_last_1": 3,
         "away_last_1": 3,
         "_deepnote_index_column": 10426
        },
        {
         "schedule_date": "1/3/2021",
         "schedule_season": 2020,
         "schedule_week": "17",
         "schedule_playoff": "False",
         "team_home": "LAR",
         "score_home": 18,
         "score_away": 7,
         "team_away": "ARI",
         "team_favorite_id": "LAR",
         "spread_favorite": -1,
         "over_under_line": 42,
         "stadium_neutral": "False",
         "intra_division": "True",
         "home_point_diff": 11,
         "away_point_diff": -11,
         "home_spread": -1,
         "home_last_3": 7,
         "away_last_3": 18,
         "home_last_1": -11,
         "away_last_1": -8,
         "_deepnote_index_column": 10427
        },
        {
         "schedule_date": "1/3/2021",
         "schedule_season": 2020,
         "schedule_week": "17",
         "schedule_playoff": "False",
         "team_home": "NE",
         "score_home": 28,
         "score_away": 14,
         "team_away": "NYJ",
         "team_favorite_id": "NE",
         "spread_favorite": -3,
         "over_under_line": 41,
         "stadium_neutral": "False",
         "intra_division": "True",
         "home_point_diff": 14,
         "away_point_diff": -14,
         "home_spread": -3,
         "home_last_3": -60,
         "away_last_3": -27,
         "home_last_1": -29,
         "away_last_1": 7,
         "_deepnote_index_column": 10428
        },
        {
         "schedule_date": "1/3/2021",
         "schedule_season": 2020,
         "schedule_week": "17",
         "schedule_playoff": "False",
         "team_home": "NYG",
         "score_home": 23,
         "score_away": 19,
         "team_away": "DAL",
         "team_favorite_id": "DAL",
         "spread_favorite": -1.5,
         "over_under_line": 43.5,
         "stadium_neutral": "False",
         "intra_division": "True",
         "home_point_diff": 4,
         "away_point_diff": -4,
         "home_spread": 1.5,
         "home_last_3": -47,
         "away_last_3": 51,
         "home_last_1": -14,
         "away_last_1": 20,
         "_deepnote_index_column": 10429
        },
        {
         "schedule_date": "1/3/2021",
         "schedule_season": 2020,
         "schedule_week": "17",
         "schedule_playoff": "False",
         "team_home": "PHI",
         "score_home": 14,
         "score_away": 20,
         "team_away": "WAS",
         "team_favorite_id": "WAS",
         "spread_favorite": -6.5,
         "over_under_line": 43.5,
         "stadium_neutral": "False",
         "intra_division": "True",
         "home_point_diff": -6,
         "away_point_diff": 6,
         "home_spread": 6.5,
         "home_last_3": -24,
         "away_last_3": -4,
         "home_last_1": -20,
         "away_last_1": -7,
         "_deepnote_index_column": 10430
        },
        {
         "schedule_date": "1/3/2021",
         "schedule_season": 2020,
         "schedule_week": "17",
         "schedule_playoff": "False",
         "team_home": "SF",
         "score_home": 23,
         "score_away": 26,
         "team_away": "SEA",
         "team_favorite_id": "SEA",
         "spread_favorite": -7,
         "over_under_line": 45,
         "stadium_neutral": "False",
         "intra_division": "True",
         "home_point_diff": -3,
         "away_point_diff": 3,
         "home_spread": 7,
         "home_last_3": -8,
         "away_last_3": 53,
         "home_last_1": 8,
         "away_last_1": 11,
         "_deepnote_index_column": 10431
        },
        {
         "schedule_date": "1/3/2021",
         "schedule_season": 2020,
         "schedule_week": "17",
         "schedule_playoff": "False",
         "team_home": "TB",
         "score_home": 44,
         "score_away": 27,
         "team_away": "ATL",
         "team_favorite_id": "TB",
         "spread_favorite": -7,
         "over_under_line": 51,
         "stadium_neutral": "False",
         "intra_division": "True",
         "home_point_diff": 17,
         "away_point_diff": -17,
         "home_spread": -7,
         "home_last_3": 56,
         "away_last_3": -10,
         "home_last_1": 40,
         "away_last_1": -3,
         "_deepnote_index_column": 10432
        },
        {
         "schedule_date": "1/9/2021",
         "schedule_season": 2020,
         "schedule_week": "Wildcard",
         "schedule_playoff": "True",
         "team_home": "BUF",
         "score_home": 27,
         "score_away": 24,
         "team_away": "IND",
         "team_favorite_id": "BUF",
         "spread_favorite": -7,
         "over_under_line": 50.5,
         "stadium_neutral": "False",
         "intra_division": "False",
         "home_point_diff": 3,
         "away_point_diff": -3,
         "home_spread": -7,
         "home_last_3": 88,
         "away_last_3": 17,
         "home_last_1": 30,
         "away_last_1": 14,
         "_deepnote_index_column": 10433
        },
        {
         "schedule_date": "1/9/2021",
         "schedule_season": 2020,
         "schedule_week": "Wildcard",
         "schedule_playoff": "True",
         "team_home": "SEA",
         "score_home": 20,
         "score_away": 30,
         "team_away": "LAR",
         "team_favorite_id": "SEA",
         "spread_favorite": -3,
         "over_under_line": 42.5,
         "stadium_neutral": "False",
         "intra_division": "True",
         "home_point_diff": -10,
         "away_point_diff": 10,
         "home_spread": -3,
         "home_last_3": 19,
         "away_last_3": -3,
         "home_last_1": 3,
         "away_last_1": 11,
         "_deepnote_index_column": 10434
        },
        {
         "schedule_date": "1/9/2021",
         "schedule_season": 2020,
         "schedule_week": "Wildcard",
         "schedule_playoff": "True",
         "team_home": "WAS",
         "score_home": 23,
         "score_away": 31,
         "team_away": "TB",
         "team_favorite_id": "TB",
         "spread_favorite": -10,
         "over_under_line": 45,
         "stadium_neutral": "False",
         "intra_division": "False",
         "home_point_diff": -8,
         "away_point_diff": 8,
         "home_spread": 10,
         "home_last_3": -6,
         "away_last_3": 61,
         "home_last_1": 6,
         "away_last_1": 17,
         "_deepnote_index_column": 10435
        },
        {
         "schedule_date": "1/10/2021",
         "schedule_season": 2020,
         "schedule_week": "Wildcard",
         "schedule_playoff": "True",
         "team_home": "NO",
         "score_home": 21,
         "score_away": 9,
         "team_away": "CHI",
         "team_favorite_id": "NO",
         "spread_favorite": -11,
         "over_under_line": 48,
         "stadium_neutral": "False",
         "intra_division": "False",
         "home_point_diff": 12,
         "away_point_diff": -12,
         "home_spread": -11,
         "home_last_3": 42,
         "away_last_3": 11,
         "home_last_1": 26,
         "away_last_1": -19,
         "_deepnote_index_column": 10436
        },
        {
         "schedule_date": "1/10/2021",
         "schedule_season": 2020,
         "schedule_week": "Wildcard",
         "schedule_playoff": "True",
         "team_home": "PIT",
         "score_home": 37,
         "score_away": 48,
         "team_away": "CLE",
         "team_favorite_id": "PIT",
         "spread_favorite": -5.5,
         "over_under_line": 47.5,
         "stadium_neutral": "False",
         "intra_division": "True",
         "home_point_diff": -11,
         "away_point_diff": 11,
         "home_spread": -5.5,
         "home_last_3": -8,
         "away_last_3": 9,
         "home_last_1": -2,
         "away_last_1": 2,
         "_deepnote_index_column": 10437
        },
        {
         "schedule_date": "1/10/2021",
         "schedule_season": 2020,
         "schedule_week": "Wildcard",
         "schedule_playoff": "True",
         "team_home": "TEN",
         "score_home": 13,
         "score_away": 20,
         "team_away": "BAL",
         "team_favorite_id": "BAL",
         "spread_favorite": -3.5,
         "over_under_line": 53.5,
         "stadium_neutral": "False",
         "intra_division": "False",
         "home_point_diff": -7,
         "away_point_diff": 7,
         "home_spread": 3.5,
         "home_last_3": -2,
         "away_last_3": 75,
         "home_last_1": 3,
         "away_last_1": 35,
         "_deepnote_index_column": 10438
        },
        {
         "schedule_date": "1/16/2021",
         "schedule_season": 2020,
         "schedule_week": "Division",
         "schedule_playoff": "True",
         "team_home": "BUF",
         "score_home": 17,
         "score_away": 3,
         "team_away": "BAL",
         "team_favorite_id": "BUF",
         "spread_favorite": -2.5,
         "over_under_line": 49.5,
         "stadium_neutral": "False",
         "intra_division": "False",
         "home_point_diff": 14,
         "away_point_diff": -14,
         "home_spread": -2.5,
         "home_last_3": 62,
         "away_last_3": 56,
         "home_last_1": 3,
         "away_last_1": 7,
         "_deepnote_index_column": 10439
        },
        {
         "schedule_date": "1/16/2021",
         "schedule_season": 2020,
         "schedule_week": "Division",
         "schedule_playoff": "True",
         "team_home": "GB",
         "score_home": 32,
         "score_away": 18,
         "team_away": "LAR",
         "team_favorite_id": "GB",
         "spread_favorite": -7,
         "over_under_line": 45,
         "stadium_neutral": "False",
         "intra_division": "False",
         "home_point_diff": 14,
         "away_point_diff": -14,
         "home_spread": -7,
         "home_last_3": 53,
         "away_last_3": 10,
         "home_last_1": 19,
         "away_last_1": 10,
         "_deepnote_index_column": 10440
        },
        {
         "schedule_date": "1/17/2021",
         "schedule_season": 2020,
         "schedule_week": "Division",
         "schedule_playoff": "True",
         "team_home": "KC",
         "score_home": 22,
         "score_away": 17,
         "team_away": "CLE",
         "team_favorite_id": "KC",
         "spread_favorite": -8,
         "over_under_line": 56,
         "stadium_neutral": "False",
         "intra_division": "False",
         "home_point_diff": 5,
         "away_point_diff": -5,
         "home_spread": -8,
         "home_last_3": -11,
         "away_last_3": 6,
         "home_last_1": -17,
         "away_last_1": 11,
         "_deepnote_index_column": 10441
        },
        {
         "schedule_date": "1/17/2021",
         "schedule_season": 2020,
         "schedule_week": "Division",
         "schedule_playoff": "True",
         "team_home": "NO",
         "score_home": 20,
         "score_away": 30,
         "team_away": "TB",
         "team_favorite_id": "NO",
         "spread_favorite": -2.5,
         "over_under_line": 53,
         "stadium_neutral": "False",
         "intra_division": "True",
         "home_point_diff": -10,
         "away_point_diff": 10,
         "home_spread": -2.5,
         "home_last_3": 57,
         "away_last_3": 65,
         "home_last_1": 12,
         "away_last_1": 8,
         "_deepnote_index_column": 10442
        },
        {
         "schedule_date": "1/24/2021",
         "schedule_season": 2020,
         "schedule_week": "Conference",
         "schedule_playoff": "True",
         "team_home": "GB",
         "score_home": 26,
         "score_away": 31,
         "team_away": "TB",
         "team_favorite_id": "GB",
         "spread_favorite": -3,
         "over_under_line": 53,
         "stadium_neutral": "False",
         "intra_division": "False",
         "home_point_diff": -5,
         "away_point_diff": 5,
         "home_spread": -3,
         "home_last_3": 59,
         "away_last_3": 35,
         "home_last_1": 14,
         "away_last_1": 10,
         "_deepnote_index_column": 10443
        },
        {
         "schedule_date": "1/24/2021",
         "schedule_season": 2020,
         "schedule_week": "Conference",
         "schedule_playoff": "True",
         "team_home": "KC",
         "score_home": 38,
         "score_away": 24,
         "team_away": "BUF",
         "team_favorite_id": "KC",
         "spread_favorite": -3,
         "over_under_line": 55,
         "stadium_neutral": "False",
         "intra_division": "False",
         "home_point_diff": 14,
         "away_point_diff": -14,
         "home_spread": -3,
         "home_last_3": -9,
         "away_last_3": 47,
         "home_last_1": 5,
         "away_last_1": 14,
         "_deepnote_index_column": 10444
        },
        {
         "schedule_date": "2/7/2021",
         "schedule_season": 2020,
         "schedule_week": "Superbowl",
         "schedule_playoff": "True",
         "team_home": "TB",
         "score_home": 31,
         "score_away": 9,
         "team_away": "KC",
         "team_favorite_id": "KC",
         "spread_favorite": -3,
         "over_under_line": 54.5,
         "stadium_neutral": "False",
         "intra_division": "False",
         "home_point_diff": 22,
         "away_point_diff": -22,
         "home_spread": 3,
         "home_last_3": 23,
         "away_last_3": 2,
         "home_last_1": 5,
         "away_last_1": 14,
         "_deepnote_index_column": 10445
        }
       ]
      },
      "text/plain": "      schedule_date  schedule_season schedule_week  schedule_playoff  \\\n7507       9/9/2010             2010             1             False   \n7508      9/12/2010             2010             1             False   \n7509      9/12/2010             2010             1             False   \n7510      9/12/2010             2010             1             False   \n7511      9/12/2010             2010             1             False   \n...             ...              ...           ...               ...   \n10441     1/17/2021             2020      Division              True   \n10442     1/17/2021             2020      Division              True   \n10443     1/24/2021             2020    Conference              True   \n10444     1/24/2021             2020    Conference              True   \n10445      2/7/2021             2020     Superbowl              True   \n\n      team_home  score_home  score_away team_away team_favorite_id  \\\n7507         NO        14.0         9.0       MIN               NO   \n7508        BUF        10.0        15.0       MIA              MIA   \n7509        CHI        19.0        14.0       DET              CHI   \n7510        HOU        34.0        24.0       IND              IND   \n7511        JAX        24.0        17.0       DEN              JAX   \n...         ...         ...         ...       ...              ...   \n10441        KC        22.0        17.0       CLE               KC   \n10442        NO        20.0        30.0        TB               NO   \n10443        GB        26.0        31.0        TB               GB   \n10444        KC        38.0        24.0       BUF               KC   \n10445        TB        31.0         9.0        KC               KC   \n\n       spread_favorite  over_under_line stadium_neutral  intra_division  \\\n7507              -5.0             49.5           False           False   \n7508              -3.0             39.0           False            True   \n7509              -6.5             45.0           False            True   \n7510              -1.0             48.0           False            True   \n7511              -3.0             41.5           False           False   \n...                ...              ...             ...             ...   \n10441             -8.0             56.0           False           False   \n10442             -2.5             53.0           False            True   \n10443             -3.0             53.0           False           False   \n10444             -3.0             55.0           False           False   \n10445             -3.0             54.5           False           False   \n\n       home_point_diff  away_point_diff  home_spread  home_last_3  \\\n7507               5.0             -5.0         -5.0          0.0   \n7508              -5.0              5.0          3.0          0.0   \n7509               5.0             -5.0         -6.5          0.0   \n7510              10.0            -10.0          1.0          0.0   \n7511               7.0             -7.0         -3.0          0.0   \n...                ...              ...          ...          ...   \n10441              5.0             -5.0         -8.0        -11.0   \n10442            -10.0             10.0         -2.5         57.0   \n10443             -5.0              5.0         -3.0         59.0   \n10444             14.0            -14.0         -3.0         -9.0   \n10445             22.0            -22.0          3.0         23.0   \n\n       away_last_3  home_last_1  away_last_1  \n7507           0.0          0.0          0.0  \n7508           0.0          0.0          0.0  \n7509           0.0          0.0          0.0  \n7510           0.0          0.0          0.0  \n7511           0.0          0.0          0.0  \n...            ...          ...          ...  \n10441          6.0        -17.0         11.0  \n10442         65.0         12.0          8.0  \n10443         35.0         14.0         10.0  \n10444         47.0          5.0         14.0  \n10445          2.0          5.0         14.0  \n\n[2939 rows x 20 columns]",
      "text/html": "<div>\n<style scoped>\n    .dataframe tbody tr th:only-of-type {\n        vertical-align: middle;\n    }\n\n    .dataframe tbody tr th {\n        vertical-align: top;\n    }\n\n    .dataframe thead th {\n        text-align: right;\n    }\n</style>\n<table border=\"1\" class=\"dataframe\">\n  <thead>\n    <tr style=\"text-align: right;\">\n      <th></th>\n      <th>schedule_date</th>\n      <th>schedule_season</th>\n      <th>schedule_week</th>\n      <th>schedule_playoff</th>\n      <th>team_home</th>\n      <th>score_home</th>\n      <th>score_away</th>\n      <th>team_away</th>\n      <th>team_favorite_id</th>\n      <th>spread_favorite</th>\n      <th>over_under_line</th>\n      <th>stadium_neutral</th>\n      <th>intra_division</th>\n      <th>home_point_diff</th>\n      <th>away_point_diff</th>\n      <th>home_spread</th>\n      <th>home_last_3</th>\n      <th>away_last_3</th>\n      <th>home_last_1</th>\n      <th>away_last_1</th>\n    </tr>\n  </thead>\n  <tbody>\n    <tr>\n      <th>7507</th>\n      <td>9/9/2010</td>\n      <td>2010</td>\n      <td>1</td>\n      <td>False</td>\n      <td>NO</td>\n      <td>14.0</td>\n      <td>9.0</td>\n      <td>MIN</td>\n      <td>NO</td>\n      <td>-5.0</td>\n      <td>49.5</td>\n      <td>False</td>\n      <td>False</td>\n      <td>5.0</td>\n      <td>-5.0</td>\n      <td>-5.0</td>\n      <td>0.0</td>\n      <td>0.0</td>\n      <td>0.0</td>\n      <td>0.0</td>\n    </tr>\n    <tr>\n      <th>7508</th>\n      <td>9/12/2010</td>\n      <td>2010</td>\n      <td>1</td>\n      <td>False</td>\n      <td>BUF</td>\n      <td>10.0</td>\n      <td>15.0</td>\n      <td>MIA</td>\n      <td>MIA</td>\n      <td>-3.0</td>\n      <td>39.0</td>\n      <td>False</td>\n      <td>True</td>\n      <td>-5.0</td>\n      <td>5.0</td>\n      <td>3.0</td>\n      <td>0.0</td>\n      <td>0.0</td>\n      <td>0.0</td>\n      <td>0.0</td>\n    </tr>\n    <tr>\n      <th>7509</th>\n      <td>9/12/2010</td>\n      <td>2010</td>\n      <td>1</td>\n      <td>False</td>\n      <td>CHI</td>\n      <td>19.0</td>\n      <td>14.0</td>\n      <td>DET</td>\n      <td>CHI</td>\n      <td>-6.5</td>\n      <td>45.0</td>\n      <td>False</td>\n      <td>True</td>\n      <td>5.0</td>\n      <td>-5.0</td>\n      <td>-6.5</td>\n      <td>0.0</td>\n      <td>0.0</td>\n      <td>0.0</td>\n      <td>0.0</td>\n    </tr>\n    <tr>\n      <th>7510</th>\n      <td>9/12/2010</td>\n      <td>2010</td>\n      <td>1</td>\n      <td>False</td>\n      <td>HOU</td>\n      <td>34.0</td>\n      <td>24.0</td>\n      <td>IND</td>\n      <td>IND</td>\n      <td>-1.0</td>\n      <td>48.0</td>\n      <td>False</td>\n      <td>True</td>\n      <td>10.0</td>\n      <td>-10.0</td>\n      <td>1.0</td>\n      <td>0.0</td>\n      <td>0.0</td>\n      <td>0.0</td>\n      <td>0.0</td>\n    </tr>\n    <tr>\n      <th>7511</th>\n      <td>9/12/2010</td>\n      <td>2010</td>\n      <td>1</td>\n      <td>False</td>\n      <td>JAX</td>\n      <td>24.0</td>\n      <td>17.0</td>\n      <td>DEN</td>\n      <td>JAX</td>\n      <td>-3.0</td>\n      <td>41.5</td>\n      <td>False</td>\n      <td>False</td>\n      <td>7.0</td>\n      <td>-7.0</td>\n      <td>-3.0</td>\n      <td>0.0</td>\n      <td>0.0</td>\n      <td>0.0</td>\n      <td>0.0</td>\n    </tr>\n    <tr>\n      <th>...</th>\n      <td>...</td>\n      <td>...</td>\n      <td>...</td>\n      <td>...</td>\n      <td>...</td>\n      <td>...</td>\n      <td>...</td>\n      <td>...</td>\n      <td>...</td>\n      <td>...</td>\n      <td>...</td>\n      <td>...</td>\n      <td>...</td>\n      <td>...</td>\n      <td>...</td>\n      <td>...</td>\n      <td>...</td>\n      <td>...</td>\n      <td>...</td>\n      <td>...</td>\n    </tr>\n    <tr>\n      <th>10441</th>\n      <td>1/17/2021</td>\n      <td>2020</td>\n      <td>Division</td>\n      <td>True</td>\n      <td>KC</td>\n      <td>22.0</td>\n      <td>17.0</td>\n      <td>CLE</td>\n      <td>KC</td>\n      <td>-8.0</td>\n      <td>56.0</td>\n      <td>False</td>\n      <td>False</td>\n      <td>5.0</td>\n      <td>-5.0</td>\n      <td>-8.0</td>\n      <td>-11.0</td>\n      <td>6.0</td>\n      <td>-17.0</td>\n      <td>11.0</td>\n    </tr>\n    <tr>\n      <th>10442</th>\n      <td>1/17/2021</td>\n      <td>2020</td>\n      <td>Division</td>\n      <td>True</td>\n      <td>NO</td>\n      <td>20.0</td>\n      <td>30.0</td>\n      <td>TB</td>\n      <td>NO</td>\n      <td>-2.5</td>\n      <td>53.0</td>\n      <td>False</td>\n      <td>True</td>\n      <td>-10.0</td>\n      <td>10.0</td>\n      <td>-2.5</td>\n      <td>57.0</td>\n      <td>65.0</td>\n      <td>12.0</td>\n      <td>8.0</td>\n    </tr>\n    <tr>\n      <th>10443</th>\n      <td>1/24/2021</td>\n      <td>2020</td>\n      <td>Conference</td>\n      <td>True</td>\n      <td>GB</td>\n      <td>26.0</td>\n      <td>31.0</td>\n      <td>TB</td>\n      <td>GB</td>\n      <td>-3.0</td>\n      <td>53.0</td>\n      <td>False</td>\n      <td>False</td>\n      <td>-5.0</td>\n      <td>5.0</td>\n      <td>-3.0</td>\n      <td>59.0</td>\n      <td>35.0</td>\n      <td>14.0</td>\n      <td>10.0</td>\n    </tr>\n    <tr>\n      <th>10444</th>\n      <td>1/24/2021</td>\n      <td>2020</td>\n      <td>Conference</td>\n      <td>True</td>\n      <td>KC</td>\n      <td>38.0</td>\n      <td>24.0</td>\n      <td>BUF</td>\n      <td>KC</td>\n      <td>-3.0</td>\n      <td>55.0</td>\n      <td>False</td>\n      <td>False</td>\n      <td>14.0</td>\n      <td>-14.0</td>\n      <td>-3.0</td>\n      <td>-9.0</td>\n      <td>47.0</td>\n      <td>5.0</td>\n      <td>14.0</td>\n    </tr>\n    <tr>\n      <th>10445</th>\n      <td>2/7/2021</td>\n      <td>2020</td>\n      <td>Superbowl</td>\n      <td>True</td>\n      <td>TB</td>\n      <td>31.0</td>\n      <td>9.0</td>\n      <td>KC</td>\n      <td>KC</td>\n      <td>-3.0</td>\n      <td>54.5</td>\n      <td>False</td>\n      <td>False</td>\n      <td>22.0</td>\n      <td>-22.0</td>\n      <td>3.0</td>\n      <td>23.0</td>\n      <td>2.0</td>\n      <td>5.0</td>\n      <td>14.0</td>\n    </tr>\n  </tbody>\n</table>\n<p>2939 rows × 20 columns</p>\n</div>"
     },
     "metadata": {}
    }
   ]
  },
  {
   "cell_type": "code",
   "metadata": {
    "tags": [],
    "cell_id": "00008-38e4363f-dcf2-4973-9677-d888bb3e91c0",
    "deepnote_to_be_reexecuted": false,
    "source_hash": "3bbadca5",
    "execution_start": 1632708216409,
    "execution_millis": 820,
    "deepnote_cell_type": "code"
   },
   "source": "global_df_final = global_df3\n\nglobal_df_final['home_team_covered'] = global_df_final.apply(lambda row: row.home_point_diff + row.home_spread > 0, axis=1)\nglobal_df_final_no_drop = global_df_final\n\n\nglobal_df_final = global_df_final.drop(columns = ['schedule_date', 'schedule_week', 'team_home', 'score_home', 'score_away', 'team_away', \\\n 'team_favorite_id', 'spread_favorite', 'away_point_diff'])\n\n# Correlation\ncorr = global_df_final.corr()\nplt.figure(figsize=(20,20))\nax = sns.heatmap(\n    corr, \n    vmin=-1, vmax=1, center=0,\n    cmap=sns.diverging_palette(20, 220, n=200),\n    square=True\n)\nax.set_xticklabels(\n    ax.get_xticklabels(),\n    rotation=45,\n    horizontalalignment='right'\n)\n\n#global_df_final\n",
   "execution_count": 7,
   "outputs": [
    {
     "output_type": "execute_result",
     "execution_count": 7,
     "data": {
      "text/plain": "[Text(0.5, 0, 'schedule_season'),\n Text(1.5, 0, 'schedule_playoff'),\n Text(2.5, 0, 'over_under_line'),\n Text(3.5, 0, 'intra_division'),\n Text(4.5, 0, 'home_point_diff'),\n Text(5.5, 0, 'home_spread'),\n Text(6.5, 0, 'home_last_3'),\n Text(7.5, 0, 'away_last_3'),\n Text(8.5, 0, 'home_last_1'),\n Text(9.5, 0, 'away_last_1'),\n Text(10.5, 0, 'home_team_covered')]"
     },
     "metadata": {}
    },
    {
     "data": {
      "text/plain": "<Figure size 1440x1440 with 2 Axes>",
      "image/png": "[encoded data removed]"
     },
     "metadata": {
      "needs_background": "light",
      "image/png": {
       "width": 1165,
       "height": 1111
      }
     },
     "output_type": "display_data"
    }
   ]
  },
  {
   "cell_type": "code",
   "metadata": {
    "tags": [],
    "cell_id": "00009-e1bcfab9-bef3-46a8-8af6-1d9cd72facd9",
    "deepnote_to_be_reexecuted": false,
    "source_hash": "79dd3084",
    "execution_start": 1632708217230,
    "execution_millis": 41047,
    "deepnote_cell_type": "code"
   },
   "source": "# Regressor\n\ntrain_data = global_df_final.drop(['home_team_covered', 'home_point_diff'], axis=1)\ntarget_label = global_df_final['home_point_diff']\n\nn_features = train_data.shape[1]\nx_train, x_test, y_train, y_test = train_test_split(train_data, target_label, test_size = 0.30)\n\nparameters = {\n    \"n_estimators\":[5,50, 100],\n    \"max_depth\":[1,3,5,7,9],\n    \"learning_rate\":[0.01,0.1,1]\n}\n\ndef display(results):\n    print(f'Best parameters are: {results.best_params_}')\n    print(\"\\n\")\n    mean_score = results.cv_results_['mean_test_score']\n    std_score = results.cv_results_['std_test_score']\n    params = results.cv_results_['params']\n    for mean,std,params in zip(mean_score,std_score,params):\n        print(f'{round(mean,3)} + or -{round(std,3)} for the {params}')\n\ngbc = ensemble.GradientBoostingRegressor()\n\ncv = GridSearchCV(gbc,parameters,cv=5)\ncv.fit(x_train, y_train)\n\ndisplay(cv)",
   "execution_count": 8,
   "outputs": [
    {
     "name": "stdout",
     "text": "Best parameters are: {'learning_rate': 0.1, 'max_depth': 1, 'n_estimators': 50}\n\n\n0.005 + or -0.003 for the {'learning_rate': 0.01, 'max_depth': 1, 'n_estimators': 5}\n0.067 + or -0.003 for the {'learning_rate': 0.01, 'max_depth': 1, 'n_estimators': 50}\n0.106 + or -0.006 for the {'learning_rate': 0.01, 'max_depth': 1, 'n_estimators': 100}\n0.012 + or -0.003 for the {'learning_rate': 0.01, 'max_depth': 3, 'n_estimators': 5}\n0.102 + or -0.005 for the {'learning_rate': 0.01, 'max_depth': 3, 'n_estimators': 50}\n0.141 + or -0.012 for the {'learning_rate': 0.01, 'max_depth': 3, 'n_estimators': 100}\n0.013 + or -0.002 for the {'learning_rate': 0.01, 'max_depth': 5, 'n_estimators': 5}\n0.103 + or -0.004 for the {'learning_rate': 0.01, 'max_depth': 5, 'n_estimators': 50}\n0.134 + or -0.011 for the {'learning_rate': 0.01, 'max_depth': 5, 'n_estimators': 100}\n0.013 + or -0.002 for the {'learning_rate': 0.01, 'max_depth': 7, 'n_estimators': 5}\n0.095 + or -0.007 for the {'learning_rate': 0.01, 'max_depth': 7, 'n_estimators': 50}\n0.116 + or -0.011 for the {'learning_rate': 0.01, 'max_depth': 7, 'n_estimators': 100}\n0.012 + or -0.002 for the {'learning_rate': 0.01, 'max_depth': 9, 'n_estimators': 5}\n0.086 + or -0.012 for the {'learning_rate': 0.01, 'max_depth': 9, 'n_estimators': 50}\n0.098 + or -0.018 for the {'learning_rate': 0.01, 'max_depth': 9, 'n_estimators': 100}\n0.07 + or -0.003 for the {'learning_rate': 0.1, 'max_depth': 1, 'n_estimators': 5}\n0.161 + or -0.022 for the {'learning_rate': 0.1, 'max_depth': 1, 'n_estimators': 50}\n0.16 + or -0.026 for the {'learning_rate': 0.1, 'max_depth': 1, 'n_estimators': 100}\n0.105 + or -0.005 for the {'learning_rate': 0.1, 'max_depth': 3, 'n_estimators': 5}\n0.143 + or -0.028 for the {'learning_rate': 0.1, 'max_depth': 3, 'n_estimators': 50}\n0.121 + or -0.032 for the {'learning_rate': 0.1, 'max_depth': 3, 'n_estimators': 100}\n0.106 + or -0.004 for the {'learning_rate': 0.1, 'max_depth': 5, 'n_estimators': 5}\n0.108 + or -0.027 for the {'learning_rate': 0.1, 'max_depth': 5, 'n_estimators': 50}\n0.062 + or -0.033 for the {'learning_rate': 0.1, 'max_depth': 5, 'n_estimators': 100}\n0.096 + or -0.01 for the {'learning_rate': 0.1, 'max_depth': 7, 'n_estimators': 5}\n0.048 + or -0.037 for the {'learning_rate': 0.1, 'max_depth': 7, 'n_estimators': 50}\n0.005 + or -0.035 for the {'learning_rate': 0.1, 'max_depth': 7, 'n_estimators': 100}\n0.079 + or -0.012 for the {'learning_rate': 0.1, 'max_depth': 9, 'n_estimators': 5}\n0.011 + or -0.047 for the {'learning_rate': 0.1, 'max_depth': 9, 'n_estimators': 50}\n-0.019 + or -0.041 for the {'learning_rate': 0.1, 'max_depth': 9, 'n_estimators': 100}\n0.134 + or -0.03 for the {'learning_rate': 1, 'max_depth': 1, 'n_estimators': 5}\n0.109 + or -0.038 for the {'learning_rate': 1, 'max_depth': 1, 'n_estimators': 50}\n0.101 + or -0.044 for the {'learning_rate': 1, 'max_depth': 1, 'n_estimators': 100}\n0.077 + or -0.042 for the {'learning_rate': 1, 'max_depth': 3, 'n_estimators': 5}\n-0.273 + or -0.129 for the {'learning_rate': 1, 'max_depth': 3, 'n_estimators': 50}\n-0.41 + or -0.131 for the {'learning_rate': 1, 'max_depth': 3, 'n_estimators': 100}\n-0.066 + or -0.064 for the {'learning_rate': 1, 'max_depth': 5, 'n_estimators': 5}\n-0.763 + or -0.088 for the {'learning_rate': 1, 'max_depth': 5, 'n_estimators': 50}\n-0.808 + or -0.091 for the {'learning_rate': 1, 'max_depth': 5, 'n_estimators': 100}\n-0.377 + or -0.131 for the {'learning_rate': 1, 'max_depth': 7, 'n_estimators': 5}\n-0.751 + or -0.267 for the {'learning_rate': 1, 'max_depth': 7, 'n_estimators': 50}\n-0.779 + or -0.222 for the {'learning_rate': 1, 'max_depth': 7, 'n_estimators': 100}\n-0.631 + or -0.07 for the {'learning_rate': 1, 'max_depth': 9, 'n_estimators': 5}\n-0.867 + or -0.127 for the {'learning_rate': 1, 'max_depth': 9, 'n_estimators': 50}\n-0.863 + or -0.109 for the {'learning_rate': 1, 'max_depth': 9, 'n_estimators': 100}\n",
     "output_type": "stream"
    }
   ]
  },
  {
   "cell_type": "code",
   "metadata": {
    "tags": [],
    "cell_id": "00010-0dd1ff58-93ea-4062-8c80-a86011298c56",
    "deepnote_to_be_reexecuted": false,
    "source_hash": "20a6e555",
    "execution_start": 1632708258321,
    "execution_millis": 173,
    "deepnote_cell_type": "code"
   },
   "source": "train_data2 = global_df_final.drop(['home_team_covered', 'home_point_diff'], axis=1)\ntarget_label2 = global_df_final['home_point_diff']\n\ny_pred_full = cv.predict(train_data2)\n\n\nglobal_df_final_no_drop[\"predicted_diff\"] = y_pred_full\nglobal_df_final_no_drop\n\n#y_pred_full = cv.predict(x_test)\n\n#len(y_pred_full)\n\n#df_with_predictions = global_df3",
   "execution_count": 9,
   "outputs": [
    {
     "output_type": "execute_result",
     "execution_count": 9,
     "data": {
      "application/vnd.deepnote.dataframe.v2+json": {
       "row_count": 2939,
       "column_count": 22,
       "columns": [
        {
         "name": "schedule_date",
         "dtype": "object",
         "stats": {
          "unique_count": 601,
          "nan_count": 0,
          "categories": [
           {
            "name": "1/2/2011",
            "count": 16
           },
           {
            "name": "1/1/2012",
            "count": 16
           },
           {
            "name": "599 others",
            "count": 2907
           }
          ]
         }
        },
        {
         "name": "schedule_season",
         "dtype": "int64",
         "stats": {
          "unique_count": 11,
          "nan_count": 0,
          "min": "2010",
          "max": "2020",
          "histogram": [
           {
            "bin_start": 2010,
            "bin_end": 2011,
            "count": 267
           },
           {
            "bin_start": 2011,
            "bin_end": 2012,
            "count": 267
           },
           {
            "bin_start": 2012,
            "bin_end": 2013,
            "count": 267
           },
           {
            "bin_start": 2013,
            "bin_end": 2014,
            "count": 267
           },
           {
            "bin_start": 2014,
            "bin_end": 2015,
            "count": 267
           },
           {
            "bin_start": 2015,
            "bin_end": 2016,
            "count": 267
           },
           {
            "bin_start": 2016,
            "bin_end": 2017,
            "count": 267
           },
           {
            "bin_start": 2017,
            "bin_end": 2018,
            "count": 267
           },
           {
            "bin_start": 2018,
            "bin_end": 2019,
            "count": 267
           },
           {
            "bin_start": 2019,
            "bin_end": 2020,
            "count": 536
           }
          ]
         }
        },
        {
         "name": "schedule_week",
         "dtype": "object",
         "stats": {
          "unique_count": 23,
          "nan_count": 0,
          "categories": [
           {
            "name": "2",
            "count": 176
           },
           {
            "name": "3",
            "count": 176
           },
           {
            "name": "21 others",
            "count": 2587
           }
          ]
         }
        },
        {
         "name": "schedule_playoff",
         "dtype": "bool",
         "stats": {
          "unique_count": 2,
          "nan_count": 0,
          "categories": [
           {
            "name": "False",
            "count": 2816
           },
           {
            "name": "True",
            "count": 123
           }
          ]
         }
        },
        {
         "name": "team_home",
         "dtype": "object",
         "stats": {
          "unique_count": 32,
          "nan_count": 0,
          "categories": [
           {
            "name": "NE",
            "count": 107
           },
           {
            "name": "KC",
            "count": 98
           },
           {
            "name": "30 others",
            "count": 2734
           }
          ]
         }
        },
        {
         "name": "score_home",
         "dtype": "float64",
         "stats": {
          "unique_count": 57,
          "nan_count": 0,
          "min": "0.0",
          "max": "62.0",
          "histogram": [
           {
            "bin_start": 0,
            "bin_end": 6.2,
            "count": 117
           },
           {
            "bin_start": 6.2,
            "bin_end": 12.4,
            "count": 239
           },
           {
            "bin_start": 12.4,
            "bin_end": 18.6,
            "count": 528
           },
           {
            "bin_start": 18.6,
            "bin_end": 24.8,
            "count": 761
           },
           {
            "bin_start": 24.8,
            "bin_end": 31,
            "count": 538
           },
           {
            "bin_start": 31,
            "bin_end": 37.2,
            "count": 454
           },
           {
            "bin_start": 37.2,
            "bin_end": 43.4,
            "count": 191
           },
           {
            "bin_start": 43.4,
            "bin_end": 49.6,
            "count": 81
           },
           {
            "bin_start": 49.6,
            "bin_end": 55.800000000000004,
            "count": 24
           },
           {
            "bin_start": 55.800000000000004,
            "bin_end": 62,
            "count": 6
           }
          ]
         }
        },
        {
         "name": "score_away",
         "dtype": "float64",
         "stats": {
          "unique_count": 54,
          "nan_count": 0,
          "min": "0.0",
          "max": "59.0",
          "histogram": [
           {
            "bin_start": 0,
            "bin_end": 5.9,
            "count": 96
           },
           {
            "bin_start": 5.9,
            "bin_end": 11.8,
            "count": 351
           },
           {
            "bin_start": 11.8,
            "bin_end": 17.700000000000003,
            "count": 644
           },
           {
            "bin_start": 17.700000000000003,
            "bin_end": 23.6,
            "count": 604
           },
           {
            "bin_start": 23.6,
            "bin_end": 29.5,
            "count": 579
           },
           {
            "bin_start": 29.5,
            "bin_end": 35.400000000000006,
            "count": 406
           },
           {
            "bin_start": 35.400000000000006,
            "bin_end": 41.300000000000004,
            "count": 176
           },
           {
            "bin_start": 41.300000000000004,
            "bin_end": 47.2,
            "count": 56
           },
           {
            "bin_start": 47.2,
            "bin_end": 53.1,
            "count": 22
           },
           {
            "bin_start": 53.1,
            "bin_end": 59,
            "count": 5
           }
          ]
         }
        },
        {
         "name": "team_away",
         "dtype": "object",
         "stats": {
          "unique_count": 32,
          "nan_count": 0,
          "categories": [
           {
            "name": "SEA",
            "count": 99
           },
           {
            "name": "GB",
            "count": 98
           },
           {
            "name": "30 others",
            "count": 2742
           }
          ]
         }
        },
        {
         "name": "team_favorite_id",
         "dtype": "object",
         "stats": {
          "unique_count": 33,
          "nan_count": 0,
          "categories": [
           {
            "name": "NE",
            "count": 173
           },
           {
            "name": "GB",
            "count": 142
           },
           {
            "name": "31 others",
            "count": 2624
           }
          ]
         }
        },
        {
         "name": "spread_favorite",
         "dtype": "float64",
         "stats": {
          "unique_count": 41,
          "nan_count": 0,
          "min": "-26.5",
          "max": "0.0",
          "histogram": [
           {
            "bin_start": -26.5,
            "bin_end": -23.85,
            "count": 1
           },
           {
            "bin_start": -23.85,
            "bin_end": -21.2,
            "count": 1
           },
           {
            "bin_start": -21.2,
            "bin_end": -18.55,
            "count": 4
           },
           {
            "bin_start": -18.55,
            "bin_end": -15.9,
            "count": 25
           },
           {
            "bin_start": -15.9,
            "bin_end": -13.25,
            "count": 78
           },
           {
            "bin_start": -13.25,
            "bin_end": -10.600000000000001,
            "count": 98
           },
           {
            "bin_start": -10.600000000000001,
            "bin_end": -7.949999999999999,
            "count": 322
           },
           {
            "bin_start": -7.949999999999999,
            "bin_end": -5.300000000000001,
            "count": 740
           },
           {
            "bin_start": -5.300000000000001,
            "bin_end": -2.650000000000002,
            "count": 1068
           },
           {
            "bin_start": -2.650000000000002,
            "bin_end": 0,
            "count": 602
           }
          ]
         }
        },
        {
         "name": "over_under_line",
         "dtype": "float64",
         "stats": {
          "unique_count": 57,
          "nan_count": 0,
          "min": "33.0",
          "max": "63.5",
          "histogram": [
           {
            "bin_start": 33,
            "bin_end": 36.05,
            "count": 23
           },
           {
            "bin_start": 36.05,
            "bin_end": 39.1,
            "count": 207
           },
           {
            "bin_start": 39.1,
            "bin_end": 42.15,
            "count": 502
           },
           {
            "bin_start": 42.15,
            "bin_end": 45.2,
            "count": 822
           },
           {
            "bin_start": 45.2,
            "bin_end": 48.25,
            "count": 687
           },
           {
            "bin_start": 48.25,
            "bin_end": 51.3,
            "count": 407
           },
           {
            "bin_start": 51.3,
            "bin_end": 54.349999999999994,
            "count": 190
           },
           {
            "bin_start": 54.349999999999994,
            "bin_end": 57.4,
            "count": 87
           },
           {
            "bin_start": 57.4,
            "bin_end": 60.45,
            "count": 12
           },
           {
            "bin_start": 60.45,
            "bin_end": 63.5,
            "count": 2
           }
          ]
         }
        },
        {
         "name": "stadium_neutral",
         "dtype": "object",
         "stats": {
          "unique_count": 2,
          "nan_count": 0,
          "categories": [
           {
            "name": "False",
            "count": 2895
           },
           {
            "name": "True",
            "count": 44
           }
          ]
         }
        },
        {
         "name": "intra_division",
         "dtype": "bool",
         "stats": {
          "unique_count": 2,
          "nan_count": 0,
          "categories": [
           {
            "name": "False",
            "count": 1870
           },
           {
            "name": "True",
            "count": 1069
           }
          ]
         }
        },
        {
         "name": "home_point_diff",
         "dtype": "float64",
         "stats": {
          "unique_count": 91,
          "nan_count": 0,
          "min": "-49.0",
          "max": "58.0",
          "histogram": [
           {
            "bin_start": -49,
            "bin_end": -38.3,
            "count": 6
           },
           {
            "bin_start": -38.3,
            "bin_end": -27.6,
            "count": 76
           },
           {
            "bin_start": -27.6,
            "bin_end": -16.900000000000006,
            "count": 218
           },
           {
            "bin_start": -16.900000000000006,
            "bin_end": -6.200000000000003,
            "count": 457
           },
           {
            "bin_start": -6.200000000000003,
            "bin_end": 4.5,
            "count": 955
           },
           {
            "bin_start": 4.5,
            "bin_end": 15.199999999999989,
            "count": 722
           },
           {
            "bin_start": 15.199999999999989,
            "bin_end": 25.89999999999999,
            "count": 322
           },
           {
            "bin_start": 25.89999999999999,
            "bin_end": 36.599999999999994,
            "count": 149
           },
           {
            "bin_start": 36.599999999999994,
            "bin_end": 47.3,
            "count": 30
           },
           {
            "bin_start": 47.3,
            "bin_end": 58,
            "count": 4
           }
          ]
         }
        },
        {
         "name": "away_point_diff",
         "dtype": "float64",
         "stats": {
          "unique_count": 91,
          "nan_count": 0,
          "min": "-58.0",
          "max": "49.0",
          "histogram": [
           {
            "bin_start": -58,
            "bin_end": -47.3,
            "count": 4
           },
           {
            "bin_start": -47.3,
            "bin_end": -36.6,
            "count": 30
           },
           {
            "bin_start": -36.6,
            "bin_end": -25.900000000000006,
            "count": 149
           },
           {
            "bin_start": -25.900000000000006,
            "bin_end": -15.200000000000003,
            "count": 322
           },
           {
            "bin_start": -15.200000000000003,
            "bin_end": -4.5,
            "count": 722
           },
           {
            "bin_start": -4.5,
            "bin_end": 6.199999999999989,
            "count": 955
           },
           {
            "bin_start": 6.199999999999989,
            "bin_end": 16.89999999999999,
            "count": 457
           },
           {
            "bin_start": 16.89999999999999,
            "bin_end": 27.599999999999994,
            "count": 218
           },
           {
            "bin_start": 27.599999999999994,
            "bin_end": 38.3,
            "count": 76
           },
           {
            "bin_start": 38.3,
            "bin_end": 49,
            "count": 6
           }
          ]
         }
        },
        {
         "name": "home_spread",
         "dtype": "float64",
         "stats": {
          "unique_count": 71,
          "nan_count": 0,
          "min": "-26.5",
          "max": "18.0",
          "histogram": [
           {
            "bin_start": -26.5,
            "bin_end": -22.05,
            "count": 1
           },
           {
            "bin_start": -22.05,
            "bin_end": -17.6,
            "count": 5
           },
           {
            "bin_start": -17.6,
            "bin_end": -13.149999999999999,
            "count": 87
           },
           {
            "bin_start": -13.149999999999999,
            "bin_end": -8.7,
            "count": 266
           },
           {
            "bin_start": -8.7,
            "bin_end": -4.25,
            "count": 700
           },
           {
            "bin_start": -4.25,
            "bin_end": 0.20000000000000284,
            "count": 852
           },
           {
            "bin_start": 0.20000000000000284,
            "bin_end": 4.650000000000002,
            "count": 662
           },
           {
            "bin_start": 4.650000000000002,
            "bin_end": 9.100000000000001,
            "count": 290
           },
           {
            "bin_start": 9.100000000000001,
            "bin_end": 13.550000000000004,
            "count": 63
           },
           {
            "bin_start": 13.550000000000004,
            "bin_end": 18,
            "count": 13
           }
          ]
         }
        },
        {
         "name": "home_last_3",
         "dtype": "float64",
         "stats": {
          "unique_count": 164,
          "nan_count": 0,
          "min": "-117.0",
          "max": "120.0",
          "histogram": [
           {
            "bin_start": -117,
            "bin_end": -93.3,
            "count": 2
           },
           {
            "bin_start": -93.3,
            "bin_end": -69.6,
            "count": 13
           },
           {
            "bin_start": -69.6,
            "bin_end": -45.900000000000006,
            "count": 156
           },
           {
            "bin_start": -45.900000000000006,
            "bin_end": -22.200000000000003,
            "count": 454
           },
           {
            "bin_start": -22.200000000000003,
            "bin_end": 1.5,
            "count": 953
           },
           {
            "bin_start": 1.5,
            "bin_end": 25.19999999999999,
            "count": 855
           },
           {
            "bin_start": 25.19999999999999,
            "bin_end": 48.900000000000006,
            "count": 384
           },
           {
            "bin_start": 48.900000000000006,
            "bin_end": 72.6,
            "count": 102
           },
           {
            "bin_start": 72.6,
            "bin_end": 96.29999999999998,
            "count": 17
           },
           {
            "bin_start": 96.29999999999998,
            "bin_end": 120,
            "count": 3
           }
          ]
         }
        },
        {
         "name": "away_last_3",
         "dtype": "float64",
         "stats": {
          "unique_count": 162,
          "nan_count": 0,
          "min": "-117.0",
          "max": "93.0",
          "histogram": [
           {
            "bin_start": -117,
            "bin_end": -96,
            "count": 2
           },
           {
            "bin_start": -96,
            "bin_end": -75,
            "count": 9
           },
           {
            "bin_start": -75,
            "bin_end": -54,
            "count": 50
           },
           {
            "bin_start": -54,
            "bin_end": -33,
            "count": 251
           },
           {
            "bin_start": -33,
            "bin_end": -12,
            "count": 623
           },
           {
            "bin_start": -12,
            "bin_end": 9,
            "count": 848
           },
           {
            "bin_start": 9,
            "bin_end": 30,
            "count": 726
           },
           {
            "bin_start": 30,
            "bin_end": 51,
            "count": 312
           },
           {
            "bin_start": 51,
            "bin_end": 72,
            "count": 106
           },
           {
            "bin_start": 72,
            "bin_end": 93,
            "count": 12
           }
          ]
         }
        },
        {
         "name": "home_last_1",
         "dtype": "float64",
         "stats": {
          "unique_count": 93,
          "nan_count": 0,
          "min": "-58.0",
          "max": "49.0",
          "histogram": [
           {
            "bin_start": -58,
            "bin_end": -47.3,
            "count": 4
           },
           {
            "bin_start": -47.3,
            "bin_end": -36.6,
            "count": 21
           },
           {
            "bin_start": -36.6,
            "bin_end": -25.900000000000006,
            "count": 125
           },
           {
            "bin_start": -25.900000000000006,
            "bin_end": -15.200000000000003,
            "count": 294
           },
           {
            "bin_start": -15.200000000000003,
            "bin_end": -4.5,
            "count": 657
           },
           {
            "bin_start": -4.5,
            "bin_end": 6.199999999999989,
            "count": 995
           },
           {
            "bin_start": 6.199999999999989,
            "bin_end": 16.89999999999999,
            "count": 475
           },
           {
            "bin_start": 16.89999999999999,
            "bin_end": 27.599999999999994,
            "count": 260
           },
           {
            "bin_start": 27.599999999999994,
            "bin_end": 38.3,
            "count": 98
           },
           {
            "bin_start": 38.3,
            "bin_end": 49,
            "count": 10
           }
          ]
         }
        },
        {
         "name": "away_last_1",
         "dtype": "float64",
         "stats": {
          "unique_count": 91,
          "nan_count": 0,
          "min": "-55.0",
          "max": "58.0",
          "histogram": [
           {
            "bin_start": -55,
            "bin_end": -43.7,
            "count": 3
           },
           {
            "bin_start": -43.7,
            "bin_end": -32.4,
            "count": 41
           },
           {
            "bin_start": -32.4,
            "bin_end": -21.099999999999994,
            "count": 148
           },
           {
            "bin_start": -21.099999999999994,
            "bin_end": -9.799999999999997,
            "count": 461
           },
           {
            "bin_start": -9.799999999999997,
            "bin_end": 1.5,
            "count": 814
           },
           {
            "bin_start": 1.5,
            "bin_end": 12.800000000000011,
            "count": 883
           },
           {
            "bin_start": 12.800000000000011,
            "bin_end": 24.10000000000001,
            "count": 420
           },
           {
            "bin_start": 24.10000000000001,
            "bin_end": 35.400000000000006,
            "count": 142
           },
           {
            "bin_start": 35.400000000000006,
            "bin_end": 46.7,
            "count": 23
           },
           {
            "bin_start": 46.7,
            "bin_end": 58,
            "count": 4
           }
          ]
         }
        },
        {
         "name": "home_team_covered",
         "dtype": "bool",
         "stats": {
          "unique_count": 2,
          "nan_count": 0,
          "categories": [
           {
            "name": "False",
            "count": 1543
           },
           {
            "name": "True",
            "count": 1396
           }
          ]
         }
        },
        {
         "name": "predicted_diff",
         "dtype": "float64",
         "stats": {
          "unique_count": 192,
          "nan_count": 0,
          "min": "-17.85974906059672",
          "max": "11.887540608940993",
          "histogram": [
           {
            "bin_start": -17.85974906059672,
            "bin_end": -14.885020093642948,
            "count": 16
           },
           {
            "bin_start": -14.885020093642948,
            "bin_end": -11.910291126689177,
            "count": 0
           },
           {
            "bin_start": -11.910291126689177,
            "bin_end": -8.935562159735404,
            "count": 11
           },
           {
            "bin_start": -8.935562159735404,
            "bin_end": -5.960833192781633,
            "count": 277
           },
           {
            "bin_start": -5.960833192781633,
            "bin_end": -2.9861042258278623,
            "count": 197
           },
           {
            "bin_start": -2.9861042258278623,
            "bin_end": -0.011375258874089411,
            "count": 438
           },
           {
            "bin_start": -0.011375258874089411,
            "bin_end": 2.96335370807968,
            "count": 740
           },
           {
            "bin_start": 2.96335370807968,
            "bin_end": 5.938082675033453,
            "count": 500
           },
           {
            "bin_start": 5.938082675033453,
            "bin_end": 8.912811641987226,
            "count": 547
           },
           {
            "bin_start": 8.912811641987226,
            "bin_end": 11.887540608940993,
            "count": 213
           }
          ]
         }
        },
        {
         "name": "_deepnote_index_column",
         "dtype": "int64"
        }
       ],
       "rows_top": [
        {
         "schedule_date": "9/9/2010",
         "schedule_season": 2010,
         "schedule_week": "1",
         "schedule_playoff": "False",
         "team_home": "NO",
         "score_home": 14,
         "score_away": 9,
         "team_away": "MIN",
         "team_favorite_id": "NO",
         "spread_favorite": -5,
         "over_under_line": 49.5,
         "stadium_neutral": "False",
         "intra_division": "False",
         "home_point_diff": 5,
         "away_point_diff": -5,
         "home_spread": -5,
         "home_last_3": 0,
         "away_last_3": 0,
         "home_last_1": 0,
         "away_last_1": 0,
         "home_team_covered": "False",
         "predicted_diff": 5.08336235193154,
         "_deepnote_index_column": 7507
        },
        {
         "schedule_date": "9/12/2010",
         "schedule_season": 2010,
         "schedule_week": "1",
         "schedule_playoff": "False",
         "team_home": "BUF",
         "score_home": 10,
         "score_away": 15,
         "team_away": "MIA",
         "team_favorite_id": "MIA",
         "spread_favorite": -3,
         "over_under_line": 39,
         "stadium_neutral": "False",
         "intra_division": "True",
         "home_point_diff": -5,
         "away_point_diff": 5,
         "home_spread": 3,
         "home_last_3": 0,
         "away_last_3": 0,
         "home_last_1": 0,
         "away_last_1": 0,
         "home_team_covered": "False",
         "predicted_diff": -0.29849756811449324,
         "_deepnote_index_column": 7508
        },
        {
         "schedule_date": "9/12/2010",
         "schedule_season": 2010,
         "schedule_week": "1",
         "schedule_playoff": "False",
         "team_home": "CHI",
         "score_home": 19,
         "score_away": 14,
         "team_away": "DET",
         "team_favorite_id": "CHI",
         "spread_favorite": -6.5,
         "over_under_line": 45,
         "stadium_neutral": "False",
         "intra_division": "True",
         "home_point_diff": 5,
         "away_point_diff": -5,
         "home_spread": -6.5,
         "home_last_3": 0,
         "away_last_3": 0,
         "home_last_1": 0,
         "away_last_1": 0,
         "home_team_covered": "False",
         "predicted_diff": 6.403257476692456,
         "_deepnote_index_column": 7509
        },
        {
         "schedule_date": "9/12/2010",
         "schedule_season": 2010,
         "schedule_week": "1",
         "schedule_playoff": "False",
         "team_home": "HOU",
         "score_home": 34,
         "score_away": 24,
         "team_away": "IND",
         "team_favorite_id": "IND",
         "spread_favorite": -1,
         "over_under_line": 48,
         "stadium_neutral": "False",
         "intra_division": "True",
         "home_point_diff": 10,
         "away_point_diff": -10,
         "home_spread": 1,
         "home_last_3": 0,
         "away_last_3": 0,
         "home_last_1": 0,
         "away_last_1": 0,
         "home_team_covered": "True",
         "predicted_diff": 0.8574865009553028,
         "_deepnote_index_column": 7510
        },
        {
         "schedule_date": "9/12/2010",
         "schedule_season": 2010,
         "schedule_week": "1",
         "schedule_playoff": "False",
         "team_home": "JAX",
         "score_home": 24,
         "score_away": 17,
         "team_away": "DEN",
         "team_favorite_id": "JAX",
         "spread_favorite": -3,
         "over_under_line": 41.5,
         "stadium_neutral": "False",
         "intra_division": "False",
         "home_point_diff": 7,
         "away_point_diff": -7,
         "home_spread": -3,
         "home_last_3": 0,
         "away_last_3": 0,
         "home_last_1": 0,
         "away_last_1": 0,
         "home_team_covered": "True",
         "predicted_diff": 2.0664673492515715,
         "_deepnote_index_column": 7511
        },
        {
         "schedule_date": "9/12/2010",
         "schedule_season": 2010,
         "schedule_week": "1",
         "schedule_playoff": "False",
         "team_home": "NE",
         "score_home": 38,
         "score_away": 24,
         "team_away": "CIN",
         "team_favorite_id": "NE",
         "spread_favorite": -5.5,
         "over_under_line": 45,
         "stadium_neutral": "False",
         "intra_division": "False",
         "home_point_diff": 14,
         "away_point_diff": -14,
         "home_spread": -5.5,
         "home_last_3": 0,
         "away_last_3": 0,
         "home_last_1": 0,
         "away_last_1": 0,
         "home_team_covered": "True",
         "predicted_diff": 5.08336235193154,
         "_deepnote_index_column": 7512
        },
        {
         "schedule_date": "9/12/2010",
         "schedule_season": 2010,
         "schedule_week": "1",
         "schedule_playoff": "False",
         "team_home": "NYG",
         "score_home": 31,
         "score_away": 18,
         "team_away": "CAR",
         "team_favorite_id": "NYG",
         "spread_favorite": -6,
         "over_under_line": 41,
         "stadium_neutral": "False",
         "intra_division": "False",
         "home_point_diff": 13,
         "away_point_diff": -13,
         "home_spread": -6,
         "home_last_3": 0,
         "away_last_3": 0,
         "home_last_1": 0,
         "away_last_1": 0,
         "home_team_covered": "True",
         "predicted_diff": 5.08336235193154,
         "_deepnote_index_column": 7513
        },
        {
         "schedule_date": "9/12/2010",
         "schedule_season": 2010,
         "schedule_week": "1",
         "schedule_playoff": "False",
         "team_home": "PHI",
         "score_home": 20,
         "score_away": 27,
         "team_away": "GB",
         "team_favorite_id": "GB",
         "spread_favorite": -3,
         "over_under_line": 48,
         "stadium_neutral": "False",
         "intra_division": "False",
         "home_point_diff": -7,
         "away_point_diff": 7,
         "home_spread": 3,
         "home_last_3": 0,
         "away_last_3": 0,
         "home_last_1": 0,
         "away_last_1": 0,
         "home_team_covered": "False",
         "predicted_diff": -0.13858341384360268,
         "_deepnote_index_column": 7514
        },
        {
         "schedule_date": "9/12/2010",
         "schedule_season": 2010,
         "schedule_week": "1",
         "schedule_playoff": "False",
         "team_home": "PIT",
         "score_home": 15,
         "score_away": 9,
         "team_away": "ATL",
         "team_favorite_id": "ATL",
         "spread_favorite": -1.5,
         "over_under_line": 39.5,
         "stadium_neutral": "False",
         "intra_division": "False",
         "home_point_diff": 6,
         "away_point_diff": -6,
         "home_spread": 1.5,
         "home_last_3": 0,
         "away_last_3": 0,
         "home_last_1": 0,
         "away_last_1": 0,
         "home_team_covered": "True",
         "predicted_diff": 1.0174006552261934,
         "_deepnote_index_column": 7515
        },
        {
         "schedule_date": "9/12/2010",
         "schedule_season": 2010,
         "schedule_week": "1",
         "schedule_playoff": "False",
         "team_home": "SEA",
         "score_home": 31,
         "score_away": 6,
         "team_away": "SF",
         "team_favorite_id": "SF",
         "spread_favorite": -3,
         "over_under_line": 37,
         "stadium_neutral": "False",
         "intra_division": "True",
         "home_point_diff": 25,
         "away_point_diff": -25,
         "home_spread": 3,
         "home_last_3": 0,
         "away_last_3": 0,
         "home_last_1": 0,
         "away_last_1": 0,
         "home_team_covered": "True",
         "predicted_diff": -0.29849756811449324,
         "_deepnote_index_column": 7516
        },
        {
         "schedule_date": "9/12/2010",
         "schedule_season": 2010,
         "schedule_week": "1",
         "schedule_playoff": "False",
         "team_home": "LAR",
         "score_home": 13,
         "score_away": 17,
         "team_away": "ARI",
         "team_favorite_id": "ARI",
         "spread_favorite": -3,
         "over_under_line": 39.5,
         "stadium_neutral": "False",
         "intra_division": "True",
         "home_point_diff": -4,
         "away_point_diff": 4,
         "home_spread": 3,
         "home_last_3": 0,
         "away_last_3": 0,
         "home_last_1": 0,
         "away_last_1": 0,
         "home_team_covered": "False",
         "predicted_diff": -0.29849756811449324,
         "_deepnote_index_column": 7517
        },
        {
         "schedule_date": "9/12/2010",
         "schedule_season": 2010,
         "schedule_week": "1",
         "schedule_playoff": "False",
         "team_home": "TB",
         "score_home": 17,
         "score_away": 14,
         "team_away": "CLE",
         "team_favorite_id": "TB",
         "spread_favorite": -2.5,
         "over_under_line": 37,
         "stadium_neutral": "False",
         "intra_division": "False",
         "home_point_diff": 3,
         "away_point_diff": -3,
         "home_spread": -2.5,
         "home_last_3": 0,
         "away_last_3": 0,
         "home_last_1": 0,
         "away_last_1": 0,
         "home_team_covered": "True",
         "predicted_diff": 1.9130449479094909,
         "_deepnote_index_column": 7518
        },
        {
         "schedule_date": "9/12/2010",
         "schedule_season": 2010,
         "schedule_week": "1",
         "schedule_playoff": "False",
         "team_home": "TEN",
         "score_home": 38,
         "score_away": 13,
         "team_away": "LVR",
         "team_favorite_id": "TEN",
         "spread_favorite": -6.5,
         "over_under_line": 40,
         "stadium_neutral": "False",
         "intra_division": "False",
         "home_point_diff": 25,
         "away_point_diff": -25,
         "home_spread": -6.5,
         "home_last_3": 0,
         "away_last_3": 0,
         "home_last_1": 0,
         "away_last_1": 0,
         "home_team_covered": "True",
         "predicted_diff": 6.563171630963347,
         "_deepnote_index_column": 7519
        },
        {
         "schedule_date": "9/12/2010",
         "schedule_season": 2010,
         "schedule_week": "1",
         "schedule_playoff": "False",
         "team_home": "WAS",
         "score_home": 13,
         "score_away": 7,
         "team_away": "DAL",
         "team_favorite_id": "DAL",
         "spread_favorite": -3,
         "over_under_line": 40,
         "stadium_neutral": "False",
         "intra_division": "True",
         "home_point_diff": 6,
         "away_point_diff": -6,
         "home_spread": 3,
         "home_last_3": 0,
         "away_last_3": 0,
         "home_last_1": 0,
         "away_last_1": 0,
         "home_team_covered": "True",
         "predicted_diff": -0.29849756811449324,
         "_deepnote_index_column": 7520
        },
        {
         "schedule_date": "9/13/2010",
         "schedule_season": 2010,
         "schedule_week": "1",
         "schedule_playoff": "False",
         "team_home": "KC",
         "score_home": 21,
         "score_away": 14,
         "team_away": "LAC",
         "team_favorite_id": "LAC",
         "spread_favorite": -4,
         "over_under_line": 45.5,
         "stadium_neutral": "False",
         "intra_division": "True",
         "home_point_diff": 7,
         "away_point_diff": -7,
         "home_spread": 4,
         "home_last_3": 0,
         "away_last_3": 0,
         "home_last_1": 0,
         "away_last_1": 0,
         "home_team_covered": "True",
         "predicted_diff": -3.1443991048075164,
         "_deepnote_index_column": 7521
        },
        {
         "schedule_date": "9/13/2010",
         "schedule_season": 2010,
         "schedule_week": "1",
         "schedule_playoff": "False",
         "team_home": "NYJ",
         "score_home": 9,
         "score_away": 10,
         "team_away": "BAL",
         "team_favorite_id": "NYJ",
         "spread_favorite": -1,
         "over_under_line": 36.5,
         "stadium_neutral": "False",
         "intra_division": "False",
         "home_point_diff": -1,
         "away_point_diff": 1,
         "home_spread": -1,
         "home_last_3": 0,
         "away_last_3": 0,
         "home_last_1": 0,
         "away_last_1": 0,
         "home_team_covered": "False",
         "predicted_diff": 1.0174006552261934,
         "_deepnote_index_column": 7522
        },
        {
         "schedule_date": "9/19/2010",
         "schedule_season": 2010,
         "schedule_week": "2",
         "schedule_playoff": "False",
         "team_home": "ATL",
         "score_home": 41,
         "score_away": 7,
         "team_away": "ARI",
         "team_favorite_id": "ATL",
         "spread_favorite": -7,
         "over_under_line": 43.5,
         "stadium_neutral": "False",
         "intra_division": "False",
         "home_point_diff": 34,
         "away_point_diff": -34,
         "home_spread": -7,
         "home_last_3": -6,
         "away_last_3": 4,
         "home_last_1": -6,
         "away_last_1": 4,
         "home_team_covered": "True",
         "predicted_diff": 7.609076090120439,
         "_deepnote_index_column": 7523
        },
        {
         "schedule_date": "9/19/2010",
         "schedule_season": 2010,
         "schedule_week": "2",
         "schedule_playoff": "False",
         "team_home": "CAR",
         "score_home": 7,
         "score_away": 20,
         "team_away": "TB",
         "team_favorite_id": "CAR",
         "spread_favorite": -4,
         "over_under_line": 37.5,
         "stadium_neutral": "False",
         "intra_division": "True",
         "home_point_diff": -13,
         "away_point_diff": 13,
         "home_spread": -4,
         "home_last_3": -13,
         "away_last_3": 3,
         "home_last_1": -13,
         "away_last_1": 3,
         "home_team_covered": "False",
         "predicted_diff": 3.0989124903135767,
         "_deepnote_index_column": 7524
        },
        {
         "schedule_date": "9/19/2010",
         "schedule_season": 2010,
         "schedule_week": "2",
         "schedule_playoff": "False",
         "team_home": "CIN",
         "score_home": 15,
         "score_away": 10,
         "team_away": "BAL",
         "team_favorite_id": "BAL",
         "spread_favorite": -3,
         "over_under_line": 39.5,
         "stadium_neutral": "False",
         "intra_division": "True",
         "home_point_diff": 5,
         "away_point_diff": -5,
         "home_spread": 3,
         "home_last_3": -14,
         "away_last_3": 1,
         "home_last_1": -14,
         "away_last_1": 1,
         "home_team_covered": "True",
         "predicted_diff": -0.7301219906586216,
         "_deepnote_index_column": 7525
        },
        {
         "schedule_date": "9/19/2010",
         "schedule_season": 2010,
         "schedule_week": "2",
         "schedule_playoff": "False",
         "team_home": "CLE",
         "score_home": 14,
         "score_away": 16,
         "team_away": "KC",
         "team_favorite_id": "CLE",
         "spread_favorite": -3,
         "over_under_line": 38,
         "stadium_neutral": "False",
         "intra_division": "False",
         "home_point_diff": -2,
         "away_point_diff": 2,
         "home_spread": -3,
         "home_last_3": -3,
         "away_last_3": 7,
         "home_last_1": -3,
         "away_last_1": 7,
         "home_team_covered": "False",
         "predicted_diff": 2.0664673492515715,
         "_deepnote_index_column": 7526
        },
        {
         "schedule_date": "9/19/2010",
         "schedule_season": 2010,
         "schedule_week": "2",
         "schedule_playoff": "False",
         "team_home": "DAL",
         "score_home": 20,
         "score_away": 27,
         "team_away": "CHI",
         "team_favorite_id": "DAL",
         "spread_favorite": -7,
         "over_under_line": 41.5,
         "stadium_neutral": "False",
         "intra_division": "False",
         "home_point_diff": -7,
         "away_point_diff": 7,
         "home_spread": -7,
         "home_last_3": -6,
         "away_last_3": 5,
         "home_last_1": -6,
         "away_last_1": 5,
         "home_team_covered": "False",
         "predicted_diff": 7.609076090120439,
         "_deepnote_index_column": 7527
        },
        {
         "schedule_date": "9/19/2010",
         "schedule_season": 2010,
         "schedule_week": "2",
         "schedule_playoff": "False",
         "team_home": "DEN",
         "score_home": 31,
         "score_away": 14,
         "team_away": "SEA",
         "team_favorite_id": "DEN",
         "spread_favorite": -3.5,
         "over_under_line": 41,
         "stadium_neutral": "False",
         "intra_division": "False",
         "home_point_diff": 17,
         "away_point_diff": -17,
         "home_spread": -3.5,
         "home_last_3": -7,
         "away_last_3": 25,
         "home_last_1": -7,
         "away_last_1": 25,
         "home_team_covered": "True",
         "predicted_diff": 3.258826644584467,
         "_deepnote_index_column": 7528
        }
       ],
       "rows_bottom": [
        {
         "schedule_date": "1/3/2021",
         "schedule_season": 2020,
         "schedule_week": "17",
         "schedule_playoff": "False",
         "team_home": "DET",
         "score_home": 35,
         "score_away": 37,
         "team_away": "MIN",
         "team_favorite_id": "MIN",
         "spread_favorite": -3,
         "over_under_line": 53.5,
         "stadium_neutral": "False",
         "intra_division": "True",
         "home_point_diff": -2,
         "away_point_diff": 2,
         "home_spread": 3,
         "home_last_3": -68,
         "away_last_3": -37,
         "home_last_1": -40,
         "away_last_1": -19,
         "home_team_covered": "True",
         "predicted_diff": -1.634317376327056,
         "_deepnote_index_column": 10423
        },
        {
         "schedule_date": "1/3/2021",
         "schedule_season": 2020,
         "schedule_week": "17",
         "schedule_playoff": "False",
         "team_home": "HOU",
         "score_home": 38,
         "score_away": 41,
         "team_away": "TEN",
         "team_favorite_id": "TEN",
         "spread_favorite": -7,
         "over_under_line": 55.5,
         "stadium_neutral": "False",
         "intra_division": "True",
         "home_point_diff": -3,
         "away_point_diff": 3,
         "home_spread": 7,
         "home_last_3": -42,
         "away_last_3": 16,
         "home_last_1": -6,
         "away_last_1": -26,
         "home_team_covered": "True",
         "predicted_diff": -8.509003410869585,
         "_deepnote_index_column": 10424
        },
        {
         "schedule_date": "1/3/2021",
         "schedule_season": 2020,
         "schedule_week": "17",
         "schedule_playoff": "False",
         "team_home": "IND",
         "score_home": 28,
         "score_away": 14,
         "team_away": "JAX",
         "team_favorite_id": "IND",
         "spread_favorite": -15.5,
         "over_under_line": 48,
         "stadium_neutral": "False",
         "intra_division": "True",
         "home_point_diff": 14,
         "away_point_diff": -14,
         "home_spread": -15.5,
         "home_last_3": 20,
         "away_last_3": -71,
         "home_last_1": -4,
         "away_last_1": -24,
         "home_team_covered": "False",
         "predicted_diff": 11.525666453903456,
         "_deepnote_index_column": 10425
        },
        {
         "schedule_date": "1/3/2021",
         "schedule_season": 2020,
         "schedule_week": "17",
         "schedule_playoff": "False",
         "team_home": "KC",
         "score_home": 21,
         "score_away": 38,
         "team_away": "LAC",
         "team_favorite_id": "LAC",
         "spread_favorite": -6.5,
         "over_under_line": 43,
         "stadium_neutral": "False",
         "intra_division": "True",
         "home_point_diff": -17,
         "away_point_diff": 17,
         "home_spread": 6.5,
         "home_last_3": 12,
         "away_last_3": 9,
         "home_last_1": 3,
         "away_last_1": 3,
         "home_team_covered": "False",
         "predicted_diff": -7.375143603423672,
         "_deepnote_index_column": 10426
        },
        {
         "schedule_date": "1/3/2021",
         "schedule_season": 2020,
         "schedule_week": "17",
         "schedule_playoff": "False",
         "team_home": "LAR",
         "score_home": 18,
         "score_away": 7,
         "team_away": "ARI",
         "team_favorite_id": "LAR",
         "spread_favorite": -1,
         "over_under_line": 42,
         "stadium_neutral": "False",
         "intra_division": "True",
         "home_point_diff": 11,
         "away_point_diff": -11,
         "home_spread": -1,
         "home_last_3": 7,
         "away_last_3": 18,
         "home_last_1": -11,
         "away_last_1": -8,
         "home_team_covered": "True",
         "predicted_diff": 0.6555265001886552,
         "_deepnote_index_column": 10427
        },
        {
         "schedule_date": "1/3/2021",
         "schedule_season": 2020,
         "schedule_week": "17",
         "schedule_playoff": "False",
         "team_home": "NE",
         "score_home": 28,
         "score_away": 14,
         "team_away": "NYJ",
         "team_favorite_id": "NE",
         "spread_favorite": -3,
         "over_under_line": 41,
         "stadium_neutral": "False",
         "intra_division": "True",
         "home_point_diff": 14,
         "away_point_diff": -14,
         "home_spread": -3,
         "home_last_3": -60,
         "away_last_3": -27,
         "home_last_1": -29,
         "away_last_1": 7,
         "home_team_covered": "True",
         "predicted_diff": 0.5707333867681172,
         "_deepnote_index_column": 10428
        },
        {
         "schedule_date": "1/3/2021",
         "schedule_season": 2020,
         "schedule_week": "17",
         "schedule_playoff": "False",
         "team_home": "NYG",
         "score_home": 23,
         "score_away": 19,
         "team_away": "DAL",
         "team_favorite_id": "DAL",
         "spread_favorite": -1.5,
         "over_under_line": 43.5,
         "stadium_neutral": "False",
         "intra_division": "True",
         "home_point_diff": 4,
         "away_point_diff": -4,
         "home_spread": 1.5,
         "home_last_3": -47,
         "away_last_3": 51,
         "home_last_1": -14,
         "away_last_1": 20,
         "home_team_covered": "True",
         "predicted_diff": -0.47833330725726086,
         "_deepnote_index_column": 10429
        },
        {
         "schedule_date": "1/3/2021",
         "schedule_season": 2020,
         "schedule_week": "17",
         "schedule_playoff": "False",
         "team_home": "PHI",
         "score_home": 14,
         "score_away": 20,
         "team_away": "WAS",
         "team_favorite_id": "WAS",
         "spread_favorite": -6.5,
         "over_under_line": 43.5,
         "stadium_neutral": "False",
         "intra_division": "True",
         "home_point_diff": -6,
         "away_point_diff": 6,
         "home_spread": 6.5,
         "home_last_3": -24,
         "away_last_3": -4,
         "home_last_1": -20,
         "away_last_1": -7,
         "home_team_covered": "True",
         "predicted_diff": -8.509003410869585,
         "_deepnote_index_column": 10430
        },
        {
         "schedule_date": "1/3/2021",
         "schedule_season": 2020,
         "schedule_week": "17",
         "schedule_playoff": "False",
         "team_home": "SF",
         "score_home": 23,
         "score_away": 26,
         "team_away": "SEA",
         "team_favorite_id": "SEA",
         "spread_favorite": -7,
         "over_under_line": 45,
         "stadium_neutral": "False",
         "intra_division": "True",
         "home_point_diff": -3,
         "away_point_diff": 3,
         "home_spread": 7,
         "home_last_3": -8,
         "away_last_3": 53,
         "home_last_1": 8,
         "away_last_1": 11,
         "home_team_covered": "True",
         "predicted_diff": -7.8067680259678,
         "_deepnote_index_column": 10431
        },
        {
         "schedule_date": "1/3/2021",
         "schedule_season": 2020,
         "schedule_week": "17",
         "schedule_playoff": "False",
         "team_home": "TB",
         "score_home": 44,
         "score_away": 27,
         "team_away": "ATL",
         "team_favorite_id": "TB",
         "spread_favorite": -7,
         "over_under_line": 51,
         "stadium_neutral": "False",
         "intra_division": "True",
         "home_point_diff": 17,
         "away_point_diff": -17,
         "home_spread": -7,
         "home_last_3": 56,
         "away_last_3": -10,
         "home_last_1": 40,
         "away_last_1": -3,
         "home_team_covered": "True",
         "predicted_diff": 7.2472019350829004,
         "_deepnote_index_column": 10432
        },
        {
         "schedule_date": "1/9/2021",
         "schedule_season": 2020,
         "schedule_week": "Wildcard",
         "schedule_playoff": "True",
         "team_home": "BUF",
         "score_home": 27,
         "score_away": 24,
         "team_away": "IND",
         "team_favorite_id": "BUF",
         "spread_favorite": -7,
         "over_under_line": 50.5,
         "stadium_neutral": "False",
         "intra_division": "False",
         "home_point_diff": 3,
         "away_point_diff": -3,
         "home_spread": -7,
         "home_last_3": 88,
         "away_last_3": 17,
         "home_last_1": 30,
         "away_last_1": 14,
         "home_team_covered": "False",
         "predicted_diff": 7.407116089353791,
         "_deepnote_index_column": 10433
        },
        {
         "schedule_date": "1/9/2021",
         "schedule_season": 2020,
         "schedule_week": "Wildcard",
         "schedule_playoff": "True",
         "team_home": "SEA",
         "score_home": 20,
         "score_away": 30,
         "team_away": "LAR",
         "team_favorite_id": "SEA",
         "spread_favorite": -3,
         "over_under_line": 42.5,
         "stadium_neutral": "False",
         "intra_division": "True",
         "home_point_diff": -10,
         "away_point_diff": 10,
         "home_spread": -3,
         "home_last_3": 19,
         "away_last_3": -3,
         "home_last_1": 3,
         "away_last_1": 11,
         "home_team_covered": "False",
         "predicted_diff": 1.704593194214034,
         "_deepnote_index_column": 10434
        },
        {
         "schedule_date": "1/9/2021",
         "schedule_season": 2020,
         "schedule_week": "Wildcard",
         "schedule_playoff": "True",
         "team_home": "WAS",
         "score_home": 23,
         "score_away": 31,
         "team_away": "TB",
         "team_favorite_id": "TB",
         "spread_favorite": -10,
         "over_under_line": 45,
         "stadium_neutral": "False",
         "intra_division": "False",
         "home_point_diff": -8,
         "away_point_diff": 8,
         "home_spread": 10,
         "home_last_3": -6,
         "away_last_3": 61,
         "home_last_1": 6,
         "away_last_1": 17,
         "home_team_covered": "True",
         "predicted_diff": -7.642159768999775,
         "_deepnote_index_column": 10435
        },
        {
         "schedule_date": "1/10/2021",
         "schedule_season": 2020,
         "schedule_week": "Wildcard",
         "schedule_playoff": "True",
         "team_home": "NO",
         "score_home": 21,
         "score_away": 9,
         "team_away": "CHI",
         "team_favorite_id": "NO",
         "spread_favorite": -11,
         "over_under_line": 48,
         "stadium_neutral": "False",
         "intra_division": "False",
         "home_point_diff": 12,
         "away_point_diff": -12,
         "home_spread": -11,
         "home_last_3": 42,
         "away_last_3": 11,
         "home_last_1": 26,
         "away_last_1": -19,
         "home_team_covered": "True",
         "predicted_diff": 11.685580608174346,
         "_deepnote_index_column": 10436
        },
        {
         "schedule_date": "1/10/2021",
         "schedule_season": 2020,
         "schedule_week": "Wildcard",
         "schedule_playoff": "True",
         "team_home": "PIT",
         "score_home": 37,
         "score_away": 48,
         "team_away": "CLE",
         "team_favorite_id": "PIT",
         "spread_favorite": -5.5,
         "over_under_line": 47.5,
         "stadium_neutral": "False",
         "intra_division": "True",
         "home_point_diff": -11,
         "away_point_diff": 11,
         "home_spread": -5.5,
         "home_last_3": -8,
         "away_last_3": 9,
         "home_last_1": -2,
         "away_last_1": 2,
         "home_team_covered": "False",
         "predicted_diff": 4.2898637743498735,
         "_deepnote_index_column": 10437
        },
        {
         "schedule_date": "1/10/2021",
         "schedule_season": 2020,
         "schedule_week": "Wildcard",
         "schedule_playoff": "True",
         "team_home": "TEN",
         "score_home": 13,
         "score_away": 20,
         "team_away": "BAL",
         "team_favorite_id": "BAL",
         "spread_favorite": -3.5,
         "over_under_line": 53.5,
         "stadium_neutral": "False",
         "intra_division": "False",
         "home_point_diff": -7,
         "away_point_diff": 7,
         "home_spread": 3.5,
         "home_last_3": -2,
         "away_last_3": 75,
         "home_last_1": 3,
         "away_last_1": 35,
         "home_team_covered": "False",
         "predicted_diff": -3.1864449513032733,
         "_deepnote_index_column": 10438
        },
        {
         "schedule_date": "1/16/2021",
         "schedule_season": 2020,
         "schedule_week": "Division",
         "schedule_playoff": "True",
         "team_home": "BUF",
         "score_home": 17,
         "score_away": 3,
         "team_away": "BAL",
         "team_favorite_id": "BUF",
         "spread_favorite": -2.5,
         "over_under_line": 49.5,
         "stadium_neutral": "False",
         "intra_division": "False",
         "home_point_diff": 14,
         "away_point_diff": -14,
         "home_spread": -2.5,
         "home_last_3": 62,
         "away_last_3": 56,
         "home_last_1": 3,
         "away_last_1": 7,
         "home_team_covered": "True",
         "predicted_diff": 1.7110849471428435,
         "_deepnote_index_column": 10439
        },
        {
         "schedule_date": "1/16/2021",
         "schedule_season": 2020,
         "schedule_week": "Division",
         "schedule_playoff": "True",
         "team_home": "GB",
         "score_home": 32,
         "score_away": 18,
         "team_away": "LAR",
         "team_favorite_id": "GB",
         "spread_favorite": -7,
         "over_under_line": 45,
         "stadium_neutral": "False",
         "intra_division": "False",
         "home_point_diff": 14,
         "away_point_diff": -14,
         "home_spread": -7,
         "home_last_3": 53,
         "away_last_3": 10,
         "home_last_1": 19,
         "away_last_1": 10,
         "home_team_covered": "True",
         "predicted_diff": 7.407116089353791,
         "_deepnote_index_column": 10440
        },
        {
         "schedule_date": "1/17/2021",
         "schedule_season": 2020,
         "schedule_week": "Division",
         "schedule_playoff": "True",
         "team_home": "KC",
         "score_home": 22,
         "score_away": 17,
         "team_away": "CLE",
         "team_favorite_id": "KC",
         "spread_favorite": -8,
         "over_under_line": 56,
         "stadium_neutral": "False",
         "intra_division": "False",
         "home_point_diff": 5,
         "away_point_diff": -5,
         "home_spread": -8,
         "home_last_3": -11,
         "away_last_3": 6,
         "home_last_1": -17,
         "away_last_1": 11,
         "home_team_covered": "False",
         "predicted_diff": 6.975491666809663,
         "_deepnote_index_column": 10441
        },
        {
         "schedule_date": "1/17/2021",
         "schedule_season": 2020,
         "schedule_week": "Division",
         "schedule_playoff": "True",
         "team_home": "NO",
         "score_home": 20,
         "score_away": 30,
         "team_away": "TB",
         "team_favorite_id": "NO",
         "spread_favorite": -2.5,
         "over_under_line": 53,
         "stadium_neutral": "False",
         "intra_division": "True",
         "home_point_diff": -10,
         "away_point_diff": 10,
         "home_spread": -2.5,
         "home_last_3": 57,
         "away_last_3": 65,
         "home_last_1": 12,
         "away_last_1": 8,
         "home_team_covered": "False",
         "predicted_diff": 1.551170792871953,
         "_deepnote_index_column": 10442
        },
        {
         "schedule_date": "1/24/2021",
         "schedule_season": 2020,
         "schedule_week": "Conference",
         "schedule_playoff": "True",
         "team_home": "GB",
         "score_home": 26,
         "score_away": 31,
         "team_away": "TB",
         "team_favorite_id": "GB",
         "spread_favorite": -3,
         "over_under_line": 53,
         "stadium_neutral": "False",
         "intra_division": "False",
         "home_point_diff": -5,
         "away_point_diff": 5,
         "home_spread": -3,
         "home_last_3": 59,
         "away_last_3": 35,
         "home_last_1": 14,
         "away_last_1": 10,
         "home_team_covered": "False",
         "predicted_diff": 1.8645073484849246,
         "_deepnote_index_column": 10443
        },
        {
         "schedule_date": "1/24/2021",
         "schedule_season": 2020,
         "schedule_week": "Conference",
         "schedule_playoff": "True",
         "team_home": "KC",
         "score_home": 38,
         "score_away": 24,
         "team_away": "BUF",
         "team_favorite_id": "KC",
         "spread_favorite": -3,
         "over_under_line": 55,
         "stadium_neutral": "False",
         "intra_division": "False",
         "home_point_diff": 14,
         "away_point_diff": -14,
         "home_spread": -3,
         "home_last_3": -9,
         "away_last_3": 47,
         "home_last_1": 5,
         "away_last_1": 14,
         "home_team_covered": "True",
         "predicted_diff": 1.4328829259407962,
         "_deepnote_index_column": 10444
        },
        {
         "schedule_date": "2/7/2021",
         "schedule_season": 2020,
         "schedule_week": "Superbowl",
         "schedule_playoff": "True",
         "team_home": "TB",
         "score_home": 31,
         "score_away": 9,
         "team_away": "KC",
         "team_favorite_id": "KC",
         "spread_favorite": -3,
         "over_under_line": 54.5,
         "stadium_neutral": "False",
         "intra_division": "False",
         "home_point_diff": 22,
         "away_point_diff": -22,
         "home_spread": 3,
         "home_last_3": 23,
         "away_last_3": 2,
         "home_last_1": 5,
         "away_last_1": 14,
         "home_team_covered": "True",
         "predicted_diff": -0.34054341461024995,
         "_deepnote_index_column": 10445
        }
       ]
      },
      "text/plain": "      schedule_date  schedule_season schedule_week  schedule_playoff  \\\n7507       9/9/2010             2010             1             False   \n7508      9/12/2010             2010             1             False   \n7509      9/12/2010             2010             1             False   \n7510      9/12/2010             2010             1             False   \n7511      9/12/2010             2010             1             False   \n...             ...              ...           ...               ...   \n10441     1/17/2021             2020      Division              True   \n10442     1/17/2021             2020      Division              True   \n10443     1/24/2021             2020    Conference              True   \n10444     1/24/2021             2020    Conference              True   \n10445      2/7/2021             2020     Superbowl              True   \n\n      team_home  score_home  score_away team_away team_favorite_id  \\\n7507         NO        14.0         9.0       MIN               NO   \n7508        BUF        10.0        15.0       MIA              MIA   \n7509        CHI        19.0        14.0       DET              CHI   \n7510        HOU        34.0        24.0       IND              IND   \n7511        JAX        24.0        17.0       DEN              JAX   \n...         ...         ...         ...       ...              ...   \n10441        KC        22.0        17.0       CLE               KC   \n10442        NO        20.0        30.0        TB               NO   \n10443        GB        26.0        31.0        TB               GB   \n10444        KC        38.0        24.0       BUF               KC   \n10445        TB        31.0         9.0        KC               KC   \n\n       spread_favorite  ...  intra_division home_point_diff  away_point_diff  \\\n7507              -5.0  ...           False             5.0             -5.0   \n7508              -3.0  ...            True            -5.0              5.0   \n7509              -6.5  ...            True             5.0             -5.0   \n7510              -1.0  ...            True            10.0            -10.0   \n7511              -3.0  ...           False             7.0             -7.0   \n...                ...  ...             ...             ...              ...   \n10441             -8.0  ...           False             5.0             -5.0   \n10442             -2.5  ...            True           -10.0             10.0   \n10443             -3.0  ...           False            -5.0              5.0   \n10444             -3.0  ...           False            14.0            -14.0   \n10445             -3.0  ...           False            22.0            -22.0   \n\n       home_spread  home_last_3  away_last_3  home_last_1  away_last_1  \\\n7507          -5.0          0.0          0.0          0.0          0.0   \n7508           3.0          0.0          0.0          0.0          0.0   \n7509          -6.5          0.0          0.0          0.0          0.0   \n7510           1.0          0.0          0.0          0.0          0.0   \n7511          -3.0          0.0          0.0          0.0          0.0   \n...            ...          ...          ...          ...          ...   \n10441         -8.0        -11.0          6.0        -17.0         11.0   \n10442         -2.5         57.0         65.0         12.0          8.0   \n10443         -3.0         59.0         35.0         14.0         10.0   \n10444         -3.0         -9.0         47.0          5.0         14.0   \n10445          3.0         23.0          2.0          5.0         14.0   \n\n       home_team_covered  predicted_diff  \n7507               False        5.083362  \n7508               False       -0.298498  \n7509               False        6.403257  \n7510                True        0.857487  \n7511                True        2.066467  \n...                  ...             ...  \n10441              False        6.975492  \n10442              False        1.551171  \n10443              False        1.864507  \n10444               True        1.432883  \n10445               True       -0.340543  \n\n[2939 rows x 22 columns]",
      "text/html": "<div>\n<style scoped>\n    .dataframe tbody tr th:only-of-type {\n        vertical-align: middle;\n    }\n\n    .dataframe tbody tr th {\n        vertical-align: top;\n    }\n\n    .dataframe thead th {\n        text-align: right;\n    }\n</style>\n<table border=\"1\" class=\"dataframe\">\n  <thead>\n    <tr style=\"text-align: right;\">\n      <th></th>\n      <th>schedule_date</th>\n      <th>schedule_season</th>\n      <th>schedule_week</th>\n      <th>schedule_playoff</th>\n      <th>team_home</th>\n      <th>score_home</th>\n      <th>score_away</th>\n      <th>team_away</th>\n      <th>team_favorite_id</th>\n      <th>spread_favorite</th>\n      <th>...</th>\n      <th>intra_division</th>\n      <th>home_point_diff</th>\n      <th>away_point_diff</th>\n      <th>home_spread</th>\n      <th>home_last_3</th>\n      <th>away_last_3</th>\n      <th>home_last_1</th>\n      <th>away_last_1</th>\n      <th>home_team_covered</th>\n      <th>predicted_diff</th>\n    </tr>\n  </thead>\n  <tbody>\n    <tr>\n      <th>7507</th>\n      <td>9/9/2010</td>\n      <td>2010</td>\n      <td>1</td>\n      <td>False</td>\n      <td>NO</td>\n      <td>14.0</td>\n      <td>9.0</td>\n      <td>MIN</td>\n      <td>NO</td>\n      <td>-5.0</td>\n      <td>...</td>\n      <td>False</td>\n      <td>5.0</td>\n      <td>-5.0</td>\n      <td>-5.0</td>\n      <td>0.0</td>\n      <td>0.0</td>\n      <td>0.0</td>\n      <td>0.0</td>\n      <td>False</td>\n      <td>5.083362</td>\n    </tr>\n    <tr>\n      <th>7508</th>\n      <td>9/12/2010</td>\n      <td>2010</td>\n      <td>1</td>\n      <td>False</td>\n      <td>BUF</td>\n      <td>10.0</td>\n      <td>15.0</td>\n      <td>MIA</td>\n      <td>MIA</td>\n      <td>-3.0</td>\n      <td>...</td>\n      <td>True</td>\n      <td>-5.0</td>\n      <td>5.0</td>\n      <td>3.0</td>\n      <td>0.0</td>\n      <td>0.0</td>\n      <td>0.0</td>\n      <td>0.0</td>\n      <td>False</td>\n      <td>-0.298498</td>\n    </tr>\n    <tr>\n      <th>7509</th>\n      <td>9/12/2010</td>\n      <td>2010</td>\n      <td>1</td>\n      <td>False</td>\n      <td>CHI</td>\n      <td>19.0</td>\n      <td>14.0</td>\n      <td>DET</td>\n      <td>CHI</td>\n      <td>-6.5</td>\n      <td>...</td>\n      <td>True</td>\n      <td>5.0</td>\n      <td>-5.0</td>\n      <td>-6.5</td>\n      <td>0.0</td>\n      <td>0.0</td>\n      <td>0.0</td>\n      <td>0.0</td>\n      <td>False</td>\n      <td>6.403257</td>\n    </tr>\n    <tr>\n      <th>7510</th>\n      <td>9/12/2010</td>\n      <td>2010</td>\n      <td>1</td>\n      <td>False</td>\n      <td>HOU</td>\n      <td>34.0</td>\n      <td>24.0</td>\n      <td>IND</td>\n      <td>IND</td>\n      <td>-1.0</td>\n      <td>...</td>\n      <td>True</td>\n      <td>10.0</td>\n      <td>-10.0</td>\n      <td>1.0</td>\n      <td>0.0</td>\n      <td>0.0</td>\n      <td>0.0</td>\n      <td>0.0</td>\n      <td>True</td>\n      <td>0.857487</td>\n    </tr>\n    <tr>\n      <th>7511</th>\n      <td>9/12/2010</td>\n      <td>2010</td>\n      <td>1</td>\n      <td>False</td>\n      <td>JAX</td>\n      <td>24.0</td>\n      <td>17.0</td>\n      <td>DEN</td>\n      <td>JAX</td>\n      <td>-3.0</td>\n      <td>...</td>\n      <td>False</td>\n      <td>7.0</td>\n      <td>-7.0</td>\n      <td>-3.0</td>\n      <td>0.0</td>\n      <td>0.0</td>\n      <td>0.0</td>\n      <td>0.0</td>\n      <td>True</td>\n      <td>2.066467</td>\n    </tr>\n    <tr>\n      <th>...</th>\n      <td>...</td>\n      <td>...</td>\n      <td>...</td>\n      <td>...</td>\n      <td>...</td>\n      <td>...</td>\n      <td>...</td>\n      <td>...</td>\n      <td>...</td>\n      <td>...</td>\n      <td>...</td>\n      <td>...</td>\n      <td>...</td>\n      <td>...</td>\n      <td>...</td>\n      <td>...</td>\n      <td>...</td>\n      <td>...</td>\n      <td>...</td>\n      <td>...</td>\n      <td>...</td>\n    </tr>\n    <tr>\n      <th>10441</th>\n      <td>1/17/2021</td>\n      <td>2020</td>\n      <td>Division</td>\n      <td>True</td>\n      <td>KC</td>\n      <td>22.0</td>\n      <td>17.0</td>\n      <td>CLE</td>\n      <td>KC</td>\n      <td>-8.0</td>\n      <td>...</td>\n      <td>False</td>\n      <td>5.0</td>\n      <td>-5.0</td>\n      <td>-8.0</td>\n      <td>-11.0</td>\n      <td>6.0</td>\n      <td>-17.0</td>\n      <td>11.0</td>\n      <td>False</td>\n      <td>6.975492</td>\n    </tr>\n    <tr>\n      <th>10442</th>\n      <td>1/17/2021</td>\n      <td>2020</td>\n      <td>Division</td>\n      <td>True</td>\n      <td>NO</td>\n      <td>20.0</td>\n      <td>30.0</td>\n      <td>TB</td>\n      <td>NO</td>\n      <td>-2.5</td>\n      <td>...</td>\n      <td>True</td>\n      <td>-10.0</td>\n      <td>10.0</td>\n      <td>-2.5</td>\n      <td>57.0</td>\n      <td>65.0</td>\n      <td>12.0</td>\n      <td>8.0</td>\n      <td>False</td>\n      <td>1.551171</td>\n    </tr>\n    <tr>\n      <th>10443</th>\n      <td>1/24/2021</td>\n      <td>2020</td>\n      <td>Conference</td>\n      <td>True</td>\n      <td>GB</td>\n      <td>26.0</td>\n      <td>31.0</td>\n      <td>TB</td>\n      <td>GB</td>\n      <td>-3.0</td>\n      <td>...</td>\n      <td>False</td>\n      <td>-5.0</td>\n      <td>5.0</td>\n      <td>-3.0</td>\n      <td>59.0</td>\n      <td>35.0</td>\n      <td>14.0</td>\n      <td>10.0</td>\n      <td>False</td>\n      <td>1.864507</td>\n    </tr>\n    <tr>\n      <th>10444</th>\n      <td>1/24/2021</td>\n      <td>2020</td>\n      <td>Conference</td>\n      <td>True</td>\n      <td>KC</td>\n      <td>38.0</td>\n      <td>24.0</td>\n      <td>BUF</td>\n      <td>KC</td>\n      <td>-3.0</td>\n      <td>...</td>\n      <td>False</td>\n      <td>14.0</td>\n      <td>-14.0</td>\n      <td>-3.0</td>\n      <td>-9.0</td>\n      <td>47.0</td>\n      <td>5.0</td>\n      <td>14.0</td>\n      <td>True</td>\n      <td>1.432883</td>\n    </tr>\n    <tr>\n      <th>10445</th>\n      <td>2/7/2021</td>\n      <td>2020</td>\n      <td>Superbowl</td>\n      <td>True</td>\n      <td>TB</td>\n      <td>31.0</td>\n      <td>9.0</td>\n      <td>KC</td>\n      <td>KC</td>\n      <td>-3.0</td>\n      <td>...</td>\n      <td>False</td>\n      <td>22.0</td>\n      <td>-22.0</td>\n      <td>3.0</td>\n      <td>23.0</td>\n      <td>2.0</td>\n      <td>5.0</td>\n      <td>14.0</td>\n      <td>True</td>\n      <td>-0.340543</td>\n    </tr>\n  </tbody>\n</table>\n<p>2939 rows × 22 columns</p>\n</div>"
     },
     "metadata": {}
    }
   ]
  },
  {
   "cell_type": "code",
   "metadata": {
    "tags": [],
    "cell_id": "00011-fc00a92b-6802-4a32-854b-d541199da132",
    "deepnote_to_be_reexecuted": false,
    "source_hash": "e272072b",
    "execution_start": 1632708258491,
    "execution_millis": 223,
    "deepnote_cell_type": "code"
   },
   "source": "perm = PermutationImportance(cv).fit(x_test, y_test)\neli5.show_weights(perm, feature_names = x_test.columns.tolist())",
   "execution_count": 10,
   "outputs": [
    {
     "output_type": "execute_result",
     "execution_count": 10,
     "data": {
      "text/plain": "<IPython.core.display.HTML object>",
      "text/html": "\n    <style>\n    table.eli5-weights tr:hover {\n        filter: brightness(85%);\n    }\n</style>\n\n\n\n    \n\n    \n\n    \n\n    \n\n    \n\n    \n\n\n    \n\n    \n\n    \n\n    \n\n    \n\n    \n\n\n    \n\n    \n\n    \n\n    \n\n    \n        <table class=\"eli5-weights eli5-feature-importances\" style=\"border-collapse: collapse; border: none; margin-top: 0em; table-layout: auto;\">\n    <thead>\n    <tr style=\"border: none;\">\n        <th style=\"padding: 0 1em 0 0.5em; text-align: right; border: none;\">Weight</th>\n        <th style=\"padding: 0 0.5em 0 0.5em; text-align: left; border: none;\">Feature</th>\n    </tr>\n    </thead>\n    <tbody>\n    \n        <tr style=\"background-color: hsl(120, 100.00%, 80.00%); border: none;\">\n            <td style=\"padding: 0 1em 0 0.5em; text-align: right; border: none;\">\n                0.2850\n                \n                    &plusmn; 0.0172\n                \n            </td>\n            <td style=\"padding: 0 0.5em 0 0.5em; text-align: left; border: none;\">\n                home_spread\n            </td>\n        </tr>\n    \n        <tr style=\"background-color: hsl(120, 100.00%, 99.89%); border: none;\">\n            <td style=\"padding: 0 1em 0 0.5em; text-align: right; border: none;\">\n                0.0002\n                \n                    &plusmn; 0.0009\n                \n            </td>\n            <td style=\"padding: 0 0.5em 0 0.5em; text-align: left; border: none;\">\n                schedule_season\n            </td>\n        </tr>\n    \n        <tr style=\"background-color: hsl(0, 100.00%, 100.00%); border: none;\">\n            <td style=\"padding: 0 1em 0 0.5em; text-align: right; border: none;\">\n                0\n                \n                    &plusmn; 0.0000\n                \n            </td>\n            <td style=\"padding: 0 0.5em 0 0.5em; text-align: left; border: none;\">\n                away_last_1\n            </td>\n        </tr>\n    \n        <tr style=\"background-color: hsl(0, 100.00%, 100.00%); border: none;\">\n            <td style=\"padding: 0 1em 0 0.5em; text-align: right; border: none;\">\n                0\n                \n                    &plusmn; 0.0000\n                \n            </td>\n            <td style=\"padding: 0 0.5em 0 0.5em; text-align: left; border: none;\">\n                home_last_1\n            </td>\n        </tr>\n    \n        <tr style=\"background-color: hsl(0, 100.00%, 100.00%); border: none;\">\n            <td style=\"padding: 0 1em 0 0.5em; text-align: right; border: none;\">\n                0\n                \n                    &plusmn; 0.0000\n                \n            </td>\n            <td style=\"padding: 0 0.5em 0 0.5em; text-align: left; border: none;\">\n                away_last_3\n            </td>\n        </tr>\n    \n        <tr style=\"background-color: hsl(0, 100.00%, 100.00%); border: none;\">\n            <td style=\"padding: 0 1em 0 0.5em; text-align: right; border: none;\">\n                0\n                \n                    &plusmn; 0.0000\n                \n            </td>\n            <td style=\"padding: 0 0.5em 0 0.5em; text-align: left; border: none;\">\n                stadium_neutral\n            </td>\n        </tr>\n    \n        <tr style=\"background-color: hsl(0, 100.00%, 100.00%); border: none;\">\n            <td style=\"padding: 0 1em 0 0.5em; text-align: right; border: none;\">\n                0\n                \n                    &plusmn; 0.0000\n                \n            </td>\n            <td style=\"padding: 0 0.5em 0 0.5em; text-align: left; border: none;\">\n                over_under_line\n            </td>\n        </tr>\n    \n        <tr style=\"background-color: hsl(0, 100.00%, 100.00%); border: none;\">\n            <td style=\"padding: 0 1em 0 0.5em; text-align: right; border: none;\">\n                0\n                \n                    &plusmn; 0.0000\n                \n            </td>\n            <td style=\"padding: 0 0.5em 0 0.5em; text-align: left; border: none;\">\n                schedule_playoff\n            </td>\n        </tr>\n    \n        <tr style=\"background-color: hsl(0, 100.00%, 99.80%); border: none;\">\n            <td style=\"padding: 0 1em 0 0.5em; text-align: right; border: none;\">\n                -0.0004\n                \n                    &plusmn; 0.0005\n                \n            </td>\n            <td style=\"padding: 0 0.5em 0 0.5em; text-align: left; border: none;\">\n                intra_division\n            </td>\n        </tr>\n    \n        <tr style=\"background-color: hsl(0, 100.00%, 99.48%); border: none;\">\n            <td style=\"padding: 0 1em 0 0.5em; text-align: right; border: none;\">\n                -0.0015\n                \n                    &plusmn; 0.0052\n                \n            </td>\n            <td style=\"padding: 0 0.5em 0 0.5em; text-align: left; border: none;\">\n                home_last_3\n            </td>\n        </tr>\n    \n    \n    </tbody>\n</table>\n    \n\n    \n\n\n    \n\n    \n\n    \n\n    \n\n    \n\n    \n\n\n\n"
     },
     "metadata": {}
    }
   ]
  },
  {
   "cell_type": "code",
   "metadata": {
    "tags": [],
    "cell_id": "00011-2a5afb88-5d83-4b45-aaf9-0799f2fc66b0",
    "deepnote_to_be_reexecuted": false,
    "source_hash": "31538ba6",
    "execution_start": 1632708258761,
    "execution_millis": 47,
    "deepnote_cell_type": "code"
   },
   "source": "# Ultimate backtester!!!!\n\n# integer, last two are the decimals. start with $100.00. Each bet is $3\n# assume even -110 odds on everything. so bet $3 = win $2.73\nmoney = 10000\nwon = 0\nloss = 0\npush = 0\n\nfor row in global_df_final_no_drop.itertuples():\n\n    if row.predicted_diff + row.home_spread > 2:\n        print(row)\n        if row.home_point_diff + row.home_spread > 0:\n            money = money + 273\n            won += 1\n        elif row.home_point_diff + row.home_spread == 0:\n            push +=1\n        else:\n            money = money - 300\n            loss += 1\n    if row.predicted_diff + row.home_spread < -2:\n        print(row)\n        if row.away_point_diff - row.home_spread > 0:\n            money = money - 300\n            loss += 1\n        elif row.away_point_diff - row.home_spread == 0:\n            push +=1\n        else:\n            money = money + 273\n            won += 1\n\nprint (money)\nprint (won)\nprint (loss)\nprint (push)\n\n",
   "execution_count": 11,
   "outputs": [
    {
     "name": "stdout",
     "text": "Pandas(Index=7508, schedule_date='9/12/2010', schedule_season=2010, schedule_week='1', schedule_playoff=False, team_home='BUF', score_home=10.0, score_away=15.0, team_away='MIA', team_favorite_id='MIA', spread_favorite=-3.0, over_under_line=39.0, stadium_neutral=False, intra_division=True, home_point_diff=-5.0, away_point_diff=5.0, home_spread=3.0, home_last_3=0.0, away_last_3=0.0, home_last_1=0.0, away_last_1=0.0, home_team_covered=False, predicted_diff=-0.29849756811449324)\nPandas(Index=7514, schedule_date='9/12/2010', schedule_season=2010, schedule_week='1', schedule_playoff=False, team_home='PHI', score_home=20.0, score_away=27.0, team_away='GB', team_favorite_id='GB', spread_favorite=-3.0, over_under_line=48.0, stadium_neutral=False, intra_division=False, home_point_diff=-7.0, away_point_diff=7.0, home_spread=3.0, home_last_3=0.0, away_last_3=0.0, home_last_1=0.0, away_last_1=0.0, home_team_covered=False, predicted_diff=-0.13858341384360268)\nPandas(Index=7515, schedule_date='9/12/2010', schedule_season=2010, schedule_week='1', schedule_playoff=False, team_home='PIT', score_home=15.0, score_away=9.0, team_away='ATL', team_favorite_id='ATL', spread_favorite=-1.5, over_under_line=39.5, stadium_neutral=False, intra_division=False, home_point_diff=6.0, away_point_diff=-6.0, home_spread=1.5, home_last_3=0.0, away_last_3=0.0, home_last_1=0.0, away_last_1=0.0, home_team_covered=True, predicted_diff=1.0174006552261934)\nPandas(Index=7516, schedule_date='9/12/2010', schedule_season=2010, schedule_week='1', schedule_playoff=False, team_home='SEA', score_home=31.0, score_away=6.0, team_away='SF', team_favorite_id='SF', spread_favorite=-3.0, over_under_line=37.0, stadium_neutral=False, intra_division=True, home_point_diff=25.0, away_point_diff=-25.0, home_spread=3.0, home_last_3=0.0, away_last_3=0.0, home_last_1=0.0, away_last_1=0.0, home_team_covered=True, predicted_diff=-0.29849756811449324)\nPandas(Index=7517, schedule_date='9/12/2010', schedule_season=2010, schedule_week='1', schedule_playoff=False, team_home='LAR', score_home=13.0, score_away=17.0, team_away='ARI', team_favorite_id='ARI', spread_favorite=-3.0, over_under_line=39.5, stadium_neutral=False, intra_division=True, home_point_diff=-4.0, away_point_diff=4.0, home_spread=3.0, home_last_3=0.0, away_last_3=0.0, home_last_1=0.0, away_last_1=0.0, home_team_covered=False, predicted_diff=-0.29849756811449324)\nPandas(Index=7520, schedule_date='9/12/2010', schedule_season=2010, schedule_week='1', schedule_playoff=False, team_home='WAS', score_home=13.0, score_away=7.0, team_away='DAL', team_favorite_id='DAL', spread_favorite=-3.0, over_under_line=40.0, stadium_neutral=False, intra_division=True, home_point_diff=6.0, away_point_diff=-6.0, home_spread=3.0, home_last_3=0.0, away_last_3=0.0, home_last_1=0.0, away_last_1=0.0, home_team_covered=True, predicted_diff=-0.29849756811449324)\nPandas(Index=7525, schedule_date='9/19/2010', schedule_season=2010, schedule_week='2', schedule_playoff=False, team_home='CIN', score_home=15.0, score_away=10.0, team_away='BAL', team_favorite_id='BAL', spread_favorite=-3.0, over_under_line=39.5, stadium_neutral=False, intra_division=True, home_point_diff=5.0, away_point_diff=-5.0, home_spread=3.0, home_last_3=-14.0, away_last_3=1.0, home_last_1=-14.0, away_last_1=1.0, home_team_covered=True, predicted_diff=-0.7301219906586216)\nPandas(Index=7533, schedule_date='9/19/2010', schedule_season=2010, schedule_week='2', schedule_playoff=False, team_home='NYJ', score_home=28.0, score_away=14.0, team_away='NE', team_favorite_id='NE', spread_favorite=-3.0, over_under_line=39.5, stadium_neutral=False, intra_division=True, home_point_diff=14.0, away_point_diff=-14.0, home_spread=3.0, home_last_3=-1.0, away_last_3=14.0, home_last_1=-1.0, away_last_1=14.0, home_team_covered=True, predicted_diff=-0.29849756811449324)\nPandas(Index=7534, schedule_date='9/19/2010', schedule_season=2010, schedule_week='2', schedule_playoff=False, team_home='LVR', score_home=16.0, score_away=14.0, team_away='LAR', team_favorite_id='LVR', spread_favorite=-3.0, over_under_line=37.5, stadium_neutral=False, intra_division=False, home_point_diff=2.0, away_point_diff=-2.0, home_spread=-3.0, home_last_3=-25.0, away_last_3=-4.0, home_last_1=-25.0, away_last_1=-4.0, home_team_covered=False, predicted_diff=0.9326075418056552)\nPandas(Index=7537, schedule_date='9/19/2010', schedule_season=2010, schedule_week='2', schedule_playoff=False, team_home='WAS', score_home=27.0, score_away=30.0, team_away='HOU', team_favorite_id='HOU', spread_favorite=-3.0, over_under_line=42.5, stadium_neutral=False, intra_division=False, home_point_diff=-3.0, away_point_diff=3.0, home_spread=3.0, home_last_3=6.0, away_last_3=10.0, home_last_1=6.0, away_last_1=10.0, home_team_covered=False, predicted_diff=-0.13858341384360268)\nPandas(Index=7544, schedule_date='9/26/2010', schedule_season=2010, schedule_week='3', schedule_playoff=False, team_home='JAX', score_home=3.0, score_away=28.0, team_away='PHI', team_favorite_id='PHI', spread_favorite=-3.0, over_under_line=45.0, stadium_neutral=False, intra_division=False, home_point_diff=-25.0, away_point_diff=25.0, home_spread=3.0, home_last_3=-18.0, away_last_3=-4.0, home_last_1=-25.0, away_last_1=3.0, home_team_covered=False, predicted_diff=-0.570207836387731)\nPandas(Index=7545, schedule_date='9/26/2010', schedule_season=2010, schedule_week='3', schedule_playoff=False, team_home='KC', score_home=31.0, score_away=10.0, team_away='SF', team_favorite_id='SF', spread_favorite=-3.0, over_under_line=38.0, stadium_neutral=False, intra_division=False, home_point_diff=21.0, away_point_diff=-21.0, home_spread=3.0, home_last_3=9.0, away_last_3=-28.0, home_last_1=2.0, away_last_1=-3.0, home_team_covered=True, predicted_diff=-0.13858341384360268)\nPandas(Index=7548, schedule_date='9/26/2010', schedule_season=2010, schedule_week='3', schedule_playoff=False, team_home='NE', score_home=38.0, score_away=30.0, team_away='BUF', team_favorite_id='NE', spread_favorite=-14.5, over_under_line=43.0, stadium_neutral=False, intra_division=True, home_point_diff=8.0, away_point_diff=-8.0, home_spread=-14.5, home_last_3=0.0, away_last_3=-32.0, home_last_1=-14.0, away_last_1=-27.0, home_team_covered=False, predicted_diff=11.727626454670103)\nPandas(Index=7553, schedule_date='9/26/2010', schedule_season=2010, schedule_week='3', schedule_playoff=False, team_home='TB', score_home=13.0, score_away=38.0, team_away='PIT', team_favorite_id='PIT', spread_favorite=-3.0, over_under_line=33.0, stadium_neutral=False, intra_division=False, home_point_diff=-25.0, away_point_diff=25.0, home_spread=3.0, home_last_3=16.0, away_last_3=14.0, home_last_1=13.0, away_last_1=8.0, home_team_covered=False, predicted_diff=-0.13858341384360268)\nPandas(Index=7554, schedule_date='9/27/2010', schedule_season=2010, schedule_week='3', schedule_playoff=False, team_home='CHI', score_home=20.0, score_away=17.0, team_away='GB', team_favorite_id='GB', spread_favorite=-3.0, over_under_line=46.5, stadium_neutral=False, intra_division=True, home_point_diff=3.0, away_point_diff=-3.0, home_spread=3.0, home_last_3=12.0, away_last_3=34.0, home_last_1=7.0, away_last_1=27.0, home_team_covered=True, predicted_diff=-0.29849756811449324)\nPandas(Index=7556, schedule_date='10/3/2010', schedule_season=2010, schedule_week='4', schedule_playoff=False, team_home='BUF', score_home=14.0, score_away=38.0, team_away='NYJ', team_favorite_id='NYJ', spread_favorite=-6.0, over_under_line=37.0, stadium_neutral=False, intra_division=True, home_point_diff=-24.0, away_point_diff=24.0, home_spread=6.0, home_last_3=-40.0, away_last_3=21.0, home_last_1=-8.0, away_last_1=8.0, home_team_covered=False, predicted_diff=-8.307043410102938)\nPandas(Index=7558, schedule_date='10/3/2010', schedule_season=2010, schedule_week='4', schedule_playoff=False, team_home='GB', score_home=28.0, score_away=26.0, team_away='DET', team_favorite_id='GB', spread_favorite=-14.5, over_under_line=46.0, stadium_neutral=False, intra_division=True, home_point_diff=2.0, away_point_diff=-2.0, home_spread=-14.5, home_last_3=31.0, away_last_3=-22.0, home_last_1=-3.0, away_last_1=-14.0, home_team_covered=False, predicted_diff=11.727626454670103)\nPandas(Index=7566, schedule_date='10/3/2010', schedule_season=2010, schedule_week='4', schedule_playoff=False, team_home='LAR', score_home=20.0, score_away=3.0, team_away='SEA', team_favorite_id='SEA', spread_favorite=-2.0, over_under_line=40.0, stadium_neutral=False, intra_division=True, home_point_diff=17.0, away_point_diff=-17.0, home_spread=2.0, home_last_3=8.0, away_last_3=15.0, home_last_1=14.0, away_last_1=7.0, home_team_covered=True, predicted_diff=0.8574865009553028)\nPandas(Index=7572, schedule_date='10/10/2010', schedule_season=2010, schedule_week='5', schedule_playoff=False, team_home='CAR', score_home=6.0, score_away=23.0, team_away='CHI', team_favorite_id='CAR', spread_favorite=-3.0, over_under_line=33.0, stadium_neutral=False, intra_division=False, home_point_diff=-17.0, away_point_diff=17.0, home_spread=-3.0, home_last_3=-28.0, away_last_3=-4.0, home_last_1=-2.0, away_last_1=-14.0, home_team_covered=False, predicted_diff=0.9326075418056552)\nPandas(Index=7574, schedule_date='10/10/2010', schedule_season=2010, schedule_week='5', schedule_playoff=False, team_home='CLE', score_home=10.0, score_away=20.0, team_away='ATL', team_favorite_id='ATL', spread_favorite=-3.0, over_under_line=41.5, stadium_neutral=False, intra_division=False, home_point_diff=-10.0, away_point_diff=10.0, home_spread=3.0, home_last_3=-6.0, away_last_3=39.0, home_last_1=3.0, away_last_1=2.0, home_team_covered=False, predicted_diff=-0.13858341384360268)\nPandas(Index=7580, schedule_date='10/10/2010', schedule_season=2010, schedule_week='5', schedule_playoff=False, team_home='SF', score_home=24.0, score_away=27.0, team_away='PHI', team_favorite_id='SF', spread_favorite=-3.0, over_under_line=38.5, stadium_neutral=False, intra_division=False, home_point_diff=-3.0, away_point_diff=3.0, home_spread=-3.0, home_last_3=-26.0, away_last_3=23.0, home_last_1=-2.0, away_last_1=-5.0, home_team_covered=False, predicted_diff=0.9326075418056552)\nPandas(Index=7581, schedule_date='10/10/2010', schedule_season=2010, schedule_week='5', schedule_playoff=False, team_home='WAS', score_home=16.0, score_away=13.0, team_away='GB', team_favorite_id='GB', spread_favorite=-3.0, over_under_line=45.5, stadium_neutral=False, intra_division=False, home_point_diff=3.0, away_point_diff=-3.0, home_spread=3.0, home_last_3=-12.0, away_last_3=26.0, home_last_1=5.0, away_last_1=2.0, home_team_covered=True, predicted_diff=-0.570207836387731)\nPandas(Index=7591, schedule_date='10/17/2010', schedule_season=2010, schedule_week='6', schedule_playoff=False, team_home='PIT', score_home=28.0, score_away=10.0, team_away='CLE', team_favorite_id='PIT', spread_favorite=-14.0, over_under_line=37.5, stadium_neutral=False, intra_division=True, home_point_diff=18.0, away_point_diff=-18.0, home_spread=-14.0, home_last_3=30.0, away_last_3=-14.0, home_last_1=-3.0, away_last_1=-10.0, home_team_covered=True, predicted_diff=11.727626454670103)\nPandas(Index=7595, schedule_date='10/17/2010', schedule_season=2010, schedule_week='6', schedule_playoff=False, team_home='WAS', score_home=24.0, score_away=27.0, team_away='IND', team_favorite_id='IND', spread_favorite=-3.0, over_under_line=45.0, stadium_neutral=False, intra_division=False, home_point_diff=-3.0, away_point_diff=3.0, home_spread=3.0, home_last_3=-6.0, away_last_3=21.0, home_last_1=3.0, away_last_1=10.0, home_team_covered=False, predicted_diff=-0.13858341384360268)\nPandas(Index=7596, schedule_date='10/18/2010', schedule_season=2010, schedule_week='6', schedule_playoff=False, team_home='JAX', score_home=3.0, score_away=30.0, team_away='TEN', team_favorite_id='TEN', spread_favorite=-3.0, over_under_line=43.5, stadium_neutral=False, intra_division=True, home_point_diff=-27.0, away_point_diff=27.0, home_spread=3.0, home_last_3=-12.0, away_last_3=20.0, home_last_1=10.0, away_last_1=7.0, home_team_covered=False, predicted_diff=-0.7301219906586216)\nPandas(Index=7608, schedule_date='10/24/2010', schedule_season=2010, schedule_week='7', schedule_playoff=False, team_home='TB', score_home=18.0, score_away=17.0, team_away='LAR', team_favorite_id='TB', spread_favorite=-3.0, over_under_line=39.0, stadium_neutral=False, intra_division=False, home_point_diff=1.0, away_point_diff=-1.0, home_spread=-3.0, home_last_3=-47.0, away_last_3=-18.0, home_last_1=-25.0, away_last_1=3.0, home_team_covered=False, predicted_diff=0.9326075418056552)\nPandas(Index=7611, schedule_date='10/31/2010', schedule_season=2010, schedule_week='8', schedule_playoff=False, team_home='ARI', score_home=35.0, score_away=38.0, team_away='TB', team_favorite_id='ARI', spread_favorite=-3.0, over_under_line=38.0, stadium_neutral=False, intra_division=False, home_point_diff=-3.0, away_point_diff=3.0, home_spread=-3.0, home_last_3=-33.0, away_last_3=-21.0, home_last_1=-12.0, away_last_1=1.0, home_team_covered=False, predicted_diff=0.9326075418056552)\nPandas(Index=7626, schedule_date='11/7/2010', schedule_season=2010, schedule_week='9', schedule_playoff=False, team_home='BUF', score_home=19.0, score_away=22.0, team_away='CHI', team_favorite_id='CHI', spread_favorite=-3.0, over_under_line=41.5, stadium_neutral=True, intra_division=False, home_point_diff=-3.0, away_point_diff=3.0, home_spread=3.0, home_last_3=-16.0, away_last_3=11.0, home_last_1=-3.0, away_last_1=-3.0, home_team_covered=False, predicted_diff=-0.570207836387731)\nPandas(Index=7652, schedule_date='11/21/2010', schedule_season=2010, schedule_week='11', schedule_playoff=False, team_home='CAR', score_home=13.0, score_away=37.0, team_away='BAL', team_favorite_id='BAL', spread_favorite=-13.5, over_under_line=37.0, stadium_neutral=False, intra_division=False, home_point_diff=-24.0, away_point_diff=24.0, home_spread=13.5, home_last_3=-56.0, away_last_3=14.0, home_last_1=-15.0, away_last_1=-5.0, home_team_covered=False, predicted_diff=-17.49787490555918)\nPandas(Index=7657, schedule_date='11/21/2010', schedule_season=2010, schedule_week='11', schedule_playoff=False, team_home='MIN', score_home=3.0, score_away=31.0, team_away='GB', team_favorite_id='GB', spread_favorite=-3.0, over_under_line=45.0, stadium_neutral=False, intra_division=True, home_point_diff=-28.0, away_point_diff=28.0, home_spread=3.0, home_last_3=-21.0, away_last_3=51.0, home_last_1=-14.0, away_last_1=38.0, home_team_covered=False, predicted_diff=-0.7301219906586216)\nPandas(Index=7696, schedule_date='12/5/2010', schedule_season=2010, schedule_week='13', schedule_playoff=False, team_home='TB', score_home=24.0, score_away=28.0, team_away='ATL', team_favorite_id='ATL', spread_favorite=-3.0, over_under_line=43.5, stadium_neutral=False, intra_division=True, home_point_diff=-4.0, away_point_diff=4.0, home_spread=3.0, home_last_3=29.0, away_last_3=25.0, home_last_1=-7.0, away_last_1=3.0, home_team_covered=False, predicted_diff=-0.29849756811449324)\nPandas(Index=7697, schedule_date='12/5/2010', schedule_season=2010, schedule_week='13', schedule_playoff=False, team_home='TEN', score_home=6.0, score_away=17.0, team_away='JAX', team_favorite_id='TEN', spread_favorite=-3.0, over_under_line=43.5, stadium_neutral=False, intra_division=True, home_point_diff=-11.0, away_point_diff=11.0, home_spread=-3.0, home_last_3=-35.0, away_last_3=7.0, home_last_1=-20.0, away_last_1=-4.0, home_team_covered=False, predicted_diff=0.7726933875347646)\nPandas(Index=7703, schedule_date='12/12/2010', schedule_season=2010, schedule_week='14', schedule_playoff=False, team_home='CHI', score_home=7.0, score_away=36.0, team_away='NE', team_favorite_id='NE', spread_favorite=-3.0, over_under_line=37.0, stadium_neutral=False, intra_division=False, home_point_diff=-29.0, away_point_diff=29.0, home_spread=3.0, home_last_3=25.0, away_last_3=66.0, home_last_1=4.0, away_last_1=42.0, home_team_covered=False, predicted_diff=-0.13858341384360268)\nPandas(Index=7713, schedule_date='12/13/2010', schedule_season=2010, schedule_week='14', schedule_playoff=False, team_home='HOU', score_home=28.0, score_away=34.0, team_away='BAL', team_favorite_id='BAL', spread_favorite=-3.0, over_under_line=47.0, stadium_neutral=False, intra_division=False, home_point_diff=-6.0, away_point_diff=6.0, home_spread=3.0, home_last_3=7.0, away_last_3=28.0, home_last_1=-10.0, away_last_1=-3.0, home_team_covered=False, predicted_diff=-0.13858341384360268)\nPandas(Index=7722, schedule_date='12/19/2010', schedule_season=2010, schedule_week='15', schedule_playoff=False, team_home='NE', score_home=31.0, score_away=27.0, team_away='GB', team_favorite_id='NE', spread_favorite=-14.5, over_under_line=43.5, stadium_neutral=False, intra_division=False, home_point_diff=4.0, away_point_diff=-4.0, home_spread=-14.5, home_last_3=92.0, away_last_3=11.0, home_last_1=29.0, away_last_1=-4.0, home_team_covered=False, predicted_diff=11.887540608940993)\nPandas(Index=7731, schedule_date='12/23/2010', schedule_season=2010, schedule_week='16', schedule_playoff=False, team_home='PIT', score_home=27.0, score_away=3.0, team_away='CAR', team_favorite_id='PIT', spread_favorite=-14.5, over_under_line=38.0, stadium_neutral=False, intra_division=False, home_point_diff=24.0, away_point_diff=-24.0, home_spread=-14.5, home_last_3=14.0, away_last_3=-31.0, home_last_1=-5.0, away_last_1=7.0, home_team_covered=True, predicted_diff=11.887540608940993)\nPandas(Index=7742, schedule_date='12/26/2010', schedule_season=2010, schedule_week='16', schedule_playoff=False, team_home='LVR', score_home=26.0, score_away=31.0, team_away='IND', team_favorite_id='IND', spread_favorite=-2.5, over_under_line=47.5, stadium_neutral=False, intra_division=False, home_point_diff=-5.0, away_point_diff=5.0, home_spread=2.5, home_last_3=24.0, away_last_3=9.0, home_last_1=16.0, away_last_1=10.0, home_team_covered=False, predicted_diff=-0.13858341384360268)\nPandas(Index=7746, schedule_date='12/28/2010', schedule_season=2010, schedule_week='16', schedule_playoff=False, team_home='PHI', score_home=14.0, score_away=24.0, team_away='MIN', team_favorite_id='PHI', spread_favorite=-14.5, over_under_line=44.5, stadium_neutral=False, intra_division=False, home_point_diff=-10.0, away_point_diff=10.0, home_spread=-14.5, home_last_3=20.0, away_last_3=-20.0, home_last_1=7.0, away_last_1=-26.0, home_team_covered=False, predicted_diff=11.887540608940993)\nPandas(Index=7747, schedule_date='1/2/2011', schedule_season=2010, schedule_week='17', schedule_playoff=False, team_home='ATL', score_home=31.0, score_away=10.0, team_away='CAR', team_favorite_id='ATL', spread_favorite=-14.5, over_under_line=41.5, stadium_neutral=False, intra_division=True, home_point_diff=21.0, away_point_diff=-21.0, home_spread=-14.5, home_last_3=34.0, away_last_3=-38.0, home_last_1=-3.0, away_last_1=-24.0, home_team_covered=True, predicted_diff=11.727626454670103)\nPandas(Index=7765, schedule_date='1/9/2011', schedule_season=2010, schedule_week='Wildcard', schedule_playoff=True, team_home='KC', score_home=7.0, score_away=30.0, team_away='BAL', team_favorite_id='BAL', spread_favorite=-3.0, over_under_line=41.0, stadium_neutral=False, intra_division=False, home_point_diff=-23.0, away_point_diff=23.0, home_spread=3.0, home_last_3=13.0, away_last_3=22.0, home_last_1=-21.0, away_last_1=6.0, home_team_covered=False, predicted_diff=-0.13858341384360268)\nPandas(Index=7777, schedule_date='9/11/2011', schedule_season=2011, schedule_week='1', schedule_playoff=False, team_home='CHI', score_home=30.0, score_away=12.0, team_away='ATL', team_favorite_id='ATL', spread_favorite=-1.5, over_under_line=41.0, stadium_neutral=False, intra_division=False, home_point_diff=18.0, away_point_diff=-18.0, home_spread=1.5, home_last_3=-3.0, away_last_3=-9.0, home_last_1=-7.0, away_last_1=-27.0, home_team_covered=True, predicted_diff=1.0174006552261934)\nPandas(Index=7787, schedule_date='9/11/2011', schedule_season=2011, schedule_week='1', schedule_playoff=False, team_home='WAS', score_home=28.0, score_away=14.0, team_away='NYG', team_favorite_id='NYG', spread_favorite=-2.0, over_under_line=40.0, stadium_neutral=False, intra_division=True, home_point_diff=14.0, away_point_diff=-14.0, home_spread=2.0, home_last_3=-3.0, away_last_3=-32.0, home_last_1=-3.0, away_last_1=3.0, home_team_covered=True, predicted_diff=0.8574865009553028)\nPandas(Index=7792, schedule_date='9/18/2011', schedule_season=2011, schedule_week='2', schedule_playoff=False, team_home='CAR', score_home=23.0, score_away=30.0, team_away='GB', team_favorite_id='GB', spread_favorite=-11.0, over_under_line=45.0, stadium_neutral=False, intra_division=False, home_point_diff=-7.0, away_point_diff=7.0, home_spread=11.0, home_last_3=-52.0, away_last_3=21.0, home_last_1=-7.0, away_last_1=8.0, home_team_covered=True, predicted_diff=-8.574059575679042)\nPandas(Index=7801, schedule_date='9/18/2011', schedule_season=2011, schedule_week='2', schedule_playoff=False, team_home='PIT', score_home=24.0, score_away=0.0, team_away='SEA', team_favorite_id='PIT', spread_favorite=-14.0, over_under_line=40.0, stadium_neutral=False, intra_division=False, home_point_diff=24.0, away_point_diff=-24.0, home_spread=-14.0, home_last_3=-29.0, away_last_3=-22.0, home_last_1=-28.0, away_last_1=-16.0, home_team_covered=True, predicted_diff=10.753680801495078)\nPandas(Index=7802, schedule_date='9/18/2011', schedule_season=2011, schedule_week='2', schedule_playoff=False, team_home='SF', score_home=24.0, score_away=27.0, team_away='DAL', team_favorite_id='DAL', spread_favorite=-3.0, over_under_line=41.5, stadium_neutral=False, intra_division=False, home_point_diff=-3.0, away_point_diff=3.0, home_spread=3.0, home_last_3=39.0, away_last_3=-3.0, home_last_1=16.0, away_last_1=-3.0, home_team_covered=False, predicted_diff=-0.13858341384360268)\nPandas(Index=7803, schedule_date='9/18/2011', schedule_season=2011, schedule_week='2', schedule_playoff=False, team_home='TEN', score_home=26.0, score_away=13.0, team_away='BAL', team_favorite_id='BAL', spread_favorite=-6.0, over_under_line=39.0, stadium_neutral=False, intra_division=False, home_point_diff=13.0, away_point_diff=-13.0, home_spread=6.0, home_last_3=-25.0, away_last_3=44.0, home_last_1=-2.0, away_last_1=28.0, home_team_covered=True, predicted_diff=-8.147129255832047)\nPandas(Index=7811, schedule_date='9/25/2011', schedule_season=2011, schedule_week='3', schedule_playoff=False, team_home='IND', score_home=20.0, score_away=23.0, team_away='PIT', team_favorite_id='PIT', spread_favorite=-11.0, over_under_line=39.5, stadium_neutral=False, intra_division=False, home_point_diff=-3.0, away_point_diff=3.0, home_spread=11.0, home_last_3=-36.0, away_last_3=-10.0, home_last_1=-8.0, away_last_1=24.0, home_team_covered=True, predicted_diff=-8.574059575679042)\nPandas(Index=7812, schedule_date='9/25/2011', schedule_season=2011, schedule_week='3', schedule_playoff=False, team_home='MIN', score_home=23.0, score_away=26.0, team_away='DET', team_favorite_id='DET', spread_favorite=-3.0, over_under_line=45.0, stadium_neutral=False, intra_division=True, home_point_diff=-3.0, away_point_diff=3.0, home_spread=3.0, home_last_3=-18.0, away_last_3=59.0, home_last_1=-4.0, away_last_1=45.0, home_team_covered=False, predicted_diff=-0.7301219906586216)\nPandas(Index=7814, schedule_date='9/25/2011', schedule_season=2011, schedule_week='3', schedule_playoff=False, team_home='LVR', score_home=34.0, score_away=24.0, team_away='NYJ', team_favorite_id='NYJ', spread_favorite=-3.0, over_under_line=41.0, stadium_neutral=False, intra_division=False, home_point_diff=10.0, away_point_diff=-10.0, home_spread=3.0, home_last_3=21.0, away_last_3=27.0, home_last_1=-3.0, away_last_1=29.0, home_team_covered=True, predicted_diff=-0.13858341384360268)\nPandas(Index=7816, schedule_date='9/25/2011', schedule_season=2011, schedule_week='3', schedule_playoff=False, team_home='LAC', score_home=20.0, score_away=17.0, team_away='KC', team_favorite_id='LAC', spread_favorite=-14.5, over_under_line=44.5, stadium_neutral=False, intra_division=True, home_point_diff=3.0, away_point_diff=-3.0, home_spread=-14.5, home_last_3=-2.0, away_last_3=-102.0, home_last_1=-14.0, away_last_1=-45.0, home_team_covered=False, predicted_diff=11.727626454670103)\nPandas(Index=7818, schedule_date='9/25/2011', schedule_season=2011, schedule_week='3', schedule_playoff=False, team_home='LAR', score_home=7.0, score_away=37.0, team_away='BAL', team_favorite_id='BAL', spread_favorite=-6.0, over_under_line=42.0, stadium_neutral=False, intra_division=False, home_point_diff=-30.0, away_point_diff=30.0, home_spread=6.0, home_last_3=-40.0, away_last_3=8.0, home_last_1=-12.0, away_last_1=-13.0, home_team_covered=False, predicted_diff=-8.147129255832047)\nPandas(Index=7822, schedule_date='10/2/2011', schedule_season=2011, schedule_week='4', schedule_playoff=False, team_home='ARI', score_home=27.0, score_away=31.0, team_away='NYG', team_favorite_id='NYG', spread_favorite=-1.5, over_under_line=45.0, stadium_neutral=False, intra_division=False, home_point_diff=-4.0, away_point_diff=4.0, home_spread=1.5, home_last_3=3.0, away_last_3=11.0, home_last_1=-3.0, away_last_1=13.0, home_team_covered=False, predicted_diff=1.0174006552261934)\nPandas(Index=7825, schedule_date='10/2/2011', schedule_season=2011, schedule_week='4', schedule_playoff=False, team_home='CIN', score_home=23.0, score_away=20.0, team_away='BUF', team_favorite_id='BUF', spread_favorite=-3.0, over_under_line=43.0, stadium_neutral=False, intra_division=False, home_point_diff=3.0, away_point_diff=-3.0, home_spread=3.0, home_last_3=3.0, away_last_3=40.0, home_last_1=-5.0, away_last_1=3.0, home_team_covered=True, predicted_diff=-0.13858341384360268)\nPandas(Index=7835, schedule_date='10/2/2011', schedule_season=2011, schedule_week='4', schedule_playoff=False, team_home='SEA', score_home=28.0, score_away=30.0, team_away='ATL', team_favorite_id='ATL', spread_favorite=-6.0, over_under_line=39.0, stadium_neutral=False, intra_division=False, home_point_diff=-2.0, away_point_diff=2.0, home_spread=6.0, home_last_3=-37.0, away_last_3=-17.0, home_last_1=3.0, away_last_1=-3.0, home_team_covered=True, predicted_diff=-8.147129255832047)\nPandas(Index=7839, schedule_date='10/9/2011', schedule_season=2011, schedule_week='5', schedule_playoff=False, team_home='BUF', score_home=31.0, score_away=24.0, team_away='PHI', team_favorite_id='PHI', spread_favorite=-3.0, over_under_line=53.0, stadium_neutral=False, intra_division=False, home_point_diff=7.0, away_point_diff=-7.0, home_spread=3.0, home_last_3=3.0, away_last_3=-18.0, home_last_1=-3.0, away_last_1=-1.0, home_team_covered=True, predicted_diff=-0.13858341384360268)\nPandas(Index=7856, schedule_date='10/16/2011', schedule_season=2011, schedule_week='6', schedule_playoff=False, team_home='GB', score_home=24.0, score_away=3.0, team_away='LAR', team_favorite_id='GB', spread_favorite=-14.0, over_under_line=47.5, stadium_neutral=False, intra_division=False, home_point_diff=21.0, away_point_diff=-21.0, home_spread=-14.0, home_last_3=47.0, away_last_3=-49.0, home_last_1=11.0, away_last_1=-7.0, home_team_covered=True, predicted_diff=11.887540608940993)\nPandas(Index=7862, schedule_date='10/16/2011', schedule_season=2011, schedule_week='6', schedule_playoff=False, team_home='WAS', score_home=13.0, score_away=20.0, team_away='PHI', team_favorite_id='PHI', spread_favorite=-3.0, over_under_line=46.5, stadium_neutral=False, intra_division=True, home_point_diff=-7.0, away_point_diff=7.0, home_spread=3.0, home_last_3=6.0, away_last_3=-21.0, home_last_1=7.0, away_last_1=-7.0, home_team_covered=False, predicted_diff=-0.29849756811449324)\nPandas(Index=7866, schedule_date='10/23/2011', schedule_season=2011, schedule_week='7', schedule_playoff=False, team_home='CLE', score_home=6.0, score_away=3.0, team_away='SEA', team_favorite_id='CLE', spread_favorite=-3.0, over_under_line=41.0, stadium_neutral=False, intra_division=False, home_point_diff=3.0, away_point_diff=-3.0, home_spread=-3.0, home_last_3=-24.0, away_last_3=12.0, home_last_1=-7.0, away_last_1=11.0, home_team_covered=False, predicted_diff=0.9326075418056552)\nPandas(Index=7867, schedule_date='10/23/2011', schedule_season=2011, schedule_week='7', schedule_playoff=False, team_home='DAL', score_home=34.0, score_away=7.0, team_away='LAR', team_favorite_id='DAL', spread_favorite=-14.0, over_under_line=43.0, stadium_neutral=False, intra_division=False, home_point_diff=27.0, away_point_diff=-27.0, home_spread=-14.0, home_last_3=-6.0, away_last_3=-58.0, home_last_1=-4.0, away_last_1=-21.0, home_team_covered=True, predicted_diff=11.887540608940993)\nPandas(Index=7870, schedule_date='10/23/2011', schedule_season=2011, schedule_week='7', schedule_playoff=False, team_home='MIN', score_home=27.0, score_away=33.0, team_away='GB', team_favorite_id='GB', spread_favorite=-11.0, over_under_line=47.0, stadium_neutral=False, intra_division=True, home_point_diff=-6.0, away_point_diff=6.0, home_spread=11.0, home_last_3=-10.0, away_last_3=58.0, home_last_1=-29.0, away_last_1=21.0, home_team_covered=True, predicted_diff=-8.031738345048147)\nPandas(Index=7871, schedule_date='10/23/2011', schedule_season=2011, schedule_week='7', schedule_playoff=False, team_home='NO', score_home=62.0, score_away=7.0, team_away='IND', team_favorite_id='NO', spread_favorite=-14.0, over_under_line=49.0, stadium_neutral=False, intra_division=False, home_point_diff=55.0, away_point_diff=-55.0, home_spread=-14.0, home_last_3=10.0, away_last_3=-21.0, home_last_1=-6.0, away_last_1=-10.0, home_team_covered=True, predicted_diff=11.887540608940993)\nPandas(Index=7884, schedule_date='10/30/2011', schedule_season=2011, schedule_week='8', schedule_playoff=False, team_home='PIT', score_home=25.0, score_away=17.0, team_away='NE', team_favorite_id='NE', spread_favorite=-3.0, over_under_line=52.0, stadium_neutral=False, intra_division=False, home_point_diff=8.0, away_point_diff=-8.0, home_spread=3.0, home_last_3=37.0, away_last_3=25.0, home_last_1=12.0, away_last_1=4.0, home_team_covered=True, predicted_diff=-0.13858341384360268)\nPandas(Index=7886, schedule_date='10/30/2011', schedule_season=2011, schedule_week='8', schedule_playoff=False, team_home='SEA', score_home=12.0, score_away=34.0, team_away='CIN', team_favorite_id='CIN', spread_favorite=-1.5, over_under_line=37.5, stadium_neutral=False, intra_division=False, home_point_diff=-22.0, away_point_diff=22.0, home_spread=1.5, home_last_3=6.0, away_last_3=23.0, home_last_1=-3.0, away_last_1=10.0, home_team_covered=False, predicted_diff=1.0174006552261934)\nPandas(Index=7887, schedule_date='10/30/2011', schedule_season=2011, schedule_week='8', schedule_playoff=False, team_home='LAR', score_home=31.0, score_away=21.0, team_away='NO', team_favorite_id='NO', spread_favorite=-14.0, over_under_line=48.5, stadium_neutral=False, intra_division=False, home_point_diff=10.0, away_point_diff=-10.0, home_spread=14.0, home_last_3=-55.0, away_last_3=52.0, home_last_1=-27.0, away_last_1=55.0, home_team_covered=True, predicted_diff=-17.49787490555918)\nPandas(Index=7889, schedule_date='10/31/2011', schedule_season=2011, schedule_week='8', schedule_playoff=False, team_home='KC', score_home=23.0, score_away=20.0, team_away='LAC', team_favorite_id='LAC', spread_favorite=-3.0, over_under_line=44.5, stadium_neutral=False, intra_division=True, home_point_diff=3.0, away_point_diff=-3.0, home_spread=3.0, home_last_3=37.0, away_last_3=9.0, home_last_1=28.0, away_last_1=-6.0, home_team_covered=True, predicted_diff=-0.29849756811449324)\nPandas(Index=7890, schedule_date='11/6/2011', schedule_season=2011, schedule_week='9', schedule_playoff=False, team_home='ARI', score_home=19.0, score_away=13.0, team_away='LAR', team_favorite_id='ARI', spread_favorite=-3.0, over_under_line=41.5, stadium_neutral=False, intra_division=True, home_point_diff=6.0, away_point_diff=-6.0, home_spread=-3.0, home_last_3=-39.0, away_last_3=-38.0, home_last_1=-3.0, away_last_1=10.0, home_team_covered=True, predicted_diff=0.7726933875347646)\nPandas(Index=7901, schedule_date='11/6/2011', schedule_season=2011, schedule_week='9', schedule_playoff=False, team_home='TEN', score_home=17.0, score_away=24.0, team_away='CIN', team_favorite_id='TEN', spread_favorite=-3.0, over_under_line=41.5, stadium_neutral=False, intra_division=False, home_point_diff=-7.0, away_point_diff=7.0, home_spread=-3.0, home_last_3=-38.0, away_last_3=42.0, home_last_1=17.0, away_last_1=22.0, home_team_covered=False, predicted_diff=0.9326075418056552)\nPandas(Index=7909, schedule_date='11/13/2011', schedule_season=2011, schedule_week='10', schedule_playoff=False, team_home='CLE', score_home=12.0, score_away=13.0, team_away='LAR', team_favorite_id='CLE', spread_favorite=-3.0, over_under_line=36.5, stadium_neutral=False, intra_division=False, home_point_diff=-1.0, away_point_diff=1.0, home_spread=-3.0, home_last_3=-25.0, away_last_3=-23.0, home_last_1=-18.0, away_last_1=-6.0, home_team_covered=False, predicted_diff=0.9326075418056552)\nPandas(Index=7933, schedule_date='11/21/2011', schedule_season=2011, schedule_week='11', schedule_playoff=False, team_home='NE', score_home=34.0, score_away=3.0, team_away='KC', team_favorite_id='NE', spread_favorite=-17.0, over_under_line=47.0, stadium_neutral=False, intra_division=False, home_point_diff=31.0, away_point_diff=-31.0, home_spread=-17.0, home_last_3=9.0, away_last_3=-32.0, home_last_1=21.0, away_last_1=-7.0, home_team_covered=True, predicted_diff=11.887540608940993)\nPandas(Index=7950, schedule_date='12/1/2011', schedule_season=2011, schedule_week='13', schedule_playoff=False, team_home='SEA', score_home=31.0, score_away=14.0, team_away='PHI', team_favorite_id='PHI', spread_favorite=-3.0, over_under_line=43.5, stadium_neutral=False, intra_division=False, home_point_diff=17.0, away_point_diff=-17.0, home_spread=3.0, home_last_3=16.0, away_last_3=-15.0, home_last_1=-6.0, away_last_1=-18.0, home_team_covered=True, predicted_diff=-0.13858341384360268)\nPandas(Index=7955, schedule_date='12/4/2011', schedule_season=2011, schedule_week='13', schedule_playoff=False, team_home='HOU', score_home=17.0, score_away=10.0, team_away='ATL', team_favorite_id='ATL', spread_favorite=-2.0, over_under_line=38.0, stadium_neutral=False, intra_division=False, home_point_diff=7.0, away_point_diff=-7.0, home_spread=2.0, home_last_3=53.0, away_last_3=13.0, home_last_1=7.0, away_last_1=10.0, home_team_covered=True, predicted_diff=1.0174006552261934)\nPandas(Index=7958, schedule_date='12/4/2011', schedule_season=2011, schedule_week='13', schedule_playoff=False, team_home='NE', score_home=31.0, score_away=24.0, team_away='IND', team_favorite_id='NE', spread_favorite=-20.5, over_under_line=48.5, stadium_neutral=False, intra_division=False, home_point_diff=7.0, away_point_diff=-7.0, home_spread=-20.5, home_last_3=70.0, away_last_3=-46.0, home_last_1=18.0, away_last_1=-8.0, home_team_covered=False, predicted_diff=11.887540608940993)\nPandas(Index=7962, schedule_date='12/4/2011', schedule_season=2011, schedule_week='13', schedule_playoff=False, team_home='SF', score_home=26.0, score_away=0.0, team_away='LAR', team_favorite_id='SF', spread_favorite=-14.5, over_under_line=38.5, stadium_neutral=False, intra_division=True, home_point_diff=26.0, away_point_diff=-26.0, home_spread=-14.5, home_last_3=13.0, away_last_3=-19.0, home_last_1=-10.0, away_last_1=-3.0, home_team_covered=True, predicted_diff=11.727626454670103)\nPandas(Index=7964, schedule_date='12/4/2011', schedule_season=2011, schedule_week='13', schedule_playoff=False, team_home='WAS', score_home=19.0, score_away=34.0, team_away='NYJ', team_favorite_id='NYJ', spread_favorite=-3.0, over_under_line=38.5, stadium_neutral=False, intra_division=False, home_point_diff=-15.0, away_point_diff=15.0, home_spread=3.0, home_last_3=-8.0, away_last_3=-21.0, home_last_1=6.0, away_last_1=4.0, home_team_covered=False, predicted_diff=-0.570207836387731)\nPandas(Index=7965, schedule_date='12/5/2011', schedule_season=2011, schedule_week='13', schedule_playoff=False, team_home='JAX', score_home=14.0, score_away=38.0, team_away='LAC', team_favorite_id='LAC', spread_favorite=-3.0, over_under_line=39.5, stadium_neutral=False, intra_division=False, home_point_diff=-24.0, away_point_diff=24.0, home_spread=3.0, home_last_3=3.0, away_last_3=-21.0, home_last_1=-7.0, away_last_1=-3.0, home_team_covered=False, predicted_diff=-0.13858341384360268)\nPandas(Index=7966, schedule_date='12/8/2011', schedule_season=2011, schedule_week='14', schedule_playoff=False, team_home='PIT', score_home=14.0, score_away=3.0, team_away='CLE', team_favorite_id='PIT', spread_favorite=-14.0, over_under_line=40.0, stadium_neutral=False, intra_division=True, home_point_diff=11.0, away_point_diff=-11.0, home_spread=-14.0, home_last_3=39.0, away_last_3=-13.0, home_last_1=28.0, away_last_1=-14.0, home_team_covered=False, predicted_diff=11.727626454670103)\nPandas(Index=7968, schedule_date='12/11/2011', schedule_season=2011, schedule_week='14', schedule_playoff=False, team_home='BAL', score_home=24.0, score_away=10.0, team_away='IND', team_favorite_id='BAL', spread_favorite=-16.5, over_under_line=41.5, stadium_neutral=False, intra_division=False, home_point_diff=14.0, away_point_diff=-14.0, home_spread=-16.5, home_last_3=31.0, away_last_3=-29.0, home_last_1=14.0, away_last_1=-7.0, home_team_covered=False, predicted_diff=11.887540608940993)\nPandas(Index=7969, schedule_date='12/11/2011', schedule_season=2011, schedule_week='14', schedule_playoff=False, team_home='CAR', score_home=23.0, score_away=31.0, team_away='ATL', team_favorite_id='ATL', spread_favorite=-3.0, over_under_line=47.5, stadium_neutral=False, intra_division=True, home_point_diff=-8.0, away_point_diff=8.0, home_spread=3.0, home_last_3=13.0, away_last_3=9.0, home_last_1=19.0, away_last_1=-7.0, home_team_covered=False, predicted_diff=-0.29849756811449324)\nPandas(Index=7970, schedule_date='12/11/2011', schedule_season=2011, schedule_week='14', schedule_playoff=False, team_home='CIN', score_home=19.0, score_away=20.0, team_away='HOU', team_favorite_id='CIN', spread_favorite=-3.0, over_under_line=37.0, stadium_neutral=False, intra_division=False, home_point_diff=-1.0, away_point_diff=1.0, home_spread=-3.0, home_last_3=-32.0, away_last_3=42.0, home_last_1=-28.0, away_last_1=7.0, home_team_covered=False, predicted_diff=0.9326075418056552)\nPandas(Index=7990, schedule_date='12/18/2011', schedule_season=2011, schedule_week='15', schedule_playoff=False, team_home='KC', score_home=19.0, score_away=14.0, team_away='GB', team_favorite_id='GB', spread_favorite=-11.5, over_under_line=46.0, stadium_neutral=False, intra_division=False, home_point_diff=5.0, away_point_diff=-5.0, home_spread=11.5, home_last_3=-24.0, away_last_3=45.0, home_last_1=-27.0, away_last_1=30.0, home_team_covered=True, predicted_diff=-8.574059575679042)\nPandas(Index=7992, schedule_date='12/18/2011', schedule_season=2011, schedule_week='15', schedule_playoff=False, team_home='NYG', score_home=10.0, score_away=23.0, team_away='WAS', team_favorite_id='NYG', spread_favorite=-6.0, over_under_line=46.5, stadium_neutral=False, intra_division=True, home_point_diff=-13.0, away_point_diff=13.0, home_spread=-6.0, home_last_3=-25.0, away_last_3=-16.0, home_last_1=3.0, away_last_1=-7.0, home_team_covered=False, predicted_diff=3.789588390214734)\nPandas(Index=7995, schedule_date='12/18/2011', schedule_season=2011, schedule_week='15', schedule_playoff=False, team_home='LAC', score_home=34.0, score_away=14.0, team_away='BAL', team_favorite_id='BAL', spread_favorite=-2.5, over_under_line=44.0, stadium_neutral=False, intra_division=False, home_point_diff=20.0, away_point_diff=-20.0, home_spread=2.5, home_last_3=48.0, away_last_3=38.0, home_last_1=27.0, away_last_1=14.0, home_team_covered=True, predicted_diff=-0.13858341384360268)\nPandas(Index=8003, schedule_date='12/24/2011', schedule_season=2011, schedule_week='16', schedule_playoff=False, team_home='DAL', score_home=7.0, score_away=20.0, team_away='PHI', team_favorite_id='PHI', spread_favorite=-2.5, over_under_line=50.0, stadium_neutral=False, intra_division=True, home_point_diff=-13.0, away_point_diff=13.0, home_spread=2.5, home_last_3=7.0, away_last_3=25.0, home_last_1=16.0, away_last_1=26.0, home_team_covered=False, predicted_diff=-0.29849756811449324)\nPandas(Index=8009, schedule_date='12/24/2011', schedule_season=2011, schedule_week='16', schedule_playoff=False, team_home='SEA', score_home=17.0, score_away=19.0, team_away='SF', team_favorite_id='SF', spread_favorite=-2.5, over_under_line=37.0, stadium_neutral=False, intra_division=True, home_point_diff=-2.0, away_point_diff=2.0, home_spread=2.5, home_last_3=58.0, away_last_3=41.0, home_last_1=24.0, away_last_1=17.0, home_team_covered=True, predicted_diff=-0.29849756811449324)\nPandas(Index=8016, schedule_date='1/1/2012', schedule_season=2011, schedule_week='17', schedule_playoff=False, team_home='CIN', score_home=16.0, score_away=24.0, team_away='BAL', team_favorite_id='BAL', spread_favorite=-2.5, over_under_line=38.0, stadium_neutral=False, intra_division=True, home_point_diff=-8.0, away_point_diff=8.0, home_spread=2.5, home_last_3=13.0, away_last_3=0.0, home_last_1=7.0, away_last_1=6.0, home_team_covered=False, predicted_diff=-0.29849756811449324)\nPandas(Index=8020, schedule_date='1/1/2012', schedule_season=2011, schedule_week='17', schedule_playoff=False, team_home='HOU', score_home=22.0, score_away=23.0, team_away='TEN', team_favorite_id='TEN', spread_favorite=-2.0, over_under_line=38.5, stadium_neutral=False, intra_division=True, home_point_diff=-1.0, away_point_diff=1.0, home_spread=2.0, home_last_3=-17.0, away_last_3=-13.0, home_last_1=-3.0, away_last_1=6.0, home_team_covered=True, predicted_diff=0.42586207841117385)\nPandas(Index=8027, schedule_date='1/1/2012', schedule_season=2011, schedule_week='17', schedule_playoff=False, team_home='LVR', score_home=26.0, score_away=38.0, team_away='LAC', team_favorite_id='LVR', spread_favorite=-3.0, over_under_line=48.5, stadium_neutral=False, intra_division=True, home_point_diff=-12.0, away_point_diff=12.0, home_spread=-3.0, home_last_3=-28.0, away_last_3=19.0, home_last_1=3.0, away_last_1=-28.0, home_team_covered=False, predicted_diff=0.7726933875347646)\nPandas(Index=8029, schedule_date='1/1/2012', schedule_season=2011, schedule_week='17', schedule_playoff=False, team_home='LAR', score_home=27.0, score_away=34.0, team_away='SF', team_favorite_id='SF', spread_favorite=-12.5, over_under_line=34.5, stadium_neutral=False, intra_division=True, home_point_diff=-7.0, away_point_diff=7.0, home_spread=12.5, home_last_3=-51.0, away_last_3=17.0, home_last_1=-27.0, away_last_1=2.0, home_team_covered=True, predicted_diff=-8.733973729949932)\nPandas(Index=8042, schedule_date='9/9/2012', schedule_season=2012, schedule_week='1', schedule_playoff=False, team_home='ARI', score_home=20.0, score_away=16.0, team_away='SEA', team_favorite_id='SEA', spread_favorite=-3.0, over_under_line=41.0, stadium_neutral=False, intra_division=True, home_point_diff=4.0, away_point_diff=-4.0, home_spread=3.0, home_last_3=-1.0, away_last_3=19.0, home_last_1=3.0, away_last_1=-3.0, home_team_covered=True, predicted_diff=-0.29849756811449324)\nPandas(Index=8043, schedule_date='9/9/2012', schedule_season=2012, schedule_week='1', schedule_playoff=False, team_home='CHI', score_home=41.0, score_away=21.0, team_away='IND', team_favorite_id='CHI', spread_favorite=-10.0, over_under_line=42.5, stadium_neutral=False, intra_division=False, home_point_diff=20.0, away_point_diff=-20.0, home_spread=-10.0, home_last_3=-34.0, away_last_3=11.0, home_last_1=4.0, away_last_1=-6.0, home_team_covered=True, predicted_diff=7.703431384781513)\nPandas(Index=8049, schedule_date='9/9/2012', schedule_season=2012, schedule_week='1', schedule_playoff=False, team_home='KC', score_home=24.0, score_away=40.0, team_away='ATL', team_favorite_id='ATL', spread_favorite=-2.5, over_under_line=43.0, stadium_neutral=False, intra_division=False, home_point_diff=-16.0, away_point_diff=16.0, home_spread=2.5, home_last_3=6.0, away_last_3=-30.0, home_last_1=4.0, away_last_1=-22.0, home_team_covered=False, predicted_diff=-0.13858341384360268)\nPandas(Index=8052, schedule_date='9/9/2012', schedule_season=2012, schedule_week='1', schedule_playoff=False, team_home='NYJ', score_home=48.0, score_away=28.0, team_away='BUF', team_favorite_id='NYJ', spread_favorite=-3.0, over_under_line=39.0, stadium_neutral=False, intra_division=True, home_point_diff=20.0, away_point_diff=-20.0, home_spread=-3.0, home_last_3=-43.0, away_last_3=-9.0, home_last_1=-2.0, away_last_1=-28.0, home_team_covered=True, predicted_diff=0.7726933875347646)\nPandas(Index=8059, schedule_date='9/16/2012', schedule_season=2012, schedule_week='2', schedule_playoff=False, team_home='CAR', score_home=35.0, score_away=27.0, team_away='NO', team_favorite_id='NO', spread_favorite=-3.0, over_under_line=54.0, stadium_neutral=False, intra_division=True, home_point_diff=8.0, away_point_diff=-8.0, home_spread=3.0, home_last_3=-2.0, away_last_3=5.0, home_last_1=-6.0, away_last_1=-8.0, home_team_covered=True, predicted_diff=-0.29849756811449324)\nPandas(Index=8061, schedule_date='9/16/2012', schedule_season=2012, schedule_week='2', schedule_playoff=False, team_home='IND', score_home=23.0, score_away=20.0, team_away='MIN', team_favorite_id='MIN', spread_favorite=-3.0, over_under_line=45.5, stadium_neutral=False, intra_division=False, home_point_diff=3.0, away_point_diff=-3.0, home_spread=3.0, home_last_3=-23.0, away_last_3=6.0, home_last_1=-20.0, away_last_1=3.0, home_team_covered=True, predicted_diff=-0.570207836387731)\nPandas(Index=8063, schedule_date='9/16/2012', schedule_season=2012, schedule_week='2', schedule_playoff=False, team_home='MIA', score_home=35.0, score_away=13.0, team_away='LVR', team_favorite_id='LVR', spread_favorite=-2.0, over_under_line=41.0, stadium_neutral=False, intra_division=False, home_point_diff=22.0, away_point_diff=-22.0, home_spread=2.0, home_last_3=-21.0, away_last_3=-17.0, home_last_1=-20.0, away_last_1=-8.0, home_team_covered=True, predicted_diff=0.5857762326820644)\nPandas(Index=8070, schedule_date='9/16/2012', schedule_season=2012, schedule_week='2', schedule_playoff=False, team_home='SEA', score_home=27.0, score_away=7.0, team_away='DAL', team_favorite_id='DAL', spread_favorite=-3.0, over_under_line=43.0, stadium_neutral=False, intra_division=False, home_point_diff=20.0, away_point_diff=-20.0, home_spread=3.0, home_last_3=-9.0, away_last_3=-23.0, home_last_1=-4.0, away_last_1=7.0, home_team_covered=True, predicted_diff=-0.570207836387731)\nPandas(Index=8073, schedule_date='9/20/2012', schedule_season=2012, schedule_week='3', schedule_playoff=False, team_home='CAR', score_home=7.0, score_away=36.0, team_away='NYG', team_favorite_id='CAR', spread_favorite=-3.0, over_under_line=49.0, stadium_neutral=False, intra_division=False, home_point_diff=-29.0, away_point_diff=29.0, home_spread=-3.0, home_last_3=-26.0, away_last_3=4.0, home_last_1=8.0, away_last_1=7.0, home_team_covered=False, predicted_diff=0.9326075418056552)\nPandas(Index=8074, schedule_date='9/23/2012', schedule_season=2012, schedule_week='3', schedule_playoff=False, team_home='ARI', score_home=27.0, score_away=6.0, team_away='PHI', team_favorite_id='PHI', spread_favorite=-3.0, over_under_line=42.0, stadium_neutral=False, intra_division=False, home_point_diff=21.0, away_point_diff=-21.0, home_spread=3.0, home_last_3=9.0, away_last_3=26.0, home_last_1=2.0, away_last_1=1.0, home_team_covered=True, predicted_diff=-0.13858341384360268)\nPandas(Index=8077, schedule_date='9/23/2012', schedule_season=2012, schedule_week='3', schedule_playoff=False, team_home='CLE', score_home=14.0, score_away=24.0, team_away='BUF', team_favorite_id='BUF', spread_favorite=-3.0, over_under_line=45.0, stadium_neutral=False, intra_division=False, home_point_diff=-10.0, away_point_diff=10.0, home_spread=3.0, home_last_3=-12.0, away_last_3=-30.0, home_last_1=-7.0, away_last_1=18.0, home_team_covered=False, predicted_diff=-0.570207836387731)\nPandas(Index=8081, schedule_date='9/23/2012', schedule_season=2012, schedule_week='3', schedule_playoff=False, team_home='MIA', score_home=20.0, score_away=23.0, team_away='NYJ', team_favorite_id='NYJ', spread_favorite=-3.0, over_under_line=40.5, stadium_neutral=False, intra_division=True, home_point_diff=-3.0, away_point_diff=3.0, home_spread=3.0, home_last_3=4.0, away_last_3=1.0, home_last_1=22.0, away_last_1=-17.0, home_team_covered=False, predicted_diff=-0.29849756811449324)\nPandas(Index=8116, schedule_date='10/7/2012', schedule_season=2012, schedule_week='5', schedule_playoff=False, team_home='WAS', score_home=17.0, score_away=24.0, team_away='ATL', team_favorite_id='ATL', spread_favorite=-3.0, over_under_line=51.0, stadium_neutral=False, intra_division=False, home_point_diff=-7.0, away_point_diff=7.0, home_spread=3.0, home_last_3=-8.0, away_last_3=32.0, home_last_1=2.0, away_last_1=2.0, home_team_covered=False, predicted_diff=-0.570207836387731)\nPandas(Index=8125, schedule_date='10/14/2012', schedule_season=2012, schedule_week='6', schedule_playoff=False, team_home='NYJ', score_home=35.0, score_away=9.0, team_away='IND', team_favorite_id='NYJ', spread_favorite=-3.0, over_under_line=44.0, stadium_neutral=False, intra_division=False, home_point_diff=26.0, away_point_diff=-26.0, home_spread=-3.0, home_last_3=-37.0, away_last_3=1.0, home_last_1=-6.0, away_last_1=3.0, home_team_covered=True, predicted_diff=0.9326075418056552)\nPandas(Index=8130, schedule_date='10/14/2012', schedule_season=2012, schedule_week='6', schedule_playoff=False, team_home='WAS', score_home=38.0, score_away=26.0, team_away='MIN', team_favorite_id='MIN', spread_favorite=-2.0, over_under_line=44.0, stadium_neutral=False, intra_division=False, home_point_diff=12.0, away_point_diff=-12.0, home_spread=2.0, home_last_3=-12.0, away_last_3=41.0, home_last_1=-7.0, away_last_1=23.0, home_team_covered=True, predicted_diff=0.5857762326820644)\nPandas(Index=8141, schedule_date='10/21/2012', schedule_season=2012, schedule_week='7', schedule_playoff=False, team_home='LVR', score_home=26.0, score_away=23.0, team_away='JAX', team_favorite_id='LVR', spread_favorite=-6.0, over_under_line=44.0, stadium_neutral=False, intra_division=False, home_point_diff=3.0, away_point_diff=-3.0, home_spread=-6.0, home_last_3=-31.0, away_last_3=-50.0, home_last_1=-3.0, away_last_1=-38.0, home_team_covered=False, predicted_diff=3.949502544485625)\nPandas(Index=8143, schedule_date='10/21/2012', schedule_season=2012, schedule_week='7', schedule_playoff=False, team_home='TB', score_home=28.0, score_away=35.0, team_away='NO', team_favorite_id='NO', spread_favorite=-1.5, over_under_line=49.5, stadium_neutral=False, intra_division=True, home_point_diff=-7.0, away_point_diff=7.0, home_spread=1.5, home_last_3=20.0, away_last_3=3.0, home_last_1=28.0, away_last_1=7.0, home_team_covered=False, predicted_diff=0.8574865009553028)\nPandas(Index=8147, schedule_date='10/28/2012', schedule_season=2012, schedule_week='8', schedule_playoff=False, team_home='CLE', score_home=7.0, score_away=6.0, team_away='LAC', team_favorite_id='LAC', spread_favorite=-3.0, over_under_line=41.0, stadium_neutral=False, intra_division=False, home_point_diff=1.0, away_point_diff=-1.0, home_spread=3.0, home_last_3=-8.0, away_last_3=-1.0, home_last_1=-4.0, away_last_1=-11.0, home_team_covered=True, predicted_diff=-0.570207836387731)\nPandas(Index=8151, schedule_date='10/28/2012', schedule_season=2012, schedule_week='8', schedule_playoff=False, team_home='GB', score_home=24.0, score_away=15.0, team_away='JAX', team_favorite_id='GB', spread_favorite=-16.0, over_under_line=45.5, stadium_neutral=False, intra_division=False, home_point_diff=9.0, away_point_diff=-9.0, home_spread=-16.0, home_last_3=25.0, away_last_3=-58.0, home_last_1=10.0, away_last_1=-3.0, home_team_covered=False, predicted_diff=11.887540608940993)\nPandas(Index=8165, schedule_date='11/4/2012', schedule_season=2012, schedule_week='9', schedule_playoff=False, team_home='IND', score_home=23.0, score_away=20.0, team_away='MIA', team_favorite_id='MIA', spread_favorite=-2.0, over_under_line=43.5, stadium_neutral=False, intra_division=False, home_point_diff=3.0, away_point_diff=-3.0, home_spread=2.0, home_last_3=-16.0, away_last_3=28.0, home_last_1=6.0, away_last_1=21.0, home_team_covered=True, predicted_diff=0.5857762326820644)\nPandas(Index=8166, schedule_date='11/4/2012', schedule_season=2012, schedule_week='9', schedule_playoff=False, team_home='JAX', score_home=14.0, score_away=31.0, team_away='DET', team_favorite_id='DET', spread_favorite=-6.0, over_under_line=44.0, stadium_neutral=False, intra_division=False, home_point_diff=-17.0, away_point_diff=17.0, home_spread=6.0, home_last_3=-50.0, away_last_3=1.0, home_last_1=-9.0, away_last_1=4.0, home_team_covered=False, predicted_diff=-8.147129255832047)\nPandas(Index=8179, schedule_date='11/11/2012', schedule_season=2012, schedule_week='10', schedule_playoff=False, team_home='MIN', score_home=34.0, score_away=24.0, team_away='DET', team_favorite_id='DET', spread_favorite=-3.0, over_under_line=45.5, stadium_neutral=False, intra_division=True, home_point_diff=10.0, away_point_diff=-10.0, home_spread=3.0, home_last_3=-22.0, away_last_3=15.0, home_last_1=-10.0, away_last_1=17.0, home_team_covered=True, predicted_diff=-0.7301219906586216)\nPandas(Index=8181, schedule_date='11/11/2012', schedule_season=2012, schedule_week='10', schedule_playoff=False, team_home='NO', score_home=31.0, score_away=27.0, team_away='ATL', team_favorite_id='ATL', spread_favorite=-1.5, over_under_line=54.0, stadium_neutral=False, intra_division=True, home_point_diff=4.0, away_point_diff=-4.0, home_spread=1.5, home_last_3=2.0, away_last_3=22.0, home_last_1=15.0, away_last_1=6.0, home_team_covered=True, predicted_diff=0.8574865009553028)\nPandas(Index=8192, schedule_date='11/18/2012', schedule_season=2012, schedule_week='11', schedule_playoff=False, team_home='DET', score_home=20.0, score_away=24.0, team_away='GB', team_favorite_id='GB', spread_favorite=-3.0, over_under_line=53.5, stadium_neutral=False, intra_division=True, home_point_diff=-4.0, away_point_diff=4.0, home_spread=3.0, home_last_3=11.0, away_last_3=33.0, home_last_1=-10.0, away_last_1=14.0, home_team_covered=False, predicted_diff=-0.29849756811449324)\nPandas(Index=8193, schedule_date='11/18/2012', schedule_season=2012, schedule_week='11', schedule_playoff=False, team_home='HOU', score_home=43.0, score_away=37.0, team_away='JAX', team_favorite_id='HOU', spread_favorite=-15.5, over_under_line=40.5, stadium_neutral=False, intra_division=True, home_point_diff=6.0, away_point_diff=-6.0, home_spread=-15.5, home_last_3=49.0, away_last_3=-43.0, home_last_1=7.0, away_last_1=-17.0, home_team_covered=False, predicted_diff=11.727626454670103)\nPandas(Index=8197, schedule_date='11/18/2012', schedule_season=2012, schedule_week='11', schedule_playoff=False, team_home='PIT', score_home=10.0, score_away=13.0, team_away='BAL', team_favorite_id='BAL', spread_favorite=-3.0, over_under_line=40.5, stadium_neutral=False, intra_division=True, home_point_diff=-3.0, away_point_diff=3.0, home_spread=3.0, home_last_3=22.0, away_last_3=15.0, home_last_1=3.0, away_last_1=35.0, home_team_covered=False, predicted_diff=-0.29849756811449324)\nPandas(Index=8207, schedule_date='11/25/2012', schedule_season=2012, schedule_week='12', schedule_playoff=False, team_home='CLE', score_home=20.0, score_away=14.0, team_away='PIT', team_favorite_id='PIT', spread_favorite=-2.0, over_under_line=33.5, stadium_neutral=False, intra_division=True, home_point_diff=6.0, away_point_diff=-6.0, home_spread=2.0, home_last_3=-12.0, away_last_3=4.0, home_last_1=-3.0, away_last_1=-3.0, home_team_covered=True, predicted_diff=0.42586207841117385)\nPandas(Index=8212, schedule_date='11/25/2012', schedule_season=2012, schedule_week='12', schedule_playoff=False, team_home='NO', score_home=21.0, score_away=31.0, team_away='SF', team_favorite_id='SF', spread_favorite=-1.5, over_under_line=50.0, stadium_neutral=False, intra_division=False, home_point_diff=-10.0, away_point_diff=10.0, home_spread=1.5, home_last_3=40.0, away_last_3=46.0, home_last_1=21.0, away_last_1=25.0, home_team_covered=False, predicted_diff=1.0174006552261934)\nPandas(Index=8214, schedule_date='11/25/2012', schedule_season=2012, schedule_week='12', schedule_playoff=False, team_home='LAC', score_home=13.0, score_away=16.0, team_away='BAL', team_favorite_id='BAL', spread_favorite=-1.0, over_under_line=47.0, stadium_neutral=False, intra_division=False, home_point_diff=-3.0, away_point_diff=3.0, home_spread=1.0, home_last_3=1.0, away_last_3=48.0, home_last_1=-7.0, away_last_1=3.0, home_team_covered=False, predicted_diff=1.0174006552261934)\nPandas(Index=8215, schedule_date='11/25/2012', schedule_season=2012, schedule_week='12', schedule_playoff=False, team_home='TB', score_home=23.0, score_away=24.0, team_away='ATL', team_favorite_id='ATL', spread_favorite=-1.5, over_under_line=51.5, stadium_neutral=False, intra_division=True, home_point_diff=-1.0, away_point_diff=1.0, home_spread=1.5, home_last_3=26.0, away_last_3=6.0, home_last_1=6.0, away_last_1=4.0, home_team_covered=True, predicted_diff=0.8574865009553028)\nPandas(Index=8225, schedule_date='12/2/2012', schedule_season=2012, schedule_week='13', schedule_playoff=False, team_home='KC', score_home=27.0, score_away=21.0, team_away='CAR', team_favorite_id='CAR', spread_favorite=-6.0, over_under_line=41.0, stadium_neutral=False, intra_division=False, home_point_diff=6.0, away_point_diff=-6.0, home_spread=6.0, home_last_3=-33.0, away_last_3=-20.0, home_last_1=-8.0, away_last_1=8.0, home_team_covered=True, predicted_diff=-8.147129255832047)\nPandas(Index=8227, schedule_date='12/2/2012', schedule_season=2012, schedule_week='13', schedule_playoff=False, team_home='NYJ', score_home=7.0, score_away=6.0, team_away='ARI', team_favorite_id='NYJ', spread_favorite=-6.0, over_under_line=36.5, stadium_neutral=False, intra_division=False, home_point_diff=1.0, away_point_diff=-1.0, home_spread=-6.0, home_last_3=-37.0, away_last_3=-32.0, home_last_1=-30.0, away_last_1=-14.0, home_team_covered=False, predicted_diff=3.949502544485625)\nPandas(Index=8232, schedule_date='12/3/2012', schedule_season=2012, schedule_week='13', schedule_playoff=False, team_home='WAS', score_home=17.0, score_away=16.0, team_away='NYG', team_favorite_id='NYG', spread_favorite=-3.0, over_under_line=50.0, stadium_neutral=False, intra_division=True, home_point_diff=1.0, away_point_diff=-1.0, home_spread=3.0, home_last_3=24.0, away_last_3=6.0, home_last_1=7.0, away_last_1=28.0, home_team_covered=True, predicted_diff=-0.29849756811449324)\nPandas(Index=8240, schedule_date='12/9/2012', schedule_season=2012, schedule_week='14', schedule_playoff=False, team_home='JAX', score_home=10.0, score_away=17.0, team_away='NYJ', team_favorite_id='NYJ', spread_favorite=-3.0, over_under_line=39.0, stadium_neutral=False, intra_division=False, home_point_diff=-7.0, away_point_diff=7.0, home_spread=3.0, home_last_3=-17.0, away_last_3=-15.0, home_last_1=-16.0, away_last_1=1.0, home_team_covered=False, predicted_diff=-0.570207836387731)\nPandas(Index=8250, schedule_date='12/16/2012', schedule_season=2012, schedule_week='15', schedule_playoff=False, team_home='ARI', score_home=38.0, score_away=10.0, team_away='DET', team_favorite_id='DET', spread_favorite=-6.5, over_under_line=43.5, stadium_neutral=False, intra_division=False, home_point_diff=28.0, away_point_diff=-28.0, home_spread=6.5, home_last_3=-73.0, away_last_3=-12.0, home_last_1=-58.0, away_last_1=-7.0, home_team_covered=True, predicted_diff=-0.6382333960434066)\nPandas(Index=8252, schedule_date='12/16/2012', schedule_season=2012, schedule_week='15', schedule_playoff=False, team_home='BAL', score_home=17.0, score_away=34.0, team_away='DEN', team_favorite_id='DEN', spread_favorite=-3.0, over_under_line=48.0, stadium_neutral=False, intra_division=False, home_point_diff=-17.0, away_point_diff=17.0, home_spread=3.0, home_last_3=-3.0, away_last_3=29.0, home_last_1=-3.0, away_last_1=13.0, home_team_covered=False, predicted_diff=-0.13858341384360268)\nPandas(Index=8254, schedule_date='12/16/2012', schedule_season=2012, schedule_week='15', schedule_playoff=False, team_home='CHI', score_home=13.0, score_away=21.0, team_away='GB', team_favorite_id='GB', spread_favorite=-3.0, over_under_line=43.5, stadium_neutral=False, intra_division=True, home_point_diff=-8.0, away_point_diff=8.0, home_spread=3.0, home_last_3=5.0, away_last_3=-12.0, home_last_1=-7.0, away_last_1=7.0, home_team_covered=False, predicted_diff=-0.29849756811449324)\nPandas(Index=8256, schedule_date='12/16/2012', schedule_season=2012, schedule_week='15', schedule_playoff=False, team_home='DAL', score_home=27.0, score_away=24.0, team_away='PIT', team_favorite_id='PIT', spread_favorite=-2.5, over_under_line=46.0, stadium_neutral=False, intra_division=False, home_point_diff=3.0, away_point_diff=-3.0, home_spread=2.5, home_last_3=-1.0, away_last_3=-13.0, home_last_1=1.0, away_last_1=-10.0, home_team_covered=True, predicted_diff=-0.13858341384360268)\nPandas(Index=8273, schedule_date='12/23/2012', schedule_season=2012, schedule_week='16', schedule_playoff=False, team_home='JAX', score_home=16.0, score_away=23.0, team_away='NE', team_favorite_id='NE', spread_favorite=-14.5, over_under_line=51.0, stadium_neutral=False, intra_division=False, home_point_diff=-7.0, away_point_diff=7.0, home_spread=14.5, home_last_3=-44.0, away_last_3=28.0, home_last_1=-21.0, away_last_1=-7.0, home_team_covered=True, predicted_diff=-17.49787490555918)\nPandas(Index=8274, schedule_date='12/23/2012', schedule_season=2012, schedule_week='16', schedule_playoff=False, team_home='KC', score_home=13.0, score_away=20.0, team_away='IND', team_favorite_id='IND', spread_favorite=-6.0, over_under_line=41.5, stadium_neutral=False, intra_division=False, home_point_diff=-7.0, away_point_diff=7.0, home_spread=6.0, home_last_3=-32.0, away_last_3=-6.0, home_last_1=-15.0, away_last_1=-12.0, home_team_covered=False, predicted_diff=-8.147129255832047)\nPandas(Index=8277, schedule_date='12/23/2012', schedule_season=2012, schedule_week='16', schedule_playoff=False, team_home='PHI', score_home=20.0, score_away=27.0, team_away='WAS', team_favorite_id='WAS', spread_favorite=-6.0, over_under_line=46.0, stadium_neutral=False, intra_division=True, home_point_diff=-7.0, away_point_diff=7.0, home_spread=6.0, home_last_3=-24.0, away_last_3=21.0, home_last_1=-21.0, away_last_1=17.0, home_team_covered=False, predicted_diff=-8.307043410102938)\nPandas(Index=8280, schedule_date='12/23/2012', schedule_season=2012, schedule_week='16', schedule_playoff=False, team_home='TB', score_home=13.0, score_away=28.0, team_away='LAR', team_favorite_id='TB', spread_favorite=-3.0, over_under_line=44.0, stadium_neutral=False, intra_division=False, home_point_diff=-15.0, away_point_diff=15.0, home_spread=-3.0, home_last_3=-51.0, away_last_3=-8.0, home_last_1=-41.0, away_last_1=-14.0, home_team_covered=False, predicted_diff=0.9326075418056552)\nPandas(Index=8284, schedule_date='12/30/2012', schedule_season=2012, schedule_week='17', schedule_playoff=False, team_home='DEN', score_home=38.0, score_away=3.0, team_away='KC', team_favorite_id='DEN', spread_favorite=-17.0, over_under_line=41.5, stadium_neutral=False, intra_division=True, home_point_diff=35.0, away_point_diff=-35.0, home_spread=-17.0, home_last_3=52.0, away_last_3=-45.0, home_last_1=22.0, away_last_1=-7.0, home_team_covered=True, predicted_diff=11.727626454670103)\nPandas(Index=8287, schedule_date='12/30/2012', schedule_season=2012, schedule_week='17', schedule_playoff=False, team_home='MIN', score_home=37.0, score_away=34.0, team_away='GB', team_favorite_id='GB', spread_favorite=-3.0, over_under_line=46.0, stadium_neutral=False, intra_division=True, home_point_diff=3.0, away_point_diff=-3.0, home_spread=3.0, home_last_3=38.0, away_last_3=63.0, home_last_1=17.0, away_last_1=48.0, home_team_covered=True, predicted_diff=-0.29849756811449324)\nPandas(Index=8293, schedule_date='12/30/2012', schedule_season=2012, schedule_week='17', schedule_playoff=False, team_home='SF', score_home=27.0, score_away=13.0, team_away='ARI', team_favorite_id='SF', spread_favorite=-16.5, over_under_line=39.5, stadium_neutral=False, intra_division=True, home_point_diff=14.0, away_point_diff=-14.0, home_spread=-16.5, home_last_3=-8.0, away_last_3=-45.0, home_last_1=-29.0, away_last_1=-15.0, home_team_covered=False, predicted_diff=11.296002032125974)\nPandas(Index=8300, schedule_date='1/6/2013', schedule_season=2012, schedule_week='Wildcard', schedule_playoff=True, team_home='WAS', score_home=14.0, score_away=24.0, team_away='SEA', team_favorite_id='SEA', spread_favorite=-3.0, over_under_line=45.0, stadium_neutral=False, intra_division=False, home_point_diff=-10.0, away_point_diff=10.0, home_spread=3.0, home_last_3=34.0, away_last_3=69.0, home_last_1=10.0, away_last_1=7.0, home_team_covered=False, predicted_diff=-0.13858341384360268)\nPandas(Index=8318, schedule_date='9/8/2013', schedule_season=2013, schedule_week='1', schedule_playoff=False, team_home='NYJ', score_home=18.0, score_away=17.0, team_away='TB', team_favorite_id='TB', spread_favorite=-6.0, over_under_line=39.0, stadium_neutral=False, intra_division=False, home_point_diff=1.0, away_point_diff=-1.0, home_spread=6.0, home_last_3=-33.0, away_last_3=-51.0, home_last_1=-19.0, away_last_1=5.0, home_team_covered=True, predicted_diff=-8.147129255832047)\nPandas(Index=8342, schedule_date='9/22/2013', schedule_season=2013, schedule_week='3', schedule_playoff=False, team_home='CAR', score_home=38.0, score_away=0.0, team_away='NYG', team_favorite_id='NYG', spread_favorite=-3.0, over_under_line=47.0, stadium_neutral=False, intra_division=False, home_point_diff=38.0, away_point_diff=-38.0, home_spread=3.0, home_last_3=0.0, away_last_3=12.0, home_last_1=-1.0, away_last_1=-18.0, home_team_covered=True, predicted_diff=-0.13858341384360268)\nPandas(Index=8343, schedule_date='9/22/2013', schedule_season=2013, schedule_week='3', schedule_playoff=False, team_home='CIN', score_home=34.0, score_away=30.0, team_away='GB', team_favorite_id='GB', spread_favorite=-3.0, over_under_line=50.5, stadium_neutral=False, intra_division=False, home_point_diff=4.0, away_point_diff=-4.0, home_spread=3.0, home_last_3=1.0, away_last_3=-2.0, home_last_1=10.0, away_last_1=18.0, home_team_covered=True, predicted_diff=-0.13858341384360268)\nPandas(Index=8350, schedule_date='9/22/2013', schedule_season=2013, schedule_week='3', schedule_playoff=False, team_home='PIT', score_home=23.0, score_away=40.0, team_away='CHI', team_favorite_id='CHI', spread_favorite=-2.5, over_under_line=41.0, stadium_neutral=False, intra_division=False, home_point_diff=-17.0, away_point_diff=17.0, home_spread=2.5, home_last_3=-3.0, away_last_3=6.0, home_last_1=-10.0, away_last_1=1.0, home_team_covered=False, predicted_diff=-0.13858341384360268)\nPandas(Index=8352, schedule_date='9/22/2013', schedule_season=2013, schedule_week='3', schedule_playoff=False, team_home='SEA', score_home=45.0, score_away=17.0, team_away='JAX', team_favorite_id='SEA', spread_favorite=-20.0, over_under_line=39.5, stadium_neutral=False, intra_division=False, home_point_diff=28.0, away_point_diff=-28.0, home_spread=-20.0, home_last_3=29.0, away_last_3=-54.0, home_last_1=26.0, away_last_1=-10.0, home_team_covered=True, predicted_diff=11.887540608940993)\nPandas(Index=8355, schedule_date='9/23/2013', schedule_season=2013, schedule_week='3', schedule_playoff=False, team_home='DEN', score_home=37.0, score_away=21.0, team_away='LVR', team_favorite_id='DEN', spread_favorite=-16.5, over_under_line=50.0, stadium_neutral=False, intra_division=True, home_point_diff=16.0, away_point_diff=-16.0, home_spread=-16.5, home_last_3=37.0, away_last_3=3.0, home_last_1=18.0, away_last_1=10.0, home_team_covered=False, predicted_diff=11.727626454670103)\nPandas(Index=8362, schedule_date='9/29/2013', schedule_season=2013, schedule_week='4', schedule_playoff=False, team_home='HOU', score_home=20.0, score_away=23.0, team_away='SEA', team_favorite_id='SEA', spread_favorite=-2.0, over_under_line=41.0, stadium_neutral=False, intra_division=False, home_point_diff=-3.0, away_point_diff=3.0, home_spread=2.0, home_last_3=-12.0, away_last_3=59.0, home_last_1=-21.0, away_last_1=28.0, home_team_covered=False, predicted_diff=0.5857762326820644)\nPandas(Index=8365, schedule_date='9/29/2013', schedule_season=2013, schedule_week='4', schedule_playoff=False, team_home='MIN', score_home=34.0, score_away=27.0, team_away='PIT', team_favorite_id='PIT', spread_favorite=-3.0, over_under_line=41.5, stadium_neutral=True, intra_division=False, home_point_diff=7.0, away_point_diff=-7.0, home_spread=3.0, home_last_3=-15.0, away_last_3=-34.0, home_last_1=-4.0, away_last_1=-17.0, home_team_covered=True, predicted_diff=-0.570207836387731)\nPandas(Index=8367, schedule_date='9/29/2013', schedule_season=2013, schedule_week='4', schedule_playoff=False, team_home='LAC', score_home=30.0, score_away=21.0, team_away='DAL', team_favorite_id='DAL', spread_favorite=-1.5, over_under_line=48.0, stadium_neutral=False, intra_division=False, home_point_diff=9.0, away_point_diff=-9.0, home_spread=1.5, home_last_3=-3.0, away_last_3=28.0, home_last_1=-3.0, away_last_1=24.0, home_team_covered=True, predicted_diff=1.0174006552261934)\nPandas(Index=8372, schedule_date='10/6/2013', schedule_season=2013, schedule_week='5', schedule_playoff=False, team_home='ARI', score_home=22.0, score_away=6.0, team_away='CAR', team_favorite_id='CAR', spread_favorite=-3.0, over_under_line=42.5, stadium_neutral=False, intra_division=False, home_point_diff=16.0, away_point_diff=-16.0, home_spread=3.0, home_last_3=-17.0, away_last_3=32.0, home_last_1=3.0, away_last_1=38.0, home_team_covered=True, predicted_diff=-0.570207836387731)\nPandas(Index=8373, schedule_date='10/6/2013', schedule_season=2013, schedule_week='5', schedule_playoff=False, team_home='CHI', score_home=18.0, score_away=26.0, team_away='NO', team_favorite_id='NO', spread_favorite=-1.5, over_under_line=51.5, stadium_neutral=False, intra_division=False, home_point_diff=-8.0, away_point_diff=8.0, home_spread=1.5, home_last_3=10.0, away_last_3=47.0, home_last_1=-8.0, away_last_1=21.0, home_team_covered=False, predicted_diff=1.0174006552261934)\nPandas(Index=8374, schedule_date='10/6/2013', schedule_season=2013, schedule_week='5', schedule_playoff=False, team_home='CIN', score_home=13.0, score_away=6.0, team_away='NE', team_favorite_id='NE', spread_favorite=-1.0, over_under_line=45.5, stadium_neutral=False, intra_division=False, home_point_diff=7.0, away_point_diff=-7.0, home_spread=1.0, home_last_3=3.0, away_last_3=30.0, home_last_1=-11.0, away_last_1=7.0, home_team_covered=True, predicted_diff=1.0174006552261934)\nPandas(Index=8377, schedule_date='10/6/2013', schedule_season=2013, schedule_week='5', schedule_playoff=False, team_home='IND', score_home=34.0, score_away=28.0, team_away='SEA', team_favorite_id='SEA', spread_favorite=-3.0, over_under_line=44.0, stadium_neutral=False, intra_division=False, home_point_diff=6.0, away_point_diff=-6.0, home_spread=3.0, home_last_3=50.0, away_last_3=57.0, home_last_1=34.0, away_last_1=3.0, home_team_covered=True, predicted_diff=-0.13858341384360268)\nPandas(Index=8383, schedule_date='10/6/2013', schedule_season=2013, schedule_week='5', schedule_playoff=False, team_home='TEN', score_home=17.0, score_away=26.0, team_away='KC', team_favorite_id='KC', spread_favorite=-3.0, over_under_line=38.5, stadium_neutral=False, intra_division=False, home_point_diff=-9.0, away_point_diff=9.0, home_spread=3.0, home_last_3=22.0, away_last_3=35.0, home_last_1=25.0, away_last_1=24.0, home_team_covered=False, predicted_diff=-0.13858341384360268)\nPandas(Index=8386, schedule_date='10/13/2013', schedule_season=2013, schedule_week='6', schedule_playoff=False, team_home='BAL', score_home=17.0, score_away=19.0, team_away='GB', team_favorite_id='GB', spread_favorite=-2.0, over_under_line=48.0, stadium_neutral=False, intra_division=False, home_point_diff=-2.0, away_point_diff=2.0, home_spread=2.0, home_last_3=21.0, away_last_3=27.0, home_last_1=3.0, away_last_1=13.0, home_team_covered=False, predicted_diff=1.0174006552261934)\nPandas(Index=8388, schedule_date='10/13/2013', schedule_season=2013, schedule_week='6', schedule_playoff=False, team_home='CLE', score_home=17.0, score_away=31.0, team_away='DET', team_favorite_id='DET', spread_favorite=-2.5, over_under_line=43.5, stadium_neutral=False, intra_division=False, home_point_diff=-14.0, away_point_diff=14.0, home_spread=2.5, home_last_3=28.0, away_last_3=2.0, home_last_1=13.0, away_last_1=-13.0, home_team_covered=False, predicted_diff=-0.13858341384360268)\nPandas(Index=8390, schedule_date='10/13/2013', schedule_season=2013, schedule_week='6', schedule_playoff=False, team_home='DEN', score_home=35.0, score_away=19.0, team_away='JAX', team_favorite_id='DEN', spread_favorite=-26.5, over_under_line=52.0, stadium_neutral=False, intra_division=False, home_point_diff=16.0, away_point_diff=-16.0, home_spread=-26.5, home_last_3=51.0, away_last_3=-76.0, home_last_1=3.0, away_last_1=-14.0, home_team_covered=False, predicted_diff=11.887540608940993)\nPandas(Index=8395, schedule_date='10/13/2013', schedule_season=2013, schedule_week='6', schedule_playoff=False, team_home='NYJ', score_home=6.0, score_away=19.0, team_away='PIT', team_favorite_id='PIT', spread_favorite=-1.5, over_under_line=41.0, stadium_neutral=False, intra_division=False, home_point_diff=-13.0, away_point_diff=13.0, home_spread=1.5, home_last_3=-16.0, away_last_3=-34.0, home_last_1=2.0, away_last_1=-7.0, home_team_covered=False, predicted_diff=0.5857762326820644)\nPandas(Index=8412, schedule_date='10/20/2013', schedule_season=2013, schedule_week='7', schedule_playoff=False, team_home='TEN', score_home=17.0, score_away=31.0, team_away='SF', team_favorite_id='SF', spread_favorite=-3.0, over_under_line=40.5, stadium_neutral=False, intra_division=False, home_point_diff=-14.0, away_point_diff=14.0, home_spread=3.0, home_last_3=9.0, away_last_3=67.0, home_last_1=-7.0, away_last_1=12.0, home_team_covered=False, predicted_diff=-0.13858341384360268)\nPandas(Index=8420, schedule_date='10/27/2013', schedule_season=2013, schedule_week='8', schedule_playoff=False, team_home='JAX', score_home=10.0, score_away=42.0, team_away='SF', team_favorite_id='SF', spread_favorite=-14.5, over_under_line=40.0, stadium_neutral=True, intra_division=False, home_point_diff=-32.0, away_point_diff=32.0, home_spread=14.5, home_last_3=-48.0, away_last_3=57.0, home_last_1=-18.0, away_last_1=14.0, home_team_covered=False, predicted_diff=-17.49787490555918)\nPandas(Index=8427, schedule_date='10/28/2013', schedule_season=2013, schedule_week='8', schedule_playoff=False, team_home='LAR', score_home=9.0, score_away=14.0, team_away='SEA', team_favorite_id='SEA', spread_favorite=-13.0, over_under_line=43.5, stadium_neutral=False, intra_division=True, home_point_diff=-5.0, away_point_diff=5.0, home_spread=13.0, home_last_3=24.0, away_last_3=13.0, home_last_1=-15.0, away_last_1=12.0, home_team_covered=True, predicted_diff=-9.776392436862622)\nPandas(Index=8428, schedule_date='10/31/2013', schedule_season=2013, schedule_week='9', schedule_playoff=False, team_home='MIA', score_home=22.0, score_away=20.0, team_away='CIN', team_favorite_id='CIN', spread_favorite=-3.0, over_under_line=42.0, stadium_neutral=False, intra_division=False, home_point_diff=2.0, away_point_diff=-2.0, home_spread=3.0, home_last_3=-15.0, away_last_3=46.0, home_last_1=-10.0, away_last_1=40.0, home_team_covered=True, predicted_diff=-0.570207836387731)\nPandas(Index=8437, schedule_date='11/3/2013', schedule_season=2013, schedule_week='9', schedule_playoff=False, team_home='SEA', score_home=27.0, score_away=24.0, team_away='TB', team_favorite_id='SEA', spread_favorite=-14.5, over_under_line=40.5, stadium_neutral=False, intra_division=False, home_point_diff=3.0, away_point_diff=-3.0, home_spread=-14.5, home_last_3=24.0, away_last_3=-37.0, home_last_1=5.0, away_last_1=-18.0, home_team_covered=False, predicted_diff=11.887540608940993)\nPandas(Index=8438, schedule_date='11/3/2013', schedule_season=2013, schedule_week='9', schedule_playoff=False, team_home='LAR', score_home=21.0, score_away=28.0, team_away='TEN', team_favorite_id='TEN', spread_favorite=-3.0, over_under_line=40.5, stadium_neutral=False, intra_division=False, home_point_diff=-7.0, away_point_diff=7.0, home_spread=3.0, home_last_3=5.0, away_last_3=-30.0, home_last_1=-5.0, away_last_1=-14.0, home_team_covered=False, predicted_diff=-0.13858341384360268)\nPandas(Index=8445, schedule_date='11/10/2013', schedule_season=2013, schedule_week='10', schedule_playoff=False, team_home='CHI', score_home=19.0, score_away=21.0, team_away='DET', team_favorite_id='DET', spread_favorite=-1.5, over_under_line=52.0, stadium_neutral=False, intra_division=True, home_point_diff=-2.0, away_point_diff=2.0, home_spread=1.5, home_last_3=9.0, away_last_3=12.0, home_last_1=7.0, away_last_1=1.0, home_team_covered=False, predicted_diff=0.8574865009553028)\nPandas(Index=8446, schedule_date='11/10/2013', schedule_season=2013, schedule_week='10', schedule_playoff=False, team_home='GB', score_home=13.0, score_away=27.0, team_away='PHI', team_favorite_id='PHI', spread_favorite=-1.0, over_under_line=47.0, stadium_neutral=False, intra_division=False, home_point_diff=-14.0, away_point_diff=14.0, home_spread=1.0, home_last_3=24.0, away_last_3=7.0, home_last_1=-7.0, away_last_1=29.0, home_team_covered=False, predicted_diff=1.0174006552261934)\nPandas(Index=8455, schedule_date='11/14/2013', schedule_season=2013, schedule_week='11', schedule_playoff=False, team_home='TEN', score_home=27.0, score_away=30.0, team_away='IND', team_favorite_id='IND', spread_favorite=-3.0, over_under_line=42.0, stadium_neutral=False, intra_division=True, home_point_diff=-3.0, away_point_diff=3.0, home_spread=3.0, home_last_3=-9.0, away_last_3=-21.0, home_last_1=-2.0, away_last_1=-30.0, home_team_covered=False, predicted_diff=-0.7301219906586216)\nPandas(Index=8462, schedule_date='11/17/2013', schedule_season=2013, schedule_week='11', schedule_playoff=False, team_home='MIA', score_home=20.0, score_away=16.0, team_away='LAC', team_favorite_id='LAC', spread_favorite=-3.0, over_under_line=44.5, stadium_neutral=False, intra_division=False, home_point_diff=4.0, away_point_diff=-4.0, home_spread=3.0, home_last_3=-11.0, away_last_3=4.0, home_last_1=-3.0, away_last_1=-8.0, home_team_covered=True, predicted_diff=-0.570207836387731)\nPandas(Index=8466, schedule_date='11/17/2013', schedule_season=2013, schedule_week='11', schedule_playoff=False, team_home='PIT', score_home=37.0, score_away=27.0, team_away='DET', team_favorite_id='DET', spread_favorite=-3.0, over_under_line=45.0, stadium_neutral=False, intra_division=False, home_point_diff=10.0, away_point_diff=-10.0, home_spread=3.0, home_last_3=-14.0, away_last_3=0.0, home_last_1=13.0, away_last_1=2.0, home_team_covered=True, predicted_diff=-0.570207836387731)\nPandas(Index=8479, schedule_date='11/24/2013', schedule_season=2013, schedule_week='12', schedule_playoff=False, team_home='NE', score_home=34.0, score_away=31.0, team_away='DEN', team_favorite_id='DEN', spread_favorite=-2.5, over_under_line=53.0, stadium_neutral=False, intra_division=False, home_point_diff=3.0, away_point_diff=-3.0, home_spread=2.5, home_last_3=30.0, away_last_3=42.0, home_last_1=-4.0, away_last_1=10.0, home_team_covered=True, predicted_diff=-0.13858341384360268)\nPandas(Index=8496, schedule_date='12/1/2013', schedule_season=2013, schedule_week='13', schedule_playoff=False, team_home='LAC', score_home=10.0, score_away=17.0, team_away='CIN', team_favorite_id='CIN', spread_favorite=-1.5, over_under_line=48.5, stadium_neutral=False, intra_division=False, home_point_diff=-7.0, away_point_diff=7.0, home_spread=1.5, home_last_3=-9.0, away_last_3=16.0, home_last_1=3.0, away_last_1=21.0, home_team_covered=False, predicted_diff=0.5857762326820644)\nPandas(Index=8508, schedule_date='12/8/2013', schedule_season=2013, schedule_week='14', schedule_playoff=False, team_home='NYJ', score_home=37.0, score_away=27.0, team_away='LVR', team_favorite_id='NYJ', spread_favorite=-3.0, over_under_line=39.5, stadium_neutral=False, intra_division=False, home_point_diff=10.0, away_point_diff=-10.0, home_spread=-3.0, home_last_3=-59.0, away_last_3=-6.0, home_last_1=-20.0, away_last_1=-7.0, home_team_covered=True, predicted_diff=0.9326075418056552)\nPandas(Index=8521, schedule_date='12/15/2013', schedule_season=2013, schedule_week='15', schedule_playoff=False, team_home='IND', score_home=25.0, score_away=3.0, team_away='HOU', team_favorite_id='IND', spread_favorite=-6.0, over_under_line=47.0, stadium_neutral=False, intra_division=True, home_point_diff=22.0, away_point_diff=-22.0, home_spread=-6.0, home_last_3=-35.0, away_last_3=-17.0, home_last_1=-14.0, away_last_1=-7.0, home_team_covered=True, predicted_diff=3.789588390214734)\nPandas(Index=8527, schedule_date='12/15/2013', schedule_season=2013, schedule_week='15', schedule_playoff=False, team_home='PIT', score_home=30.0, score_away=20.0, team_away='CIN', team_favorite_id='CIN', spread_favorite=-1.5, over_under_line=43.0, stadium_neutral=False, intra_division=True, home_point_diff=10.0, away_point_diff=-10.0, home_spread=1.5, home_last_3=8.0, away_last_3=42.0, home_last_1=-6.0, away_last_1=14.0, home_team_covered=True, predicted_diff=0.8574865009553028)\nPandas(Index=8547, schedule_date='12/23/2013', schedule_season=2013, schedule_week='16', schedule_playoff=False, team_home='SF', score_home=34.0, score_away=24.0, team_away='ATL', team_favorite_id='SF', spread_favorite=-14.5, over_under_line=46.0, stadium_neutral=False, intra_division=False, home_point_diff=10.0, away_point_diff=-10.0, home_spread=-14.5, home_last_3=31.0, away_last_3=3.0, home_last_1=19.0, away_last_1=1.0, home_team_covered=False, predicted_diff=11.887540608940993)\nPandas(Index=8550, schedule_date='12/29/2013', schedule_season=2013, schedule_week='17', schedule_playoff=False, team_home='CHI', score_home=28.0, score_away=33.0, team_away='GB', team_favorite_id='GB', spread_favorite=-3.0, over_under_line=51.5, stadium_neutral=False, intra_division=True, home_point_diff=-5.0, away_point_diff=5.0, home_spread=3.0, home_last_3=-19.0, away_last_3=-5.0, home_last_1=-43.0, away_last_1=-7.0, home_team_covered=False, predicted_diff=-0.7301219906586216)\nPandas(Index=8561, schedule_date='12/29/2013', schedule_season=2013, schedule_week='17', schedule_playoff=False, team_home='LAC', score_home=27.0, score_away=24.0, team_away='KC', team_favorite_id='LAC', spread_favorite=-14.5, over_under_line=45.0, stadium_neutral=False, intra_division=True, home_point_diff=3.0, away_point_diff=-3.0, home_spread=-14.5, home_last_3=43.0, away_last_3=44.0, home_last_1=13.0, away_last_1=-16.0, home_team_covered=False, predicted_diff=11.727626454670103)\nPandas(Index=8564, schedule_date='1/4/2014', schedule_season=2013, schedule_week='Wildcard', schedule_playoff=True, team_home='IND', score_home=45.0, score_away=44.0, team_away='KC', team_favorite_id='KC', spread_favorite=-2.5, over_under_line=46.5, stadium_neutral=False, intra_division=False, home_point_diff=1.0, away_point_diff=-1.0, home_spread=2.5, home_last_3=58.0, away_last_3=6.0, home_last_1=20.0, away_last_1=-3.0, home_team_covered=True, predicted_diff=-0.13858341384360268)\nPandas(Index=8567, schedule_date='1/5/2014', schedule_season=2013, schedule_week='Wildcard', schedule_playoff=True, team_home='GB', score_home=20.0, score_away=23.0, team_away='SF', team_favorite_id='SF', spread_favorite=-3.0, over_under_line=46.0, stadium_neutral=False, intra_division=False, home_point_diff=-3.0, away_point_diff=3.0, home_spread=3.0, home_last_3=-1.0, away_last_3=32.0, home_last_1=5.0, away_last_1=3.0, home_team_covered=False, predicted_diff=-0.13858341384360268)\nPandas(Index=8570, schedule_date='1/12/2014', schedule_season=2013, schedule_week='Division', schedule_playoff=True, team_home='CAR', score_home=10.0, score_away=23.0, team_away='SF', team_favorite_id='SF', spread_favorite=-1.0, over_under_line=41.5, stadium_neutral=False, intra_division=False, home_point_diff=-13.0, away_point_diff=13.0, home_spread=1.0, home_last_3=15.0, away_last_3=16.0, home_last_1=1.0, away_last_1=3.0, home_team_covered=False, predicted_diff=1.0174006552261934)\nPandas(Index=8576, schedule_date='9/7/2014', schedule_season=2014, schedule_week='1', schedule_playoff=False, team_home='ATL', score_home=37.0, score_away=34.0, team_away='NO', team_favorite_id='NO', spread_favorite=-3.0, over_under_line=52.0, stadium_neutral=False, intra_division=True, home_point_diff=3.0, away_point_diff=-3.0, home_spread=3.0, home_last_3=-10.0, away_last_3=19.0, home_last_1=-1.0, away_last_1=-8.0, home_team_covered=True, predicted_diff=-0.7301219906586216)\nPandas(Index=8581, schedule_date='9/7/2014', schedule_season=2014, schedule_week='1', schedule_playoff=False, team_home='HOU', score_home=17.0, score_away=6.0, team_away='WAS', team_favorite_id='HOU', spread_favorite=-3.0, over_under_line=44.5, stadium_neutral=False, intra_division=False, home_point_diff=11.0, away_point_diff=-11.0, home_spread=-3.0, home_last_3=-52.0, away_last_3=-16.0, home_last_1=-6.0, away_last_1=-14.0, home_team_covered=True, predicted_diff=0.9326075418056552)\nPandas(Index=8606, schedule_date='9/15/2014', schedule_season=2014, schedule_week='2', schedule_playoff=False, team_home='IND', score_home=27.0, score_away=30.0, team_away='PHI', team_favorite_id='IND', spread_favorite=-3.0, over_under_line=54.0, stadium_neutral=False, intra_division=False, home_point_diff=-3.0, away_point_diff=3.0, home_spread=-3.0, home_last_3=-27.0, away_last_3=17.0, home_last_1=-7.0, away_last_1=17.0, home_team_covered=False, predicted_diff=0.9326075418056552)\nPandas(Index=8608, schedule_date='9/21/2014', schedule_season=2014, schedule_week='3', schedule_playoff=False, team_home='ARI', score_home=23.0, score_away=14.0, team_away='SF', team_favorite_id='SF', spread_favorite=-3.0, over_under_line=41.0, stadium_neutral=False, intra_division=True, home_point_diff=9.0, away_point_diff=-9.0, home_spread=3.0, home_last_3=9.0, away_last_3=-3.0, home_last_1=11.0, away_last_1=-8.0, home_team_covered=True, predicted_diff=-0.29849756811449324)\nPandas(Index=8612, schedule_date='9/21/2014', schedule_season=2014, schedule_week='3', schedule_playoff=False, team_home='CLE', score_home=21.0, score_away=23.0, team_away='BAL', team_favorite_id='BAL', spread_favorite=-2.0, over_under_line=43.0, stadium_neutral=False, intra_division=True, home_point_diff=-2.0, away_point_diff=2.0, home_spread=2.0, home_last_3=-14.0, away_last_3=-4.0, home_last_1=2.0, away_last_1=20.0, home_team_covered=False, predicted_diff=0.42586207841117385)\nPandas(Index=8614, schedule_date='9/21/2014', schedule_season=2014, schedule_week='3', schedule_playoff=False, team_home='JAX', score_home=17.0, score_away=44.0, team_away='IND', team_favorite_id='IND', spread_favorite=-6.0, over_under_line=45.0, stadium_neutral=False, intra_division=True, home_point_diff=-27.0, away_point_diff=27.0, home_spread=6.0, home_last_3=-68.0, away_last_3=-31.0, home_last_1=-31.0, away_last_1=-3.0, home_team_covered=False, predicted_diff=-8.307043410102938)\nPandas(Index=8616, schedule_date='9/21/2014', schedule_season=2014, schedule_week='3', schedule_playoff=False, team_home='NE', score_home=16.0, score_away=9.0, team_away='LVR', team_favorite_id='NE', spread_favorite=-14.0, over_under_line=47.0, stadium_neutral=False, intra_division=False, home_point_diff=7.0, away_point_diff=-7.0, home_spread=-14.0, home_last_3=0.0, away_last_3=-41.0, home_last_1=23.0, away_last_1=-16.0, home_team_covered=False, predicted_diff=11.887540608940993)\nPandas(Index=8625, schedule_date='9/28/2014', schedule_season=2014, schedule_week='4', schedule_playoff=False, team_home='CHI', score_home=17.0, score_away=38.0, team_away='GB', team_favorite_id='GB', spread_favorite=-2.0, over_under_line=51.0, stadium_neutral=False, intra_division=True, home_point_diff=-21.0, away_point_diff=21.0, home_spread=2.0, home_last_3=13.0, away_last_3=-25.0, home_last_1=8.0, away_last_1=-12.0, home_team_covered=False, predicted_diff=0.8574865009553028)\nPandas(Index=8626, schedule_date='9/28/2014', schedule_season=2014, schedule_week='4', schedule_playoff=False, team_home='DAL', score_home=38.0, score_away=17.0, team_away='NO', team_favorite_id='NO', spread_favorite=-3.0, over_under_line=54.0, stadium_neutral=False, intra_division=False, home_point_diff=21.0, away_point_diff=-21.0, home_spread=3.0, home_last_3=8.0, away_last_3=6.0, home_last_1=3.0, away_last_1=11.0, home_team_covered=True, predicted_diff=-0.13858341384360268)\nPandas(Index=8635, schedule_date='9/29/2014', schedule_season=2014, schedule_week='4', schedule_playoff=False, team_home='KC', score_home=41.0, score_away=14.0, team_away='NE', team_favorite_id='NE', spread_favorite=-3.0, over_under_line=45.5, stadium_neutral=False, intra_division=False, home_point_diff=27.0, away_point_diff=-27.0, home_spread=3.0, home_last_3=-4.0, away_last_3=17.0, home_last_1=19.0, away_last_1=7.0, home_team_covered=True, predicted_diff=-0.13858341384360268)\nPandas(Index=8642, schedule_date='10/5/2014', schedule_season=2014, schedule_week='5', schedule_playoff=False, team_home='JAX', score_home=9.0, score_away=17.0, team_away='PIT', team_favorite_id='PIT', spread_favorite=-6.0, over_under_line=47.5, stadium_neutral=False, intra_division=False, home_point_diff=-8.0, away_point_diff=8.0, home_spread=6.0, home_last_3=-77.0, away_last_3=-5.0, home_last_1=-19.0, away_last_1=-3.0, home_team_covered=False, predicted_diff=-8.147129255832047)\nPandas(Index=8643, schedule_date='10/5/2014', schedule_season=2014, schedule_week='5', schedule_playoff=False, team_home='NE', score_home=43.0, score_away=17.0, team_away='CIN', team_favorite_id='CIN', spread_favorite=-2.5, over_under_line=46.5, stadium_neutral=False, intra_division=False, home_point_diff=26.0, away_point_diff=-26.0, home_spread=2.5, home_last_3=3.0, away_last_3=47.0, home_last_1=-27.0, away_last_1=26.0, home_team_covered=True, predicted_diff=-0.13858341384360268)\nPandas(Index=8657, schedule_date='10/12/2014', schedule_season=2014, schedule_week='6', schedule_playoff=False, team_home='MIA', score_home=24.0, score_away=27.0, team_away='GB', team_favorite_id='GB', spread_favorite=-1.5, over_under_line=47.0, stadium_neutral=False, intra_division=False, home_point_diff=-3.0, away_point_diff=3.0, home_spread=1.5, home_last_3=-14.0, away_last_3=41.0, home_last_1=24.0, away_last_1=32.0, home_team_covered=False, predicted_diff=0.5857762326820644)\nPandas(Index=8679, schedule_date='10/19/2014', schedule_season=2014, schedule_week='7', schedule_playoff=False, team_home='WAS', score_home=19.0, score_away=17.0, team_away='TEN', team_favorite_id='WAS', spread_favorite=-6.0, over_under_line=46.5, stadium_neutral=False, intra_division=False, home_point_diff=2.0, away_point_diff=-2.0, home_spread=-6.0, home_last_3=-51.0, away_last_3=-23.0, home_last_1=-10.0, away_last_1=2.0, home_team_covered=False, predicted_diff=3.949502544485625)\nPandas(Index=8691, schedule_date='10/26/2014', schedule_season=2014, schedule_week='8', schedule_playoff=False, team_home='NYJ', score_home=23.0, score_away=43.0, team_away='BUF', team_favorite_id='NYJ', spread_favorite=-3.0, over_under_line=40.5, stadium_neutral=False, intra_division=True, home_point_diff=-20.0, away_point_diff=20.0, home_spread=-3.0, home_last_3=-47.0, away_last_3=-11.0, home_last_1=-2.0, away_last_1=1.0, home_team_covered=False, predicted_diff=0.7726933875347646)\nPandas(Index=8697, schedule_date='11/2/2014', schedule_season=2014, schedule_week='9', schedule_playoff=False, team_home='CIN', score_home=33.0, score_away=23.0, team_away='JAX', team_favorite_id='CIN', spread_favorite=-10.0, over_under_line=43.5, stadium_neutral=False, intra_division=False, home_point_diff=10.0, away_point_diff=-10.0, home_spread=-10.0, home_last_3=-24.0, away_last_3=2.0, home_last_1=3.0, away_last_1=-14.0, home_team_covered=False, predicted_diff=7.703431384781513)\nPandas(Index=8700, schedule_date='11/2/2014', schedule_season=2014, schedule_week='9', schedule_playoff=False, team_home='HOU', score_home=21.0, score_away=31.0, team_away='PHI', team_favorite_id='PHI', spread_favorite=-1.5, over_under_line=48.5, stadium_neutral=False, intra_division=False, home_point_diff=-10.0, away_point_diff=10.0, home_spread=1.5, home_last_3=2.0, away_last_3=29.0, home_last_1=14.0, away_last_1=-4.0, home_team_covered=False, predicted_diff=1.0174006552261934)\nPandas(Index=8704, schedule_date='11/2/2014', schedule_season=2014, schedule_week='9', schedule_playoff=False, team_home='NE', score_home=43.0, score_away=21.0, team_away='DEN', team_favorite_id='DEN', spread_favorite=-3.0, over_under_line=53.0, stadium_neutral=False, intra_division=False, home_point_diff=22.0, away_point_diff=-22.0, home_spread=3.0, home_last_3=45.0, away_last_3=53.0, home_last_1=28.0, away_last_1=14.0, home_team_covered=True, predicted_diff=-0.13858341384360268)\nPandas(Index=8718, schedule_date='11/9/2014', schedule_season=2014, schedule_week='10', schedule_playoff=False, team_home='LVR', score_home=17.0, score_away=41.0, team_away='DEN', team_favorite_id='DEN', spread_favorite=-13.0, over_under_line=51.0, stadium_neutral=False, intra_division=True, home_point_diff=-24.0, away_point_diff=24.0, home_spread=13.0, home_last_3=-27.0, away_last_3=17.0, home_last_1=-6.0, away_last_1=-22.0, home_team_covered=False, predicted_diff=-10.910252244308538)\nPandas(Index=8723, schedule_date='11/16/2014', schedule_season=2014, schedule_week='11', schedule_playoff=False, team_home='ARI', score_home=14.0, score_away=6.0, team_away='DET', team_favorite_id='DET', spread_favorite=-1.0, over_under_line=41.5, stadium_neutral=False, intra_division=False, home_point_diff=8.0, away_point_diff=-8.0, home_spread=1.0, home_last_3=32.0, away_last_3=6.0, home_last_1=17.0, away_last_1=4.0, home_team_covered=True, predicted_diff=1.0174006552261934)\nPandas(Index=8729, schedule_date='11/16/2014', schedule_season=2014, schedule_week='11', schedule_playoff=False, team_home='KC', score_home=24.0, score_away=20.0, team_away='SEA', team_favorite_id='SEA', spread_favorite=-1.0, over_under_line=43.5, stadium_neutral=False, intra_division=False, home_point_diff=4.0, away_point_diff=-4.0, home_spread=1.0, home_last_3=45.0, away_last_3=31.0, home_last_1=4.0, away_last_1=21.0, home_team_covered=True, predicted_diff=1.0174006552261934)\nPandas(Index=8754, schedule_date='11/30/2014', schedule_season=2014, schedule_week='13', schedule_playoff=False, team_home='ATL', score_home=29.0, score_away=18.0, team_away='ARI', team_favorite_id='ARI', spread_favorite=-1.5, over_under_line=45.0, stadium_neutral=False, intra_division=False, home_point_diff=11.0, away_point_diff=-11.0, home_spread=1.5, home_last_3=10.0, away_last_3=9.0, home_last_1=-2.0, away_last_1=-16.0, home_team_covered=True, predicted_diff=1.0174006552261934)\nPandas(Index=8777, schedule_date='12/7/2014', schedule_season=2014, schedule_week='14', schedule_playoff=False, team_home='LVR', score_home=24.0, score_away=13.0, team_away='SF', team_favorite_id='SF', spread_favorite=-8.0, over_under_line=40.5, stadium_neutral=False, intra_division=False, home_point_diff=11.0, away_point_diff=-11.0, home_spread=8.0, home_last_3=-55.0, away_last_3=-6.0, home_last_1=-52.0, away_last_1=-16.0, home_team_covered=True, predicted_diff=-1.0651637158904004)\nPandas(Index=8778, schedule_date='12/7/2014', schedule_season=2014, schedule_week='14', schedule_playoff=False, team_home='PHI', score_home=14.0, score_away=24.0, team_away='SEA', team_favorite_id='SEA', spread_favorite=-1.5, over_under_line=48.0, stadium_neutral=False, intra_division=False, home_point_diff=-10.0, away_point_diff=10.0, home_spread=1.5, home_last_3=9.0, away_last_3=28.0, home_last_1=23.0, away_last_1=16.0, home_team_covered=False, predicted_diff=1.0174006552261934)\nPandas(Index=8784, schedule_date='12/14/2014', schedule_season=2014, schedule_week='15', schedule_playoff=False, team_home='ATL', score_home=20.0, score_away=27.0, team_away='PIT', team_favorite_id='PIT', spread_favorite=-3.0, over_under_line=55.5, stadium_neutral=False, intra_division=False, home_point_diff=-7.0, away_point_diff=7.0, home_spread=3.0, home_last_3=3.0, away_last_3=21.0, home_last_1=-6.0, away_last_1=21.0, home_team_covered=False, predicted_diff=-0.13858341384360268)\nPandas(Index=8785, schedule_date='12/14/2014', schedule_season=2014, schedule_week='15', schedule_playoff=False, team_home='BAL', score_home=20.0, score_away=12.0, team_away='JAX', team_favorite_id='BAL', spread_favorite=-14.0, over_under_line=44.5, stadium_neutral=False, intra_division=False, home_point_diff=8.0, away_point_diff=-8.0, home_spread=-14.0, home_last_3=21.0, away_last_3=-33.0, home_last_1=15.0, away_last_1=-14.0, home_team_covered=False, predicted_diff=11.887540608940993)\nPandas(Index=8798, schedule_date='12/15/2014', schedule_season=2014, schedule_week='15', schedule_playoff=False, team_home='CHI', score_home=15.0, score_away=31.0, team_away='NO', team_favorite_id='NO', spread_favorite=-3.0, over_under_line=53.5, stadium_neutral=False, intra_division=False, home_point_diff=-16.0, away_point_diff=16.0, home_spread=3.0, home_last_3=-22.0, away_last_3=-35.0, home_last_1=-13.0, away_last_1=-31.0, home_team_covered=False, predicted_diff=-0.570207836387731)\nPandas(Index=8809, schedule_date='12/21/2014', schedule_season=2014, schedule_week='16', schedule_playoff=False, team_home='NYJ', score_home=16.0, score_away=17.0, team_away='NE', team_favorite_id='NE', spread_favorite=-10.0, over_under_line=47.0, stadium_neutral=False, intra_division=True, home_point_diff=-1.0, away_point_diff=1.0, home_spread=10.0, home_last_3=-4.0, away_last_3=32.0, home_last_1=5.0, away_last_1=28.0, home_team_covered=True, predicted_diff=-7.600113922504018)\nPandas(Index=8813, schedule_date='12/21/2014', schedule_season=2014, schedule_week='16', schedule_playoff=False, team_home='TB', score_home=3.0, score_away=20.0, team_away='GB', team_favorite_id='GB', spread_favorite=-11.5, over_under_line=49.0, stadium_neutral=False, intra_division=False, home_point_diff=-17.0, away_point_diff=17.0, home_spread=11.5, home_last_3=-20.0, away_last_3=3.0, home_last_1=-2.0, away_last_1=-8.0, home_team_covered=False, predicted_diff=-7.8718241907772555)\nPandas(Index=8816, schedule_date='12/28/2014', schedule_season=2014, schedule_week='17', schedule_playoff=False, team_home='BAL', score_home=20.0, score_away=10.0, team_away='CLE', team_favorite_id='BAL', spread_favorite=-14.0, over_under_line=40.0, stadium_neutral=False, intra_division=True, home_point_diff=10.0, away_point_diff=-10.0, home_spread=-14.0, home_last_3=11.0, away_last_3=-35.0, home_last_1=-12.0, away_last_1=-4.0, home_team_covered=False, predicted_diff=11.727626454670103)\nPandas(Index=8817, schedule_date='12/28/2014', schedule_season=2014, schedule_week='17', schedule_playoff=False, team_home='DEN', score_home=47.0, score_away=14.0, team_away='LVR', team_favorite_id='DEN', spread_favorite=-16.5, over_under_line=48.5, stadium_neutral=False, intra_division=True, home_point_diff=33.0, away_point_diff=-33.0, home_spread=-16.5, home_last_3=10.0, away_last_3=-5.0, home_last_1=-9.0, away_last_1=2.0, home_team_covered=True, predicted_diff=11.727626454670103)\nPandas(Index=8826, schedule_date='12/28/2014', schedule_season=2014, schedule_week='17', schedule_playoff=False, team_home='SF', score_home=20.0, score_away=17.0, team_away='ARI', team_favorite_id='SF', spread_favorite=-6.0, over_under_line=37.5, stadium_neutral=False, intra_division=True, home_point_diff=3.0, away_point_diff=-3.0, home_spread=-6.0, home_last_3=-24.0, away_last_3=-20.0, home_last_1=-3.0, away_last_1=-29.0, home_team_covered=False, predicted_diff=3.789588390214734)\nPandas(Index=8828, schedule_date='12/28/2014', schedule_season=2014, schedule_week='17', schedule_playoff=False, team_home='TB', score_home=20.0, score_away=23.0, team_away='NO', team_favorite_id='NO', spread_favorite=-6.0, over_under_line=46.5, stadium_neutral=False, intra_division=True, home_point_diff=-3.0, away_point_diff=3.0, home_spread=6.0, home_last_3=-36.0, away_last_3=-31.0, home_last_1=-17.0, away_last_1=-16.0, home_team_covered=True, predicted_diff=-8.307043410102938)\nPandas(Index=8830, schedule_date='12/28/2014', schedule_season=2014, schedule_week='17', schedule_playoff=False, team_home='WAS', score_home=17.0, score_away=44.0, team_away='DAL', team_favorite_id='DAL', spread_favorite=-6.0, over_under_line=47.5, stadium_neutral=False, intra_division=True, home_point_diff=-27.0, away_point_diff=27.0, home_spread=6.0, home_last_3=-32.0, away_last_3=59.0, home_last_1=3.0, away_last_1=35.0, home_team_covered=False, predicted_diff=-8.307043410102938)\nPandas(Index=8844, schedule_date='9/13/2015', schedule_season=2015, schedule_week='1', schedule_playoff=False, team_home='BUF', score_home=27.0, score_away=14.0, team_away='IND', team_favorite_id='IND', spread_favorite=-1.0, over_under_line=44.5, stadium_neutral=False, intra_division=False, home_point_diff=13.0, away_point_diff=-13.0, home_spread=1.0, home_last_3=14.0, away_last_3=-11.0, home_last_1=8.0, away_last_1=-38.0, home_team_covered=True, predicted_diff=1.0174006552261934)\nPandas(Index=8848, schedule_date='9/13/2015', schedule_season=2015, schedule_week='1', schedule_playoff=False, team_home='HOU', score_home=20.0, score_away=27.0, team_away='KC', team_favorite_id='KC', spread_favorite=-1.0, over_under_line=40.5, stadium_neutral=False, intra_division=False, home_point_diff=-7.0, away_point_diff=7.0, home_spread=1.0, home_last_3=11.0, away_last_3=22.0, home_last_1=6.0, away_last_1=12.0, home_team_covered=False, predicted_diff=1.0174006552261934)\nPandas(Index=8849, schedule_date='9/13/2015', schedule_season=2015, schedule_week='1', schedule_playoff=False, team_home='JAX', score_home=9.0, score_away=20.0, team_away='CAR', team_favorite_id='CAR', spread_favorite=-3.0, over_under_line=41.0, stadium_neutral=False, intra_division=False, home_point_diff=-11.0, away_point_diff=11.0, home_spread=3.0, home_last_3=-6.0, away_last_3=28.0, home_last_1=-6.0, away_last_1=-14.0, home_team_covered=False, predicted_diff=-0.13858341384360268)\nPandas(Index=8851, schedule_date='9/13/2015', schedule_season=2015, schedule_week='1', schedule_playoff=False, team_home='LVR', score_home=13.0, score_away=33.0, team_away='CIN', team_favorite_id='LVR', spread_favorite=-3.0, over_under_line=43.0, stadium_neutral=False, intra_division=False, home_point_diff=-20.0, away_point_diff=20.0, home_spread=-3.0, home_last_3=-49.0, away_last_3=-17.0, home_last_1=-33.0, away_last_1=-16.0, home_team_covered=False, predicted_diff=0.9326075418056552)\nPandas(Index=8856, schedule_date='9/14/2015', schedule_season=2015, schedule_week='1', schedule_playoff=False, team_home='ATL', score_home=26.0, score_away=24.0, team_away='PHI', team_favorite_id='PHI', spread_favorite=-3.0, over_under_line=56.0, stadium_neutral=False, intra_division=False, home_point_diff=2.0, away_point_diff=-2.0, home_spread=3.0, home_last_3=-22.0, away_last_3=-6.0, home_last_1=-31.0, away_last_1=8.0, home_team_covered=True, predicted_diff=-0.570207836387731)\nPandas(Index=8861, schedule_date='9/20/2015', schedule_season=2015, schedule_week='2', schedule_playoff=False, team_home='CHI', score_home=23.0, score_away=48.0, team_away='ARI', team_favorite_id='ARI', spread_favorite=-2.0, over_under_line=46.0, stadium_neutral=False, intra_division=False, home_point_diff=-25.0, away_point_diff=25.0, home_spread=2.0, home_last_3=-18.0, away_last_3=-2.0, home_last_1=-8.0, away_last_1=12.0, home_team_covered=False, predicted_diff=0.5857762326820644)\nPandas(Index=8869, schedule_date='9/20/2015', schedule_season=2015, schedule_week='2', schedule_playoff=False, team_home='LVR', score_home=37.0, score_away=33.0, team_away='BAL', team_favorite_id='BAL', spread_favorite=-6.0, over_under_line=42.0, stadium_neutral=False, intra_division=False, home_point_diff=4.0, away_point_diff=-4.0, home_spread=6.0, home_last_3=-51.0, away_last_3=3.0, home_last_1=-20.0, away_last_1=-6.0, home_team_covered=True, predicted_diff=-8.147129255832047)\nPandas(Index=8873, schedule_date='9/21/2015', schedule_season=2015, schedule_week='2', schedule_playoff=False, team_home='IND', score_home=7.0, score_away=20.0, team_away='NYJ', team_favorite_id='IND', spread_favorite=-6.0, over_under_line=46.0, stadium_neutral=False, intra_division=False, home_point_diff=-13.0, away_point_diff=13.0, home_spread=-6.0, home_last_3=-40.0, away_last_3=33.0, home_last_1=-13.0, away_last_1=21.0, home_team_covered=False, predicted_diff=3.949502544485625)\nPandas(Index=8880, schedule_date='9/27/2015', schedule_season=2015, schedule_week='3', schedule_playoff=False, team_home='DET', score_home=12.0, score_away=24.0, team_away='DEN', team_favorite_id='DEN', spread_favorite=-3.0, over_under_line=45.0, stadium_neutral=False, intra_division=False, home_point_diff=-12.0, away_point_diff=12.0, home_spread=3.0, home_last_3=-19.0, away_last_3=2.0, home_last_1=-10.0, away_last_1=7.0, home_team_covered=False, predicted_diff=-0.570207836387731)\nPandas(Index=8884, schedule_date='9/27/2015', schedule_season=2015, schedule_week='3', schedule_playoff=False, team_home='NE', score_home=51.0, score_away=17.0, team_away='JAX', team_favorite_id='NE', spread_favorite=-14.0, over_under_line=49.0, stadium_neutral=False, intra_division=False, home_point_diff=34.0, away_point_diff=-34.0, home_spread=-14.0, home_last_3=19.0, away_last_3=-14.0, home_last_1=8.0, away_last_1=3.0, home_team_covered=True, predicted_diff=11.887540608940993)\nPandas(Index=8886, schedule_date='9/27/2015', schedule_season=2015, schedule_week='3', schedule_playoff=False, team_home='SEA', score_home=26.0, score_away=0.0, team_away='CHI', team_favorite_id='SEA', spread_favorite=-16.5, over_under_line=43.5, stadium_neutral=False, intra_division=False, home_point_diff=26.0, away_point_diff=-26.0, home_spread=-16.5, home_last_3=-17.0, away_last_3=-37.0, home_last_1=-10.0, away_last_1=-25.0, home_team_covered=True, predicted_diff=11.455916186396864)\nPandas(Index=8890, schedule_date='10/1/2015', schedule_season=2015, schedule_week='4', schedule_playoff=False, team_home='PIT', score_home=20.0, score_away=23.0, team_away='BAL', team_favorite_id='BAL', spread_favorite=-3.0, over_under_line=44.0, stadium_neutral=False, intra_division=True, home_point_diff=-3.0, away_point_diff=3.0, home_spread=3.0, home_last_3=24.0, away_last_3=-14.0, home_last_1=6.0, away_last_1=-4.0, home_team_covered=False, predicted_diff=-0.29849756811449324)\nPandas(Index=8899, schedule_date='10/4/2015', schedule_season=2015, schedule_week='4', schedule_playoff=False, team_home='NO', score_home=26.0, score_away=20.0, team_away='DAL', team_favorite_id='NO', spread_favorite=-3.0, over_under_line=48.5, stadium_neutral=False, intra_division=False, home_point_diff=6.0, away_point_diff=-6.0, home_spread=-3.0, home_last_3=-24.0, away_last_3=0.0, home_last_1=-5.0, away_last_1=-11.0, home_team_covered=True, predicted_diff=0.9326075418056552)\nPandas(Index=8903, schedule_date='10/4/2015', schedule_season=2015, schedule_week='4', schedule_playoff=False, team_home='WAS', score_home=23.0, score_away=20.0, team_away='PHI', team_favorite_id='PHI', spread_favorite=-3.0, over_under_line=45.5, stadium_neutral=False, intra_division=True, home_point_diff=3.0, away_point_diff=-3.0, home_spread=3.0, home_last_3=-4.0, away_last_3=-5.0, home_last_1=-11.0, away_last_1=7.0, home_team_covered=True, predicted_diff=-0.29849756811449324)\nPandas(Index=8917, schedule_date='10/11/2015', schedule_season=2015, schedule_week='5', schedule_playoff=False, team_home='TEN', score_home=13.0, score_away=14.0, team_away='BUF', team_favorite_id='BUF', spread_favorite=-1.0, over_under_line=43.0, stadium_neutral=False, intra_division=False, home_point_diff=-1.0, away_point_diff=1.0, home_spread=1.0, home_last_3=12.0, away_last_3=5.0, home_last_1=-2.0, away_last_1=-14.0, home_team_covered=False, predicted_diff=1.0174006552261934)\nPandas(Index=8919, schedule_date='10/15/2015', schedule_season=2015, schedule_week='6', schedule_playoff=False, team_home='NO', score_home=31.0, score_away=21.0, team_away='ATL', team_favorite_id='ATL', spread_favorite=-3.0, over_under_line=52.5, stadium_neutral=False, intra_division=True, home_point_diff=10.0, away_point_diff=-10.0, home_spread=3.0, home_last_3=-21.0, away_last_3=44.0, home_last_1=-22.0, away_last_1=6.0, home_team_covered=True, predicted_diff=-0.7301219906586216)\nPandas(Index=8920, schedule_date='10/18/2015', schedule_season=2015, schedule_week='6', schedule_playoff=False, team_home='BUF', score_home=21.0, score_away=34.0, team_away='CIN', team_favorite_id='CIN', spread_favorite=-3.0, over_under_line=42.0, stadium_neutral=False, intra_division=False, home_point_diff=-13.0, away_point_diff=13.0, home_spread=3.0, home_last_3=14.0, away_last_3=22.0, home_last_1=1.0, away_last_1=3.0, home_team_covered=False, predicted_diff=-0.13858341384360268)\nPandas(Index=8925, schedule_date='10/18/2015', schedule_season=2015, schedule_week='6', schedule_playoff=False, team_home='JAX', score_home=20.0, score_away=31.0, team_away='HOU', team_favorite_id='JAX', spread_favorite=-3.0, over_under_line=43.0, stadium_neutral=False, intra_division=True, home_point_diff=-11.0, away_point_diff=11.0, home_spread=-3.0, home_last_3=-44.0, away_last_3=-24.0, home_last_1=-7.0, away_last_1=-7.0, home_team_covered=False, predicted_diff=0.7726933875347646)\nPandas(Index=8944, schedule_date='10/25/2015', schedule_season=2015, schedule_week='7', schedule_playoff=False, team_home='TEN', score_home=7.0, score_away=10.0, team_away='ATL', team_favorite_id='ATL', spread_favorite=-6.0, over_under_line=45.5, stadium_neutral=False, intra_division=False, home_point_diff=-3.0, away_point_diff=3.0, home_spread=6.0, home_last_3=-31.0, away_last_3=23.0, home_last_1=-28.0, away_last_1=-10.0, home_team_covered=True, predicted_diff=-8.147129255832047)\nPandas(Index=8950, schedule_date='11/1/2015', schedule_season=2015, schedule_week='8', schedule_playoff=False, team_home='CHI', score_home=20.0, score_away=23.0, team_away='MIN', team_favorite_id='MIN', spread_favorite=-1.5, over_under_line=44.0, stadium_neutral=False, intra_division=True, home_point_diff=-3.0, away_point_diff=3.0, home_spread=1.5, home_last_3=0.0, away_last_3=12.0, home_last_1=-3.0, away_last_1=9.0, home_team_covered=False, predicted_diff=0.8574865009553028)\nPandas(Index=8953, schedule_date='11/1/2015', schedule_season=2015, schedule_week='8', schedule_playoff=False, team_home='DEN', score_home=29.0, score_away=10.0, team_away='GB', team_favorite_id='GB', spread_favorite=-2.5, over_under_line=45.5, stadium_neutral=False, intra_division=False, home_point_diff=19.0, away_point_diff=-19.0, home_spread=2.5, home_last_3=12.0, away_last_3=35.0, home_last_1=3.0, away_last_1=7.0, home_team_covered=True, predicted_diff=-0.13858341384360268)\nPandas(Index=8955, schedule_date='11/1/2015', schedule_season=2015, schedule_week='8', schedule_playoff=False, team_home='KC', score_home=45.0, score_away=10.0, team_away='DET', team_favorite_id='DET', spread_favorite=-3.0, over_under_line=45.0, stadium_neutral=True, intra_division=False, home_point_diff=35.0, away_point_diff=-35.0, home_spread=3.0, home_last_3=3.0, away_last_3=-31.0, home_last_1=10.0, away_last_1=-9.0, home_team_covered=True, predicted_diff=-0.13858341384360268)\nPandas(Index=8957, schedule_date='11/1/2015', schedule_season=2015, schedule_week='8', schedule_playoff=False, team_home='LVR', score_home=34.0, score_away=20.0, team_away='NYJ', team_favorite_id='NYJ', spread_favorite=-3.0, over_under_line=44.0, stadium_neutral=False, intra_division=False, home_point_diff=14.0, away_point_diff=-14.0, home_spread=3.0, home_last_3=0.0, away_last_3=20.0, home_last_1=8.0, away_last_1=-7.0, home_team_covered=True, predicted_diff=-0.13858341384360268)\nPandas(Index=8963, schedule_date='11/8/2015', schedule_season=2015, schedule_week='9', schedule_playoff=False, team_home='CAR', score_home=37.0, score_away=29.0, team_away='GB', team_favorite_id='GB', spread_favorite=-2.5, over_under_line=46.0, stadium_neutral=False, intra_division=False, home_point_diff=8.0, away_point_diff=-8.0, home_spread=2.5, home_last_3=18.0, away_last_3=2.0, home_last_1=3.0, away_last_1=-19.0, home_team_covered=True, predicted_diff=-0.13858341384360268)\nPandas(Index=8972, schedule_date='11/8/2015', schedule_season=2015, schedule_week='9', schedule_playoff=False, team_home='TB', score_home=18.0, score_away=32.0, team_away='NYG', team_favorite_id='NYG', spread_favorite=-2.0, over_under_line=49.0, stadium_neutral=False, intra_division=False, home_point_diff=-14.0, away_point_diff=14.0, home_spread=2.0, home_last_3=9.0, away_last_3=-16.0, home_last_1=3.0, away_last_1=-3.0, home_team_covered=False, predicted_diff=1.0174006552261934)\nPandas(Index=8993, schedule_date='11/22/2015', schedule_season=2015, schedule_week='11', schedule_playoff=False, team_home='CHI', score_home=15.0, score_away=17.0, team_away='DEN', team_favorite_id='DEN', spread_favorite=-2.0, over_under_line=41.5, stadium_neutral=False, intra_division=False, home_point_diff=-2.0, away_point_diff=2.0, home_spread=2.0, home_last_3=24.0, away_last_3=0.0, home_last_1=24.0, away_last_1=-16.0, home_team_covered=False, predicted_diff=1.0174006552261934)\nPandas(Index=8999, schedule_date='11/22/2015', schedule_season=2015, schedule_week='11', schedule_playoff=False, team_home='LAC', score_home=3.0, score_away=33.0, team_away='KC', team_favorite_id='KC', spread_favorite=-3.0, over_under_line=45.5, stadium_neutral=False, intra_division=True, home_point_diff=-30.0, away_point_diff=30.0, home_spread=3.0, home_last_3=-14.0, away_last_3=61.0, home_last_1=-3.0, away_last_1=16.0, home_team_covered=False, predicted_diff=-0.7301219906586216)\nPandas(Index=9000, schedule_date='11/22/2015', schedule_season=2015, schedule_week='11', schedule_playoff=False, team_home='SEA', score_home=29.0, score_away=13.0, team_away='SF', team_favorite_id='SEA', spread_favorite=-14.0, over_under_line=40.0, stadium_neutral=False, intra_division=True, home_point_diff=16.0, away_point_diff=-16.0, home_spread=-14.0, home_last_3=11.0, away_last_3=-37.0, home_last_1=-7.0, away_last_1=1.0, home_team_covered=True, predicted_diff=11.727626454670103)\nPandas(Index=9002, schedule_date='11/26/2015', schedule_season=2015, schedule_week='12', schedule_playoff=False, team_home='DAL', score_home=14.0, score_away=33.0, team_away='CAR', team_favorite_id='CAR', spread_favorite=-1.0, over_under_line=44.5, stadium_neutral=False, intra_division=False, home_point_diff=-19.0, away_point_diff=19.0, home_spread=1.0, home_last_3=0.0, away_last_3=53.0, home_last_1=10.0, away_last_1=28.0, home_team_covered=False, predicted_diff=1.0174006552261934)\nPandas(Index=9003, schedule_date='11/26/2015', schedule_season=2015, schedule_week='12', schedule_playoff=False, team_home='DET', score_home=45.0, score_away=14.0, team_away='PHI', team_favorite_id='DET', spread_favorite=-3.0, over_under_line=47.0, stadium_neutral=False, intra_division=False, home_point_diff=31.0, away_point_diff=-31.0, home_spread=-3.0, home_last_3=-28.0, away_last_3=-23.0, home_last_1=5.0, away_last_1=-28.0, home_team_covered=True, predicted_diff=0.9326075418056552)\nPandas(Index=9017, schedule_date='11/30/2015', schedule_season=2015, schedule_week='12', schedule_playoff=False, team_home='CLE', score_home=27.0, score_away=33.0, team_away='BAL', team_favorite_id='CLE', spread_favorite=-6.0, over_under_line=41.0, stadium_neutral=False, intra_division=True, home_point_diff=-6.0, away_point_diff=6.0, home_spread=-6.0, home_last_3=-56.0, away_last_3=4.0, home_last_1=-21.0, away_last_1=3.0, home_team_covered=False, predicted_diff=3.789588390214734)\nPandas(Index=9018, schedule_date='12/3/2015', schedule_season=2015, schedule_week='13', schedule_playoff=False, team_home='DET', score_home=23.0, score_away=27.0, team_away='GB', team_favorite_id='GB', spread_favorite=-2.5, over_under_line=46.5, stadium_neutral=False, intra_division=True, home_point_diff=-4.0, away_point_diff=4.0, home_spread=2.5, home_last_3=38.0, away_last_3=11.0, home_last_1=31.0, away_last_1=-4.0, home_team_covered=False, predicted_diff=-0.29849756811449324)\nPandas(Index=9023, schedule_date='12/6/2015', schedule_season=2015, schedule_week='13', schedule_playoff=False, team_home='MIN', score_home=7.0, score_away=38.0, team_away='SEA', team_favorite_id='SEA', spread_favorite=-2.5, over_under_line=43.0, stadium_neutral=False, intra_division=False, home_point_diff=-31.0, away_point_diff=31.0, home_spread=2.5, home_last_3=9.0, away_last_3=18.0, home_last_1=10.0, away_last_1=9.0, home_team_covered=False, predicted_diff=-0.13858341384360268)\nPandas(Index=9025, schedule_date='12/6/2015', schedule_season=2015, schedule_week='13', schedule_playoff=False, team_home='NO', score_home=38.0, score_away=41.0, team_away='CAR', team_favorite_id='CAR', spread_favorite=-6.0, over_under_line=50.5, stadium_neutral=False, intra_division=True, home_point_diff=-3.0, away_point_diff=3.0, home_spread=6.0, home_last_3=-57.0, away_last_3=64.0, home_last_1=-18.0, away_last_1=19.0, home_team_covered=True, predicted_diff=-8.307043410102938)\nPandas(Index=9026, schedule_date='12/6/2015', schedule_season=2015, schedule_week='13', schedule_playoff=False, team_home='NYG', score_home=20.0, score_away=23.0, team_away='NYJ', team_favorite_id='NYJ', spread_favorite=-2.5, over_under_line=46.0, stadium_neutral=False, intra_division=False, home_point_diff=-3.0, away_point_diff=3.0, home_spread=2.5, home_last_3=7.0, away_last_3=6.0, home_last_1=-6.0, away_last_1=18.0, home_team_covered=False, predicted_diff=-0.13858341384360268)\nPandas(Index=9027, schedule_date='12/6/2015', schedule_season=2015, schedule_week='13', schedule_playoff=False, team_home='LVR', score_home=20.0, score_away=34.0, team_away='KC', team_favorite_id='KC', spread_favorite=-3.0, over_under_line=45.5, stadium_neutral=False, intra_division=True, home_point_diff=-14.0, away_point_diff=14.0, home_spread=3.0, home_last_3=-18.0, away_last_3=54.0, home_last_1=3.0, away_last_1=8.0, home_team_covered=False, predicted_diff=-0.7301219906586216)\nPandas(Index=9029, schedule_date='12/6/2015', schedule_season=2015, schedule_week='13', schedule_playoff=False, team_home='LAC', score_home=3.0, score_away=17.0, team_away='DEN', team_favorite_id='DEN', spread_favorite=-6.0, over_under_line=45.0, stadium_neutral=False, intra_division=True, home_point_diff=-14.0, away_point_diff=14.0, home_spread=6.0, home_last_3=-27.0, away_last_3=-8.0, home_last_1=6.0, away_last_1=6.0, home_team_covered=False, predicted_diff=-8.307043410102938)\nPandas(Index=9032, schedule_date='12/6/2015', schedule_season=2015, schedule_week='13', schedule_playoff=False, team_home='TEN', score_home=42.0, score_away=39.0, team_away='JAX', team_favorite_id='TEN', spread_favorite=-3.0, over_under_line=43.5, stadium_neutral=False, intra_division=True, home_point_diff=3.0, away_point_diff=-3.0, home_spread=-3.0, home_last_3=-26.0, away_last_3=2.0, home_last_1=-3.0, away_last_1=-6.0, home_team_covered=False, predicted_diff=0.7726933875347646)\nPandas(Index=9035, schedule_date='12/13/2015', schedule_season=2015, schedule_week='14', schedule_playoff=False, team_home='BAL', score_home=6.0, score_away=35.0, team_away='SEA', team_favorite_id='SEA', spread_favorite=-10.5, over_under_line=42.0, stadium_neutral=False, intra_division=False, home_point_diff=-29.0, away_point_diff=29.0, home_spread=10.5, home_last_3=7.0, away_last_3=56.0, home_last_1=-2.0, away_last_1=31.0, home_team_covered=False, predicted_diff=-7.440199768233128)\nPandas(Index=9056, schedule_date='12/20/2015', schedule_season=2015, schedule_week='15', schedule_playoff=False, team_home='NE', score_home=33.0, score_away=16.0, team_away='TEN', team_favorite_id='NE', spread_favorite=-14.5, over_under_line=48.0, stadium_neutral=False, intra_division=False, home_point_diff=17.0, away_point_diff=-17.0, home_spread=-14.5, home_last_3=8.0, away_last_3=-22.0, home_last_1=21.0, away_last_1=-22.0, home_team_covered=True, predicted_diff=11.887540608940993)\nPandas(Index=9063, schedule_date='12/20/2015', schedule_season=2015, schedule_week='15', schedule_playoff=False, team_home='SEA', score_home=30.0, score_away=13.0, team_away='CLE', team_favorite_id='SEA', spread_favorite=-14.5, over_under_line=45.5, stadium_neutral=False, intra_division=False, home_point_diff=17.0, away_point_diff=-17.0, home_spread=-14.5, home_last_3=69.0, away_last_3=-26.0, home_last_1=29.0, away_last_1=14.0, home_team_covered=True, predicted_diff=11.887540608940993)\nPandas(Index=9064, schedule_date='12/20/2015', schedule_season=2015, schedule_week='15', schedule_playoff=False, team_home='WAS', score_home=35.0, score_away=25.0, team_away='BUF', team_favorite_id='BUF', spread_favorite=-2.0, over_under_line=46.0, stadium_neutral=False, intra_division=False, home_point_diff=10.0, away_point_diff=-10.0, home_spread=2.0, home_last_3=6.0, away_last_3=-2.0, home_last_1=3.0, away_last_1=-3.0, home_team_covered=True, predicted_diff=1.0174006552261934)\nPandas(Index=9070, schedule_date='12/27/2015', schedule_season=2015, schedule_week='16', schedule_playoff=False, team_home='BAL', score_home=20.0, score_away=17.0, team_away='PIT', team_favorite_id='PIT', spread_favorite=-11.5, over_under_line=47.5, stadium_neutral=False, intra_division=True, home_point_diff=3.0, away_point_diff=-3.0, home_spread=11.5, home_last_3=-51.0, away_last_3=55.0, home_last_1=-20.0, away_last_1=7.0, home_team_covered=True, predicted_diff=-8.733973729949932)\nPandas(Index=9077, schedule_date='12/27/2015', schedule_season=2015, schedule_week='16', schedule_playoff=False, team_home='NYJ', score_home=26.0, score_away=20.0, team_away='NE', team_favorite_id='NE', spread_favorite=-2.5, over_under_line=45.5, stadium_neutral=False, intra_division=True, home_point_diff=6.0, away_point_diff=-6.0, home_spread=2.5, home_last_3=28.0, away_last_3=31.0, home_last_1=3.0, away_last_1=17.0, home_team_covered=True, predicted_diff=-0.29849756811449324)\nPandas(Index=9083, schedule_date='1/3/2016', schedule_season=2015, schedule_week='17', schedule_playoff=False, team_home='ATL', score_home=17.0, score_away=20.0, team_away='NO', team_favorite_id='ATL', spread_favorite=-6.0, over_under_line=53.5, stadium_neutral=False, intra_division=True, home_point_diff=-3.0, away_point_diff=3.0, home_spread=-6.0, home_last_3=-25.0, away_last_3=10.0, home_last_1=7.0, away_last_1=11.0, home_team_covered=False, predicted_diff=3.789588390214734)\nPandas(Index=9084, schedule_date='1/3/2016', schedule_season=2015, schedule_week='17', schedule_playoff=False, team_home='BUF', score_home=22.0, score_away=17.0, team_away='NYJ', team_favorite_id='NYJ', spread_favorite=-3.0, over_under_line=41.0, stadium_neutral=False, intra_division=True, home_point_diff=5.0, away_point_diff=-5.0, home_spread=3.0, home_last_3=-3.0, away_last_3=31.0, home_last_1=10.0, away_last_1=6.0, home_team_covered=True, predicted_diff=-0.29849756811449324)\nPandas(Index=9088, schedule_date='1/3/2016', schedule_season=2015, schedule_week='17', schedule_playoff=False, team_home='CLE', score_home=12.0, score_away=28.0, team_away='PIT', team_favorite_id='PIT', spread_favorite=-13.0, over_under_line=47.0, stadium_neutral=False, intra_division=True, home_point_diff=-16.0, away_point_diff=16.0, home_spread=13.0, home_last_3=-7.0, away_last_3=17.0, home_last_1=-4.0, away_last_1=-3.0, home_team_covered=False, predicted_diff=-10.20801685940675)\nPandas(Index=9089, schedule_date='1/3/2016', schedule_season=2015, schedule_week='17', schedule_playoff=False, team_home='DAL', score_home=23.0, score_away=34.0, team_away='WAS', team_favorite_id='DAL', spread_favorite=-3.0, over_under_line=41.0, stadium_neutral=False, intra_division=True, home_point_diff=-11.0, away_point_diff=11.0, home_spread=-3.0, home_last_3=-34.0, away_last_3=27.0, home_last_1=-10.0, away_last_1=14.0, home_team_covered=False, predicted_diff=0.7726933875347646)\nPandas(Index=9098, schedule_date='1/9/2016', schedule_season=2015, schedule_week='Wildcard', schedule_playoff=True, team_home='CIN', score_home=16.0, score_away=18.0, team_away='PIT', team_favorite_id='PIT', spread_favorite=-3.0, over_under_line=45.0, stadium_neutral=False, intra_division=True, home_point_diff=-2.0, away_point_diff=2.0, home_spread=3.0, home_last_3=15.0, away_last_3=20.0, home_last_1=8.0, away_last_1=16.0, home_team_covered=True, predicted_diff=-0.29849756811449324)\nPandas(Index=9099, schedule_date='1/9/2016', schedule_season=2015, schedule_week='Wildcard', schedule_playoff=True, team_home='HOU', score_home=0.0, score_away=30.0, team_away='KC', team_favorite_id='KC', spread_favorite=-3.0, over_under_line=40.0, stadium_neutral=False, intra_division=False, home_point_diff=-30.0, away_point_diff=30.0, home_spread=3.0, home_last_3=58.0, away_last_3=30.0, home_last_1=24.0, away_last_1=6.0, home_team_covered=False, predicted_diff=-0.13858341384360268)\nPandas(Index=9107, schedule_date='1/24/2016', schedule_season=2015, schedule_week='Conference', schedule_playoff=True, team_home='DEN', score_home=20.0, score_away=18.0, team_away='NE', team_favorite_id='NE', spread_favorite=-3.0, over_under_line=44.5, stadium_neutral=False, intra_division=False, home_point_diff=2.0, away_point_diff=-2.0, home_spread=3.0, home_last_3=17.0, away_last_3=-9.0, home_last_1=7.0, away_last_1=7.0, home_team_covered=True, predicted_diff=-0.13858341384360268)\nPandas(Index=9109, schedule_date='9/8/2016', schedule_season=2016, schedule_week='1', schedule_playoff=False, team_home='DEN', score_home=21.0, score_away=20.0, team_away='CAR', team_favorite_id='CAR', spread_favorite=-3.0, over_under_line=40.5, stadium_neutral=False, intra_division=False, home_point_diff=1.0, away_point_diff=-1.0, home_spread=3.0, home_last_3=23.0, away_last_3=27.0, home_last_1=14.0, away_last_1=-14.0, home_team_covered=True, predicted_diff=-0.13858341384360268)\nPandas(Index=9112, schedule_date='9/11/2016', schedule_season=2016, schedule_week='1', schedule_playoff=False, team_home='BAL', score_home=13.0, score_away=7.0, team_away='BUF', team_favorite_id='BAL', spread_favorite=-3.0, over_under_line=44.5, stadium_neutral=False, intra_division=False, home_point_diff=6.0, away_point_diff=-6.0, home_spread=-3.0, home_last_3=-25.0, away_last_3=5.0, home_last_1=-8.0, away_last_1=5.0, home_team_covered=True, predicted_diff=0.9326075418056552)\nPandas(Index=9119, schedule_date='9/11/2016', schedule_season=2016, schedule_week='1', schedule_playoff=False, team_home='NYJ', score_home=22.0, score_away=23.0, team_away='CIN', team_favorite_id='CIN', spread_favorite=-1.0, over_under_line=42.0, stadium_neutral=False, intra_division=False, home_point_diff=-1.0, away_point_diff=1.0, home_spread=1.0, home_last_3=4.0, away_last_3=3.0, home_last_1=-5.0, away_last_1=-2.0, home_team_covered=False, predicted_diff=1.0174006552261934)\nPandas(Index=9124, schedule_date='9/12/2016', schedule_season=2016, schedule_week='1', schedule_playoff=False, team_home='WAS', score_home=16.0, score_away=38.0, team_away='PIT', team_favorite_id='PIT', spread_favorite=-2.5, over_under_line=49.0, stadium_neutral=False, intra_division=False, home_point_diff=-22.0, away_point_diff=22.0, home_spread=2.5, home_last_3=8.0, away_last_3=11.0, home_last_1=-17.0, away_last_1=-7.0, home_team_covered=False, predicted_diff=-0.13858341384360268)\nPandas(Index=9133, schedule_date='9/18/2016', schedule_season=2016, schedule_week='2', schedule_playoff=False, team_home='MIN', score_home=17.0, score_away=14.0, team_away='GB', team_favorite_id='GB', spread_favorite=-2.0, over_under_line=43.0, stadium_neutral=False, intra_division=True, home_point_diff=3.0, away_point_diff=-3.0, home_spread=2.0, home_last_3=15.0, away_last_3=15.0, home_last_1=9.0, away_last_1=4.0, home_team_covered=True, predicted_diff=0.8574865009553028)\nPandas(Index=9139, schedule_date='9/18/2016', schedule_season=2016, schedule_week='2', schedule_playoff=False, team_home='WAS', score_home=23.0, score_away=27.0, team_away='DAL', team_favorite_id='WAS', spread_favorite=-3.0, over_under_line=47.0, stadium_neutral=False, intra_division=True, home_point_diff=-4.0, away_point_diff=4.0, home_spread=-3.0, home_last_3=-28.0, away_last_3=-22.0, home_last_1=-22.0, away_last_1=-1.0, home_team_covered=False, predicted_diff=0.7726933875347646)\nPandas(Index=9155, schedule_date='9/25/2016', schedule_season=2016, schedule_week='3', schedule_playoff=False, team_home='TEN', score_home=10.0, score_away=17.0, team_away='LVR', team_favorite_id='LVR', spread_favorite=-1.5, over_under_line=47.0, stadium_neutral=False, intra_division=False, home_point_diff=-7.0, away_point_diff=7.0, home_spread=1.5, home_last_3=-14.0, away_last_3=-12.0, home_last_1=1.0, away_last_1=-7.0, home_team_covered=False, predicted_diff=0.5857762326820644)\nPandas(Index=9159, schedule_date='10/2/2016', schedule_season=2016, schedule_week='4', schedule_playoff=False, team_home='ATL', score_home=48.0, score_away=33.0, team_away='CAR', team_favorite_id='CAR', spread_favorite=-3.0, over_under_line=48.5, stadium_neutral=False, intra_division=True, home_point_diff=15.0, away_point_diff=-15.0, home_spread=3.0, home_last_3=13.0, away_last_3=6.0, home_last_1=13.0, away_last_1=-12.0, home_team_covered=True, predicted_diff=-0.29849756811449324)\nPandas(Index=9174, schedule_date='10/9/2016', schedule_season=2016, schedule_week='5', schedule_playoff=False, team_home='CLE', score_home=13.0, score_away=33.0, team_away='NE', team_favorite_id='NE', spread_favorite=-10.0, over_under_line=47.5, stadium_neutral=False, intra_division=False, home_point_diff=-20.0, away_point_diff=20.0, home_spread=10.0, home_last_3=-22.0, away_last_3=18.0, home_last_1=-11.0, away_last_1=-16.0, home_team_covered=False, predicted_diff=-7.8718241907772555)\nPandas(Index=9175, schedule_date='10/9/2016', schedule_season=2016, schedule_week='5', schedule_playoff=False, team_home='DAL', score_home=28.0, score_away=14.0, team_away='CIN', team_favorite_id='CIN', spread_favorite=-2.5, over_under_line=46.0, stadium_neutral=False, intra_division=False, home_point_diff=14.0, away_point_diff=-14.0, home_spread=2.5, home_last_3=25.0, away_last_3=-5.0, home_last_1=7.0, away_last_1=15.0, home_team_covered=True, predicted_diff=-0.13858341384360268)\nPandas(Index=9180, schedule_date='10/9/2016', schedule_season=2016, schedule_week='5', schedule_playoff=False, team_home='LAR', score_home=19.0, score_away=30.0, team_away='BUF', team_favorite_id='BUF', spread_favorite=-2.5, over_under_line=41.5, stadium_neutral=False, intra_division=False, home_point_diff=-11.0, away_point_diff=11.0, home_spread=2.5, home_last_3=15.0, away_last_3=25.0, home_last_1=4.0, away_last_1=16.0, home_team_covered=False, predicted_diff=-0.13858341384360268)\nPandas(Index=9186, schedule_date='10/13/2016', schedule_season=2016, schedule_week='6', schedule_playoff=False, team_home='LAC', score_home=21.0, score_away=13.0, team_away='DEN', team_favorite_id='DEN', spread_favorite=-3.0, over_under_line=44.0, stadium_neutral=False, intra_division=True, home_point_diff=8.0, away_point_diff=-8.0, home_spread=3.0, home_last_3=-8.0, away_last_3=25.0, home_last_1=-3.0, away_last_1=-7.0, home_team_covered=True, predicted_diff=-0.7301219906586216)\nPandas(Index=9191, schedule_date='10/16/2016', schedule_season=2016, schedule_week='6', schedule_playoff=False, team_home='HOU', score_home=26.0, score_away=23.0, team_away='IND', team_favorite_id='HOU', spread_favorite=-3.0, over_under_line=47.5, stadium_neutral=False, intra_division=True, home_point_diff=3.0, away_point_diff=-3.0, home_spread=-3.0, home_last_3=-38.0, away_last_3=7.0, home_last_1=-18.0, away_last_1=6.0, home_team_covered=False, predicted_diff=0.7726933875347646)\nPandas(Index=9199, schedule_date='10/16/2016', schedule_season=2016, schedule_week='6', schedule_playoff=False, team_home='WAS', score_home=27.0, score_away=20.0, team_away='PHI', team_favorite_id='PHI', spread_favorite=-3.0, over_under_line=45.0, stadium_neutral=False, intra_division=True, home_point_diff=7.0, away_point_diff=-7.0, home_spread=3.0, home_last_3=19.0, away_last_3=45.0, home_last_1=6.0, away_last_1=-1.0, home_team_covered=True, predicted_diff=-0.29849756811449324)\nPandas(Index=9205, schedule_date='10/23/2016', schedule_season=2016, schedule_week='7', schedule_playoff=False, team_home='DET', score_home=20.0, score_away=17.0, team_away='WAS', team_favorite_id='WAS', spread_favorite=-1.0, over_under_line=50.0, stadium_neutral=False, intra_division=False, home_point_diff=3.0, away_point_diff=-3.0, home_spread=1.0, home_last_3=1.0, away_last_3=24.0, home_last_1=3.0, away_last_1=7.0, home_team_covered=True, predicted_diff=1.0174006552261934)\nPandas(Index=9211, schedule_date='10/23/2016', schedule_season=2016, schedule_week='7', schedule_playoff=False, team_home='PHI', score_home=21.0, score_away=10.0, team_away='MIN', team_favorite_id='MIN', spread_favorite=-3.0, over_under_line=39.0, stadium_neutral=False, intra_division=False, home_point_diff=11.0, away_point_diff=-11.0, home_spread=3.0, home_last_3=23.0, away_last_3=44.0, home_last_1=-7.0, away_last_1=18.0, home_team_covered=True, predicted_diff=-0.13858341384360268)\nPandas(Index=9225, schedule_date='10/30/2016', schedule_season=2016, schedule_week='8', schedule_playoff=False, team_home='IND', score_home=14.0, score_away=30.0, team_away='KC', team_favorite_id='KC', spread_favorite=-3.0, over_under_line=50.5, stadium_neutral=False, intra_division=False, home_point_diff=-16.0, away_point_diff=16.0, home_spread=3.0, home_last_3=11.0, away_last_3=-7.0, home_last_1=8.0, away_last_1=6.0, home_team_covered=False, predicted_diff=-0.13858341384360268)\nPandas(Index=9226, schedule_date='10/30/2016', schedule_season=2016, schedule_week='8', schedule_playoff=False, team_home='NO', score_home=25.0, score_away=20.0, team_away='SEA', team_favorite_id='SEA', spread_favorite=-1.0, over_under_line=50.0, stadium_neutral=False, intra_division=False, home_point_diff=5.0, away_point_diff=-5.0, home_spread=1.0, home_last_3=-2.0, away_last_3=12.0, home_last_1=-6.0, away_last_1=0.0, home_team_covered=True, predicted_diff=1.0174006552261934)\nPandas(Index=9234, schedule_date='11/6/2016', schedule_season=2016, schedule_week='9', schedule_playoff=False, team_home='LAR', score_home=10.0, score_away=13.0, team_away='CAR', team_favorite_id='CAR', spread_favorite=-3.0, over_under_line=44.5, stadium_neutral=False, intra_division=False, home_point_diff=-3.0, away_point_diff=3.0, home_spread=3.0, home_last_3=-21.0, away_last_3=4.0, home_last_1=-7.0, away_last_1=10.0, home_team_covered=False, predicted_diff=-0.570207836387731)\nPandas(Index=9243, schedule_date='11/13/2016', schedule_season=2016, schedule_week='10', schedule_playoff=False, team_home='ARI', score_home=23.0, score_away=20.0, team_away='SF', team_favorite_id='ARI', spread_favorite=-14.0, over_under_line=47.0, stadium_neutral=False, intra_division=True, home_point_diff=3.0, away_point_diff=-3.0, home_spread=-14.0, home_last_3=15.0, away_last_3=-64.0, home_last_1=-10.0, away_last_1=-18.0, home_team_covered=False, predicted_diff=11.727626454670103)\nPandas(Index=9245, schedule_date='11/13/2016', schedule_season=2016, schedule_week='10', schedule_playoff=False, team_home='JAX', score_home=21.0, score_away=24.0, team_away='HOU', team_favorite_id='JAX', spread_favorite=-3.0, over_under_line=42.0, stadium_neutral=False, intra_division=True, home_point_diff=-3.0, away_point_diff=3.0, home_spread=-3.0, home_last_3=-36.0, away_last_3=-8.0, home_last_1=-5.0, away_last_1=7.0, home_team_covered=False, predicted_diff=0.7726933875347646)\nPandas(Index=9248, schedule_date='11/13/2016', schedule_season=2016, schedule_week='10', schedule_playoff=False, team_home='NYJ', score_home=6.0, score_away=9.0, team_away='LAR', team_favorite_id='LAR', spread_favorite=-1.0, over_under_line=38.5, stadium_neutral=False, intra_division=False, home_point_diff=-3.0, away_point_diff=3.0, home_spread=1.0, home_last_3=7.0, away_last_3=-13.0, home_last_1=-4.0, away_last_1=-3.0, home_team_covered=False, predicted_diff=1.0174006552261934)\nPandas(Index=9250, schedule_date='11/13/2016', schedule_season=2016, schedule_week='10', schedule_playoff=False, team_home='PIT', score_home=30.0, score_away=35.0, team_away='DAL', team_favorite_id='PIT', spread_favorite=-3.0, over_under_line=51.0, stadium_neutral=False, intra_division=False, home_point_diff=-5.0, away_point_diff=5.0, home_spread=-3.0, home_last_3=-33.0, away_last_3=45.0, home_last_1=-7.0, away_last_1=25.0, home_team_covered=False, predicted_diff=0.9326075418056552)\nPandas(Index=9252, schedule_date='11/13/2016', schedule_season=2016, schedule_week='10', schedule_playoff=False, team_home='TB', score_home=36.0, score_away=10.0, team_away='CHI', team_favorite_id='CHI', spread_favorite=-2.5, over_under_line=45.0, stadium_neutral=False, intra_division=False, home_point_diff=26.0, away_point_diff=-26.0, home_spread=2.5, home_last_3=-4.0, away_last_3=-7.0, home_last_1=-15.0, away_last_1=10.0, home_team_covered=True, predicted_diff=-0.13858341384360268)\nPandas(Index=9253, schedule_date='11/13/2016', schedule_season=2016, schedule_week='10', schedule_playoff=False, team_home='TEN', score_home=47.0, score_away=25.0, team_away='GB', team_favorite_id='GB', spread_favorite=-3.0, over_under_line=49.0, stadium_neutral=False, intra_division=False, home_point_diff=22.0, away_point_diff=-22.0, home_spread=3.0, home_last_3=-2.0, away_last_3=10.0, home_last_1=-8.0, away_last_1=-5.0, home_team_covered=True, predicted_diff=-0.13858341384360268)\nPandas(Index=9266, schedule_date='11/20/2016', schedule_season=2016, schedule_week='11', schedule_playoff=False, team_home='SF', score_home=17.0, score_away=30.0, team_away='NE', team_favorite_id='NE', spread_favorite=-11.5, over_under_line=51.5, stadium_neutral=False, intra_division=False, home_point_diff=-13.0, away_point_diff=13.0, home_spread=11.5, home_last_3=-38.0, away_last_3=20.0, home_last_1=-3.0, away_last_1=-7.0, home_team_covered=False, predicted_diff=-8.574059575679042)\nPandas(Index=9279, schedule_date='11/27/2016', schedule_season=2016, schedule_week='12', schedule_playoff=False, team_home='HOU', score_home=13.0, score_away=21.0, team_away='LAC', team_favorite_id='LAC', spread_favorite=-2.5, over_under_line=46.0, stadium_neutral=False, intra_division=False, home_point_diff=-8.0, away_point_diff=8.0, home_spread=2.5, home_last_3=3.0, away_last_3=-7.0, home_last_1=-7.0, away_last_1=-7.0, home_team_covered=False, predicted_diff=-0.13858341384360268)\nPandas(Index=9286, schedule_date='12/1/2016', schedule_season=2016, schedule_week='13', schedule_playoff=False, team_home='MIN', score_home=15.0, score_away=17.0, team_away='DAL', team_favorite_id='DAL', spread_favorite=-3.0, over_under_line=43.5, stadium_neutral=False, intra_division=False, home_point_diff=-2.0, away_point_diff=2.0, home_spread=3.0, home_last_3=-3.0, away_last_3=20.0, home_last_1=-3.0, away_last_1=5.0, home_team_covered=True, predicted_diff=-0.13858341384360268)\nPandas(Index=9302, schedule_date='12/11/2016', schedule_season=2016, schedule_week='14', schedule_playoff=False, team_home='BUF', score_home=20.0, score_away=27.0, team_away='PIT', team_favorite_id='PIT', spread_favorite=-2.0, over_under_line=45.5, stadium_neutral=False, intra_division=False, home_point_diff=-7.0, away_point_diff=7.0, home_spread=2.0, home_last_3=-3.0, away_last_3=46.0, home_last_1=-14.0, away_last_1=10.0, home_team_covered=False, predicted_diff=1.0174006552261934)\nPandas(Index=9306, schedule_date='12/11/2016', schedule_season=2016, schedule_week='14', schedule_playoff=False, team_home='GB', score_home=38.0, score_away=10.0, team_away='SEA', team_favorite_id='SEA', spread_favorite=-3.0, over_under_line=47.0, stadium_neutral=False, intra_division=False, home_point_diff=28.0, away_point_diff=-28.0, home_spread=3.0, home_last_3=4.0, away_last_3=35.0, home_last_1=8.0, away_last_1=33.0, home_team_covered=True, predicted_diff=-0.13858341384360268)\nPandas(Index=9310, schedule_date='12/11/2016', schedule_season=2016, schedule_week='14', schedule_playoff=False, team_home='MIA', score_home=26.0, score_away=23.0, team_away='ARI', team_favorite_id='ARI', spread_favorite=-2.0, over_under_line=44.0, stadium_neutral=False, intra_division=False, home_point_diff=3.0, away_point_diff=-3.0, home_spread=2.0, home_last_3=-21.0, away_last_3=-17.0, home_last_1=-32.0, away_last_1=8.0, home_team_covered=True, predicted_diff=0.5857762326820644)\nPandas(Index=9313, schedule_date='12/11/2016', schedule_season=2016, schedule_week='14', schedule_playoff=False, team_home='SF', score_home=17.0, score_away=23.0, team_away='NYJ', team_favorite_id='SF', spread_favorite=-3.0, over_under_line=43.0, stadium_neutral=False, intra_division=False, home_point_diff=-6.0, away_point_diff=6.0, home_spread=-3.0, home_last_3=-40.0, away_last_3=-39.0, home_last_1=-20.0, away_last_1=-31.0, home_team_covered=False, predicted_diff=0.9326075418056552)\nPandas(Index=9317, schedule_date='12/15/2016', schedule_season=2016, schedule_week='15', schedule_playoff=False, team_home='SEA', score_home=24.0, score_away=3.0, team_away='LAR', team_favorite_id='SEA', spread_favorite=-15.0, over_under_line=39.5, stadium_neutral=False, intra_division=True, home_point_diff=21.0, away_point_diff=-21.0, home_spread=-15.0, home_last_3=-4.0, away_last_3=-72.0, home_last_1=-28.0, away_last_1=-28.0, home_team_covered=True, predicted_diff=11.727626454670103)\nPandas(Index=9324, schedule_date='12/18/2016', schedule_season=2016, schedule_week='15', schedule_playoff=False, team_home='CIN', score_home=20.0, score_away=24.0, team_away='PIT', team_favorite_id='PIT', spread_favorite=-3.0, over_under_line=45.5, stadium_neutral=False, intra_division=True, home_point_diff=-4.0, away_point_diff=4.0, home_spread=3.0, home_last_3=26.0, away_last_3=38.0, home_last_1=13.0, away_last_1=7.0, home_team_covered=False, predicted_diff=-0.29849756811449324)\nPandas(Index=9326, schedule_date='12/18/2016', schedule_season=2016, schedule_week='15', schedule_playoff=False, team_home='DEN', score_home=3.0, score_away=16.0, team_away='NE', team_favorite_id='NE', spread_favorite=-3.0, over_under_line=43.0, stadium_neutral=False, intra_division=False, home_point_diff=-13.0, away_point_diff=13.0, home_spread=3.0, home_last_3=4.0, away_last_3=28.0, home_last_1=-3.0, away_last_1=7.0, home_team_covered=False, predicted_diff=-0.13858341384360268)\nPandas(Index=9335, schedule_date='12/24/2016', schedule_season=2016, schedule_week='16', schedule_playoff=False, team_home='CAR', score_home=16.0, score_away=33.0, team_away='ATL', team_favorite_id='ATL', spread_favorite=-3.0, over_under_line=49.0, stadium_neutral=False, intra_division=True, home_point_diff=-17.0, away_point_diff=17.0, home_spread=3.0, home_last_3=-10.0, away_last_3=55.0, home_last_1=11.0, away_last_1=28.0, home_team_covered=False, predicted_diff=-0.7301219906586216)\nPandas(Index=9336, schedule_date='12/24/2016', schedule_season=2016, schedule_week='16', schedule_playoff=False, team_home='CHI', score_home=21.0, score_away=41.0, team_away='WAS', team_favorite_id='WAS', spread_favorite=-3.0, over_under_line=49.0, stadium_neutral=False, intra_division=False, home_point_diff=-20.0, away_point_diff=20.0, home_spread=3.0, home_last_3=14.0, away_last_3=-14.0, home_last_1=-3.0, away_last_1=-11.0, home_team_covered=False, predicted_diff=-0.13858341384360268)\nPandas(Index=9341, schedule_date='12/24/2016', schedule_season=2016, schedule_week='16', schedule_playoff=False, team_home='LAR', score_home=21.0, score_away=22.0, team_away='SF', team_favorite_id='LAR', spread_favorite=-6.0, over_under_line=39.5, stadium_neutral=False, intra_division=True, home_point_diff=-1.0, away_point_diff=1.0, home_spread=-6.0, home_last_3=-65.0, away_last_3=-54.0, home_last_1=-21.0, away_last_1=-28.0, home_team_covered=False, predicted_diff=3.789588390214734)\nPandas(Index=9342, schedule_date='12/24/2016', schedule_season=2016, schedule_week='16', schedule_playoff=False, team_home='NE', score_home=41.0, score_away=3.0, team_away='NYJ', team_favorite_id='NE', spread_favorite=-17.0, over_under_line=45.0, stadium_neutral=False, intra_division=True, home_point_diff=38.0, away_point_diff=-38.0, home_spread=-17.0, home_last_3=36.0, away_last_3=-46.0, home_last_1=13.0, away_last_1=-21.0, home_team_covered=True, predicted_diff=11.727626454670103)\nPandas(Index=9350, schedule_date='1/1/2017', schedule_season=2016, schedule_week='17', schedule_playoff=False, team_home='CIN', score_home=27.0, score_away=10.0, team_away='BAL', team_favorite_id='BAL', spread_favorite=-2.5, over_under_line=40.5, stadium_neutral=False, intra_division=True, home_point_diff=17.0, away_point_diff=-17.0, home_spread=2.5, home_last_3=7.0, away_last_3=-10.0, home_last_1=-2.0, away_last_1=-4.0, home_team_covered=True, predicted_diff=-0.29849756811449324)\nPandas(Index=9356, schedule_date='1/1/2017', schedule_season=2016, schedule_week='17', schedule_playoff=False, team_home='MIN', score_home=38.0, score_away=10.0, team_away='CHI', team_favorite_id='MIN', spread_favorite=-6.0, over_under_line=44.0, stadium_neutral=False, intra_division=True, home_point_diff=28.0, away_point_diff=-28.0, home_spread=-6.0, home_last_3=-32.0, away_last_3=-26.0, home_last_1=-13.0, away_last_1=-20.0, home_team_covered=True, predicted_diff=3.789588390214734)\nPandas(Index=9361, schedule_date='1/1/2017', schedule_season=2016, schedule_week='17', schedule_playoff=False, team_home='SF', score_home=23.0, score_away=25.0, team_away='SEA', team_favorite_id='SEA', spread_favorite=-11.5, over_under_line=45.0, stadium_neutral=False, intra_division=True, home_point_diff=-2.0, away_point_diff=2.0, home_spread=11.5, home_last_3=-33.0, away_last_3=-10.0, home_last_1=1.0, away_last_1=-3.0, home_team_covered=True, predicted_diff=-8.733973729949932)\nPandas(Index=9370, schedule_date='1/14/2017', schedule_season=2016, schedule_week='Division', schedule_playoff=True, team_home='NE', score_home=34.0, score_away=16.0, team_away='HOU', team_favorite_id='NE', spread_favorite=-16.0, over_under_line=44.0, stadium_neutral=False, intra_division=False, home_point_diff=18.0, away_point_diff=-18.0, home_spread=-16.0, home_last_3=72.0, away_last_3=8.0, home_last_1=21.0, away_last_1=13.0, home_team_covered=True, predicted_diff=11.887540608940993)\nPandas(Index=9395, schedule_date='9/17/2017', schedule_season=2017, schedule_week='2', schedule_playoff=False, team_home='DEN', score_home=42.0, score_away=17.0, team_away='DAL', team_favorite_id='DAL', spread_favorite=-2.0, over_under_line=42.0, stadium_neutral=False, intra_division=False, home_point_diff=25.0, away_point_diff=-25.0, home_spread=2.0, home_last_3=-2.0, away_last_3=-1.0, home_last_1=3.0, away_last_1=16.0, home_team_covered=True, predicted_diff=1.0174006552261934)\nPandas(Index=9397, schedule_date='9/17/2017', schedule_season=2017, schedule_week='2', schedule_playoff=False, team_home='JAX', score_home=16.0, score_away=37.0, team_away='TEN', team_favorite_id='TEN', spread_favorite=-1.5, over_under_line=43.5, stadium_neutral=False, intra_division=True, home_point_diff=-21.0, away_point_diff=21.0, home_spread=1.5, home_last_3=39.0, away_last_3=-24.0, home_last_1=22.0, away_last_1=-10.0, home_team_covered=False, predicted_diff=0.8574865009553028)\nPandas(Index=9402, schedule_date='9/17/2017', schedule_season=2017, schedule_week='2', schedule_playoff=False, team_home='LVR', score_home=45.0, score_away=20.0, team_away='NYJ', team_favorite_id='LVR', spread_favorite=-14.0, over_under_line=43.5, stadium_neutral=False, intra_division=False, home_point_diff=25.0, away_point_diff=-25.0, home_spread=-14.0, home_last_3=-21.0, away_last_3=-27.0, home_last_1=10.0, away_last_1=-9.0, home_team_covered=True, predicted_diff=11.455916186396864)\nPandas(Index=9408, schedule_date='9/24/2017', schedule_season=2017, schedule_week='3', schedule_playoff=False, team_home='BUF', score_home=26.0, score_away=16.0, team_away='DEN', team_favorite_id='DEN', spread_favorite=-3.0, over_under_line=40.0, stadium_neutral=False, intra_division=False, home_point_diff=10.0, away_point_diff=-10.0, home_spread=3.0, home_last_3=-17.0, away_last_3=46.0, home_last_1=-6.0, away_last_1=25.0, home_team_covered=True, predicted_diff=-0.570207836387731)\nPandas(Index=9411, schedule_date='9/24/2017', schedule_season=2017, schedule_week='3', schedule_playoff=False, team_home='DET', score_home=26.0, score_away=30.0, team_away='ATL', team_favorite_id='ATL', spread_favorite=-3.0, over_under_line=51.0, stadium_neutral=False, intra_division=False, home_point_diff=-4.0, away_point_diff=4.0, home_spread=3.0, home_last_3=6.0, away_last_3=11.0, home_last_1=14.0, away_last_1=11.0, home_team_covered=False, predicted_diff=-0.13858341384360268)\nPandas(Index=9415, schedule_date='9/24/2017', schedule_season=2017, schedule_week='3', schedule_playoff=False, team_home='LAC', score_home=10.0, score_away=24.0, team_away='KC', team_favorite_id='KC', spread_favorite=-3.0, over_under_line=47.5, stadium_neutral=False, intra_division=True, home_point_diff=-14.0, away_point_diff=14.0, home_spread=3.0, home_last_3=-15.0, away_last_3=20.0, home_last_1=-2.0, away_last_1=7.0, home_team_covered=False, predicted_diff=-0.7301219906586216)\nPandas(Index=9416, schedule_date='9/24/2017', schedule_season=2017, schedule_week='3', schedule_playoff=False, team_home='MIN', score_home=34.0, score_away=17.0, team_away='TB', team_favorite_id='TB', spread_favorite=-1.5, over_under_line=41.0, stadium_neutral=False, intra_division=False, home_point_diff=17.0, away_point_diff=-17.0, home_spread=1.5, home_last_3=21.0, away_last_3=16.0, home_last_1=-17.0, away_last_1=22.0, home_team_covered=True, predicted_diff=1.0174006552261934)\nPandas(Index=9421, schedule_date='9/24/2017', schedule_season=2017, schedule_week='3', schedule_playoff=False, team_home='WAS', score_home=27.0, score_away=10.0, team_away='LVR', team_favorite_id='LVR', spread_favorite=-3.0, over_under_line=53.5, stadium_neutral=False, intra_division=False, home_point_diff=17.0, away_point_diff=-17.0, home_spread=3.0, home_last_3=-15.0, away_last_3=22.0, home_last_1=7.0, away_last_1=25.0, home_team_covered=True, predicted_diff=-0.570207836387731)\nPandas(Index=9422, schedule_date='9/25/2017', schedule_season=2017, schedule_week='3', schedule_playoff=False, team_home='ARI', score_home=17.0, score_away=28.0, team_away='DAL', team_favorite_id='DAL', spread_favorite=-3.0, over_under_line=46.5, stadium_neutral=False, intra_division=False, home_point_diff=-11.0, away_point_diff=11.0, home_spread=3.0, home_last_3=29.0, away_last_3=-12.0, home_last_1=3.0, away_last_1=-25.0, home_team_covered=False, predicted_diff=-0.13858341384360268)\nPandas(Index=9426, schedule_date='10/1/2017', schedule_season=2017, schedule_week='4', schedule_playoff=False, team_home='BAL', score_home=9.0, score_away=26.0, team_away='PIT', team_favorite_id='PIT', spread_favorite=-3.0, over_under_line=42.0, stadium_neutral=False, intra_division=True, home_point_diff=-17.0, away_point_diff=17.0, home_spread=3.0, home_last_3=-3.0, away_last_3=14.0, home_last_1=-37.0, away_last_1=-6.0, home_team_covered=False, predicted_diff=-0.29849756811449324)\nPandas(Index=9427, schedule_date='10/1/2017', schedule_season=2017, schedule_week='4', schedule_playoff=False, team_home='CLE', score_home=7.0, score_away=31.0, team_away='CIN', team_favorite_id='CIN', spread_favorite=-3.0, over_under_line=41.5, stadium_neutral=False, intra_division=True, home_point_diff=-24.0, away_point_diff=24.0, home_spread=3.0, home_last_3=-20.0, away_last_3=-27.0, home_last_1=-3.0, away_last_1=-3.0, home_team_covered=False, predicted_diff=-0.7301219906586216)\nPandas(Index=9430, schedule_date='10/1/2017', schedule_season=2017, schedule_week='4', schedule_playoff=False, team_home='HOU', score_home=57.0, score_away=14.0, team_away='TEN', team_favorite_id='TEN', spread_favorite=-2.0, over_under_line=43.5, stadium_neutral=False, intra_division=True, home_point_diff=43.0, away_point_diff=-43.0, home_spread=2.0, home_last_3=-21.0, away_last_3=17.0, home_last_1=-3.0, away_last_1=6.0, home_team_covered=True, predicted_diff=0.42586207841117385)\nPandas(Index=9435, schedule_date='10/1/2017', schedule_season=2017, schedule_week='4', schedule_playoff=False, team_home='NYJ', score_home=23.0, score_away=20.0, team_away='JAX', team_favorite_id='JAX', spread_favorite=-3.0, over_under_line=38.0, stadium_neutral=False, intra_division=False, home_point_diff=3.0, away_point_diff=-3.0, home_spread=3.0, home_last_3=-20.0, away_last_3=38.0, home_last_1=14.0, away_last_1=37.0, home_team_covered=True, predicted_diff=-0.570207836387731)\nPandas(Index=9444, schedule_date='10/8/2017', schedule_season=2017, schedule_week='5', schedule_playoff=False, team_home='HOU', score_home=34.0, score_away=42.0, team_away='KC', team_favorite_id='KC', spread_favorite=-1.0, over_under_line=46.5, stadium_neutral=False, intra_division=False, home_point_diff=-8.0, away_point_diff=8.0, home_spread=1.0, home_last_3=44.0, away_last_3=30.0, home_last_1=43.0, away_last_1=9.0, home_team_covered=False, predicted_diff=1.0174006552261934)\nPandas(Index=9461, schedule_date='10/15/2017', schedule_season=2017, schedule_week='6', schedule_playoff=False, team_home='MIN', score_home=23.0, score_away=10.0, team_away='GB', team_favorite_id='GB', spread_favorite=-3.0, over_under_line=44.5, stadium_neutral=False, intra_division=True, home_point_diff=13.0, away_point_diff=-13.0, home_spread=3.0, home_last_3=13.0, away_last_3=28.0, home_last_1=3.0, away_last_1=4.0, home_team_covered=True, predicted_diff=-0.29849756811449324)\nPandas(Index=9464, schedule_date='10/15/2017', schedule_season=2017, schedule_week='6', schedule_playoff=False, team_home='LVR', score_home=16.0, score_away=17.0, team_away='LAC', team_favorite_id='LVR', spread_favorite=-3.0, over_under_line=48.5, stadium_neutral=False, intra_division=True, home_point_diff=-1.0, away_point_diff=1.0, home_spread=-3.0, home_last_3=-36.0, away_last_3=-11.0, home_last_1=-13.0, away_last_1=5.0, home_team_covered=False, predicted_diff=0.7726933875347646)\nPandas(Index=9467, schedule_date='10/19/2017', schedule_season=2017, schedule_week='7', schedule_playoff=False, team_home='LVR', score_home=31.0, score_away=30.0, team_away='KC', team_favorite_id='KC', spread_favorite=-3.0, over_under_line=46.5, stadium_neutral=False, intra_division=True, home_point_diff=1.0, away_point_diff=-1.0, home_spread=3.0, home_last_3=-20.0, away_last_3=11.0, home_last_1=-1.0, away_last_1=-6.0, home_team_covered=True, predicted_diff=-0.7301219906586216)\nPandas(Index=9469, schedule_date='10/22/2017', schedule_season=2017, schedule_week='7', schedule_playoff=False, team_home='CHI', score_home=17.0, score_away=3.0, team_away='CAR', team_favorite_id='CAR', spread_favorite=-3.0, over_under_line=40.0, stadium_neutral=False, intra_division=False, home_point_diff=14.0, away_point_diff=-14.0, home_spread=3.0, home_last_3=-21.0, away_last_3=1.0, home_last_1=3.0, away_last_1=-5.0, home_team_covered=True, predicted_diff=-0.570207836387731)\nPandas(Index=9473, schedule_date='10/22/2017', schedule_season=2017, schedule_week='7', schedule_playoff=False, team_home='LAC', score_home=21.0, score_away=0.0, team_away='DEN', team_favorite_id='DEN', spread_favorite=-1.5, over_under_line=41.0, stadium_neutral=False, intra_division=True, home_point_diff=21.0, away_point_diff=-21.0, home_spread=1.5, home_last_3=4.0, away_last_3=-17.0, home_last_1=1.0, away_last_1=-13.0, home_team_covered=True, predicted_diff=0.8574865009553028)\nPandas(Index=9486, schedule_date='10/29/2017', schedule_season=2017, schedule_week='8', schedule_playoff=False, team_home='DET', score_home=15.0, score_away=20.0, team_away='PIT', team_favorite_id='PIT', spread_favorite=-3.0, over_under_line=45.5, stadium_neutral=False, intra_division=False, home_point_diff=-5.0, away_point_diff=5.0, home_spread=3.0, home_last_3=-10.0, away_last_3=0.0, home_last_1=-14.0, away_last_1=15.0, home_team_covered=False, predicted_diff=-0.570207836387731)\nPandas(Index=9493, schedule_date='10/29/2017', schedule_season=2017, schedule_week='8', schedule_playoff=False, team_home='WAS', score_home=19.0, score_away=33.0, team_away='DAL', team_favorite_id='DAL', spread_favorite=-2.0, over_under_line=50.0, stadium_neutral=False, intra_division=True, home_point_diff=-14.0, away_point_diff=14.0, home_spread=2.0, home_last_3=-17.0, away_last_3=21.0, home_last_1=-10.0, away_last_1=30.0, home_team_covered=False, predicted_diff=0.42586207841117385)\nPandas(Index=9495, schedule_date='11/2/2017', schedule_season=2017, schedule_week='9', schedule_playoff=False, team_home='NYJ', score_home=34.0, score_away=21.0, team_away='BUF', team_favorite_id='BUF', spread_favorite=-3.0, over_under_line=43.0, stadium_neutral=False, intra_division=True, home_point_diff=13.0, away_point_diff=-13.0, home_spread=3.0, home_last_3=-15.0, away_last_3=19.0, home_last_1=-5.0, away_last_1=20.0, home_team_covered=True, predicted_diff=-0.7301219906586216)\nPandas(Index=9496, schedule_date='11/5/2017', schedule_season=2017, schedule_week='9', schedule_playoff=False, team_home='CAR', score_home=20.0, score_away=17.0, team_away='ATL', team_favorite_id='ATL', spread_favorite=-3.0, over_under_line=42.0, stadium_neutral=False, intra_division=True, home_point_diff=3.0, away_point_diff=-3.0, home_spread=3.0, home_last_3=-5.0, away_last_3=-14.0, home_last_1=14.0, away_last_1=5.0, home_team_covered=True, predicted_diff=-0.29849756811449324)\nPandas(Index=9510, schedule_date='11/12/2017', schedule_season=2017, schedule_week='10', schedule_playoff=False, team_home='BUF', score_home=10.0, score_away=47.0, team_away='NO', team_favorite_id='NO', spread_favorite=-2.0, over_under_line=48.5, stadium_neutral=False, intra_division=False, home_point_diff=-37.0, away_point_diff=37.0, home_spread=2.0, home_last_3=10.0, away_last_3=37.0, home_last_1=-13.0, away_last_1=20.0, home_team_covered=False, predicted_diff=1.0174006552261934)\nPandas(Index=9514, schedule_date='11/12/2017', schedule_season=2017, schedule_week='10', schedule_playoff=False, team_home='IND', score_home=17.0, score_away=20.0, team_away='PIT', team_favorite_id='PIT', spread_favorite=-10.5, over_under_line=47.0, stadium_neutral=False, intra_division=False, home_point_diff=-3.0, away_point_diff=3.0, home_spread=10.5, home_last_3=-22.0, away_last_3=26.0, home_last_1=6.0, away_last_1=5.0, home_team_covered=True, predicted_diff=-7.8718241907772555)\nPandas(Index=9523, schedule_date='11/19/2017', schedule_season=2017, schedule_week='11', schedule_playoff=False, team_home='CHI', score_home=24.0, score_away=27.0, team_away='DET', team_favorite_id='DET', spread_favorite=-3.0, over_under_line=41.0, stadium_neutral=False, intra_division=True, home_point_diff=-3.0, away_point_diff=3.0, home_spread=3.0, home_last_3=-1.0, away_last_3=22.0, home_last_1=-7.0, away_last_1=14.0, home_team_covered=False, predicted_diff=-0.29849756811449324)\nPandas(Index=9527, schedule_date='11/19/2017', schedule_season=2017, schedule_week='11', schedule_playoff=False, team_home='GB', score_home=0.0, score_away=23.0, team_away='BAL', team_favorite_id='BAL', spread_favorite=-2.0, over_under_line=38.0, stadium_neutral=False, intra_division=False, home_point_diff=-23.0, away_point_diff=23.0, home_spread=2.0, home_last_3=-15.0, away_last_3=29.0, home_last_1=7.0, away_last_1=-3.0, home_team_covered=False, predicted_diff=0.5857762326820644)\nPandas(Index=9537, schedule_date='11/23/2017', schedule_season=2017, schedule_week='12', schedule_playoff=False, team_home='DET', score_home=23.0, score_away=30.0, team_away='MIN', team_favorite_id='MIN', spread_favorite=-3.0, over_under_line=44.5, stadium_neutral=False, intra_division=True, home_point_diff=-7.0, away_point_diff=7.0, home_spread=3.0, home_last_3=30.0, away_last_3=42.0, home_last_1=3.0, away_last_1=17.0, home_team_covered=False, predicted_diff=-0.29849756811449324)\nPandas(Index=9545, schedule_date='11/26/2017', schedule_season=2017, schedule_week='12', schedule_playoff=False, team_home='NE', score_home=35.0, score_away=17.0, team_away='MIA', team_favorite_id='NE', spread_favorite=-16.5, over_under_line=47.5, stadium_neutral=False, intra_division=True, home_point_diff=18.0, away_point_diff=-18.0, home_spread=-16.5, home_last_3=58.0, away_last_3=-37.0, home_last_1=25.0, away_last_1=-10.0, home_team_covered=True, predicted_diff=11.727626454670103)\nPandas(Index=9549, schedule_date='11/26/2017', schedule_season=2017, schedule_week='12', schedule_playoff=False, team_home='PIT', score_home=31.0, score_away=28.0, team_away='GB', team_favorite_id='PIT', spread_favorite=-14.0, over_under_line=41.5, stadium_neutral=False, intra_division=False, home_point_diff=3.0, away_point_diff=-3.0, home_spread=-14.0, home_last_3=31.0, away_last_3=-29.0, home_last_1=23.0, away_last_1=-23.0, home_team_covered=False, predicted_diff=11.887540608940993)\nPandas(Index=9557, schedule_date='12/3/2017', schedule_season=2017, schedule_week='13', schedule_playoff=False, team_home='CHI', score_home=14.0, score_away=15.0, team_away='SF', team_favorite_id='CHI', spread_favorite=-3.0, over_under_line=41.0, stadium_neutral=False, intra_division=False, home_point_diff=-1.0, away_point_diff=1.0, home_spread=-3.0, home_last_3=-38.0, away_last_3=-11.0, home_last_1=-28.0, away_last_1=-11.0, home_team_covered=False, predicted_diff=0.9326075418056552)\nPandas(Index=9563, schedule_date='12/3/2017', schedule_season=2017, schedule_week='13', schedule_playoff=False, team_home='NYJ', score_home=38.0, score_away=31.0, team_away='KC', team_favorite_id='KC', spread_favorite=-3.0, over_under_line=43.5, stadium_neutral=False, intra_division=False, home_point_diff=7.0, away_point_diff=-7.0, home_spread=3.0, home_last_3=0.0, away_last_3=-20.0, home_last_1=-8.0, away_last_1=-6.0, home_team_covered=True, predicted_diff=-0.13858341384360268)\nPandas(Index=9571, schedule_date='12/10/2017', schedule_season=2017, schedule_week='14', schedule_playoff=False, team_home='CAR', score_home=31.0, score_away=24.0, team_away='MIN', team_favorite_id='MIN', spread_favorite=-2.5, over_under_line=40.5, stadium_neutral=False, intra_division=False, home_point_diff=7.0, away_point_diff=-7.0, home_spread=2.5, home_last_3=22.0, away_last_3=29.0, home_last_1=-10.0, away_last_1=5.0, home_team_covered=True, predicted_diff=-0.13858341384360268)\nPandas(Index=9583, schedule_date='12/11/2017', schedule_season=2017, schedule_week='14', schedule_playoff=False, team_home='MIA', score_home=27.0, score_away=20.0, team_away='NE', team_favorite_id='NE', spread_favorite=-10.5, over_under_line=48.0, stadium_neutral=False, intra_division=True, home_point_diff=7.0, away_point_diff=-7.0, home_spread=10.5, home_last_3=-2.0, away_last_3=63.0, home_last_1=26.0, away_last_1=20.0, home_team_covered=True, predicted_diff=-7.600113922504018)\nPandas(Index=9592, schedule_date='12/17/2017', schedule_season=2017, schedule_week='15', schedule_playoff=False, team_home='NO', score_home=31.0, score_away=19.0, team_away='NYJ', team_favorite_id='NO', spread_favorite=-16.5, over_under_line=47.0, stadium_neutral=False, intra_division=False, home_point_diff=12.0, away_point_diff=-12.0, home_spread=-16.5, home_last_3=1.0, away_last_3=-24.0, home_last_1=-3.0, away_last_1=-23.0, home_team_covered=False, predicted_diff=11.887540608940993)\nPandas(Index=9594, schedule_date='12/17/2017', schedule_season=2017, schedule_week='15', schedule_playoff=False, team_home='LVR', score_home=17.0, score_away=20.0, team_away='DAL', team_favorite_id='DAL', spread_favorite=-3.0, over_under_line=46.0, stadium_neutral=False, intra_division=False, home_point_diff=-3.0, away_point_diff=3.0, home_spread=3.0, home_last_3=3.0, away_last_3=22.0, home_last_1=-11.0, away_last_1=20.0, home_team_covered=False, predicted_diff=-0.13858341384360268)\nPandas(Index=9595, schedule_date='12/17/2017', schedule_season=2017, schedule_week='15', schedule_playoff=False, team_home='PIT', score_home=24.0, score_away=27.0, team_away='NE', team_favorite_id='NE', spread_favorite=-2.5, over_under_line=52.5, stadium_neutral=False, intra_division=False, home_point_diff=-3.0, away_point_diff=3.0, home_spread=2.5, home_last_3=7.0, away_last_3=31.0, home_last_1=1.0, away_last_1=-7.0, home_team_covered=False, predicted_diff=-0.13858341384360268)\nPandas(Index=9613, schedule_date='12/24/2017', schedule_season=2017, schedule_week='16', schedule_playoff=False, team_home='WAS', score_home=27.0, score_away=11.0, team_away='DEN', team_favorite_id='WAS', spread_favorite=-3.0, over_under_line=39.5, stadium_neutral=False, intra_division=False, home_point_diff=16.0, away_point_diff=-16.0, home_spread=-3.0, home_last_3=-36.0, away_last_3=9.0, home_last_1=5.0, away_last_1=12.0, home_team_covered=True, predicted_diff=0.9326075418056552)\nPandas(Index=9625, schedule_date='12/31/2017', schedule_season=2017, schedule_week='17', schedule_playoff=False, team_home='NE', score_home=26.0, score_away=6.0, team_away='NYJ', team_favorite_id='NE', spread_favorite=-17.0, over_under_line=43.5, stadium_neutral=False, intra_division=True, home_point_diff=20.0, away_point_diff=-20.0, home_spread=-17.0, home_last_3=17.0, away_last_3=-42.0, home_last_1=21.0, away_last_1=-7.0, home_team_covered=True, predicted_diff=11.727626454670103)\nPandas(Index=9637, schedule_date='1/13/2018', schedule_season=2017, schedule_week='Division', schedule_playoff=True, team_home='PHI', score_home=15.0, score_away=10.0, team_away='ATL', team_favorite_id='ATL', spread_favorite=-2.5, over_under_line=40.0, stadium_neutral=False, intra_division=False, home_point_diff=5.0, away_point_diff=-5.0, home_spread=2.5, home_last_3=8.0, away_last_3=15.0, home_last_1=-6.0, away_last_1=13.0, home_team_covered=True, predicted_diff=-0.13858341384360268)\nPandas(Index=9641, schedule_date='1/21/2018', schedule_season=2017, schedule_week='Conference', schedule_playoff=True, team_home='PHI', score_home=38.0, score_away=7.0, team_away='MIN', team_favorite_id='MIN', spread_favorite=-3.0, over_under_line=39.0, stadium_neutral=False, intra_division=False, home_point_diff=31.0, away_point_diff=-31.0, home_spread=3.0, home_last_3=8.0, away_last_3=34.0, home_last_1=5.0, away_last_1=5.0, home_team_covered=True, predicted_diff=-0.13858341384360268)\nPandas(Index=9665, schedule_date='9/16/2018', schedule_season=2018, schedule_week='2', schedule_playoff=False, team_home='JAX', score_home=31.0, score_away=20.0, team_away='NE', team_favorite_id='NE', spread_favorite=-2.0, over_under_line=44.5, stadium_neutral=False, intra_division=False, home_point_diff=11.0, away_point_diff=-11.0, home_spread=2.0, home_last_3=4.0, away_last_3=3.0, home_last_1=5.0, away_last_1=7.0, home_team_covered=True, predicted_diff=1.0174006552261934)\nPandas(Index=9666, schedule_date='9/16/2018', schedule_season=2018, schedule_week='2', schedule_playoff=False, team_home='LAR', score_home=34.0, score_away=0.0, team_away='ARI', team_favorite_id='LAR', spread_favorite=-13.5, over_under_line=43.5, stadium_neutral=False, intra_division=True, home_point_diff=34.0, away_point_diff=-34.0, home_spread=-13.5, home_last_3=-14.0, away_last_3=7.0, home_last_1=20.0, away_last_1=-18.0, home_team_covered=True, predicted_diff=11.296002032125974)\nPandas(Index=9671, schedule_date='9/16/2018', schedule_season=2018, schedule_week='2', schedule_playoff=False, team_home='TB', score_home=27.0, score_away=21.0, team_away='PHI', team_favorite_id='PHI', spread_favorite=-3.0, over_under_line=46.5, stadium_neutral=False, intra_division=False, home_point_diff=6.0, away_point_diff=-6.0, home_spread=3.0, home_last_3=12.0, away_last_3=45.0, home_last_1=8.0, away_last_1=6.0, home_team_covered=True, predicted_diff=-0.13858341384360268)\nPandas(Index=9686, schedule_date='9/23/2018', schedule_season=2018, schedule_week='3', schedule_playoff=False, team_home='MIN', score_home=6.0, score_away=27.0, team_away='BUF', team_favorite_id='MIN', spread_favorite=-16.5, over_under_line=41.0, stadium_neutral=False, intra_division=False, home_point_diff=-21.0, away_point_diff=21.0, home_spread=-16.5, home_last_3=-23.0, away_last_3=-62.0, home_last_1=0.0, away_last_1=-11.0, home_team_covered=False, predicted_diff=11.455916186396864)\nPandas(Index=9689, schedule_date='9/23/2018', schedule_season=2018, schedule_week='3', schedule_playoff=False, team_home='WAS', score_home=31.0, score_away=17.0, team_away='GB', team_favorite_id='GB', spread_favorite=-2.5, over_under_line=45.5, stadium_neutral=False, intra_division=False, home_point_diff=14.0, away_point_diff=-14.0, home_spread=2.5, home_last_3=-2.0, away_last_3=-23.0, home_last_1=-12.0, away_last_1=0.0, home_team_covered=True, predicted_diff=-0.13858341384360268)\nPandas(Index=9690, schedule_date='9/24/2018', schedule_season=2018, schedule_week='3', schedule_playoff=False, team_home='TB', score_home=27.0, score_away=30.0, team_away='PIT', team_favorite_id='PIT', spread_favorite=-1.0, over_under_line=55.0, stadium_neutral=False, intra_division=False, home_point_diff=-3.0, away_point_diff=3.0, home_spread=1.0, home_last_3=21.0, away_last_3=-8.0, home_last_1=6.0, away_last_1=-5.0, home_team_covered=False, predicted_diff=1.0174006552261934)\nPandas(Index=9704, schedule_date='9/30/2018', schedule_season=2018, schedule_week='4', schedule_playoff=False, team_home='TEN', score_home=26.0, score_away=23.0, team_away='PHI', team_favorite_id='PHI', spread_favorite=-3.0, over_under_line=41.5, stadium_neutral=False, intra_division=False, home_point_diff=3.0, away_point_diff=-3.0, home_spread=3.0, home_last_3=-1.0, away_last_3=4.0, home_last_1=3.0, away_last_1=4.0, home_team_covered=True, predicted_diff=-0.13858341384360268)\nPandas(Index=9710, schedule_date='10/7/2018', schedule_season=2018, schedule_week='5', schedule_playoff=False, team_home='CLE', score_home=12.0, score_away=9.0, team_away='BAL', team_favorite_id='BAL', spread_favorite=-3.0, over_under_line=44.5, stadium_neutral=False, intra_division=True, home_point_diff=3.0, away_point_diff=-3.0, home_spread=3.0, home_last_3=-2.0, away_last_3=14.0, home_last_1=-3.0, away_last_1=12.0, home_team_covered=True, predicted_diff=-0.29849756811449324)\nPandas(Index=9722, schedule_date='10/14/2018', schedule_season=2018, schedule_week='6', schedule_playoff=False, team_home='ATL', score_home=34.0, score_away=29.0, team_away='TB', team_favorite_id='ATL', spread_favorite=-3.0, over_under_line=57.0, stadium_neutral=False, intra_division=True, home_point_diff=5.0, away_point_diff=-5.0, home_spread=-3.0, home_last_3=-31.0, away_last_3=-35.0, home_last_1=-24.0, away_last_1=-38.0, home_team_covered=True, predicted_diff=0.7726933875347646)\nPandas(Index=9725, schedule_date='10/14/2018', schedule_season=2018, schedule_week='6', schedule_playoff=False, team_home='DAL', score_home=40.0, score_away=7.0, team_away='JAX', team_favorite_id='JAX', spread_favorite=-3.0, over_under_line=39.0, stadium_neutral=False, intra_division=False, home_point_diff=33.0, away_point_diff=-33.0, home_spread=3.0, home_last_3=-12.0, away_last_3=0.0, home_last_1=-3.0, away_last_1=-16.0, home_team_covered=True, predicted_diff=-0.570207836387731)\nPandas(Index=9729, schedule_date='10/14/2018', schedule_season=2018, schedule_week='6', schedule_playoff=False, team_home='MIN', score_home=27.0, score_away=17.0, team_away='ARI', team_favorite_id='MIN', spread_favorite=-10.0, over_under_line=43.5, stadium_neutral=False, intra_division=False, home_point_diff=10.0, away_point_diff=-10.0, home_spread=-10.0, home_last_3=-26.0, away_last_3=5.0, home_last_1=2.0, away_last_1=10.0, home_team_covered=False, predicted_diff=7.703431384781513)\nPandas(Index=9732, schedule_date='10/14/2018', schedule_season=2018, schedule_week='6', schedule_playoff=False, team_home='LVR', score_home=3.0, score_away=27.0, team_away='SEA', team_favorite_id='SEA', spread_favorite=-3.0, over_under_line=48.0, stadium_neutral=True, intra_division=False, home_point_diff=-24.0, away_point_diff=24.0, home_spread=3.0, home_last_3=-21.0, away_last_3=12.0, home_last_1=-16.0, away_last_1=-2.0, home_team_covered=False, predicted_diff=-0.570207836387731)\nPandas(Index=9733, schedule_date='10/14/2018', schedule_season=2018, schedule_week='6', schedule_playoff=False, team_home='TEN', score_home=0.0, score_away=21.0, team_away='BAL', team_favorite_id='BAL', spread_favorite=-2.5, over_under_line=43.5, stadium_neutral=False, intra_division=False, home_point_diff=-21.0, away_point_diff=21.0, home_spread=2.5, home_last_3=5.0, away_last_3=22.0, home_last_1=-1.0, away_last_1=-3.0, home_team_covered=False, predicted_diff=-0.13858341384360268)\nPandas(Index=9736, schedule_date='10/18/2018', schedule_season=2018, schedule_week='7', schedule_playoff=False, team_home='ARI', score_home=10.0, score_away=45.0, team_away='DEN', team_favorite_id='DEN', spread_favorite=-1.0, over_under_line=42.5, stadium_neutral=False, intra_division=False, home_point_diff=-35.0, away_point_diff=35.0, home_spread=1.0, home_last_3=-3.0, away_last_3=-25.0, home_last_1=-10.0, away_last_1=-3.0, home_team_covered=False, predicted_diff=1.0174006552261934)\nPandas(Index=9738, schedule_date='10/21/2018', schedule_season=2018, schedule_week='7', schedule_playoff=False, team_home='CHI', score_home=31.0, score_away=38.0, team_away='NE', team_favorite_id='NE', spread_favorite=-1.0, over_under_line=48.5, stadium_neutral=False, intra_division=False, home_point_diff=-7.0, away_point_diff=7.0, home_spread=1.0, home_last_3=37.0, away_last_3=48.0, home_last_1=-3.0, away_last_1=3.0, home_team_covered=False, predicted_diff=1.0174006552261934)\nPandas(Index=9752, schedule_date='10/28/2018', schedule_season=2018, schedule_week='8', schedule_playoff=False, team_home='CAR', score_home=36.0, score_away=21.0, team_away='BAL', team_favorite_id='BAL', spread_favorite=-2.5, over_under_line=44.0, stadium_neutral=False, intra_division=False, home_point_diff=15.0, away_point_diff=-15.0, home_spread=2.5, home_last_3=0.0, away_last_3=17.0, home_last_1=4.0, away_last_1=-1.0, home_team_covered=True, predicted_diff=-0.13858341384360268)\nPandas(Index=9763, schedule_date='10/29/2018', schedule_season=2018, schedule_week='8', schedule_playoff=False, team_home='BUF', score_home=6.0, score_away=25.0, team_away='NE', team_favorite_id='NE', spread_favorite=-13.5, over_under_line=44.5, stadium_neutral=False, intra_division=True, home_point_diff=-19.0, away_point_diff=19.0, home_spread=13.5, home_last_3=-38.0, away_last_3=24.0, home_last_1=-32.0, away_last_1=7.0, home_team_covered=False, predicted_diff=-17.657789059830073)\nPandas(Index=9770, schedule_date='11/4/2018', schedule_season=2018, schedule_week='9', schedule_playoff=False, team_home='MIA', score_home=13.0, score_away=6.0, team_away='NYJ', team_favorite_id='MIA', spread_favorite=-3.0, over_under_line=43.0, stadium_neutral=False, intra_division=True, home_point_diff=7.0, away_point_diff=-7.0, home_spread=-3.0, home_last_3=-27.0, away_last_3=-26.0, home_last_1=-19.0, away_last_1=-14.0, home_team_covered=True, predicted_diff=0.7726933875347646)\nPandas(Index=9773, schedule_date='11/4/2018', schedule_season=2018, schedule_week='9', schedule_playoff=False, team_home='NO', score_home=45.0, score_away=35.0, team_away='LAR', team_favorite_id='LAR', spread_favorite=-1.5, over_under_line=57.0, stadium_neutral=False, intra_division=False, home_point_diff=10.0, away_point_diff=-10.0, home_spread=1.5, home_last_3=35.0, away_last_3=34.0, home_last_1=10.0, away_last_1=2.0, home_team_covered=True, predicted_diff=1.0174006552261934)\nPandas(Index=9779, schedule_date='11/11/2018', schedule_season=2018, schedule_week='10', schedule_playoff=False, team_home='CIN', score_home=14.0, score_away=51.0, team_away='NO', team_favorite_id='NO', spread_favorite=-6.0, over_under_line=53.5, stadium_neutral=False, intra_division=False, home_point_diff=-37.0, away_point_diff=37.0, home_spread=6.0, home_last_3=-39.0, away_last_3=21.0, home_last_1=3.0, away_last_1=10.0, home_team_covered=False, predicted_diff=-8.147129255832047)\nPandas(Index=9783, schedule_date='11/11/2018', schedule_season=2018, schedule_week='10', schedule_playoff=False, team_home='KC', score_home=26.0, score_away=14.0, team_away='ARI', team_favorite_id='KC', spread_favorite=-16.5, over_under_line=49.5, stadium_neutral=False, intra_division=False, home_point_diff=12.0, away_point_diff=-12.0, home_spread=-16.5, home_last_3=58.0, away_last_3=-42.0, home_last_1=16.0, away_last_1=3.0, home_team_covered=False, predicted_diff=11.887540608940993)\nPandas(Index=9802, schedule_date='11/18/2018', schedule_season=2018, schedule_week='11', schedule_playoff=False, team_home='WAS', score_home=21.0, score_away=23.0, team_away='HOU', team_favorite_id='HOU', spread_favorite=-3.0, over_under_line=40.5, stadium_neutral=False, intra_division=False, home_point_diff=-2.0, away_point_diff=2.0, home_spread=3.0, home_last_3=-4.0, away_last_3=34.0, home_last_1=13.0, away_last_1=2.0, home_team_covered=True, predicted_diff=-0.13858341384360268)\nPandas(Index=9808, schedule_date='11/25/2018', schedule_season=2018, schedule_week='12', schedule_playoff=False, team_home='BUF', score_home=24.0, score_away=21.0, team_away='JAX', team_favorite_id='JAX', spread_favorite=-3.0, over_under_line=36.5, stadium_neutral=False, intra_division=False, home_point_diff=3.0, away_point_diff=-3.0, home_spread=3.0, home_last_3=-20.0, away_last_3=-13.0, home_last_1=31.0, away_last_1=-4.0, home_team_covered=True, predicted_diff=-0.570207836387731)\nPandas(Index=9811, schedule_date='11/25/2018', schedule_season=2018, schedule_week='12', schedule_playoff=False, team_home='DEN', score_home=24.0, score_away=17.0, team_away='PIT', team_favorite_id='PIT', spread_favorite=-3.0, over_under_line=47.5, stadium_neutral=False, intra_division=False, home_point_diff=7.0, away_point_diff=-7.0, home_spread=3.0, home_last_3=-8.0, away_last_3=42.0, home_last_1=1.0, away_last_1=4.0, home_team_covered=True, predicted_diff=-0.570207836387731)\nPandas(Index=9813, schedule_date='11/25/2018', schedule_season=2018, schedule_week='12', schedule_playoff=False, team_home='LAC', score_home=45.0, score_away=10.0, team_away='ARI', team_favorite_id='LAC', spread_favorite=-14.0, over_under_line=43.0, stadium_neutral=False, intra_division=False, home_point_diff=35.0, away_point_diff=-35.0, home_spread=-14.0, home_last_3=21.0, away_last_3=-11.0, home_last_1=-1.0, away_last_1=-2.0, home_team_covered=True, predicted_diff=11.887540608940993)\nPandas(Index=9815, schedule_date='11/25/2018', schedule_season=2018, schedule_week='12', schedule_playoff=False, team_home='NYJ', score_home=13.0, score_away=27.0, team_away='NE', team_favorite_id='NE', spread_favorite=-13.0, over_under_line=46.5, stadium_neutral=False, intra_division=True, home_point_diff=-14.0, away_point_diff=14.0, home_spread=13.0, home_last_3=-52.0, away_last_3=9.0, home_last_1=-31.0, away_last_1=-24.0, home_team_covered=False, predicted_diff=-10.910252244308538)\nPandas(Index=9822, schedule_date='12/2/2018', schedule_season=2018, schedule_week='13', schedule_playoff=False, team_home='DET', score_home=16.0, score_away=30.0, team_away='LAR', team_favorite_id='LAR', spread_favorite=-10.5, over_under_line=54.0, stadium_neutral=False, intra_division=False, home_point_diff=-14.0, away_point_diff=14.0, home_spread=10.5, home_last_3=-18.0, away_last_3=-2.0, home_last_1=-7.0, away_last_1=3.0, home_team_covered=False, predicted_diff=-7.8718241907772555)\nPandas(Index=9829, schedule_date='12/2/2018', schedule_season=2018, schedule_week='13', schedule_playoff=False, team_home='LVR', score_home=33.0, score_away=40.0, team_away='KC', team_favorite_id='KC', spread_favorite=-14.0, over_under_line=53.5, stadium_neutral=False, intra_division=True, home_point_diff=-7.0, away_point_diff=7.0, home_spread=14.0, home_last_3=-29.0, away_last_3=25.0, home_last_1=-17.0, away_last_1=-3.0, home_team_covered=True, predicted_diff=-17.657789059830073)\nPandas(Index=9838, schedule_date='12/9/2018', schedule_season=2018, schedule_week='14', schedule_playoff=False, team_home='CHI', score_home=15.0, score_away=6.0, team_away='LAR', team_favorite_id='LAR', spread_favorite=-3.0, over_under_line=51.0, stadium_neutral=False, intra_division=False, home_point_diff=9.0, away_point_diff=-9.0, home_spread=3.0, home_last_3=9.0, away_last_3=22.0, home_last_1=-3.0, away_last_1=14.0, home_team_covered=True, predicted_diff=-0.13858341384360268)\nPandas(Index=9839, schedule_date='12/9/2018', schedule_season=2018, schedule_week='14', schedule_playoff=False, team_home='CLE', score_home=26.0, score_away=20.0, team_away='CAR', team_favorite_id='CAR', spread_favorite=-1.0, over_under_line=47.5, stadium_neutral=False, intra_division=False, home_point_diff=6.0, away_point_diff=-6.0, home_spread=1.0, home_last_3=11.0, away_last_3=-11.0, home_last_1=-16.0, away_last_1=-7.0, home_team_covered=True, predicted_diff=1.0174006552261934)\nPandas(Index=9844, schedule_date='12/9/2018', schedule_season=2018, schedule_week='14', schedule_playoff=False, team_home='LAC', score_home=26.0, score_away=21.0, team_away='CIN', team_favorite_id='LAC', spread_favorite=-17.0, over_under_line=48.5, stadium_neutral=False, intra_division=False, home_point_diff=5.0, away_point_diff=-5.0, home_spread=-17.0, home_last_3=37.0, away_last_3=-32.0, home_last_1=3.0, away_last_1=-14.0, home_team_covered=False, predicted_diff=11.887540608940993)\nPandas(Index=9846, schedule_date='12/9/2018', schedule_season=2018, schedule_week='14', schedule_playoff=False, team_home='LVR', score_home=24.0, score_away=21.0, team_away='PIT', team_favorite_id='PIT', spread_favorite=-10.5, over_under_line=51.0, stadium_neutral=False, intra_division=False, home_point_diff=3.0, away_point_diff=-3.0, home_spread=10.5, home_last_3=-22.0, away_last_3=-6.0, home_last_1=-7.0, away_last_1=-3.0, home_team_covered=True, predicted_diff=-7.8718241907772555)\nPandas(Index=9848, schedule_date='12/9/2018', schedule_season=2018, schedule_week='14', schedule_playoff=False, team_home='TB', score_home=14.0, score_away=28.0, team_away='NO', team_favorite_id='NO', spread_favorite=-10.0, over_under_line=54.0, stadium_neutral=False, intra_division=True, home_point_diff=-14.0, away_point_diff=14.0, home_spread=10.0, home_last_3=22.0, away_last_3=52.0, home_last_1=7.0, away_last_1=-3.0, home_team_covered=False, predicted_diff=-7.600113922504018)\nPandas(Index=9854, schedule_date='12/16/2018', schedule_season=2018, schedule_week='15', schedule_playoff=False, team_home='ATL', score_home=40.0, score_away=14.0, team_away='ARI', team_favorite_id='ATL', spread_favorite=-10.0, over_under_line=43.5, stadium_neutral=False, intra_division=False, home_point_diff=26.0, away_point_diff=-26.0, home_spread=-10.0, home_last_3=-38.0, away_last_3=-46.0, home_last_1=-14.0, away_last_1=-14.0, home_team_covered=True, predicted_diff=7.703431384781513)\nPandas(Index=9858, schedule_date='12/16/2018', schedule_season=2018, schedule_week='15', schedule_playoff=False, team_home='CIN', score_home=30.0, score_away=16.0, team_away='LVR', team_favorite_id='CIN', spread_favorite=-3.0, over_under_line=46.0, stadium_neutral=False, intra_division=False, home_point_diff=14.0, away_point_diff=-14.0, home_spread=-3.0, home_last_3=-34.0, away_last_3=-21.0, home_last_1=-5.0, away_last_1=3.0, home_team_covered=True, predicted_diff=0.9326075418056552)\nPandas(Index=9863, schedule_date='12/16/2018', schedule_season=2018, schedule_week='15', schedule_playoff=False, team_home='NYG', score_home=0.0, score_away=17.0, team_away='TEN', team_favorite_id='TEN', spread_favorite=-2.5, over_under_line=42.0, stadium_neutral=False, intra_division=False, home_point_diff=-17.0, away_point_diff=17.0, home_spread=2.5, home_last_3=24.0, away_last_3=8.0, home_last_1=24.0, away_last_1=21.0, home_team_covered=False, predicted_diff=-0.13858341384360268)\nPandas(Index=9869, schedule_date='12/23/2018', schedule_season=2018, schedule_week='16', schedule_playoff=False, team_home='ARI', score_home=9.0, score_away=31.0, team_away='LAR', team_favorite_id='LAR', spread_favorite=-14.5, over_under_line=43.0, stadium_neutral=False, intra_division=True, home_point_diff=-22.0, away_point_diff=22.0, home_spread=14.5, home_last_3=-37.0, away_last_3=-2.0, home_last_1=-26.0, away_last_1=-7.0, home_team_covered=False, predicted_diff=-17.657789059830073)\nPandas(Index=9870, schedule_date='12/23/2018', schedule_season=2018, schedule_week='16', schedule_playoff=False, team_home='CAR', score_home=10.0, score_away=24.0, team_away='ATL', team_favorite_id='ATL', spread_favorite=-3.0, over_under_line=46.0, stadium_neutral=False, intra_division=True, home_point_diff=-14.0, away_point_diff=14.0, home_spread=3.0, home_last_3=-16.0, away_last_3=2.0, home_last_1=-3.0, away_last_1=26.0, home_team_covered=False, predicted_diff=-0.7301219906586216)\nPandas(Index=9878, schedule_date='12/23/2018', schedule_season=2018, schedule_week='16', schedule_playoff=False, team_home='NYJ', score_home=38.0, score_away=44.0, team_away='GB', team_favorite_id='GB', spread_favorite=-3.0, over_under_line=47.5, stadium_neutral=False, intra_division=False, home_point_diff=-6.0, away_point_diff=6.0, home_spread=3.0, home_last_3=-7.0, away_last_3=4.0, home_last_1=-7.0, away_last_1=-7.0, home_team_covered=False, predicted_diff=-0.570207836387731)\nPandas(Index=9881, schedule_date='12/23/2018', schedule_season=2018, schedule_week='16', schedule_playoff=False, team_home='SEA', score_home=38.0, score_away=31.0, team_away='KC', team_favorite_id='KC', spread_favorite=-1.0, over_under_line=54.5, stadium_neutral=False, intra_division=False, home_point_diff=7.0, away_point_diff=-7.0, home_spread=1.0, home_last_3=38.0, away_last_3=9.0, home_last_1=-3.0, away_last_1=-1.0, home_team_covered=True, predicted_diff=1.0174006552261934)\nPandas(Index=9888, schedule_date='12/30/2018', schedule_season=2018, schedule_week='17', schedule_playoff=False, team_home='KC', score_home=35.0, score_away=3.0, team_away='LVR', team_favorite_id='KC', spread_favorite=-14.5, over_under_line=52.5, stadium_neutral=False, intra_division=True, home_point_diff=32.0, away_point_diff=-32.0, home_spread=-14.5, home_last_3=-5.0, away_last_3=2.0, home_last_1=-7.0, away_last_1=13.0, home_team_covered=True, predicted_diff=11.727626454670103)\nPandas(Index=9891, schedule_date='12/30/2018', schedule_season=2018, schedule_week='17', schedule_playoff=False, team_home='NE', score_home=38.0, score_away=3.0, team_away='NYJ', team_favorite_id='NE', spread_favorite=-14.5, over_under_line=46.5, stadium_neutral=False, intra_division=True, home_point_diff=35.0, away_point_diff=-35.0, home_spread=-14.5, home_last_3=4.0, away_last_3=-9.0, home_last_1=12.0, away_last_1=-6.0, home_team_covered=True, predicted_diff=11.727626454670103)\nPandas(Index=9894, schedule_date='12/30/2018', schedule_season=2018, schedule_week='17', schedule_playoff=False, team_home='PIT', score_home=16.0, score_away=13.0, team_away='CIN', team_favorite_id='PIT', spread_favorite=-14.0, over_under_line=45.0, stadium_neutral=False, intra_division=True, home_point_diff=3.0, away_point_diff=-3.0, home_spread=-14.0, home_last_3=1.0, away_last_3=1.0, home_last_1=-3.0, away_last_1=-8.0, home_team_covered=False, predicted_diff=11.727626454670103)\nPandas(Index=9895, schedule_date='12/30/2018', schedule_season=2018, schedule_week='17', schedule_playoff=False, team_home='SEA', score_home=27.0, score_away=24.0, team_away='ARI', team_favorite_id='SEA', spread_favorite=-14.0, over_under_line=39.5, stadium_neutral=False, intra_division=True, home_point_diff=3.0, away_point_diff=-3.0, home_spread=-14.0, home_last_3=18.0, away_last_3=-62.0, home_last_1=7.0, away_last_1=-22.0, home_team_covered=False, predicted_diff=11.727626454670103)\nPandas(Index=9898, schedule_date='12/30/2018', schedule_season=2018, schedule_week='17', schedule_playoff=False, team_home='WAS', score_home=0.0, score_away=24.0, team_away='PHI', team_favorite_id='PHI', spread_favorite=-6.0, over_under_line=42.5, stadium_neutral=False, intra_division=True, home_point_diff=-24.0, away_point_diff=24.0, home_spread=6.0, home_last_3=-30.0, away_last_3=3.0, home_last_1=-9.0, away_last_1=2.0, home_team_covered=False, predicted_diff=-8.307043410102938)\nPandas(Index=9909, schedule_date='2/3/2019', schedule_season=2018, schedule_week='Superbowl', schedule_playoff=True, team_home='LAR', score_home=3.0, score_away=13.0, team_away='NE', team_favorite_id='NE', spread_favorite=-2.0, over_under_line=55.5, stadium_neutral=True, intra_division=False, home_point_diff=-10.0, away_point_diff=10.0, home_spread=2.0, home_last_3=27.0, away_last_3=54.0, home_last_1=3.0, away_last_1=6.0, home_team_covered=False, predicted_diff=1.0174006552261934)\nPandas(Index=9912, schedule_date='9/8/2019', schedule_season=2019, schedule_week='1', schedule_playoff=False, team_home='CAR', score_home=27.0, score_away=30.0, team_away='LAR', team_favorite_id='LAR', spread_favorite=-2.0, over_under_line=49.5, stadium_neutral=False, intra_division=False, home_point_diff=-3.0, away_point_diff=3.0, home_spread=2.0, home_last_3=2.0, away_last_3=1.0, home_last_1=19.0, away_last_1=-10.0, home_team_covered=False, predicted_diff=0.8154406544595458)\nPandas(Index=9920, schedule_date='9/8/2019', schedule_season=2019, schedule_week='1', schedule_playoff=False, team_home='NYJ', score_home=16.0, score_away=17.0, team_away='BUF', team_favorite_id='NYJ', spread_favorite=-2.5, over_under_line=41.0, stadium_neutral=False, intra_division=True, home_point_diff=-1.0, away_point_diff=1.0, home_spread=-2.5, home_last_3=-48.0, away_last_3=14.0, home_last_1=-35.0, away_last_1=25.0, home_team_covered=False, predicted_diff=0.4173109854260361)\nPandas(Index=9940, schedule_date='9/15/2019', schedule_season=2019, schedule_week='2', schedule_playoff=False, team_home='WAS', score_home=21.0, score_away=31.0, team_away='DAL', team_favorite_id='DAL', spread_favorite=-6.0, over_under_line=46.0, stadium_neutral=False, intra_division=True, home_point_diff=-10.0, away_point_diff=10.0, home_spread=6.0, home_last_3=-38.0, away_last_3=12.0, home_last_1=-5.0, away_last_1=18.0, home_team_covered=False, predicted_diff=-8.509003410869585)\nPandas(Index=9946, schedule_date='9/22/2019', schedule_season=2019, schedule_week='3', schedule_playoff=False, team_home='DAL', score_home=31.0, score_away=6.0, team_away='MIA', team_favorite_id='DAL', spread_favorite=-21.5, over_under_line=46.5, stadium_neutral=False, intra_division=False, home_point_diff=25.0, away_point_diff=-25.0, home_spread=-21.5, home_last_3=20.0, away_last_3=-117.0, home_last_1=10.0, away_last_1=-43.0, home_team_covered=True, predicted_diff=11.685580608174346)\nPandas(Index=9952, schedule_date='9/22/2019', schedule_season=2019, schedule_week='3', schedule_playoff=False, team_home='NE', score_home=30.0, score_away=14.0, team_away='NYJ', team_favorite_id='NE', spread_favorite=-21.0, over_under_line=43.0, stadium_neutral=False, intra_division=True, home_point_diff=16.0, away_point_diff=-16.0, home_spread=-21.0, home_last_3=83.0, away_last_3=-56.0, home_last_1=43.0, away_last_1=-20.0, home_team_covered=False, predicted_diff=11.525666453903456)\nPandas(Index=9969, schedule_date='9/29/2019', schedule_season=2019, schedule_week='4', schedule_playoff=False, team_home='MIA', score_home=10.0, score_away=30.0, team_away='LAC', team_favorite_id='LAC', spread_favorite=-15.0, over_under_line=43.5, stadium_neutral=False, intra_division=False, home_point_diff=-20.0, away_point_diff=20.0, home_spread=15.0, home_last_3=-117.0, away_last_3=-4.0, home_last_1=-25.0, away_last_1=-7.0, home_team_covered=False, predicted_diff=-17.699834906325826)\nPandas(Index=9971, schedule_date='9/29/2019', schedule_season=2019, schedule_week='4', schedule_playoff=False, team_home='NYG', score_home=24.0, score_away=3.0, team_away='WAS', team_favorite_id='NYG', spread_favorite=-3.0, over_under_line=48.0, stadium_neutral=False, intra_division=True, home_point_diff=21.0, away_point_diff=-21.0, home_spread=-3.0, home_last_3=-31.0, away_last_3=-31.0, home_last_1=1.0, away_last_1=-16.0, home_team_covered=True, predicted_diff=0.5707333867681172)\nPandas(Index=9975, schedule_date='10/6/2019', schedule_season=2019, schedule_week='5', schedule_playoff=False, team_home='CIN', score_home=23.0, score_away=26.0, team_away='ARI', team_favorite_id='CIN', spread_favorite=-3.0, over_under_line=46.5, stadium_neutral=False, intra_division=False, home_point_diff=-3.0, away_point_diff=3.0, home_spread=-3.0, home_last_3=-52.0, away_last_3=-41.0, home_last_1=-24.0, away_last_1=-17.0, home_team_covered=False, predicted_diff=0.7306475410390079)\nPandas(Index=9983, schedule_date='10/6/2019', schedule_season=2019, schedule_week='5', schedule_playoff=False, team_home='PHI', score_home=31.0, score_away=6.0, team_away='NYJ', team_favorite_id='PHI', spread_favorite=-14.0, over_under_line=43.0, stadium_neutral=False, intra_division=False, home_point_diff=25.0, away_point_diff=-25.0, home_spread=-14.0, home_last_3=0.0, away_last_3=-37.0, home_last_1=7.0, away_last_1=-16.0, home_team_covered=True, predicted_diff=11.685580608174346)\nPandas(Index=9984, schedule_date='10/6/2019', schedule_season=2019, schedule_week='5', schedule_playoff=False, team_home='PIT', score_home=23.0, score_away=26.0, team_away='BAL', team_favorite_id='BAL', spread_favorite=-3.0, over_under_line=44.0, stadium_neutral=False, intra_division=True, home_point_diff=-3.0, away_point_diff=3.0, home_spread=3.0, home_last_3=18.0, away_last_3=-14.0, home_last_1=24.0, away_last_1=-15.0, home_team_covered=False, predicted_diff=-0.5004575688811407)\nPandas(Index=9988, schedule_date='10/10/2019', schedule_season=2019, schedule_week='6', schedule_playoff=False, team_home='NE', score_home=35.0, score_away=14.0, team_away='NYG', team_favorite_id='NE', spread_favorite=-16.5, over_under_line=43.0, stadium_neutral=False, intra_division=False, home_point_diff=21.0, away_point_diff=-21.0, home_spread=-16.5, home_last_3=48.0, away_last_3=4.0, home_last_1=26.0, away_last_1=-18.0, home_team_covered=True, predicted_diff=11.685580608174346)\nPandas(Index=10000, schedule_date='10/13/2019', schedule_season=2019, schedule_week='6', schedule_playoff=False, team_home='TB', score_home=26.0, score_away=37.0, team_away='CAR', team_favorite_id='CAR', spread_favorite=-2.0, over_under_line=47.5, stadium_neutral=True, intra_division=True, home_point_diff=-11.0, away_point_diff=11.0, home_spread=2.0, home_last_3=7.0, away_last_3=31.0, home_last_1=-7.0, away_last_1=7.0, home_team_covered=False, predicted_diff=0.6555265001886552)\nPandas(Index=10002, schedule_date='10/17/2019', schedule_season=2019, schedule_week='7', schedule_playoff=False, team_home='DEN', score_home=6.0, score_away=30.0, team_away='KC', team_favorite_id='KC', spread_favorite=-3.0, over_under_line=49.5, stadium_neutral=False, intra_division=True, home_point_diff=-24.0, away_point_diff=24.0, home_spread=3.0, home_last_3=21.0, away_last_3=-9.0, home_last_1=16.0, away_last_1=-7.0, home_team_covered=False, predicted_diff=-0.5004575688811407)\nPandas(Index=10004, schedule_date='10/20/2019', schedule_season=2019, schedule_week='7', schedule_playoff=False, team_home='BUF', score_home=31.0, score_away=21.0, team_away='MIA', team_favorite_id='BUF', spread_favorite=-17.0, over_under_line=42.5, stadium_neutral=False, intra_division=True, home_point_diff=10.0, away_point_diff=-10.0, home_spread=-17.0, home_last_3=5.0, away_last_3=-46.0, home_last_1=7.0, away_last_1=-1.0, home_team_covered=False, predicted_diff=11.525666453903456)\nPandas(Index=10016, schedule_date='10/24/2019', schedule_season=2019, schedule_week='8', schedule_playoff=False, team_home='MIN', score_home=19.0, score_away=9.0, team_away='WAS', team_favorite_id='MIN', spread_favorite=-16.5, over_under_line=42.0, stadium_neutral=False, intra_division=False, home_point_diff=10.0, away_point_diff=-10.0, home_spread=-16.5, home_last_3=48.0, away_last_3=-34.0, home_last_1=12.0, away_last_1=-9.0, home_team_covered=False, predicted_diff=11.685580608174346)\nPandas(Index=10030, schedule_date='10/28/2019', schedule_season=2019, schedule_week='8', schedule_playoff=False, team_home='PIT', score_home=27.0, score_away=14.0, team_away='MIA', team_favorite_id='PIT', spread_favorite=-14.0, over_under_line=44.0, stadium_neutral=False, intra_division=False, home_point_diff=13.0, away_point_diff=-13.0, home_spread=-14.0, home_last_3=28.0, away_last_3=-31.0, home_last_1=7.0, away_last_1=-10.0, home_team_covered=False, predicted_diff=11.685580608174346)\nPandas(Index=10032, schedule_date='11/3/2019', schedule_season=2019, schedule_week='9', schedule_playoff=False, team_home='BAL', score_home=37.0, score_away=20.0, team_away='NE', team_favorite_id='NE', spread_favorite=-3.0, over_under_line=44.5, stadium_neutral=False, intra_division=False, home_point_diff=17.0, away_point_diff=-17.0, home_spread=3.0, home_last_3=23.0, away_last_3=68.0, home_last_1=14.0, away_last_1=14.0, home_team_covered=True, predicted_diff=-0.34054341461024995)\nPandas(Index=10044, schedule_date='11/4/2019', schedule_season=2019, schedule_week='9', schedule_playoff=False, team_home='NYG', score_home=18.0, score_away=37.0, team_away='DAL', team_favorite_id='DAL', spread_favorite=-6.5, over_under_line=48.5, stadium_neutral=False, intra_division=True, home_point_diff=-19.0, away_point_diff=19.0, home_spread=6.5, home_last_3=-32.0, away_last_3=15.0, home_last_1=-5.0, away_last_1=27.0, home_team_covered=False, predicted_diff=-8.509003410869585)\nPandas(Index=10076, schedule_date='11/24/2019', schedule_season=2019, schedule_week='12', schedule_playoff=False, team_home='CIN', score_home=10.0, score_away=16.0, team_away='PIT', team_favorite_id='PIT', spread_favorite=-6.5, over_under_line=37.0, stadium_neutral=False, intra_division=True, home_point_diff=-6.0, away_point_diff=6.0, home_spread=6.5, home_last_3=-57.0, away_last_3=-7.0, home_last_1=-7.0, away_last_1=-14.0, home_team_covered=True, predicted_diff=-8.509003410869585)\nPandas(Index=10080, schedule_date='11/24/2019', schedule_season=2019, schedule_week='12', schedule_playoff=False, team_home='NYJ', score_home=34.0, score_away=3.0, team_away='LVR', team_favorite_id='LVR', spread_favorite=-3.0, over_under_line=44.5, stadium_neutral=False, intra_division=False, home_point_diff=31.0, away_point_diff=-31.0, home_spread=3.0, home_last_3=16.0, away_last_3=16.0, home_last_1=17.0, away_last_1=7.0, home_team_covered=True, predicted_diff=-0.34054341461024995)\nPandas(Index=10081, schedule_date='11/24/2019', schedule_season=2019, schedule_week='12', schedule_playoff=False, team_home='PHI', score_home=9.0, score_away=17.0, team_away='SEA', team_favorite_id='SEA', spread_favorite=-2.0, over_under_line=45.5, stadium_neutral=False, intra_division=False, home_point_diff=-8.0, away_point_diff=8.0, home_spread=2.0, home_last_3=19.0, away_last_3=16.0, home_last_1=-7.0, away_last_1=3.0, home_team_covered=False, predicted_diff=0.8154406544595458)\nPandas(Index=10094, schedule_date='12/1/2019', schedule_season=2019, schedule_week='13', schedule_playoff=False, team_home='HOU', score_home=28.0, score_away=22.0, team_away='NE', team_favorite_id='NE', spread_favorite=-3.0, over_under_line=47.0, stadium_neutral=False, intra_division=False, home_point_diff=6.0, away_point_diff=-6.0, home_spread=3.0, home_last_3=-8.0, away_last_3=-6.0, home_last_1=3.0, away_last_1=4.0, home_team_covered=True, predicted_diff=-0.7721678371543783)\nPandas(Index=10102, schedule_date='12/5/2019', schedule_season=2019, schedule_week='14', schedule_playoff=False, team_home='CHI', score_home=31.0, score_away=24.0, team_away='DAL', team_favorite_id='DAL', spread_favorite=-3.0, over_under_line=43.0, stadium_neutral=False, intra_division=False, home_point_diff=7.0, away_point_diff=-7.0, home_spread=3.0, home_last_3=-1.0, away_last_3=-7.0, home_last_1=4.0, away_last_1=-11.0, home_team_covered=True, predicted_diff=-0.34054341461024995)\nPandas(Index=10118, schedule_date='12/12/2019', schedule_season=2019, schedule_week='15', schedule_playoff=False, team_home='BAL', score_home=42.0, score_away=21.0, team_away='NYJ', team_favorite_id='BAL', spread_favorite=-17.0, over_under_line=44.0, stadium_neutral=False, intra_division=False, home_point_diff=21.0, away_point_diff=-21.0, home_spread=-17.0, home_last_3=49.0, away_last_3=16.0, home_last_1=7.0, away_last_1=1.0, home_team_covered=True, predicted_diff=11.685580608174346)\nPandas(Index=10120, schedule_date='12/15/2019', schedule_season=2019, schedule_week='15', schedule_playoff=False, team_home='CAR', score_home=24.0, score_away=30.0, team_away='SEA', team_favorite_id='SEA', spread_favorite=-6.0, over_under_line=48.5, stadium_neutral=False, intra_division=False, home_point_diff=-6.0, away_point_diff=6.0, home_spread=6.0, home_last_3=-31.0, away_last_3=-1.0, home_last_1=-20.0, away_last_1=-16.0, home_team_covered=False, predicted_diff=-8.349089256598695)\nPandas(Index=10121, schedule_date='12/15/2019', schedule_season=2019, schedule_week='15', schedule_playoff=False, team_home='CIN', score_home=13.0, score_away=34.0, team_away='NE', team_favorite_id='NE', spread_favorite=-10.5, over_under_line=41.5, stadium_neutral=False, intra_division=False, home_point_diff=-21.0, away_point_diff=21.0, home_spread=10.5, home_last_3=2.0, away_last_3=-9.0, home_last_1=-8.0, away_last_1=-7.0, home_team_covered=False, predicted_diff=-7.642159768999775)\nPandas(Index=10136, schedule_date='12/21/2019', schedule_season=2019, schedule_week='16', schedule_playoff=False, team_home='TB', score_home=20.0, score_away=23.0, team_away='HOU', team_favorite_id='HOU', spread_favorite=-3.0, over_under_line=50.5, stadium_neutral=False, intra_division=False, home_point_diff=-3.0, away_point_diff=3.0, home_spread=3.0, home_last_3=41.0, away_last_3=-5.0, home_last_1=21.0, away_last_1=3.0, home_team_covered=False, predicted_diff=-0.34054341461024995)\nPandas(Index=10145, schedule_date='12/22/2019', schedule_season=2019, schedule_week='16', schedule_playoff=False, team_home='PHI', score_home=17.0, score_away=9.0, team_away='DAL', team_favorite_id='DAL', spread_favorite=-2.0, over_under_line=46.5, stadium_neutral=False, intra_division=True, home_point_diff=8.0, away_point_diff=-8.0, home_spread=2.0, home_last_3=10.0, away_last_3=5.0, home_last_1=10.0, away_last_1=23.0, home_team_covered=True, predicted_diff=0.6555265001886552)\nPandas(Index=10147, schedule_date='12/22/2019', schedule_season=2019, schedule_week='16', schedule_playoff=False, team_home='TEN', score_home=28.0, score_away=38.0, team_away='NO', team_favorite_id='NO', spread_favorite=-3.0, over_under_line=49.0, stadium_neutral=False, intra_division=False, home_point_diff=-10.0, away_point_diff=10.0, home_spread=3.0, home_last_3=32.0, away_last_3=33.0, home_last_1=-3.0, away_last_1=27.0, home_team_covered=False, predicted_diff=-0.34054341461024995)\nPandas(Index=10152, schedule_date='12/29/2019', schedule_season=2019, schedule_week='17', schedule_playoff=False, team_home='CAR', score_home=10.0, score_away=42.0, team_away='NO', team_favorite_id='NO', spread_favorite=-14.0, over_under_line=44.5, stadium_neutral=False, intra_division=True, home_point_diff=-32.0, away_point_diff=32.0, home_spread=14.0, home_last_3=-58.0, away_last_3=35.0, home_last_1=-32.0, away_last_1=10.0, home_team_covered=False, predicted_diff=-17.85974906059672)\nPandas(Index=10162, schedule_date='12/29/2019', schedule_season=2019, schedule_week='17', schedule_playoff=False, team_home='NE', score_home=24.0, score_away=27.0, team_away='MIA', team_favorite_id='NE', spread_favorite=-17.0, over_under_line=45.5, stadium_neutral=False, intra_division=True, home_point_diff=-3.0, away_point_diff=3.0, home_spread=-17.0, home_last_3=21.0, away_last_3=-14.0, home_last_1=7.0, away_last_1=3.0, home_team_covered=False, predicted_diff=11.525666453903456)\nPandas(Index=10182, schedule_date='9/13/2020', schedule_season=2020, schedule_week='1', schedule_playoff=False, team_home='CIN', score_home=13.0, score_away=16.0, team_away='LAC', team_favorite_id='LAC', spread_favorite=-3.0, over_under_line=41.5, stadium_neutral=False, intra_division=False, home_point_diff=-3.0, away_point_diff=3.0, home_spread=3.0, home_last_3=-14.0, away_last_3=-46.0, home_last_1=10.0, away_last_1=-10.0, home_team_covered=False, predicted_diff=-0.7721678371543783)\nPandas(Index=10183, schedule_date='9/13/2020', schedule_season=2020, schedule_week='1', schedule_playoff=False, team_home='DET', score_home=23.0, score_away=27.0, team_away='CHI', team_favorite_id='DET', spread_favorite=-2.5, over_under_line=42.5, stadium_neutral=False, intra_division=True, home_point_diff=-4.0, away_point_diff=4.0, home_spread=-2.5, home_last_3=-34.0, away_last_3=-29.0, home_last_1=-3.0, away_last_1=2.0, home_team_covered=False, predicted_diff=0.4173109854260361)\nPandas(Index=10185, schedule_date='9/13/2020', schedule_season=2020, schedule_week='1', schedule_playoff=False, team_home='LAR', score_home=20.0, score_away=17.0, team_away='DAL', team_favorite_id='DAL', spread_favorite=-2.0, over_under_line=51.5, stadium_neutral=False, intra_division=False, home_point_diff=3.0, away_point_diff=-3.0, home_spread=2.0, home_last_3=-19.0, away_last_3=46.0, home_last_1=7.0, away_last_1=31.0, home_team_covered=True, predicted_diff=0.38381623191541714)\nPandas(Index=10191, schedule_date='9/14/2020', schedule_season=2020, schedule_week='1', schedule_playoff=False, team_home='DEN', score_home=14.0, score_away=16.0, team_away='TEN', team_favorite_id='TEN', spread_favorite=-3.0, over_under_line=41.0, stadium_neutral=False, intra_division=False, home_point_diff=-2.0, away_point_diff=2.0, home_spread=3.0, home_last_3=-9.0, away_last_3=12.0, home_last_1=1.0, away_last_1=-11.0, home_team_covered=True, predicted_diff=-0.7721678371543783)\nPandas(Index=10193, schedule_date='9/17/2020', schedule_season=2020, schedule_week='2', schedule_playoff=False, team_home='CLE', score_home=35.0, score_away=30.0, team_away='CIN', team_favorite_id='CLE', spread_favorite=-6.0, over_under_line=43.0, stadium_neutral=False, intra_division=True, home_point_diff=5.0, away_point_diff=-5.0, home_spread=-6.0, home_last_3=-58.0, away_last_3=4.0, home_last_1=-32.0, away_last_1=-3.0, home_team_covered=False, predicted_diff=3.5876283894480867)\nPandas(Index=10226, schedule_date='10/4/2020', schedule_season=2020, schedule_week='4', schedule_playoff=False, team_home='CAR', score_home=31.0, score_away=21.0, team_away='ARI', team_favorite_id='ARI', spread_favorite=-3.0, over_under_line=51.5, stadium_neutral=False, intra_division=False, home_point_diff=10.0, away_point_diff=-10.0, home_spread=3.0, home_last_3=-13.0, away_last_3=16.0, home_last_1=5.0, away_last_1=-3.0, home_team_covered=True, predicted_diff=-0.7721678371543783)\nPandas(Index=10227, schedule_date='10/4/2020', schedule_season=2020, schedule_week='4', schedule_playoff=False, team_home='CHI', score_home=11.0, score_away=19.0, team_away='IND', team_favorite_id='IND', spread_favorite=-3.0, over_under_line=43.0, stadium_neutral=False, intra_division=False, home_point_diff=-8.0, away_point_diff=8.0, home_spread=3.0, home_last_3=12.0, away_last_3=39.0, home_last_1=4.0, away_last_1=29.0, home_team_covered=False, predicted_diff=-0.34054341461024995)\nPandas(Index=10230, schedule_date='10/4/2020', schedule_season=2020, schedule_week='4', schedule_playoff=False, team_home='DET', score_home=29.0, score_away=35.0, team_away='NO', team_favorite_id='NO', spread_favorite=-3.0, over_under_line=54.5, stadium_neutral=False, intra_division=False, home_point_diff=-6.0, away_point_diff=6.0, home_spread=3.0, home_last_3=-22.0, away_last_3=-6.0, home_last_1=3.0, away_last_1=-7.0, home_team_covered=False, predicted_diff=-0.7721678371543783)\nPandas(Index=10232, schedule_date='10/4/2020', schedule_season=2020, schedule_week='4', schedule_playoff=False, team_home='LVR', score_home=23.0, score_away=30.0, team_away='BUF', team_favorite_id='BUF', spread_favorite=-3.0, over_under_line=53.0, stadium_neutral=False, intra_division=False, home_point_diff=-7.0, away_point_diff=7.0, home_spread=3.0, home_last_3=-2.0, away_last_3=16.0, home_last_1=-16.0, away_last_1=3.0, home_team_covered=False, predicted_diff=-0.34054341461024995)\nPandas(Index=10237, schedule_date='10/4/2020', schedule_season=2020, schedule_week='4', schedule_playoff=False, team_home='WAS', score_home=17.0, score_away=31.0, team_away='BAL', team_favorite_id='BAL', spread_favorite=-14.0, over_under_line=45.0, stadium_neutral=False, intra_division=False, home_point_diff=-14.0, away_point_diff=14.0, home_spread=14.0, home_last_3=-19.0, away_last_3=35.0, home_last_1=-14.0, away_last_1=-14.0, home_team_covered=False, predicted_diff=-16.997599521424036)\nPandas(Index=10260, schedule_date='10/18/2020', schedule_season=2020, schedule_week='6', schedule_playoff=False, team_home='NYG', score_home=20.0, score_away=19.0, team_away='WAS', team_favorite_id='NYG', spread_favorite=-2.5, over_under_line=43.0, stadium_neutral=False, intra_division=True, home_point_diff=1.0, away_point_diff=-1.0, home_spread=-2.5, home_last_3=-38.0, away_last_3=-48.0, home_last_1=-3.0, away_last_1=-20.0, home_team_covered=False, predicted_diff=0.4173109854260361)\nPandas(Index=10261, schedule_date='10/18/2020', schedule_season=2020, schedule_week='6', schedule_playoff=False, team_home='PHI', score_home=28.0, score_away=30.0, team_away='BAL', team_favorite_id='BAL', spread_favorite=-10.0, over_under_line=46.5, stadium_neutral=False, intra_division=False, home_point_diff=-2.0, away_point_diff=2.0, home_spread=10.0, home_last_3=-4.0, away_last_3=24.0, home_last_1=-9.0, away_last_1=24.0, home_team_covered=True, predicted_diff=-7.642159768999775)\nPandas(Index=10271, schedule_date='10/25/2020', schedule_season=2020, schedule_week='7', schedule_playoff=False, team_home='CIN', score_home=34.0, score_away=37.0, team_away='CLE', team_favorite_id='CLE', spread_favorite=-3.0, over_under_line=51.0, stadium_neutral=False, intra_division=True, home_point_diff=-3.0, away_point_diff=3.0, home_spread=3.0, home_last_3=-20.0, away_last_3=-11.0, home_last_1=-4.0, away_last_1=-31.0, home_team_covered=False, predicted_diff=-0.9320819914252689)\nPandas(Index=10273, schedule_date='10/25/2020', schedule_season=2020, schedule_week='7', schedule_playoff=False, team_home='HOU', score_home=20.0, score_away=35.0, team_away='GB', team_favorite_id='GB', spread_favorite=-3.0, over_under_line=57.0, stadium_neutral=False, intra_division=False, home_point_diff=-15.0, away_point_diff=15.0, home_spread=3.0, home_last_3=2.0, away_last_3=-7.0, home_last_1=-6.0, away_last_1=-28.0, home_team_covered=False, predicted_diff=-0.34054341461024995)\nPandas(Index=10289, schedule_date='11/1/2020', schedule_season=2020, schedule_week='8', schedule_playoff=False, team_home='DET', score_home=21.0, score_away=41.0, team_away='IND', team_favorite_id='IND', spread_favorite=-3.0, over_under_line=49.5, stadium_neutral=False, intra_division=False, home_point_diff=-20.0, away_point_diff=20.0, home_spread=3.0, home_last_3=13.0, away_last_3=3.0, home_last_1=1.0, away_last_1=4.0, home_team_covered=False, predicted_diff=-0.34054341461024995)\nPandas(Index=10291, schedule_date='11/1/2020', schedule_season=2020, schedule_week='8', schedule_playoff=False, team_home='KC', score_home=35.0, score_away=9.0, team_away='NYJ', team_favorite_id='KC', spread_favorite=-19.5, over_under_line=49.0, stadium_neutral=False, intra_division=False, home_point_diff=26.0, away_point_diff=-26.0, home_spread=-19.5, home_last_3=28.0, away_last_3=-52.0, home_last_1=27.0, away_last_1=-8.0, home_team_covered=True, predicted_diff=11.685580608174346)\nPandas(Index=10295, schedule_date='11/2/2020', schedule_season=2020, schedule_week='8', schedule_playoff=False, team_home='NYG', score_home=23.0, score_away=25.0, team_away='TB', team_favorite_id='TB', spread_favorite=-12.5, over_under_line=45.0, stadium_neutral=False, intra_division=False, home_point_diff=-2.0, away_point_diff=2.0, home_spread=12.5, home_last_3=-3.0, away_last_3=52.0, home_last_1=-1.0, away_last_1=25.0, home_team_covered=True, predicted_diff=-7.642159768999775)\nPandas(Index=10299, schedule_date='11/8/2020', schedule_season=2020, schedule_week='9', schedule_playoff=False, team_home='BUF', score_home=44.0, score_away=34.0, team_away='SEA', team_favorite_id='SEA', spread_favorite=-3.0, over_under_line=55.0, stadium_neutral=False, intra_division=False, home_point_diff=10.0, away_point_diff=-10.0, home_spread=3.0, home_last_3=2.0, away_last_3=8.0, home_last_1=3.0, away_last_1=10.0, home_team_covered=True, predicted_diff=-0.34054341461024995)\nPandas(Index=10300, schedule_date='11/8/2020', schedule_season=2020, schedule_week='9', schedule_playoff=False, team_home='DAL', score_home=19.0, score_away=24.0, team_away='PIT', team_favorite_id='PIT', spread_favorite=-14.0, over_under_line=44.0, stadium_neutral=False, intra_division=False, home_point_diff=-5.0, away_point_diff=5.0, home_spread=14.0, home_last_3=-64.0, away_last_3=38.0, home_last_1=-14.0, away_last_1=4.0, home_team_covered=True, predicted_diff=-17.699834906325826)\nPandas(Index=10302, schedule_date='11/8/2020', schedule_season=2020, schedule_week='9', schedule_playoff=False, team_home='JAX', score_home=25.0, score_away=27.0, team_away='HOU', team_favorite_id='HOU', spread_favorite=-6.5, over_under_line=49.5, stadium_neutral=False, intra_division=True, home_point_diff=-2.0, away_point_diff=2.0, home_spread=6.5, home_last_3=-44.0, away_last_3=-5.0, home_last_1=-10.0, away_last_1=-15.0, home_team_covered=True, predicted_diff=-8.509003410869585)\nPandas(Index=10314, schedule_date='11/15/2020', schedule_season=2020, schedule_week='10', schedule_playoff=False, team_home='DET', score_home=30.0, score_away=27.0, team_away='WAS', team_favorite_id='DET', spread_favorite=-3.0, over_under_line=46.0, stadium_neutral=False, intra_division=False, home_point_diff=3.0, away_point_diff=-3.0, home_spread=-3.0, home_last_3=-33.0, away_last_3=18.0, home_last_1=-14.0, away_last_1=-3.0, home_team_covered=False, predicted_diff=0.7306475410390079)\nPandas(Index=10315, schedule_date='11/15/2020', schedule_season=2020, schedule_week='10', schedule_playoff=False, team_home='GB', score_home=24.0, score_away=20.0, team_away='JAX', team_favorite_id='GB', spread_favorite=-14.0, over_under_line=47.5, stadium_neutral=False, intra_division=False, home_point_diff=4.0, away_point_diff=-4.0, home_spread=-14.0, home_last_3=26.0, away_last_3=-30.0, home_last_1=17.0, away_last_1=-2.0, home_team_covered=False, predicted_diff=11.685580608174346)\nPandas(Index=10331, schedule_date='11/22/2020', schedule_season=2020, schedule_week='11', schedule_playoff=False, team_home='JAX', score_home=3.0, score_away=27.0, team_away='PIT', team_favorite_id='PIT', spread_favorite=-10.5, over_under_line=46.0, stadium_neutral=False, intra_division=False, home_point_diff=-24.0, away_point_diff=24.0, home_spread=10.5, home_last_3=-16.0, away_last_3=35.0, home_last_1=-4.0, away_last_1=26.0, home_team_covered=False, predicted_diff=-8.073784191543904)\nPandas(Index=10340, schedule_date='11/29/2020', schedule_season=2020, schedule_week='12', schedule_playoff=False, team_home='ATL', score_home=43.0, score_away=6.0, team_away='LVR', team_favorite_id='LVR', spread_favorite=-3.0, over_under_line=53.5, stadium_neutral=False, intra_division=False, home_point_diff=37.0, away_point_diff=-37.0, home_spread=3.0, home_last_3=0.0, away_last_3=26.0, home_last_1=-15.0, away_last_1=-4.0, home_team_covered=True, predicted_diff=-0.34054341461024995)\nPandas(Index=10342, schedule_date='11/29/2020', schedule_season=2020, schedule_week='12', schedule_playoff=False, team_home='CIN', score_home=17.0, score_away=19.0, team_away='NYG', team_favorite_id='NYG', spread_favorite=-6.0, over_under_line=44.5, stadium_neutral=False, intra_division=False, home_point_diff=-2.0, away_point_diff=2.0, home_spread=6.0, home_last_3=-26.0, away_last_3=11.0, home_last_1=-11.0, away_last_1=10.0, home_team_covered=True, predicted_diff=-8.349089256598695)\nPandas(Index=10343, schedule_date='11/29/2020', schedule_season=2020, schedule_week='12', schedule_playoff=False, team_home='DEN', score_home=3.0, score_away=31.0, team_away='NO', team_favorite_id='NO', spread_favorite=-14.5, over_under_line=36.5, stadium_neutral=False, intra_division=False, home_point_diff=-28.0, away_point_diff=28.0, home_spread=14.5, home_last_3=-25.0, away_last_3=64.0, home_last_1=7.0, away_last_1=15.0, home_team_covered=False, predicted_diff=-17.699834906325826)\nPandas(Index=10349, schedule_date='11/29/2020', schedule_season=2020, schedule_week='12', schedule_playoff=False, team_home='NE', score_home=20.0, score_away=17.0, team_away='ARI', team_favorite_id='ARI', spread_favorite=-2.0, over_under_line=49.0, stadium_neutral=False, intra_division=False, home_point_diff=3.0, away_point_diff=-3.0, home_spread=2.0, home_last_3=2.0, away_last_3=-8.0, home_last_1=-7.0, away_last_1=-7.0, home_team_covered=True, predicted_diff=0.8154406544595458)\nPandas(Index=10356, schedule_date='12/6/2020', schedule_season=2020, schedule_week='13', schedule_playoff=False, team_home='CHI', score_home=30.0, score_away=34.0, team_away='DET', team_favorite_id='CHI', spread_favorite=-3.0, over_under_line=44.0, stadium_neutral=False, intra_division=True, home_point_diff=-4.0, away_point_diff=4.0, home_spread=-3.0, home_last_3=-29.0, away_last_3=-33.0, home_last_1=-16.0, away_last_1=-16.0, home_team_covered=False, predicted_diff=0.5707333867681172)\nPandas(Index=10379, schedule_date='12/13/2020', schedule_season=2020, schedule_week='14', schedule_playoff=False, team_home='NYG', score_home=7.0, score_away=26.0, team_away='ARI', team_favorite_id='ARI', spread_favorite=-3.0, over_under_line=47.5, stadium_neutral=False, intra_division=False, home_point_diff=-19.0, away_point_diff=19.0, home_spread=3.0, home_last_3=17.0, away_last_3=-20.0, home_last_1=5.0, away_last_1=-10.0, home_team_covered=False, predicted_diff=-0.34054341461024995)\nPandas(Index=10382, schedule_date='12/13/2020', schedule_season=2020, schedule_week='14', schedule_playoff=False, team_home='SEA', score_home=40.0, score_away=3.0, team_away='NYJ', team_favorite_id='SEA', spread_favorite=-16.5, over_under_line=49.0, stadium_neutral=False, intra_division=False, home_point_diff=37.0, away_point_diff=-37.0, home_spread=-16.5, home_last_3=8.0, away_last_3=-26.0, home_last_1=-5.0, away_last_1=-3.0, home_team_covered=True, predicted_diff=11.685580608174346)\nPandas(Index=10384, schedule_date='12/14/2020', schedule_season=2020, schedule_week='14', schedule_playoff=False, team_home='CLE', score_home=42.0, score_away=47.0, team_away='BAL', team_favorite_id='BAL', spread_favorite=-3.0, over_under_line=45.5, stadium_neutral=False, intra_division=True, home_point_diff=-5.0, away_point_diff=5.0, home_spread=3.0, home_last_3=13.0, away_last_3=6.0, home_last_1=6.0, away_last_1=17.0, home_team_covered=False, predicted_diff=-0.5004575688811407)\nPandas(Index=10386, schedule_date='12/19/2020', schedule_season=2020, schedule_week='15', schedule_playoff=False, team_home='DEN', score_home=19.0, score_away=48.0, team_away='BUF', team_favorite_id='BUF', spread_favorite=-6.0, over_under_line=48.0, stadium_neutral=False, intra_division=False, home_point_diff=-29.0, away_point_diff=29.0, home_spread=6.0, home_last_3=-29.0, away_last_3=31.0, home_last_1=5.0, away_last_1=11.0, home_team_covered=False, predicted_diff=-8.349089256598695)\nPandas(Index=10393, schedule_date='12/20/2020', schedule_season=2020, schedule_week='15', schedule_playoff=False, team_home='LAR', score_home=20.0, score_away=23.0, team_away='NYJ', team_favorite_id='LAR', spread_favorite=-17.0, over_under_line=44.5, stadium_neutral=False, intra_division=False, home_point_diff=-3.0, away_point_diff=3.0, home_spread=-17.0, home_last_3=28.0, away_last_3=-57.0, home_last_1=21.0, away_last_1=-37.0, home_team_covered=False, predicted_diff=11.685580608174346)\nPandas(Index=10396, schedule_date='12/20/2020', schedule_season=2020, schedule_week='15', schedule_playoff=False, team_home='NO', score_home=29.0, score_away=32.0, team_away='KC', team_favorite_id='KC', spread_favorite=-2.5, over_under_line=54.0, stadium_neutral=False, intra_division=False, home_point_diff=-3.0, away_point_diff=3.0, home_spread=2.5, home_last_3=30.0, away_last_3=15.0, home_last_1=-3.0, away_last_1=6.0, home_team_covered=False, predicted_diff=-0.34054341461024995)\nPandas(Index=10400, schedule_date='12/21/2020', schedule_season=2020, schedule_week='15', schedule_playoff=False, team_home='CIN', score_home=27.0, score_away=17.0, team_away='PIT', team_favorite_id='PIT', spread_favorite=-14.5, over_under_line=40.5, stadium_neutral=False, intra_division=True, home_point_diff=10.0, away_point_diff=-10.0, home_spread=14.5, home_last_3=-37.0, away_last_3=-12.0, home_last_1=-23.0, away_last_1=-11.0, home_team_covered=True, predicted_diff=-17.85974906059672)\nPandas(Index=10403, schedule_date='12/26/2020', schedule_season=2020, schedule_week='16', schedule_playoff=False, team_home='DET', score_home=7.0, score_away=47.0, team_away='TB', team_favorite_id='TB', spread_favorite=-12.0, over_under_line=55.0, stadium_neutral=False, intra_division=False, home_point_diff=-40.0, away_point_diff=40.0, home_spread=12.0, home_last_3=-24.0, away_last_3=13.0, home_last_1=-21.0, away_last_1=4.0, home_team_covered=False, predicted_diff=-8.77601957644569)\nPandas(Index=10406, schedule_date='12/27/2020', schedule_season=2020, schedule_week='16', schedule_playoff=False, team_home='DAL', score_home=37.0, score_away=17.0, team_away='PHI', team_favorite_id='PHI', spread_favorite=-3.0, over_under_line=50.5, stadium_neutral=False, intra_division=True, home_point_diff=20.0, away_point_diff=-20.0, home_spread=3.0, home_last_3=14.0, away_last_3=-18.0, home_last_1=8.0, away_last_1=-7.0, home_team_covered=True, predicted_diff=-0.5004575688811407)\nPandas(Index=10411, schedule_date='12/27/2020', schedule_season=2020, schedule_week='16', schedule_playoff=False, team_home='LAC', score_home=19.0, score_away=16.0, team_away='DEN', team_favorite_id='LAC', spread_favorite=-2.0, over_under_line=47.5, stadium_neutral=False, intra_division=True, home_point_diff=3.0, away_point_diff=-3.0, home_spread=-2.0, home_last_3=-39.0, away_last_3=-30.0, home_last_1=3.0, away_last_1=-29.0, home_team_covered=True, predicted_diff=-0.12671358973254152)\nPandas(Index=10417, schedule_date='1/3/2021', schedule_season=2020, schedule_week='17', schedule_playoff=False, team_home='BUF', score_home=56.0, score_away=26.0, team_away='MIA', team_favorite_id='MIA', spread_favorite=-3.0, over_under_line=42.5, stadium_neutral=False, intra_division=True, home_point_diff=30.0, away_point_diff=-30.0, home_spread=3.0, home_last_3=69.0, away_last_3=5.0, home_last_1=29.0, away_last_1=1.0, home_team_covered=True, predicted_diff=-0.5004575688811407)\nPandas(Index=10420, schedule_date='1/3/2021', schedule_season=2020, schedule_week='17', schedule_playoff=False, team_home='CIN', score_home=3.0, score_away=38.0, team_away='BAL', team_favorite_id='BAL', spread_favorite=-13.5, over_under_line=45.0, stadium_neutral=False, intra_division=True, home_point_diff=-35.0, away_point_diff=35.0, home_spread=13.5, home_last_3=-7.0, away_last_3=45.0, home_last_1=6.0, away_last_1=14.0, home_team_covered=False, predicted_diff=-17.15751367569493)\nPandas(Index=10425, schedule_date='1/3/2021', schedule_season=2020, schedule_week='17', schedule_playoff=False, team_home='IND', score_home=28.0, score_away=14.0, team_away='JAX', team_favorite_id='IND', spread_favorite=-15.5, over_under_line=48.0, stadium_neutral=False, intra_division=True, home_point_diff=14.0, away_point_diff=-14.0, home_spread=-15.5, home_last_3=20.0, away_last_3=-71.0, home_last_1=-4.0, away_last_1=-24.0, home_team_covered=False, predicted_diff=11.525666453903456)\nPandas(Index=10428, schedule_date='1/3/2021', schedule_season=2020, schedule_week='17', schedule_playoff=False, team_home='NE', score_home=28.0, score_away=14.0, team_away='NYJ', team_favorite_id='NE', spread_favorite=-3.0, over_under_line=41.0, stadium_neutral=False, intra_division=True, home_point_diff=14.0, away_point_diff=-14.0, home_spread=-3.0, home_last_3=-60.0, away_last_3=-27.0, home_last_1=-29.0, away_last_1=7.0, home_team_covered=True, predicted_diff=0.5707333867681172)\nPandas(Index=10430, schedule_date='1/3/2021', schedule_season=2020, schedule_week='17', schedule_playoff=False, team_home='PHI', score_home=14.0, score_away=20.0, team_away='WAS', team_favorite_id='WAS', spread_favorite=-6.5, over_under_line=43.5, stadium_neutral=False, intra_division=True, home_point_diff=-6.0, away_point_diff=6.0, home_spread=6.5, home_last_3=-24.0, away_last_3=-4.0, home_last_1=-20.0, away_last_1=-7.0, home_team_covered=True, predicted_diff=-8.509003410869585)\nPandas(Index=10435, schedule_date='1/9/2021', schedule_season=2020, schedule_week='Wildcard', schedule_playoff=True, team_home='WAS', score_home=23.0, score_away=31.0, team_away='TB', team_favorite_id='TB', spread_favorite=-10.0, over_under_line=45.0, stadium_neutral=False, intra_division=False, home_point_diff=-8.0, away_point_diff=8.0, home_spread=10.0, home_last_3=-6.0, away_last_3=61.0, home_last_1=6.0, away_last_1=17.0, home_team_covered=True, predicted_diff=-7.642159768999775)\nPandas(Index=10445, schedule_date='2/7/2021', schedule_season=2020, schedule_week='Superbowl', schedule_playoff=True, team_home='TB', score_home=31.0, score_away=9.0, team_away='KC', team_favorite_id='KC', spread_favorite=-3.0, over_under_line=54.5, stadium_neutral=False, intra_division=False, home_point_diff=22.0, away_point_diff=-22.0, home_spread=3.0, home_last_3=23.0, away_last_3=2.0, home_last_1=5.0, away_last_1=14.0, home_team_covered=True, predicted_diff=-0.34054341461024995)\n3841\n217\n218\n30\n",
     "output_type": "stream"
    }
   ]
  },
  {
   "cell_type": "code",
   "metadata": {
    "tags": [],
    "cell_id": "00013-86d1eb85-a13b-4c6c-8dfd-98f9253f13ce",
    "deepnote_to_be_reexecuted": false,
    "source_hash": "2f091579",
    "execution_start": 1632708489210,
    "execution_millis": 7,
    "deepnote_cell_type": "code"
   },
   "source": "# the fields most correlated with 'home_team_covered' is away_last_3 (positively)\n# so, what if i always bet the home team when away_last_3 is > some value\n\nglobal_df_final_no_drop.describe()\n\n#away last 3: 75% = 20\n\n\nmoney = 10000\nwon = 0\nloss = 0\npush = 0\n\nfor row in global_df_final_no_drop.itertuples():\n\n#   if (row.away_last_3 < -30 and row.away_last_1 < 0 and row.intra_division):\n    if (row.away_last_1 <= -14 and row.intra_division and row.home_spread < 0): #bet on road underdog \n        if row.away_point_diff - row.home_spread > 0:\n            money = money + 273\n            won += 1\n        elif row.away_point_diff - row.home_spread > 0:\n            push +=1\n        else:\n            money = money - 300\n            loss += 1\n\n\nprint (money)\nprint (won)\nprint (loss)\nprint (push)\n",
   "execution_count": 15,
   "outputs": [
    {
     "name": "stdout",
     "text": "11770\n90\n76\n0\n",
     "output_type": "stream"
    }
   ]
  },
  {
   "cell_type": "markdown",
   "source": "<a style='text-decoration:none;line-height:16px;display:flex;color:#5B5B62;padding:10px;justify-content:end;' href='https://deepnote.com?utm_source=created-in-deepnote-cell&projectId=f0efbe77-01fa-4860-b5ee-e7eac30d44e8' target=\"_blank\">\n<img alt='Created in deepnote.com' style='display:inline;max-height:16px;margin:0px;margin-right:7.5px;' src='data:image/svg+xml;base64,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' > </img>\nCreated in <span style='font-weight:600;margin-left:4px;'>Deepnote</span></a>",
   "metadata": {
    "tags": [],
    "created_in_deepnote_cell": true,
    "deepnote_cell_type": "markdown"
   }
  }
 ],
 "nbformat": 4,
 "nbformat_minor": 2,
 "metadata": {
  "orig_nbformat": 2,
  "deepnote": {
   "is_reactive": false
  },
  "deepnote_notebook_id": "188bacea-ceef-46f0-9862-556f30089a3f",
  "deepnote_execution_queue": []
 }
}