{
 "cells": [
  {
   "cell_type": "code",
   "metadata": {
    "tags": [],
    "deepnote_to_be_reexecuted": false,
    "source_hash": "ac68d2b9",
    "execution_start": 1634398666570,
    "execution_millis": 9840,
    "cell_id": "00000-dd57dcab-f049-4d75-89a1-ec3addca498e",
    "deepnote_cell_type": "code"
   },
   "source": "import pandas as pd\nfrom collections import deque\nimport datetime as dt\nimport matplotlib.pyplot as plt\nimport seaborn as sns\nimport numpy as np\n\nfrom sklearn.model_selection import cross_val_score\nfrom sklearn.model_selection import train_test_split\nfrom sklearn import ensemble\nfrom sklearn.model_selection import GridSearchCV\n\n!pip install eli5\nimport eli5\nfrom eli5.sklearn import PermutationImportance\n\n!pip install scikit-optimize\nfrom skopt.space import Real, Integer\nfrom skopt.utils import use_named_args\nfrom skopt import gp_minimize",
   "execution_count": 1,
   "outputs": [
    {
     "name": "stdout",
     "text": "Requirement already satisfied: eli5 in /root/venv/lib/python3.7/site-packages (0.11.0)\nRequirement already satisfied: jinja2 in /shared-libs/python3.7/py-core/lib/python3.7/site-packages (from eli5) (3.0.2)\nRequirement already satisfied: scipy in /shared-libs/python3.7/py/lib/python3.7/site-packages (from eli5) (1.7.1)\nRequirement already satisfied: graphviz in /root/venv/lib/python3.7/site-packages (from eli5) (0.17)\nRequirement already satisfied: attrs>16.0.0 in /shared-libs/python3.7/py-core/lib/python3.7/site-packages (from eli5) (21.2.0)\nRequirement already satisfied: numpy>=1.9.0 in /shared-libs/python3.7/py/lib/python3.7/site-packages (from eli5) (1.19.5)\nRequirement already satisfied: tabulate>=0.7.7 in /shared-libs/python3.7/py/lib/python3.7/site-packages (from eli5) (0.8.9)\nRequirement already satisfied: six in /shared-libs/python3.7/py-core/lib/python3.7/site-packages (from eli5) (1.16.0)\nRequirement already satisfied: scikit-learn>=0.20 in /shared-libs/python3.7/py/lib/python3.7/site-packages (from eli5) (1.0)\nRequirement already satisfied: joblib>=0.11 in /shared-libs/python3.7/py/lib/python3.7/site-packages (from scikit-learn>=0.20->eli5) (1.1.0)\nRequirement already satisfied: threadpoolctl>=2.0.0 in /shared-libs/python3.7/py/lib/python3.7/site-packages (from scikit-learn>=0.20->eli5) (3.0.0)\nRequirement already satisfied: MarkupSafe>=2.0 in /shared-libs/python3.7/py-core/lib/python3.7/site-packages (from jinja2->eli5) (2.0.1)\n\u001b[33mWARNING: You are using pip version 21.2.4; however, version 21.3 is available.\nYou should consider upgrading via the '/root/venv/bin/python -m pip install --upgrade pip' command.\u001b[0m\nRequirement already satisfied: scikit-optimize in /root/venv/lib/python3.7/site-packages (0.9.0)\nRequirement already satisfied: pyaml>=16.9 in /root/venv/lib/python3.7/site-packages (from scikit-optimize) (21.10.1)\nRequirement already satisfied: joblib>=0.11 in /shared-libs/python3.7/py/lib/python3.7/site-packages (from scikit-optimize) (1.1.0)\nRequirement already satisfied: scipy>=0.19.1 in /shared-libs/python3.7/py/lib/python3.7/site-packages (from scikit-optimize) (1.7.1)\nRequirement already satisfied: scikit-learn>=0.20.0 in /shared-libs/python3.7/py/lib/python3.7/site-packages (from scikit-optimize) (1.0)\nRequirement already satisfied: numpy>=1.13.3 in /shared-libs/python3.7/py/lib/python3.7/site-packages (from scikit-optimize) (1.19.5)\nRequirement already satisfied: PyYAML in /shared-libs/python3.7/py/lib/python3.7/site-packages (from pyaml>=16.9->scikit-optimize) (5.4.1)\nRequirement already satisfied: threadpoolctl>=2.0.0 in /shared-libs/python3.7/py/lib/python3.7/site-packages (from scikit-learn>=0.20.0->scikit-optimize) (3.0.0)\n\u001b[33mWARNING: You are using pip version 21.2.4; however, version 21.3 is available.\nYou should consider upgrading via the '/root/venv/bin/python -m pip install --upgrade pip' command.\u001b[0m\n",
     "output_type": "stream"
    }
   ]
  },
  {
   "cell_type": "markdown",
   "source": "# Ideation\n\nMore backtesting, except NHL instead and NFL and moneyline instead of the spread/puckline.\n\n\nOther columns that I can add:\n* Playoff team last year? [need additional data but easy to get]\n* Current record [can calculate] \n* Power rankings based on last few games won/differential [can calculate]\n* last few games won rather than just diff [can calculate]\n* GF / GA [can calculate]\n* espn 'hype' / twitter hype [need additional data]\n* itra division [need additional info - keep track of teams changing divisions by year]\n\nOther ideas:\n* create a correlation matrix for home_diff and build strategies based on that\n* create a correlation matrix for home_diff vs spread and build strategies based on that\n* ML model - predict on % chance of home team winning? - predict_proba ?\n",
   "metadata": {
    "tags": [],
    "cell_id": "00001-8b20397c-eb90-47b1-a34e-0a5f9bf5cbfc",
    "deepnote_cell_type": "markdown"
   }
  },
  {
   "cell_type": "code",
   "metadata": {
    "tags": [],
    "deepnote_to_be_reexecuted": false,
    "source_hash": "351529ea",
    "execution_start": 1634398676329,
    "execution_millis": 9932,
    "cell_id": "00002-537fb19a-6d5d-4d66-a2f1-3675a6362627",
    "deepnote_cell_type": "code"
   },
   "source": "nhl_odds = pd.read_csv('combined_nhl_odds.csv')\n\n\nnhl_odds_aux = nhl_odds\n\nnhl_odds_aux['home_point_diff'] = nhl_odds_aux.apply(lambda row: row.HomeFinal - row.AwayFinal, axis=1)\nnhl_odds_aux['away_point_diff'] = nhl_odds_aux.apply(lambda row: row.AwayFinal - row.HomeFinal, axis=1)\n\n# +110 -> +150 = +40 close - open\nnhl_odds_aux['ml_away_movement'] = nhl_odds_aux.apply(lambda row: row.MlAwayClose - row.MlAwayOpen, axis=1)\nnhl_odds_aux['ml_home_movement'] = nhl_odds_aux.apply(lambda row: row.MlHomeClose - row.MlAwayOpen, axis=1)\n\ndef format_date(date, year):\n    datestr = str(date)\n    month = datestr[:-2]\n    day = datestr[-2:]\n    # due to covid, the 2021 season was played entirely in 2021 (no games in oct-dec)\n    # and the 2020 season stopped in the middle and resumed in aug/sep\n    if(year != 2020 and year != 2021):\n        # Game was played from Oct-Dec, ie the previous year\n        if(date > 900):\n            year -= 1\n    elif(year == 2020 and date > 930):\n            year -= 1\n    return dt.datetime(year, int(month), int(day))\n\nnhl_odds_aux['RealDate'] = nhl_odds_aux.apply(lambda row: format_date(row.Date, row.Year), axis=1)\n\nteam_to_games = {}\nteam_to_last_game_played = {}\n# 2007_Buffalo: -5\nteam_win_differential_by_year = {}\n\nfor index, row in nhl_odds_aux.iterrows():\n\n    # Update the mapping\n    if row.HomeTeam not in team_to_games:\n        team_to_games.update({row.HomeTeam : deque([0,0,0])})\n        team_to_last_game_played.update({row.HomeTeam : dt.datetime(2007, 7, 1)})\n\n    if row.AwayTeam not in team_to_games:\n        team_to_games.update({row.AwayTeam : deque([0,0,0])})\n        team_to_last_game_played.update({row.AwayTeam : dt.datetime(2007, 7, 1)})\n\n    if (str(row.Year) + str(row.HomeTeam)) not in team_win_differential_by_year:\n        team_win_differential_by_year.update({str(row.Year) + str(row.HomeTeam): 0})\n\n    if (str(row.Year) + str(row.AwayTeam)) not in team_win_differential_by_year:\n        team_win_differential_by_year.update({str(row.Year) + str(row.AwayTeam): 0})\n\n\n    last_games = team_to_games.get(row.HomeTeam)\n    home_last_3 = last_games[0] + last_games[1] + last_games[2]\n    home_last_1 = last_games[0]\n    last_games.pop()\n    last_games.appendleft(row.home_point_diff)\n\n    last_games = team_to_games.get(row.AwayTeam)\n    away_last_3 = last_games[0] + last_games[1] + last_games[2]\n    away_last_1 = last_games[0]\n    last_games.pop()\n    last_games.appendleft(row.away_point_diff)\n\n    nhl_odds_aux.at[index, 'home_last_3'] = home_last_3\n    nhl_odds_aux.at[index, 'away_last_3'] = away_last_3\n    nhl_odds_aux.at[index, 'home_last_1'] = home_last_1\n    nhl_odds_aux.at[index, 'away_last_1'] = away_last_1\n\n    nhl_odds_aux.at[index, 'home_rest'] = (row.RealDate - team_to_last_game_played.get(row.HomeTeam)).days\n    nhl_odds_aux.at[index, 'away_rest'] = (row.RealDate - team_to_last_game_played.get(row.AwayTeam)).days\n\n    nhl_odds_aux.at[index, 'home_record'] = team_win_differential_by_year.get(str(row.Year) + str(row.HomeTeam))\n    nhl_odds_aux.at[index, 'away_record'] = team_win_differential_by_year.get(str(row.Year) + str(row.AwayTeam))\n\n\n    team_to_last_game_played.update({row.HomeTeam : row.RealDate})\n    team_to_last_game_played.update({row.AwayTeam : row.RealDate})\n\n    if row.home_point_diff > 0:\n        team_win_differential_by_year.update({str(row.Year) + str(row.HomeTeam):\\\n            team_win_differential_by_year.get(str(row.Year) + str(row.HomeTeam)) + 1})\n        team_win_differential_by_year.update({str(row.Year) + str(row.AwayTeam):\\\n            team_win_differential_by_year.get(str(row.Year) + str(row.AwayTeam)) - 1})\n    else:\n        team_win_differential_by_year.update({str(row.Year) + str(row.HomeTeam):\\\n            team_win_differential_by_year.get(str(row.Year) + str(row.HomeTeam)) - 1})\n        team_win_differential_by_year.update({str(row.Year) + str(row.AwayTeam):\\\n            team_win_differential_by_year.get(str(row.Year) + str(row.AwayTeam)) + 1})\n\n\nnhl_odds_aux",
   "execution_count": 2,
   "outputs": [
    {
     "output_type": "execute_result",
     "execution_count": 2,
     "data": {
      "application/vnd.deepnote.dataframe.v2+json": {
       "row_count": 17533,
       "column_count": 36,
       "columns": [
        {
         "name": "Unnamed: 0",
         "dtype": "int64",
         "stats": {
          "unique_count": 1357,
          "nan_count": 0,
          "min": "0",
          "max": "2714",
          "histogram": [
           {
            "bin_start": 0,
            "bin_end": 271.4,
            "count": 1904
           },
           {
            "bin_start": 271.4,
            "bin_end": 542.8,
            "count": 1904
           },
           {
            "bin_start": 542.8,
            "bin_end": 814.1999999999999,
            "count": 1904
           },
           {
            "bin_start": 814.1999999999999,
            "bin_end": 1085.6,
            "count": 1890
           },
           {
            "bin_start": 1085.6,
            "bin_end": 1357,
            "count": 1904
           },
           {
            "bin_start": 1357,
            "bin_end": 1628.3999999999999,
            "count": 1881
           },
           {
            "bin_start": 1628.3999999999999,
            "bin_end": 1899.7999999999997,
            "count": 1755
           },
           {
            "bin_start": 1899.7999999999997,
            "bin_end": 2171.2,
            "count": 1634
           },
           {
            "bin_start": 2171.2,
            "bin_end": 2442.6,
            "count": 1622
           },
           {
            "bin_start": 2442.6,
            "bin_end": 2714,
            "count": 1135
           }
          ]
         }
        },
        {
         "name": "Date",
         "dtype": "int64",
         "stats": {
          "unique_count": 324,
          "nan_count": 0,
          "min": "101",
          "max": "1231",
          "histogram": [
           {
            "bin_start": 101,
            "bin_end": 214,
            "count": 3679
           },
           {
            "bin_start": 214,
            "bin_end": 327,
            "count": 3833
           },
           {
            "bin_start": 327,
            "bin_end": 440,
            "count": 2242
           },
           {
            "bin_start": 440,
            "bin_end": 553,
            "count": 549
           },
           {
            "bin_start": 553,
            "bin_end": 666,
            "count": 99
           },
           {
            "bin_start": 666,
            "bin_end": 779,
            "count": 3
           },
           {
            "bin_start": 779,
            "bin_end": 892,
            "count": 105
           },
           {
            "bin_start": 892,
            "bin_end": 1005,
            "count": 119
           },
           {
            "bin_start": 1005,
            "bin_end": 1118,
            "count": 3296
           },
           {
            "bin_start": 1118,
            "bin_end": 1231,
            "count": 3608
           }
          ]
         }
        },
        {
         "name": "AwayTeam",
         "dtype": "object",
         "stats": {
          "unique_count": 31,
          "nan_count": 0,
          "categories": [
           {
            "name": "Pittsburgh",
            "count": 622
           },
           {
            "name": "Boston",
            "count": 615
           },
           {
            "name": "29 others",
            "count": 16296
           }
          ]
         }
        },
        {
         "name": "Away1st",
         "dtype": "int64",
         "stats": {
          "unique_count": 7,
          "nan_count": 0,
          "min": "0",
          "max": "6",
          "histogram": [
           {
            "bin_start": 0,
            "bin_end": 0.6,
            "count": 8178
           },
           {
            "bin_start": 0.6,
            "bin_end": 1.2,
            "count": 6276
           },
           {
            "bin_start": 1.2,
            "bin_end": 1.7999999999999998,
            "count": 0
           },
           {
            "bin_start": 1.7999999999999998,
            "bin_end": 2.4,
            "count": 2387
           },
           {
            "bin_start": 2.4,
            "bin_end": 3,
            "count": 0
           },
           {
            "bin_start": 3,
            "bin_end": 3.5999999999999996,
            "count": 586
           },
           {
            "bin_start": 3.5999999999999996,
            "bin_end": 4.2,
            "count": 98
           },
           {
            "bin_start": 4.2,
            "bin_end": 4.8,
            "count": 0
           },
           {
            "bin_start": 4.8,
            "bin_end": 5.3999999999999995,
            "count": 6
           },
           {
            "bin_start": 5.3999999999999995,
            "bin_end": 6,
            "count": 2
           }
          ]
         }
        },
        {
         "name": "Away2nd",
         "dtype": "int64",
         "stats": {
          "unique_count": 8,
          "nan_count": 0,
          "min": "-1",
          "max": "6",
          "histogram": [
           {
            "bin_start": -1,
            "bin_end": -0.30000000000000004,
            "count": 1
           },
           {
            "bin_start": -0.30000000000000004,
            "bin_end": 0.3999999999999999,
            "count": 6884
           },
           {
            "bin_start": 0.3999999999999999,
            "bin_end": 1.0999999999999996,
            "count": 6613
           },
           {
            "bin_start": 1.0999999999999996,
            "bin_end": 1.7999999999999998,
            "count": 0
           },
           {
            "bin_start": 1.7999999999999998,
            "bin_end": 2.5,
            "count": 2937
           },
           {
            "bin_start": 2.5,
            "bin_end": 3.1999999999999993,
            "count": 886
           },
           {
            "bin_start": 3.1999999999999993,
            "bin_end": 3.8999999999999995,
            "count": 0
           },
           {
            "bin_start": 3.8999999999999995,
            "bin_end": 4.6,
            "count": 184
           },
           {
            "bin_start": 4.6,
            "bin_end": 5.3,
            "count": 24
           },
           {
            "bin_start": 5.3,
            "bin_end": 6,
            "count": 4
           }
          ]
         }
        },
        {
         "name": "Away3rd",
         "dtype": "int64"
        },
        {
         "name": "AwayFinal",
         "dtype": "int64"
        },
        {
         "name": "MlAwayOpen",
         "dtype": "float64"
        },
        {
         "name": "MlAwayClose",
         "dtype": "float64"
        },
        {
         "name": "OpenOU",
         "dtype": "float64"
        },
        {
         "name": "OpenOOdds",
         "dtype": "int64"
        },
        {
         "name": "CloseOU",
         "dtype": "float64"
        },
        {
         "name": "CloseOOdds",
         "dtype": "int64"
        },
        {
         "name": "Year",
         "dtype": "int64"
        },
        {
         "name": "HomeTeam",
         "dtype": "object"
        },
        {
         "name": "Home1st",
         "dtype": "float64"
        },
        {
         "name": "Home2nd",
         "dtype": "float64"
        },
        {
         "name": "Home3rd",
         "dtype": "float64"
        },
        {
         "name": "HomeFinal",
         "dtype": "float64"
        },
        {
         "name": "MlHomeOpen",
         "dtype": "float64"
        },
        {
         "name": "MlHomeClose",
         "dtype": "float64"
        },
        {
         "name": "OpenUOdds",
         "dtype": "float64"
        },
        {
         "name": "CloseUOdds",
         "dtype": "float64"
        },
        {
         "name": "home_point_diff",
         "dtype": "float64"
        },
        {
         "name": "away_point_diff",
         "dtype": "float64"
        },
        {
         "name": "ml_away_movement",
         "dtype": "float64"
        },
        {
         "name": "ml_home_movement",
         "dtype": "float64"
        },
        {
         "name": "RealDate",
         "dtype": "datetime64[ns]"
        },
        {
         "name": "home_last_3",
         "dtype": "float64"
        },
        {
         "name": "away_last_3",
         "dtype": "float64"
        },
        {
         "name": "home_last_1",
         "dtype": "float64"
        },
        {
         "name": "away_last_1",
         "dtype": "float64"
        },
        {
         "name": "home_rest",
         "dtype": "float64"
        },
        {
         "name": "away_rest",
         "dtype": "float64"
        },
        {
         "name": "home_record",
         "dtype": "float64"
        },
        {
         "name": "away_record",
         "dtype": "float64"
        },
        {
         "name": "_deepnote_index_column",
         "dtype": "int64"
        }
       ],
       "rows_top": [
        {
         "Unnamed: 0": 0,
         "Date": 929,
         "AwayTeam": "Anaheim",
         "Away1st": 0,
         "Away2nd": 0,
         "Away3rd": 1,
         "AwayFinal": 1,
         "MlAwayOpen": -155,
         "MlAwayClose": -123,
         "OpenOU": 6,
         "OpenOOdds": 100,
         "CloseOU": 6,
         "CloseOOdds": -105,
         "Year": 2008,
         "HomeTeam": "LosAngeles",
         "Home1st": 1,
         "Home2nd": 1,
         "Home3rd": 2,
         "HomeFinal": 4,
         "MlHomeOpen": 135,
         "MlHomeClose": 103,
         "OpenUOdds": -120,
         "CloseUOdds": -115,
         "home_point_diff": 3,
         "away_point_diff": -3,
         "ml_away_movement": 32,
         "ml_home_movement": 258,
         "RealDate": "2007-09-29T00:00:00.000000",
         "home_last_3": 0,
         "away_last_3": 0,
         "home_last_1": 0,
         "away_last_1": 0,
         "home_rest": 90,
         "away_rest": 90,
         "home_record": 0,
         "away_record": 0,
         "_deepnote_index_column": 0
        },
        {
         "Unnamed: 0": 2,
         "Date": 930,
         "AwayTeam": "LosAngeles",
         "Away1st": 0,
         "Away2nd": 1,
         "Away3rd": 0,
         "AwayFinal": 1,
         "MlAwayOpen": 115,
         "MlAwayClose": 132,
         "OpenOU": 6,
         "OpenOOdds": -115,
         "CloseOU": 6,
         "CloseOOdds": 112,
         "Year": 2008,
         "HomeTeam": "Anaheim",
         "Home1st": 2,
         "Home2nd": 2,
         "Home3rd": 0,
         "HomeFinal": 4,
         "MlHomeOpen": -135,
         "MlHomeClose": -152,
         "OpenUOdds": -105,
         "CloseUOdds": -132,
         "home_point_diff": 3,
         "away_point_diff": -3,
         "ml_away_movement": 17,
         "ml_home_movement": -267,
         "RealDate": "2007-09-30T00:00:00.000000",
         "home_last_3": -3,
         "away_last_3": 3,
         "home_last_1": -3,
         "away_last_1": 3,
         "home_rest": 1,
         "away_rest": 1,
         "home_record": -1,
         "away_record": 1,
         "_deepnote_index_column": 1
        },
        {
         "Unnamed: 0": 4,
         "Date": 1003,
         "AwayTeam": "Anaheim",
         "Away1st": 0,
         "Away2nd": 2,
         "Away3rd": 0,
         "AwayFinal": 2,
         "MlAwayOpen": 165,
         "MlAwayClose": 190,
         "OpenOU": 5.5,
         "OpenOOdds": 105,
         "CloseOU": 5.5,
         "CloseOOdds": 120,
         "Year": 2008,
         "HomeTeam": "Detroit",
         "Home1st": 1,
         "Home2nd": 0,
         "Home3rd": 1,
         "HomeFinal": 3,
         "MlHomeOpen": -185,
         "MlHomeClose": -230,
         "OpenUOdds": -125,
         "CloseUOdds": -140,
         "home_point_diff": 1,
         "away_point_diff": -1,
         "ml_away_movement": 25,
         "ml_home_movement": -395,
         "RealDate": "2007-10-03T00:00:00.000000",
         "home_last_3": 0,
         "away_last_3": 0,
         "home_last_1": 0,
         "away_last_1": 3,
         "home_rest": 94,
         "away_rest": 3,
         "home_record": 0,
         "away_record": 0,
         "_deepnote_index_column": 2
        },
        {
         "Unnamed: 0": 6,
         "Date": 1003,
         "AwayTeam": "Montreal",
         "Away1st": 1,
         "Away2nd": 0,
         "Away3rd": 1,
         "AwayFinal": 3,
         "MlAwayOpen": 130,
         "MlAwayClose": 140,
         "OpenOU": 6,
         "OpenOOdds": -105,
         "CloseOU": 6,
         "CloseOOdds": 110,
         "Year": 2008,
         "HomeTeam": "Carolina",
         "Home1st": 1,
         "Home2nd": 0,
         "Home3rd": 1,
         "HomeFinal": 2,
         "MlHomeOpen": -150,
         "MlHomeClose": -160,
         "OpenUOdds": -115,
         "CloseUOdds": -130,
         "home_point_diff": -1,
         "away_point_diff": 1,
         "ml_away_movement": 10,
         "ml_home_movement": -290,
         "RealDate": "2007-10-03T00:00:00.000000",
         "home_last_3": 0,
         "away_last_3": 0,
         "home_last_1": 0,
         "away_last_1": 0,
         "home_rest": 94,
         "away_rest": 94,
         "home_record": 0,
         "away_record": 0,
         "_deepnote_index_column": 3
        },
        {
         "Unnamed: 0": 8,
         "Date": 1003,
         "AwayTeam": "Ottawa",
         "Away1st": 2,
         "Away2nd": 0,
         "Away3rd": 1,
         "AwayFinal": 4,
         "MlAwayOpen": -120,
         "MlAwayClose": -125,
         "OpenOU": 6,
         "OpenOOdds": -120,
         "CloseOU": 6,
         "CloseOOdds": -135,
         "Year": 2008,
         "HomeTeam": "Toronto",
         "Home1st": 2,
         "Home2nd": 1,
         "Home3rd": 0,
         "HomeFinal": 3,
         "MlHomeOpen": 100,
         "MlHomeClose": 105,
         "OpenUOdds": 100,
         "CloseUOdds": 115,
         "home_point_diff": -1,
         "away_point_diff": 1,
         "ml_away_movement": -5,
         "ml_home_movement": 225,
         "RealDate": "2007-10-03T00:00:00.000000",
         "home_last_3": 0,
         "away_last_3": 0,
         "home_last_1": 0,
         "away_last_1": 0,
         "home_rest": 94,
         "away_rest": 94,
         "home_record": 0,
         "away_record": 0,
         "_deepnote_index_column": 4
        },
        {
         "Unnamed: 0": 10,
         "Date": 1003,
         "AwayTeam": "Dallas",
         "Away1st": 0,
         "Away2nd": 1,
         "Away3rd": 2,
         "AwayFinal": 3,
         "MlAwayOpen": 115,
         "MlAwayClose": 135,
         "OpenOU": 5.5,
         "OpenOOdds": -115,
         "CloseOU": 5.5,
         "CloseOOdds": -115,
         "Year": 2008,
         "HomeTeam": "Colorado",
         "Home1st": 1,
         "Home2nd": 3,
         "Home3rd": 0,
         "HomeFinal": 4,
         "MlHomeOpen": -135,
         "MlHomeClose": -155,
         "OpenUOdds": -105,
         "CloseUOdds": -105,
         "home_point_diff": 1,
         "away_point_diff": -1,
         "ml_away_movement": 20,
         "ml_home_movement": -270,
         "RealDate": "2007-10-03T00:00:00.000000",
         "home_last_3": 0,
         "away_last_3": 0,
         "home_last_1": 0,
         "away_last_1": 0,
         "home_rest": 94,
         "away_rest": 94,
         "home_record": 0,
         "away_record": 0,
         "_deepnote_index_column": 5
        },
        {
         "Unnamed: 0": 12,
         "Date": 1004,
         "AwayTeam": "Toronto",
         "Away1st": 0,
         "Away2nd": 2,
         "Away3rd": 0,
         "AwayFinal": 2,
         "MlAwayOpen": 170,
         "MlAwayClose": 150,
         "OpenOU": 6,
         "OpenOOdds": -130,
         "CloseOU": 6,
         "CloseOOdds": -125,
         "Year": 2008,
         "HomeTeam": "Ottawa",
         "Home1st": 1,
         "Home2nd": 1,
         "Home3rd": 1,
         "HomeFinal": 3,
         "MlHomeOpen": -200,
         "MlHomeClose": -170,
         "OpenUOdds": 110,
         "CloseUOdds": 105,
         "home_point_diff": 1,
         "away_point_diff": -1,
         "ml_away_movement": -20,
         "ml_home_movement": -340,
         "RealDate": "2007-10-04T00:00:00.000000",
         "home_last_3": 1,
         "away_last_3": -1,
         "home_last_1": 1,
         "away_last_1": -1,
         "home_rest": 1,
         "away_rest": 1,
         "home_record": 1,
         "away_record": -1,
         "_deepnote_index_column": 6
        },
        {
         "Unnamed: 0": 14,
         "Date": 1004,
         "AwayTeam": "Florida",
         "Away1st": 0,
         "Away2nd": 2,
         "Away3rd": 0,
         "AwayFinal": 2,
         "MlAwayOpen": 160,
         "MlAwayClose": 170,
         "OpenOU": 5.5,
         "OpenOOdds": -105,
         "CloseOU": 5.5,
         "CloseOOdds": 100,
         "Year": 2008,
         "HomeTeam": "NYRangers",
         "Home1st": 1,
         "Home2nd": 0,
         "Home3rd": 4,
         "HomeFinal": 5,
         "MlHomeOpen": -180,
         "MlHomeClose": -190,
         "OpenUOdds": -115,
         "CloseUOdds": -120,
         "home_point_diff": 3,
         "away_point_diff": -3,
         "ml_away_movement": 10,
         "ml_home_movement": -350,
         "RealDate": "2007-10-04T00:00:00.000000",
         "home_last_3": 0,
         "away_last_3": 0,
         "home_last_1": 0,
         "away_last_1": 0,
         "home_rest": 95,
         "away_rest": 95,
         "home_record": 0,
         "away_record": 0,
         "_deepnote_index_column": 7
        },
        {
         "Unnamed: 0": 16,
         "Date": 1004,
         "AwayTeam": "NewJersey",
         "Away1st": 1,
         "Away2nd": 0,
         "Away3rd": 0,
         "AwayFinal": 1,
         "MlAwayOpen": 115,
         "MlAwayClose": 115,
         "OpenOU": 5.5,
         "OpenOOdds": 105,
         "CloseOU": 5.5,
         "CloseOOdds": 120,
         "Year": 2008,
         "HomeTeam": "TampaBay",
         "Home1st": 0,
         "Home2nd": 1,
         "Home3rd": 2,
         "HomeFinal": 3,
         "MlHomeOpen": -135,
         "MlHomeClose": -135,
         "OpenUOdds": -125,
         "CloseUOdds": -140,
         "home_point_diff": 2,
         "away_point_diff": -2,
         "ml_away_movement": 0,
         "ml_home_movement": -250,
         "RealDate": "2007-10-04T00:00:00.000000",
         "home_last_3": 0,
         "away_last_3": 0,
         "home_last_1": 0,
         "away_last_1": 0,
         "home_rest": 95,
         "away_rest": 95,
         "home_record": 0,
         "away_record": 0,
         "_deepnote_index_column": 8
        },
        {
         "Unnamed: 0": 18,
         "Date": 1004,
         "AwayTeam": "Colorado",
         "Away1st": 0,
         "Away2nd": 0,
         "Away3rd": 0,
         "AwayFinal": 0,
         "MlAwayOpen": -105,
         "MlAwayClose": 100,
         "OpenOU": 5.5,
         "OpenOOdds": -130,
         "CloseOU": 5.5,
         "CloseOOdds": -125,
         "Year": 2008,
         "HomeTeam": "Nashville",
         "Home1st": 2,
         "Home2nd": 1,
         "Home3rd": 1,
         "HomeFinal": 4,
         "MlHomeOpen": -115,
         "MlHomeClose": -120,
         "OpenUOdds": 110,
         "CloseUOdds": 105,
         "home_point_diff": 4,
         "away_point_diff": -4,
         "ml_away_movement": 205,
         "ml_home_movement": -15,
         "RealDate": "2007-10-04T00:00:00.000000",
         "home_last_3": 0,
         "away_last_3": 1,
         "home_last_1": 0,
         "away_last_1": 1,
         "home_rest": 95,
         "away_rest": 1,
         "home_record": 0,
         "away_record": 1,
         "_deepnote_index_column": 9
        },
        {
         "Unnamed: 0": 20,
         "Date": 1004,
         "AwayTeam": "Chicago",
         "Away1st": 0,
         "Away2nd": 0,
         "Away3rd": 0,
         "AwayFinal": 0,
         "MlAwayOpen": 175,
         "MlAwayClose": 190,
         "OpenOU": 5,
         "OpenOOdds": -130,
         "CloseOU": 5,
         "CloseOOdds": -135,
         "Year": 2008,
         "HomeTeam": "Minnesota",
         "Home1st": 0,
         "Home2nd": 1,
         "Home3rd": 0,
         "HomeFinal": 1,
         "MlHomeOpen": -205,
         "MlHomeClose": -230,
         "OpenUOdds": 110,
         "CloseUOdds": 115,
         "home_point_diff": 1,
         "away_point_diff": -1,
         "ml_away_movement": 15,
         "ml_home_movement": -405,
         "RealDate": "2007-10-04T00:00:00.000000",
         "home_last_3": 0,
         "away_last_3": 0,
         "home_last_1": 0,
         "away_last_1": 0,
         "home_rest": 95,
         "away_rest": 95,
         "home_record": 0,
         "away_record": 0,
         "_deepnote_index_column": 10
        },
        {
         "Unnamed: 0": 22,
         "Date": 1004,
         "AwayTeam": "SanJose",
         "Away1st": 0,
         "Away2nd": 0,
         "Away3rd": 2,
         "AwayFinal": 2,
         "MlAwayOpen": -135,
         "MlAwayClose": -145,
         "OpenOU": 5.5,
         "OpenOOdds": -110,
         "CloseOU": 5.5,
         "CloseOOdds": 110,
         "Year": 2008,
         "HomeTeam": "Edmonton",
         "Home1st": 0,
         "Home2nd": 0,
         "Home3rd": 2,
         "HomeFinal": 3,
         "MlHomeOpen": 115,
         "MlHomeClose": 125,
         "OpenUOdds": -110,
         "CloseUOdds": -130,
         "home_point_diff": 1,
         "away_point_diff": -1,
         "ml_away_movement": -10,
         "ml_home_movement": 260,
         "RealDate": "2007-10-04T00:00:00.000000",
         "home_last_3": 0,
         "away_last_3": 0,
         "home_last_1": 0,
         "away_last_1": 0,
         "home_rest": 95,
         "away_rest": 95,
         "home_record": 0,
         "away_record": 0,
         "_deepnote_index_column": 11
        },
        {
         "Unnamed: 0": 24,
         "Date": 1004,
         "AwayTeam": "Philadelphia",
         "Away1st": 2,
         "Away2nd": 0,
         "Away3rd": 1,
         "AwayFinal": 3,
         "MlAwayOpen": 155,
         "MlAwayClose": 130,
         "OpenOU": 5.5,
         "OpenOOdds": -110,
         "CloseOU": 5.5,
         "CloseOOdds": -105,
         "Year": 2008,
         "HomeTeam": "Calgary",
         "Home1st": 0,
         "Home2nd": 1,
         "Home3rd": 1,
         "HomeFinal": 2,
         "MlHomeOpen": -175,
         "MlHomeClose": -150,
         "OpenUOdds": -110,
         "CloseUOdds": -115,
         "home_point_diff": -1,
         "away_point_diff": 1,
         "ml_away_movement": -25,
         "ml_home_movement": -305,
         "RealDate": "2007-10-04T00:00:00.000000",
         "home_last_3": 0,
         "away_last_3": 0,
         "home_last_1": 0,
         "away_last_1": 0,
         "home_rest": 95,
         "away_rest": 95,
         "home_record": 0,
         "away_record": 0,
         "_deepnote_index_column": 12
        }
       ],
       "rows_bottom": [
        {
         "Unnamed: 0": 1876,
         "Date": 617,
         "AwayTeam": "TampaBay",
         "Away1st": 1,
         "Away2nd": 1,
         "Away3rd": 0,
         "AwayFinal": 2,
         "MlAwayOpen": -140,
         "MlAwayClose": -129,
         "OpenOU": 5.5,
         "OpenOOdds": 125,
         "CloseOU": 5,
         "CloseOOdds": -135,
         "Year": 2021,
         "HomeTeam": "NYIslanders",
         "Home1st": 0,
         "Home2nd": 1,
         "Home3rd": 0,
         "HomeFinal": 1,
         "MlHomeOpen": 120,
         "MlHomeClose": 119,
         "OpenUOdds": -145,
         "CloseUOdds": 115,
         "home_point_diff": -1,
         "away_point_diff": 1,
         "ml_away_movement": 11,
         "ml_home_movement": 259,
         "RealDate": "2021-06-17T00:00:00.000000",
         "home_last_3": 3,
         "away_last_3": 3,
         "home_last_1": -2,
         "away_last_1": 2,
         "home_rest": 2,
         "away_rest": 2,
         "home_record": 12,
         "away_record": 21,
         "_deepnote_index_column": 17519
        },
        {
         "Unnamed: 0": 1878,
         "Date": 618,
         "AwayTeam": "Vegas",
         "Away1st": 0,
         "Away2nd": 1,
         "Away3rd": 1,
         "AwayFinal": 2,
         "MlAwayOpen": -165,
         "MlAwayClose": -170,
         "OpenOU": 5.5,
         "OpenOOdds": 125,
         "CloseOU": 5,
         "CloseOOdds": -145,
         "Year": 2021,
         "HomeTeam": "Montreal",
         "Home1st": 0,
         "Home2nd": 1,
         "Home3rd": 1,
         "HomeFinal": 3,
         "MlHomeOpen": 140,
         "MlHomeClose": 155,
         "OpenUOdds": -145,
         "CloseUOdds": 125,
         "home_point_diff": 1,
         "away_point_diff": -1,
         "ml_away_movement": -5,
         "ml_home_movement": 320,
         "RealDate": "2021-06-18T00:00:00.000000",
         "home_last_3": -1,
         "away_last_3": 5,
         "home_last_1": 1,
         "away_last_1": -1,
         "home_rest": 2,
         "away_rest": 2,
         "home_record": -3,
         "away_record": 27,
         "_deepnote_index_column": 17520
        },
        {
         "Unnamed: 0": 1880,
         "Date": 619,
         "AwayTeam": "TampaBay",
         "Away1st": 0,
         "Away2nd": 0,
         "Away3rd": 2,
         "AwayFinal": 2,
         "MlAwayOpen": -135,
         "MlAwayClose": -120,
         "OpenOU": 5,
         "OpenOOdds": -125,
         "CloseOU": 5,
         "CloseOOdds": -130,
         "Year": 2021,
         "HomeTeam": "NYIslanders",
         "Home1st": 0,
         "Home2nd": 3,
         "Home3rd": 0,
         "HomeFinal": 3,
         "MlHomeOpen": 115,
         "MlHomeClose": 110,
         "OpenUOdds": 105,
         "CloseUOdds": 110,
         "home_point_diff": 1,
         "away_point_diff": -1,
         "ml_away_movement": 15,
         "ml_home_movement": 245,
         "RealDate": "2021-06-19T00:00:00.000000",
         "home_last_3": -2,
         "away_last_3": 2,
         "home_last_1": -1,
         "away_last_1": 1,
         "home_rest": 2,
         "away_rest": 2,
         "home_record": 11,
         "away_record": 22,
         "_deepnote_index_column": 17521
        },
        {
         "Unnamed: 0": 1882,
         "Date": 620,
         "AwayTeam": "Vegas",
         "Away1st": 0,
         "Away2nd": 0,
         "Away3rd": 1,
         "AwayFinal": 2,
         "MlAwayOpen": -180,
         "MlAwayClose": -170,
         "OpenOU": 5,
         "OpenOOdds": -130,
         "CloseOU": 5.5,
         "CloseOOdds": 120,
         "Year": 2021,
         "HomeTeam": "Montreal",
         "Home1st": 0,
         "Home2nd": 1,
         "Home3rd": 0,
         "HomeFinal": 1,
         "MlHomeOpen": 150,
         "MlHomeClose": 155,
         "OpenUOdds": 110,
         "CloseUOdds": -140,
         "home_point_diff": -1,
         "away_point_diff": 1,
         "ml_away_movement": 10,
         "ml_home_movement": 335,
         "RealDate": "2021-06-20T00:00:00.000000",
         "home_last_3": -1,
         "away_last_3": 1,
         "home_last_1": 1,
         "away_last_1": -1,
         "home_rest": 2,
         "away_rest": 2,
         "home_record": -2,
         "away_record": 26,
         "_deepnote_index_column": 17522
        },
        {
         "Unnamed: 0": 1884,
         "Date": 621,
         "AwayTeam": "NYIslanders",
         "Away1st": 0,
         "Away2nd": 0,
         "Away3rd": 0,
         "AwayFinal": 0,
         "MlAwayOpen": 165,
         "MlAwayClose": 165,
         "OpenOU": 5,
         "OpenOOdds": -135,
         "CloseOU": 5,
         "CloseOOdds": -135,
         "Year": 2021,
         "HomeTeam": "TampaBay",
         "Home1st": 3,
         "Home2nd": 3,
         "Home3rd": 2,
         "HomeFinal": 8,
         "MlHomeOpen": -195,
         "MlHomeClose": -185,
         "OpenUOdds": 115,
         "CloseUOdds": 115,
         "home_point_diff": 8,
         "away_point_diff": -8,
         "ml_away_movement": 0,
         "ml_home_movement": -350,
         "RealDate": "2021-06-21T00:00:00.000000",
         "home_last_3": 2,
         "away_last_3": -2,
         "home_last_1": -1,
         "away_last_1": 1,
         "home_rest": 2,
         "away_rest": 2,
         "home_record": 21,
         "away_record": 12,
         "_deepnote_index_column": 17523
        },
        {
         "Unnamed: 0": 1886,
         "Date": 622,
         "AwayTeam": "Montreal",
         "Away1st": 1,
         "Away2nd": 2,
         "Away3rd": 1,
         "AwayFinal": 4,
         "MlAwayOpen": 205,
         "MlAwayClose": 205,
         "OpenOU": 5,
         "OpenOOdds": -135,
         "CloseOU": 5,
         "CloseOOdds": -135,
         "Year": 2021,
         "HomeTeam": "Vegas",
         "Home1st": 0,
         "Home2nd": 0,
         "Home3rd": 1,
         "HomeFinal": 1,
         "MlHomeOpen": -255,
         "MlHomeClose": -230,
         "OpenUOdds": 115,
         "CloseUOdds": 115,
         "home_point_diff": -3,
         "away_point_diff": 3,
         "ml_away_movement": 0,
         "ml_home_movement": -435,
         "RealDate": "2021-06-22T00:00:00.000000",
         "home_last_3": -1,
         "away_last_3": 1,
         "home_last_1": 1,
         "away_last_1": -1,
         "home_rest": 2,
         "away_rest": 2,
         "home_record": 27,
         "away_record": -3,
         "_deepnote_index_column": 17524
        },
        {
         "Unnamed: 0": 1888,
         "Date": 623,
         "AwayTeam": "TampaBay",
         "Away1st": 1,
         "Away2nd": 1,
         "Away3rd": 0,
         "AwayFinal": 2,
         "MlAwayOpen": -150,
         "MlAwayClose": -140,
         "OpenOU": 5,
         "OpenOOdds": -130,
         "CloseOU": 5,
         "CloseOOdds": -130,
         "Year": 2021,
         "HomeTeam": "NYIslanders",
         "Home1st": 0,
         "Home2nd": 1,
         "Home3rd": 1,
         "HomeFinal": 3,
         "MlHomeOpen": 130,
         "MlHomeClose": 130,
         "OpenUOdds": 110,
         "CloseUOdds": 110,
         "home_point_diff": 1,
         "away_point_diff": -1,
         "ml_away_movement": 10,
         "ml_home_movement": 280,
         "RealDate": "2021-06-23T00:00:00.000000",
         "home_last_3": -8,
         "away_last_3": 8,
         "home_last_1": -8,
         "away_last_1": 8,
         "home_rest": 2,
         "away_rest": 2,
         "home_record": 11,
         "away_record": 22,
         "_deepnote_index_column": 17525
        },
        {
         "Unnamed: 0": 1890,
         "Date": 624,
         "AwayTeam": "Vegas",
         "Away1st": 1,
         "Away2nd": 0,
         "Away3rd": 1,
         "AwayFinal": 2,
         "MlAwayOpen": -140,
         "MlAwayClose": -135,
         "OpenOU": 5,
         "OpenOOdds": -130,
         "CloseOU": 5,
         "CloseOOdds": -130,
         "Year": 2021,
         "HomeTeam": "Montreal",
         "Home1st": 1,
         "Home2nd": 1,
         "Home3rd": 0,
         "HomeFinal": 3,
         "MlHomeOpen": 120,
         "MlHomeClose": 125,
         "OpenUOdds": 110,
         "CloseUOdds": 110,
         "home_point_diff": 1,
         "away_point_diff": -1,
         "ml_away_movement": 5,
         "ml_home_movement": 265,
         "RealDate": "2021-06-24T00:00:00.000000",
         "home_last_3": 3,
         "away_last_3": -3,
         "home_last_1": 3,
         "away_last_1": -3,
         "home_rest": 2,
         "away_rest": 2,
         "home_record": -2,
         "away_record": 26,
         "_deepnote_index_column": 17526
        },
        {
         "Unnamed: 0": 1892,
         "Date": 625,
         "AwayTeam": "NYIslanders",
         "Away1st": 0,
         "Away2nd": 0,
         "Away3rd": 0,
         "AwayFinal": 0,
         "MlAwayOpen": 150,
         "MlAwayClose": 165,
         "OpenOU": 5,
         "OpenOOdds": -130,
         "CloseOU": 5,
         "CloseOOdds": -105,
         "Year": 2021,
         "HomeTeam": "TampaBay",
         "Home1st": 0,
         "Home2nd": 1,
         "Home3rd": 0,
         "HomeFinal": 1,
         "MlHomeOpen": -180,
         "MlHomeClose": -185,
         "OpenUOdds": 110,
         "CloseUOdds": -115,
         "home_point_diff": 1,
         "away_point_diff": -1,
         "ml_away_movement": 15,
         "ml_home_movement": -335,
         "RealDate": "2021-06-25T00:00:00.000000",
         "home_last_3": 6,
         "away_last_3": -6,
         "home_last_1": -1,
         "away_last_1": 1,
         "home_rest": 2,
         "away_rest": 2,
         "home_record": 21,
         "away_record": 12,
         "_deepnote_index_column": 17527
        },
        {
         "Unnamed: 0": 1894,
         "Date": 628,
         "AwayTeam": "Montreal",
         "Away1st": 0,
         "Away2nd": 1,
         "Away3rd": 0,
         "AwayFinal": 1,
         "MlAwayOpen": 185,
         "MlAwayClose": 180,
         "OpenOU": 5,
         "OpenOOdds": -120,
         "CloseOU": 5,
         "CloseOOdds": -125,
         "Year": 2021,
         "HomeTeam": "TampaBay",
         "Home1st": 1,
         "Home2nd": 1,
         "Home3rd": 3,
         "HomeFinal": 5,
         "MlHomeOpen": -225,
         "MlHomeClose": -200,
         "OpenUOdds": 100,
         "CloseUOdds": 105,
         "home_point_diff": 4,
         "away_point_diff": -4,
         "ml_away_movement": -5,
         "ml_home_movement": -385,
         "RealDate": "2021-06-28T00:00:00.000000",
         "home_last_3": 8,
         "away_last_3": 3,
         "home_last_1": 1,
         "away_last_1": 1,
         "home_rest": 3,
         "away_rest": 4,
         "home_record": 22,
         "away_record": -1,
         "_deepnote_index_column": 17528
        },
        {
         "Unnamed: 0": 1896,
         "Date": 630,
         "AwayTeam": "Montreal",
         "Away1st": 0,
         "Away2nd": 1,
         "Away3rd": 0,
         "AwayFinal": 1,
         "MlAwayOpen": 180,
         "MlAwayClose": 177,
         "OpenOU": 5,
         "OpenOOdds": -120,
         "CloseOU": 5,
         "CloseOOdds": -120,
         "Year": 2021,
         "HomeTeam": "TampaBay",
         "Home1st": 0,
         "Home2nd": 2,
         "Home3rd": 1,
         "HomeFinal": 3,
         "MlHomeOpen": -220,
         "MlHomeClose": -197,
         "OpenUOdds": 100,
         "CloseUOdds": 100,
         "home_point_diff": 2,
         "away_point_diff": -2,
         "ml_away_movement": -3,
         "ml_home_movement": -377,
         "RealDate": "2021-06-30T00:00:00.000000",
         "home_last_3": 4,
         "away_last_3": 0,
         "home_last_1": 4,
         "away_last_1": -4,
         "home_rest": 2,
         "away_rest": 2,
         "home_record": 23,
         "away_record": -2,
         "_deepnote_index_column": 17529
        },
        {
         "Unnamed: 0": 1898,
         "Date": 702,
         "AwayTeam": "TampaBay",
         "Away1st": 2,
         "Away2nd": 2,
         "Away3rd": 2,
         "AwayFinal": 6,
         "MlAwayOpen": -145,
         "MlAwayClose": -123,
         "OpenOU": 5,
         "OpenOOdds": -120,
         "CloseOU": 5,
         "CloseOOdds": -120,
         "Year": 2021,
         "HomeTeam": "Montreal",
         "Home1st": 1,
         "Home2nd": 1,
         "Home3rd": 1,
         "HomeFinal": 3,
         "MlHomeOpen": 125,
         "MlHomeClose": 113,
         "OpenUOdds": 100,
         "CloseUOdds": 100,
         "home_point_diff": -3,
         "away_point_diff": 3,
         "ml_away_movement": 22,
         "ml_home_movement": 258,
         "RealDate": "2021-07-02T00:00:00.000000",
         "home_last_3": -5,
         "away_last_3": 7,
         "home_last_1": -2,
         "away_last_1": 2,
         "home_rest": 2,
         "away_rest": 2,
         "home_record": -3,
         "away_record": 24,
         "_deepnote_index_column": 17530
        },
        {
         "Unnamed: 0": 1900,
         "Date": 705,
         "AwayTeam": "TampaBay",
         "Away1st": 0,
         "Away2nd": 1,
         "Away3rd": 1,
         "AwayFinal": 2,
         "MlAwayOpen": -145,
         "MlAwayClose": -150,
         "OpenOU": 5,
         "OpenOOdds": -135,
         "CloseOU": 5,
         "CloseOOdds": -140,
         "Year": 2021,
         "HomeTeam": "Montreal",
         "Home1st": 1,
         "Home2nd": 0,
         "Home3rd": 1,
         "HomeFinal": 3,
         "MlHomeOpen": 125,
         "MlHomeClose": 135,
         "OpenUOdds": 115,
         "CloseUOdds": 120,
         "home_point_diff": 1,
         "away_point_diff": -1,
         "ml_away_movement": -5,
         "ml_home_movement": 280,
         "RealDate": "2021-07-05T00:00:00.000000",
         "home_last_3": -9,
         "away_last_3": 9,
         "home_last_1": -3,
         "away_last_1": 3,
         "home_rest": 3,
         "away_rest": 3,
         "home_record": -4,
         "away_record": 25,
         "_deepnote_index_column": 17531
        },
        {
         "Unnamed: 0": 1902,
         "Date": 707,
         "AwayTeam": "Montreal",
         "Away1st": 0,
         "Away2nd": 0,
         "Away3rd": 0,
         "AwayFinal": 0,
         "MlAwayOpen": 180,
         "MlAwayClose": 215,
         "OpenOU": 5,
         "OpenOOdds": -120,
         "CloseOU": 5,
         "CloseOOdds": -140,
         "Year": 2021,
         "HomeTeam": "TampaBay",
         "Home1st": 0,
         "Home2nd": 1,
         "Home3rd": 0,
         "HomeFinal": 1,
         "MlHomeOpen": -220,
         "MlHomeClose": -245,
         "OpenUOdds": 100,
         "CloseUOdds": 120,
         "home_point_diff": 1,
         "away_point_diff": -1,
         "ml_away_movement": 35,
         "ml_home_movement": -425,
         "RealDate": "2021-07-07T00:00:00.000000",
         "home_last_3": 4,
         "away_last_3": -4,
         "home_last_1": -1,
         "away_last_1": 1,
         "home_rest": 2,
         "away_rest": 2,
         "home_record": 24,
         "away_record": -3,
         "_deepnote_index_column": 17532
        }
       ]
      },
      "text/plain": "       Unnamed: 0  Date    AwayTeam  Away1st  Away2nd  Away3rd  AwayFinal  \\\n0               0   929     Anaheim        0        0        1          1   \n1               2   930  LosAngeles        0        1        0          1   \n2               4  1003     Anaheim        0        2        0          2   \n3               6  1003    Montreal        1        0        1          3   \n4               8  1003      Ottawa        2        0        1          4   \n...           ...   ...         ...      ...      ...      ...        ...   \n17528        1894   628    Montreal        0        1        0          1   \n17529        1896   630    Montreal        0        1        0          1   \n17530        1898   702    TampaBay        2        2        2          6   \n17531        1900   705    TampaBay        0        1        1          2   \n17532        1902   707    Montreal        0        0        0          0   \n\n       MlAwayOpen  MlAwayClose  OpenOU  ...  ml_home_movement   RealDate  \\\n0          -155.0       -123.0     6.0  ...             258.0 2007-09-29   \n1           115.0        132.0     6.0  ...            -267.0 2007-09-30   \n2           165.0        190.0     5.5  ...            -395.0 2007-10-03   \n3           130.0        140.0     6.0  ...            -290.0 2007-10-03   \n4          -120.0       -125.0     6.0  ...             225.0 2007-10-03   \n...           ...          ...     ...  ...               ...        ...   \n17528       185.0        180.0     5.0  ...            -385.0 2021-06-28   \n17529       180.0        177.0     5.0  ...            -377.0 2021-06-30   \n17530      -145.0       -123.0     5.0  ...             258.0 2021-07-02   \n17531      -145.0       -150.0     5.0  ...             280.0 2021-07-05   \n17532       180.0        215.0     5.0  ...            -425.0 2021-07-07   \n\n       home_last_3  away_last_3 home_last_1  away_last_1  home_rest  \\\n0              0.0          0.0         0.0          0.0       90.0   \n1             -3.0          3.0        -3.0          3.0        1.0   \n2              0.0          0.0         0.0          3.0       94.0   \n3              0.0          0.0         0.0          0.0       94.0   \n4              0.0          0.0         0.0          0.0       94.0   \n...            ...          ...         ...          ...        ...   \n17528          8.0          3.0         1.0          1.0        3.0   \n17529          4.0          0.0         4.0         -4.0        2.0   \n17530         -5.0          7.0        -2.0          2.0        2.0   \n17531         -9.0          9.0        -3.0          3.0        3.0   \n17532          4.0         -4.0        -1.0          1.0        2.0   \n\n       away_rest  home_record  away_record  \n0           90.0          0.0          0.0  \n1            1.0         -1.0          1.0  \n2            3.0          0.0          0.0  \n3           94.0          0.0          0.0  \n4           94.0          0.0          0.0  \n...          ...          ...          ...  \n17528        4.0         22.0         -1.0  \n17529        2.0         23.0         -2.0  \n17530        2.0         -3.0         24.0  \n17531        3.0         -4.0         25.0  \n17532        2.0         24.0         -3.0  \n\n[17533 rows x 36 columns]",
      "text/html": "<div>\n<style scoped>\n    .dataframe tbody tr th:only-of-type {\n        vertical-align: middle;\n    }\n\n    .dataframe tbody tr th {\n        vertical-align: top;\n    }\n\n    .dataframe thead th {\n        text-align: right;\n    }\n</style>\n<table border=\"1\" class=\"dataframe\">\n  <thead>\n    <tr style=\"text-align: right;\">\n      <th></th>\n      <th>Unnamed: 0</th>\n      <th>Date</th>\n      <th>AwayTeam</th>\n      <th>Away1st</th>\n      <th>Away2nd</th>\n      <th>Away3rd</th>\n      <th>AwayFinal</th>\n      <th>MlAwayOpen</th>\n      <th>MlAwayClose</th>\n      <th>OpenOU</th>\n      <th>...</th>\n      <th>ml_home_movement</th>\n      <th>RealDate</th>\n      <th>home_last_3</th>\n      <th>away_last_3</th>\n      <th>home_last_1</th>\n      <th>away_last_1</th>\n      <th>home_rest</th>\n      <th>away_rest</th>\n      <th>home_record</th>\n      <th>away_record</th>\n    </tr>\n  </thead>\n  <tbody>\n    <tr>\n      <th>0</th>\n      <td>0</td>\n      <td>929</td>\n      <td>Anaheim</td>\n      <td>0</td>\n      <td>0</td>\n      <td>1</td>\n      <td>1</td>\n      <td>-155.0</td>\n      <td>-123.0</td>\n      <td>6.0</td>\n      <td>...</td>\n      <td>258.0</td>\n      <td>2007-09-29</td>\n      <td>0.0</td>\n      <td>0.0</td>\n      <td>0.0</td>\n      <td>0.0</td>\n      <td>90.0</td>\n      <td>90.0</td>\n      <td>0.0</td>\n      <td>0.0</td>\n    </tr>\n    <tr>\n      <th>1</th>\n      <td>2</td>\n      <td>930</td>\n      <td>LosAngeles</td>\n      <td>0</td>\n      <td>1</td>\n      <td>0</td>\n      <td>1</td>\n      <td>115.0</td>\n      <td>132.0</td>\n      <td>6.0</td>\n      <td>...</td>\n      <td>-267.0</td>\n      <td>2007-09-30</td>\n      <td>-3.0</td>\n      <td>3.0</td>\n      <td>-3.0</td>\n      <td>3.0</td>\n      <td>1.0</td>\n      <td>1.0</td>\n      <td>-1.0</td>\n      <td>1.0</td>\n    </tr>\n    <tr>\n      <th>2</th>\n      <td>4</td>\n      <td>1003</td>\n      <td>Anaheim</td>\n      <td>0</td>\n      <td>2</td>\n      <td>0</td>\n      <td>2</td>\n      <td>165.0</td>\n      <td>190.0</td>\n      <td>5.5</td>\n      <td>...</td>\n      <td>-395.0</td>\n      <td>2007-10-03</td>\n      <td>0.0</td>\n      <td>0.0</td>\n      <td>0.0</td>\n      <td>3.0</td>\n      <td>94.0</td>\n      <td>3.0</td>\n      <td>0.0</td>\n      <td>0.0</td>\n    </tr>\n    <tr>\n      <th>3</th>\n      <td>6</td>\n      <td>1003</td>\n      <td>Montreal</td>\n      <td>1</td>\n      <td>0</td>\n      <td>1</td>\n      <td>3</td>\n      <td>130.0</td>\n      <td>140.0</td>\n      <td>6.0</td>\n      <td>...</td>\n      <td>-290.0</td>\n      <td>2007-10-03</td>\n      <td>0.0</td>\n      <td>0.0</td>\n      <td>0.0</td>\n      <td>0.0</td>\n      <td>94.0</td>\n      <td>94.0</td>\n      <td>0.0</td>\n      <td>0.0</td>\n    </tr>\n    <tr>\n      <th>4</th>\n      <td>8</td>\n      <td>1003</td>\n      <td>Ottawa</td>\n      <td>2</td>\n      <td>0</td>\n      <td>1</td>\n      <td>4</td>\n      <td>-120.0</td>\n      <td>-125.0</td>\n      <td>6.0</td>\n      <td>...</td>\n      <td>225.0</td>\n      <td>2007-10-03</td>\n      <td>0.0</td>\n      <td>0.0</td>\n      <td>0.0</td>\n      <td>0.0</td>\n      <td>94.0</td>\n      <td>94.0</td>\n      <td>0.0</td>\n      <td>0.0</td>\n    </tr>\n    <tr>\n      <th>...</th>\n      <td>...</td>\n      <td>...</td>\n      <td>...</td>\n      <td>...</td>\n      <td>...</td>\n      <td>...</td>\n      <td>...</td>\n      <td>...</td>\n      <td>...</td>\n      <td>...</td>\n      <td>...</td>\n      <td>...</td>\n      <td>...</td>\n      <td>...</td>\n      <td>...</td>\n      <td>...</td>\n      <td>...</td>\n      <td>...</td>\n      <td>...</td>\n      <td>...</td>\n      <td>...</td>\n    </tr>\n    <tr>\n      <th>17528</th>\n      <td>1894</td>\n      <td>628</td>\n      <td>Montreal</td>\n      <td>0</td>\n      <td>1</td>\n      <td>0</td>\n      <td>1</td>\n      <td>185.0</td>\n      <td>180.0</td>\n      <td>5.0</td>\n      <td>...</td>\n      <td>-385.0</td>\n      <td>2021-06-28</td>\n      <td>8.0</td>\n      <td>3.0</td>\n      <td>1.0</td>\n      <td>1.0</td>\n      <td>3.0</td>\n      <td>4.0</td>\n      <td>22.0</td>\n      <td>-1.0</td>\n    </tr>\n    <tr>\n      <th>17529</th>\n      <td>1896</td>\n      <td>630</td>\n      <td>Montreal</td>\n      <td>0</td>\n      <td>1</td>\n      <td>0</td>\n      <td>1</td>\n      <td>180.0</td>\n      <td>177.0</td>\n      <td>5.0</td>\n      <td>...</td>\n      <td>-377.0</td>\n      <td>2021-06-30</td>\n      <td>4.0</td>\n      <td>0.0</td>\n      <td>4.0</td>\n      <td>-4.0</td>\n      <td>2.0</td>\n      <td>2.0</td>\n      <td>23.0</td>\n      <td>-2.0</td>\n    </tr>\n    <tr>\n      <th>17530</th>\n      <td>1898</td>\n      <td>702</td>\n      <td>TampaBay</td>\n      <td>2</td>\n      <td>2</td>\n      <td>2</td>\n      <td>6</td>\n      <td>-145.0</td>\n      <td>-123.0</td>\n      <td>5.0</td>\n      <td>...</td>\n      <td>258.0</td>\n      <td>2021-07-02</td>\n      <td>-5.0</td>\n      <td>7.0</td>\n      <td>-2.0</td>\n      <td>2.0</td>\n      <td>2.0</td>\n      <td>2.0</td>\n      <td>-3.0</td>\n      <td>24.0</td>\n    </tr>\n    <tr>\n      <th>17531</th>\n      <td>1900</td>\n      <td>705</td>\n      <td>TampaBay</td>\n      <td>0</td>\n      <td>1</td>\n      <td>1</td>\n      <td>2</td>\n      <td>-145.0</td>\n      <td>-150.0</td>\n      <td>5.0</td>\n      <td>...</td>\n      <td>280.0</td>\n      <td>2021-07-05</td>\n      <td>-9.0</td>\n      <td>9.0</td>\n      <td>-3.0</td>\n      <td>3.0</td>\n      <td>3.0</td>\n      <td>3.0</td>\n      <td>-4.0</td>\n      <td>25.0</td>\n    </tr>\n    <tr>\n      <th>17532</th>\n      <td>1902</td>\n      <td>707</td>\n      <td>Montreal</td>\n      <td>0</td>\n      <td>0</td>\n      <td>0</td>\n      <td>0</td>\n      <td>180.0</td>\n      <td>215.0</td>\n      <td>5.0</td>\n      <td>...</td>\n      <td>-425.0</td>\n      <td>2021-07-07</td>\n      <td>4.0</td>\n      <td>-4.0</td>\n      <td>-1.0</td>\n      <td>1.0</td>\n      <td>2.0</td>\n      <td>2.0</td>\n      <td>24.0</td>\n      <td>-3.0</td>\n    </tr>\n  </tbody>\n</table>\n<p>17533 rows × 36 columns</p>\n</div>"
     },
     "metadata": {}
    }
   ]
  },
  {
   "cell_type": "code",
   "metadata": {
    "tags": [],
    "deepnote_to_be_reexecuted": false,
    "source_hash": "679ef8d1",
    "execution_start": 1634398686259,
    "execution_millis": 54,
    "cell_id": "00003-5a56f160-70a7-40f0-acc0-e892dfd4e1f3",
    "deepnote_cell_type": "code"
   },
   "source": "nhl_odds_no_leak = nhl_odds_aux\nnhl_odds_leak = nhl_odds_aux\n\n# Generate hold-out data (2020/2021 seasons)\nnhl_odds_no_leak_2020 = nhl_odds_aux\nnhl_odds_2020_2021 = nhl_odds_aux\n\nnhl_odds_no_leak = nhl_odds_no_leak.drop(nhl_odds_no_leak[nhl_odds_no_leak.Year >= 2020].index)\nnhl_odds_leak = nhl_odds_leak.drop(nhl_odds_leak[nhl_odds_leak.Year >= 2020].index)\nnhl_odds_no_leak_2020 = nhl_odds_no_leak_2020.drop(nhl_odds_no_leak_2020[nhl_odds_no_leak_2020.Year < 2020].index)\nnhl_odds_2020_2021 = nhl_odds_2020_2021.drop(nhl_odds_2020_2021[nhl_odds_2020_2021.Year < 2020].index)\n\n\n# Drop columns that will cause data leakage or are otherwise irrelevant\n# We can also drop the ML Open because it can be inferred from MLClose and MLMovement\n\nnhl_odds_no_leak.drop(columns=['Unnamed: 0', 'Date', 'AwayTeam', 'HomeTeam', 'Away1st', 'Away2nd', 'Away3rd', 'AwayFinal',\\\n    'Home1st', 'Home2nd', 'Home3rd', 'HomeFinal', 'home_point_diff', 'RealDate', 'Year', 'MlAwayOpen', 'MlHomeOpen'], inplace=True)\nnhl_odds_no_leak_2020.drop(columns=['Unnamed: 0', 'Date', 'AwayTeam', 'HomeTeam', 'Away1st', 'Away2nd', 'Away3rd', 'AwayFinal',\\\n    'Home1st', 'Home2nd', 'Home3rd', 'HomeFinal', 'home_point_diff', 'RealDate', 'Year', 'MlAwayOpen', 'MlHomeOpen'], inplace=True)\n\n# Based on permutation importance dropping some other columns that are not important\n'''\nnhl_odds_no_leak.drop(columns=['home_record', 'away_record', 'CloseUOdds', 'away_last_1', 'away_rest', 'home_last_3',\\\n    'OpenOU', 'home_last_1', 'MlHomeOpen','OpenUOdds', 'CloseOU'], inplace=True)\nnhl_odds_no_leak_2020.drop(columns=['home_record', 'away_record', 'CloseUOdds', 'away_last_1', 'away_rest', 'home_last_3',\\\n    'OpenOU', 'home_last_1', 'MlHomeOpen','OpenUOdds', 'CloseOU'], inplace=True)\n'''\n\n\n'''\nWeight \tFeature\n0.0538 ± 0.0124 \tml_home_movement\n0.0469 ± 0.0080 \tMlHomeClose\n0.0357 ± 0.0065 \tMlAwayClose\n0.0050 ± 0.0032 \tMlAwayOpen\n0.0024 ± 0.0019 \tml_away_movement\n0.0013 ± 0.0020 \taway_last_3\n0.0007 ± 0.0018 \thome_record\n0.0006 ± 0.0014 \taway_record\n0.0005 ± 0.0013 \tCloseUOdds\n0.0005 ± 0.0024 \taway_last_1\n0.0004 ± 0.0009 \taway_rest\n0.0001 ± 0.0015 \thome_last_3\n-0.0000 ± 0.0012 \tYear\n-0.0001 ± 0.0003 \tOpenOU\n-0.0003 ± 0.0015 \thome_last_1\n-0.0004 ± 0.0015 \tMlHomeOpen\n-0.0004 ± 0.0004 \tOpenUOdds\n-0.0006 ± 0.0007 \tCloseOU\n-0.0008 ± 0.0012 \tOpenOOdds\n-0.0011 ± 0.0020 \tCloseOOdds \n'''\n",
   "execution_count": 3,
   "outputs": [
    {
     "output_type": "execute_result",
     "execution_count": 3,
     "data": {
      "text/plain": "'\\nWeight \\tFeature\\n0.0538 ± 0.0124 \\tml_home_movement\\n0.0469 ± 0.0080 \\tMlHomeClose\\n0.0357 ± 0.0065 \\tMlAwayClose\\n0.0050 ± 0.0032 \\tMlAwayOpen\\n0.0024 ± 0.0019 \\tml_away_movement\\n0.0013 ± 0.0020 \\taway_last_3\\n0.0007 ± 0.0018 \\thome_record\\n0.0006 ± 0.0014 \\taway_record\\n0.0005 ± 0.0013 \\tCloseUOdds\\n0.0005 ± 0.0024 \\taway_last_1\\n0.0004 ± 0.0009 \\taway_rest\\n0.0001 ± 0.0015 \\thome_last_3\\n-0.0000 ± 0.0012 \\tYear\\n-0.0001 ± 0.0003 \\tOpenOU\\n-0.0003 ± 0.0015 \\thome_last_1\\n-0.0004 ± 0.0015 \\tMlHomeOpen\\n-0.0004 ± 0.0004 \\tOpenUOdds\\n-0.0006 ± 0.0007 \\tCloseOU\\n-0.0008 ± 0.0012 \\tOpenOOdds\\n-0.0011 ± 0.0020 \\tCloseOOdds \\n'"
     },
     "metadata": {}
    }
   ]
  },
  {
   "cell_type": "code",
   "metadata": {
    "tags": [],
    "deepnote_to_be_reexecuted": false,
    "source_hash": "98e6e8c",
    "execution_start": 1634398686310,
    "execution_millis": 952,
    "cell_id": "00004-45b34696-6050-46ef-b2b8-f203e89a2624",
    "deepnote_cell_type": "code"
   },
   "source": "# Correlation\ncorr = nhl_odds_no_leak.corr()\nplt.figure(figsize=(20,20))\nax = sns.heatmap(\n    corr, \n    vmin=-1, vmax=1, center=0,\n    cmap=sns.diverging_palette(20, 220, n=200),\n    square=True\n)\nax.set_xticklabels(\n    ax.get_xticklabels(),\n    rotation=45,\n    horizontalalignment='right'\n)",
   "execution_count": 4,
   "outputs": [
    {
     "output_type": "execute_result",
     "execution_count": 4,
     "data": {
      "text/plain": "[Text(0.5, 0, 'MlAwayClose'),\n Text(1.5, 0, 'OpenOU'),\n Text(2.5, 0, 'OpenOOdds'),\n Text(3.5, 0, 'CloseOU'),\n Text(4.5, 0, 'CloseOOdds'),\n Text(5.5, 0, 'MlHomeClose'),\n Text(6.5, 0, 'OpenUOdds'),\n Text(7.5, 0, 'CloseUOdds'),\n Text(8.5, 0, 'away_point_diff'),\n Text(9.5, 0, 'ml_away_movement'),\n Text(10.5, 0, 'ml_home_movement'),\n Text(11.5, 0, 'home_last_3'),\n Text(12.5, 0, 'away_last_3'),\n Text(13.5, 0, 'home_last_1'),\n Text(14.5, 0, 'away_last_1'),\n Text(15.5, 0, 'home_rest'),\n Text(16.5, 0, 'away_rest'),\n Text(17.5, 0, 'home_record'),\n Text(18.5, 0, 'away_record')]"
     },
     "metadata": {}
    },
    {
     "data": {
      "text/plain": "<Figure size 1440x1440 with 2 Axes>",
      "image/png": "[encoded data removed]"
     },
     "metadata": {
      "needs_background": "light",
      "image/png": {
       "width": 1166,
       "height": 1111
      }
     },
     "output_type": "display_data"
    }
   ]
  },
  {
   "cell_type": "code",
   "metadata": {
    "tags": [],
    "deepnote_to_be_reexecuted": false,
    "source_hash": "13e22538",
    "execution_start": 1634398687161,
    "execution_millis": 249899,
    "cell_id": "00005-c10e547c-3df6-4914-b8f4-14c34ad40849",
    "deepnote_cell_type": "code"
   },
   "source": "# Regressor\n\ntrain_data = nhl_odds_no_leak.drop(['away_point_diff'], axis=1)\ntarget_label = nhl_odds_no_leak['away_point_diff']\n\nn_features = train_data.shape[1]\nx_train, x_test, y_train, y_test = train_test_split(train_data, target_label, test_size = 0.30)\n'''\nparameters = {\n    \"n_estimators\":[25, 50,100],\n    \"max_depth\":[5,7, 10,],\n    \"learning_rate\":[0.01,0.1,1]\n}\n\n\n\ndef display(results):\n    print(f'Best parameters are: {results.best_params_}')\n    print(\"\\n\")\n    mean_score = results.cv_results_['mean_test_score']\n    std_score = results.cv_results_['std_test_score']\n    params = results.cv_results_['params']\n    for mean,std,params in zip(mean_score,std_score,params):\n        print(f'{round(mean,3)} + or -{round(std,3)} for the {params}')\n\ngbc = ensemble.GradientBoostingRegressor()\n\ncv = GridSearchCV(gbc,parameters,cv=5)\n\n\n\ndisplay(cv)\n\n'''\nclf = ensemble.GradientBoostingRegressor(n_estimators=50, random_state=0)\nspace  = [Integer(1, 15, name='max_depth'),\n          Real(10**-5, 10**0, \"log-uniform\", name='learning_rate'),\n          Integer(1, n_features, name='max_features'),\n          Integer(2, 100, name='min_samples_split'),\n          Integer(1, 100, name='min_samples_leaf')]\n\n@use_named_args(space)\ndef objective(**params):\n    clf.set_params(**params)\n\n    return -np.mean(cross_val_score(clf, x_train, y_train, cv=5, n_jobs=-1,\n                                    scoring=\"neg_mean_absolute_error\"))\n\nclf_gp = gp_minimize(objective, space, n_calls=50, random_state=0)\n\nprint(clf_gp.fun)\nprint(\"\"\"Best parameters:\n- max_depth=%d\n- learning_rate=%.6f\n- max_features=%d\n- min_samples_split=%d\n- min_samples_leaf=%d\"\"\" % (clf_gp.x[0], clf_gp.x[1],\n                            clf_gp.x[2], clf_gp.x[3],\n                            clf_gp.x[4]))\n\n                        \n'''\n1.9638614306335704\nBest parameters:\n- max_depth=1\n- learning_rate=0.314313\n- max_features=10\n- min_samples_split=34\n- min_samples_leaf=100\n'''",
   "execution_count": 5,
   "outputs": [
    {
     "name": "stdout",
     "text": "1.9652713346477462\nBest parameters:\n- max_depth=2\n- learning_rate=0.164879\n- max_features=18\n- min_samples_split=64\n- min_samples_leaf=97\n",
     "output_type": "stream"
    },
    {
     "output_type": "execute_result",
     "execution_count": 5,
     "data": {
      "text/plain": "'\\n1.9638614306335704\\nBest parameters:\\n- max_depth=1\\n- learning_rate=0.314313\\n- max_features=10\\n- min_samples_split=34\\n- min_samples_leaf=100\\n'"
     },
     "metadata": {}
    }
   ]
  },
  {
   "cell_type": "code",
   "metadata": {
    "tags": [],
    "deepnote_to_be_reexecuted": false,
    "source_hash": "dc9cced3",
    "execution_start": 1634398937056,
    "execution_millis": 392,
    "cell_id": "00006-fdf13987-2ab8-4c3c-9cb6-6f90ce13c09b",
    "deepnote_cell_type": "code"
   },
   "source": "train_data2 = nhl_odds_no_leak.drop(['away_point_diff'], axis=1)\ntarget_label2 =  nhl_odds_no_leak['away_point_diff']\n\nclf.fit(x_train, y_train)\n\ny_pred_full = clf.predict(train_data2)\n\n\nnhl_odds_leak[\"predicted_diff\"] = y_pred_full\nnhl_odds_leak",
   "execution_count": 6,
   "outputs": [
    {
     "output_type": "execute_result",
     "execution_count": 6,
     "data": {
      "application/vnd.deepnote.dataframe.v2+json": {
       "row_count": 15371,
       "column_count": 37,
       "columns": [
        {
         "name": "Unnamed: 0",
         "dtype": "int64",
         "stats": {
          "unique_count": 1357,
          "nan_count": 0,
          "min": "0",
          "max": "2714",
          "histogram": [
           {
            "bin_start": 0,
            "bin_end": 271.4,
            "count": 1632
           },
           {
            "bin_start": 271.4,
            "bin_end": 542.8,
            "count": 1632
           },
           {
            "bin_start": 542.8,
            "bin_end": 814.1999999999999,
            "count": 1632
           },
           {
            "bin_start": 814.1999999999999,
            "bin_end": 1085.6,
            "count": 1620
           },
           {
            "bin_start": 1085.6,
            "bin_end": 1357,
            "count": 1632
           },
           {
            "bin_start": 1357,
            "bin_end": 1628.3999999999999,
            "count": 1611
           },
           {
            "bin_start": 1628.3999999999999,
            "bin_end": 1899.7999999999997,
            "count": 1485
           },
           {
            "bin_start": 1899.7999999999997,
            "bin_end": 2171.2,
            "count": 1496
           },
           {
            "bin_start": 2171.2,
            "bin_end": 2442.6,
            "count": 1496
           },
           {
            "bin_start": 2442.6,
            "bin_end": 2714,
            "count": 1135
           }
          ]
         }
        },
        {
         "name": "Date",
         "dtype": "int64",
         "stats": {
          "unique_count": 262,
          "nan_count": 0,
          "min": "101",
          "max": "1231",
          "histogram": [
           {
            "bin_start": 101,
            "bin_end": 214,
            "count": 3206
           },
           {
            "bin_start": 214,
            "bin_end": 327,
            "count": 3338
           },
           {
            "bin_start": 327,
            "bin_end": 440,
            "count": 1984
           },
           {
            "bin_start": 440,
            "bin_end": 553,
            "count": 403
           },
           {
            "bin_start": 553,
            "bin_end": 666,
            "count": 67
           },
           {
            "bin_start": 666,
            "bin_end": 779,
            "count": 0
           },
           {
            "bin_start": 779,
            "bin_end": 892,
            "count": 0
           },
           {
            "bin_start": 892,
            "bin_end": 1005,
            "count": 77
           },
           {
            "bin_start": 1005,
            "bin_end": 1118,
            "count": 2998
           },
           {
            "bin_start": 1118,
            "bin_end": 1231,
            "count": 3298
           }
          ]
         }
        },
        {
         "name": "AwayTeam",
         "dtype": "object",
         "stats": {
          "unique_count": 31,
          "nan_count": 0,
          "categories": [
           {
            "name": "Pittsburgh",
            "count": 556
           },
           {
            "name": "SanJose",
            "count": 541
           },
           {
            "name": "29 others",
            "count": 14274
           }
          ]
         }
        },
        {
         "name": "Away1st",
         "dtype": "int64",
         "stats": {
          "unique_count": 7,
          "nan_count": 0,
          "min": "0",
          "max": "6",
          "histogram": [
           {
            "bin_start": 0,
            "bin_end": 0.6,
            "count": 7234
           },
           {
            "bin_start": 0.6,
            "bin_end": 1.2,
            "count": 5478
           },
           {
            "bin_start": 1.2,
            "bin_end": 1.7999999999999998,
            "count": 0
           },
           {
            "bin_start": 1.7999999999999998,
            "bin_end": 2.4,
            "count": 2060
           },
           {
            "bin_start": 2.4,
            "bin_end": 3,
            "count": 0
           },
           {
            "bin_start": 3,
            "bin_end": 3.5999999999999996,
            "count": 506
           },
           {
            "bin_start": 3.5999999999999996,
            "bin_end": 4.2,
            "count": 85
           },
           {
            "bin_start": 4.2,
            "bin_end": 4.8,
            "count": 0
           },
           {
            "bin_start": 4.8,
            "bin_end": 5.3999999999999995,
            "count": 6
           },
           {
            "bin_start": 5.3999999999999995,
            "bin_end": 6,
            "count": 2
           }
          ]
         }
        },
        {
         "name": "Away2nd",
         "dtype": "int64",
         "stats": {
          "unique_count": 8,
          "nan_count": 0,
          "min": "-1",
          "max": "6",
          "histogram": [
           {
            "bin_start": -1,
            "bin_end": -0.30000000000000004,
            "count": 1
           },
           {
            "bin_start": -0.30000000000000004,
            "bin_end": 0.3999999999999999,
            "count": 6101
           },
           {
            "bin_start": 0.3999999999999999,
            "bin_end": 1.0999999999999996,
            "count": 5756
           },
           {
            "bin_start": 1.0999999999999996,
            "bin_end": 1.7999999999999998,
            "count": 0
           },
           {
            "bin_start": 1.7999999999999998,
            "bin_end": 2.5,
            "count": 2564
           },
           {
            "bin_start": 2.5,
            "bin_end": 3.1999999999999993,
            "count": 770
           },
           {
            "bin_start": 3.1999999999999993,
            "bin_end": 3.8999999999999995,
            "count": 0
           },
           {
            "bin_start": 3.8999999999999995,
            "bin_end": 4.6,
            "count": 153
           },
           {
            "bin_start": 4.6,
            "bin_end": 5.3,
            "count": 22
           },
           {
            "bin_start": 5.3,
            "bin_end": 6,
            "count": 4
           }
          ]
         }
        },
        {
         "name": "Away3rd",
         "dtype": "int64",
         "stats": {
          "unique_count": 7,
          "nan_count": 0,
          "min": "0",
          "max": "7",
          "histogram": [
           {
            "bin_start": 0,
            "bin_end": 0.7,
            "count": 6244
           },
           {
            "bin_start": 0.7,
            "bin_end": 1.4,
            "count": 5620
           },
           {
            "bin_start": 1.4,
            "bin_end": 2.0999999999999996,
            "count": 2571
           },
           {
            "bin_start": 2.0999999999999996,
            "bin_end": 2.8,
            "count": 0
           },
           {
            "bin_start": 2.8,
            "bin_end": 3.5,
            "count": 754
           },
           {
            "bin_start": 3.5,
            "bin_end": 4.199999999999999,
            "count": 164
           },
           {
            "bin_start": 4.199999999999999,
            "bin_end": 4.8999999999999995,
            "count": 0
           },
           {
            "bin_start": 4.8999999999999995,
            "bin_end": 5.6,
            "count": 17
           },
           {
            "bin_start": 5.6,
            "bin_end": 6.3,
            "count": 0
           },
           {
            "bin_start": 6.3,
            "bin_end": 7,
            "count": 1
           }
          ]
         }
        },
        {
         "name": "AwayFinal",
         "dtype": "int64"
        },
        {
         "name": "MlAwayOpen",
         "dtype": "float64"
        },
        {
         "name": "MlAwayClose",
         "dtype": "float64"
        },
        {
         "name": "OpenOU",
         "dtype": "float64"
        },
        {
         "name": "OpenOOdds",
         "dtype": "int64"
        },
        {
         "name": "CloseOU",
         "dtype": "float64"
        },
        {
         "name": "CloseOOdds",
         "dtype": "int64"
        },
        {
         "name": "Year",
         "dtype": "int64"
        },
        {
         "name": "HomeTeam",
         "dtype": "object"
        },
        {
         "name": "Home1st",
         "dtype": "float64"
        },
        {
         "name": "Home2nd",
         "dtype": "float64"
        },
        {
         "name": "Home3rd",
         "dtype": "float64"
        },
        {
         "name": "HomeFinal",
         "dtype": "float64"
        },
        {
         "name": "MlHomeOpen",
         "dtype": "float64"
        },
        {
         "name": "MlHomeClose",
         "dtype": "float64"
        },
        {
         "name": "OpenUOdds",
         "dtype": "float64"
        },
        {
         "name": "CloseUOdds",
         "dtype": "float64"
        },
        {
         "name": "home_point_diff",
         "dtype": "float64"
        },
        {
         "name": "away_point_diff",
         "dtype": "float64"
        },
        {
         "name": "ml_away_movement",
         "dtype": "float64"
        },
        {
         "name": "ml_home_movement",
         "dtype": "float64"
        },
        {
         "name": "RealDate",
         "dtype": "datetime64[ns]"
        },
        {
         "name": "home_last_3",
         "dtype": "float64"
        },
        {
         "name": "away_last_3",
         "dtype": "float64"
        },
        {
         "name": "home_last_1",
         "dtype": "float64"
        },
        {
         "name": "away_last_1",
         "dtype": "float64"
        },
        {
         "name": "home_rest",
         "dtype": "float64"
        },
        {
         "name": "away_rest",
         "dtype": "float64"
        },
        {
         "name": "home_record",
         "dtype": "float64"
        },
        {
         "name": "away_record",
         "dtype": "float64"
        },
        {
         "name": "predicted_diff",
         "dtype": "float64"
        },
        {
         "name": "_deepnote_index_column",
         "dtype": "int64"
        }
       ],
       "rows_top": [
        {
         "Unnamed: 0": 0,
         "Date": 929,
         "AwayTeam": "Anaheim",
         "Away1st": 0,
         "Away2nd": 0,
         "Away3rd": 1,
         "AwayFinal": 1,
         "MlAwayOpen": -155,
         "MlAwayClose": -123,
         "OpenOU": 6,
         "OpenOOdds": 100,
         "CloseOU": 6,
         "CloseOOdds": -105,
         "Year": 2008,
         "HomeTeam": "LosAngeles",
         "Home1st": 1,
         "Home2nd": 1,
         "Home3rd": 2,
         "HomeFinal": 4,
         "MlHomeOpen": 135,
         "MlHomeClose": 103,
         "OpenUOdds": -120,
         "CloseUOdds": -115,
         "home_point_diff": 3,
         "away_point_diff": -3,
         "ml_away_movement": 32,
         "ml_home_movement": 258,
         "RealDate": "2007-09-29T00:00:00.000000",
         "home_last_3": 0,
         "away_last_3": 0,
         "home_last_1": 0,
         "away_last_1": 0,
         "home_rest": 90,
         "away_rest": 90,
         "home_record": 0,
         "away_record": 0,
         "predicted_diff": 0.2874576219773286,
         "_deepnote_index_column": 0
        },
        {
         "Unnamed: 0": 2,
         "Date": 930,
         "AwayTeam": "LosAngeles",
         "Away1st": 0,
         "Away2nd": 1,
         "Away3rd": 0,
         "AwayFinal": 1,
         "MlAwayOpen": 115,
         "MlAwayClose": 132,
         "OpenOU": 6,
         "OpenOOdds": -115,
         "CloseOU": 6,
         "CloseOOdds": 112,
         "Year": 2008,
         "HomeTeam": "Anaheim",
         "Home1st": 2,
         "Home2nd": 2,
         "Home3rd": 0,
         "HomeFinal": 4,
         "MlHomeOpen": -135,
         "MlHomeClose": -152,
         "OpenUOdds": -105,
         "CloseUOdds": -132,
         "home_point_diff": 3,
         "away_point_diff": -3,
         "ml_away_movement": 17,
         "ml_home_movement": -267,
         "RealDate": "2007-09-30T00:00:00.000000",
         "home_last_3": -3,
         "away_last_3": 3,
         "home_last_1": -3,
         "away_last_1": 3,
         "home_rest": 1,
         "away_rest": 1,
         "home_record": -1,
         "away_record": 1,
         "predicted_diff": -0.5322734449747761,
         "_deepnote_index_column": 1
        },
        {
         "Unnamed: 0": 4,
         "Date": 1003,
         "AwayTeam": "Anaheim",
         "Away1st": 0,
         "Away2nd": 2,
         "Away3rd": 0,
         "AwayFinal": 2,
         "MlAwayOpen": 165,
         "MlAwayClose": 190,
         "OpenOU": 5.5,
         "OpenOOdds": 105,
         "CloseOU": 5.5,
         "CloseOOdds": 120,
         "Year": 2008,
         "HomeTeam": "Detroit",
         "Home1st": 1,
         "Home2nd": 0,
         "Home3rd": 1,
         "HomeFinal": 3,
         "MlHomeOpen": -185,
         "MlHomeClose": -230,
         "OpenUOdds": -125,
         "CloseUOdds": -140,
         "home_point_diff": 1,
         "away_point_diff": -1,
         "ml_away_movement": 25,
         "ml_home_movement": -395,
         "RealDate": "2007-10-03T00:00:00.000000",
         "home_last_3": 0,
         "away_last_3": 0,
         "home_last_1": 0,
         "away_last_1": 3,
         "home_rest": 94,
         "away_rest": 3,
         "home_record": 0,
         "away_record": 0,
         "predicted_diff": -0.9391781427830088,
         "_deepnote_index_column": 2
        },
        {
         "Unnamed: 0": 6,
         "Date": 1003,
         "AwayTeam": "Montreal",
         "Away1st": 1,
         "Away2nd": 0,
         "Away3rd": 1,
         "AwayFinal": 3,
         "MlAwayOpen": 130,
         "MlAwayClose": 140,
         "OpenOU": 6,
         "OpenOOdds": -105,
         "CloseOU": 6,
         "CloseOOdds": 110,
         "Year": 2008,
         "HomeTeam": "Carolina",
         "Home1st": 1,
         "Home2nd": 0,
         "Home3rd": 1,
         "HomeFinal": 2,
         "MlHomeOpen": -150,
         "MlHomeClose": -160,
         "OpenUOdds": -115,
         "CloseUOdds": -130,
         "home_point_diff": -1,
         "away_point_diff": 1,
         "ml_away_movement": 10,
         "ml_home_movement": -290,
         "RealDate": "2007-10-03T00:00:00.000000",
         "home_last_3": 0,
         "away_last_3": 0,
         "home_last_1": 0,
         "away_last_1": 0,
         "home_rest": 94,
         "away_rest": 94,
         "home_record": 0,
         "away_record": 0,
         "predicted_diff": -0.5341312137153787,
         "_deepnote_index_column": 3
        },
        {
         "Unnamed: 0": 8,
         "Date": 1003,
         "AwayTeam": "Ottawa",
         "Away1st": 2,
         "Away2nd": 0,
         "Away3rd": 1,
         "AwayFinal": 4,
         "MlAwayOpen": -120,
         "MlAwayClose": -125,
         "OpenOU": 6,
         "OpenOOdds": -120,
         "CloseOU": 6,
         "CloseOOdds": -135,
         "Year": 2008,
         "HomeTeam": "Toronto",
         "Home1st": 2,
         "Home2nd": 1,
         "Home3rd": 0,
         "HomeFinal": 3,
         "MlHomeOpen": 100,
         "MlHomeClose": 105,
         "OpenUOdds": 100,
         "CloseUOdds": 115,
         "home_point_diff": -1,
         "away_point_diff": 1,
         "ml_away_movement": -5,
         "ml_home_movement": 225,
         "RealDate": "2007-10-03T00:00:00.000000",
         "home_last_3": 0,
         "away_last_3": 0,
         "home_last_1": 0,
         "away_last_1": 0,
         "home_rest": 94,
         "away_rest": 94,
         "home_record": 0,
         "away_record": 0,
         "predicted_diff": 0.35076801919437917,
         "_deepnote_index_column": 4
        },
        {
         "Unnamed: 0": 10,
         "Date": 1003,
         "AwayTeam": "Dallas",
         "Away1st": 0,
         "Away2nd": 1,
         "Away3rd": 2,
         "AwayFinal": 3,
         "MlAwayOpen": 115,
         "MlAwayClose": 135,
         "OpenOU": 5.5,
         "OpenOOdds": -115,
         "CloseOU": 5.5,
         "CloseOOdds": -115,
         "Year": 2008,
         "HomeTeam": "Colorado",
         "Home1st": 1,
         "Home2nd": 3,
         "Home3rd": 0,
         "HomeFinal": 4,
         "MlHomeOpen": -135,
         "MlHomeClose": -155,
         "OpenUOdds": -105,
         "CloseUOdds": -105,
         "home_point_diff": 1,
         "away_point_diff": -1,
         "ml_away_movement": 20,
         "ml_home_movement": -270,
         "RealDate": "2007-10-03T00:00:00.000000",
         "home_last_3": 0,
         "away_last_3": 0,
         "home_last_1": 0,
         "away_last_1": 0,
         "home_rest": 94,
         "away_rest": 94,
         "home_record": 0,
         "away_record": 0,
         "predicted_diff": -0.4293991828002279,
         "_deepnote_index_column": 5
        },
        {
         "Unnamed: 0": 12,
         "Date": 1004,
         "AwayTeam": "Toronto",
         "Away1st": 0,
         "Away2nd": 2,
         "Away3rd": 0,
         "AwayFinal": 2,
         "MlAwayOpen": 170,
         "MlAwayClose": 150,
         "OpenOU": 6,
         "OpenOOdds": -130,
         "CloseOU": 6,
         "CloseOOdds": -125,
         "Year": 2008,
         "HomeTeam": "Ottawa",
         "Home1st": 1,
         "Home2nd": 1,
         "Home3rd": 1,
         "HomeFinal": 3,
         "MlHomeOpen": -200,
         "MlHomeClose": -170,
         "OpenUOdds": 110,
         "CloseUOdds": 105,
         "home_point_diff": 1,
         "away_point_diff": -1,
         "ml_away_movement": -20,
         "ml_home_movement": -340,
         "RealDate": "2007-10-04T00:00:00.000000",
         "home_last_3": 1,
         "away_last_3": -1,
         "home_last_1": 1,
         "away_last_1": -1,
         "home_rest": 1,
         "away_rest": 1,
         "home_record": 1,
         "away_record": -1,
         "predicted_diff": -0.5804020102679567,
         "_deepnote_index_column": 6
        },
        {
         "Unnamed: 0": 14,
         "Date": 1004,
         "AwayTeam": "Florida",
         "Away1st": 0,
         "Away2nd": 2,
         "Away3rd": 0,
         "AwayFinal": 2,
         "MlAwayOpen": 160,
         "MlAwayClose": 170,
         "OpenOU": 5.5,
         "OpenOOdds": -105,
         "CloseOU": 5.5,
         "CloseOOdds": 100,
         "Year": 2008,
         "HomeTeam": "NYRangers",
         "Home1st": 1,
         "Home2nd": 0,
         "Home3rd": 4,
         "HomeFinal": 5,
         "MlHomeOpen": -180,
         "MlHomeClose": -190,
         "OpenUOdds": -115,
         "CloseUOdds": -120,
         "home_point_diff": 3,
         "away_point_diff": -3,
         "ml_away_movement": 10,
         "ml_home_movement": -350,
         "RealDate": "2007-10-04T00:00:00.000000",
         "home_last_3": 0,
         "away_last_3": 0,
         "home_last_1": 0,
         "away_last_1": 0,
         "home_rest": 95,
         "away_rest": 95,
         "home_record": 0,
         "away_record": 0,
         "predicted_diff": -0.7528485124790869,
         "_deepnote_index_column": 7
        },
        {
         "Unnamed: 0": 16,
         "Date": 1004,
         "AwayTeam": "NewJersey",
         "Away1st": 1,
         "Away2nd": 0,
         "Away3rd": 0,
         "AwayFinal": 1,
         "MlAwayOpen": 115,
         "MlAwayClose": 115,
         "OpenOU": 5.5,
         "OpenOOdds": 105,
         "CloseOU": 5.5,
         "CloseOOdds": 120,
         "Year": 2008,
         "HomeTeam": "TampaBay",
         "Home1st": 0,
         "Home2nd": 1,
         "Home3rd": 2,
         "HomeFinal": 3,
         "MlHomeOpen": -135,
         "MlHomeClose": -135,
         "OpenUOdds": -125,
         "CloseUOdds": -140,
         "home_point_diff": 2,
         "away_point_diff": -2,
         "ml_away_movement": 0,
         "ml_home_movement": -250,
         "RealDate": "2007-10-04T00:00:00.000000",
         "home_last_3": 0,
         "away_last_3": 0,
         "home_last_1": 0,
         "away_last_1": 0,
         "home_rest": 95,
         "away_rest": 95,
         "home_record": 0,
         "away_record": 0,
         "predicted_diff": -0.19820811598183605,
         "_deepnote_index_column": 8
        },
        {
         "Unnamed: 0": 18,
         "Date": 1004,
         "AwayTeam": "Colorado",
         "Away1st": 0,
         "Away2nd": 0,
         "Away3rd": 0,
         "AwayFinal": 0,
         "MlAwayOpen": -105,
         "MlAwayClose": 100,
         "OpenOU": 5.5,
         "OpenOOdds": -130,
         "CloseOU": 5.5,
         "CloseOOdds": -125,
         "Year": 2008,
         "HomeTeam": "Nashville",
         "Home1st": 2,
         "Home2nd": 1,
         "Home3rd": 1,
         "HomeFinal": 4,
         "MlHomeOpen": -115,
         "MlHomeClose": -120,
         "OpenUOdds": 110,
         "CloseUOdds": 105,
         "home_point_diff": 4,
         "away_point_diff": -4,
         "ml_away_movement": 205,
         "ml_home_movement": -15,
         "RealDate": "2007-10-04T00:00:00.000000",
         "home_last_3": 0,
         "away_last_3": 1,
         "home_last_1": 0,
         "away_last_1": 1,
         "home_rest": 95,
         "away_rest": 1,
         "home_record": 0,
         "away_record": 1,
         "predicted_diff": -0.06647249290522741,
         "_deepnote_index_column": 9
        },
        {
         "Unnamed: 0": 20,
         "Date": 1004,
         "AwayTeam": "Chicago",
         "Away1st": 0,
         "Away2nd": 0,
         "Away3rd": 0,
         "AwayFinal": 0,
         "MlAwayOpen": 175,
         "MlAwayClose": 190,
         "OpenOU": 5,
         "OpenOOdds": -130,
         "CloseOU": 5,
         "CloseOOdds": -135,
         "Year": 2008,
         "HomeTeam": "Minnesota",
         "Home1st": 0,
         "Home2nd": 1,
         "Home3rd": 0,
         "HomeFinal": 1,
         "MlHomeOpen": -205,
         "MlHomeClose": -230,
         "OpenUOdds": 110,
         "CloseUOdds": 115,
         "home_point_diff": 1,
         "away_point_diff": -1,
         "ml_away_movement": 15,
         "ml_home_movement": -405,
         "RealDate": "2007-10-04T00:00:00.000000",
         "home_last_3": 0,
         "away_last_3": 0,
         "home_last_1": 0,
         "away_last_1": 0,
         "home_rest": 95,
         "away_rest": 95,
         "home_record": 0,
         "away_record": 0,
         "predicted_diff": -0.9270501367434918,
         "_deepnote_index_column": 10
        },
        {
         "Unnamed: 0": 22,
         "Date": 1004,
         "AwayTeam": "SanJose",
         "Away1st": 0,
         "Away2nd": 0,
         "Away3rd": 2,
         "AwayFinal": 2,
         "MlAwayOpen": -135,
         "MlAwayClose": -145,
         "OpenOU": 5.5,
         "OpenOOdds": -110,
         "CloseOU": 5.5,
         "CloseOOdds": 110,
         "Year": 2008,
         "HomeTeam": "Edmonton",
         "Home1st": 0,
         "Home2nd": 0,
         "Home3rd": 2,
         "HomeFinal": 3,
         "MlHomeOpen": 115,
         "MlHomeClose": 125,
         "OpenUOdds": -110,
         "CloseUOdds": -130,
         "home_point_diff": 1,
         "away_point_diff": -1,
         "ml_away_movement": -10,
         "ml_home_movement": 260,
         "RealDate": "2007-10-04T00:00:00.000000",
         "home_last_3": 0,
         "away_last_3": 0,
         "home_last_1": 0,
         "away_last_1": 0,
         "home_rest": 95,
         "away_rest": 95,
         "home_record": 0,
         "away_record": 0,
         "predicted_diff": 0.4057454676267558,
         "_deepnote_index_column": 11
        },
        {
         "Unnamed: 0": 24,
         "Date": 1004,
         "AwayTeam": "Philadelphia",
         "Away1st": 2,
         "Away2nd": 0,
         "Away3rd": 1,
         "AwayFinal": 3,
         "MlAwayOpen": 155,
         "MlAwayClose": 130,
         "OpenOU": 5.5,
         "OpenOOdds": -110,
         "CloseOU": 5.5,
         "CloseOOdds": -105,
         "Year": 2008,
         "HomeTeam": "Calgary",
         "Home1st": 0,
         "Home2nd": 1,
         "Home3rd": 1,
         "HomeFinal": 2,
         "MlHomeOpen": -175,
         "MlHomeClose": -150,
         "OpenUOdds": -110,
         "CloseUOdds": -115,
         "home_point_diff": -1,
         "away_point_diff": 1,
         "ml_away_movement": -25,
         "ml_home_movement": -305,
         "RealDate": "2007-10-04T00:00:00.000000",
         "home_last_3": 0,
         "away_last_3": 0,
         "home_last_1": 0,
         "away_last_1": 0,
         "home_rest": 95,
         "away_rest": 95,
         "home_record": 0,
         "away_record": 0,
         "predicted_diff": -0.4812810427361312,
         "_deepnote_index_column": 12
        }
       ],
       "rows_bottom": [
        {
         "Unnamed: 0": 2688,
         "Date": 513,
         "AwayTeam": "St.Louis",
         "Away1st": 1,
         "Away2nd": 2,
         "Away3rd": 1,
         "AwayFinal": 4,
         "MlAwayOpen": 113,
         "MlAwayClose": 120,
         "OpenOU": 5.5,
         "OpenOOdds": -110,
         "CloseOU": 5.5,
         "CloseOOdds": 100,
         "Year": 2019,
         "HomeTeam": "SanJose",
         "Home1st": 0,
         "Home2nd": 2,
         "Home3rd": 0,
         "HomeFinal": 2,
         "MlHomeOpen": -133,
         "MlHomeClose": -130,
         "OpenUOdds": -110,
         "CloseUOdds": -120,
         "home_point_diff": -2,
         "away_point_diff": 2,
         "ml_away_movement": 7,
         "ml_home_movement": -243,
         "RealDate": "2019-05-13T00:00:00.000000",
         "home_last_3": 3,
         "away_last_3": 1,
         "home_last_1": 3,
         "away_last_1": -3,
         "home_rest": 2,
         "away_rest": 2,
         "home_record": 13,
         "away_record": 10,
         "predicted_diff": -0.2769622430801106,
         "_deepnote_index_column": 15357
        },
        {
         "Unnamed: 0": 2690,
         "Date": 514,
         "AwayTeam": "Boston",
         "Away1st": 0,
         "Away2nd": 2,
         "Away3rd": 0,
         "AwayFinal": 2,
         "MlAwayOpen": -115,
         "MlAwayClose": 115,
         "OpenOU": 5.5,
         "OpenOOdds": -110,
         "CloseOU": 5.5,
         "CloseOOdds": 105,
         "Year": 2019,
         "HomeTeam": "Carolina",
         "Home1st": 0,
         "Home2nd": 1,
         "Home3rd": 0,
         "HomeFinal": 1,
         "MlHomeOpen": -105,
         "MlHomeClose": -125,
         "OpenUOdds": -110,
         "CloseUOdds": -125,
         "home_point_diff": -1,
         "away_point_diff": 1,
         "ml_away_movement": 230,
         "ml_home_movement": -10,
         "RealDate": "2019-05-14T00:00:00.000000",
         "home_last_3": -4,
         "away_last_3": 10,
         "home_last_1": -4,
         "away_last_1": 4,
         "home_rest": 2,
         "away_rest": 2,
         "home_record": 13,
         "away_record": 21,
         "predicted_diff": -0.11654179435882388,
         "_deepnote_index_column": 15358
        },
        {
         "Unnamed: 0": 2692,
         "Date": 515,
         "AwayTeam": "SanJose",
         "Away1st": 2,
         "Away2nd": 1,
         "Away3rd": 1,
         "AwayFinal": 5,
         "MlAwayOpen": 125,
         "MlAwayClose": 125,
         "OpenOU": 5.5,
         "OpenOOdds": -110,
         "CloseOU": 5.5,
         "CloseOOdds": -110,
         "Year": 2019,
         "HomeTeam": "St.Louis",
         "Home1st": 0,
         "Home2nd": 4,
         "Home3rd": 0,
         "HomeFinal": 4,
         "MlHomeOpen": -145,
         "MlHomeClose": -135,
         "OpenUOdds": -110,
         "CloseUOdds": -110,
         "home_point_diff": -1,
         "away_point_diff": 1,
         "ml_away_movement": 0,
         "ml_home_movement": -260,
         "RealDate": "2019-05-15T00:00:00.000000",
         "home_last_3": 0,
         "away_last_3": 2,
         "home_last_1": 2,
         "away_last_1": -2,
         "home_rest": 2,
         "away_rest": 2,
         "home_record": 11,
         "away_record": 12,
         "predicted_diff": -0.4492710634798258,
         "_deepnote_index_column": 15359
        },
        {
         "Unnamed: 0": 2694,
         "Date": 516,
         "AwayTeam": "Boston",
         "Away1st": 0,
         "Away2nd": 2,
         "Away3rd": 2,
         "AwayFinal": 4,
         "MlAwayOpen": -133,
         "MlAwayClose": -109,
         "OpenOU": 5.5,
         "OpenOOdds": -110,
         "CloseOU": 5.5,
         "CloseOOdds": 105,
         "Year": 2019,
         "HomeTeam": "Carolina",
         "Home1st": 0,
         "Home2nd": 0,
         "Home3rd": 0,
         "HomeFinal": 0,
         "MlHomeOpen": 113,
         "MlHomeClose": -101,
         "OpenUOdds": -110,
         "CloseUOdds": -125,
         "home_point_diff": -4,
         "away_point_diff": 4,
         "ml_away_movement": 24,
         "ml_home_movement": 32,
         "RealDate": "2019-05-16T00:00:00.000000",
         "home_last_3": -8,
         "away_last_3": 8,
         "home_last_1": -1,
         "away_last_1": 1,
         "home_rest": 2,
         "away_rest": 2,
         "home_record": 12,
         "away_record": 22,
         "predicted_diff": -0.11654179435882388,
         "_deepnote_index_column": 15360
        },
        {
         "Unnamed: 0": 2696,
         "Date": 517,
         "AwayTeam": "SanJose",
         "Away1st": 0,
         "Away2nd": 0,
         "Away3rd": 1,
         "AwayFinal": 1,
         "MlAwayOpen": 123,
         "MlAwayClose": 128,
         "OpenOU": 5.5,
         "OpenOOdds": -110,
         "CloseOU": 5.5,
         "CloseOOdds": -110,
         "Year": 2019,
         "HomeTeam": "St.Louis",
         "Home1st": 2,
         "Home2nd": 0,
         "Home3rd": 0,
         "HomeFinal": 2,
         "MlHomeOpen": -143,
         "MlHomeClose": -138,
         "OpenUOdds": -110,
         "CloseUOdds": -110,
         "home_point_diff": 1,
         "away_point_diff": -1,
         "ml_away_movement": 5,
         "ml_home_movement": -261,
         "RealDate": "2019-05-17T00:00:00.000000",
         "home_last_3": -2,
         "away_last_3": 2,
         "home_last_1": -1,
         "away_last_1": 1,
         "home_rest": 2,
         "away_rest": 2,
         "home_record": 10,
         "away_record": 13,
         "predicted_diff": -0.47411082999667076,
         "_deepnote_index_column": 15361
        },
        {
         "Unnamed: 0": 2698,
         "Date": 519,
         "AwayTeam": "St.Louis",
         "Away1st": 1,
         "Away2nd": 2,
         "Away3rd": 2,
         "AwayFinal": 5,
         "MlAwayOpen": 110,
         "MlAwayClose": 132,
         "OpenOU": 5.5,
         "OpenOOdds": -110,
         "CloseOU": 5.5,
         "CloseOOdds": 100,
         "Year": 2019,
         "HomeTeam": "SanJose",
         "Home1st": 0,
         "Home2nd": 0,
         "Home3rd": 0,
         "HomeFinal": 0,
         "MlHomeOpen": -130,
         "MlHomeClose": -145,
         "OpenUOdds": -110,
         "CloseUOdds": -120,
         "home_point_diff": -5,
         "away_point_diff": 5,
         "ml_away_movement": 22,
         "ml_home_movement": -255,
         "RealDate": "2019-05-19T00:00:00.000000",
         "home_last_3": -2,
         "away_last_3": 2,
         "home_last_1": -1,
         "away_last_1": 1,
         "home_rest": 2,
         "away_rest": 2,
         "home_record": 12,
         "away_record": 11,
         "predicted_diff": -0.5195074992236374,
         "_deepnote_index_column": 15362
        },
        {
         "Unnamed: 0": 2700,
         "Date": 521,
         "AwayTeam": "SanJose",
         "Away1st": 0,
         "Away2nd": 1,
         "Away3rd": 0,
         "AwayFinal": 1,
         "MlAwayOpen": 144,
         "MlAwayClose": 170,
         "OpenOU": 5.5,
         "OpenOOdds": -110,
         "CloseOU": 5.5,
         "CloseOOdds": 105,
         "Year": 2019,
         "HomeTeam": "St.Louis",
         "Home1st": 2,
         "Home2nd": 1,
         "Home3rd": 2,
         "HomeFinal": 5,
         "MlHomeOpen": -165,
         "MlHomeClose": -190,
         "OpenUOdds": -110,
         "CloseUOdds": -125,
         "home_point_diff": 4,
         "away_point_diff": -4,
         "ml_away_movement": 26,
         "ml_home_movement": -334,
         "RealDate": "2019-05-21T00:00:00.000000",
         "home_last_3": 5,
         "away_last_3": -5,
         "home_last_1": 5,
         "away_last_1": -5,
         "home_rest": 2,
         "away_rest": 2,
         "home_record": 12,
         "away_record": 11,
         "predicted_diff": -0.6641491799039793,
         "_deepnote_index_column": 15363
        },
        {
         "Unnamed: 0": 2702,
         "Date": 527,
         "AwayTeam": "St.Louis",
         "Away1st": 1,
         "Away2nd": 1,
         "Away3rd": 0,
         "AwayFinal": 2,
         "MlAwayOpen": 143,
         "MlAwayClose": 155,
         "OpenOU": 5.5,
         "OpenOOdds": -110,
         "CloseOU": 5.5,
         "CloseOOdds": 120,
         "Year": 2019,
         "HomeTeam": "Boston",
         "Home1st": 0,
         "Home2nd": 2,
         "Home3rd": 2,
         "HomeFinal": 4,
         "MlHomeOpen": -163,
         "MlHomeClose": -170,
         "OpenUOdds": -110,
         "CloseUOdds": -140,
         "home_point_diff": 2,
         "away_point_diff": -2,
         "ml_away_movement": 12,
         "ml_home_movement": -313,
         "RealDate": "2019-05-27T00:00:00.000000",
         "home_last_3": 9,
         "away_last_3": 10,
         "home_last_1": 4,
         "away_last_1": 4,
         "home_rest": 11,
         "away_rest": 6,
         "home_record": 23,
         "away_record": 13,
         "predicted_diff": -0.4307766460170412,
         "_deepnote_index_column": 15364
        },
        {
         "Unnamed: 0": 2704,
         "Date": 529,
         "AwayTeam": "St.Louis",
         "Away1st": 2,
         "Away2nd": 0,
         "Away3rd": 0,
         "AwayFinal": 3,
         "MlAwayOpen": -110,
         "MlAwayClose": 150,
         "OpenOU": 5.5,
         "OpenOOdds": -110,
         "CloseOU": 5.5,
         "CloseOOdds": 120,
         "Year": 2019,
         "HomeTeam": "Boston",
         "Home1st": 2,
         "Home2nd": 0,
         "Home3rd": 0,
         "HomeFinal": 2,
         "MlHomeOpen": -110,
         "MlHomeClose": -165,
         "OpenUOdds": -110,
         "CloseUOdds": -140,
         "home_point_diff": -1,
         "away_point_diff": 1,
         "ml_away_movement": 260,
         "ml_home_movement": -55,
         "RealDate": "2019-05-29T00:00:00.000000",
         "home_last_3": 7,
         "away_last_3": 7,
         "home_last_1": 2,
         "away_last_1": -2,
         "home_rest": 2,
         "away_rest": 2,
         "home_record": 24,
         "away_record": 12,
         "predicted_diff": -0.15482995654447224,
         "_deepnote_index_column": 15365
        },
        {
         "Unnamed: 0": 2706,
         "Date": 601,
         "AwayTeam": "Boston",
         "Away1st": 3,
         "Away2nd": 2,
         "Away3rd": 2,
         "AwayFinal": 7,
         "MlAwayOpen": 110,
         "MlAwayClose": 105,
         "OpenOU": 5,
         "OpenOOdds": -110,
         "CloseOU": 5,
         "CloseOOdds": -150,
         "Year": 2019,
         "HomeTeam": "St.Louis",
         "Home1st": 0,
         "Home2nd": 1,
         "Home3rd": 1,
         "HomeFinal": 2,
         "MlHomeOpen": -130,
         "MlHomeClose": -115,
         "OpenUOdds": -110,
         "CloseUOdds": 130,
         "home_point_diff": -5,
         "away_point_diff": 5,
         "ml_away_movement": -5,
         "ml_home_movement": -225,
         "RealDate": "2019-06-01T00:00:00.000000",
         "home_last_3": 3,
         "away_last_3": 5,
         "home_last_1": 1,
         "away_last_1": -1,
         "home_rest": 3,
         "away_rest": 3,
         "home_record": 13,
         "away_record": 23,
         "predicted_diff": -0.029652088772766674,
         "_deepnote_index_column": 15366
        },
        {
         "Unnamed: 0": 2708,
         "Date": 603,
         "AwayTeam": "Boston",
         "Away1st": 1,
         "Away2nd": 1,
         "Away3rd": 0,
         "AwayFinal": 2,
         "MlAwayOpen": -110,
         "MlAwayClose": -102,
         "OpenOU": 5.5,
         "OpenOOdds": -110,
         "CloseOU": 5.5,
         "CloseOOdds": 130,
         "Year": 2019,
         "HomeTeam": "St.Louis",
         "Home1st": 2,
         "Home2nd": 0,
         "Home3rd": 2,
         "HomeFinal": 4,
         "MlHomeOpen": -110,
         "MlHomeClose": -108,
         "OpenUOdds": -110,
         "CloseUOdds": -150,
         "home_point_diff": 2,
         "away_point_diff": -2,
         "ml_away_movement": 8,
         "ml_home_movement": 2,
         "RealDate": "2019-06-03T00:00:00.000000",
         "home_last_3": -6,
         "away_last_3": 6,
         "home_last_1": -5,
         "away_last_1": 5,
         "home_rest": 2,
         "away_rest": 2,
         "home_record": 12,
         "away_record": 24,
         "predicted_diff": -0.11654179435882388,
         "_deepnote_index_column": 15367
        },
        {
         "Unnamed: 0": 2710,
         "Date": 606,
         "AwayTeam": "St.Louis",
         "Away1st": 0,
         "Away2nd": 1,
         "Away3rd": 1,
         "AwayFinal": 2,
         "MlAwayOpen": 135,
         "MlAwayClose": 145,
         "OpenOU": 5.5,
         "OpenOOdds": -110,
         "CloseOU": 5.5,
         "CloseOOdds": 115,
         "Year": 2019,
         "HomeTeam": "Boston",
         "Home1st": 0,
         "Home2nd": 0,
         "Home3rd": 1,
         "HomeFinal": 1,
         "MlHomeOpen": -155,
         "MlHomeClose": -160,
         "OpenUOdds": -110,
         "CloseUOdds": -135,
         "home_point_diff": -1,
         "away_point_diff": 1,
         "ml_away_movement": 10,
         "ml_home_movement": -295,
         "RealDate": "2019-06-06T00:00:00.000000",
         "home_last_3": 2,
         "away_last_3": -2,
         "home_last_1": -2,
         "away_last_1": 2,
         "home_rest": 3,
         "away_rest": 3,
         "home_record": 23,
         "away_record": 13,
         "predicted_diff": -0.4559519956799819,
         "_deepnote_index_column": 15368
        },
        {
         "Unnamed: 0": 2712,
         "Date": 609,
         "AwayTeam": "Boston",
         "Away1st": 1,
         "Away2nd": 0,
         "Away3rd": 4,
         "AwayFinal": 5,
         "MlAwayOpen": 100,
         "MlAwayClose": 105,
         "OpenOU": 5,
         "OpenOOdds": -110,
         "CloseOU": 5,
         "CloseOOdds": -150,
         "Year": 2019,
         "HomeTeam": "St.Louis",
         "Home1st": 0,
         "Home2nd": 0,
         "Home3rd": 1,
         "HomeFinal": 1,
         "MlHomeOpen": -120,
         "MlHomeClose": -115,
         "OpenUOdds": -110,
         "CloseUOdds": 130,
         "home_point_diff": -4,
         "away_point_diff": 4,
         "ml_away_movement": 5,
         "ml_home_movement": -215,
         "RealDate": "2019-06-09T00:00:00.000000",
         "home_last_3": -2,
         "away_last_3": 2,
         "home_last_1": 1,
         "away_last_1": -1,
         "home_rest": 3,
         "away_rest": 3,
         "home_record": 14,
         "away_record": 22,
         "predicted_diff": -0.038842881847216126,
         "_deepnote_index_column": 15369
        },
        {
         "Unnamed: 0": 2714,
         "Date": 612,
         "AwayTeam": "St.Louis",
         "Away1st": 2,
         "Away2nd": 0,
         "Away3rd": 2,
         "AwayFinal": 4,
         "MlAwayOpen": 151,
         "MlAwayClose": 155,
         "OpenOU": 5.5,
         "OpenOOdds": -110,
         "CloseOU": 5,
         "CloseOOdds": -120,
         "Year": 2019,
         "HomeTeam": "Boston",
         "Home1st": 0,
         "Home2nd": 0,
         "Home3rd": 1,
         "HomeFinal": 1,
         "MlHomeOpen": -175,
         "MlHomeClose": -170,
         "OpenUOdds": -110,
         "CloseUOdds": 100,
         "home_point_diff": -3,
         "away_point_diff": 3,
         "ml_away_movement": 4,
         "ml_home_movement": -321,
         "RealDate": "2019-06-12T00:00:00.000000",
         "home_last_3": 1,
         "away_last_3": -1,
         "home_last_1": 4,
         "away_last_1": -4,
         "home_rest": 3,
         "away_rest": 3,
         "home_record": 23,
         "away_record": 13,
         "predicted_diff": -0.41898422312362,
         "_deepnote_index_column": 15370
        }
       ]
      },
      "text/plain": "       Unnamed: 0  Date    AwayTeam  Away1st  Away2nd  Away3rd  AwayFinal  \\\n0               0   929     Anaheim        0        0        1          1   \n1               2   930  LosAngeles        0        1        0          1   \n2               4  1003     Anaheim        0        2        0          2   \n3               6  1003    Montreal        1        0        1          3   \n4               8  1003      Ottawa        2        0        1          4   \n...           ...   ...         ...      ...      ...      ...        ...   \n15366        2706   601      Boston        3        2        2          7   \n15367        2708   603      Boston        1        1        0          2   \n15368        2710   606    St.Louis        0        1        1          2   \n15369        2712   609      Boston        1        0        4          5   \n15370        2714   612    St.Louis        2        0        2          4   \n\n       MlAwayOpen  MlAwayClose  OpenOU  ...   RealDate  home_last_3  \\\n0          -155.0       -123.0     6.0  ... 2007-09-29          0.0   \n1           115.0        132.0     6.0  ... 2007-09-30         -3.0   \n2           165.0        190.0     5.5  ... 2007-10-03          0.0   \n3           130.0        140.0     6.0  ... 2007-10-03          0.0   \n4          -120.0       -125.0     6.0  ... 2007-10-03          0.0   \n...           ...          ...     ...  ...        ...          ...   \n15366       110.0        105.0     5.0  ... 2019-06-01          3.0   \n15367      -110.0       -102.0     5.5  ... 2019-06-03         -6.0   \n15368       135.0        145.0     5.5  ... 2019-06-06          2.0   \n15369       100.0        105.0     5.0  ... 2019-06-09         -2.0   \n15370       151.0        155.0     5.5  ... 2019-06-12          1.0   \n\n       away_last_3  home_last_1 away_last_1  home_rest  away_rest  \\\n0              0.0          0.0         0.0       90.0       90.0   \n1              3.0         -3.0         3.0        1.0        1.0   \n2              0.0          0.0         3.0       94.0        3.0   \n3              0.0          0.0         0.0       94.0       94.0   \n4              0.0          0.0         0.0       94.0       94.0   \n...            ...          ...         ...        ...        ...   \n15366          5.0          1.0        -1.0        3.0        3.0   \n15367          6.0         -5.0         5.0        2.0        2.0   \n15368         -2.0         -2.0         2.0        3.0        3.0   \n15369          2.0          1.0        -1.0        3.0        3.0   \n15370         -1.0          4.0        -4.0        3.0        3.0   \n\n       home_record  away_record  predicted_diff  \n0              0.0          0.0        0.287458  \n1             -1.0          1.0       -0.532273  \n2              0.0          0.0       -0.939178  \n3              0.0          0.0       -0.534131  \n4              0.0          0.0        0.350768  \n...            ...          ...             ...  \n15366         13.0         23.0       -0.029652  \n15367         12.0         24.0       -0.116542  \n15368         23.0         13.0       -0.455952  \n15369         14.0         22.0       -0.038843  \n15370         23.0         13.0       -0.418984  \n\n[15371 rows x 37 columns]",
      "text/html": "<div>\n<style scoped>\n    .dataframe tbody tr th:only-of-type {\n        vertical-align: middle;\n    }\n\n    .dataframe tbody tr th {\n        vertical-align: top;\n    }\n\n    .dataframe thead th {\n        text-align: right;\n    }\n</style>\n<table border=\"1\" class=\"dataframe\">\n  <thead>\n    <tr style=\"text-align: right;\">\n      <th></th>\n      <th>Unnamed: 0</th>\n      <th>Date</th>\n      <th>AwayTeam</th>\n      <th>Away1st</th>\n      <th>Away2nd</th>\n      <th>Away3rd</th>\n      <th>AwayFinal</th>\n      <th>MlAwayOpen</th>\n      <th>MlAwayClose</th>\n      <th>OpenOU</th>\n      <th>...</th>\n      <th>RealDate</th>\n      <th>home_last_3</th>\n      <th>away_last_3</th>\n      <th>home_last_1</th>\n      <th>away_last_1</th>\n      <th>home_rest</th>\n      <th>away_rest</th>\n      <th>home_record</th>\n      <th>away_record</th>\n      <th>predicted_diff</th>\n    </tr>\n  </thead>\n  <tbody>\n    <tr>\n      <th>0</th>\n      <td>0</td>\n      <td>929</td>\n      <td>Anaheim</td>\n      <td>0</td>\n      <td>0</td>\n      <td>1</td>\n      <td>1</td>\n      <td>-155.0</td>\n      <td>-123.0</td>\n      <td>6.0</td>\n      <td>...</td>\n      <td>2007-09-29</td>\n      <td>0.0</td>\n      <td>0.0</td>\n      <td>0.0</td>\n      <td>0.0</td>\n      <td>90.0</td>\n      <td>90.0</td>\n      <td>0.0</td>\n      <td>0.0</td>\n      <td>0.287458</td>\n    </tr>\n    <tr>\n      <th>1</th>\n      <td>2</td>\n      <td>930</td>\n      <td>LosAngeles</td>\n      <td>0</td>\n      <td>1</td>\n      <td>0</td>\n      <td>1</td>\n      <td>115.0</td>\n      <td>132.0</td>\n      <td>6.0</td>\n      <td>...</td>\n      <td>2007-09-30</td>\n      <td>-3.0</td>\n      <td>3.0</td>\n      <td>-3.0</td>\n      <td>3.0</td>\n      <td>1.0</td>\n      <td>1.0</td>\n      <td>-1.0</td>\n      <td>1.0</td>\n      <td>-0.532273</td>\n    </tr>\n    <tr>\n      <th>2</th>\n      <td>4</td>\n      <td>1003</td>\n      <td>Anaheim</td>\n      <td>0</td>\n      <td>2</td>\n      <td>0</td>\n      <td>2</td>\n      <td>165.0</td>\n      <td>190.0</td>\n      <td>5.5</td>\n      <td>...</td>\n      <td>2007-10-03</td>\n      <td>0.0</td>\n      <td>0.0</td>\n      <td>0.0</td>\n      <td>3.0</td>\n      <td>94.0</td>\n      <td>3.0</td>\n      <td>0.0</td>\n      <td>0.0</td>\n      <td>-0.939178</td>\n    </tr>\n    <tr>\n      <th>3</th>\n      <td>6</td>\n      <td>1003</td>\n      <td>Montreal</td>\n      <td>1</td>\n      <td>0</td>\n      <td>1</td>\n      <td>3</td>\n      <td>130.0</td>\n      <td>140.0</td>\n      <td>6.0</td>\n      <td>...</td>\n      <td>2007-10-03</td>\n      <td>0.0</td>\n      <td>0.0</td>\n      <td>0.0</td>\n      <td>0.0</td>\n      <td>94.0</td>\n      <td>94.0</td>\n      <td>0.0</td>\n      <td>0.0</td>\n      <td>-0.534131</td>\n    </tr>\n    <tr>\n      <th>4</th>\n      <td>8</td>\n      <td>1003</td>\n      <td>Ottawa</td>\n      <td>2</td>\n      <td>0</td>\n      <td>1</td>\n      <td>4</td>\n      <td>-120.0</td>\n      <td>-125.0</td>\n      <td>6.0</td>\n      <td>...</td>\n      <td>2007-10-03</td>\n      <td>0.0</td>\n      <td>0.0</td>\n      <td>0.0</td>\n      <td>0.0</td>\n      <td>94.0</td>\n      <td>94.0</td>\n      <td>0.0</td>\n      <td>0.0</td>\n      <td>0.350768</td>\n    </tr>\n    <tr>\n      <th>...</th>\n      <td>...</td>\n      <td>...</td>\n      <td>...</td>\n      <td>...</td>\n      <td>...</td>\n      <td>...</td>\n      <td>...</td>\n      <td>...</td>\n      <td>...</td>\n      <td>...</td>\n      <td>...</td>\n      <td>...</td>\n      <td>...</td>\n      <td>...</td>\n      <td>...</td>\n      <td>...</td>\n      <td>...</td>\n      <td>...</td>\n      <td>...</td>\n      <td>...</td>\n      <td>...</td>\n    </tr>\n    <tr>\n      <th>15366</th>\n      <td>2706</td>\n      <td>601</td>\n      <td>Boston</td>\n      <td>3</td>\n      <td>2</td>\n      <td>2</td>\n      <td>7</td>\n      <td>110.0</td>\n      <td>105.0</td>\n      <td>5.0</td>\n      <td>...</td>\n      <td>2019-06-01</td>\n      <td>3.0</td>\n      <td>5.0</td>\n      <td>1.0</td>\n      <td>-1.0</td>\n      <td>3.0</td>\n      <td>3.0</td>\n      <td>13.0</td>\n      <td>23.0</td>\n      <td>-0.029652</td>\n    </tr>\n    <tr>\n      <th>15367</th>\n      <td>2708</td>\n      <td>603</td>\n      <td>Boston</td>\n      <td>1</td>\n      <td>1</td>\n      <td>0</td>\n      <td>2</td>\n      <td>-110.0</td>\n      <td>-102.0</td>\n      <td>5.5</td>\n      <td>...</td>\n      <td>2019-06-03</td>\n      <td>-6.0</td>\n      <td>6.0</td>\n      <td>-5.0</td>\n      <td>5.0</td>\n      <td>2.0</td>\n      <td>2.0</td>\n      <td>12.0</td>\n      <td>24.0</td>\n      <td>-0.116542</td>\n    </tr>\n    <tr>\n      <th>15368</th>\n      <td>2710</td>\n      <td>606</td>\n      <td>St.Louis</td>\n      <td>0</td>\n      <td>1</td>\n      <td>1</td>\n      <td>2</td>\n      <td>135.0</td>\n      <td>145.0</td>\n      <td>5.5</td>\n      <td>...</td>\n      <td>2019-06-06</td>\n      <td>2.0</td>\n      <td>-2.0</td>\n      <td>-2.0</td>\n      <td>2.0</td>\n      <td>3.0</td>\n      <td>3.0</td>\n      <td>23.0</td>\n      <td>13.0</td>\n      <td>-0.455952</td>\n    </tr>\n    <tr>\n      <th>15369</th>\n      <td>2712</td>\n      <td>609</td>\n      <td>Boston</td>\n      <td>1</td>\n      <td>0</td>\n      <td>4</td>\n      <td>5</td>\n      <td>100.0</td>\n      <td>105.0</td>\n      <td>5.0</td>\n      <td>...</td>\n      <td>2019-06-09</td>\n      <td>-2.0</td>\n      <td>2.0</td>\n      <td>1.0</td>\n      <td>-1.0</td>\n      <td>3.0</td>\n      <td>3.0</td>\n      <td>14.0</td>\n      <td>22.0</td>\n      <td>-0.038843</td>\n    </tr>\n    <tr>\n      <th>15370</th>\n      <td>2714</td>\n      <td>612</td>\n      <td>St.Louis</td>\n      <td>2</td>\n      <td>0</td>\n      <td>2</td>\n      <td>4</td>\n      <td>151.0</td>\n      <td>155.0</td>\n      <td>5.5</td>\n      <td>...</td>\n      <td>2019-06-12</td>\n      <td>1.0</td>\n      <td>-1.0</td>\n      <td>4.0</td>\n      <td>-4.0</td>\n      <td>3.0</td>\n      <td>3.0</td>\n      <td>23.0</td>\n      <td>13.0</td>\n      <td>-0.418984</td>\n    </tr>\n  </tbody>\n</table>\n<p>15371 rows × 37 columns</p>\n</div>"
     },
     "metadata": {}
    }
   ]
  },
  {
   "cell_type": "code",
   "metadata": {
    "tags": [],
    "deepnote_to_be_reexecuted": false,
    "source_hash": "c0d901a4",
    "execution_start": 1634398937451,
    "execution_millis": 343,
    "cell_id": "00007-33684997-4d72-4c38-ba4f-cf62fe43e5a8",
    "deepnote_cell_type": "code"
   },
   "source": "perm = PermutationImportance(clf).fit(x_test, y_test)\neli5.show_weights(perm, feature_names = x_test.columns.tolist())",
   "execution_count": 7,
   "outputs": [
    {
     "output_type": "execute_result",
     "execution_count": 7,
     "data": {
      "text/plain": "<IPython.core.display.HTML object>",
      "text/html": "\n    <style>\n    table.eli5-weights tr:hover {\n        filter: brightness(85%);\n    }\n</style>\n\n\n\n    \n\n    \n\n    \n\n    \n\n    \n\n    \n\n\n    \n\n    \n\n    \n\n    \n\n    \n\n    \n\n\n    \n\n    \n\n    \n\n    \n\n    \n        <table class=\"eli5-weights eli5-feature-importances\" style=\"border-collapse: collapse; border: none; margin-top: 0em; table-layout: auto;\">\n    <thead>\n    <tr style=\"border: none;\">\n        <th style=\"padding: 0 1em 0 0.5em; text-align: right; border: none;\">Weight</th>\n        <th style=\"padding: 0 0.5em 0 0.5em; text-align: left; border: none;\">Feature</th>\n    </tr>\n    </thead>\n    <tbody>\n    \n        <tr style=\"background-color: hsl(120, 100.00%, 80.00%); border: none;\">\n            <td style=\"padding: 0 1em 0 0.5em; text-align: right; border: none;\">\n                0.0128\n                \n                    &plusmn; 0.0038\n                \n            </td>\n            <td style=\"padding: 0 0.5em 0 0.5em; text-align: left; border: none;\">\n                ml_home_movement\n            </td>\n        </tr>\n    \n        <tr style=\"background-color: hsl(120, 100.00%, 81.65%); border: none;\">\n            <td style=\"padding: 0 1em 0 0.5em; text-align: right; border: none;\">\n                0.0113\n                \n                    &plusmn; 0.0013\n                \n            </td>\n            <td style=\"padding: 0 0.5em 0 0.5em; text-align: left; border: none;\">\n                MlAwayClose\n            </td>\n        </tr>\n    \n        <tr style=\"background-color: hsl(120, 100.00%, 91.85%); border: none;\">\n            <td style=\"padding: 0 1em 0 0.5em; text-align: right; border: none;\">\n                0.0036\n                \n                    &plusmn; 0.0017\n                \n            </td>\n            <td style=\"padding: 0 0.5em 0 0.5em; text-align: left; border: none;\">\n                MlHomeClose\n            </td>\n        </tr>\n    \n        <tr style=\"background-color: hsl(120, 100.00%, 98.56%); border: none;\">\n            <td style=\"padding: 0 1em 0 0.5em; text-align: right; border: none;\">\n                0.0003\n                \n                    &plusmn; 0.0003\n                \n            </td>\n            <td style=\"padding: 0 0.5em 0 0.5em; text-align: left; border: none;\">\n                home_record\n            </td>\n        </tr>\n    \n        <tr style=\"background-color: hsl(120, 100.00%, 99.36%); border: none;\">\n            <td style=\"padding: 0 1em 0 0.5em; text-align: right; border: none;\">\n                0.0001\n                \n                    &plusmn; 0.0001\n                \n            </td>\n            <td style=\"padding: 0 0.5em 0 0.5em; text-align: left; border: none;\">\n                home_last_3\n            </td>\n        </tr>\n    \n        <tr style=\"background-color: hsl(120, 100.00%, 99.40%); border: none;\">\n            <td style=\"padding: 0 1em 0 0.5em; text-align: right; border: none;\">\n                0.0001\n                \n                    &plusmn; 0.0001\n                \n            </td>\n            <td style=\"padding: 0 0.5em 0 0.5em; text-align: left; border: none;\">\n                home_rest\n            </td>\n        </tr>\n    \n        <tr style=\"background-color: hsl(120, 100.00%, 99.53%); border: none;\">\n            <td style=\"padding: 0 1em 0 0.5em; text-align: right; border: none;\">\n                0.0001\n                \n                    &plusmn; 0.0001\n                \n            </td>\n            <td style=\"padding: 0 0.5em 0 0.5em; text-align: left; border: none;\">\n                CloseOOdds\n            </td>\n        </tr>\n    \n        <tr style=\"background-color: hsl(120, 100.00%, 99.75%); border: none;\">\n            <td style=\"padding: 0 1em 0 0.5em; text-align: right; border: none;\">\n                0.0000\n                \n                    &plusmn; 0.0001\n                \n            </td>\n            <td style=\"padding: 0 0.5em 0 0.5em; text-align: left; border: none;\">\n                away_last_1\n            </td>\n        </tr>\n    \n        <tr style=\"background-color: hsl(0, 100.00%, 100.00%); border: none;\">\n            <td style=\"padding: 0 1em 0 0.5em; text-align: right; border: none;\">\n                0\n                \n                    &plusmn; 0.0000\n                \n            </td>\n            <td style=\"padding: 0 0.5em 0 0.5em; text-align: left; border: none;\">\n                OpenOU\n            </td>\n        </tr>\n    \n        <tr style=\"background-color: hsl(0, 100.00%, 100.00%); border: none;\">\n            <td style=\"padding: 0 1em 0 0.5em; text-align: right; border: none;\">\n                0\n                \n                    &plusmn; 0.0000\n                \n            </td>\n            <td style=\"padding: 0 0.5em 0 0.5em; text-align: left; border: none;\">\n                OpenOOdds\n            </td>\n        </tr>\n    \n        <tr style=\"background-color: hsl(0, 100.00%, 100.00%); border: none;\">\n            <td style=\"padding: 0 1em 0 0.5em; text-align: right; border: none;\">\n                0\n                \n                    &plusmn; 0.0000\n                \n            </td>\n            <td style=\"padding: 0 0.5em 0 0.5em; text-align: left; border: none;\">\n                CloseOU\n            </td>\n        </tr>\n    \n        <tr style=\"background-color: hsl(0, 100.00%, 100.00%); border: none;\">\n            <td style=\"padding: 0 1em 0 0.5em; text-align: right; border: none;\">\n                0\n                \n                    &plusmn; 0.0000\n                \n            </td>\n            <td style=\"padding: 0 0.5em 0 0.5em; text-align: left; border: none;\">\n                away_record\n            </td>\n        </tr>\n    \n        <tr style=\"background-color: hsl(0, 100.00%, 100.00%); border: none;\">\n            <td style=\"padding: 0 1em 0 0.5em; text-align: right; border: none;\">\n                0\n                \n                    &plusmn; 0.0000\n                \n            </td>\n            <td style=\"padding: 0 0.5em 0 0.5em; text-align: left; border: none;\">\n                OpenUOdds\n            </td>\n        </tr>\n    \n        <tr style=\"background-color: hsl(0, 100.00%, 100.00%); border: none;\">\n            <td style=\"padding: 0 1em 0 0.5em; text-align: right; border: none;\">\n                0\n                \n                    &plusmn; 0.0000\n                \n            </td>\n            <td style=\"padding: 0 0.5em 0 0.5em; text-align: left; border: none;\">\n                CloseUOdds\n            </td>\n        </tr>\n    \n        <tr style=\"background-color: hsl(0, 100.00%, 100.00%); border: none;\">\n            <td style=\"padding: 0 1em 0 0.5em; text-align: right; border: none;\">\n                0\n                \n                    &plusmn; 0.0000\n                \n            </td>\n            <td style=\"padding: 0 0.5em 0 0.5em; text-align: left; border: none;\">\n                away_last_3\n            </td>\n        </tr>\n    \n        <tr style=\"background-color: hsl(0, 100.00%, 100.00%); border: none;\">\n            <td style=\"padding: 0 1em 0 0.5em; text-align: right; border: none;\">\n                0\n                \n                    &plusmn; 0.0000\n                \n            </td>\n            <td style=\"padding: 0 0.5em 0 0.5em; text-align: left; border: none;\">\n                home_last_1\n            </td>\n        </tr>\n    \n        <tr style=\"background-color: hsl(0, 100.00%, 99.89%); border: none;\">\n            <td style=\"padding: 0 1em 0 0.5em; text-align: right; border: none;\">\n                -0.0000\n                \n                    &plusmn; 0.0003\n                \n            </td>\n            <td style=\"padding: 0 0.5em 0 0.5em; text-align: left; border: none;\">\n                away_rest\n            </td>\n        </tr>\n    \n        <tr style=\"background-color: hsl(0, 100.00%, 99.46%); border: none;\">\n            <td style=\"padding: 0 1em 0 0.5em; text-align: right; border: none;\">\n                -0.0001\n                \n                    &plusmn; 0.0005\n                \n            </td>\n            <td style=\"padding: 0 0.5em 0 0.5em; text-align: left; border: none;\">\n                ml_away_movement\n            </td>\n        </tr>\n    \n    \n    </tbody>\n</table>\n    \n\n    \n\n\n    \n\n    \n\n    \n\n    \n\n    \n\n    \n\n\n\n"
     },
     "metadata": {}
    }
   ]
  },
  {
   "cell_type": "code",
   "metadata": {
    "tags": [],
    "deepnote_to_be_reexecuted": false,
    "source_hash": "36b36b77",
    "execution_start": 1634400524048,
    "execution_millis": 563,
    "cell_id": "00008-e7145fcf-a7f8-4128-a92c-c5232218b920",
    "deepnote_cell_type": "code"
   },
   "source": "# Ultimate backtester!!!!\n\n\n\ndef calculate_profit(odds, wager):\n    # -101 and beyond\n    if(odds < 0):\n        return int((100 / abs(odds)) * wager)\n    # +100 and beyond\n    return int((odds / 100) * wager)\n\nprint('Testing 2008-2019')\n\n\nmoney = 20000\nwon = 0\nloss = 0\npush = 0\n\nfor row in nhl_odds_leak.itertuples():\n\n    # bet on away team if we think that they'll win but the spread is positive\n    if row.predicted_diff > 0 and row.MlAwayClose > 0:\n        if row.away_point_diff > 0:\n            money += calculate_profit(row.MlAwayClose, 1000)\n            won += 1\n        else:\n            money -= 1000\n            loss += 1\n\n    # bet on home team if we think that they'll win but the spread is positive\n    if row.predicted_diff < 0 and row.MlHomeClose > 0:\n        if row.away_point_diff < 0:\n            money += calculate_profit(row.MlHomeClose, 1000)\n            won += 1\n        else:\n            money -= 1000\n            loss += 1\n\n    if money <= 0:\n        print (\"BUST!\")\n        break\n\nprint (money)\nprint (won)\nprint (loss)\nprint (push)\n\n\n\nmoney = 20000\nwon = 0\nloss = 0\npush = 0\n\nmoney_by_year = {}\n\nfor row in nhl_odds_leak.itertuples():\n\n    if row.Year not in money_by_year:\n        money_by_year.update({row.Year : 0})\n\n    # bet on away team if we think that they'll win but they're not the favourites\n    if row.predicted_diff > 0 and row.MlAwayClose > row.MlHomeClose:\n        if row.away_point_diff > 0:\n            money += calculate_profit(row.MlAwayClose, 1000)\n            money_by_year.update({row.Year: money_by_year.get(row.Year) + calculate_profit(row.MlAwayClose, 1000)})\n            won += 1\n        else:\n            money -= 1000\n            money_by_year.update({row.Year: money_by_year.get(row.Year) - 1000})\n            loss += 1\n\n    # bet on home team if we think that they'll win but they're not the favourites\n    if row.predicted_diff < 0 and row.MlHomeClose > row.MlAwayClose:\n        if row.away_point_diff < 0:\n            money += calculate_profit(row.MlHomeClose, 1000)\n            money_by_year.update({row.Year: money_by_year.get(row.Year) + calculate_profit(row.MlHomeClose, 1000)})\n            won += 1\n        else:\n            money -= 1000\n            money_by_year.update({row.Year: money_by_year.get(row.Year) - 1000})\n            loss += 1\n\n    if money <= 0:\n        print (\"BUST!\")\n        break\n\nprint (money)\nprint (won)\nprint (loss)\nprint (push)\nprint (money_by_year)\n\n\nmoney = 20000\nwon = 0\nloss = 0\npush = 0\n\nfor row in nhl_odds_leak.itertuples():\n\n    # bet on away team if we think that they'll win by 0.1\n    if row.predicted_diff > 0 and row.predicted_diff < .1:\n        if row.away_point_diff > 0:\n            money += calculate_profit(row.MlAwayClose, 1000)\n            won += 1\n        else:\n            money -= 1000\n            loss += 1\n\n    if money <= 0:\n        print (\"BUST!\")\n        break\n'''\n    # bet on home team if we think that they'll win regarless of odds\n    if row.predicted_diff < 0:\n        if row.away_point_diff < 0:\n            money += calculate_profit(row.MlHomeClose, 300)\n            won += 1\n        else:\n            money -= 300\n            loss += 1\n'''\n\nprint (money)\nprint (won)\nprint (loss)\nprint (push)\n",
   "execution_count": 16,
   "outputs": [
    {
     "name": "stdout",
     "text": "Testing 2008-2019\n24760\n27\n23\n0\n38790\n120\n97\n0\n{2008: 1760, 2009: 904, 2010: 1908, 2011: 1808, 2012: -2142, 2013: 1808, 2014: -6127, 2015: 4800, 2016: 5170, 2017: 4417, 2018: -3296, 2019: 7780}\nBUST!\n-411\n348\n327\n0\n",
     "output_type": "stream"
    }
   ]
  },
  {
   "cell_type": "code",
   "metadata": {
    "tags": [],
    "deepnote_to_be_reexecuted": false,
    "source_hash": "d58a8421",
    "execution_start": 1634400662484,
    "execution_millis": 3,
    "cell_id": "00009-2db9725a-581c-4717-8db8-650d30f4f478",
    "deepnote_cell_type": "code"
   },
   "source": "import pickle\n\nwith open('ml2.pickle', 'wb') as f:\n    pickle.dump(clf, f)",
   "execution_count": 20,
   "outputs": []
  },
  {
   "cell_type": "code",
   "source": "# Use model to predict 2020-2021 data\n\ntrain_data3 = nhl_odds_no_leak_2020.drop(['away_point_diff'], axis=1)\n#target_label3 =  nhl_odds_2020_2021['away_point_diff']\n\ny_pred_full2 = clf.predict(train_data3)\n\n\nnhl_odds_2020_2021[\"predicted_diff\"] = y_pred_full2\nnhl_odds_2020_2021",
   "metadata": {
    "tags": [],
    "cell_id": "00010-3fd6dfe9-2b14-41b0-8992-a89978abc0b7",
    "deepnote_to_be_reexecuted": false,
    "source_hash": "d1ed8e2c",
    "execution_start": 1634398943199,
    "execution_millis": 177,
    "deepnote_cell_type": "code"
   },
   "outputs": [
    {
     "output_type": "execute_result",
     "execution_count": 10,
     "data": {
      "application/vnd.deepnote.dataframe.v2+json": {
       "row_count": 2162,
       "column_count": 37,
       "columns": [
        {
         "name": "Unnamed: 0",
         "dtype": "int64",
         "stats": {
          "unique_count": 1211,
          "nan_count": 0,
          "min": "0",
          "max": "2422",
          "histogram": [
           {
            "bin_start": 0,
            "bin_end": 242.2,
            "count": 244
           },
           {
            "bin_start": 242.2,
            "bin_end": 484.4,
            "count": 242
           },
           {
            "bin_start": 484.4,
            "bin_end": 726.5999999999999,
            "count": 242
           },
           {
            "bin_start": 726.5999999999999,
            "bin_end": 968.8,
            "count": 242
           },
           {
            "bin_start": 968.8,
            "bin_end": 1211,
            "count": 242
           },
           {
            "bin_start": 1211,
            "bin_end": 1453.1999999999998,
            "count": 242
           },
           {
            "bin_start": 1453.1999999999998,
            "bin_end": 1695.3999999999999,
            "count": 240
           },
           {
            "bin_start": 1695.3999999999999,
            "bin_end": 1937.6,
            "count": 225
           },
           {
            "bin_start": 1937.6,
            "bin_end": 2179.7999999999997,
            "count": 121
           },
           {
            "bin_start": 2179.7999999999997,
            "bin_end": 2422,
            "count": 122
           }
          ]
         }
        },
        {
         "name": "Date",
         "dtype": "int64",
         "stats": {
          "unique_count": 318,
          "nan_count": 0,
          "min": "101",
          "max": "1231",
          "histogram": [
           {
            "bin_start": 101,
            "bin_end": 214,
            "count": 473
           },
           {
            "bin_start": 214,
            "bin_end": 327,
            "count": 495
           },
           {
            "bin_start": 327,
            "bin_end": 440,
            "count": 258
           },
           {
            "bin_start": 440,
            "bin_end": 553,
            "count": 146
           },
           {
            "bin_start": 553,
            "bin_end": 666,
            "count": 32
           },
           {
            "bin_start": 666,
            "bin_end": 779,
            "count": 3
           },
           {
            "bin_start": 779,
            "bin_end": 892,
            "count": 105
           },
           {
            "bin_start": 892,
            "bin_end": 1005,
            "count": 42
           },
           {
            "bin_start": 1005,
            "bin_end": 1118,
            "count": 298
           },
           {
            "bin_start": 1118,
            "bin_end": 1231,
            "count": 310
           }
          ]
         }
        },
        {
         "name": "AwayTeam",
         "dtype": "object",
         "stats": {
          "unique_count": 31,
          "nan_count": 0,
          "categories": [
           {
            "name": "TampaBay",
            "count": 86
           },
           {
            "name": "NYIslanders",
            "count": 83
           },
           {
            "name": "29 others",
            "count": 1993
           }
          ]
         }
        },
        {
         "name": "Away1st",
         "dtype": "int64",
         "stats": {
          "unique_count": 5,
          "nan_count": 0,
          "min": "0",
          "max": "4",
          "histogram": [
           {
            "bin_start": 0,
            "bin_end": 0.4,
            "count": 944
           },
           {
            "bin_start": 0.4,
            "bin_end": 0.8,
            "count": 0
           },
           {
            "bin_start": 0.8,
            "bin_end": 1.2000000000000002,
            "count": 798
           },
           {
            "bin_start": 1.2000000000000002,
            "bin_end": 1.6,
            "count": 0
           },
           {
            "bin_start": 1.6,
            "bin_end": 2,
            "count": 0
           },
           {
            "bin_start": 2,
            "bin_end": 2.4000000000000004,
            "count": 327
           },
           {
            "bin_start": 2.4000000000000004,
            "bin_end": 2.8000000000000003,
            "count": 0
           },
           {
            "bin_start": 2.8000000000000003,
            "bin_end": 3.2,
            "count": 80
           },
           {
            "bin_start": 3.2,
            "bin_end": 3.6,
            "count": 0
           },
           {
            "bin_start": 3.6,
            "bin_end": 4,
            "count": 13
           }
          ]
         }
        },
        {
         "name": "Away2nd",
         "dtype": "int64",
         "stats": {
          "unique_count": 6,
          "nan_count": 0,
          "min": "0",
          "max": "5",
          "histogram": [
           {
            "bin_start": 0,
            "bin_end": 0.5,
            "count": 783
           },
           {
            "bin_start": 0.5,
            "bin_end": 1,
            "count": 0
           },
           {
            "bin_start": 1,
            "bin_end": 1.5,
            "count": 857
           },
           {
            "bin_start": 1.5,
            "bin_end": 2,
            "count": 0
           },
           {
            "bin_start": 2,
            "bin_end": 2.5,
            "count": 373
           },
           {
            "bin_start": 2.5,
            "bin_end": 3,
            "count": 0
           },
           {
            "bin_start": 3,
            "bin_end": 3.5,
            "count": 116
           },
           {
            "bin_start": 3.5,
            "bin_end": 4,
            "count": 0
           },
           {
            "bin_start": 4,
            "bin_end": 4.5,
            "count": 31
           },
           {
            "bin_start": 4.5,
            "bin_end": 5,
            "count": 2
           }
          ]
         }
        },
        {
         "name": "Away3rd",
         "dtype": "int64",
         "stats": {
          "unique_count": 7,
          "nan_count": 0,
          "min": "0",
          "max": "6",
          "histogram": [
           {
            "bin_start": 0,
            "bin_end": 0.6,
            "count": 854
           },
           {
            "bin_start": 0.6,
            "bin_end": 1.2,
            "count": 765
           },
           {
            "bin_start": 1.2,
            "bin_end": 1.7999999999999998,
            "count": 0
           },
           {
            "bin_start": 1.7999999999999998,
            "bin_end": 2.4,
            "count": 389
           },
           {
            "bin_start": 2.4,
            "bin_end": 3,
            "count": 0
           },
           {
            "bin_start": 3,
            "bin_end": 3.5999999999999996,
            "count": 118
           },
           {
            "bin_start": 3.5999999999999996,
            "bin_end": 4.2,
            "count": 30
           },
           {
            "bin_start": 4.2,
            "bin_end": 4.8,
            "count": 0
           },
           {
            "bin_start": 4.8,
            "bin_end": 5.3999999999999995,
            "count": 5
           },
           {
            "bin_start": 5.3999999999999995,
            "bin_end": 6,
            "count": 1
           }
          ]
         }
        },
        {
         "name": "AwayFinal",
         "dtype": "int64",
         "stats": {
          "unique_count": 9,
          "nan_count": 0,
          "min": "0",
          "max": "8",
          "histogram": [
           {
            "bin_start": 0,
            "bin_end": 0.8,
            "count": 143
           },
           {
            "bin_start": 0.8,
            "bin_end": 1.6,
            "count": 335
           },
           {
            "bin_start": 1.6,
            "bin_end": 2.4000000000000004,
            "count": 500
           },
           {
            "bin_start": 2.4000000000000004,
            "bin_end": 3.2,
            "count": 456
           },
           {
            "bin_start": 3.2,
            "bin_end": 4,
            "count": 0
           },
           {
            "bin_start": 4,
            "bin_end": 4.800000000000001,
            "count": 374
           },
           {
            "bin_start": 4.800000000000001,
            "bin_end": 5.6000000000000005,
            "count": 223
           },
           {
            "bin_start": 5.6000000000000005,
            "bin_end": 6.4,
            "count": 98
           },
           {
            "bin_start": 6.4,
            "bin_end": 7.2,
            "count": 25
           },
           {
            "bin_start": 7.2,
            "bin_end": 8,
            "count": 8
           }
          ]
         }
        },
        {
         "name": "MlAwayOpen",
         "dtype": "float64",
         "stats": {
          "unique_count": 232,
          "nan_count": 0,
          "min": "-1210.0",
          "max": "1086.0",
          "histogram": [
           {
            "bin_start": -1210,
            "bin_end": -980.4,
            "count": 1
           },
           {
            "bin_start": -980.4,
            "bin_end": -750.8,
            "count": 0
           },
           {
            "bin_start": -750.8,
            "bin_end": -521.2,
            "count": 0
           },
           {
            "bin_start": -521.2,
            "bin_end": -291.6,
            "count": 13
           },
           {
            "bin_start": -291.6,
            "bin_end": -62,
            "count": 933
           },
           {
            "bin_start": -62,
            "bin_end": 167.5999999999999,
            "count": 916
           },
           {
            "bin_start": 167.5999999999999,
            "bin_end": 397.20000000000005,
            "count": 297
           },
           {
            "bin_start": 397.20000000000005,
            "bin_end": 626.8,
            "count": 0
           },
           {
            "bin_start": 626.8,
            "bin_end": 856.4000000000001,
            "count": 1
           },
           {
            "bin_start": 856.4000000000001,
            "bin_end": 1086,
            "count": 1
           }
          ]
         }
        },
        {
         "name": "MlAwayClose",
         "dtype": "float64",
         "stats": {
          "unique_count": 202,
          "nan_count": 0,
          "min": "-390.0",
          "max": "450.0",
          "histogram": [
           {
            "bin_start": -390,
            "bin_end": -306,
            "count": 8
           },
           {
            "bin_start": -306,
            "bin_end": -222,
            "count": 40
           },
           {
            "bin_start": -222,
            "bin_end": -138,
            "count": 311
           },
           {
            "bin_start": -138,
            "bin_end": -54,
            "count": 485
           },
           {
            "bin_start": -54,
            "bin_end": 30,
            "count": 0
           },
           {
            "bin_start": 30,
            "bin_end": 114,
            "count": 235
           },
           {
            "bin_start": 114,
            "bin_end": 198,
            "count": 900
           },
           {
            "bin_start": 198,
            "bin_end": 282,
            "count": 152
           },
           {
            "bin_start": 282,
            "bin_end": 366,
            "count": 28
           },
           {
            "bin_start": 366,
            "bin_end": 450,
            "count": 3
           }
          ]
         }
        },
        {
         "name": "OpenOU",
         "dtype": "float64",
         "stats": {
          "unique_count": 9,
          "nan_count": 0,
          "min": "2.0",
          "max": "8.5",
          "histogram": [
           {
            "bin_start": 2,
            "bin_end": 2.65,
            "count": 1
           },
           {
            "bin_start": 2.65,
            "bin_end": 3.3,
            "count": 0
           },
           {
            "bin_start": 3.3,
            "bin_end": 3.95,
            "count": 0
           },
           {
            "bin_start": 3.95,
            "bin_end": 4.6,
            "count": 0
           },
           {
            "bin_start": 4.6,
            "bin_end": 5.25,
            "count": 108
           },
           {
            "bin_start": 5.25,
            "bin_end": 5.9,
            "count": 921
           },
           {
            "bin_start": 5.9,
            "bin_end": 6.55,
            "count": 1115
           },
           {
            "bin_start": 6.55,
            "bin_end": 7.2,
            "count": 4
           },
           {
            "bin_start": 7.2,
            "bin_end": 7.8500000000000005,
            "count": 1
           },
           {
            "bin_start": 7.8500000000000005,
            "bin_end": 8.5,
            "count": 12
           }
          ]
         }
        },
        {
         "name": "OpenOOdds",
         "dtype": "int64",
         "stats": {
          "unique_count": 37,
          "nan_count": 0,
          "min": "-160",
          "max": "605",
          "histogram": [
           {
            "bin_start": -160,
            "bin_end": -83.5,
            "count": 2049
           },
           {
            "bin_start": -83.5,
            "bin_end": -7,
            "count": 0
           },
           {
            "bin_start": -7,
            "bin_end": 69.5,
            "count": 0
           },
           {
            "bin_start": 69.5,
            "bin_end": 146,
            "count": 112
           },
           {
            "bin_start": 146,
            "bin_end": 222.5,
            "count": 0
           },
           {
            "bin_start": 222.5,
            "bin_end": 299,
            "count": 0
           },
           {
            "bin_start": 299,
            "bin_end": 375.5,
            "count": 0
           },
           {
            "bin_start": 375.5,
            "bin_end": 452,
            "count": 0
           },
           {
            "bin_start": 452,
            "bin_end": 528.5,
            "count": 0
           },
           {
            "bin_start": 528.5,
            "bin_end": 605,
            "count": 1
           }
          ]
         }
        },
        {
         "name": "CloseOU",
         "dtype": "float64",
         "stats": {
          "unique_count": 5,
          "nan_count": 0,
          "min": "5.0",
          "max": "7.0",
          "histogram": [
           {
            "bin_start": 5,
            "bin_end": 5.2,
            "count": 122
           },
           {
            "bin_start": 5.2,
            "bin_end": 5.4,
            "count": 0
           },
           {
            "bin_start": 5.4,
            "bin_end": 5.6,
            "count": 923
           },
           {
            "bin_start": 5.6,
            "bin_end": 5.8,
            "count": 0
           },
           {
            "bin_start": 5.8,
            "bin_end": 6,
            "count": 0
           },
           {
            "bin_start": 6,
            "bin_end": 6.2,
            "count": 676
           },
           {
            "bin_start": 6.2,
            "bin_end": 6.4,
            "count": 0
           },
           {
            "bin_start": 6.4,
            "bin_end": 6.6,
            "count": 438
           },
           {
            "bin_start": 6.6,
            "bin_end": 6.8,
            "count": 0
           },
           {
            "bin_start": 6.8,
            "bin_end": 7,
            "count": 3
           }
          ]
         }
        },
        {
         "name": "CloseOOdds",
         "dtype": "int64",
         "stats": {
          "unique_count": 23,
          "nan_count": 0,
          "min": "-150",
          "max": "170",
          "histogram": [
           {
            "bin_start": -150,
            "bin_end": -118,
            "count": 538
           },
           {
            "bin_start": -118,
            "bin_end": -86,
            "count": 951
           },
           {
            "bin_start": -86,
            "bin_end": -54,
            "count": 0
           },
           {
            "bin_start": -54,
            "bin_end": -22,
            "count": 0
           },
           {
            "bin_start": -22,
            "bin_end": 10,
            "count": 0
           },
           {
            "bin_start": 10,
            "bin_end": 42,
            "count": 0
           },
           {
            "bin_start": 42,
            "bin_end": 74,
            "count": 0
           },
           {
            "bin_start": 74,
            "bin_end": 106,
            "count": 451
           },
           {
            "bin_start": 106,
            "bin_end": 138,
            "count": 221
           },
           {
            "bin_start": 138,
            "bin_end": 170,
            "count": 1
           }
          ]
         }
        },
        {
         "name": "Year",
         "dtype": "int64",
         "stats": {
          "unique_count": 2,
          "nan_count": 0,
          "min": "2020",
          "max": "2021",
          "histogram": [
           {
            "bin_start": 2020,
            "bin_end": 2020.1,
            "count": 1211
           },
           {
            "bin_start": 2020.1,
            "bin_end": 2020.2,
            "count": 0
           },
           {
            "bin_start": 2020.2,
            "bin_end": 2020.3,
            "count": 0
           },
           {
            "bin_start": 2020.3,
            "bin_end": 2020.4,
            "count": 0
           },
           {
            "bin_start": 2020.4,
            "bin_end": 2020.5,
            "count": 0
           },
           {
            "bin_start": 2020.5,
            "bin_end": 2020.6,
            "count": 0
           },
           {
            "bin_start": 2020.6,
            "bin_end": 2020.7,
            "count": 0
           },
           {
            "bin_start": 2020.7,
            "bin_end": 2020.8,
            "count": 0
           },
           {
            "bin_start": 2020.8,
            "bin_end": 2020.9,
            "count": 0
           },
           {
            "bin_start": 2020.9,
            "bin_end": 2021,
            "count": 951
           }
          ]
         }
        },
        {
         "name": "HomeTeam",
         "dtype": "object",
         "stats": {
          "unique_count": 32,
          "nan_count": 0,
          "categories": [
           {
            "name": "TampaBay",
            "count": 87
           },
           {
            "name": "Vegas",
            "count": 86
           },
           {
            "name": "30 others",
            "count": 1989
           }
          ]
         }
        },
        {
         "name": "Home1st",
         "dtype": "float64",
         "stats": {
          "unique_count": 6,
          "nan_count": 0,
          "min": "0.0",
          "max": "5.0",
          "histogram": [
           {
            "bin_start": 0,
            "bin_end": 0.5,
            "count": 890
           },
           {
            "bin_start": 0.5,
            "bin_end": 1,
            "count": 0
           },
           {
            "bin_start": 1,
            "bin_end": 1.5,
            "count": 789
           },
           {
            "bin_start": 1.5,
            "bin_end": 2,
            "count": 0
           },
           {
            "bin_start": 2,
            "bin_end": 2.5,
            "count": 358
           },
           {
            "bin_start": 2.5,
            "bin_end": 3,
            "count": 0
           },
           {
            "bin_start": 3,
            "bin_end": 3.5,
            "count": 96
           },
           {
            "bin_start": 3.5,
            "bin_end": 4,
            "count": 0
           },
           {
            "bin_start": 4,
            "bin_end": 4.5,
            "count": 24
           },
           {
            "bin_start": 4.5,
            "bin_end": 5,
            "count": 5
           }
          ]
         }
        },
        {
         "name": "Home2nd",
         "dtype": "float64",
         "stats": {
          "unique_count": 8,
          "nan_count": 0,
          "min": "0.0",
          "max": "7.0",
          "histogram": [
           {
            "bin_start": 0,
            "bin_end": 0.7,
            "count": 767
           },
           {
            "bin_start": 0.7,
            "bin_end": 1.4,
            "count": 803
           },
           {
            "bin_start": 1.4,
            "bin_end": 2.0999999999999996,
            "count": 401
           },
           {
            "bin_start": 2.0999999999999996,
            "bin_end": 2.8,
            "count": 0
           },
           {
            "bin_start": 2.8,
            "bin_end": 3.5,
            "count": 149
           },
           {
            "bin_start": 3.5,
            "bin_end": 4.199999999999999,
            "count": 31
           },
           {
            "bin_start": 4.199999999999999,
            "bin_end": 4.8999999999999995,
            "count": 0
           },
           {
            "bin_start": 4.8999999999999995,
            "bin_end": 5.6,
            "count": 8
           },
           {
            "bin_start": 5.6,
            "bin_end": 6.3,
            "count": 2
           },
           {
            "bin_start": 6.3,
            "bin_end": 7,
            "count": 1
           }
          ]
         }
        },
        {
         "name": "Home3rd",
         "dtype": "float64",
         "stats": {
          "unique_count": 7,
          "nan_count": 0,
          "min": "0.0",
          "max": "6.0",
          "histogram": [
           {
            "bin_start": 0,
            "bin_end": 0.6,
            "count": 771
           },
           {
            "bin_start": 0.6,
            "bin_end": 1.2,
            "count": 765
           },
           {
            "bin_start": 1.2,
            "bin_end": 1.7999999999999998,
            "count": 0
           },
           {
            "bin_start": 1.7999999999999998,
            "bin_end": 2.4,
            "count": 432
           },
           {
            "bin_start": 2.4,
            "bin_end": 3,
            "count": 0
           },
           {
            "bin_start": 3,
            "bin_end": 3.5999999999999996,
            "count": 149
           },
           {
            "bin_start": 3.5999999999999996,
            "bin_end": 4.2,
            "count": 37
           },
           {
            "bin_start": 4.2,
            "bin_end": 4.8,
            "count": 0
           },
           {
            "bin_start": 4.8,
            "bin_end": 5.3999999999999995,
            "count": 7
           },
           {
            "bin_start": 5.3999999999999995,
            "bin_end": 6,
            "count": 1
           }
          ]
         }
        },
        {
         "name": "HomeFinal",
         "dtype": "float64",
         "stats": {
          "unique_count": 10,
          "nan_count": 0,
          "min": "0.0",
          "max": "9.0",
          "histogram": [
           {
            "bin_start": 0,
            "bin_end": 0.9,
            "count": 117
           },
           {
            "bin_start": 0.9,
            "bin_end": 1.8,
            "count": 308
           },
           {
            "bin_start": 1.8,
            "bin_end": 2.7,
            "count": 415
           },
           {
            "bin_start": 2.7,
            "bin_end": 3.6,
            "count": 494
           },
           {
            "bin_start": 3.6,
            "bin_end": 4.5,
            "count": 400
           },
           {
            "bin_start": 4.5,
            "bin_end": 5.4,
            "count": 248
           },
           {
            "bin_start": 5.4,
            "bin_end": 6.3,
            "count": 108
           },
           {
            "bin_start": 6.3,
            "bin_end": 7.2,
            "count": 50
           },
           {
            "bin_start": 7.2,
            "bin_end": 8.1,
            "count": 15
           },
           {
            "bin_start": 8.1,
            "bin_end": 9,
            "count": 7
           }
          ]
         }
        },
        {
         "name": "MlHomeOpen",
         "dtype": "float64",
         "stats": {
          "unique_count": 225,
          "nan_count": 0,
          "min": "-2156.0",
          "max": "760.0",
          "histogram": [
           {
            "bin_start": -2156,
            "bin_end": -1864.4,
            "count": 1
           },
           {
            "bin_start": -1864.4,
            "bin_end": -1572.8,
            "count": 0
           },
           {
            "bin_start": -1572.8,
            "bin_end": -1281.1999999999998,
            "count": 0
           },
           {
            "bin_start": -1281.1999999999998,
            "bin_end": -989.5999999999999,
            "count": 1
           },
           {
            "bin_start": -989.5999999999999,
            "bin_end": -698,
            "count": 0
           },
           {
            "bin_start": -698,
            "bin_end": -406.39999999999986,
            "count": 2
           },
           {
            "bin_start": -406.39999999999986,
            "bin_end": -114.79999999999973,
            "count": 1299
           },
           {
            "bin_start": -114.79999999999973,
            "bin_end": 176.80000000000018,
            "count": 797
           },
           {
            "bin_start": 176.80000000000018,
            "bin_end": 468.4000000000001,
            "count": 61
           },
           {
            "bin_start": 468.4000000000001,
            "bin_end": 760,
            "count": 1
           }
          ]
         }
        },
        {
         "name": "MlHomeClose",
         "dtype": "float64",
         "stats": {
          "unique_count": 209,
          "nan_count": 0,
          "min": "-600.0",
          "max": "325.0",
          "histogram": [
           {
            "bin_start": -600,
            "bin_end": -507.5,
            "count": 2
           },
           {
            "bin_start": -507.5,
            "bin_end": -415,
            "count": 3
           },
           {
            "bin_start": -415,
            "bin_end": -322.5,
            "count": 26
           },
           {
            "bin_start": -322.5,
            "bin_end": -230,
            "count": 101
           },
           {
            "bin_start": -230,
            "bin_end": -137.5,
            "count": 719
           },
           {
            "bin_start": -137.5,
            "bin_end": -45,
            "count": 569
           },
           {
            "bin_start": -45,
            "bin_end": 47.5,
            "count": 0
           },
           {
            "bin_start": 47.5,
            "bin_end": 140,
            "count": 479
           },
           {
            "bin_start": 140,
            "bin_end": 232.5,
            "count": 242
           },
           {
            "bin_start": 232.5,
            "bin_end": 325,
            "count": 21
           }
          ]
         }
        },
        {
         "name": "OpenUOdds",
         "dtype": "float64",
         "stats": {
          "unique_count": 33,
          "nan_count": 0,
          "min": "-150.0",
          "max": "127.0",
          "histogram": [
           {
            "bin_start": -150,
            "bin_end": -122.3,
            "count": 78
           },
           {
            "bin_start": -122.3,
            "bin_end": -94.6,
            "count": 1986
           },
           {
            "bin_start": -94.6,
            "bin_end": -66.9,
            "count": 0
           },
           {
            "bin_start": -66.9,
            "bin_end": -39.2,
            "count": 0
           },
           {
            "bin_start": -39.2,
            "bin_end": -11.5,
            "count": 0
           },
           {
            "bin_start": -11.5,
            "bin_end": 16.19999999999999,
            "count": 0
           },
           {
            "bin_start": 16.19999999999999,
            "bin_end": 43.900000000000006,
            "count": 0
           },
           {
            "bin_start": 43.900000000000006,
            "bin_end": 71.6,
            "count": 0
           },
           {
            "bin_start": 71.6,
            "bin_end": 99.29999999999998,
            "count": 0
           },
           {
            "bin_start": 99.29999999999998,
            "bin_end": 127,
            "count": 98
           }
          ]
         }
        },
        {
         "name": "CloseUOdds",
         "dtype": "float64",
         "stats": {
          "unique_count": 23,
          "nan_count": 0,
          "min": "-190.0",
          "max": "130.0",
          "histogram": [
           {
            "bin_start": -190,
            "bin_end": -158,
            "count": 1
           },
           {
            "bin_start": -158,
            "bin_end": -126,
            "count": 217
           },
           {
            "bin_start": -126,
            "bin_end": -94,
            "count": 1406
           },
           {
            "bin_start": -94,
            "bin_end": -62,
            "count": 0
           },
           {
            "bin_start": -62,
            "bin_end": -30,
            "count": 0
           },
           {
            "bin_start": -30,
            "bin_end": 2,
            "count": 0
           },
           {
            "bin_start": 2,
            "bin_end": 34,
            "count": 0
           },
           {
            "bin_start": 34,
            "bin_end": 66,
            "count": 0
           },
           {
            "bin_start": 66,
            "bin_end": 98,
            "count": 0
           },
           {
            "bin_start": 98,
            "bin_end": 130,
            "count": 538
           }
          ]
         }
        },
        {
         "name": "home_point_diff",
         "dtype": "float64",
         "stats": {
          "unique_count": 16,
          "nan_count": 0,
          "min": "-7.0",
          "max": "9.0",
          "histogram": [
           {
            "bin_start": -7,
            "bin_end": -5.4,
            "count": 14
           },
           {
            "bin_start": -5.4,
            "bin_end": -3.8,
            "count": 108
           },
           {
            "bin_start": -3.8,
            "bin_end": -2.1999999999999993,
            "count": 216
           },
           {
            "bin_start": -2.1999999999999993,
            "bin_end": -0.5999999999999996,
            "count": 680
           },
           {
            "bin_start": -0.5999999999999996,
            "bin_end": 1,
            "count": 0
           },
           {
            "bin_start": 1,
            "bin_end": 2.6000000000000014,
            "count": 689
           },
           {
            "bin_start": 2.6000000000000014,
            "bin_end": 4.200000000000001,
            "count": 388
           },
           {
            "bin_start": 4.200000000000001,
            "bin_end": 5.800000000000001,
            "count": 40
           },
           {
            "bin_start": 5.800000000000001,
            "bin_end": 7.4,
            "count": 23
           },
           {
            "bin_start": 7.4,
            "bin_end": 9,
            "count": 4
           }
          ]
         }
        },
        {
         "name": "away_point_diff",
         "dtype": "float64",
         "stats": {
          "unique_count": 16,
          "nan_count": 0,
          "min": "-9.0",
          "max": "7.0",
          "histogram": [
           {
            "bin_start": -9,
            "bin_end": -7.4,
            "count": 4
           },
           {
            "bin_start": -7.4,
            "bin_end": -5.8,
            "count": 23
           },
           {
            "bin_start": -5.8,
            "bin_end": -4.199999999999999,
            "count": 40
           },
           {
            "bin_start": -4.199999999999999,
            "bin_end": -2.5999999999999996,
            "count": 388
           },
           {
            "bin_start": -2.5999999999999996,
            "bin_end": -1,
            "count": 227
           },
           {
            "bin_start": -1,
            "bin_end": 0.6000000000000014,
            "count": 462
           },
           {
            "bin_start": 0.6000000000000014,
            "bin_end": 2.200000000000001,
            "count": 680
           },
           {
            "bin_start": 2.200000000000001,
            "bin_end": 3.8000000000000007,
            "count": 216
           },
           {
            "bin_start": 3.8000000000000007,
            "bin_end": 5.4,
            "count": 108
           },
           {
            "bin_start": 5.4,
            "bin_end": 7,
            "count": 14
           }
          ]
         }
        },
        {
         "name": "ml_away_movement",
         "dtype": "float64",
         "stats": {
          "unique_count": 172,
          "nan_count": 0,
          "min": "-896.0",
          "max": "1085.0",
          "histogram": [
           {
            "bin_start": -896,
            "bin_end": -697.9,
            "count": 1
           },
           {
            "bin_start": -697.9,
            "bin_end": -499.8,
            "count": 1
           },
           {
            "bin_start": -499.8,
            "bin_end": -301.70000000000005,
            "count": 1
           },
           {
            "bin_start": -301.70000000000005,
            "bin_end": -103.60000000000002,
            "count": 36
           },
           {
            "bin_start": -103.60000000000002,
            "bin_end": 94.5,
            "count": 1979
           },
           {
            "bin_start": 94.5,
            "bin_end": 292.5999999999999,
            "count": 139
           },
           {
            "bin_start": 292.5999999999999,
            "bin_end": 490.70000000000005,
            "count": 4
           },
           {
            "bin_start": 490.70000000000005,
            "bin_end": 688.8,
            "count": 0
           },
           {
            "bin_start": 688.8,
            "bin_end": 886.8999999999999,
            "count": 0
           },
           {
            "bin_start": 886.8999999999999,
            "bin_end": 1085,
            "count": 1
           }
          ]
         }
        },
        {
         "name": "ml_home_movement",
         "dtype": "float64",
         "stats": {
          "unique_count": 539,
          "nan_count": 0,
          "min": "-1296.0",
          "max": "1325.0",
          "histogram": [
           {
            "bin_start": -1296,
            "bin_end": -1033.9,
            "count": 1
           },
           {
            "bin_start": -1033.9,
            "bin_end": -771.8,
            "count": 4
           },
           {
            "bin_start": -771.8,
            "bin_end": -509.69999999999993,
            "count": 62
           },
           {
            "bin_start": -509.69999999999993,
            "bin_end": -247.5999999999999,
            "count": 872
           },
           {
            "bin_start": -247.5999999999999,
            "bin_end": 14.5,
            "count": 472
           },
           {
            "bin_start": 14.5,
            "bin_end": 276.60000000000014,
            "count": 429
           },
           {
            "bin_start": 276.60000000000014,
            "bin_end": 538.7000000000003,
            "count": 307
           },
           {
            "bin_start": 538.7000000000003,
            "bin_end": 800.8000000000002,
            "count": 14
           },
           {
            "bin_start": 800.8000000000002,
            "bin_end": 1062.9,
            "count": 0
           },
           {
            "bin_start": 1062.9,
            "bin_end": 1325,
            "count": 1
           }
          ]
         }
        },
        {
         "name": "RealDate",
         "dtype": "datetime64[ns]",
         "stats": {
          "unique_count": 372,
          "nan_count": 0,
          "min": "2019-10-02 00:00:00",
          "max": "2021-07-07 00:00:00",
          "histogram": [
           {
            "bin_start": 1569974400000000000,
            "bin_end": 1575538560000000000,
            "count": 446
           },
           {
            "bin_start": 1575538560000000000,
            "bin_end": 1581102720000000000,
            "count": 395
           },
           {
            "bin_start": 1581102720000000000,
            "bin_end": 1586666880000000000,
            "count": 240
           },
           {
            "bin_start": 1586666880000000000,
            "bin_end": 1592231040000000000,
            "count": 0
           },
           {
            "bin_start": 1592231040000000000,
            "bin_end": 1597795200000000000,
            "count": 78
           },
           {
            "bin_start": 1597795200000000000,
            "bin_end": 1603359360000000000,
            "count": 52
           },
           {
            "bin_start": 1603359360000000000,
            "bin_end": 1608923520000000000,
            "count": 0
           },
           {
            "bin_start": 1608923520000000000,
            "bin_end": 1614487680000000000,
            "count": 314
           },
           {
            "bin_start": 1614487680000000000,
            "bin_end": 1620051840000000000,
            "count": 486
           },
           {
            "bin_start": 1620051840000000000,
            "bin_end": 1625616000000000000,
            "count": 151
           }
          ]
         }
        },
        {
         "name": "home_last_3",
         "dtype": "float64",
         "stats": {
          "unique_count": 28,
          "nan_count": 0,
          "min": "-14.0",
          "max": "13.0",
          "histogram": [
           {
            "bin_start": -14,
            "bin_end": -11.3,
            "count": 9
           },
           {
            "bin_start": -11.3,
            "bin_end": -8.6,
            "count": 58
           },
           {
            "bin_start": -8.6,
            "bin_end": -5.899999999999999,
            "count": 182
           },
           {
            "bin_start": -5.899999999999999,
            "bin_end": -3.1999999999999993,
            "count": 229
           },
           {
            "bin_start": -3.1999999999999993,
            "bin_end": -0.5,
            "count": 534
           },
           {
            "bin_start": -0.5,
            "bin_end": 2.200000000000003,
            "count": 540
           },
           {
            "bin_start": 2.200000000000003,
            "bin_end": 4.900000000000002,
            "count": 267
           },
           {
            "bin_start": 4.900000000000002,
            "bin_end": 7.600000000000001,
            "count": 231
           },
           {
            "bin_start": 7.600000000000001,
            "bin_end": 10.3,
            "count": 100
           },
           {
            "bin_start": 10.3,
            "bin_end": 13,
            "count": 12
           }
          ]
         }
        },
        {
         "name": "away_last_3",
         "dtype": "float64",
         "stats": {
          "unique_count": 28,
          "nan_count": 0,
          "min": "-13.0",
          "max": "14.0",
          "histogram": [
           {
            "bin_start": -13,
            "bin_end": -10.3,
            "count": 19
           },
           {
            "bin_start": -10.3,
            "bin_end": -7.6,
            "count": 86
           },
           {
            "bin_start": -7.6,
            "bin_end": -4.899999999999999,
            "count": 238
           },
           {
            "bin_start": -4.899999999999999,
            "bin_end": -2.1999999999999993,
            "count": 282
           },
           {
            "bin_start": -2.1999999999999993,
            "bin_end": 0.5,
            "count": 501
           },
           {
            "bin_start": 0.5,
            "bin_end": 3.200000000000003,
            "count": 553
           },
           {
            "bin_start": 3.200000000000003,
            "bin_end": 5.900000000000002,
            "count": 231
           },
           {
            "bin_start": 5.900000000000002,
            "bin_end": 8.600000000000001,
            "count": 181
           },
           {
            "bin_start": 8.600000000000001,
            "bin_end": 11.3,
            "count": 63
           },
           {
            "bin_start": 11.3,
            "bin_end": 14,
            "count": 8
           }
          ]
         }
        },
        {
         "name": "home_last_1",
         "dtype": "float64",
         "stats": {
          "unique_count": 17,
          "nan_count": 0,
          "min": "-8.0",
          "max": "8.0",
          "histogram": [
           {
            "bin_start": -8,
            "bin_end": -6.4,
            "count": 5
           },
           {
            "bin_start": -6.4,
            "bin_end": -4.8,
            "count": 47
           },
           {
            "bin_start": -4.8,
            "bin_end": -3.1999999999999993,
            "count": 94
           },
           {
            "bin_start": -3.1999999999999993,
            "bin_end": -1.5999999999999996,
            "count": 443
           },
           {
            "bin_start": -1.5999999999999996,
            "bin_end": 0,
            "count": 487
           },
           {
            "bin_start": 0,
            "bin_end": 1.6000000000000014,
            "count": 465
           },
           {
            "bin_start": 1.6000000000000014,
            "bin_end": 3.200000000000001,
            "count": 468
           },
           {
            "bin_start": 3.200000000000001,
            "bin_end": 4.800000000000001,
            "count": 92
           },
           {
            "bin_start": 4.800000000000001,
            "bin_end": 6.4,
            "count": 56
           },
           {
            "bin_start": 6.4,
            "bin_end": 8,
            "count": 5
           }
          ]
         }
        },
        {
         "name": "away_last_1",
         "dtype": "float64",
         "stats": {
          "unique_count": 18,
          "nan_count": 0,
          "min": "-9.0",
          "max": "9.0",
          "histogram": [
           {
            "bin_start": -9,
            "bin_end": -7.2,
            "count": 2
           },
           {
            "bin_start": -7.2,
            "bin_end": -5.4,
            "count": 22
           },
           {
            "bin_start": -5.4,
            "bin_end": -3.5999999999999996,
            "count": 143
           },
           {
            "bin_start": -3.5999999999999996,
            "bin_end": -1.7999999999999998,
            "count": 470
           },
           {
            "bin_start": -1.7999999999999998,
            "bin_end": 0,
            "count": 449
           },
           {
            "bin_start": 0,
            "bin_end": 1.8000000000000007,
            "count": 469
           },
           {
            "bin_start": 1.8000000000000007,
            "bin_end": 3.5999999999999996,
            "count": 448
           },
           {
            "bin_start": 3.5999999999999996,
            "bin_end": 5.4,
            "count": 142
           },
           {
            "bin_start": 5.4,
            "bin_end": 7.199999999999999,
            "count": 14
           },
           {
            "bin_start": 7.199999999999999,
            "bin_end": 9,
            "count": 3
           }
          ]
         }
        },
        {
         "name": "home_rest",
         "dtype": "float64",
         "stats": {
          "unique_count": 44,
          "nan_count": 0,
          "min": "1.0",
          "max": "4782.0",
          "histogram": [
           {
            "bin_start": 1,
            "bin_end": 479.1,
            "count": 2161
           },
           {
            "bin_start": 479.1,
            "bin_end": 957.2,
            "count": 0
           },
           {
            "bin_start": 957.2,
            "bin_end": 1435.3000000000002,
            "count": 0
           },
           {
            "bin_start": 1435.3000000000002,
            "bin_end": 1913.4,
            "count": 0
           },
           {
            "bin_start": 1913.4,
            "bin_end": 2391.5,
            "count": 0
           },
           {
            "bin_start": 2391.5,
            "bin_end": 2869.6000000000004,
            "count": 0
           },
           {
            "bin_start": 2869.6000000000004,
            "bin_end": 3347.7000000000003,
            "count": 0
           },
           {
            "bin_start": 3347.7000000000003,
            "bin_end": 3825.8,
            "count": 0
           },
           {
            "bin_start": 3825.8,
            "bin_end": 4303.900000000001,
            "count": 0
           },
           {
            "bin_start": 4303.900000000001,
            "bin_end": 4782,
            "count": 1
           }
          ]
         }
        },
        {
         "name": "away_rest",
         "dtype": "float64",
         "stats": {
          "unique_count": 35,
          "nan_count": 0,
          "min": "1.0",
          "max": "309.0",
          "histogram": [
           {
            "bin_start": 1,
            "bin_end": 31.8,
            "count": 2120
           },
           {
            "bin_start": 31.8,
            "bin_end": 62.6,
            "count": 0
           },
           {
            "bin_start": 62.6,
            "bin_end": 93.4,
            "count": 0
           },
           {
            "bin_start": 93.4,
            "bin_end": 124.2,
            "count": 2
           },
           {
            "bin_start": 124.2,
            "bin_end": 155,
            "count": 23
           },
           {
            "bin_start": 155,
            "bin_end": 185.8,
            "count": 15
           },
           {
            "bin_start": 185.8,
            "bin_end": 216.6,
            "count": 0
           },
           {
            "bin_start": 216.6,
            "bin_end": 247.4,
            "count": 0
           },
           {
            "bin_start": 247.4,
            "bin_end": 278.2,
            "count": 0
           },
           {
            "bin_start": 278.2,
            "bin_end": 309,
            "count": 2
           }
          ]
         }
        },
        {
         "name": "home_record",
         "dtype": "float64",
         "stats": {
          "unique_count": 62,
          "nan_count": 0,
          "min": "-37.0",
          "max": "28.0",
          "histogram": [
           {
            "bin_start": -37,
            "bin_end": -30.5,
            "count": 8
           },
           {
            "bin_start": -30.5,
            "bin_end": -24,
            "count": 5
           },
           {
            "bin_start": -24,
            "bin_end": -17.5,
            "count": 44
           },
           {
            "bin_start": -17.5,
            "bin_end": -11,
            "count": 96
           },
           {
            "bin_start": -11,
            "bin_end": -4.5,
            "count": 330
           },
           {
            "bin_start": -4.5,
            "bin_end": 2,
            "count": 730
           },
           {
            "bin_start": 2,
            "bin_end": 8.5,
            "count": 564
           },
           {
            "bin_start": 8.5,
            "bin_end": 15,
            "count": 248
           },
           {
            "bin_start": 15,
            "bin_end": 21.5,
            "count": 110
           },
           {
            "bin_start": 21.5,
            "bin_end": 28,
            "count": 27
           }
          ]
         }
        },
        {
         "name": "away_record",
         "dtype": "float64",
         "stats": {
          "unique_count": 60,
          "nan_count": 0,
          "min": "-35.0",
          "max": "28.0",
          "histogram": [
           {
            "bin_start": -35,
            "bin_end": -28.7,
            "count": 6
           },
           {
            "bin_start": -28.7,
            "bin_end": -22.4,
            "count": 10
           },
           {
            "bin_start": -22.4,
            "bin_end": -16.1,
            "count": 53
           },
           {
            "bin_start": -16.1,
            "bin_end": -9.8,
            "count": 124
           },
           {
            "bin_start": -9.8,
            "bin_end": -3.5,
            "count": 355
           },
           {
            "bin_start": -3.5,
            "bin_end": 2.799999999999997,
            "count": 754
           },
           {
            "bin_start": 2.799999999999997,
            "bin_end": 9.100000000000001,
            "count": 509
           },
           {
            "bin_start": 9.100000000000001,
            "bin_end": 15.399999999999999,
            "count": 239
           },
           {
            "bin_start": 15.399999999999999,
            "bin_end": 21.699999999999996,
            "count": 85
           },
           {
            "bin_start": 21.699999999999996,
            "bin_end": 28,
            "count": 27
           }
          ]
         }
        },
        {
         "name": "predicted_diff",
         "dtype": "float64",
         "stats": {
          "unique_count": 707,
          "nan_count": 0,
          "min": "-1.267519529263716",
          "max": "0.5043372042403633",
          "histogram": [
           {
            "bin_start": -1.267519529263716,
            "bin_end": -1.090333855913308,
            "count": 90
           },
           {
            "bin_start": -1.090333855913308,
            "bin_end": -0.9131481825629002,
            "count": 146
           },
           {
            "bin_start": -0.9131481825629002,
            "bin_end": -0.7359625092124922,
            "count": 92
           },
           {
            "bin_start": -0.7359625092124922,
            "bin_end": -0.5587768358620843,
            "count": 308
           },
           {
            "bin_start": -0.5587768358620843,
            "bin_end": -0.38159116251167635,
            "count": 255
           },
           {
            "bin_start": -0.38159116251167635,
            "bin_end": -0.20440548916126833,
            "count": 136
           },
           {
            "bin_start": -0.20440548916126833,
            "bin_end": -0.027219815810860526,
            "count": 365
           },
           {
            "bin_start": -0.027219815810860526,
            "bin_end": 0.1499658575395475,
            "count": 80
           },
           {
            "bin_start": 0.1499658575395475,
            "bin_end": 0.3271515308899555,
            "count": 354
           },
           {
            "bin_start": 0.3271515308899555,
            "bin_end": 0.5043372042403633,
            "count": 336
           }
          ]
         }
        },
        {
         "name": "_deepnote_index_column",
         "dtype": "int64"
        }
       ],
       "rows_top": [
        {
         "Unnamed: 0": 0,
         "Date": 1002,
         "AwayTeam": "Ottawa",
         "Away1st": 1,
         "Away2nd": 1,
         "Away3rd": 1,
         "AwayFinal": 3,
         "MlAwayOpen": 245,
         "MlAwayClose": 270,
         "OpenOU": 6,
         "OpenOOdds": -110,
         "CloseOU": 6.5,
         "CloseOOdds": -115,
         "Year": 2020,
         "HomeTeam": "Toronto",
         "Home1st": 0,
         "Home2nd": 4,
         "Home3rd": 1,
         "HomeFinal": 5,
         "MlHomeOpen": -300,
         "MlHomeClose": -310,
         "OpenUOdds": -110,
         "CloseUOdds": -105,
         "home_point_diff": 2,
         "away_point_diff": -2,
         "ml_away_movement": 25,
         "ml_home_movement": -555,
         "RealDate": "2019-10-02T00:00:00.000000",
         "home_last_3": -5,
         "away_last_3": -4,
         "home_last_1": -4,
         "away_last_1": -4,
         "home_rest": 162,
         "away_rest": 179,
         "home_record": 0,
         "away_record": 0,
         "predicted_diff": -1.1653782379390747,
         "_deepnote_index_column": 15371
        },
        {
         "Unnamed: 0": 2,
         "Date": 1002,
         "AwayTeam": "Washington",
         "Away1st": 1,
         "Away2nd": 1,
         "Away3rd": 0,
         "AwayFinal": 3,
         "MlAwayOpen": 115,
         "MlAwayClose": 135,
         "OpenOU": 5.5,
         "OpenOOdds": -110,
         "CloseOU": 5.5,
         "CloseOOdds": -110,
         "Year": 2020,
         "HomeTeam": "St.Louis",
         "Home1st": 2,
         "Home2nd": 0,
         "Home3rd": 0,
         "HomeFinal": 2,
         "MlHomeOpen": -135,
         "MlHomeClose": -150,
         "OpenUOdds": -110,
         "CloseUOdds": -110,
         "home_point_diff": -1,
         "away_point_diff": 1,
         "ml_away_movement": 20,
         "ml_home_movement": -265,
         "RealDate": "2019-10-02T00:00:00.000000",
         "home_last_3": 0,
         "away_last_3": 2,
         "home_last_1": 3,
         "away_last_1": -1,
         "home_rest": 112,
         "away_rest": 161,
         "home_record": 0,
         "away_record": 0,
         "predicted_diff": -0.4293991828002279,
         "_deepnote_index_column": 15372
        },
        {
         "Unnamed: 0": 4,
         "Date": 1002,
         "AwayTeam": "Vancouver",
         "Away1st": 0,
         "Away2nd": 1,
         "Away3rd": 1,
         "AwayFinal": 2,
         "MlAwayOpen": 105,
         "MlAwayClose": 116,
         "OpenOU": 5.5,
         "OpenOOdds": -110,
         "CloseOU": 5.5,
         "CloseOOdds": -115,
         "Year": 2020,
         "HomeTeam": "Edmonton",
         "Home1st": 1,
         "Home2nd": 0,
         "Home3rd": 2,
         "HomeFinal": 3,
         "MlHomeOpen": -125,
         "MlHomeClose": -126,
         "OpenUOdds": -110,
         "CloseUOdds": -105,
         "home_point_diff": 1,
         "away_point_diff": -1,
         "ml_away_movement": 11,
         "ml_home_movement": -231,
         "RealDate": "2019-10-02T00:00:00.000000",
         "home_last_3": -3,
         "away_last_3": 0,
         "home_last_1": 2,
         "away_last_1": -1,
         "home_rest": 179,
         "away_rest": 179,
         "home_record": 0,
         "away_record": 0,
         "predicted_diff": -0.15255501462008636,
         "_deepnote_index_column": 15373
        },
        {
         "Unnamed: 0": 6,
         "Date": 1002,
         "AwayTeam": "SanJose",
         "Away1st": 1,
         "Away2nd": 0,
         "Away3rd": 0,
         "AwayFinal": 1,
         "MlAwayOpen": 151,
         "MlAwayClose": 170,
         "OpenOU": 6,
         "OpenOOdds": -110,
         "CloseOU": 6.5,
         "CloseOOdds": -120,
         "Year": 2020,
         "HomeTeam": "Vegas",
         "Home1st": 2,
         "Home2nd": 1,
         "Home3rd": 1,
         "HomeFinal": 4,
         "MlHomeOpen": -175,
         "MlHomeClose": -190,
         "OpenUOdds": -110,
         "CloseUOdds": 100,
         "home_point_diff": 3,
         "away_point_diff": -3,
         "ml_away_movement": 19,
         "ml_home_movement": -341,
         "RealDate": "2019-10-02T00:00:00.000000",
         "home_last_3": -5,
         "away_last_3": -10,
         "home_last_1": -1,
         "away_last_1": -4,
         "home_rest": 162,
         "away_rest": 134,
         "home_record": 0,
         "away_record": 0,
         "predicted_diff": -0.5868068092317082,
         "_deepnote_index_column": 15374
        },
        {
         "Unnamed: 0": 8,
         "Date": 1003,
         "AwayTeam": "Florida",
         "Away1st": 0,
         "Away2nd": 1,
         "Away3rd": 1,
         "AwayFinal": 2,
         "MlAwayOpen": 160,
         "MlAwayClose": 157,
         "OpenOU": 6.5,
         "OpenOOdds": -110,
         "CloseOU": 6.5,
         "CloseOOdds": -105,
         "Year": 2020,
         "HomeTeam": "TampaBay",
         "Home1st": 1,
         "Home2nd": 1,
         "Home3rd": 3,
         "HomeFinal": 5,
         "MlHomeOpen": -185,
         "MlHomeClose": -175,
         "OpenUOdds": -110,
         "CloseUOdds": -115,
         "home_point_diff": 3,
         "away_point_diff": -3,
         "ml_away_movement": -3,
         "ml_home_movement": -335,
         "RealDate": "2019-10-03T00:00:00.000000",
         "home_last_3": -10,
         "away_last_3": 0,
         "home_last_1": -4,
         "away_last_1": -1,
         "home_rest": 170,
         "away_rest": 180,
         "home_record": 0,
         "away_record": 0,
         "predicted_diff": -0.5981609985568435,
         "_deepnote_index_column": 15375
        },
        {
         "Unnamed: 0": 10,
         "Date": 1003,
         "AwayTeam": "Montreal",
         "Away1st": 0,
         "Away2nd": 3,
         "Away3rd": 0,
         "AwayFinal": 3,
         "MlAwayOpen": 135,
         "MlAwayClose": 140,
         "OpenOU": 5.5,
         "OpenOOdds": -110,
         "CloseOU": 6,
         "CloseOOdds": 100,
         "Year": 2020,
         "HomeTeam": "Carolina",
         "Home1st": 1,
         "Home2nd": 1,
         "Home3rd": 1,
         "HomeFinal": 4,
         "MlHomeOpen": -155,
         "MlHomeClose": -155,
         "OpenUOdds": -110,
         "CloseUOdds": -120,
         "home_point_diff": 1,
         "away_point_diff": -1,
         "ml_away_movement": 5,
         "ml_home_movement": -290,
         "RealDate": "2019-10-03T00:00:00.000000",
         "home_last_3": -9,
         "away_last_3": 2,
         "home_last_1": -4,
         "away_last_1": 1,
         "home_rest": 140,
         "away_rest": 180,
         "home_record": 0,
         "away_record": 0,
         "predicted_diff": -0.5468971594665175,
         "_deepnote_index_column": 15376
        },
        {
         "Unnamed: 0": 12,
         "Date": 1003,
         "AwayTeam": "Winnipeg",
         "Away1st": 1,
         "Away2nd": 2,
         "Away3rd": 1,
         "AwayFinal": 4,
         "MlAwayOpen": 110,
         "MlAwayClose": 102,
         "OpenOU": 6,
         "OpenOOdds": -110,
         "CloseOU": 6,
         "CloseOOdds": -125,
         "Year": 2020,
         "HomeTeam": "NYRangers",
         "Home1st": 1,
         "Home2nd": 2,
         "Home3rd": 3,
         "HomeFinal": 6,
         "MlHomeOpen": -130,
         "MlHomeClose": -112,
         "OpenUOdds": -110,
         "CloseUOdds": 105,
         "home_point_diff": 2,
         "away_point_diff": -2,
         "ml_away_movement": -8,
         "ml_home_movement": -222,
         "RealDate": "2019-10-03T00:00:00.000000",
         "home_last_3": -3,
         "away_last_3": -1,
         "home_last_1": 1,
         "away_last_1": -1,
         "home_rest": 180,
         "away_rest": 166,
         "home_record": 0,
         "away_record": 0,
         "predicted_diff": 0.0572186605623231,
         "_deepnote_index_column": 15377
        },
        {
         "Unnamed: 0": 14,
         "Date": 1003,
         "AwayTeam": "Buffalo",
         "Away1st": 1,
         "Away2nd": 2,
         "Away3rd": 0,
         "AwayFinal": 3,
         "MlAwayOpen": 148,
         "MlAwayClose": 165,
         "OpenOU": 6.5,
         "OpenOOdds": -110,
         "CloseOU": 6.5,
         "CloseOOdds": 100,
         "Year": 2020,
         "HomeTeam": "Pittsburgh",
         "Home1st": 0,
         "Home2nd": 1,
         "Home3rd": 0,
         "HomeFinal": 1,
         "MlHomeOpen": -170,
         "MlHomeClose": -185,
         "OpenUOdds": -110,
         "CloseUOdds": -120,
         "home_point_diff": -2,
         "away_point_diff": 2,
         "ml_away_movement": 17,
         "ml_home_movement": -333,
         "RealDate": "2019-10-03T00:00:00.000000",
         "home_last_3": -7,
         "away_last_3": 8,
         "home_last_1": -2,
         "away_last_1": 6,
         "home_rest": 170,
         "away_rest": 180,
         "home_record": 0,
         "away_record": 0,
         "predicted_diff": -0.6109677901724568,
         "_deepnote_index_column": 15378
        },
        {
         "Unnamed: 0": 16,
         "Date": 1003,
         "AwayTeam": "Minnesota",
         "Away1st": 0,
         "Away2nd": 2,
         "Away3rd": 0,
         "AwayFinal": 2,
         "MlAwayOpen": 155,
         "MlAwayClose": 150,
         "OpenOU": 5.5,
         "OpenOOdds": -110,
         "CloseOU": 5.5,
         "CloseOOdds": 110,
         "Year": 2020,
         "HomeTeam": "Nashville",
         "Home1st": 0,
         "Home2nd": 1,
         "Home3rd": 4,
         "HomeFinal": 5,
         "MlHomeOpen": -180,
         "MlHomeClose": -165,
         "OpenUOdds": -110,
         "CloseUOdds": -130,
         "home_point_diff": 3,
         "away_point_diff": -3,
         "ml_away_movement": -5,
         "ml_home_movement": -320,
         "RealDate": "2019-10-03T00:00:00.000000",
         "home_last_3": -7,
         "away_last_3": -2,
         "home_last_1": -1,
         "away_last_1": -3,
         "home_rest": 164,
         "away_rest": 180,
         "home_record": 0,
         "away_record": 0,
         "predicted_diff": -0.5477524240936917,
         "_deepnote_index_column": 15379
        },
        {
         "Unnamed: 0": 18,
         "Date": 1003,
         "AwayTeam": "Boston",
         "Away1st": 2,
         "Away2nd": 0,
         "Away3rd": 0,
         "AwayFinal": 2,
         "MlAwayOpen": -110,
         "MlAwayClose": -105,
         "OpenOU": 5.5,
         "OpenOOdds": -110,
         "CloseOU": 5.5,
         "CloseOOdds": 105,
         "Year": 2020,
         "HomeTeam": "Dallas",
         "Home1st": 0,
         "Home2nd": 1,
         "Home3rd": 0,
         "HomeFinal": 1,
         "MlHomeOpen": -110,
         "MlHomeClose": -105,
         "OpenUOdds": -110,
         "CloseUOdds": -125,
         "home_point_diff": -1,
         "away_point_diff": 1,
         "ml_away_movement": 5,
         "ml_home_movement": 5,
         "RealDate": "2019-10-03T00:00:00.000000",
         "home_last_3": -3,
         "away_last_3": 0,
         "home_last_1": -1,
         "away_last_1": -3,
         "home_rest": 149,
         "away_rest": 113,
         "home_record": 0,
         "away_record": 0,
         "predicted_diff": -0.02652850907369956,
         "_deepnote_index_column": 15380
        },
        {
         "Unnamed: 0": 20,
         "Date": 1003,
         "AwayTeam": "Calgary",
         "Away1st": 1,
         "Away2nd": 2,
         "Away3rd": 0,
         "AwayFinal": 3,
         "MlAwayOpen": 115,
         "MlAwayClose": 110,
         "OpenOU": 6,
         "OpenOOdds": -110,
         "CloseOU": 6.5,
         "CloseOOdds": -110,
         "Year": 2020,
         "HomeTeam": "Colorado",
         "Home1st": 2,
         "Home2nd": 2,
         "Home3rd": 1,
         "HomeFinal": 5,
         "MlHomeOpen": -135,
         "MlHomeClose": -120,
         "OpenUOdds": -110,
         "CloseUOdds": -110,
         "home_point_diff": 2,
         "away_point_diff": -2,
         "ml_away_movement": -5,
         "ml_home_movement": -235,
         "RealDate": "2019-10-03T00:00:00.000000",
         "home_last_3": -1,
         "away_last_3": -9,
         "home_last_1": -1,
         "away_last_1": -4,
         "home_rest": 148,
         "away_rest": 167,
         "home_record": 0,
         "away_record": 0,
         "predicted_diff": -0.0765737027901825,
         "_deepnote_index_column": 15381
        },
        {
         "Unnamed: 0": 22,
         "Date": 1003,
         "AwayTeam": "Arizona",
         "Away1st": 0,
         "Away2nd": 1,
         "Away3rd": 0,
         "AwayFinal": 1,
         "MlAwayOpen": 100,
         "MlAwayClose": -102,
         "OpenOU": 5.5,
         "OpenOOdds": -110,
         "CloseOU": 5.5,
         "CloseOOdds": 115,
         "Year": 2020,
         "HomeTeam": "Anaheim",
         "Home1st": 1,
         "Home2nd": 1,
         "Home3rd": 0,
         "HomeFinal": 2,
         "MlHomeOpen": -120,
         "MlHomeClose": -108,
         "OpenUOdds": -110,
         "CloseUOdds": -135,
         "home_point_diff": 1,
         "away_point_diff": -1,
         "ml_away_movement": -202,
         "ml_home_movement": -208,
         "RealDate": "2019-10-03T00:00:00.000000",
         "home_last_3": 9,
         "away_last_3": -1,
         "home_last_1": 3,
         "away_last_1": -2,
         "home_rest": 181,
         "away_rest": 180,
         "home_record": 0,
         "away_record": 0,
         "predicted_diff": 0.06988957517517634,
         "_deepnote_index_column": 15382
        },
        {
         "Unnamed: 0": 24,
         "Date": 1004,
         "AwayTeam": "Chicago",
         "Away1st": 1,
         "Away2nd": 1,
         "Away3rd": 1,
         "AwayFinal": 3,
         "MlAwayOpen": -105,
         "MlAwayClose": 107,
         "OpenOU": 6.5,
         "OpenOOdds": -110,
         "CloseOU": 6.5,
         "CloseOOdds": -110,
         "Year": 2020,
         "HomeTeam": "Philadelphia",
         "Home1st": 1,
         "Home2nd": 2,
         "Home3rd": 1,
         "HomeFinal": 4,
         "MlHomeOpen": -115,
         "MlHomeClose": -117,
         "OpenUOdds": -110,
         "CloseUOdds": -110,
         "home_point_diff": 1,
         "away_point_diff": -1,
         "ml_away_movement": 212,
         "ml_home_movement": -12,
         "RealDate": "2019-10-04T00:00:00.000000",
         "home_last_3": -9,
         "away_last_3": 3,
         "home_last_1": -1,
         "away_last_1": -3,
         "home_rest": 181,
         "away_rest": 181,
         "home_record": 0,
         "away_record": 0,
         "predicted_diff": -0.01440050303418252,
         "_deepnote_index_column": 15383
        }
       ],
       "rows_bottom": [
        {
         "Unnamed: 0": 1876,
         "Date": 617,
         "AwayTeam": "TampaBay",
         "Away1st": 1,
         "Away2nd": 1,
         "Away3rd": 0,
         "AwayFinal": 2,
         "MlAwayOpen": -140,
         "MlAwayClose": -129,
         "OpenOU": 5.5,
         "OpenOOdds": 125,
         "CloseOU": 5,
         "CloseOOdds": -135,
         "Year": 2021,
         "HomeTeam": "NYIslanders",
         "Home1st": 0,
         "Home2nd": 1,
         "Home3rd": 0,
         "HomeFinal": 1,
         "MlHomeOpen": 120,
         "MlHomeClose": 119,
         "OpenUOdds": -145,
         "CloseUOdds": 115,
         "home_point_diff": -1,
         "away_point_diff": 1,
         "ml_away_movement": 11,
         "ml_home_movement": 259,
         "RealDate": "2021-06-17T00:00:00.000000",
         "home_last_3": 3,
         "away_last_3": 3,
         "home_last_1": -2,
         "away_last_1": 2,
         "home_rest": 2,
         "away_rest": 2,
         "home_record": 12,
         "away_record": 21,
         "predicted_diff": 0.22160531763295277,
         "_deepnote_index_column": 17519
        },
        {
         "Unnamed: 0": 1878,
         "Date": 618,
         "AwayTeam": "Vegas",
         "Away1st": 0,
         "Away2nd": 1,
         "Away3rd": 1,
         "AwayFinal": 2,
         "MlAwayOpen": -165,
         "MlAwayClose": -170,
         "OpenOU": 5.5,
         "OpenOOdds": 125,
         "CloseOU": 5,
         "CloseOOdds": -145,
         "Year": 2021,
         "HomeTeam": "Montreal",
         "Home1st": 0,
         "Home2nd": 1,
         "Home3rd": 1,
         "HomeFinal": 3,
         "MlHomeOpen": 140,
         "MlHomeClose": 155,
         "OpenUOdds": -145,
         "CloseUOdds": 125,
         "home_point_diff": 1,
         "away_point_diff": -1,
         "ml_away_movement": -5,
         "ml_home_movement": 320,
         "RealDate": "2021-06-18T00:00:00.000000",
         "home_last_3": -1,
         "away_last_3": 5,
         "home_last_1": 1,
         "away_last_1": -1,
         "home_rest": 2,
         "away_rest": 2,
         "home_record": -3,
         "away_record": 27,
         "predicted_diff": 0.394620117386174,
         "_deepnote_index_column": 17520
        },
        {
         "Unnamed: 0": 1880,
         "Date": 619,
         "AwayTeam": "TampaBay",
         "Away1st": 0,
         "Away2nd": 0,
         "Away3rd": 2,
         "AwayFinal": 2,
         "MlAwayOpen": -135,
         "MlAwayClose": -120,
         "OpenOU": 5,
         "OpenOOdds": -125,
         "CloseOU": 5,
         "CloseOOdds": -130,
         "Year": 2021,
         "HomeTeam": "NYIslanders",
         "Home1st": 0,
         "Home2nd": 3,
         "Home3rd": 0,
         "HomeFinal": 3,
         "MlHomeOpen": 115,
         "MlHomeClose": 110,
         "OpenUOdds": 105,
         "CloseUOdds": 110,
         "home_point_diff": 1,
         "away_point_diff": -1,
         "ml_away_movement": 15,
         "ml_home_movement": 245,
         "RealDate": "2021-06-19T00:00:00.000000",
         "home_last_3": -2,
         "away_last_3": 2,
         "home_last_1": -1,
         "away_last_1": 1,
         "home_rest": 2,
         "away_rest": 2,
         "home_record": 11,
         "away_record": 22,
         "predicted_diff": 0.22160531763295277,
         "_deepnote_index_column": 17521
        },
        {
         "Unnamed: 0": 1882,
         "Date": 620,
         "AwayTeam": "Vegas",
         "Away1st": 0,
         "Away2nd": 0,
         "Away3rd": 1,
         "AwayFinal": 2,
         "MlAwayOpen": -180,
         "MlAwayClose": -170,
         "OpenOU": 5,
         "OpenOOdds": -130,
         "CloseOU": 5.5,
         "CloseOOdds": 120,
         "Year": 2021,
         "HomeTeam": "Montreal",
         "Home1st": 0,
         "Home2nd": 1,
         "Home3rd": 0,
         "HomeFinal": 1,
         "MlHomeOpen": 150,
         "MlHomeClose": 155,
         "OpenUOdds": 110,
         "CloseUOdds": -140,
         "home_point_diff": -1,
         "away_point_diff": 1,
         "ml_away_movement": 10,
         "ml_home_movement": 335,
         "RealDate": "2021-06-20T00:00:00.000000",
         "home_last_3": -1,
         "away_last_3": 1,
         "home_last_1": 1,
         "away_last_1": -1,
         "home_rest": 2,
         "away_rest": 2,
         "home_record": -2,
         "away_record": 26,
         "predicted_diff": 0.33130972016912336,
         "_deepnote_index_column": 17522
        },
        {
         "Unnamed: 0": 1884,
         "Date": 621,
         "AwayTeam": "NYIslanders",
         "Away1st": 0,
         "Away2nd": 0,
         "Away3rd": 0,
         "AwayFinal": 0,
         "MlAwayOpen": 165,
         "MlAwayClose": 165,
         "OpenOU": 5,
         "OpenOOdds": -135,
         "CloseOU": 5,
         "CloseOOdds": -135,
         "Year": 2021,
         "HomeTeam": "TampaBay",
         "Home1st": 3,
         "Home2nd": 3,
         "Home3rd": 2,
         "HomeFinal": 8,
         "MlHomeOpen": -195,
         "MlHomeClose": -185,
         "OpenUOdds": 115,
         "CloseUOdds": 115,
         "home_point_diff": 8,
         "away_point_diff": -8,
         "ml_away_movement": 0,
         "ml_home_movement": -350,
         "RealDate": "2021-06-21T00:00:00.000000",
         "home_last_3": 2,
         "away_last_3": -2,
         "home_last_1": -1,
         "away_last_1": 1,
         "home_rest": 2,
         "away_rest": 2,
         "home_record": 21,
         "away_record": 12,
         "predicted_diff": -0.6783790448382104,
         "_deepnote_index_column": 17523
        },
        {
         "Unnamed: 0": 1886,
         "Date": 622,
         "AwayTeam": "Montreal",
         "Away1st": 1,
         "Away2nd": 2,
         "Away3rd": 1,
         "AwayFinal": 4,
         "MlAwayOpen": 205,
         "MlAwayClose": 205,
         "OpenOU": 5,
         "OpenOOdds": -135,
         "CloseOU": 5,
         "CloseOOdds": -135,
         "Year": 2021,
         "HomeTeam": "Vegas",
         "Home1st": 0,
         "Home2nd": 0,
         "Home3rd": 1,
         "HomeFinal": 1,
         "MlHomeOpen": -255,
         "MlHomeClose": -230,
         "OpenUOdds": 115,
         "CloseUOdds": 115,
         "home_point_diff": -3,
         "away_point_diff": 3,
         "ml_away_movement": 0,
         "ml_home_movement": -435,
         "RealDate": "2021-06-22T00:00:00.000000",
         "home_last_3": -1,
         "away_last_3": 1,
         "home_last_1": 1,
         "away_last_1": -1,
         "home_rest": 2,
         "away_rest": 2,
         "home_record": 27,
         "away_record": -3,
         "predicted_diff": -0.8247984571074942,
         "_deepnote_index_column": 17524
        },
        {
         "Unnamed: 0": 1888,
         "Date": 623,
         "AwayTeam": "TampaBay",
         "Away1st": 1,
         "Away2nd": 1,
         "Away3rd": 0,
         "AwayFinal": 2,
         "MlAwayOpen": -150,
         "MlAwayClose": -140,
         "OpenOU": 5,
         "OpenOOdds": -130,
         "CloseOU": 5,
         "CloseOOdds": -130,
         "Year": 2021,
         "HomeTeam": "NYIslanders",
         "Home1st": 0,
         "Home2nd": 1,
         "Home3rd": 1,
         "HomeFinal": 3,
         "MlHomeOpen": 130,
         "MlHomeClose": 130,
         "OpenUOdds": 110,
         "CloseUOdds": 110,
         "home_point_diff": 1,
         "away_point_diff": -1,
         "ml_away_movement": 10,
         "ml_home_movement": 280,
         "RealDate": "2021-06-23T00:00:00.000000",
         "home_last_3": -8,
         "away_last_3": 8,
         "home_last_1": -8,
         "away_last_1": 8,
         "home_rest": 2,
         "away_rest": 2,
         "home_record": 11,
         "away_record": 22,
         "predicted_diff": 0.33067178045750173,
         "_deepnote_index_column": 17525
        },
        {
         "Unnamed: 0": 1890,
         "Date": 624,
         "AwayTeam": "Vegas",
         "Away1st": 1,
         "Away2nd": 0,
         "Away3rd": 1,
         "AwayFinal": 2,
         "MlAwayOpen": -140,
         "MlAwayClose": -135,
         "OpenOU": 5,
         "OpenOOdds": -130,
         "CloseOU": 5,
         "CloseOOdds": -130,
         "Year": 2021,
         "HomeTeam": "Montreal",
         "Home1st": 1,
         "Home2nd": 1,
         "Home3rd": 0,
         "HomeFinal": 3,
         "MlHomeOpen": 120,
         "MlHomeClose": 125,
         "OpenUOdds": 110,
         "CloseUOdds": 110,
         "home_point_diff": 1,
         "away_point_diff": -1,
         "ml_away_movement": 5,
         "ml_home_movement": 265,
         "RealDate": "2021-06-24T00:00:00.000000",
         "home_last_3": 3,
         "away_last_3": -3,
         "home_last_1": 3,
         "away_last_1": -3,
         "home_rest": 2,
         "away_rest": 2,
         "home_record": -2,
         "away_record": 26,
         "predicted_diff": 0.2682739996858744,
         "_deepnote_index_column": 17526
        },
        {
         "Unnamed: 0": 1892,
         "Date": 625,
         "AwayTeam": "NYIslanders",
         "Away1st": 0,
         "Away2nd": 0,
         "Away3rd": 0,
         "AwayFinal": 0,
         "MlAwayOpen": 150,
         "MlAwayClose": 165,
         "OpenOU": 5,
         "OpenOOdds": -130,
         "CloseOU": 5,
         "CloseOOdds": -105,
         "Year": 2021,
         "HomeTeam": "TampaBay",
         "Home1st": 0,
         "Home2nd": 1,
         "Home3rd": 0,
         "HomeFinal": 1,
         "MlHomeOpen": -180,
         "MlHomeClose": -185,
         "OpenUOdds": 110,
         "CloseUOdds": -115,
         "home_point_diff": 1,
         "away_point_diff": -1,
         "ml_away_movement": 15,
         "ml_home_movement": -335,
         "RealDate": "2021-06-25T00:00:00.000000",
         "home_last_3": 6,
         "away_last_3": -6,
         "home_last_1": -1,
         "away_last_1": 1,
         "home_rest": 2,
         "away_rest": 2,
         "home_record": 21,
         "away_record": 12,
         "predicted_diff": -0.548667174435572,
         "_deepnote_index_column": 17527
        },
        {
         "Unnamed: 0": 1894,
         "Date": 628,
         "AwayTeam": "Montreal",
         "Away1st": 0,
         "Away2nd": 1,
         "Away3rd": 0,
         "AwayFinal": 1,
         "MlAwayOpen": 185,
         "MlAwayClose": 180,
         "OpenOU": 5,
         "OpenOOdds": -120,
         "CloseOU": 5,
         "CloseOOdds": -125,
         "Year": 2021,
         "HomeTeam": "TampaBay",
         "Home1st": 1,
         "Home2nd": 1,
         "Home3rd": 3,
         "HomeFinal": 5,
         "MlHomeOpen": -225,
         "MlHomeClose": -200,
         "OpenUOdds": 100,
         "CloseUOdds": 105,
         "home_point_diff": 4,
         "away_point_diff": -4,
         "ml_away_movement": -5,
         "ml_home_movement": -385,
         "RealDate": "2021-06-28T00:00:00.000000",
         "home_last_3": 8,
         "away_last_3": 3,
         "home_last_1": 1,
         "away_last_1": 1,
         "home_rest": 3,
         "away_rest": 4,
         "home_record": 22,
         "away_record": -1,
         "predicted_diff": -0.5472882665207001,
         "_deepnote_index_column": 17528
        },
        {
         "Unnamed: 0": 1896,
         "Date": 630,
         "AwayTeam": "Montreal",
         "Away1st": 0,
         "Away2nd": 1,
         "Away3rd": 0,
         "AwayFinal": 1,
         "MlAwayOpen": 180,
         "MlAwayClose": 177,
         "OpenOU": 5,
         "OpenOOdds": -120,
         "CloseOU": 5,
         "CloseOOdds": -120,
         "Year": 2021,
         "HomeTeam": "TampaBay",
         "Home1st": 0,
         "Home2nd": 2,
         "Home3rd": 1,
         "HomeFinal": 3,
         "MlHomeOpen": -220,
         "MlHomeClose": -197,
         "OpenUOdds": 100,
         "CloseUOdds": 100,
         "home_point_diff": 2,
         "away_point_diff": -2,
         "ml_away_movement": -3,
         "ml_home_movement": -377,
         "RealDate": "2021-06-30T00:00:00.000000",
         "home_last_3": 4,
         "away_last_3": 0,
         "home_last_1": 4,
         "away_last_1": -4,
         "home_rest": 2,
         "away_rest": 2,
         "home_record": 23,
         "away_record": -2,
         "predicted_diff": -0.6264358519023407,
         "_deepnote_index_column": 17529
        },
        {
         "Unnamed: 0": 1898,
         "Date": 702,
         "AwayTeam": "TampaBay",
         "Away1st": 2,
         "Away2nd": 2,
         "Away3rd": 2,
         "AwayFinal": 6,
         "MlAwayOpen": -145,
         "MlAwayClose": -123,
         "OpenOU": 5,
         "OpenOOdds": -120,
         "CloseOU": 5,
         "CloseOOdds": -120,
         "Year": 2021,
         "HomeTeam": "Montreal",
         "Home1st": 1,
         "Home2nd": 1,
         "Home3rd": 1,
         "HomeFinal": 3,
         "MlHomeOpen": 125,
         "MlHomeClose": 113,
         "OpenUOdds": 100,
         "CloseUOdds": 100,
         "home_point_diff": -3,
         "away_point_diff": 3,
         "ml_away_movement": 22,
         "ml_home_movement": 258,
         "RealDate": "2021-07-02T00:00:00.000000",
         "home_last_3": -5,
         "away_last_3": 7,
         "home_last_1": -2,
         "away_last_1": 2,
         "home_rest": 2,
         "away_rest": 2,
         "home_record": -3,
         "away_record": 24,
         "predicted_diff": 0.20883937188181406,
         "_deepnote_index_column": 17530
        },
        {
         "Unnamed: 0": 1900,
         "Date": 705,
         "AwayTeam": "TampaBay",
         "Away1st": 0,
         "Away2nd": 1,
         "Away3rd": 1,
         "AwayFinal": 2,
         "MlAwayOpen": -145,
         "MlAwayClose": -150,
         "OpenOU": 5,
         "OpenOOdds": -135,
         "CloseOU": 5,
         "CloseOOdds": -140,
         "Year": 2021,
         "HomeTeam": "Montreal",
         "Home1st": 1,
         "Home2nd": 0,
         "Home3rd": 1,
         "HomeFinal": 3,
         "MlHomeOpen": 125,
         "MlHomeClose": 135,
         "OpenUOdds": 115,
         "CloseUOdds": 120,
         "home_point_diff": 1,
         "away_point_diff": -1,
         "ml_away_movement": -5,
         "ml_home_movement": 280,
         "RealDate": "2021-07-05T00:00:00.000000",
         "home_last_3": -9,
         "away_last_3": 9,
         "home_last_1": -3,
         "away_last_1": 3,
         "home_rest": 3,
         "away_rest": 3,
         "home_record": -4,
         "away_record": 25,
         "predicted_diff": 0.43465913235598735,
         "_deepnote_index_column": 17531
        },
        {
         "Unnamed: 0": 1902,
         "Date": 707,
         "AwayTeam": "Montreal",
         "Away1st": 0,
         "Away2nd": 0,
         "Away3rd": 0,
         "AwayFinal": 0,
         "MlAwayOpen": 180,
         "MlAwayClose": 215,
         "OpenOU": 5,
         "OpenOOdds": -120,
         "CloseOU": 5,
         "CloseOOdds": -140,
         "Year": 2021,
         "HomeTeam": "TampaBay",
         "Home1st": 0,
         "Home2nd": 1,
         "Home3rd": 0,
         "HomeFinal": 1,
         "MlHomeOpen": -220,
         "MlHomeClose": -245,
         "OpenUOdds": 100,
         "CloseUOdds": 120,
         "home_point_diff": 1,
         "away_point_diff": -1,
         "ml_away_movement": 35,
         "ml_home_movement": -425,
         "RealDate": "2021-07-07T00:00:00.000000",
         "home_last_3": 4,
         "away_last_3": -4,
         "home_last_1": -1,
         "away_last_1": 1,
         "home_rest": 2,
         "away_rest": 2,
         "home_record": 24,
         "away_record": -3,
         "predicted_diff": -0.8376052487231076,
         "_deepnote_index_column": 17532
        }
       ]
      },
      "text/plain": "       Unnamed: 0  Date    AwayTeam  Away1st  Away2nd  Away3rd  AwayFinal  \\\n15371           0  1002      Ottawa        1        1        1          3   \n15372           2  1002  Washington        1        1        0          3   \n15373           4  1002   Vancouver        0        1        1          2   \n15374           6  1002     SanJose        1        0        0          1   \n15375           8  1003     Florida        0        1        1          2   \n...           ...   ...         ...      ...      ...      ...        ...   \n17528        1894   628    Montreal        0        1        0          1   \n17529        1896   630    Montreal        0        1        0          1   \n17530        1898   702    TampaBay        2        2        2          6   \n17531        1900   705    TampaBay        0        1        1          2   \n17532        1902   707    Montreal        0        0        0          0   \n\n       MlAwayOpen  MlAwayClose  OpenOU  ...   RealDate  home_last_3  \\\n15371       245.0        270.0     6.0  ... 2019-10-02         -5.0   \n15372       115.0        135.0     5.5  ... 2019-10-02          0.0   \n15373       105.0        116.0     5.5  ... 2019-10-02         -3.0   \n15374       151.0        170.0     6.0  ... 2019-10-02         -5.0   \n15375       160.0        157.0     6.5  ... 2019-10-03        -10.0   \n...           ...          ...     ...  ...        ...          ...   \n17528       185.0        180.0     5.0  ... 2021-06-28          8.0   \n17529       180.0        177.0     5.0  ... 2021-06-30          4.0   \n17530      -145.0       -123.0     5.0  ... 2021-07-02         -5.0   \n17531      -145.0       -150.0     5.0  ... 2021-07-05         -9.0   \n17532       180.0        215.0     5.0  ... 2021-07-07          4.0   \n\n       away_last_3  home_last_1 away_last_1  home_rest  away_rest  \\\n15371         -4.0         -4.0        -4.0      162.0      179.0   \n15372          2.0          3.0        -1.0      112.0      161.0   \n15373          0.0          2.0        -1.0      179.0      179.0   \n15374        -10.0         -1.0        -4.0      162.0      134.0   \n15375          0.0         -4.0        -1.0      170.0      180.0   \n...            ...          ...         ...        ...        ...   \n17528          3.0          1.0         1.0        3.0        4.0   \n17529          0.0          4.0        -4.0        2.0        2.0   \n17530          7.0         -2.0         2.0        2.0        2.0   \n17531          9.0         -3.0         3.0        3.0        3.0   \n17532         -4.0         -1.0         1.0        2.0        2.0   \n\n       home_record  away_record  predicted_diff  \n15371          0.0          0.0       -1.165378  \n15372          0.0          0.0       -0.429399  \n15373          0.0          0.0       -0.152555  \n15374          0.0          0.0       -0.586807  \n15375          0.0          0.0       -0.598161  \n...            ...          ...             ...  \n17528         22.0         -1.0       -0.547288  \n17529         23.0         -2.0       -0.626436  \n17530         -3.0         24.0        0.208839  \n17531         -4.0         25.0        0.434659  \n17532         24.0         -3.0       -0.837605  \n\n[2162 rows x 37 columns]",
      "text/html": "<div>\n<style scoped>\n    .dataframe tbody tr th:only-of-type {\n        vertical-align: middle;\n    }\n\n    .dataframe tbody tr th {\n        vertical-align: top;\n    }\n\n    .dataframe thead th {\n        text-align: right;\n    }\n</style>\n<table border=\"1\" class=\"dataframe\">\n  <thead>\n    <tr style=\"text-align: right;\">\n      <th></th>\n      <th>Unnamed: 0</th>\n      <th>Date</th>\n      <th>AwayTeam</th>\n      <th>Away1st</th>\n      <th>Away2nd</th>\n      <th>Away3rd</th>\n      <th>AwayFinal</th>\n      <th>MlAwayOpen</th>\n      <th>MlAwayClose</th>\n      <th>OpenOU</th>\n      <th>...</th>\n      <th>RealDate</th>\n      <th>home_last_3</th>\n      <th>away_last_3</th>\n      <th>home_last_1</th>\n      <th>away_last_1</th>\n      <th>home_rest</th>\n      <th>away_rest</th>\n      <th>home_record</th>\n      <th>away_record</th>\n      <th>predicted_diff</th>\n    </tr>\n  </thead>\n  <tbody>\n    <tr>\n      <th>15371</th>\n      <td>0</td>\n      <td>1002</td>\n      <td>Ottawa</td>\n      <td>1</td>\n      <td>1</td>\n      <td>1</td>\n      <td>3</td>\n      <td>245.0</td>\n      <td>270.0</td>\n      <td>6.0</td>\n      <td>...</td>\n      <td>2019-10-02</td>\n      <td>-5.0</td>\n      <td>-4.0</td>\n      <td>-4.0</td>\n      <td>-4.0</td>\n      <td>162.0</td>\n      <td>179.0</td>\n      <td>0.0</td>\n      <td>0.0</td>\n      <td>-1.165378</td>\n    </tr>\n    <tr>\n      <th>15372</th>\n      <td>2</td>\n      <td>1002</td>\n      <td>Washington</td>\n      <td>1</td>\n      <td>1</td>\n      <td>0</td>\n      <td>3</td>\n      <td>115.0</td>\n      <td>135.0</td>\n      <td>5.5</td>\n      <td>...</td>\n      <td>2019-10-02</td>\n      <td>0.0</td>\n      <td>2.0</td>\n      <td>3.0</td>\n      <td>-1.0</td>\n      <td>112.0</td>\n      <td>161.0</td>\n      <td>0.0</td>\n      <td>0.0</td>\n      <td>-0.429399</td>\n    </tr>\n    <tr>\n      <th>15373</th>\n      <td>4</td>\n      <td>1002</td>\n      <td>Vancouver</td>\n      <td>0</td>\n      <td>1</td>\n      <td>1</td>\n      <td>2</td>\n      <td>105.0</td>\n      <td>116.0</td>\n      <td>5.5</td>\n      <td>...</td>\n      <td>2019-10-02</td>\n      <td>-3.0</td>\n      <td>0.0</td>\n      <td>2.0</td>\n      <td>-1.0</td>\n      <td>179.0</td>\n      <td>179.0</td>\n      <td>0.0</td>\n      <td>0.0</td>\n      <td>-0.152555</td>\n    </tr>\n    <tr>\n      <th>15374</th>\n      <td>6</td>\n      <td>1002</td>\n      <td>SanJose</td>\n      <td>1</td>\n      <td>0</td>\n      <td>0</td>\n      <td>1</td>\n      <td>151.0</td>\n      <td>170.0</td>\n      <td>6.0</td>\n      <td>...</td>\n      <td>2019-10-02</td>\n      <td>-5.0</td>\n      <td>-10.0</td>\n      <td>-1.0</td>\n      <td>-4.0</td>\n      <td>162.0</td>\n      <td>134.0</td>\n      <td>0.0</td>\n      <td>0.0</td>\n      <td>-0.586807</td>\n    </tr>\n    <tr>\n      <th>15375</th>\n      <td>8</td>\n      <td>1003</td>\n      <td>Florida</td>\n      <td>0</td>\n      <td>1</td>\n      <td>1</td>\n      <td>2</td>\n      <td>160.0</td>\n      <td>157.0</td>\n      <td>6.5</td>\n      <td>...</td>\n      <td>2019-10-03</td>\n      <td>-10.0</td>\n      <td>0.0</td>\n      <td>-4.0</td>\n      <td>-1.0</td>\n      <td>170.0</td>\n      <td>180.0</td>\n      <td>0.0</td>\n      <td>0.0</td>\n      <td>-0.598161</td>\n    </tr>\n    <tr>\n      <th>...</th>\n      <td>...</td>\n      <td>...</td>\n      <td>...</td>\n      <td>...</td>\n      <td>...</td>\n      <td>...</td>\n      <td>...</td>\n      <td>...</td>\n      <td>...</td>\n      <td>...</td>\n      <td>...</td>\n      <td>...</td>\n      <td>...</td>\n      <td>...</td>\n      <td>...</td>\n      <td>...</td>\n      <td>...</td>\n      <td>...</td>\n      <td>...</td>\n      <td>...</td>\n      <td>...</td>\n    </tr>\n    <tr>\n      <th>17528</th>\n      <td>1894</td>\n      <td>628</td>\n      <td>Montreal</td>\n      <td>0</td>\n      <td>1</td>\n      <td>0</td>\n      <td>1</td>\n      <td>185.0</td>\n      <td>180.0</td>\n      <td>5.0</td>\n      <td>...</td>\n      <td>2021-06-28</td>\n      <td>8.0</td>\n      <td>3.0</td>\n      <td>1.0</td>\n      <td>1.0</td>\n      <td>3.0</td>\n      <td>4.0</td>\n      <td>22.0</td>\n      <td>-1.0</td>\n      <td>-0.547288</td>\n    </tr>\n    <tr>\n      <th>17529</th>\n      <td>1896</td>\n      <td>630</td>\n      <td>Montreal</td>\n      <td>0</td>\n      <td>1</td>\n      <td>0</td>\n      <td>1</td>\n      <td>180.0</td>\n      <td>177.0</td>\n      <td>5.0</td>\n      <td>...</td>\n      <td>2021-06-30</td>\n      <td>4.0</td>\n      <td>0.0</td>\n      <td>4.0</td>\n      <td>-4.0</td>\n      <td>2.0</td>\n      <td>2.0</td>\n      <td>23.0</td>\n      <td>-2.0</td>\n      <td>-0.626436</td>\n    </tr>\n    <tr>\n      <th>17530</th>\n      <td>1898</td>\n      <td>702</td>\n      <td>TampaBay</td>\n      <td>2</td>\n      <td>2</td>\n      <td>2</td>\n      <td>6</td>\n      <td>-145.0</td>\n      <td>-123.0</td>\n      <td>5.0</td>\n      <td>...</td>\n      <td>2021-07-02</td>\n      <td>-5.0</td>\n      <td>7.0</td>\n      <td>-2.0</td>\n      <td>2.0</td>\n      <td>2.0</td>\n      <td>2.0</td>\n      <td>-3.0</td>\n      <td>24.0</td>\n      <td>0.208839</td>\n    </tr>\n    <tr>\n      <th>17531</th>\n      <td>1900</td>\n      <td>705</td>\n      <td>TampaBay</td>\n      <td>0</td>\n      <td>1</td>\n      <td>1</td>\n      <td>2</td>\n      <td>-145.0</td>\n      <td>-150.0</td>\n      <td>5.0</td>\n      <td>...</td>\n      <td>2021-07-05</td>\n      <td>-9.0</td>\n      <td>9.0</td>\n      <td>-3.0</td>\n      <td>3.0</td>\n      <td>3.0</td>\n      <td>3.0</td>\n      <td>-4.0</td>\n      <td>25.0</td>\n      <td>0.434659</td>\n    </tr>\n    <tr>\n      <th>17532</th>\n      <td>1902</td>\n      <td>707</td>\n      <td>Montreal</td>\n      <td>0</td>\n      <td>0</td>\n      <td>0</td>\n      <td>0</td>\n      <td>180.0</td>\n      <td>215.0</td>\n      <td>5.0</td>\n      <td>...</td>\n      <td>2021-07-07</td>\n      <td>4.0</td>\n      <td>-4.0</td>\n      <td>-1.0</td>\n      <td>1.0</td>\n      <td>2.0</td>\n      <td>2.0</td>\n      <td>24.0</td>\n      <td>-3.0</td>\n      <td>-0.837605</td>\n    </tr>\n  </tbody>\n</table>\n<p>2162 rows × 37 columns</p>\n</div>"
     },
     "metadata": {}
    }
   ],
   "execution_count": 10
  },
  {
   "cell_type": "code",
   "source": "print('Testing 2020-2021')\n\n\n\n\n\nmoney = 20000\nwon = 0\nloss = 0\npush = 0\n\nmoney_by_year = {}\n\nfor row in nhl_odds_2020_2021.itertuples():\n\n    if row.Year not in money_by_year:\n        money_by_year.update({row.Year : 0})\n\n    # bet on away team if we think that they'll win but they're not the favourites\n    if row.predicted_diff > 0 and row.MlAwayClose > row.MlHomeClose:\n        if row.away_point_diff > 0:\n            money += calculate_profit(row.MlAwayClose, 1000)\n            money_by_year.update({row.Year: money_by_year.get(row.Year) + calculate_profit(row.MlAwayClose, 1000)})\n            won += 1\n        else:\n            money -= 1000\n            money_by_year.update({row.Year: money_by_year.get(row.Year) - 1000})\n            loss += 1\n\n    # bet on home team if we think that they'll win but they're not the favourites\n    if row.predicted_diff < 0 and row.MlHomeClose > row.MlAwayClose:\n        if row.away_point_diff < 0:\n            money += calculate_profit(row.MlHomeClose, 1000)\n            money_by_year.update({row.Year: money_by_year.get(row.Year) + calculate_profit(row.MlHomeClose, 1000)})\n            won += 1\n        else:\n            money -= 1000\n            money_by_year.update({row.Year: money_by_year.get(row.Year) - 1000})\n            loss += 1\n\n    if money <= 0:\n        print (\"BUST!\")\n        break\n\nprint (money)\nprint (won)\nprint (loss)\nprint (push)\nprint (money_by_year)",
   "metadata": {
    "tags": [],
    "cell_id": "00011-bf6e675b-07e4-471d-98d8-4a1a03adfab8",
    "deepnote_to_be_reexecuted": false,
    "source_hash": "732515b3",
    "execution_start": 1634400626583,
    "execution_millis": 22,
    "deepnote_cell_type": "code"
   },
   "outputs": [
    {
     "name": "stdout",
     "text": "Testing 2020-2021\n30693\n50\n39\n0\n{2020: -50, 2021: 10743}\n",
     "output_type": "stream"
    }
   ],
   "execution_count": 19
  },
  {
   "cell_type": "markdown",
   "source": "<a style='text-decoration:none;line-height:16px;display:flex;color:#5B5B62;padding:10px;justify-content:end;' href='https://deepnote.com?utm_source=created-in-deepnote-cell&projectId=f0efbe77-01fa-4860-b5ee-e7eac30d44e8' target=\"_blank\">\n<img alt='Created in deepnote.com' style='display:inline;max-height:16px;margin:0px;margin-right:7.5px;' src='data:image/svg+xml;base64,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' > </img>\nCreated in <span style='font-weight:600;margin-left:4px;'>Deepnote</span></a>",
   "metadata": {
    "tags": [],
    "created_in_deepnote_cell": true,
    "deepnote_cell_type": "markdown"
   }
  }
 ],
 "nbformat": 4,
 "nbformat_minor": 2,
 "metadata": {
  "orig_nbformat": 2,
  "deepnote": {
   "is_reactive": false
  },
  "deepnote_notebook_id": "2c665d38-945e-4ead-b872-139cd88d270e",
  "deepnote_execution_queue": []
 }
}