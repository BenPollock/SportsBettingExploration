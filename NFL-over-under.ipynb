{
 "cells": [
  {
   "cell_type": "markdown",
   "source": "# Ideation\n\nAre there any arbitrage opportunities available in over/under betting for NFL?\n\n1. Pull in historical NFL games and any relevant information. Maybe use Madden scores again...\n2. Data cleanup etc. If I use home/away, potentially scramble/average out for 2020 due to no fans. Players with dupe names. Teams that changed locations (raiders) or names (Wsh)\n3. What features are most relevant? If there is nothing too relevant, scrap idea\n4. If there are features that are relevant, let's look to use ML (need to treat this as time series)\n5. ML should be a regression rather than a classifier, targeting how many points I expect the teams will get.\n6. Get historical over/under sports betting odds\n7. Decide on how much to wager depending on how much my prediction differs from bookie (if it is a significant difference, bet more)\n8. Backtest based on betting methodology and see results\n\n\nOther notes:\nhttps://github.com/jp-wright/nfl_betting_market_analysis \n\nThe Spread:\n\"This finding is shown consistently in this project as the matchup features rank high in importance.\"\nweighted DVOA (a measure of how well a team has been playing recently) being the second biggest predictor\n\nOver Under:\nUnsurprisingly the most important features for determining the combined points scored in a game are statistics that relate to how effective a team is at scoring or preventing a score. We see a strong divergence from important features in predicting the spread, with no matchup delta metrics present. This fits common sense as we aren't concerned with how much better Team A is than Team B at something, but rather how good or bad both teams combined are.\n\n",
   "metadata": {
    "tags": [],
    "cell_id": "00000-6c545887-cd2a-4d7e-9096-f71acf1f3a8f",
    "deepnote_cell_type": "markdown"
   }
  },
  {
   "cell_type": "markdown",
   "source": "1. Pulled data from: \n2. Deleted any data from 66-78 as it had no betting information. Not a great predictor anyway (see jp-wright)\n3. Weather - no data in 2019/2020, do i need to fill it in?",
   "metadata": {
    "tags": [],
    "cell_id": "00001-902f4cee-eeff-45e7-b394-b779ce092e13",
    "deepnote_cell_type": "markdown"
   }
  },
  {
   "cell_type": "code",
   "metadata": {
    "tags": [],
    "cell_id": "00000-d4491f3d-c4a0-4a85-8b1d-a09343da60e5",
    "deepnote_to_be_reexecuted": false,
    "source_hash": "abc5579f",
    "execution_start": 1632261865238,
    "execution_millis": 2718,
    "deepnote_cell_type": "code"
   },
   "source": "# Imports etc\n\n#!pip install scikit-optimize\nimport numpy as np\nimport pandas as pd\nimport matplotlib.pyplot as plt\nimport seaborn as sns\nimport mpl_toolkits\nfrom functools import reduce\nfrom sklearn import preprocessing\nfrom sklearn.model_selection import cross_val_score\nfrom sklearn.model_selection import train_test_split\nfrom sklearn import ensemble\n#from skopt.space import Real, Integer\n#from skopt.utils import use_named_args\n#from skopt import gp_minimize\n\n%matplotlib inline\n\n",
   "outputs": [],
   "execution_count": 1
  },
  {
   "cell_type": "code",
   "metadata": {
    "tags": [],
    "cell_id": "00003-8f8920bf-8e9e-4948-97e5-3f3a5b22ea4a",
    "deepnote_to_be_reexecuted": false,
    "source_hash": "eb8403e3",
    "execution_start": 1632261867965,
    "execution_millis": 229,
    "deepnote_cell_type": "code"
   },
   "source": "# Get data\nglobal_df = pd.read_csv(\"nfl_games_and_bets.csv\")\nglobal_df",
   "outputs": [
    {
     "output_type": "execute_result",
     "execution_count": 2,
     "data": {
      "application/vnd.deepnote.dataframe.v2+json": {
       "row_count": 10718,
       "column_count": 17,
       "columns": [
        {
         "name": "schedule_date",
         "dtype": "object",
         "stats": {
          "unique_count": 2019,
          "nan_count": 0,
          "categories": [
           {
            "name": "1/9/2021",
            "count": 19
           },
           {
            "name": "1/3/2021",
            "count": 17
           },
           {
            "name": "2017 others",
            "count": 10682
           }
          ]
         }
        },
        {
         "name": "schedule_season",
         "dtype": "int64",
         "stats": {
          "unique_count": 43,
          "nan_count": 0,
          "min": "1979",
          "max": "2021",
          "histogram": [
           {
            "bin_start": 1979,
            "bin_end": 1983.2,
            "count": 1073
           },
           {
            "bin_start": 1983.2,
            "bin_end": 1987.4,
            "count": 876
           },
           {
            "bin_start": 1987.4,
            "bin_end": 1991.6,
            "count": 936
           },
           {
            "bin_start": 1991.6,
            "bin_end": 1995.8,
            "count": 956
           },
           {
            "bin_start": 1995.8,
            "bin_end": 2000,
            "count": 1012
           },
           {
            "bin_start": 2000,
            "bin_end": 2004.2,
            "count": 1319
           },
           {
            "bin_start": 2004.2,
            "bin_end": 2008.4,
            "count": 1068
           },
           {
            "bin_start": 2008.4,
            "bin_end": 2012.6,
            "count": 1068
           },
           {
            "bin_start": 2012.6,
            "bin_end": 2016.8,
            "count": 1068
           },
           {
            "bin_start": 2016.8,
            "bin_end": 2021,
            "count": 1342
           }
          ]
         }
        },
        {
         "name": "schedule_week",
         "dtype": "object",
         "stats": {
          "unique_count": 24,
          "nan_count": 0,
          "categories": [
           {
            "name": "15",
            "count": 649
           },
           {
            "name": "16",
            "count": 649
           },
           {
            "name": "22 others",
            "count": 9420
           }
          ]
         }
        },
        {
         "name": "schedule_playoff",
         "dtype": "bool",
         "stats": {
          "unique_count": 2,
          "nan_count": 0,
          "categories": [
           {
            "name": "False",
            "count": 10270
           },
           {
            "name": "True",
            "count": 448
           }
          ]
         }
        },
        {
         "name": "team_home",
         "dtype": "object",
         "stats": {
          "unique_count": 42,
          "nan_count": 0,
          "categories": [
           {
            "name": "New England Patriots",
            "count": 372
           },
           {
            "name": "San Francisco 49ers",
            "count": 372
           },
           {
            "name": "40 others",
            "count": 9974
           }
          ]
         }
        },
        {
         "name": "score_home",
         "dtype": "float64",
         "stats": {
          "unique_count": 60,
          "nan_count": 272,
          "min": "0.0",
          "max": "62.0",
          "histogram": [
           {
            "bin_start": 0,
            "bin_end": 6.2,
            "count": 489
           },
           {
            "bin_start": 6.2,
            "bin_end": 12.4,
            "count": 1056
           },
           {
            "bin_start": 12.4,
            "bin_end": 18.6,
            "count": 2126
           },
           {
            "bin_start": 18.6,
            "bin_end": 24.8,
            "count": 2668
           },
           {
            "bin_start": 24.8,
            "bin_end": 31,
            "count": 1744
           },
           {
            "bin_start": 31,
            "bin_end": 37.2,
            "count": 1439
           },
           {
            "bin_start": 37.2,
            "bin_end": 43.4,
            "count": 590
           },
           {
            "bin_start": 43.4,
            "bin_end": 49.6,
            "count": 242
           },
           {
            "bin_start": 49.6,
            "bin_end": 55.800000000000004,
            "count": 68
           },
           {
            "bin_start": 55.800000000000004,
            "bin_end": 62,
            "count": 24
           }
          ]
         }
        },
        {
         "name": "score_away",
         "dtype": "float64",
         "stats": {
          "unique_count": 55,
          "nan_count": 272,
          "min": "0.0",
          "max": "59.0",
          "histogram": [
           {
            "bin_start": 0,
            "bin_end": 5.9,
            "count": 570
           },
           {
            "bin_start": 5.9,
            "bin_end": 11.8,
            "count": 1636
           },
           {
            "bin_start": 11.8,
            "bin_end": 17.700000000000003,
            "count": 2537
           },
           {
            "bin_start": 17.700000000000003,
            "bin_end": 23.6,
            "count": 1967
           },
           {
            "bin_start": 23.6,
            "bin_end": 29.5,
            "count": 1792
           },
           {
            "bin_start": 29.5,
            "bin_end": 35.400000000000006,
            "count": 1215
           },
           {
            "bin_start": 35.400000000000006,
            "bin_end": 41.300000000000004,
            "count": 505
           },
           {
            "bin_start": 41.300000000000004,
            "bin_end": 47.2,
            "count": 164
           },
           {
            "bin_start": 47.2,
            "bin_end": 53.1,
            "count": 49
           },
           {
            "bin_start": 53.1,
            "bin_end": 59,
            "count": 11
           }
          ]
         }
        },
        {
         "name": "team_away",
         "dtype": "object",
         "stats": {
          "unique_count": 42,
          "nan_count": 0,
          "categories": [
           {
            "name": "Green Bay Packers",
            "count": 361
           },
           {
            "name": "New England Patriots",
            "count": 360
           },
           {
            "name": "40 others",
            "count": 9997
           }
          ]
         }
        },
        {
         "name": "team_favorite_id",
         "dtype": "object",
         "stats": {
          "unique_count": 33,
          "nan_count": 272,
          "categories": [
           {
            "name": "PIT",
            "count": 465
           },
           {
            "name": "32 others",
            "count": 9981
           },
           {
            "name": "Missing",
            "count": 272
           }
          ]
         }
        },
        {
         "name": "spread_favorite",
         "dtype": "float64"
        },
        {
         "name": "over_under_line",
         "dtype": "float64"
        },
        {
         "name": "stadium",
         "dtype": "object"
        },
        {
         "name": "stadium_neutral",
         "dtype": "object"
        },
        {
         "name": "weather_temperature",
         "dtype": "float64"
        },
        {
         "name": "weather_wind_mph",
         "dtype": "float64"
        },
        {
         "name": "weather_humidity",
         "dtype": "float64"
        },
        {
         "name": "weather_detail",
         "dtype": "object"
        },
        {
         "name": "_deepnote_index_column",
         "dtype": "int64"
        }
       ],
       "rows_top": [
        {
         "schedule_date": "9/1/1979",
         "schedule_season": 1979,
         "schedule_week": "1",
         "schedule_playoff": "False",
         "team_home": "Tampa Bay Buccaneers",
         "score_home": 31,
         "score_away": 16,
         "team_away": "Detroit Lions",
         "team_favorite_id": "TB",
         "spread_favorite": -3,
         "over_under_line": 30,
         "stadium": "Houlihan's Stadium",
         "stadium_neutral": "False",
         "weather_temperature": 79,
         "weather_wind_mph": 9,
         "weather_humidity": 87,
         "weather_detail": "nan",
         "_deepnote_index_column": 0
        },
        {
         "schedule_date": "9/2/1979",
         "schedule_season": 1979,
         "schedule_week": "1",
         "schedule_playoff": "False",
         "team_home": "Buffalo Bills",
         "score_home": 7,
         "score_away": 9,
         "team_away": "Miami Dolphins",
         "team_favorite_id": "MIA",
         "spread_favorite": -5,
         "over_under_line": 39,
         "stadium": "Ralph Wilson Stadium",
         "stadium_neutral": "False",
         "weather_temperature": 74,
         "weather_wind_mph": 15,
         "weather_humidity": 74,
         "weather_detail": "nan",
         "_deepnote_index_column": 1
        },
        {
         "schedule_date": "9/2/1979",
         "schedule_season": 1979,
         "schedule_week": "1",
         "schedule_playoff": "False",
         "team_home": "Chicago Bears",
         "score_home": 6,
         "score_away": 3,
         "team_away": "Green Bay Packers",
         "team_favorite_id": "CHI",
         "spread_favorite": -3,
         "over_under_line": 31,
         "stadium": "Soldier Field",
         "stadium_neutral": "False",
         "weather_temperature": 78,
         "weather_wind_mph": 11,
         "weather_humidity": 68,
         "weather_detail": "nan",
         "_deepnote_index_column": 2
        },
        {
         "schedule_date": "9/2/1979",
         "schedule_season": 1979,
         "schedule_week": "1",
         "schedule_playoff": "False",
         "team_home": "Denver Broncos",
         "score_home": 10,
         "score_away": 0,
         "team_away": "Cincinnati Bengals",
         "team_favorite_id": "DEN",
         "spread_favorite": -3,
         "over_under_line": 31.5,
         "stadium": "Mile High Stadium",
         "stadium_neutral": "False",
         "weather_temperature": 69,
         "weather_wind_mph": 6,
         "weather_humidity": 38,
         "weather_detail": "nan",
         "_deepnote_index_column": 3
        },
        {
         "schedule_date": "9/2/1979",
         "schedule_season": 1979,
         "schedule_week": "1",
         "schedule_playoff": "False",
         "team_home": "Kansas City Chiefs",
         "score_home": 14,
         "score_away": 0,
         "team_away": "Baltimore Colts",
         "team_favorite_id": "KC",
         "spread_favorite": -1,
         "over_under_line": 37,
         "stadium": "Arrowhead Stadium",
         "stadium_neutral": "False",
         "weather_temperature": 76,
         "weather_wind_mph": 8,
         "weather_humidity": 71,
         "weather_detail": "nan",
         "_deepnote_index_column": 4
        },
        {
         "schedule_date": "9/2/1979",
         "schedule_season": 1979,
         "schedule_week": "1",
         "schedule_playoff": "False",
         "team_home": "Los Angeles Rams",
         "score_home": 17,
         "score_away": 24,
         "team_away": "Oakland Raiders",
         "team_favorite_id": "LAR",
         "spread_favorite": -4,
         "over_under_line": 36.5,
         "stadium": "Anaheim Stadium",
         "stadium_neutral": "False",
         "weather_temperature": 70,
         "weather_wind_mph": 10,
         "weather_humidity": 77,
         "weather_detail": "nan",
         "_deepnote_index_column": 5
        },
        {
         "schedule_date": "9/2/1979",
         "schedule_season": 1979,
         "schedule_week": "1",
         "schedule_playoff": "False",
         "team_home": "Minnesota Vikings",
         "score_home": 28,
         "score_away": 22,
         "team_away": "San Francisco 49ers",
         "team_favorite_id": "MIN",
         "spread_favorite": -7,
         "over_under_line": 32,
         "stadium": "Metropolitan Stadium",
         "stadium_neutral": "False",
         "weather_temperature": 70,
         "weather_wind_mph": 11,
         "weather_humidity": 67,
         "weather_detail": "nan",
         "_deepnote_index_column": 6
        },
        {
         "schedule_date": "9/2/1979",
         "schedule_season": 1979,
         "schedule_week": "1",
         "schedule_playoff": "False",
         "team_home": "New Orleans Saints",
         "score_home": 34,
         "score_away": 40,
         "team_away": "Atlanta Falcons",
         "team_favorite_id": "NO",
         "spread_favorite": -5,
         "over_under_line": 32,
         "stadium": "Louisiana Superdome",
         "stadium_neutral": "False",
         "weather_temperature": 72,
         "weather_wind_mph": 0,
         "weather_humidity": "nan",
         "weather_detail": "DOME",
         "_deepnote_index_column": 7
        },
        {
         "schedule_date": "9/2/1979",
         "schedule_season": 1979,
         "schedule_week": "1",
         "schedule_playoff": "False",
         "team_home": "New York Jets",
         "score_home": 22,
         "score_away": 25,
         "team_away": "Cleveland Browns",
         "team_favorite_id": "NYJ",
         "spread_favorite": -2,
         "over_under_line": 41,
         "stadium": "Giants Stadium",
         "stadium_neutral": "False",
         "weather_temperature": 73,
         "weather_wind_mph": 10,
         "weather_humidity": 76,
         "weather_detail": "nan",
         "_deepnote_index_column": 8
        },
        {
         "schedule_date": "9/2/1979",
         "schedule_season": 1979,
         "schedule_week": "1",
         "schedule_playoff": "False",
         "team_home": "Philadelphia Eagles",
         "score_home": 23,
         "score_away": 17,
         "team_away": "New York Giants",
         "team_favorite_id": "PHI",
         "spread_favorite": -7,
         "over_under_line": 31.5,
         "stadium": "Veterans Stadium",
         "stadium_neutral": "False",
         "weather_temperature": 76,
         "weather_wind_mph": 9,
         "weather_humidity": 84,
         "weather_detail": "nan",
         "_deepnote_index_column": 9
        },
        {
         "schedule_date": "9/2/1979",
         "schedule_season": 1979,
         "schedule_week": "1",
         "schedule_playoff": "False",
         "team_home": "Seattle Seahawks",
         "score_home": 16,
         "score_away": 33,
         "team_away": "San Diego Chargers",
         "team_favorite_id": "SEA",
         "spread_favorite": -2,
         "over_under_line": 42.5,
         "stadium": "Seattle Kingdome",
         "stadium_neutral": "False",
         "weather_temperature": 72,
         "weather_wind_mph": 0,
         "weather_humidity": "nan",
         "weather_detail": "DOME",
         "_deepnote_index_column": 10
        },
        {
         "schedule_date": "9/2/1979",
         "schedule_season": 1979,
         "schedule_week": "1",
         "schedule_playoff": "False",
         "team_home": "St. Louis Cardinals",
         "score_home": 21,
         "score_away": 22,
         "team_away": "Dallas Cowboys",
         "team_favorite_id": "DAL",
         "spread_favorite": -4,
         "over_under_line": 37,
         "stadium": "Busch Memorial Stadium",
         "stadium_neutral": "False",
         "weather_temperature": 76,
         "weather_wind_mph": 7,
         "weather_humidity": 73,
         "weather_detail": "nan",
         "_deepnote_index_column": 11
        },
        {
         "schedule_date": "9/2/1979",
         "schedule_season": 1979,
         "schedule_week": "1",
         "schedule_playoff": "False",
         "team_home": "Washington Redskins",
         "score_home": 27,
         "score_away": 29,
         "team_away": "Houston Oilers",
         "team_favorite_id": "TEN",
         "spread_favorite": -4,
         "over_under_line": 33,
         "stadium": "RFK Memorial Stadium",
         "stadium_neutral": "False",
         "weather_temperature": 80,
         "weather_wind_mph": 11,
         "weather_humidity": 85,
         "weather_detail": "nan",
         "_deepnote_index_column": 12
        },
        {
         "schedule_date": "9/3/1979",
         "schedule_season": 1979,
         "schedule_week": "1",
         "schedule_playoff": "False",
         "team_home": "New England Patriots",
         "score_home": 13,
         "score_away": 16,
         "team_away": "Pittsburgh Steelers",
         "team_favorite_id": "PIT",
         "spread_favorite": -2,
         "over_under_line": 37,
         "stadium": "Foxboro Stadium",
         "stadium_neutral": "False",
         "weather_temperature": 78,
         "weather_wind_mph": 13,
         "weather_humidity": 80,
         "weather_detail": "nan",
         "_deepnote_index_column": 13
        },
        {
         "schedule_date": "9/6/1979",
         "schedule_season": 1979,
         "schedule_week": "2",
         "schedule_playoff": "False",
         "team_home": "Denver Broncos",
         "score_home": 9,
         "score_away": 13,
         "team_away": "Los Angeles Rams",
         "team_favorite_id": "DEN",
         "spread_favorite": -2,
         "over_under_line": 31.5,
         "stadium": "Mile High Stadium",
         "stadium_neutral": "False",
         "weather_temperature": 67,
         "weather_wind_mph": 8,
         "weather_humidity": 50,
         "weather_detail": "nan",
         "_deepnote_index_column": 14
        },
        {
         "schedule_date": "9/9/1979",
         "schedule_season": 1979,
         "schedule_week": "2",
         "schedule_playoff": "False",
         "team_home": "Baltimore Colts",
         "score_home": 26,
         "score_away": 29,
         "team_away": "Tampa Bay Buccaneers",
         "team_favorite_id": "PICK",
         "spread_favorite": 0,
         "over_under_line": 33,
         "stadium": "Memorial Stadium (Baltimore)",
         "stadium_neutral": "False",
         "weather_temperature": 64,
         "weather_wind_mph": 8,
         "weather_humidity": 65,
         "weather_detail": "nan",
         "_deepnote_index_column": 15
        },
        {
         "schedule_date": "9/9/1979",
         "schedule_season": 1979,
         "schedule_week": "2",
         "schedule_playoff": "False",
         "team_home": "Buffalo Bills",
         "score_home": 51,
         "score_away": 24,
         "team_away": "Cincinnati Bengals",
         "team_favorite_id": "CIN",
         "spread_favorite": -3,
         "over_under_line": 34,
         "stadium": "Ralph Wilson Stadium",
         "stadium_neutral": "False",
         "weather_temperature": 54,
         "weather_wind_mph": 7,
         "weather_humidity": 63,
         "weather_detail": "nan",
         "_deepnote_index_column": 16
        },
        {
         "schedule_date": "9/9/1979",
         "schedule_season": 1979,
         "schedule_week": "2",
         "schedule_playoff": "False",
         "team_home": "Chicago Bears",
         "score_home": 26,
         "score_away": 7,
         "team_away": "Minnesota Vikings",
         "team_favorite_id": "CHI",
         "spread_favorite": -6,
         "over_under_line": 31.5,
         "stadium": "Soldier Field",
         "stadium_neutral": "False",
         "weather_temperature": 60,
         "weather_wind_mph": 11,
         "weather_humidity": 64,
         "weather_detail": "nan",
         "_deepnote_index_column": 17
        },
        {
         "schedule_date": "9/9/1979",
         "schedule_season": 1979,
         "schedule_week": "2",
         "schedule_playoff": "False",
         "team_home": "Detroit Lions",
         "score_home": 24,
         "score_away": 27,
         "team_away": "Washington Redskins",
         "team_favorite_id": "PICK",
         "spread_favorite": 0,
         "over_under_line": 35.5,
         "stadium": "Pontiac Silverdome",
         "stadium_neutral": "False",
         "weather_temperature": 72,
         "weather_wind_mph": 0,
         "weather_humidity": "nan",
         "weather_detail": "DOME",
         "_deepnote_index_column": 18
        },
        {
         "schedule_date": "9/9/1979",
         "schedule_season": 1979,
         "schedule_week": "2",
         "schedule_playoff": "False",
         "team_home": "Green Bay Packers",
         "score_home": 28,
         "score_away": 19,
         "team_away": "New Orleans Saints",
         "team_favorite_id": "GB",
         "spread_favorite": -3,
         "over_under_line": 35,
         "stadium": "Lambeau Field",
         "stadium_neutral": "False",
         "weather_temperature": 60,
         "weather_wind_mph": 13,
         "weather_humidity": 71,
         "weather_detail": "nan",
         "_deepnote_index_column": 19
        },
        {
         "schedule_date": "9/9/1979",
         "schedule_season": 1979,
         "schedule_week": "2",
         "schedule_playoff": "False",
         "team_home": "Kansas City Chiefs",
         "score_home": 24,
         "score_away": 27,
         "team_away": "Cleveland Browns",
         "team_favorite_id": "PICK",
         "spread_favorite": 0,
         "over_under_line": 36,
         "stadium": "Arrowhead Stadium",
         "stadium_neutral": "False",
         "weather_temperature": 71,
         "weather_wind_mph": 14,
         "weather_humidity": 60,
         "weather_detail": "nan",
         "_deepnote_index_column": 20
        },
        {
         "schedule_date": "9/9/1979",
         "schedule_season": 1979,
         "schedule_week": "2",
         "schedule_playoff": "False",
         "team_home": "Miami Dolphins",
         "score_home": 19,
         "score_away": 10,
         "team_away": "Seattle Seahawks",
         "team_favorite_id": "MIA",
         "spread_favorite": -7,
         "over_under_line": 40.5,
         "stadium": "Orange Bowl",
         "stadium_neutral": "False",
         "weather_temperature": 81,
         "weather_wind_mph": 13,
         "weather_humidity": 81,
         "weather_detail": "nan",
         "_deepnote_index_column": 21
        },
        {
         "schedule_date": "9/9/1979",
         "schedule_season": 1979,
         "schedule_week": "2",
         "schedule_playoff": "False",
         "team_home": "New England Patriots",
         "score_home": 56,
         "score_away": 3,
         "team_away": "New York Jets",
         "team_favorite_id": "NE",
         "spread_favorite": -8,
         "over_under_line": 42,
         "stadium": "Foxboro Stadium",
         "stadium_neutral": "False",
         "weather_temperature": 59,
         "weather_wind_mph": 12,
         "weather_humidity": 68,
         "weather_detail": "nan",
         "_deepnote_index_column": 22
        },
        {
         "schedule_date": "9/9/1979",
         "schedule_season": 1979,
         "schedule_week": "2",
         "schedule_playoff": "False",
         "team_home": "New York Giants",
         "score_home": 14,
         "score_away": 27,
         "team_away": "St. Louis Cardinals",
         "team_favorite_id": "ARI",
         "spread_favorite": -3,
         "over_under_line": 36,
         "stadium": "Giants Stadium",
         "stadium_neutral": "False",
         "weather_temperature": 63,
         "weather_wind_mph": 13,
         "weather_humidity": 54,
         "weather_detail": "nan",
         "_deepnote_index_column": 23
        },
        {
         "schedule_date": "9/9/1979",
         "schedule_season": 1979,
         "schedule_week": "2",
         "schedule_playoff": "False",
         "team_home": "Pittsburgh Steelers",
         "score_home": 38,
         "score_away": 7,
         "team_away": "Houston Oilers",
         "team_favorite_id": "PIT",
         "spread_favorite": -6,
         "over_under_line": 37,
         "stadium": "Three Rivers Stadium",
         "stadium_neutral": "False",
         "weather_temperature": 55,
         "weather_wind_mph": 6,
         "weather_humidity": 69,
         "weather_detail": "nan",
         "_deepnote_index_column": 24
        },
        {
         "schedule_date": "9/9/1979",
         "schedule_season": 1979,
         "schedule_week": "2",
         "schedule_playoff": "False",
         "team_home": "San Diego Chargers",
         "score_home": 30,
         "score_away": 10,
         "team_away": "Oakland Raiders",
         "team_favorite_id": "LAC",
         "spread_favorite": -3,
         "over_under_line": 42,
         "stadium": "Qualcomm Stadium",
         "stadium_neutral": "False",
         "weather_temperature": 73,
         "weather_wind_mph": 9,
         "weather_humidity": 82,
         "weather_detail": "nan",
         "_deepnote_index_column": 25
        },
        {
         "schedule_date": "9/9/1979",
         "schedule_season": 1979,
         "schedule_week": "2",
         "schedule_playoff": "False",
         "team_home": "San Francisco 49ers",
         "score_home": 13,
         "score_away": 21,
         "team_away": "Dallas Cowboys",
         "team_favorite_id": "DAL",
         "spread_favorite": -13,
         "over_under_line": 39,
         "stadium": "Candlestick Park",
         "stadium_neutral": "False",
         "weather_temperature": 65,
         "weather_wind_mph": 15,
         "weather_humidity": 65,
         "weather_detail": "nan",
         "_deepnote_index_column": 26
        },
        {
         "schedule_date": "9/10/1979",
         "schedule_season": 1979,
         "schedule_week": "2",
         "schedule_playoff": "False",
         "team_home": "Philadelphia Eagles",
         "score_home": 10,
         "score_away": 14,
         "team_away": "Atlanta Falcons",
         "team_favorite_id": "PHI",
         "spread_favorite": -4,
         "over_under_line": 35.5,
         "stadium": "Veterans Stadium",
         "stadium_neutral": "False",
         "weather_temperature": 65,
         "weather_wind_mph": 7,
         "weather_humidity": 72,
         "weather_detail": "nan",
         "_deepnote_index_column": 27
        },
        {
         "schedule_date": "9/16/1979",
         "schedule_season": 1979,
         "schedule_week": "3",
         "schedule_playoff": "False",
         "team_home": "Atlanta Falcons",
         "score_home": 17,
         "score_away": 20,
         "team_away": "Denver Broncos",
         "team_favorite_id": "DEN",
         "spread_favorite": -3,
         "over_under_line": 32,
         "stadium": "Atlanta-Fulton County Stadium",
         "stadium_neutral": "False",
         "weather_temperature": 71,
         "weather_wind_mph": 15,
         "weather_humidity": 76,
         "weather_detail": "nan",
         "_deepnote_index_column": 28
        }
       ],
       "rows_bottom": [
        {
         "schedule_date": "1/2/2021",
         "schedule_season": 2021,
         "schedule_week": "17",
         "schedule_playoff": "False",
         "team_home": "Indianapolis Colts",
         "score_home": "nan",
         "score_away": "nan",
         "team_away": "Las Vegas Raiders",
         "team_favorite_id": "nan",
         "spread_favorite": "nan",
         "over_under_line": "nan",
         "stadium": "nan",
         "stadium_neutral": "nan",
         "weather_temperature": "nan",
         "weather_wind_mph": "nan",
         "weather_humidity": "nan",
         "weather_detail": "nan",
         "_deepnote_index_column": 10689
        },
        {
         "schedule_date": "1/2/2021",
         "schedule_season": 2021,
         "schedule_week": "17",
         "schedule_playoff": "False",
         "team_home": "Dallas Cowboys",
         "score_home": "nan",
         "score_away": "nan",
         "team_away": "Arizona Cardinals",
         "team_favorite_id": "nan",
         "spread_favorite": "nan",
         "over_under_line": "nan",
         "stadium": "nan",
         "stadium_neutral": "nan",
         "weather_temperature": "nan",
         "weather_wind_mph": "nan",
         "weather_humidity": "nan",
         "weather_detail": "nan",
         "_deepnote_index_column": 10690
        },
        {
         "schedule_date": "1/2/2021",
         "schedule_season": 2021,
         "schedule_week": "17",
         "schedule_playoff": "False",
         "team_home": "New Orleans Saints",
         "score_home": "nan",
         "score_away": "nan",
         "team_away": "Carolina Panthers",
         "team_favorite_id": "nan",
         "spread_favorite": "nan",
         "over_under_line": "nan",
         "stadium": "nan",
         "stadium_neutral": "nan",
         "weather_temperature": "nan",
         "weather_wind_mph": "nan",
         "weather_humidity": "nan",
         "weather_detail": "nan",
         "_deepnote_index_column": 10691
        },
        {
         "schedule_date": "1/2/2021",
         "schedule_season": 2021,
         "schedule_week": "17",
         "schedule_playoff": "False",
         "team_home": "New England Patriots",
         "score_home": "nan",
         "score_away": "nan",
         "team_away": "Jacksonville Jaguars",
         "team_favorite_id": "nan",
         "spread_favorite": "nan",
         "over_under_line": "nan",
         "stadium": "nan",
         "stadium_neutral": "nan",
         "weather_temperature": "nan",
         "weather_wind_mph": "nan",
         "weather_humidity": "nan",
         "weather_detail": "nan",
         "_deepnote_index_column": 10692
        },
        {
         "schedule_date": "1/2/2021",
         "schedule_season": 2021,
         "schedule_week": "17",
         "schedule_playoff": "False",
         "team_home": "New York Jets",
         "score_home": "nan",
         "score_away": "nan",
         "team_away": "Tampa Bay Buccaneers",
         "team_favorite_id": "nan",
         "spread_favorite": "nan",
         "over_under_line": "nan",
         "stadium": "nan",
         "stadium_neutral": "nan",
         "weather_temperature": "nan",
         "weather_wind_mph": "nan",
         "weather_humidity": "nan",
         "weather_detail": "nan",
         "_deepnote_index_column": 10693
        },
        {
         "schedule_date": "1/2/2021",
         "schedule_season": 2021,
         "schedule_week": "17",
         "schedule_playoff": "False",
         "team_home": "Tennessee Titans",
         "score_home": "nan",
         "score_away": "nan",
         "team_away": "Miami Dolphins",
         "team_favorite_id": "nan",
         "spread_favorite": "nan",
         "over_under_line": "nan",
         "stadium": "nan",
         "stadium_neutral": "nan",
         "weather_temperature": "nan",
         "weather_wind_mph": "nan",
         "weather_humidity": "nan",
         "weather_detail": "nan",
         "_deepnote_index_column": 10694
        },
        {
         "schedule_date": "1/2/2021",
         "schedule_season": 2021,
         "schedule_week": "17",
         "schedule_playoff": "False",
         "team_home": "Washington Football Team",
         "score_home": "nan",
         "score_away": "nan",
         "team_away": "Philadelphia Eagles",
         "team_favorite_id": "nan",
         "spread_favorite": "nan",
         "over_under_line": "nan",
         "stadium": "nan",
         "stadium_neutral": "nan",
         "weather_temperature": "nan",
         "weather_wind_mph": "nan",
         "weather_humidity": "nan",
         "weather_detail": "nan",
         "_deepnote_index_column": 10695
        },
        {
         "schedule_date": "1/2/2021",
         "schedule_season": 2021,
         "schedule_week": "17",
         "schedule_playoff": "False",
         "team_home": "Los Angeles Chargers",
         "score_home": "nan",
         "score_away": "nan",
         "team_away": "Denver Broncos",
         "team_favorite_id": "nan",
         "spread_favorite": "nan",
         "over_under_line": "nan",
         "stadium": "nan",
         "stadium_neutral": "nan",
         "weather_temperature": "nan",
         "weather_wind_mph": "nan",
         "weather_humidity": "nan",
         "weather_detail": "nan",
         "_deepnote_index_column": 10696
        },
        {
         "schedule_date": "1/2/2021",
         "schedule_season": 2021,
         "schedule_week": "17",
         "schedule_playoff": "False",
         "team_home": "San Francisco 49ers",
         "score_home": "nan",
         "score_away": "nan",
         "team_away": "Houston Texans",
         "team_favorite_id": "nan",
         "spread_favorite": "nan",
         "over_under_line": "nan",
         "stadium": "nan",
         "stadium_neutral": "nan",
         "weather_temperature": "nan",
         "weather_wind_mph": "nan",
         "weather_humidity": "nan",
         "weather_detail": "nan",
         "_deepnote_index_column": 10697
        },
        {
         "schedule_date": "1/2/2021",
         "schedule_season": 2021,
         "schedule_week": "17",
         "schedule_playoff": "False",
         "team_home": "Baltimore Ravens",
         "score_home": "nan",
         "score_away": "nan",
         "team_away": "Los Angeles Rams",
         "team_favorite_id": "nan",
         "spread_favorite": "nan",
         "over_under_line": "nan",
         "stadium": "nan",
         "stadium_neutral": "nan",
         "weather_temperature": "nan",
         "weather_wind_mph": "nan",
         "weather_humidity": "nan",
         "weather_detail": "nan",
         "_deepnote_index_column": 10698
        },
        {
         "schedule_date": "1/2/2021",
         "schedule_season": 2021,
         "schedule_week": "17",
         "schedule_playoff": "False",
         "team_home": "Seattle Seahawks",
         "score_home": "nan",
         "score_away": "nan",
         "team_away": "Detroit Lions",
         "team_favorite_id": "nan",
         "spread_favorite": "nan",
         "over_under_line": "nan",
         "stadium": "nan",
         "stadium_neutral": "nan",
         "weather_temperature": "nan",
         "weather_wind_mph": "nan",
         "weather_humidity": "nan",
         "weather_detail": "nan",
         "_deepnote_index_column": 10699
        },
        {
         "schedule_date": "1/2/2021",
         "schedule_season": 2021,
         "schedule_week": "17",
         "schedule_playoff": "False",
         "team_home": "Green Bay Packers",
         "score_home": "nan",
         "score_away": "nan",
         "team_away": "Minnesota Vikings",
         "team_favorite_id": "nan",
         "spread_favorite": "nan",
         "over_under_line": "nan",
         "stadium": "nan",
         "stadium_neutral": "nan",
         "weather_temperature": "nan",
         "weather_wind_mph": "nan",
         "weather_humidity": "nan",
         "weather_detail": "nan",
         "_deepnote_index_column": 10700
        },
        {
         "schedule_date": "1/3/2021",
         "schedule_season": 2021,
         "schedule_week": "17",
         "schedule_playoff": "False",
         "team_home": "Pittsburgh Steelers",
         "score_home": "nan",
         "score_away": "nan",
         "team_away": "Cleveland Browns",
         "team_favorite_id": "nan",
         "spread_favorite": "nan",
         "over_under_line": "nan",
         "stadium": "nan",
         "stadium_neutral": "nan",
         "weather_temperature": "nan",
         "weather_wind_mph": "nan",
         "weather_humidity": "nan",
         "weather_detail": "nan",
         "_deepnote_index_column": 10701
        },
        {
         "schedule_date": "1/9/2021",
         "schedule_season": 2021,
         "schedule_week": "18",
         "schedule_playoff": "False",
         "team_home": "Atlanta Falcons",
         "score_home": "nan",
         "score_away": "nan",
         "team_away": "New Orleans Saints",
         "team_favorite_id": "nan",
         "spread_favorite": "nan",
         "over_under_line": "nan",
         "stadium": "nan",
         "stadium_neutral": "nan",
         "weather_temperature": "nan",
         "weather_wind_mph": "nan",
         "weather_humidity": "nan",
         "weather_detail": "nan",
         "_deepnote_index_column": 10702
        },
        {
         "schedule_date": "1/9/2021",
         "schedule_season": 2021,
         "schedule_week": "18",
         "schedule_playoff": "False",
         "team_home": "Buffalo Bills",
         "score_home": "nan",
         "score_away": "nan",
         "team_away": "New York Jets",
         "team_favorite_id": "nan",
         "spread_favorite": "nan",
         "over_under_line": "nan",
         "stadium": "nan",
         "stadium_neutral": "nan",
         "weather_temperature": "nan",
         "weather_wind_mph": "nan",
         "weather_humidity": "nan",
         "weather_detail": "nan",
         "_deepnote_index_column": 10703
        },
        {
         "schedule_date": "1/9/2021",
         "schedule_season": 2021,
         "schedule_week": "18",
         "schedule_playoff": "False",
         "team_home": "Cleveland Browns",
         "score_home": "nan",
         "score_away": "nan",
         "team_away": "Cincinnati Bengals",
         "team_favorite_id": "nan",
         "spread_favorite": "nan",
         "over_under_line": "nan",
         "stadium": "nan",
         "stadium_neutral": "nan",
         "weather_temperature": "nan",
         "weather_wind_mph": "nan",
         "weather_humidity": "nan",
         "weather_detail": "nan",
         "_deepnote_index_column": 10704
        },
        {
         "schedule_date": "1/9/2021",
         "schedule_season": 2021,
         "schedule_week": "18",
         "schedule_playoff": "False",
         "team_home": "Detroit Lions",
         "score_home": "nan",
         "score_away": "nan",
         "team_away": "Green Bay Packers",
         "team_favorite_id": "nan",
         "spread_favorite": "nan",
         "over_under_line": "nan",
         "stadium": "nan",
         "stadium_neutral": "nan",
         "weather_temperature": "nan",
         "weather_wind_mph": "nan",
         "weather_humidity": "nan",
         "weather_detail": "nan",
         "_deepnote_index_column": 10705
        },
        {
         "schedule_date": "1/9/2021",
         "schedule_season": 2021,
         "schedule_week": "18",
         "schedule_playoff": "False",
         "team_home": "Houston Texans",
         "score_home": "nan",
         "score_away": "nan",
         "team_away": "Tennessee Titans",
         "team_favorite_id": "nan",
         "spread_favorite": "nan",
         "over_under_line": "nan",
         "stadium": "nan",
         "stadium_neutral": "nan",
         "weather_temperature": "nan",
         "weather_wind_mph": "nan",
         "weather_humidity": "nan",
         "weather_detail": "nan",
         "_deepnote_index_column": 10706
        },
        {
         "schedule_date": "1/9/2021",
         "schedule_season": 2021,
         "schedule_week": "18",
         "schedule_playoff": "False",
         "team_home": "Jacksonville Jaguars",
         "score_home": "nan",
         "score_away": "nan",
         "team_away": "Indianapolis Colts",
         "team_favorite_id": "nan",
         "spread_favorite": "nan",
         "over_under_line": "nan",
         "stadium": "nan",
         "stadium_neutral": "nan",
         "weather_temperature": "nan",
         "weather_wind_mph": "nan",
         "weather_humidity": "nan",
         "weather_detail": "nan",
         "_deepnote_index_column": 10707
        },
        {
         "schedule_date": "1/9/2021",
         "schedule_season": 2021,
         "schedule_week": "18",
         "schedule_playoff": "False",
         "team_home": "Miami Dolphins",
         "score_home": "nan",
         "score_away": "nan",
         "team_away": "New England Patriots",
         "team_favorite_id": "nan",
         "spread_favorite": "nan",
         "over_under_line": "nan",
         "stadium": "nan",
         "stadium_neutral": "nan",
         "weather_temperature": "nan",
         "weather_wind_mph": "nan",
         "weather_humidity": "nan",
         "weather_detail": "nan",
         "_deepnote_index_column": 10708
        },
        {
         "schedule_date": "1/9/2021",
         "schedule_season": 2021,
         "schedule_week": "18",
         "schedule_playoff": "False",
         "team_home": "Minnesota Vikings",
         "score_home": "nan",
         "score_away": "nan",
         "team_away": "Chicago Bears",
         "team_favorite_id": "nan",
         "spread_favorite": "nan",
         "over_under_line": "nan",
         "stadium": "nan",
         "stadium_neutral": "nan",
         "weather_temperature": "nan",
         "weather_wind_mph": "nan",
         "weather_humidity": "nan",
         "weather_detail": "nan",
         "_deepnote_index_column": 10709
        },
        {
         "schedule_date": "1/9/2021",
         "schedule_season": 2021,
         "schedule_week": "18",
         "schedule_playoff": "False",
         "team_home": "New York Giants",
         "score_home": "nan",
         "score_away": "nan",
         "team_away": "Washington Football Team",
         "team_favorite_id": "nan",
         "spread_favorite": "nan",
         "over_under_line": "nan",
         "stadium": "nan",
         "stadium_neutral": "nan",
         "weather_temperature": "nan",
         "weather_wind_mph": "nan",
         "weather_humidity": "nan",
         "weather_detail": "nan",
         "_deepnote_index_column": 10710
        },
        {
         "schedule_date": "1/9/2021",
         "schedule_season": 2021,
         "schedule_week": "18",
         "schedule_playoff": "False",
         "team_home": "Philadelphia Eagles",
         "score_home": "nan",
         "score_away": "nan",
         "team_away": "Dallas Cowboys",
         "team_favorite_id": "nan",
         "spread_favorite": "nan",
         "over_under_line": "nan",
         "stadium": "nan",
         "stadium_neutral": "nan",
         "weather_temperature": "nan",
         "weather_wind_mph": "nan",
         "weather_humidity": "nan",
         "weather_detail": "nan",
         "_deepnote_index_column": 10711
        },
        {
         "schedule_date": "1/9/2021",
         "schedule_season": 2021,
         "schedule_week": "18",
         "schedule_playoff": "False",
         "team_home": "Baltimore Ravens",
         "score_home": "nan",
         "score_away": "nan",
         "team_away": "Pittsburgh Steelers",
         "team_favorite_id": "nan",
         "spread_favorite": "nan",
         "over_under_line": "nan",
         "stadium": "nan",
         "stadium_neutral": "nan",
         "weather_temperature": "nan",
         "weather_wind_mph": "nan",
         "weather_humidity": "nan",
         "weather_detail": "nan",
         "_deepnote_index_column": 10712
        },
        {
         "schedule_date": "1/9/2021",
         "schedule_season": 2021,
         "schedule_week": "18",
         "schedule_playoff": "False",
         "team_home": "Tampa Bay Buccaneers",
         "score_home": "nan",
         "score_away": "nan",
         "team_away": "Carolina Panthers",
         "team_favorite_id": "nan",
         "spread_favorite": "nan",
         "over_under_line": "nan",
         "stadium": "nan",
         "stadium_neutral": "nan",
         "weather_temperature": "nan",
         "weather_wind_mph": "nan",
         "weather_humidity": "nan",
         "weather_detail": "nan",
         "_deepnote_index_column": 10713
        },
        {
         "schedule_date": "1/9/2021",
         "schedule_season": 2021,
         "schedule_week": "18",
         "schedule_playoff": "False",
         "team_home": "Arizona Cardinals",
         "score_home": "nan",
         "score_away": "nan",
         "team_away": "Seattle Seahawks",
         "team_favorite_id": "nan",
         "spread_favorite": "nan",
         "over_under_line": "nan",
         "stadium": "nan",
         "stadium_neutral": "nan",
         "weather_temperature": "nan",
         "weather_wind_mph": "nan",
         "weather_humidity": "nan",
         "weather_detail": "nan",
         "_deepnote_index_column": 10714
        },
        {
         "schedule_date": "1/9/2021",
         "schedule_season": 2021,
         "schedule_week": "18",
         "schedule_playoff": "False",
         "team_home": "Denver Broncos",
         "score_home": "nan",
         "score_away": "nan",
         "team_away": "Kansas City Chiefs",
         "team_favorite_id": "nan",
         "spread_favorite": "nan",
         "over_under_line": "nan",
         "stadium": "nan",
         "stadium_neutral": "nan",
         "weather_temperature": "nan",
         "weather_wind_mph": "nan",
         "weather_humidity": "nan",
         "weather_detail": "nan",
         "_deepnote_index_column": 10715
        },
        {
         "schedule_date": "1/9/2021",
         "schedule_season": 2021,
         "schedule_week": "18",
         "schedule_playoff": "False",
         "team_home": "Las Vegas Raiders",
         "score_home": "nan",
         "score_away": "nan",
         "team_away": "Los Angeles Chargers",
         "team_favorite_id": "nan",
         "spread_favorite": "nan",
         "over_under_line": "nan",
         "stadium": "nan",
         "stadium_neutral": "nan",
         "weather_temperature": "nan",
         "weather_wind_mph": "nan",
         "weather_humidity": "nan",
         "weather_detail": "nan",
         "_deepnote_index_column": 10716
        },
        {
         "schedule_date": "1/9/2021",
         "schedule_season": 2021,
         "schedule_week": "18",
         "schedule_playoff": "False",
         "team_home": "Los Angeles Rams",
         "score_home": "nan",
         "score_away": "nan",
         "team_away": "San Francisco 49ers",
         "team_favorite_id": "nan",
         "spread_favorite": "nan",
         "over_under_line": "nan",
         "stadium": "nan",
         "stadium_neutral": "nan",
         "weather_temperature": "nan",
         "weather_wind_mph": "nan",
         "weather_humidity": "nan",
         "weather_detail": "nan",
         "_deepnote_index_column": 10717
        }
       ]
      },
      "text/plain": "      schedule_date  schedule_season schedule_week  schedule_playoff  \\\n0          9/1/1979             1979             1             False   \n1          9/2/1979             1979             1             False   \n2          9/2/1979             1979             1             False   \n3          9/2/1979             1979             1             False   \n4          9/2/1979             1979             1             False   \n...             ...              ...           ...               ...   \n10713      1/9/2021             2021            18             False   \n10714      1/9/2021             2021            18             False   \n10715      1/9/2021             2021            18             False   \n10716      1/9/2021             2021            18             False   \n10717      1/9/2021             2021            18             False   \n\n                  team_home  score_home  score_away             team_away  \\\n0      Tampa Bay Buccaneers        31.0        16.0         Detroit Lions   \n1             Buffalo Bills         7.0         9.0        Miami Dolphins   \n2             Chicago Bears         6.0         3.0     Green Bay Packers   \n3            Denver Broncos        10.0         0.0    Cincinnati Bengals   \n4        Kansas City Chiefs        14.0         0.0       Baltimore Colts   \n...                     ...         ...         ...                   ...   \n10713  Tampa Bay Buccaneers         NaN         NaN     Carolina Panthers   \n10714     Arizona Cardinals         NaN         NaN      Seattle Seahawks   \n10715        Denver Broncos         NaN         NaN    Kansas City Chiefs   \n10716     Las Vegas Raiders         NaN         NaN  Los Angeles Chargers   \n10717      Los Angeles Rams         NaN         NaN   San Francisco 49ers   \n\n      team_favorite_id  spread_favorite  over_under_line  \\\n0                   TB             -3.0             30.0   \n1                  MIA             -5.0             39.0   \n2                  CHI             -3.0             31.0   \n3                  DEN             -3.0             31.5   \n4                   KC             -1.0             37.0   \n...                ...              ...              ...   \n10713              NaN              NaN              NaN   \n10714              NaN              NaN              NaN   \n10715              NaN              NaN              NaN   \n10716              NaN              NaN              NaN   \n10717              NaN              NaN              NaN   \n\n                    stadium stadium_neutral  weather_temperature  \\\n0        Houlihan's Stadium           False                 79.0   \n1      Ralph Wilson Stadium           False                 74.0   \n2             Soldier Field           False                 78.0   \n3         Mile High Stadium           False                 69.0   \n4         Arrowhead Stadium           False                 76.0   \n...                     ...             ...                  ...   \n10713                   NaN             NaN                  NaN   \n10714                   NaN             NaN                  NaN   \n10715                   NaN             NaN                  NaN   \n10716                   NaN             NaN                  NaN   \n10717                   NaN             NaN                  NaN   \n\n       weather_wind_mph  weather_humidity weather_detail  \n0                   9.0              87.0            NaN  \n1                  15.0              74.0            NaN  \n2                  11.0              68.0            NaN  \n3                   6.0              38.0            NaN  \n4                   8.0              71.0            NaN  \n...                 ...               ...            ...  \n10713               NaN               NaN            NaN  \n10714               NaN               NaN            NaN  \n10715               NaN               NaN            NaN  \n10716               NaN               NaN            NaN  \n10717               NaN               NaN            NaN  \n\n[10718 rows x 17 columns]",
      "text/html": "<div>\n<style scoped>\n    .dataframe tbody tr th:only-of-type {\n        vertical-align: middle;\n    }\n\n    .dataframe tbody tr th {\n        vertical-align: top;\n    }\n\n    .dataframe thead th {\n        text-align: right;\n    }\n</style>\n<table border=\"1\" class=\"dataframe\">\n  <thead>\n    <tr style=\"text-align: right;\">\n      <th></th>\n      <th>schedule_date</th>\n      <th>schedule_season</th>\n      <th>schedule_week</th>\n      <th>schedule_playoff</th>\n      <th>team_home</th>\n      <th>score_home</th>\n      <th>score_away</th>\n      <th>team_away</th>\n      <th>team_favorite_id</th>\n      <th>spread_favorite</th>\n      <th>over_under_line</th>\n      <th>stadium</th>\n      <th>stadium_neutral</th>\n      <th>weather_temperature</th>\n      <th>weather_wind_mph</th>\n      <th>weather_humidity</th>\n      <th>weather_detail</th>\n    </tr>\n  </thead>\n  <tbody>\n    <tr>\n      <th>0</th>\n      <td>9/1/1979</td>\n      <td>1979</td>\n      <td>1</td>\n      <td>False</td>\n      <td>Tampa Bay Buccaneers</td>\n      <td>31.0</td>\n      <td>16.0</td>\n      <td>Detroit Lions</td>\n      <td>TB</td>\n      <td>-3.0</td>\n      <td>30.0</td>\n      <td>Houlihan's Stadium</td>\n      <td>False</td>\n      <td>79.0</td>\n      <td>9.0</td>\n      <td>87.0</td>\n      <td>NaN</td>\n    </tr>\n    <tr>\n      <th>1</th>\n      <td>9/2/1979</td>\n      <td>1979</td>\n      <td>1</td>\n      <td>False</td>\n      <td>Buffalo Bills</td>\n      <td>7.0</td>\n      <td>9.0</td>\n      <td>Miami Dolphins</td>\n      <td>MIA</td>\n      <td>-5.0</td>\n      <td>39.0</td>\n      <td>Ralph Wilson Stadium</td>\n      <td>False</td>\n      <td>74.0</td>\n      <td>15.0</td>\n      <td>74.0</td>\n      <td>NaN</td>\n    </tr>\n    <tr>\n      <th>2</th>\n      <td>9/2/1979</td>\n      <td>1979</td>\n      <td>1</td>\n      <td>False</td>\n      <td>Chicago Bears</td>\n      <td>6.0</td>\n      <td>3.0</td>\n      <td>Green Bay Packers</td>\n      <td>CHI</td>\n      <td>-3.0</td>\n      <td>31.0</td>\n      <td>Soldier Field</td>\n      <td>False</td>\n      <td>78.0</td>\n      <td>11.0</td>\n      <td>68.0</td>\n      <td>NaN</td>\n    </tr>\n    <tr>\n      <th>3</th>\n      <td>9/2/1979</td>\n      <td>1979</td>\n      <td>1</td>\n      <td>False</td>\n      <td>Denver Broncos</td>\n      <td>10.0</td>\n      <td>0.0</td>\n      <td>Cincinnati Bengals</td>\n      <td>DEN</td>\n      <td>-3.0</td>\n      <td>31.5</td>\n      <td>Mile High Stadium</td>\n      <td>False</td>\n      <td>69.0</td>\n      <td>6.0</td>\n      <td>38.0</td>\n      <td>NaN</td>\n    </tr>\n    <tr>\n      <th>4</th>\n      <td>9/2/1979</td>\n      <td>1979</td>\n      <td>1</td>\n      <td>False</td>\n      <td>Kansas City Chiefs</td>\n      <td>14.0</td>\n      <td>0.0</td>\n      <td>Baltimore Colts</td>\n      <td>KC</td>\n      <td>-1.0</td>\n      <td>37.0</td>\n      <td>Arrowhead Stadium</td>\n      <td>False</td>\n      <td>76.0</td>\n      <td>8.0</td>\n      <td>71.0</td>\n      <td>NaN</td>\n    </tr>\n    <tr>\n      <th>...</th>\n      <td>...</td>\n      <td>...</td>\n      <td>...</td>\n      <td>...</td>\n      <td>...</td>\n      <td>...</td>\n      <td>...</td>\n      <td>...</td>\n      <td>...</td>\n      <td>...</td>\n      <td>...</td>\n      <td>...</td>\n      <td>...</td>\n      <td>...</td>\n      <td>...</td>\n      <td>...</td>\n      <td>...</td>\n    </tr>\n    <tr>\n      <th>10713</th>\n      <td>1/9/2021</td>\n      <td>2021</td>\n      <td>18</td>\n      <td>False</td>\n      <td>Tampa Bay Buccaneers</td>\n      <td>NaN</td>\n      <td>NaN</td>\n      <td>Carolina Panthers</td>\n      <td>NaN</td>\n      <td>NaN</td>\n      <td>NaN</td>\n      <td>NaN</td>\n      <td>NaN</td>\n      <td>NaN</td>\n      <td>NaN</td>\n      <td>NaN</td>\n      <td>NaN</td>\n    </tr>\n    <tr>\n      <th>10714</th>\n      <td>1/9/2021</td>\n      <td>2021</td>\n      <td>18</td>\n      <td>False</td>\n      <td>Arizona Cardinals</td>\n      <td>NaN</td>\n      <td>NaN</td>\n      <td>Seattle Seahawks</td>\n      <td>NaN</td>\n      <td>NaN</td>\n      <td>NaN</td>\n      <td>NaN</td>\n      <td>NaN</td>\n      <td>NaN</td>\n      <td>NaN</td>\n      <td>NaN</td>\n      <td>NaN</td>\n    </tr>\n    <tr>\n      <th>10715</th>\n      <td>1/9/2021</td>\n      <td>2021</td>\n      <td>18</td>\n      <td>False</td>\n      <td>Denver Broncos</td>\n      <td>NaN</td>\n      <td>NaN</td>\n      <td>Kansas City Chiefs</td>\n      <td>NaN</td>\n      <td>NaN</td>\n      <td>NaN</td>\n      <td>NaN</td>\n      <td>NaN</td>\n      <td>NaN</td>\n      <td>NaN</td>\n      <td>NaN</td>\n      <td>NaN</td>\n    </tr>\n    <tr>\n      <th>10716</th>\n      <td>1/9/2021</td>\n      <td>2021</td>\n      <td>18</td>\n      <td>False</td>\n      <td>Las Vegas Raiders</td>\n      <td>NaN</td>\n      <td>NaN</td>\n      <td>Los Angeles Chargers</td>\n      <td>NaN</td>\n      <td>NaN</td>\n      <td>NaN</td>\n      <td>NaN</td>\n      <td>NaN</td>\n      <td>NaN</td>\n      <td>NaN</td>\n      <td>NaN</td>\n      <td>NaN</td>\n    </tr>\n    <tr>\n      <th>10717</th>\n      <td>1/9/2021</td>\n      <td>2021</td>\n      <td>18</td>\n      <td>False</td>\n      <td>Los Angeles Rams</td>\n      <td>NaN</td>\n      <td>NaN</td>\n      <td>San Francisco 49ers</td>\n      <td>NaN</td>\n      <td>NaN</td>\n      <td>NaN</td>\n      <td>NaN</td>\n      <td>NaN</td>\n      <td>NaN</td>\n      <td>NaN</td>\n      <td>NaN</td>\n      <td>NaN</td>\n    </tr>\n  </tbody>\n</table>\n<p>10718 rows × 17 columns</p>\n</div>"
     },
     "metadata": {}
    }
   ],
   "execution_count": 2
  },
  {
   "cell_type": "code",
   "metadata": {
    "tags": [],
    "cell_id": "00004-043ac401-389f-443a-9bd4-cc7afb71e649",
    "deepnote_to_be_reexecuted": false,
    "source_hash": "5722a7d0",
    "execution_start": 1632261868193,
    "execution_millis": 159,
    "deepnote_cell_type": "code"
   },
   "source": "# Drop 2021 season as it hasn't happened yet\npre_2021_df = global_df.drop(global_df[global_df.schedule_season == 2021].index)\n\n# Drop everything before 2010 as it's probably not that helpful\nrecent_df = pre_2021_df.drop(pre_2021_df[pre_2021_df.schedule_season < 2010].index)\n\n# Account for team moves\nold_to_new_team_name = {\"San Diego Chargers\": \"Los Angeles Chargers\", \"St. Louis Rams\": \"Los Angeles Rams\", \"Washington Redskins\" : \"Washington Football Team\"}\n\nrecent_df",
   "outputs": [
    {
     "output_type": "execute_result",
     "execution_count": 3,
     "data": {
      "application/vnd.deepnote.dataframe.v2+json": {
       "row_count": 2939,
       "column_count": 17,
       "columns": [
        {
         "name": "schedule_date",
         "dtype": "object",
         "stats": {
          "unique_count": 601,
          "nan_count": 0,
          "categories": [
           {
            "name": "1/2/2011",
            "count": 16
           },
           {
            "name": "1/1/2012",
            "count": 16
           },
           {
            "name": "599 others",
            "count": 2907
           }
          ]
         }
        },
        {
         "name": "schedule_season",
         "dtype": "int64",
         "stats": {
          "unique_count": 11,
          "nan_count": 0,
          "min": "2010",
          "max": "2020",
          "histogram": [
           {
            "bin_start": 2010,
            "bin_end": 2011,
            "count": 267
           },
           {
            "bin_start": 2011,
            "bin_end": 2012,
            "count": 267
           },
           {
            "bin_start": 2012,
            "bin_end": 2013,
            "count": 267
           },
           {
            "bin_start": 2013,
            "bin_end": 2014,
            "count": 267
           },
           {
            "bin_start": 2014,
            "bin_end": 2015,
            "count": 267
           },
           {
            "bin_start": 2015,
            "bin_end": 2016,
            "count": 267
           },
           {
            "bin_start": 2016,
            "bin_end": 2017,
            "count": 267
           },
           {
            "bin_start": 2017,
            "bin_end": 2018,
            "count": 267
           },
           {
            "bin_start": 2018,
            "bin_end": 2019,
            "count": 267
           },
           {
            "bin_start": 2019,
            "bin_end": 2020,
            "count": 536
           }
          ]
         }
        },
        {
         "name": "schedule_week",
         "dtype": "object",
         "stats": {
          "unique_count": 23,
          "nan_count": 0,
          "categories": [
           {
            "name": "2",
            "count": 176
           },
           {
            "name": "3",
            "count": 176
           },
           {
            "name": "21 others",
            "count": 2587
           }
          ]
         }
        },
        {
         "name": "schedule_playoff",
         "dtype": "bool",
         "stats": {
          "unique_count": 2,
          "nan_count": 0,
          "categories": [
           {
            "name": "False",
            "count": 2816
           },
           {
            "name": "True",
            "count": 123
           }
          ]
         }
        },
        {
         "name": "team_home",
         "dtype": "object",
         "stats": {
          "unique_count": 36,
          "nan_count": 0,
          "categories": [
           {
            "name": "New England Patriots",
            "count": 107
           },
           {
            "name": "Kansas City Chiefs",
            "count": 98
           },
           {
            "name": "34 others",
            "count": 2734
           }
          ]
         }
        },
        {
         "name": "score_home",
         "dtype": "float64",
         "stats": {
          "unique_count": 57,
          "nan_count": 0,
          "min": "0.0",
          "max": "62.0",
          "histogram": [
           {
            "bin_start": 0,
            "bin_end": 6.2,
            "count": 117
           },
           {
            "bin_start": 6.2,
            "bin_end": 12.4,
            "count": 239
           },
           {
            "bin_start": 12.4,
            "bin_end": 18.6,
            "count": 528
           },
           {
            "bin_start": 18.6,
            "bin_end": 24.8,
            "count": 761
           },
           {
            "bin_start": 24.8,
            "bin_end": 31,
            "count": 538
           },
           {
            "bin_start": 31,
            "bin_end": 37.2,
            "count": 454
           },
           {
            "bin_start": 37.2,
            "bin_end": 43.4,
            "count": 191
           },
           {
            "bin_start": 43.4,
            "bin_end": 49.6,
            "count": 81
           },
           {
            "bin_start": 49.6,
            "bin_end": 55.800000000000004,
            "count": 24
           },
           {
            "bin_start": 55.800000000000004,
            "bin_end": 62,
            "count": 6
           }
          ]
         }
        },
        {
         "name": "score_away",
         "dtype": "float64",
         "stats": {
          "unique_count": 54,
          "nan_count": 0,
          "min": "0.0",
          "max": "59.0",
          "histogram": [
           {
            "bin_start": 0,
            "bin_end": 5.9,
            "count": 96
           },
           {
            "bin_start": 5.9,
            "bin_end": 11.8,
            "count": 351
           },
           {
            "bin_start": 11.8,
            "bin_end": 17.700000000000003,
            "count": 644
           },
           {
            "bin_start": 17.700000000000003,
            "bin_end": 23.6,
            "count": 604
           },
           {
            "bin_start": 23.6,
            "bin_end": 29.5,
            "count": 579
           },
           {
            "bin_start": 29.5,
            "bin_end": 35.400000000000006,
            "count": 406
           },
           {
            "bin_start": 35.400000000000006,
            "bin_end": 41.300000000000004,
            "count": 176
           },
           {
            "bin_start": 41.300000000000004,
            "bin_end": 47.2,
            "count": 56
           },
           {
            "bin_start": 47.2,
            "bin_end": 53.1,
            "count": 22
           },
           {
            "bin_start": 53.1,
            "bin_end": 59,
            "count": 5
           }
          ]
         }
        },
        {
         "name": "team_away",
         "dtype": "object",
         "stats": {
          "unique_count": 36,
          "nan_count": 0,
          "categories": [
           {
            "name": "Seattle Seahawks",
            "count": 99
           },
           {
            "name": "Green Bay Packers",
            "count": 98
           },
           {
            "name": "34 others",
            "count": 2742
           }
          ]
         }
        },
        {
         "name": "team_favorite_id",
         "dtype": "object",
         "stats": {
          "unique_count": 33,
          "nan_count": 0,
          "categories": [
           {
            "name": "NE",
            "count": 173
           },
           {
            "name": "GB",
            "count": 142
           },
           {
            "name": "31 others",
            "count": 2624
           }
          ]
         }
        },
        {
         "name": "spread_favorite",
         "dtype": "float64",
         "stats": {
          "unique_count": 41,
          "nan_count": 0,
          "min": "-26.5",
          "max": "0.0",
          "histogram": [
           {
            "bin_start": -26.5,
            "bin_end": -23.85,
            "count": 1
           },
           {
            "bin_start": -23.85,
            "bin_end": -21.2,
            "count": 1
           },
           {
            "bin_start": -21.2,
            "bin_end": -18.55,
            "count": 4
           },
           {
            "bin_start": -18.55,
            "bin_end": -15.9,
            "count": 25
           },
           {
            "bin_start": -15.9,
            "bin_end": -13.25,
            "count": 78
           },
           {
            "bin_start": -13.25,
            "bin_end": -10.600000000000001,
            "count": 98
           },
           {
            "bin_start": -10.600000000000001,
            "bin_end": -7.949999999999999,
            "count": 322
           },
           {
            "bin_start": -7.949999999999999,
            "bin_end": -5.300000000000001,
            "count": 740
           },
           {
            "bin_start": -5.300000000000001,
            "bin_end": -2.650000000000002,
            "count": 1068
           },
           {
            "bin_start": -2.650000000000002,
            "bin_end": 0,
            "count": 602
           }
          ]
         }
        },
        {
         "name": "over_under_line",
         "dtype": "float64",
         "stats": {
          "unique_count": 57,
          "nan_count": 0,
          "min": "33.0",
          "max": "63.5",
          "histogram": [
           {
            "bin_start": 33,
            "bin_end": 36.05,
            "count": 23
           },
           {
            "bin_start": 36.05,
            "bin_end": 39.1,
            "count": 207
           },
           {
            "bin_start": 39.1,
            "bin_end": 42.15,
            "count": 502
           },
           {
            "bin_start": 42.15,
            "bin_end": 45.2,
            "count": 822
           },
           {
            "bin_start": 45.2,
            "bin_end": 48.25,
            "count": 687
           },
           {
            "bin_start": 48.25,
            "bin_end": 51.3,
            "count": 407
           },
           {
            "bin_start": 51.3,
            "bin_end": 54.349999999999994,
            "count": 190
           },
           {
            "bin_start": 54.349999999999994,
            "bin_end": 57.4,
            "count": 87
           },
           {
            "bin_start": 57.4,
            "bin_end": 60.45,
            "count": 12
           },
           {
            "bin_start": 60.45,
            "bin_end": 63.5,
            "count": 2
           }
          ]
         }
        },
        {
         "name": "stadium",
         "dtype": "object",
         "stats": {
          "unique_count": 53,
          "nan_count": 0,
          "categories": [
           {
            "name": "MetLife Stadium",
            "count": 178
           },
           {
            "name": "Gillette Stadium",
            "count": 103
           },
           {
            "name": "51 others",
            "count": 2658
           }
          ]
         }
        },
        {
         "name": "stadium_neutral",
         "dtype": "object",
         "stats": {
          "unique_count": 2,
          "nan_count": 0,
          "categories": [
           {
            "name": "False",
            "count": 2895
           },
           {
            "name": "True",
            "count": 44
           }
          ]
         }
        },
        {
         "name": "weather_temperature",
         "dtype": "float64",
         "stats": {
          "unique_count": 89,
          "nan_count": 438,
          "min": "-6.0",
          "max": "97.0",
          "histogram": [
           {
            "bin_start": -6,
            "bin_end": 4.300000000000001,
            "count": 2
           },
           {
            "bin_start": 4.300000000000001,
            "bin_end": 14.600000000000001,
            "count": 8
           },
           {
            "bin_start": 14.600000000000001,
            "bin_end": 24.900000000000002,
            "count": 32
           },
           {
            "bin_start": 24.900000000000002,
            "bin_end": 35.2,
            "count": 134
           },
           {
            "bin_start": 35.2,
            "bin_end": 45.5,
            "count": 219
           },
           {
            "bin_start": 45.5,
            "bin_end": 55.800000000000004,
            "count": 312
           },
           {
            "bin_start": 55.800000000000004,
            "bin_end": 66.10000000000001,
            "count": 420
           },
           {
            "bin_start": 66.10000000000001,
            "bin_end": 76.4,
            "count": 1058
           },
           {
            "bin_start": 76.4,
            "bin_end": 86.7,
            "count": 262
           },
           {
            "bin_start": 86.7,
            "bin_end": 97,
            "count": 54
           }
          ]
         }
        },
        {
         "name": "weather_wind_mph",
         "dtype": "float64",
         "stats": {
          "unique_count": 29,
          "nan_count": 440,
          "min": "0.0",
          "max": "40.0",
          "histogram": [
           {
            "bin_start": 0,
            "bin_end": 4,
            "count": 1181
           },
           {
            "bin_start": 4,
            "bin_end": 8,
            "count": 710
           },
           {
            "bin_start": 8,
            "bin_end": 12,
            "count": 400
           },
           {
            "bin_start": 12,
            "bin_end": 16,
            "count": 150
           },
           {
            "bin_start": 16,
            "bin_end": 20,
            "count": 42
           },
           {
            "bin_start": 20,
            "bin_end": 24,
            "count": 10
           },
           {
            "bin_start": 24,
            "bin_end": 28,
            "count": 3
           },
           {
            "bin_start": 28,
            "bin_end": 32,
            "count": 2
           },
           {
            "bin_start": 32,
            "bin_end": 36,
            "count": 0
           },
           {
            "bin_start": 36,
            "bin_end": 40,
            "count": 1
           }
          ]
         }
        },
        {
         "name": "weather_humidity",
         "dtype": "float64",
         "stats": {
          "unique_count": 85,
          "nan_count": 2267,
          "min": "4.0",
          "max": "100.0",
          "histogram": [
           {
            "bin_start": 4,
            "bin_end": 13.6,
            "count": 7
           },
           {
            "bin_start": 13.6,
            "bin_end": 23.2,
            "count": 19
           },
           {
            "bin_start": 23.2,
            "bin_end": 32.8,
            "count": 30
           },
           {
            "bin_start": 32.8,
            "bin_end": 42.4,
            "count": 80
           },
           {
            "bin_start": 42.4,
            "bin_end": 52,
            "count": 107
           },
           {
            "bin_start": 52,
            "bin_end": 61.599999999999994,
            "count": 136
           },
           {
            "bin_start": 61.599999999999994,
            "bin_end": 71.2,
            "count": 110
           },
           {
            "bin_start": 71.2,
            "bin_end": 80.8,
            "count": 96
           },
           {
            "bin_start": 80.8,
            "bin_end": 90.39999999999999,
            "count": 58
           },
           {
            "bin_start": 90.39999999999999,
            "bin_end": 100,
            "count": 29
           }
          ]
         }
        },
        {
         "name": "weather_detail",
         "dtype": "object",
         "stats": {
          "unique_count": 8,
          "nan_count": 2020,
          "categories": [
           {
            "name": "DOME",
            "count": 700
           },
           {
            "name": "7 others",
            "count": 219
           },
           {
            "name": "Missing",
            "count": 2020
           }
          ]
         }
        },
        {
         "name": "_deepnote_index_column",
         "dtype": "int64"
        }
       ],
       "rows_top": [
        {
         "schedule_date": "9/9/2010",
         "schedule_season": 2010,
         "schedule_week": "1",
         "schedule_playoff": "False",
         "team_home": "New Orleans Saints",
         "score_home": 14,
         "score_away": 9,
         "team_away": "Minnesota Vikings",
         "team_favorite_id": "NO",
         "spread_favorite": -5,
         "over_under_line": 49.5,
         "stadium": "Louisiana Superdome",
         "stadium_neutral": "False",
         "weather_temperature": 72,
         "weather_wind_mph": 0,
         "weather_humidity": "nan",
         "weather_detail": "DOME",
         "_deepnote_index_column": 7507
        },
        {
         "schedule_date": "9/12/2010",
         "schedule_season": 2010,
         "schedule_week": "1",
         "schedule_playoff": "False",
         "team_home": "Buffalo Bills",
         "score_home": 10,
         "score_away": 15,
         "team_away": "Miami Dolphins",
         "team_favorite_id": "MIA",
         "spread_favorite": -3,
         "over_under_line": 39,
         "stadium": "Ralph Wilson Stadium",
         "stadium_neutral": "False",
         "weather_temperature": 64,
         "weather_wind_mph": 7,
         "weather_humidity": 81,
         "weather_detail": "nan",
         "_deepnote_index_column": 7508
        },
        {
         "schedule_date": "9/12/2010",
         "schedule_season": 2010,
         "schedule_week": "1",
         "schedule_playoff": "False",
         "team_home": "Chicago Bears",
         "score_home": 19,
         "score_away": 14,
         "team_away": "Detroit Lions",
         "team_favorite_id": "CHI",
         "spread_favorite": -6.5,
         "over_under_line": 45,
         "stadium": "Soldier Field",
         "stadium_neutral": "False",
         "weather_temperature": 75,
         "weather_wind_mph": 1,
         "weather_humidity": 45,
         "weather_detail": "nan",
         "_deepnote_index_column": 7509
        },
        {
         "schedule_date": "9/12/2010",
         "schedule_season": 2010,
         "schedule_week": "1",
         "schedule_playoff": "False",
         "team_home": "Houston Texans",
         "score_home": 34,
         "score_away": 24,
         "team_away": "Indianapolis Colts",
         "team_favorite_id": "IND",
         "spread_favorite": -1,
         "over_under_line": 48,
         "stadium": "Reliant Stadium",
         "stadium_neutral": "False",
         "weather_temperature": 89,
         "weather_wind_mph": 5,
         "weather_humidity": "nan",
         "weather_detail": "DOME (Open Roof)",
         "_deepnote_index_column": 7510
        },
        {
         "schedule_date": "9/12/2010",
         "schedule_season": 2010,
         "schedule_week": "1",
         "schedule_playoff": "False",
         "team_home": "Jacksonville Jaguars",
         "score_home": 24,
         "score_away": 17,
         "team_away": "Denver Broncos",
         "team_favorite_id": "JAX",
         "spread_favorite": -3,
         "over_under_line": 41.5,
         "stadium": "EverBank Field",
         "stadium_neutral": "False",
         "weather_temperature": 91,
         "weather_wind_mph": 1,
         "weather_humidity": 67,
         "weather_detail": "nan",
         "_deepnote_index_column": 7511
        },
        {
         "schedule_date": "9/12/2010",
         "schedule_season": 2010,
         "schedule_week": "1",
         "schedule_playoff": "False",
         "team_home": "New England Patriots",
         "score_home": 38,
         "score_away": 24,
         "team_away": "Cincinnati Bengals",
         "team_favorite_id": "NE",
         "spread_favorite": -5.5,
         "over_under_line": 45,
         "stadium": "Gillette Stadium",
         "stadium_neutral": "False",
         "weather_temperature": 63,
         "weather_wind_mph": 10,
         "weather_humidity": "nan",
         "weather_detail": "nan",
         "_deepnote_index_column": 7512
        },
        {
         "schedule_date": "9/12/2010",
         "schedule_season": 2010,
         "schedule_week": "1",
         "schedule_playoff": "False",
         "team_home": "New York Giants",
         "score_home": 31,
         "score_away": 18,
         "team_away": "Carolina Panthers",
         "team_favorite_id": "NYG",
         "spread_favorite": -6,
         "over_under_line": 41,
         "stadium": "MetLife Stadium",
         "stadium_neutral": "False",
         "weather_temperature": 65,
         "weather_wind_mph": 1,
         "weather_humidity": 67,
         "weather_detail": "Rain",
         "_deepnote_index_column": 7513
        },
        {
         "schedule_date": "9/12/2010",
         "schedule_season": 2010,
         "schedule_week": "1",
         "schedule_playoff": "False",
         "team_home": "Philadelphia Eagles",
         "score_home": 20,
         "score_away": 27,
         "team_away": "Green Bay Packers",
         "team_favorite_id": "GB",
         "spread_favorite": -3,
         "over_under_line": 48,
         "stadium": "Lincoln Financial Field",
         "stadium_neutral": "False",
         "weather_temperature": 69,
         "weather_wind_mph": 4,
         "weather_humidity": 72,
         "weather_detail": "nan",
         "_deepnote_index_column": 7514
        },
        {
         "schedule_date": "9/12/2010",
         "schedule_season": 2010,
         "schedule_week": "1",
         "schedule_playoff": "False",
         "team_home": "Pittsburgh Steelers",
         "score_home": 15,
         "score_away": 9,
         "team_away": "Atlanta Falcons",
         "team_favorite_id": "ATL",
         "spread_favorite": -1.5,
         "over_under_line": 39.5,
         "stadium": "Heinz Field",
         "stadium_neutral": "False",
         "weather_temperature": 65,
         "weather_wind_mph": 9,
         "weather_humidity": 67,
         "weather_detail": "nan",
         "_deepnote_index_column": 7515
        },
        {
         "schedule_date": "9/12/2010",
         "schedule_season": 2010,
         "schedule_week": "1",
         "schedule_playoff": "False",
         "team_home": "Seattle Seahawks",
         "score_home": 31,
         "score_away": 6,
         "team_away": "San Francisco 49ers",
         "team_favorite_id": "SF",
         "spread_favorite": -3,
         "over_under_line": 37,
         "stadium": "CenturyLink Field",
         "stadium_neutral": "False",
         "weather_temperature": 64,
         "weather_wind_mph": 11,
         "weather_humidity": "nan",
         "weather_detail": "nan",
         "_deepnote_index_column": 7516
        },
        {
         "schedule_date": "9/12/2010",
         "schedule_season": 2010,
         "schedule_week": "1",
         "schedule_playoff": "False",
         "team_home": "St. Louis Rams",
         "score_home": 13,
         "score_away": 17,
         "team_away": "Arizona Cardinals",
         "team_favorite_id": "ARI",
         "spread_favorite": -3,
         "over_under_line": 39.5,
         "stadium": "Edward Jones Dome",
         "stadium_neutral": "False",
         "weather_temperature": 72,
         "weather_wind_mph": 0,
         "weather_humidity": "nan",
         "weather_detail": "DOME",
         "_deepnote_index_column": 7517
        },
        {
         "schedule_date": "9/12/2010",
         "schedule_season": 2010,
         "schedule_week": "1",
         "schedule_playoff": "False",
         "team_home": "Tampa Bay Buccaneers",
         "score_home": 17,
         "score_away": 14,
         "team_away": "Cleveland Browns",
         "team_favorite_id": "TB",
         "spread_favorite": -2.5,
         "over_under_line": 37,
         "stadium": "Raymond James Stadium",
         "stadium_neutral": "False",
         "weather_temperature": 87,
         "weather_wind_mph": 6,
         "weather_humidity": 78,
         "weather_detail": "nan",
         "_deepnote_index_column": 7518
        },
        {
         "schedule_date": "9/12/2010",
         "schedule_season": 2010,
         "schedule_week": "1",
         "schedule_playoff": "False",
         "team_home": "Tennessee Titans",
         "score_home": 38,
         "score_away": 13,
         "team_away": "Oakland Raiders",
         "team_favorite_id": "TEN",
         "spread_favorite": -6.5,
         "over_under_line": 40,
         "stadium": "Nissan Stadium",
         "stadium_neutral": "False",
         "weather_temperature": 77,
         "weather_wind_mph": 9,
         "weather_humidity": 45,
         "weather_detail": "nan",
         "_deepnote_index_column": 7519
        },
        {
         "schedule_date": "9/12/2010",
         "schedule_season": 2010,
         "schedule_week": "1",
         "schedule_playoff": "False",
         "team_home": "Washington Redskins",
         "score_home": 13,
         "score_away": 7,
         "team_away": "Dallas Cowboys",
         "team_favorite_id": "DAL",
         "spread_favorite": -3,
         "over_under_line": 40,
         "stadium": "FedEx Field",
         "stadium_neutral": "False",
         "weather_temperature": 66,
         "weather_wind_mph": 2,
         "weather_humidity": 85,
         "weather_detail": "nan",
         "_deepnote_index_column": 7520
        },
        {
         "schedule_date": "9/13/2010",
         "schedule_season": 2010,
         "schedule_week": "1",
         "schedule_playoff": "False",
         "team_home": "Kansas City Chiefs",
         "score_home": 21,
         "score_away": 14,
         "team_away": "San Diego Chargers",
         "team_favorite_id": "LAC",
         "spread_favorite": -4,
         "over_under_line": 45.5,
         "stadium": "Arrowhead Stadium",
         "stadium_neutral": "False",
         "weather_temperature": 81,
         "weather_wind_mph": 1,
         "weather_humidity": 75,
         "weather_detail": "nan",
         "_deepnote_index_column": 7521
        },
        {
         "schedule_date": "9/13/2010",
         "schedule_season": 2010,
         "schedule_week": "1",
         "schedule_playoff": "False",
         "team_home": "New York Jets",
         "score_home": 9,
         "score_away": 10,
         "team_away": "Baltimore Ravens",
         "team_favorite_id": "NYJ",
         "spread_favorite": -1,
         "over_under_line": 36.5,
         "stadium": "MetLife Stadium",
         "stadium_neutral": "False",
         "weather_temperature": 73,
         "weather_wind_mph": 1,
         "weather_humidity": 100,
         "weather_detail": "Rain",
         "_deepnote_index_column": 7522
        },
        {
         "schedule_date": "9/19/2010",
         "schedule_season": 2010,
         "schedule_week": "2",
         "schedule_playoff": "False",
         "team_home": "Atlanta Falcons",
         "score_home": 41,
         "score_away": 7,
         "team_away": "Arizona Cardinals",
         "team_favorite_id": "ATL",
         "spread_favorite": -7,
         "over_under_line": 43.5,
         "stadium": "Georgia Dome",
         "stadium_neutral": "False",
         "weather_temperature": 72,
         "weather_wind_mph": 0,
         "weather_humidity": "nan",
         "weather_detail": "DOME",
         "_deepnote_index_column": 7523
        },
        {
         "schedule_date": "9/19/2010",
         "schedule_season": 2010,
         "schedule_week": "2",
         "schedule_playoff": "False",
         "team_home": "Carolina Panthers",
         "score_home": 7,
         "score_away": 20,
         "team_away": "Tampa Bay Buccaneers",
         "team_favorite_id": "CAR",
         "spread_favorite": -4,
         "over_under_line": 37.5,
         "stadium": "Bank of America Stadium",
         "stadium_neutral": "False",
         "weather_temperature": 89,
         "weather_wind_mph": 4,
         "weather_humidity": 39,
         "weather_detail": "nan",
         "_deepnote_index_column": 7524
        },
        {
         "schedule_date": "9/19/2010",
         "schedule_season": 2010,
         "schedule_week": "2",
         "schedule_playoff": "False",
         "team_home": "Cincinnati Bengals",
         "score_home": 15,
         "score_away": 10,
         "team_away": "Baltimore Ravens",
         "team_favorite_id": "BAL",
         "spread_favorite": -3,
         "over_under_line": 39.5,
         "stadium": "Paul Brown Stadium",
         "stadium_neutral": "False",
         "weather_temperature": 78,
         "weather_wind_mph": 1,
         "weather_humidity": 52,
         "weather_detail": "nan",
         "_deepnote_index_column": 7525
        },
        {
         "schedule_date": "9/19/2010",
         "schedule_season": 2010,
         "schedule_week": "2",
         "schedule_playoff": "False",
         "team_home": "Cleveland Browns",
         "score_home": 14,
         "score_away": 16,
         "team_away": "Kansas City Chiefs",
         "team_favorite_id": "CLE",
         "spread_favorite": -3,
         "over_under_line": 38,
         "stadium": "FirstEnergy Stadium",
         "stadium_neutral": "False",
         "weather_temperature": 65,
         "weather_wind_mph": 1,
         "weather_humidity": "nan",
         "weather_detail": "nan",
         "_deepnote_index_column": 7526
        },
        {
         "schedule_date": "9/19/2010",
         "schedule_season": 2010,
         "schedule_week": "2",
         "schedule_playoff": "False",
         "team_home": "Dallas Cowboys",
         "score_home": 20,
         "score_away": 27,
         "team_away": "Chicago Bears",
         "team_favorite_id": "DAL",
         "spread_favorite": -7,
         "over_under_line": 41.5,
         "stadium": "Cowboys Stadium",
         "stadium_neutral": "False",
         "weather_temperature": 72,
         "weather_wind_mph": 0,
         "weather_humidity": "nan",
         "weather_detail": "DOME",
         "_deepnote_index_column": 7527
        },
        {
         "schedule_date": "9/19/2010",
         "schedule_season": 2010,
         "schedule_week": "2",
         "schedule_playoff": "False",
         "team_home": "Denver Broncos",
         "score_home": 31,
         "score_away": 14,
         "team_away": "Seattle Seahawks",
         "team_favorite_id": "DEN",
         "spread_favorite": -3.5,
         "over_under_line": 41,
         "stadium": "Sports Authority Field at Mile High",
         "stadium_neutral": "False",
         "weather_temperature": 91,
         "weather_wind_mph": 9,
         "weather_humidity": 4,
         "weather_detail": "nan",
         "_deepnote_index_column": 7528
        },
        {
         "schedule_date": "9/19/2010",
         "schedule_season": 2010,
         "schedule_week": "2",
         "schedule_playoff": "False",
         "team_home": "Detroit Lions",
         "score_home": 32,
         "score_away": 35,
         "team_away": "Philadelphia Eagles",
         "team_favorite_id": "PHI",
         "spread_favorite": -6.5,
         "over_under_line": 41,
         "stadium": "Ford Field",
         "stadium_neutral": "False",
         "weather_temperature": 72,
         "weather_wind_mph": 0,
         "weather_humidity": "nan",
         "weather_detail": "DOME",
         "_deepnote_index_column": 7529
        },
        {
         "schedule_date": "9/19/2010",
         "schedule_season": 2010,
         "schedule_week": "2",
         "schedule_playoff": "False",
         "team_home": "Green Bay Packers",
         "score_home": 34,
         "score_away": 7,
         "team_away": "Buffalo Bills",
         "team_favorite_id": "GB",
         "spread_favorite": -13,
         "over_under_line": 43,
         "stadium": "Lambeau Field",
         "stadium_neutral": "False",
         "weather_temperature": 58,
         "weather_wind_mph": 4,
         "weather_humidity": 51,
         "weather_detail": "nan",
         "_deepnote_index_column": 7530
        },
        {
         "schedule_date": "9/19/2010",
         "schedule_season": 2010,
         "schedule_week": "2",
         "schedule_playoff": "False",
         "team_home": "Indianapolis Colts",
         "score_home": 38,
         "score_away": 14,
         "team_away": "New York Giants",
         "team_favorite_id": "IND",
         "spread_favorite": -4,
         "over_under_line": 48.5,
         "stadium": "Lucas Oil Stadium",
         "stadium_neutral": "False",
         "weather_temperature": 72,
         "weather_wind_mph": 0,
         "weather_humidity": "nan",
         "weather_detail": "DOME",
         "_deepnote_index_column": 7531
        },
        {
         "schedule_date": "9/19/2010",
         "schedule_season": 2010,
         "schedule_week": "2",
         "schedule_playoff": "False",
         "team_home": "Minnesota Vikings",
         "score_home": 10,
         "score_away": 14,
         "team_away": "Miami Dolphins",
         "team_favorite_id": "MIN",
         "spread_favorite": -6,
         "over_under_line": 41,
         "stadium": "Mall of America Field",
         "stadium_neutral": "False",
         "weather_temperature": 72,
         "weather_wind_mph": 0,
         "weather_humidity": "nan",
         "weather_detail": "DOME",
         "_deepnote_index_column": 7532
        },
        {
         "schedule_date": "9/19/2010",
         "schedule_season": 2010,
         "schedule_week": "2",
         "schedule_playoff": "False",
         "team_home": "New York Jets",
         "score_home": 28,
         "score_away": 14,
         "team_away": "New England Patriots",
         "team_favorite_id": "NE",
         "spread_favorite": -3,
         "over_under_line": 39.5,
         "stadium": "MetLife Stadium",
         "stadium_neutral": "False",
         "weather_temperature": 82,
         "weather_wind_mph": 6,
         "weather_humidity": 36,
         "weather_detail": "nan",
         "_deepnote_index_column": 7533
        },
        {
         "schedule_date": "9/19/2010",
         "schedule_season": 2010,
         "schedule_week": "2",
         "schedule_playoff": "False",
         "team_home": "Oakland Raiders",
         "score_home": 16,
         "score_away": 14,
         "team_away": "St. Louis Rams",
         "team_favorite_id": "LVR",
         "spread_favorite": -3,
         "over_under_line": 37.5,
         "stadium": "Oakland Coliseum",
         "stadium_neutral": "False",
         "weather_temperature": 72,
         "weather_wind_mph": 6,
         "weather_humidity": 60,
         "weather_detail": "nan",
         "_deepnote_index_column": 7534
        },
        {
         "schedule_date": "9/19/2010",
         "schedule_season": 2010,
         "schedule_week": "2",
         "schedule_playoff": "False",
         "team_home": "San Diego Chargers",
         "score_home": 38,
         "score_away": 13,
         "team_away": "Jacksonville Jaguars",
         "team_favorite_id": "LAC",
         "spread_favorite": -7,
         "over_under_line": 45,
         "stadium": "Qualcomm Stadium",
         "stadium_neutral": "False",
         "weather_temperature": 76,
         "weather_wind_mph": 8,
         "weather_humidity": 63,
         "weather_detail": "nan",
         "_deepnote_index_column": 7535
        }
       ],
       "rows_bottom": [
        {
         "schedule_date": "1/3/2021",
         "schedule_season": 2020,
         "schedule_week": "17",
         "schedule_playoff": "False",
         "team_home": "Buffalo Bills",
         "score_home": 56,
         "score_away": 26,
         "team_away": "Miami Dolphins",
         "team_favorite_id": "MIA",
         "spread_favorite": -3,
         "over_under_line": 42.5,
         "stadium": "New Era Field",
         "stadium_neutral": "False",
         "weather_temperature": "nan",
         "weather_wind_mph": "nan",
         "weather_humidity": "nan",
         "weather_detail": "nan",
         "_deepnote_index_column": 10417
        },
        {
         "schedule_date": "1/3/2021",
         "schedule_season": 2020,
         "schedule_week": "17",
         "schedule_playoff": "False",
         "team_home": "Carolina Panthers",
         "score_home": 7,
         "score_away": 33,
         "team_away": "New Orleans Saints",
         "team_favorite_id": "NO",
         "spread_favorite": -6,
         "over_under_line": 46.5,
         "stadium": "Bank of America Stadium",
         "stadium_neutral": "False",
         "weather_temperature": "nan",
         "weather_wind_mph": "nan",
         "weather_humidity": "nan",
         "weather_detail": "nan",
         "_deepnote_index_column": 10418
        },
        {
         "schedule_date": "1/3/2021",
         "schedule_season": 2020,
         "schedule_week": "17",
         "schedule_playoff": "False",
         "team_home": "Chicago Bears",
         "score_home": 16,
         "score_away": 35,
         "team_away": "Green Bay Packers",
         "team_favorite_id": "GB",
         "spread_favorite": -4.5,
         "over_under_line": 48.5,
         "stadium": "Soldier Field",
         "stadium_neutral": "False",
         "weather_temperature": "nan",
         "weather_wind_mph": "nan",
         "weather_humidity": "nan",
         "weather_detail": "nan",
         "_deepnote_index_column": 10419
        },
        {
         "schedule_date": "1/3/2021",
         "schedule_season": 2020,
         "schedule_week": "17",
         "schedule_playoff": "False",
         "team_home": "Cincinnati Bengals",
         "score_home": 3,
         "score_away": 38,
         "team_away": "Baltimore Ravens",
         "team_favorite_id": "BAL",
         "spread_favorite": -13.5,
         "over_under_line": 45,
         "stadium": "Paul Brown Stadium",
         "stadium_neutral": "False",
         "weather_temperature": "nan",
         "weather_wind_mph": "nan",
         "weather_humidity": "nan",
         "weather_detail": "nan",
         "_deepnote_index_column": 10420
        },
        {
         "schedule_date": "1/3/2021",
         "schedule_season": 2020,
         "schedule_week": "17",
         "schedule_playoff": "False",
         "team_home": "Cleveland Browns",
         "score_home": 24,
         "score_away": 22,
         "team_away": "Pittsburgh Steelers",
         "team_favorite_id": "CLE",
         "spread_favorite": -10.5,
         "over_under_line": 44.5,
         "stadium": "FirstEnergy Stadium",
         "stadium_neutral": "False",
         "weather_temperature": "nan",
         "weather_wind_mph": "nan",
         "weather_humidity": "nan",
         "weather_detail": "nan",
         "_deepnote_index_column": 10421
        },
        {
         "schedule_date": "1/3/2021",
         "schedule_season": 2020,
         "schedule_week": "17",
         "schedule_playoff": "False",
         "team_home": "Denver Broncos",
         "score_home": 31,
         "score_away": 32,
         "team_away": "Las Vegas Raiders",
         "team_favorite_id": "LVR",
         "spread_favorite": -2.5,
         "over_under_line": 50.5,
         "stadium": "Sports Authority Field at Mile High",
         "stadium_neutral": "False",
         "weather_temperature": "nan",
         "weather_wind_mph": "nan",
         "weather_humidity": "nan",
         "weather_detail": "nan",
         "_deepnote_index_column": 10422
        },
        {
         "schedule_date": "1/3/2021",
         "schedule_season": 2020,
         "schedule_week": "17",
         "schedule_playoff": "False",
         "team_home": "Detroit Lions",
         "score_home": 35,
         "score_away": 37,
         "team_away": "Minnesota Vikings",
         "team_favorite_id": "MIN",
         "spread_favorite": -3,
         "over_under_line": 53.5,
         "stadium": "Ford Field",
         "stadium_neutral": "False",
         "weather_temperature": 72,
         "weather_wind_mph": 0,
         "weather_humidity": "nan",
         "weather_detail": "DOME",
         "_deepnote_index_column": 10423
        },
        {
         "schedule_date": "1/3/2021",
         "schedule_season": 2020,
         "schedule_week": "17",
         "schedule_playoff": "False",
         "team_home": "Houston Texans",
         "score_home": 38,
         "score_away": 41,
         "team_away": "Tennessee Titans",
         "team_favorite_id": "TEN",
         "spread_favorite": -7,
         "over_under_line": 55.5,
         "stadium": "NRG Stadium",
         "stadium_neutral": "False",
         "weather_temperature": 72,
         "weather_wind_mph": 0,
         "weather_humidity": "nan",
         "weather_detail": "DOME",
         "_deepnote_index_column": 10424
        },
        {
         "schedule_date": "1/3/2021",
         "schedule_season": 2020,
         "schedule_week": "17",
         "schedule_playoff": "False",
         "team_home": "Indianapolis Colts",
         "score_home": 28,
         "score_away": 14,
         "team_away": "Jacksonville Jaguars",
         "team_favorite_id": "IND",
         "spread_favorite": -15.5,
         "over_under_line": 48,
         "stadium": "Lucas Oil Stadium",
         "stadium_neutral": "False",
         "weather_temperature": 72,
         "weather_wind_mph": 0,
         "weather_humidity": "nan",
         "weather_detail": "DOME",
         "_deepnote_index_column": 10425
        },
        {
         "schedule_date": "1/3/2021",
         "schedule_season": 2020,
         "schedule_week": "17",
         "schedule_playoff": "False",
         "team_home": "Kansas City Chiefs",
         "score_home": 21,
         "score_away": 38,
         "team_away": "Los Angeles Chargers",
         "team_favorite_id": "LAC",
         "spread_favorite": -6.5,
         "over_under_line": 43,
         "stadium": "Arrowhead Stadium",
         "stadium_neutral": "False",
         "weather_temperature": "nan",
         "weather_wind_mph": "nan",
         "weather_humidity": "nan",
         "weather_detail": "nan",
         "_deepnote_index_column": 10426
        },
        {
         "schedule_date": "1/3/2021",
         "schedule_season": 2020,
         "schedule_week": "17",
         "schedule_playoff": "False",
         "team_home": "Los Angeles Rams",
         "score_home": 18,
         "score_away": 7,
         "team_away": "Arizona Cardinals",
         "team_favorite_id": "LAR",
         "spread_favorite": -1,
         "over_under_line": 42,
         "stadium": "SoFi Stadium",
         "stadium_neutral": "False",
         "weather_temperature": "nan",
         "weather_wind_mph": "nan",
         "weather_humidity": "nan",
         "weather_detail": "nan",
         "_deepnote_index_column": 10427
        },
        {
         "schedule_date": "1/3/2021",
         "schedule_season": 2020,
         "schedule_week": "17",
         "schedule_playoff": "False",
         "team_home": "New England Patriots",
         "score_home": 28,
         "score_away": 14,
         "team_away": "New York Jets",
         "team_favorite_id": "NE",
         "spread_favorite": -3,
         "over_under_line": 41,
         "stadium": "Gillette Stadium",
         "stadium_neutral": "False",
         "weather_temperature": "nan",
         "weather_wind_mph": "nan",
         "weather_humidity": "nan",
         "weather_detail": "nan",
         "_deepnote_index_column": 10428
        },
        {
         "schedule_date": "1/3/2021",
         "schedule_season": 2020,
         "schedule_week": "17",
         "schedule_playoff": "False",
         "team_home": "New York Giants",
         "score_home": 23,
         "score_away": 19,
         "team_away": "Dallas Cowboys",
         "team_favorite_id": "DAL",
         "spread_favorite": -1.5,
         "over_under_line": 43.5,
         "stadium": "MetLife Stadium",
         "stadium_neutral": "False",
         "weather_temperature": "nan",
         "weather_wind_mph": "nan",
         "weather_humidity": "nan",
         "weather_detail": "nan",
         "_deepnote_index_column": 10429
        },
        {
         "schedule_date": "1/3/2021",
         "schedule_season": 2020,
         "schedule_week": "17",
         "schedule_playoff": "False",
         "team_home": "Philadelphia Eagles",
         "score_home": 14,
         "score_away": 20,
         "team_away": "Washington Football Team",
         "team_favorite_id": "WAS",
         "spread_favorite": -6.5,
         "over_under_line": 43.5,
         "stadium": "Lincoln Financial Field",
         "stadium_neutral": "False",
         "weather_temperature": "nan",
         "weather_wind_mph": "nan",
         "weather_humidity": "nan",
         "weather_detail": "nan",
         "_deepnote_index_column": 10430
        },
        {
         "schedule_date": "1/3/2021",
         "schedule_season": 2020,
         "schedule_week": "17",
         "schedule_playoff": "False",
         "team_home": "San Francisco 49ers",
         "score_home": 23,
         "score_away": 26,
         "team_away": "Seattle Seahawks",
         "team_favorite_id": "SEA",
         "spread_favorite": -7,
         "over_under_line": 45,
         "stadium": "Levi's Stadium",
         "stadium_neutral": "False",
         "weather_temperature": "nan",
         "weather_wind_mph": "nan",
         "weather_humidity": "nan",
         "weather_detail": "nan",
         "_deepnote_index_column": 10431
        },
        {
         "schedule_date": "1/3/2021",
         "schedule_season": 2020,
         "schedule_week": "17",
         "schedule_playoff": "False",
         "team_home": "Tampa Bay Buccaneers",
         "score_home": 44,
         "score_away": 27,
         "team_away": "Atlanta Falcons",
         "team_favorite_id": "TB",
         "spread_favorite": -7,
         "over_under_line": 51,
         "stadium": "Raymond James Stadium",
         "stadium_neutral": "False",
         "weather_temperature": "nan",
         "weather_wind_mph": "nan",
         "weather_humidity": "nan",
         "weather_detail": "nan",
         "_deepnote_index_column": 10432
        },
        {
         "schedule_date": "1/9/2021",
         "schedule_season": 2020,
         "schedule_week": "Wildcard",
         "schedule_playoff": "True",
         "team_home": "Buffalo Bills",
         "score_home": 27,
         "score_away": 24,
         "team_away": "Indianapolis Colts",
         "team_favorite_id": "BUF",
         "spread_favorite": -7,
         "over_under_line": 50.5,
         "stadium": "New Era Field",
         "stadium_neutral": "False",
         "weather_temperature": "nan",
         "weather_wind_mph": "nan",
         "weather_humidity": "nan",
         "weather_detail": "nan",
         "_deepnote_index_column": 10433
        },
        {
         "schedule_date": "1/9/2021",
         "schedule_season": 2020,
         "schedule_week": "Wildcard",
         "schedule_playoff": "True",
         "team_home": "Seattle Seahawks",
         "score_home": 20,
         "score_away": 30,
         "team_away": "Los Angeles Rams",
         "team_favorite_id": "SEA",
         "spread_favorite": -3,
         "over_under_line": 42.5,
         "stadium": "CenturyLink Field",
         "stadium_neutral": "False",
         "weather_temperature": "nan",
         "weather_wind_mph": "nan",
         "weather_humidity": "nan",
         "weather_detail": "nan",
         "_deepnote_index_column": 10434
        },
        {
         "schedule_date": "1/9/2021",
         "schedule_season": 2020,
         "schedule_week": "Wildcard",
         "schedule_playoff": "True",
         "team_home": "Washington Football Team",
         "score_home": 23,
         "score_away": 31,
         "team_away": "Tampa Bay Buccaneers",
         "team_favorite_id": "TB",
         "spread_favorite": -10,
         "over_under_line": 45,
         "stadium": "FedEx Field",
         "stadium_neutral": "False",
         "weather_temperature": "nan",
         "weather_wind_mph": "nan",
         "weather_humidity": "nan",
         "weather_detail": "nan",
         "_deepnote_index_column": 10435
        },
        {
         "schedule_date": "1/10/2021",
         "schedule_season": 2020,
         "schedule_week": "Wildcard",
         "schedule_playoff": "True",
         "team_home": "New Orleans Saints",
         "score_home": 21,
         "score_away": 9,
         "team_away": "Chicago Bears",
         "team_favorite_id": "NO",
         "spread_favorite": -11,
         "over_under_line": 48,
         "stadium": "Mercedes-Benz Superdome",
         "stadium_neutral": "False",
         "weather_temperature": "nan",
         "weather_wind_mph": "nan",
         "weather_humidity": "nan",
         "weather_detail": "nan",
         "_deepnote_index_column": 10436
        },
        {
         "schedule_date": "1/10/2021",
         "schedule_season": 2020,
         "schedule_week": "Wildcard",
         "schedule_playoff": "True",
         "team_home": "Pittsburgh Steelers",
         "score_home": 37,
         "score_away": 48,
         "team_away": "Cleveland Browns",
         "team_favorite_id": "PIT",
         "spread_favorite": -5.5,
         "over_under_line": 47.5,
         "stadium": "Heinz Field",
         "stadium_neutral": "False",
         "weather_temperature": "nan",
         "weather_wind_mph": "nan",
         "weather_humidity": "nan",
         "weather_detail": "nan",
         "_deepnote_index_column": 10437
        },
        {
         "schedule_date": "1/10/2021",
         "schedule_season": 2020,
         "schedule_week": "Wildcard",
         "schedule_playoff": "True",
         "team_home": "Tennessee Titans",
         "score_home": 13,
         "score_away": 20,
         "team_away": "Baltimore Ravens",
         "team_favorite_id": "BAL",
         "spread_favorite": -3.5,
         "over_under_line": 53.5,
         "stadium": "Nissan Stadium",
         "stadium_neutral": "False",
         "weather_temperature": "nan",
         "weather_wind_mph": "nan",
         "weather_humidity": "nan",
         "weather_detail": "nan",
         "_deepnote_index_column": 10438
        },
        {
         "schedule_date": "1/16/2021",
         "schedule_season": 2020,
         "schedule_week": "Division",
         "schedule_playoff": "True",
         "team_home": "Buffalo Bills",
         "score_home": 17,
         "score_away": 3,
         "team_away": "Baltimore Ravens",
         "team_favorite_id": "BUF",
         "spread_favorite": -2.5,
         "over_under_line": 49.5,
         "stadium": "New Era Field",
         "stadium_neutral": "False",
         "weather_temperature": "nan",
         "weather_wind_mph": "nan",
         "weather_humidity": "nan",
         "weather_detail": "nan",
         "_deepnote_index_column": 10439
        },
        {
         "schedule_date": "1/16/2021",
         "schedule_season": 2020,
         "schedule_week": "Division",
         "schedule_playoff": "True",
         "team_home": "Green Bay Packers",
         "score_home": 32,
         "score_away": 18,
         "team_away": "Los Angeles Rams",
         "team_favorite_id": "GB",
         "spread_favorite": -7,
         "over_under_line": 45,
         "stadium": "Lambeau Field",
         "stadium_neutral": "False",
         "weather_temperature": "nan",
         "weather_wind_mph": "nan",
         "weather_humidity": "nan",
         "weather_detail": "nan",
         "_deepnote_index_column": 10440
        },
        {
         "schedule_date": "1/17/2021",
         "schedule_season": 2020,
         "schedule_week": "Division",
         "schedule_playoff": "True",
         "team_home": "Kansas City Chiefs",
         "score_home": 22,
         "score_away": 17,
         "team_away": "Cleveland Browns",
         "team_favorite_id": "KC",
         "spread_favorite": -8,
         "over_under_line": 56,
         "stadium": "Arrowhead Stadium",
         "stadium_neutral": "False",
         "weather_temperature": "nan",
         "weather_wind_mph": "nan",
         "weather_humidity": "nan",
         "weather_detail": "nan",
         "_deepnote_index_column": 10441
        },
        {
         "schedule_date": "1/17/2021",
         "schedule_season": 2020,
         "schedule_week": "Division",
         "schedule_playoff": "True",
         "team_home": "New Orleans Saints",
         "score_home": 20,
         "score_away": 30,
         "team_away": "Tampa Bay Buccaneers",
         "team_favorite_id": "NO",
         "spread_favorite": -2.5,
         "over_under_line": 53,
         "stadium": "Mercedes-Benz Superdome",
         "stadium_neutral": "False",
         "weather_temperature": "nan",
         "weather_wind_mph": "nan",
         "weather_humidity": "nan",
         "weather_detail": "nan",
         "_deepnote_index_column": 10442
        },
        {
         "schedule_date": "1/24/2021",
         "schedule_season": 2020,
         "schedule_week": "Conference",
         "schedule_playoff": "True",
         "team_home": "Green Bay Packers",
         "score_home": 26,
         "score_away": 31,
         "team_away": "Tampa Bay Buccaneers",
         "team_favorite_id": "GB",
         "spread_favorite": -3,
         "over_under_line": 53,
         "stadium": "Lambeau Field",
         "stadium_neutral": "False",
         "weather_temperature": "nan",
         "weather_wind_mph": "nan",
         "weather_humidity": "nan",
         "weather_detail": "nan",
         "_deepnote_index_column": 10443
        },
        {
         "schedule_date": "1/24/2021",
         "schedule_season": 2020,
         "schedule_week": "Conference",
         "schedule_playoff": "True",
         "team_home": "Kansas City Chiefs",
         "score_home": 38,
         "score_away": 24,
         "team_away": "Buffalo Bills",
         "team_favorite_id": "KC",
         "spread_favorite": -3,
         "over_under_line": 55,
         "stadium": "Arrowhead Stadium",
         "stadium_neutral": "False",
         "weather_temperature": "nan",
         "weather_wind_mph": "nan",
         "weather_humidity": "nan",
         "weather_detail": "nan",
         "_deepnote_index_column": 10444
        },
        {
         "schedule_date": "2/7/2021",
         "schedule_season": 2020,
         "schedule_week": "Superbowl",
         "schedule_playoff": "True",
         "team_home": "Tampa Bay Buccaneers",
         "score_home": 31,
         "score_away": 9,
         "team_away": "Kansas City Chiefs",
         "team_favorite_id": "KC",
         "spread_favorite": -3,
         "over_under_line": 54.5,
         "stadium": "Raymond James Stadium",
         "stadium_neutral": "False",
         "weather_temperature": 63,
         "weather_wind_mph": 9,
         "weather_humidity": 78,
         "weather_detail": "nan",
         "_deepnote_index_column": 10445
        }
       ]
      },
      "text/plain": "      schedule_date  schedule_season schedule_week  schedule_playoff  \\\n7507       9/9/2010             2010             1             False   \n7508      9/12/2010             2010             1             False   \n7509      9/12/2010             2010             1             False   \n7510      9/12/2010             2010             1             False   \n7511      9/12/2010             2010             1             False   \n...             ...              ...           ...               ...   \n10441     1/17/2021             2020      Division              True   \n10442     1/17/2021             2020      Division              True   \n10443     1/24/2021             2020    Conference              True   \n10444     1/24/2021             2020    Conference              True   \n10445      2/7/2021             2020     Superbowl              True   \n\n                  team_home  score_home  score_away             team_away  \\\n7507     New Orleans Saints        14.0         9.0     Minnesota Vikings   \n7508          Buffalo Bills        10.0        15.0        Miami Dolphins   \n7509          Chicago Bears        19.0        14.0         Detroit Lions   \n7510         Houston Texans        34.0        24.0    Indianapolis Colts   \n7511   Jacksonville Jaguars        24.0        17.0        Denver Broncos   \n...                     ...         ...         ...                   ...   \n10441    Kansas City Chiefs        22.0        17.0      Cleveland Browns   \n10442    New Orleans Saints        20.0        30.0  Tampa Bay Buccaneers   \n10443     Green Bay Packers        26.0        31.0  Tampa Bay Buccaneers   \n10444    Kansas City Chiefs        38.0        24.0         Buffalo Bills   \n10445  Tampa Bay Buccaneers        31.0         9.0    Kansas City Chiefs   \n\n      team_favorite_id  spread_favorite  over_under_line  \\\n7507                NO             -5.0             49.5   \n7508               MIA             -3.0             39.0   \n7509               CHI             -6.5             45.0   \n7510               IND             -1.0             48.0   \n7511               JAX             -3.0             41.5   \n...                ...              ...              ...   \n10441               KC             -8.0             56.0   \n10442               NO             -2.5             53.0   \n10443               GB             -3.0             53.0   \n10444               KC             -3.0             55.0   \n10445               KC             -3.0             54.5   \n\n                       stadium stadium_neutral  weather_temperature  \\\n7507       Louisiana Superdome           False                 72.0   \n7508      Ralph Wilson Stadium           False                 64.0   \n7509             Soldier Field           False                 75.0   \n7510           Reliant Stadium           False                 89.0   \n7511            EverBank Field           False                 91.0   \n...                        ...             ...                  ...   \n10441        Arrowhead Stadium           False                  NaN   \n10442  Mercedes-Benz Superdome           False                  NaN   \n10443            Lambeau Field           False                  NaN   \n10444        Arrowhead Stadium           False                  NaN   \n10445    Raymond James Stadium           False                 63.0   \n\n       weather_wind_mph  weather_humidity    weather_detail  \n7507                0.0               NaN              DOME  \n7508                7.0              81.0               NaN  \n7509                1.0              45.0               NaN  \n7510                5.0               NaN  DOME (Open Roof)  \n7511                1.0              67.0               NaN  \n...                 ...               ...               ...  \n10441               NaN               NaN               NaN  \n10442               NaN               NaN               NaN  \n10443               NaN               NaN               NaN  \n10444               NaN               NaN               NaN  \n10445               9.0              78.0               NaN  \n\n[2939 rows x 17 columns]",
      "text/html": "<div>\n<style scoped>\n    .dataframe tbody tr th:only-of-type {\n        vertical-align: middle;\n    }\n\n    .dataframe tbody tr th {\n        vertical-align: top;\n    }\n\n    .dataframe thead th {\n        text-align: right;\n    }\n</style>\n<table border=\"1\" class=\"dataframe\">\n  <thead>\n    <tr style=\"text-align: right;\">\n      <th></th>\n      <th>schedule_date</th>\n      <th>schedule_season</th>\n      <th>schedule_week</th>\n      <th>schedule_playoff</th>\n      <th>team_home</th>\n      <th>score_home</th>\n      <th>score_away</th>\n      <th>team_away</th>\n      <th>team_favorite_id</th>\n      <th>spread_favorite</th>\n      <th>over_under_line</th>\n      <th>stadium</th>\n      <th>stadium_neutral</th>\n      <th>weather_temperature</th>\n      <th>weather_wind_mph</th>\n      <th>weather_humidity</th>\n      <th>weather_detail</th>\n    </tr>\n  </thead>\n  <tbody>\n    <tr>\n      <th>7507</th>\n      <td>9/9/2010</td>\n      <td>2010</td>\n      <td>1</td>\n      <td>False</td>\n      <td>New Orleans Saints</td>\n      <td>14.0</td>\n      <td>9.0</td>\n      <td>Minnesota Vikings</td>\n      <td>NO</td>\n      <td>-5.0</td>\n      <td>49.5</td>\n      <td>Louisiana Superdome</td>\n      <td>False</td>\n      <td>72.0</td>\n      <td>0.0</td>\n      <td>NaN</td>\n      <td>DOME</td>\n    </tr>\n    <tr>\n      <th>7508</th>\n      <td>9/12/2010</td>\n      <td>2010</td>\n      <td>1</td>\n      <td>False</td>\n      <td>Buffalo Bills</td>\n      <td>10.0</td>\n      <td>15.0</td>\n      <td>Miami Dolphins</td>\n      <td>MIA</td>\n      <td>-3.0</td>\n      <td>39.0</td>\n      <td>Ralph Wilson Stadium</td>\n      <td>False</td>\n      <td>64.0</td>\n      <td>7.0</td>\n      <td>81.0</td>\n      <td>NaN</td>\n    </tr>\n    <tr>\n      <th>7509</th>\n      <td>9/12/2010</td>\n      <td>2010</td>\n      <td>1</td>\n      <td>False</td>\n      <td>Chicago Bears</td>\n      <td>19.0</td>\n      <td>14.0</td>\n      <td>Detroit Lions</td>\n      <td>CHI</td>\n      <td>-6.5</td>\n      <td>45.0</td>\n      <td>Soldier Field</td>\n      <td>False</td>\n      <td>75.0</td>\n      <td>1.0</td>\n      <td>45.0</td>\n      <td>NaN</td>\n    </tr>\n    <tr>\n      <th>7510</th>\n      <td>9/12/2010</td>\n      <td>2010</td>\n      <td>1</td>\n      <td>False</td>\n      <td>Houston Texans</td>\n      <td>34.0</td>\n      <td>24.0</td>\n      <td>Indianapolis Colts</td>\n      <td>IND</td>\n      <td>-1.0</td>\n      <td>48.0</td>\n      <td>Reliant Stadium</td>\n      <td>False</td>\n      <td>89.0</td>\n      <td>5.0</td>\n      <td>NaN</td>\n      <td>DOME (Open Roof)</td>\n    </tr>\n    <tr>\n      <th>7511</th>\n      <td>9/12/2010</td>\n      <td>2010</td>\n      <td>1</td>\n      <td>False</td>\n      <td>Jacksonville Jaguars</td>\n      <td>24.0</td>\n      <td>17.0</td>\n      <td>Denver Broncos</td>\n      <td>JAX</td>\n      <td>-3.0</td>\n      <td>41.5</td>\n      <td>EverBank Field</td>\n      <td>False</td>\n      <td>91.0</td>\n      <td>1.0</td>\n      <td>67.0</td>\n      <td>NaN</td>\n    </tr>\n    <tr>\n      <th>...</th>\n      <td>...</td>\n      <td>...</td>\n      <td>...</td>\n      <td>...</td>\n      <td>...</td>\n      <td>...</td>\n      <td>...</td>\n      <td>...</td>\n      <td>...</td>\n      <td>...</td>\n      <td>...</td>\n      <td>...</td>\n      <td>...</td>\n      <td>...</td>\n      <td>...</td>\n      <td>...</td>\n      <td>...</td>\n    </tr>\n    <tr>\n      <th>10441</th>\n      <td>1/17/2021</td>\n      <td>2020</td>\n      <td>Division</td>\n      <td>True</td>\n      <td>Kansas City Chiefs</td>\n      <td>22.0</td>\n      <td>17.0</td>\n      <td>Cleveland Browns</td>\n      <td>KC</td>\n      <td>-8.0</td>\n      <td>56.0</td>\n      <td>Arrowhead Stadium</td>\n      <td>False</td>\n      <td>NaN</td>\n      <td>NaN</td>\n      <td>NaN</td>\n      <td>NaN</td>\n    </tr>\n    <tr>\n      <th>10442</th>\n      <td>1/17/2021</td>\n      <td>2020</td>\n      <td>Division</td>\n      <td>True</td>\n      <td>New Orleans Saints</td>\n      <td>20.0</td>\n      <td>30.0</td>\n      <td>Tampa Bay Buccaneers</td>\n      <td>NO</td>\n      <td>-2.5</td>\n      <td>53.0</td>\n      <td>Mercedes-Benz Superdome</td>\n      <td>False</td>\n      <td>NaN</td>\n      <td>NaN</td>\n      <td>NaN</td>\n      <td>NaN</td>\n    </tr>\n    <tr>\n      <th>10443</th>\n      <td>1/24/2021</td>\n      <td>2020</td>\n      <td>Conference</td>\n      <td>True</td>\n      <td>Green Bay Packers</td>\n      <td>26.0</td>\n      <td>31.0</td>\n      <td>Tampa Bay Buccaneers</td>\n      <td>GB</td>\n      <td>-3.0</td>\n      <td>53.0</td>\n      <td>Lambeau Field</td>\n      <td>False</td>\n      <td>NaN</td>\n      <td>NaN</td>\n      <td>NaN</td>\n      <td>NaN</td>\n    </tr>\n    <tr>\n      <th>10444</th>\n      <td>1/24/2021</td>\n      <td>2020</td>\n      <td>Conference</td>\n      <td>True</td>\n      <td>Kansas City Chiefs</td>\n      <td>38.0</td>\n      <td>24.0</td>\n      <td>Buffalo Bills</td>\n      <td>KC</td>\n      <td>-3.0</td>\n      <td>55.0</td>\n      <td>Arrowhead Stadium</td>\n      <td>False</td>\n      <td>NaN</td>\n      <td>NaN</td>\n      <td>NaN</td>\n      <td>NaN</td>\n    </tr>\n    <tr>\n      <th>10445</th>\n      <td>2/7/2021</td>\n      <td>2020</td>\n      <td>Superbowl</td>\n      <td>True</td>\n      <td>Tampa Bay Buccaneers</td>\n      <td>31.0</td>\n      <td>9.0</td>\n      <td>Kansas City Chiefs</td>\n      <td>KC</td>\n      <td>-3.0</td>\n      <td>54.5</td>\n      <td>Raymond James Stadium</td>\n      <td>False</td>\n      <td>63.0</td>\n      <td>9.0</td>\n      <td>78.0</td>\n      <td>NaN</td>\n    </tr>\n  </tbody>\n</table>\n<p>2939 rows × 17 columns</p>\n</div>"
     },
     "metadata": {}
    }
   ],
   "execution_count": 3
  },
  {
   "cell_type": "markdown",
   "source": "",
   "metadata": {
    "tags": [],
    "cell_id": "00005-3dae4c6f-0844-4acd-b872-17f267345776",
    "deepnote_cell_type": "markdown"
   }
  },
  {
   "cell_type": "code",
   "metadata": {
    "tags": [],
    "cell_id": "00005-7b7c95a7-68fd-4f69-9308-b2935c390d4a",
    "deepnote_to_be_reexecuted": false,
    "source_hash": "4fc493f4",
    "execution_start": 1632261868344,
    "execution_millis": 185,
    "deepnote_cell_type": "code"
   },
   "source": "# How often is the outcome way below the over/under?\npre_2021_df_with_score = recent_df\npre_2021_df_with_score['total_score'] = pre_2021_df_with_score.apply (lambda row: row.score_home + row.score_away, axis=1)\n\noutliers_df = pre_2021_df_with_score[abs(pre_2021_df_with_score.total_score - pre_2021_df_with_score.over_under_line) > 20]\nsuper_outliers_df = pre_2021_df_with_score[abs(pre_2021_df_with_score.total_score - pre_2021_df_with_score.over_under_line) > 30]\noutliers_df\n\n\n\n# How often is the outcome way above the over/under?",
   "outputs": [
    {
     "output_type": "execute_result",
     "execution_count": 4,
     "data": {
      "application/vnd.deepnote.dataframe.v2+json": {
       "row_count": 360,
       "column_count": 18,
       "columns": [
        {
         "name": "schedule_date",
         "dtype": "object",
         "stats": {
          "unique_count": 214,
          "nan_count": 0,
          "categories": [
           {
            "name": "12/15/2013",
            "count": 5
           },
           {
            "name": "10/24/2010",
            "count": 4
           },
           {
            "name": "212 others",
            "count": 351
           }
          ]
         }
        },
        {
         "name": "schedule_season",
         "dtype": "int64",
         "stats": {
          "unique_count": 11,
          "nan_count": 0,
          "min": "2010",
          "max": "2020",
          "histogram": [
           {
            "bin_start": 2010,
            "bin_end": 2011,
            "count": 35
           },
           {
            "bin_start": 2011,
            "bin_end": 2012,
            "count": 22
           },
           {
            "bin_start": 2012,
            "bin_end": 2013,
            "count": 31
           },
           {
            "bin_start": 2013,
            "bin_end": 2014,
            "count": 40
           },
           {
            "bin_start": 2014,
            "bin_end": 2015,
            "count": 35
           },
           {
            "bin_start": 2015,
            "bin_end": 2016,
            "count": 31
           },
           {
            "bin_start": 2016,
            "bin_end": 2017,
            "count": 27
           },
           {
            "bin_start": 2017,
            "bin_end": 2018,
            "count": 45
           },
           {
            "bin_start": 2018,
            "bin_end": 2019,
            "count": 37
           },
           {
            "bin_start": 2019,
            "bin_end": 2020,
            "count": 57
           }
          ]
         }
        },
        {
         "name": "schedule_week",
         "dtype": "object",
         "stats": {
          "unique_count": 20,
          "nan_count": 0,
          "categories": [
           {
            "name": "4",
            "count": 27
           },
           {
            "name": "14",
            "count": 27
           },
           {
            "name": "18 others",
            "count": 306
           }
          ]
         }
        },
        {
         "name": "schedule_playoff",
         "dtype": "bool",
         "stats": {
          "unique_count": 2,
          "nan_count": 0,
          "categories": [
           {
            "name": "False",
            "count": 342
           },
           {
            "name": "True",
            "count": 18
           }
          ]
         }
        },
        {
         "name": "team_home",
         "dtype": "object",
         "stats": {
          "unique_count": 34,
          "nan_count": 0,
          "categories": [
           {
            "name": "New Orleans Saints",
            "count": 17
           },
           {
            "name": "New England Patriots",
            "count": 15
           },
           {
            "name": "32 others",
            "count": 328
           }
          ]
         }
        },
        {
         "name": "score_home",
         "dtype": "float64",
         "stats": {
          "unique_count": 52,
          "nan_count": 0,
          "min": "0.0",
          "max": "59.0",
          "histogram": [
           {
            "bin_start": 0,
            "bin_end": 5.9,
            "count": 28
           },
           {
            "bin_start": 5.9,
            "bin_end": 11.8,
            "count": 54
           },
           {
            "bin_start": 11.8,
            "bin_end": 17.700000000000003,
            "count": 52
           },
           {
            "bin_start": 17.700000000000003,
            "bin_end": 23.6,
            "count": 20
           },
           {
            "bin_start": 23.6,
            "bin_end": 29.5,
            "count": 25
           },
           {
            "bin_start": 29.5,
            "bin_end": 35.400000000000006,
            "count": 52
           },
           {
            "bin_start": 35.400000000000006,
            "bin_end": 41.300000000000004,
            "count": 60
           },
           {
            "bin_start": 41.300000000000004,
            "bin_end": 47.2,
            "count": 33
           },
           {
            "bin_start": 47.2,
            "bin_end": 53.1,
            "count": 27
           },
           {
            "bin_start": 53.1,
            "bin_end": 59,
            "count": 9
           }
          ]
         }
        },
        {
         "name": "score_away",
         "dtype": "float64",
         "stats": {
          "unique_count": 50,
          "nan_count": 0,
          "min": "0.0",
          "max": "59.0",
          "histogram": [
           {
            "bin_start": 0,
            "bin_end": 5.9,
            "count": 30
           },
           {
            "bin_start": 5.9,
            "bin_end": 11.8,
            "count": 61
           },
           {
            "bin_start": 11.8,
            "bin_end": 17.700000000000003,
            "count": 49
           },
           {
            "bin_start": 17.700000000000003,
            "bin_end": 23.6,
            "count": 29
           },
           {
            "bin_start": 23.6,
            "bin_end": 29.5,
            "count": 27
           },
           {
            "bin_start": 29.5,
            "bin_end": 35.400000000000006,
            "count": 62
           },
           {
            "bin_start": 35.400000000000006,
            "bin_end": 41.300000000000004,
            "count": 59
           },
           {
            "bin_start": 41.300000000000004,
            "bin_end": 47.2,
            "count": 20
           },
           {
            "bin_start": 47.2,
            "bin_end": 53.1,
            "count": 18
           },
           {
            "bin_start": 53.1,
            "bin_end": 59,
            "count": 5
           }
          ]
         }
        },
        {
         "name": "team_away",
         "dtype": "object",
         "stats": {
          "unique_count": 35,
          "nan_count": 0,
          "categories": [
           {
            "name": "Carolina Panthers",
            "count": 16
           },
           {
            "name": "Green Bay Packers",
            "count": 15
           },
           {
            "name": "33 others",
            "count": 329
           }
          ]
         }
        },
        {
         "name": "team_favorite_id",
         "dtype": "object",
         "stats": {
          "unique_count": 32,
          "nan_count": 0,
          "categories": [
           {
            "name": "NE",
            "count": 23
           },
           {
            "name": "SEA",
            "count": 20
           },
           {
            "name": "30 others",
            "count": 317
           }
          ]
         }
        },
        {
         "name": "spread_favorite",
         "dtype": "float64",
         "stats": {
          "unique_count": 31,
          "nan_count": 0,
          "min": "-20.0",
          "max": "0.0",
          "histogram": [
           {
            "bin_start": -20,
            "bin_end": -18,
            "count": 1
           },
           {
            "bin_start": -18,
            "bin_end": -16,
            "count": 0
           },
           {
            "bin_start": -16,
            "bin_end": -14,
            "count": 2
           },
           {
            "bin_start": -14,
            "bin_end": -12,
            "count": 16
           },
           {
            "bin_start": -12,
            "bin_end": -10,
            "count": 14
           },
           {
            "bin_start": -10,
            "bin_end": -8,
            "count": 29
           },
           {
            "bin_start": -8,
            "bin_end": -6,
            "count": 58
           },
           {
            "bin_start": -6,
            "bin_end": -4,
            "count": 56
           },
           {
            "bin_start": -4,
            "bin_end": -2,
            "count": 125
           },
           {
            "bin_start": -2,
            "bin_end": 0,
            "count": 59
           }
          ]
         }
        },
        {
         "name": "over_under_line",
         "dtype": "float64",
         "stats": {
          "unique_count": 49,
          "nan_count": 0,
          "min": "33.0",
          "max": "63.5",
          "histogram": [
           {
            "bin_start": 33,
            "bin_end": 36.05,
            "count": 5
           },
           {
            "bin_start": 36.05,
            "bin_end": 39.1,
            "count": 16
           },
           {
            "bin_start": 39.1,
            "bin_end": 42.15,
            "count": 54
           },
           {
            "bin_start": 42.15,
            "bin_end": 45.2,
            "count": 101
           },
           {
            "bin_start": 45.2,
            "bin_end": 48.25,
            "count": 86
           },
           {
            "bin_start": 48.25,
            "bin_end": 51.3,
            "count": 60
           },
           {
            "bin_start": 51.3,
            "bin_end": 54.349999999999994,
            "count": 20
           },
           {
            "bin_start": 54.349999999999994,
            "bin_end": 57.4,
            "count": 15
           },
           {
            "bin_start": 57.4,
            "bin_end": 60.45,
            "count": 2
           },
           {
            "bin_start": 60.45,
            "bin_end": 63.5,
            "count": 1
           }
          ]
         }
        },
        {
         "name": "stadium",
         "dtype": "object",
         "stats": {
          "unique_count": 46,
          "nan_count": 0,
          "categories": [
           {
            "name": "MetLife Stadium",
            "count": 29
           },
           {
            "name": "Gillette Stadium",
            "count": 14
           },
           {
            "name": "44 others",
            "count": 317
           }
          ]
         }
        },
        {
         "name": "stadium_neutral",
         "dtype": "object",
         "stats": {
          "unique_count": 2,
          "nan_count": 0,
          "categories": [
           {
            "name": "False",
            "count": 354
           },
           {
            "name": "True",
            "count": 6
           }
          ]
         }
        },
        {
         "name": "weather_temperature",
         "dtype": "float64",
         "stats": {
          "unique_count": 69,
          "nan_count": 49,
          "min": "-6.0",
          "max": "89.0",
          "histogram": [
           {
            "bin_start": -6,
            "bin_end": 3.5,
            "count": 1
           },
           {
            "bin_start": 3.5,
            "bin_end": 13,
            "count": 3
           },
           {
            "bin_start": 13,
            "bin_end": 22.5,
            "count": 5
           },
           {
            "bin_start": 22.5,
            "bin_end": 32,
            "count": 13
           },
           {
            "bin_start": 32,
            "bin_end": 41.5,
            "count": 20
           },
           {
            "bin_start": 41.5,
            "bin_end": 51,
            "count": 29
           },
           {
            "bin_start": 51,
            "bin_end": 60.5,
            "count": 42
           },
           {
            "bin_start": 60.5,
            "bin_end": 70,
            "count": 43
           },
           {
            "bin_start": 70,
            "bin_end": 79.5,
            "count": 131
           },
           {
            "bin_start": 79.5,
            "bin_end": 89,
            "count": 24
           }
          ]
         }
        },
        {
         "name": "weather_wind_mph",
         "dtype": "float64",
         "stats": {
          "unique_count": 21,
          "nan_count": 49,
          "min": "0.0",
          "max": "23.0",
          "histogram": [
           {
            "bin_start": 0,
            "bin_end": 2.3,
            "count": 129
           },
           {
            "bin_start": 2.3,
            "bin_end": 4.6,
            "count": 43
           },
           {
            "bin_start": 4.6,
            "bin_end": 6.8999999999999995,
            "count": 41
           },
           {
            "bin_start": 6.8999999999999995,
            "bin_end": 9.2,
            "count": 63
           },
           {
            "bin_start": 9.2,
            "bin_end": 11.5,
            "count": 12
           },
           {
            "bin_start": 11.5,
            "bin_end": 13.799999999999999,
            "count": 9
           },
           {
            "bin_start": 13.799999999999999,
            "bin_end": 16.099999999999998,
            "count": 5
           },
           {
            "bin_start": 16.099999999999998,
            "bin_end": 18.4,
            "count": 6
           },
           {
            "bin_start": 18.4,
            "bin_end": 20.7,
            "count": 2
           },
           {
            "bin_start": 20.7,
            "bin_end": 23,
            "count": 1
           }
          ]
         }
        },
        {
         "name": "weather_humidity",
         "dtype": "float64",
         "stats": {
          "unique_count": 53,
          "nan_count": 275,
          "min": "23.0",
          "max": "100.0",
          "histogram": [
           {
            "bin_start": 23,
            "bin_end": 30.7,
            "count": 5
           },
           {
            "bin_start": 30.7,
            "bin_end": 38.4,
            "count": 5
           },
           {
            "bin_start": 38.4,
            "bin_end": 46.1,
            "count": 11
           },
           {
            "bin_start": 46.1,
            "bin_end": 53.8,
            "count": 13
           },
           {
            "bin_start": 53.8,
            "bin_end": 61.5,
            "count": 9
           },
           {
            "bin_start": 61.5,
            "bin_end": 69.2,
            "count": 10
           },
           {
            "bin_start": 69.2,
            "bin_end": 76.9,
            "count": 8
           },
           {
            "bin_start": 76.9,
            "bin_end": 84.6,
            "count": 11
           },
           {
            "bin_start": 84.6,
            "bin_end": 92.3,
            "count": 11
           },
           {
            "bin_start": 92.3,
            "bin_end": 100,
            "count": 2
           }
          ]
         }
        },
        {
         "name": "weather_detail",
         "dtype": "object",
         "stats": {
          "unique_count": 7,
          "nan_count": 247,
          "categories": [
           {
            "name": "DOME",
            "count": 87
           },
           {
            "name": "6 others",
            "count": 26
           },
           {
            "name": "Missing",
            "count": 247
           }
          ]
         }
        },
        {
         "name": "total_score",
         "dtype": "float64",
         "stats": {
          "unique_count": 62,
          "nan_count": 0,
          "min": "6.0",
          "max": "105.0",
          "histogram": [
           {
            "bin_start": 6,
            "bin_end": 15.9,
            "count": 21
           },
           {
            "bin_start": 15.9,
            "bin_end": 25.8,
            "count": 88
           },
           {
            "bin_start": 25.8,
            "bin_end": 35.7,
            "count": 40
           },
           {
            "bin_start": 35.7,
            "bin_end": 45.6,
            "count": 0
           },
           {
            "bin_start": 45.6,
            "bin_end": 55.5,
            "count": 1
           },
           {
            "bin_start": 55.5,
            "bin_end": 65.4,
            "count": 33
           },
           {
            "bin_start": 65.4,
            "bin_end": 75.3,
            "count": 105
           },
           {
            "bin_start": 75.3,
            "bin_end": 85.2,
            "count": 54
           },
           {
            "bin_start": 85.2,
            "bin_end": 95.10000000000001,
            "count": 15
           },
           {
            "bin_start": 95.10000000000001,
            "bin_end": 105,
            "count": 3
           }
          ]
         }
        },
        {
         "name": "_deepnote_index_column",
         "dtype": "int64"
        }
       ],
       "rows_top": [
        {
         "schedule_date": "9/9/2010",
         "schedule_season": 2010,
         "schedule_week": "1",
         "schedule_playoff": "False",
         "team_home": "New Orleans Saints",
         "score_home": 14,
         "score_away": 9,
         "team_away": "Minnesota Vikings",
         "team_favorite_id": "NO",
         "spread_favorite": -5,
         "over_under_line": 49.5,
         "stadium": "Louisiana Superdome",
         "stadium_neutral": "False",
         "weather_temperature": 72,
         "weather_wind_mph": 0,
         "weather_humidity": "nan",
         "weather_detail": "DOME",
         "total_score": 23,
         "_deepnote_index_column": 7507
        },
        {
         "schedule_date": "9/19/2010",
         "schedule_season": 2010,
         "schedule_week": "2",
         "schedule_playoff": "False",
         "team_home": "Detroit Lions",
         "score_home": 32,
         "score_away": 35,
         "team_away": "Philadelphia Eagles",
         "team_favorite_id": "PHI",
         "spread_favorite": -6.5,
         "over_under_line": 41,
         "stadium": "Ford Field",
         "stadium_neutral": "False",
         "weather_temperature": 72,
         "weather_wind_mph": 0,
         "weather_humidity": "nan",
         "weather_detail": "DOME",
         "total_score": 67,
         "_deepnote_index_column": 7529
        },
        {
         "schedule_date": "9/26/2010",
         "schedule_season": 2010,
         "schedule_week": "3",
         "schedule_playoff": "False",
         "team_home": "New England Patriots",
         "score_home": 38,
         "score_away": 30,
         "team_away": "Buffalo Bills",
         "team_favorite_id": "NE",
         "spread_favorite": -14.5,
         "over_under_line": 43,
         "stadium": "Gillette Stadium",
         "stadium_neutral": "False",
         "weather_temperature": 68,
         "weather_wind_mph": 11,
         "weather_humidity": "nan",
         "weather_detail": "nan",
         "total_score": 68,
         "_deepnote_index_column": 7548
        },
        {
         "schedule_date": "10/3/2010",
         "schedule_season": 2010,
         "schedule_week": "4",
         "schedule_playoff": "False",
         "team_home": "New York Giants",
         "score_home": 17,
         "score_away": 3,
         "team_away": "Chicago Bears",
         "team_favorite_id": "NYG",
         "spread_favorite": -3.5,
         "over_under_line": 44,
         "stadium": "MetLife Stadium",
         "stadium_neutral": "False",
         "weather_temperature": 59,
         "weather_wind_mph": 1,
         "weather_humidity": 52,
         "weather_detail": "nan",
         "total_score": 20,
         "_deepnote_index_column": 7561
        },
        {
         "schedule_date": "10/10/2010",
         "schedule_season": 2010,
         "schedule_week": "5",
         "schedule_playoff": "False",
         "team_home": "Buffalo Bills",
         "score_home": 26,
         "score_away": 36,
         "team_away": "Jacksonville Jaguars",
         "team_favorite_id": "BUF",
         "spread_favorite": -2.5,
         "over_under_line": 41.5,
         "stadium": "Ralph Wilson Stadium",
         "stadium_neutral": "False",
         "weather_temperature": 63,
         "weather_wind_mph": 1,
         "weather_humidity": 52,
         "weather_detail": "nan",
         "total_score": 62,
         "_deepnote_index_column": 7571
        },
        {
         "schedule_date": "10/24/2010",
         "schedule_season": 2010,
         "schedule_week": "7",
         "schedule_playoff": "False",
         "team_home": "Atlanta Falcons",
         "score_home": 39,
         "score_away": 32,
         "team_away": "Cincinnati Bengals",
         "team_favorite_id": "ATL",
         "spread_favorite": -3.5,
         "over_under_line": 43,
         "stadium": "Georgia Dome",
         "stadium_neutral": "False",
         "weather_temperature": 72,
         "weather_wind_mph": 0,
         "weather_humidity": "nan",
         "weather_detail": "DOME",
         "total_score": 71,
         "_deepnote_index_column": 7597
        },
        {
         "schedule_date": "10/24/2010",
         "schedule_season": 2010,
         "schedule_week": "7",
         "schedule_playoff": "False",
         "team_home": "Baltimore Ravens",
         "score_home": 37,
         "score_away": 34,
         "team_away": "Buffalo Bills",
         "team_favorite_id": "BAL",
         "spread_favorite": -12.5,
         "over_under_line": 40,
         "stadium": "M&T Bank Stadium",
         "stadium_neutral": "False",
         "weather_temperature": 72,
         "weather_wind_mph": 5,
         "weather_humidity": 52,
         "weather_detail": "nan",
         "total_score": 71,
         "_deepnote_index_column": 7598
        },
        {
         "schedule_date": "10/24/2010",
         "schedule_season": 2010,
         "schedule_week": "7",
         "schedule_playoff": "False",
         "team_home": "Denver Broncos",
         "score_home": 14,
         "score_away": 59,
         "team_away": "Oakland Raiders",
         "team_favorite_id": "DEN",
         "spread_favorite": -7,
         "over_under_line": 43,
         "stadium": "Sports Authority Field at Mile High",
         "stadium_neutral": "False",
         "weather_temperature": 63,
         "weather_wind_mph": 9,
         "weather_humidity": 23,
         "weather_detail": "nan",
         "total_score": 73,
         "_deepnote_index_column": 7601
        },
        {
         "schedule_date": "10/24/2010",
         "schedule_season": 2010,
         "schedule_week": "7",
         "schedule_playoff": "False",
         "team_home": "Kansas City Chiefs",
         "score_home": 42,
         "score_away": 20,
         "team_away": "Jacksonville Jaguars",
         "team_favorite_id": "KC",
         "spread_favorite": -9,
         "over_under_line": 39,
         "stadium": "Arrowhead Stadium",
         "stadium_neutral": "False",
         "weather_temperature": 64,
         "weather_wind_mph": 1,
         "weather_humidity": 80,
         "weather_detail": "nan",
         "total_score": 62,
         "_deepnote_index_column": 7603
        },
        {
         "schedule_date": "10/25/2010",
         "schedule_season": 2010,
         "schedule_week": "7",
         "schedule_playoff": "False",
         "team_home": "Dallas Cowboys",
         "score_home": 35,
         "score_away": 41,
         "team_away": "New York Giants",
         "team_favorite_id": "DAL",
         "spread_favorite": -3.5,
         "over_under_line": 45.5,
         "stadium": "Cowboys Stadium",
         "stadium_neutral": "False",
         "weather_temperature": 86,
         "weather_wind_mph": 2,
         "weather_humidity": "nan",
         "weather_detail": "nan",
         "total_score": 76,
         "_deepnote_index_column": 7610
        },
        {
         "schedule_date": "10/31/2010",
         "schedule_season": 2010,
         "schedule_week": "8",
         "schedule_playoff": "False",
         "team_home": "Arizona Cardinals",
         "score_home": 35,
         "score_away": 38,
         "team_away": "Tampa Bay Buccaneers",
         "team_favorite_id": "ARI",
         "spread_favorite": -3,
         "over_under_line": 38,
         "stadium": "University of Phoenix Stadium",
         "stadium_neutral": "False",
         "weather_temperature": 72,
         "weather_wind_mph": 0,
         "weather_humidity": "nan",
         "weather_detail": "DOME",
         "total_score": 73,
         "_deepnote_index_column": 7611
        },
        {
         "schedule_date": "10/31/2010",
         "schedule_season": 2010,
         "schedule_week": "8",
         "schedule_playoff": "False",
         "team_home": "Kansas City Chiefs",
         "score_home": 13,
         "score_away": 10,
         "team_away": "Buffalo Bills",
         "team_favorite_id": "KC",
         "spread_favorite": -7,
         "over_under_line": 46,
         "stadium": "Arrowhead Stadium",
         "stadium_neutral": "False",
         "weather_temperature": 51,
         "weather_wind_mph": 1,
         "weather_humidity": 60,
         "weather_detail": "nan",
         "total_score": 23,
         "_deepnote_index_column": 7615
        },
        {
         "schedule_date": "10/31/2010",
         "schedule_season": 2010,
         "schedule_week": "8",
         "schedule_playoff": "False",
         "team_home": "New York Jets",
         "score_home": 0,
         "score_away": 9,
         "team_away": "Green Bay Packers",
         "team_favorite_id": "NYJ",
         "spread_favorite": -6,
         "over_under_line": 42,
         "stadium": "MetLife Stadium",
         "stadium_neutral": "False",
         "weather_temperature": 57,
         "weather_wind_mph": 1,
         "weather_humidity": 41,
         "weather_detail": "nan",
         "total_score": 9,
         "_deepnote_index_column": 7618
        },
        {
         "schedule_date": "11/14/2010",
         "schedule_season": 2010,
         "schedule_week": "10",
         "schedule_playoff": "False",
         "team_home": "Denver Broncos",
         "score_home": 49,
         "score_away": 29,
         "team_away": "Kansas City Chiefs",
         "team_favorite_id": "KC",
         "spread_favorite": -1,
         "over_under_line": 44.5,
         "stadium": "Sports Authority Field at Mile High",
         "stadium_neutral": "False",
         "weather_temperature": 43,
         "weather_wind_mph": 6,
         "weather_humidity": 34,
         "weather_detail": "nan",
         "total_score": 78,
         "_deepnote_index_column": 7642
        },
        {
         "schedule_date": "11/15/2010",
         "schedule_season": 2010,
         "schedule_week": "10",
         "schedule_playoff": "False",
         "team_home": "Washington Redskins",
         "score_home": 28,
         "score_away": 59,
         "team_away": "Philadelphia Eagles",
         "team_favorite_id": "PHI",
         "spread_favorite": -3.5,
         "over_under_line": 43.5,
         "stadium": "FedEx Field",
         "stadium_neutral": "False",
         "weather_temperature": 52,
         "weather_wind_mph": 3,
         "weather_humidity": 67,
         "weather_detail": "nan",
         "total_score": 87,
         "_deepnote_index_column": 7650
        },
        {
         "schedule_date": "11/18/2010",
         "schedule_season": 2010,
         "schedule_week": "11",
         "schedule_playoff": "False",
         "team_home": "Miami Dolphins",
         "score_home": 0,
         "score_away": 16,
         "team_away": "Chicago Bears",
         "team_favorite_id": "MIA",
         "spread_favorite": -2,
         "over_under_line": 40,
         "stadium": "Sun Life Stadium",
         "stadium_neutral": "False",
         "weather_temperature": 80,
         "weather_wind_mph": 8,
         "weather_humidity": 77,
         "weather_detail": "nan",
         "total_score": 16,
         "_deepnote_index_column": 7651
        },
        {
         "schedule_date": "11/21/2010",
         "schedule_season": 2010,
         "schedule_week": "11",
         "schedule_playoff": "False",
         "team_home": "Cincinnati Bengals",
         "score_home": 31,
         "score_away": 49,
         "team_away": "Buffalo Bills",
         "team_favorite_id": "CIN",
         "spread_favorite": -4,
         "over_under_line": 41,
         "stadium": "Paul Brown Stadium",
         "stadium_neutral": "False",
         "weather_temperature": 65,
         "weather_wind_mph": 1,
         "weather_humidity": 56,
         "weather_detail": "nan",
         "total_score": 80,
         "_deepnote_index_column": 7653
        },
        {
         "schedule_date": "11/21/2010",
         "schedule_season": 2010,
         "schedule_week": "11",
         "schedule_playoff": "False",
         "team_home": "San Francisco 49ers",
         "score_home": 0,
         "score_away": 21,
         "team_away": "Tampa Bay Buccaneers",
         "team_favorite_id": "SF",
         "spread_favorite": -3.5,
         "over_under_line": 41.5,
         "stadium": "Candlestick Park",
         "stadium_neutral": "False",
         "weather_temperature": 54,
         "weather_wind_mph": 2,
         "weather_humidity": 65,
         "weather_detail": "nan",
         "total_score": 21,
         "_deepnote_index_column": 7663
        },
        {
         "schedule_date": "11/28/2010",
         "schedule_season": 2010,
         "schedule_week": "12",
         "schedule_playoff": "False",
         "team_home": "Denver Broncos",
         "score_home": 33,
         "score_away": 36,
         "team_away": "St. Louis Rams",
         "team_favorite_id": "DEN",
         "spread_favorite": -3,
         "over_under_line": 45,
         "stadium": "Sports Authority Field at Mile High",
         "stadium_neutral": "False",
         "weather_temperature": 45,
         "weather_wind_mph": 1,
         "weather_humidity": 23,
         "weather_detail": "nan",
         "total_score": 69,
         "_deepnote_index_column": 7675
        },
        {
         "schedule_date": "11/28/2010",
         "schedule_season": 2010,
         "schedule_week": "12",
         "schedule_playoff": "False",
         "team_home": "Houston Texans",
         "score_home": 20,
         "score_away": 0,
         "team_away": "Tennessee Titans",
         "team_favorite_id": "HOU",
         "spread_favorite": -5,
         "over_under_line": 46.5,
         "stadium": "Reliant Stadium",
         "stadium_neutral": "False",
         "weather_temperature": 62,
         "weather_wind_mph": 5,
         "weather_humidity": "nan",
         "weather_detail": "DOME (Open Roof)",
         "total_score": 20,
         "_deepnote_index_column": 7676
        },
        {
         "schedule_date": "11/28/2010",
         "schedule_season": 2010,
         "schedule_week": "12",
         "schedule_playoff": "False",
         "team_home": "Seattle Seahawks",
         "score_home": 24,
         "score_away": 42,
         "team_away": "Kansas City Chiefs",
         "team_favorite_id": "KC",
         "spread_favorite": -2,
         "over_under_line": 45,
         "stadium": "CenturyLink Field",
         "stadium_neutral": "False",
         "weather_temperature": 43,
         "weather_wind_mph": 1,
         "weather_humidity": "nan",
         "weather_detail": "nan",
         "total_score": 66,
         "_deepnote_index_column": 7680
        },
        {
         "schedule_date": "12/5/2010",
         "schedule_season": 2010,
         "schedule_week": "13",
         "schedule_playoff": "False",
         "team_home": "Indianapolis Colts",
         "score_home": 35,
         "score_away": 38,
         "team_away": "Dallas Cowboys",
         "team_favorite_id": "IND",
         "spread_favorite": -5.5,
         "over_under_line": 48,
         "stadium": "Lucas Oil Stadium",
         "stadium_neutral": "False",
         "weather_temperature": 72,
         "weather_wind_mph": 0,
         "weather_humidity": "nan",
         "weather_detail": "DOME",
         "total_score": 73,
         "_deepnote_index_column": 7689
        },
        {
         "schedule_date": "12/5/2010",
         "schedule_season": 2010,
         "schedule_week": "13",
         "schedule_playoff": "False",
         "team_home": "Kansas City Chiefs",
         "score_home": 10,
         "score_away": 6,
         "team_away": "Denver Broncos",
         "team_favorite_id": "KC",
         "spread_favorite": -8,
         "over_under_line": 48.5,
         "stadium": "Arrowhead Stadium",
         "stadium_neutral": "False",
         "weather_temperature": 26,
         "weather_wind_mph": 8,
         "weather_humidity": 55,
         "weather_detail": "nan",
         "total_score": 16,
         "_deepnote_index_column": 7690
        },
        {
         "schedule_date": "12/5/2010",
         "schedule_season": 2010,
         "schedule_week": "13",
         "schedule_playoff": "False",
         "team_home": "Miami Dolphins",
         "score_home": 10,
         "score_away": 13,
         "team_away": "Cleveland Browns",
         "team_favorite_id": "MIA",
         "spread_favorite": -6,
         "over_under_line": 43.5,
         "stadium": "Sun Life Stadium",
         "stadium_neutral": "False",
         "weather_temperature": 76,
         "weather_wind_mph": 1,
         "weather_humidity": 52,
         "weather_detail": "nan",
         "total_score": 23,
         "_deepnote_index_column": 7691
        },
        {
         "schedule_date": "12/5/2010",
         "schedule_season": 2010,
         "schedule_week": "13",
         "schedule_playoff": "False",
         "team_home": "Tennessee Titans",
         "score_home": 6,
         "score_away": 17,
         "team_away": "Jacksonville Jaguars",
         "team_favorite_id": "TEN",
         "spread_favorite": -3,
         "over_under_line": 43.5,
         "stadium": "Nissan Stadium",
         "stadium_neutral": "False",
         "weather_temperature": 35,
         "weather_wind_mph": 1,
         "weather_humidity": 70,
         "weather_detail": "nan",
         "total_score": 23,
         "_deepnote_index_column": 7697
        },
        {
         "schedule_date": "12/12/2010",
         "schedule_season": 2010,
         "schedule_week": "14",
         "schedule_playoff": "False",
         "team_home": "Detroit Lions",
         "score_home": 7,
         "score_away": 3,
         "team_away": "Green Bay Packers",
         "team_favorite_id": "GB",
         "spread_favorite": -7,
         "over_under_line": 46,
         "stadium": "Ford Field",
         "stadium_neutral": "False",
         "weather_temperature": 72,
         "weather_wind_mph": 0,
         "weather_humidity": "nan",
         "weather_detail": "DOME",
         "total_score": 10,
         "_deepnote_index_column": 7705
        },
        {
         "schedule_date": "12/12/2010",
         "schedule_season": 2010,
         "schedule_week": "14",
         "schedule_playoff": "False",
         "team_home": "Jacksonville Jaguars",
         "score_home": 38,
         "score_away": 31,
         "team_away": "Oakland Raiders",
         "team_favorite_id": "JAX",
         "spread_favorite": -3.5,
         "over_under_line": 41.5,
         "stadium": "EverBank Field",
         "stadium_neutral": "False",
         "weather_temperature": 54,
         "weather_wind_mph": 1,
         "weather_humidity": 86,
         "weather_detail": "Rain",
         "total_score": 69,
         "_deepnote_index_column": 7706
        }
       ],
       "rows_bottom": [
        {
         "schedule_date": "9/17/2020",
         "schedule_season": 2020,
         "schedule_week": "2",
         "schedule_playoff": "False",
         "team_home": "Cleveland Browns",
         "score_home": 35,
         "score_away": 30,
         "team_away": "Cincinnati Bengals",
         "team_favorite_id": "CLE",
         "spread_favorite": -6,
         "over_under_line": 43,
         "stadium": "FirstEnergy Stadium",
         "stadium_neutral": "False",
         "weather_temperature": "nan",
         "weather_wind_mph": "nan",
         "weather_humidity": "nan",
         "weather_detail": "nan",
         "total_score": 65,
         "_deepnote_index_column": 10193
        },
        {
         "schedule_date": "9/20/2020",
         "schedule_season": 2020,
         "schedule_week": "2",
         "schedule_playoff": "False",
         "team_home": "Dallas Cowboys",
         "score_home": 40,
         "score_away": 39,
         "team_away": "Atlanta Falcons",
         "team_favorite_id": "DAL",
         "spread_favorite": -3.5,
         "over_under_line": 53.5,
         "stadium": "AT&T Stadium",
         "stadium_neutral": "False",
         "weather_temperature": 72,
         "weather_wind_mph": 0,
         "weather_humidity": "nan",
         "weather_detail": "DOME",
         "total_score": 79,
         "_deepnote_index_column": 10196
        },
        {
         "schedule_date": "9/20/2020",
         "schedule_season": 2020,
         "schedule_week": "2",
         "schedule_playoff": "False",
         "team_home": "Seattle Seahawks",
         "score_home": 35,
         "score_away": 30,
         "team_away": "New England Patriots",
         "team_favorite_id": "SEA",
         "spread_favorite": -4,
         "over_under_line": 44.5,
         "stadium": "CenturyLink Field",
         "stadium_neutral": "False",
         "weather_temperature": "nan",
         "weather_wind_mph": "nan",
         "weather_humidity": "nan",
         "weather_detail": "nan",
         "total_score": 65,
         "_deepnote_index_column": 10205
        },
        {
         "schedule_date": "10/1/2020",
         "schedule_season": 2020,
         "schedule_week": "4",
         "schedule_playoff": "False",
         "team_home": "New York Jets",
         "score_home": 28,
         "score_away": 37,
         "team_away": "Denver Broncos",
         "team_favorite_id": "NYJ",
         "spread_favorite": -1.5,
         "over_under_line": 41,
         "stadium": "MetLife Stadium",
         "stadium_neutral": "False",
         "weather_temperature": "nan",
         "weather_wind_mph": "nan",
         "weather_humidity": "nan",
         "weather_detail": "nan",
         "total_score": 65,
         "_deepnote_index_column": 10225
        },
        {
         "schedule_date": "10/4/2020",
         "schedule_season": 2020,
         "schedule_week": "4",
         "schedule_playoff": "False",
         "team_home": "Dallas Cowboys",
         "score_home": 38,
         "score_away": 49,
         "team_away": "Cleveland Browns",
         "team_favorite_id": "DAL",
         "spread_favorite": -3.5,
         "over_under_line": 56,
         "stadium": "AT&T Stadium",
         "stadium_neutral": "False",
         "weather_temperature": 72,
         "weather_wind_mph": 0,
         "weather_humidity": "nan",
         "weather_detail": "DOME",
         "total_score": 87,
         "_deepnote_index_column": 10229
        },
        {
         "schedule_date": "10/4/2020",
         "schedule_season": 2020,
         "schedule_week": "4",
         "schedule_playoff": "False",
         "team_home": "Los Angeles Rams",
         "score_home": 17,
         "score_away": 9,
         "team_away": "New York Giants",
         "team_favorite_id": "LAR",
         "spread_favorite": -13,
         "over_under_line": 48.5,
         "stadium": "SoFi Stadium",
         "stadium_neutral": "False",
         "weather_temperature": "nan",
         "weather_wind_mph": "nan",
         "weather_humidity": "nan",
         "weather_detail": "nan",
         "total_score": 26,
         "_deepnote_index_column": 10233
        },
        {
         "schedule_date": "10/4/2020",
         "schedule_season": 2020,
         "schedule_week": "4",
         "schedule_playoff": "False",
         "team_home": "Tampa Bay Buccaneers",
         "score_home": 38,
         "score_away": 31,
         "team_away": "Los Angeles Chargers",
         "team_favorite_id": "TB",
         "spread_favorite": -7,
         "over_under_line": 42.5,
         "stadium": "Raymond James Stadium",
         "stadium_neutral": "False",
         "weather_temperature": "nan",
         "weather_wind_mph": "nan",
         "weather_humidity": "nan",
         "weather_detail": "nan",
         "total_score": 69,
         "_deepnote_index_column": 10236
        },
        {
         "schedule_date": "10/11/2020",
         "schedule_season": 2020,
         "schedule_week": "5",
         "schedule_playoff": "False",
         "team_home": "Baltimore Ravens",
         "score_home": 27,
         "score_away": 3,
         "team_away": "Cincinnati Bengals",
         "team_favorite_id": "BAL",
         "spread_favorite": -11,
         "over_under_line": 50.5,
         "stadium": "M&T Bank Stadium",
         "stadium_neutral": "False",
         "weather_temperature": "nan",
         "weather_wind_mph": "nan",
         "weather_humidity": "nan",
         "weather_detail": "nan",
         "total_score": 30,
         "_deepnote_index_column": 10242
        },
        {
         "schedule_date": "10/11/2020",
         "schedule_season": 2020,
         "schedule_week": "5",
         "schedule_playoff": "False",
         "team_home": "Pittsburgh Steelers",
         "score_home": 38,
         "score_away": 29,
         "team_away": "Philadelphia Eagles",
         "team_favorite_id": "PIT",
         "spread_favorite": -7,
         "over_under_line": 43.5,
         "stadium": "Heinz Field",
         "stadium_neutral": "False",
         "weather_temperature": "nan",
         "weather_wind_mph": "nan",
         "weather_humidity": "nan",
         "weather_detail": "nan",
         "total_score": 67,
         "_deepnote_index_column": 10248
        },
        {
         "schedule_date": "10/18/2020",
         "schedule_season": 2020,
         "schedule_week": "6",
         "schedule_playoff": "False",
         "team_home": "Miami Dolphins",
         "score_home": 24,
         "score_away": 0,
         "team_away": "New York Jets",
         "team_favorite_id": "MIA",
         "spread_favorite": -9,
         "over_under_line": 47,
         "stadium": "Hard Rock Stadium",
         "stadium_neutral": "False",
         "weather_temperature": "nan",
         "weather_wind_mph": "nan",
         "weather_humidity": "nan",
         "weather_detail": "nan",
         "total_score": 24,
         "_deepnote_index_column": 10257
        },
        {
         "schedule_date": "10/18/2020",
         "schedule_season": 2020,
         "schedule_week": "6",
         "schedule_playoff": "False",
         "team_home": "Tennessee Titans",
         "score_home": 42,
         "score_away": 36,
         "team_away": "Houston Texans",
         "team_favorite_id": "TEN",
         "spread_favorite": -3.5,
         "over_under_line": 53.5,
         "stadium": "Nissan Stadium",
         "stadium_neutral": "False",
         "weather_temperature": "nan",
         "weather_wind_mph": "nan",
         "weather_humidity": "nan",
         "weather_detail": "nan",
         "total_score": 78,
         "_deepnote_index_column": 10265
        },
        {
         "schedule_date": "11/1/2020",
         "schedule_season": 2020,
         "schedule_week": "8",
         "schedule_playoff": "False",
         "team_home": "Cleveland Browns",
         "score_home": 6,
         "score_away": 16,
         "team_away": "Las Vegas Raiders",
         "team_favorite_id": "CLE",
         "spread_favorite": -1.5,
         "over_under_line": 48,
         "stadium": "FirstEnergy Stadium",
         "stadium_neutral": "False",
         "weather_temperature": "nan",
         "weather_wind_mph": "nan",
         "weather_humidity": "nan",
         "weather_detail": "nan",
         "total_score": 22,
         "_deepnote_index_column": 10287
        },
        {
         "schedule_date": "11/8/2020",
         "schedule_season": 2020,
         "schedule_week": "9",
         "schedule_playoff": "False",
         "team_home": "Buffalo Bills",
         "score_home": 44,
         "score_away": 34,
         "team_away": "Seattle Seahawks",
         "team_favorite_id": "SEA",
         "spread_favorite": -3,
         "over_under_line": 55,
         "stadium": "New Era Field",
         "stadium_neutral": "False",
         "weather_temperature": "nan",
         "weather_wind_mph": "nan",
         "weather_humidity": "nan",
         "weather_detail": "nan",
         "total_score": 78,
         "_deepnote_index_column": 10299
        },
        {
         "schedule_date": "11/15/2020",
         "schedule_season": 2020,
         "schedule_week": "10",
         "schedule_playoff": "False",
         "team_home": "Cleveland Browns",
         "score_home": 10,
         "score_away": 7,
         "team_away": "Houston Texans",
         "team_favorite_id": "CLE",
         "spread_favorite": -4,
         "over_under_line": 45.5,
         "stadium": "FirstEnergy Stadium",
         "stadium_neutral": "False",
         "weather_temperature": "nan",
         "weather_wind_mph": "nan",
         "weather_humidity": "nan",
         "weather_detail": "nan",
         "total_score": 17,
         "_deepnote_index_column": 10313
        },
        {
         "schedule_date": "11/22/2020",
         "schedule_season": 2020,
         "schedule_week": "11",
         "schedule_playoff": "False",
         "team_home": "Carolina Panthers",
         "score_home": 20,
         "score_away": 0,
         "team_away": "Detroit Lions",
         "team_favorite_id": "DET",
         "spread_favorite": -1.5,
         "over_under_line": 46.5,
         "stadium": "Bank of America Stadium",
         "stadium_neutral": "False",
         "weather_temperature": "nan",
         "weather_wind_mph": "nan",
         "weather_humidity": "nan",
         "weather_detail": "nan",
         "total_score": 20,
         "_deepnote_index_column": 10326
        },
        {
         "schedule_date": "11/29/2020",
         "schedule_season": 2020,
         "schedule_week": "12",
         "schedule_playoff": "False",
         "team_home": "Green Bay Packers",
         "score_home": 41,
         "score_away": 25,
         "team_away": "Chicago Bears",
         "team_favorite_id": "GB",
         "spread_favorite": -9.5,
         "over_under_line": 44,
         "stadium": "Lambeau Field",
         "stadium_neutral": "False",
         "weather_temperature": "nan",
         "weather_wind_mph": "nan",
         "weather_humidity": "nan",
         "weather_detail": "nan",
         "total_score": 66,
         "_deepnote_index_column": 10344
        },
        {
         "schedule_date": "11/29/2020",
         "schedule_season": 2020,
         "schedule_week": "12",
         "schedule_playoff": "False",
         "team_home": "New York Jets",
         "score_home": 3,
         "score_away": 20,
         "team_away": "Miami Dolphins",
         "team_favorite_id": "MIA",
         "spread_favorite": -7,
         "over_under_line": 44.5,
         "stadium": "MetLife Stadium",
         "stadium_neutral": "False",
         "weather_temperature": "nan",
         "weather_wind_mph": "nan",
         "weather_humidity": "nan",
         "weather_detail": "nan",
         "total_score": 23,
         "_deepnote_index_column": 10350
        },
        {
         "schedule_date": "12/6/2020",
         "schedule_season": 2020,
         "schedule_week": "13",
         "schedule_playoff": "False",
         "team_home": "Tennessee Titans",
         "score_home": 35,
         "score_away": 41,
         "team_away": "Cleveland Browns",
         "team_favorite_id": "TEN",
         "spread_favorite": -3.5,
         "over_under_line": 53.5,
         "stadium": "Nissan Stadium",
         "stadium_neutral": "False",
         "weather_temperature": "nan",
         "weather_wind_mph": "nan",
         "weather_humidity": "nan",
         "weather_detail": "nan",
         "total_score": 76,
         "_deepnote_index_column": 10365
        },
        {
         "schedule_date": "12/14/2020",
         "schedule_season": 2020,
         "schedule_week": "14",
         "schedule_playoff": "False",
         "team_home": "Cleveland Browns",
         "score_home": 42,
         "score_away": 47,
         "team_away": "Baltimore Ravens",
         "team_favorite_id": "BAL",
         "spread_favorite": -3,
         "over_under_line": 45.5,
         "stadium": "FirstEnergy Stadium",
         "stadium_neutral": "False",
         "weather_temperature": "nan",
         "weather_wind_mph": "nan",
         "weather_humidity": "nan",
         "weather_detail": "nan",
         "total_score": 89,
         "_deepnote_index_column": 10384
        },
        {
         "schedule_date": "12/20/2020",
         "schedule_season": 2020,
         "schedule_week": "15",
         "schedule_playoff": "False",
         "team_home": "Dallas Cowboys",
         "score_home": 41,
         "score_away": 33,
         "team_away": "San Francisco 49ers",
         "team_favorite_id": "SF",
         "spread_favorite": -4,
         "over_under_line": 45.5,
         "stadium": "AT&T Stadium",
         "stadium_neutral": "False",
         "weather_temperature": 72,
         "weather_wind_mph": 0,
         "weather_humidity": "nan",
         "weather_detail": "DOME",
         "total_score": 74,
         "_deepnote_index_column": 10391
        },
        {
         "schedule_date": "12/25/2020",
         "schedule_season": 2020,
         "schedule_week": "16",
         "schedule_playoff": "False",
         "team_home": "New Orleans Saints",
         "score_home": 52,
         "score_away": 33,
         "team_away": "Minnesota Vikings",
         "team_favorite_id": "NO",
         "spread_favorite": -6.5,
         "over_under_line": 49.5,
         "stadium": "Mercedes-Benz Superdome",
         "stadium_neutral": "False",
         "weather_temperature": 72,
         "weather_wind_mph": 0,
         "weather_humidity": "nan",
         "weather_detail": "DOME",
         "total_score": 85,
         "_deepnote_index_column": 10401
        },
        {
         "schedule_date": "12/27/2020",
         "schedule_season": 2020,
         "schedule_week": "16",
         "schedule_playoff": "False",
         "team_home": "Houston Texans",
         "score_home": 31,
         "score_away": 37,
         "team_away": "Cincinnati Bengals",
         "team_favorite_id": "HOU",
         "spread_favorite": -7.5,
         "over_under_line": 46,
         "stadium": "NRG Stadium",
         "stadium_neutral": "False",
         "weather_temperature": 72,
         "weather_wind_mph": 0,
         "weather_humidity": "nan",
         "weather_detail": "DOME",
         "total_score": 68,
         "_deepnote_index_column": 10408
        },
        {
         "schedule_date": "12/27/2020",
         "schedule_season": 2020,
         "schedule_week": "16",
         "schedule_playoff": "False",
         "team_home": "Kansas City Chiefs",
         "score_home": 17,
         "score_away": 14,
         "team_away": "Atlanta Falcons",
         "team_favorite_id": "KC",
         "spread_favorite": -11,
         "over_under_line": 54,
         "stadium": "Arrowhead Stadium",
         "stadium_neutral": "False",
         "weather_temperature": "nan",
         "weather_wind_mph": "nan",
         "weather_humidity": "nan",
         "weather_detail": "nan",
         "total_score": 31,
         "_deepnote_index_column": 10410
        },
        {
         "schedule_date": "1/3/2021",
         "schedule_season": 2020,
         "schedule_week": "17",
         "schedule_playoff": "False",
         "team_home": "Buffalo Bills",
         "score_home": 56,
         "score_away": 26,
         "team_away": "Miami Dolphins",
         "team_favorite_id": "MIA",
         "spread_favorite": -3,
         "over_under_line": 42.5,
         "stadium": "New Era Field",
         "stadium_neutral": "False",
         "weather_temperature": "nan",
         "weather_wind_mph": "nan",
         "weather_humidity": "nan",
         "weather_detail": "nan",
         "total_score": 82,
         "_deepnote_index_column": 10417
        },
        {
         "schedule_date": "1/3/2021",
         "schedule_season": 2020,
         "schedule_week": "17",
         "schedule_playoff": "False",
         "team_home": "Houston Texans",
         "score_home": 38,
         "score_away": 41,
         "team_away": "Tennessee Titans",
         "team_favorite_id": "TEN",
         "spread_favorite": -7,
         "over_under_line": 55.5,
         "stadium": "NRG Stadium",
         "stadium_neutral": "False",
         "weather_temperature": 72,
         "weather_wind_mph": 0,
         "weather_humidity": "nan",
         "weather_detail": "DOME",
         "total_score": 79,
         "_deepnote_index_column": 10424
        },
        {
         "schedule_date": "1/10/2021",
         "schedule_season": 2020,
         "schedule_week": "Wildcard",
         "schedule_playoff": "True",
         "team_home": "Pittsburgh Steelers",
         "score_home": 37,
         "score_away": 48,
         "team_away": "Cleveland Browns",
         "team_favorite_id": "PIT",
         "spread_favorite": -5.5,
         "over_under_line": 47.5,
         "stadium": "Heinz Field",
         "stadium_neutral": "False",
         "weather_temperature": "nan",
         "weather_wind_mph": "nan",
         "weather_humidity": "nan",
         "weather_detail": "nan",
         "total_score": 85,
         "_deepnote_index_column": 10437
        },
        {
         "schedule_date": "1/10/2021",
         "schedule_season": 2020,
         "schedule_week": "Wildcard",
         "schedule_playoff": "True",
         "team_home": "Tennessee Titans",
         "score_home": 13,
         "score_away": 20,
         "team_away": "Baltimore Ravens",
         "team_favorite_id": "BAL",
         "spread_favorite": -3.5,
         "over_under_line": 53.5,
         "stadium": "Nissan Stadium",
         "stadium_neutral": "False",
         "weather_temperature": "nan",
         "weather_wind_mph": "nan",
         "weather_humidity": "nan",
         "weather_detail": "nan",
         "total_score": 33,
         "_deepnote_index_column": 10438
        },
        {
         "schedule_date": "1/16/2021",
         "schedule_season": 2020,
         "schedule_week": "Division",
         "schedule_playoff": "True",
         "team_home": "Buffalo Bills",
         "score_home": 17,
         "score_away": 3,
         "team_away": "Baltimore Ravens",
         "team_favorite_id": "BUF",
         "spread_favorite": -2.5,
         "over_under_line": 49.5,
         "stadium": "New Era Field",
         "stadium_neutral": "False",
         "weather_temperature": "nan",
         "weather_wind_mph": "nan",
         "weather_humidity": "nan",
         "weather_detail": "nan",
         "total_score": 20,
         "_deepnote_index_column": 10439
        }
       ]
      },
      "text/plain": "      schedule_date  schedule_season schedule_week  schedule_playoff  \\\n7507       9/9/2010             2010             1             False   \n7529      9/19/2010             2010             2             False   \n7548      9/26/2010             2010             3             False   \n7561      10/3/2010             2010             4             False   \n7571     10/10/2010             2010             5             False   \n...             ...              ...           ...               ...   \n10417      1/3/2021             2020            17             False   \n10424      1/3/2021             2020            17             False   \n10437     1/10/2021             2020      Wildcard              True   \n10438     1/10/2021             2020      Wildcard              True   \n10439     1/16/2021             2020      Division              True   \n\n                  team_home  score_home  score_away             team_away  \\\n7507     New Orleans Saints        14.0         9.0     Minnesota Vikings   \n7529          Detroit Lions        32.0        35.0   Philadelphia Eagles   \n7548   New England Patriots        38.0        30.0         Buffalo Bills   \n7561        New York Giants        17.0         3.0         Chicago Bears   \n7571          Buffalo Bills        26.0        36.0  Jacksonville Jaguars   \n...                     ...         ...         ...                   ...   \n10417         Buffalo Bills        56.0        26.0        Miami Dolphins   \n10424        Houston Texans        38.0        41.0      Tennessee Titans   \n10437   Pittsburgh Steelers        37.0        48.0      Cleveland Browns   \n10438      Tennessee Titans        13.0        20.0      Baltimore Ravens   \n10439         Buffalo Bills        17.0         3.0      Baltimore Ravens   \n\n      team_favorite_id  spread_favorite  over_under_line  \\\n7507                NO             -5.0             49.5   \n7529               PHI             -6.5             41.0   \n7548                NE            -14.5             43.0   \n7561               NYG             -3.5             44.0   \n7571               BUF             -2.5             41.5   \n...                ...              ...              ...   \n10417              MIA             -3.0             42.5   \n10424              TEN             -7.0             55.5   \n10437              PIT             -5.5             47.5   \n10438              BAL             -3.5             53.5   \n10439              BUF             -2.5             49.5   \n\n                    stadium stadium_neutral  weather_temperature  \\\n7507    Louisiana Superdome           False                 72.0   \n7529             Ford Field           False                 72.0   \n7548       Gillette Stadium           False                 68.0   \n7561        MetLife Stadium           False                 59.0   \n7571   Ralph Wilson Stadium           False                 63.0   \n...                     ...             ...                  ...   \n10417         New Era Field           False                  NaN   \n10424           NRG Stadium           False                 72.0   \n10437           Heinz Field           False                  NaN   \n10438        Nissan Stadium           False                  NaN   \n10439         New Era Field           False                  NaN   \n\n       weather_wind_mph  weather_humidity weather_detail  total_score  \n7507                0.0               NaN           DOME         23.0  \n7529                0.0               NaN           DOME         67.0  \n7548               11.0               NaN            NaN         68.0  \n7561                1.0              52.0            NaN         20.0  \n7571                1.0              52.0            NaN         62.0  \n...                 ...               ...            ...          ...  \n10417               NaN               NaN            NaN         82.0  \n10424               0.0               NaN           DOME         79.0  \n10437               NaN               NaN            NaN         85.0  \n10438               NaN               NaN            NaN         33.0  \n10439               NaN               NaN            NaN         20.0  \n\n[360 rows x 18 columns]",
      "text/html": "<div>\n<style scoped>\n    .dataframe tbody tr th:only-of-type {\n        vertical-align: middle;\n    }\n\n    .dataframe tbody tr th {\n        vertical-align: top;\n    }\n\n    .dataframe thead th {\n        text-align: right;\n    }\n</style>\n<table border=\"1\" class=\"dataframe\">\n  <thead>\n    <tr style=\"text-align: right;\">\n      <th></th>\n      <th>schedule_date</th>\n      <th>schedule_season</th>\n      <th>schedule_week</th>\n      <th>schedule_playoff</th>\n      <th>team_home</th>\n      <th>score_home</th>\n      <th>score_away</th>\n      <th>team_away</th>\n      <th>team_favorite_id</th>\n      <th>spread_favorite</th>\n      <th>over_under_line</th>\n      <th>stadium</th>\n      <th>stadium_neutral</th>\n      <th>weather_temperature</th>\n      <th>weather_wind_mph</th>\n      <th>weather_humidity</th>\n      <th>weather_detail</th>\n      <th>total_score</th>\n    </tr>\n  </thead>\n  <tbody>\n    <tr>\n      <th>7507</th>\n      <td>9/9/2010</td>\n      <td>2010</td>\n      <td>1</td>\n      <td>False</td>\n      <td>New Orleans Saints</td>\n      <td>14.0</td>\n      <td>9.0</td>\n      <td>Minnesota Vikings</td>\n      <td>NO</td>\n      <td>-5.0</td>\n      <td>49.5</td>\n      <td>Louisiana Superdome</td>\n      <td>False</td>\n      <td>72.0</td>\n      <td>0.0</td>\n      <td>NaN</td>\n      <td>DOME</td>\n      <td>23.0</td>\n    </tr>\n    <tr>\n      <th>7529</th>\n      <td>9/19/2010</td>\n      <td>2010</td>\n      <td>2</td>\n      <td>False</td>\n      <td>Detroit Lions</td>\n      <td>32.0</td>\n      <td>35.0</td>\n      <td>Philadelphia Eagles</td>\n      <td>PHI</td>\n      <td>-6.5</td>\n      <td>41.0</td>\n      <td>Ford Field</td>\n      <td>False</td>\n      <td>72.0</td>\n      <td>0.0</td>\n      <td>NaN</td>\n      <td>DOME</td>\n      <td>67.0</td>\n    </tr>\n    <tr>\n      <th>7548</th>\n      <td>9/26/2010</td>\n      <td>2010</td>\n      <td>3</td>\n      <td>False</td>\n      <td>New England Patriots</td>\n      <td>38.0</td>\n      <td>30.0</td>\n      <td>Buffalo Bills</td>\n      <td>NE</td>\n      <td>-14.5</td>\n      <td>43.0</td>\n      <td>Gillette Stadium</td>\n      <td>False</td>\n      <td>68.0</td>\n      <td>11.0</td>\n      <td>NaN</td>\n      <td>NaN</td>\n      <td>68.0</td>\n    </tr>\n    <tr>\n      <th>7561</th>\n      <td>10/3/2010</td>\n      <td>2010</td>\n      <td>4</td>\n      <td>False</td>\n      <td>New York Giants</td>\n      <td>17.0</td>\n      <td>3.0</td>\n      <td>Chicago Bears</td>\n      <td>NYG</td>\n      <td>-3.5</td>\n      <td>44.0</td>\n      <td>MetLife Stadium</td>\n      <td>False</td>\n      <td>59.0</td>\n      <td>1.0</td>\n      <td>52.0</td>\n      <td>NaN</td>\n      <td>20.0</td>\n    </tr>\n    <tr>\n      <th>7571</th>\n      <td>10/10/2010</td>\n      <td>2010</td>\n      <td>5</td>\n      <td>False</td>\n      <td>Buffalo Bills</td>\n      <td>26.0</td>\n      <td>36.0</td>\n      <td>Jacksonville Jaguars</td>\n      <td>BUF</td>\n      <td>-2.5</td>\n      <td>41.5</td>\n      <td>Ralph Wilson Stadium</td>\n      <td>False</td>\n      <td>63.0</td>\n      <td>1.0</td>\n      <td>52.0</td>\n      <td>NaN</td>\n      <td>62.0</td>\n    </tr>\n    <tr>\n      <th>...</th>\n      <td>...</td>\n      <td>...</td>\n      <td>...</td>\n      <td>...</td>\n      <td>...</td>\n      <td>...</td>\n      <td>...</td>\n      <td>...</td>\n      <td>...</td>\n      <td>...</td>\n      <td>...</td>\n      <td>...</td>\n      <td>...</td>\n      <td>...</td>\n      <td>...</td>\n      <td>...</td>\n      <td>...</td>\n      <td>...</td>\n    </tr>\n    <tr>\n      <th>10417</th>\n      <td>1/3/2021</td>\n      <td>2020</td>\n      <td>17</td>\n      <td>False</td>\n      <td>Buffalo Bills</td>\n      <td>56.0</td>\n      <td>26.0</td>\n      <td>Miami Dolphins</td>\n      <td>MIA</td>\n      <td>-3.0</td>\n      <td>42.5</td>\n      <td>New Era Field</td>\n      <td>False</td>\n      <td>NaN</td>\n      <td>NaN</td>\n      <td>NaN</td>\n      <td>NaN</td>\n      <td>82.0</td>\n    </tr>\n    <tr>\n      <th>10424</th>\n      <td>1/3/2021</td>\n      <td>2020</td>\n      <td>17</td>\n      <td>False</td>\n      <td>Houston Texans</td>\n      <td>38.0</td>\n      <td>41.0</td>\n      <td>Tennessee Titans</td>\n      <td>TEN</td>\n      <td>-7.0</td>\n      <td>55.5</td>\n      <td>NRG Stadium</td>\n      <td>False</td>\n      <td>72.0</td>\n      <td>0.0</td>\n      <td>NaN</td>\n      <td>DOME</td>\n      <td>79.0</td>\n    </tr>\n    <tr>\n      <th>10437</th>\n      <td>1/10/2021</td>\n      <td>2020</td>\n      <td>Wildcard</td>\n      <td>True</td>\n      <td>Pittsburgh Steelers</td>\n      <td>37.0</td>\n      <td>48.0</td>\n      <td>Cleveland Browns</td>\n      <td>PIT</td>\n      <td>-5.5</td>\n      <td>47.5</td>\n      <td>Heinz Field</td>\n      <td>False</td>\n      <td>NaN</td>\n      <td>NaN</td>\n      <td>NaN</td>\n      <td>NaN</td>\n      <td>85.0</td>\n    </tr>\n    <tr>\n      <th>10438</th>\n      <td>1/10/2021</td>\n      <td>2020</td>\n      <td>Wildcard</td>\n      <td>True</td>\n      <td>Tennessee Titans</td>\n      <td>13.0</td>\n      <td>20.0</td>\n      <td>Baltimore Ravens</td>\n      <td>BAL</td>\n      <td>-3.5</td>\n      <td>53.5</td>\n      <td>Nissan Stadium</td>\n      <td>False</td>\n      <td>NaN</td>\n      <td>NaN</td>\n      <td>NaN</td>\n      <td>NaN</td>\n      <td>33.0</td>\n    </tr>\n    <tr>\n      <th>10439</th>\n      <td>1/16/2021</td>\n      <td>2020</td>\n      <td>Division</td>\n      <td>True</td>\n      <td>Buffalo Bills</td>\n      <td>17.0</td>\n      <td>3.0</td>\n      <td>Baltimore Ravens</td>\n      <td>BUF</td>\n      <td>-2.5</td>\n      <td>49.5</td>\n      <td>New Era Field</td>\n      <td>False</td>\n      <td>NaN</td>\n      <td>NaN</td>\n      <td>NaN</td>\n      <td>NaN</td>\n      <td>20.0</td>\n    </tr>\n  </tbody>\n</table>\n<p>360 rows × 18 columns</p>\n</div>"
     },
     "metadata": {}
    }
   ],
   "execution_count": 4
  },
  {
   "cell_type": "code",
   "metadata": {
    "tags": [],
    "cell_id": "00007-ba814652-49a3-4a7a-8098-515150779fd8",
    "deepnote_to_be_reexecuted": false,
    "source_hash": "3d628c3b",
    "execution_start": 1632261868532,
    "execution_millis": 86,
    "deepnote_cell_type": "code"
   },
   "source": "recent_df.describe()",
   "outputs": [
    {
     "output_type": "execute_result",
     "execution_count": 5,
     "data": {
      "application/vnd.deepnote.dataframe.v2+json": {
       "row_count": 8,
       "column_count": 9,
       "columns": [
        {
         "name": "schedule_season",
         "dtype": "float64",
         "stats": {
          "unique_count": 8,
          "nan_count": 0,
          "min": "3.1644277717798994",
          "max": "2939.0",
          "histogram": [
           {
            "bin_start": 3.1644277717798994,
            "bin_end": 296.7479849946019,
            "count": 1
           },
           {
            "bin_start": 296.7479849946019,
            "bin_end": 590.3315422174238,
            "count": 0
           },
           {
            "bin_start": 590.3315422174238,
            "bin_end": 883.9150994402457,
            "count": 0
           },
           {
            "bin_start": 883.9150994402457,
            "bin_end": 1177.4986566630678,
            "count": 0
           },
           {
            "bin_start": 1177.4986566630678,
            "bin_end": 1471.0822138858898,
            "count": 0
           },
           {
            "bin_start": 1471.0822138858898,
            "bin_end": 1764.6657711087116,
            "count": 0
           },
           {
            "bin_start": 1764.6657711087116,
            "bin_end": 2058.249328331534,
            "count": 6
           },
           {
            "bin_start": 2058.249328331534,
            "bin_end": 2351.832885554356,
            "count": 0
           },
           {
            "bin_start": 2351.832885554356,
            "bin_end": 2645.416442777178,
            "count": 0
           },
           {
            "bin_start": 2645.416442777178,
            "bin_end": 2939,
            "count": 1
           }
          ]
         }
        },
        {
         "name": "score_home",
         "dtype": "float64",
         "stats": {
          "unique_count": 8,
          "nan_count": 0,
          "min": "0.0",
          "max": "2939.0",
          "histogram": [
           {
            "bin_start": 0,
            "bin_end": 293.9,
            "count": 7
           },
           {
            "bin_start": 293.9,
            "bin_end": 587.8,
            "count": 0
           },
           {
            "bin_start": 587.8,
            "bin_end": 881.6999999999999,
            "count": 0
           },
           {
            "bin_start": 881.6999999999999,
            "bin_end": 1175.6,
            "count": 0
           },
           {
            "bin_start": 1175.6,
            "bin_end": 1469.5,
            "count": 0
           },
           {
            "bin_start": 1469.5,
            "bin_end": 1763.3999999999999,
            "count": 0
           },
           {
            "bin_start": 1763.3999999999999,
            "bin_end": 2057.2999999999997,
            "count": 0
           },
           {
            "bin_start": 2057.2999999999997,
            "bin_end": 2351.2,
            "count": 0
           },
           {
            "bin_start": 2351.2,
            "bin_end": 2645.1,
            "count": 0
           },
           {
            "bin_start": 2645.1,
            "bin_end": 2939,
            "count": 1
           }
          ]
         }
        },
        {
         "name": "score_away",
         "dtype": "float64",
         "stats": {
          "unique_count": 8,
          "nan_count": 0,
          "min": "0.0",
          "max": "2939.0",
          "histogram": [
           {
            "bin_start": 0,
            "bin_end": 293.9,
            "count": 7
           },
           {
            "bin_start": 293.9,
            "bin_end": 587.8,
            "count": 0
           },
           {
            "bin_start": 587.8,
            "bin_end": 881.6999999999999,
            "count": 0
           },
           {
            "bin_start": 881.6999999999999,
            "bin_end": 1175.6,
            "count": 0
           },
           {
            "bin_start": 1175.6,
            "bin_end": 1469.5,
            "count": 0
           },
           {
            "bin_start": 1469.5,
            "bin_end": 1763.3999999999999,
            "count": 0
           },
           {
            "bin_start": 1763.3999999999999,
            "bin_end": 2057.2999999999997,
            "count": 0
           },
           {
            "bin_start": 2057.2999999999997,
            "bin_end": 2351.2,
            "count": 0
           },
           {
            "bin_start": 2351.2,
            "bin_end": 2645.1,
            "count": 0
           },
           {
            "bin_start": 2645.1,
            "bin_end": 2939,
            "count": 1
           }
          ]
         }
        },
        {
         "name": "spread_favorite",
         "dtype": "float64",
         "stats": {
          "unique_count": 8,
          "nan_count": 0,
          "min": "-26.5",
          "max": "2939.0",
          "histogram": [
           {
            "bin_start": -26.5,
            "bin_end": 270.05,
            "count": 7
           },
           {
            "bin_start": 270.05,
            "bin_end": 566.6,
            "count": 0
           },
           {
            "bin_start": 566.6,
            "bin_end": 863.1500000000001,
            "count": 0
           },
           {
            "bin_start": 863.1500000000001,
            "bin_end": 1159.7,
            "count": 0
           },
           {
            "bin_start": 1159.7,
            "bin_end": 1456.25,
            "count": 0
           },
           {
            "bin_start": 1456.25,
            "bin_end": 1752.8000000000002,
            "count": 0
           },
           {
            "bin_start": 1752.8000000000002,
            "bin_end": 2049.35,
            "count": 0
           },
           {
            "bin_start": 2049.35,
            "bin_end": 2345.9,
            "count": 0
           },
           {
            "bin_start": 2345.9,
            "bin_end": 2642.4500000000003,
            "count": 0
           },
           {
            "bin_start": 2642.4500000000003,
            "bin_end": 2939,
            "count": 1
           }
          ]
         }
        },
        {
         "name": "over_under_line",
         "dtype": "float64",
         "stats": {
          "unique_count": 8,
          "nan_count": 0,
          "min": "4.4244801587927345",
          "max": "2939.0",
          "histogram": [
           {
            "bin_start": 4.4244801587927345,
            "bin_end": 297.88203214291343,
            "count": 7
           },
           {
            "bin_start": 297.88203214291343,
            "bin_end": 591.3395841270342,
            "count": 0
           },
           {
            "bin_start": 591.3395841270342,
            "bin_end": 884.7971361111548,
            "count": 0
           },
           {
            "bin_start": 884.7971361111548,
            "bin_end": 1178.2546880952755,
            "count": 0
           },
           {
            "bin_start": 1178.2546880952755,
            "bin_end": 1471.7122400793962,
            "count": 0
           },
           {
            "bin_start": 1471.7122400793962,
            "bin_end": 1765.1697920635168,
            "count": 0
           },
           {
            "bin_start": 1765.1697920635168,
            "bin_end": 2058.627344047638,
            "count": 0
           },
           {
            "bin_start": 2058.627344047638,
            "bin_end": 2352.0848960317585,
            "count": 0
           },
           {
            "bin_start": 2352.0848960317585,
            "bin_end": 2645.542448015879,
            "count": 0
           },
           {
            "bin_start": 2645.542448015879,
            "bin_end": 2939,
            "count": 1
           }
          ]
         }
        },
        {
         "name": "weather_temperature",
         "dtype": "float64",
         "stats": {
          "unique_count": 8,
          "nan_count": 0,
          "min": "-6.0",
          "max": "2501.0",
          "histogram": [
           {
            "bin_start": -6,
            "bin_end": 244.7,
            "count": 7
           },
           {
            "bin_start": 244.7,
            "bin_end": 495.4,
            "count": 0
           },
           {
            "bin_start": 495.4,
            "bin_end": 746.0999999999999,
            "count": 0
           },
           {
            "bin_start": 746.0999999999999,
            "bin_end": 996.8,
            "count": 0
           },
           {
            "bin_start": 996.8,
            "bin_end": 1247.5,
            "count": 0
           },
           {
            "bin_start": 1247.5,
            "bin_end": 1498.1999999999998,
            "count": 0
           },
           {
            "bin_start": 1498.1999999999998,
            "bin_end": 1748.8999999999999,
            "count": 0
           },
           {
            "bin_start": 1748.8999999999999,
            "bin_end": 1999.6,
            "count": 0
           },
           {
            "bin_start": 1999.6,
            "bin_end": 2250.2999999999997,
            "count": 0
           },
           {
            "bin_start": 2250.2999999999997,
            "bin_end": 2501,
            "count": 1
           }
          ]
         }
        },
        {
         "name": "weather_wind_mph",
         "dtype": "float64",
         "stats": {
          "unique_count": 7,
          "nan_count": 0,
          "min": "0.0",
          "max": "2499.0",
          "histogram": [
           {
            "bin_start": 0,
            "bin_end": 249.9,
            "count": 7
           },
           {
            "bin_start": 249.9,
            "bin_end": 499.8,
            "count": 0
           },
           {
            "bin_start": 499.8,
            "bin_end": 749.7,
            "count": 0
           },
           {
            "bin_start": 749.7,
            "bin_end": 999.6,
            "count": 0
           },
           {
            "bin_start": 999.6,
            "bin_end": 1249.5,
            "count": 0
           },
           {
            "bin_start": 1249.5,
            "bin_end": 1499.4,
            "count": 0
           },
           {
            "bin_start": 1499.4,
            "bin_end": 1749.3,
            "count": 0
           },
           {
            "bin_start": 1749.3,
            "bin_end": 1999.2,
            "count": 0
           },
           {
            "bin_start": 1999.2,
            "bin_end": 2249.1,
            "count": 0
           },
           {
            "bin_start": 2249.1,
            "bin_end": 2499,
            "count": 1
           }
          ]
         }
        },
        {
         "name": "weather_humidity",
         "dtype": "float64",
         "stats": {
          "unique_count": 8,
          "nan_count": 0,
          "min": "4.0",
          "max": "672.0",
          "histogram": [
           {
            "bin_start": 4,
            "bin_end": 70.8,
            "count": 5
           },
           {
            "bin_start": 70.8,
            "bin_end": 137.6,
            "count": 2
           },
           {
            "bin_start": 137.6,
            "bin_end": 204.39999999999998,
            "count": 0
           },
           {
            "bin_start": 204.39999999999998,
            "bin_end": 271.2,
            "count": 0
           },
           {
            "bin_start": 271.2,
            "bin_end": 338,
            "count": 0
           },
           {
            "bin_start": 338,
            "bin_end": 404.79999999999995,
            "count": 0
           },
           {
            "bin_start": 404.79999999999995,
            "bin_end": 471.59999999999997,
            "count": 0
           },
           {
            "bin_start": 471.59999999999997,
            "bin_end": 538.4,
            "count": 0
           },
           {
            "bin_start": 538.4,
            "bin_end": 605.1999999999999,
            "count": 0
           },
           {
            "bin_start": 605.1999999999999,
            "bin_end": 672,
            "count": 1
           }
          ]
         }
        },
        {
         "name": "total_score",
         "dtype": "float64",
         "stats": {
          "unique_count": 8,
          "nan_count": 0,
          "min": "6.0",
          "max": "2939.0",
          "histogram": [
           {
            "bin_start": 6,
            "bin_end": 299.3,
            "count": 7
           },
           {
            "bin_start": 299.3,
            "bin_end": 592.6,
            "count": 0
           },
           {
            "bin_start": 592.6,
            "bin_end": 885.9000000000001,
            "count": 0
           },
           {
            "bin_start": 885.9000000000001,
            "bin_end": 1179.2,
            "count": 0
           },
           {
            "bin_start": 1179.2,
            "bin_end": 1472.5,
            "count": 0
           },
           {
            "bin_start": 1472.5,
            "bin_end": 1765.8000000000002,
            "count": 0
           },
           {
            "bin_start": 1765.8000000000002,
            "bin_end": 2059.1,
            "count": 0
           },
           {
            "bin_start": 2059.1,
            "bin_end": 2352.4,
            "count": 0
           },
           {
            "bin_start": 2352.4,
            "bin_end": 2645.7000000000003,
            "count": 0
           },
           {
            "bin_start": 2645.7000000000003,
            "bin_end": 2939,
            "count": 1
           }
          ]
         }
        },
        {
         "name": "_deepnote_index_column",
         "dtype": "object"
        }
       ],
       "rows_top": [
        {
         "schedule_season": 2939,
         "score_home": 2939,
         "score_away": 2939,
         "spread_favorite": 2939,
         "over_under_line": 2939,
         "weather_temperature": 2501,
         "weather_wind_mph": 2499,
         "weather_humidity": 672,
         "total_score": 2939,
         "_deepnote_index_column": "count"
        },
        {
         "schedule_season": 2015.0034025178632,
         "score_home": 23.912215039128956,
         "score_away": 21.844504933650903,
         "spread_favorite": -5.2909152773052055,
         "over_under_line": 45.32102756039469,
         "weather_temperature": 62.834866053578565,
         "weather_wind_mph": 4.591436574629852,
         "weather_humidity": 58.436011904761905,
         "total_score": 45.756719972779855,
         "_deepnote_index_column": "mean"
        },
        {
         "schedule_season": 3.1644277717798994,
         "score_home": 10.289964700943477,
         "score_away": 9.921302636361474,
         "spread_favorite": 3.3945641605358663,
         "over_under_line": 4.4244801587927345,
         "weather_temperature": 15.414497068410997,
         "weather_wind_mph": 4.630539516519654,
         "weather_humidity": 18.92747348765253,
         "total_score": 13.995295509044427,
         "_deepnote_index_column": "std"
        },
        {
         "schedule_season": 2010,
         "score_home": 0,
         "score_away": 0,
         "spread_favorite": -26.5,
         "over_under_line": 33,
         "weather_temperature": -6,
         "weather_wind_mph": 0,
         "weather_humidity": 4,
         "total_score": 6,
         "_deepnote_index_column": "min"
        },
        {
         "schedule_season": 2012,
         "score_home": 17,
         "score_away": 15,
         "spread_favorite": -7,
         "over_under_line": 42.5,
         "weather_temperature": 53,
         "weather_wind_mph": 0,
         "weather_humidity": 45,
         "total_score": 36,
         "_deepnote_index_column": "25%"
        },
        {
         "schedule_season": 2015,
         "score_home": 24,
         "score_away": 21,
         "spread_favorite": -4,
         "over_under_line": 45,
         "weather_temperature": 70,
         "weather_wind_mph": 4,
         "weather_humidity": 57,
         "total_score": 45,
         "_deepnote_index_column": "50%"
        },
        {
         "schedule_season": 2018,
         "score_home": 31,
         "score_away": 28,
         "spread_favorite": -3,
         "over_under_line": 48,
         "weather_temperature": 72,
         "weather_wind_mph": 7,
         "weather_humidity": 72.25,
         "total_score": 54.5,
         "_deepnote_index_column": "75%"
        },
        {
         "schedule_season": 2020,
         "score_home": 62,
         "score_away": 59,
         "spread_favorite": 0,
         "over_under_line": 63.5,
         "weather_temperature": 97,
         "weather_wind_mph": 40,
         "weather_humidity": 100,
         "total_score": 105,
         "_deepnote_index_column": "max"
        }
       ],
       "rows_bottom": null
      },
      "text/plain": "       schedule_season   score_home   score_away  spread_favorite  \\\ncount      2939.000000  2939.000000  2939.000000      2939.000000   \nmean       2015.003403    23.912215    21.844505        -5.290915   \nstd           3.164428    10.289965     9.921303         3.394564   \nmin        2010.000000     0.000000     0.000000       -26.500000   \n25%        2012.000000    17.000000    15.000000        -7.000000   \n50%        2015.000000    24.000000    21.000000        -4.000000   \n75%        2018.000000    31.000000    28.000000        -3.000000   \nmax        2020.000000    62.000000    59.000000         0.000000   \n\n       over_under_line  weather_temperature  weather_wind_mph  \\\ncount      2939.000000          2501.000000       2499.000000   \nmean         45.321028            62.834866          4.591437   \nstd           4.424480            15.414497          4.630540   \nmin          33.000000            -6.000000          0.000000   \n25%          42.500000            53.000000          0.000000   \n50%          45.000000            70.000000          4.000000   \n75%          48.000000            72.000000          7.000000   \nmax          63.500000            97.000000         40.000000   \n\n       weather_humidity  total_score  \ncount        672.000000  2939.000000  \nmean          58.436012    45.756720  \nstd           18.927473    13.995296  \nmin            4.000000     6.000000  \n25%           45.000000    36.000000  \n50%           57.000000    45.000000  \n75%           72.250000    54.500000  \nmax          100.000000   105.000000  ",
      "text/html": "<div>\n<style scoped>\n    .dataframe tbody tr th:only-of-type {\n        vertical-align: middle;\n    }\n\n    .dataframe tbody tr th {\n        vertical-align: top;\n    }\n\n    .dataframe thead th {\n        text-align: right;\n    }\n</style>\n<table border=\"1\" class=\"dataframe\">\n  <thead>\n    <tr style=\"text-align: right;\">\n      <th></th>\n      <th>schedule_season</th>\n      <th>score_home</th>\n      <th>score_away</th>\n      <th>spread_favorite</th>\n      <th>over_under_line</th>\n      <th>weather_temperature</th>\n      <th>weather_wind_mph</th>\n      <th>weather_humidity</th>\n      <th>total_score</th>\n    </tr>\n  </thead>\n  <tbody>\n    <tr>\n      <th>count</th>\n      <td>2939.000000</td>\n      <td>2939.000000</td>\n      <td>2939.000000</td>\n      <td>2939.000000</td>\n      <td>2939.000000</td>\n      <td>2501.000000</td>\n      <td>2499.000000</td>\n      <td>672.000000</td>\n      <td>2939.000000</td>\n    </tr>\n    <tr>\n      <th>mean</th>\n      <td>2015.003403</td>\n      <td>23.912215</td>\n      <td>21.844505</td>\n      <td>-5.290915</td>\n      <td>45.321028</td>\n      <td>62.834866</td>\n      <td>4.591437</td>\n      <td>58.436012</td>\n      <td>45.756720</td>\n    </tr>\n    <tr>\n      <th>std</th>\n      <td>3.164428</td>\n      <td>10.289965</td>\n      <td>9.921303</td>\n      <td>3.394564</td>\n      <td>4.424480</td>\n      <td>15.414497</td>\n      <td>4.630540</td>\n      <td>18.927473</td>\n      <td>13.995296</td>\n    </tr>\n    <tr>\n      <th>min</th>\n      <td>2010.000000</td>\n      <td>0.000000</td>\n      <td>0.000000</td>\n      <td>-26.500000</td>\n      <td>33.000000</td>\n      <td>-6.000000</td>\n      <td>0.000000</td>\n      <td>4.000000</td>\n      <td>6.000000</td>\n    </tr>\n    <tr>\n      <th>25%</th>\n      <td>2012.000000</td>\n      <td>17.000000</td>\n      <td>15.000000</td>\n      <td>-7.000000</td>\n      <td>42.500000</td>\n      <td>53.000000</td>\n      <td>0.000000</td>\n      <td>45.000000</td>\n      <td>36.000000</td>\n    </tr>\n    <tr>\n      <th>50%</th>\n      <td>2015.000000</td>\n      <td>24.000000</td>\n      <td>21.000000</td>\n      <td>-4.000000</td>\n      <td>45.000000</td>\n      <td>70.000000</td>\n      <td>4.000000</td>\n      <td>57.000000</td>\n      <td>45.000000</td>\n    </tr>\n    <tr>\n      <th>75%</th>\n      <td>2018.000000</td>\n      <td>31.000000</td>\n      <td>28.000000</td>\n      <td>-3.000000</td>\n      <td>48.000000</td>\n      <td>72.000000</td>\n      <td>7.000000</td>\n      <td>72.250000</td>\n      <td>54.500000</td>\n    </tr>\n    <tr>\n      <th>max</th>\n      <td>2020.000000</td>\n      <td>62.000000</td>\n      <td>59.000000</td>\n      <td>0.000000</td>\n      <td>63.500000</td>\n      <td>97.000000</td>\n      <td>40.000000</td>\n      <td>100.000000</td>\n      <td>105.000000</td>\n    </tr>\n  </tbody>\n</table>\n</div>"
     },
     "metadata": {}
    }
   ],
   "execution_count": 5
  },
  {
   "cell_type": "code",
   "metadata": {
    "tags": [],
    "cell_id": "00008-cf8944d5-9b21-4d3b-89b0-ad23dd67eb23",
    "deepnote_to_be_reexecuted": false,
    "source_hash": "82dd6519",
    "execution_start": 1632261868610,
    "execution_millis": 75,
    "deepnote_cell_type": "code"
   },
   "source": "outliers_df.describe()",
   "outputs": [
    {
     "output_type": "execute_result",
     "execution_count": 6,
     "data": {
      "application/vnd.deepnote.dataframe.v2+json": {
       "row_count": 8,
       "column_count": 9,
       "columns": [
        {
         "name": "schedule_season",
         "dtype": "float64",
         "stats": {
          "unique_count": 8,
          "nan_count": 0,
          "min": "3.0835422399052845",
          "max": "2020.0",
          "histogram": [
           {
            "bin_start": 3.0835422399052845,
            "bin_end": 204.77518801591475,
            "count": 1
           },
           {
            "bin_start": 204.77518801591475,
            "bin_end": 406.4668337919242,
            "count": 1
           },
           {
            "bin_start": 406.4668337919242,
            "bin_end": 608.1584795679337,
            "count": 0
           },
           {
            "bin_start": 608.1584795679337,
            "bin_end": 809.8501253439431,
            "count": 0
           },
           {
            "bin_start": 809.8501253439431,
            "bin_end": 1011.5417711199525,
            "count": 0
           },
           {
            "bin_start": 1011.5417711199525,
            "bin_end": 1213.2334168959621,
            "count": 0
           },
           {
            "bin_start": 1213.2334168959621,
            "bin_end": 1414.9250626719715,
            "count": 0
           },
           {
            "bin_start": 1414.9250626719715,
            "bin_end": 1616.616708447981,
            "count": 0
           },
           {
            "bin_start": 1616.616708447981,
            "bin_end": 1818.3083542239904,
            "count": 0
           },
           {
            "bin_start": 1818.3083542239904,
            "bin_end": 2020,
            "count": 6
           }
          ]
         }
        },
        {
         "name": "score_home",
         "dtype": "float64",
         "stats": {
          "unique_count": 8,
          "nan_count": 0,
          "min": "0.0",
          "max": "360.0",
          "histogram": [
           {
            "bin_start": 0,
            "bin_end": 36,
            "count": 5
           },
           {
            "bin_start": 36,
            "bin_end": 72,
            "count": 2
           },
           {
            "bin_start": 72,
            "bin_end": 108,
            "count": 0
           },
           {
            "bin_start": 108,
            "bin_end": 144,
            "count": 0
           },
           {
            "bin_start": 144,
            "bin_end": 180,
            "count": 0
           },
           {
            "bin_start": 180,
            "bin_end": 216,
            "count": 0
           },
           {
            "bin_start": 216,
            "bin_end": 252,
            "count": 0
           },
           {
            "bin_start": 252,
            "bin_end": 288,
            "count": 0
           },
           {
            "bin_start": 288,
            "bin_end": 324,
            "count": 0
           },
           {
            "bin_start": 324,
            "bin_end": 360,
            "count": 1
           }
          ]
         }
        },
        {
         "name": "score_away",
         "dtype": "float64",
         "stats": {
          "unique_count": 8,
          "nan_count": 0,
          "min": "0.0",
          "max": "360.0",
          "histogram": [
           {
            "bin_start": 0,
            "bin_end": 36,
            "count": 5
           },
           {
            "bin_start": 36,
            "bin_end": 72,
            "count": 2
           },
           {
            "bin_start": 72,
            "bin_end": 108,
            "count": 0
           },
           {
            "bin_start": 108,
            "bin_end": 144,
            "count": 0
           },
           {
            "bin_start": 144,
            "bin_end": 180,
            "count": 0
           },
           {
            "bin_start": 180,
            "bin_end": 216,
            "count": 0
           },
           {
            "bin_start": 216,
            "bin_end": 252,
            "count": 0
           },
           {
            "bin_start": 252,
            "bin_end": 288,
            "count": 0
           },
           {
            "bin_start": 288,
            "bin_end": 324,
            "count": 0
           },
           {
            "bin_start": 324,
            "bin_end": 360,
            "count": 1
           }
          ]
         }
        },
        {
         "name": "spread_favorite",
         "dtype": "float64",
         "stats": {
          "unique_count": 8,
          "nan_count": 0,
          "min": "-20.0",
          "max": "360.0",
          "histogram": [
           {
            "bin_start": -20,
            "bin_end": 18,
            "count": 7
           },
           {
            "bin_start": 18,
            "bin_end": 56,
            "count": 0
           },
           {
            "bin_start": 56,
            "bin_end": 94,
            "count": 0
           },
           {
            "bin_start": 94,
            "bin_end": 132,
            "count": 0
           },
           {
            "bin_start": 132,
            "bin_end": 170,
            "count": 0
           },
           {
            "bin_start": 170,
            "bin_end": 208,
            "count": 0
           },
           {
            "bin_start": 208,
            "bin_end": 246,
            "count": 0
           },
           {
            "bin_start": 246,
            "bin_end": 284,
            "count": 0
           },
           {
            "bin_start": 284,
            "bin_end": 322,
            "count": 0
           },
           {
            "bin_start": 322,
            "bin_end": 360,
            "count": 1
           }
          ]
         }
        },
        {
         "name": "over_under_line",
         "dtype": "float64",
         "stats": {
          "unique_count": 8,
          "nan_count": 0,
          "min": "4.576628209284289",
          "max": "360.0",
          "histogram": [
           {
            "bin_start": 4.576628209284289,
            "bin_end": 40.11896538835585,
            "count": 2
           },
           {
            "bin_start": 40.11896538835585,
            "bin_end": 75.66130256742743,
            "count": 5
           },
           {
            "bin_start": 75.66130256742743,
            "bin_end": 111.203639746499,
            "count": 0
           },
           {
            "bin_start": 111.203639746499,
            "bin_end": 146.74597692557055,
            "count": 0
           },
           {
            "bin_start": 146.74597692557055,
            "bin_end": 182.28831410464213,
            "count": 0
           },
           {
            "bin_start": 182.28831410464213,
            "bin_end": 217.83065128371368,
            "count": 0
           },
           {
            "bin_start": 217.83065128371368,
            "bin_end": 253.37298846278523,
            "count": 0
           },
           {
            "bin_start": 253.37298846278523,
            "bin_end": 288.91532564185684,
            "count": 0
           },
           {
            "bin_start": 288.91532564185684,
            "bin_end": 324.4576628209284,
            "count": 0
           },
           {
            "bin_start": 324.4576628209284,
            "bin_end": 360,
            "count": 1
           }
          ]
         }
        },
        {
         "name": "weather_temperature",
         "dtype": "float64",
         "stats": {
          "unique_count": 8,
          "nan_count": 0,
          "min": "-6.0",
          "max": "311.0",
          "histogram": [
           {
            "bin_start": -6,
            "bin_end": 25.7,
            "count": 2
           },
           {
            "bin_start": 25.7,
            "bin_end": 57.4,
            "count": 1
           },
           {
            "bin_start": 57.4,
            "bin_end": 89.1,
            "count": 4
           },
           {
            "bin_start": 89.1,
            "bin_end": 120.8,
            "count": 0
           },
           {
            "bin_start": 120.8,
            "bin_end": 152.5,
            "count": 0
           },
           {
            "bin_start": 152.5,
            "bin_end": 184.2,
            "count": 0
           },
           {
            "bin_start": 184.2,
            "bin_end": 215.9,
            "count": 0
           },
           {
            "bin_start": 215.9,
            "bin_end": 247.6,
            "count": 0
           },
           {
            "bin_start": 247.6,
            "bin_end": 279.3,
            "count": 0
           },
           {
            "bin_start": 279.3,
            "bin_end": 311,
            "count": 1
           }
          ]
         }
        },
        {
         "name": "weather_wind_mph",
         "dtype": "float64",
         "stats": {
          "unique_count": 7,
          "nan_count": 0,
          "min": "0.0",
          "max": "311.0",
          "histogram": [
           {
            "bin_start": 0,
            "bin_end": 31.1,
            "count": 7
           },
           {
            "bin_start": 31.1,
            "bin_end": 62.2,
            "count": 0
           },
           {
            "bin_start": 62.2,
            "bin_end": 93.30000000000001,
            "count": 0
           },
           {
            "bin_start": 93.30000000000001,
            "bin_end": 124.4,
            "count": 0
           },
           {
            "bin_start": 124.4,
            "bin_end": 155.5,
            "count": 0
           },
           {
            "bin_start": 155.5,
            "bin_end": 186.60000000000002,
            "count": 0
           },
           {
            "bin_start": 186.60000000000002,
            "bin_end": 217.70000000000002,
            "count": 0
           },
           {
            "bin_start": 217.70000000000002,
            "bin_end": 248.8,
            "count": 0
           },
           {
            "bin_start": 248.8,
            "bin_end": 279.90000000000003,
            "count": 0
           },
           {
            "bin_start": 279.90000000000003,
            "bin_end": 311,
            "count": 1
           }
          ]
         }
        },
        {
         "name": "weather_humidity",
         "dtype": "float64",
         "stats": {
          "unique_count": 8,
          "nan_count": 0,
          "min": "19.342388973559647",
          "max": "100.0",
          "histogram": [
           {
            "bin_start": 19.342388973559647,
            "bin_end": 27.408150076203682,
            "count": 2
           },
           {
            "bin_start": 27.408150076203682,
            "bin_end": 35.473911178847715,
            "count": 0
           },
           {
            "bin_start": 35.473911178847715,
            "bin_end": 43.539672281491754,
            "count": 0
           },
           {
            "bin_start": 43.539672281491754,
            "bin_end": 51.60543338413579,
            "count": 1
           },
           {
            "bin_start": 51.60543338413579,
            "bin_end": 59.671194486779825,
            "count": 0
           },
           {
            "bin_start": 59.671194486779825,
            "bin_end": 67.73695558942386,
            "count": 2
           },
           {
            "bin_start": 67.73695558942386,
            "bin_end": 75.8027166920679,
            "count": 0
           },
           {
            "bin_start": 75.8027166920679,
            "bin_end": 83.86847779471194,
            "count": 1
           },
           {
            "bin_start": 83.86847779471194,
            "bin_end": 91.93423889735597,
            "count": 1
           },
           {
            "bin_start": 91.93423889735597,
            "bin_end": 100,
            "count": 1
           }
          ]
         }
        },
        {
         "name": "total_score",
         "dtype": "float64",
         "stats": {
          "unique_count": 8,
          "nan_count": 0,
          "min": "6.0",
          "max": "360.0",
          "histogram": [
           {
            "bin_start": 6,
            "bin_end": 41.4,
            "count": 3
           },
           {
            "bin_start": 41.4,
            "bin_end": 76.8,
            "count": 3
           },
           {
            "bin_start": 76.8,
            "bin_end": 112.19999999999999,
            "count": 1
           },
           {
            "bin_start": 112.19999999999999,
            "bin_end": 147.6,
            "count": 0
           },
           {
            "bin_start": 147.6,
            "bin_end": 183,
            "count": 0
           },
           {
            "bin_start": 183,
            "bin_end": 218.39999999999998,
            "count": 0
           },
           {
            "bin_start": 218.39999999999998,
            "bin_end": 253.79999999999998,
            "count": 0
           },
           {
            "bin_start": 253.79999999999998,
            "bin_end": 289.2,
            "count": 0
           },
           {
            "bin_start": 289.2,
            "bin_end": 324.59999999999997,
            "count": 0
           },
           {
            "bin_start": 324.59999999999997,
            "bin_end": 360,
            "count": 1
           }
          ]
         }
        },
        {
         "name": "_deepnote_index_column",
         "dtype": "object"
        }
       ],
       "rows_top": [
        {
         "schedule_season": 360,
         "score_home": 360,
         "score_away": 360,
         "spread_favorite": 360,
         "over_under_line": 360,
         "weather_temperature": 311,
         "weather_wind_mph": 311,
         "weather_humidity": 85,
         "total_score": 360,
         "_deepnote_index_column": "count"
        },
        {
         "schedule_season": 2015.0388888888888,
         "score_home": 26.819444444444443,
         "score_away": 24.880555555555556,
         "spread_favorite": -5.213888888888889,
         "over_under_line": 45.7625,
         "weather_temperature": 61.733118971061096,
         "weather_wind_mph": 4.498392282958199,
         "weather_humidity": 61.22352941176471,
         "total_score": 51.7,
         "_deepnote_index_column": "mean"
        },
        {
         "schedule_season": 3.0835422399052845,
         "score_home": 15.694086664615412,
         "score_away": 14.656119857338469,
         "spread_favorite": 3.393846042847302,
         "over_under_line": 4.576628209284289,
         "weather_temperature": 17.017339247936167,
         "weather_wind_mph": 4.568386881299632,
         "weather_humidity": 19.342388973559647,
         "total_score": 26.690091846704373,
         "_deepnote_index_column": "std"
        },
        {
         "schedule_season": 2010,
         "score_home": 0,
         "score_away": 0,
         "spread_favorite": -20,
         "over_under_line": 33,
         "weather_temperature": -6,
         "weather_wind_mph": 0,
         "weather_humidity": 23,
         "total_score": 6,
         "_deepnote_index_column": "min"
        },
        {
         "schedule_season": 2013,
         "score_home": 13,
         "score_away": 10.75,
         "spread_favorite": -7,
         "over_under_line": 42.5,
         "weather_temperature": 52,
         "weather_wind_mph": 0,
         "weather_humidity": 47,
         "total_score": 23,
         "_deepnote_index_column": "25%"
        },
        {
         "schedule_season": 2015,
         "score_home": 30,
         "score_away": 27,
         "spread_favorite": -4,
         "over_under_line": 45.5,
         "weather_temperature": 69,
         "weather_wind_mph": 4,
         "weather_humidity": 61,
         "total_score": 65,
         "_deepnote_index_column": "50%"
        },
        {
         "schedule_season": 2018,
         "score_home": 39,
         "score_away": 37,
         "spread_favorite": -3,
         "over_under_line": 48.5,
         "weather_temperature": 72,
         "weather_wind_mph": 7,
         "weather_humidity": 78,
         "total_score": 73,
         "_deepnote_index_column": "75%"
        },
        {
         "schedule_season": 2020,
         "score_home": 59,
         "score_away": 59,
         "spread_favorite": 0,
         "over_under_line": 63.5,
         "weather_temperature": 89,
         "weather_wind_mph": 23,
         "weather_humidity": 100,
         "total_score": 105,
         "_deepnote_index_column": "max"
        }
       ],
       "rows_bottom": null
      },
      "text/plain": "       schedule_season  score_home  score_away  spread_favorite  \\\ncount       360.000000  360.000000  360.000000       360.000000   \nmean       2015.038889   26.819444   24.880556        -5.213889   \nstd           3.083542   15.694087   14.656120         3.393846   \nmin        2010.000000    0.000000    0.000000       -20.000000   \n25%        2013.000000   13.000000   10.750000        -7.000000   \n50%        2015.000000   30.000000   27.000000        -4.000000   \n75%        2018.000000   39.000000   37.000000        -3.000000   \nmax        2020.000000   59.000000   59.000000         0.000000   \n\n       over_under_line  weather_temperature  weather_wind_mph  \\\ncount       360.000000           311.000000        311.000000   \nmean         45.762500            61.733119          4.498392   \nstd           4.576628            17.017339          4.568387   \nmin          33.000000            -6.000000          0.000000   \n25%          42.500000            52.000000          0.000000   \n50%          45.500000            69.000000          4.000000   \n75%          48.500000            72.000000          7.000000   \nmax          63.500000            89.000000         23.000000   \n\n       weather_humidity  total_score  \ncount         85.000000   360.000000  \nmean          61.223529    51.700000  \nstd           19.342389    26.690092  \nmin           23.000000     6.000000  \n25%           47.000000    23.000000  \n50%           61.000000    65.000000  \n75%           78.000000    73.000000  \nmax          100.000000   105.000000  ",
      "text/html": "<div>\n<style scoped>\n    .dataframe tbody tr th:only-of-type {\n        vertical-align: middle;\n    }\n\n    .dataframe tbody tr th {\n        vertical-align: top;\n    }\n\n    .dataframe thead th {\n        text-align: right;\n    }\n</style>\n<table border=\"1\" class=\"dataframe\">\n  <thead>\n    <tr style=\"text-align: right;\">\n      <th></th>\n      <th>schedule_season</th>\n      <th>score_home</th>\n      <th>score_away</th>\n      <th>spread_favorite</th>\n      <th>over_under_line</th>\n      <th>weather_temperature</th>\n      <th>weather_wind_mph</th>\n      <th>weather_humidity</th>\n      <th>total_score</th>\n    </tr>\n  </thead>\n  <tbody>\n    <tr>\n      <th>count</th>\n      <td>360.000000</td>\n      <td>360.000000</td>\n      <td>360.000000</td>\n      <td>360.000000</td>\n      <td>360.000000</td>\n      <td>311.000000</td>\n      <td>311.000000</td>\n      <td>85.000000</td>\n      <td>360.000000</td>\n    </tr>\n    <tr>\n      <th>mean</th>\n      <td>2015.038889</td>\n      <td>26.819444</td>\n      <td>24.880556</td>\n      <td>-5.213889</td>\n      <td>45.762500</td>\n      <td>61.733119</td>\n      <td>4.498392</td>\n      <td>61.223529</td>\n      <td>51.700000</td>\n    </tr>\n    <tr>\n      <th>std</th>\n      <td>3.083542</td>\n      <td>15.694087</td>\n      <td>14.656120</td>\n      <td>3.393846</td>\n      <td>4.576628</td>\n      <td>17.017339</td>\n      <td>4.568387</td>\n      <td>19.342389</td>\n      <td>26.690092</td>\n    </tr>\n    <tr>\n      <th>min</th>\n      <td>2010.000000</td>\n      <td>0.000000</td>\n      <td>0.000000</td>\n      <td>-20.000000</td>\n      <td>33.000000</td>\n      <td>-6.000000</td>\n      <td>0.000000</td>\n      <td>23.000000</td>\n      <td>6.000000</td>\n    </tr>\n    <tr>\n      <th>25%</th>\n      <td>2013.000000</td>\n      <td>13.000000</td>\n      <td>10.750000</td>\n      <td>-7.000000</td>\n      <td>42.500000</td>\n      <td>52.000000</td>\n      <td>0.000000</td>\n      <td>47.000000</td>\n      <td>23.000000</td>\n    </tr>\n    <tr>\n      <th>50%</th>\n      <td>2015.000000</td>\n      <td>30.000000</td>\n      <td>27.000000</td>\n      <td>-4.000000</td>\n      <td>45.500000</td>\n      <td>69.000000</td>\n      <td>4.000000</td>\n      <td>61.000000</td>\n      <td>65.000000</td>\n    </tr>\n    <tr>\n      <th>75%</th>\n      <td>2018.000000</td>\n      <td>39.000000</td>\n      <td>37.000000</td>\n      <td>-3.000000</td>\n      <td>48.500000</td>\n      <td>72.000000</td>\n      <td>7.000000</td>\n      <td>78.000000</td>\n      <td>73.000000</td>\n    </tr>\n    <tr>\n      <th>max</th>\n      <td>2020.000000</td>\n      <td>59.000000</td>\n      <td>59.000000</td>\n      <td>0.000000</td>\n      <td>63.500000</td>\n      <td>89.000000</td>\n      <td>23.000000</td>\n      <td>100.000000</td>\n      <td>105.000000</td>\n    </tr>\n  </tbody>\n</table>\n</div>"
     },
     "metadata": {}
    }
   ],
   "execution_count": 6
  },
  {
   "cell_type": "code",
   "metadata": {
    "tags": [],
    "cell_id": "00009-68275884-418e-4616-b863-65e7743516e0",
    "deepnote_to_be_reexecuted": false,
    "source_hash": "b53673cf",
    "execution_start": 1632261868682,
    "execution_millis": 159,
    "deepnote_cell_type": "code"
   },
   "source": "outliers_df",
   "outputs": [
    {
     "output_type": "execute_result",
     "execution_count": 7,
     "data": {
      "application/vnd.deepnote.dataframe.v2+json": {
       "row_count": 360,
       "column_count": 18,
       "columns": [
        {
         "name": "schedule_date",
         "dtype": "object",
         "stats": {
          "unique_count": 214,
          "nan_count": 0,
          "categories": [
           {
            "name": "12/15/2013",
            "count": 5
           },
           {
            "name": "10/24/2010",
            "count": 4
           },
           {
            "name": "212 others",
            "count": 351
           }
          ]
         }
        },
        {
         "name": "schedule_season",
         "dtype": "int64",
         "stats": {
          "unique_count": 11,
          "nan_count": 0,
          "min": "2010",
          "max": "2020",
          "histogram": [
           {
            "bin_start": 2010,
            "bin_end": 2011,
            "count": 35
           },
           {
            "bin_start": 2011,
            "bin_end": 2012,
            "count": 22
           },
           {
            "bin_start": 2012,
            "bin_end": 2013,
            "count": 31
           },
           {
            "bin_start": 2013,
            "bin_end": 2014,
            "count": 40
           },
           {
            "bin_start": 2014,
            "bin_end": 2015,
            "count": 35
           },
           {
            "bin_start": 2015,
            "bin_end": 2016,
            "count": 31
           },
           {
            "bin_start": 2016,
            "bin_end": 2017,
            "count": 27
           },
           {
            "bin_start": 2017,
            "bin_end": 2018,
            "count": 45
           },
           {
            "bin_start": 2018,
            "bin_end": 2019,
            "count": 37
           },
           {
            "bin_start": 2019,
            "bin_end": 2020,
            "count": 57
           }
          ]
         }
        },
        {
         "name": "schedule_week",
         "dtype": "object",
         "stats": {
          "unique_count": 20,
          "nan_count": 0,
          "categories": [
           {
            "name": "4",
            "count": 27
           },
           {
            "name": "14",
            "count": 27
           },
           {
            "name": "18 others",
            "count": 306
           }
          ]
         }
        },
        {
         "name": "schedule_playoff",
         "dtype": "bool",
         "stats": {
          "unique_count": 2,
          "nan_count": 0,
          "categories": [
           {
            "name": "False",
            "count": 342
           },
           {
            "name": "True",
            "count": 18
           }
          ]
         }
        },
        {
         "name": "team_home",
         "dtype": "object",
         "stats": {
          "unique_count": 34,
          "nan_count": 0,
          "categories": [
           {
            "name": "New Orleans Saints",
            "count": 17
           },
           {
            "name": "New England Patriots",
            "count": 15
           },
           {
            "name": "32 others",
            "count": 328
           }
          ]
         }
        },
        {
         "name": "score_home",
         "dtype": "float64",
         "stats": {
          "unique_count": 52,
          "nan_count": 0,
          "min": "0.0",
          "max": "59.0",
          "histogram": [
           {
            "bin_start": 0,
            "bin_end": 5.9,
            "count": 28
           },
           {
            "bin_start": 5.9,
            "bin_end": 11.8,
            "count": 54
           },
           {
            "bin_start": 11.8,
            "bin_end": 17.700000000000003,
            "count": 52
           },
           {
            "bin_start": 17.700000000000003,
            "bin_end": 23.6,
            "count": 20
           },
           {
            "bin_start": 23.6,
            "bin_end": 29.5,
            "count": 25
           },
           {
            "bin_start": 29.5,
            "bin_end": 35.400000000000006,
            "count": 52
           },
           {
            "bin_start": 35.400000000000006,
            "bin_end": 41.300000000000004,
            "count": 60
           },
           {
            "bin_start": 41.300000000000004,
            "bin_end": 47.2,
            "count": 33
           },
           {
            "bin_start": 47.2,
            "bin_end": 53.1,
            "count": 27
           },
           {
            "bin_start": 53.1,
            "bin_end": 59,
            "count": 9
           }
          ]
         }
        },
        {
         "name": "score_away",
         "dtype": "float64",
         "stats": {
          "unique_count": 50,
          "nan_count": 0,
          "min": "0.0",
          "max": "59.0",
          "histogram": [
           {
            "bin_start": 0,
            "bin_end": 5.9,
            "count": 30
           },
           {
            "bin_start": 5.9,
            "bin_end": 11.8,
            "count": 61
           },
           {
            "bin_start": 11.8,
            "bin_end": 17.700000000000003,
            "count": 49
           },
           {
            "bin_start": 17.700000000000003,
            "bin_end": 23.6,
            "count": 29
           },
           {
            "bin_start": 23.6,
            "bin_end": 29.5,
            "count": 27
           },
           {
            "bin_start": 29.5,
            "bin_end": 35.400000000000006,
            "count": 62
           },
           {
            "bin_start": 35.400000000000006,
            "bin_end": 41.300000000000004,
            "count": 59
           },
           {
            "bin_start": 41.300000000000004,
            "bin_end": 47.2,
            "count": 20
           },
           {
            "bin_start": 47.2,
            "bin_end": 53.1,
            "count": 18
           },
           {
            "bin_start": 53.1,
            "bin_end": 59,
            "count": 5
           }
          ]
         }
        },
        {
         "name": "team_away",
         "dtype": "object",
         "stats": {
          "unique_count": 35,
          "nan_count": 0,
          "categories": [
           {
            "name": "Carolina Panthers",
            "count": 16
           },
           {
            "name": "Green Bay Packers",
            "count": 15
           },
           {
            "name": "33 others",
            "count": 329
           }
          ]
         }
        },
        {
         "name": "team_favorite_id",
         "dtype": "object",
         "stats": {
          "unique_count": 32,
          "nan_count": 0,
          "categories": [
           {
            "name": "NE",
            "count": 23
           },
           {
            "name": "SEA",
            "count": 20
           },
           {
            "name": "30 others",
            "count": 317
           }
          ]
         }
        },
        {
         "name": "spread_favorite",
         "dtype": "float64",
         "stats": {
          "unique_count": 31,
          "nan_count": 0,
          "min": "-20.0",
          "max": "0.0",
          "histogram": [
           {
            "bin_start": -20,
            "bin_end": -18,
            "count": 1
           },
           {
            "bin_start": -18,
            "bin_end": -16,
            "count": 0
           },
           {
            "bin_start": -16,
            "bin_end": -14,
            "count": 2
           },
           {
            "bin_start": -14,
            "bin_end": -12,
            "count": 16
           },
           {
            "bin_start": -12,
            "bin_end": -10,
            "count": 14
           },
           {
            "bin_start": -10,
            "bin_end": -8,
            "count": 29
           },
           {
            "bin_start": -8,
            "bin_end": -6,
            "count": 58
           },
           {
            "bin_start": -6,
            "bin_end": -4,
            "count": 56
           },
           {
            "bin_start": -4,
            "bin_end": -2,
            "count": 125
           },
           {
            "bin_start": -2,
            "bin_end": 0,
            "count": 59
           }
          ]
         }
        },
        {
         "name": "over_under_line",
         "dtype": "float64",
         "stats": {
          "unique_count": 49,
          "nan_count": 0,
          "min": "33.0",
          "max": "63.5",
          "histogram": [
           {
            "bin_start": 33,
            "bin_end": 36.05,
            "count": 5
           },
           {
            "bin_start": 36.05,
            "bin_end": 39.1,
            "count": 16
           },
           {
            "bin_start": 39.1,
            "bin_end": 42.15,
            "count": 54
           },
           {
            "bin_start": 42.15,
            "bin_end": 45.2,
            "count": 101
           },
           {
            "bin_start": 45.2,
            "bin_end": 48.25,
            "count": 86
           },
           {
            "bin_start": 48.25,
            "bin_end": 51.3,
            "count": 60
           },
           {
            "bin_start": 51.3,
            "bin_end": 54.349999999999994,
            "count": 20
           },
           {
            "bin_start": 54.349999999999994,
            "bin_end": 57.4,
            "count": 15
           },
           {
            "bin_start": 57.4,
            "bin_end": 60.45,
            "count": 2
           },
           {
            "bin_start": 60.45,
            "bin_end": 63.5,
            "count": 1
           }
          ]
         }
        },
        {
         "name": "stadium",
         "dtype": "object",
         "stats": {
          "unique_count": 46,
          "nan_count": 0,
          "categories": [
           {
            "name": "MetLife Stadium",
            "count": 29
           },
           {
            "name": "Gillette Stadium",
            "count": 14
           },
           {
            "name": "44 others",
            "count": 317
           }
          ]
         }
        },
        {
         "name": "stadium_neutral",
         "dtype": "object",
         "stats": {
          "unique_count": 2,
          "nan_count": 0,
          "categories": [
           {
            "name": "False",
            "count": 354
           },
           {
            "name": "True",
            "count": 6
           }
          ]
         }
        },
        {
         "name": "weather_temperature",
         "dtype": "float64",
         "stats": {
          "unique_count": 69,
          "nan_count": 49,
          "min": "-6.0",
          "max": "89.0",
          "histogram": [
           {
            "bin_start": -6,
            "bin_end": 3.5,
            "count": 1
           },
           {
            "bin_start": 3.5,
            "bin_end": 13,
            "count": 3
           },
           {
            "bin_start": 13,
            "bin_end": 22.5,
            "count": 5
           },
           {
            "bin_start": 22.5,
            "bin_end": 32,
            "count": 13
           },
           {
            "bin_start": 32,
            "bin_end": 41.5,
            "count": 20
           },
           {
            "bin_start": 41.5,
            "bin_end": 51,
            "count": 29
           },
           {
            "bin_start": 51,
            "bin_end": 60.5,
            "count": 42
           },
           {
            "bin_start": 60.5,
            "bin_end": 70,
            "count": 43
           },
           {
            "bin_start": 70,
            "bin_end": 79.5,
            "count": 131
           },
           {
            "bin_start": 79.5,
            "bin_end": 89,
            "count": 24
           }
          ]
         }
        },
        {
         "name": "weather_wind_mph",
         "dtype": "float64",
         "stats": {
          "unique_count": 21,
          "nan_count": 49,
          "min": "0.0",
          "max": "23.0",
          "histogram": [
           {
            "bin_start": 0,
            "bin_end": 2.3,
            "count": 129
           },
           {
            "bin_start": 2.3,
            "bin_end": 4.6,
            "count": 43
           },
           {
            "bin_start": 4.6,
            "bin_end": 6.8999999999999995,
            "count": 41
           },
           {
            "bin_start": 6.8999999999999995,
            "bin_end": 9.2,
            "count": 63
           },
           {
            "bin_start": 9.2,
            "bin_end": 11.5,
            "count": 12
           },
           {
            "bin_start": 11.5,
            "bin_end": 13.799999999999999,
            "count": 9
           },
           {
            "bin_start": 13.799999999999999,
            "bin_end": 16.099999999999998,
            "count": 5
           },
           {
            "bin_start": 16.099999999999998,
            "bin_end": 18.4,
            "count": 6
           },
           {
            "bin_start": 18.4,
            "bin_end": 20.7,
            "count": 2
           },
           {
            "bin_start": 20.7,
            "bin_end": 23,
            "count": 1
           }
          ]
         }
        },
        {
         "name": "weather_humidity",
         "dtype": "float64",
         "stats": {
          "unique_count": 53,
          "nan_count": 275,
          "min": "23.0",
          "max": "100.0",
          "histogram": [
           {
            "bin_start": 23,
            "bin_end": 30.7,
            "count": 5
           },
           {
            "bin_start": 30.7,
            "bin_end": 38.4,
            "count": 5
           },
           {
            "bin_start": 38.4,
            "bin_end": 46.1,
            "count": 11
           },
           {
            "bin_start": 46.1,
            "bin_end": 53.8,
            "count": 13
           },
           {
            "bin_start": 53.8,
            "bin_end": 61.5,
            "count": 9
           },
           {
            "bin_start": 61.5,
            "bin_end": 69.2,
            "count": 10
           },
           {
            "bin_start": 69.2,
            "bin_end": 76.9,
            "count": 8
           },
           {
            "bin_start": 76.9,
            "bin_end": 84.6,
            "count": 11
           },
           {
            "bin_start": 84.6,
            "bin_end": 92.3,
            "count": 11
           },
           {
            "bin_start": 92.3,
            "bin_end": 100,
            "count": 2
           }
          ]
         }
        },
        {
         "name": "weather_detail",
         "dtype": "object",
         "stats": {
          "unique_count": 7,
          "nan_count": 247,
          "categories": [
           {
            "name": "DOME",
            "count": 87
           },
           {
            "name": "6 others",
            "count": 26
           },
           {
            "name": "Missing",
            "count": 247
           }
          ]
         }
        },
        {
         "name": "total_score",
         "dtype": "float64",
         "stats": {
          "unique_count": 62,
          "nan_count": 0,
          "min": "6.0",
          "max": "105.0",
          "histogram": [
           {
            "bin_start": 6,
            "bin_end": 15.9,
            "count": 21
           },
           {
            "bin_start": 15.9,
            "bin_end": 25.8,
            "count": 88
           },
           {
            "bin_start": 25.8,
            "bin_end": 35.7,
            "count": 40
           },
           {
            "bin_start": 35.7,
            "bin_end": 45.6,
            "count": 0
           },
           {
            "bin_start": 45.6,
            "bin_end": 55.5,
            "count": 1
           },
           {
            "bin_start": 55.5,
            "bin_end": 65.4,
            "count": 33
           },
           {
            "bin_start": 65.4,
            "bin_end": 75.3,
            "count": 105
           },
           {
            "bin_start": 75.3,
            "bin_end": 85.2,
            "count": 54
           },
           {
            "bin_start": 85.2,
            "bin_end": 95.10000000000001,
            "count": 15
           },
           {
            "bin_start": 95.10000000000001,
            "bin_end": 105,
            "count": 3
           }
          ]
         }
        },
        {
         "name": "_deepnote_index_column",
         "dtype": "int64"
        }
       ],
       "rows_top": [
        {
         "schedule_date": "9/9/2010",
         "schedule_season": 2010,
         "schedule_week": "1",
         "schedule_playoff": "False",
         "team_home": "New Orleans Saints",
         "score_home": 14,
         "score_away": 9,
         "team_away": "Minnesota Vikings",
         "team_favorite_id": "NO",
         "spread_favorite": -5,
         "over_under_line": 49.5,
         "stadium": "Louisiana Superdome",
         "stadium_neutral": "False",
         "weather_temperature": 72,
         "weather_wind_mph": 0,
         "weather_humidity": "nan",
         "weather_detail": "DOME",
         "total_score": 23,
         "_deepnote_index_column": 7507
        },
        {
         "schedule_date": "9/19/2010",
         "schedule_season": 2010,
         "schedule_week": "2",
         "schedule_playoff": "False",
         "team_home": "Detroit Lions",
         "score_home": 32,
         "score_away": 35,
         "team_away": "Philadelphia Eagles",
         "team_favorite_id": "PHI",
         "spread_favorite": -6.5,
         "over_under_line": 41,
         "stadium": "Ford Field",
         "stadium_neutral": "False",
         "weather_temperature": 72,
         "weather_wind_mph": 0,
         "weather_humidity": "nan",
         "weather_detail": "DOME",
         "total_score": 67,
         "_deepnote_index_column": 7529
        },
        {
         "schedule_date": "9/26/2010",
         "schedule_season": 2010,
         "schedule_week": "3",
         "schedule_playoff": "False",
         "team_home": "New England Patriots",
         "score_home": 38,
         "score_away": 30,
         "team_away": "Buffalo Bills",
         "team_favorite_id": "NE",
         "spread_favorite": -14.5,
         "over_under_line": 43,
         "stadium": "Gillette Stadium",
         "stadium_neutral": "False",
         "weather_temperature": 68,
         "weather_wind_mph": 11,
         "weather_humidity": "nan",
         "weather_detail": "nan",
         "total_score": 68,
         "_deepnote_index_column": 7548
        },
        {
         "schedule_date": "10/3/2010",
         "schedule_season": 2010,
         "schedule_week": "4",
         "schedule_playoff": "False",
         "team_home": "New York Giants",
         "score_home": 17,
         "score_away": 3,
         "team_away": "Chicago Bears",
         "team_favorite_id": "NYG",
         "spread_favorite": -3.5,
         "over_under_line": 44,
         "stadium": "MetLife Stadium",
         "stadium_neutral": "False",
         "weather_temperature": 59,
         "weather_wind_mph": 1,
         "weather_humidity": 52,
         "weather_detail": "nan",
         "total_score": 20,
         "_deepnote_index_column": 7561
        },
        {
         "schedule_date": "10/10/2010",
         "schedule_season": 2010,
         "schedule_week": "5",
         "schedule_playoff": "False",
         "team_home": "Buffalo Bills",
         "score_home": 26,
         "score_away": 36,
         "team_away": "Jacksonville Jaguars",
         "team_favorite_id": "BUF",
         "spread_favorite": -2.5,
         "over_under_line": 41.5,
         "stadium": "Ralph Wilson Stadium",
         "stadium_neutral": "False",
         "weather_temperature": 63,
         "weather_wind_mph": 1,
         "weather_humidity": 52,
         "weather_detail": "nan",
         "total_score": 62,
         "_deepnote_index_column": 7571
        },
        {
         "schedule_date": "10/24/2010",
         "schedule_season": 2010,
         "schedule_week": "7",
         "schedule_playoff": "False",
         "team_home": "Atlanta Falcons",
         "score_home": 39,
         "score_away": 32,
         "team_away": "Cincinnati Bengals",
         "team_favorite_id": "ATL",
         "spread_favorite": -3.5,
         "over_under_line": 43,
         "stadium": "Georgia Dome",
         "stadium_neutral": "False",
         "weather_temperature": 72,
         "weather_wind_mph": 0,
         "weather_humidity": "nan",
         "weather_detail": "DOME",
         "total_score": 71,
         "_deepnote_index_column": 7597
        },
        {
         "schedule_date": "10/24/2010",
         "schedule_season": 2010,
         "schedule_week": "7",
         "schedule_playoff": "False",
         "team_home": "Baltimore Ravens",
         "score_home": 37,
         "score_away": 34,
         "team_away": "Buffalo Bills",
         "team_favorite_id": "BAL",
         "spread_favorite": -12.5,
         "over_under_line": 40,
         "stadium": "M&T Bank Stadium",
         "stadium_neutral": "False",
         "weather_temperature": 72,
         "weather_wind_mph": 5,
         "weather_humidity": 52,
         "weather_detail": "nan",
         "total_score": 71,
         "_deepnote_index_column": 7598
        },
        {
         "schedule_date": "10/24/2010",
         "schedule_season": 2010,
         "schedule_week": "7",
         "schedule_playoff": "False",
         "team_home": "Denver Broncos",
         "score_home": 14,
         "score_away": 59,
         "team_away": "Oakland Raiders",
         "team_favorite_id": "DEN",
         "spread_favorite": -7,
         "over_under_line": 43,
         "stadium": "Sports Authority Field at Mile High",
         "stadium_neutral": "False",
         "weather_temperature": 63,
         "weather_wind_mph": 9,
         "weather_humidity": 23,
         "weather_detail": "nan",
         "total_score": 73,
         "_deepnote_index_column": 7601
        },
        {
         "schedule_date": "10/24/2010",
         "schedule_season": 2010,
         "schedule_week": "7",
         "schedule_playoff": "False",
         "team_home": "Kansas City Chiefs",
         "score_home": 42,
         "score_away": 20,
         "team_away": "Jacksonville Jaguars",
         "team_favorite_id": "KC",
         "spread_favorite": -9,
         "over_under_line": 39,
         "stadium": "Arrowhead Stadium",
         "stadium_neutral": "False",
         "weather_temperature": 64,
         "weather_wind_mph": 1,
         "weather_humidity": 80,
         "weather_detail": "nan",
         "total_score": 62,
         "_deepnote_index_column": 7603
        },
        {
         "schedule_date": "10/25/2010",
         "schedule_season": 2010,
         "schedule_week": "7",
         "schedule_playoff": "False",
         "team_home": "Dallas Cowboys",
         "score_home": 35,
         "score_away": 41,
         "team_away": "New York Giants",
         "team_favorite_id": "DAL",
         "spread_favorite": -3.5,
         "over_under_line": 45.5,
         "stadium": "Cowboys Stadium",
         "stadium_neutral": "False",
         "weather_temperature": 86,
         "weather_wind_mph": 2,
         "weather_humidity": "nan",
         "weather_detail": "nan",
         "total_score": 76,
         "_deepnote_index_column": 7610
        },
        {
         "schedule_date": "10/31/2010",
         "schedule_season": 2010,
         "schedule_week": "8",
         "schedule_playoff": "False",
         "team_home": "Arizona Cardinals",
         "score_home": 35,
         "score_away": 38,
         "team_away": "Tampa Bay Buccaneers",
         "team_favorite_id": "ARI",
         "spread_favorite": -3,
         "over_under_line": 38,
         "stadium": "University of Phoenix Stadium",
         "stadium_neutral": "False",
         "weather_temperature": 72,
         "weather_wind_mph": 0,
         "weather_humidity": "nan",
         "weather_detail": "DOME",
         "total_score": 73,
         "_deepnote_index_column": 7611
        },
        {
         "schedule_date": "10/31/2010",
         "schedule_season": 2010,
         "schedule_week": "8",
         "schedule_playoff": "False",
         "team_home": "Kansas City Chiefs",
         "score_home": 13,
         "score_away": 10,
         "team_away": "Buffalo Bills",
         "team_favorite_id": "KC",
         "spread_favorite": -7,
         "over_under_line": 46,
         "stadium": "Arrowhead Stadium",
         "stadium_neutral": "False",
         "weather_temperature": 51,
         "weather_wind_mph": 1,
         "weather_humidity": 60,
         "weather_detail": "nan",
         "total_score": 23,
         "_deepnote_index_column": 7615
        },
        {
         "schedule_date": "10/31/2010",
         "schedule_season": 2010,
         "schedule_week": "8",
         "schedule_playoff": "False",
         "team_home": "New York Jets",
         "score_home": 0,
         "score_away": 9,
         "team_away": "Green Bay Packers",
         "team_favorite_id": "NYJ",
         "spread_favorite": -6,
         "over_under_line": 42,
         "stadium": "MetLife Stadium",
         "stadium_neutral": "False",
         "weather_temperature": 57,
         "weather_wind_mph": 1,
         "weather_humidity": 41,
         "weather_detail": "nan",
         "total_score": 9,
         "_deepnote_index_column": 7618
        },
        {
         "schedule_date": "11/14/2010",
         "schedule_season": 2010,
         "schedule_week": "10",
         "schedule_playoff": "False",
         "team_home": "Denver Broncos",
         "score_home": 49,
         "score_away": 29,
         "team_away": "Kansas City Chiefs",
         "team_favorite_id": "KC",
         "spread_favorite": -1,
         "over_under_line": 44.5,
         "stadium": "Sports Authority Field at Mile High",
         "stadium_neutral": "False",
         "weather_temperature": 43,
         "weather_wind_mph": 6,
         "weather_humidity": 34,
         "weather_detail": "nan",
         "total_score": 78,
         "_deepnote_index_column": 7642
        },
        {
         "schedule_date": "11/15/2010",
         "schedule_season": 2010,
         "schedule_week": "10",
         "schedule_playoff": "False",
         "team_home": "Washington Redskins",
         "score_home": 28,
         "score_away": 59,
         "team_away": "Philadelphia Eagles",
         "team_favorite_id": "PHI",
         "spread_favorite": -3.5,
         "over_under_line": 43.5,
         "stadium": "FedEx Field",
         "stadium_neutral": "False",
         "weather_temperature": 52,
         "weather_wind_mph": 3,
         "weather_humidity": 67,
         "weather_detail": "nan",
         "total_score": 87,
         "_deepnote_index_column": 7650
        },
        {
         "schedule_date": "11/18/2010",
         "schedule_season": 2010,
         "schedule_week": "11",
         "schedule_playoff": "False",
         "team_home": "Miami Dolphins",
         "score_home": 0,
         "score_away": 16,
         "team_away": "Chicago Bears",
         "team_favorite_id": "MIA",
         "spread_favorite": -2,
         "over_under_line": 40,
         "stadium": "Sun Life Stadium",
         "stadium_neutral": "False",
         "weather_temperature": 80,
         "weather_wind_mph": 8,
         "weather_humidity": 77,
         "weather_detail": "nan",
         "total_score": 16,
         "_deepnote_index_column": 7651
        },
        {
         "schedule_date": "11/21/2010",
         "schedule_season": 2010,
         "schedule_week": "11",
         "schedule_playoff": "False",
         "team_home": "Cincinnati Bengals",
         "score_home": 31,
         "score_away": 49,
         "team_away": "Buffalo Bills",
         "team_favorite_id": "CIN",
         "spread_favorite": -4,
         "over_under_line": 41,
         "stadium": "Paul Brown Stadium",
         "stadium_neutral": "False",
         "weather_temperature": 65,
         "weather_wind_mph": 1,
         "weather_humidity": 56,
         "weather_detail": "nan",
         "total_score": 80,
         "_deepnote_index_column": 7653
        },
        {
         "schedule_date": "11/21/2010",
         "schedule_season": 2010,
         "schedule_week": "11",
         "schedule_playoff": "False",
         "team_home": "San Francisco 49ers",
         "score_home": 0,
         "score_away": 21,
         "team_away": "Tampa Bay Buccaneers",
         "team_favorite_id": "SF",
         "spread_favorite": -3.5,
         "over_under_line": 41.5,
         "stadium": "Candlestick Park",
         "stadium_neutral": "False",
         "weather_temperature": 54,
         "weather_wind_mph": 2,
         "weather_humidity": 65,
         "weather_detail": "nan",
         "total_score": 21,
         "_deepnote_index_column": 7663
        },
        {
         "schedule_date": "11/28/2010",
         "schedule_season": 2010,
         "schedule_week": "12",
         "schedule_playoff": "False",
         "team_home": "Denver Broncos",
         "score_home": 33,
         "score_away": 36,
         "team_away": "St. Louis Rams",
         "team_favorite_id": "DEN",
         "spread_favorite": -3,
         "over_under_line": 45,
         "stadium": "Sports Authority Field at Mile High",
         "stadium_neutral": "False",
         "weather_temperature": 45,
         "weather_wind_mph": 1,
         "weather_humidity": 23,
         "weather_detail": "nan",
         "total_score": 69,
         "_deepnote_index_column": 7675
        },
        {
         "schedule_date": "11/28/2010",
         "schedule_season": 2010,
         "schedule_week": "12",
         "schedule_playoff": "False",
         "team_home": "Houston Texans",
         "score_home": 20,
         "score_away": 0,
         "team_away": "Tennessee Titans",
         "team_favorite_id": "HOU",
         "spread_favorite": -5,
         "over_under_line": 46.5,
         "stadium": "Reliant Stadium",
         "stadium_neutral": "False",
         "weather_temperature": 62,
         "weather_wind_mph": 5,
         "weather_humidity": "nan",
         "weather_detail": "DOME (Open Roof)",
         "total_score": 20,
         "_deepnote_index_column": 7676
        },
        {
         "schedule_date": "11/28/2010",
         "schedule_season": 2010,
         "schedule_week": "12",
         "schedule_playoff": "False",
         "team_home": "Seattle Seahawks",
         "score_home": 24,
         "score_away": 42,
         "team_away": "Kansas City Chiefs",
         "team_favorite_id": "KC",
         "spread_favorite": -2,
         "over_under_line": 45,
         "stadium": "CenturyLink Field",
         "stadium_neutral": "False",
         "weather_temperature": 43,
         "weather_wind_mph": 1,
         "weather_humidity": "nan",
         "weather_detail": "nan",
         "total_score": 66,
         "_deepnote_index_column": 7680
        },
        {
         "schedule_date": "12/5/2010",
         "schedule_season": 2010,
         "schedule_week": "13",
         "schedule_playoff": "False",
         "team_home": "Indianapolis Colts",
         "score_home": 35,
         "score_away": 38,
         "team_away": "Dallas Cowboys",
         "team_favorite_id": "IND",
         "spread_favorite": -5.5,
         "over_under_line": 48,
         "stadium": "Lucas Oil Stadium",
         "stadium_neutral": "False",
         "weather_temperature": 72,
         "weather_wind_mph": 0,
         "weather_humidity": "nan",
         "weather_detail": "DOME",
         "total_score": 73,
         "_deepnote_index_column": 7689
        },
        {
         "schedule_date": "12/5/2010",
         "schedule_season": 2010,
         "schedule_week": "13",
         "schedule_playoff": "False",
         "team_home": "Kansas City Chiefs",
         "score_home": 10,
         "score_away": 6,
         "team_away": "Denver Broncos",
         "team_favorite_id": "KC",
         "spread_favorite": -8,
         "over_under_line": 48.5,
         "stadium": "Arrowhead Stadium",
         "stadium_neutral": "False",
         "weather_temperature": 26,
         "weather_wind_mph": 8,
         "weather_humidity": 55,
         "weather_detail": "nan",
         "total_score": 16,
         "_deepnote_index_column": 7690
        },
        {
         "schedule_date": "12/5/2010",
         "schedule_season": 2010,
         "schedule_week": "13",
         "schedule_playoff": "False",
         "team_home": "Miami Dolphins",
         "score_home": 10,
         "score_away": 13,
         "team_away": "Cleveland Browns",
         "team_favorite_id": "MIA",
         "spread_favorite": -6,
         "over_under_line": 43.5,
         "stadium": "Sun Life Stadium",
         "stadium_neutral": "False",
         "weather_temperature": 76,
         "weather_wind_mph": 1,
         "weather_humidity": 52,
         "weather_detail": "nan",
         "total_score": 23,
         "_deepnote_index_column": 7691
        },
        {
         "schedule_date": "12/5/2010",
         "schedule_season": 2010,
         "schedule_week": "13",
         "schedule_playoff": "False",
         "team_home": "Tennessee Titans",
         "score_home": 6,
         "score_away": 17,
         "team_away": "Jacksonville Jaguars",
         "team_favorite_id": "TEN",
         "spread_favorite": -3,
         "over_under_line": 43.5,
         "stadium": "Nissan Stadium",
         "stadium_neutral": "False",
         "weather_temperature": 35,
         "weather_wind_mph": 1,
         "weather_humidity": 70,
         "weather_detail": "nan",
         "total_score": 23,
         "_deepnote_index_column": 7697
        },
        {
         "schedule_date": "12/12/2010",
         "schedule_season": 2010,
         "schedule_week": "14",
         "schedule_playoff": "False",
         "team_home": "Detroit Lions",
         "score_home": 7,
         "score_away": 3,
         "team_away": "Green Bay Packers",
         "team_favorite_id": "GB",
         "spread_favorite": -7,
         "over_under_line": 46,
         "stadium": "Ford Field",
         "stadium_neutral": "False",
         "weather_temperature": 72,
         "weather_wind_mph": 0,
         "weather_humidity": "nan",
         "weather_detail": "DOME",
         "total_score": 10,
         "_deepnote_index_column": 7705
        },
        {
         "schedule_date": "12/12/2010",
         "schedule_season": 2010,
         "schedule_week": "14",
         "schedule_playoff": "False",
         "team_home": "Jacksonville Jaguars",
         "score_home": 38,
         "score_away": 31,
         "team_away": "Oakland Raiders",
         "team_favorite_id": "JAX",
         "spread_favorite": -3.5,
         "over_under_line": 41.5,
         "stadium": "EverBank Field",
         "stadium_neutral": "False",
         "weather_temperature": 54,
         "weather_wind_mph": 1,
         "weather_humidity": 86,
         "weather_detail": "Rain",
         "total_score": 69,
         "_deepnote_index_column": 7706
        }
       ],
       "rows_bottom": [
        {
         "schedule_date": "9/17/2020",
         "schedule_season": 2020,
         "schedule_week": "2",
         "schedule_playoff": "False",
         "team_home": "Cleveland Browns",
         "score_home": 35,
         "score_away": 30,
         "team_away": "Cincinnati Bengals",
         "team_favorite_id": "CLE",
         "spread_favorite": -6,
         "over_under_line": 43,
         "stadium": "FirstEnergy Stadium",
         "stadium_neutral": "False",
         "weather_temperature": "nan",
         "weather_wind_mph": "nan",
         "weather_humidity": "nan",
         "weather_detail": "nan",
         "total_score": 65,
         "_deepnote_index_column": 10193
        },
        {
         "schedule_date": "9/20/2020",
         "schedule_season": 2020,
         "schedule_week": "2",
         "schedule_playoff": "False",
         "team_home": "Dallas Cowboys",
         "score_home": 40,
         "score_away": 39,
         "team_away": "Atlanta Falcons",
         "team_favorite_id": "DAL",
         "spread_favorite": -3.5,
         "over_under_line": 53.5,
         "stadium": "AT&T Stadium",
         "stadium_neutral": "False",
         "weather_temperature": 72,
         "weather_wind_mph": 0,
         "weather_humidity": "nan",
         "weather_detail": "DOME",
         "total_score": 79,
         "_deepnote_index_column": 10196
        },
        {
         "schedule_date": "9/20/2020",
         "schedule_season": 2020,
         "schedule_week": "2",
         "schedule_playoff": "False",
         "team_home": "Seattle Seahawks",
         "score_home": 35,
         "score_away": 30,
         "team_away": "New England Patriots",
         "team_favorite_id": "SEA",
         "spread_favorite": -4,
         "over_under_line": 44.5,
         "stadium": "CenturyLink Field",
         "stadium_neutral": "False",
         "weather_temperature": "nan",
         "weather_wind_mph": "nan",
         "weather_humidity": "nan",
         "weather_detail": "nan",
         "total_score": 65,
         "_deepnote_index_column": 10205
        },
        {
         "schedule_date": "10/1/2020",
         "schedule_season": 2020,
         "schedule_week": "4",
         "schedule_playoff": "False",
         "team_home": "New York Jets",
         "score_home": 28,
         "score_away": 37,
         "team_away": "Denver Broncos",
         "team_favorite_id": "NYJ",
         "spread_favorite": -1.5,
         "over_under_line": 41,
         "stadium": "MetLife Stadium",
         "stadium_neutral": "False",
         "weather_temperature": "nan",
         "weather_wind_mph": "nan",
         "weather_humidity": "nan",
         "weather_detail": "nan",
         "total_score": 65,
         "_deepnote_index_column": 10225
        },
        {
         "schedule_date": "10/4/2020",
         "schedule_season": 2020,
         "schedule_week": "4",
         "schedule_playoff": "False",
         "team_home": "Dallas Cowboys",
         "score_home": 38,
         "score_away": 49,
         "team_away": "Cleveland Browns",
         "team_favorite_id": "DAL",
         "spread_favorite": -3.5,
         "over_under_line": 56,
         "stadium": "AT&T Stadium",
         "stadium_neutral": "False",
         "weather_temperature": 72,
         "weather_wind_mph": 0,
         "weather_humidity": "nan",
         "weather_detail": "DOME",
         "total_score": 87,
         "_deepnote_index_column": 10229
        },
        {
         "schedule_date": "10/4/2020",
         "schedule_season": 2020,
         "schedule_week": "4",
         "schedule_playoff": "False",
         "team_home": "Los Angeles Rams",
         "score_home": 17,
         "score_away": 9,
         "team_away": "New York Giants",
         "team_favorite_id": "LAR",
         "spread_favorite": -13,
         "over_under_line": 48.5,
         "stadium": "SoFi Stadium",
         "stadium_neutral": "False",
         "weather_temperature": "nan",
         "weather_wind_mph": "nan",
         "weather_humidity": "nan",
         "weather_detail": "nan",
         "total_score": 26,
         "_deepnote_index_column": 10233
        },
        {
         "schedule_date": "10/4/2020",
         "schedule_season": 2020,
         "schedule_week": "4",
         "schedule_playoff": "False",
         "team_home": "Tampa Bay Buccaneers",
         "score_home": 38,
         "score_away": 31,
         "team_away": "Los Angeles Chargers",
         "team_favorite_id": "TB",
         "spread_favorite": -7,
         "over_under_line": 42.5,
         "stadium": "Raymond James Stadium",
         "stadium_neutral": "False",
         "weather_temperature": "nan",
         "weather_wind_mph": "nan",
         "weather_humidity": "nan",
         "weather_detail": "nan",
         "total_score": 69,
         "_deepnote_index_column": 10236
        },
        {
         "schedule_date": "10/11/2020",
         "schedule_season": 2020,
         "schedule_week": "5",
         "schedule_playoff": "False",
         "team_home": "Baltimore Ravens",
         "score_home": 27,
         "score_away": 3,
         "team_away": "Cincinnati Bengals",
         "team_favorite_id": "BAL",
         "spread_favorite": -11,
         "over_under_line": 50.5,
         "stadium": "M&T Bank Stadium",
         "stadium_neutral": "False",
         "weather_temperature": "nan",
         "weather_wind_mph": "nan",
         "weather_humidity": "nan",
         "weather_detail": "nan",
         "total_score": 30,
         "_deepnote_index_column": 10242
        },
        {
         "schedule_date": "10/11/2020",
         "schedule_season": 2020,
         "schedule_week": "5",
         "schedule_playoff": "False",
         "team_home": "Pittsburgh Steelers",
         "score_home": 38,
         "score_away": 29,
         "team_away": "Philadelphia Eagles",
         "team_favorite_id": "PIT",
         "spread_favorite": -7,
         "over_under_line": 43.5,
         "stadium": "Heinz Field",
         "stadium_neutral": "False",
         "weather_temperature": "nan",
         "weather_wind_mph": "nan",
         "weather_humidity": "nan",
         "weather_detail": "nan",
         "total_score": 67,
         "_deepnote_index_column": 10248
        },
        {
         "schedule_date": "10/18/2020",
         "schedule_season": 2020,
         "schedule_week": "6",
         "schedule_playoff": "False",
         "team_home": "Miami Dolphins",
         "score_home": 24,
         "score_away": 0,
         "team_away": "New York Jets",
         "team_favorite_id": "MIA",
         "spread_favorite": -9,
         "over_under_line": 47,
         "stadium": "Hard Rock Stadium",
         "stadium_neutral": "False",
         "weather_temperature": "nan",
         "weather_wind_mph": "nan",
         "weather_humidity": "nan",
         "weather_detail": "nan",
         "total_score": 24,
         "_deepnote_index_column": 10257
        },
        {
         "schedule_date": "10/18/2020",
         "schedule_season": 2020,
         "schedule_week": "6",
         "schedule_playoff": "False",
         "team_home": "Tennessee Titans",
         "score_home": 42,
         "score_away": 36,
         "team_away": "Houston Texans",
         "team_favorite_id": "TEN",
         "spread_favorite": -3.5,
         "over_under_line": 53.5,
         "stadium": "Nissan Stadium",
         "stadium_neutral": "False",
         "weather_temperature": "nan",
         "weather_wind_mph": "nan",
         "weather_humidity": "nan",
         "weather_detail": "nan",
         "total_score": 78,
         "_deepnote_index_column": 10265
        },
        {
         "schedule_date": "11/1/2020",
         "schedule_season": 2020,
         "schedule_week": "8",
         "schedule_playoff": "False",
         "team_home": "Cleveland Browns",
         "score_home": 6,
         "score_away": 16,
         "team_away": "Las Vegas Raiders",
         "team_favorite_id": "CLE",
         "spread_favorite": -1.5,
         "over_under_line": 48,
         "stadium": "FirstEnergy Stadium",
         "stadium_neutral": "False",
         "weather_temperature": "nan",
         "weather_wind_mph": "nan",
         "weather_humidity": "nan",
         "weather_detail": "nan",
         "total_score": 22,
         "_deepnote_index_column": 10287
        },
        {
         "schedule_date": "11/8/2020",
         "schedule_season": 2020,
         "schedule_week": "9",
         "schedule_playoff": "False",
         "team_home": "Buffalo Bills",
         "score_home": 44,
         "score_away": 34,
         "team_away": "Seattle Seahawks",
         "team_favorite_id": "SEA",
         "spread_favorite": -3,
         "over_under_line": 55,
         "stadium": "New Era Field",
         "stadium_neutral": "False",
         "weather_temperature": "nan",
         "weather_wind_mph": "nan",
         "weather_humidity": "nan",
         "weather_detail": "nan",
         "total_score": 78,
         "_deepnote_index_column": 10299
        },
        {
         "schedule_date": "11/15/2020",
         "schedule_season": 2020,
         "schedule_week": "10",
         "schedule_playoff": "False",
         "team_home": "Cleveland Browns",
         "score_home": 10,
         "score_away": 7,
         "team_away": "Houston Texans",
         "team_favorite_id": "CLE",
         "spread_favorite": -4,
         "over_under_line": 45.5,
         "stadium": "FirstEnergy Stadium",
         "stadium_neutral": "False",
         "weather_temperature": "nan",
         "weather_wind_mph": "nan",
         "weather_humidity": "nan",
         "weather_detail": "nan",
         "total_score": 17,
         "_deepnote_index_column": 10313
        },
        {
         "schedule_date": "11/22/2020",
         "schedule_season": 2020,
         "schedule_week": "11",
         "schedule_playoff": "False",
         "team_home": "Carolina Panthers",
         "score_home": 20,
         "score_away": 0,
         "team_away": "Detroit Lions",
         "team_favorite_id": "DET",
         "spread_favorite": -1.5,
         "over_under_line": 46.5,
         "stadium": "Bank of America Stadium",
         "stadium_neutral": "False",
         "weather_temperature": "nan",
         "weather_wind_mph": "nan",
         "weather_humidity": "nan",
         "weather_detail": "nan",
         "total_score": 20,
         "_deepnote_index_column": 10326
        },
        {
         "schedule_date": "11/29/2020",
         "schedule_season": 2020,
         "schedule_week": "12",
         "schedule_playoff": "False",
         "team_home": "Green Bay Packers",
         "score_home": 41,
         "score_away": 25,
         "team_away": "Chicago Bears",
         "team_favorite_id": "GB",
         "spread_favorite": -9.5,
         "over_under_line": 44,
         "stadium": "Lambeau Field",
         "stadium_neutral": "False",
         "weather_temperature": "nan",
         "weather_wind_mph": "nan",
         "weather_humidity": "nan",
         "weather_detail": "nan",
         "total_score": 66,
         "_deepnote_index_column": 10344
        },
        {
         "schedule_date": "11/29/2020",
         "schedule_season": 2020,
         "schedule_week": "12",
         "schedule_playoff": "False",
         "team_home": "New York Jets",
         "score_home": 3,
         "score_away": 20,
         "team_away": "Miami Dolphins",
         "team_favorite_id": "MIA",
         "spread_favorite": -7,
         "over_under_line": 44.5,
         "stadium": "MetLife Stadium",
         "stadium_neutral": "False",
         "weather_temperature": "nan",
         "weather_wind_mph": "nan",
         "weather_humidity": "nan",
         "weather_detail": "nan",
         "total_score": 23,
         "_deepnote_index_column": 10350
        },
        {
         "schedule_date": "12/6/2020",
         "schedule_season": 2020,
         "schedule_week": "13",
         "schedule_playoff": "False",
         "team_home": "Tennessee Titans",
         "score_home": 35,
         "score_away": 41,
         "team_away": "Cleveland Browns",
         "team_favorite_id": "TEN",
         "spread_favorite": -3.5,
         "over_under_line": 53.5,
         "stadium": "Nissan Stadium",
         "stadium_neutral": "False",
         "weather_temperature": "nan",
         "weather_wind_mph": "nan",
         "weather_humidity": "nan",
         "weather_detail": "nan",
         "total_score": 76,
         "_deepnote_index_column": 10365
        },
        {
         "schedule_date": "12/14/2020",
         "schedule_season": 2020,
         "schedule_week": "14",
         "schedule_playoff": "False",
         "team_home": "Cleveland Browns",
         "score_home": 42,
         "score_away": 47,
         "team_away": "Baltimore Ravens",
         "team_favorite_id": "BAL",
         "spread_favorite": -3,
         "over_under_line": 45.5,
         "stadium": "FirstEnergy Stadium",
         "stadium_neutral": "False",
         "weather_temperature": "nan",
         "weather_wind_mph": "nan",
         "weather_humidity": "nan",
         "weather_detail": "nan",
         "total_score": 89,
         "_deepnote_index_column": 10384
        },
        {
         "schedule_date": "12/20/2020",
         "schedule_season": 2020,
         "schedule_week": "15",
         "schedule_playoff": "False",
         "team_home": "Dallas Cowboys",
         "score_home": 41,
         "score_away": 33,
         "team_away": "San Francisco 49ers",
         "team_favorite_id": "SF",
         "spread_favorite": -4,
         "over_under_line": 45.5,
         "stadium": "AT&T Stadium",
         "stadium_neutral": "False",
         "weather_temperature": 72,
         "weather_wind_mph": 0,
         "weather_humidity": "nan",
         "weather_detail": "DOME",
         "total_score": 74,
         "_deepnote_index_column": 10391
        },
        {
         "schedule_date": "12/25/2020",
         "schedule_season": 2020,
         "schedule_week": "16",
         "schedule_playoff": "False",
         "team_home": "New Orleans Saints",
         "score_home": 52,
         "score_away": 33,
         "team_away": "Minnesota Vikings",
         "team_favorite_id": "NO",
         "spread_favorite": -6.5,
         "over_under_line": 49.5,
         "stadium": "Mercedes-Benz Superdome",
         "stadium_neutral": "False",
         "weather_temperature": 72,
         "weather_wind_mph": 0,
         "weather_humidity": "nan",
         "weather_detail": "DOME",
         "total_score": 85,
         "_deepnote_index_column": 10401
        },
        {
         "schedule_date": "12/27/2020",
         "schedule_season": 2020,
         "schedule_week": "16",
         "schedule_playoff": "False",
         "team_home": "Houston Texans",
         "score_home": 31,
         "score_away": 37,
         "team_away": "Cincinnati Bengals",
         "team_favorite_id": "HOU",
         "spread_favorite": -7.5,
         "over_under_line": 46,
         "stadium": "NRG Stadium",
         "stadium_neutral": "False",
         "weather_temperature": 72,
         "weather_wind_mph": 0,
         "weather_humidity": "nan",
         "weather_detail": "DOME",
         "total_score": 68,
         "_deepnote_index_column": 10408
        },
        {
         "schedule_date": "12/27/2020",
         "schedule_season": 2020,
         "schedule_week": "16",
         "schedule_playoff": "False",
         "team_home": "Kansas City Chiefs",
         "score_home": 17,
         "score_away": 14,
         "team_away": "Atlanta Falcons",
         "team_favorite_id": "KC",
         "spread_favorite": -11,
         "over_under_line": 54,
         "stadium": "Arrowhead Stadium",
         "stadium_neutral": "False",
         "weather_temperature": "nan",
         "weather_wind_mph": "nan",
         "weather_humidity": "nan",
         "weather_detail": "nan",
         "total_score": 31,
         "_deepnote_index_column": 10410
        },
        {
         "schedule_date": "1/3/2021",
         "schedule_season": 2020,
         "schedule_week": "17",
         "schedule_playoff": "False",
         "team_home": "Buffalo Bills",
         "score_home": 56,
         "score_away": 26,
         "team_away": "Miami Dolphins",
         "team_favorite_id": "MIA",
         "spread_favorite": -3,
         "over_under_line": 42.5,
         "stadium": "New Era Field",
         "stadium_neutral": "False",
         "weather_temperature": "nan",
         "weather_wind_mph": "nan",
         "weather_humidity": "nan",
         "weather_detail": "nan",
         "total_score": 82,
         "_deepnote_index_column": 10417
        },
        {
         "schedule_date": "1/3/2021",
         "schedule_season": 2020,
         "schedule_week": "17",
         "schedule_playoff": "False",
         "team_home": "Houston Texans",
         "score_home": 38,
         "score_away": 41,
         "team_away": "Tennessee Titans",
         "team_favorite_id": "TEN",
         "spread_favorite": -7,
         "over_under_line": 55.5,
         "stadium": "NRG Stadium",
         "stadium_neutral": "False",
         "weather_temperature": 72,
         "weather_wind_mph": 0,
         "weather_humidity": "nan",
         "weather_detail": "DOME",
         "total_score": 79,
         "_deepnote_index_column": 10424
        },
        {
         "schedule_date": "1/10/2021",
         "schedule_season": 2020,
         "schedule_week": "Wildcard",
         "schedule_playoff": "True",
         "team_home": "Pittsburgh Steelers",
         "score_home": 37,
         "score_away": 48,
         "team_away": "Cleveland Browns",
         "team_favorite_id": "PIT",
         "spread_favorite": -5.5,
         "over_under_line": 47.5,
         "stadium": "Heinz Field",
         "stadium_neutral": "False",
         "weather_temperature": "nan",
         "weather_wind_mph": "nan",
         "weather_humidity": "nan",
         "weather_detail": "nan",
         "total_score": 85,
         "_deepnote_index_column": 10437
        },
        {
         "schedule_date": "1/10/2021",
         "schedule_season": 2020,
         "schedule_week": "Wildcard",
         "schedule_playoff": "True",
         "team_home": "Tennessee Titans",
         "score_home": 13,
         "score_away": 20,
         "team_away": "Baltimore Ravens",
         "team_favorite_id": "BAL",
         "spread_favorite": -3.5,
         "over_under_line": 53.5,
         "stadium": "Nissan Stadium",
         "stadium_neutral": "False",
         "weather_temperature": "nan",
         "weather_wind_mph": "nan",
         "weather_humidity": "nan",
         "weather_detail": "nan",
         "total_score": 33,
         "_deepnote_index_column": 10438
        },
        {
         "schedule_date": "1/16/2021",
         "schedule_season": 2020,
         "schedule_week": "Division",
         "schedule_playoff": "True",
         "team_home": "Buffalo Bills",
         "score_home": 17,
         "score_away": 3,
         "team_away": "Baltimore Ravens",
         "team_favorite_id": "BUF",
         "spread_favorite": -2.5,
         "over_under_line": 49.5,
         "stadium": "New Era Field",
         "stadium_neutral": "False",
         "weather_temperature": "nan",
         "weather_wind_mph": "nan",
         "weather_humidity": "nan",
         "weather_detail": "nan",
         "total_score": 20,
         "_deepnote_index_column": 10439
        }
       ]
      },
      "text/plain": "      schedule_date  schedule_season schedule_week  schedule_playoff  \\\n7507       9/9/2010             2010             1             False   \n7529      9/19/2010             2010             2             False   \n7548      9/26/2010             2010             3             False   \n7561      10/3/2010             2010             4             False   \n7571     10/10/2010             2010             5             False   \n...             ...              ...           ...               ...   \n10417      1/3/2021             2020            17             False   \n10424      1/3/2021             2020            17             False   \n10437     1/10/2021             2020      Wildcard              True   \n10438     1/10/2021             2020      Wildcard              True   \n10439     1/16/2021             2020      Division              True   \n\n                  team_home  score_home  score_away             team_away  \\\n7507     New Orleans Saints        14.0         9.0     Minnesota Vikings   \n7529          Detroit Lions        32.0        35.0   Philadelphia Eagles   \n7548   New England Patriots        38.0        30.0         Buffalo Bills   \n7561        New York Giants        17.0         3.0         Chicago Bears   \n7571          Buffalo Bills        26.0        36.0  Jacksonville Jaguars   \n...                     ...         ...         ...                   ...   \n10417         Buffalo Bills        56.0        26.0        Miami Dolphins   \n10424        Houston Texans        38.0        41.0      Tennessee Titans   \n10437   Pittsburgh Steelers        37.0        48.0      Cleveland Browns   \n10438      Tennessee Titans        13.0        20.0      Baltimore Ravens   \n10439         Buffalo Bills        17.0         3.0      Baltimore Ravens   \n\n      team_favorite_id  spread_favorite  over_under_line  \\\n7507                NO             -5.0             49.5   \n7529               PHI             -6.5             41.0   \n7548                NE            -14.5             43.0   \n7561               NYG             -3.5             44.0   \n7571               BUF             -2.5             41.5   \n...                ...              ...              ...   \n10417              MIA             -3.0             42.5   \n10424              TEN             -7.0             55.5   \n10437              PIT             -5.5             47.5   \n10438              BAL             -3.5             53.5   \n10439              BUF             -2.5             49.5   \n\n                    stadium stadium_neutral  weather_temperature  \\\n7507    Louisiana Superdome           False                 72.0   \n7529             Ford Field           False                 72.0   \n7548       Gillette Stadium           False                 68.0   \n7561        MetLife Stadium           False                 59.0   \n7571   Ralph Wilson Stadium           False                 63.0   \n...                     ...             ...                  ...   \n10417         New Era Field           False                  NaN   \n10424           NRG Stadium           False                 72.0   \n10437           Heinz Field           False                  NaN   \n10438        Nissan Stadium           False                  NaN   \n10439         New Era Field           False                  NaN   \n\n       weather_wind_mph  weather_humidity weather_detail  total_score  \n7507                0.0               NaN           DOME         23.0  \n7529                0.0               NaN           DOME         67.0  \n7548               11.0               NaN            NaN         68.0  \n7561                1.0              52.0            NaN         20.0  \n7571                1.0              52.0            NaN         62.0  \n...                 ...               ...            ...          ...  \n10417               NaN               NaN            NaN         82.0  \n10424               0.0               NaN           DOME         79.0  \n10437               NaN               NaN            NaN         85.0  \n10438               NaN               NaN            NaN         33.0  \n10439               NaN               NaN            NaN         20.0  \n\n[360 rows x 18 columns]",
      "text/html": "<div>\n<style scoped>\n    .dataframe tbody tr th:only-of-type {\n        vertical-align: middle;\n    }\n\n    .dataframe tbody tr th {\n        vertical-align: top;\n    }\n\n    .dataframe thead th {\n        text-align: right;\n    }\n</style>\n<table border=\"1\" class=\"dataframe\">\n  <thead>\n    <tr style=\"text-align: right;\">\n      <th></th>\n      <th>schedule_date</th>\n      <th>schedule_season</th>\n      <th>schedule_week</th>\n      <th>schedule_playoff</th>\n      <th>team_home</th>\n      <th>score_home</th>\n      <th>score_away</th>\n      <th>team_away</th>\n      <th>team_favorite_id</th>\n      <th>spread_favorite</th>\n      <th>over_under_line</th>\n      <th>stadium</th>\n      <th>stadium_neutral</th>\n      <th>weather_temperature</th>\n      <th>weather_wind_mph</th>\n      <th>weather_humidity</th>\n      <th>weather_detail</th>\n      <th>total_score</th>\n    </tr>\n  </thead>\n  <tbody>\n    <tr>\n      <th>7507</th>\n      <td>9/9/2010</td>\n      <td>2010</td>\n      <td>1</td>\n      <td>False</td>\n      <td>New Orleans Saints</td>\n      <td>14.0</td>\n      <td>9.0</td>\n      <td>Minnesota Vikings</td>\n      <td>NO</td>\n      <td>-5.0</td>\n      <td>49.5</td>\n      <td>Louisiana Superdome</td>\n      <td>False</td>\n      <td>72.0</td>\n      <td>0.0</td>\n      <td>NaN</td>\n      <td>DOME</td>\n      <td>23.0</td>\n    </tr>\n    <tr>\n      <th>7529</th>\n      <td>9/19/2010</td>\n      <td>2010</td>\n      <td>2</td>\n      <td>False</td>\n      <td>Detroit Lions</td>\n      <td>32.0</td>\n      <td>35.0</td>\n      <td>Philadelphia Eagles</td>\n      <td>PHI</td>\n      <td>-6.5</td>\n      <td>41.0</td>\n      <td>Ford Field</td>\n      <td>False</td>\n      <td>72.0</td>\n      <td>0.0</td>\n      <td>NaN</td>\n      <td>DOME</td>\n      <td>67.0</td>\n    </tr>\n    <tr>\n      <th>7548</th>\n      <td>9/26/2010</td>\n      <td>2010</td>\n      <td>3</td>\n      <td>False</td>\n      <td>New England Patriots</td>\n      <td>38.0</td>\n      <td>30.0</td>\n      <td>Buffalo Bills</td>\n      <td>NE</td>\n      <td>-14.5</td>\n      <td>43.0</td>\n      <td>Gillette Stadium</td>\n      <td>False</td>\n      <td>68.0</td>\n      <td>11.0</td>\n      <td>NaN</td>\n      <td>NaN</td>\n      <td>68.0</td>\n    </tr>\n    <tr>\n      <th>7561</th>\n      <td>10/3/2010</td>\n      <td>2010</td>\n      <td>4</td>\n      <td>False</td>\n      <td>New York Giants</td>\n      <td>17.0</td>\n      <td>3.0</td>\n      <td>Chicago Bears</td>\n      <td>NYG</td>\n      <td>-3.5</td>\n      <td>44.0</td>\n      <td>MetLife Stadium</td>\n      <td>False</td>\n      <td>59.0</td>\n      <td>1.0</td>\n      <td>52.0</td>\n      <td>NaN</td>\n      <td>20.0</td>\n    </tr>\n    <tr>\n      <th>7571</th>\n      <td>10/10/2010</td>\n      <td>2010</td>\n      <td>5</td>\n      <td>False</td>\n      <td>Buffalo Bills</td>\n      <td>26.0</td>\n      <td>36.0</td>\n      <td>Jacksonville Jaguars</td>\n      <td>BUF</td>\n      <td>-2.5</td>\n      <td>41.5</td>\n      <td>Ralph Wilson Stadium</td>\n      <td>False</td>\n      <td>63.0</td>\n      <td>1.0</td>\n      <td>52.0</td>\n      <td>NaN</td>\n      <td>62.0</td>\n    </tr>\n    <tr>\n      <th>...</th>\n      <td>...</td>\n      <td>...</td>\n      <td>...</td>\n      <td>...</td>\n      <td>...</td>\n      <td>...</td>\n      <td>...</td>\n      <td>...</td>\n      <td>...</td>\n      <td>...</td>\n      <td>...</td>\n      <td>...</td>\n      <td>...</td>\n      <td>...</td>\n      <td>...</td>\n      <td>...</td>\n      <td>...</td>\n      <td>...</td>\n    </tr>\n    <tr>\n      <th>10417</th>\n      <td>1/3/2021</td>\n      <td>2020</td>\n      <td>17</td>\n      <td>False</td>\n      <td>Buffalo Bills</td>\n      <td>56.0</td>\n      <td>26.0</td>\n      <td>Miami Dolphins</td>\n      <td>MIA</td>\n      <td>-3.0</td>\n      <td>42.5</td>\n      <td>New Era Field</td>\n      <td>False</td>\n      <td>NaN</td>\n      <td>NaN</td>\n      <td>NaN</td>\n      <td>NaN</td>\n      <td>82.0</td>\n    </tr>\n    <tr>\n      <th>10424</th>\n      <td>1/3/2021</td>\n      <td>2020</td>\n      <td>17</td>\n      <td>False</td>\n      <td>Houston Texans</td>\n      <td>38.0</td>\n      <td>41.0</td>\n      <td>Tennessee Titans</td>\n      <td>TEN</td>\n      <td>-7.0</td>\n      <td>55.5</td>\n      <td>NRG Stadium</td>\n      <td>False</td>\n      <td>72.0</td>\n      <td>0.0</td>\n      <td>NaN</td>\n      <td>DOME</td>\n      <td>79.0</td>\n    </tr>\n    <tr>\n      <th>10437</th>\n      <td>1/10/2021</td>\n      <td>2020</td>\n      <td>Wildcard</td>\n      <td>True</td>\n      <td>Pittsburgh Steelers</td>\n      <td>37.0</td>\n      <td>48.0</td>\n      <td>Cleveland Browns</td>\n      <td>PIT</td>\n      <td>-5.5</td>\n      <td>47.5</td>\n      <td>Heinz Field</td>\n      <td>False</td>\n      <td>NaN</td>\n      <td>NaN</td>\n      <td>NaN</td>\n      <td>NaN</td>\n      <td>85.0</td>\n    </tr>\n    <tr>\n      <th>10438</th>\n      <td>1/10/2021</td>\n      <td>2020</td>\n      <td>Wildcard</td>\n      <td>True</td>\n      <td>Tennessee Titans</td>\n      <td>13.0</td>\n      <td>20.0</td>\n      <td>Baltimore Ravens</td>\n      <td>BAL</td>\n      <td>-3.5</td>\n      <td>53.5</td>\n      <td>Nissan Stadium</td>\n      <td>False</td>\n      <td>NaN</td>\n      <td>NaN</td>\n      <td>NaN</td>\n      <td>NaN</td>\n      <td>33.0</td>\n    </tr>\n    <tr>\n      <th>10439</th>\n      <td>1/16/2021</td>\n      <td>2020</td>\n      <td>Division</td>\n      <td>True</td>\n      <td>Buffalo Bills</td>\n      <td>17.0</td>\n      <td>3.0</td>\n      <td>Baltimore Ravens</td>\n      <td>BUF</td>\n      <td>-2.5</td>\n      <td>49.5</td>\n      <td>New Era Field</td>\n      <td>False</td>\n      <td>NaN</td>\n      <td>NaN</td>\n      <td>NaN</td>\n      <td>NaN</td>\n      <td>20.0</td>\n    </tr>\n  </tbody>\n</table>\n<p>360 rows × 18 columns</p>\n</div>"
     },
     "metadata": {}
    }
   ],
   "execution_count": 7
  },
  {
   "cell_type": "code",
   "metadata": {
    "tags": [],
    "cell_id": "00009-1d05699b-da9a-4561-96fb-b24ba710d338",
    "deepnote_to_be_reexecuted": false,
    "source_hash": "38e22dd7",
    "execution_start": 1632261868846,
    "execution_millis": 83,
    "deepnote_cell_type": "code"
   },
   "source": "super_outliers_df.describe()",
   "outputs": [
    {
     "output_type": "execute_result",
     "execution_count": 8,
     "data": {
      "application/vnd.deepnote.dataframe.v2+json": {
       "row_count": 8,
       "column_count": 9,
       "columns": [
        {
         "name": "schedule_season",
         "dtype": "float64",
         "stats": {
          "unique_count": 8,
          "nan_count": 0,
          "min": "3.414584222538678",
          "max": "2020.0",
          "histogram": [
           {
            "bin_start": 3.414584222538678,
            "bin_end": 205.0731258002848,
            "count": 2
           },
           {
            "bin_start": 205.0731258002848,
            "bin_end": 406.7316673780309,
            "count": 0
           },
           {
            "bin_start": 406.7316673780309,
            "bin_end": 608.3902089557771,
            "count": 0
           },
           {
            "bin_start": 608.3902089557771,
            "bin_end": 810.0487505335232,
            "count": 0
           },
           {
            "bin_start": 810.0487505335232,
            "bin_end": 1011.7072921112692,
            "count": 0
           },
           {
            "bin_start": 1011.7072921112692,
            "bin_end": 1213.3658336890155,
            "count": 0
           },
           {
            "bin_start": 1213.3658336890155,
            "bin_end": 1415.0243752667616,
            "count": 0
           },
           {
            "bin_start": 1415.0243752667616,
            "bin_end": 1616.6829168445076,
            "count": 0
           },
           {
            "bin_start": 1616.6829168445076,
            "bin_end": 1818.3414584222537,
            "count": 0
           },
           {
            "bin_start": 1818.3414584222537,
            "bin_end": 2020,
            "count": 6
           }
          ]
         }
        },
        {
         "name": "score_home",
         "dtype": "float64",
         "stats": {
          "unique_count": 8,
          "nan_count": 0,
          "min": "0.0",
          "max": "74.0",
          "histogram": [
           {
            "bin_start": 0,
            "bin_end": 7.4,
            "count": 1
           },
           {
            "bin_start": 7.4,
            "bin_end": 14.8,
            "count": 0
           },
           {
            "bin_start": 14.8,
            "bin_end": 22.200000000000003,
            "count": 1
           },
           {
            "bin_start": 22.200000000000003,
            "bin_end": 29.6,
            "count": 1
           },
           {
            "bin_start": 29.6,
            "bin_end": 37,
            "count": 1
           },
           {
            "bin_start": 37,
            "bin_end": 44.400000000000006,
            "count": 1
           },
           {
            "bin_start": 44.400000000000006,
            "bin_end": 51.800000000000004,
            "count": 1
           },
           {
            "bin_start": 51.800000000000004,
            "bin_end": 59.2,
            "count": 1
           },
           {
            "bin_start": 59.2,
            "bin_end": 66.60000000000001,
            "count": 0
           },
           {
            "bin_start": 66.60000000000001,
            "bin_end": 74,
            "count": 1
           }
          ]
         }
        },
        {
         "name": "score_away",
         "dtype": "float64",
         "stats": {
          "unique_count": 8,
          "nan_count": 0,
          "min": "0.0",
          "max": "74.0",
          "histogram": [
           {
            "bin_start": 0,
            "bin_end": 7.4,
            "count": 1
           },
           {
            "bin_start": 7.4,
            "bin_end": 14.8,
            "count": 0
           },
           {
            "bin_start": 14.8,
            "bin_end": 22.200000000000003,
            "count": 1
           },
           {
            "bin_start": 22.200000000000003,
            "bin_end": 29.6,
            "count": 1
           },
           {
            "bin_start": 29.6,
            "bin_end": 37,
            "count": 2
           },
           {
            "bin_start": 37,
            "bin_end": 44.400000000000006,
            "count": 1
           },
           {
            "bin_start": 44.400000000000006,
            "bin_end": 51.800000000000004,
            "count": 0
           },
           {
            "bin_start": 51.800000000000004,
            "bin_end": 59.2,
            "count": 1
           },
           {
            "bin_start": 59.2,
            "bin_end": 66.60000000000001,
            "count": 0
           },
           {
            "bin_start": 66.60000000000001,
            "bin_end": 74,
            "count": 1
           }
          ]
         }
        },
        {
         "name": "spread_favorite",
         "dtype": "float64",
         "stats": {
          "unique_count": 8,
          "nan_count": 0,
          "min": "-15.5",
          "max": "74.0",
          "histogram": [
           {
            "bin_start": -15.5,
            "bin_end": -6.550000000000001,
            "count": 1
           },
           {
            "bin_start": -6.550000000000001,
            "bin_end": 2.3999999999999986,
            "count": 5
           },
           {
            "bin_start": 2.3999999999999986,
            "bin_end": 11.349999999999998,
            "count": 1
           },
           {
            "bin_start": 11.349999999999998,
            "bin_end": 20.299999999999997,
            "count": 0
           },
           {
            "bin_start": 20.299999999999997,
            "bin_end": 29.25,
            "count": 0
           },
           {
            "bin_start": 29.25,
            "bin_end": 38.199999999999996,
            "count": 0
           },
           {
            "bin_start": 38.199999999999996,
            "bin_end": 47.14999999999999,
            "count": 0
           },
           {
            "bin_start": 47.14999999999999,
            "bin_end": 56.099999999999994,
            "count": 0
           },
           {
            "bin_start": 56.099999999999994,
            "bin_end": 65.05,
            "count": 0
           },
           {
            "bin_start": 65.05,
            "bin_end": 74,
            "count": 1
           }
          ]
         }
        },
        {
         "name": "over_under_line",
         "dtype": "float64",
         "stats": {
          "unique_count": 8,
          "nan_count": 0,
          "min": "4.8119246315539534",
          "max": "74.0",
          "histogram": [
           {
            "bin_start": 4.8119246315539534,
            "bin_end": 11.730732168398559,
            "count": 1
           },
           {
            "bin_start": 11.730732168398559,
            "bin_end": 18.649539705243164,
            "count": 0
           },
           {
            "bin_start": 18.649539705243164,
            "bin_end": 25.56834724208777,
            "count": 0
           },
           {
            "bin_start": 25.56834724208777,
            "bin_end": 32.48715477893238,
            "count": 0
           },
           {
            "bin_start": 32.48715477893238,
            "bin_end": 39.405962315776975,
            "count": 1
           },
           {
            "bin_start": 39.405962315776975,
            "bin_end": 46.324769852621586,
            "count": 3
           },
           {
            "bin_start": 46.324769852621586,
            "bin_end": 53.243577389466196,
            "count": 1
           },
           {
            "bin_start": 53.243577389466196,
            "bin_end": 60.16238492631079,
            "count": 0
           },
           {
            "bin_start": 60.16238492631079,
            "bin_end": 67.0811924631554,
            "count": 1
           },
           {
            "bin_start": 67.0811924631554,
            "bin_end": 74,
            "count": 1
           }
          ]
         }
        },
        {
         "name": "weather_temperature",
         "dtype": "float64",
         "stats": {
          "unique_count": 8,
          "nan_count": 0,
          "min": "16.944663897976397",
          "max": "86.0",
          "histogram": [
           {
            "bin_start": 16.944663897976397,
            "bin_end": 23.85019750817876,
            "count": 2
           },
           {
            "bin_start": 23.85019750817876,
            "bin_end": 30.755731118381117,
            "count": 0
           },
           {
            "bin_start": 30.755731118381117,
            "bin_end": 37.661264728583475,
            "count": 0
           },
           {
            "bin_start": 37.661264728583475,
            "bin_end": 44.56679833878584,
            "count": 0
           },
           {
            "bin_start": 44.56679833878584,
            "bin_end": 51.4723319489882,
            "count": 0
           },
           {
            "bin_start": 51.4723319489882,
            "bin_end": 58.37786555919055,
            "count": 1
           },
           {
            "bin_start": 58.37786555919055,
            "bin_end": 65.28339916939291,
            "count": 2
           },
           {
            "bin_start": 65.28339916939291,
            "bin_end": 72.18893277959528,
            "count": 2
           },
           {
            "bin_start": 72.18893277959528,
            "bin_end": 79.09446638979765,
            "count": 0
           },
           {
            "bin_start": 79.09446638979765,
            "bin_end": 86,
            "count": 1
           }
          ]
         }
        },
        {
         "name": "weather_wind_mph",
         "dtype": "float64",
         "stats": {
          "unique_count": 7,
          "nan_count": 0,
          "min": "0.0",
          "max": "65.0",
          "histogram": [
           {
            "bin_start": 0,
            "bin_end": 6.5,
            "count": 5
           },
           {
            "bin_start": 6.5,
            "bin_end": 13,
            "count": 1
           },
           {
            "bin_start": 13,
            "bin_end": 19.5,
            "count": 1
           },
           {
            "bin_start": 19.5,
            "bin_end": 26,
            "count": 0
           },
           {
            "bin_start": 26,
            "bin_end": 32.5,
            "count": 0
           },
           {
            "bin_start": 32.5,
            "bin_end": 39,
            "count": 0
           },
           {
            "bin_start": 39,
            "bin_end": 45.5,
            "count": 0
           },
           {
            "bin_start": 45.5,
            "bin_end": 52,
            "count": 0
           },
           {
            "bin_start": 52,
            "bin_end": 58.5,
            "count": 0
           },
           {
            "bin_start": 58.5,
            "bin_end": 65,
            "count": 1
           }
          ]
         }
        },
        {
         "name": "weather_humidity",
         "dtype": "float64",
         "stats": {
          "unique_count": 8,
          "nan_count": 0,
          "min": "16.247277494215023",
          "max": "90.0",
          "histogram": [
           {
            "bin_start": 16.247277494215023,
            "bin_end": 23.62254974479352,
            "count": 2
           },
           {
            "bin_start": 23.62254974479352,
            "bin_end": 30.997821995372018,
            "count": 0
           },
           {
            "bin_start": 30.997821995372018,
            "bin_end": 38.37309424595051,
            "count": 1
           },
           {
            "bin_start": 38.37309424595051,
            "bin_end": 45.748366496529016,
            "count": 1
           },
           {
            "bin_start": 45.748366496529016,
            "bin_end": 53.123638747107506,
            "count": 2
           },
           {
            "bin_start": 53.123638747107506,
            "bin_end": 60.49891099768601,
            "count": 1
           },
           {
            "bin_start": 60.49891099768601,
            "bin_end": 67.8741832482645,
            "count": 0
           },
           {
            "bin_start": 67.8741832482645,
            "bin_end": 75.249455498843,
            "count": 0
           },
           {
            "bin_start": 75.249455498843,
            "bin_end": 82.6247277494215,
            "count": 0
           },
           {
            "bin_start": 82.6247277494215,
            "bin_end": 90,
            "count": 1
           }
          ]
         }
        },
        {
         "name": "total_score",
         "dtype": "float64",
         "stats": {
          "unique_count": 8,
          "nan_count": 0,
          "min": "6.0",
          "max": "105.0",
          "histogram": [
           {
            "bin_start": 6,
            "bin_end": 15.9,
            "count": 1
           },
           {
            "bin_start": 15.9,
            "bin_end": 25.8,
            "count": 0
           },
           {
            "bin_start": 25.8,
            "bin_end": 35.7,
            "count": 1
           },
           {
            "bin_start": 35.7,
            "bin_end": 45.6,
            "count": 0
           },
           {
            "bin_start": 45.6,
            "bin_end": 55.5,
            "count": 0
           },
           {
            "bin_start": 55.5,
            "bin_end": 65.4,
            "count": 0
           },
           {
            "bin_start": 65.4,
            "bin_end": 75.3,
            "count": 3
           },
           {
            "bin_start": 75.3,
            "bin_end": 85.2,
            "count": 2
           },
           {
            "bin_start": 85.2,
            "bin_end": 95.10000000000001,
            "count": 0
           },
           {
            "bin_start": 95.10000000000001,
            "bin_end": 105,
            "count": 1
           }
          ]
         }
        },
        {
         "name": "_deepnote_index_column",
         "dtype": "object"
        }
       ],
       "rows_top": [
        {
         "schedule_season": 74,
         "score_home": 74,
         "score_away": 74,
         "spread_favorite": 74,
         "over_under_line": 74,
         "weather_temperature": 65,
         "weather_wind_mph": 65,
         "weather_humidity": 22,
         "total_score": 74,
         "_deepnote_index_column": "count"
        },
        {
         "schedule_season": 2014.8918918918919,
         "score_home": 33.945945945945944,
         "score_away": 32.62162162162162,
         "spread_favorite": -4.912162162162162,
         "over_under_line": 45.817567567567565,
         "weather_temperature": 61.41538461538462,
         "weather_wind_mph": 3.8461538461538463,
         "weather_humidity": 52.45454545454545,
         "total_score": 66.56756756756756,
         "_deepnote_index_column": "mean"
        },
        {
         "schedule_season": 3.414584222538678,
         "score_home": 17.16630331902806,
         "score_away": 15.236674126272145,
         "spread_favorite": 2.9878270246966427,
         "over_under_line": 4.8119246315539534,
         "weather_temperature": 16.944663897976397,
         "weather_wind_mph": 4.047494476643735,
         "weather_humidity": 16.247277494215023,
         "total_score": 29.93375383508984,
         "_deepnote_index_column": "std"
        },
        {
         "schedule_season": 2010,
         "score_home": 0,
         "score_away": 0,
         "spread_favorite": -15.5,
         "over_under_line": 36,
         "weather_temperature": 18,
         "weather_wind_mph": 0,
         "weather_humidity": 32,
         "total_score": 6,
         "_deepnote_index_column": "min"
        },
        {
         "schedule_season": 2012,
         "score_home": 28.75,
         "score_away": 24.5,
         "spread_favorite": -6.5,
         "over_under_line": 42.5,
         "weather_temperature": 54,
         "weather_wind_mph": 0,
         "weather_humidity": 39.5,
         "total_score": 71.25,
         "_deepnote_index_column": "25%"
        },
        {
         "schedule_season": 2015.5,
         "score_home": 39,
         "score_away": 35.5,
         "spread_favorite": -4,
         "over_under_line": 45.5,
         "weather_temperature": 68,
         "weather_wind_mph": 3,
         "weather_humidity": 48.5,
         "total_score": 78.5,
         "_deepnote_index_column": "50%"
        },
        {
         "schedule_season": 2018,
         "score_home": 45,
         "score_away": 43,
         "spread_favorite": -3,
         "over_under_line": 48.5,
         "weather_temperature": 72,
         "weather_wind_mph": 7,
         "weather_humidity": 55.75,
         "total_score": 85,
         "_deepnote_index_column": "75%"
        },
        {
         "schedule_season": 2020,
         "score_home": 56,
         "score_away": 59,
         "spread_favorite": -1,
         "over_under_line": 63.5,
         "weather_temperature": 86,
         "weather_wind_mph": 17,
         "weather_humidity": 90,
         "total_score": 105,
         "_deepnote_index_column": "max"
        }
       ],
       "rows_bottom": null
      },
      "text/plain": "       schedule_season  score_home  score_away  spread_favorite  \\\ncount        74.000000   74.000000   74.000000        74.000000   \nmean       2014.891892   33.945946   32.621622        -4.912162   \nstd           3.414584   17.166303   15.236674         2.987827   \nmin        2010.000000    0.000000    0.000000       -15.500000   \n25%        2012.000000   28.750000   24.500000        -6.500000   \n50%        2015.500000   39.000000   35.500000        -4.000000   \n75%        2018.000000   45.000000   43.000000        -3.000000   \nmax        2020.000000   56.000000   59.000000        -1.000000   \n\n       over_under_line  weather_temperature  weather_wind_mph  \\\ncount        74.000000            65.000000         65.000000   \nmean         45.817568            61.415385          3.846154   \nstd           4.811925            16.944664          4.047494   \nmin          36.000000            18.000000          0.000000   \n25%          42.500000            54.000000          0.000000   \n50%          45.500000            68.000000          3.000000   \n75%          48.500000            72.000000          7.000000   \nmax          63.500000            86.000000         17.000000   \n\n       weather_humidity  total_score  \ncount         22.000000    74.000000  \nmean          52.454545    66.567568  \nstd           16.247277    29.933754  \nmin           32.000000     6.000000  \n25%           39.500000    71.250000  \n50%           48.500000    78.500000  \n75%           55.750000    85.000000  \nmax           90.000000   105.000000  ",
      "text/html": "<div>\n<style scoped>\n    .dataframe tbody tr th:only-of-type {\n        vertical-align: middle;\n    }\n\n    .dataframe tbody tr th {\n        vertical-align: top;\n    }\n\n    .dataframe thead th {\n        text-align: right;\n    }\n</style>\n<table border=\"1\" class=\"dataframe\">\n  <thead>\n    <tr style=\"text-align: right;\">\n      <th></th>\n      <th>schedule_season</th>\n      <th>score_home</th>\n      <th>score_away</th>\n      <th>spread_favorite</th>\n      <th>over_under_line</th>\n      <th>weather_temperature</th>\n      <th>weather_wind_mph</th>\n      <th>weather_humidity</th>\n      <th>total_score</th>\n    </tr>\n  </thead>\n  <tbody>\n    <tr>\n      <th>count</th>\n      <td>74.000000</td>\n      <td>74.000000</td>\n      <td>74.000000</td>\n      <td>74.000000</td>\n      <td>74.000000</td>\n      <td>65.000000</td>\n      <td>65.000000</td>\n      <td>22.000000</td>\n      <td>74.000000</td>\n    </tr>\n    <tr>\n      <th>mean</th>\n      <td>2014.891892</td>\n      <td>33.945946</td>\n      <td>32.621622</td>\n      <td>-4.912162</td>\n      <td>45.817568</td>\n      <td>61.415385</td>\n      <td>3.846154</td>\n      <td>52.454545</td>\n      <td>66.567568</td>\n    </tr>\n    <tr>\n      <th>std</th>\n      <td>3.414584</td>\n      <td>17.166303</td>\n      <td>15.236674</td>\n      <td>2.987827</td>\n      <td>4.811925</td>\n      <td>16.944664</td>\n      <td>4.047494</td>\n      <td>16.247277</td>\n      <td>29.933754</td>\n    </tr>\n    <tr>\n      <th>min</th>\n      <td>2010.000000</td>\n      <td>0.000000</td>\n      <td>0.000000</td>\n      <td>-15.500000</td>\n      <td>36.000000</td>\n      <td>18.000000</td>\n      <td>0.000000</td>\n      <td>32.000000</td>\n      <td>6.000000</td>\n    </tr>\n    <tr>\n      <th>25%</th>\n      <td>2012.000000</td>\n      <td>28.750000</td>\n      <td>24.500000</td>\n      <td>-6.500000</td>\n      <td>42.500000</td>\n      <td>54.000000</td>\n      <td>0.000000</td>\n      <td>39.500000</td>\n      <td>71.250000</td>\n    </tr>\n    <tr>\n      <th>50%</th>\n      <td>2015.500000</td>\n      <td>39.000000</td>\n      <td>35.500000</td>\n      <td>-4.000000</td>\n      <td>45.500000</td>\n      <td>68.000000</td>\n      <td>3.000000</td>\n      <td>48.500000</td>\n      <td>78.500000</td>\n    </tr>\n    <tr>\n      <th>75%</th>\n      <td>2018.000000</td>\n      <td>45.000000</td>\n      <td>43.000000</td>\n      <td>-3.000000</td>\n      <td>48.500000</td>\n      <td>72.000000</td>\n      <td>7.000000</td>\n      <td>55.750000</td>\n      <td>85.000000</td>\n    </tr>\n    <tr>\n      <th>max</th>\n      <td>2020.000000</td>\n      <td>56.000000</td>\n      <td>59.000000</td>\n      <td>-1.000000</td>\n      <td>63.500000</td>\n      <td>86.000000</td>\n      <td>17.000000</td>\n      <td>90.000000</td>\n      <td>105.000000</td>\n    </tr>\n  </tbody>\n</table>\n</div>"
     },
     "metadata": {}
    }
   ],
   "execution_count": 8
  },
  {
   "cell_type": "code",
   "metadata": {
    "tags": [],
    "cell_id": "00010-1050ab11-bb17-4dfb-abbd-1f147f9c3edd",
    "deepnote_to_be_reexecuted": false,
    "source_hash": "b9c39182",
    "execution_start": 1632261868938,
    "execution_millis": 254,
    "deepnote_cell_type": "code"
   },
   "source": "# next - use madden offensive / defensive ratings to see if there is any difference\n\n# Drop 2021 season as it hasn't happened yet\ndf_2017_to_2020 = global_df.drop(global_df[global_df.schedule_season == 2021].index)\ndf_2017_to_2020 = df_2017_to_2020.drop(df_2017_to_2020[df_2017_to_2020.schedule_season < 2017].index)\n\nmadden_ratings = pd.read_csv(\"madden_team_ratings.csv\")\n\ndf_with_madden = pd.merge(df_2017_to_2020, madden_ratings, how='left', left_on=['schedule_season', 'team_home'], right_on=['Year', 'Team']) \\\n    .drop(columns=['Team', 'Overall', 'Year']) \\\n    .rename(columns={'Offense': 'home_off', 'Defense' : 'home_def'})\n\ndf_with_madden = pd.merge(df_with_madden, madden_ratings, how='left', left_on=['schedule_season', 'team_away'], right_on=['Year', 'Team']) \\\n    .drop(columns=['Team', 'Overall', 'Year']) \\\n    .rename(columns={'Offense': 'away_off', 'Defense' : 'away_def'})\n\ndf_with_madden['total_score'] = df_with_madden.apply (lambda row: row.score_home + row.score_away, axis=1)\ndf_with_madden\n#df_2017_to_2020\n\n\n#df_2017_to_2020['home_off'] = pre_2021_df_with_score.apply (lambda row: row.score_home + row.score_away, axis=1)\n\n\n#combined_df = pd.merge(df_2017_to_2020, madden_ratings, how='left', left_on=['schedule_season'])\n\n",
   "outputs": [
    {
     "output_type": "execute_result",
     "execution_count": 9,
     "data": {
      "application/vnd.deepnote.dataframe.v2+json": {
       "row_count": 1070,
       "column_count": 22,
       "columns": [
        {
         "name": "schedule_date",
         "dtype": "object",
         "stats": {
          "unique_count": 225,
          "nan_count": 0,
          "categories": [
           {
            "name": "12/31/2017",
            "count": 16
           },
           {
            "name": "12/30/2018",
            "count": 16
           },
           {
            "name": "223 others",
            "count": 1038
           }
          ]
         }
        },
        {
         "name": "schedule_season",
         "dtype": "int64",
         "stats": {
          "unique_count": 4,
          "nan_count": 0,
          "min": "2017",
          "max": "2020",
          "histogram": [
           {
            "bin_start": 2017,
            "bin_end": 2017.3,
            "count": 267
           },
           {
            "bin_start": 2017.3,
            "bin_end": 2017.6,
            "count": 0
           },
           {
            "bin_start": 2017.6,
            "bin_end": 2017.9,
            "count": 0
           },
           {
            "bin_start": 2017.9,
            "bin_end": 2018.2,
            "count": 267
           },
           {
            "bin_start": 2018.2,
            "bin_end": 2018.5,
            "count": 0
           },
           {
            "bin_start": 2018.5,
            "bin_end": 2018.8,
            "count": 0
           },
           {
            "bin_start": 2018.8,
            "bin_end": 2019.1,
            "count": 267
           },
           {
            "bin_start": 2019.1,
            "bin_end": 2019.4,
            "count": 0
           },
           {
            "bin_start": 2019.4,
            "bin_end": 2019.7,
            "count": 0
           },
           {
            "bin_start": 2019.7,
            "bin_end": 2020,
            "count": 269
           }
          ]
         }
        },
        {
         "name": "schedule_week",
         "dtype": "object",
         "stats": {
          "unique_count": 21,
          "nan_count": 0,
          "categories": [
           {
            "name": "2",
            "count": 64
           },
           {
            "name": "3",
            "count": 64
           },
           {
            "name": "19 others",
            "count": 942
           }
          ]
         }
        },
        {
         "name": "schedule_playoff",
         "dtype": "bool",
         "stats": {
          "unique_count": 2,
          "nan_count": 0,
          "categories": [
           {
            "name": "False",
            "count": 1024
           },
           {
            "name": "True",
            "count": 46
           }
          ]
         }
        },
        {
         "name": "team_home",
         "dtype": "object",
         "stats": {
          "unique_count": 34,
          "nan_count": 0,
          "categories": [
           {
            "name": "Kansas City Chiefs",
            "count": 40
           },
           {
            "name": "New Orleans Saints",
            "count": 38
           },
           {
            "name": "32 others",
            "count": 992
           }
          ]
         }
        },
        {
         "name": "score_home",
         "dtype": "float64",
         "stats": {
          "unique_count": 51,
          "nan_count": 0,
          "min": "0.0",
          "max": "57.0",
          "histogram": [
           {
            "bin_start": 0,
            "bin_end": 5.7,
            "count": 31
           },
           {
            "bin_start": 5.7,
            "bin_end": 11.4,
            "count": 98
           },
           {
            "bin_start": 11.4,
            "bin_end": 17.1,
            "count": 183
           },
           {
            "bin_start": 17.1,
            "bin_end": 22.8,
            "count": 154
           },
           {
            "bin_start": 22.8,
            "bin_end": 28.5,
            "count": 276
           },
           {
            "bin_start": 28.5,
            "bin_end": 34.2,
            "count": 176
           },
           {
            "bin_start": 34.2,
            "bin_end": 39.9,
            "count": 81
           },
           {
            "bin_start": 39.9,
            "bin_end": 45.6,
            "count": 51
           },
           {
            "bin_start": 45.6,
            "bin_end": 51.300000000000004,
            "count": 12
           },
           {
            "bin_start": 51.300000000000004,
            "bin_end": 57,
            "count": 8
           }
          ]
         }
        },
        {
         "name": "score_away",
         "dtype": "float64",
         "stats": {
          "unique_count": 50,
          "nan_count": 0,
          "min": "0.0",
          "max": "59.0",
          "histogram": [
           {
            "bin_start": 0,
            "bin_end": 5.9,
            "count": 36
           },
           {
            "bin_start": 5.9,
            "bin_end": 11.8,
            "count": 119
           },
           {
            "bin_start": 11.8,
            "bin_end": 17.700000000000003,
            "count": 212
           },
           {
            "bin_start": 17.700000000000003,
            "bin_end": 23.6,
            "count": 221
           },
           {
            "bin_start": 23.6,
            "bin_end": 29.5,
            "count": 210
           },
           {
            "bin_start": 29.5,
            "bin_end": 35.400000000000006,
            "count": 165
           },
           {
            "bin_start": 35.400000000000006,
            "bin_end": 41.300000000000004,
            "count": 66
           },
           {
            "bin_start": 41.300000000000004,
            "bin_end": 47.2,
            "count": 29
           },
           {
            "bin_start": 47.2,
            "bin_end": 53.1,
            "count": 10
           },
           {
            "bin_start": 53.1,
            "bin_end": 59,
            "count": 2
           }
          ]
         }
        },
        {
         "name": "team_away",
         "dtype": "object",
         "stats": {
          "unique_count": 34,
          "nan_count": 0,
          "categories": [
           {
            "name": "Tennessee Titans",
            "count": 37
           },
           {
            "name": "Seattle Seahawks",
            "count": 35
           },
           {
            "name": "32 others",
            "count": 998
           }
          ]
         }
        },
        {
         "name": "team_favorite_id",
         "dtype": "object",
         "stats": {
          "unique_count": 33,
          "nan_count": 0,
          "categories": [
           {
            "name": "NE",
            "count": 62
           },
           {
            "name": "KC",
            "count": 60
           },
           {
            "name": "31 others",
            "count": 948
           }
          ]
         }
        },
        {
         "name": "spread_favorite",
         "dtype": "float64",
         "stats": {
          "unique_count": 37,
          "nan_count": 0,
          "min": "-21.5",
          "max": "0.0",
          "histogram": [
           {
            "bin_start": -21.5,
            "bin_end": -19.35,
            "count": 3
           },
           {
            "bin_start": -19.35,
            "bin_end": -17.2,
            "count": 1
           },
           {
            "bin_start": -17.2,
            "bin_end": -15.05,
            "count": 15
           },
           {
            "bin_start": -15.05,
            "bin_end": -12.9,
            "count": 43
           },
           {
            "bin_start": -12.9,
            "bin_end": -10.75,
            "count": 25
           },
           {
            "bin_start": -10.75,
            "bin_end": -8.600000000000001,
            "count": 89
           },
           {
            "bin_start": -8.600000000000001,
            "bin_end": -6.450000000000001,
            "count": 213
           },
           {
            "bin_start": -6.450000000000001,
            "bin_end": -4.300000000000001,
            "count": 162
           },
           {
            "bin_start": -4.300000000000001,
            "bin_end": -2.150000000000002,
            "count": 373
           },
           {
            "bin_start": -2.150000000000002,
            "bin_end": 0,
            "count": 146
           }
          ]
         }
        },
        {
         "name": "over_under_line",
         "dtype": "float64",
         "stats": {
          "unique_count": 48,
          "nan_count": 0,
          "min": "35.0",
          "max": "63.5",
          "histogram": [
           {
            "bin_start": 35,
            "bin_end": 37.85,
            "count": 25
           },
           {
            "bin_start": 37.85,
            "bin_end": 40.7,
            "count": 110
           },
           {
            "bin_start": 40.7,
            "bin_end": 43.55,
            "count": 217
           },
           {
            "bin_start": 43.55,
            "bin_end": 46.4,
            "count": 222
           },
           {
            "bin_start": 46.4,
            "bin_end": 49.25,
            "count": 261
           },
           {
            "bin_start": 49.25,
            "bin_end": 52.1,
            "count": 119
           },
           {
            "bin_start": 52.1,
            "bin_end": 54.95,
            "count": 73
           },
           {
            "bin_start": 54.95,
            "bin_end": 57.8,
            "count": 40
           },
           {
            "bin_start": 57.8,
            "bin_end": 60.650000000000006,
            "count": 1
           },
           {
            "bin_start": 60.650000000000006,
            "bin_end": 63.5,
            "count": 2
           }
          ]
         }
        },
        {
         "name": "stadium",
         "dtype": "object",
         "stats": {
          "unique_count": 42,
          "nan_count": 0,
          "categories": [
           {
            "name": "MetLife Stadium",
            "count": 64
           },
           {
            "name": "Arrowhead Stadium",
            "count": 39
           },
           {
            "name": "40 others",
            "count": 967
           }
          ]
         }
        },
        {
         "name": "stadium_neutral",
         "dtype": "object",
         "stats": {
          "unique_count": 2,
          "nan_count": 0,
          "categories": [
           {
            "name": "False",
            "count": 1053
           },
           {
            "name": "True",
            "count": 17
           }
          ]
         }
        },
        {
         "name": "weather_temperature",
         "dtype": "float64",
         "stats": {
          "unique_count": 78,
          "nan_count": 404,
          "min": "10.0",
          "max": "97.0",
          "histogram": [
           {
            "bin_start": 10,
            "bin_end": 18.7,
            "count": 6
           },
           {
            "bin_start": 18.7,
            "bin_end": 27.4,
            "count": 14
           },
           {
            "bin_start": 27.4,
            "bin_end": 36.099999999999994,
            "count": 27
           },
           {
            "bin_start": 36.099999999999994,
            "bin_end": 44.8,
            "count": 44
           },
           {
            "bin_start": 44.8,
            "bin_end": 53.5,
            "count": 69
           },
           {
            "bin_start": 53.5,
            "bin_end": 62.199999999999996,
            "count": 65
           },
           {
            "bin_start": 62.199999999999996,
            "bin_end": 70.89999999999999,
            "count": 57
           },
           {
            "bin_start": 70.89999999999999,
            "bin_end": 79.6,
            "count": 326
           },
           {
            "bin_start": 79.6,
            "bin_end": 88.3,
            "count": 47
           },
           {
            "bin_start": 88.3,
            "bin_end": 97,
            "count": 11
           }
          ]
         }
        },
        {
         "name": "weather_wind_mph",
         "dtype": "float64",
         "stats": {
          "unique_count": 23,
          "nan_count": 405,
          "min": "0.0",
          "max": "24.0",
          "histogram": [
           {
            "bin_start": 0,
            "bin_end": 2.4,
            "count": 311
           },
           {
            "bin_start": 2.4,
            "bin_end": 4.8,
            "count": 63
           },
           {
            "bin_start": 4.8,
            "bin_end": 7.199999999999999,
            "count": 119
           },
           {
            "bin_start": 7.199999999999999,
            "bin_end": 9.6,
            "count": 57
           },
           {
            "bin_start": 9.6,
            "bin_end": 12,
            "count": 38
           },
           {
            "bin_start": 12,
            "bin_end": 14.399999999999999,
            "count": 40
           },
           {
            "bin_start": 14.399999999999999,
            "bin_end": 16.8,
            "count": 24
           },
           {
            "bin_start": 16.8,
            "bin_end": 19.2,
            "count": 10
           },
           {
            "bin_start": 19.2,
            "bin_end": 21.599999999999998,
            "count": 1
           },
           {
            "bin_start": 21.599999999999998,
            "bin_end": 24,
            "count": 2
           }
          ]
         }
        },
        {
         "name": "weather_humidity",
         "dtype": "float64",
         "stats": {
          "unique_count": 1,
          "nan_count": 1069,
          "min": "78.0",
          "max": "78.0",
          "histogram": [
           {
            "bin_start": 77.5,
            "bin_end": 77.6,
            "count": 0
           },
           {
            "bin_start": 77.6,
            "bin_end": 77.7,
            "count": 0
           },
           {
            "bin_start": 77.7,
            "bin_end": 77.8,
            "count": 0
           },
           {
            "bin_start": 77.8,
            "bin_end": 77.9,
            "count": 0
           },
           {
            "bin_start": 77.9,
            "bin_end": 78,
            "count": 0
           },
           {
            "bin_start": 78,
            "bin_end": 78.1,
            "count": 1
           },
           {
            "bin_start": 78.1,
            "bin_end": 78.2,
            "count": 0
           },
           {
            "bin_start": 78.2,
            "bin_end": 78.3,
            "count": 0
           },
           {
            "bin_start": 78.3,
            "bin_end": 78.4,
            "count": 0
           },
           {
            "bin_start": 78.4,
            "bin_end": 78.5,
            "count": 0
           }
          ]
         }
        },
        {
         "name": "weather_detail",
         "dtype": "object",
         "stats": {
          "unique_count": 5,
          "nan_count": 767,
          "categories": [
           {
            "name": "DOME",
            "count": 265
           },
           {
            "name": "4 others",
            "count": 38
           },
           {
            "name": "Missing",
            "count": 767
           }
          ]
         }
        },
        {
         "name": "home_off",
         "dtype": "float64",
         "stats": {
          "unique_count": 27,
          "nan_count": 8,
          "min": "66.0",
          "max": "97.0",
          "histogram": [
           {
            "bin_start": 66,
            "bin_end": 69.1,
            "count": 33
           },
           {
            "bin_start": 69.1,
            "bin_end": 72.2,
            "count": 40
           },
           {
            "bin_start": 72.2,
            "bin_end": 75.3,
            "count": 114
           },
           {
            "bin_start": 75.3,
            "bin_end": 78.4,
            "count": 102
           },
           {
            "bin_start": 78.4,
            "bin_end": 81.5,
            "count": 245
           },
           {
            "bin_start": 81.5,
            "bin_end": 84.6,
            "count": 244
           },
           {
            "bin_start": 84.6,
            "bin_end": 87.7,
            "count": 142
           },
           {
            "bin_start": 87.7,
            "bin_end": 90.8,
            "count": 86
           },
           {
            "bin_start": 90.8,
            "bin_end": 93.9,
            "count": 38
           },
           {
            "bin_start": 93.9,
            "bin_end": 97,
            "count": 18
           }
          ]
         }
        },
        {
         "name": "home_def",
         "dtype": "float64",
         "stats": {
          "unique_count": 24,
          "nan_count": 8,
          "min": "69.0",
          "max": "93.0",
          "histogram": [
           {
            "bin_start": 69,
            "bin_end": 71.4,
            "count": 32
           },
           {
            "bin_start": 71.4,
            "bin_end": 73.8,
            "count": 40
           },
           {
            "bin_start": 73.8,
            "bin_end": 76.2,
            "count": 129
           },
           {
            "bin_start": 76.2,
            "bin_end": 78.6,
            "count": 109
           },
           {
            "bin_start": 78.6,
            "bin_end": 81,
            "count": 133
           },
           {
            "bin_start": 81,
            "bin_end": 83.4,
            "count": 230
           },
           {
            "bin_start": 83.4,
            "bin_end": 85.8,
            "count": 130
           },
           {
            "bin_start": 85.8,
            "bin_end": 88.2,
            "count": 149
           },
           {
            "bin_start": 88.2,
            "bin_end": 90.6,
            "count": 59
           },
           {
            "bin_start": 90.6,
            "bin_end": 93,
            "count": 51
           }
          ]
         }
        },
        {
         "name": "away_off",
         "dtype": "float64",
         "stats": {
          "unique_count": 27,
          "nan_count": 8,
          "min": "66.0",
          "max": "97.0",
          "histogram": [
           {
            "bin_start": 66,
            "bin_end": 69.1,
            "count": 32
           },
           {
            "bin_start": 69.1,
            "bin_end": 72.2,
            "count": 40
           },
           {
            "bin_start": 72.2,
            "bin_end": 75.3,
            "count": 115
           },
           {
            "bin_start": 75.3,
            "bin_end": 78.4,
            "count": 98
           },
           {
            "bin_start": 78.4,
            "bin_end": 81.5,
            "count": 247
           },
           {
            "bin_start": 81.5,
            "bin_end": 84.6,
            "count": 246
           },
           {
            "bin_start": 84.6,
            "bin_end": 87.7,
            "count": 145
           },
           {
            "bin_start": 87.7,
            "bin_end": 90.8,
            "count": 86
           },
           {
            "bin_start": 90.8,
            "bin_end": 93.9,
            "count": 35
           },
           {
            "bin_start": 93.9,
            "bin_end": 97,
            "count": 18
           }
          ]
         }
        },
        {
         "name": "away_def",
         "dtype": "float64",
         "stats": {
          "unique_count": 24,
          "nan_count": 8,
          "min": "69.0",
          "max": "93.0",
          "histogram": [
           {
            "bin_start": 69,
            "bin_end": 71.4,
            "count": 33
           },
           {
            "bin_start": 71.4,
            "bin_end": 73.8,
            "count": 40
           },
           {
            "bin_start": 73.8,
            "bin_end": 76.2,
            "count": 133
           },
           {
            "bin_start": 76.2,
            "bin_end": 78.6,
            "count": 111
           },
           {
            "bin_start": 78.6,
            "bin_end": 81,
            "count": 138
           },
           {
            "bin_start": 81,
            "bin_end": 83.4,
            "count": 230
           },
           {
            "bin_start": 83.4,
            "bin_end": 85.8,
            "count": 128
           },
           {
            "bin_start": 85.8,
            "bin_end": 88.2,
            "count": 141
           },
           {
            "bin_start": 88.2,
            "bin_end": 90.6,
            "count": 60
           },
           {
            "bin_start": 90.6,
            "bin_end": 93,
            "count": 48
           }
          ]
         }
        },
        {
         "name": "total_score",
         "dtype": "float64",
         "stats": {
          "unique_count": 78,
          "nan_count": 0,
          "min": "6.0",
          "max": "105.0",
          "histogram": [
           {
            "bin_start": 6,
            "bin_end": 15.9,
            "count": 7
           },
           {
            "bin_start": 15.9,
            "bin_end": 25.8,
            "count": 59
           },
           {
            "bin_start": 25.8,
            "bin_end": 35.7,
            "count": 174
           },
           {
            "bin_start": 35.7,
            "bin_end": 45.6,
            "count": 294
           },
           {
            "bin_start": 45.6,
            "bin_end": 55.5,
            "count": 276
           },
           {
            "bin_start": 55.5,
            "bin_end": 65.4,
            "count": 161
           },
           {
            "bin_start": 65.4,
            "bin_end": 75.3,
            "count": 64
           },
           {
            "bin_start": 75.3,
            "bin_end": 85.2,
            "count": 26
           },
           {
            "bin_start": 85.2,
            "bin_end": 95.10000000000001,
            "count": 8
           },
           {
            "bin_start": 95.10000000000001,
            "bin_end": 105,
            "count": 1
           }
          ]
         }
        },
        {
         "name": "_deepnote_index_column",
         "dtype": "int64"
        }
       ],
       "rows_top": [
        {
         "schedule_date": "9/7/2017",
         "schedule_season": 2017,
         "schedule_week": "1",
         "schedule_playoff": "False",
         "team_home": "New England Patriots",
         "score_home": 27,
         "score_away": 42,
         "team_away": "Kansas City Chiefs",
         "team_favorite_id": "NE",
         "spread_favorite": -9,
         "over_under_line": 48.5,
         "stadium": "Gillette Stadium",
         "stadium_neutral": "False",
         "weather_temperature": 63,
         "weather_wind_mph": 7,
         "weather_humidity": "nan",
         "weather_detail": "nan",
         "home_off": 92,
         "home_def": 88,
         "away_off": 82,
         "away_def": 91,
         "total_score": 69,
         "_deepnote_index_column": 0
        },
        {
         "schedule_date": "9/10/2017",
         "schedule_season": 2017,
         "schedule_week": "1",
         "schedule_playoff": "False",
         "team_home": "Buffalo Bills",
         "score_home": 21,
         "score_away": 12,
         "team_away": "New York Jets",
         "team_favorite_id": "BUF",
         "spread_favorite": -9.5,
         "over_under_line": 40,
         "stadium": "New Era Field",
         "stadium_neutral": "False",
         "weather_temperature": 61,
         "weather_wind_mph": 5,
         "weather_humidity": "nan",
         "weather_detail": "nan",
         "home_off": 80,
         "home_def": 80,
         "away_off": 73,
         "away_def": 85,
         "total_score": 33,
         "_deepnote_index_column": 1
        },
        {
         "schedule_date": "9/10/2017",
         "schedule_season": 2017,
         "schedule_week": "1",
         "schedule_playoff": "False",
         "team_home": "Chicago Bears",
         "score_home": 17,
         "score_away": 23,
         "team_away": "Atlanta Falcons",
         "team_favorite_id": "ATL",
         "spread_favorite": -7,
         "over_under_line": 49.5,
         "stadium": "Soldier Field",
         "stadium_neutral": "False",
         "weather_temperature": 66,
         "weather_wind_mph": 9,
         "weather_humidity": "nan",
         "weather_detail": "nan",
         "home_off": 78,
         "home_def": 82,
         "away_off": 89,
         "away_def": 80,
         "total_score": 40,
         "_deepnote_index_column": 2
        },
        {
         "schedule_date": "9/10/2017",
         "schedule_season": 2017,
         "schedule_week": "1",
         "schedule_playoff": "False",
         "team_home": "Cincinnati Bengals",
         "score_home": 0,
         "score_away": 20,
         "team_away": "Baltimore Ravens",
         "team_favorite_id": "CIN",
         "spread_favorite": -3,
         "over_under_line": 42.5,
         "stadium": "Paul Brown Stadium",
         "stadium_neutral": "False",
         "weather_temperature": 71,
         "weather_wind_mph": 8,
         "weather_humidity": "nan",
         "weather_detail": "nan",
         "home_off": 79,
         "home_def": 80,
         "away_off": 80,
         "away_def": 85,
         "total_score": 20,
         "_deepnote_index_column": 3
        },
        {
         "schedule_date": "9/10/2017",
         "schedule_season": 2017,
         "schedule_week": "1",
         "schedule_playoff": "False",
         "team_home": "Cleveland Browns",
         "score_home": 18,
         "score_away": 21,
         "team_away": "Pittsburgh Steelers",
         "team_favorite_id": "PIT",
         "spread_favorite": -9,
         "over_under_line": 47,
         "stadium": "FirstEnergy Stadium",
         "stadium_neutral": "False",
         "weather_temperature": 67,
         "weather_wind_mph": 9,
         "weather_humidity": "nan",
         "weather_detail": "nan",
         "home_off": 76,
         "home_def": 78,
         "away_off": 89,
         "away_def": 84,
         "total_score": 39,
         "_deepnote_index_column": 4
        },
        {
         "schedule_date": "9/10/2017",
         "schedule_season": 2017,
         "schedule_week": "1",
         "schedule_playoff": "False",
         "team_home": "Dallas Cowboys",
         "score_home": 19,
         "score_away": 3,
         "team_away": "New York Giants",
         "team_favorite_id": "DAL",
         "spread_favorite": -3.5,
         "over_under_line": 47.5,
         "stadium": "AT&T Stadium",
         "stadium_neutral": "False",
         "weather_temperature": 72,
         "weather_wind_mph": 0,
         "weather_humidity": "nan",
         "weather_detail": "DOME",
         "home_off": 88,
         "home_def": 83,
         "away_off": 85,
         "away_def": 88,
         "total_score": 22,
         "_deepnote_index_column": 5
        },
        {
         "schedule_date": "9/10/2017",
         "schedule_season": 2017,
         "schedule_week": "1",
         "schedule_playoff": "False",
         "team_home": "Detroit Lions",
         "score_home": 35,
         "score_away": 23,
         "team_away": "Arizona Cardinals",
         "team_favorite_id": "ARI",
         "spread_favorite": -2,
         "over_under_line": 48,
         "stadium": "Ford Field",
         "stadium_neutral": "False",
         "weather_temperature": 72,
         "weather_wind_mph": 0,
         "weather_humidity": "nan",
         "weather_detail": "DOME",
         "home_off": 84,
         "home_def": 79,
         "away_off": 83,
         "away_def": 87,
         "total_score": 58,
         "_deepnote_index_column": 6
        },
        {
         "schedule_date": "9/10/2017",
         "schedule_season": 2017,
         "schedule_week": "1",
         "schedule_playoff": "False",
         "team_home": "Green Bay Packers",
         "score_home": 17,
         "score_away": 9,
         "team_away": "Seattle Seahawks",
         "team_favorite_id": "GB",
         "spread_favorite": -3,
         "over_under_line": 50.5,
         "stadium": "Lambeau Field",
         "stadium_neutral": "False",
         "weather_temperature": 69,
         "weather_wind_mph": 8,
         "weather_humidity": "nan",
         "weather_detail": "nan",
         "home_off": 90,
         "home_def": 81,
         "away_off": 85,
         "away_def": 89,
         "total_score": 26,
         "_deepnote_index_column": 7
        },
        {
         "schedule_date": "9/10/2017",
         "schedule_season": 2017,
         "schedule_week": "1",
         "schedule_playoff": "False",
         "team_home": "Houston Texans",
         "score_home": 7,
         "score_away": 29,
         "team_away": "Jacksonville Jaguars",
         "team_favorite_id": "HOU",
         "spread_favorite": -5.5,
         "over_under_line": 39.5,
         "stadium": "NRG Stadium",
         "stadium_neutral": "False",
         "weather_temperature": 82,
         "weather_wind_mph": 9,
         "weather_humidity": "nan",
         "weather_detail": "DOME (Open Roof)",
         "home_off": 77,
         "home_def": 90,
         "away_off": 79,
         "away_def": 84,
         "total_score": 36,
         "_deepnote_index_column": 8
        },
        {
         "schedule_date": "9/10/2017",
         "schedule_season": 2017,
         "schedule_week": "1",
         "schedule_playoff": "False",
         "team_home": "Los Angeles Rams",
         "score_home": 46,
         "score_away": 9,
         "team_away": "Indianapolis Colts",
         "team_favorite_id": "IND",
         "spread_favorite": -1.5,
         "over_under_line": 41.5,
         "stadium": "Los Angeles Memorial Coliseum",
         "stadium_neutral": "False",
         "weather_temperature": 82,
         "weather_wind_mph": 6,
         "weather_humidity": "nan",
         "weather_detail": "nan",
         "home_off": 74,
         "home_def": 86,
         "away_off": 81,
         "away_def": 71,
         "total_score": 55,
         "_deepnote_index_column": 9
        },
        {
         "schedule_date": "9/10/2017",
         "schedule_season": 2017,
         "schedule_week": "1",
         "schedule_playoff": "False",
         "team_home": "San Francisco 49ers",
         "score_home": 3,
         "score_away": 23,
         "team_away": "Carolina Panthers",
         "team_favorite_id": "CAR",
         "spread_favorite": -5.5,
         "over_under_line": 48,
         "stadium": "Levi's Stadium",
         "stadium_neutral": "False",
         "weather_temperature": 89,
         "weather_wind_mph": 4,
         "weather_humidity": "nan",
         "weather_detail": "nan",
         "home_off": 75,
         "home_def": 76,
         "away_off": 84,
         "away_def": 78,
         "total_score": 26,
         "_deepnote_index_column": 10
        },
        {
         "schedule_date": "9/10/2017",
         "schedule_season": 2017,
         "schedule_week": "1",
         "schedule_playoff": "False",
         "team_home": "Tennessee Titans",
         "score_home": 16,
         "score_away": 26,
         "team_away": "Oakland Raiders",
         "team_favorite_id": "TEN",
         "spread_favorite": -2,
         "over_under_line": 50.5,
         "stadium": "LP Stadium",
         "stadium_neutral": "False",
         "weather_temperature": 72,
         "weather_wind_mph": 6,
         "weather_humidity": "nan",
         "weather_detail": "nan",
         "home_off": 86,
         "home_def": 79,
         "away_off": 86,
         "away_def": 79,
         "total_score": 42,
         "_deepnote_index_column": 11
        },
        {
         "schedule_date": "9/10/2017",
         "schedule_season": 2017,
         "schedule_week": "1",
         "schedule_playoff": "False",
         "team_home": "Washington Redskins",
         "score_home": 17,
         "score_away": 30,
         "team_away": "Philadelphia Eagles",
         "team_favorite_id": "PHI",
         "spread_favorite": -1,
         "over_under_line": 47.5,
         "stadium": "FedEx Field",
         "stadium_neutral": "False",
         "weather_temperature": 68,
         "weather_wind_mph": 7,
         "weather_humidity": "nan",
         "weather_detail": "nan",
         "home_off": 81,
         "home_def": 78,
         "away_off": 82,
         "away_def": 86,
         "total_score": 47,
         "_deepnote_index_column": 12
        },
        {
         "schedule_date": "9/11/2017",
         "schedule_season": 2017,
         "schedule_week": "1",
         "schedule_playoff": "False",
         "team_home": "Denver Broncos",
         "score_home": 24,
         "score_away": 21,
         "team_away": "Los Angeles Chargers",
         "team_favorite_id": "DEN",
         "spread_favorite": -3.5,
         "over_under_line": 43.5,
         "stadium": "Sports Authority Field at Mile High",
         "stadium_neutral": "False",
         "weather_temperature": 78,
         "weather_wind_mph": 6,
         "weather_humidity": "nan",
         "weather_detail": "Rain",
         "home_off": 81,
         "home_def": 87,
         "away_off": 80,
         "away_def": 82,
         "total_score": 45,
         "_deepnote_index_column": 13
        },
        {
         "schedule_date": "9/11/2017",
         "schedule_season": 2017,
         "schedule_week": "1",
         "schedule_playoff": "False",
         "team_home": "Minnesota Vikings",
         "score_home": 29,
         "score_away": 19,
         "team_away": "New Orleans Saints",
         "team_favorite_id": "MIN",
         "spread_favorite": -3.5,
         "over_under_line": 48,
         "stadium": "U.S. Bank Stadium",
         "stadium_neutral": "False",
         "weather_temperature": 72,
         "weather_wind_mph": 0,
         "weather_humidity": "nan",
         "weather_detail": "DOME",
         "home_off": 79,
         "home_def": 89,
         "away_off": 87,
         "away_def": 77,
         "total_score": 48,
         "_deepnote_index_column": 14
        },
        {
         "schedule_date": "9/14/2017",
         "schedule_season": 2017,
         "schedule_week": "2",
         "schedule_playoff": "False",
         "team_home": "Cincinnati Bengals",
         "score_home": 9,
         "score_away": 13,
         "team_away": "Houston Texans",
         "team_favorite_id": "CIN",
         "spread_favorite": -6.5,
         "over_under_line": 38,
         "stadium": "Paul Brown Stadium",
         "stadium_neutral": "False",
         "weather_temperature": 67,
         "weather_wind_mph": 0,
         "weather_humidity": "nan",
         "weather_detail": "nan",
         "home_off": 79,
         "home_def": 80,
         "away_off": 77,
         "away_def": 90,
         "total_score": 22,
         "_deepnote_index_column": 15
        },
        {
         "schedule_date": "9/17/2017",
         "schedule_season": 2017,
         "schedule_week": "2",
         "schedule_playoff": "False",
         "team_home": "Atlanta Falcons",
         "score_home": 34,
         "score_away": 23,
         "team_away": "Green Bay Packers",
         "team_favorite_id": "ATL",
         "spread_favorite": -2.5,
         "over_under_line": 41,
         "stadium": "Georgia Dome",
         "stadium_neutral": "False",
         "weather_temperature": 72,
         "weather_wind_mph": 0,
         "weather_humidity": "nan",
         "weather_detail": "DOME",
         "home_off": 89,
         "home_def": 80,
         "away_off": 90,
         "away_def": 81,
         "total_score": 57,
         "_deepnote_index_column": 16
        },
        {
         "schedule_date": "9/17/2017",
         "schedule_season": 2017,
         "schedule_week": "2",
         "schedule_playoff": "False",
         "team_home": "Baltimore Ravens",
         "score_home": 24,
         "score_away": 10,
         "team_away": "Cleveland Browns",
         "team_favorite_id": "BAL",
         "spread_favorite": -7.5,
         "over_under_line": 40,
         "stadium": "M&T Bank Stadium",
         "stadium_neutral": "False",
         "weather_temperature": 78,
         "weather_wind_mph": 2,
         "weather_humidity": "nan",
         "weather_detail": "nan",
         "home_off": 80,
         "home_def": 85,
         "away_off": 76,
         "away_def": 78,
         "total_score": 34,
         "_deepnote_index_column": 17
        },
        {
         "schedule_date": "9/17/2017",
         "schedule_season": 2017,
         "schedule_week": "2",
         "schedule_playoff": "False",
         "team_home": "Carolina Panthers",
         "score_home": 9,
         "score_away": 3,
         "team_away": "Buffalo Bills",
         "team_favorite_id": "CAR",
         "spread_favorite": -7,
         "over_under_line": 42.5,
         "stadium": "Bank of America Stadium",
         "stadium_neutral": "False",
         "weather_temperature": 81,
         "weather_wind_mph": 4,
         "weather_humidity": "nan",
         "weather_detail": "nan",
         "home_off": 84,
         "home_def": 78,
         "away_off": 80,
         "away_def": 80,
         "total_score": 12,
         "_deepnote_index_column": 18
        },
        {
         "schedule_date": "9/17/2017",
         "schedule_season": 2017,
         "schedule_week": "2",
         "schedule_playoff": "False",
         "team_home": "Denver Broncos",
         "score_home": 42,
         "score_away": 17,
         "team_away": "Dallas Cowboys",
         "team_favorite_id": "DAL",
         "spread_favorite": -2,
         "over_under_line": 42,
         "stadium": "Sports Authority Field at Mile High",
         "stadium_neutral": "False",
         "weather_temperature": 75,
         "weather_wind_mph": 4,
         "weather_humidity": "nan",
         "weather_detail": "nan",
         "home_off": 81,
         "home_def": 87,
         "away_off": 88,
         "away_def": 83,
         "total_score": 59,
         "_deepnote_index_column": 19
        },
        {
         "schedule_date": "9/17/2017",
         "schedule_season": 2017,
         "schedule_week": "2",
         "schedule_playoff": "False",
         "team_home": "Indianapolis Colts",
         "score_home": 13,
         "score_away": 16,
         "team_away": "Arizona Cardinals",
         "team_favorite_id": "ARI",
         "spread_favorite": -7.5,
         "over_under_line": 44.5,
         "stadium": "Lucas Oil Stadium",
         "stadium_neutral": "False",
         "weather_temperature": 72,
         "weather_wind_mph": 0,
         "weather_humidity": "nan",
         "weather_detail": "DOME",
         "home_off": 81,
         "home_def": 71,
         "away_off": 83,
         "away_def": 87,
         "total_score": 29,
         "_deepnote_index_column": 20
        },
        {
         "schedule_date": "9/17/2017",
         "schedule_season": 2017,
         "schedule_week": "2",
         "schedule_playoff": "False",
         "team_home": "Jacksonville Jaguars",
         "score_home": 16,
         "score_away": 37,
         "team_away": "Tennessee Titans",
         "team_favorite_id": "TEN",
         "spread_favorite": -1.5,
         "over_under_line": 43.5,
         "stadium": "EverBank Field",
         "stadium_neutral": "False",
         "weather_temperature": 86,
         "weather_wind_mph": 9,
         "weather_humidity": "nan",
         "weather_detail": "nan",
         "home_off": 79,
         "home_def": 84,
         "away_off": 86,
         "away_def": 79,
         "total_score": 53,
         "_deepnote_index_column": 21
        }
       ],
       "rows_bottom": [
        {
         "schedule_date": "1/3/2021",
         "schedule_season": 2020,
         "schedule_week": "17",
         "schedule_playoff": "False",
         "team_home": "Detroit Lions",
         "score_home": 35,
         "score_away": 37,
         "team_away": "Minnesota Vikings",
         "team_favorite_id": "MIN",
         "spread_favorite": -3,
         "over_under_line": 53.5,
         "stadium": "Ford Field",
         "stadium_neutral": "False",
         "weather_temperature": 72,
         "weather_wind_mph": 0,
         "weather_humidity": "nan",
         "weather_detail": "DOME",
         "home_off": 76,
         "home_def": 78,
         "away_off": 80,
         "away_def": 81,
         "total_score": 72,
         "_deepnote_index_column": 1047
        },
        {
         "schedule_date": "1/3/2021",
         "schedule_season": 2020,
         "schedule_week": "17",
         "schedule_playoff": "False",
         "team_home": "Houston Texans",
         "score_home": 38,
         "score_away": 41,
         "team_away": "Tennessee Titans",
         "team_favorite_id": "TEN",
         "spread_favorite": -7,
         "over_under_line": 55.5,
         "stadium": "NRG Stadium",
         "stadium_neutral": "False",
         "weather_temperature": 72,
         "weather_wind_mph": 0,
         "weather_humidity": "nan",
         "weather_detail": "DOME",
         "home_off": 78,
         "home_def": 79,
         "away_off": 77,
         "away_def": 81,
         "total_score": 79,
         "_deepnote_index_column": 1048
        },
        {
         "schedule_date": "1/3/2021",
         "schedule_season": 2020,
         "schedule_week": "17",
         "schedule_playoff": "False",
         "team_home": "Indianapolis Colts",
         "score_home": 28,
         "score_away": 14,
         "team_away": "Jacksonville Jaguars",
         "team_favorite_id": "IND",
         "spread_favorite": -15.5,
         "over_under_line": 48,
         "stadium": "Lucas Oil Stadium",
         "stadium_neutral": "False",
         "weather_temperature": 72,
         "weather_wind_mph": 0,
         "weather_humidity": "nan",
         "weather_detail": "DOME",
         "home_off": 83,
         "home_def": 76,
         "away_off": 71,
         "away_def": 72,
         "total_score": 42,
         "_deepnote_index_column": 1049
        },
        {
         "schedule_date": "1/3/2021",
         "schedule_season": 2020,
         "schedule_week": "17",
         "schedule_playoff": "False",
         "team_home": "Kansas City Chiefs",
         "score_home": 21,
         "score_away": 38,
         "team_away": "Los Angeles Chargers",
         "team_favorite_id": "LAC",
         "spread_favorite": -6.5,
         "over_under_line": 43,
         "stadium": "Arrowhead Stadium",
         "stadium_neutral": "False",
         "weather_temperature": "nan",
         "weather_wind_mph": "nan",
         "weather_humidity": "nan",
         "weather_detail": "nan",
         "home_off": 92,
         "home_def": 77,
         "away_off": 74,
         "away_def": 83,
         "total_score": 59,
         "_deepnote_index_column": 1050
        },
        {
         "schedule_date": "1/3/2021",
         "schedule_season": 2020,
         "schedule_week": "17",
         "schedule_playoff": "False",
         "team_home": "Los Angeles Rams",
         "score_home": 18,
         "score_away": 7,
         "team_away": "Arizona Cardinals",
         "team_favorite_id": "LAR",
         "spread_favorite": -1,
         "over_under_line": 42,
         "stadium": "SoFi Stadium",
         "stadium_neutral": "False",
         "weather_temperature": "nan",
         "weather_wind_mph": "nan",
         "weather_humidity": "nan",
         "weather_detail": "nan",
         "home_off": 74,
         "home_def": 82,
         "away_off": 76,
         "away_def": 79,
         "total_score": 25,
         "_deepnote_index_column": 1051
        },
        {
         "schedule_date": "1/3/2021",
         "schedule_season": 2020,
         "schedule_week": "17",
         "schedule_playoff": "False",
         "team_home": "New England Patriots",
         "score_home": 28,
         "score_away": 14,
         "team_away": "New York Jets",
         "team_favorite_id": "NE",
         "spread_favorite": -3,
         "over_under_line": 41,
         "stadium": "Gillette Stadium",
         "stadium_neutral": "False",
         "weather_temperature": "nan",
         "weather_wind_mph": "nan",
         "weather_humidity": "nan",
         "weather_detail": "nan",
         "home_off": 75,
         "home_def": 85,
         "away_off": 67,
         "away_def": 75,
         "total_score": 42,
         "_deepnote_index_column": 1052
        },
        {
         "schedule_date": "1/3/2021",
         "schedule_season": 2020,
         "schedule_week": "17",
         "schedule_playoff": "False",
         "team_home": "New York Giants",
         "score_home": 23,
         "score_away": 19,
         "team_away": "Dallas Cowboys",
         "team_favorite_id": "DAL",
         "spread_favorite": -1.5,
         "over_under_line": 43.5,
         "stadium": "MetLife Stadium",
         "stadium_neutral": "False",
         "weather_temperature": "nan",
         "weather_wind_mph": "nan",
         "weather_humidity": "nan",
         "weather_detail": "nan",
         "home_off": 83,
         "home_def": 74,
         "away_off": 87,
         "away_def": 82,
         "total_score": 42,
         "_deepnote_index_column": 1053
        },
        {
         "schedule_date": "1/3/2021",
         "schedule_season": 2020,
         "schedule_week": "17",
         "schedule_playoff": "False",
         "team_home": "Philadelphia Eagles",
         "score_home": 14,
         "score_away": 20,
         "team_away": "Washington Football Team",
         "team_favorite_id": "WAS",
         "spread_favorite": -6.5,
         "over_under_line": 43.5,
         "stadium": "Lincoln Financial Field",
         "stadium_neutral": "False",
         "weather_temperature": "nan",
         "weather_wind_mph": "nan",
         "weather_humidity": "nan",
         "weather_detail": "nan",
         "home_off": 80,
         "home_def": 76,
         "away_off": 66,
         "away_def": 77,
         "total_score": 34,
         "_deepnote_index_column": 1054
        },
        {
         "schedule_date": "1/3/2021",
         "schedule_season": 2020,
         "schedule_week": "17",
         "schedule_playoff": "False",
         "team_home": "San Francisco 49ers",
         "score_home": 23,
         "score_away": 26,
         "team_away": "Seattle Seahawks",
         "team_favorite_id": "SEA",
         "spread_favorite": -7,
         "over_under_line": 45,
         "stadium": "Levi's Stadium",
         "stadium_neutral": "False",
         "weather_temperature": "nan",
         "weather_wind_mph": "nan",
         "weather_humidity": "nan",
         "weather_detail": "nan",
         "home_off": 84,
         "home_def": 87,
         "away_off": 88,
         "away_def": 80,
         "total_score": 49,
         "_deepnote_index_column": 1055
        },
        {
         "schedule_date": "1/3/2021",
         "schedule_season": 2020,
         "schedule_week": "17",
         "schedule_playoff": "False",
         "team_home": "Tampa Bay Buccaneers",
         "score_home": 44,
         "score_away": 27,
         "team_away": "Atlanta Falcons",
         "team_favorite_id": "TB",
         "spread_favorite": -7,
         "over_under_line": 51,
         "stadium": "Raymond James Stadium",
         "stadium_neutral": "False",
         "weather_temperature": "nan",
         "weather_wind_mph": "nan",
         "weather_humidity": "nan",
         "weather_detail": "nan",
         "home_off": 87,
         "home_def": 83,
         "away_off": 85,
         "away_def": 72,
         "total_score": 71,
         "_deepnote_index_column": 1056
        },
        {
         "schedule_date": "1/9/2021",
         "schedule_season": 2020,
         "schedule_week": "Wildcard",
         "schedule_playoff": "True",
         "team_home": "Buffalo Bills",
         "score_home": 27,
         "score_away": 24,
         "team_away": "Indianapolis Colts",
         "team_favorite_id": "BUF",
         "spread_favorite": -7,
         "over_under_line": 50.5,
         "stadium": "New Era Field",
         "stadium_neutral": "False",
         "weather_temperature": "nan",
         "weather_wind_mph": "nan",
         "weather_humidity": "nan",
         "weather_detail": "nan",
         "home_off": 77,
         "home_def": 84,
         "away_off": 83,
         "away_def": 76,
         "total_score": 51,
         "_deepnote_index_column": 1057
        },
        {
         "schedule_date": "1/9/2021",
         "schedule_season": 2020,
         "schedule_week": "Wildcard",
         "schedule_playoff": "True",
         "team_home": "Seattle Seahawks",
         "score_home": 20,
         "score_away": 30,
         "team_away": "Los Angeles Rams",
         "team_favorite_id": "SEA",
         "spread_favorite": -3,
         "over_under_line": 42.5,
         "stadium": "CenturyLink Field",
         "stadium_neutral": "False",
         "weather_temperature": "nan",
         "weather_wind_mph": "nan",
         "weather_humidity": "nan",
         "weather_detail": "nan",
         "home_off": 88,
         "home_def": 80,
         "away_off": 74,
         "away_def": 82,
         "total_score": 50,
         "_deepnote_index_column": 1058
        },
        {
         "schedule_date": "1/9/2021",
         "schedule_season": 2020,
         "schedule_week": "Wildcard",
         "schedule_playoff": "True",
         "team_home": "Washington Football Team",
         "score_home": 23,
         "score_away": 31,
         "team_away": "Tampa Bay Buccaneers",
         "team_favorite_id": "TB",
         "spread_favorite": -10,
         "over_under_line": 45,
         "stadium": "FedEx Field",
         "stadium_neutral": "False",
         "weather_temperature": "nan",
         "weather_wind_mph": "nan",
         "weather_humidity": "nan",
         "weather_detail": "nan",
         "home_off": 66,
         "home_def": 77,
         "away_off": 87,
         "away_def": 83,
         "total_score": 54,
         "_deepnote_index_column": 1059
        },
        {
         "schedule_date": "1/10/2021",
         "schedule_season": 2020,
         "schedule_week": "Wildcard",
         "schedule_playoff": "True",
         "team_home": "New Orleans Saints",
         "score_home": 21,
         "score_away": 9,
         "team_away": "Chicago Bears",
         "team_favorite_id": "NO",
         "spread_favorite": -11,
         "over_under_line": 48,
         "stadium": "Mercedes-Benz Superdome",
         "stadium_neutral": "False",
         "weather_temperature": "nan",
         "weather_wind_mph": "nan",
         "weather_humidity": "nan",
         "weather_detail": "nan",
         "home_off": 96,
         "home_def": 86,
         "away_off": 73,
         "away_def": 88,
         "total_score": 30,
         "_deepnote_index_column": 1060
        },
        {
         "schedule_date": "1/10/2021",
         "schedule_season": 2020,
         "schedule_week": "Wildcard",
         "schedule_playoff": "True",
         "team_home": "Pittsburgh Steelers",
         "score_home": 37,
         "score_away": 48,
         "team_away": "Cleveland Browns",
         "team_favorite_id": "PIT",
         "spread_favorite": -5.5,
         "over_under_line": 47.5,
         "stadium": "Heinz Field",
         "stadium_neutral": "False",
         "weather_temperature": "nan",
         "weather_wind_mph": "nan",
         "weather_humidity": "nan",
         "weather_detail": "nan",
         "home_off": 79,
         "home_def": 84,
         "away_off": 82,
         "away_def": 76,
         "total_score": 85,
         "_deepnote_index_column": 1061
        },
        {
         "schedule_date": "1/10/2021",
         "schedule_season": 2020,
         "schedule_week": "Wildcard",
         "schedule_playoff": "True",
         "team_home": "Tennessee Titans",
         "score_home": 13,
         "score_away": 20,
         "team_away": "Baltimore Ravens",
         "team_favorite_id": "BAL",
         "spread_favorite": -3.5,
         "over_under_line": 53.5,
         "stadium": "Nissan Stadium",
         "stadium_neutral": "False",
         "weather_temperature": "nan",
         "weather_wind_mph": "nan",
         "weather_humidity": "nan",
         "weather_detail": "nan",
         "home_off": 77,
         "home_def": 81,
         "away_off": 89,
         "away_def": 86,
         "total_score": 33,
         "_deepnote_index_column": 1062
        },
        {
         "schedule_date": "1/16/2021",
         "schedule_season": 2020,
         "schedule_week": "Division",
         "schedule_playoff": "True",
         "team_home": "Buffalo Bills",
         "score_home": 17,
         "score_away": 3,
         "team_away": "Baltimore Ravens",
         "team_favorite_id": "BUF",
         "spread_favorite": -2.5,
         "over_under_line": 49.5,
         "stadium": "New Era Field",
         "stadium_neutral": "False",
         "weather_temperature": "nan",
         "weather_wind_mph": "nan",
         "weather_humidity": "nan",
         "weather_detail": "nan",
         "home_off": 77,
         "home_def": 84,
         "away_off": 89,
         "away_def": 86,
         "total_score": 20,
         "_deepnote_index_column": 1063
        },
        {
         "schedule_date": "1/16/2021",
         "schedule_season": 2020,
         "schedule_week": "Division",
         "schedule_playoff": "True",
         "team_home": "Green Bay Packers",
         "score_home": 32,
         "score_away": 18,
         "team_away": "Los Angeles Rams",
         "team_favorite_id": "GB",
         "spread_favorite": -7,
         "over_under_line": 45,
         "stadium": "Lambeau Field",
         "stadium_neutral": "False",
         "weather_temperature": "nan",
         "weather_wind_mph": "nan",
         "weather_humidity": "nan",
         "weather_detail": "nan",
         "home_off": 89,
         "home_def": 80,
         "away_off": 74,
         "away_def": 82,
         "total_score": 50,
         "_deepnote_index_column": 1064
        },
        {
         "schedule_date": "1/17/2021",
         "schedule_season": 2020,
         "schedule_week": "Division",
         "schedule_playoff": "True",
         "team_home": "Kansas City Chiefs",
         "score_home": 22,
         "score_away": 17,
         "team_away": "Cleveland Browns",
         "team_favorite_id": "KC",
         "spread_favorite": -8,
         "over_under_line": 56,
         "stadium": "Arrowhead Stadium",
         "stadium_neutral": "False",
         "weather_temperature": "nan",
         "weather_wind_mph": "nan",
         "weather_humidity": "nan",
         "weather_detail": "nan",
         "home_off": 92,
         "home_def": 77,
         "away_off": 82,
         "away_def": 76,
         "total_score": 39,
         "_deepnote_index_column": 1065
        },
        {
         "schedule_date": "1/17/2021",
         "schedule_season": 2020,
         "schedule_week": "Division",
         "schedule_playoff": "True",
         "team_home": "New Orleans Saints",
         "score_home": 20,
         "score_away": 30,
         "team_away": "Tampa Bay Buccaneers",
         "team_favorite_id": "NO",
         "spread_favorite": -2.5,
         "over_under_line": 53,
         "stadium": "Mercedes-Benz Superdome",
         "stadium_neutral": "False",
         "weather_temperature": "nan",
         "weather_wind_mph": "nan",
         "weather_humidity": "nan",
         "weather_detail": "nan",
         "home_off": 96,
         "home_def": 86,
         "away_off": 87,
         "away_def": 83,
         "total_score": 50,
         "_deepnote_index_column": 1066
        },
        {
         "schedule_date": "1/24/2021",
         "schedule_season": 2020,
         "schedule_week": "Conference",
         "schedule_playoff": "True",
         "team_home": "Green Bay Packers",
         "score_home": 26,
         "score_away": 31,
         "team_away": "Tampa Bay Buccaneers",
         "team_favorite_id": "GB",
         "spread_favorite": -3,
         "over_under_line": 53,
         "stadium": "Lambeau Field",
         "stadium_neutral": "False",
         "weather_temperature": "nan",
         "weather_wind_mph": "nan",
         "weather_humidity": "nan",
         "weather_detail": "nan",
         "home_off": 89,
         "home_def": 80,
         "away_off": 87,
         "away_def": 83,
         "total_score": 57,
         "_deepnote_index_column": 1067
        },
        {
         "schedule_date": "1/24/2021",
         "schedule_season": 2020,
         "schedule_week": "Conference",
         "schedule_playoff": "True",
         "team_home": "Kansas City Chiefs",
         "score_home": 38,
         "score_away": 24,
         "team_away": "Buffalo Bills",
         "team_favorite_id": "KC",
         "spread_favorite": -3,
         "over_under_line": 55,
         "stadium": "Arrowhead Stadium",
         "stadium_neutral": "False",
         "weather_temperature": "nan",
         "weather_wind_mph": "nan",
         "weather_humidity": "nan",
         "weather_detail": "nan",
         "home_off": 92,
         "home_def": 77,
         "away_off": 77,
         "away_def": 84,
         "total_score": 62,
         "_deepnote_index_column": 1068
        },
        {
         "schedule_date": "2/7/2021",
         "schedule_season": 2020,
         "schedule_week": "Superbowl",
         "schedule_playoff": "True",
         "team_home": "Tampa Bay Buccaneers",
         "score_home": 31,
         "score_away": 9,
         "team_away": "Kansas City Chiefs",
         "team_favorite_id": "KC",
         "spread_favorite": -3,
         "over_under_line": 54.5,
         "stadium": "Raymond James Stadium",
         "stadium_neutral": "False",
         "weather_temperature": 63,
         "weather_wind_mph": 9,
         "weather_humidity": 78,
         "weather_detail": "nan",
         "home_off": 87,
         "home_def": 83,
         "away_off": 92,
         "away_def": 77,
         "total_score": 40,
         "_deepnote_index_column": 1069
        }
       ]
      },
      "text/plain": "     schedule_date  schedule_season schedule_week  schedule_playoff  \\\n0         9/7/2017             2017             1             False   \n1        9/10/2017             2017             1             False   \n2        9/10/2017             2017             1             False   \n3        9/10/2017             2017             1             False   \n4        9/10/2017             2017             1             False   \n...            ...              ...           ...               ...   \n1065     1/17/2021             2020      Division              True   \n1066     1/17/2021             2020      Division              True   \n1067     1/24/2021             2020    Conference              True   \n1068     1/24/2021             2020    Conference              True   \n1069      2/7/2021             2020     Superbowl              True   \n\n                 team_home  score_home  score_away             team_away  \\\n0     New England Patriots        27.0        42.0    Kansas City Chiefs   \n1            Buffalo Bills        21.0        12.0         New York Jets   \n2            Chicago Bears        17.0        23.0       Atlanta Falcons   \n3       Cincinnati Bengals         0.0        20.0      Baltimore Ravens   \n4         Cleveland Browns        18.0        21.0   Pittsburgh Steelers   \n...                    ...         ...         ...                   ...   \n1065    Kansas City Chiefs        22.0        17.0      Cleveland Browns   \n1066    New Orleans Saints        20.0        30.0  Tampa Bay Buccaneers   \n1067     Green Bay Packers        26.0        31.0  Tampa Bay Buccaneers   \n1068    Kansas City Chiefs        38.0        24.0         Buffalo Bills   \n1069  Tampa Bay Buccaneers        31.0         9.0    Kansas City Chiefs   \n\n     team_favorite_id  spread_favorite  ...  stadium_neutral  \\\n0                  NE             -9.0  ...            False   \n1                 BUF             -9.5  ...            False   \n2                 ATL             -7.0  ...            False   \n3                 CIN             -3.0  ...            False   \n4                 PIT             -9.0  ...            False   \n...               ...              ...  ...              ...   \n1065               KC             -8.0  ...            False   \n1066               NO             -2.5  ...            False   \n1067               GB             -3.0  ...            False   \n1068               KC             -3.0  ...            False   \n1069               KC             -3.0  ...            False   \n\n     weather_temperature weather_wind_mph  weather_humidity  weather_detail  \\\n0                   63.0              7.0               NaN             NaN   \n1                   61.0              5.0               NaN             NaN   \n2                   66.0              9.0               NaN             NaN   \n3                   71.0              8.0               NaN             NaN   \n4                   67.0              9.0               NaN             NaN   \n...                  ...              ...               ...             ...   \n1065                 NaN              NaN               NaN             NaN   \n1066                 NaN              NaN               NaN             NaN   \n1067                 NaN              NaN               NaN             NaN   \n1068                 NaN              NaN               NaN             NaN   \n1069                63.0              9.0              78.0             NaN   \n\n      home_off home_def  away_off  away_def  total_score  \n0         92.0     88.0      82.0      91.0         69.0  \n1         80.0     80.0      73.0      85.0         33.0  \n2         78.0     82.0      89.0      80.0         40.0  \n3         79.0     80.0      80.0      85.0         20.0  \n4         76.0     78.0      89.0      84.0         39.0  \n...        ...      ...       ...       ...          ...  \n1065      92.0     77.0      82.0      76.0         39.0  \n1066      96.0     86.0      87.0      83.0         50.0  \n1067      89.0     80.0      87.0      83.0         57.0  \n1068      92.0     77.0      77.0      84.0         62.0  \n1069      87.0     83.0      92.0      77.0         40.0  \n\n[1070 rows x 22 columns]",
      "text/html": "<div>\n<style scoped>\n    .dataframe tbody tr th:only-of-type {\n        vertical-align: middle;\n    }\n\n    .dataframe tbody tr th {\n        vertical-align: top;\n    }\n\n    .dataframe thead th {\n        text-align: right;\n    }\n</style>\n<table border=\"1\" class=\"dataframe\">\n  <thead>\n    <tr style=\"text-align: right;\">\n      <th></th>\n      <th>schedule_date</th>\n      <th>schedule_season</th>\n      <th>schedule_week</th>\n      <th>schedule_playoff</th>\n      <th>team_home</th>\n      <th>score_home</th>\n      <th>score_away</th>\n      <th>team_away</th>\n      <th>team_favorite_id</th>\n      <th>spread_favorite</th>\n      <th>...</th>\n      <th>stadium_neutral</th>\n      <th>weather_temperature</th>\n      <th>weather_wind_mph</th>\n      <th>weather_humidity</th>\n      <th>weather_detail</th>\n      <th>home_off</th>\n      <th>home_def</th>\n      <th>away_off</th>\n      <th>away_def</th>\n      <th>total_score</th>\n    </tr>\n  </thead>\n  <tbody>\n    <tr>\n      <th>0</th>\n      <td>9/7/2017</td>\n      <td>2017</td>\n      <td>1</td>\n      <td>False</td>\n      <td>New England Patriots</td>\n      <td>27.0</td>\n      <td>42.0</td>\n      <td>Kansas City Chiefs</td>\n      <td>NE</td>\n      <td>-9.0</td>\n      <td>...</td>\n      <td>False</td>\n      <td>63.0</td>\n      <td>7.0</td>\n      <td>NaN</td>\n      <td>NaN</td>\n      <td>92.0</td>\n      <td>88.0</td>\n      <td>82.0</td>\n      <td>91.0</td>\n      <td>69.0</td>\n    </tr>\n    <tr>\n      <th>1</th>\n      <td>9/10/2017</td>\n      <td>2017</td>\n      <td>1</td>\n      <td>False</td>\n      <td>Buffalo Bills</td>\n      <td>21.0</td>\n      <td>12.0</td>\n      <td>New York Jets</td>\n      <td>BUF</td>\n      <td>-9.5</td>\n      <td>...</td>\n      <td>False</td>\n      <td>61.0</td>\n      <td>5.0</td>\n      <td>NaN</td>\n      <td>NaN</td>\n      <td>80.0</td>\n      <td>80.0</td>\n      <td>73.0</td>\n      <td>85.0</td>\n      <td>33.0</td>\n    </tr>\n    <tr>\n      <th>2</th>\n      <td>9/10/2017</td>\n      <td>2017</td>\n      <td>1</td>\n      <td>False</td>\n      <td>Chicago Bears</td>\n      <td>17.0</td>\n      <td>23.0</td>\n      <td>Atlanta Falcons</td>\n      <td>ATL</td>\n      <td>-7.0</td>\n      <td>...</td>\n      <td>False</td>\n      <td>66.0</td>\n      <td>9.0</td>\n      <td>NaN</td>\n      <td>NaN</td>\n      <td>78.0</td>\n      <td>82.0</td>\n      <td>89.0</td>\n      <td>80.0</td>\n      <td>40.0</td>\n    </tr>\n    <tr>\n      <th>3</th>\n      <td>9/10/2017</td>\n      <td>2017</td>\n      <td>1</td>\n      <td>False</td>\n      <td>Cincinnati Bengals</td>\n      <td>0.0</td>\n      <td>20.0</td>\n      <td>Baltimore Ravens</td>\n      <td>CIN</td>\n      <td>-3.0</td>\n      <td>...</td>\n      <td>False</td>\n      <td>71.0</td>\n      <td>8.0</td>\n      <td>NaN</td>\n      <td>NaN</td>\n      <td>79.0</td>\n      <td>80.0</td>\n      <td>80.0</td>\n      <td>85.0</td>\n      <td>20.0</td>\n    </tr>\n    <tr>\n      <th>4</th>\n      <td>9/10/2017</td>\n      <td>2017</td>\n      <td>1</td>\n      <td>False</td>\n      <td>Cleveland Browns</td>\n      <td>18.0</td>\n      <td>21.0</td>\n      <td>Pittsburgh Steelers</td>\n      <td>PIT</td>\n      <td>-9.0</td>\n      <td>...</td>\n      <td>False</td>\n      <td>67.0</td>\n      <td>9.0</td>\n      <td>NaN</td>\n      <td>NaN</td>\n      <td>76.0</td>\n      <td>78.0</td>\n      <td>89.0</td>\n      <td>84.0</td>\n      <td>39.0</td>\n    </tr>\n    <tr>\n      <th>...</th>\n      <td>...</td>\n      <td>...</td>\n      <td>...</td>\n      <td>...</td>\n      <td>...</td>\n      <td>...</td>\n      <td>...</td>\n      <td>...</td>\n      <td>...</td>\n      <td>...</td>\n      <td>...</td>\n      <td>...</td>\n      <td>...</td>\n      <td>...</td>\n      <td>...</td>\n      <td>...</td>\n      <td>...</td>\n      <td>...</td>\n      <td>...</td>\n      <td>...</td>\n      <td>...</td>\n    </tr>\n    <tr>\n      <th>1065</th>\n      <td>1/17/2021</td>\n      <td>2020</td>\n      <td>Division</td>\n      <td>True</td>\n      <td>Kansas City Chiefs</td>\n      <td>22.0</td>\n      <td>17.0</td>\n      <td>Cleveland Browns</td>\n      <td>KC</td>\n      <td>-8.0</td>\n      <td>...</td>\n      <td>False</td>\n      <td>NaN</td>\n      <td>NaN</td>\n      <td>NaN</td>\n      <td>NaN</td>\n      <td>92.0</td>\n      <td>77.0</td>\n      <td>82.0</td>\n      <td>76.0</td>\n      <td>39.0</td>\n    </tr>\n    <tr>\n      <th>1066</th>\n      <td>1/17/2021</td>\n      <td>2020</td>\n      <td>Division</td>\n      <td>True</td>\n      <td>New Orleans Saints</td>\n      <td>20.0</td>\n      <td>30.0</td>\n      <td>Tampa Bay Buccaneers</td>\n      <td>NO</td>\n      <td>-2.5</td>\n      <td>...</td>\n      <td>False</td>\n      <td>NaN</td>\n      <td>NaN</td>\n      <td>NaN</td>\n      <td>NaN</td>\n      <td>96.0</td>\n      <td>86.0</td>\n      <td>87.0</td>\n      <td>83.0</td>\n      <td>50.0</td>\n    </tr>\n    <tr>\n      <th>1067</th>\n      <td>1/24/2021</td>\n      <td>2020</td>\n      <td>Conference</td>\n      <td>True</td>\n      <td>Green Bay Packers</td>\n      <td>26.0</td>\n      <td>31.0</td>\n      <td>Tampa Bay Buccaneers</td>\n      <td>GB</td>\n      <td>-3.0</td>\n      <td>...</td>\n      <td>False</td>\n      <td>NaN</td>\n      <td>NaN</td>\n      <td>NaN</td>\n      <td>NaN</td>\n      <td>89.0</td>\n      <td>80.0</td>\n      <td>87.0</td>\n      <td>83.0</td>\n      <td>57.0</td>\n    </tr>\n    <tr>\n      <th>1068</th>\n      <td>1/24/2021</td>\n      <td>2020</td>\n      <td>Conference</td>\n      <td>True</td>\n      <td>Kansas City Chiefs</td>\n      <td>38.0</td>\n      <td>24.0</td>\n      <td>Buffalo Bills</td>\n      <td>KC</td>\n      <td>-3.0</td>\n      <td>...</td>\n      <td>False</td>\n      <td>NaN</td>\n      <td>NaN</td>\n      <td>NaN</td>\n      <td>NaN</td>\n      <td>92.0</td>\n      <td>77.0</td>\n      <td>77.0</td>\n      <td>84.0</td>\n      <td>62.0</td>\n    </tr>\n    <tr>\n      <th>1069</th>\n      <td>2/7/2021</td>\n      <td>2020</td>\n      <td>Superbowl</td>\n      <td>True</td>\n      <td>Tampa Bay Buccaneers</td>\n      <td>31.0</td>\n      <td>9.0</td>\n      <td>Kansas City Chiefs</td>\n      <td>KC</td>\n      <td>-3.0</td>\n      <td>...</td>\n      <td>False</td>\n      <td>63.0</td>\n      <td>9.0</td>\n      <td>78.0</td>\n      <td>NaN</td>\n      <td>87.0</td>\n      <td>83.0</td>\n      <td>92.0</td>\n      <td>77.0</td>\n      <td>40.0</td>\n    </tr>\n  </tbody>\n</table>\n<p>1070 rows × 22 columns</p>\n</div>"
     },
     "metadata": {}
    }
   ],
   "execution_count": 9
  },
  {
   "cell_type": "code",
   "metadata": {
    "tags": [],
    "cell_id": "00012-18f4ba44-cb5d-444b-b5a7-8988765e19f2",
    "deepnote_to_be_reexecuted": false,
    "source_hash": "b7010ada",
    "execution_start": 1632261869251,
    "execution_millis": 90,
    "deepnote_cell_type": "code"
   },
   "source": "df_with_madden_outliers_over = df_with_madden[df_with_madden.total_score - df_with_madden.over_under_line > 20]\ndf_with_madden_outliers_under = df_with_madden[df_with_madden.over_under_line - df_with_madden.total_score > 20]\ndf_with_madden_outliers_over",
   "outputs": [
    {
     "output_type": "execute_result",
     "execution_count": 10,
     "data": {
      "application/vnd.deepnote.dataframe.v2+json": {
       "row_count": 77,
       "column_count": 22,
       "columns": [
        {
         "name": "schedule_date",
         "dtype": "object",
         "stats": {
          "unique_count": 61,
          "nan_count": 0,
          "categories": [
           {
            "name": "9/30/2018",
            "count": 3
           },
           {
            "name": "10/1/2017",
            "count": 2
           },
           {
            "name": "59 others",
            "count": 72
           }
          ]
         }
        },
        {
         "name": "schedule_season",
         "dtype": "int64",
         "stats": {
          "unique_count": 4,
          "nan_count": 0,
          "min": "2017",
          "max": "2020",
          "histogram": [
           {
            "bin_start": 2017,
            "bin_end": 2017.3,
            "count": 24
           },
           {
            "bin_start": 2017.3,
            "bin_end": 2017.6,
            "count": 0
           },
           {
            "bin_start": 2017.6,
            "bin_end": 2017.9,
            "count": 0
           },
           {
            "bin_start": 2017.9,
            "bin_end": 2018.2,
            "count": 19
           },
           {
            "bin_start": 2018.2,
            "bin_end": 2018.5,
            "count": 0
           },
           {
            "bin_start": 2018.5,
            "bin_end": 2018.8,
            "count": 0
           },
           {
            "bin_start": 2018.8,
            "bin_end": 2019.1,
            "count": 15
           },
           {
            "bin_start": 2019.1,
            "bin_end": 2019.4,
            "count": 0
           },
           {
            "bin_start": 2019.4,
            "bin_end": 2019.7,
            "count": 0
           },
           {
            "bin_start": 2019.7,
            "bin_end": 2020,
            "count": 19
           }
          ]
         }
        },
        {
         "name": "schedule_week",
         "dtype": "object",
         "stats": {
          "unique_count": 20,
          "nan_count": 0,
          "categories": [
           {
            "name": "4",
            "count": 10
           },
           {
            "name": "16",
            "count": 6
           },
           {
            "name": "18 others",
            "count": 61
           }
          ]
         }
        },
        {
         "name": "schedule_playoff",
         "dtype": "bool",
         "stats": {
          "unique_count": 2,
          "nan_count": 0,
          "categories": [
           {
            "name": "False",
            "count": 72
           },
           {
            "name": "True",
            "count": 5
           }
          ]
         }
        },
        {
         "name": "team_home",
         "dtype": "object",
         "stats": {
          "unique_count": 29,
          "nan_count": 0,
          "categories": [
           {
            "name": "Pittsburgh Steelers",
            "count": 6
           },
           {
            "name": "New England Patriots",
            "count": 5
           },
           {
            "name": "27 others",
            "count": 66
           }
          ]
         }
        },
        {
         "name": "score_home",
         "dtype": "float64",
         "stats": {
          "unique_count": 29,
          "nan_count": 0,
          "min": "10.0",
          "max": "57.0",
          "histogram": [
           {
            "bin_start": 10,
            "bin_end": 14.7,
            "count": 1
           },
           {
            "bin_start": 14.7,
            "bin_end": 19.4,
            "count": 2
           },
           {
            "bin_start": 19.4,
            "bin_end": 24.1,
            "count": 0
           },
           {
            "bin_start": 24.1,
            "bin_end": 28.8,
            "count": 5
           },
           {
            "bin_start": 28.8,
            "bin_end": 33.5,
            "count": 7
           },
           {
            "bin_start": 33.5,
            "bin_end": 38.2,
            "count": 26
           },
           {
            "bin_start": 38.2,
            "bin_end": 42.9,
            "count": 14
           },
           {
            "bin_start": 42.9,
            "bin_end": 47.6,
            "count": 10
           },
           {
            "bin_start": 47.6,
            "bin_end": 52.300000000000004,
            "count": 7
           },
           {
            "bin_start": 52.300000000000004,
            "bin_end": 57,
            "count": 5
           }
          ]
         }
        },
        {
         "name": "score_away",
         "dtype": "float64",
         "stats": {
          "unique_count": 34,
          "nan_count": 0,
          "min": "13.0",
          "max": "59.0",
          "histogram": [
           {
            "bin_start": 13,
            "bin_end": 17.6,
            "count": 3
           },
           {
            "bin_start": 17.6,
            "bin_end": 22.2,
            "count": 4
           },
           {
            "bin_start": 22.2,
            "bin_end": 26.799999999999997,
            "count": 4
           },
           {
            "bin_start": 26.799999999999997,
            "bin_end": 31.4,
            "count": 11
           },
           {
            "bin_start": 31.4,
            "bin_end": 36,
            "count": 15
           },
           {
            "bin_start": 36,
            "bin_end": 40.599999999999994,
            "count": 15
           },
           {
            "bin_start": 40.599999999999994,
            "bin_end": 45.199999999999996,
            "count": 15
           },
           {
            "bin_start": 45.199999999999996,
            "bin_end": 49.8,
            "count": 6
           },
           {
            "bin_start": 49.8,
            "bin_end": 54.4,
            "count": 2
           },
           {
            "bin_start": 54.4,
            "bin_end": 59,
            "count": 2
           }
          ]
         }
        },
        {
         "name": "team_away",
         "dtype": "object",
         "stats": {
          "unique_count": 28,
          "nan_count": 0,
          "categories": [
           {
            "name": "Kansas City Chiefs",
            "count": 6
           },
           {
            "name": "Philadelphia Eagles",
            "count": 6
           },
           {
            "name": "26 others",
            "count": 65
           }
          ]
         }
        },
        {
         "name": "team_favorite_id",
         "dtype": "object",
         "stats": {
          "unique_count": 28,
          "nan_count": 0,
          "categories": [
           {
            "name": "LAR",
            "count": 8
           },
           {
            "name": "NE",
            "count": 6
           },
           {
            "name": "26 others",
            "count": 63
           }
          ]
         }
        },
        {
         "name": "spread_favorite",
         "dtype": "float64",
         "stats": {
          "unique_count": 21,
          "nan_count": 0,
          "min": "-14.0",
          "max": "-1.0",
          "histogram": [
           {
            "bin_start": -14,
            "bin_end": -12.7,
            "count": 3
           },
           {
            "bin_start": -12.7,
            "bin_end": -11.4,
            "count": 0
           },
           {
            "bin_start": -11.4,
            "bin_end": -10.1,
            "count": 1
           },
           {
            "bin_start": -10.1,
            "bin_end": -8.8,
            "count": 6
           },
           {
            "bin_start": -8.8,
            "bin_end": -7.5,
            "count": 1
           },
           {
            "bin_start": -7.5,
            "bin_end": -6.199999999999999,
            "count": 15
           },
           {
            "bin_start": -6.199999999999999,
            "bin_end": -4.9,
            "count": 6
           },
           {
            "bin_start": -4.9,
            "bin_end": -3.5999999999999996,
            "count": 10
           },
           {
            "bin_start": -3.5999999999999996,
            "bin_end": -2.299999999999999,
            "count": 21
           },
           {
            "bin_start": -2.299999999999999,
            "bin_end": -1,
            "count": 14
           }
          ]
         }
        },
        {
         "name": "over_under_line",
         "dtype": "float64",
         "stats": {
          "unique_count": 34,
          "nan_count": 0,
          "min": "37.0",
          "max": "63.5",
          "histogram": [
           {
            "bin_start": 37,
            "bin_end": 39.65,
            "count": 4
           },
           {
            "bin_start": 39.65,
            "bin_end": 42.3,
            "count": 12
           },
           {
            "bin_start": 42.3,
            "bin_end": 44.95,
            "count": 21
           },
           {
            "bin_start": 44.95,
            "bin_end": 47.6,
            "count": 14
           },
           {
            "bin_start": 47.6,
            "bin_end": 50.25,
            "count": 11
           },
           {
            "bin_start": 50.25,
            "bin_end": 52.9,
            "count": 5
           },
           {
            "bin_start": 52.9,
            "bin_end": 55.55,
            "count": 6
           },
           {
            "bin_start": 55.55,
            "bin_end": 58.2,
            "count": 2
           },
           {
            "bin_start": 58.2,
            "bin_end": 60.849999999999994,
            "count": 1
           },
           {
            "bin_start": 60.849999999999994,
            "bin_end": 63.5,
            "count": 1
           }
          ]
         }
        },
        {
         "name": "stadium",
         "dtype": "object",
         "stats": {
          "unique_count": 28,
          "nan_count": 0,
          "categories": [
           {
            "name": "MetLife Stadium",
            "count": 8
           },
           {
            "name": "Heinz Field",
            "count": 6
           },
           {
            "name": "26 others",
            "count": 63
           }
          ]
         }
        },
        {
         "name": "stadium_neutral",
         "dtype": "object",
         "stats": {
          "unique_count": 2,
          "nan_count": 0,
          "categories": [
           {
            "name": "False",
            "count": 76
           },
           {
            "name": "True",
            "count": 1
           }
          ]
         }
        },
        {
         "name": "weather_temperature",
         "dtype": "float64",
         "stats": {
          "unique_count": 27,
          "nan_count": 24,
          "min": "18.0",
          "max": "83.0",
          "histogram": [
           {
            "bin_start": 18,
            "bin_end": 24.5,
            "count": 1
           },
           {
            "bin_start": 24.5,
            "bin_end": 31,
            "count": 1
           },
           {
            "bin_start": 31,
            "bin_end": 37.5,
            "count": 3
           },
           {
            "bin_start": 37.5,
            "bin_end": 44,
            "count": 2
           },
           {
            "bin_start": 44,
            "bin_end": 50.5,
            "count": 6
           },
           {
            "bin_start": 50.5,
            "bin_end": 57,
            "count": 4
           },
           {
            "bin_start": 57,
            "bin_end": 63.5,
            "count": 4
           },
           {
            "bin_start": 63.5,
            "bin_end": 70,
            "count": 4
           },
           {
            "bin_start": 70,
            "bin_end": 76.5,
            "count": 25
           },
           {
            "bin_start": 76.5,
            "bin_end": 83,
            "count": 3
           }
          ]
         }
        },
        {
         "name": "weather_wind_mph",
         "dtype": "float64",
         "stats": {
          "unique_count": 14,
          "nan_count": 24,
          "min": "0.0",
          "max": "23.0",
          "histogram": [
           {
            "bin_start": 0,
            "bin_end": 2.3,
            "count": 29
           },
           {
            "bin_start": 2.3,
            "bin_end": 4.6,
            "count": 9
           },
           {
            "bin_start": 4.6,
            "bin_end": 6.8999999999999995,
            "count": 4
           },
           {
            "bin_start": 6.8999999999999995,
            "bin_end": 9.2,
            "count": 7
           },
           {
            "bin_start": 9.2,
            "bin_end": 11.5,
            "count": 2
           },
           {
            "bin_start": 11.5,
            "bin_end": 13.799999999999999,
            "count": 1
           },
           {
            "bin_start": 13.799999999999999,
            "bin_end": 16.099999999999998,
            "count": 0
           },
           {
            "bin_start": 16.099999999999998,
            "bin_end": 18.4,
            "count": 0
           },
           {
            "bin_start": 18.4,
            "bin_end": 20.7,
            "count": 0
           },
           {
            "bin_start": 20.7,
            "bin_end": 23,
            "count": 1
           }
          ]
         }
        },
        {
         "name": "weather_humidity",
         "dtype": "float64",
         "stats": {
          "unique_count": 0,
          "nan_count": 77,
          "min": null,
          "max": null,
          "histogram": [
           {
            "bin_start": 0,
            "bin_end": 0.1,
            "count": 0
           },
           {
            "bin_start": 0.1,
            "bin_end": 0.2,
            "count": 0
           },
           {
            "bin_start": 0.2,
            "bin_end": 0.30000000000000004,
            "count": 0
           },
           {
            "bin_start": 0.30000000000000004,
            "bin_end": 0.4,
            "count": 0
           },
           {
            "bin_start": 0.4,
            "bin_end": 0.5,
            "count": 0
           },
           {
            "bin_start": 0.5,
            "bin_end": 0.6000000000000001,
            "count": 0
           },
           {
            "bin_start": 0.6000000000000001,
            "bin_end": 0.7000000000000001,
            "count": 0
           },
           {
            "bin_start": 0.7000000000000001,
            "bin_end": 0.8,
            "count": 0
           },
           {
            "bin_start": 0.8,
            "bin_end": 0.9,
            "count": 0
           },
           {
            "bin_start": 0.9,
            "bin_end": 1,
            "count": 0
           }
          ]
         }
        },
        {
         "name": "weather_detail",
         "dtype": "object",
         "stats": {
          "unique_count": 1,
          "nan_count": 56,
          "categories": [
           {
            "name": "DOME",
            "count": 21
           },
           {
            "name": "Missing",
            "count": 56
           }
          ]
         }
        },
        {
         "name": "home_off",
         "dtype": "float64",
         "stats": {
          "unique_count": 22,
          "nan_count": 0,
          "min": "67.0",
          "max": "96.0",
          "histogram": [
           {
            "bin_start": 67,
            "bin_end": 69.9,
            "count": 1
           },
           {
            "bin_start": 69.9,
            "bin_end": 72.8,
            "count": 5
           },
           {
            "bin_start": 72.8,
            "bin_end": 75.7,
            "count": 7
           },
           {
            "bin_start": 75.7,
            "bin_end": 78.6,
            "count": 9
           },
           {
            "bin_start": 78.6,
            "bin_end": 81.5,
            "count": 12
           },
           {
            "bin_start": 81.5,
            "bin_end": 84.4,
            "count": 10
           },
           {
            "bin_start": 84.4,
            "bin_end": 87.3,
            "count": 19
           },
           {
            "bin_start": 87.3,
            "bin_end": 90.2,
            "count": 6
           },
           {
            "bin_start": 90.2,
            "bin_end": 93.1,
            "count": 7
           },
           {
            "bin_start": 93.1,
            "bin_end": 96,
            "count": 1
           }
          ]
         }
        },
        {
         "name": "home_def",
         "dtype": "float64",
         "stats": {
          "unique_count": 18,
          "nan_count": 0,
          "min": "69.0",
          "max": "92.0",
          "histogram": [
           {
            "bin_start": 69,
            "bin_end": 71.3,
            "count": 3
           },
           {
            "bin_start": 71.3,
            "bin_end": 73.6,
            "count": 0
           },
           {
            "bin_start": 73.6,
            "bin_end": 75.9,
            "count": 4
           },
           {
            "bin_start": 75.9,
            "bin_end": 78.2,
            "count": 12
           },
           {
            "bin_start": 78.2,
            "bin_end": 80.5,
            "count": 8
           },
           {
            "bin_start": 80.5,
            "bin_end": 82.8,
            "count": 10
           },
           {
            "bin_start": 82.8,
            "bin_end": 85.1,
            "count": 25
           },
           {
            "bin_start": 85.1,
            "bin_end": 87.4,
            "count": 4
           },
           {
            "bin_start": 87.4,
            "bin_end": 89.7,
            "count": 8
           },
           {
            "bin_start": 89.7,
            "bin_end": 92,
            "count": 3
           }
          ]
         }
        },
        {
         "name": "away_off",
         "dtype": "float64",
         "stats": {
          "unique_count": 20,
          "nan_count": 1,
          "min": "69.0",
          "max": "91.0",
          "histogram": [
           {
            "bin_start": 69,
            "bin_end": 71.2,
            "count": 5
           },
           {
            "bin_start": 71.2,
            "bin_end": 73.4,
            "count": 3
           },
           {
            "bin_start": 73.4,
            "bin_end": 75.6,
            "count": 9
           },
           {
            "bin_start": 75.6,
            "bin_end": 77.8,
            "count": 3
           },
           {
            "bin_start": 77.8,
            "bin_end": 80,
            "count": 7
           },
           {
            "bin_start": 80,
            "bin_end": 82.2,
            "count": 24
           },
           {
            "bin_start": 82.2,
            "bin_end": 84.4,
            "count": 14
           },
           {
            "bin_start": 84.4,
            "bin_end": 86.6,
            "count": 4
           },
           {
            "bin_start": 86.6,
            "bin_end": 88.8,
            "count": 3
           },
           {
            "bin_start": 88.8,
            "bin_end": 91,
            "count": 4
           }
          ]
         }
        },
        {
         "name": "away_def",
         "dtype": "float64",
         "stats": {
          "unique_count": 20,
          "nan_count": 1,
          "min": "71.0",
          "max": "92.0",
          "histogram": [
           {
            "bin_start": 71,
            "bin_end": 73.1,
            "count": 3
           },
           {
            "bin_start": 73.1,
            "bin_end": 75.2,
            "count": 3
           },
           {
            "bin_start": 75.2,
            "bin_end": 77.3,
            "count": 9
           },
           {
            "bin_start": 77.3,
            "bin_end": 79.4,
            "count": 8
           },
           {
            "bin_start": 79.4,
            "bin_end": 81.5,
            "count": 11
           },
           {
            "bin_start": 81.5,
            "bin_end": 83.6,
            "count": 8
           },
           {
            "bin_start": 83.6,
            "bin_end": 85.7,
            "count": 12
           },
           {
            "bin_start": 85.7,
            "bin_end": 87.8,
            "count": 10
           },
           {
            "bin_start": 87.8,
            "bin_end": 89.9,
            "count": 4
           },
           {
            "bin_start": 89.9,
            "bin_end": 92,
            "count": 8
           }
          ]
         }
        },
        {
         "name": "total_score",
         "dtype": "float64",
         "stats": {
          "unique_count": 28,
          "nan_count": 0,
          "min": "61.0",
          "max": "105.0",
          "histogram": [
           {
            "bin_start": 61,
            "bin_end": 65.4,
            "count": 14
           },
           {
            "bin_start": 65.4,
            "bin_end": 69.8,
            "count": 15
           },
           {
            "bin_start": 69.8,
            "bin_end": 74.2,
            "count": 13
           },
           {
            "bin_start": 74.2,
            "bin_end": 78.6,
            "count": 11
           },
           {
            "bin_start": 78.6,
            "bin_end": 83,
            "count": 11
           },
           {
            "bin_start": 83,
            "bin_end": 87.4,
            "count": 7
           },
           {
            "bin_start": 87.4,
            "bin_end": 91.80000000000001,
            "count": 3
           },
           {
            "bin_start": 91.80000000000001,
            "bin_end": 96.2,
            "count": 2
           },
           {
            "bin_start": 96.2,
            "bin_end": 100.6,
            "count": 0
           },
           {
            "bin_start": 100.6,
            "bin_end": 105,
            "count": 1
           }
          ]
         }
        },
        {
         "name": "_deepnote_index_column",
         "dtype": "int64"
        }
       ],
       "rows_top": [
        {
         "schedule_date": "9/7/2017",
         "schedule_season": 2017,
         "schedule_week": "1",
         "schedule_playoff": "False",
         "team_home": "New England Patriots",
         "score_home": 27,
         "score_away": 42,
         "team_away": "Kansas City Chiefs",
         "team_favorite_id": "NE",
         "spread_favorite": -9,
         "over_under_line": 48.5,
         "stadium": "Gillette Stadium",
         "stadium_neutral": "False",
         "weather_temperature": 63,
         "weather_wind_mph": 7,
         "weather_humidity": "nan",
         "weather_detail": "nan",
         "home_off": 92,
         "home_def": 88,
         "away_off": 82,
         "away_def": 91,
         "total_score": 69,
         "_deepnote_index_column": 0
        },
        {
         "schedule_date": "9/17/2017",
         "schedule_season": 2017,
         "schedule_week": "2",
         "schedule_playoff": "False",
         "team_home": "Oakland Raiders",
         "score_home": 45,
         "score_away": 20,
         "team_away": "New York Jets",
         "team_favorite_id": "LVR",
         "spread_favorite": -14,
         "over_under_line": 43.5,
         "stadium": "Oakland Coliseum",
         "stadium_neutral": "False",
         "weather_temperature": 69,
         "weather_wind_mph": 6,
         "weather_humidity": "nan",
         "weather_detail": "nan",
         "home_off": 86,
         "home_def": 79,
         "away_off": 73,
         "away_def": 85,
         "total_score": 65,
         "_deepnote_index_column": 26
        },
        {
         "schedule_date": "9/21/2017",
         "schedule_season": 2017,
         "schedule_week": "3",
         "schedule_playoff": "False",
         "team_home": "San Francisco 49ers",
         "score_home": 39,
         "score_away": 41,
         "team_away": "Los Angeles Rams",
         "team_favorite_id": "LAR",
         "spread_favorite": -2,
         "over_under_line": 40.5,
         "stadium": "Levi's Stadium",
         "stadium_neutral": "False",
         "weather_temperature": 65,
         "weather_wind_mph": 11,
         "weather_humidity": "nan",
         "weather_detail": "nan",
         "home_off": 75,
         "home_def": 76,
         "away_off": 74,
         "away_def": 86,
         "total_score": 80,
         "_deepnote_index_column": 31
        },
        {
         "schedule_date": "9/24/2017",
         "schedule_season": 2017,
         "schedule_week": "3",
         "schedule_playoff": "False",
         "team_home": "New England Patriots",
         "score_home": 36,
         "score_away": 33,
         "team_away": "Houston Texans",
         "team_favorite_id": "NE",
         "spread_favorite": -13,
         "over_under_line": 44.5,
         "stadium": "Gillette Stadium",
         "stadium_neutral": "False",
         "weather_temperature": 76,
         "weather_wind_mph": 8,
         "weather_humidity": "nan",
         "weather_detail": "nan",
         "home_off": 92,
         "home_def": 88,
         "away_off": 77,
         "away_def": 90,
         "total_score": 69,
         "_deepnote_index_column": 41
        },
        {
         "schedule_date": "10/1/2017",
         "schedule_season": 2017,
         "schedule_week": "4",
         "schedule_playoff": "False",
         "team_home": "Houston Texans",
         "score_home": 57,
         "score_away": 14,
         "team_away": "Tennessee Titans",
         "team_favorite_id": "TEN",
         "spread_favorite": -2,
         "over_under_line": 43.5,
         "stadium": "NRG Stadium",
         "stadium_neutral": "False",
         "weather_temperature": 72,
         "weather_wind_mph": 0,
         "weather_humidity": "nan",
         "weather_detail": "DOME",
         "home_off": 77,
         "home_def": 90,
         "away_off": 86,
         "away_def": 79,
         "total_score": 71,
         "_deepnote_index_column": 54
        },
        {
         "schedule_date": "10/1/2017",
         "schedule_season": 2017,
         "schedule_week": "4",
         "schedule_playoff": "False",
         "team_home": "Seattle Seahawks",
         "score_home": 46,
         "score_away": 17,
         "team_away": "Indianapolis Colts",
         "team_favorite_id": "SEA",
         "spread_favorite": -13,
         "over_under_line": 41.5,
         "stadium": "CenturyLink Field",
         "stadium_neutral": "False",
         "weather_temperature": 52,
         "weather_wind_mph": 3,
         "weather_humidity": "nan",
         "weather_detail": "nan",
         "home_off": 85,
         "home_def": 89,
         "away_off": 81,
         "away_def": 71,
         "total_score": 63,
         "_deepnote_index_column": 60
        },
        {
         "schedule_date": "10/8/2017",
         "schedule_season": 2017,
         "schedule_week": "5",
         "schedule_playoff": "False",
         "team_home": "Houston Texans",
         "score_home": 34,
         "score_away": 42,
         "team_away": "Kansas City Chiefs",
         "team_favorite_id": "KC",
         "spread_favorite": -1,
         "over_under_line": 46.5,
         "stadium": "NRG Stadium",
         "stadium_neutral": "False",
         "weather_temperature": 72,
         "weather_wind_mph": 0,
         "weather_humidity": "nan",
         "weather_detail": "DOME",
         "home_off": 77,
         "home_def": 90,
         "away_off": 82,
         "away_def": 91,
         "total_score": 76,
         "_deepnote_index_column": 68
        },
        {
         "schedule_date": "10/15/2017",
         "schedule_season": 2017,
         "schedule_week": "6",
         "schedule_playoff": "False",
         "team_home": "Arizona Cardinals",
         "score_home": 38,
         "score_away": 33,
         "team_away": "Tampa Bay Buccaneers",
         "team_favorite_id": "TB",
         "spread_favorite": -1.5,
         "over_under_line": 46,
         "stadium": "University of Phoenix Stadium",
         "stadium_neutral": "False",
         "weather_temperature": 72,
         "weather_wind_mph": 0,
         "weather_humidity": "nan",
         "weather_detail": "DOME",
         "home_off": 83,
         "home_def": 87,
         "away_off": 81,
         "away_def": 81,
         "total_score": 71,
         "_deepnote_index_column": 78
        },
        {
         "schedule_date": "10/15/2017",
         "schedule_season": 2017,
         "schedule_week": "6",
         "schedule_playoff": "False",
         "team_home": "New Orleans Saints",
         "score_home": 52,
         "score_away": 38,
         "team_away": "Detroit Lions",
         "team_favorite_id": "NO",
         "spread_favorite": -4,
         "over_under_line": 49.5,
         "stadium": "Mercedes-Benz Superdome",
         "stadium_neutral": "False",
         "weather_temperature": 72,
         "weather_wind_mph": 0,
         "weather_humidity": "nan",
         "weather_detail": "DOME",
         "home_off": 87,
         "home_def": 77,
         "away_off": 84,
         "away_def": 79,
         "total_score": 90,
         "_deepnote_index_column": 86
        },
        {
         "schedule_date": "10/29/2017",
         "schedule_season": 2017,
         "schedule_week": "8",
         "schedule_playoff": "False",
         "team_home": "Seattle Seahawks",
         "score_home": 41,
         "score_away": 38,
         "team_away": "Houston Texans",
         "team_favorite_id": "SEA",
         "spread_favorite": -5.5,
         "over_under_line": 46,
         "stadium": "CenturyLink Field",
         "stadium_neutral": "False",
         "weather_temperature": 59,
         "weather_wind_mph": 7,
         "weather_humidity": "nan",
         "weather_detail": "nan",
         "home_off": 85,
         "home_def": 89,
         "away_off": 77,
         "away_def": 90,
         "total_score": 79,
         "_deepnote_index_column": 115
        },
        {
         "schedule_date": "11/5/2017",
         "schedule_season": 2017,
         "schedule_week": "9",
         "schedule_playoff": "False",
         "team_home": "New York Giants",
         "score_home": 17,
         "score_away": 51,
         "team_away": "Los Angeles Rams",
         "team_favorite_id": "LAR",
         "spread_favorite": -5.5,
         "over_under_line": 42.5,
         "stadium": "MetLife Stadium",
         "stadium_neutral": "False",
         "weather_temperature": 56,
         "weather_wind_mph": 6,
         "weather_humidity": "nan",
         "weather_detail": "nan",
         "home_off": 85,
         "home_def": 88,
         "away_off": 74,
         "away_def": 86,
         "total_score": 68,
         "_deepnote_index_column": 126
        },
        {
         "schedule_date": "11/5/2017",
         "schedule_season": 2017,
         "schedule_week": "9",
         "schedule_playoff": "False",
         "team_home": "Philadelphia Eagles",
         "score_home": 51,
         "score_away": 23,
         "team_away": "Denver Broncos",
         "team_favorite_id": "PHI",
         "spread_favorite": -7,
         "over_under_line": 41,
         "stadium": "Lincoln Financial Field",
         "stadium_neutral": "False",
         "weather_temperature": 61,
         "weather_wind_mph": 5,
         "weather_humidity": "nan",
         "weather_detail": "nan",
         "home_off": 82,
         "home_def": 86,
         "away_off": 81,
         "away_def": 87,
         "total_score": 74,
         "_deepnote_index_column": 127
        },
        {
         "schedule_date": "11/12/2017",
         "schedule_season": 2017,
         "schedule_week": "10",
         "schedule_playoff": "False",
         "team_home": "Washington Redskins",
         "score_home": 30,
         "score_away": 38,
         "team_away": "Minnesota Vikings",
         "team_favorite_id": "MIN",
         "spread_favorite": -1,
         "over_under_line": 43,
         "stadium": "FedEx Field",
         "stadium_neutral": "False",
         "weather_temperature": 44,
         "weather_wind_mph": 4,
         "weather_humidity": "nan",
         "weather_detail": "nan",
         "home_off": 81,
         "home_def": 78,
         "away_off": 79,
         "away_def": 89,
         "total_score": 68,
         "_deepnote_index_column": 144
        },
        {
         "schedule_date": "11/13/2017",
         "schedule_season": 2017,
         "schedule_week": "10",
         "schedule_playoff": "False",
         "team_home": "Carolina Panthers",
         "score_home": 45,
         "score_away": 21,
         "team_away": "Miami Dolphins",
         "team_favorite_id": "CAR",
         "spread_favorite": -8,
         "over_under_line": 38.5,
         "stadium": "Bank of America Stadium",
         "stadium_neutral": "False",
         "weather_temperature": 49,
         "weather_wind_mph": 6,
         "weather_humidity": "nan",
         "weather_detail": "nan",
         "home_off": 84,
         "home_def": 78,
         "away_off": 82,
         "away_def": 77,
         "total_score": 66,
         "_deepnote_index_column": 145
        },
        {
         "schedule_date": "11/19/2017",
         "schedule_season": 2017,
         "schedule_week": "11",
         "schedule_playoff": "False",
         "team_home": "Los Angeles Chargers",
         "score_home": 54,
         "score_away": 24,
         "team_away": "Buffalo Bills",
         "team_favorite_id": "LAC",
         "spread_favorite": -6.5,
         "over_under_line": 41,
         "stadium": "StubHub Center",
         "stadium_neutral": "False",
         "weather_temperature": 71,
         "weather_wind_mph": 3,
         "weather_humidity": "nan",
         "weather_detail": "nan",
         "home_off": 80,
         "home_def": 82,
         "away_off": 80,
         "away_def": 80,
         "total_score": 78,
         "_deepnote_index_column": 153
        },
        {
         "schedule_date": "11/26/2017",
         "schedule_season": 2017,
         "schedule_week": "12",
         "schedule_playoff": "False",
         "team_home": "New York Jets",
         "score_home": 27,
         "score_away": 35,
         "team_away": "Carolina Panthers",
         "team_favorite_id": "CAR",
         "spread_favorite": -5,
         "over_under_line": 40,
         "stadium": "MetLife Stadium",
         "stadium_neutral": "False",
         "weather_temperature": 47,
         "weather_wind_mph": 23,
         "weather_humidity": "nan",
         "weather_detail": "nan",
         "home_off": 73,
         "home_def": 85,
         "away_off": 84,
         "away_def": 78,
         "total_score": 62,
         "_deepnote_index_column": 170
        },
        {
         "schedule_date": "12/3/2017",
         "schedule_season": 2017,
         "schedule_week": "13",
         "schedule_playoff": "False",
         "team_home": "Baltimore Ravens",
         "score_home": 44,
         "score_away": 20,
         "team_away": "Detroit Lions",
         "team_favorite_id": "BAL",
         "spread_favorite": -3,
         "over_under_line": 43.5,
         "stadium": "M&T Bank Stadium",
         "stadium_neutral": "False",
         "weather_temperature": 53,
         "weather_wind_mph": 4,
         "weather_humidity": "nan",
         "weather_detail": "nan",
         "home_off": 80,
         "home_def": 85,
         "away_off": 84,
         "away_def": 79,
         "total_score": 64,
         "_deepnote_index_column": 179
        },
        {
         "schedule_date": "12/3/2017",
         "schedule_season": 2017,
         "schedule_week": "13",
         "schedule_playoff": "False",
         "team_home": "New York Jets",
         "score_home": 38,
         "score_away": 31,
         "team_away": "Kansas City Chiefs",
         "team_favorite_id": "KC",
         "spread_favorite": -3,
         "over_under_line": 43.5,
         "stadium": "MetLife Stadium",
         "stadium_neutral": "False",
         "weather_temperature": 48,
         "weather_wind_mph": 0,
         "weather_humidity": "nan",
         "weather_detail": "nan",
         "home_off": 73,
         "home_def": 85,
         "away_off": 82,
         "away_def": 91,
         "total_score": 69,
         "_deepnote_index_column": 187
        },
        {
         "schedule_date": "12/10/2017",
         "schedule_season": 2017,
         "schedule_week": "14",
         "schedule_playoff": "False",
         "team_home": "Los Angeles Rams",
         "score_home": 35,
         "score_away": 43,
         "team_away": "Philadelphia Eagles",
         "team_favorite_id": "LAR",
         "spread_favorite": -1,
         "over_under_line": 47.5,
         "stadium": "Los Angeles Memorial Coliseum",
         "stadium_neutral": "False",
         "weather_temperature": 83,
         "weather_wind_mph": 0,
         "weather_humidity": "nan",
         "weather_detail": "nan",
         "home_off": 74,
         "home_def": 86,
         "away_off": 82,
         "away_def": 86,
         "total_score": 78,
         "_deepnote_index_column": 203
        },
        {
         "schedule_date": "12/10/2017",
         "schedule_season": 2017,
         "schedule_week": "14",
         "schedule_playoff": "False",
         "team_home": "Pittsburgh Steelers",
         "score_home": 39,
         "score_away": 38,
         "team_away": "Baltimore Ravens",
         "team_favorite_id": "PIT",
         "spread_favorite": -6,
         "over_under_line": 43,
         "stadium": "Heinz Field",
         "stadium_neutral": "False",
         "weather_temperature": 33,
         "weather_wind_mph": 12,
         "weather_humidity": "nan",
         "weather_detail": "nan",
         "home_off": 89,
         "home_def": 84,
         "away_off": 80,
         "away_def": 85,
         "total_score": 77,
         "_deepnote_index_column": 205
        },
        {
         "schedule_date": "12/17/2017",
         "schedule_season": 2017,
         "schedule_week": "15",
         "schedule_playoff": "False",
         "team_home": "New York Giants",
         "score_home": 29,
         "score_away": 34,
         "team_away": "Philadelphia Eagles",
         "team_favorite_id": "PHI",
         "spread_favorite": -7.5,
         "over_under_line": 40,
         "stadium": "MetLife Stadium",
         "stadium_neutral": "False",
         "weather_temperature": 35,
         "weather_wind_mph": 0,
         "weather_humidity": "nan",
         "weather_detail": "nan",
         "home_off": 85,
         "home_def": 88,
         "away_off": 82,
         "away_def": 86,
         "total_score": 63,
         "_deepnote_index_column": 217
        },
        {
         "schedule_date": "12/24/2017",
         "schedule_season": 2017,
         "schedule_week": "16",
         "schedule_playoff": "False",
         "team_home": "San Francisco 49ers",
         "score_home": 44,
         "score_away": 33,
         "team_away": "Jacksonville Jaguars",
         "team_favorite_id": "JAX",
         "spread_favorite": -4,
         "over_under_line": 43,
         "stadium": "Levi's Stadium",
         "stadium_neutral": "False",
         "weather_temperature": 52,
         "weather_wind_mph": 0,
         "weather_humidity": "nan",
         "weather_detail": "nan",
         "home_off": 75,
         "home_def": 76,
         "away_off": 79,
         "away_def": 84,
         "total_score": 77,
         "_deepnote_index_column": 235
        }
       ],
       "rows_bottom": [
        {
         "schedule_date": "12/15/2019",
         "schedule_season": 2019,
         "schedule_week": "15",
         "schedule_playoff": "False",
         "team_home": "Washington Redskins",
         "score_home": 27,
         "score_away": 37,
         "team_away": "Philadelphia Eagles",
         "team_favorite_id": "PHI",
         "spread_favorite": -6.5,
         "over_under_line": 38.5,
         "stadium": "FedEx Field",
         "stadium_neutral": "False",
         "weather_temperature": "nan",
         "weather_wind_mph": "nan",
         "weather_humidity": "nan",
         "weather_detail": "nan",
         "home_off": 80,
         "home_def": 75,
         "away_off": 84,
         "away_def": 87,
         "total_score": 64,
         "_deepnote_index_column": 756
        },
        {
         "schedule_date": "12/22/2019",
         "schedule_season": 2019,
         "schedule_week": "16",
         "schedule_playoff": "False",
         "team_home": "Miami Dolphins",
         "score_home": 38,
         "score_away": 35,
         "team_away": "Cincinnati Bengals",
         "team_favorite_id": "CIN",
         "spread_favorite": -1.5,
         "over_under_line": 45,
         "stadium": "Hard Rock Stadium",
         "stadium_neutral": "False",
         "weather_temperature": "nan",
         "weather_wind_mph": "nan",
         "weather_humidity": "nan",
         "weather_detail": "nan",
         "home_off": 72,
         "home_def": 69,
         "away_off": "nan",
         "away_def": "nan",
         "total_score": 73,
         "_deepnote_index_column": 767
        },
        {
         "schedule_date": "12/22/2019",
         "schedule_season": 2019,
         "schedule_week": "16",
         "schedule_playoff": "False",
         "team_home": "Washington Redskins",
         "score_home": 35,
         "score_away": 41,
         "team_away": "New York Giants",
         "team_favorite_id": "NYG",
         "spread_favorite": -1,
         "over_under_line": 42,
         "stadium": "FedEx Field",
         "stadium_neutral": "False",
         "weather_temperature": "nan",
         "weather_wind_mph": "nan",
         "weather_humidity": "nan",
         "weather_detail": "nan",
         "home_off": 80,
         "home_def": 75,
         "away_off": 72,
         "away_def": 75,
         "total_score": 76,
         "_deepnote_index_column": 772
        },
        {
         "schedule_date": "1/12/2020",
         "schedule_season": 2019,
         "schedule_week": "Division",
         "schedule_playoff": "True",
         "team_home": "Kansas City Chiefs",
         "score_home": 51,
         "score_away": 31,
         "team_away": "Houston Texans",
         "team_favorite_id": "KC",
         "spread_favorite": -10,
         "over_under_line": 50.5,
         "stadium": "Arrowhead Stadium",
         "stadium_neutral": "False",
         "weather_temperature": "nan",
         "weather_wind_mph": "nan",
         "weather_humidity": "nan",
         "weather_detail": "nan",
         "home_off": 78,
         "home_def": 88,
         "away_off": 88,
         "away_def": 78,
         "total_score": 82,
         "_deepnote_index_column": 797
        },
        {
         "schedule_date": "9/13/2020",
         "schedule_season": 2020,
         "schedule_week": "1",
         "schedule_playoff": "False",
         "team_home": "Minnesota Vikings",
         "score_home": 34,
         "score_away": 43,
         "team_away": "Green Bay Packers",
         "team_favorite_id": "MIN",
         "spread_favorite": -2.5,
         "over_under_line": 44.5,
         "stadium": "U.S. Bank Stadium",
         "stadium_neutral": "False",
         "weather_temperature": 72,
         "weather_wind_mph": 0,
         "weather_humidity": "nan",
         "weather_detail": "DOME",
         "home_off": 80,
         "home_def": 81,
         "away_off": 89,
         "away_def": 80,
         "total_score": 77,
         "_deepnote_index_column": 810
        },
        {
         "schedule_date": "9/17/2020",
         "schedule_season": 2020,
         "schedule_week": "2",
         "schedule_playoff": "False",
         "team_home": "Cleveland Browns",
         "score_home": 35,
         "score_away": 30,
         "team_away": "Cincinnati Bengals",
         "team_favorite_id": "CLE",
         "spread_favorite": -6,
         "over_under_line": 43,
         "stadium": "FirstEnergy Stadium",
         "stadium_neutral": "False",
         "weather_temperature": "nan",
         "weather_wind_mph": "nan",
         "weather_humidity": "nan",
         "weather_detail": "nan",
         "home_off": 82,
         "home_def": 76,
         "away_off": 71,
         "away_def": 85,
         "total_score": 65,
         "_deepnote_index_column": 817
        },
        {
         "schedule_date": "9/20/2020",
         "schedule_season": 2020,
         "schedule_week": "2",
         "schedule_playoff": "False",
         "team_home": "Dallas Cowboys",
         "score_home": 40,
         "score_away": 39,
         "team_away": "Atlanta Falcons",
         "team_favorite_id": "DAL",
         "spread_favorite": -3.5,
         "over_under_line": 53.5,
         "stadium": "AT&T Stadium",
         "stadium_neutral": "False",
         "weather_temperature": 72,
         "weather_wind_mph": 0,
         "weather_humidity": "nan",
         "weather_detail": "DOME",
         "home_off": 87,
         "home_def": 82,
         "away_off": 85,
         "away_def": 72,
         "total_score": 79,
         "_deepnote_index_column": 820
        },
        {
         "schedule_date": "9/20/2020",
         "schedule_season": 2020,
         "schedule_week": "2",
         "schedule_playoff": "False",
         "team_home": "Seattle Seahawks",
         "score_home": 35,
         "score_away": 30,
         "team_away": "New England Patriots",
         "team_favorite_id": "SEA",
         "spread_favorite": -4,
         "over_under_line": 44.5,
         "stadium": "CenturyLink Field",
         "stadium_neutral": "False",
         "weather_temperature": "nan",
         "weather_wind_mph": "nan",
         "weather_humidity": "nan",
         "weather_detail": "nan",
         "home_off": 88,
         "home_def": 80,
         "away_off": 75,
         "away_def": 85,
         "total_score": 65,
         "_deepnote_index_column": 829
        },
        {
         "schedule_date": "10/1/2020",
         "schedule_season": 2020,
         "schedule_week": "4",
         "schedule_playoff": "False",
         "team_home": "New York Jets",
         "score_home": 28,
         "score_away": 37,
         "team_away": "Denver Broncos",
         "team_favorite_id": "NYJ",
         "spread_favorite": -1.5,
         "over_under_line": 41,
         "stadium": "MetLife Stadium",
         "stadium_neutral": "False",
         "weather_temperature": "nan",
         "weather_wind_mph": "nan",
         "weather_humidity": "nan",
         "weather_detail": "nan",
         "home_off": 67,
         "home_def": 75,
         "away_off": 69,
         "away_def": 84,
         "total_score": 65,
         "_deepnote_index_column": 849
        },
        {
         "schedule_date": "10/4/2020",
         "schedule_season": 2020,
         "schedule_week": "4",
         "schedule_playoff": "False",
         "team_home": "Dallas Cowboys",
         "score_home": 38,
         "score_away": 49,
         "team_away": "Cleveland Browns",
         "team_favorite_id": "DAL",
         "spread_favorite": -3.5,
         "over_under_line": 56,
         "stadium": "AT&T Stadium",
         "stadium_neutral": "False",
         "weather_temperature": 72,
         "weather_wind_mph": 0,
         "weather_humidity": "nan",
         "weather_detail": "DOME",
         "home_off": 87,
         "home_def": 82,
         "away_off": 82,
         "away_def": 76,
         "total_score": 87,
         "_deepnote_index_column": 853
        },
        {
         "schedule_date": "10/4/2020",
         "schedule_season": 2020,
         "schedule_week": "4",
         "schedule_playoff": "False",
         "team_home": "Tampa Bay Buccaneers",
         "score_home": 38,
         "score_away": 31,
         "team_away": "Los Angeles Chargers",
         "team_favorite_id": "TB",
         "spread_favorite": -7,
         "over_under_line": 42.5,
         "stadium": "Raymond James Stadium",
         "stadium_neutral": "False",
         "weather_temperature": "nan",
         "weather_wind_mph": "nan",
         "weather_humidity": "nan",
         "weather_detail": "nan",
         "home_off": 87,
         "home_def": 83,
         "away_off": 74,
         "away_def": 83,
         "total_score": 69,
         "_deepnote_index_column": 860
        },
        {
         "schedule_date": "10/11/2020",
         "schedule_season": 2020,
         "schedule_week": "5",
         "schedule_playoff": "False",
         "team_home": "Pittsburgh Steelers",
         "score_home": 38,
         "score_away": 29,
         "team_away": "Philadelphia Eagles",
         "team_favorite_id": "PIT",
         "spread_favorite": -7,
         "over_under_line": 43.5,
         "stadium": "Heinz Field",
         "stadium_neutral": "False",
         "weather_temperature": "nan",
         "weather_wind_mph": "nan",
         "weather_humidity": "nan",
         "weather_detail": "nan",
         "home_off": 79,
         "home_def": 84,
         "away_off": 80,
         "away_def": 76,
         "total_score": 67,
         "_deepnote_index_column": 872
        },
        {
         "schedule_date": "10/18/2020",
         "schedule_season": 2020,
         "schedule_week": "6",
         "schedule_playoff": "False",
         "team_home": "Tennessee Titans",
         "score_home": 42,
         "score_away": 36,
         "team_away": "Houston Texans",
         "team_favorite_id": "TEN",
         "spread_favorite": -3.5,
         "over_under_line": 53.5,
         "stadium": "Nissan Stadium",
         "stadium_neutral": "False",
         "weather_temperature": "nan",
         "weather_wind_mph": "nan",
         "weather_humidity": "nan",
         "weather_detail": "nan",
         "home_off": 77,
         "home_def": 81,
         "away_off": 78,
         "away_def": 79,
         "total_score": 78,
         "_deepnote_index_column": 889
        },
        {
         "schedule_date": "11/8/2020",
         "schedule_season": 2020,
         "schedule_week": "9",
         "schedule_playoff": "False",
         "team_home": "Buffalo Bills",
         "score_home": 44,
         "score_away": 34,
         "team_away": "Seattle Seahawks",
         "team_favorite_id": "SEA",
         "spread_favorite": -3,
         "over_under_line": 55,
         "stadium": "New Era Field",
         "stadium_neutral": "False",
         "weather_temperature": "nan",
         "weather_wind_mph": "nan",
         "weather_humidity": "nan",
         "weather_detail": "nan",
         "home_off": 77,
         "home_def": 84,
         "away_off": 88,
         "away_def": 80,
         "total_score": 78,
         "_deepnote_index_column": 923
        },
        {
         "schedule_date": "11/29/2020",
         "schedule_season": 2020,
         "schedule_week": "12",
         "schedule_playoff": "False",
         "team_home": "Green Bay Packers",
         "score_home": 41,
         "score_away": 25,
         "team_away": "Chicago Bears",
         "team_favorite_id": "GB",
         "spread_favorite": -9.5,
         "over_under_line": 44,
         "stadium": "Lambeau Field",
         "stadium_neutral": "False",
         "weather_temperature": "nan",
         "weather_wind_mph": "nan",
         "weather_humidity": "nan",
         "weather_detail": "nan",
         "home_off": 89,
         "home_def": 80,
         "away_off": 73,
         "away_def": 88,
         "total_score": 66,
         "_deepnote_index_column": 968
        },
        {
         "schedule_date": "12/6/2020",
         "schedule_season": 2020,
         "schedule_week": "13",
         "schedule_playoff": "False",
         "team_home": "Tennessee Titans",
         "score_home": 35,
         "score_away": 41,
         "team_away": "Cleveland Browns",
         "team_favorite_id": "TEN",
         "spread_favorite": -3.5,
         "over_under_line": 53.5,
         "stadium": "Nissan Stadium",
         "stadium_neutral": "False",
         "weather_temperature": "nan",
         "weather_wind_mph": "nan",
         "weather_humidity": "nan",
         "weather_detail": "nan",
         "home_off": 77,
         "home_def": 81,
         "away_off": 82,
         "away_def": 76,
         "total_score": 76,
         "_deepnote_index_column": 989
        },
        {
         "schedule_date": "12/14/2020",
         "schedule_season": 2020,
         "schedule_week": "14",
         "schedule_playoff": "False",
         "team_home": "Cleveland Browns",
         "score_home": 42,
         "score_away": 47,
         "team_away": "Baltimore Ravens",
         "team_favorite_id": "BAL",
         "spread_favorite": -3,
         "over_under_line": 45.5,
         "stadium": "FirstEnergy Stadium",
         "stadium_neutral": "False",
         "weather_temperature": "nan",
         "weather_wind_mph": "nan",
         "weather_humidity": "nan",
         "weather_detail": "nan",
         "home_off": 82,
         "home_def": 76,
         "away_off": 89,
         "away_def": 86,
         "total_score": 89,
         "_deepnote_index_column": 1008
        },
        {
         "schedule_date": "12/20/2020",
         "schedule_season": 2020,
         "schedule_week": "15",
         "schedule_playoff": "False",
         "team_home": "Dallas Cowboys",
         "score_home": 41,
         "score_away": 33,
         "team_away": "San Francisco 49ers",
         "team_favorite_id": "SF",
         "spread_favorite": -4,
         "over_under_line": 45.5,
         "stadium": "AT&T Stadium",
         "stadium_neutral": "False",
         "weather_temperature": 72,
         "weather_wind_mph": 0,
         "weather_humidity": "nan",
         "weather_detail": "DOME",
         "home_off": 87,
         "home_def": 82,
         "away_off": 84,
         "away_def": 87,
         "total_score": 74,
         "_deepnote_index_column": 1015
        },
        {
         "schedule_date": "12/25/2020",
         "schedule_season": 2020,
         "schedule_week": "16",
         "schedule_playoff": "False",
         "team_home": "New Orleans Saints",
         "score_home": 52,
         "score_away": 33,
         "team_away": "Minnesota Vikings",
         "team_favorite_id": "NO",
         "spread_favorite": -6.5,
         "over_under_line": 49.5,
         "stadium": "Mercedes-Benz Superdome",
         "stadium_neutral": "False",
         "weather_temperature": 72,
         "weather_wind_mph": 0,
         "weather_humidity": "nan",
         "weather_detail": "DOME",
         "home_off": 96,
         "home_def": 86,
         "away_off": 80,
         "away_def": 81,
         "total_score": 85,
         "_deepnote_index_column": 1025
        },
        {
         "schedule_date": "12/27/2020",
         "schedule_season": 2020,
         "schedule_week": "16",
         "schedule_playoff": "False",
         "team_home": "Houston Texans",
         "score_home": 31,
         "score_away": 37,
         "team_away": "Cincinnati Bengals",
         "team_favorite_id": "HOU",
         "spread_favorite": -7.5,
         "over_under_line": 46,
         "stadium": "NRG Stadium",
         "stadium_neutral": "False",
         "weather_temperature": 72,
         "weather_wind_mph": 0,
         "weather_humidity": "nan",
         "weather_detail": "DOME",
         "home_off": 78,
         "home_def": 79,
         "away_off": 71,
         "away_def": 85,
         "total_score": 68,
         "_deepnote_index_column": 1032
        },
        {
         "schedule_date": "1/3/2021",
         "schedule_season": 2020,
         "schedule_week": "17",
         "schedule_playoff": "False",
         "team_home": "Buffalo Bills",
         "score_home": 56,
         "score_away": 26,
         "team_away": "Miami Dolphins",
         "team_favorite_id": "MIA",
         "spread_favorite": -3,
         "over_under_line": 42.5,
         "stadium": "New Era Field",
         "stadium_neutral": "False",
         "weather_temperature": "nan",
         "weather_wind_mph": "nan",
         "weather_humidity": "nan",
         "weather_detail": "nan",
         "home_off": 77,
         "home_def": 84,
         "away_off": 69,
         "away_def": 78,
         "total_score": 82,
         "_deepnote_index_column": 1041
        },
        {
         "schedule_date": "1/3/2021",
         "schedule_season": 2020,
         "schedule_week": "17",
         "schedule_playoff": "False",
         "team_home": "Houston Texans",
         "score_home": 38,
         "score_away": 41,
         "team_away": "Tennessee Titans",
         "team_favorite_id": "TEN",
         "spread_favorite": -7,
         "over_under_line": 55.5,
         "stadium": "NRG Stadium",
         "stadium_neutral": "False",
         "weather_temperature": 72,
         "weather_wind_mph": 0,
         "weather_humidity": "nan",
         "weather_detail": "DOME",
         "home_off": 78,
         "home_def": 79,
         "away_off": 77,
         "away_def": 81,
         "total_score": 79,
         "_deepnote_index_column": 1048
        },
        {
         "schedule_date": "1/10/2021",
         "schedule_season": 2020,
         "schedule_week": "Wildcard",
         "schedule_playoff": "True",
         "team_home": "Pittsburgh Steelers",
         "score_home": 37,
         "score_away": 48,
         "team_away": "Cleveland Browns",
         "team_favorite_id": "PIT",
         "spread_favorite": -5.5,
         "over_under_line": 47.5,
         "stadium": "Heinz Field",
         "stadium_neutral": "False",
         "weather_temperature": "nan",
         "weather_wind_mph": "nan",
         "weather_humidity": "nan",
         "weather_detail": "nan",
         "home_off": 79,
         "home_def": 84,
         "away_off": 82,
         "away_def": 76,
         "total_score": 85,
         "_deepnote_index_column": 1061
        }
       ]
      },
      "text/plain": "     schedule_date  schedule_season schedule_week  schedule_playoff  \\\n0         9/7/2017             2017             1             False   \n26       9/17/2017             2017             2             False   \n31       9/21/2017             2017             3             False   \n41       9/24/2017             2017             3             False   \n54       10/1/2017             2017             4             False   \n...            ...              ...           ...               ...   \n1025    12/25/2020             2020            16             False   \n1032    12/27/2020             2020            16             False   \n1041      1/3/2021             2020            17             False   \n1048      1/3/2021             2020            17             False   \n1061     1/10/2021             2020      Wildcard              True   \n\n                 team_home  score_home  score_away           team_away  \\\n0     New England Patriots        27.0        42.0  Kansas City Chiefs   \n26         Oakland Raiders        45.0        20.0       New York Jets   \n31     San Francisco 49ers        39.0        41.0    Los Angeles Rams   \n41    New England Patriots        36.0        33.0      Houston Texans   \n54          Houston Texans        57.0        14.0    Tennessee Titans   \n...                    ...         ...         ...                 ...   \n1025    New Orleans Saints        52.0        33.0   Minnesota Vikings   \n1032        Houston Texans        31.0        37.0  Cincinnati Bengals   \n1041         Buffalo Bills        56.0        26.0      Miami Dolphins   \n1048        Houston Texans        38.0        41.0    Tennessee Titans   \n1061   Pittsburgh Steelers        37.0        48.0    Cleveland Browns   \n\n     team_favorite_id  spread_favorite  ...  stadium_neutral  \\\n0                  NE             -9.0  ...            False   \n26                LVR            -14.0  ...            False   \n31                LAR             -2.0  ...            False   \n41                 NE            -13.0  ...            False   \n54                TEN             -2.0  ...            False   \n...               ...              ...  ...              ...   \n1025               NO             -6.5  ...            False   \n1032              HOU             -7.5  ...            False   \n1041              MIA             -3.0  ...            False   \n1048              TEN             -7.0  ...            False   \n1061              PIT             -5.5  ...            False   \n\n     weather_temperature weather_wind_mph  weather_humidity  weather_detail  \\\n0                   63.0              7.0               NaN             NaN   \n26                  69.0              6.0               NaN             NaN   \n31                  65.0             11.0               NaN             NaN   \n41                  76.0              8.0               NaN             NaN   \n54                  72.0              0.0               NaN            DOME   \n...                  ...              ...               ...             ...   \n1025                72.0              0.0               NaN            DOME   \n1032                72.0              0.0               NaN            DOME   \n1041                 NaN              NaN               NaN             NaN   \n1048                72.0              0.0               NaN            DOME   \n1061                 NaN              NaN               NaN             NaN   \n\n      home_off home_def  away_off  away_def  total_score  \n0         92.0     88.0      82.0      91.0         69.0  \n26        86.0     79.0      73.0      85.0         65.0  \n31        75.0     76.0      74.0      86.0         80.0  \n41        92.0     88.0      77.0      90.0         69.0  \n54        77.0     90.0      86.0      79.0         71.0  \n...        ...      ...       ...       ...          ...  \n1025      96.0     86.0      80.0      81.0         85.0  \n1032      78.0     79.0      71.0      85.0         68.0  \n1041      77.0     84.0      69.0      78.0         82.0  \n1048      78.0     79.0      77.0      81.0         79.0  \n1061      79.0     84.0      82.0      76.0         85.0  \n\n[77 rows x 22 columns]",
      "text/html": "<div>\n<style scoped>\n    .dataframe tbody tr th:only-of-type {\n        vertical-align: middle;\n    }\n\n    .dataframe tbody tr th {\n        vertical-align: top;\n    }\n\n    .dataframe thead th {\n        text-align: right;\n    }\n</style>\n<table border=\"1\" class=\"dataframe\">\n  <thead>\n    <tr style=\"text-align: right;\">\n      <th></th>\n      <th>schedule_date</th>\n      <th>schedule_season</th>\n      <th>schedule_week</th>\n      <th>schedule_playoff</th>\n      <th>team_home</th>\n      <th>score_home</th>\n      <th>score_away</th>\n      <th>team_away</th>\n      <th>team_favorite_id</th>\n      <th>spread_favorite</th>\n      <th>...</th>\n      <th>stadium_neutral</th>\n      <th>weather_temperature</th>\n      <th>weather_wind_mph</th>\n      <th>weather_humidity</th>\n      <th>weather_detail</th>\n      <th>home_off</th>\n      <th>home_def</th>\n      <th>away_off</th>\n      <th>away_def</th>\n      <th>total_score</th>\n    </tr>\n  </thead>\n  <tbody>\n    <tr>\n      <th>0</th>\n      <td>9/7/2017</td>\n      <td>2017</td>\n      <td>1</td>\n      <td>False</td>\n      <td>New England Patriots</td>\n      <td>27.0</td>\n      <td>42.0</td>\n      <td>Kansas City Chiefs</td>\n      <td>NE</td>\n      <td>-9.0</td>\n      <td>...</td>\n      <td>False</td>\n      <td>63.0</td>\n      <td>7.0</td>\n      <td>NaN</td>\n      <td>NaN</td>\n      <td>92.0</td>\n      <td>88.0</td>\n      <td>82.0</td>\n      <td>91.0</td>\n      <td>69.0</td>\n    </tr>\n    <tr>\n      <th>26</th>\n      <td>9/17/2017</td>\n      <td>2017</td>\n      <td>2</td>\n      <td>False</td>\n      <td>Oakland Raiders</td>\n      <td>45.0</td>\n      <td>20.0</td>\n      <td>New York Jets</td>\n      <td>LVR</td>\n      <td>-14.0</td>\n      <td>...</td>\n      <td>False</td>\n      <td>69.0</td>\n      <td>6.0</td>\n      <td>NaN</td>\n      <td>NaN</td>\n      <td>86.0</td>\n      <td>79.0</td>\n      <td>73.0</td>\n      <td>85.0</td>\n      <td>65.0</td>\n    </tr>\n    <tr>\n      <th>31</th>\n      <td>9/21/2017</td>\n      <td>2017</td>\n      <td>3</td>\n      <td>False</td>\n      <td>San Francisco 49ers</td>\n      <td>39.0</td>\n      <td>41.0</td>\n      <td>Los Angeles Rams</td>\n      <td>LAR</td>\n      <td>-2.0</td>\n      <td>...</td>\n      <td>False</td>\n      <td>65.0</td>\n      <td>11.0</td>\n      <td>NaN</td>\n      <td>NaN</td>\n      <td>75.0</td>\n      <td>76.0</td>\n      <td>74.0</td>\n      <td>86.0</td>\n      <td>80.0</td>\n    </tr>\n    <tr>\n      <th>41</th>\n      <td>9/24/2017</td>\n      <td>2017</td>\n      <td>3</td>\n      <td>False</td>\n      <td>New England Patriots</td>\n      <td>36.0</td>\n      <td>33.0</td>\n      <td>Houston Texans</td>\n      <td>NE</td>\n      <td>-13.0</td>\n      <td>...</td>\n      <td>False</td>\n      <td>76.0</td>\n      <td>8.0</td>\n      <td>NaN</td>\n      <td>NaN</td>\n      <td>92.0</td>\n      <td>88.0</td>\n      <td>77.0</td>\n      <td>90.0</td>\n      <td>69.0</td>\n    </tr>\n    <tr>\n      <th>54</th>\n      <td>10/1/2017</td>\n      <td>2017</td>\n      <td>4</td>\n      <td>False</td>\n      <td>Houston Texans</td>\n      <td>57.0</td>\n      <td>14.0</td>\n      <td>Tennessee Titans</td>\n      <td>TEN</td>\n      <td>-2.0</td>\n      <td>...</td>\n      <td>False</td>\n      <td>72.0</td>\n      <td>0.0</td>\n      <td>NaN</td>\n      <td>DOME</td>\n      <td>77.0</td>\n      <td>90.0</td>\n      <td>86.0</td>\n      <td>79.0</td>\n      <td>71.0</td>\n    </tr>\n    <tr>\n      <th>...</th>\n      <td>...</td>\n      <td>...</td>\n      <td>...</td>\n      <td>...</td>\n      <td>...</td>\n      <td>...</td>\n      <td>...</td>\n      <td>...</td>\n      <td>...</td>\n      <td>...</td>\n      <td>...</td>\n      <td>...</td>\n      <td>...</td>\n      <td>...</td>\n      <td>...</td>\n      <td>...</td>\n      <td>...</td>\n      <td>...</td>\n      <td>...</td>\n      <td>...</td>\n      <td>...</td>\n    </tr>\n    <tr>\n      <th>1025</th>\n      <td>12/25/2020</td>\n      <td>2020</td>\n      <td>16</td>\n      <td>False</td>\n      <td>New Orleans Saints</td>\n      <td>52.0</td>\n      <td>33.0</td>\n      <td>Minnesota Vikings</td>\n      <td>NO</td>\n      <td>-6.5</td>\n      <td>...</td>\n      <td>False</td>\n      <td>72.0</td>\n      <td>0.0</td>\n      <td>NaN</td>\n      <td>DOME</td>\n      <td>96.0</td>\n      <td>86.0</td>\n      <td>80.0</td>\n      <td>81.0</td>\n      <td>85.0</td>\n    </tr>\n    <tr>\n      <th>1032</th>\n      <td>12/27/2020</td>\n      <td>2020</td>\n      <td>16</td>\n      <td>False</td>\n      <td>Houston Texans</td>\n      <td>31.0</td>\n      <td>37.0</td>\n      <td>Cincinnati Bengals</td>\n      <td>HOU</td>\n      <td>-7.5</td>\n      <td>...</td>\n      <td>False</td>\n      <td>72.0</td>\n      <td>0.0</td>\n      <td>NaN</td>\n      <td>DOME</td>\n      <td>78.0</td>\n      <td>79.0</td>\n      <td>71.0</td>\n      <td>85.0</td>\n      <td>68.0</td>\n    </tr>\n    <tr>\n      <th>1041</th>\n      <td>1/3/2021</td>\n      <td>2020</td>\n      <td>17</td>\n      <td>False</td>\n      <td>Buffalo Bills</td>\n      <td>56.0</td>\n      <td>26.0</td>\n      <td>Miami Dolphins</td>\n      <td>MIA</td>\n      <td>-3.0</td>\n      <td>...</td>\n      <td>False</td>\n      <td>NaN</td>\n      <td>NaN</td>\n      <td>NaN</td>\n      <td>NaN</td>\n      <td>77.0</td>\n      <td>84.0</td>\n      <td>69.0</td>\n      <td>78.0</td>\n      <td>82.0</td>\n    </tr>\n    <tr>\n      <th>1048</th>\n      <td>1/3/2021</td>\n      <td>2020</td>\n      <td>17</td>\n      <td>False</td>\n      <td>Houston Texans</td>\n      <td>38.0</td>\n      <td>41.0</td>\n      <td>Tennessee Titans</td>\n      <td>TEN</td>\n      <td>-7.0</td>\n      <td>...</td>\n      <td>False</td>\n      <td>72.0</td>\n      <td>0.0</td>\n      <td>NaN</td>\n      <td>DOME</td>\n      <td>78.0</td>\n      <td>79.0</td>\n      <td>77.0</td>\n      <td>81.0</td>\n      <td>79.0</td>\n    </tr>\n    <tr>\n      <th>1061</th>\n      <td>1/10/2021</td>\n      <td>2020</td>\n      <td>Wildcard</td>\n      <td>True</td>\n      <td>Pittsburgh Steelers</td>\n      <td>37.0</td>\n      <td>48.0</td>\n      <td>Cleveland Browns</td>\n      <td>PIT</td>\n      <td>-5.5</td>\n      <td>...</td>\n      <td>False</td>\n      <td>NaN</td>\n      <td>NaN</td>\n      <td>NaN</td>\n      <td>NaN</td>\n      <td>79.0</td>\n      <td>84.0</td>\n      <td>82.0</td>\n      <td>76.0</td>\n      <td>85.0</td>\n    </tr>\n  </tbody>\n</table>\n<p>77 rows × 22 columns</p>\n</div>"
     },
     "metadata": {}
    }
   ],
   "execution_count": 10
  },
  {
   "cell_type": "code",
   "metadata": {
    "tags": [],
    "cell_id": "00013-1a274039-d670-47a3-86f6-30784beeb72d",
    "deepnote_to_be_reexecuted": false,
    "source_hash": "690b4fb8",
    "execution_start": 1632261869339,
    "execution_millis": 148,
    "deepnote_cell_type": "code"
   },
   "source": "df_with_madden.describe()",
   "outputs": [
    {
     "output_type": "execute_result",
     "execution_count": 11,
     "data": {
      "application/vnd.deepnote.dataframe.v2+json": {
       "row_count": 8,
       "column_count": 13,
       "columns": [
        {
         "name": "schedule_season",
         "dtype": "float64",
         "stats": {
          "unique_count": 7,
          "nan_count": 0,
          "min": "1.119389278225756",
          "max": "2020.0",
          "histogram": [
           {
            "bin_start": 1.119389278225756,
            "bin_end": 203.0074503504032,
            "count": 1
           },
           {
            "bin_start": 203.0074503504032,
            "bin_end": 404.8955114225806,
            "count": 0
           },
           {
            "bin_start": 404.8955114225806,
            "bin_end": 606.7835724947581,
            "count": 0
           },
           {
            "bin_start": 606.7835724947581,
            "bin_end": 808.6716335669355,
            "count": 0
           },
           {
            "bin_start": 808.6716335669355,
            "bin_end": 1010.5596946391129,
            "count": 0
           },
           {
            "bin_start": 1010.5596946391129,
            "bin_end": 1212.4477557112905,
            "count": 1
           },
           {
            "bin_start": 1212.4477557112905,
            "bin_end": 1414.3358167834679,
            "count": 0
           },
           {
            "bin_start": 1414.3358167834679,
            "bin_end": 1616.2238778556452,
            "count": 0
           },
           {
            "bin_start": 1616.2238778556452,
            "bin_end": 1818.1119389278226,
            "count": 0
           },
           {
            "bin_start": 1818.1119389278226,
            "bin_end": 2020,
            "count": 6
           }
          ]
         }
        },
        {
         "name": "score_home",
         "dtype": "float64",
         "stats": {
          "unique_count": 8,
          "nan_count": 0,
          "min": "0.0",
          "max": "1070.0",
          "histogram": [
           {
            "bin_start": 0,
            "bin_end": 107,
            "count": 7
           },
           {
            "bin_start": 107,
            "bin_end": 214,
            "count": 0
           },
           {
            "bin_start": 214,
            "bin_end": 321,
            "count": 0
           },
           {
            "bin_start": 321,
            "bin_end": 428,
            "count": 0
           },
           {
            "bin_start": 428,
            "bin_end": 535,
            "count": 0
           },
           {
            "bin_start": 535,
            "bin_end": 642,
            "count": 0
           },
           {
            "bin_start": 642,
            "bin_end": 749,
            "count": 0
           },
           {
            "bin_start": 749,
            "bin_end": 856,
            "count": 0
           },
           {
            "bin_start": 856,
            "bin_end": 963,
            "count": 0
           },
           {
            "bin_start": 963,
            "bin_end": 1070,
            "count": 1
           }
          ]
         }
        },
        {
         "name": "score_away",
         "dtype": "float64",
         "stats": {
          "unique_count": 8,
          "nan_count": 0,
          "min": "0.0",
          "max": "1070.0",
          "histogram": [
           {
            "bin_start": 0,
            "bin_end": 107,
            "count": 7
           },
           {
            "bin_start": 107,
            "bin_end": 214,
            "count": 0
           },
           {
            "bin_start": 214,
            "bin_end": 321,
            "count": 0
           },
           {
            "bin_start": 321,
            "bin_end": 428,
            "count": 0
           },
           {
            "bin_start": 428,
            "bin_end": 535,
            "count": 0
           },
           {
            "bin_start": 535,
            "bin_end": 642,
            "count": 0
           },
           {
            "bin_start": 642,
            "bin_end": 749,
            "count": 0
           },
           {
            "bin_start": 749,
            "bin_end": 856,
            "count": 0
           },
           {
            "bin_start": 856,
            "bin_end": 963,
            "count": 0
           },
           {
            "bin_start": 963,
            "bin_end": 1070,
            "count": 1
           }
          ]
         }
        },
        {
         "name": "spread_favorite",
         "dtype": "float64",
         "stats": {
          "unique_count": 8,
          "nan_count": 0,
          "min": "-21.5",
          "max": "1070.0",
          "histogram": [
           {
            "bin_start": -21.5,
            "bin_end": 87.65,
            "count": 7
           },
           {
            "bin_start": 87.65,
            "bin_end": 196.8,
            "count": 0
           },
           {
            "bin_start": 196.8,
            "bin_end": 305.95000000000005,
            "count": 0
           },
           {
            "bin_start": 305.95000000000005,
            "bin_end": 415.1,
            "count": 0
           },
           {
            "bin_start": 415.1,
            "bin_end": 524.25,
            "count": 0
           },
           {
            "bin_start": 524.25,
            "bin_end": 633.4000000000001,
            "count": 0
           },
           {
            "bin_start": 633.4000000000001,
            "bin_end": 742.5500000000001,
            "count": 0
           },
           {
            "bin_start": 742.5500000000001,
            "bin_end": 851.7,
            "count": 0
           },
           {
            "bin_start": 851.7,
            "bin_end": 960.85,
            "count": 0
           },
           {
            "bin_start": 960.85,
            "bin_end": 1070,
            "count": 1
           }
          ]
         }
        },
        {
         "name": "over_under_line",
         "dtype": "float64",
         "stats": {
          "unique_count": 8,
          "nan_count": 0,
          "min": "4.582415343027891",
          "max": "1070.0",
          "histogram": [
           {
            "bin_start": 4.582415343027891,
            "bin_end": 111.1241738087251,
            "count": 7
           },
           {
            "bin_start": 111.1241738087251,
            "bin_end": 217.66593227442232,
            "count": 0
           },
           {
            "bin_start": 217.66593227442232,
            "bin_end": 324.2076907401195,
            "count": 0
           },
           {
            "bin_start": 324.2076907401195,
            "bin_end": 430.74944920581675,
            "count": 0
           },
           {
            "bin_start": 430.74944920581675,
            "bin_end": 537.291207671514,
            "count": 0
           },
           {
            "bin_start": 537.291207671514,
            "bin_end": 643.8329661372112,
            "count": 0
           },
           {
            "bin_start": 643.8329661372112,
            "bin_end": 750.3747246029085,
            "count": 0
           },
           {
            "bin_start": 750.3747246029085,
            "bin_end": 856.9164830686057,
            "count": 0
           },
           {
            "bin_start": 856.9164830686057,
            "bin_end": 963.4582415343028,
            "count": 0
           },
           {
            "bin_start": 963.4582415343028,
            "bin_end": 1070,
            "count": 1
           }
          ]
         }
        },
        {
         "name": "weather_temperature",
         "dtype": "float64",
         "stats": {
          "unique_count": 7,
          "nan_count": 0,
          "min": "10.0",
          "max": "666.0",
          "histogram": [
           {
            "bin_start": 10,
            "bin_end": 75.6,
            "count": 6
           },
           {
            "bin_start": 75.6,
            "bin_end": 141.2,
            "count": 1
           },
           {
            "bin_start": 141.2,
            "bin_end": 206.79999999999998,
            "count": 0
           },
           {
            "bin_start": 206.79999999999998,
            "bin_end": 272.4,
            "count": 0
           },
           {
            "bin_start": 272.4,
            "bin_end": 338,
            "count": 0
           },
           {
            "bin_start": 338,
            "bin_end": 403.59999999999997,
            "count": 0
           },
           {
            "bin_start": 403.59999999999997,
            "bin_end": 469.19999999999993,
            "count": 0
           },
           {
            "bin_start": 469.19999999999993,
            "bin_end": 534.8,
            "count": 0
           },
           {
            "bin_start": 534.8,
            "bin_end": 600.4,
            "count": 0
           },
           {
            "bin_start": 600.4,
            "bin_end": 666,
            "count": 1
           }
          ]
         }
        },
        {
         "name": "weather_wind_mph",
         "dtype": "float64",
         "stats": {
          "unique_count": 7,
          "nan_count": 0,
          "min": "0.0",
          "max": "665.0",
          "histogram": [
           {
            "bin_start": 0,
            "bin_end": 66.5,
            "count": 7
           },
           {
            "bin_start": 66.5,
            "bin_end": 133,
            "count": 0
           },
           {
            "bin_start": 133,
            "bin_end": 199.5,
            "count": 0
           },
           {
            "bin_start": 199.5,
            "bin_end": 266,
            "count": 0
           },
           {
            "bin_start": 266,
            "bin_end": 332.5,
            "count": 0
           },
           {
            "bin_start": 332.5,
            "bin_end": 399,
            "count": 0
           },
           {
            "bin_start": 399,
            "bin_end": 465.5,
            "count": 0
           },
           {
            "bin_start": 465.5,
            "bin_end": 532,
            "count": 0
           },
           {
            "bin_start": 532,
            "bin_end": 598.5,
            "count": 0
           },
           {
            "bin_start": 598.5,
            "bin_end": 665,
            "count": 1
           }
          ]
         }
        },
        {
         "name": "weather_humidity",
         "dtype": "float64",
         "stats": {
          "unique_count": 2,
          "nan_count": 1,
          "min": "1.0",
          "max": "78.0",
          "histogram": [
           {
            "bin_start": 1,
            "bin_end": 8.7,
            "count": 1
           },
           {
            "bin_start": 8.7,
            "bin_end": 16.4,
            "count": 0
           },
           {
            "bin_start": 16.4,
            "bin_end": 24.1,
            "count": 0
           },
           {
            "bin_start": 24.1,
            "bin_end": 31.8,
            "count": 0
           },
           {
            "bin_start": 31.8,
            "bin_end": 39.5,
            "count": 0
           },
           {
            "bin_start": 39.5,
            "bin_end": 47.2,
            "count": 0
           },
           {
            "bin_start": 47.2,
            "bin_end": 54.9,
            "count": 0
           },
           {
            "bin_start": 54.9,
            "bin_end": 62.6,
            "count": 0
           },
           {
            "bin_start": 62.6,
            "bin_end": 70.3,
            "count": 0
           },
           {
            "bin_start": 70.3,
            "bin_end": 78,
            "count": 6
           }
          ]
         }
        },
        {
         "name": "home_off",
         "dtype": "float64",
         "stats": {
          "unique_count": 8,
          "nan_count": 0,
          "min": "5.757291732193714",
          "max": "1062.0",
          "histogram": [
           {
            "bin_start": 5.757291732193714,
            "bin_end": 111.38156255897437,
            "count": 7
           },
           {
            "bin_start": 111.38156255897437,
            "bin_end": 217.005833385755,
            "count": 0
           },
           {
            "bin_start": 217.005833385755,
            "bin_end": 322.6301042125357,
            "count": 0
           },
           {
            "bin_start": 322.6301042125357,
            "bin_end": 428.2543750393163,
            "count": 0
           },
           {
            "bin_start": 428.2543750393163,
            "bin_end": 533.8786458660969,
            "count": 0
           },
           {
            "bin_start": 533.8786458660969,
            "bin_end": 639.5029166928776,
            "count": 0
           },
           {
            "bin_start": 639.5029166928776,
            "bin_end": 745.1271875196583,
            "count": 0
           },
           {
            "bin_start": 745.1271875196583,
            "bin_end": 850.7514583464389,
            "count": 0
           },
           {
            "bin_start": 850.7514583464389,
            "bin_end": 956.3757291732195,
            "count": 0
           },
           {
            "bin_start": 956.3757291732195,
            "bin_end": 1062,
            "count": 1
           }
          ]
         }
        },
        {
         "name": "home_def",
         "dtype": "float64",
         "stats": {
          "unique_count": 8,
          "nan_count": 0,
          "min": "5.246206636078644",
          "max": "1062.0",
          "histogram": [
           {
            "bin_start": 5.246206636078644,
            "bin_end": 110.92158597247078,
            "count": 7
           },
           {
            "bin_start": 110.92158597247078,
            "bin_end": 216.59696530886293,
            "count": 0
           },
           {
            "bin_start": 216.59696530886293,
            "bin_end": 322.27234464525503,
            "count": 0
           },
           {
            "bin_start": 322.27234464525503,
            "bin_end": 427.9477239816472,
            "count": 0
           },
           {
            "bin_start": 427.9477239816472,
            "bin_end": 533.6231033180394,
            "count": 0
           },
           {
            "bin_start": 533.6231033180394,
            "bin_end": 639.2984826544315,
            "count": 0
           },
           {
            "bin_start": 639.2984826544315,
            "bin_end": 744.9738619908237,
            "count": 0
           },
           {
            "bin_start": 744.9738619908237,
            "bin_end": 850.6492413272158,
            "count": 0
           },
           {
            "bin_start": 850.6492413272158,
            "bin_end": 956.3246206636079,
            "count": 0
           },
           {
            "bin_start": 956.3246206636079,
            "bin_end": 1062,
            "count": 1
           }
          ]
         }
        },
        {
         "name": "away_off",
         "dtype": "float64",
         "stats": {
          "unique_count": 8,
          "nan_count": 0,
          "min": "5.722319150928559",
          "max": "1062.0",
          "histogram": [
           {
            "bin_start": 5.722319150928559,
            "bin_end": 111.3500872358357,
            "count": 7
           },
           {
            "bin_start": 111.3500872358357,
            "bin_end": 216.97785532074286,
            "count": 0
           },
           {
            "bin_start": 216.97785532074286,
            "bin_end": 322.60562340565,
            "count": 0
           },
           {
            "bin_start": 322.60562340565,
            "bin_end": 428.23339149055715,
            "count": 0
           },
           {
            "bin_start": 428.23339149055715,
            "bin_end": 533.8611595754643,
            "count": 0
           },
           {
            "bin_start": 533.8611595754643,
            "bin_end": 639.4889276603715,
            "count": 0
           },
           {
            "bin_start": 639.4889276603715,
            "bin_end": 745.1166957452785,
            "count": 0
           },
           {
            "bin_start": 745.1166957452785,
            "bin_end": 850.7444638301857,
            "count": 0
           },
           {
            "bin_start": 850.7444638301857,
            "bin_end": 956.3722319150929,
            "count": 0
           },
           {
            "bin_start": 956.3722319150929,
            "bin_end": 1062,
            "count": 1
           }
          ]
         }
        },
        {
         "name": "away_def",
         "dtype": "float64",
         "stats": {
          "unique_count": 8,
          "nan_count": 0,
          "min": "5.224395301211743",
          "max": "1062.0",
          "histogram": [
           {
            "bin_start": 5.224395301211743,
            "bin_end": 110.90195577109058,
            "count": 7
           },
           {
            "bin_start": 110.90195577109058,
            "bin_end": 216.57951624096944,
            "count": 0
           },
           {
            "bin_start": 216.57951624096944,
            "bin_end": 322.2570767108483,
            "count": 0
           },
           {
            "bin_start": 322.2570767108483,
            "bin_end": 427.9346371807271,
            "count": 0
           },
           {
            "bin_start": 427.9346371807271,
            "bin_end": 533.6121976506059,
            "count": 0
           },
           {
            "bin_start": 533.6121976506059,
            "bin_end": 639.2897581204849,
            "count": 0
           },
           {
            "bin_start": 639.2897581204849,
            "bin_end": 744.9673185903637,
            "count": 0
           },
           {
            "bin_start": 744.9673185903637,
            "bin_end": 850.6448790602425,
            "count": 0
           },
           {
            "bin_start": 850.6448790602425,
            "bin_end": 956.3224395301213,
            "count": 0
           },
           {
            "bin_start": 956.3224395301213,
            "bin_end": 1062,
            "count": 1
           }
          ]
         }
        },
        {
         "name": "total_score",
         "dtype": "float64",
         "stats": {
          "unique_count": 8,
          "nan_count": 0,
          "min": "6.0",
          "max": "1070.0",
          "histogram": [
           {
            "bin_start": 6,
            "bin_end": 112.4,
            "count": 7
           },
           {
            "bin_start": 112.4,
            "bin_end": 218.8,
            "count": 0
           },
           {
            "bin_start": 218.8,
            "bin_end": 325.20000000000005,
            "count": 0
           },
           {
            "bin_start": 325.20000000000005,
            "bin_end": 431.6,
            "count": 0
           },
           {
            "bin_start": 431.6,
            "bin_end": 538,
            "count": 0
           },
           {
            "bin_start": 538,
            "bin_end": 644.4000000000001,
            "count": 0
           },
           {
            "bin_start": 644.4000000000001,
            "bin_end": 750.8000000000001,
            "count": 0
           },
           {
            "bin_start": 750.8000000000001,
            "bin_end": 857.2,
            "count": 0
           },
           {
            "bin_start": 857.2,
            "bin_end": 963.6,
            "count": 0
           },
           {
            "bin_start": 963.6,
            "bin_end": 1070,
            "count": 1
           }
          ]
         }
        },
        {
         "name": "_deepnote_index_column",
         "dtype": "object"
        }
       ],
       "rows_top": [
        {
         "schedule_season": 1070,
         "score_home": 1070,
         "score_away": 1070,
         "spread_favorite": 1070,
         "over_under_line": 1070,
         "weather_temperature": 666,
         "weather_wind_mph": 665,
         "weather_humidity": 1,
         "home_off": 1062,
         "home_def": 1062,
         "away_off": 1062,
         "away_def": 1062,
         "total_score": 1070,
         "_deepnote_index_column": "count"
        },
        {
         "schedule_season": 2018.5028037383177,
         "score_home": 23.790654205607478,
         "score_away": 22.557943925233644,
         "spread_favorite": -5.458878504672898,
         "over_under_line": 46.038317757009345,
         "weather_temperature": 63.9954954954955,
         "weather_wind_mph": 4.472180451127819,
         "weather_humidity": 78,
         "home_off": 81.29378531073446,
         "home_def": 81.62994350282486,
         "away_off": 81.2984934086629,
         "away_def": 81.515065913371,
         "total_score": 46.34859813084112,
         "_deepnote_index_column": "mean"
        },
        {
         "schedule_season": 1.119389278225756,
         "score_home": 10.23407551873437,
         "score_away": 10.117915991907799,
         "spread_favorite": 3.573521615885478,
         "over_under_line": 4.582415343027891,
         "weather_temperature": 15.303986727454875,
         "weather_wind_mph": 5.018000030364463,
         "weather_humidity": "nan",
         "home_off": 5.757291732193714,
         "home_def": 5.246206636078644,
         "away_off": 5.722319150928559,
         "away_def": 5.224395301211743,
         "total_score": 14.361658135908913,
         "_deepnote_index_column": "std"
        },
        {
         "schedule_season": 2017,
         "score_home": 0,
         "score_away": 0,
         "spread_favorite": -21.5,
         "over_under_line": 35,
         "weather_temperature": 10,
         "weather_wind_mph": 0,
         "weather_humidity": 78,
         "home_off": 66,
         "home_def": 69,
         "away_off": 66,
         "away_def": 69,
         "total_score": 6,
         "_deepnote_index_column": "min"
        },
        {
         "schedule_season": 2018,
         "score_home": 17,
         "score_away": 16,
         "spread_favorite": -7,
         "over_under_line": 43,
         "weather_temperature": 55,
         "weather_wind_mph": 0,
         "weather_humidity": 78,
         "home_off": 78,
         "home_def": 78,
         "away_off": 78,
         "away_def": 78,
         "total_score": 37,
         "_deepnote_index_column": "25%"
        },
        {
         "schedule_season": 2019,
         "score_home": 24,
         "score_away": 23,
         "spread_favorite": -4.5,
         "over_under_line": 46,
         "weather_temperature": 72,
         "weather_wind_mph": 3,
         "weather_humidity": 78,
         "home_off": 81,
         "home_def": 82,
         "away_off": 81,
         "away_def": 82,
         "total_score": 46,
         "_deepnote_index_column": "50%"
        },
        {
         "schedule_season": 2020,
         "score_home": 31,
         "score_away": 30,
         "spread_favorite": -3,
         "over_under_line": 49,
         "weather_temperature": 72,
         "weather_wind_mph": 8,
         "weather_humidity": 78,
         "home_off": 85,
         "home_def": 85,
         "away_off": 85,
         "away_def": 85,
         "total_score": 55,
         "_deepnote_index_column": "75%"
        },
        {
         "schedule_season": 2020,
         "score_home": 57,
         "score_away": 59,
         "spread_favorite": 0,
         "over_under_line": 63.5,
         "weather_temperature": 97,
         "weather_wind_mph": 24,
         "weather_humidity": 78,
         "home_off": 97,
         "home_def": 93,
         "away_off": 97,
         "away_def": 93,
         "total_score": 105,
         "_deepnote_index_column": "max"
        }
       ],
       "rows_bottom": null
      },
      "text/plain": "       schedule_season   score_home   score_away  spread_favorite  \\\ncount      1070.000000  1070.000000  1070.000000      1070.000000   \nmean       2018.502804    23.790654    22.557944        -5.458879   \nstd           1.119389    10.234076    10.117916         3.573522   \nmin        2017.000000     0.000000     0.000000       -21.500000   \n25%        2018.000000    17.000000    16.000000        -7.000000   \n50%        2019.000000    24.000000    23.000000        -4.500000   \n75%        2020.000000    31.000000    30.000000        -3.000000   \nmax        2020.000000    57.000000    59.000000         0.000000   \n\n       over_under_line  weather_temperature  weather_wind_mph  \\\ncount      1070.000000           666.000000         665.00000   \nmean         46.038318            63.995495           4.47218   \nstd           4.582415            15.303987           5.01800   \nmin          35.000000            10.000000           0.00000   \n25%          43.000000            55.000000           0.00000   \n50%          46.000000            72.000000           3.00000   \n75%          49.000000            72.000000           8.00000   \nmax          63.500000            97.000000          24.00000   \n\n       weather_humidity     home_off     home_def     away_off     away_def  \\\ncount               1.0  1062.000000  1062.000000  1062.000000  1062.000000   \nmean               78.0    81.293785    81.629944    81.298493    81.515066   \nstd                 NaN     5.757292     5.246207     5.722319     5.224395   \nmin                78.0    66.000000    69.000000    66.000000    69.000000   \n25%                78.0    78.000000    78.000000    78.000000    78.000000   \n50%                78.0    81.000000    82.000000    81.000000    82.000000   \n75%                78.0    85.000000    85.000000    85.000000    85.000000   \nmax                78.0    97.000000    93.000000    97.000000    93.000000   \n\n       total_score  \ncount  1070.000000  \nmean     46.348598  \nstd      14.361658  \nmin       6.000000  \n25%      37.000000  \n50%      46.000000  \n75%      55.000000  \nmax     105.000000  ",
      "text/html": "<div>\n<style scoped>\n    .dataframe tbody tr th:only-of-type {\n        vertical-align: middle;\n    }\n\n    .dataframe tbody tr th {\n        vertical-align: top;\n    }\n\n    .dataframe thead th {\n        text-align: right;\n    }\n</style>\n<table border=\"1\" class=\"dataframe\">\n  <thead>\n    <tr style=\"text-align: right;\">\n      <th></th>\n      <th>schedule_season</th>\n      <th>score_home</th>\n      <th>score_away</th>\n      <th>spread_favorite</th>\n      <th>over_under_line</th>\n      <th>weather_temperature</th>\n      <th>weather_wind_mph</th>\n      <th>weather_humidity</th>\n      <th>home_off</th>\n      <th>home_def</th>\n      <th>away_off</th>\n      <th>away_def</th>\n      <th>total_score</th>\n    </tr>\n  </thead>\n  <tbody>\n    <tr>\n      <th>count</th>\n      <td>1070.000000</td>\n      <td>1070.000000</td>\n      <td>1070.000000</td>\n      <td>1070.000000</td>\n      <td>1070.000000</td>\n      <td>666.000000</td>\n      <td>665.00000</td>\n      <td>1.0</td>\n      <td>1062.000000</td>\n      <td>1062.000000</td>\n      <td>1062.000000</td>\n      <td>1062.000000</td>\n      <td>1070.000000</td>\n    </tr>\n    <tr>\n      <th>mean</th>\n      <td>2018.502804</td>\n      <td>23.790654</td>\n      <td>22.557944</td>\n      <td>-5.458879</td>\n      <td>46.038318</td>\n      <td>63.995495</td>\n      <td>4.47218</td>\n      <td>78.0</td>\n      <td>81.293785</td>\n      <td>81.629944</td>\n      <td>81.298493</td>\n      <td>81.515066</td>\n      <td>46.348598</td>\n    </tr>\n    <tr>\n      <th>std</th>\n      <td>1.119389</td>\n      <td>10.234076</td>\n      <td>10.117916</td>\n      <td>3.573522</td>\n      <td>4.582415</td>\n      <td>15.303987</td>\n      <td>5.01800</td>\n      <td>NaN</td>\n      <td>5.757292</td>\n      <td>5.246207</td>\n      <td>5.722319</td>\n      <td>5.224395</td>\n      <td>14.361658</td>\n    </tr>\n    <tr>\n      <th>min</th>\n      <td>2017.000000</td>\n      <td>0.000000</td>\n      <td>0.000000</td>\n      <td>-21.500000</td>\n      <td>35.000000</td>\n      <td>10.000000</td>\n      <td>0.00000</td>\n      <td>78.0</td>\n      <td>66.000000</td>\n      <td>69.000000</td>\n      <td>66.000000</td>\n      <td>69.000000</td>\n      <td>6.000000</td>\n    </tr>\n    <tr>\n      <th>25%</th>\n      <td>2018.000000</td>\n      <td>17.000000</td>\n      <td>16.000000</td>\n      <td>-7.000000</td>\n      <td>43.000000</td>\n      <td>55.000000</td>\n      <td>0.00000</td>\n      <td>78.0</td>\n      <td>78.000000</td>\n      <td>78.000000</td>\n      <td>78.000000</td>\n      <td>78.000000</td>\n      <td>37.000000</td>\n    </tr>\n    <tr>\n      <th>50%</th>\n      <td>2019.000000</td>\n      <td>24.000000</td>\n      <td>23.000000</td>\n      <td>-4.500000</td>\n      <td>46.000000</td>\n      <td>72.000000</td>\n      <td>3.00000</td>\n      <td>78.0</td>\n      <td>81.000000</td>\n      <td>82.000000</td>\n      <td>81.000000</td>\n      <td>82.000000</td>\n      <td>46.000000</td>\n    </tr>\n    <tr>\n      <th>75%</th>\n      <td>2020.000000</td>\n      <td>31.000000</td>\n      <td>30.000000</td>\n      <td>-3.000000</td>\n      <td>49.000000</td>\n      <td>72.000000</td>\n      <td>8.00000</td>\n      <td>78.0</td>\n      <td>85.000000</td>\n      <td>85.000000</td>\n      <td>85.000000</td>\n      <td>85.000000</td>\n      <td>55.000000</td>\n    </tr>\n    <tr>\n      <th>max</th>\n      <td>2020.000000</td>\n      <td>57.000000</td>\n      <td>59.000000</td>\n      <td>0.000000</td>\n      <td>63.500000</td>\n      <td>97.000000</td>\n      <td>24.00000</td>\n      <td>78.0</td>\n      <td>97.000000</td>\n      <td>93.000000</td>\n      <td>97.000000</td>\n      <td>93.000000</td>\n      <td>105.000000</td>\n    </tr>\n  </tbody>\n</table>\n</div>"
     },
     "metadata": {}
    }
   ],
   "execution_count": 11
  },
  {
   "cell_type": "code",
   "metadata": {
    "tags": [],
    "cell_id": "00014-f4ca37fc-aae0-4bae-a673-9a78c4ecd90f",
    "deepnote_to_be_reexecuted": false,
    "source_hash": "c2b6839",
    "execution_start": 1632261869485,
    "execution_millis": 65,
    "deepnote_cell_type": "code"
   },
   "source": "df_with_madden_outliers_under.describe()",
   "outputs": [
    {
     "output_type": "execute_result",
     "execution_count": 12,
     "data": {
      "application/vnd.deepnote.dataframe.v2+json": {
       "row_count": 8,
       "column_count": 13,
       "columns": [
        {
         "name": "schedule_season",
         "dtype": "float64",
         "stats": {
          "unique_count": 7,
          "nan_count": 0,
          "min": "1.083992463790562",
          "max": "2020.0",
          "histogram": [
           {
            "bin_start": 1.083992463790562,
            "bin_end": 202.9755932174115,
            "count": 2
           },
           {
            "bin_start": 202.9755932174115,
            "bin_end": 404.8671939710324,
            "count": 0
           },
           {
            "bin_start": 404.8671939710324,
            "bin_end": 606.7587947246534,
            "count": 0
           },
           {
            "bin_start": 606.7587947246534,
            "bin_end": 808.6503954782743,
            "count": 0
           },
           {
            "bin_start": 808.6503954782743,
            "bin_end": 1010.5419962318952,
            "count": 0
           },
           {
            "bin_start": 1010.5419962318952,
            "bin_end": 1212.4335969855163,
            "count": 0
           },
           {
            "bin_start": 1212.4335969855163,
            "bin_end": 1414.3251977391371,
            "count": 0
           },
           {
            "bin_start": 1414.3251977391371,
            "bin_end": 1616.216798492758,
            "count": 0
           },
           {
            "bin_start": 1616.216798492758,
            "bin_end": 1818.108399246379,
            "count": 0
           },
           {
            "bin_start": 1818.108399246379,
            "bin_end": 2020,
            "count": 6
           }
          ]
         }
        },
        {
         "name": "score_home",
         "dtype": "float64",
         "stats": {
          "unique_count": 8,
          "nan_count": 0,
          "min": "0.0",
          "max": "62.0",
          "histogram": [
           {
            "bin_start": 0,
            "bin_end": 6.2,
            "count": 2
           },
           {
            "bin_start": 6.2,
            "bin_end": 12.4,
            "count": 3
           },
           {
            "bin_start": 12.4,
            "bin_end": 18.6,
            "count": 1
           },
           {
            "bin_start": 18.6,
            "bin_end": 24.8,
            "count": 0
           },
           {
            "bin_start": 24.8,
            "bin_end": 31,
            "count": 1
           },
           {
            "bin_start": 31,
            "bin_end": 37.2,
            "count": 0
           },
           {
            "bin_start": 37.2,
            "bin_end": 43.4,
            "count": 0
           },
           {
            "bin_start": 43.4,
            "bin_end": 49.6,
            "count": 0
           },
           {
            "bin_start": 49.6,
            "bin_end": 55.800000000000004,
            "count": 0
           },
           {
            "bin_start": 55.800000000000004,
            "bin_end": 62,
            "count": 1
           }
          ]
         }
        },
        {
         "name": "score_away",
         "dtype": "float64",
         "stats": {
          "unique_count": 8,
          "nan_count": 0,
          "min": "0.0",
          "max": "62.0",
          "histogram": [
           {
            "bin_start": 0,
            "bin_end": 6.2,
            "count": 1
           },
           {
            "bin_start": 6.2,
            "bin_end": 12.4,
            "count": 4
           },
           {
            "bin_start": 12.4,
            "bin_end": 18.6,
            "count": 1
           },
           {
            "bin_start": 18.6,
            "bin_end": 24.8,
            "count": 1
           },
           {
            "bin_start": 24.8,
            "bin_end": 31,
            "count": 0
           },
           {
            "bin_start": 31,
            "bin_end": 37.2,
            "count": 0
           },
           {
            "bin_start": 37.2,
            "bin_end": 43.4,
            "count": 0
           },
           {
            "bin_start": 43.4,
            "bin_end": 49.6,
            "count": 0
           },
           {
            "bin_start": 49.6,
            "bin_end": 55.800000000000004,
            "count": 0
           },
           {
            "bin_start": 55.800000000000004,
            "bin_end": 62,
            "count": 1
           }
          ]
         }
        },
        {
         "name": "spread_favorite",
         "dtype": "float64",
         "stats": {
          "unique_count": 8,
          "nan_count": 0,
          "min": "-13.5",
          "max": "62.0",
          "histogram": [
           {
            "bin_start": -13.5,
            "bin_end": -5.95,
            "count": 2
           },
           {
            "bin_start": -5.95,
            "bin_end": 1.5999999999999996,
            "count": 4
           },
           {
            "bin_start": 1.5999999999999996,
            "bin_end": 9.149999999999999,
            "count": 1
           },
           {
            "bin_start": 9.149999999999999,
            "bin_end": 16.7,
            "count": 0
           },
           {
            "bin_start": 16.7,
            "bin_end": 24.25,
            "count": 0
           },
           {
            "bin_start": 24.25,
            "bin_end": 31.799999999999997,
            "count": 0
           },
           {
            "bin_start": 31.799999999999997,
            "bin_end": 39.35,
            "count": 0
           },
           {
            "bin_start": 39.35,
            "bin_end": 46.9,
            "count": 0
           },
           {
            "bin_start": 46.9,
            "bin_end": 54.45,
            "count": 0
           },
           {
            "bin_start": 54.45,
            "bin_end": 62,
            "count": 1
           }
          ]
         }
        },
        {
         "name": "over_under_line",
         "dtype": "float64",
         "stats": {
          "unique_count": 8,
          "nan_count": 0,
          "min": "4.460828985806723",
          "max": "62.0",
          "histogram": [
           {
            "bin_start": 4.460828985806723,
            "bin_end": 10.21474608722605,
            "count": 1
           },
           {
            "bin_start": 10.21474608722605,
            "bin_end": 15.968663188645378,
            "count": 0
           },
           {
            "bin_start": 15.968663188645378,
            "bin_end": 21.722580290064705,
            "count": 0
           },
           {
            "bin_start": 21.722580290064705,
            "bin_end": 27.47649739148403,
            "count": 0
           },
           {
            "bin_start": 27.47649739148403,
            "bin_end": 33.23041449290336,
            "count": 0
           },
           {
            "bin_start": 33.23041449290336,
            "bin_end": 38.98433159432269,
            "count": 0
           },
           {
            "bin_start": 38.98433159432269,
            "bin_end": 44.738248695742016,
            "count": 2
           },
           {
            "bin_start": 44.738248695742016,
            "bin_end": 50.49216579716134,
            "count": 3
           },
           {
            "bin_start": 50.49216579716134,
            "bin_end": 56.24608289858067,
            "count": 0
           },
           {
            "bin_start": 56.24608289858067,
            "bin_end": 62,
            "count": 2
           }
          ]
         }
        },
        {
         "name": "weather_temperature",
         "dtype": "float64",
         "stats": {
          "unique_count": 7,
          "nan_count": 0,
          "min": "10.0",
          "max": "89.0",
          "histogram": [
           {
            "bin_start": 10,
            "bin_end": 17.9,
            "count": 1
           },
           {
            "bin_start": 17.9,
            "bin_end": 25.8,
            "count": 1
           },
           {
            "bin_start": 25.8,
            "bin_end": 33.7,
            "count": 0
           },
           {
            "bin_start": 33.7,
            "bin_end": 41.6,
            "count": 0
           },
           {
            "bin_start": 41.6,
            "bin_end": 49.5,
            "count": 1
           },
           {
            "bin_start": 49.5,
            "bin_end": 57.400000000000006,
            "count": 1
           },
           {
            "bin_start": 57.400000000000006,
            "bin_end": 65.30000000000001,
            "count": 1
           },
           {
            "bin_start": 65.30000000000001,
            "bin_end": 73.2,
            "count": 2
           },
           {
            "bin_start": 73.2,
            "bin_end": 81.10000000000001,
            "count": 0
           },
           {
            "bin_start": 81.10000000000001,
            "bin_end": 89,
            "count": 1
           }
          ]
         }
        },
        {
         "name": "weather_wind_mph",
         "dtype": "float64",
         "stats": {
          "unique_count": 7,
          "nan_count": 0,
          "min": "0.0",
          "max": "42.0",
          "histogram": [
           {
            "bin_start": 0,
            "bin_end": 4.2,
            "count": 2
           },
           {
            "bin_start": 4.2,
            "bin_end": 8.4,
            "count": 3
           },
           {
            "bin_start": 8.4,
            "bin_end": 12.600000000000001,
            "count": 1
           },
           {
            "bin_start": 12.600000000000001,
            "bin_end": 16.8,
            "count": 0
           },
           {
            "bin_start": 16.8,
            "bin_end": 21,
            "count": 1
           },
           {
            "bin_start": 21,
            "bin_end": 25.200000000000003,
            "count": 0
           },
           {
            "bin_start": 25.200000000000003,
            "bin_end": 29.400000000000002,
            "count": 0
           },
           {
            "bin_start": 29.400000000000002,
            "bin_end": 33.6,
            "count": 0
           },
           {
            "bin_start": 33.6,
            "bin_end": 37.800000000000004,
            "count": 0
           },
           {
            "bin_start": 37.800000000000004,
            "bin_end": 42,
            "count": 1
           }
          ]
         }
        },
        {
         "name": "weather_humidity",
         "dtype": "float64",
         "stats": {
          "unique_count": 1,
          "nan_count": 7,
          "min": "0.0",
          "max": "0.0",
          "histogram": [
           {
            "bin_start": -0.5,
            "bin_end": -0.4,
            "count": 0
           },
           {
            "bin_start": -0.4,
            "bin_end": -0.3,
            "count": 0
           },
           {
            "bin_start": -0.3,
            "bin_end": -0.19999999999999996,
            "count": 0
           },
           {
            "bin_start": -0.19999999999999996,
            "bin_end": -0.09999999999999998,
            "count": 0
           },
           {
            "bin_start": -0.09999999999999998,
            "bin_end": 0,
            "count": 0
           },
           {
            "bin_start": 0,
            "bin_end": 0.10000000000000009,
            "count": 1
           },
           {
            "bin_start": 0.10000000000000009,
            "bin_end": 0.20000000000000007,
            "count": 0
           },
           {
            "bin_start": 0.20000000000000007,
            "bin_end": 0.30000000000000004,
            "count": 0
           },
           {
            "bin_start": 0.30000000000000004,
            "bin_end": 0.4,
            "count": 0
           },
           {
            "bin_start": 0.4,
            "bin_end": 0.5,
            "count": 0
           }
          ]
         }
        },
        {
         "name": "home_off",
         "dtype": "float64",
         "stats": {
          "unique_count": 8,
          "nan_count": 0,
          "min": "5.553665875223538",
          "max": "92.0",
          "histogram": [
           {
            "bin_start": 5.553665875223538,
            "bin_end": 14.198299287701182,
            "count": 1
           },
           {
            "bin_start": 14.198299287701182,
            "bin_end": 22.842932700178828,
            "count": 0
           },
           {
            "bin_start": 22.842932700178828,
            "bin_end": 31.487566112656474,
            "count": 0
           },
           {
            "bin_start": 31.487566112656474,
            "bin_end": 40.13219952513412,
            "count": 0
           },
           {
            "bin_start": 40.13219952513412,
            "bin_end": 48.776832937611765,
            "count": 0
           },
           {
            "bin_start": 48.776832937611765,
            "bin_end": 57.42146635008941,
            "count": 0
           },
           {
            "bin_start": 57.42146635008941,
            "bin_end": 66.06609976256706,
            "count": 1
           },
           {
            "bin_start": 66.06609976256706,
            "bin_end": 74.71073317504471,
            "count": 1
           },
           {
            "bin_start": 74.71073317504471,
            "bin_end": 83.35536658752235,
            "count": 3
           },
           {
            "bin_start": 83.35536658752235,
            "bin_end": 92,
            "count": 2
           }
          ]
         }
        },
        {
         "name": "home_def",
         "dtype": "float64",
         "stats": {
          "unique_count": 8,
          "nan_count": 0,
          "min": "5.271477184631548",
          "max": "93.0",
          "histogram": [
           {
            "bin_start": 5.271477184631548,
            "bin_end": 14.044329466168394,
            "count": 1
           },
           {
            "bin_start": 14.044329466168394,
            "bin_end": 22.81718174770524,
            "count": 0
           },
           {
            "bin_start": 22.81718174770524,
            "bin_end": 31.590034029242084,
            "count": 0
           },
           {
            "bin_start": 31.590034029242084,
            "bin_end": 40.36288631077893,
            "count": 0
           },
           {
            "bin_start": 40.36288631077893,
            "bin_end": 49.135738592315775,
            "count": 0
           },
           {
            "bin_start": 49.135738592315775,
            "bin_end": 57.908590873852624,
            "count": 0
           },
           {
            "bin_start": 57.908590873852624,
            "bin_end": 66.68144315538947,
            "count": 1
           },
           {
            "bin_start": 66.68144315538947,
            "bin_end": 75.45429543692632,
            "count": 1
           },
           {
            "bin_start": 75.45429543692632,
            "bin_end": 84.22714771846316,
            "count": 3
           },
           {
            "bin_start": 84.22714771846316,
            "bin_end": 93,
            "count": 2
           }
          ]
         }
        },
        {
         "name": "away_off",
         "dtype": "float64",
         "stats": {
          "unique_count": 8,
          "nan_count": 0,
          "min": "5.320185296086917",
          "max": "92.0",
          "histogram": [
           {
            "bin_start": 5.320185296086917,
            "bin_end": 13.988166766478225,
            "count": 1
           },
           {
            "bin_start": 13.988166766478225,
            "bin_end": 22.656148236869534,
            "count": 0
           },
           {
            "bin_start": 22.656148236869534,
            "bin_end": 31.324129707260838,
            "count": 0
           },
           {
            "bin_start": 31.324129707260838,
            "bin_end": 39.99211117765215,
            "count": 0
           },
           {
            "bin_start": 39.99211117765215,
            "bin_end": 48.66009264804346,
            "count": 0
           },
           {
            "bin_start": 48.66009264804346,
            "bin_end": 57.32807411843476,
            "count": 0
           },
           {
            "bin_start": 57.32807411843476,
            "bin_end": 65.99605558882607,
            "count": 1
           },
           {
            "bin_start": 65.99605558882607,
            "bin_end": 74.66403705921738,
            "count": 1
           },
           {
            "bin_start": 74.66403705921738,
            "bin_end": 83.33201852960869,
            "count": 3
           },
           {
            "bin_start": 83.33201852960869,
            "bin_end": 92,
            "count": 2
           }
          ]
         }
        },
        {
         "name": "away_def",
         "dtype": "float64",
         "stats": {
          "unique_count": 8,
          "nan_count": 0,
          "min": "4.934654969917465",
          "max": "92.0",
          "histogram": [
           {
            "bin_start": 4.934654969917465,
            "bin_end": 13.641189472925717,
            "count": 1
           },
           {
            "bin_start": 13.641189472925717,
            "bin_end": 22.34772397593397,
            "count": 0
           },
           {
            "bin_start": 22.34772397593397,
            "bin_end": 31.054258478942224,
            "count": 0
           },
           {
            "bin_start": 31.054258478942224,
            "bin_end": 39.76079298195048,
            "count": 0
           },
           {
            "bin_start": 39.76079298195048,
            "bin_end": 48.46732748495874,
            "count": 0
           },
           {
            "bin_start": 48.46732748495874,
            "bin_end": 57.17386198796699,
            "count": 0
           },
           {
            "bin_start": 57.17386198796699,
            "bin_end": 65.88039649097523,
            "count": 1
           },
           {
            "bin_start": 65.88039649097523,
            "bin_end": 74.58693099398349,
            "count": 1
           },
           {
            "bin_start": 74.58693099398349,
            "bin_end": 83.29346549699174,
            "count": 3
           },
           {
            "bin_start": 83.29346549699174,
            "bin_end": 92,
            "count": 2
           }
          ]
         }
        },
        {
         "name": "total_score",
         "dtype": "float64",
         "stats": {
          "unique_count": 8,
          "nan_count": 0,
          "min": "5.781221995658729",
          "max": "62.0",
          "histogram": [
           {
            "bin_start": 5.781221995658729,
            "bin_end": 11.403099796092857,
            "count": 2
           },
           {
            "bin_start": 11.403099796092857,
            "bin_end": 17.024977596526984,
            "count": 0
           },
           {
            "bin_start": 17.024977596526984,
            "bin_end": 22.64685539696111,
            "count": 3
           },
           {
            "bin_start": 22.64685539696111,
            "bin_end": 28.26873319739524,
            "count": 1
           },
           {
            "bin_start": 28.26873319739524,
            "bin_end": 33.89061099782937,
            "count": 1
           },
           {
            "bin_start": 33.89061099782937,
            "bin_end": 39.51248879826349,
            "count": 0
           },
           {
            "bin_start": 39.51248879826349,
            "bin_end": 45.134366598697625,
            "count": 0
           },
           {
            "bin_start": 45.134366598697625,
            "bin_end": 50.756244399131745,
            "count": 0
           },
           {
            "bin_start": 50.756244399131745,
            "bin_end": 56.37812219956588,
            "count": 0
           },
           {
            "bin_start": 56.37812219956588,
            "bin_end": 62,
            "count": 1
           }
          ]
         }
        },
        {
         "name": "_deepnote_index_column",
         "dtype": "object"
        }
       ],
       "rows_top": [
        {
         "schedule_season": 62,
         "score_home": 62,
         "score_away": 62,
         "spread_favorite": 62,
         "over_under_line": 62,
         "weather_temperature": 42,
         "weather_wind_mph": 42,
         "weather_humidity": 0,
         "home_off": 62,
         "home_def": 62,
         "away_off": 61,
         "away_def": 61,
         "total_score": 62,
         "_deepnote_index_column": "count"
        },
        {
         "schedule_season": 2018.1935483870968,
         "score_home": 10.5,
         "score_away": 11.209677419354838,
         "spread_favorite": -5.088709677419355,
         "over_under_line": 46.725806451612904,
         "weather_temperature": 64.04761904761905,
         "weather_wind_mph": 6.285714285714286,
         "weather_humidity": "nan",
         "home_off": 81.46774193548387,
         "home_def": 81.58064516129032,
         "away_off": 82.72131147540983,
         "away_def": 82.55737704918033,
         "total_score": 21.70967741935484,
         "_deepnote_index_column": "mean"
        },
        {
         "schedule_season": 1.083992463790562,
         "score_home": 7.05423951124196,
         "score_away": 6.606348404262233,
         "spread_favorite": 3.432635313140557,
         "over_under_line": 4.460828985806723,
         "weather_temperature": 18.12685971075208,
         "weather_wind_mph": 5.848851103716822,
         "weather_humidity": "nan",
         "home_off": 5.553665875223538,
         "home_def": 5.271477184631548,
         "away_off": 5.320185296086917,
         "away_def": 4.934654969917465,
         "total_score": 5.781221995658729,
         "_deepnote_index_column": "std"
        },
        {
         "schedule_season": 2017,
         "score_home": 0,
         "score_away": 0,
         "spread_favorite": -13.5,
         "over_under_line": 39,
         "weather_temperature": 10,
         "weather_wind_mph": 0,
         "weather_humidity": "nan",
         "home_off": 67,
         "home_def": 71,
         "away_off": 67,
         "away_def": 72,
         "total_score": 6,
         "_deepnote_index_column": "min"
        },
        {
         "schedule_season": 2017,
         "score_home": 6,
         "score_away": 7,
         "spread_favorite": -7.5,
         "over_under_line": 42.625,
         "weather_temperature": 50.75,
         "weather_wind_mph": 0,
         "weather_humidity": "nan",
         "home_off": 79,
         "home_def": 77,
         "away_off": 80,
         "away_def": 79,
         "total_score": 19.25,
         "_deepnote_index_column": "25%"
        },
        {
         "schedule_season": 2018,
         "score_home": 10,
         "score_away": 10,
         "spread_favorite": -3.5,
         "over_under_line": 46.5,
         "weather_temperature": 72,
         "weather_wind_mph": 5,
         "weather_humidity": "nan",
         "home_off": 81.5,
         "home_def": 81,
         "away_off": 83,
         "away_def": 83,
         "total_score": 21.5,
         "_deepnote_index_column": "50%"
        },
        {
         "schedule_season": 2019,
         "score_home": 15.75,
         "score_away": 16,
         "spread_favorite": -2.5,
         "over_under_line": 49.875,
         "weather_temperature": 72,
         "weather_wind_mph": 9,
         "weather_humidity": "nan",
         "home_off": 85,
         "home_def": 85,
         "away_off": 86,
         "away_def": 86,
         "total_score": 26,
         "_deepnote_index_column": "75%"
        },
        {
         "schedule_season": 2020,
         "score_home": 27,
         "score_away": 23,
         "spread_favorite": -1,
         "over_under_line": 56.5,
         "weather_temperature": 89,
         "weather_wind_mph": 18,
         "weather_humidity": "nan",
         "home_off": 92,
         "home_def": 93,
         "away_off": 92,
         "away_def": 92,
         "total_score": 33,
         "_deepnote_index_column": "max"
        }
       ],
       "rows_bottom": null
      },
      "text/plain": "       schedule_season  score_home  score_away  spread_favorite  \\\ncount        62.000000    62.00000   62.000000        62.000000   \nmean       2018.193548    10.50000   11.209677        -5.088710   \nstd           1.083992     7.05424    6.606348         3.432635   \nmin        2017.000000     0.00000    0.000000       -13.500000   \n25%        2017.000000     6.00000    7.000000        -7.500000   \n50%        2018.000000    10.00000   10.000000        -3.500000   \n75%        2019.000000    15.75000   16.000000        -2.500000   \nmax        2020.000000    27.00000   23.000000        -1.000000   \n\n       over_under_line  weather_temperature  weather_wind_mph  \\\ncount        62.000000            42.000000         42.000000   \nmean         46.725806            64.047619          6.285714   \nstd           4.460829            18.126860          5.848851   \nmin          39.000000            10.000000          0.000000   \n25%          42.625000            50.750000          0.000000   \n50%          46.500000            72.000000          5.000000   \n75%          49.875000            72.000000          9.000000   \nmax          56.500000            89.000000         18.000000   \n\n       weather_humidity   home_off   home_def   away_off   away_def  \\\ncount               0.0  62.000000  62.000000  61.000000  61.000000   \nmean                NaN  81.467742  81.580645  82.721311  82.557377   \nstd                 NaN   5.553666   5.271477   5.320185   4.934655   \nmin                 NaN  67.000000  71.000000  67.000000  72.000000   \n25%                 NaN  79.000000  77.000000  80.000000  79.000000   \n50%                 NaN  81.500000  81.000000  83.000000  83.000000   \n75%                 NaN  85.000000  85.000000  86.000000  86.000000   \nmax                 NaN  92.000000  93.000000  92.000000  92.000000   \n\n       total_score  \ncount    62.000000  \nmean     21.709677  \nstd       5.781222  \nmin       6.000000  \n25%      19.250000  \n50%      21.500000  \n75%      26.000000  \nmax      33.000000  ",
      "text/html": "<div>\n<style scoped>\n    .dataframe tbody tr th:only-of-type {\n        vertical-align: middle;\n    }\n\n    .dataframe tbody tr th {\n        vertical-align: top;\n    }\n\n    .dataframe thead th {\n        text-align: right;\n    }\n</style>\n<table border=\"1\" class=\"dataframe\">\n  <thead>\n    <tr style=\"text-align: right;\">\n      <th></th>\n      <th>schedule_season</th>\n      <th>score_home</th>\n      <th>score_away</th>\n      <th>spread_favorite</th>\n      <th>over_under_line</th>\n      <th>weather_temperature</th>\n      <th>weather_wind_mph</th>\n      <th>weather_humidity</th>\n      <th>home_off</th>\n      <th>home_def</th>\n      <th>away_off</th>\n      <th>away_def</th>\n      <th>total_score</th>\n    </tr>\n  </thead>\n  <tbody>\n    <tr>\n      <th>count</th>\n      <td>62.000000</td>\n      <td>62.00000</td>\n      <td>62.000000</td>\n      <td>62.000000</td>\n      <td>62.000000</td>\n      <td>42.000000</td>\n      <td>42.000000</td>\n      <td>0.0</td>\n      <td>62.000000</td>\n      <td>62.000000</td>\n      <td>61.000000</td>\n      <td>61.000000</td>\n      <td>62.000000</td>\n    </tr>\n    <tr>\n      <th>mean</th>\n      <td>2018.193548</td>\n      <td>10.50000</td>\n      <td>11.209677</td>\n      <td>-5.088710</td>\n      <td>46.725806</td>\n      <td>64.047619</td>\n      <td>6.285714</td>\n      <td>NaN</td>\n      <td>81.467742</td>\n      <td>81.580645</td>\n      <td>82.721311</td>\n      <td>82.557377</td>\n      <td>21.709677</td>\n    </tr>\n    <tr>\n      <th>std</th>\n      <td>1.083992</td>\n      <td>7.05424</td>\n      <td>6.606348</td>\n      <td>3.432635</td>\n      <td>4.460829</td>\n      <td>18.126860</td>\n      <td>5.848851</td>\n      <td>NaN</td>\n      <td>5.553666</td>\n      <td>5.271477</td>\n      <td>5.320185</td>\n      <td>4.934655</td>\n      <td>5.781222</td>\n    </tr>\n    <tr>\n      <th>min</th>\n      <td>2017.000000</td>\n      <td>0.00000</td>\n      <td>0.000000</td>\n      <td>-13.500000</td>\n      <td>39.000000</td>\n      <td>10.000000</td>\n      <td>0.000000</td>\n      <td>NaN</td>\n      <td>67.000000</td>\n      <td>71.000000</td>\n      <td>67.000000</td>\n      <td>72.000000</td>\n      <td>6.000000</td>\n    </tr>\n    <tr>\n      <th>25%</th>\n      <td>2017.000000</td>\n      <td>6.00000</td>\n      <td>7.000000</td>\n      <td>-7.500000</td>\n      <td>42.625000</td>\n      <td>50.750000</td>\n      <td>0.000000</td>\n      <td>NaN</td>\n      <td>79.000000</td>\n      <td>77.000000</td>\n      <td>80.000000</td>\n      <td>79.000000</td>\n      <td>19.250000</td>\n    </tr>\n    <tr>\n      <th>50%</th>\n      <td>2018.000000</td>\n      <td>10.00000</td>\n      <td>10.000000</td>\n      <td>-3.500000</td>\n      <td>46.500000</td>\n      <td>72.000000</td>\n      <td>5.000000</td>\n      <td>NaN</td>\n      <td>81.500000</td>\n      <td>81.000000</td>\n      <td>83.000000</td>\n      <td>83.000000</td>\n      <td>21.500000</td>\n    </tr>\n    <tr>\n      <th>75%</th>\n      <td>2019.000000</td>\n      <td>15.75000</td>\n      <td>16.000000</td>\n      <td>-2.500000</td>\n      <td>49.875000</td>\n      <td>72.000000</td>\n      <td>9.000000</td>\n      <td>NaN</td>\n      <td>85.000000</td>\n      <td>85.000000</td>\n      <td>86.000000</td>\n      <td>86.000000</td>\n      <td>26.000000</td>\n    </tr>\n    <tr>\n      <th>max</th>\n      <td>2020.000000</td>\n      <td>27.00000</td>\n      <td>23.000000</td>\n      <td>-1.000000</td>\n      <td>56.500000</td>\n      <td>89.000000</td>\n      <td>18.000000</td>\n      <td>NaN</td>\n      <td>92.000000</td>\n      <td>93.000000</td>\n      <td>92.000000</td>\n      <td>92.000000</td>\n      <td>33.000000</td>\n    </tr>\n  </tbody>\n</table>\n</div>"
     },
     "metadata": {}
    }
   ],
   "execution_count": 12
  },
  {
   "cell_type": "markdown",
   "source": "<a style='text-decoration:none;line-height:16px;display:flex;color:#5B5B62;padding:10px;justify-content:end;' href='https://deepnote.com?utm_source=created-in-deepnote-cell&projectId=f0efbe77-01fa-4860-b5ee-e7eac30d44e8' target=\"_blank\">\n<img alt='Created in deepnote.com' style='display:inline;max-height:16px;margin:0px;margin-right:7.5px;' src='data:image/svg+xml;base64,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' > </img>\nCreated in <span style='font-weight:600;margin-left:4px;'>Deepnote</span></a>",
   "metadata": {
    "tags": [],
    "created_in_deepnote_cell": true,
    "deepnote_cell_type": "markdown"
   }
  }
 ],
 "nbformat": 4,
 "nbformat_minor": 2,
 "metadata": {
  "orig_nbformat": 2,
  "deepnote": {
   "is_reactive": false
  },
  "deepnote_notebook_id": "210ab7c6-3123-43f9-b6c6-5956c93637e6",
  "deepnote_execution_queue": []
 }
}