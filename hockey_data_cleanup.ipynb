{
 "cells": [
  {
   "cell_type": "markdown",
   "source": "# Ideation\n\nI don't have much to go off yet, first need to combine the data and I can build several additional columns like with the NFL one\n\n* Visiting favourites with 3+ days off and playing teams who missed the playoffs last season are 458-248, +92.06\n\n## Potential Columns\n* Last game result\n* Last few game results\n* Power ranking based on last game results\n* Divisional?\n* Playoff?\n* Prev days of rest\n* Underdog based on ML\n* end of season - playoff race vs tanking\n* over/under - maybe low unders lead to more unpredictability",
   "metadata": {
    "tags": [],
    "cell_id": "00000-67a01b95-fb76-4c6b-b3b5-141dea57aaa8",
    "deepnote_cell_type": "markdown"
   }
  },
  {
   "cell_type": "code",
   "metadata": {
    "tags": [],
    "cell_id": "00001-254135ea-9378-448d-a88c-57bf30108564",
    "deepnote_to_be_reexecuted": false,
    "source_hash": "b7dcc9c8",
    "execution_start": 1633407127683,
    "execution_millis": 0,
    "deepnote_cell_type": "code"
   },
   "source": "import numpy as np\nimport pandas as pd",
   "outputs": [],
   "execution_count": null
  },
  {
   "cell_type": "code",
   "metadata": {
    "tags": [],
    "cell_id": "00000-07785429-5d5c-4bbb-8b85-74dc8e3b2fc4",
    "deepnote_to_be_reexecuted": false,
    "source_hash": "970e8845",
    "execution_start": 1633407127684,
    "execution_millis": 113,
    "deepnote_cell_type": "code"
   },
   "source": "data_2021 = pd.read_csv(\"nhl_odds/2021.csv\")\ndata_2021",
   "outputs": [
    {
     "output_type": "execute_result",
     "execution_count": 2,
     "data": {
      "application/vnd.deepnote.dataframe.v2+json": {
       "row_count": 1904,
       "column_count": 16,
       "columns": [
        {
         "name": "Date",
         "dtype": "int64",
         "stats": {
          "unique_count": 167,
          "nan_count": 0,
          "min": "113",
          "max": "707",
          "histogram": [
           {
            "bin_start": 113,
            "bin_end": 172.4,
            "count": 268
           },
           {
            "bin_start": 172.4,
            "bin_end": 231.8,
            "count": 360
           },
           {
            "bin_start": 231.8,
            "bin_end": 291.2,
            "count": 0
           },
           {
            "bin_start": 291.2,
            "bin_end": 350.6,
            "count": 468
           },
           {
            "bin_start": 350.6,
            "bin_end": 410,
            "count": 140
           },
           {
            "bin_start": 410,
            "bin_end": 469.4,
            "count": 306
           },
           {
            "bin_start": 469.4,
            "bin_end": 528.8,
            "count": 280
           },
           {
            "bin_start": 528.8,
            "bin_end": 588.2,
            "count": 12
           },
           {
            "bin_start": 588.2,
            "bin_end": 647.6,
            "count": 64
           },
           {
            "bin_start": 647.6,
            "bin_end": 707,
            "count": 6
           }
          ]
         }
        },
        {
         "name": "Rot",
         "dtype": "int64",
         "stats": {
          "unique_count": 90,
          "nan_count": 0,
          "min": "1",
          "max": "90",
          "histogram": [
           {
            "bin_start": 1,
            "bin_end": 9.9,
            "count": 222
           },
           {
            "bin_start": 9.9,
            "bin_end": 18.8,
            "count": 226
           },
           {
            "bin_start": 18.8,
            "bin_end": 27.700000000000003,
            "count": 220
           },
           {
            "bin_start": 27.700000000000003,
            "bin_end": 36.6,
            "count": 212
           },
           {
            "bin_start": 36.6,
            "bin_end": 45.5,
            "count": 225
           },
           {
            "bin_start": 45.5,
            "bin_end": 54.400000000000006,
            "count": 223
           },
           {
            "bin_start": 54.400000000000006,
            "bin_end": 63.300000000000004,
            "count": 212
           },
           {
            "bin_start": 63.300000000000004,
            "bin_end": 72.2,
            "count": 196
           },
           {
            "bin_start": 72.2,
            "bin_end": 81.10000000000001,
            "count": 112
           },
           {
            "bin_start": 81.10000000000001,
            "bin_end": 90,
            "count": 56
           }
          ]
         }
        },
        {
         "name": "VH",
         "dtype": "object",
         "stats": {
          "unique_count": 2,
          "nan_count": 0,
          "categories": [
           {
            "name": "V",
            "count": 952
           },
           {
            "name": "H",
            "count": 952
           }
          ]
         }
        },
        {
         "name": "Team",
         "dtype": "object",
         "stats": {
          "unique_count": 33,
          "nan_count": 0,
          "categories": [
           {
            "name": "Montreal",
            "count": 78
           },
           {
            "name": "Vegas",
            "count": 75
           },
           {
            "name": "31 others",
            "count": 1751
           }
          ]
         }
        },
        {
         "name": "1st",
         "dtype": "int64",
         "stats": {
          "unique_count": 6,
          "nan_count": 0,
          "min": "0",
          "max": "5",
          "histogram": [
           {
            "bin_start": 0,
            "bin_end": 0.5,
            "count": 840
           },
           {
            "bin_start": 0.5,
            "bin_end": 1,
            "count": 0
           },
           {
            "bin_start": 1,
            "bin_end": 1.5,
            "count": 680
           },
           {
            "bin_start": 1.5,
            "bin_end": 2,
            "count": 0
           },
           {
            "bin_start": 2,
            "bin_end": 2.5,
            "count": 286
           },
           {
            "bin_start": 2.5,
            "bin_end": 3,
            "count": 0
           },
           {
            "bin_start": 3,
            "bin_end": 3.5,
            "count": 81
           },
           {
            "bin_start": 3.5,
            "bin_end": 4,
            "count": 0
           },
           {
            "bin_start": 4,
            "bin_end": 4.5,
            "count": 15
           },
           {
            "bin_start": 4.5,
            "bin_end": 5,
            "count": 2
           }
          ]
         }
        },
        {
         "name": "2nd",
         "dtype": "int64",
         "stats": {
          "unique_count": 7,
          "nan_count": 0,
          "min": "0",
          "max": "7",
          "histogram": [
           {
            "bin_start": 0,
            "bin_end": 0.7,
            "count": 703
           },
           {
            "bin_start": 0.7,
            "bin_end": 1.4,
            "count": 722
           },
           {
            "bin_start": 1.4,
            "bin_end": 2.0999999999999996,
            "count": 323
           },
           {
            "bin_start": 2.0999999999999996,
            "bin_end": 2.8,
            "count": 0
           },
           {
            "bin_start": 2.8,
            "bin_end": 3.5,
            "count": 122
           },
           {
            "bin_start": 3.5,
            "bin_end": 4.199999999999999,
            "count": 28
           },
           {
            "bin_start": 4.199999999999999,
            "bin_end": 4.8999999999999995,
            "count": 0
           },
           {
            "bin_start": 4.8999999999999995,
            "bin_end": 5.6,
            "count": 5
           },
           {
            "bin_start": 5.6,
            "bin_end": 6.3,
            "count": 0
           },
           {
            "bin_start": 6.3,
            "bin_end": 7,
            "count": 1
           }
          ]
         }
        },
        {
         "name": "3rd",
         "dtype": "int64",
         "stats": {
          "unique_count": 7,
          "nan_count": 0,
          "min": "0",
          "max": "6",
          "histogram": [
           {
            "bin_start": 0,
            "bin_end": 0.6,
            "count": 722
           },
           {
            "bin_start": 0.6,
            "bin_end": 1.2,
            "count": 654
           },
           {
            "bin_start": 1.2,
            "bin_end": 1.7999999999999998,
            "count": 0
           },
           {
            "bin_start": 1.7999999999999998,
            "bin_end": 2.4,
            "count": 382
           },
           {
            "bin_start": 2.4,
            "bin_end": 3,
            "count": 0
           },
           {
            "bin_start": 3,
            "bin_end": 3.5999999999999996,
            "count": 113
           },
           {
            "bin_start": 3.5999999999999996,
            "bin_end": 4.2,
            "count": 30
           },
           {
            "bin_start": 4.2,
            "bin_end": 4.8,
            "count": 0
           },
           {
            "bin_start": 4.8,
            "bin_end": 5.3999999999999995,
            "count": 2
           },
           {
            "bin_start": 5.3999999999999995,
            "bin_end": 6,
            "count": 1
           }
          ]
         }
        },
        {
         "name": "Final",
         "dtype": "object",
         "stats": {
          "unique_count": 11,
          "nan_count": 0,
          "categories": [
           {
            "name": "3",
            "count": 416
           },
           {
            "name": "2",
            "count": 386
           },
           {
            "name": "9 others",
            "count": 1102
           }
          ]
         }
        },
        {
         "name": "Open",
         "dtype": "object",
         "stats": {
          "unique_count": 231,
          "nan_count": 0,
          "categories": [
           {
            "name": "-110",
            "count": 105
           },
           {
            "name": "140",
            "count": 42
           },
           {
            "name": "229 others",
            "count": 1757
           }
          ]
         }
        },
        {
         "name": "Close",
         "dtype": "int64",
         "stats": {
          "unique_count": 232,
          "nan_count": 0,
          "min": "-530",
          "max": "415",
          "histogram": [
           {
            "bin_start": -530,
            "bin_end": -435.5,
            "count": 1
           },
           {
            "bin_start": -435.5,
            "bin_end": -341,
            "count": 14
           },
           {
            "bin_start": -341,
            "bin_end": -246.5,
            "count": 76
           },
           {
            "bin_start": -246.5,
            "bin_end": -152,
            "count": 360
           },
           {
            "bin_start": -152,
            "bin_end": -57.5,
            "count": 542
           },
           {
            "bin_start": -57.5,
            "bin_end": 37,
            "count": 0
           },
           {
            "bin_start": 37,
            "bin_end": 131.5,
            "count": 368
           },
           {
            "bin_start": 131.5,
            "bin_end": 226,
            "count": 468
           },
           {
            "bin_start": 226,
            "bin_end": 320.5,
            "count": 70
           },
           {
            "bin_start": 320.5,
            "bin_end": 415,
            "count": 5
           }
          ]
         }
        },
        {
         "name": "PuckLine",
         "dtype": "float64",
         "stats": {
          "unique_count": 2,
          "nan_count": 0,
          "min": "-1.5",
          "max": "1.5",
          "histogram": [
           {
            "bin_start": -1.5,
            "bin_end": -1.2,
            "count": 952
           },
           {
            "bin_start": -1.2,
            "bin_end": -0.9,
            "count": 0
           },
           {
            "bin_start": -0.9,
            "bin_end": -0.6000000000000001,
            "count": 0
           },
           {
            "bin_start": -0.6000000000000001,
            "bin_end": -0.30000000000000004,
            "count": 0
           },
           {
            "bin_start": -0.30000000000000004,
            "bin_end": 0,
            "count": 0
           },
           {
            "bin_start": 0,
            "bin_end": 0.2999999999999998,
            "count": 0
           },
           {
            "bin_start": 0.2999999999999998,
            "bin_end": 0.6000000000000001,
            "count": 0
           },
           {
            "bin_start": 0.6000000000000001,
            "bin_end": 0.8999999999999999,
            "count": 0
           },
           {
            "bin_start": 0.8999999999999999,
            "bin_end": 1.1999999999999997,
            "count": 0
           },
           {
            "bin_start": 1.1999999999999997,
            "bin_end": 1.5,
            "count": 952
           }
          ]
         }
        },
        {
         "name": "PuckLineOdds",
         "dtype": "int64",
         "stats": {
          "unique_count": 76,
          "nan_count": 0,
          "min": "-310",
          "max": "260",
          "histogram": [
           {
            "bin_start": -310,
            "bin_end": -253,
            "count": 77
           },
           {
            "bin_start": -253,
            "bin_end": -196,
            "count": 342
           },
           {
            "bin_start": -196,
            "bin_end": -139,
            "count": 387
           },
           {
            "bin_start": -139,
            "bin_end": -82,
            "count": 183
           },
           {
            "bin_start": -82,
            "bin_end": -25,
            "count": 0
           },
           {
            "bin_start": -25,
            "bin_end": 32,
            "count": 0
           },
           {
            "bin_start": 32,
            "bin_end": 89,
            "count": 0
           },
           {
            "bin_start": 89,
            "bin_end": 146,
            "count": 277
           },
           {
            "bin_start": 146,
            "bin_end": 203,
            "count": 454
           },
           {
            "bin_start": 203,
            "bin_end": 260,
            "count": 184
           }
          ]
         }
        },
        {
         "name": "OpenOU",
         "dtype": "float64",
         "stats": {
          "unique_count": 6,
          "nan_count": 0,
          "min": "-110.0",
          "max": "6.5",
          "histogram": [
           {
            "bin_start": -110,
            "bin_end": -98.35,
            "count": 2
           },
           {
            "bin_start": -98.35,
            "bin_end": -86.7,
            "count": 0
           },
           {
            "bin_start": -86.7,
            "bin_end": -75.05,
            "count": 0
           },
           {
            "bin_start": -75.05,
            "bin_end": -63.4,
            "count": 0
           },
           {
            "bin_start": -63.4,
            "bin_end": -51.75,
            "count": 0
           },
           {
            "bin_start": -51.75,
            "bin_end": -40.099999999999994,
            "count": 0
           },
           {
            "bin_start": -40.099999999999994,
            "bin_end": -28.450000000000003,
            "count": 0
           },
           {
            "bin_start": -28.450000000000003,
            "bin_end": -16.799999999999997,
            "count": 0
           },
           {
            "bin_start": -16.799999999999997,
            "bin_end": -5.1499999999999915,
            "count": 0
           },
           {
            "bin_start": -5.1499999999999915,
            "bin_end": 6.5,
            "count": 1902
           }
          ]
         }
        },
        {
         "name": "OpenOUOdds",
         "dtype": "int64",
         "stats": {
          "unique_count": 27,
          "nan_count": 0,
          "min": "-150",
          "max": "605",
          "histogram": [
           {
            "bin_start": -150,
            "bin_end": -74.5,
            "count": 1746
           },
           {
            "bin_start": -74.5,
            "bin_end": 1,
            "count": 0
           },
           {
            "bin_start": 1,
            "bin_end": 76.5,
            "count": 0
           },
           {
            "bin_start": 76.5,
            "bin_end": 152,
            "count": 157
           },
           {
            "bin_start": 152,
            "bin_end": 227.5,
            "count": 0
           },
           {
            "bin_start": 227.5,
            "bin_end": 303,
            "count": 0
           },
           {
            "bin_start": 303,
            "bin_end": 378.5,
            "count": 0
           },
           {
            "bin_start": 378.5,
            "bin_end": 454,
            "count": 0
           },
           {
            "bin_start": 454,
            "bin_end": 529.5,
            "count": 0
           },
           {
            "bin_start": 529.5,
            "bin_end": 605,
            "count": 1
           }
          ]
         }
        },
        {
         "name": "CloseOU",
         "dtype": "float64",
         "stats": {
          "unique_count": 4,
          "nan_count": 0,
          "min": "5.0",
          "max": "6.5",
          "histogram": [
           {
            "bin_start": 5,
            "bin_end": 5.15,
            "count": 98
           },
           {
            "bin_start": 5.15,
            "bin_end": 5.3,
            "count": 0
           },
           {
            "bin_start": 5.3,
            "bin_end": 5.45,
            "count": 0
           },
           {
            "bin_start": 5.45,
            "bin_end": 5.6,
            "count": 1100
           },
           {
            "bin_start": 5.6,
            "bin_end": 5.75,
            "count": 0
           },
           {
            "bin_start": 5.75,
            "bin_end": 5.9,
            "count": 0
           },
           {
            "bin_start": 5.9,
            "bin_end": 6.05,
            "count": 492
           },
           {
            "bin_start": 6.05,
            "bin_end": 6.2,
            "count": 0
           },
           {
            "bin_start": 6.2,
            "bin_end": 6.35,
            "count": 0
           },
           {
            "bin_start": 6.35,
            "bin_end": 6.5,
            "count": 214
           }
          ]
         }
        },
        {
         "name": "CloseOUOdds",
         "dtype": "object",
         "stats": {
          "unique_count": 20,
          "nan_count": 0,
          "categories": [
           {
            "name": "-120",
            "count": 264
           },
           {
            "name": "100",
            "count": 263
           },
           {
            "name": "18 others",
            "count": 1377
           }
          ]
         }
        },
        {
         "name": "_deepnote_index_column",
         "dtype": "int64"
        }
       ],
       "rows_top": [
        {
         "Date": 113,
         "Rot": 41,
         "VH": "V",
         "Team": "Pittsburgh",
         "1st": 1,
         "2nd": 1,
         "3rd": 1,
         "Final": "3",
         "Open": "-110",
         "Close": -115,
         "PuckLine": 1.5,
         "PuckLineOdds": -310,
         "OpenOU": 6,
         "OpenOUOdds": -110,
         "CloseOU": 6,
         "CloseOUOdds": "105",
         "_deepnote_index_column": 0
        },
        {
         "Date": 113,
         "Rot": 42,
         "VH": "H",
         "Team": "Philadelphia",
         "1st": 2,
         "2nd": 1,
         "3rd": 3,
         "Final": "6",
         "Open": "100",
         "Close": -105,
         "PuckLine": -1.5,
         "PuckLineOdds": 260,
         "OpenOU": 6,
         "OpenOUOdds": -110,
         "CloseOU": 6,
         "CloseOUOdds": "-125",
         "_deepnote_index_column": 1
        },
        {
         "Date": 113,
         "Rot": 43,
         "VH": "V",
         "Team": "Montreal",
         "1st": 2,
         "2nd": 1,
         "3rd": 1,
         "Final": "0",
         "Open": "132",
         "Close": 120,
         "PuckLine": 1.5,
         "PuckLineOdds": -220,
         "OpenOU": 6,
         "OpenOUOdds": -110,
         "CloseOU": 6,
         "CloseOUOdds": "-110",
         "_deepnote_index_column": 2
        },
        {
         "Date": 113,
         "Rot": 44,
         "VH": "H",
         "Team": "Toronto",
         "1st": 1,
         "2nd": 2,
         "3rd": 1,
         "Final": "1",
         "Open": "-145",
         "Close": -140,
         "PuckLine": -1.5,
         "PuckLineOdds": 195,
         "OpenOU": 6,
         "OpenOUOdds": -110,
         "CloseOU": 6,
         "CloseOUOdds": "-110",
         "_deepnote_index_column": 3
        },
        {
         "Date": 113,
         "Rot": 45,
         "VH": "V",
         "Team": "Chicago",
         "1st": 0,
         "2nd": 0,
         "3rd": 1,
         "Final": "1",
         "Open": "230",
         "Close": 210,
         "PuckLine": 1.5,
         "PuckLineOdds": -125,
         "OpenOU": 6.5,
         "OpenOUOdds": -110,
         "CloseOU": 6.5,
         "CloseOUOdds": "-110",
         "_deepnote_index_column": 4
        },
        {
         "Date": 113,
         "Rot": 46,
         "VH": "H",
         "Team": "TampaBay",
         "1st": 3,
         "2nd": 1,
         "3rd": 1,
         "Final": "5",
         "Open": "-260",
         "Close": -250,
         "PuckLine": -1.5,
         "PuckLineOdds": 105,
         "OpenOU": 6.5,
         "OpenOUOdds": -110,
         "CloseOU": 6.5,
         "CloseOUOdds": "-110",
         "_deepnote_index_column": 5
        },
        {
         "Date": 113,
         "Rot": 47,
         "VH": "V",
         "Team": "Vancouver",
         "1st": 1,
         "2nd": 1,
         "3rd": 3,
         "Final": "5",
         "Open": "135",
         "Close": 130,
         "PuckLine": 1.5,
         "PuckLineOdds": -215,
         "OpenOU": 5.5,
         "OpenOUOdds": -110,
         "CloseOU": 6.5,
         "CloseOUOdds": "100",
         "_deepnote_index_column": 6
        },
        {
         "Date": 113,
         "Rot": 48,
         "VH": "H",
         "Team": "Edmonton",
         "1st": 0,
         "2nd": 1,
         "3rd": 2,
         "Final": "3",
         "Open": "-150",
         "Close": -150,
         "PuckLine": -1.5,
         "PuckLineOdds": 190,
         "OpenOU": 5.5,
         "OpenOUOdds": -110,
         "CloseOU": 6.5,
         "CloseOUOdds": "-120",
         "_deepnote_index_column": 7
        },
        {
         "Date": 113,
         "Rot": 49,
         "VH": "V",
         "Team": "St.Louis",
         "1st": 2,
         "2nd": 0,
         "3rd": 2,
         "Final": "4",
         "Open": "135",
         "Close": 125,
         "PuckLine": 1.5,
         "PuckLineOdds": -200,
         "OpenOU": 5.5,
         "OpenOUOdds": -110,
         "CloseOU": 6,
         "CloseOUOdds": "-110",
         "_deepnote_index_column": 8
        },
        {
         "Date": 113,
         "Rot": 50,
         "VH": "H",
         "Team": "Colorado",
         "1st": 1,
         "2nd": 0,
         "3rd": 0,
         "Final": "1",
         "Open": "-150",
         "Close": -145,
         "PuckLine": -1.5,
         "PuckLineOdds": 175,
         "OpenOU": 5.5,
         "OpenOUOdds": -110,
         "CloseOU": 6,
         "CloseOUOdds": "-110",
         "_deepnote_index_column": 9
        },
        {
         "Date": 114,
         "Rot": 51,
         "VH": "V",
         "Team": "Boston",
         "1st": 1,
         "2nd": 0,
         "3rd": 1,
         "Final": "3",
         "Open": "-138",
         "Close": -180,
         "PuckLine": -1.5,
         "PuckLineOdds": 150,
         "OpenOU": 5.5,
         "OpenOUOdds": -110,
         "CloseOU": 5.5,
         "CloseOUOdds": "-105",
         "_deepnote_index_column": 10
        },
        {
         "Date": 114,
         "Rot": 52,
         "VH": "H",
         "Team": "NewJersey",
         "1st": 0,
         "2nd": 0,
         "3rd": 2,
         "Final": "2",
         "Open": "118",
         "Close": 160,
         "PuckLine": 1.5,
         "PuckLineOdds": -170,
         "OpenOU": 5.5,
         "OpenOUOdds": -110,
         "CloseOU": 5.5,
         "CloseOUOdds": "-115",
         "_deepnote_index_column": 11
        },
        {
         "Date": 114,
         "Rot": 53,
         "VH": "V",
         "Team": "Washington",
         "1st": 2,
         "2nd": 2,
         "3rd": 2,
         "Final": "6",
         "Open": "113",
         "Close": -128,
         "PuckLine": -1.5,
         "PuckLineOdds": 185,
         "OpenOU": 6,
         "OpenOUOdds": -110,
         "CloseOU": 6,
         "CloseOUOdds": "100",
         "_deepnote_index_column": 12
        },
        {
         "Date": 114,
         "Rot": 54,
         "VH": "H",
         "Team": "Buffalo",
         "1st": 1,
         "2nd": 1,
         "3rd": 2,
         "Final": "4",
         "Open": "-133",
         "Close": 118,
         "PuckLine": 1.5,
         "PuckLineOdds": -210,
         "OpenOU": 6,
         "OpenOUOdds": -110,
         "CloseOU": 6,
         "CloseOUOdds": "-120",
         "_deepnote_index_column": 13
        },
        {
         "Date": 114,
         "Rot": 55,
         "VH": "V",
         "Team": "NYIslanders",
         "1st": 3,
         "2nd": 1,
         "3rd": 0,
         "Final": "4",
         "Open": "-110",
         "Close": -103,
         "PuckLine": -1.5,
         "PuckLineOdds": 240,
         "OpenOU": 5.5,
         "OpenOUOdds": -110,
         "CloseOU": 6,
         "CloseOUOdds": "-105",
         "_deepnote_index_column": 14
        },
        {
         "Date": 114,
         "Rot": 56,
         "VH": "H",
         "Team": "NYRangers",
         "1st": 0,
         "2nd": 0,
         "3rd": 0,
         "Final": "0",
         "Open": "-110",
         "Close": -107,
         "PuckLine": 1.5,
         "PuckLineOdds": -280,
         "OpenOU": 5.5,
         "OpenOUOdds": -110,
         "CloseOU": 6,
         "CloseOUOdds": "-115",
         "_deepnote_index_column": 15
        },
        {
         "Date": 114,
         "Rot": 59,
         "VH": "V",
         "Team": "Carolina",
         "1st": 1,
         "2nd": 0,
         "3rd": 2,
         "Final": "3",
         "Open": "-205",
         "Close": -215,
         "PuckLine": -1.5,
         "PuckLineOdds": 125,
         "OpenOU": 6,
         "OpenOUOdds": -110,
         "CloseOU": 6,
         "CloseOUOdds": "100",
         "_deepnote_index_column": 16
        },
        {
         "Date": 114,
         "Rot": 60,
         "VH": "H",
         "Team": "Detroit",
         "1st": 0,
         "2nd": 0,
         "3rd": 0,
         "Final": "0",
         "Open": "172",
         "Close": 195,
         "PuckLine": 1.5,
         "PuckLineOdds": -145,
         "OpenOU": 6,
         "OpenOUOdds": -110,
         "CloseOU": 6,
         "CloseOUOdds": "-120",
         "_deepnote_index_column": 17
        },
        {
         "Date": 114,
         "Rot": 61,
         "VH": "V",
         "Team": "Calgary",
         "1st": 3,
         "2nd": 0,
         "3rd": 0,
         "Final": "3",
         "Open": "-110",
         "Close": -119,
         "PuckLine": -1.5,
         "PuckLineOdds": 230,
         "OpenOU": 5.5,
         "OpenOUOdds": -110,
         "CloseOU": 5.5,
         "CloseOUOdds": "-120",
         "_deepnote_index_column": 18
        },
        {
         "Date": 114,
         "Rot": 62,
         "VH": "H",
         "Team": "Winnipeg",
         "1st": 1,
         "2nd": 2,
         "3rd": 0,
         "Final": "4",
         "Open": "-110",
         "Close": 109,
         "PuckLine": 1.5,
         "PuckLineOdds": -260,
         "OpenOU": 5.5,
         "OpenOUOdds": -110,
         "CloseOU": 5.5,
         "CloseOUOdds": "100",
         "_deepnote_index_column": 19
        },
        {
         "Date": 114,
         "Rot": 63,
         "VH": "V",
         "Team": "Columbus",
         "1st": 1,
         "2nd": 0,
         "3rd": 0,
         "Final": "1",
         "Open": "100",
         "Close": 103,
         "PuckLine": 1.5,
         "PuckLineOdds": -255,
         "OpenOU": 5.5,
         "OpenOUOdds": -110,
         "CloseOU": 5.5,
         "CloseOUOdds": "-105",
         "_deepnote_index_column": 20
        },
        {
         "Date": 114,
         "Rot": 64,
         "VH": "H",
         "Team": "Nashville",
         "1st": 0,
         "2nd": 1,
         "3rd": 2,
         "Final": "3",
         "Open": "-120",
         "Close": -113,
         "PuckLine": -1.5,
         "PuckLineOdds": 225,
         "OpenOU": 5.5,
         "OpenOUOdds": -110,
         "CloseOU": 5.5,
         "CloseOUOdds": "-115",
         "_deepnote_index_column": 21
        },
        {
         "Date": 114,
         "Rot": 65,
         "VH": "V",
         "Team": "SanJose",
         "1st": 2,
         "2nd": 0,
         "3rd": 1,
         "Final": "4",
         "Open": "-105",
         "Close": 120,
         "PuckLine": 1.5,
         "PuckLineOdds": -230,
         "OpenOU": 5.5,
         "OpenOUOdds": -110,
         "CloseOU": 5.5,
         "CloseOUOdds": "100",
         "_deepnote_index_column": 22
        },
        {
         "Date": 114,
         "Rot": 66,
         "VH": "H",
         "Team": "Arizona",
         "1st": 0,
         "2nd": 1,
         "3rd": 2,
         "Final": "3",
         "Open": "-115",
         "Close": -130,
         "PuckLine": -1.5,
         "PuckLineOdds": 200,
         "OpenOU": 5.5,
         "OpenOUOdds": -110,
         "CloseOU": 5.5,
         "CloseOUOdds": "-120",
         "_deepnote_index_column": 23
        },
        {
         "Date": 114,
         "Rot": 67,
         "VH": "V",
         "Team": "Vancouver",
         "1st": 0,
         "2nd": 2,
         "3rd": 0,
         "Final": "2",
         "Open": "100",
         "Close": 118,
         "PuckLine": 1.5,
         "PuckLineOdds": -231,
         "OpenOU": 6,
         "OpenOUOdds": -110,
         "CloseOU": 6,
         "CloseOUOdds": "-130",
         "_deepnote_index_column": 24
        },
        {
         "Date": 114,
         "Rot": 68,
         "VH": "H",
         "Team": "Edmonton",
         "1st": 2,
         "2nd": 2,
         "3rd": 1,
         "Final": "5",
         "Open": "-120",
         "Close": -128,
         "PuckLine": -1.5,
         "PuckLineOdds": 201,
         "OpenOU": 6,
         "OpenOUOdds": -110,
         "CloseOU": 6,
         "CloseOUOdds": "110",
         "_deepnote_index_column": 25
        },
        {
         "Date": 114,
         "Rot": 69,
         "VH": "V",
         "Team": "Minnesota",
         "1st": 1,
         "2nd": 0,
         "3rd": 2,
         "Final": "4",
         "Open": "-115",
         "Close": -135,
         "PuckLine": -1.5,
         "PuckLineOdds": 200,
         "OpenOU": 5.5,
         "OpenOUOdds": -110,
         "CloseOU": 5.5,
         "CloseOUOdds": "100",
         "_deepnote_index_column": 26
        },
        {
         "Date": 114,
         "Rot": 70,
         "VH": "H",
         "Team": "LosAngeles",
         "1st": 1,
         "2nd": 2,
         "3rd": 0,
         "Final": "3",
         "Open": "-105",
         "Close": 125,
         "PuckLine": 1.5,
         "PuckLineOdds": -225,
         "OpenOU": 5.5,
         "OpenOUOdds": -110,
         "CloseOU": 5.5,
         "CloseOUOdds": "-120",
         "_deepnote_index_column": 27
        },
        {
         "Date": 114,
         "Rot": 71,
         "VH": "V",
         "Team": "Anaheim",
         "1st": 2,
         "2nd": 0,
         "3rd": 0,
         "Final": "2",
         "Open": "180",
         "Close": 200,
         "PuckLine": 1.5,
         "PuckLineOdds": -125,
         "OpenOU": 5.5,
         "OpenOUOdds": -110,
         "CloseOU": 6,
         "CloseOUOdds": "100",
         "_deepnote_index_column": 28
        },
        {
         "Date": 114,
         "Rot": 72,
         "VH": "H",
         "Team": "Vegas",
         "1st": 2,
         "2nd": 0,
         "3rd": 3,
         "Final": "5",
         "Open": "-215",
         "Close": -220,
         "PuckLine": -1.5,
         "PuckLineOdds": 105,
         "OpenOU": 5.5,
         "OpenOUOdds": -110,
         "CloseOU": 6,
         "CloseOUOdds": "-120",
         "_deepnote_index_column": 29
        },
        {
         "Date": 115,
         "Rot": 1,
         "VH": "V",
         "Team": "Pittsburgh",
         "1st": 2,
         "2nd": 0,
         "3rd": 0,
         "Final": "2",
         "Open": "-107",
         "Close": -110,
         "PuckLine": -1.5,
         "PuckLineOdds": 235,
         "OpenOU": 6,
         "OpenOUOdds": -110,
         "CloseOU": 6,
         "CloseOUOdds": "-115",
         "_deepnote_index_column": 30
        }
       ],
       "rows_bottom": [
        {
         "Date": 615,
         "Rot": 12,
         "VH": "H",
         "Team": "TampaBay",
         "1st": 1,
         "2nd": 1,
         "3rd": 2,
         "Final": "4",
         "Open": "-190",
         "Close": -195,
         "PuckLine": -1.5,
         "PuckLineOdds": 145,
         "OpenOU": 5.5,
         "OpenOUOdds": -150,
         "CloseOU": 5,
         "CloseOUOdds": "120",
         "_deepnote_index_column": 1873
        },
        {
         "Date": 616,
         "Rot": 21,
         "VH": "V",
         "Team": "Montreal",
         "1st": 2,
         "2nd": 1,
         "3rd": 0,
         "Final": "3",
         "Open": "220",
         "Close": 220,
         "PuckLine": 1.5,
         "PuckLineOdds": -125,
         "OpenOU": 5.5,
         "OpenOUOdds": 120,
         "CloseOU": 5,
         "CloseOUOdds": "-140",
         "_deepnote_index_column": 1874
        },
        {
         "Date": 616,
         "Rot": 22,
         "VH": "H",
         "Team": "Vegas",
         "1st": 0,
         "2nd": 1,
         "3rd": 1,
         "Final": "2",
         "Open": "-270",
         "Close": -250,
         "PuckLine": -1.5,
         "PuckLineOdds": 105,
         "OpenOU": 5.5,
         "OpenOUOdds": -140,
         "CloseOU": 5,
         "CloseOUOdds": "120",
         "_deepnote_index_column": 1875
        },
        {
         "Date": 617,
         "Rot": 31,
         "VH": "V",
         "Team": "TampaBay",
         "1st": 1,
         "2nd": 1,
         "3rd": 0,
         "Final": "2",
         "Open": "-140",
         "Close": -129,
         "PuckLine": -1.5,
         "PuckLineOdds": 205,
         "OpenOU": 5.5,
         "OpenOUOdds": 125,
         "CloseOU": 5,
         "CloseOUOdds": "-135",
         "_deepnote_index_column": 1876
        },
        {
         "Date": 617,
         "Rot": 32,
         "VH": "H",
         "Team": "NYIslanders",
         "1st": 0,
         "2nd": 1,
         "3rd": 0,
         "Final": "1",
         "Open": "120",
         "Close": 119,
         "PuckLine": 1.5,
         "PuckLineOdds": -235,
         "OpenOU": 5.5,
         "OpenOUOdds": -145,
         "CloseOU": 5,
         "CloseOUOdds": "115",
         "_deepnote_index_column": 1877
        },
        {
         "Date": 618,
         "Rot": 41,
         "VH": "V",
         "Team": "Vegas",
         "1st": 0,
         "2nd": 1,
         "3rd": 1,
         "Final": "2",
         "Open": "-165",
         "Close": -170,
         "PuckLine": -1.5,
         "PuckLineOdds": 160,
         "OpenOU": 5.5,
         "OpenOUOdds": 125,
         "CloseOU": 5,
         "CloseOUOdds": "-145",
         "_deepnote_index_column": 1878
        },
        {
         "Date": 618,
         "Rot": 42,
         "VH": "H",
         "Team": "Montreal",
         "1st": 0,
         "2nd": 1,
         "3rd": 1,
         "Final": "3",
         "Open": "140",
         "Close": 155,
         "PuckLine": 1.5,
         "PuckLineOdds": -180,
         "OpenOU": 5.5,
         "OpenOUOdds": -145,
         "CloseOU": 5,
         "CloseOUOdds": "125",
         "_deepnote_index_column": 1879
        },
        {
         "Date": 619,
         "Rot": 51,
         "VH": "V",
         "Team": "TampaBay",
         "1st": 0,
         "2nd": 0,
         "3rd": 2,
         "Final": "2",
         "Open": "-135",
         "Close": -120,
         "PuckLine": -1.5,
         "PuckLineOdds": 210,
         "OpenOU": 5,
         "OpenOUOdds": -125,
         "CloseOU": 5,
         "CloseOUOdds": "-130",
         "_deepnote_index_column": 1880
        },
        {
         "Date": 619,
         "Rot": 52,
         "VH": "H",
         "Team": "NYIslanders",
         "1st": 0,
         "2nd": 3,
         "3rd": 0,
         "Final": "3",
         "Open": "115",
         "Close": 110,
         "PuckLine": 1.5,
         "PuckLineOdds": -240,
         "OpenOU": 5,
         "OpenOUOdds": 105,
         "CloseOU": 5,
         "CloseOUOdds": "110",
         "_deepnote_index_column": 1881
        },
        {
         "Date": 620,
         "Rot": 61,
         "VH": "V",
         "Team": "Vegas",
         "1st": 0,
         "2nd": 0,
         "3rd": 1,
         "Final": "2",
         "Open": "-180",
         "Close": -170,
         "PuckLine": -1.5,
         "PuckLineOdds": 160,
         "OpenOU": 5,
         "OpenOUOdds": -130,
         "CloseOU": 5.5,
         "CloseOUOdds": "120",
         "_deepnote_index_column": 1882
        },
        {
         "Date": 620,
         "Rot": 62,
         "VH": "H",
         "Team": "Montreal",
         "1st": 0,
         "2nd": 1,
         "3rd": 0,
         "Final": "1",
         "Open": "150",
         "Close": 155,
         "PuckLine": 1.5,
         "PuckLineOdds": -180,
         "OpenOU": 5,
         "OpenOUOdds": 110,
         "CloseOU": 5.5,
         "CloseOUOdds": "-140",
         "_deepnote_index_column": 1883
        },
        {
         "Date": 621,
         "Rot": 71,
         "VH": "V",
         "Team": "NY Islanders",
         "1st": 0,
         "2nd": 0,
         "3rd": 0,
         "Final": "0",
         "Open": "165",
         "Close": 165,
         "PuckLine": 1.5,
         "PuckLineOdds": -180,
         "OpenOU": 5,
         "OpenOUOdds": -135,
         "CloseOU": 5,
         "CloseOUOdds": "-135",
         "_deepnote_index_column": 1884
        },
        {
         "Date": 621,
         "Rot": 72,
         "VH": "H",
         "Team": "Tampa Bay",
         "1st": 3,
         "2nd": 3,
         "3rd": 2,
         "Final": "8",
         "Open": "-195",
         "Close": -185,
         "PuckLine": -1.5,
         "PuckLineOdds": 160,
         "OpenOU": 5,
         "OpenOUOdds": 115,
         "CloseOU": 5,
         "CloseOUOdds": "115",
         "_deepnote_index_column": 1885
        },
        {
         "Date": 622,
         "Rot": 81,
         "VH": "V",
         "Team": "Montreal",
         "1st": 1,
         "2nd": 2,
         "3rd": 1,
         "Final": "4",
         "Open": "205",
         "Close": 205,
         "PuckLine": 1.5,
         "PuckLineOdds": -150,
         "OpenOU": 5,
         "OpenOUOdds": -135,
         "CloseOU": 5,
         "CloseOUOdds": "-135",
         "_deepnote_index_column": 1886
        },
        {
         "Date": 622,
         "Rot": 82,
         "VH": "H",
         "Team": "Vegas",
         "1st": 0,
         "2nd": 0,
         "3rd": 1,
         "Final": "1",
         "Open": "-255",
         "Close": -230,
         "PuckLine": -1.5,
         "PuckLineOdds": 130,
         "OpenOU": 5,
         "OpenOUOdds": 115,
         "CloseOU": 5,
         "CloseOUOdds": "115",
         "_deepnote_index_column": 1887
        },
        {
         "Date": 623,
         "Rot": 11,
         "VH": "V",
         "Team": "Tampa Bay",
         "1st": 1,
         "2nd": 1,
         "3rd": 0,
         "Final": "2",
         "Open": "-150",
         "Close": -140,
         "PuckLine": -1.5,
         "PuckLineOdds": 185,
         "OpenOU": 5,
         "OpenOUOdds": -130,
         "CloseOU": 5,
         "CloseOUOdds": "-130",
         "_deepnote_index_column": 1888
        },
        {
         "Date": 623,
         "Rot": 12,
         "VH": "H",
         "Team": "NY Islanders",
         "1st": 0,
         "2nd": 1,
         "3rd": 1,
         "Final": "3",
         "Open": "130",
         "Close": 130,
         "PuckLine": 1.5,
         "PuckLineOdds": -210,
         "OpenOU": 5,
         "OpenOUOdds": 110,
         "CloseOU": 5,
         "CloseOUOdds": "110",
         "_deepnote_index_column": 1889
        },
        {
         "Date": 624,
         "Rot": 21,
         "VH": "V",
         "Team": "Vegas",
         "1st": 1,
         "2nd": 0,
         "3rd": 1,
         "Final": "2",
         "Open": "-140",
         "Close": -135,
         "PuckLine": -1.5,
         "PuckLineOdds": 195,
         "OpenOU": 5,
         "OpenOUOdds": -130,
         "CloseOU": 5,
         "CloseOUOdds": "-130",
         "_deepnote_index_column": 1890
        },
        {
         "Date": 624,
         "Rot": 22,
         "VH": "H",
         "Team": "Montreal",
         "1st": 1,
         "2nd": 1,
         "3rd": 0,
         "Final": "3",
         "Open": "120",
         "Close": 125,
         "PuckLine": 1.5,
         "PuckLineOdds": -220,
         "OpenOU": 5,
         "OpenOUOdds": 110,
         "CloseOU": 5,
         "CloseOUOdds": "110",
         "_deepnote_index_column": 1891
        },
        {
         "Date": 625,
         "Rot": 31,
         "VH": "V",
         "Team": "NY Islanders",
         "1st": 0,
         "2nd": 0,
         "3rd": 0,
         "Final": "0",
         "Open": "150",
         "Close": 165,
         "PuckLine": 1.5,
         "PuckLineOdds": -170,
         "OpenOU": 5,
         "OpenOUOdds": -130,
         "CloseOU": 5,
         "CloseOUOdds": "-105",
         "_deepnote_index_column": 1892
        },
        {
         "Date": 625,
         "Rot": 32,
         "VH": "H",
         "Team": "Tampa Bay",
         "1st": 0,
         "2nd": 1,
         "3rd": 0,
         "Final": "1",
         "Open": "-180",
         "Close": -185,
         "PuckLine": -1.5,
         "PuckLineOdds": 150,
         "OpenOU": 5,
         "OpenOUOdds": 110,
         "CloseOU": 5,
         "CloseOUOdds": "-115",
         "_deepnote_index_column": 1893
        },
        {
         "Date": 628,
         "Rot": 61,
         "VH": "V",
         "Team": "Montreal",
         "1st": 0,
         "2nd": 1,
         "3rd": 0,
         "Final": "1",
         "Open": "185",
         "Close": 180,
         "PuckLine": 1.5,
         "PuckLineOdds": -165,
         "OpenOU": 5,
         "OpenOUOdds": -120,
         "CloseOU": 5,
         "CloseOUOdds": "-125",
         "_deepnote_index_column": 1894
        },
        {
         "Date": 628,
         "Rot": 62,
         "VH": "H",
         "Team": "Tampa Bay",
         "1st": 1,
         "2nd": 1,
         "3rd": 3,
         "Final": "5",
         "Open": "-225",
         "Close": -200,
         "PuckLine": -1.5,
         "PuckLineOdds": 145,
         "OpenOU": 5,
         "OpenOUOdds": 100,
         "CloseOU": 5,
         "CloseOUOdds": "105",
         "_deepnote_index_column": 1895
        },
        {
         "Date": 630,
         "Rot": 81,
         "VH": "V",
         "Team": "Montreal",
         "1st": 0,
         "2nd": 1,
         "3rd": 0,
         "Final": "1",
         "Open": "180",
         "Close": 177,
         "PuckLine": 1.5,
         "PuckLineOdds": -145,
         "OpenOU": 5,
         "OpenOUOdds": -120,
         "CloseOU": 5,
         "CloseOUOdds": "-120",
         "_deepnote_index_column": 1896
        },
        {
         "Date": 630,
         "Rot": 82,
         "VH": "H",
         "Team": "Tampa Bay",
         "1st": 0,
         "2nd": 2,
         "3rd": 1,
         "Final": "3",
         "Open": "-220",
         "Close": -197,
         "PuckLine": -1.5,
         "PuckLineOdds": 125,
         "OpenOU": 5,
         "OpenOUOdds": 100,
         "CloseOU": 5,
         "CloseOUOdds": "100",
         "_deepnote_index_column": 1897
        },
        {
         "Date": 702,
         "Rot": 11,
         "VH": "V",
         "Team": "Tampa Bay",
         "1st": 2,
         "2nd": 2,
         "3rd": 2,
         "Final": "6",
         "Open": "-145",
         "Close": -123,
         "PuckLine": -1.5,
         "PuckLineOdds": 205,
         "OpenOU": 5,
         "OpenOUOdds": -120,
         "CloseOU": 5,
         "CloseOUOdds": "-120",
         "_deepnote_index_column": 1898
        },
        {
         "Date": 702,
         "Rot": 12,
         "VH": "H",
         "Team": "Montreal",
         "1st": 1,
         "2nd": 1,
         "3rd": 1,
         "Final": "3",
         "Open": "125",
         "Close": 113,
         "PuckLine": 1.5,
         "PuckLineOdds": -235,
         "OpenOU": 5,
         "OpenOUOdds": 100,
         "CloseOU": 5,
         "CloseOUOdds": "100",
         "_deepnote_index_column": 1899
        },
        {
         "Date": 705,
         "Rot": 21,
         "VH": "V",
         "Team": "Tampa Bay",
         "1st": 0,
         "2nd": 1,
         "3rd": 1,
         "Final": "2",
         "Open": "-145",
         "Close": -150,
         "PuckLine": -1.5,
         "PuckLineOdds": 175,
         "OpenOU": 5,
         "OpenOUOdds": -135,
         "CloseOU": 5,
         "CloseOUOdds": "-140",
         "_deepnote_index_column": 1900
        },
        {
         "Date": 705,
         "Rot": 22,
         "VH": "H",
         "Team": "Montreal",
         "1st": 1,
         "2nd": 0,
         "3rd": 1,
         "Final": "3",
         "Open": "125",
         "Close": 135,
         "PuckLine": 1.5,
         "PuckLineOdds": -200,
         "OpenOU": 5,
         "OpenOUOdds": 115,
         "CloseOU": 5,
         "CloseOUOdds": "120",
         "_deepnote_index_column": 1901
        },
        {
         "Date": 707,
         "Rot": 31,
         "VH": "V",
         "Team": "Montreal",
         "1st": 0,
         "2nd": 0,
         "3rd": 0,
         "Final": "0",
         "Open": "180",
         "Close": 215,
         "PuckLine": 1.5,
         "PuckLineOdds": -130,
         "OpenOU": 5,
         "OpenOUOdds": -120,
         "CloseOU": 5,
         "CloseOUOdds": "-140",
         "_deepnote_index_column": 1902
        },
        {
         "Date": 707,
         "Rot": 32,
         "VH": "H",
         "Team": "Tampa Bay",
         "1st": 0,
         "2nd": 1,
         "3rd": 0,
         "Final": "1",
         "Open": "-220",
         "Close": -245,
         "PuckLine": -1.5,
         "PuckLineOdds": 110,
         "OpenOU": 5,
         "OpenOUOdds": 100,
         "CloseOU": 5,
         "CloseOUOdds": "120",
         "_deepnote_index_column": 1903
        }
       ]
      },
      "text/plain": "      Date  Rot VH          Team  1st  2nd  3rd Final  Open  Close  PuckLine  \\\n0      113   41  V    Pittsburgh    1    1    1     3  -110   -115       1.5   \n1      113   42  H  Philadelphia    2    1    3     6   100   -105      -1.5   \n2      113   43  V      Montreal    2    1    1     0   132    120       1.5   \n3      113   44  H       Toronto    1    2    1     1  -145   -140      -1.5   \n4      113   45  V       Chicago    0    0    1     1   230    210       1.5   \n...    ...  ... ..           ...  ...  ...  ...   ...   ...    ...       ...   \n1899   702   12  H      Montreal    1    1    1     3   125    113       1.5   \n1900   705   21  V     Tampa Bay    0    1    1     2  -145   -150      -1.5   \n1901   705   22  H      Montreal    1    0    1     3   125    135       1.5   \n1902   707   31  V      Montreal    0    0    0     0   180    215       1.5   \n1903   707   32  H     Tampa Bay    0    1    0     1  -220   -245      -1.5   \n\n      PuckLineOdds  OpenOU  OpenOUOdds  CloseOU CloseOUOdds  \n0             -310     6.0        -110      6.0         105  \n1              260     6.0        -110      6.0        -125  \n2             -220     6.0        -110      6.0        -110  \n3              195     6.0        -110      6.0        -110  \n4             -125     6.5        -110      6.5        -110  \n...            ...     ...         ...      ...         ...  \n1899          -235     5.0         100      5.0         100  \n1900           175     5.0        -135      5.0        -140  \n1901          -200     5.0         115      5.0         120  \n1902          -130     5.0        -120      5.0        -140  \n1903           110     5.0         100      5.0         120  \n\n[1904 rows x 16 columns]",
      "text/html": "<div>\n<style scoped>\n    .dataframe tbody tr th:only-of-type {\n        vertical-align: middle;\n    }\n\n    .dataframe tbody tr th {\n        vertical-align: top;\n    }\n\n    .dataframe thead th {\n        text-align: right;\n    }\n</style>\n<table border=\"1\" class=\"dataframe\">\n  <thead>\n    <tr style=\"text-align: right;\">\n      <th></th>\n      <th>Date</th>\n      <th>Rot</th>\n      <th>VH</th>\n      <th>Team</th>\n      <th>1st</th>\n      <th>2nd</th>\n      <th>3rd</th>\n      <th>Final</th>\n      <th>Open</th>\n      <th>Close</th>\n      <th>PuckLine</th>\n      <th>PuckLineOdds</th>\n      <th>OpenOU</th>\n      <th>OpenOUOdds</th>\n      <th>CloseOU</th>\n      <th>CloseOUOdds</th>\n    </tr>\n  </thead>\n  <tbody>\n    <tr>\n      <th>0</th>\n      <td>113</td>\n      <td>41</td>\n      <td>V</td>\n      <td>Pittsburgh</td>\n      <td>1</td>\n      <td>1</td>\n      <td>1</td>\n      <td>3</td>\n      <td>-110</td>\n      <td>-115</td>\n      <td>1.5</td>\n      <td>-310</td>\n      <td>6.0</td>\n      <td>-110</td>\n      <td>6.0</td>\n      <td>105</td>\n    </tr>\n    <tr>\n      <th>1</th>\n      <td>113</td>\n      <td>42</td>\n      <td>H</td>\n      <td>Philadelphia</td>\n      <td>2</td>\n      <td>1</td>\n      <td>3</td>\n      <td>6</td>\n      <td>100</td>\n      <td>-105</td>\n      <td>-1.5</td>\n      <td>260</td>\n      <td>6.0</td>\n      <td>-110</td>\n      <td>6.0</td>\n      <td>-125</td>\n    </tr>\n    <tr>\n      <th>2</th>\n      <td>113</td>\n      <td>43</td>\n      <td>V</td>\n      <td>Montreal</td>\n      <td>2</td>\n      <td>1</td>\n      <td>1</td>\n      <td>0</td>\n      <td>132</td>\n      <td>120</td>\n      <td>1.5</td>\n      <td>-220</td>\n      <td>6.0</td>\n      <td>-110</td>\n      <td>6.0</td>\n      <td>-110</td>\n    </tr>\n    <tr>\n      <th>3</th>\n      <td>113</td>\n      <td>44</td>\n      <td>H</td>\n      <td>Toronto</td>\n      <td>1</td>\n      <td>2</td>\n      <td>1</td>\n      <td>1</td>\n      <td>-145</td>\n      <td>-140</td>\n      <td>-1.5</td>\n      <td>195</td>\n      <td>6.0</td>\n      <td>-110</td>\n      <td>6.0</td>\n      <td>-110</td>\n    </tr>\n    <tr>\n      <th>4</th>\n      <td>113</td>\n      <td>45</td>\n      <td>V</td>\n      <td>Chicago</td>\n      <td>0</td>\n      <td>0</td>\n      <td>1</td>\n      <td>1</td>\n      <td>230</td>\n      <td>210</td>\n      <td>1.5</td>\n      <td>-125</td>\n      <td>6.5</td>\n      <td>-110</td>\n      <td>6.5</td>\n      <td>-110</td>\n    </tr>\n    <tr>\n      <th>...</th>\n      <td>...</td>\n      <td>...</td>\n      <td>...</td>\n      <td>...</td>\n      <td>...</td>\n      <td>...</td>\n      <td>...</td>\n      <td>...</td>\n      <td>...</td>\n      <td>...</td>\n      <td>...</td>\n      <td>...</td>\n      <td>...</td>\n      <td>...</td>\n      <td>...</td>\n      <td>...</td>\n    </tr>\n    <tr>\n      <th>1899</th>\n      <td>702</td>\n      <td>12</td>\n      <td>H</td>\n      <td>Montreal</td>\n      <td>1</td>\n      <td>1</td>\n      <td>1</td>\n      <td>3</td>\n      <td>125</td>\n      <td>113</td>\n      <td>1.5</td>\n      <td>-235</td>\n      <td>5.0</td>\n      <td>100</td>\n      <td>5.0</td>\n      <td>100</td>\n    </tr>\n    <tr>\n      <th>1900</th>\n      <td>705</td>\n      <td>21</td>\n      <td>V</td>\n      <td>Tampa Bay</td>\n      <td>0</td>\n      <td>1</td>\n      <td>1</td>\n      <td>2</td>\n      <td>-145</td>\n      <td>-150</td>\n      <td>-1.5</td>\n      <td>175</td>\n      <td>5.0</td>\n      <td>-135</td>\n      <td>5.0</td>\n      <td>-140</td>\n    </tr>\n    <tr>\n      <th>1901</th>\n      <td>705</td>\n      <td>22</td>\n      <td>H</td>\n      <td>Montreal</td>\n      <td>1</td>\n      <td>0</td>\n      <td>1</td>\n      <td>3</td>\n      <td>125</td>\n      <td>135</td>\n      <td>1.5</td>\n      <td>-200</td>\n      <td>5.0</td>\n      <td>115</td>\n      <td>5.0</td>\n      <td>120</td>\n    </tr>\n    <tr>\n      <th>1902</th>\n      <td>707</td>\n      <td>31</td>\n      <td>V</td>\n      <td>Montreal</td>\n      <td>0</td>\n      <td>0</td>\n      <td>0</td>\n      <td>0</td>\n      <td>180</td>\n      <td>215</td>\n      <td>1.5</td>\n      <td>-130</td>\n      <td>5.0</td>\n      <td>-120</td>\n      <td>5.0</td>\n      <td>-140</td>\n    </tr>\n    <tr>\n      <th>1903</th>\n      <td>707</td>\n      <td>32</td>\n      <td>H</td>\n      <td>Tampa Bay</td>\n      <td>0</td>\n      <td>1</td>\n      <td>0</td>\n      <td>1</td>\n      <td>-220</td>\n      <td>-245</td>\n      <td>-1.5</td>\n      <td>110</td>\n      <td>5.0</td>\n      <td>100</td>\n      <td>5.0</td>\n      <td>120</td>\n    </tr>\n  </tbody>\n</table>\n<p>1904 rows × 16 columns</p>\n</div>"
     },
     "metadata": {}
    }
   ],
   "execution_count": null
  },
  {
   "cell_type": "code",
   "metadata": {
    "tags": [],
    "cell_id": "00002-fbf709da-4150-4050-afe9-73abda3451c0",
    "deepnote_to_be_reexecuted": false,
    "source_hash": "363f29a1",
    "execution_start": 1633407127794,
    "execution_millis": 7,
    "deepnote_cell_type": "code"
   },
   "source": "# There are 33 distinct teams listed which means there is some sort of error (expecting 31). Need to look at the list of teams.\ndata_2021.Team.unique()\n\n# TampaBay == Tampa Bay\n# NYIslanders == NY Islanders",
   "outputs": [
    {
     "output_type": "execute_result",
     "execution_count": 3,
     "data": {
      "text/plain": "array(['Pittsburgh', 'Philadelphia', 'Montreal', 'Toronto', 'Chicago',\n       'TampaBay', 'Vancouver', 'Edmonton', 'St.Louis', 'Colorado',\n       'Boston', 'NewJersey', 'Washington', 'Buffalo', 'NYIslanders',\n       'NYRangers', 'Carolina', 'Detroit', 'Calgary', 'Winnipeg',\n       'Columbus', 'Nashville', 'SanJose', 'Arizona', 'Minnesota',\n       'LosAngeles', 'Anaheim', 'Vegas', 'Ottawa', 'Florida', 'Dallas',\n       'NY Islanders', 'Tampa Bay'], dtype=object)"
     },
     "metadata": {}
    }
   ],
   "execution_count": null
  },
  {
   "cell_type": "code",
   "metadata": {
    "tags": [],
    "cell_id": "00004-5d01dfc6-ad0f-4d88-b687-57b98df9312c",
    "deepnote_to_be_reexecuted": false,
    "source_hash": "44d53052",
    "execution_start": 1633407127851,
    "execution_millis": 69,
    "deepnote_cell_type": "code"
   },
   "source": "fixed_names = {'NY Islanders': 'NYIslanders', 'Tampa Bay': 'TampaBay'}\n\nfixed_data_2021 = data_2021.replace({'Team': fixed_names})\n\nfixed_data_2021.describe()",
   "outputs": [
    {
     "output_type": "execute_result",
     "execution_count": 4,
     "data": {
      "application/vnd.deepnote.dataframe.v2+json": {
       "row_count": 8,
       "column_count": 11,
       "columns": [
        {
         "name": "Date",
         "dtype": "float64",
         "stats": {
          "unique_count": 8,
          "nan_count": 0,
          "min": "113.0",
          "max": "1904.0",
          "histogram": [
           {
            "bin_start": 113,
            "bin_end": 292.1,
            "count": 3
           },
           {
            "bin_start": 292.1,
            "bin_end": 471.2,
            "count": 3
           },
           {
            "bin_start": 471.2,
            "bin_end": 650.3,
            "count": 0
           },
           {
            "bin_start": 650.3,
            "bin_end": 829.4,
            "count": 1
           },
           {
            "bin_start": 829.4,
            "bin_end": 1008.5,
            "count": 0
           },
           {
            "bin_start": 1008.5,
            "bin_end": 1187.6,
            "count": 0
           },
           {
            "bin_start": 1187.6,
            "bin_end": 1366.7,
            "count": 0
           },
           {
            "bin_start": 1366.7,
            "bin_end": 1545.8,
            "count": 0
           },
           {
            "bin_start": 1545.8,
            "bin_end": 1724.8999999999999,
            "count": 0
           },
           {
            "bin_start": 1724.8999999999999,
            "bin_end": 1904,
            "count": 1
           }
          ]
         }
        },
        {
         "name": "Rot",
         "dtype": "float64",
         "stats": {
          "unique_count": 8,
          "nan_count": 0,
          "min": "1.0",
          "max": "1904.0",
          "histogram": [
           {
            "bin_start": 1,
            "bin_end": 191.3,
            "count": 7
           },
           {
            "bin_start": 191.3,
            "bin_end": 381.6,
            "count": 0
           },
           {
            "bin_start": 381.6,
            "bin_end": 571.9000000000001,
            "count": 0
           },
           {
            "bin_start": 571.9000000000001,
            "bin_end": 762.2,
            "count": 0
           },
           {
            "bin_start": 762.2,
            "bin_end": 952.5,
            "count": 0
           },
           {
            "bin_start": 952.5,
            "bin_end": 1142.8000000000002,
            "count": 0
           },
           {
            "bin_start": 1142.8000000000002,
            "bin_end": 1333.1000000000001,
            "count": 0
           },
           {
            "bin_start": 1333.1000000000001,
            "bin_end": 1523.4,
            "count": 0
           },
           {
            "bin_start": 1523.4,
            "bin_end": 1713.7,
            "count": 0
           },
           {
            "bin_start": 1713.7,
            "bin_end": 1904,
            "count": 1
           }
          ]
         }
        },
        {
         "name": "1st",
         "dtype": "float64",
         "stats": {
          "unique_count": 6,
          "nan_count": 0,
          "min": "0.0",
          "max": "1904.0",
          "histogram": [
           {
            "bin_start": 0,
            "bin_end": 190.4,
            "count": 7
           },
           {
            "bin_start": 190.4,
            "bin_end": 380.8,
            "count": 0
           },
           {
            "bin_start": 380.8,
            "bin_end": 571.2,
            "count": 0
           },
           {
            "bin_start": 571.2,
            "bin_end": 761.6,
            "count": 0
           },
           {
            "bin_start": 761.6,
            "bin_end": 952,
            "count": 0
           },
           {
            "bin_start": 952,
            "bin_end": 1142.4,
            "count": 0
           },
           {
            "bin_start": 1142.4,
            "bin_end": 1332.8,
            "count": 0
           },
           {
            "bin_start": 1332.8,
            "bin_end": 1523.2,
            "count": 0
           },
           {
            "bin_start": 1523.2,
            "bin_end": 1713.6000000000001,
            "count": 0
           },
           {
            "bin_start": 1713.6000000000001,
            "bin_end": 1904,
            "count": 1
           }
          ]
         }
        },
        {
         "name": "2nd",
         "dtype": "float64",
         "stats": {
          "unique_count": 7,
          "nan_count": 0,
          "min": "0.0",
          "max": "1904.0",
          "histogram": [
           {
            "bin_start": 0,
            "bin_end": 190.4,
            "count": 7
           },
           {
            "bin_start": 190.4,
            "bin_end": 380.8,
            "count": 0
           },
           {
            "bin_start": 380.8,
            "bin_end": 571.2,
            "count": 0
           },
           {
            "bin_start": 571.2,
            "bin_end": 761.6,
            "count": 0
           },
           {
            "bin_start": 761.6,
            "bin_end": 952,
            "count": 0
           },
           {
            "bin_start": 952,
            "bin_end": 1142.4,
            "count": 0
           },
           {
            "bin_start": 1142.4,
            "bin_end": 1332.8,
            "count": 0
           },
           {
            "bin_start": 1332.8,
            "bin_end": 1523.2,
            "count": 0
           },
           {
            "bin_start": 1523.2,
            "bin_end": 1713.6000000000001,
            "count": 0
           },
           {
            "bin_start": 1713.6000000000001,
            "bin_end": 1904,
            "count": 1
           }
          ]
         }
        },
        {
         "name": "3rd",
         "dtype": "float64",
         "stats": {
          "unique_count": 7,
          "nan_count": 0,
          "min": "0.0",
          "max": "1904.0",
          "histogram": [
           {
            "bin_start": 0,
            "bin_end": 190.4,
            "count": 7
           },
           {
            "bin_start": 190.4,
            "bin_end": 380.8,
            "count": 0
           },
           {
            "bin_start": 380.8,
            "bin_end": 571.2,
            "count": 0
           },
           {
            "bin_start": 571.2,
            "bin_end": 761.6,
            "count": 0
           },
           {
            "bin_start": 761.6,
            "bin_end": 952,
            "count": 0
           },
           {
            "bin_start": 952,
            "bin_end": 1142.4,
            "count": 0
           },
           {
            "bin_start": 1142.4,
            "bin_end": 1332.8,
            "count": 0
           },
           {
            "bin_start": 1332.8,
            "bin_end": 1523.2,
            "count": 0
           },
           {
            "bin_start": 1523.2,
            "bin_end": 1713.6000000000001,
            "count": 0
           },
           {
            "bin_start": 1713.6000000000001,
            "bin_end": 1904,
            "count": 1
           }
          ]
         }
        },
        {
         "name": "Close",
         "dtype": "float64",
         "stats": {
          "unique_count": 8,
          "nan_count": 0,
          "min": "-530.0",
          "max": "1904.0",
          "histogram": [
           {
            "bin_start": -530,
            "bin_end": -286.6,
            "count": 1
           },
           {
            "bin_start": -286.6,
            "bin_end": -43.19999999999999,
            "count": 2
           },
           {
            "bin_start": -43.19999999999999,
            "bin_end": 200.20000000000005,
            "count": 3
           },
           {
            "bin_start": 200.20000000000005,
            "bin_end": 443.6,
            "count": 1
           },
           {
            "bin_start": 443.6,
            "bin_end": 687,
            "count": 0
           },
           {
            "bin_start": 687,
            "bin_end": 930.4000000000001,
            "count": 0
           },
           {
            "bin_start": 930.4000000000001,
            "bin_end": 1173.8,
            "count": 0
           },
           {
            "bin_start": 1173.8,
            "bin_end": 1417.2,
            "count": 0
           },
           {
            "bin_start": 1417.2,
            "bin_end": 1660.6,
            "count": 0
           },
           {
            "bin_start": 1660.6,
            "bin_end": 1904,
            "count": 1
           }
          ]
         }
        },
        {
         "name": "PuckLine",
         "dtype": "float64",
         "stats": {
          "unique_count": 5,
          "nan_count": 0,
          "min": "-1.5",
          "max": "1904.0",
          "histogram": [
           {
            "bin_start": -1.5,
            "bin_end": 189.05,
            "count": 7
           },
           {
            "bin_start": 189.05,
            "bin_end": 379.6,
            "count": 0
           },
           {
            "bin_start": 379.6,
            "bin_end": 570.1500000000001,
            "count": 0
           },
           {
            "bin_start": 570.1500000000001,
            "bin_end": 760.7,
            "count": 0
           },
           {
            "bin_start": 760.7,
            "bin_end": 951.25,
            "count": 0
           },
           {
            "bin_start": 951.25,
            "bin_end": 1141.8000000000002,
            "count": 0
           },
           {
            "bin_start": 1141.8000000000002,
            "bin_end": 1332.3500000000001,
            "count": 0
           },
           {
            "bin_start": 1332.3500000000001,
            "bin_end": 1522.9,
            "count": 0
           },
           {
            "bin_start": 1522.9,
            "bin_end": 1713.45,
            "count": 0
           },
           {
            "bin_start": 1713.45,
            "bin_end": 1904,
            "count": 1
           }
          ]
         }
        },
        {
         "name": "PuckLineOdds",
         "dtype": "float64",
         "stats": {
          "unique_count": 8,
          "nan_count": 0,
          "min": "-310.0",
          "max": "1904.0",
          "histogram": [
           {
            "bin_start": -310,
            "bin_end": -88.6,
            "count": 3
           },
           {
            "bin_start": -88.6,
            "bin_end": 132.8,
            "count": 1
           },
           {
            "bin_start": 132.8,
            "bin_end": 354.20000000000005,
            "count": 3
           },
           {
            "bin_start": 354.20000000000005,
            "bin_end": 575.6,
            "count": 0
           },
           {
            "bin_start": 575.6,
            "bin_end": 797,
            "count": 0
           },
           {
            "bin_start": 797,
            "bin_end": 1018.4000000000001,
            "count": 0
           },
           {
            "bin_start": 1018.4000000000001,
            "bin_end": 1239.8,
            "count": 0
           },
           {
            "bin_start": 1239.8,
            "bin_end": 1461.2,
            "count": 0
           },
           {
            "bin_start": 1461.2,
            "bin_end": 1682.6000000000001,
            "count": 0
           },
           {
            "bin_start": 1682.6000000000001,
            "bin_end": 1904,
            "count": 1
           }
          ]
         }
        },
        {
         "name": "OpenOU",
         "dtype": "float64",
         "stats": {
          "unique_count": 7,
          "nan_count": 0,
          "min": "-110.0",
          "max": "1904.0",
          "histogram": [
           {
            "bin_start": -110,
            "bin_end": 91.4,
            "count": 7
           },
           {
            "bin_start": 91.4,
            "bin_end": 292.8,
            "count": 0
           },
           {
            "bin_start": 292.8,
            "bin_end": 494.20000000000005,
            "count": 0
           },
           {
            "bin_start": 494.20000000000005,
            "bin_end": 695.6,
            "count": 0
           },
           {
            "bin_start": 695.6,
            "bin_end": 897,
            "count": 0
           },
           {
            "bin_start": 897,
            "bin_end": 1098.4,
            "count": 0
           },
           {
            "bin_start": 1098.4,
            "bin_end": 1299.8,
            "count": 0
           },
           {
            "bin_start": 1299.8,
            "bin_end": 1501.2,
            "count": 0
           },
           {
            "bin_start": 1501.2,
            "bin_end": 1702.6000000000001,
            "count": 0
           },
           {
            "bin_start": 1702.6000000000001,
            "bin_end": 1904,
            "count": 1
           }
          ]
         }
        },
        {
         "name": "OpenOUOdds",
         "dtype": "float64",
         "stats": {
          "unique_count": 6,
          "nan_count": 0,
          "min": "-150.0",
          "max": "1904.0",
          "histogram": [
           {
            "bin_start": -150,
            "bin_end": 55.400000000000006,
            "count": 5
           },
           {
            "bin_start": 55.400000000000006,
            "bin_end": 260.8,
            "count": 1
           },
           {
            "bin_start": 260.8,
            "bin_end": 466.20000000000005,
            "count": 0
           },
           {
            "bin_start": 466.20000000000005,
            "bin_end": 671.6,
            "count": 1
           },
           {
            "bin_start": 671.6,
            "bin_end": 877,
            "count": 0
           },
           {
            "bin_start": 877,
            "bin_end": 1082.4,
            "count": 0
           },
           {
            "bin_start": 1082.4,
            "bin_end": 1287.8,
            "count": 0
           },
           {
            "bin_start": 1287.8,
            "bin_end": 1493.2,
            "count": 0
           },
           {
            "bin_start": 1493.2,
            "bin_end": 1698.6000000000001,
            "count": 0
           },
           {
            "bin_start": 1698.6000000000001,
            "bin_end": 1904,
            "count": 1
           }
          ]
         }
        },
        {
         "name": "CloseOU",
         "dtype": "float64",
         "stats": {
          "unique_count": 7,
          "nan_count": 0,
          "min": "0.37860614138822096",
          "max": "1904.0",
          "histogram": [
           {
            "bin_start": 0.37860614138822096,
            "bin_end": 190.7407455272494,
            "count": 7
           },
           {
            "bin_start": 190.7407455272494,
            "bin_end": 381.1028849131106,
            "count": 0
           },
           {
            "bin_start": 381.1028849131106,
            "bin_end": 571.4650242989718,
            "count": 0
           },
           {
            "bin_start": 571.4650242989718,
            "bin_end": 761.827163684833,
            "count": 0
           },
           {
            "bin_start": 761.827163684833,
            "bin_end": 952.1893030706941,
            "count": 0
           },
           {
            "bin_start": 952.1893030706941,
            "bin_end": 1142.5514424565554,
            "count": 0
           },
           {
            "bin_start": 1142.5514424565554,
            "bin_end": 1332.9135818424165,
            "count": 0
           },
           {
            "bin_start": 1332.9135818424165,
            "bin_end": 1523.2757212282777,
            "count": 0
           },
           {
            "bin_start": 1523.2757212282777,
            "bin_end": 1713.6378606141388,
            "count": 0
           },
           {
            "bin_start": 1713.6378606141388,
            "bin_end": 1904,
            "count": 1
           }
          ]
         }
        },
        {
         "name": "_deepnote_index_column",
         "dtype": "object"
        }
       ],
       "rows_top": [
        {
         "Date": 1904,
         "Rot": 1904,
         "1st": 1904,
         "2nd": 1904,
         "3rd": 1904,
         "Close": 1904,
         "PuckLine": 1904,
         "PuckLineOdds": 1904,
         "OpenOU": 1904,
         "OpenOUOdds": 1904,
         "CloseOU": 1904,
         "_deepnote_index_column": "count"
        },
        {
         "Date": 334.08508403361344,
         "Rot": 39.7563025210084,
         "1st": 0.821953781512605,
         "2nd": 0.9863445378151261,
         "3rd": 0.9942226890756303,
         "Close": -12.625,
         "PuckLine": 0,
         "PuckLineOdds": -15.903361344537815,
         "OpenOU": 5.582457983193278,
         "OpenOUOdds": -93.13235294117646,
         "CloseOU": 5.7158613445378155,
         "_deepnote_index_column": "mean"
        },
        {
         "Date": 136.21902129928256,
         "Rot": 23.31676502992469,
         "1st": 0.9044301347219443,
         "2nd": 0.9943732814176293,
         "3rd": 0.9947144734278198,
         "Close": 166.0706347546074,
         "PuckLine": 1.5003940627941357,
         "PuckLineOdds": 183.14329135949293,
         "OpenOU": 3.768076355409876,
         "OpenOUOdds": 62.65180679704054,
         "CloseOU": 0.37860614138822096,
         "_deepnote_index_column": "std"
        },
        {
         "Date": 113,
         "Rot": 1,
         "1st": 0,
         "2nd": 0,
         "3rd": 0,
         "Close": -530,
         "PuckLine": -1.5,
         "PuckLineOdds": -310,
         "OpenOU": -110,
         "OpenOUOdds": -150,
         "CloseOU": 5,
         "_deepnote_index_column": "min"
        },
        {
         "Date": 218,
         "Rot": 20,
         "1st": 0,
         "2nd": 0,
         "3rd": 0,
         "Close": -150,
         "PuckLine": -1.5,
         "PuckLineOdds": -185,
         "OpenOU": 5.5,
         "OpenOUOdds": -110,
         "CloseOU": 5.5,
         "_deepnote_index_column": "25%"
        },
        {
         "Date": 321,
         "Rot": 40,
         "1st": 1,
         "2nd": 1,
         "3rd": 1,
         "Close": -105,
         "PuckLine": 0,
         "PuckLineOdds": -110,
         "OpenOU": 5.5,
         "OpenOUOdds": -110,
         "CloseOU": 5.5,
         "_deepnote_index_column": "50%"
        },
        {
         "Date": 422.25,
         "Rot": 59,
         "1st": 1,
         "2nd": 2,
         "3rd": 2,
         "Close": 135,
         "PuckLine": 1.5,
         "PuckLineOdds": 165,
         "OpenOU": 6,
         "OpenOUOdds": -110,
         "CloseOU": 6,
         "_deepnote_index_column": "75%"
        },
        {
         "Date": 707,
         "Rot": 90,
         "1st": 5,
         "2nd": 7,
         "3rd": 6,
         "Close": 415,
         "PuckLine": 1.5,
         "PuckLineOdds": 260,
         "OpenOU": 6.5,
         "OpenOUOdds": 605,
         "CloseOU": 6.5,
         "_deepnote_index_column": "max"
        }
       ],
       "rows_bottom": null
      },
      "text/plain": "              Date          Rot          1st          2nd          3rd  \\\ncount  1904.000000  1904.000000  1904.000000  1904.000000  1904.000000   \nmean    334.085084    39.756303     0.821954     0.986345     0.994223   \nstd     136.219021    23.316765     0.904430     0.994373     0.994714   \nmin     113.000000     1.000000     0.000000     0.000000     0.000000   \n25%     218.000000    20.000000     0.000000     0.000000     0.000000   \n50%     321.000000    40.000000     1.000000     1.000000     1.000000   \n75%     422.250000    59.000000     1.000000     2.000000     2.000000   \nmax     707.000000    90.000000     5.000000     7.000000     6.000000   \n\n             Close     PuckLine  PuckLineOdds       OpenOU   OpenOUOdds  \\\ncount  1904.000000  1904.000000   1904.000000  1904.000000  1904.000000   \nmean    -12.625000     0.000000    -15.903361     5.582458   -93.132353   \nstd     166.070635     1.500394    183.143291     3.768076    62.651807   \nmin    -530.000000    -1.500000   -310.000000  -110.000000  -150.000000   \n25%    -150.000000    -1.500000   -185.000000     5.500000  -110.000000   \n50%    -105.000000     0.000000   -110.000000     5.500000  -110.000000   \n75%     135.000000     1.500000    165.000000     6.000000  -110.000000   \nmax     415.000000     1.500000    260.000000     6.500000   605.000000   \n\n           CloseOU  \ncount  1904.000000  \nmean      5.715861  \nstd       0.378606  \nmin       5.000000  \n25%       5.500000  \n50%       5.500000  \n75%       6.000000  \nmax       6.500000  ",
      "text/html": "<div>\n<style scoped>\n    .dataframe tbody tr th:only-of-type {\n        vertical-align: middle;\n    }\n\n    .dataframe tbody tr th {\n        vertical-align: top;\n    }\n\n    .dataframe thead th {\n        text-align: right;\n    }\n</style>\n<table border=\"1\" class=\"dataframe\">\n  <thead>\n    <tr style=\"text-align: right;\">\n      <th></th>\n      <th>Date</th>\n      <th>Rot</th>\n      <th>1st</th>\n      <th>2nd</th>\n      <th>3rd</th>\n      <th>Close</th>\n      <th>PuckLine</th>\n      <th>PuckLineOdds</th>\n      <th>OpenOU</th>\n      <th>OpenOUOdds</th>\n      <th>CloseOU</th>\n    </tr>\n  </thead>\n  <tbody>\n    <tr>\n      <th>count</th>\n      <td>1904.000000</td>\n      <td>1904.000000</td>\n      <td>1904.000000</td>\n      <td>1904.000000</td>\n      <td>1904.000000</td>\n      <td>1904.000000</td>\n      <td>1904.000000</td>\n      <td>1904.000000</td>\n      <td>1904.000000</td>\n      <td>1904.000000</td>\n      <td>1904.000000</td>\n    </tr>\n    <tr>\n      <th>mean</th>\n      <td>334.085084</td>\n      <td>39.756303</td>\n      <td>0.821954</td>\n      <td>0.986345</td>\n      <td>0.994223</td>\n      <td>-12.625000</td>\n      <td>0.000000</td>\n      <td>-15.903361</td>\n      <td>5.582458</td>\n      <td>-93.132353</td>\n      <td>5.715861</td>\n    </tr>\n    <tr>\n      <th>std</th>\n      <td>136.219021</td>\n      <td>23.316765</td>\n      <td>0.904430</td>\n      <td>0.994373</td>\n      <td>0.994714</td>\n      <td>166.070635</td>\n      <td>1.500394</td>\n      <td>183.143291</td>\n      <td>3.768076</td>\n      <td>62.651807</td>\n      <td>0.378606</td>\n    </tr>\n    <tr>\n      <th>min</th>\n      <td>113.000000</td>\n      <td>1.000000</td>\n      <td>0.000000</td>\n      <td>0.000000</td>\n      <td>0.000000</td>\n      <td>-530.000000</td>\n      <td>-1.500000</td>\n      <td>-310.000000</td>\n      <td>-110.000000</td>\n      <td>-150.000000</td>\n      <td>5.000000</td>\n    </tr>\n    <tr>\n      <th>25%</th>\n      <td>218.000000</td>\n      <td>20.000000</td>\n      <td>0.000000</td>\n      <td>0.000000</td>\n      <td>0.000000</td>\n      <td>-150.000000</td>\n      <td>-1.500000</td>\n      <td>-185.000000</td>\n      <td>5.500000</td>\n      <td>-110.000000</td>\n      <td>5.500000</td>\n    </tr>\n    <tr>\n      <th>50%</th>\n      <td>321.000000</td>\n      <td>40.000000</td>\n      <td>1.000000</td>\n      <td>1.000000</td>\n      <td>1.000000</td>\n      <td>-105.000000</td>\n      <td>0.000000</td>\n      <td>-110.000000</td>\n      <td>5.500000</td>\n      <td>-110.000000</td>\n      <td>5.500000</td>\n    </tr>\n    <tr>\n      <th>75%</th>\n      <td>422.250000</td>\n      <td>59.000000</td>\n      <td>1.000000</td>\n      <td>2.000000</td>\n      <td>2.000000</td>\n      <td>135.000000</td>\n      <td>1.500000</td>\n      <td>165.000000</td>\n      <td>6.000000</td>\n      <td>-110.000000</td>\n      <td>6.000000</td>\n    </tr>\n    <tr>\n      <th>max</th>\n      <td>707.000000</td>\n      <td>90.000000</td>\n      <td>5.000000</td>\n      <td>7.000000</td>\n      <td>6.000000</td>\n      <td>415.000000</td>\n      <td>1.500000</td>\n      <td>260.000000</td>\n      <td>6.500000</td>\n      <td>605.000000</td>\n      <td>6.500000</td>\n    </tr>\n  </tbody>\n</table>\n</div>"
     },
     "metadata": {}
    }
   ],
   "execution_count": null
  },
  {
   "cell_type": "code",
   "metadata": {
    "tags": [],
    "cell_id": "00005-8f927164-6844-46b1-8146-1c19a4afd4fe",
    "deepnote_to_be_reexecuted": false,
    "source_hash": "5800eba5",
    "execution_start": 1633407127963,
    "execution_millis": 86,
    "deepnote_cell_type": "code"
   },
   "source": "# There are two rows where the OpenOU is -100, which looks like a transposing error. Med O/U is 5.5 so we'll sub that value\n\nfixed_data_2021.loc[fixed_data_2021.OpenOU < 0, 'OpenOU'] = np.nan\nfixed_data_2021.fillna(5.5, inplace=True)\nfixed_data_2021\n",
   "outputs": [
    {
     "output_type": "execute_result",
     "execution_count": 5,
     "data": {
      "application/vnd.deepnote.dataframe.v2+json": {
       "row_count": 1904,
       "column_count": 16,
       "columns": [
        {
         "name": "Date",
         "dtype": "int64",
         "stats": {
          "unique_count": 167,
          "nan_count": 0,
          "min": "113",
          "max": "707",
          "histogram": [
           {
            "bin_start": 113,
            "bin_end": 172.4,
            "count": 268
           },
           {
            "bin_start": 172.4,
            "bin_end": 231.8,
            "count": 360
           },
           {
            "bin_start": 231.8,
            "bin_end": 291.2,
            "count": 0
           },
           {
            "bin_start": 291.2,
            "bin_end": 350.6,
            "count": 468
           },
           {
            "bin_start": 350.6,
            "bin_end": 410,
            "count": 140
           },
           {
            "bin_start": 410,
            "bin_end": 469.4,
            "count": 306
           },
           {
            "bin_start": 469.4,
            "bin_end": 528.8,
            "count": 280
           },
           {
            "bin_start": 528.8,
            "bin_end": 588.2,
            "count": 12
           },
           {
            "bin_start": 588.2,
            "bin_end": 647.6,
            "count": 64
           },
           {
            "bin_start": 647.6,
            "bin_end": 707,
            "count": 6
           }
          ]
         }
        },
        {
         "name": "Rot",
         "dtype": "int64",
         "stats": {
          "unique_count": 90,
          "nan_count": 0,
          "min": "1",
          "max": "90",
          "histogram": [
           {
            "bin_start": 1,
            "bin_end": 9.9,
            "count": 222
           },
           {
            "bin_start": 9.9,
            "bin_end": 18.8,
            "count": 226
           },
           {
            "bin_start": 18.8,
            "bin_end": 27.700000000000003,
            "count": 220
           },
           {
            "bin_start": 27.700000000000003,
            "bin_end": 36.6,
            "count": 212
           },
           {
            "bin_start": 36.6,
            "bin_end": 45.5,
            "count": 225
           },
           {
            "bin_start": 45.5,
            "bin_end": 54.400000000000006,
            "count": 223
           },
           {
            "bin_start": 54.400000000000006,
            "bin_end": 63.300000000000004,
            "count": 212
           },
           {
            "bin_start": 63.300000000000004,
            "bin_end": 72.2,
            "count": 196
           },
           {
            "bin_start": 72.2,
            "bin_end": 81.10000000000001,
            "count": 112
           },
           {
            "bin_start": 81.10000000000001,
            "bin_end": 90,
            "count": 56
           }
          ]
         }
        },
        {
         "name": "VH",
         "dtype": "object",
         "stats": {
          "unique_count": 2,
          "nan_count": 0,
          "categories": [
           {
            "name": "V",
            "count": 952
           },
           {
            "name": "H",
            "count": 952
           }
          ]
         }
        },
        {
         "name": "Team",
         "dtype": "object",
         "stats": {
          "unique_count": 31,
          "nan_count": 0,
          "categories": [
           {
            "name": "TampaBay",
            "count": 79
           },
           {
            "name": "Montreal",
            "count": 78
           },
           {
            "name": "29 others",
            "count": 1747
           }
          ]
         }
        },
        {
         "name": "1st",
         "dtype": "int64",
         "stats": {
          "unique_count": 6,
          "nan_count": 0,
          "min": "0",
          "max": "5",
          "histogram": [
           {
            "bin_start": 0,
            "bin_end": 0.5,
            "count": 840
           },
           {
            "bin_start": 0.5,
            "bin_end": 1,
            "count": 0
           },
           {
            "bin_start": 1,
            "bin_end": 1.5,
            "count": 680
           },
           {
            "bin_start": 1.5,
            "bin_end": 2,
            "count": 0
           },
           {
            "bin_start": 2,
            "bin_end": 2.5,
            "count": 286
           },
           {
            "bin_start": 2.5,
            "bin_end": 3,
            "count": 0
           },
           {
            "bin_start": 3,
            "bin_end": 3.5,
            "count": 81
           },
           {
            "bin_start": 3.5,
            "bin_end": 4,
            "count": 0
           },
           {
            "bin_start": 4,
            "bin_end": 4.5,
            "count": 15
           },
           {
            "bin_start": 4.5,
            "bin_end": 5,
            "count": 2
           }
          ]
         }
        },
        {
         "name": "2nd",
         "dtype": "int64",
         "stats": {
          "unique_count": 7,
          "nan_count": 0,
          "min": "0",
          "max": "7",
          "histogram": [
           {
            "bin_start": 0,
            "bin_end": 0.7,
            "count": 703
           },
           {
            "bin_start": 0.7,
            "bin_end": 1.4,
            "count": 722
           },
           {
            "bin_start": 1.4,
            "bin_end": 2.0999999999999996,
            "count": 323
           },
           {
            "bin_start": 2.0999999999999996,
            "bin_end": 2.8,
            "count": 0
           },
           {
            "bin_start": 2.8,
            "bin_end": 3.5,
            "count": 122
           },
           {
            "bin_start": 3.5,
            "bin_end": 4.199999999999999,
            "count": 28
           },
           {
            "bin_start": 4.199999999999999,
            "bin_end": 4.8999999999999995,
            "count": 0
           },
           {
            "bin_start": 4.8999999999999995,
            "bin_end": 5.6,
            "count": 5
           },
           {
            "bin_start": 5.6,
            "bin_end": 6.3,
            "count": 0
           },
           {
            "bin_start": 6.3,
            "bin_end": 7,
            "count": 1
           }
          ]
         }
        },
        {
         "name": "3rd",
         "dtype": "int64",
         "stats": {
          "unique_count": 7,
          "nan_count": 0,
          "min": "0",
          "max": "6",
          "histogram": [
           {
            "bin_start": 0,
            "bin_end": 0.6,
            "count": 722
           },
           {
            "bin_start": 0.6,
            "bin_end": 1.2,
            "count": 654
           },
           {
            "bin_start": 1.2,
            "bin_end": 1.7999999999999998,
            "count": 0
           },
           {
            "bin_start": 1.7999999999999998,
            "bin_end": 2.4,
            "count": 382
           },
           {
            "bin_start": 2.4,
            "bin_end": 3,
            "count": 0
           },
           {
            "bin_start": 3,
            "bin_end": 3.5999999999999996,
            "count": 113
           },
           {
            "bin_start": 3.5999999999999996,
            "bin_end": 4.2,
            "count": 30
           },
           {
            "bin_start": 4.2,
            "bin_end": 4.8,
            "count": 0
           },
           {
            "bin_start": 4.8,
            "bin_end": 5.3999999999999995,
            "count": 2
           },
           {
            "bin_start": 5.3999999999999995,
            "bin_end": 6,
            "count": 1
           }
          ]
         }
        },
        {
         "name": "Final",
         "dtype": "object",
         "stats": {
          "unique_count": 11,
          "nan_count": 0,
          "categories": [
           {
            "name": "3",
            "count": 416
           },
           {
            "name": "2",
            "count": 386
           },
           {
            "name": "9 others",
            "count": 1102
           }
          ]
         }
        },
        {
         "name": "Open",
         "dtype": "object",
         "stats": {
          "unique_count": 231,
          "nan_count": 0,
          "categories": [
           {
            "name": "-110",
            "count": 105
           },
           {
            "name": "140",
            "count": 42
           },
           {
            "name": "229 others",
            "count": 1757
           }
          ]
         }
        },
        {
         "name": "Close",
         "dtype": "int64",
         "stats": {
          "unique_count": 232,
          "nan_count": 0,
          "min": "-530",
          "max": "415",
          "histogram": [
           {
            "bin_start": -530,
            "bin_end": -435.5,
            "count": 1
           },
           {
            "bin_start": -435.5,
            "bin_end": -341,
            "count": 14
           },
           {
            "bin_start": -341,
            "bin_end": -246.5,
            "count": 76
           },
           {
            "bin_start": -246.5,
            "bin_end": -152,
            "count": 360
           },
           {
            "bin_start": -152,
            "bin_end": -57.5,
            "count": 542
           },
           {
            "bin_start": -57.5,
            "bin_end": 37,
            "count": 0
           },
           {
            "bin_start": 37,
            "bin_end": 131.5,
            "count": 368
           },
           {
            "bin_start": 131.5,
            "bin_end": 226,
            "count": 468
           },
           {
            "bin_start": 226,
            "bin_end": 320.5,
            "count": 70
           },
           {
            "bin_start": 320.5,
            "bin_end": 415,
            "count": 5
           }
          ]
         }
        },
        {
         "name": "PuckLine",
         "dtype": "float64",
         "stats": {
          "unique_count": 2,
          "nan_count": 0,
          "min": "-1.5",
          "max": "1.5",
          "histogram": [
           {
            "bin_start": -1.5,
            "bin_end": -1.2,
            "count": 952
           },
           {
            "bin_start": -1.2,
            "bin_end": -0.9,
            "count": 0
           },
           {
            "bin_start": -0.9,
            "bin_end": -0.6000000000000001,
            "count": 0
           },
           {
            "bin_start": -0.6000000000000001,
            "bin_end": -0.30000000000000004,
            "count": 0
           },
           {
            "bin_start": -0.30000000000000004,
            "bin_end": 0,
            "count": 0
           },
           {
            "bin_start": 0,
            "bin_end": 0.2999999999999998,
            "count": 0
           },
           {
            "bin_start": 0.2999999999999998,
            "bin_end": 0.6000000000000001,
            "count": 0
           },
           {
            "bin_start": 0.6000000000000001,
            "bin_end": 0.8999999999999999,
            "count": 0
           },
           {
            "bin_start": 0.8999999999999999,
            "bin_end": 1.1999999999999997,
            "count": 0
           },
           {
            "bin_start": 1.1999999999999997,
            "bin_end": 1.5,
            "count": 952
           }
          ]
         }
        },
        {
         "name": "PuckLineOdds",
         "dtype": "int64",
         "stats": {
          "unique_count": 76,
          "nan_count": 0,
          "min": "-310",
          "max": "260",
          "histogram": [
           {
            "bin_start": -310,
            "bin_end": -253,
            "count": 77
           },
           {
            "bin_start": -253,
            "bin_end": -196,
            "count": 342
           },
           {
            "bin_start": -196,
            "bin_end": -139,
            "count": 387
           },
           {
            "bin_start": -139,
            "bin_end": -82,
            "count": 183
           },
           {
            "bin_start": -82,
            "bin_end": -25,
            "count": 0
           },
           {
            "bin_start": -25,
            "bin_end": 32,
            "count": 0
           },
           {
            "bin_start": 32,
            "bin_end": 89,
            "count": 0
           },
           {
            "bin_start": 89,
            "bin_end": 146,
            "count": 277
           },
           {
            "bin_start": 146,
            "bin_end": 203,
            "count": 454
           },
           {
            "bin_start": 203,
            "bin_end": 260,
            "count": 184
           }
          ]
         }
        },
        {
         "name": "OpenOU",
         "dtype": "float64",
         "stats": {
          "unique_count": 5,
          "nan_count": 0,
          "min": "2.0",
          "max": "6.5",
          "histogram": [
           {
            "bin_start": 2,
            "bin_end": 2.45,
            "count": 2
           },
           {
            "bin_start": 2.45,
            "bin_end": 2.9,
            "count": 0
           },
           {
            "bin_start": 2.9,
            "bin_end": 3.35,
            "count": 0
           },
           {
            "bin_start": 3.35,
            "bin_end": 3.8,
            "count": 0
           },
           {
            "bin_start": 3.8,
            "bin_end": 4.25,
            "count": 0
           },
           {
            "bin_start": 4.25,
            "bin_end": 4.7,
            "count": 0
           },
           {
            "bin_start": 4.7,
            "bin_end": 5.15,
            "count": 76
           },
           {
            "bin_start": 5.15,
            "bin_end": 5.6,
            "count": 1144
           },
           {
            "bin_start": 5.6,
            "bin_end": 6.05,
            "count": 498
           },
           {
            "bin_start": 6.05,
            "bin_end": 6.5,
            "count": 184
           }
          ]
         }
        },
        {
         "name": "OpenOUOdds",
         "dtype": "int64",
         "stats": {
          "unique_count": 27,
          "nan_count": 0,
          "min": "-150",
          "max": "605",
          "histogram": [
           {
            "bin_start": -150,
            "bin_end": -74.5,
            "count": 1746
           },
           {
            "bin_start": -74.5,
            "bin_end": 1,
            "count": 0
           },
           {
            "bin_start": 1,
            "bin_end": 76.5,
            "count": 0
           },
           {
            "bin_start": 76.5,
            "bin_end": 152,
            "count": 157
           },
           {
            "bin_start": 152,
            "bin_end": 227.5,
            "count": 0
           },
           {
            "bin_start": 227.5,
            "bin_end": 303,
            "count": 0
           },
           {
            "bin_start": 303,
            "bin_end": 378.5,
            "count": 0
           },
           {
            "bin_start": 378.5,
            "bin_end": 454,
            "count": 0
           },
           {
            "bin_start": 454,
            "bin_end": 529.5,
            "count": 0
           },
           {
            "bin_start": 529.5,
            "bin_end": 605,
            "count": 1
           }
          ]
         }
        },
        {
         "name": "CloseOU",
         "dtype": "float64",
         "stats": {
          "unique_count": 4,
          "nan_count": 0,
          "min": "5.0",
          "max": "6.5",
          "histogram": [
           {
            "bin_start": 5,
            "bin_end": 5.15,
            "count": 98
           },
           {
            "bin_start": 5.15,
            "bin_end": 5.3,
            "count": 0
           },
           {
            "bin_start": 5.3,
            "bin_end": 5.45,
            "count": 0
           },
           {
            "bin_start": 5.45,
            "bin_end": 5.6,
            "count": 1100
           },
           {
            "bin_start": 5.6,
            "bin_end": 5.75,
            "count": 0
           },
           {
            "bin_start": 5.75,
            "bin_end": 5.9,
            "count": 0
           },
           {
            "bin_start": 5.9,
            "bin_end": 6.05,
            "count": 492
           },
           {
            "bin_start": 6.05,
            "bin_end": 6.2,
            "count": 0
           },
           {
            "bin_start": 6.2,
            "bin_end": 6.35,
            "count": 0
           },
           {
            "bin_start": 6.35,
            "bin_end": 6.5,
            "count": 214
           }
          ]
         }
        },
        {
         "name": "CloseOUOdds",
         "dtype": "object",
         "stats": {
          "unique_count": 20,
          "nan_count": 0,
          "categories": [
           {
            "name": "-120",
            "count": 264
           },
           {
            "name": "100",
            "count": 263
           },
           {
            "name": "18 others",
            "count": 1377
           }
          ]
         }
        },
        {
         "name": "_deepnote_index_column",
         "dtype": "int64"
        }
       ],
       "rows_top": [
        {
         "Date": 113,
         "Rot": 41,
         "VH": "V",
         "Team": "Pittsburgh",
         "1st": 1,
         "2nd": 1,
         "3rd": 1,
         "Final": "3",
         "Open": "-110",
         "Close": -115,
         "PuckLine": 1.5,
         "PuckLineOdds": -310,
         "OpenOU": 6,
         "OpenOUOdds": -110,
         "CloseOU": 6,
         "CloseOUOdds": "105",
         "_deepnote_index_column": 0
        },
        {
         "Date": 113,
         "Rot": 42,
         "VH": "H",
         "Team": "Philadelphia",
         "1st": 2,
         "2nd": 1,
         "3rd": 3,
         "Final": "6",
         "Open": "100",
         "Close": -105,
         "PuckLine": -1.5,
         "PuckLineOdds": 260,
         "OpenOU": 6,
         "OpenOUOdds": -110,
         "CloseOU": 6,
         "CloseOUOdds": "-125",
         "_deepnote_index_column": 1
        },
        {
         "Date": 113,
         "Rot": 43,
         "VH": "V",
         "Team": "Montreal",
         "1st": 2,
         "2nd": 1,
         "3rd": 1,
         "Final": "0",
         "Open": "132",
         "Close": 120,
         "PuckLine": 1.5,
         "PuckLineOdds": -220,
         "OpenOU": 6,
         "OpenOUOdds": -110,
         "CloseOU": 6,
         "CloseOUOdds": "-110",
         "_deepnote_index_column": 2
        },
        {
         "Date": 113,
         "Rot": 44,
         "VH": "H",
         "Team": "Toronto",
         "1st": 1,
         "2nd": 2,
         "3rd": 1,
         "Final": "1",
         "Open": "-145",
         "Close": -140,
         "PuckLine": -1.5,
         "PuckLineOdds": 195,
         "OpenOU": 6,
         "OpenOUOdds": -110,
         "CloseOU": 6,
         "CloseOUOdds": "-110",
         "_deepnote_index_column": 3
        },
        {
         "Date": 113,
         "Rot": 45,
         "VH": "V",
         "Team": "Chicago",
         "1st": 0,
         "2nd": 0,
         "3rd": 1,
         "Final": "1",
         "Open": "230",
         "Close": 210,
         "PuckLine": 1.5,
         "PuckLineOdds": -125,
         "OpenOU": 6.5,
         "OpenOUOdds": -110,
         "CloseOU": 6.5,
         "CloseOUOdds": "-110",
         "_deepnote_index_column": 4
        },
        {
         "Date": 113,
         "Rot": 46,
         "VH": "H",
         "Team": "TampaBay",
         "1st": 3,
         "2nd": 1,
         "3rd": 1,
         "Final": "5",
         "Open": "-260",
         "Close": -250,
         "PuckLine": -1.5,
         "PuckLineOdds": 105,
         "OpenOU": 6.5,
         "OpenOUOdds": -110,
         "CloseOU": 6.5,
         "CloseOUOdds": "-110",
         "_deepnote_index_column": 5
        },
        {
         "Date": 113,
         "Rot": 47,
         "VH": "V",
         "Team": "Vancouver",
         "1st": 1,
         "2nd": 1,
         "3rd": 3,
         "Final": "5",
         "Open": "135",
         "Close": 130,
         "PuckLine": 1.5,
         "PuckLineOdds": -215,
         "OpenOU": 5.5,
         "OpenOUOdds": -110,
         "CloseOU": 6.5,
         "CloseOUOdds": "100",
         "_deepnote_index_column": 6
        },
        {
         "Date": 113,
         "Rot": 48,
         "VH": "H",
         "Team": "Edmonton",
         "1st": 0,
         "2nd": 1,
         "3rd": 2,
         "Final": "3",
         "Open": "-150",
         "Close": -150,
         "PuckLine": -1.5,
         "PuckLineOdds": 190,
         "OpenOU": 5.5,
         "OpenOUOdds": -110,
         "CloseOU": 6.5,
         "CloseOUOdds": "-120",
         "_deepnote_index_column": 7
        },
        {
         "Date": 113,
         "Rot": 49,
         "VH": "V",
         "Team": "St.Louis",
         "1st": 2,
         "2nd": 0,
         "3rd": 2,
         "Final": "4",
         "Open": "135",
         "Close": 125,
         "PuckLine": 1.5,
         "PuckLineOdds": -200,
         "OpenOU": 5.5,
         "OpenOUOdds": -110,
         "CloseOU": 6,
         "CloseOUOdds": "-110",
         "_deepnote_index_column": 8
        },
        {
         "Date": 113,
         "Rot": 50,
         "VH": "H",
         "Team": "Colorado",
         "1st": 1,
         "2nd": 0,
         "3rd": 0,
         "Final": "1",
         "Open": "-150",
         "Close": -145,
         "PuckLine": -1.5,
         "PuckLineOdds": 175,
         "OpenOU": 5.5,
         "OpenOUOdds": -110,
         "CloseOU": 6,
         "CloseOUOdds": "-110",
         "_deepnote_index_column": 9
        },
        {
         "Date": 114,
         "Rot": 51,
         "VH": "V",
         "Team": "Boston",
         "1st": 1,
         "2nd": 0,
         "3rd": 1,
         "Final": "3",
         "Open": "-138",
         "Close": -180,
         "PuckLine": -1.5,
         "PuckLineOdds": 150,
         "OpenOU": 5.5,
         "OpenOUOdds": -110,
         "CloseOU": 5.5,
         "CloseOUOdds": "-105",
         "_deepnote_index_column": 10
        },
        {
         "Date": 114,
         "Rot": 52,
         "VH": "H",
         "Team": "NewJersey",
         "1st": 0,
         "2nd": 0,
         "3rd": 2,
         "Final": "2",
         "Open": "118",
         "Close": 160,
         "PuckLine": 1.5,
         "PuckLineOdds": -170,
         "OpenOU": 5.5,
         "OpenOUOdds": -110,
         "CloseOU": 5.5,
         "CloseOUOdds": "-115",
         "_deepnote_index_column": 11
        },
        {
         "Date": 114,
         "Rot": 53,
         "VH": "V",
         "Team": "Washington",
         "1st": 2,
         "2nd": 2,
         "3rd": 2,
         "Final": "6",
         "Open": "113",
         "Close": -128,
         "PuckLine": -1.5,
         "PuckLineOdds": 185,
         "OpenOU": 6,
         "OpenOUOdds": -110,
         "CloseOU": 6,
         "CloseOUOdds": "100",
         "_deepnote_index_column": 12
        },
        {
         "Date": 114,
         "Rot": 54,
         "VH": "H",
         "Team": "Buffalo",
         "1st": 1,
         "2nd": 1,
         "3rd": 2,
         "Final": "4",
         "Open": "-133",
         "Close": 118,
         "PuckLine": 1.5,
         "PuckLineOdds": -210,
         "OpenOU": 6,
         "OpenOUOdds": -110,
         "CloseOU": 6,
         "CloseOUOdds": "-120",
         "_deepnote_index_column": 13
        },
        {
         "Date": 114,
         "Rot": 55,
         "VH": "V",
         "Team": "NYIslanders",
         "1st": 3,
         "2nd": 1,
         "3rd": 0,
         "Final": "4",
         "Open": "-110",
         "Close": -103,
         "PuckLine": -1.5,
         "PuckLineOdds": 240,
         "OpenOU": 5.5,
         "OpenOUOdds": -110,
         "CloseOU": 6,
         "CloseOUOdds": "-105",
         "_deepnote_index_column": 14
        },
        {
         "Date": 114,
         "Rot": 56,
         "VH": "H",
         "Team": "NYRangers",
         "1st": 0,
         "2nd": 0,
         "3rd": 0,
         "Final": "0",
         "Open": "-110",
         "Close": -107,
         "PuckLine": 1.5,
         "PuckLineOdds": -280,
         "OpenOU": 5.5,
         "OpenOUOdds": -110,
         "CloseOU": 6,
         "CloseOUOdds": "-115",
         "_deepnote_index_column": 15
        },
        {
         "Date": 114,
         "Rot": 59,
         "VH": "V",
         "Team": "Carolina",
         "1st": 1,
         "2nd": 0,
         "3rd": 2,
         "Final": "3",
         "Open": "-205",
         "Close": -215,
         "PuckLine": -1.5,
         "PuckLineOdds": 125,
         "OpenOU": 6,
         "OpenOUOdds": -110,
         "CloseOU": 6,
         "CloseOUOdds": "100",
         "_deepnote_index_column": 16
        },
        {
         "Date": 114,
         "Rot": 60,
         "VH": "H",
         "Team": "Detroit",
         "1st": 0,
         "2nd": 0,
         "3rd": 0,
         "Final": "0",
         "Open": "172",
         "Close": 195,
         "PuckLine": 1.5,
         "PuckLineOdds": -145,
         "OpenOU": 6,
         "OpenOUOdds": -110,
         "CloseOU": 6,
         "CloseOUOdds": "-120",
         "_deepnote_index_column": 17
        },
        {
         "Date": 114,
         "Rot": 61,
         "VH": "V",
         "Team": "Calgary",
         "1st": 3,
         "2nd": 0,
         "3rd": 0,
         "Final": "3",
         "Open": "-110",
         "Close": -119,
         "PuckLine": -1.5,
         "PuckLineOdds": 230,
         "OpenOU": 5.5,
         "OpenOUOdds": -110,
         "CloseOU": 5.5,
         "CloseOUOdds": "-120",
         "_deepnote_index_column": 18
        },
        {
         "Date": 114,
         "Rot": 62,
         "VH": "H",
         "Team": "Winnipeg",
         "1st": 1,
         "2nd": 2,
         "3rd": 0,
         "Final": "4",
         "Open": "-110",
         "Close": 109,
         "PuckLine": 1.5,
         "PuckLineOdds": -260,
         "OpenOU": 5.5,
         "OpenOUOdds": -110,
         "CloseOU": 5.5,
         "CloseOUOdds": "100",
         "_deepnote_index_column": 19
        },
        {
         "Date": 114,
         "Rot": 63,
         "VH": "V",
         "Team": "Columbus",
         "1st": 1,
         "2nd": 0,
         "3rd": 0,
         "Final": "1",
         "Open": "100",
         "Close": 103,
         "PuckLine": 1.5,
         "PuckLineOdds": -255,
         "OpenOU": 5.5,
         "OpenOUOdds": -110,
         "CloseOU": 5.5,
         "CloseOUOdds": "-105",
         "_deepnote_index_column": 20
        },
        {
         "Date": 114,
         "Rot": 64,
         "VH": "H",
         "Team": "Nashville",
         "1st": 0,
         "2nd": 1,
         "3rd": 2,
         "Final": "3",
         "Open": "-120",
         "Close": -113,
         "PuckLine": -1.5,
         "PuckLineOdds": 225,
         "OpenOU": 5.5,
         "OpenOUOdds": -110,
         "CloseOU": 5.5,
         "CloseOUOdds": "-115",
         "_deepnote_index_column": 21
        },
        {
         "Date": 114,
         "Rot": 65,
         "VH": "V",
         "Team": "SanJose",
         "1st": 2,
         "2nd": 0,
         "3rd": 1,
         "Final": "4",
         "Open": "-105",
         "Close": 120,
         "PuckLine": 1.5,
         "PuckLineOdds": -230,
         "OpenOU": 5.5,
         "OpenOUOdds": -110,
         "CloseOU": 5.5,
         "CloseOUOdds": "100",
         "_deepnote_index_column": 22
        },
        {
         "Date": 114,
         "Rot": 66,
         "VH": "H",
         "Team": "Arizona",
         "1st": 0,
         "2nd": 1,
         "3rd": 2,
         "Final": "3",
         "Open": "-115",
         "Close": -130,
         "PuckLine": -1.5,
         "PuckLineOdds": 200,
         "OpenOU": 5.5,
         "OpenOUOdds": -110,
         "CloseOU": 5.5,
         "CloseOUOdds": "-120",
         "_deepnote_index_column": 23
        },
        {
         "Date": 114,
         "Rot": 67,
         "VH": "V",
         "Team": "Vancouver",
         "1st": 0,
         "2nd": 2,
         "3rd": 0,
         "Final": "2",
         "Open": "100",
         "Close": 118,
         "PuckLine": 1.5,
         "PuckLineOdds": -231,
         "OpenOU": 6,
         "OpenOUOdds": -110,
         "CloseOU": 6,
         "CloseOUOdds": "-130",
         "_deepnote_index_column": 24
        },
        {
         "Date": 114,
         "Rot": 68,
         "VH": "H",
         "Team": "Edmonton",
         "1st": 2,
         "2nd": 2,
         "3rd": 1,
         "Final": "5",
         "Open": "-120",
         "Close": -128,
         "PuckLine": -1.5,
         "PuckLineOdds": 201,
         "OpenOU": 6,
         "OpenOUOdds": -110,
         "CloseOU": 6,
         "CloseOUOdds": "110",
         "_deepnote_index_column": 25
        },
        {
         "Date": 114,
         "Rot": 69,
         "VH": "V",
         "Team": "Minnesota",
         "1st": 1,
         "2nd": 0,
         "3rd": 2,
         "Final": "4",
         "Open": "-115",
         "Close": -135,
         "PuckLine": -1.5,
         "PuckLineOdds": 200,
         "OpenOU": 5.5,
         "OpenOUOdds": -110,
         "CloseOU": 5.5,
         "CloseOUOdds": "100",
         "_deepnote_index_column": 26
        },
        {
         "Date": 114,
         "Rot": 70,
         "VH": "H",
         "Team": "LosAngeles",
         "1st": 1,
         "2nd": 2,
         "3rd": 0,
         "Final": "3",
         "Open": "-105",
         "Close": 125,
         "PuckLine": 1.5,
         "PuckLineOdds": -225,
         "OpenOU": 5.5,
         "OpenOUOdds": -110,
         "CloseOU": 5.5,
         "CloseOUOdds": "-120",
         "_deepnote_index_column": 27
        },
        {
         "Date": 114,
         "Rot": 71,
         "VH": "V",
         "Team": "Anaheim",
         "1st": 2,
         "2nd": 0,
         "3rd": 0,
         "Final": "2",
         "Open": "180",
         "Close": 200,
         "PuckLine": 1.5,
         "PuckLineOdds": -125,
         "OpenOU": 5.5,
         "OpenOUOdds": -110,
         "CloseOU": 6,
         "CloseOUOdds": "100",
         "_deepnote_index_column": 28
        },
        {
         "Date": 114,
         "Rot": 72,
         "VH": "H",
         "Team": "Vegas",
         "1st": 2,
         "2nd": 0,
         "3rd": 3,
         "Final": "5",
         "Open": "-215",
         "Close": -220,
         "PuckLine": -1.5,
         "PuckLineOdds": 105,
         "OpenOU": 5.5,
         "OpenOUOdds": -110,
         "CloseOU": 6,
         "CloseOUOdds": "-120",
         "_deepnote_index_column": 29
        },
        {
         "Date": 115,
         "Rot": 1,
         "VH": "V",
         "Team": "Pittsburgh",
         "1st": 2,
         "2nd": 0,
         "3rd": 0,
         "Final": "2",
         "Open": "-107",
         "Close": -110,
         "PuckLine": -1.5,
         "PuckLineOdds": 235,
         "OpenOU": 6,
         "OpenOUOdds": -110,
         "CloseOU": 6,
         "CloseOUOdds": "-115",
         "_deepnote_index_column": 30
        }
       ],
       "rows_bottom": [
        {
         "Date": 615,
         "Rot": 12,
         "VH": "H",
         "Team": "TampaBay",
         "1st": 1,
         "2nd": 1,
         "3rd": 2,
         "Final": "4",
         "Open": "-190",
         "Close": -195,
         "PuckLine": -1.5,
         "PuckLineOdds": 145,
         "OpenOU": 5.5,
         "OpenOUOdds": -150,
         "CloseOU": 5,
         "CloseOUOdds": "120",
         "_deepnote_index_column": 1873
        },
        {
         "Date": 616,
         "Rot": 21,
         "VH": "V",
         "Team": "Montreal",
         "1st": 2,
         "2nd": 1,
         "3rd": 0,
         "Final": "3",
         "Open": "220",
         "Close": 220,
         "PuckLine": 1.5,
         "PuckLineOdds": -125,
         "OpenOU": 5.5,
         "OpenOUOdds": 120,
         "CloseOU": 5,
         "CloseOUOdds": "-140",
         "_deepnote_index_column": 1874
        },
        {
         "Date": 616,
         "Rot": 22,
         "VH": "H",
         "Team": "Vegas",
         "1st": 0,
         "2nd": 1,
         "3rd": 1,
         "Final": "2",
         "Open": "-270",
         "Close": -250,
         "PuckLine": -1.5,
         "PuckLineOdds": 105,
         "OpenOU": 5.5,
         "OpenOUOdds": -140,
         "CloseOU": 5,
         "CloseOUOdds": "120",
         "_deepnote_index_column": 1875
        },
        {
         "Date": 617,
         "Rot": 31,
         "VH": "V",
         "Team": "TampaBay",
         "1st": 1,
         "2nd": 1,
         "3rd": 0,
         "Final": "2",
         "Open": "-140",
         "Close": -129,
         "PuckLine": -1.5,
         "PuckLineOdds": 205,
         "OpenOU": 5.5,
         "OpenOUOdds": 125,
         "CloseOU": 5,
         "CloseOUOdds": "-135",
         "_deepnote_index_column": 1876
        },
        {
         "Date": 617,
         "Rot": 32,
         "VH": "H",
         "Team": "NYIslanders",
         "1st": 0,
         "2nd": 1,
         "3rd": 0,
         "Final": "1",
         "Open": "120",
         "Close": 119,
         "PuckLine": 1.5,
         "PuckLineOdds": -235,
         "OpenOU": 5.5,
         "OpenOUOdds": -145,
         "CloseOU": 5,
         "CloseOUOdds": "115",
         "_deepnote_index_column": 1877
        },
        {
         "Date": 618,
         "Rot": 41,
         "VH": "V",
         "Team": "Vegas",
         "1st": 0,
         "2nd": 1,
         "3rd": 1,
         "Final": "2",
         "Open": "-165",
         "Close": -170,
         "PuckLine": -1.5,
         "PuckLineOdds": 160,
         "OpenOU": 5.5,
         "OpenOUOdds": 125,
         "CloseOU": 5,
         "CloseOUOdds": "-145",
         "_deepnote_index_column": 1878
        },
        {
         "Date": 618,
         "Rot": 42,
         "VH": "H",
         "Team": "Montreal",
         "1st": 0,
         "2nd": 1,
         "3rd": 1,
         "Final": "3",
         "Open": "140",
         "Close": 155,
         "PuckLine": 1.5,
         "PuckLineOdds": -180,
         "OpenOU": 5.5,
         "OpenOUOdds": -145,
         "CloseOU": 5,
         "CloseOUOdds": "125",
         "_deepnote_index_column": 1879
        },
        {
         "Date": 619,
         "Rot": 51,
         "VH": "V",
         "Team": "TampaBay",
         "1st": 0,
         "2nd": 0,
         "3rd": 2,
         "Final": "2",
         "Open": "-135",
         "Close": -120,
         "PuckLine": -1.5,
         "PuckLineOdds": 210,
         "OpenOU": 5,
         "OpenOUOdds": -125,
         "CloseOU": 5,
         "CloseOUOdds": "-130",
         "_deepnote_index_column": 1880
        },
        {
         "Date": 619,
         "Rot": 52,
         "VH": "H",
         "Team": "NYIslanders",
         "1st": 0,
         "2nd": 3,
         "3rd": 0,
         "Final": "3",
         "Open": "115",
         "Close": 110,
         "PuckLine": 1.5,
         "PuckLineOdds": -240,
         "OpenOU": 5,
         "OpenOUOdds": 105,
         "CloseOU": 5,
         "CloseOUOdds": "110",
         "_deepnote_index_column": 1881
        },
        {
         "Date": 620,
         "Rot": 61,
         "VH": "V",
         "Team": "Vegas",
         "1st": 0,
         "2nd": 0,
         "3rd": 1,
         "Final": "2",
         "Open": "-180",
         "Close": -170,
         "PuckLine": -1.5,
         "PuckLineOdds": 160,
         "OpenOU": 5,
         "OpenOUOdds": -130,
         "CloseOU": 5.5,
         "CloseOUOdds": "120",
         "_deepnote_index_column": 1882
        },
        {
         "Date": 620,
         "Rot": 62,
         "VH": "H",
         "Team": "Montreal",
         "1st": 0,
         "2nd": 1,
         "3rd": 0,
         "Final": "1",
         "Open": "150",
         "Close": 155,
         "PuckLine": 1.5,
         "PuckLineOdds": -180,
         "OpenOU": 5,
         "OpenOUOdds": 110,
         "CloseOU": 5.5,
         "CloseOUOdds": "-140",
         "_deepnote_index_column": 1883
        },
        {
         "Date": 621,
         "Rot": 71,
         "VH": "V",
         "Team": "NYIslanders",
         "1st": 0,
         "2nd": 0,
         "3rd": 0,
         "Final": "0",
         "Open": "165",
         "Close": 165,
         "PuckLine": 1.5,
         "PuckLineOdds": -180,
         "OpenOU": 5,
         "OpenOUOdds": -135,
         "CloseOU": 5,
         "CloseOUOdds": "-135",
         "_deepnote_index_column": 1884
        },
        {
         "Date": 621,
         "Rot": 72,
         "VH": "H",
         "Team": "TampaBay",
         "1st": 3,
         "2nd": 3,
         "3rd": 2,
         "Final": "8",
         "Open": "-195",
         "Close": -185,
         "PuckLine": -1.5,
         "PuckLineOdds": 160,
         "OpenOU": 5,
         "OpenOUOdds": 115,
         "CloseOU": 5,
         "CloseOUOdds": "115",
         "_deepnote_index_column": 1885
        },
        {
         "Date": 622,
         "Rot": 81,
         "VH": "V",
         "Team": "Montreal",
         "1st": 1,
         "2nd": 2,
         "3rd": 1,
         "Final": "4",
         "Open": "205",
         "Close": 205,
         "PuckLine": 1.5,
         "PuckLineOdds": -150,
         "OpenOU": 5,
         "OpenOUOdds": -135,
         "CloseOU": 5,
         "CloseOUOdds": "-135",
         "_deepnote_index_column": 1886
        },
        {
         "Date": 622,
         "Rot": 82,
         "VH": "H",
         "Team": "Vegas",
         "1st": 0,
         "2nd": 0,
         "3rd": 1,
         "Final": "1",
         "Open": "-255",
         "Close": -230,
         "PuckLine": -1.5,
         "PuckLineOdds": 130,
         "OpenOU": 5,
         "OpenOUOdds": 115,
         "CloseOU": 5,
         "CloseOUOdds": "115",
         "_deepnote_index_column": 1887
        },
        {
         "Date": 623,
         "Rot": 11,
         "VH": "V",
         "Team": "TampaBay",
         "1st": 1,
         "2nd": 1,
         "3rd": 0,
         "Final": "2",
         "Open": "-150",
         "Close": -140,
         "PuckLine": -1.5,
         "PuckLineOdds": 185,
         "OpenOU": 5,
         "OpenOUOdds": -130,
         "CloseOU": 5,
         "CloseOUOdds": "-130",
         "_deepnote_index_column": 1888
        },
        {
         "Date": 623,
         "Rot": 12,
         "VH": "H",
         "Team": "NYIslanders",
         "1st": 0,
         "2nd": 1,
         "3rd": 1,
         "Final": "3",
         "Open": "130",
         "Close": 130,
         "PuckLine": 1.5,
         "PuckLineOdds": -210,
         "OpenOU": 5,
         "OpenOUOdds": 110,
         "CloseOU": 5,
         "CloseOUOdds": "110",
         "_deepnote_index_column": 1889
        },
        {
         "Date": 624,
         "Rot": 21,
         "VH": "V",
         "Team": "Vegas",
         "1st": 1,
         "2nd": 0,
         "3rd": 1,
         "Final": "2",
         "Open": "-140",
         "Close": -135,
         "PuckLine": -1.5,
         "PuckLineOdds": 195,
         "OpenOU": 5,
         "OpenOUOdds": -130,
         "CloseOU": 5,
         "CloseOUOdds": "-130",
         "_deepnote_index_column": 1890
        },
        {
         "Date": 624,
         "Rot": 22,
         "VH": "H",
         "Team": "Montreal",
         "1st": 1,
         "2nd": 1,
         "3rd": 0,
         "Final": "3",
         "Open": "120",
         "Close": 125,
         "PuckLine": 1.5,
         "PuckLineOdds": -220,
         "OpenOU": 5,
         "OpenOUOdds": 110,
         "CloseOU": 5,
         "CloseOUOdds": "110",
         "_deepnote_index_column": 1891
        },
        {
         "Date": 625,
         "Rot": 31,
         "VH": "V",
         "Team": "NYIslanders",
         "1st": 0,
         "2nd": 0,
         "3rd": 0,
         "Final": "0",
         "Open": "150",
         "Close": 165,
         "PuckLine": 1.5,
         "PuckLineOdds": -170,
         "OpenOU": 5,
         "OpenOUOdds": -130,
         "CloseOU": 5,
         "CloseOUOdds": "-105",
         "_deepnote_index_column": 1892
        },
        {
         "Date": 625,
         "Rot": 32,
         "VH": "H",
         "Team": "TampaBay",
         "1st": 0,
         "2nd": 1,
         "3rd": 0,
         "Final": "1",
         "Open": "-180",
         "Close": -185,
         "PuckLine": -1.5,
         "PuckLineOdds": 150,
         "OpenOU": 5,
         "OpenOUOdds": 110,
         "CloseOU": 5,
         "CloseOUOdds": "-115",
         "_deepnote_index_column": 1893
        },
        {
         "Date": 628,
         "Rot": 61,
         "VH": "V",
         "Team": "Montreal",
         "1st": 0,
         "2nd": 1,
         "3rd": 0,
         "Final": "1",
         "Open": "185",
         "Close": 180,
         "PuckLine": 1.5,
         "PuckLineOdds": -165,
         "OpenOU": 5,
         "OpenOUOdds": -120,
         "CloseOU": 5,
         "CloseOUOdds": "-125",
         "_deepnote_index_column": 1894
        },
        {
         "Date": 628,
         "Rot": 62,
         "VH": "H",
         "Team": "TampaBay",
         "1st": 1,
         "2nd": 1,
         "3rd": 3,
         "Final": "5",
         "Open": "-225",
         "Close": -200,
         "PuckLine": -1.5,
         "PuckLineOdds": 145,
         "OpenOU": 5,
         "OpenOUOdds": 100,
         "CloseOU": 5,
         "CloseOUOdds": "105",
         "_deepnote_index_column": 1895
        },
        {
         "Date": 630,
         "Rot": 81,
         "VH": "V",
         "Team": "Montreal",
         "1st": 0,
         "2nd": 1,
         "3rd": 0,
         "Final": "1",
         "Open": "180",
         "Close": 177,
         "PuckLine": 1.5,
         "PuckLineOdds": -145,
         "OpenOU": 5,
         "OpenOUOdds": -120,
         "CloseOU": 5,
         "CloseOUOdds": "-120",
         "_deepnote_index_column": 1896
        },
        {
         "Date": 630,
         "Rot": 82,
         "VH": "H",
         "Team": "TampaBay",
         "1st": 0,
         "2nd": 2,
         "3rd": 1,
         "Final": "3",
         "Open": "-220",
         "Close": -197,
         "PuckLine": -1.5,
         "PuckLineOdds": 125,
         "OpenOU": 5,
         "OpenOUOdds": 100,
         "CloseOU": 5,
         "CloseOUOdds": "100",
         "_deepnote_index_column": 1897
        },
        {
         "Date": 702,
         "Rot": 11,
         "VH": "V",
         "Team": "TampaBay",
         "1st": 2,
         "2nd": 2,
         "3rd": 2,
         "Final": "6",
         "Open": "-145",
         "Close": -123,
         "PuckLine": -1.5,
         "PuckLineOdds": 205,
         "OpenOU": 5,
         "OpenOUOdds": -120,
         "CloseOU": 5,
         "CloseOUOdds": "-120",
         "_deepnote_index_column": 1898
        },
        {
         "Date": 702,
         "Rot": 12,
         "VH": "H",
         "Team": "Montreal",
         "1st": 1,
         "2nd": 1,
         "3rd": 1,
         "Final": "3",
         "Open": "125",
         "Close": 113,
         "PuckLine": 1.5,
         "PuckLineOdds": -235,
         "OpenOU": 5,
         "OpenOUOdds": 100,
         "CloseOU": 5,
         "CloseOUOdds": "100",
         "_deepnote_index_column": 1899
        },
        {
         "Date": 705,
         "Rot": 21,
         "VH": "V",
         "Team": "TampaBay",
         "1st": 0,
         "2nd": 1,
         "3rd": 1,
         "Final": "2",
         "Open": "-145",
         "Close": -150,
         "PuckLine": -1.5,
         "PuckLineOdds": 175,
         "OpenOU": 5,
         "OpenOUOdds": -135,
         "CloseOU": 5,
         "CloseOUOdds": "-140",
         "_deepnote_index_column": 1900
        },
        {
         "Date": 705,
         "Rot": 22,
         "VH": "H",
         "Team": "Montreal",
         "1st": 1,
         "2nd": 0,
         "3rd": 1,
         "Final": "3",
         "Open": "125",
         "Close": 135,
         "PuckLine": 1.5,
         "PuckLineOdds": -200,
         "OpenOU": 5,
         "OpenOUOdds": 115,
         "CloseOU": 5,
         "CloseOUOdds": "120",
         "_deepnote_index_column": 1901
        },
        {
         "Date": 707,
         "Rot": 31,
         "VH": "V",
         "Team": "Montreal",
         "1st": 0,
         "2nd": 0,
         "3rd": 0,
         "Final": "0",
         "Open": "180",
         "Close": 215,
         "PuckLine": 1.5,
         "PuckLineOdds": -130,
         "OpenOU": 5,
         "OpenOUOdds": -120,
         "CloseOU": 5,
         "CloseOUOdds": "-140",
         "_deepnote_index_column": 1902
        },
        {
         "Date": 707,
         "Rot": 32,
         "VH": "H",
         "Team": "TampaBay",
         "1st": 0,
         "2nd": 1,
         "3rd": 0,
         "Final": "1",
         "Open": "-220",
         "Close": -245,
         "PuckLine": -1.5,
         "PuckLineOdds": 110,
         "OpenOU": 5,
         "OpenOUOdds": 100,
         "CloseOU": 5,
         "CloseOUOdds": "120",
         "_deepnote_index_column": 1903
        }
       ]
      },
      "text/plain": "      Date  Rot VH          Team  1st  2nd  3rd Final  Open  Close  PuckLine  \\\n0      113   41  V    Pittsburgh    1    1    1     3  -110   -115       1.5   \n1      113   42  H  Philadelphia    2    1    3     6   100   -105      -1.5   \n2      113   43  V      Montreal    2    1    1     0   132    120       1.5   \n3      113   44  H       Toronto    1    2    1     1  -145   -140      -1.5   \n4      113   45  V       Chicago    0    0    1     1   230    210       1.5   \n...    ...  ... ..           ...  ...  ...  ...   ...   ...    ...       ...   \n1899   702   12  H      Montreal    1    1    1     3   125    113       1.5   \n1900   705   21  V      TampaBay    0    1    1     2  -145   -150      -1.5   \n1901   705   22  H      Montreal    1    0    1     3   125    135       1.5   \n1902   707   31  V      Montreal    0    0    0     0   180    215       1.5   \n1903   707   32  H      TampaBay    0    1    0     1  -220   -245      -1.5   \n\n      PuckLineOdds  OpenOU  OpenOUOdds  CloseOU CloseOUOdds  \n0             -310     6.0        -110      6.0         105  \n1              260     6.0        -110      6.0        -125  \n2             -220     6.0        -110      6.0        -110  \n3              195     6.0        -110      6.0        -110  \n4             -125     6.5        -110      6.5        -110  \n...            ...     ...         ...      ...         ...  \n1899          -235     5.0         100      5.0         100  \n1900           175     5.0        -135      5.0        -140  \n1901          -200     5.0         115      5.0         120  \n1902          -130     5.0        -120      5.0        -140  \n1903           110     5.0         100      5.0         120  \n\n[1904 rows x 16 columns]",
      "text/html": "<div>\n<style scoped>\n    .dataframe tbody tr th:only-of-type {\n        vertical-align: middle;\n    }\n\n    .dataframe tbody tr th {\n        vertical-align: top;\n    }\n\n    .dataframe thead th {\n        text-align: right;\n    }\n</style>\n<table border=\"1\" class=\"dataframe\">\n  <thead>\n    <tr style=\"text-align: right;\">\n      <th></th>\n      <th>Date</th>\n      <th>Rot</th>\n      <th>VH</th>\n      <th>Team</th>\n      <th>1st</th>\n      <th>2nd</th>\n      <th>3rd</th>\n      <th>Final</th>\n      <th>Open</th>\n      <th>Close</th>\n      <th>PuckLine</th>\n      <th>PuckLineOdds</th>\n      <th>OpenOU</th>\n      <th>OpenOUOdds</th>\n      <th>CloseOU</th>\n      <th>CloseOUOdds</th>\n    </tr>\n  </thead>\n  <tbody>\n    <tr>\n      <th>0</th>\n      <td>113</td>\n      <td>41</td>\n      <td>V</td>\n      <td>Pittsburgh</td>\n      <td>1</td>\n      <td>1</td>\n      <td>1</td>\n      <td>3</td>\n      <td>-110</td>\n      <td>-115</td>\n      <td>1.5</td>\n      <td>-310</td>\n      <td>6.0</td>\n      <td>-110</td>\n      <td>6.0</td>\n      <td>105</td>\n    </tr>\n    <tr>\n      <th>1</th>\n      <td>113</td>\n      <td>42</td>\n      <td>H</td>\n      <td>Philadelphia</td>\n      <td>2</td>\n      <td>1</td>\n      <td>3</td>\n      <td>6</td>\n      <td>100</td>\n      <td>-105</td>\n      <td>-1.5</td>\n      <td>260</td>\n      <td>6.0</td>\n      <td>-110</td>\n      <td>6.0</td>\n      <td>-125</td>\n    </tr>\n    <tr>\n      <th>2</th>\n      <td>113</td>\n      <td>43</td>\n      <td>V</td>\n      <td>Montreal</td>\n      <td>2</td>\n      <td>1</td>\n      <td>1</td>\n      <td>0</td>\n      <td>132</td>\n      <td>120</td>\n      <td>1.5</td>\n      <td>-220</td>\n      <td>6.0</td>\n      <td>-110</td>\n      <td>6.0</td>\n      <td>-110</td>\n    </tr>\n    <tr>\n      <th>3</th>\n      <td>113</td>\n      <td>44</td>\n      <td>H</td>\n      <td>Toronto</td>\n      <td>1</td>\n      <td>2</td>\n      <td>1</td>\n      <td>1</td>\n      <td>-145</td>\n      <td>-140</td>\n      <td>-1.5</td>\n      <td>195</td>\n      <td>6.0</td>\n      <td>-110</td>\n      <td>6.0</td>\n      <td>-110</td>\n    </tr>\n    <tr>\n      <th>4</th>\n      <td>113</td>\n      <td>45</td>\n      <td>V</td>\n      <td>Chicago</td>\n      <td>0</td>\n      <td>0</td>\n      <td>1</td>\n      <td>1</td>\n      <td>230</td>\n      <td>210</td>\n      <td>1.5</td>\n      <td>-125</td>\n      <td>6.5</td>\n      <td>-110</td>\n      <td>6.5</td>\n      <td>-110</td>\n    </tr>\n    <tr>\n      <th>...</th>\n      <td>...</td>\n      <td>...</td>\n      <td>...</td>\n      <td>...</td>\n      <td>...</td>\n      <td>...</td>\n      <td>...</td>\n      <td>...</td>\n      <td>...</td>\n      <td>...</td>\n      <td>...</td>\n      <td>...</td>\n      <td>...</td>\n      <td>...</td>\n      <td>...</td>\n      <td>...</td>\n    </tr>\n    <tr>\n      <th>1899</th>\n      <td>702</td>\n      <td>12</td>\n      <td>H</td>\n      <td>Montreal</td>\n      <td>1</td>\n      <td>1</td>\n      <td>1</td>\n      <td>3</td>\n      <td>125</td>\n      <td>113</td>\n      <td>1.5</td>\n      <td>-235</td>\n      <td>5.0</td>\n      <td>100</td>\n      <td>5.0</td>\n      <td>100</td>\n    </tr>\n    <tr>\n      <th>1900</th>\n      <td>705</td>\n      <td>21</td>\n      <td>V</td>\n      <td>TampaBay</td>\n      <td>0</td>\n      <td>1</td>\n      <td>1</td>\n      <td>2</td>\n      <td>-145</td>\n      <td>-150</td>\n      <td>-1.5</td>\n      <td>175</td>\n      <td>5.0</td>\n      <td>-135</td>\n      <td>5.0</td>\n      <td>-140</td>\n    </tr>\n    <tr>\n      <th>1901</th>\n      <td>705</td>\n      <td>22</td>\n      <td>H</td>\n      <td>Montreal</td>\n      <td>1</td>\n      <td>0</td>\n      <td>1</td>\n      <td>3</td>\n      <td>125</td>\n      <td>135</td>\n      <td>1.5</td>\n      <td>-200</td>\n      <td>5.0</td>\n      <td>115</td>\n      <td>5.0</td>\n      <td>120</td>\n    </tr>\n    <tr>\n      <th>1902</th>\n      <td>707</td>\n      <td>31</td>\n      <td>V</td>\n      <td>Montreal</td>\n      <td>0</td>\n      <td>0</td>\n      <td>0</td>\n      <td>0</td>\n      <td>180</td>\n      <td>215</td>\n      <td>1.5</td>\n      <td>-130</td>\n      <td>5.0</td>\n      <td>-120</td>\n      <td>5.0</td>\n      <td>-140</td>\n    </tr>\n    <tr>\n      <th>1903</th>\n      <td>707</td>\n      <td>32</td>\n      <td>H</td>\n      <td>TampaBay</td>\n      <td>0</td>\n      <td>1</td>\n      <td>0</td>\n      <td>1</td>\n      <td>-220</td>\n      <td>-245</td>\n      <td>-1.5</td>\n      <td>110</td>\n      <td>5.0</td>\n      <td>100</td>\n      <td>5.0</td>\n      <td>120</td>\n    </tr>\n  </tbody>\n</table>\n<p>1904 rows × 16 columns</p>\n</div>"
     },
     "metadata": {}
    }
   ],
   "execution_count": null
  },
  {
   "cell_type": "code",
   "metadata": {
    "tags": [],
    "cell_id": "00006-aff95503-78c1-4e9c-b88b-8e3b61fc0733",
    "deepnote_to_be_reexecuted": false,
    "source_hash": "445d564d",
    "execution_start": 1633407128109,
    "execution_millis": 128,
    "deepnote_cell_type": "code"
   },
   "source": "# Now I need to build a new dataframe with the games combined. Each game is on a separate row. Over, then under odds\n# The data only has a few years of Puckline, so I can't go too far back historically. I will therefore drop it and not use it.\ncombined_rows_2021 = fixed_data_2021\ncombined_rows_2021['HomeTeam'] = combined_rows_2021.Team.shift(-1)\ncombined_rows_2021['Home1st'] = combined_rows_2021['1st'].shift(-1)\ncombined_rows_2021['Home2nd'] = combined_rows_2021['2nd'].shift(-1)\ncombined_rows_2021['Home3rd'] = combined_rows_2021['3rd'].shift(-1)\ncombined_rows_2021['HomeFinal'] = combined_rows_2021.Final.shift(-1)\ncombined_rows_2021['MlHomeOpen'] = combined_rows_2021.Open.shift(-1)\ncombined_rows_2021['MlHomeClose'] = combined_rows_2021.Close.shift(-1)\n\n# For over-under, the first row (visitors) is over, then the second row (home) is under\n# Because the over will always equal the under, I only need to pull the opening and closing odds\ncombined_rows_2021['OpenUOdds'] = combined_rows_2021.OpenOUOdds.shift(-1)\ncombined_rows_2021['CloseUOdds'] = combined_rows_2021.CloseOUOdds.shift(-1)\n\n# Now we've pulled the needed data into a single row, so we can drop the extra (now in-correct) Home row\ncombined_rows_2021.drop(combined_rows_2021[combined_rows_2021['VH'] == 'H'].index, inplace = True)\n\n# Clean up and rename columns\ncombined_rows_2021.drop(columns=['Rot','VH', 'PuckLine', 'PuckLineOdds'], inplace=True)\ncombined_rows_2021.rename(columns={'Team': 'AwayTeam', '1st': 'Away1st', '2nd': 'Away2nd', '3rd': 'Away3rd', 'Final': 'AwayFinal', \\\n  'Open': 'MlAwayOpen', 'Close': 'MlAwayClose', 'OpenOUOdds': 'OpenOOdds', 'CloseOUOdds': 'CloseOOdds'}, inplace=True)\ncombined_rows_2021['Year'] = '2021'\n\n\ncombined_rows_2021",
   "outputs": [
    {
     "output_type": "execute_result",
     "execution_count": 6,
     "data": {
      "application/vnd.deepnote.dataframe.v2+json": {
       "row_count": 952,
       "column_count": 22,
       "columns": [
        {
         "name": "Date",
         "dtype": "int64",
         "stats": {
          "unique_count": 167,
          "nan_count": 0,
          "min": "113",
          "max": "707",
          "histogram": [
           {
            "bin_start": 113,
            "bin_end": 172.4,
            "count": 134
           },
           {
            "bin_start": 172.4,
            "bin_end": 231.8,
            "count": 180
           },
           {
            "bin_start": 231.8,
            "bin_end": 291.2,
            "count": 0
           },
           {
            "bin_start": 291.2,
            "bin_end": 350.6,
            "count": 234
           },
           {
            "bin_start": 350.6,
            "bin_end": 410,
            "count": 70
           },
           {
            "bin_start": 410,
            "bin_end": 469.4,
            "count": 153
           },
           {
            "bin_start": 469.4,
            "bin_end": 528.8,
            "count": 140
           },
           {
            "bin_start": 528.8,
            "bin_end": 588.2,
            "count": 6
           },
           {
            "bin_start": 588.2,
            "bin_end": 647.6,
            "count": 32
           },
           {
            "bin_start": 647.6,
            "bin_end": 707,
            "count": 3
           }
          ]
         }
        },
        {
         "name": "AwayTeam",
         "dtype": "object",
         "stats": {
          "unique_count": 31,
          "nan_count": 0,
          "categories": [
           {
            "name": "Montreal",
            "count": 40
           },
           {
            "name": "TampaBay",
            "count": 39
           },
           {
            "name": "29 others",
            "count": 873
           }
          ]
         }
        },
        {
         "name": "Away1st",
         "dtype": "int64",
         "stats": {
          "unique_count": 5,
          "nan_count": 0,
          "min": "0",
          "max": "4",
          "histogram": [
           {
            "bin_start": 0,
            "bin_end": 0.4,
            "count": 424
           },
           {
            "bin_start": 0.4,
            "bin_end": 0.8,
            "count": 0
           },
           {
            "bin_start": 0.8,
            "bin_end": 1.2000000000000002,
            "count": 355
           },
           {
            "bin_start": 1.2000000000000002,
            "bin_end": 1.6,
            "count": 0
           },
           {
            "bin_start": 1.6,
            "bin_end": 2,
            "count": 0
           },
           {
            "bin_start": 2,
            "bin_end": 2.4000000000000004,
            "count": 132
           },
           {
            "bin_start": 2.4000000000000004,
            "bin_end": 2.8000000000000003,
            "count": 0
           },
           {
            "bin_start": 2.8000000000000003,
            "bin_end": 3.2,
            "count": 37
           },
           {
            "bin_start": 3.2,
            "bin_end": 3.6,
            "count": 0
           },
           {
            "bin_start": 3.6,
            "bin_end": 4,
            "count": 4
           }
          ]
         }
        },
        {
         "name": "Away2nd",
         "dtype": "int64",
         "stats": {
          "unique_count": 5,
          "nan_count": 0,
          "min": "0",
          "max": "4",
          "histogram": [
           {
            "bin_start": 0,
            "bin_end": 0.4,
            "count": 346
           },
           {
            "bin_start": 0.4,
            "bin_end": 0.8,
            "count": 0
           },
           {
            "bin_start": 0.8,
            "bin_end": 1.2000000000000002,
            "count": 387
           },
           {
            "bin_start": 1.2000000000000002,
            "bin_end": 1.6,
            "count": 0
           },
           {
            "bin_start": 1.6,
            "bin_end": 2,
            "count": 0
           },
           {
            "bin_start": 2,
            "bin_end": 2.4000000000000004,
            "count": 149
           },
           {
            "bin_start": 2.4000000000000004,
            "bin_end": 2.8000000000000003,
            "count": 0
           },
           {
            "bin_start": 2.8000000000000003,
            "bin_end": 3.2,
            "count": 57
           },
           {
            "bin_start": 3.2,
            "bin_end": 3.6,
            "count": 0
           },
           {
            "bin_start": 3.6,
            "bin_end": 4,
            "count": 13
           }
          ]
         }
        },
        {
         "name": "Away3rd",
         "dtype": "int64",
         "stats": {
          "unique_count": 6,
          "nan_count": 0,
          "min": "0",
          "max": "6",
          "histogram": [
           {
            "bin_start": 0,
            "bin_end": 0.6,
            "count": 388
           },
           {
            "bin_start": 0.6,
            "bin_end": 1.2,
            "count": 330
           },
           {
            "bin_start": 1.2,
            "bin_end": 1.7999999999999998,
            "count": 0
           },
           {
            "bin_start": 1.7999999999999998,
            "bin_end": 2.4,
            "count": 179
           },
           {
            "bin_start": 2.4,
            "bin_end": 3,
            "count": 0
           },
           {
            "bin_start": 3,
            "bin_end": 3.5999999999999996,
            "count": 42
           },
           {
            "bin_start": 3.5999999999999996,
            "bin_end": 4.2,
            "count": 12
           },
           {
            "bin_start": 4.2,
            "bin_end": 4.8,
            "count": 0
           },
           {
            "bin_start": 4.8,
            "bin_end": 5.3999999999999995,
            "count": 0
           },
           {
            "bin_start": 5.3999999999999995,
            "bin_end": 6,
            "count": 1
           }
          ]
         }
        },
        {
         "name": "AwayFinal",
         "dtype": "object",
         "stats": {
          "unique_count": 9,
          "nan_count": 0,
          "categories": [
           {
            "name": "2",
            "count": 222
           },
           {
            "name": "3",
            "count": 206
           },
           {
            "name": "7 others",
            "count": 524
           }
          ]
         }
        },
        {
         "name": "MlAwayOpen",
         "dtype": "object",
         "stats": {
          "unique_count": 190,
          "nan_count": 0,
          "categories": [
           {
            "name": "-110",
            "count": 53
           },
           {
            "name": "140",
            "count": 26
           },
           {
            "name": "188 others",
            "count": 873
           }
          ]
         }
        },
        {
         "name": "MlAwayClose",
         "dtype": "int64",
         "stats": {
          "unique_count": 193,
          "nan_count": 0,
          "min": "-390",
          "max": "415",
          "histogram": [
           {
            "bin_start": -390,
            "bin_end": -309.5,
            "count": 7
           },
           {
            "bin_start": -309.5,
            "bin_end": -229,
            "count": 31
           },
           {
            "bin_start": -229,
            "bin_end": -148.5,
            "count": 152
           },
           {
            "bin_start": -148.5,
            "bin_end": -68,
            "count": 248
           },
           {
            "bin_start": -68,
            "bin_end": 12.5,
            "count": 0
           },
           {
            "bin_start": 12.5,
            "bin_end": 93,
            "count": 0
           },
           {
            "bin_start": 93,
            "bin_end": 173.5,
            "count": 365
           },
           {
            "bin_start": 173.5,
            "bin_end": 254,
            "count": 114
           },
           {
            "bin_start": 254,
            "bin_end": 334.5,
            "count": 33
           },
           {
            "bin_start": 334.5,
            "bin_end": 415,
            "count": 2
           }
          ]
         }
        },
        {
         "name": "OpenOU",
         "dtype": "float64",
         "stats": {
          "unique_count": 5,
          "nan_count": 0,
          "min": "2.0",
          "max": "6.5",
          "histogram": [
           {
            "bin_start": 2,
            "bin_end": 2.45,
            "count": 1
           },
           {
            "bin_start": 2.45,
            "bin_end": 2.9,
            "count": 0
           },
           {
            "bin_start": 2.9,
            "bin_end": 3.35,
            "count": 0
           },
           {
            "bin_start": 3.35,
            "bin_end": 3.8,
            "count": 0
           },
           {
            "bin_start": 3.8,
            "bin_end": 4.25,
            "count": 0
           },
           {
            "bin_start": 4.25,
            "bin_end": 4.7,
            "count": 0
           },
           {
            "bin_start": 4.7,
            "bin_end": 5.15,
            "count": 38
           },
           {
            "bin_start": 5.15,
            "bin_end": 5.6,
            "count": 572
           },
           {
            "bin_start": 5.6,
            "bin_end": 6.05,
            "count": 249
           },
           {
            "bin_start": 6.05,
            "bin_end": 6.5,
            "count": 92
           }
          ]
         }
        },
        {
         "name": "OpenOOdds",
         "dtype": "int64",
         "stats": {
          "unique_count": 21,
          "nan_count": 0,
          "min": "-140",
          "max": "605",
          "histogram": [
           {
            "bin_start": -140,
            "bin_end": -65.5,
            "count": 862
           },
           {
            "bin_start": -65.5,
            "bin_end": 9,
            "count": 0
           },
           {
            "bin_start": 9,
            "bin_end": 83.5,
            "count": 0
           },
           {
            "bin_start": 83.5,
            "bin_end": 158,
            "count": 89
           },
           {
            "bin_start": 158,
            "bin_end": 232.5,
            "count": 0
           },
           {
            "bin_start": 232.5,
            "bin_end": 307,
            "count": 0
           },
           {
            "bin_start": 307,
            "bin_end": 381.5,
            "count": 0
           },
           {
            "bin_start": 381.5,
            "bin_end": 456,
            "count": 0
           },
           {
            "bin_start": 456,
            "bin_end": 530.5,
            "count": 0
           },
           {
            "bin_start": 530.5,
            "bin_end": 605,
            "count": 1
           }
          ]
         }
        },
        {
         "name": "CloseOU",
         "dtype": "float64",
         "stats": {
          "unique_count": 4,
          "nan_count": 0,
          "min": "5.0",
          "max": "6.5",
          "histogram": [
           {
            "bin_start": 5,
            "bin_end": 5.15,
            "count": 49
           },
           {
            "bin_start": 5.15,
            "bin_end": 5.3,
            "count": 0
           },
           {
            "bin_start": 5.3,
            "bin_end": 5.45,
            "count": 0
           },
           {
            "bin_start": 5.45,
            "bin_end": 5.6,
            "count": 550
           },
           {
            "bin_start": 5.6,
            "bin_end": 5.75,
            "count": 0
           },
           {
            "bin_start": 5.75,
            "bin_end": 5.9,
            "count": 0
           },
           {
            "bin_start": 5.9,
            "bin_end": 6.05,
            "count": 246
           },
           {
            "bin_start": 6.05,
            "bin_end": 6.2,
            "count": 0
           },
           {
            "bin_start": 6.2,
            "bin_end": 6.35,
            "count": 0
           },
           {
            "bin_start": 6.35,
            "bin_end": 6.5,
            "count": 107
           }
          ]
         }
        },
        {
         "name": "CloseOOdds",
         "dtype": "object",
         "stats": {
          "unique_count": 18,
          "nan_count": 0,
          "categories": [
           {
            "name": "100",
            "count": 138
           },
           {
            "name": "-115",
            "count": 130
           },
           {
            "name": "16 others",
            "count": 684
           }
          ]
         }
        },
        {
         "name": "HomeTeam",
         "dtype": "object",
         "stats": {
          "unique_count": 31,
          "nan_count": 0,
          "categories": [
           {
            "name": "TampaBay",
            "count": 40
           },
           {
            "name": "Vegas",
            "count": 38
           },
           {
            "name": "29 others",
            "count": 874
           }
          ]
         }
        },
        {
         "name": "Home1st",
         "dtype": "float64",
         "stats": {
          "unique_count": 6,
          "nan_count": 0,
          "min": "0.0",
          "max": "5.0",
          "histogram": [
           {
            "bin_start": 0,
            "bin_end": 0.5,
            "count": 416
           },
           {
            "bin_start": 0.5,
            "bin_end": 1,
            "count": 0
           },
           {
            "bin_start": 1,
            "bin_end": 1.5,
            "count": 325
           },
           {
            "bin_start": 1.5,
            "bin_end": 2,
            "count": 0
           },
           {
            "bin_start": 2,
            "bin_end": 2.5,
            "count": 154
           },
           {
            "bin_start": 2.5,
            "bin_end": 3,
            "count": 0
           },
           {
            "bin_start": 3,
            "bin_end": 3.5,
            "count": 44
           },
           {
            "bin_start": 3.5,
            "bin_end": 4,
            "count": 0
           },
           {
            "bin_start": 4,
            "bin_end": 4.5,
            "count": 11
           },
           {
            "bin_start": 4.5,
            "bin_end": 5,
            "count": 2
           }
          ]
         }
        },
        {
         "name": "Home2nd",
         "dtype": "float64",
         "stats": {
          "unique_count": 7,
          "nan_count": 0,
          "min": "0.0",
          "max": "7.0",
          "histogram": [
           {
            "bin_start": 0,
            "bin_end": 0.7,
            "count": 357
           },
           {
            "bin_start": 0.7,
            "bin_end": 1.4,
            "count": 335
           },
           {
            "bin_start": 1.4,
            "bin_end": 2.0999999999999996,
            "count": 174
           },
           {
            "bin_start": 2.0999999999999996,
            "bin_end": 2.8,
            "count": 0
           },
           {
            "bin_start": 2.8,
            "bin_end": 3.5,
            "count": 65
           },
           {
            "bin_start": 3.5,
            "bin_end": 4.199999999999999,
            "count": 15
           },
           {
            "bin_start": 4.199999999999999,
            "bin_end": 4.8999999999999995,
            "count": 0
           },
           {
            "bin_start": 4.8999999999999995,
            "bin_end": 5.6,
            "count": 5
           },
           {
            "bin_start": 5.6,
            "bin_end": 6.3,
            "count": 0
           },
           {
            "bin_start": 6.3,
            "bin_end": 7,
            "count": 1
           }
          ]
         }
        },
        {
         "name": "Home3rd",
         "dtype": "float64",
         "stats": {
          "unique_count": 6,
          "nan_count": 0,
          "min": "0.0",
          "max": "5.0",
          "histogram": [
           {
            "bin_start": 0,
            "bin_end": 0.5,
            "count": 334
           },
           {
            "bin_start": 0.5,
            "bin_end": 1,
            "count": 0
           },
           {
            "bin_start": 1,
            "bin_end": 1.5,
            "count": 324
           },
           {
            "bin_start": 1.5,
            "bin_end": 2,
            "count": 0
           },
           {
            "bin_start": 2,
            "bin_end": 2.5,
            "count": 203
           },
           {
            "bin_start": 2.5,
            "bin_end": 3,
            "count": 0
           },
           {
            "bin_start": 3,
            "bin_end": 3.5,
            "count": 71
           },
           {
            "bin_start": 3.5,
            "bin_end": 4,
            "count": 0
           },
           {
            "bin_start": 4,
            "bin_end": 4.5,
            "count": 18
           },
           {
            "bin_start": 4.5,
            "bin_end": 5,
            "count": 2
           }
          ]
         }
        },
        {
         "name": "HomeFinal",
         "dtype": "object",
         "stats": {
          "unique_count": 11,
          "nan_count": 0,
          "categories": [
           {
            "name": "3",
            "count": 210
           },
           {
            "name": "4",
            "count": 172
           },
           {
            "name": "9 others",
            "count": 570
           }
          ]
         }
        },
        {
         "name": "MlHomeOpen",
         "dtype": "object",
         "stats": {
          "unique_count": 179,
          "nan_count": 0,
          "categories": [
           {
            "name": "-110",
            "count": 52
           },
           {
            "name": "110",
            "count": 25
           },
           {
            "name": "177 others",
            "count": 875
           }
          ]
         }
        },
        {
         "name": "MlHomeClose",
         "dtype": "float64",
         "stats": {
          "unique_count": 196,
          "nan_count": 0,
          "min": "-530.0",
          "max": "325.0",
          "histogram": [
           {
            "bin_start": -530,
            "bin_end": -444.5,
            "count": 1
           },
           {
            "bin_start": -444.5,
            "bin_end": -359,
            "count": 6
           },
           {
            "bin_start": -359,
            "bin_end": -273.5,
            "count": 40
           },
           {
            "bin_start": -273.5,
            "bin_end": -188,
            "count": 111
           },
           {
            "bin_start": -188,
            "bin_end": -102.5,
            "count": 389
           },
           {
            "bin_start": -102.5,
            "bin_end": -17,
            "count": 8
           },
           {
            "bin_start": -17,
            "bin_end": 68.5,
            "count": 0
           },
           {
            "bin_start": 68.5,
            "bin_end": 154,
            "count": 277
           },
           {
            "bin_start": 154,
            "bin_end": 239.5,
            "count": 105
           },
           {
            "bin_start": 239.5,
            "bin_end": 325,
            "count": 15
           }
          ]
         }
        },
        {
         "name": "OpenUOdds",
         "dtype": "float64",
         "stats": {
          "unique_count": 19,
          "nan_count": 0,
          "min": "-150.0",
          "max": "120.0",
          "histogram": [
           {
            "bin_start": -150,
            "bin_end": -123,
            "count": 62
           },
           {
            "bin_start": -123,
            "bin_end": -96,
            "count": 822
           },
           {
            "bin_start": -96,
            "bin_end": -69,
            "count": 0
           },
           {
            "bin_start": -69,
            "bin_end": -42,
            "count": 0
           },
           {
            "bin_start": -42,
            "bin_end": -15,
            "count": 0
           },
           {
            "bin_start": -15,
            "bin_end": 12,
            "count": 0
           },
           {
            "bin_start": 12,
            "bin_end": 39,
            "count": 0
           },
           {
            "bin_start": 39,
            "bin_end": 66,
            "count": 0
           },
           {
            "bin_start": 66,
            "bin_end": 93,
            "count": 0
           },
           {
            "bin_start": 93,
            "bin_end": 120,
            "count": 68
           }
          ]
         }
        },
        {
         "name": "CloseUOdds",
         "dtype": "object",
         "stats": {
          "unique_count": 17,
          "nan_count": 0,
          "categories": [
           {
            "name": "-120",
            "count": 139
           },
           {
            "name": "-105",
            "count": 130
           },
           {
            "name": "15 others",
            "count": 683
           }
          ]
         }
        },
        {
         "name": "Year",
         "dtype": "object",
         "stats": {
          "unique_count": 1,
          "nan_count": 0,
          "categories": [
           {
            "name": "2021",
            "count": 952
           }
          ]
         }
        },
        {
         "name": "_deepnote_index_column",
         "dtype": "int64"
        }
       ],
       "rows_top": [
        {
         "Date": 113,
         "AwayTeam": "Pittsburgh",
         "Away1st": 1,
         "Away2nd": 1,
         "Away3rd": 1,
         "AwayFinal": "3",
         "MlAwayOpen": "-110",
         "MlAwayClose": -115,
         "OpenOU": 6,
         "OpenOOdds": -110,
         "CloseOU": 6,
         "CloseOOdds": "105",
         "HomeTeam": "Philadelphia",
         "Home1st": 2,
         "Home2nd": 1,
         "Home3rd": 3,
         "HomeFinal": "6",
         "MlHomeOpen": "100",
         "MlHomeClose": -105,
         "OpenUOdds": -110,
         "CloseUOdds": "-125",
         "Year": "2021",
         "_deepnote_index_column": 0
        },
        {
         "Date": 113,
         "AwayTeam": "Montreal",
         "Away1st": 2,
         "Away2nd": 1,
         "Away3rd": 1,
         "AwayFinal": "0",
         "MlAwayOpen": "132",
         "MlAwayClose": 120,
         "OpenOU": 6,
         "OpenOOdds": -110,
         "CloseOU": 6,
         "CloseOOdds": "-110",
         "HomeTeam": "Toronto",
         "Home1st": 1,
         "Home2nd": 2,
         "Home3rd": 1,
         "HomeFinal": "1",
         "MlHomeOpen": "-145",
         "MlHomeClose": -140,
         "OpenUOdds": -110,
         "CloseUOdds": "-110",
         "Year": "2021",
         "_deepnote_index_column": 2
        },
        {
         "Date": 113,
         "AwayTeam": "Chicago",
         "Away1st": 0,
         "Away2nd": 0,
         "Away3rd": 1,
         "AwayFinal": "1",
         "MlAwayOpen": "230",
         "MlAwayClose": 210,
         "OpenOU": 6.5,
         "OpenOOdds": -110,
         "CloseOU": 6.5,
         "CloseOOdds": "-110",
         "HomeTeam": "TampaBay",
         "Home1st": 3,
         "Home2nd": 1,
         "Home3rd": 1,
         "HomeFinal": "5",
         "MlHomeOpen": "-260",
         "MlHomeClose": -250,
         "OpenUOdds": -110,
         "CloseUOdds": "-110",
         "Year": "2021",
         "_deepnote_index_column": 4
        },
        {
         "Date": 113,
         "AwayTeam": "Vancouver",
         "Away1st": 1,
         "Away2nd": 1,
         "Away3rd": 3,
         "AwayFinal": "5",
         "MlAwayOpen": "135",
         "MlAwayClose": 130,
         "OpenOU": 5.5,
         "OpenOOdds": -110,
         "CloseOU": 6.5,
         "CloseOOdds": "100",
         "HomeTeam": "Edmonton",
         "Home1st": 0,
         "Home2nd": 1,
         "Home3rd": 2,
         "HomeFinal": "3",
         "MlHomeOpen": "-150",
         "MlHomeClose": -150,
         "OpenUOdds": -110,
         "CloseUOdds": "-120",
         "Year": "2021",
         "_deepnote_index_column": 6
        },
        {
         "Date": 113,
         "AwayTeam": "St.Louis",
         "Away1st": 2,
         "Away2nd": 0,
         "Away3rd": 2,
         "AwayFinal": "4",
         "MlAwayOpen": "135",
         "MlAwayClose": 125,
         "OpenOU": 5.5,
         "OpenOOdds": -110,
         "CloseOU": 6,
         "CloseOOdds": "-110",
         "HomeTeam": "Colorado",
         "Home1st": 1,
         "Home2nd": 0,
         "Home3rd": 0,
         "HomeFinal": "1",
         "MlHomeOpen": "-150",
         "MlHomeClose": -145,
         "OpenUOdds": -110,
         "CloseUOdds": "-110",
         "Year": "2021",
         "_deepnote_index_column": 8
        },
        {
         "Date": 114,
         "AwayTeam": "Boston",
         "Away1st": 1,
         "Away2nd": 0,
         "Away3rd": 1,
         "AwayFinal": "3",
         "MlAwayOpen": "-138",
         "MlAwayClose": -180,
         "OpenOU": 5.5,
         "OpenOOdds": -110,
         "CloseOU": 5.5,
         "CloseOOdds": "-105",
         "HomeTeam": "NewJersey",
         "Home1st": 0,
         "Home2nd": 0,
         "Home3rd": 2,
         "HomeFinal": "2",
         "MlHomeOpen": "118",
         "MlHomeClose": 160,
         "OpenUOdds": -110,
         "CloseUOdds": "-115",
         "Year": "2021",
         "_deepnote_index_column": 10
        },
        {
         "Date": 114,
         "AwayTeam": "Washington",
         "Away1st": 2,
         "Away2nd": 2,
         "Away3rd": 2,
         "AwayFinal": "6",
         "MlAwayOpen": "113",
         "MlAwayClose": -128,
         "OpenOU": 6,
         "OpenOOdds": -110,
         "CloseOU": 6,
         "CloseOOdds": "100",
         "HomeTeam": "Buffalo",
         "Home1st": 1,
         "Home2nd": 1,
         "Home3rd": 2,
         "HomeFinal": "4",
         "MlHomeOpen": "-133",
         "MlHomeClose": 118,
         "OpenUOdds": -110,
         "CloseUOdds": "-120",
         "Year": "2021",
         "_deepnote_index_column": 12
        },
        {
         "Date": 114,
         "AwayTeam": "NYIslanders",
         "Away1st": 3,
         "Away2nd": 1,
         "Away3rd": 0,
         "AwayFinal": "4",
         "MlAwayOpen": "-110",
         "MlAwayClose": -103,
         "OpenOU": 5.5,
         "OpenOOdds": -110,
         "CloseOU": 6,
         "CloseOOdds": "-105",
         "HomeTeam": "NYRangers",
         "Home1st": 0,
         "Home2nd": 0,
         "Home3rd": 0,
         "HomeFinal": "0",
         "MlHomeOpen": "-110",
         "MlHomeClose": -107,
         "OpenUOdds": -110,
         "CloseUOdds": "-115",
         "Year": "2021",
         "_deepnote_index_column": 14
        },
        {
         "Date": 114,
         "AwayTeam": "Carolina",
         "Away1st": 1,
         "Away2nd": 0,
         "Away3rd": 2,
         "AwayFinal": "3",
         "MlAwayOpen": "-205",
         "MlAwayClose": -215,
         "OpenOU": 6,
         "OpenOOdds": -110,
         "CloseOU": 6,
         "CloseOOdds": "100",
         "HomeTeam": "Detroit",
         "Home1st": 0,
         "Home2nd": 0,
         "Home3rd": 0,
         "HomeFinal": "0",
         "MlHomeOpen": "172",
         "MlHomeClose": 195,
         "OpenUOdds": -110,
         "CloseUOdds": "-120",
         "Year": "2021",
         "_deepnote_index_column": 16
        },
        {
         "Date": 114,
         "AwayTeam": "Calgary",
         "Away1st": 3,
         "Away2nd": 0,
         "Away3rd": 0,
         "AwayFinal": "3",
         "MlAwayOpen": "-110",
         "MlAwayClose": -119,
         "OpenOU": 5.5,
         "OpenOOdds": -110,
         "CloseOU": 5.5,
         "CloseOOdds": "-120",
         "HomeTeam": "Winnipeg",
         "Home1st": 1,
         "Home2nd": 2,
         "Home3rd": 0,
         "HomeFinal": "4",
         "MlHomeOpen": "-110",
         "MlHomeClose": 109,
         "OpenUOdds": -110,
         "CloseUOdds": "100",
         "Year": "2021",
         "_deepnote_index_column": 18
        },
        {
         "Date": 114,
         "AwayTeam": "Columbus",
         "Away1st": 1,
         "Away2nd": 0,
         "Away3rd": 0,
         "AwayFinal": "1",
         "MlAwayOpen": "100",
         "MlAwayClose": 103,
         "OpenOU": 5.5,
         "OpenOOdds": -110,
         "CloseOU": 5.5,
         "CloseOOdds": "-105",
         "HomeTeam": "Nashville",
         "Home1st": 0,
         "Home2nd": 1,
         "Home3rd": 2,
         "HomeFinal": "3",
         "MlHomeOpen": "-120",
         "MlHomeClose": -113,
         "OpenUOdds": -110,
         "CloseUOdds": "-115",
         "Year": "2021",
         "_deepnote_index_column": 20
        },
        {
         "Date": 114,
         "AwayTeam": "SanJose",
         "Away1st": 2,
         "Away2nd": 0,
         "Away3rd": 1,
         "AwayFinal": "4",
         "MlAwayOpen": "-105",
         "MlAwayClose": 120,
         "OpenOU": 5.5,
         "OpenOOdds": -110,
         "CloseOU": 5.5,
         "CloseOOdds": "100",
         "HomeTeam": "Arizona",
         "Home1st": 0,
         "Home2nd": 1,
         "Home3rd": 2,
         "HomeFinal": "3",
         "MlHomeOpen": "-115",
         "MlHomeClose": -130,
         "OpenUOdds": -110,
         "CloseUOdds": "-120",
         "Year": "2021",
         "_deepnote_index_column": 22
        },
        {
         "Date": 114,
         "AwayTeam": "Vancouver",
         "Away1st": 0,
         "Away2nd": 2,
         "Away3rd": 0,
         "AwayFinal": "2",
         "MlAwayOpen": "100",
         "MlAwayClose": 118,
         "OpenOU": 6,
         "OpenOOdds": -110,
         "CloseOU": 6,
         "CloseOOdds": "-130",
         "HomeTeam": "Edmonton",
         "Home1st": 2,
         "Home2nd": 2,
         "Home3rd": 1,
         "HomeFinal": "5",
         "MlHomeOpen": "-120",
         "MlHomeClose": -128,
         "OpenUOdds": -110,
         "CloseUOdds": "110",
         "Year": "2021",
         "_deepnote_index_column": 24
        },
        {
         "Date": 114,
         "AwayTeam": "Minnesota",
         "Away1st": 1,
         "Away2nd": 0,
         "Away3rd": 2,
         "AwayFinal": "4",
         "MlAwayOpen": "-115",
         "MlAwayClose": -135,
         "OpenOU": 5.5,
         "OpenOOdds": -110,
         "CloseOU": 5.5,
         "CloseOOdds": "100",
         "HomeTeam": "LosAngeles",
         "Home1st": 1,
         "Home2nd": 2,
         "Home3rd": 0,
         "HomeFinal": "3",
         "MlHomeOpen": "-105",
         "MlHomeClose": 125,
         "OpenUOdds": -110,
         "CloseUOdds": "-120",
         "Year": "2021",
         "_deepnote_index_column": 26
        },
        {
         "Date": 114,
         "AwayTeam": "Anaheim",
         "Away1st": 2,
         "Away2nd": 0,
         "Away3rd": 0,
         "AwayFinal": "2",
         "MlAwayOpen": "180",
         "MlAwayClose": 200,
         "OpenOU": 5.5,
         "OpenOOdds": -110,
         "CloseOU": 6,
         "CloseOOdds": "100",
         "HomeTeam": "Vegas",
         "Home1st": 2,
         "Home2nd": 0,
         "Home3rd": 3,
         "HomeFinal": "5",
         "MlHomeOpen": "-215",
         "MlHomeClose": -220,
         "OpenUOdds": -110,
         "CloseUOdds": "-120",
         "Year": "2021",
         "_deepnote_index_column": 28
        },
        {
         "Date": 115,
         "AwayTeam": "Pittsburgh",
         "Away1st": 2,
         "Away2nd": 0,
         "Away3rd": 0,
         "AwayFinal": "2",
         "MlAwayOpen": "-107",
         "MlAwayClose": -110,
         "OpenOU": 6,
         "OpenOOdds": -110,
         "CloseOU": 6,
         "CloseOOdds": "-115",
         "HomeTeam": "Philadelphia",
         "Home1st": 3,
         "Home2nd": 0,
         "Home3rd": 2,
         "HomeFinal": "5",
         "MlHomeOpen": "-113",
         "MlHomeClose": 100,
         "OpenUOdds": -110,
         "CloseUOdds": "-105",
         "Year": "2021",
         "_deepnote_index_column": 30
        },
        {
         "Date": 115,
         "AwayTeam": "Washington",
         "Away1st": 0,
         "Away2nd": 1,
         "Away3rd": 1,
         "AwayFinal": "2",
         "MlAwayOpen": "-133",
         "MlAwayClose": -120,
         "OpenOU": 6,
         "OpenOOdds": -110,
         "CloseOU": 6,
         "CloseOOdds": "-115",
         "HomeTeam": "Buffalo",
         "Home1st": 0,
         "Home2nd": 0,
         "Home3rd": 1,
         "HomeFinal": "1",
         "MlHomeOpen": "113",
         "MlHomeClose": 110,
         "OpenUOdds": -110,
         "CloseUOdds": "-105",
         "Year": "2021",
         "_deepnote_index_column": 32
        },
        {
         "Date": 115,
         "AwayTeam": "Chicago",
         "Away1st": 0,
         "Away2nd": 2,
         "Away3rd": 0,
         "AwayFinal": "2",
         "MlAwayOpen": "245",
         "MlAwayClose": 224,
         "OpenOU": 6.5,
         "OpenOOdds": -110,
         "CloseOU": 6.5,
         "CloseOOdds": "105",
         "HomeTeam": "TampaBay",
         "Home1st": 0,
         "Home2nd": 3,
         "Home3rd": 2,
         "HomeFinal": "5",
         "MlHomeOpen": "-300",
         "MlHomeClose": -254,
         "OpenUOdds": -110,
         "CloseUOdds": "-125",
         "Year": "2021",
         "_deepnote_index_column": 34
        },
        {
         "Date": 115,
         "AwayTeam": "Toronto",
         "Away1st": 1,
         "Away2nd": 1,
         "Away3rd": 1,
         "AwayFinal": "3",
         "MlAwayOpen": "-155",
         "MlAwayClose": -200,
         "OpenOU": 6.5,
         "OpenOOdds": -110,
         "CloseOU": 6.5,
         "CloseOOdds": "-120",
         "HomeTeam": "Ottawa",
         "Home1st": 1,
         "Home2nd": 3,
         "Home3rd": 1,
         "HomeFinal": "5",
         "MlHomeOpen": "135",
         "MlHomeClose": 180,
         "OpenUOdds": -110,
         "CloseUOdds": "100",
         "Year": "2021",
         "_deepnote_index_column": 36
        },
        {
         "Date": 115,
         "AwayTeam": "St.Louis",
         "Away1st": 0,
         "Away2nd": 0,
         "Away3rd": 0,
         "AwayFinal": "0",
         "MlAwayOpen": "133",
         "MlAwayClose": 125,
         "OpenOU": 6,
         "OpenOOdds": -110,
         "CloseOU": 6,
         "CloseOOdds": "100",
         "HomeTeam": "Colorado",
         "Home1st": 0,
         "Home2nd": 4,
         "Home3rd": 4,
         "HomeFinal": "8",
         "MlHomeOpen": "-153",
         "MlHomeClose": -135,
         "OpenUOdds": -110,
         "CloseUOdds": "-120",
         "Year": "2021",
         "_deepnote_index_column": 38
        },
        {
         "Date": 116,
         "AwayTeam": "Boston",
         "Away1st": 0,
         "Away2nd": 1,
         "Away3rd": 0,
         "AwayFinal": "1",
         "MlAwayOpen": "-185",
         "MlAwayClose": -185,
         "OpenOU": 5.5,
         "OpenOOdds": -110,
         "CloseOU": 5.5,
         "CloseOOdds": "-110",
         "HomeTeam": "NewJersey",
         "Home1st": 1,
         "Home2nd": 0,
         "Home3rd": 0,
         "HomeFinal": "2",
         "MlHomeOpen": "160",
         "MlHomeClose": 165,
         "OpenUOdds": -110,
         "CloseUOdds": "-110",
         "Year": "2021",
         "_deepnote_index_column": 40
        },
        {
         "Date": 116,
         "AwayTeam": "SanJose",
         "Away1st": 2,
         "Away2nd": 0,
         "Away3rd": 1,
         "AwayFinal": "3",
         "MlAwayOpen": "107",
         "MlAwayClose": 115,
         "OpenOU": 5.5,
         "OpenOOdds": -110,
         "CloseOU": 5.5,
         "CloseOOdds": "-115",
         "HomeTeam": "Arizona",
         "Home1st": 2,
         "Home2nd": 2,
         "Home3rd": 1,
         "HomeFinal": "5",
         "MlHomeOpen": "-127",
         "MlHomeClose": -125,
         "OpenUOdds": -110,
         "CloseUOdds": "-105",
         "Year": "2021",
         "_deepnote_index_column": 42
        }
       ],
       "rows_bottom": [
        {
         "Date": 607,
         "AwayTeam": "Winnipeg",
         "Away1st": 0,
         "Away2nd": 2,
         "Away3rd": 0,
         "AwayFinal": "2",
         "MlAwayOpen": "130",
         "MlAwayClose": 130,
         "OpenOU": 5.5,
         "OpenOOdds": 120,
         "CloseOU": 5.5,
         "CloseOOdds": "110",
         "HomeTeam": "Montreal",
         "Home1st": 2,
         "Home2nd": 0,
         "Home3rd": 0,
         "HomeFinal": "3",
         "MlHomeOpen": "-150",
         "MlHomeClose": -140,
         "OpenUOdds": -140,
         "CloseUOdds": "-130",
         "Year": "2021",
         "_deepnote_index_column": 1858
        },
        {
         "Date": 608,
         "AwayTeam": "TampaBay",
         "Away1st": 0,
         "Away2nd": 1,
         "Away3rd": 1,
         "AwayFinal": "2",
         "MlAwayOpen": "-120",
         "MlAwayClose": -115,
         "OpenOU": 5.5,
         "OpenOOdds": 110,
         "CloseOU": 5.5,
         "CloseOOdds": "110",
         "HomeTeam": "Carolina",
         "Home1st": 0,
         "Home2nd": 0,
         "Home3rd": 0,
         "HomeFinal": "0",
         "MlHomeOpen": "100",
         "MlHomeClose": 105,
         "OpenUOdds": -130,
         "CloseUOdds": "-130",
         "Year": "2021",
         "_deepnote_index_column": 1860
        },
        {
         "Date": 608,
         "AwayTeam": "Vegas",
         "Away1st": 0,
         "Away2nd": 0,
         "Away3rd": 2,
         "AwayFinal": "3",
         "MlAwayOpen": "130",
         "MlAwayClose": 125,
         "OpenOU": 5.5,
         "OpenOOdds": -105,
         "CloseOU": 5.5,
         "CloseOOdds": "100",
         "HomeTeam": "Colorado",
         "Home1st": 1,
         "Home2nd": 1,
         "Home3rd": 0,
         "HomeFinal": "2",
         "MlHomeOpen": "-150",
         "MlHomeClose": -135,
         "OpenUOdds": -115,
         "CloseUOdds": "-120",
         "Year": "2021",
         "_deepnote_index_column": 1862
        },
        {
         "Date": 609,
         "AwayTeam": "Boston",
         "Away1st": 1,
         "Away2nd": 0,
         "Away3rd": 1,
         "AwayFinal": "2",
         "MlAwayOpen": "-135",
         "MlAwayClose": -137,
         "OpenOU": 5,
         "OpenOOdds": -140,
         "CloseOU": 5,
         "CloseOOdds": "-135",
         "HomeTeam": "NYIslanders",
         "Home1st": 1,
         "Home2nd": 3,
         "Home3rd": 2,
         "HomeFinal": "6",
         "MlHomeOpen": "115",
         "MlHomeClose": 127,
         "OpenUOdds": 120,
         "CloseUOdds": "115",
         "Year": "2021",
         "_deepnote_index_column": 1864
        },
        {
         "Date": 610,
         "AwayTeam": "Colorado",
         "Away1st": 1,
         "Away2nd": 2,
         "Away3rd": 0,
         "AwayFinal": "3",
         "MlAwayOpen": "120",
         "MlAwayClose": 119,
         "OpenOU": 5.5,
         "OpenOOdds": 100,
         "CloseOU": 5.5,
         "CloseOOdds": "100",
         "HomeTeam": "Vegas",
         "Home1st": 2,
         "Home2nd": 2,
         "Home3rd": 2,
         "HomeFinal": "6",
         "MlHomeOpen": "-140",
         "MlHomeClose": -129,
         "OpenUOdds": -120,
         "CloseUOdds": "-120",
         "Year": "2021",
         "_deepnote_index_column": 1866
        },
        {
         "Date": 613,
         "AwayTeam": "NYIslanders",
         "Away1st": 0,
         "Away2nd": 1,
         "Away3rd": 1,
         "AwayFinal": "2",
         "MlAwayOpen": "160",
         "MlAwayClose": 160,
         "OpenOU": 5.5,
         "OpenOOdds": 120,
         "CloseOU": 5.5,
         "CloseOOdds": "125",
         "HomeTeam": "TampaBay",
         "Home1st": 0,
         "Home2nd": 0,
         "Home3rd": 1,
         "HomeFinal": "1",
         "MlHomeOpen": "-190",
         "MlHomeClose": -180,
         "OpenUOdds": -140,
         "CloseUOdds": "-145",
         "Year": "2021",
         "_deepnote_index_column": 1868
        },
        {
         "Date": 614,
         "AwayTeam": "Montreal",
         "Away1st": 0,
         "Away2nd": 1,
         "Away3rd": 0,
         "AwayFinal": "1",
         "MlAwayOpen": "220",
         "MlAwayClose": 230,
         "OpenOU": 2,
         "OpenOOdds": -135,
         "CloseOU": 5.5,
         "CloseOOdds": "125",
         "HomeTeam": "Vegas",
         "Home1st": 1,
         "Home2nd": 2,
         "Home3rd": 1,
         "HomeFinal": "4",
         "MlHomeOpen": "-270",
         "MlHomeClose": -260,
         "OpenUOdds": 115,
         "CloseUOdds": "-145",
         "Year": "2021",
         "_deepnote_index_column": 1870
        },
        {
         "Date": 615,
         "AwayTeam": "NYIslanders",
         "Away1st": 1,
         "Away2nd": 0,
         "Away3rd": 1,
         "AwayFinal": "2",
         "MlAwayOpen": "160",
         "MlAwayClose": 175,
         "OpenOU": 5.5,
         "OpenOOdds": 130,
         "CloseOU": 5,
         "CloseOOdds": "-140",
         "HomeTeam": "TampaBay",
         "Home1st": 1,
         "Home2nd": 1,
         "Home3rd": 2,
         "HomeFinal": "4",
         "MlHomeOpen": "-190",
         "MlHomeClose": -195,
         "OpenUOdds": -150,
         "CloseUOdds": "120",
         "Year": "2021",
         "_deepnote_index_column": 1872
        },
        {
         "Date": 616,
         "AwayTeam": "Montreal",
         "Away1st": 2,
         "Away2nd": 1,
         "Away3rd": 0,
         "AwayFinal": "3",
         "MlAwayOpen": "220",
         "MlAwayClose": 220,
         "OpenOU": 5.5,
         "OpenOOdds": 120,
         "CloseOU": 5,
         "CloseOOdds": "-140",
         "HomeTeam": "Vegas",
         "Home1st": 0,
         "Home2nd": 1,
         "Home3rd": 1,
         "HomeFinal": "2",
         "MlHomeOpen": "-270",
         "MlHomeClose": -250,
         "OpenUOdds": -140,
         "CloseUOdds": "120",
         "Year": "2021",
         "_deepnote_index_column": 1874
        },
        {
         "Date": 617,
         "AwayTeam": "TampaBay",
         "Away1st": 1,
         "Away2nd": 1,
         "Away3rd": 0,
         "AwayFinal": "2",
         "MlAwayOpen": "-140",
         "MlAwayClose": -129,
         "OpenOU": 5.5,
         "OpenOOdds": 125,
         "CloseOU": 5,
         "CloseOOdds": "-135",
         "HomeTeam": "NYIslanders",
         "Home1st": 0,
         "Home2nd": 1,
         "Home3rd": 0,
         "HomeFinal": "1",
         "MlHomeOpen": "120",
         "MlHomeClose": 119,
         "OpenUOdds": -145,
         "CloseUOdds": "115",
         "Year": "2021",
         "_deepnote_index_column": 1876
        },
        {
         "Date": 618,
         "AwayTeam": "Vegas",
         "Away1st": 0,
         "Away2nd": 1,
         "Away3rd": 1,
         "AwayFinal": "2",
         "MlAwayOpen": "-165",
         "MlAwayClose": -170,
         "OpenOU": 5.5,
         "OpenOOdds": 125,
         "CloseOU": 5,
         "CloseOOdds": "-145",
         "HomeTeam": "Montreal",
         "Home1st": 0,
         "Home2nd": 1,
         "Home3rd": 1,
         "HomeFinal": "3",
         "MlHomeOpen": "140",
         "MlHomeClose": 155,
         "OpenUOdds": -145,
         "CloseUOdds": "125",
         "Year": "2021",
         "_deepnote_index_column": 1878
        },
        {
         "Date": 619,
         "AwayTeam": "TampaBay",
         "Away1st": 0,
         "Away2nd": 0,
         "Away3rd": 2,
         "AwayFinal": "2",
         "MlAwayOpen": "-135",
         "MlAwayClose": -120,
         "OpenOU": 5,
         "OpenOOdds": -125,
         "CloseOU": 5,
         "CloseOOdds": "-130",
         "HomeTeam": "NYIslanders",
         "Home1st": 0,
         "Home2nd": 3,
         "Home3rd": 0,
         "HomeFinal": "3",
         "MlHomeOpen": "115",
         "MlHomeClose": 110,
         "OpenUOdds": 105,
         "CloseUOdds": "110",
         "Year": "2021",
         "_deepnote_index_column": 1880
        },
        {
         "Date": 620,
         "AwayTeam": "Vegas",
         "Away1st": 0,
         "Away2nd": 0,
         "Away3rd": 1,
         "AwayFinal": "2",
         "MlAwayOpen": "-180",
         "MlAwayClose": -170,
         "OpenOU": 5,
         "OpenOOdds": -130,
         "CloseOU": 5.5,
         "CloseOOdds": "120",
         "HomeTeam": "Montreal",
         "Home1st": 0,
         "Home2nd": 1,
         "Home3rd": 0,
         "HomeFinal": "1",
         "MlHomeOpen": "150",
         "MlHomeClose": 155,
         "OpenUOdds": 110,
         "CloseUOdds": "-140",
         "Year": "2021",
         "_deepnote_index_column": 1882
        },
        {
         "Date": 621,
         "AwayTeam": "NYIslanders",
         "Away1st": 0,
         "Away2nd": 0,
         "Away3rd": 0,
         "AwayFinal": "0",
         "MlAwayOpen": "165",
         "MlAwayClose": 165,
         "OpenOU": 5,
         "OpenOOdds": -135,
         "CloseOU": 5,
         "CloseOOdds": "-135",
         "HomeTeam": "TampaBay",
         "Home1st": 3,
         "Home2nd": 3,
         "Home3rd": 2,
         "HomeFinal": "8",
         "MlHomeOpen": "-195",
         "MlHomeClose": -185,
         "OpenUOdds": 115,
         "CloseUOdds": "115",
         "Year": "2021",
         "_deepnote_index_column": 1884
        },
        {
         "Date": 622,
         "AwayTeam": "Montreal",
         "Away1st": 1,
         "Away2nd": 2,
         "Away3rd": 1,
         "AwayFinal": "4",
         "MlAwayOpen": "205",
         "MlAwayClose": 205,
         "OpenOU": 5,
         "OpenOOdds": -135,
         "CloseOU": 5,
         "CloseOOdds": "-135",
         "HomeTeam": "Vegas",
         "Home1st": 0,
         "Home2nd": 0,
         "Home3rd": 1,
         "HomeFinal": "1",
         "MlHomeOpen": "-255",
         "MlHomeClose": -230,
         "OpenUOdds": 115,
         "CloseUOdds": "115",
         "Year": "2021",
         "_deepnote_index_column": 1886
        },
        {
         "Date": 623,
         "AwayTeam": "TampaBay",
         "Away1st": 1,
         "Away2nd": 1,
         "Away3rd": 0,
         "AwayFinal": "2",
         "MlAwayOpen": "-150",
         "MlAwayClose": -140,
         "OpenOU": 5,
         "OpenOOdds": -130,
         "CloseOU": 5,
         "CloseOOdds": "-130",
         "HomeTeam": "NYIslanders",
         "Home1st": 0,
         "Home2nd": 1,
         "Home3rd": 1,
         "HomeFinal": "3",
         "MlHomeOpen": "130",
         "MlHomeClose": 130,
         "OpenUOdds": 110,
         "CloseUOdds": "110",
         "Year": "2021",
         "_deepnote_index_column": 1888
        },
        {
         "Date": 624,
         "AwayTeam": "Vegas",
         "Away1st": 1,
         "Away2nd": 0,
         "Away3rd": 1,
         "AwayFinal": "2",
         "MlAwayOpen": "-140",
         "MlAwayClose": -135,
         "OpenOU": 5,
         "OpenOOdds": -130,
         "CloseOU": 5,
         "CloseOOdds": "-130",
         "HomeTeam": "Montreal",
         "Home1st": 1,
         "Home2nd": 1,
         "Home3rd": 0,
         "HomeFinal": "3",
         "MlHomeOpen": "120",
         "MlHomeClose": 125,
         "OpenUOdds": 110,
         "CloseUOdds": "110",
         "Year": "2021",
         "_deepnote_index_column": 1890
        },
        {
         "Date": 625,
         "AwayTeam": "NYIslanders",
         "Away1st": 0,
         "Away2nd": 0,
         "Away3rd": 0,
         "AwayFinal": "0",
         "MlAwayOpen": "150",
         "MlAwayClose": 165,
         "OpenOU": 5,
         "OpenOOdds": -130,
         "CloseOU": 5,
         "CloseOOdds": "-105",
         "HomeTeam": "TampaBay",
         "Home1st": 0,
         "Home2nd": 1,
         "Home3rd": 0,
         "HomeFinal": "1",
         "MlHomeOpen": "-180",
         "MlHomeClose": -185,
         "OpenUOdds": 110,
         "CloseUOdds": "-115",
         "Year": "2021",
         "_deepnote_index_column": 1892
        },
        {
         "Date": 628,
         "AwayTeam": "Montreal",
         "Away1st": 0,
         "Away2nd": 1,
         "Away3rd": 0,
         "AwayFinal": "1",
         "MlAwayOpen": "185",
         "MlAwayClose": 180,
         "OpenOU": 5,
         "OpenOOdds": -120,
         "CloseOU": 5,
         "CloseOOdds": "-125",
         "HomeTeam": "TampaBay",
         "Home1st": 1,
         "Home2nd": 1,
         "Home3rd": 3,
         "HomeFinal": "5",
         "MlHomeOpen": "-225",
         "MlHomeClose": -200,
         "OpenUOdds": 100,
         "CloseUOdds": "105",
         "Year": "2021",
         "_deepnote_index_column": 1894
        },
        {
         "Date": 630,
         "AwayTeam": "Montreal",
         "Away1st": 0,
         "Away2nd": 1,
         "Away3rd": 0,
         "AwayFinal": "1",
         "MlAwayOpen": "180",
         "MlAwayClose": 177,
         "OpenOU": 5,
         "OpenOOdds": -120,
         "CloseOU": 5,
         "CloseOOdds": "-120",
         "HomeTeam": "TampaBay",
         "Home1st": 0,
         "Home2nd": 2,
         "Home3rd": 1,
         "HomeFinal": "3",
         "MlHomeOpen": "-220",
         "MlHomeClose": -197,
         "OpenUOdds": 100,
         "CloseUOdds": "100",
         "Year": "2021",
         "_deepnote_index_column": 1896
        },
        {
         "Date": 702,
         "AwayTeam": "TampaBay",
         "Away1st": 2,
         "Away2nd": 2,
         "Away3rd": 2,
         "AwayFinal": "6",
         "MlAwayOpen": "-145",
         "MlAwayClose": -123,
         "OpenOU": 5,
         "OpenOOdds": -120,
         "CloseOU": 5,
         "CloseOOdds": "-120",
         "HomeTeam": "Montreal",
         "Home1st": 1,
         "Home2nd": 1,
         "Home3rd": 1,
         "HomeFinal": "3",
         "MlHomeOpen": "125",
         "MlHomeClose": 113,
         "OpenUOdds": 100,
         "CloseUOdds": "100",
         "Year": "2021",
         "_deepnote_index_column": 1898
        },
        {
         "Date": 705,
         "AwayTeam": "TampaBay",
         "Away1st": 0,
         "Away2nd": 1,
         "Away3rd": 1,
         "AwayFinal": "2",
         "MlAwayOpen": "-145",
         "MlAwayClose": -150,
         "OpenOU": 5,
         "OpenOOdds": -135,
         "CloseOU": 5,
         "CloseOOdds": "-140",
         "HomeTeam": "Montreal",
         "Home1st": 1,
         "Home2nd": 0,
         "Home3rd": 1,
         "HomeFinal": "3",
         "MlHomeOpen": "125",
         "MlHomeClose": 135,
         "OpenUOdds": 115,
         "CloseUOdds": "120",
         "Year": "2021",
         "_deepnote_index_column": 1900
        },
        {
         "Date": 707,
         "AwayTeam": "Montreal",
         "Away1st": 0,
         "Away2nd": 0,
         "Away3rd": 0,
         "AwayFinal": "0",
         "MlAwayOpen": "180",
         "MlAwayClose": 215,
         "OpenOU": 5,
         "OpenOOdds": -120,
         "CloseOU": 5,
         "CloseOOdds": "-140",
         "HomeTeam": "TampaBay",
         "Home1st": 0,
         "Home2nd": 1,
         "Home3rd": 0,
         "HomeFinal": "1",
         "MlHomeOpen": "-220",
         "MlHomeClose": -245,
         "OpenUOdds": 100,
         "CloseUOdds": "120",
         "Year": "2021",
         "_deepnote_index_column": 1902
        }
       ]
      },
      "text/plain": "      Date    AwayTeam  Away1st  Away2nd  Away3rd AwayFinal MlAwayOpen  \\\n0      113  Pittsburgh        1        1        1         3       -110   \n2      113    Montreal        2        1        1         0        132   \n4      113     Chicago        0        0        1         1        230   \n6      113   Vancouver        1        1        3         5        135   \n8      113    St.Louis        2        0        2         4        135   \n...    ...         ...      ...      ...      ...       ...        ...   \n1894   628    Montreal        0        1        0         1        185   \n1896   630    Montreal        0        1        0         1        180   \n1898   702    TampaBay        2        2        2         6       -145   \n1900   705    TampaBay        0        1        1         2       -145   \n1902   707    Montreal        0        0        0         0        180   \n\n      MlAwayClose  OpenOU  OpenOOdds  ...      HomeTeam Home1st Home2nd  \\\n0            -115     6.0       -110  ...  Philadelphia     2.0     1.0   \n2             120     6.0       -110  ...       Toronto     1.0     2.0   \n4             210     6.5       -110  ...      TampaBay     3.0     1.0   \n6             130     5.5       -110  ...      Edmonton     0.0     1.0   \n8             125     5.5       -110  ...      Colorado     1.0     0.0   \n...           ...     ...        ...  ...           ...     ...     ...   \n1894          180     5.0       -120  ...      TampaBay     1.0     1.0   \n1896          177     5.0       -120  ...      TampaBay     0.0     2.0   \n1898         -123     5.0       -120  ...      Montreal     1.0     1.0   \n1900         -150     5.0       -135  ...      Montreal     1.0     0.0   \n1902          215     5.0       -120  ...      TampaBay     0.0     1.0   \n\n      Home3rd  HomeFinal  MlHomeOpen MlHomeClose OpenUOdds  CloseUOdds  Year  \n0         3.0          6         100      -105.0    -110.0        -125  2021  \n2         1.0          1        -145      -140.0    -110.0        -110  2021  \n4         1.0          5        -260      -250.0    -110.0        -110  2021  \n6         2.0          3        -150      -150.0    -110.0        -120  2021  \n8         0.0          1        -150      -145.0    -110.0        -110  2021  \n...       ...        ...         ...         ...       ...         ...   ...  \n1894      3.0          5        -225      -200.0     100.0         105  2021  \n1896      1.0          3        -220      -197.0     100.0         100  2021  \n1898      1.0          3         125       113.0     100.0         100  2021  \n1900      1.0          3         125       135.0     115.0         120  2021  \n1902      0.0          1        -220      -245.0     100.0         120  2021  \n\n[952 rows x 22 columns]",
      "text/html": "<div>\n<style scoped>\n    .dataframe tbody tr th:only-of-type {\n        vertical-align: middle;\n    }\n\n    .dataframe tbody tr th {\n        vertical-align: top;\n    }\n\n    .dataframe thead th {\n        text-align: right;\n    }\n</style>\n<table border=\"1\" class=\"dataframe\">\n  <thead>\n    <tr style=\"text-align: right;\">\n      <th></th>\n      <th>Date</th>\n      <th>AwayTeam</th>\n      <th>Away1st</th>\n      <th>Away2nd</th>\n      <th>Away3rd</th>\n      <th>AwayFinal</th>\n      <th>MlAwayOpen</th>\n      <th>MlAwayClose</th>\n      <th>OpenOU</th>\n      <th>OpenOOdds</th>\n      <th>...</th>\n      <th>HomeTeam</th>\n      <th>Home1st</th>\n      <th>Home2nd</th>\n      <th>Home3rd</th>\n      <th>HomeFinal</th>\n      <th>MlHomeOpen</th>\n      <th>MlHomeClose</th>\n      <th>OpenUOdds</th>\n      <th>CloseUOdds</th>\n      <th>Year</th>\n    </tr>\n  </thead>\n  <tbody>\n    <tr>\n      <th>0</th>\n      <td>113</td>\n      <td>Pittsburgh</td>\n      <td>1</td>\n      <td>1</td>\n      <td>1</td>\n      <td>3</td>\n      <td>-110</td>\n      <td>-115</td>\n      <td>6.0</td>\n      <td>-110</td>\n      <td>...</td>\n      <td>Philadelphia</td>\n      <td>2.0</td>\n      <td>1.0</td>\n      <td>3.0</td>\n      <td>6</td>\n      <td>100</td>\n      <td>-105.0</td>\n      <td>-110.0</td>\n      <td>-125</td>\n      <td>2021</td>\n    </tr>\n    <tr>\n      <th>2</th>\n      <td>113</td>\n      <td>Montreal</td>\n      <td>2</td>\n      <td>1</td>\n      <td>1</td>\n      <td>0</td>\n      <td>132</td>\n      <td>120</td>\n      <td>6.0</td>\n      <td>-110</td>\n      <td>...</td>\n      <td>Toronto</td>\n      <td>1.0</td>\n      <td>2.0</td>\n      <td>1.0</td>\n      <td>1</td>\n      <td>-145</td>\n      <td>-140.0</td>\n      <td>-110.0</td>\n      <td>-110</td>\n      <td>2021</td>\n    </tr>\n    <tr>\n      <th>4</th>\n      <td>113</td>\n      <td>Chicago</td>\n      <td>0</td>\n      <td>0</td>\n      <td>1</td>\n      <td>1</td>\n      <td>230</td>\n      <td>210</td>\n      <td>6.5</td>\n      <td>-110</td>\n      <td>...</td>\n      <td>TampaBay</td>\n      <td>3.0</td>\n      <td>1.0</td>\n      <td>1.0</td>\n      <td>5</td>\n      <td>-260</td>\n      <td>-250.0</td>\n      <td>-110.0</td>\n      <td>-110</td>\n      <td>2021</td>\n    </tr>\n    <tr>\n      <th>6</th>\n      <td>113</td>\n      <td>Vancouver</td>\n      <td>1</td>\n      <td>1</td>\n      <td>3</td>\n      <td>5</td>\n      <td>135</td>\n      <td>130</td>\n      <td>5.5</td>\n      <td>-110</td>\n      <td>...</td>\n      <td>Edmonton</td>\n      <td>0.0</td>\n      <td>1.0</td>\n      <td>2.0</td>\n      <td>3</td>\n      <td>-150</td>\n      <td>-150.0</td>\n      <td>-110.0</td>\n      <td>-120</td>\n      <td>2021</td>\n    </tr>\n    <tr>\n      <th>8</th>\n      <td>113</td>\n      <td>St.Louis</td>\n      <td>2</td>\n      <td>0</td>\n      <td>2</td>\n      <td>4</td>\n      <td>135</td>\n      <td>125</td>\n      <td>5.5</td>\n      <td>-110</td>\n      <td>...</td>\n      <td>Colorado</td>\n      <td>1.0</td>\n      <td>0.0</td>\n      <td>0.0</td>\n      <td>1</td>\n      <td>-150</td>\n      <td>-145.0</td>\n      <td>-110.0</td>\n      <td>-110</td>\n      <td>2021</td>\n    </tr>\n    <tr>\n      <th>...</th>\n      <td>...</td>\n      <td>...</td>\n      <td>...</td>\n      <td>...</td>\n      <td>...</td>\n      <td>...</td>\n      <td>...</td>\n      <td>...</td>\n      <td>...</td>\n      <td>...</td>\n      <td>...</td>\n      <td>...</td>\n      <td>...</td>\n      <td>...</td>\n      <td>...</td>\n      <td>...</td>\n      <td>...</td>\n      <td>...</td>\n      <td>...</td>\n      <td>...</td>\n      <td>...</td>\n    </tr>\n    <tr>\n      <th>1894</th>\n      <td>628</td>\n      <td>Montreal</td>\n      <td>0</td>\n      <td>1</td>\n      <td>0</td>\n      <td>1</td>\n      <td>185</td>\n      <td>180</td>\n      <td>5.0</td>\n      <td>-120</td>\n      <td>...</td>\n      <td>TampaBay</td>\n      <td>1.0</td>\n      <td>1.0</td>\n      <td>3.0</td>\n      <td>5</td>\n      <td>-225</td>\n      <td>-200.0</td>\n      <td>100.0</td>\n      <td>105</td>\n      <td>2021</td>\n    </tr>\n    <tr>\n      <th>1896</th>\n      <td>630</td>\n      <td>Montreal</td>\n      <td>0</td>\n      <td>1</td>\n      <td>0</td>\n      <td>1</td>\n      <td>180</td>\n      <td>177</td>\n      <td>5.0</td>\n      <td>-120</td>\n      <td>...</td>\n      <td>TampaBay</td>\n      <td>0.0</td>\n      <td>2.0</td>\n      <td>1.0</td>\n      <td>3</td>\n      <td>-220</td>\n      <td>-197.0</td>\n      <td>100.0</td>\n      <td>100</td>\n      <td>2021</td>\n    </tr>\n    <tr>\n      <th>1898</th>\n      <td>702</td>\n      <td>TampaBay</td>\n      <td>2</td>\n      <td>2</td>\n      <td>2</td>\n      <td>6</td>\n      <td>-145</td>\n      <td>-123</td>\n      <td>5.0</td>\n      <td>-120</td>\n      <td>...</td>\n      <td>Montreal</td>\n      <td>1.0</td>\n      <td>1.0</td>\n      <td>1.0</td>\n      <td>3</td>\n      <td>125</td>\n      <td>113.0</td>\n      <td>100.0</td>\n      <td>100</td>\n      <td>2021</td>\n    </tr>\n    <tr>\n      <th>1900</th>\n      <td>705</td>\n      <td>TampaBay</td>\n      <td>0</td>\n      <td>1</td>\n      <td>1</td>\n      <td>2</td>\n      <td>-145</td>\n      <td>-150</td>\n      <td>5.0</td>\n      <td>-135</td>\n      <td>...</td>\n      <td>Montreal</td>\n      <td>1.0</td>\n      <td>0.0</td>\n      <td>1.0</td>\n      <td>3</td>\n      <td>125</td>\n      <td>135.0</td>\n      <td>115.0</td>\n      <td>120</td>\n      <td>2021</td>\n    </tr>\n    <tr>\n      <th>1902</th>\n      <td>707</td>\n      <td>Montreal</td>\n      <td>0</td>\n      <td>0</td>\n      <td>0</td>\n      <td>0</td>\n      <td>180</td>\n      <td>215</td>\n      <td>5.0</td>\n      <td>-120</td>\n      <td>...</td>\n      <td>TampaBay</td>\n      <td>0.0</td>\n      <td>1.0</td>\n      <td>0.0</td>\n      <td>1</td>\n      <td>-220</td>\n      <td>-245.0</td>\n      <td>100.0</td>\n      <td>120</td>\n      <td>2021</td>\n    </tr>\n  </tbody>\n</table>\n<p>952 rows × 22 columns</p>\n</div>"
     },
     "metadata": {}
    }
   ],
   "execution_count": null
  },
  {
   "cell_type": "code",
   "metadata": {
    "tags": [],
    "cell_id": "00007-62202562-b074-43f3-b02e-10ce5d4ad9fd",
    "deepnote_to_be_reexecuted": false,
    "source_hash": "6384bdc3",
    "execution_start": 1633407128240,
    "execution_millis": 449,
    "deepnote_cell_type": "code"
   },
   "source": "# Perfect, now we can recreate the process for all the other years\ncombined_df = pd.read_csv('nhl_odds/2008.csv')\ncombined_df['Year'] = '2008'\ncombined_df.rename(columns={'Open OU': 'OpenOU', 'Close OU': 'CloseOU'}, inplace = True)\n\n\nfor i in range(2009, 2022):\n    temp_df = pd.read_csv('nhl_odds/' + str(i) + '.csv')\n    temp_df['Year'] = str(i)\n\n    # Address inconsistencies in column naming\n    temp_df.rename(columns={'Open OU': 'OpenOU', 'Close OU': 'CloseOU'}, inplace = True)\n\n    combined_df = combined_df.append(temp_df)\n\n# Drop columns that are only in later data\ncombined_df.drop(columns=['Puck Line', 'PuckLineOdds', 'PuckLine'], inplace = True)\n\n\ncombined_df\n",
   "outputs": [
    {
     "output_type": "execute_result",
     "execution_count": 7,
     "data": {
      "application/vnd.deepnote.dataframe.v2+json": {
       "row_count": 35094,
       "column_count": 15,
       "columns": [
        {
         "name": "Date",
         "dtype": "int64",
         "stats": {
          "unique_count": 324,
          "nan_count": 0,
          "min": "101",
          "max": "1231",
          "histogram": [
           {
            "bin_start": 101,
            "bin_end": 214,
            "count": 7382
           },
           {
            "bin_start": 214,
            "bin_end": 327,
            "count": 7666
           },
           {
            "bin_start": 327,
            "bin_end": 440,
            "count": 4486
           },
           {
            "bin_start": 440,
            "bin_end": 553,
            "count": 1100
           },
           {
            "bin_start": 553,
            "bin_end": 666,
            "count": 198
           },
           {
            "bin_start": 666,
            "bin_end": 779,
            "count": 6
           },
           {
            "bin_start": 779,
            "bin_end": 892,
            "count": 210
           },
           {
            "bin_start": 892,
            "bin_end": 1005,
            "count": 238
           },
           {
            "bin_start": 1005,
            "bin_end": 1118,
            "count": 6592
           },
           {
            "bin_start": 1118,
            "bin_end": 1231,
            "count": 7216
           }
          ]
         }
        },
        {
         "name": "Rot",
         "dtype": "int64",
         "stats": {
          "unique_count": 90,
          "nan_count": 0,
          "min": "1",
          "max": "90",
          "histogram": [
           {
            "bin_start": 1,
            "bin_end": 9.9,
            "count": 9003
           },
           {
            "bin_start": 9.9,
            "bin_end": 18.8,
            "count": 5273
           },
           {
            "bin_start": 18.8,
            "bin_end": 27.700000000000003,
            "count": 2179
           },
           {
            "bin_start": 27.700000000000003,
            "bin_end": 36.6,
            "count": 825
           },
           {
            "bin_start": 36.6,
            "bin_end": 45.5,
            "count": 724
           },
           {
            "bin_start": 45.5,
            "bin_end": 54.400000000000006,
            "count": 4672
           },
           {
            "bin_start": 54.400000000000006,
            "bin_end": 63.300000000000004,
            "count": 7422
           },
           {
            "bin_start": 63.300000000000004,
            "bin_end": 72.2,
            "count": 3894
           },
           {
            "bin_start": 72.2,
            "bin_end": 81.10000000000001,
            "count": 907
           },
           {
            "bin_start": 81.10000000000001,
            "bin_end": 90,
            "count": 195
           }
          ]
         }
        },
        {
         "name": "VH",
         "dtype": "object"
        },
        {
         "name": "Team",
         "dtype": "object"
        },
        {
         "name": "1st",
         "dtype": "int64"
        },
        {
         "name": "2nd",
         "dtype": "int64"
        },
        {
         "name": "3rd",
         "dtype": "int64"
        },
        {
         "name": "Final",
         "dtype": "object"
        },
        {
         "name": "Open",
         "dtype": "object"
        },
        {
         "name": "Close",
         "dtype": "int64"
        },
        {
         "name": "OpenOU",
         "dtype": "object"
        },
        {
         "name": "OpenOUOdds",
         "dtype": "object"
        },
        {
         "name": "CloseOU",
         "dtype": "object"
        },
        {
         "name": "CloseOUOdds",
         "dtype": "object"
        },
        {
         "name": "Year",
         "dtype": "object"
        },
        {
         "name": "_deepnote_index_column",
         "dtype": "int64"
        }
       ],
       "rows_top": [
        {
         "Date": 929,
         "Rot": 1,
         "VH": "V",
         "Team": "Anaheim",
         "1st": 0,
         "2nd": 0,
         "3rd": 1,
         "Final": "1",
         "Open": "-155",
         "Close": -123,
         "OpenOU": "6.0",
         "OpenOUOdds": "100",
         "CloseOU": "6.0",
         "CloseOUOdds": "-105",
         "Year": "2008",
         "_deepnote_index_column": 0
        },
        {
         "Date": 929,
         "Rot": 2,
         "VH": "H",
         "Team": "LosAngeles",
         "1st": 1,
         "2nd": 1,
         "3rd": 2,
         "Final": "4",
         "Open": "135",
         "Close": 103,
         "OpenOU": "6.0",
         "OpenOUOdds": "-120",
         "CloseOU": "6.0",
         "CloseOUOdds": "-115",
         "Year": "2008",
         "_deepnote_index_column": 1
        },
        {
         "Date": 930,
         "Rot": 51,
         "VH": "V",
         "Team": "LosAngeles",
         "1st": 0,
         "2nd": 1,
         "3rd": 0,
         "Final": "1",
         "Open": "115",
         "Close": 132,
         "OpenOU": "6.0",
         "OpenOUOdds": "-115",
         "CloseOU": "6.0",
         "CloseOUOdds": "112",
         "Year": "2008",
         "_deepnote_index_column": 2
        },
        {
         "Date": 930,
         "Rot": 52,
         "VH": "H",
         "Team": "Anaheim",
         "1st": 2,
         "2nd": 2,
         "3rd": 0,
         "Final": "4",
         "Open": "-135",
         "Close": -152,
         "OpenOU": "6.0",
         "OpenOUOdds": "-105",
         "CloseOU": "6.0",
         "CloseOUOdds": "-132",
         "Year": "2008",
         "_deepnote_index_column": 3
        },
        {
         "Date": 1003,
         "Rot": 1,
         "VH": "V",
         "Team": "Anaheim",
         "1st": 0,
         "2nd": 2,
         "3rd": 0,
         "Final": "2",
         "Open": "165",
         "Close": 190,
         "OpenOU": "5.5",
         "OpenOUOdds": "105",
         "CloseOU": "5.5",
         "CloseOUOdds": "120",
         "Year": "2008",
         "_deepnote_index_column": 4
        },
        {
         "Date": 1003,
         "Rot": 2,
         "VH": "H",
         "Team": "Detroit",
         "1st": 1,
         "2nd": 0,
         "3rd": 1,
         "Final": "3",
         "Open": "-185",
         "Close": -230,
         "OpenOU": "5.5",
         "OpenOUOdds": "-125",
         "CloseOU": "5.5",
         "CloseOUOdds": "-140",
         "Year": "2008",
         "_deepnote_index_column": 5
        },
        {
         "Date": 1003,
         "Rot": 3,
         "VH": "V",
         "Team": "Montreal",
         "1st": 1,
         "2nd": 0,
         "3rd": 1,
         "Final": "3",
         "Open": "130",
         "Close": 140,
         "OpenOU": "6.0",
         "OpenOUOdds": "-105",
         "CloseOU": "6.0",
         "CloseOUOdds": "110",
         "Year": "2008",
         "_deepnote_index_column": 6
        },
        {
         "Date": 1003,
         "Rot": 4,
         "VH": "H",
         "Team": "Carolina",
         "1st": 1,
         "2nd": 0,
         "3rd": 1,
         "Final": "2",
         "Open": "-150",
         "Close": -160,
         "OpenOU": "6.0",
         "OpenOUOdds": "-115",
         "CloseOU": "6.0",
         "CloseOUOdds": "-130",
         "Year": "2008",
         "_deepnote_index_column": 7
        },
        {
         "Date": 1003,
         "Rot": 5,
         "VH": "V",
         "Team": "Ottawa",
         "1st": 2,
         "2nd": 0,
         "3rd": 1,
         "Final": "4",
         "Open": "-120",
         "Close": -125,
         "OpenOU": "6.0",
         "OpenOUOdds": "-120",
         "CloseOU": "6.0",
         "CloseOUOdds": "-135",
         "Year": "2008",
         "_deepnote_index_column": 8
        },
        {
         "Date": 1003,
         "Rot": 6,
         "VH": "H",
         "Team": "Toronto",
         "1st": 2,
         "2nd": 1,
         "3rd": 0,
         "Final": "3",
         "Open": "100",
         "Close": 105,
         "OpenOU": "6.0",
         "OpenOUOdds": "100",
         "CloseOU": "6.0",
         "CloseOUOdds": "115",
         "Year": "2008",
         "_deepnote_index_column": 9
        },
        {
         "Date": 1003,
         "Rot": 7,
         "VH": "V",
         "Team": "Dallas",
         "1st": 0,
         "2nd": 1,
         "3rd": 2,
         "Final": "3",
         "Open": "115",
         "Close": 135,
         "OpenOU": "5.5",
         "OpenOUOdds": "-115",
         "CloseOU": "5.5",
         "CloseOUOdds": "-115",
         "Year": "2008",
         "_deepnote_index_column": 10
        },
        {
         "Date": 1003,
         "Rot": 8,
         "VH": "H",
         "Team": "Colorado",
         "1st": 1,
         "2nd": 3,
         "3rd": 0,
         "Final": "4",
         "Open": "-135",
         "Close": -155,
         "OpenOU": "5.5",
         "OpenOUOdds": "-105",
         "CloseOU": "5.5",
         "CloseOUOdds": "-105",
         "Year": "2008",
         "_deepnote_index_column": 11
        },
        {
         "Date": 1004,
         "Rot": 51,
         "VH": "V",
         "Team": "Toronto",
         "1st": 0,
         "2nd": 2,
         "3rd": 0,
         "Final": "2",
         "Open": "170",
         "Close": 150,
         "OpenOU": "6.0",
         "OpenOUOdds": "-130",
         "CloseOU": "6.0",
         "CloseOUOdds": "-125",
         "Year": "2008",
         "_deepnote_index_column": 12
        },
        {
         "Date": 1004,
         "Rot": 52,
         "VH": "H",
         "Team": "Ottawa",
         "1st": 1,
         "2nd": 1,
         "3rd": 1,
         "Final": "3",
         "Open": "-200",
         "Close": -170,
         "OpenOU": "6.0",
         "OpenOUOdds": "110",
         "CloseOU": "6.0",
         "CloseOUOdds": "105",
         "Year": "2008",
         "_deepnote_index_column": 13
        },
        {
         "Date": 1004,
         "Rot": 53,
         "VH": "V",
         "Team": "Florida",
         "1st": 0,
         "2nd": 2,
         "3rd": 0,
         "Final": "2",
         "Open": "160",
         "Close": 170,
         "OpenOU": "5.5",
         "OpenOUOdds": "-105",
         "CloseOU": "5.5",
         "CloseOUOdds": "100",
         "Year": "2008",
         "_deepnote_index_column": 14
        },
        {
         "Date": 1004,
         "Rot": 54,
         "VH": "H",
         "Team": "NYRangers",
         "1st": 1,
         "2nd": 0,
         "3rd": 4,
         "Final": "5",
         "Open": "-180",
         "Close": -190,
         "OpenOU": "5.5",
         "OpenOUOdds": "-115",
         "CloseOU": "5.5",
         "CloseOUOdds": "-120",
         "Year": "2008",
         "_deepnote_index_column": 15
        },
        {
         "Date": 1004,
         "Rot": 55,
         "VH": "V",
         "Team": "NewJersey",
         "1st": 1,
         "2nd": 0,
         "3rd": 0,
         "Final": "1",
         "Open": "115",
         "Close": 115,
         "OpenOU": "5.5",
         "OpenOUOdds": "105",
         "CloseOU": "5.5",
         "CloseOUOdds": "120",
         "Year": "2008",
         "_deepnote_index_column": 16
        },
        {
         "Date": 1004,
         "Rot": 56,
         "VH": "H",
         "Team": "TampaBay",
         "1st": 0,
         "2nd": 1,
         "3rd": 2,
         "Final": "3",
         "Open": "-135",
         "Close": -135,
         "OpenOU": "5.5",
         "OpenOUOdds": "-125",
         "CloseOU": "5.5",
         "CloseOUOdds": "-140",
         "Year": "2008",
         "_deepnote_index_column": 17
        },
        {
         "Date": 1004,
         "Rot": 57,
         "VH": "V",
         "Team": "Colorado",
         "1st": 0,
         "2nd": 0,
         "3rd": 0,
         "Final": "0",
         "Open": "-105",
         "Close": 100,
         "OpenOU": "5.5",
         "OpenOUOdds": "-130",
         "CloseOU": "5.5",
         "CloseOUOdds": "-125",
         "Year": "2008",
         "_deepnote_index_column": 18
        },
        {
         "Date": 1004,
         "Rot": 58,
         "VH": "H",
         "Team": "Nashville",
         "1st": 2,
         "2nd": 1,
         "3rd": 1,
         "Final": "4",
         "Open": "-115",
         "Close": -120,
         "OpenOU": "5.5",
         "OpenOUOdds": "110",
         "CloseOU": "5.5",
         "CloseOUOdds": "105",
         "Year": "2008",
         "_deepnote_index_column": 19
        },
        {
         "Date": 1004,
         "Rot": 59,
         "VH": "V",
         "Team": "Chicago",
         "1st": 0,
         "2nd": 0,
         "3rd": 0,
         "Final": "0",
         "Open": "175",
         "Close": 190,
         "OpenOU": "5.0",
         "OpenOUOdds": "-130",
         "CloseOU": "5.0",
         "CloseOUOdds": "-135",
         "Year": "2008",
         "_deepnote_index_column": 20
        },
        {
         "Date": 1004,
         "Rot": 60,
         "VH": "H",
         "Team": "Minnesota",
         "1st": 0,
         "2nd": 1,
         "3rd": 0,
         "Final": "1",
         "Open": "-205",
         "Close": -230,
         "OpenOU": "5.0",
         "OpenOUOdds": "110",
         "CloseOU": "5.0",
         "CloseOUOdds": "115",
         "Year": "2008",
         "_deepnote_index_column": 21
        },
        {
         "Date": 1004,
         "Rot": 61,
         "VH": "V",
         "Team": "SanJose",
         "1st": 0,
         "2nd": 0,
         "3rd": 2,
         "Final": "2",
         "Open": "-135",
         "Close": -145,
         "OpenOU": "5.5",
         "OpenOUOdds": "-110",
         "CloseOU": "5.5",
         "CloseOUOdds": "110",
         "Year": "2008",
         "_deepnote_index_column": 22
        },
        {
         "Date": 1004,
         "Rot": 62,
         "VH": "H",
         "Team": "Edmonton",
         "1st": 0,
         "2nd": 0,
         "3rd": 2,
         "Final": "3",
         "Open": "115",
         "Close": 125,
         "OpenOU": "5.5",
         "OpenOUOdds": "-110",
         "CloseOU": "5.5",
         "CloseOUOdds": "-130",
         "Year": "2008",
         "_deepnote_index_column": 23
        },
        {
         "Date": 1004,
         "Rot": 63,
         "VH": "V",
         "Team": "Philadelphia",
         "1st": 2,
         "2nd": 0,
         "3rd": 1,
         "Final": "3",
         "Open": "155",
         "Close": 130,
         "OpenOU": "5.5",
         "OpenOUOdds": "-110",
         "CloseOU": "5.5",
         "CloseOUOdds": "-105",
         "Year": "2008",
         "_deepnote_index_column": 24
        },
        {
         "Date": 1004,
         "Rot": 64,
         "VH": "H",
         "Team": "Calgary",
         "1st": 0,
         "2nd": 1,
         "3rd": 1,
         "Final": "2",
         "Open": "-175",
         "Close": -150,
         "OpenOU": "5.5",
         "OpenOUOdds": "-110",
         "CloseOU": "5.5",
         "CloseOUOdds": "-115",
         "Year": "2008",
         "_deepnote_index_column": 25
        },
        {
         "Date": 1004,
         "Rot": 65,
         "VH": "V",
         "Team": "St.Louis",
         "1st": 0,
         "2nd": 0,
         "3rd": 2,
         "Final": "2",
         "Open": "-115",
         "Close": -120,
         "OpenOU": "5.5",
         "OpenOUOdds": "-120",
         "CloseOU": "5.5",
         "CloseOUOdds": "-125",
         "Year": "2008",
         "_deepnote_index_column": 26
        },
        {
         "Date": 1004,
         "Rot": 66,
         "VH": "H",
         "Team": "Phoenix",
         "1st": 0,
         "2nd": 1,
         "3rd": 2,
         "Final": "3",
         "Open": "-105",
         "Close": 100,
         "OpenOU": "5.5",
         "OpenOUOdds": "100",
         "CloseOU": "5.5",
         "CloseOUOdds": "105",
         "Year": "2008",
         "_deepnote_index_column": 27
        },
        {
         "Date": 1005,
         "Rot": 1,
         "VH": "V",
         "Team": "Anaheim",
         "1st": 0,
         "2nd": 0,
         "3rd": 0,
         "Final": "0",
         "Open": "-110",
         "Close": -120,
         "OpenOU": "5.5",
         "OpenOUOdds": "-110",
         "CloseOU": "5.5",
         "CloseOUOdds": "110",
         "Year": "2008",
         "_deepnote_index_column": 28
        },
        {
         "Date": 1005,
         "Rot": 2,
         "VH": "H",
         "Team": "Columbus",
         "1st": 2,
         "2nd": 0,
         "3rd": 2,
         "Final": "4",
         "Open": "-110",
         "Close": 100,
         "OpenOU": "5.5",
         "OpenOUOdds": "-110",
         "CloseOU": "5.5",
         "CloseOUOdds": "-130",
         "Year": "2008",
         "_deepnote_index_column": 29
        },
        {
         "Date": 1005,
         "Rot": 3,
         "VH": "V",
         "Team": "Pittsburgh",
         "1st": 0,
         "2nd": 0,
         "3rd": 1,
         "Final": "1",
         "Open": "-110",
         "Close": -110,
         "OpenOU": "6.5",
         "OpenOUOdds": "-105",
         "CloseOU": "6.5",
         "CloseOUOdds": "100",
         "Year": "2008",
         "_deepnote_index_column": 30
        },
        {
         "Date": 1005,
         "Rot": 4,
         "VH": "H",
         "Team": "Carolina",
         "1st": 2,
         "2nd": 2,
         "3rd": 0,
         "Final": "4",
         "Open": "-110",
         "Close": -110,
         "OpenOU": "6.5",
         "OpenOUOdds": "-115",
         "CloseOU": "6.5",
         "CloseOUOdds": "-120",
         "Year": "2008",
         "_deepnote_index_column": 31
        },
        {
         "Date": 1005,
         "Rot": 5,
         "VH": "V",
         "Team": "NYIslanders",
         "1st": 3,
         "2nd": 2,
         "3rd": 1,
         "Final": "6",
         "Open": "160",
         "Close": 160,
         "OpenOU": "6.0",
         "OpenOUOdds": "-120",
         "CloseOU": "6.0",
         "CloseOUOdds": "-125",
         "Year": "2008",
         "_deepnote_index_column": 32
        }
       ],
       "rows_bottom": [
        {
         "Date": 614,
         "Rot": 2,
         "VH": "H",
         "Team": "Vegas",
         "1st": 1,
         "2nd": 2,
         "3rd": 1,
         "Final": "4",
         "Open": "-270",
         "Close": -260,
         "OpenOU": "2.0",
         "OpenOUOdds": "115",
         "CloseOU": "5.5",
         "CloseOUOdds": "-145",
         "Year": "2021",
         "_deepnote_index_column": 1871
        },
        {
         "Date": 615,
         "Rot": 11,
         "VH": "V",
         "Team": "NYIslanders",
         "1st": 1,
         "2nd": 0,
         "3rd": 1,
         "Final": "2",
         "Open": "160",
         "Close": 175,
         "OpenOU": "5.5",
         "OpenOUOdds": "130",
         "CloseOU": "5.0",
         "CloseOUOdds": "-140",
         "Year": "2021",
         "_deepnote_index_column": 1872
        },
        {
         "Date": 615,
         "Rot": 12,
         "VH": "H",
         "Team": "TampaBay",
         "1st": 1,
         "2nd": 1,
         "3rd": 2,
         "Final": "4",
         "Open": "-190",
         "Close": -195,
         "OpenOU": "5.5",
         "OpenOUOdds": "-150",
         "CloseOU": "5.0",
         "CloseOUOdds": "120",
         "Year": "2021",
         "_deepnote_index_column": 1873
        },
        {
         "Date": 616,
         "Rot": 21,
         "VH": "V",
         "Team": "Montreal",
         "1st": 2,
         "2nd": 1,
         "3rd": 0,
         "Final": "3",
         "Open": "220",
         "Close": 220,
         "OpenOU": "5.5",
         "OpenOUOdds": "120",
         "CloseOU": "5.0",
         "CloseOUOdds": "-140",
         "Year": "2021",
         "_deepnote_index_column": 1874
        },
        {
         "Date": 616,
         "Rot": 22,
         "VH": "H",
         "Team": "Vegas",
         "1st": 0,
         "2nd": 1,
         "3rd": 1,
         "Final": "2",
         "Open": "-270",
         "Close": -250,
         "OpenOU": "5.5",
         "OpenOUOdds": "-140",
         "CloseOU": "5.0",
         "CloseOUOdds": "120",
         "Year": "2021",
         "_deepnote_index_column": 1875
        },
        {
         "Date": 617,
         "Rot": 31,
         "VH": "V",
         "Team": "TampaBay",
         "1st": 1,
         "2nd": 1,
         "3rd": 0,
         "Final": "2",
         "Open": "-140",
         "Close": -129,
         "OpenOU": "5.5",
         "OpenOUOdds": "125",
         "CloseOU": "5.0",
         "CloseOUOdds": "-135",
         "Year": "2021",
         "_deepnote_index_column": 1876
        },
        {
         "Date": 617,
         "Rot": 32,
         "VH": "H",
         "Team": "NYIslanders",
         "1st": 0,
         "2nd": 1,
         "3rd": 0,
         "Final": "1",
         "Open": "120",
         "Close": 119,
         "OpenOU": "5.5",
         "OpenOUOdds": "-145",
         "CloseOU": "5.0",
         "CloseOUOdds": "115",
         "Year": "2021",
         "_deepnote_index_column": 1877
        },
        {
         "Date": 618,
         "Rot": 41,
         "VH": "V",
         "Team": "Vegas",
         "1st": 0,
         "2nd": 1,
         "3rd": 1,
         "Final": "2",
         "Open": "-165",
         "Close": -170,
         "OpenOU": "5.5",
         "OpenOUOdds": "125",
         "CloseOU": "5.0",
         "CloseOUOdds": "-145",
         "Year": "2021",
         "_deepnote_index_column": 1878
        },
        {
         "Date": 618,
         "Rot": 42,
         "VH": "H",
         "Team": "Montreal",
         "1st": 0,
         "2nd": 1,
         "3rd": 1,
         "Final": "3",
         "Open": "140",
         "Close": 155,
         "OpenOU": "5.5",
         "OpenOUOdds": "-145",
         "CloseOU": "5.0",
         "CloseOUOdds": "125",
         "Year": "2021",
         "_deepnote_index_column": 1879
        },
        {
         "Date": 619,
         "Rot": 51,
         "VH": "V",
         "Team": "TampaBay",
         "1st": 0,
         "2nd": 0,
         "3rd": 2,
         "Final": "2",
         "Open": "-135",
         "Close": -120,
         "OpenOU": "5.0",
         "OpenOUOdds": "-125",
         "CloseOU": "5.0",
         "CloseOUOdds": "-130",
         "Year": "2021",
         "_deepnote_index_column": 1880
        },
        {
         "Date": 619,
         "Rot": 52,
         "VH": "H",
         "Team": "NYIslanders",
         "1st": 0,
         "2nd": 3,
         "3rd": 0,
         "Final": "3",
         "Open": "115",
         "Close": 110,
         "OpenOU": "5.0",
         "OpenOUOdds": "105",
         "CloseOU": "5.0",
         "CloseOUOdds": "110",
         "Year": "2021",
         "_deepnote_index_column": 1881
        },
        {
         "Date": 620,
         "Rot": 61,
         "VH": "V",
         "Team": "Vegas",
         "1st": 0,
         "2nd": 0,
         "3rd": 1,
         "Final": "2",
         "Open": "-180",
         "Close": -170,
         "OpenOU": "5.0",
         "OpenOUOdds": "-130",
         "CloseOU": "5.5",
         "CloseOUOdds": "120",
         "Year": "2021",
         "_deepnote_index_column": 1882
        },
        {
         "Date": 620,
         "Rot": 62,
         "VH": "H",
         "Team": "Montreal",
         "1st": 0,
         "2nd": 1,
         "3rd": 0,
         "Final": "1",
         "Open": "150",
         "Close": 155,
         "OpenOU": "5.0",
         "OpenOUOdds": "110",
         "CloseOU": "5.5",
         "CloseOUOdds": "-140",
         "Year": "2021",
         "_deepnote_index_column": 1883
        },
        {
         "Date": 621,
         "Rot": 71,
         "VH": "V",
         "Team": "NY Islanders",
         "1st": 0,
         "2nd": 0,
         "3rd": 0,
         "Final": "0",
         "Open": "165",
         "Close": 165,
         "OpenOU": "5.0",
         "OpenOUOdds": "-135",
         "CloseOU": "5.0",
         "CloseOUOdds": "-135",
         "Year": "2021",
         "_deepnote_index_column": 1884
        },
        {
         "Date": 621,
         "Rot": 72,
         "VH": "H",
         "Team": "Tampa Bay",
         "1st": 3,
         "2nd": 3,
         "3rd": 2,
         "Final": "8",
         "Open": "-195",
         "Close": -185,
         "OpenOU": "5.0",
         "OpenOUOdds": "115",
         "CloseOU": "5.0",
         "CloseOUOdds": "115",
         "Year": "2021",
         "_deepnote_index_column": 1885
        },
        {
         "Date": 622,
         "Rot": 81,
         "VH": "V",
         "Team": "Montreal",
         "1st": 1,
         "2nd": 2,
         "3rd": 1,
         "Final": "4",
         "Open": "205",
         "Close": 205,
         "OpenOU": "5.0",
         "OpenOUOdds": "-135",
         "CloseOU": "5.0",
         "CloseOUOdds": "-135",
         "Year": "2021",
         "_deepnote_index_column": 1886
        },
        {
         "Date": 622,
         "Rot": 82,
         "VH": "H",
         "Team": "Vegas",
         "1st": 0,
         "2nd": 0,
         "3rd": 1,
         "Final": "1",
         "Open": "-255",
         "Close": -230,
         "OpenOU": "5.0",
         "OpenOUOdds": "115",
         "CloseOU": "5.0",
         "CloseOUOdds": "115",
         "Year": "2021",
         "_deepnote_index_column": 1887
        },
        {
         "Date": 623,
         "Rot": 11,
         "VH": "V",
         "Team": "Tampa Bay",
         "1st": 1,
         "2nd": 1,
         "3rd": 0,
         "Final": "2",
         "Open": "-150",
         "Close": -140,
         "OpenOU": "5.0",
         "OpenOUOdds": "-130",
         "CloseOU": "5.0",
         "CloseOUOdds": "-130",
         "Year": "2021",
         "_deepnote_index_column": 1888
        },
        {
         "Date": 623,
         "Rot": 12,
         "VH": "H",
         "Team": "NY Islanders",
         "1st": 0,
         "2nd": 1,
         "3rd": 1,
         "Final": "3",
         "Open": "130",
         "Close": 130,
         "OpenOU": "5.0",
         "OpenOUOdds": "110",
         "CloseOU": "5.0",
         "CloseOUOdds": "110",
         "Year": "2021",
         "_deepnote_index_column": 1889
        },
        {
         "Date": 624,
         "Rot": 21,
         "VH": "V",
         "Team": "Vegas",
         "1st": 1,
         "2nd": 0,
         "3rd": 1,
         "Final": "2",
         "Open": "-140",
         "Close": -135,
         "OpenOU": "5.0",
         "OpenOUOdds": "-130",
         "CloseOU": "5.0",
         "CloseOUOdds": "-130",
         "Year": "2021",
         "_deepnote_index_column": 1890
        },
        {
         "Date": 624,
         "Rot": 22,
         "VH": "H",
         "Team": "Montreal",
         "1st": 1,
         "2nd": 1,
         "3rd": 0,
         "Final": "3",
         "Open": "120",
         "Close": 125,
         "OpenOU": "5.0",
         "OpenOUOdds": "110",
         "CloseOU": "5.0",
         "CloseOUOdds": "110",
         "Year": "2021",
         "_deepnote_index_column": 1891
        },
        {
         "Date": 625,
         "Rot": 31,
         "VH": "V",
         "Team": "NY Islanders",
         "1st": 0,
         "2nd": 0,
         "3rd": 0,
         "Final": "0",
         "Open": "150",
         "Close": 165,
         "OpenOU": "5.0",
         "OpenOUOdds": "-130",
         "CloseOU": "5.0",
         "CloseOUOdds": "-105",
         "Year": "2021",
         "_deepnote_index_column": 1892
        },
        {
         "Date": 625,
         "Rot": 32,
         "VH": "H",
         "Team": "Tampa Bay",
         "1st": 0,
         "2nd": 1,
         "3rd": 0,
         "Final": "1",
         "Open": "-180",
         "Close": -185,
         "OpenOU": "5.0",
         "OpenOUOdds": "110",
         "CloseOU": "5.0",
         "CloseOUOdds": "-115",
         "Year": "2021",
         "_deepnote_index_column": 1893
        },
        {
         "Date": 628,
         "Rot": 61,
         "VH": "V",
         "Team": "Montreal",
         "1st": 0,
         "2nd": 1,
         "3rd": 0,
         "Final": "1",
         "Open": "185",
         "Close": 180,
         "OpenOU": "5.0",
         "OpenOUOdds": "-120",
         "CloseOU": "5.0",
         "CloseOUOdds": "-125",
         "Year": "2021",
         "_deepnote_index_column": 1894
        },
        {
         "Date": 628,
         "Rot": 62,
         "VH": "H",
         "Team": "Tampa Bay",
         "1st": 1,
         "2nd": 1,
         "3rd": 3,
         "Final": "5",
         "Open": "-225",
         "Close": -200,
         "OpenOU": "5.0",
         "OpenOUOdds": "100",
         "CloseOU": "5.0",
         "CloseOUOdds": "105",
         "Year": "2021",
         "_deepnote_index_column": 1895
        },
        {
         "Date": 630,
         "Rot": 81,
         "VH": "V",
         "Team": "Montreal",
         "1st": 0,
         "2nd": 1,
         "3rd": 0,
         "Final": "1",
         "Open": "180",
         "Close": 177,
         "OpenOU": "5.0",
         "OpenOUOdds": "-120",
         "CloseOU": "5.0",
         "CloseOUOdds": "-120",
         "Year": "2021",
         "_deepnote_index_column": 1896
        },
        {
         "Date": 630,
         "Rot": 82,
         "VH": "H",
         "Team": "Tampa Bay",
         "1st": 0,
         "2nd": 2,
         "3rd": 1,
         "Final": "3",
         "Open": "-220",
         "Close": -197,
         "OpenOU": "5.0",
         "OpenOUOdds": "100",
         "CloseOU": "5.0",
         "CloseOUOdds": "100",
         "Year": "2021",
         "_deepnote_index_column": 1897
        },
        {
         "Date": 702,
         "Rot": 11,
         "VH": "V",
         "Team": "Tampa Bay",
         "1st": 2,
         "2nd": 2,
         "3rd": 2,
         "Final": "6",
         "Open": "-145",
         "Close": -123,
         "OpenOU": "5.0",
         "OpenOUOdds": "-120",
         "CloseOU": "5.0",
         "CloseOUOdds": "-120",
         "Year": "2021",
         "_deepnote_index_column": 1898
        },
        {
         "Date": 702,
         "Rot": 12,
         "VH": "H",
         "Team": "Montreal",
         "1st": 1,
         "2nd": 1,
         "3rd": 1,
         "Final": "3",
         "Open": "125",
         "Close": 113,
         "OpenOU": "5.0",
         "OpenOUOdds": "100",
         "CloseOU": "5.0",
         "CloseOUOdds": "100",
         "Year": "2021",
         "_deepnote_index_column": 1899
        },
        {
         "Date": 705,
         "Rot": 21,
         "VH": "V",
         "Team": "Tampa Bay",
         "1st": 0,
         "2nd": 1,
         "3rd": 1,
         "Final": "2",
         "Open": "-145",
         "Close": -150,
         "OpenOU": "5.0",
         "OpenOUOdds": "-135",
         "CloseOU": "5.0",
         "CloseOUOdds": "-140",
         "Year": "2021",
         "_deepnote_index_column": 1900
        },
        {
         "Date": 705,
         "Rot": 22,
         "VH": "H",
         "Team": "Montreal",
         "1st": 1,
         "2nd": 0,
         "3rd": 1,
         "Final": "3",
         "Open": "125",
         "Close": 135,
         "OpenOU": "5.0",
         "OpenOUOdds": "115",
         "CloseOU": "5.0",
         "CloseOUOdds": "120",
         "Year": "2021",
         "_deepnote_index_column": 1901
        },
        {
         "Date": 707,
         "Rot": 31,
         "VH": "V",
         "Team": "Montreal",
         "1st": 0,
         "2nd": 0,
         "3rd": 0,
         "Final": "0",
         "Open": "180",
         "Close": 215,
         "OpenOU": "5.0",
         "OpenOUOdds": "-120",
         "CloseOU": "5.0",
         "CloseOUOdds": "-140",
         "Year": "2021",
         "_deepnote_index_column": 1902
        },
        {
         "Date": 707,
         "Rot": 32,
         "VH": "H",
         "Team": "Tampa Bay",
         "1st": 0,
         "2nd": 1,
         "3rd": 0,
         "Final": "1",
         "Open": "-220",
         "Close": -245,
         "OpenOU": "5.0",
         "OpenOUOdds": "100",
         "CloseOU": "5.0",
         "CloseOUOdds": "120",
         "Year": "2021",
         "_deepnote_index_column": 1903
        }
       ]
      },
      "text/plain": "      Date  Rot VH        Team  1st  2nd  3rd Final  Open  Close OpenOU  \\\n0      929    1  V     Anaheim    0    0    1     1  -155   -123    6.0   \n1      929    2  H  LosAngeles    1    1    2     4   135    103    6.0   \n2      930   51  V  LosAngeles    0    1    0     1   115    132    6.0   \n3      930   52  H     Anaheim    2    2    0     4  -135   -152    6.0   \n4     1003    1  V     Anaheim    0    2    0     2   165    190    5.5   \n...    ...  ... ..         ...  ...  ...  ...   ...   ...    ...    ...   \n1899   702   12  H    Montreal    1    1    1     3   125    113    5.0   \n1900   705   21  V   Tampa Bay    0    1    1     2  -145   -150    5.0   \n1901   705   22  H    Montreal    1    0    1     3   125    135    5.0   \n1902   707   31  V    Montreal    0    0    0     0   180    215    5.0   \n1903   707   32  H   Tampa Bay    0    1    0     1  -220   -245    5.0   \n\n     OpenOUOdds CloseOU CloseOUOdds  Year  \n0           100     6.0        -105  2008  \n1          -120     6.0        -115  2008  \n2          -115     6.0         112  2008  \n3          -105     6.0        -132  2008  \n4           105     5.5         120  2008  \n...         ...     ...         ...   ...  \n1899        100     5.0         100  2021  \n1900       -135     5.0        -140  2021  \n1901        115     5.0         120  2021  \n1902       -120     5.0        -140  2021  \n1903        100     5.0         120  2021  \n\n[35094 rows x 15 columns]",
      "text/html": "<div>\n<style scoped>\n    .dataframe tbody tr th:only-of-type {\n        vertical-align: middle;\n    }\n\n    .dataframe tbody tr th {\n        vertical-align: top;\n    }\n\n    .dataframe thead th {\n        text-align: right;\n    }\n</style>\n<table border=\"1\" class=\"dataframe\">\n  <thead>\n    <tr style=\"text-align: right;\">\n      <th></th>\n      <th>Date</th>\n      <th>Rot</th>\n      <th>VH</th>\n      <th>Team</th>\n      <th>1st</th>\n      <th>2nd</th>\n      <th>3rd</th>\n      <th>Final</th>\n      <th>Open</th>\n      <th>Close</th>\n      <th>OpenOU</th>\n      <th>OpenOUOdds</th>\n      <th>CloseOU</th>\n      <th>CloseOUOdds</th>\n      <th>Year</th>\n    </tr>\n  </thead>\n  <tbody>\n    <tr>\n      <th>0</th>\n      <td>929</td>\n      <td>1</td>\n      <td>V</td>\n      <td>Anaheim</td>\n      <td>0</td>\n      <td>0</td>\n      <td>1</td>\n      <td>1</td>\n      <td>-155</td>\n      <td>-123</td>\n      <td>6.0</td>\n      <td>100</td>\n      <td>6.0</td>\n      <td>-105</td>\n      <td>2008</td>\n    </tr>\n    <tr>\n      <th>1</th>\n      <td>929</td>\n      <td>2</td>\n      <td>H</td>\n      <td>LosAngeles</td>\n      <td>1</td>\n      <td>1</td>\n      <td>2</td>\n      <td>4</td>\n      <td>135</td>\n      <td>103</td>\n      <td>6.0</td>\n      <td>-120</td>\n      <td>6.0</td>\n      <td>-115</td>\n      <td>2008</td>\n    </tr>\n    <tr>\n      <th>2</th>\n      <td>930</td>\n      <td>51</td>\n      <td>V</td>\n      <td>LosAngeles</td>\n      <td>0</td>\n      <td>1</td>\n      <td>0</td>\n      <td>1</td>\n      <td>115</td>\n      <td>132</td>\n      <td>6.0</td>\n      <td>-115</td>\n      <td>6.0</td>\n      <td>112</td>\n      <td>2008</td>\n    </tr>\n    <tr>\n      <th>3</th>\n      <td>930</td>\n      <td>52</td>\n      <td>H</td>\n      <td>Anaheim</td>\n      <td>2</td>\n      <td>2</td>\n      <td>0</td>\n      <td>4</td>\n      <td>-135</td>\n      <td>-152</td>\n      <td>6.0</td>\n      <td>-105</td>\n      <td>6.0</td>\n      <td>-132</td>\n      <td>2008</td>\n    </tr>\n    <tr>\n      <th>4</th>\n      <td>1003</td>\n      <td>1</td>\n      <td>V</td>\n      <td>Anaheim</td>\n      <td>0</td>\n      <td>2</td>\n      <td>0</td>\n      <td>2</td>\n      <td>165</td>\n      <td>190</td>\n      <td>5.5</td>\n      <td>105</td>\n      <td>5.5</td>\n      <td>120</td>\n      <td>2008</td>\n    </tr>\n    <tr>\n      <th>...</th>\n      <td>...</td>\n      <td>...</td>\n      <td>...</td>\n      <td>...</td>\n      <td>...</td>\n      <td>...</td>\n      <td>...</td>\n      <td>...</td>\n      <td>...</td>\n      <td>...</td>\n      <td>...</td>\n      <td>...</td>\n      <td>...</td>\n      <td>...</td>\n      <td>...</td>\n    </tr>\n    <tr>\n      <th>1899</th>\n      <td>702</td>\n      <td>12</td>\n      <td>H</td>\n      <td>Montreal</td>\n      <td>1</td>\n      <td>1</td>\n      <td>1</td>\n      <td>3</td>\n      <td>125</td>\n      <td>113</td>\n      <td>5.0</td>\n      <td>100</td>\n      <td>5.0</td>\n      <td>100</td>\n      <td>2021</td>\n    </tr>\n    <tr>\n      <th>1900</th>\n      <td>705</td>\n      <td>21</td>\n      <td>V</td>\n      <td>Tampa Bay</td>\n      <td>0</td>\n      <td>1</td>\n      <td>1</td>\n      <td>2</td>\n      <td>-145</td>\n      <td>-150</td>\n      <td>5.0</td>\n      <td>-135</td>\n      <td>5.0</td>\n      <td>-140</td>\n      <td>2021</td>\n    </tr>\n    <tr>\n      <th>1901</th>\n      <td>705</td>\n      <td>22</td>\n      <td>H</td>\n      <td>Montreal</td>\n      <td>1</td>\n      <td>0</td>\n      <td>1</td>\n      <td>3</td>\n      <td>125</td>\n      <td>135</td>\n      <td>5.0</td>\n      <td>115</td>\n      <td>5.0</td>\n      <td>120</td>\n      <td>2021</td>\n    </tr>\n    <tr>\n      <th>1902</th>\n      <td>707</td>\n      <td>31</td>\n      <td>V</td>\n      <td>Montreal</td>\n      <td>0</td>\n      <td>0</td>\n      <td>0</td>\n      <td>0</td>\n      <td>180</td>\n      <td>215</td>\n      <td>5.0</td>\n      <td>-120</td>\n      <td>5.0</td>\n      <td>-140</td>\n      <td>2021</td>\n    </tr>\n    <tr>\n      <th>1903</th>\n      <td>707</td>\n      <td>32</td>\n      <td>H</td>\n      <td>Tampa Bay</td>\n      <td>0</td>\n      <td>1</td>\n      <td>0</td>\n      <td>1</td>\n      <td>-220</td>\n      <td>-245</td>\n      <td>5.0</td>\n      <td>100</td>\n      <td>5.0</td>\n      <td>120</td>\n      <td>2021</td>\n    </tr>\n  </tbody>\n</table>\n<p>35094 rows × 15 columns</p>\n</div>"
     },
     "metadata": {}
    }
   ],
   "execution_count": null
  },
  {
   "cell_type": "code",
   "source": "",
   "metadata": {
    "cell_id": "00008-269e0924-a706-4a40-9740-dab6c869b65c",
    "deepnote_to_be_reexecuted": false,
    "source_hash": "b623e53d",
    "execution_start": 1633407128681,
    "execution_millis": 1,
    "deepnote_cell_type": "visualization"
   },
   "outputs": [],
   "execution_count": null
  },
  {
   "cell_type": "code",
   "metadata": {
    "tags": [],
    "cell_id": "00008-13d3c3b0-aa09-4b3e-8b9c-83028a51ab78",
    "deepnote_to_be_reexecuted": false,
    "source_hash": "ee2d8f6e",
    "execution_start": 1633407128705,
    "execution_millis": 548,
    "deepnote_cell_type": "code"
   },
   "source": "combined_df['Open'].iloc[33752] = -110\ncombined_df['Open'].iloc[33753] = -110\ncombined_df['Open'] = pd.to_numeric(combined_df['Open'])\n\ncombined_df['Final'].iloc[33875] = 5\ncombined_df['Final'] = pd.to_numeric(combined_df['Final'])\n\ncombined_df['CloseOUOdds'].iloc[34658] = 100\n\n'''\nOpen                  0\nClose                 0\nOpenOU               NL\nOpenOUOdds           NL\nCloseOU              NL\nCloseOUOdds          NL\n'''\n\ncombined_df.loc[combined_df.Open == 0, 'Open'] = np.nan\ncombined_df.fillna(-110, inplace=True)\ncombined_df.loc[combined_df.Close == 0, 'Close'] = np.nan\ncombined_df.fillna(-110, inplace=True)\ncombined_df.loc[combined_df.OpenOU == 'NL', 'OpenOU'] = np.nan\ncombined_df.fillna(5.5, inplace=True)\ncombined_df.loc[combined_df.CloseOU == 'NL', 'CloseOU'] = np.nan\ncombined_df.fillna(5.5, inplace=True)\ncombined_df.loc[combined_df.OpenOUOdds == 'NL', 'OpenOUOdds'] = np.nan\ncombined_df.fillna(-110, inplace=True)\ncombined_df.loc[combined_df.CloseOUOdds == 'NL', 'CloseOUOdds'] = np.nan\ncombined_df.fillna(-110, inplace=True)\n\ncombined_df['OpenOU'] = pd.to_numeric(combined_df['OpenOU'])\ncombined_df['CloseOU'] = pd.to_numeric(combined_df['CloseOU'])\ncombined_df['OpenOUOdds'] = pd.to_numeric(combined_df['OpenOUOdds'])\ncombined_df['CloseOUOdds'] = pd.to_numeric(combined_df['CloseOUOdds'])\n\ncombined_df.loc[combined_df.OpenOU < 0, 'OpenOU'] = np.nan\ncombined_df.fillna(5.5, inplace=True)\ncombined_df.loc[combined_df.CloseOU < 0, 'CloseOU'] = np.nan\ncombined_df.fillna(5.5, inplace=True)\n\ncombined_df",
   "outputs": [
    {
     "name": "stderr",
     "text": "/shared-libs/python3.7/py/lib/python3.7/site-packages/pandas/core/indexing.py:1637: SettingWithCopyWarning: \nA value is trying to be set on a copy of a slice from a DataFrame\n\nSee the caveats in the documentation: https://pandas.pydata.org/pandas-docs/stable/user_guide/indexing.html#returning-a-view-versus-a-copy\n  self._setitem_single_block(indexer, value, name)\n",
     "output_type": "stream"
    },
    {
     "output_type": "execute_result",
     "execution_count": 8,
     "data": {
      "application/vnd.deepnote.dataframe.v2+json": {
       "row_count": 35094,
       "column_count": 15,
       "columns": [
        {
         "name": "Date",
         "dtype": "int64",
         "stats": {
          "unique_count": 324,
          "nan_count": 0,
          "min": "101",
          "max": "1231",
          "histogram": [
           {
            "bin_start": 101,
            "bin_end": 214,
            "count": 7382
           },
           {
            "bin_start": 214,
            "bin_end": 327,
            "count": 7666
           },
           {
            "bin_start": 327,
            "bin_end": 440,
            "count": 4486
           },
           {
            "bin_start": 440,
            "bin_end": 553,
            "count": 1100
           },
           {
            "bin_start": 553,
            "bin_end": 666,
            "count": 198
           },
           {
            "bin_start": 666,
            "bin_end": 779,
            "count": 6
           },
           {
            "bin_start": 779,
            "bin_end": 892,
            "count": 210
           },
           {
            "bin_start": 892,
            "bin_end": 1005,
            "count": 238
           },
           {
            "bin_start": 1005,
            "bin_end": 1118,
            "count": 6592
           },
           {
            "bin_start": 1118,
            "bin_end": 1231,
            "count": 7216
           }
          ]
         }
        },
        {
         "name": "Rot",
         "dtype": "int64",
         "stats": {
          "unique_count": 90,
          "nan_count": 0,
          "min": "1",
          "max": "90",
          "histogram": [
           {
            "bin_start": 1,
            "bin_end": 9.9,
            "count": 9003
           },
           {
            "bin_start": 9.9,
            "bin_end": 18.8,
            "count": 5273
           },
           {
            "bin_start": 18.8,
            "bin_end": 27.700000000000003,
            "count": 2179
           },
           {
            "bin_start": 27.700000000000003,
            "bin_end": 36.6,
            "count": 825
           },
           {
            "bin_start": 36.6,
            "bin_end": 45.5,
            "count": 724
           },
           {
            "bin_start": 45.5,
            "bin_end": 54.400000000000006,
            "count": 4672
           },
           {
            "bin_start": 54.400000000000006,
            "bin_end": 63.300000000000004,
            "count": 7422
           },
           {
            "bin_start": 63.300000000000004,
            "bin_end": 72.2,
            "count": 3894
           },
           {
            "bin_start": 72.2,
            "bin_end": 81.10000000000001,
            "count": 907
           },
           {
            "bin_start": 81.10000000000001,
            "bin_end": 90,
            "count": 195
           }
          ]
         }
        },
        {
         "name": "VH",
         "dtype": "object"
        },
        {
         "name": "Team",
         "dtype": "object"
        },
        {
         "name": "1st",
         "dtype": "int64"
        },
        {
         "name": "2nd",
         "dtype": "int64"
        },
        {
         "name": "3rd",
         "dtype": "int64"
        },
        {
         "name": "Final",
         "dtype": "int64"
        },
        {
         "name": "Open",
         "dtype": "float64"
        },
        {
         "name": "Close",
         "dtype": "float64"
        },
        {
         "name": "OpenOU",
         "dtype": "float64"
        },
        {
         "name": "OpenOUOdds",
         "dtype": "int64"
        },
        {
         "name": "CloseOU",
         "dtype": "float64"
        },
        {
         "name": "CloseOUOdds",
         "dtype": "int64"
        },
        {
         "name": "Year",
         "dtype": "object"
        },
        {
         "name": "_deepnote_index_column",
         "dtype": "int64"
        }
       ],
       "rows_top": [
        {
         "Date": 929,
         "Rot": 1,
         "VH": "V",
         "Team": "Anaheim",
         "1st": 0,
         "2nd": 0,
         "3rd": 1,
         "Final": 1,
         "Open": -155,
         "Close": -123,
         "OpenOU": 6,
         "OpenOUOdds": 100,
         "CloseOU": 6,
         "CloseOUOdds": -105,
         "Year": "2008",
         "_deepnote_index_column": 0
        },
        {
         "Date": 929,
         "Rot": 2,
         "VH": "H",
         "Team": "LosAngeles",
         "1st": 1,
         "2nd": 1,
         "3rd": 2,
         "Final": 4,
         "Open": 135,
         "Close": 103,
         "OpenOU": 6,
         "OpenOUOdds": -120,
         "CloseOU": 6,
         "CloseOUOdds": -115,
         "Year": "2008",
         "_deepnote_index_column": 1
        },
        {
         "Date": 930,
         "Rot": 51,
         "VH": "V",
         "Team": "LosAngeles",
         "1st": 0,
         "2nd": 1,
         "3rd": 0,
         "Final": 1,
         "Open": 115,
         "Close": 132,
         "OpenOU": 6,
         "OpenOUOdds": -115,
         "CloseOU": 6,
         "CloseOUOdds": 112,
         "Year": "2008",
         "_deepnote_index_column": 2
        },
        {
         "Date": 930,
         "Rot": 52,
         "VH": "H",
         "Team": "Anaheim",
         "1st": 2,
         "2nd": 2,
         "3rd": 0,
         "Final": 4,
         "Open": -135,
         "Close": -152,
         "OpenOU": 6,
         "OpenOUOdds": -105,
         "CloseOU": 6,
         "CloseOUOdds": -132,
         "Year": "2008",
         "_deepnote_index_column": 3
        },
        {
         "Date": 1003,
         "Rot": 1,
         "VH": "V",
         "Team": "Anaheim",
         "1st": 0,
         "2nd": 2,
         "3rd": 0,
         "Final": 2,
         "Open": 165,
         "Close": 190,
         "OpenOU": 5.5,
         "OpenOUOdds": 105,
         "CloseOU": 5.5,
         "CloseOUOdds": 120,
         "Year": "2008",
         "_deepnote_index_column": 4
        },
        {
         "Date": 1003,
         "Rot": 2,
         "VH": "H",
         "Team": "Detroit",
         "1st": 1,
         "2nd": 0,
         "3rd": 1,
         "Final": 3,
         "Open": -185,
         "Close": -230,
         "OpenOU": 5.5,
         "OpenOUOdds": -125,
         "CloseOU": 5.5,
         "CloseOUOdds": -140,
         "Year": "2008",
         "_deepnote_index_column": 5
        },
        {
         "Date": 1003,
         "Rot": 3,
         "VH": "V",
         "Team": "Montreal",
         "1st": 1,
         "2nd": 0,
         "3rd": 1,
         "Final": 3,
         "Open": 130,
         "Close": 140,
         "OpenOU": 6,
         "OpenOUOdds": -105,
         "CloseOU": 6,
         "CloseOUOdds": 110,
         "Year": "2008",
         "_deepnote_index_column": 6
        },
        {
         "Date": 1003,
         "Rot": 4,
         "VH": "H",
         "Team": "Carolina",
         "1st": 1,
         "2nd": 0,
         "3rd": 1,
         "Final": 2,
         "Open": -150,
         "Close": -160,
         "OpenOU": 6,
         "OpenOUOdds": -115,
         "CloseOU": 6,
         "CloseOUOdds": -130,
         "Year": "2008",
         "_deepnote_index_column": 7
        },
        {
         "Date": 1003,
         "Rot": 5,
         "VH": "V",
         "Team": "Ottawa",
         "1st": 2,
         "2nd": 0,
         "3rd": 1,
         "Final": 4,
         "Open": -120,
         "Close": -125,
         "OpenOU": 6,
         "OpenOUOdds": -120,
         "CloseOU": 6,
         "CloseOUOdds": -135,
         "Year": "2008",
         "_deepnote_index_column": 8
        },
        {
         "Date": 1003,
         "Rot": 6,
         "VH": "H",
         "Team": "Toronto",
         "1st": 2,
         "2nd": 1,
         "3rd": 0,
         "Final": 3,
         "Open": 100,
         "Close": 105,
         "OpenOU": 6,
         "OpenOUOdds": 100,
         "CloseOU": 6,
         "CloseOUOdds": 115,
         "Year": "2008",
         "_deepnote_index_column": 9
        },
        {
         "Date": 1003,
         "Rot": 7,
         "VH": "V",
         "Team": "Dallas",
         "1st": 0,
         "2nd": 1,
         "3rd": 2,
         "Final": 3,
         "Open": 115,
         "Close": 135,
         "OpenOU": 5.5,
         "OpenOUOdds": -115,
         "CloseOU": 5.5,
         "CloseOUOdds": -115,
         "Year": "2008",
         "_deepnote_index_column": 10
        },
        {
         "Date": 1003,
         "Rot": 8,
         "VH": "H",
         "Team": "Colorado",
         "1st": 1,
         "2nd": 3,
         "3rd": 0,
         "Final": 4,
         "Open": -135,
         "Close": -155,
         "OpenOU": 5.5,
         "OpenOUOdds": -105,
         "CloseOU": 5.5,
         "CloseOUOdds": -105,
         "Year": "2008",
         "_deepnote_index_column": 11
        },
        {
         "Date": 1004,
         "Rot": 51,
         "VH": "V",
         "Team": "Toronto",
         "1st": 0,
         "2nd": 2,
         "3rd": 0,
         "Final": 2,
         "Open": 170,
         "Close": 150,
         "OpenOU": 6,
         "OpenOUOdds": -130,
         "CloseOU": 6,
         "CloseOUOdds": -125,
         "Year": "2008",
         "_deepnote_index_column": 12
        },
        {
         "Date": 1004,
         "Rot": 52,
         "VH": "H",
         "Team": "Ottawa",
         "1st": 1,
         "2nd": 1,
         "3rd": 1,
         "Final": 3,
         "Open": -200,
         "Close": -170,
         "OpenOU": 6,
         "OpenOUOdds": 110,
         "CloseOU": 6,
         "CloseOUOdds": 105,
         "Year": "2008",
         "_deepnote_index_column": 13
        },
        {
         "Date": 1004,
         "Rot": 53,
         "VH": "V",
         "Team": "Florida",
         "1st": 0,
         "2nd": 2,
         "3rd": 0,
         "Final": 2,
         "Open": 160,
         "Close": 170,
         "OpenOU": 5.5,
         "OpenOUOdds": -105,
         "CloseOU": 5.5,
         "CloseOUOdds": 100,
         "Year": "2008",
         "_deepnote_index_column": 14
        },
        {
         "Date": 1004,
         "Rot": 54,
         "VH": "H",
         "Team": "NYRangers",
         "1st": 1,
         "2nd": 0,
         "3rd": 4,
         "Final": 5,
         "Open": -180,
         "Close": -190,
         "OpenOU": 5.5,
         "OpenOUOdds": -115,
         "CloseOU": 5.5,
         "CloseOUOdds": -120,
         "Year": "2008",
         "_deepnote_index_column": 15
        },
        {
         "Date": 1004,
         "Rot": 55,
         "VH": "V",
         "Team": "NewJersey",
         "1st": 1,
         "2nd": 0,
         "3rd": 0,
         "Final": 1,
         "Open": 115,
         "Close": 115,
         "OpenOU": 5.5,
         "OpenOUOdds": 105,
         "CloseOU": 5.5,
         "CloseOUOdds": 120,
         "Year": "2008",
         "_deepnote_index_column": 16
        },
        {
         "Date": 1004,
         "Rot": 56,
         "VH": "H",
         "Team": "TampaBay",
         "1st": 0,
         "2nd": 1,
         "3rd": 2,
         "Final": 3,
         "Open": -135,
         "Close": -135,
         "OpenOU": 5.5,
         "OpenOUOdds": -125,
         "CloseOU": 5.5,
         "CloseOUOdds": -140,
         "Year": "2008",
         "_deepnote_index_column": 17
        },
        {
         "Date": 1004,
         "Rot": 57,
         "VH": "V",
         "Team": "Colorado",
         "1st": 0,
         "2nd": 0,
         "3rd": 0,
         "Final": 0,
         "Open": -105,
         "Close": 100,
         "OpenOU": 5.5,
         "OpenOUOdds": -130,
         "CloseOU": 5.5,
         "CloseOUOdds": -125,
         "Year": "2008",
         "_deepnote_index_column": 18
        },
        {
         "Date": 1004,
         "Rot": 58,
         "VH": "H",
         "Team": "Nashville",
         "1st": 2,
         "2nd": 1,
         "3rd": 1,
         "Final": 4,
         "Open": -115,
         "Close": -120,
         "OpenOU": 5.5,
         "OpenOUOdds": 110,
         "CloseOU": 5.5,
         "CloseOUOdds": 105,
         "Year": "2008",
         "_deepnote_index_column": 19
        },
        {
         "Date": 1004,
         "Rot": 59,
         "VH": "V",
         "Team": "Chicago",
         "1st": 0,
         "2nd": 0,
         "3rd": 0,
         "Final": 0,
         "Open": 175,
         "Close": 190,
         "OpenOU": 5,
         "OpenOUOdds": -130,
         "CloseOU": 5,
         "CloseOUOdds": -135,
         "Year": "2008",
         "_deepnote_index_column": 20
        },
        {
         "Date": 1004,
         "Rot": 60,
         "VH": "H",
         "Team": "Minnesota",
         "1st": 0,
         "2nd": 1,
         "3rd": 0,
         "Final": 1,
         "Open": -205,
         "Close": -230,
         "OpenOU": 5,
         "OpenOUOdds": 110,
         "CloseOU": 5,
         "CloseOUOdds": 115,
         "Year": "2008",
         "_deepnote_index_column": 21
        },
        {
         "Date": 1004,
         "Rot": 61,
         "VH": "V",
         "Team": "SanJose",
         "1st": 0,
         "2nd": 0,
         "3rd": 2,
         "Final": 2,
         "Open": -135,
         "Close": -145,
         "OpenOU": 5.5,
         "OpenOUOdds": -110,
         "CloseOU": 5.5,
         "CloseOUOdds": 110,
         "Year": "2008",
         "_deepnote_index_column": 22
        },
        {
         "Date": 1004,
         "Rot": 62,
         "VH": "H",
         "Team": "Edmonton",
         "1st": 0,
         "2nd": 0,
         "3rd": 2,
         "Final": 3,
         "Open": 115,
         "Close": 125,
         "OpenOU": 5.5,
         "OpenOUOdds": -110,
         "CloseOU": 5.5,
         "CloseOUOdds": -130,
         "Year": "2008",
         "_deepnote_index_column": 23
        },
        {
         "Date": 1004,
         "Rot": 63,
         "VH": "V",
         "Team": "Philadelphia",
         "1st": 2,
         "2nd": 0,
         "3rd": 1,
         "Final": 3,
         "Open": 155,
         "Close": 130,
         "OpenOU": 5.5,
         "OpenOUOdds": -110,
         "CloseOU": 5.5,
         "CloseOUOdds": -105,
         "Year": "2008",
         "_deepnote_index_column": 24
        },
        {
         "Date": 1004,
         "Rot": 64,
         "VH": "H",
         "Team": "Calgary",
         "1st": 0,
         "2nd": 1,
         "3rd": 1,
         "Final": 2,
         "Open": -175,
         "Close": -150,
         "OpenOU": 5.5,
         "OpenOUOdds": -110,
         "CloseOU": 5.5,
         "CloseOUOdds": -115,
         "Year": "2008",
         "_deepnote_index_column": 25
        },
        {
         "Date": 1004,
         "Rot": 65,
         "VH": "V",
         "Team": "St.Louis",
         "1st": 0,
         "2nd": 0,
         "3rd": 2,
         "Final": 2,
         "Open": -115,
         "Close": -120,
         "OpenOU": 5.5,
         "OpenOUOdds": -120,
         "CloseOU": 5.5,
         "CloseOUOdds": -125,
         "Year": "2008",
         "_deepnote_index_column": 26
        },
        {
         "Date": 1004,
         "Rot": 66,
         "VH": "H",
         "Team": "Phoenix",
         "1st": 0,
         "2nd": 1,
         "3rd": 2,
         "Final": 3,
         "Open": -105,
         "Close": 100,
         "OpenOU": 5.5,
         "OpenOUOdds": 100,
         "CloseOU": 5.5,
         "CloseOUOdds": 105,
         "Year": "2008",
         "_deepnote_index_column": 27
        },
        {
         "Date": 1005,
         "Rot": 1,
         "VH": "V",
         "Team": "Anaheim",
         "1st": 0,
         "2nd": 0,
         "3rd": 0,
         "Final": 0,
         "Open": -110,
         "Close": -120,
         "OpenOU": 5.5,
         "OpenOUOdds": -110,
         "CloseOU": 5.5,
         "CloseOUOdds": 110,
         "Year": "2008",
         "_deepnote_index_column": 28
        },
        {
         "Date": 1005,
         "Rot": 2,
         "VH": "H",
         "Team": "Columbus",
         "1st": 2,
         "2nd": 0,
         "3rd": 2,
         "Final": 4,
         "Open": -110,
         "Close": 100,
         "OpenOU": 5.5,
         "OpenOUOdds": -110,
         "CloseOU": 5.5,
         "CloseOUOdds": -130,
         "Year": "2008",
         "_deepnote_index_column": 29
        },
        {
         "Date": 1005,
         "Rot": 3,
         "VH": "V",
         "Team": "Pittsburgh",
         "1st": 0,
         "2nd": 0,
         "3rd": 1,
         "Final": 1,
         "Open": -110,
         "Close": -110,
         "OpenOU": 6.5,
         "OpenOUOdds": -105,
         "CloseOU": 6.5,
         "CloseOUOdds": 100,
         "Year": "2008",
         "_deepnote_index_column": 30
        },
        {
         "Date": 1005,
         "Rot": 4,
         "VH": "H",
         "Team": "Carolina",
         "1st": 2,
         "2nd": 2,
         "3rd": 0,
         "Final": 4,
         "Open": -110,
         "Close": -110,
         "OpenOU": 6.5,
         "OpenOUOdds": -115,
         "CloseOU": 6.5,
         "CloseOUOdds": -120,
         "Year": "2008",
         "_deepnote_index_column": 31
        },
        {
         "Date": 1005,
         "Rot": 5,
         "VH": "V",
         "Team": "NYIslanders",
         "1st": 3,
         "2nd": 2,
         "3rd": 1,
         "Final": 6,
         "Open": 160,
         "Close": 160,
         "OpenOU": 6,
         "OpenOUOdds": -120,
         "CloseOU": 6,
         "CloseOUOdds": -125,
         "Year": "2008",
         "_deepnote_index_column": 32
        }
       ],
       "rows_bottom": [
        {
         "Date": 614,
         "Rot": 2,
         "VH": "H",
         "Team": "Vegas",
         "1st": 1,
         "2nd": 2,
         "3rd": 1,
         "Final": 4,
         "Open": -270,
         "Close": -260,
         "OpenOU": 2,
         "OpenOUOdds": 115,
         "CloseOU": 5.5,
         "CloseOUOdds": -145,
         "Year": "2021",
         "_deepnote_index_column": 1871
        },
        {
         "Date": 615,
         "Rot": 11,
         "VH": "V",
         "Team": "NYIslanders",
         "1st": 1,
         "2nd": 0,
         "3rd": 1,
         "Final": 2,
         "Open": 160,
         "Close": 175,
         "OpenOU": 5.5,
         "OpenOUOdds": 130,
         "CloseOU": 5,
         "CloseOUOdds": -140,
         "Year": "2021",
         "_deepnote_index_column": 1872
        },
        {
         "Date": 615,
         "Rot": 12,
         "VH": "H",
         "Team": "TampaBay",
         "1st": 1,
         "2nd": 1,
         "3rd": 2,
         "Final": 4,
         "Open": -190,
         "Close": -195,
         "OpenOU": 5.5,
         "OpenOUOdds": -150,
         "CloseOU": 5,
         "CloseOUOdds": 120,
         "Year": "2021",
         "_deepnote_index_column": 1873
        },
        {
         "Date": 616,
         "Rot": 21,
         "VH": "V",
         "Team": "Montreal",
         "1st": 2,
         "2nd": 1,
         "3rd": 0,
         "Final": 3,
         "Open": 220,
         "Close": 220,
         "OpenOU": 5.5,
         "OpenOUOdds": 120,
         "CloseOU": 5,
         "CloseOUOdds": -140,
         "Year": "2021",
         "_deepnote_index_column": 1874
        },
        {
         "Date": 616,
         "Rot": 22,
         "VH": "H",
         "Team": "Vegas",
         "1st": 0,
         "2nd": 1,
         "3rd": 1,
         "Final": 2,
         "Open": -270,
         "Close": -250,
         "OpenOU": 5.5,
         "OpenOUOdds": -140,
         "CloseOU": 5,
         "CloseOUOdds": 120,
         "Year": "2021",
         "_deepnote_index_column": 1875
        },
        {
         "Date": 617,
         "Rot": 31,
         "VH": "V",
         "Team": "TampaBay",
         "1st": 1,
         "2nd": 1,
         "3rd": 0,
         "Final": 2,
         "Open": -140,
         "Close": -129,
         "OpenOU": 5.5,
         "OpenOUOdds": 125,
         "CloseOU": 5,
         "CloseOUOdds": -135,
         "Year": "2021",
         "_deepnote_index_column": 1876
        },
        {
         "Date": 617,
         "Rot": 32,
         "VH": "H",
         "Team": "NYIslanders",
         "1st": 0,
         "2nd": 1,
         "3rd": 0,
         "Final": 1,
         "Open": 120,
         "Close": 119,
         "OpenOU": 5.5,
         "OpenOUOdds": -145,
         "CloseOU": 5,
         "CloseOUOdds": 115,
         "Year": "2021",
         "_deepnote_index_column": 1877
        },
        {
         "Date": 618,
         "Rot": 41,
         "VH": "V",
         "Team": "Vegas",
         "1st": 0,
         "2nd": 1,
         "3rd": 1,
         "Final": 2,
         "Open": -165,
         "Close": -170,
         "OpenOU": 5.5,
         "OpenOUOdds": 125,
         "CloseOU": 5,
         "CloseOUOdds": -145,
         "Year": "2021",
         "_deepnote_index_column": 1878
        },
        {
         "Date": 618,
         "Rot": 42,
         "VH": "H",
         "Team": "Montreal",
         "1st": 0,
         "2nd": 1,
         "3rd": 1,
         "Final": 3,
         "Open": 140,
         "Close": 155,
         "OpenOU": 5.5,
         "OpenOUOdds": -145,
         "CloseOU": 5,
         "CloseOUOdds": 125,
         "Year": "2021",
         "_deepnote_index_column": 1879
        },
        {
         "Date": 619,
         "Rot": 51,
         "VH": "V",
         "Team": "TampaBay",
         "1st": 0,
         "2nd": 0,
         "3rd": 2,
         "Final": 2,
         "Open": -135,
         "Close": -120,
         "OpenOU": 5,
         "OpenOUOdds": -125,
         "CloseOU": 5,
         "CloseOUOdds": -130,
         "Year": "2021",
         "_deepnote_index_column": 1880
        },
        {
         "Date": 619,
         "Rot": 52,
         "VH": "H",
         "Team": "NYIslanders",
         "1st": 0,
         "2nd": 3,
         "3rd": 0,
         "Final": 3,
         "Open": 115,
         "Close": 110,
         "OpenOU": 5,
         "OpenOUOdds": 105,
         "CloseOU": 5,
         "CloseOUOdds": 110,
         "Year": "2021",
         "_deepnote_index_column": 1881
        },
        {
         "Date": 620,
         "Rot": 61,
         "VH": "V",
         "Team": "Vegas",
         "1st": 0,
         "2nd": 0,
         "3rd": 1,
         "Final": 2,
         "Open": -180,
         "Close": -170,
         "OpenOU": 5,
         "OpenOUOdds": -130,
         "CloseOU": 5.5,
         "CloseOUOdds": 120,
         "Year": "2021",
         "_deepnote_index_column": 1882
        },
        {
         "Date": 620,
         "Rot": 62,
         "VH": "H",
         "Team": "Montreal",
         "1st": 0,
         "2nd": 1,
         "3rd": 0,
         "Final": 1,
         "Open": 150,
         "Close": 155,
         "OpenOU": 5,
         "OpenOUOdds": 110,
         "CloseOU": 5.5,
         "CloseOUOdds": -140,
         "Year": "2021",
         "_deepnote_index_column": 1883
        },
        {
         "Date": 621,
         "Rot": 71,
         "VH": "V",
         "Team": "NY Islanders",
         "1st": 0,
         "2nd": 0,
         "3rd": 0,
         "Final": 0,
         "Open": 165,
         "Close": 165,
         "OpenOU": 5,
         "OpenOUOdds": -135,
         "CloseOU": 5,
         "CloseOUOdds": -135,
         "Year": "2021",
         "_deepnote_index_column": 1884
        },
        {
         "Date": 621,
         "Rot": 72,
         "VH": "H",
         "Team": "Tampa Bay",
         "1st": 3,
         "2nd": 3,
         "3rd": 2,
         "Final": 8,
         "Open": -195,
         "Close": -185,
         "OpenOU": 5,
         "OpenOUOdds": 115,
         "CloseOU": 5,
         "CloseOUOdds": 115,
         "Year": "2021",
         "_deepnote_index_column": 1885
        },
        {
         "Date": 622,
         "Rot": 81,
         "VH": "V",
         "Team": "Montreal",
         "1st": 1,
         "2nd": 2,
         "3rd": 1,
         "Final": 4,
         "Open": 205,
         "Close": 205,
         "OpenOU": 5,
         "OpenOUOdds": -135,
         "CloseOU": 5,
         "CloseOUOdds": -135,
         "Year": "2021",
         "_deepnote_index_column": 1886
        },
        {
         "Date": 622,
         "Rot": 82,
         "VH": "H",
         "Team": "Vegas",
         "1st": 0,
         "2nd": 0,
         "3rd": 1,
         "Final": 1,
         "Open": -255,
         "Close": -230,
         "OpenOU": 5,
         "OpenOUOdds": 115,
         "CloseOU": 5,
         "CloseOUOdds": 115,
         "Year": "2021",
         "_deepnote_index_column": 1887
        },
        {
         "Date": 623,
         "Rot": 11,
         "VH": "V",
         "Team": "Tampa Bay",
         "1st": 1,
         "2nd": 1,
         "3rd": 0,
         "Final": 2,
         "Open": -150,
         "Close": -140,
         "OpenOU": 5,
         "OpenOUOdds": -130,
         "CloseOU": 5,
         "CloseOUOdds": -130,
         "Year": "2021",
         "_deepnote_index_column": 1888
        },
        {
         "Date": 623,
         "Rot": 12,
         "VH": "H",
         "Team": "NY Islanders",
         "1st": 0,
         "2nd": 1,
         "3rd": 1,
         "Final": 3,
         "Open": 130,
         "Close": 130,
         "OpenOU": 5,
         "OpenOUOdds": 110,
         "CloseOU": 5,
         "CloseOUOdds": 110,
         "Year": "2021",
         "_deepnote_index_column": 1889
        },
        {
         "Date": 624,
         "Rot": 21,
         "VH": "V",
         "Team": "Vegas",
         "1st": 1,
         "2nd": 0,
         "3rd": 1,
         "Final": 2,
         "Open": -140,
         "Close": -135,
         "OpenOU": 5,
         "OpenOUOdds": -130,
         "CloseOU": 5,
         "CloseOUOdds": -130,
         "Year": "2021",
         "_deepnote_index_column": 1890
        },
        {
         "Date": 624,
         "Rot": 22,
         "VH": "H",
         "Team": "Montreal",
         "1st": 1,
         "2nd": 1,
         "3rd": 0,
         "Final": 3,
         "Open": 120,
         "Close": 125,
         "OpenOU": 5,
         "OpenOUOdds": 110,
         "CloseOU": 5,
         "CloseOUOdds": 110,
         "Year": "2021",
         "_deepnote_index_column": 1891
        },
        {
         "Date": 625,
         "Rot": 31,
         "VH": "V",
         "Team": "NY Islanders",
         "1st": 0,
         "2nd": 0,
         "3rd": 0,
         "Final": 0,
         "Open": 150,
         "Close": 165,
         "OpenOU": 5,
         "OpenOUOdds": -130,
         "CloseOU": 5,
         "CloseOUOdds": -105,
         "Year": "2021",
         "_deepnote_index_column": 1892
        },
        {
         "Date": 625,
         "Rot": 32,
         "VH": "H",
         "Team": "Tampa Bay",
         "1st": 0,
         "2nd": 1,
         "3rd": 0,
         "Final": 1,
         "Open": -180,
         "Close": -185,
         "OpenOU": 5,
         "OpenOUOdds": 110,
         "CloseOU": 5,
         "CloseOUOdds": -115,
         "Year": "2021",
         "_deepnote_index_column": 1893
        },
        {
         "Date": 628,
         "Rot": 61,
         "VH": "V",
         "Team": "Montreal",
         "1st": 0,
         "2nd": 1,
         "3rd": 0,
         "Final": 1,
         "Open": 185,
         "Close": 180,
         "OpenOU": 5,
         "OpenOUOdds": -120,
         "CloseOU": 5,
         "CloseOUOdds": -125,
         "Year": "2021",
         "_deepnote_index_column": 1894
        },
        {
         "Date": 628,
         "Rot": 62,
         "VH": "H",
         "Team": "Tampa Bay",
         "1st": 1,
         "2nd": 1,
         "3rd": 3,
         "Final": 5,
         "Open": -225,
         "Close": -200,
         "OpenOU": 5,
         "OpenOUOdds": 100,
         "CloseOU": 5,
         "CloseOUOdds": 105,
         "Year": "2021",
         "_deepnote_index_column": 1895
        },
        {
         "Date": 630,
         "Rot": 81,
         "VH": "V",
         "Team": "Montreal",
         "1st": 0,
         "2nd": 1,
         "3rd": 0,
         "Final": 1,
         "Open": 180,
         "Close": 177,
         "OpenOU": 5,
         "OpenOUOdds": -120,
         "CloseOU": 5,
         "CloseOUOdds": -120,
         "Year": "2021",
         "_deepnote_index_column": 1896
        },
        {
         "Date": 630,
         "Rot": 82,
         "VH": "H",
         "Team": "Tampa Bay",
         "1st": 0,
         "2nd": 2,
         "3rd": 1,
         "Final": 3,
         "Open": -220,
         "Close": -197,
         "OpenOU": 5,
         "OpenOUOdds": 100,
         "CloseOU": 5,
         "CloseOUOdds": 100,
         "Year": "2021",
         "_deepnote_index_column": 1897
        },
        {
         "Date": 702,
         "Rot": 11,
         "VH": "V",
         "Team": "Tampa Bay",
         "1st": 2,
         "2nd": 2,
         "3rd": 2,
         "Final": 6,
         "Open": -145,
         "Close": -123,
         "OpenOU": 5,
         "OpenOUOdds": -120,
         "CloseOU": 5,
         "CloseOUOdds": -120,
         "Year": "2021",
         "_deepnote_index_column": 1898
        },
        {
         "Date": 702,
         "Rot": 12,
         "VH": "H",
         "Team": "Montreal",
         "1st": 1,
         "2nd": 1,
         "3rd": 1,
         "Final": 3,
         "Open": 125,
         "Close": 113,
         "OpenOU": 5,
         "OpenOUOdds": 100,
         "CloseOU": 5,
         "CloseOUOdds": 100,
         "Year": "2021",
         "_deepnote_index_column": 1899
        },
        {
         "Date": 705,
         "Rot": 21,
         "VH": "V",
         "Team": "Tampa Bay",
         "1st": 0,
         "2nd": 1,
         "3rd": 1,
         "Final": 2,
         "Open": -145,
         "Close": -150,
         "OpenOU": 5,
         "OpenOUOdds": -135,
         "CloseOU": 5,
         "CloseOUOdds": -140,
         "Year": "2021",
         "_deepnote_index_column": 1900
        },
        {
         "Date": 705,
         "Rot": 22,
         "VH": "H",
         "Team": "Montreal",
         "1st": 1,
         "2nd": 0,
         "3rd": 1,
         "Final": 3,
         "Open": 125,
         "Close": 135,
         "OpenOU": 5,
         "OpenOUOdds": 115,
         "CloseOU": 5,
         "CloseOUOdds": 120,
         "Year": "2021",
         "_deepnote_index_column": 1901
        },
        {
         "Date": 707,
         "Rot": 31,
         "VH": "V",
         "Team": "Montreal",
         "1st": 0,
         "2nd": 0,
         "3rd": 0,
         "Final": 0,
         "Open": 180,
         "Close": 215,
         "OpenOU": 5,
         "OpenOUOdds": -120,
         "CloseOU": 5,
         "CloseOUOdds": -140,
         "Year": "2021",
         "_deepnote_index_column": 1902
        },
        {
         "Date": 707,
         "Rot": 32,
         "VH": "H",
         "Team": "Tampa Bay",
         "1st": 0,
         "2nd": 1,
         "3rd": 0,
         "Final": 1,
         "Open": -220,
         "Close": -245,
         "OpenOU": 5,
         "OpenOUOdds": 100,
         "CloseOU": 5,
         "CloseOUOdds": 120,
         "Year": "2021",
         "_deepnote_index_column": 1903
        }
       ]
      },
      "text/plain": "      Date  Rot VH        Team  1st  2nd  3rd  Final   Open  Close  OpenOU  \\\n0      929    1  V     Anaheim    0    0    1      1 -155.0 -123.0     6.0   \n1      929    2  H  LosAngeles    1    1    2      4  135.0  103.0     6.0   \n2      930   51  V  LosAngeles    0    1    0      1  115.0  132.0     6.0   \n3      930   52  H     Anaheim    2    2    0      4 -135.0 -152.0     6.0   \n4     1003    1  V     Anaheim    0    2    0      2  165.0  190.0     5.5   \n...    ...  ... ..         ...  ...  ...  ...    ...    ...    ...     ...   \n1899   702   12  H    Montreal    1    1    1      3  125.0  113.0     5.0   \n1900   705   21  V   Tampa Bay    0    1    1      2 -145.0 -150.0     5.0   \n1901   705   22  H    Montreal    1    0    1      3  125.0  135.0     5.0   \n1902   707   31  V    Montreal    0    0    0      0  180.0  215.0     5.0   \n1903   707   32  H   Tampa Bay    0    1    0      1 -220.0 -245.0     5.0   \n\n      OpenOUOdds  CloseOU  CloseOUOdds  Year  \n0            100      6.0         -105  2008  \n1           -120      6.0         -115  2008  \n2           -115      6.0          112  2008  \n3           -105      6.0         -132  2008  \n4            105      5.5          120  2008  \n...          ...      ...          ...   ...  \n1899         100      5.0          100  2021  \n1900        -135      5.0         -140  2021  \n1901         115      5.0          120  2021  \n1902        -120      5.0         -140  2021  \n1903         100      5.0          120  2021  \n\n[35094 rows x 15 columns]",
      "text/html": "<div>\n<style scoped>\n    .dataframe tbody tr th:only-of-type {\n        vertical-align: middle;\n    }\n\n    .dataframe tbody tr th {\n        vertical-align: top;\n    }\n\n    .dataframe thead th {\n        text-align: right;\n    }\n</style>\n<table border=\"1\" class=\"dataframe\">\n  <thead>\n    <tr style=\"text-align: right;\">\n      <th></th>\n      <th>Date</th>\n      <th>Rot</th>\n      <th>VH</th>\n      <th>Team</th>\n      <th>1st</th>\n      <th>2nd</th>\n      <th>3rd</th>\n      <th>Final</th>\n      <th>Open</th>\n      <th>Close</th>\n      <th>OpenOU</th>\n      <th>OpenOUOdds</th>\n      <th>CloseOU</th>\n      <th>CloseOUOdds</th>\n      <th>Year</th>\n    </tr>\n  </thead>\n  <tbody>\n    <tr>\n      <th>0</th>\n      <td>929</td>\n      <td>1</td>\n      <td>V</td>\n      <td>Anaheim</td>\n      <td>0</td>\n      <td>0</td>\n      <td>1</td>\n      <td>1</td>\n      <td>-155.0</td>\n      <td>-123.0</td>\n      <td>6.0</td>\n      <td>100</td>\n      <td>6.0</td>\n      <td>-105</td>\n      <td>2008</td>\n    </tr>\n    <tr>\n      <th>1</th>\n      <td>929</td>\n      <td>2</td>\n      <td>H</td>\n      <td>LosAngeles</td>\n      <td>1</td>\n      <td>1</td>\n      <td>2</td>\n      <td>4</td>\n      <td>135.0</td>\n      <td>103.0</td>\n      <td>6.0</td>\n      <td>-120</td>\n      <td>6.0</td>\n      <td>-115</td>\n      <td>2008</td>\n    </tr>\n    <tr>\n      <th>2</th>\n      <td>930</td>\n      <td>51</td>\n      <td>V</td>\n      <td>LosAngeles</td>\n      <td>0</td>\n      <td>1</td>\n      <td>0</td>\n      <td>1</td>\n      <td>115.0</td>\n      <td>132.0</td>\n      <td>6.0</td>\n      <td>-115</td>\n      <td>6.0</td>\n      <td>112</td>\n      <td>2008</td>\n    </tr>\n    <tr>\n      <th>3</th>\n      <td>930</td>\n      <td>52</td>\n      <td>H</td>\n      <td>Anaheim</td>\n      <td>2</td>\n      <td>2</td>\n      <td>0</td>\n      <td>4</td>\n      <td>-135.0</td>\n      <td>-152.0</td>\n      <td>6.0</td>\n      <td>-105</td>\n      <td>6.0</td>\n      <td>-132</td>\n      <td>2008</td>\n    </tr>\n    <tr>\n      <th>4</th>\n      <td>1003</td>\n      <td>1</td>\n      <td>V</td>\n      <td>Anaheim</td>\n      <td>0</td>\n      <td>2</td>\n      <td>0</td>\n      <td>2</td>\n      <td>165.0</td>\n      <td>190.0</td>\n      <td>5.5</td>\n      <td>105</td>\n      <td>5.5</td>\n      <td>120</td>\n      <td>2008</td>\n    </tr>\n    <tr>\n      <th>...</th>\n      <td>...</td>\n      <td>...</td>\n      <td>...</td>\n      <td>...</td>\n      <td>...</td>\n      <td>...</td>\n      <td>...</td>\n      <td>...</td>\n      <td>...</td>\n      <td>...</td>\n      <td>...</td>\n      <td>...</td>\n      <td>...</td>\n      <td>...</td>\n      <td>...</td>\n    </tr>\n    <tr>\n      <th>1899</th>\n      <td>702</td>\n      <td>12</td>\n      <td>H</td>\n      <td>Montreal</td>\n      <td>1</td>\n      <td>1</td>\n      <td>1</td>\n      <td>3</td>\n      <td>125.0</td>\n      <td>113.0</td>\n      <td>5.0</td>\n      <td>100</td>\n      <td>5.0</td>\n      <td>100</td>\n      <td>2021</td>\n    </tr>\n    <tr>\n      <th>1900</th>\n      <td>705</td>\n      <td>21</td>\n      <td>V</td>\n      <td>Tampa Bay</td>\n      <td>0</td>\n      <td>1</td>\n      <td>1</td>\n      <td>2</td>\n      <td>-145.0</td>\n      <td>-150.0</td>\n      <td>5.0</td>\n      <td>-135</td>\n      <td>5.0</td>\n      <td>-140</td>\n      <td>2021</td>\n    </tr>\n    <tr>\n      <th>1901</th>\n      <td>705</td>\n      <td>22</td>\n      <td>H</td>\n      <td>Montreal</td>\n      <td>1</td>\n      <td>0</td>\n      <td>1</td>\n      <td>3</td>\n      <td>125.0</td>\n      <td>135.0</td>\n      <td>5.0</td>\n      <td>115</td>\n      <td>5.0</td>\n      <td>120</td>\n      <td>2021</td>\n    </tr>\n    <tr>\n      <th>1902</th>\n      <td>707</td>\n      <td>31</td>\n      <td>V</td>\n      <td>Montreal</td>\n      <td>0</td>\n      <td>0</td>\n      <td>0</td>\n      <td>0</td>\n      <td>180.0</td>\n      <td>215.0</td>\n      <td>5.0</td>\n      <td>-120</td>\n      <td>5.0</td>\n      <td>-140</td>\n      <td>2021</td>\n    </tr>\n    <tr>\n      <th>1903</th>\n      <td>707</td>\n      <td>32</td>\n      <td>H</td>\n      <td>Tampa Bay</td>\n      <td>0</td>\n      <td>1</td>\n      <td>0</td>\n      <td>1</td>\n      <td>-220.0</td>\n      <td>-245.0</td>\n      <td>5.0</td>\n      <td>100</td>\n      <td>5.0</td>\n      <td>120</td>\n      <td>2021</td>\n    </tr>\n  </tbody>\n</table>\n<p>35094 rows × 15 columns</p>\n</div>"
     },
     "metadata": {}
    }
   ],
   "execution_count": null
  },
  {
   "cell_type": "code",
   "source": "combined_df.describe()",
   "metadata": {
    "tags": [],
    "cell_id": "00010-e8e5ee90-b20d-4a87-853b-6c0cc7ab6bd3",
    "deepnote_to_be_reexecuted": false,
    "source_hash": "eee7710e",
    "execution_start": 1633407129272,
    "execution_millis": 102,
    "deepnote_cell_type": "code"
   },
   "outputs": [
    {
     "output_type": "execute_result",
     "execution_count": 9,
     "data": {
      "application/vnd.deepnote.dataframe.v2+json": {
       "row_count": 8,
       "column_count": 12,
       "columns": [
        {
         "name": "Date",
         "dtype": "float64",
         "stats": {
          "unique_count": 8,
          "nan_count": 0,
          "min": "101.0",
          "max": "35094.0",
          "histogram": [
           {
            "bin_start": 101,
            "bin_end": 3600.3,
            "count": 7
           },
           {
            "bin_start": 3600.3,
            "bin_end": 7099.6,
            "count": 0
           },
           {
            "bin_start": 7099.6,
            "bin_end": 10598.900000000001,
            "count": 0
           },
           {
            "bin_start": 10598.900000000001,
            "bin_end": 14098.2,
            "count": 0
           },
           {
            "bin_start": 14098.2,
            "bin_end": 17597.5,
            "count": 0
           },
           {
            "bin_start": 17597.5,
            "bin_end": 21096.800000000003,
            "count": 0
           },
           {
            "bin_start": 21096.800000000003,
            "bin_end": 24596.100000000002,
            "count": 0
           },
           {
            "bin_start": 24596.100000000002,
            "bin_end": 28095.4,
            "count": 0
           },
           {
            "bin_start": 28095.4,
            "bin_end": 31594.7,
            "count": 0
           },
           {
            "bin_start": 31594.7,
            "bin_end": 35094,
            "count": 1
           }
          ]
         }
        },
        {
         "name": "Rot",
         "dtype": "float64",
         "stats": {
          "unique_count": 8,
          "nan_count": 0,
          "min": "1.0",
          "max": "35094.0",
          "histogram": [
           {
            "bin_start": 1,
            "bin_end": 3510.3,
            "count": 7
           },
           {
            "bin_start": 3510.3,
            "bin_end": 7019.6,
            "count": 0
           },
           {
            "bin_start": 7019.6,
            "bin_end": 10528.900000000001,
            "count": 0
           },
           {
            "bin_start": 10528.900000000001,
            "bin_end": 14038.2,
            "count": 0
           },
           {
            "bin_start": 14038.2,
            "bin_end": 17547.5,
            "count": 0
           },
           {
            "bin_start": 17547.5,
            "bin_end": 21056.800000000003,
            "count": 0
           },
           {
            "bin_start": 21056.800000000003,
            "bin_end": 24566.100000000002,
            "count": 0
           },
           {
            "bin_start": 24566.100000000002,
            "bin_end": 28075.4,
            "count": 0
           },
           {
            "bin_start": 28075.4,
            "bin_end": 31584.7,
            "count": 0
           },
           {
            "bin_start": 31584.7,
            "bin_end": 35094,
            "count": 1
           }
          ]
         }
        },
        {
         "name": "1st",
         "dtype": "float64",
         "stats": {
          "unique_count": 6,
          "nan_count": 0,
          "min": "0.0",
          "max": "35094.0",
          "histogram": [
           {
            "bin_start": 0,
            "bin_end": 3509.4,
            "count": 7
           },
           {
            "bin_start": 3509.4,
            "bin_end": 7018.8,
            "count": 0
           },
           {
            "bin_start": 7018.8,
            "bin_end": 10528.2,
            "count": 0
           },
           {
            "bin_start": 10528.2,
            "bin_end": 14037.6,
            "count": 0
           },
           {
            "bin_start": 14037.6,
            "bin_end": 17547,
            "count": 0
           },
           {
            "bin_start": 17547,
            "bin_end": 21056.4,
            "count": 0
           },
           {
            "bin_start": 21056.4,
            "bin_end": 24565.8,
            "count": 0
           },
           {
            "bin_start": 24565.8,
            "bin_end": 28075.2,
            "count": 0
           },
           {
            "bin_start": 28075.2,
            "bin_end": 31584.600000000002,
            "count": 0
           },
           {
            "bin_start": 31584.600000000002,
            "bin_end": 35094,
            "count": 1
           }
          ]
         }
        },
        {
         "name": "2nd",
         "dtype": "float64",
         "stats": {
          "unique_count": 7,
          "nan_count": 0,
          "min": "-1.0",
          "max": "35094.0",
          "histogram": [
           {
            "bin_start": -1,
            "bin_end": 3508.5,
            "count": 7
           },
           {
            "bin_start": 3508.5,
            "bin_end": 7018,
            "count": 0
           },
           {
            "bin_start": 7018,
            "bin_end": 10527.5,
            "count": 0
           },
           {
            "bin_start": 10527.5,
            "bin_end": 14037,
            "count": 0
           },
           {
            "bin_start": 14037,
            "bin_end": 17546.5,
            "count": 0
           },
           {
            "bin_start": 17546.5,
            "bin_end": 21056,
            "count": 0
           },
           {
            "bin_start": 21056,
            "bin_end": 24565.5,
            "count": 0
           },
           {
            "bin_start": 24565.5,
            "bin_end": 28075,
            "count": 0
           },
           {
            "bin_start": 28075,
            "bin_end": 31584.5,
            "count": 0
           },
           {
            "bin_start": 31584.5,
            "bin_end": 35094,
            "count": 1
           }
          ]
         }
        },
        {
         "name": "3rd",
         "dtype": "float64",
         "stats": {
          "unique_count": 6,
          "nan_count": 0,
          "min": "0.0",
          "max": "35094.0",
          "histogram": [
           {
            "bin_start": 0,
            "bin_end": 3509.4,
            "count": 7
           },
           {
            "bin_start": 3509.4,
            "bin_end": 7018.8,
            "count": 0
           },
           {
            "bin_start": 7018.8,
            "bin_end": 10528.2,
            "count": 0
           },
           {
            "bin_start": 10528.2,
            "bin_end": 14037.6,
            "count": 0
           },
           {
            "bin_start": 14037.6,
            "bin_end": 17547,
            "count": 0
           },
           {
            "bin_start": 17547,
            "bin_end": 21056.4,
            "count": 0
           },
           {
            "bin_start": 21056.4,
            "bin_end": 24565.8,
            "count": 0
           },
           {
            "bin_start": 24565.8,
            "bin_end": 28075.2,
            "count": 0
           },
           {
            "bin_start": 28075.2,
            "bin_end": 31584.600000000002,
            "count": 0
           },
           {
            "bin_start": 31584.600000000002,
            "bin_end": 35094,
            "count": 1
           }
          ]
         }
        },
        {
         "name": "Final",
         "dtype": "float64",
         "stats": {
          "unique_count": 8,
          "nan_count": 0,
          "min": "0.0",
          "max": "35094.0",
          "histogram": [
           {
            "bin_start": 0,
            "bin_end": 3509.4,
            "count": 7
           },
           {
            "bin_start": 3509.4,
            "bin_end": 7018.8,
            "count": 0
           },
           {
            "bin_start": 7018.8,
            "bin_end": 10528.2,
            "count": 0
           },
           {
            "bin_start": 10528.2,
            "bin_end": 14037.6,
            "count": 0
           },
           {
            "bin_start": 14037.6,
            "bin_end": 17547,
            "count": 0
           },
           {
            "bin_start": 17547,
            "bin_end": 21056.4,
            "count": 0
           },
           {
            "bin_start": 21056.4,
            "bin_end": 24565.8,
            "count": 0
           },
           {
            "bin_start": 24565.8,
            "bin_end": 28075.2,
            "count": 0
           },
           {
            "bin_start": 28075.2,
            "bin_end": 31584.600000000002,
            "count": 0
           },
           {
            "bin_start": 31584.600000000002,
            "bin_end": 35094,
            "count": 1
           }
          ]
         }
        },
        {
         "name": "Open",
         "dtype": "float64",
         "stats": {
          "unique_count": 8,
          "nan_count": 0,
          "min": "-2156.0",
          "max": "35094.0",
          "histogram": [
           {
            "bin_start": -2156,
            "bin_end": 1569,
            "count": 7
           },
           {
            "bin_start": 1569,
            "bin_end": 5294,
            "count": 0
           },
           {
            "bin_start": 5294,
            "bin_end": 9019,
            "count": 0
           },
           {
            "bin_start": 9019,
            "bin_end": 12744,
            "count": 0
           },
           {
            "bin_start": 12744,
            "bin_end": 16469,
            "count": 0
           },
           {
            "bin_start": 16469,
            "bin_end": 20194,
            "count": 0
           },
           {
            "bin_start": 20194,
            "bin_end": 23919,
            "count": 0
           },
           {
            "bin_start": 23919,
            "bin_end": 27644,
            "count": 0
           },
           {
            "bin_start": 27644,
            "bin_end": 31369,
            "count": 0
           },
           {
            "bin_start": 31369,
            "bin_end": 35094,
            "count": 1
           }
          ]
         }
        },
        {
         "name": "Close",
         "dtype": "float64",
         "stats": {
          "unique_count": 8,
          "nan_count": 0,
          "min": "-600.0",
          "max": "35094.0",
          "histogram": [
           {
            "bin_start": -600,
            "bin_end": 2969.4,
            "count": 7
           },
           {
            "bin_start": 2969.4,
            "bin_end": 6538.8,
            "count": 0
           },
           {
            "bin_start": 6538.8,
            "bin_end": 10108.2,
            "count": 0
           },
           {
            "bin_start": 10108.2,
            "bin_end": 13677.6,
            "count": 0
           },
           {
            "bin_start": 13677.6,
            "bin_end": 17247,
            "count": 0
           },
           {
            "bin_start": 17247,
            "bin_end": 20816.4,
            "count": 0
           },
           {
            "bin_start": 20816.4,
            "bin_end": 24385.8,
            "count": 0
           },
           {
            "bin_start": 24385.8,
            "bin_end": 27955.2,
            "count": 0
           },
           {
            "bin_start": 27955.2,
            "bin_end": 31524.600000000002,
            "count": 0
           },
           {
            "bin_start": 31524.600000000002,
            "bin_end": 35094,
            "count": 1
           }
          ]
         }
        },
        {
         "name": "OpenOU",
         "dtype": "float64",
         "stats": {
          "unique_count": 7,
          "nan_count": 0,
          "min": "0.39893218375238165",
          "max": "35094.0",
          "histogram": [
           {
            "bin_start": 0.39893218375238165,
            "bin_end": 3509.7590389653774,
            "count": 7
           },
           {
            "bin_start": 3509.7590389653774,
            "bin_end": 7019.119145747002,
            "count": 0
           },
           {
            "bin_start": 7019.119145747002,
            "bin_end": 10528.479252528627,
            "count": 0
           },
           {
            "bin_start": 10528.479252528627,
            "bin_end": 14037.839359310252,
            "count": 0
           },
           {
            "bin_start": 14037.839359310252,
            "bin_end": 17547.199466091875,
            "count": 0
           },
           {
            "bin_start": 17547.199466091875,
            "bin_end": 21056.5595728735,
            "count": 0
           },
           {
            "bin_start": 21056.5595728735,
            "bin_end": 24565.919679655126,
            "count": 0
           },
           {
            "bin_start": 24565.919679655126,
            "bin_end": 28075.27978643675,
            "count": 0
           },
           {
            "bin_start": 28075.27978643675,
            "bin_end": 31584.639893218373,
            "count": 0
           },
           {
            "bin_start": 31584.639893218373,
            "bin_end": 35094,
            "count": 1
           }
          ]
         }
        },
        {
         "name": "OpenOUOdds",
         "dtype": "float64",
         "stats": {
          "unique_count": 8,
          "nan_count": 0,
          "min": "-176.0",
          "max": "35094.0",
          "histogram": [
           {
            "bin_start": -176,
            "bin_end": 3351,
            "count": 7
           },
           {
            "bin_start": 3351,
            "bin_end": 6878,
            "count": 0
           },
           {
            "bin_start": 6878,
            "bin_end": 10405,
            "count": 0
           },
           {
            "bin_start": 10405,
            "bin_end": 13932,
            "count": 0
           },
           {
            "bin_start": 13932,
            "bin_end": 17459,
            "count": 0
           },
           {
            "bin_start": 17459,
            "bin_end": 20986,
            "count": 0
           },
           {
            "bin_start": 20986,
            "bin_end": 24513,
            "count": 0
           },
           {
            "bin_start": 24513,
            "bin_end": 28040,
            "count": 0
           },
           {
            "bin_start": 28040,
            "bin_end": 31567,
            "count": 0
           },
           {
            "bin_start": 31567,
            "bin_end": 35094,
            "count": 1
           }
          ]
         }
        },
        {
         "name": "CloseOU",
         "dtype": "float64",
         "stats": {
          "unique_count": 7,
          "nan_count": 0,
          "min": "0.4012082616644255",
          "max": "35094.0",
          "histogram": [
           {
            "bin_start": 0.4012082616644255,
            "bin_end": 3509.7610874354987,
            "count": 7
           },
           {
            "bin_start": 3509.7610874354987,
            "bin_end": 7019.120966609333,
            "count": 0
           },
           {
            "bin_start": 7019.120966609333,
            "bin_end": 10528.480845783168,
            "count": 0
           },
           {
            "bin_start": 10528.480845783168,
            "bin_end": 14037.840724957001,
            "count": 0
           },
           {
            "bin_start": 14037.840724957001,
            "bin_end": 17547.200604130834,
            "count": 0
           },
           {
            "bin_start": 17547.200604130834,
            "bin_end": 21056.56048330467,
            "count": 0
           },
           {
            "bin_start": 21056.56048330467,
            "bin_end": 24565.920362478504,
            "count": 0
           },
           {
            "bin_start": 24565.920362478504,
            "bin_end": 28075.280241652337,
            "count": 0
           },
           {
            "bin_start": 28075.280241652337,
            "bin_end": 31584.64012082617,
            "count": 0
           },
           {
            "bin_start": 31584.64012082617,
            "bin_end": 35094,
            "count": 1
           }
          ]
         }
        },
        {
         "name": "CloseOUOdds",
         "dtype": "float64",
         "stats": {
          "unique_count": 8,
          "nan_count": 0,
          "min": "-190.0",
          "max": "35094.0",
          "histogram": [
           {
            "bin_start": -190,
            "bin_end": 3338.4,
            "count": 7
           },
           {
            "bin_start": 3338.4,
            "bin_end": 6866.8,
            "count": 0
           },
           {
            "bin_start": 6866.8,
            "bin_end": 10395.2,
            "count": 0
           },
           {
            "bin_start": 10395.2,
            "bin_end": 13923.6,
            "count": 0
           },
           {
            "bin_start": 13923.6,
            "bin_end": 17452,
            "count": 0
           },
           {
            "bin_start": 17452,
            "bin_end": 20980.4,
            "count": 0
           },
           {
            "bin_start": 20980.4,
            "bin_end": 24508.8,
            "count": 0
           },
           {
            "bin_start": 24508.8,
            "bin_end": 28037.2,
            "count": 0
           },
           {
            "bin_start": 28037.2,
            "bin_end": 31565.600000000002,
            "count": 0
           },
           {
            "bin_start": 31565.600000000002,
            "bin_end": 35094,
            "count": 1
           }
          ]
         }
        },
        {
         "name": "_deepnote_index_column",
         "dtype": "object"
        }
       ],
       "rows_top": [
        {
         "Date": 35094,
         "Rot": 35094,
         "1st": 35094,
         "2nd": 35094,
         "3rd": 35094,
         "Final": 35094,
         "Open": 35094,
         "Close": 35094,
         "OpenOU": 35094,
         "OpenOUOdds": 35094,
         "CloseOU": 35094,
         "CloseOUOdds": 35094,
         "_deepnote_index_column": "count"
        },
        {
         "Date": 616.5372998233316,
         "Rot": 35.44050265002564,
         "1st": 0.8051233829144583,
         "2nd": 0.9541802017438878,
         "3rd": 0.94907961474896,
         "Final": 2.824727873710606,
         "Open": -25.66102467658289,
         "Close": -22.038525104006382,
         "OpenOU": 5.487846925400353,
         "OpenOUOdds": -58.58847666267738,
         "CloseOU": 5.486236963583519,
         "CloseOUOdds": -40.59939020915256,
         "_deepnote_index_column": "mean"
        },
        {
         "Date": 429.1692462744867,
         "Rot": 25.51707049189388,
         "1st": 0.8905293107807855,
         "2nd": 0.9599497299396335,
         "3rd": 0.9695151810603937,
         "Final": 1.6510031641962637,
         "Open": 149.82124014758503,
         "Close": 151.86490853225095,
         "OpenOU": 0.39893218375238165,
         "OpenOUOdds": 98.20652353982615,
         "CloseOU": 0.4012082616644255,
         "CloseOUOdds": 109.86047562836346,
         "_deepnote_index_column": "std"
        },
        {
         "Date": 101,
         "Rot": 1,
         "1st": 0,
         "2nd": -1,
         "3rd": 0,
         "Final": 0,
         "Open": -2156,
         "Close": -600,
         "OpenOU": 2,
         "OpenOUOdds": -176,
         "CloseOU": 4.5,
         "CloseOUOdds": -190,
         "_deepnote_index_column": "min"
        },
        {
         "Date": 222,
         "Rot": 9,
         "1st": 0,
         "2nd": 0,
         "3rd": 0,
         "Final": 2,
         "Open": -145,
         "Close": -145,
         "OpenOU": 5,
         "OpenOUOdds": -120,
         "CloseOU": 5,
         "CloseOUOdds": -125,
         "_deepnote_index_column": "25%"
        },
        {
         "Date": 409,
         "Rot": 40,
         "1st": 1,
         "2nd": 1,
         "3rd": 1,
         "Final": 3,
         "Open": -110,
         "Close": -110,
         "OpenOU": 5.5,
         "OpenOUOdds": -110,
         "CloseOU": 5.5,
         "CloseOUOdds": -110,
         "_deepnote_index_column": "50%"
        },
        {
         "Date": 1108,
         "Rot": 58,
         "1st": 1,
         "2nd": 1,
         "3rd": 1,
         "Final": 4,
         "Open": 125,
         "Close": 126,
         "OpenOU": 5.5,
         "OpenOUOdds": 100,
         "CloseOU": 5.5,
         "CloseOUOdds": 105,
         "_deepnote_index_column": "75%"
        },
        {
         "Date": 1231,
         "Rot": 90,
         "1st": 6,
         "2nd": 7,
         "3rd": 7,
         "Final": 10,
         "Open": 1086,
         "Close": 505,
         "OpenOU": 9,
         "OpenOUOdds": 605,
         "CloseOU": 7,
         "CloseOUOdds": 170,
         "_deepnote_index_column": "max"
        }
       ],
       "rows_bottom": null
      },
      "text/plain": "               Date           Rot           1st          2nd           3rd  \\\ncount  35094.000000  35094.000000  35094.000000  35094.00000  35094.000000   \nmean     616.537300     35.440503      0.805123      0.95418      0.949080   \nstd      429.169246     25.517070      0.890529      0.95995      0.969515   \nmin      101.000000      1.000000      0.000000     -1.00000      0.000000   \n25%      222.000000      9.000000      0.000000      0.00000      0.000000   \n50%      409.000000     40.000000      1.000000      1.00000      1.000000   \n75%     1108.000000     58.000000      1.000000      1.00000      1.000000   \nmax     1231.000000     90.000000      6.000000      7.00000      7.000000   \n\n              Final          Open         Close        OpenOU    OpenOUOdds  \\\ncount  35094.000000  35094.000000  35094.000000  35094.000000  35094.000000   \nmean       2.824728    -25.661025    -22.038525      5.487847    -58.588477   \nstd        1.651003    149.821240    151.864909      0.398932     98.206524   \nmin        0.000000  -2156.000000   -600.000000      2.000000   -176.000000   \n25%        2.000000   -145.000000   -145.000000      5.000000   -120.000000   \n50%        3.000000   -110.000000   -110.000000      5.500000   -110.000000   \n75%        4.000000    125.000000    126.000000      5.500000    100.000000   \nmax       10.000000   1086.000000    505.000000      9.000000    605.000000   \n\n            CloseOU   CloseOUOdds  \ncount  35094.000000  35094.000000  \nmean       5.486237    -40.599390  \nstd        0.401208    109.860476  \nmin        4.500000   -190.000000  \n25%        5.000000   -125.000000  \n50%        5.500000   -110.000000  \n75%        5.500000    105.000000  \nmax        7.000000    170.000000  ",
      "text/html": "<div>\n<style scoped>\n    .dataframe tbody tr th:only-of-type {\n        vertical-align: middle;\n    }\n\n    .dataframe tbody tr th {\n        vertical-align: top;\n    }\n\n    .dataframe thead th {\n        text-align: right;\n    }\n</style>\n<table border=\"1\" class=\"dataframe\">\n  <thead>\n    <tr style=\"text-align: right;\">\n      <th></th>\n      <th>Date</th>\n      <th>Rot</th>\n      <th>1st</th>\n      <th>2nd</th>\n      <th>3rd</th>\n      <th>Final</th>\n      <th>Open</th>\n      <th>Close</th>\n      <th>OpenOU</th>\n      <th>OpenOUOdds</th>\n      <th>CloseOU</th>\n      <th>CloseOUOdds</th>\n    </tr>\n  </thead>\n  <tbody>\n    <tr>\n      <th>count</th>\n      <td>35094.000000</td>\n      <td>35094.000000</td>\n      <td>35094.000000</td>\n      <td>35094.00000</td>\n      <td>35094.000000</td>\n      <td>35094.000000</td>\n      <td>35094.000000</td>\n      <td>35094.000000</td>\n      <td>35094.000000</td>\n      <td>35094.000000</td>\n      <td>35094.000000</td>\n      <td>35094.000000</td>\n    </tr>\n    <tr>\n      <th>mean</th>\n      <td>616.537300</td>\n      <td>35.440503</td>\n      <td>0.805123</td>\n      <td>0.95418</td>\n      <td>0.949080</td>\n      <td>2.824728</td>\n      <td>-25.661025</td>\n      <td>-22.038525</td>\n      <td>5.487847</td>\n      <td>-58.588477</td>\n      <td>5.486237</td>\n      <td>-40.599390</td>\n    </tr>\n    <tr>\n      <th>std</th>\n      <td>429.169246</td>\n      <td>25.517070</td>\n      <td>0.890529</td>\n      <td>0.95995</td>\n      <td>0.969515</td>\n      <td>1.651003</td>\n      <td>149.821240</td>\n      <td>151.864909</td>\n      <td>0.398932</td>\n      <td>98.206524</td>\n      <td>0.401208</td>\n      <td>109.860476</td>\n    </tr>\n    <tr>\n      <th>min</th>\n      <td>101.000000</td>\n      <td>1.000000</td>\n      <td>0.000000</td>\n      <td>-1.00000</td>\n      <td>0.000000</td>\n      <td>0.000000</td>\n      <td>-2156.000000</td>\n      <td>-600.000000</td>\n      <td>2.000000</td>\n      <td>-176.000000</td>\n      <td>4.500000</td>\n      <td>-190.000000</td>\n    </tr>\n    <tr>\n      <th>25%</th>\n      <td>222.000000</td>\n      <td>9.000000</td>\n      <td>0.000000</td>\n      <td>0.00000</td>\n      <td>0.000000</td>\n      <td>2.000000</td>\n      <td>-145.000000</td>\n      <td>-145.000000</td>\n      <td>5.000000</td>\n      <td>-120.000000</td>\n      <td>5.000000</td>\n      <td>-125.000000</td>\n    </tr>\n    <tr>\n      <th>50%</th>\n      <td>409.000000</td>\n      <td>40.000000</td>\n      <td>1.000000</td>\n      <td>1.00000</td>\n      <td>1.000000</td>\n      <td>3.000000</td>\n      <td>-110.000000</td>\n      <td>-110.000000</td>\n      <td>5.500000</td>\n      <td>-110.000000</td>\n      <td>5.500000</td>\n      <td>-110.000000</td>\n    </tr>\n    <tr>\n      <th>75%</th>\n      <td>1108.000000</td>\n      <td>58.000000</td>\n      <td>1.000000</td>\n      <td>1.00000</td>\n      <td>1.000000</td>\n      <td>4.000000</td>\n      <td>125.000000</td>\n      <td>126.000000</td>\n      <td>5.500000</td>\n      <td>100.000000</td>\n      <td>5.500000</td>\n      <td>105.000000</td>\n    </tr>\n    <tr>\n      <th>max</th>\n      <td>1231.000000</td>\n      <td>90.000000</td>\n      <td>6.000000</td>\n      <td>7.00000</td>\n      <td>7.000000</td>\n      <td>10.000000</td>\n      <td>1086.000000</td>\n      <td>505.000000</td>\n      <td>9.000000</td>\n      <td>605.000000</td>\n      <td>7.000000</td>\n      <td>170.000000</td>\n    </tr>\n  </tbody>\n</table>\n</div>"
     },
     "metadata": {}
    }
   ],
   "execution_count": null
  },
  {
   "cell_type": "code",
   "source": "combined_df.Team.unique()\n\n\nfixed_names = {'NY Islanders': 'NYIslanders', 'Tampa Bay': 'TampaBay', 'Tampa': 'Tampa Bay', 'Arizonas': 'Arizona', \\\n    'WinnipegJets': 'Winnipeg', 'Atlanta': 'Winnipeg', 'Phoenix': 'Arizona'}\n\ncombined_df.replace({'Team': fixed_names}, inplace=True)\ncombined_df\n",
   "metadata": {
    "tags": [],
    "cell_id": "00011-6a66e685-e045-4025-81ca-c20bfe8b6839",
    "deepnote_to_be_reexecuted": false,
    "source_hash": "e22b669f",
    "execution_start": 1633407129378,
    "execution_millis": 109,
    "deepnote_cell_type": "code"
   },
   "outputs": [
    {
     "output_type": "execute_result",
     "execution_count": 10,
     "data": {
      "application/vnd.deepnote.dataframe.v2+json": {
       "row_count": 35094,
       "column_count": 15,
       "columns": [
        {
         "name": "Date",
         "dtype": "int64",
         "stats": {
          "unique_count": 324,
          "nan_count": 0,
          "min": "101",
          "max": "1231",
          "histogram": [
           {
            "bin_start": 101,
            "bin_end": 214,
            "count": 7382
           },
           {
            "bin_start": 214,
            "bin_end": 327,
            "count": 7666
           },
           {
            "bin_start": 327,
            "bin_end": 440,
            "count": 4486
           },
           {
            "bin_start": 440,
            "bin_end": 553,
            "count": 1100
           },
           {
            "bin_start": 553,
            "bin_end": 666,
            "count": 198
           },
           {
            "bin_start": 666,
            "bin_end": 779,
            "count": 6
           },
           {
            "bin_start": 779,
            "bin_end": 892,
            "count": 210
           },
           {
            "bin_start": 892,
            "bin_end": 1005,
            "count": 238
           },
           {
            "bin_start": 1005,
            "bin_end": 1118,
            "count": 6592
           },
           {
            "bin_start": 1118,
            "bin_end": 1231,
            "count": 7216
           }
          ]
         }
        },
        {
         "name": "Rot",
         "dtype": "int64",
         "stats": {
          "unique_count": 90,
          "nan_count": 0,
          "min": "1",
          "max": "90",
          "histogram": [
           {
            "bin_start": 1,
            "bin_end": 9.9,
            "count": 9003
           },
           {
            "bin_start": 9.9,
            "bin_end": 18.8,
            "count": 5273
           },
           {
            "bin_start": 18.8,
            "bin_end": 27.700000000000003,
            "count": 2179
           },
           {
            "bin_start": 27.700000000000003,
            "bin_end": 36.6,
            "count": 825
           },
           {
            "bin_start": 36.6,
            "bin_end": 45.5,
            "count": 724
           },
           {
            "bin_start": 45.5,
            "bin_end": 54.400000000000006,
            "count": 4672
           },
           {
            "bin_start": 54.400000000000006,
            "bin_end": 63.300000000000004,
            "count": 7422
           },
           {
            "bin_start": 63.300000000000004,
            "bin_end": 72.2,
            "count": 3894
           },
           {
            "bin_start": 72.2,
            "bin_end": 81.10000000000001,
            "count": 907
           },
           {
            "bin_start": 81.10000000000001,
            "bin_end": 90,
            "count": 195
           }
          ]
         }
        },
        {
         "name": "VH",
         "dtype": "object"
        },
        {
         "name": "Team",
         "dtype": "object"
        },
        {
         "name": "1st",
         "dtype": "int64"
        },
        {
         "name": "2nd",
         "dtype": "int64"
        },
        {
         "name": "3rd",
         "dtype": "int64"
        },
        {
         "name": "Final",
         "dtype": "int64"
        },
        {
         "name": "Open",
         "dtype": "float64"
        },
        {
         "name": "Close",
         "dtype": "float64"
        },
        {
         "name": "OpenOU",
         "dtype": "float64"
        },
        {
         "name": "OpenOUOdds",
         "dtype": "int64"
        },
        {
         "name": "CloseOU",
         "dtype": "float64"
        },
        {
         "name": "CloseOUOdds",
         "dtype": "int64"
        },
        {
         "name": "Year",
         "dtype": "object"
        },
        {
         "name": "_deepnote_index_column",
         "dtype": "int64"
        }
       ],
       "rows_top": [
        {
         "Date": 929,
         "Rot": 1,
         "VH": "V",
         "Team": "Anaheim",
         "1st": 0,
         "2nd": 0,
         "3rd": 1,
         "Final": 1,
         "Open": -155,
         "Close": -123,
         "OpenOU": 6,
         "OpenOUOdds": 100,
         "CloseOU": 6,
         "CloseOUOdds": -105,
         "Year": "2008",
         "_deepnote_index_column": 0
        },
        {
         "Date": 929,
         "Rot": 2,
         "VH": "H",
         "Team": "LosAngeles",
         "1st": 1,
         "2nd": 1,
         "3rd": 2,
         "Final": 4,
         "Open": 135,
         "Close": 103,
         "OpenOU": 6,
         "OpenOUOdds": -120,
         "CloseOU": 6,
         "CloseOUOdds": -115,
         "Year": "2008",
         "_deepnote_index_column": 1
        },
        {
         "Date": 930,
         "Rot": 51,
         "VH": "V",
         "Team": "LosAngeles",
         "1st": 0,
         "2nd": 1,
         "3rd": 0,
         "Final": 1,
         "Open": 115,
         "Close": 132,
         "OpenOU": 6,
         "OpenOUOdds": -115,
         "CloseOU": 6,
         "CloseOUOdds": 112,
         "Year": "2008",
         "_deepnote_index_column": 2
        },
        {
         "Date": 930,
         "Rot": 52,
         "VH": "H",
         "Team": "Anaheim",
         "1st": 2,
         "2nd": 2,
         "3rd": 0,
         "Final": 4,
         "Open": -135,
         "Close": -152,
         "OpenOU": 6,
         "OpenOUOdds": -105,
         "CloseOU": 6,
         "CloseOUOdds": -132,
         "Year": "2008",
         "_deepnote_index_column": 3
        },
        {
         "Date": 1003,
         "Rot": 1,
         "VH": "V",
         "Team": "Anaheim",
         "1st": 0,
         "2nd": 2,
         "3rd": 0,
         "Final": 2,
         "Open": 165,
         "Close": 190,
         "OpenOU": 5.5,
         "OpenOUOdds": 105,
         "CloseOU": 5.5,
         "CloseOUOdds": 120,
         "Year": "2008",
         "_deepnote_index_column": 4
        },
        {
         "Date": 1003,
         "Rot": 2,
         "VH": "H",
         "Team": "Detroit",
         "1st": 1,
         "2nd": 0,
         "3rd": 1,
         "Final": 3,
         "Open": -185,
         "Close": -230,
         "OpenOU": 5.5,
         "OpenOUOdds": -125,
         "CloseOU": 5.5,
         "CloseOUOdds": -140,
         "Year": "2008",
         "_deepnote_index_column": 5
        },
        {
         "Date": 1003,
         "Rot": 3,
         "VH": "V",
         "Team": "Montreal",
         "1st": 1,
         "2nd": 0,
         "3rd": 1,
         "Final": 3,
         "Open": 130,
         "Close": 140,
         "OpenOU": 6,
         "OpenOUOdds": -105,
         "CloseOU": 6,
         "CloseOUOdds": 110,
         "Year": "2008",
         "_deepnote_index_column": 6
        },
        {
         "Date": 1003,
         "Rot": 4,
         "VH": "H",
         "Team": "Carolina",
         "1st": 1,
         "2nd": 0,
         "3rd": 1,
         "Final": 2,
         "Open": -150,
         "Close": -160,
         "OpenOU": 6,
         "OpenOUOdds": -115,
         "CloseOU": 6,
         "CloseOUOdds": -130,
         "Year": "2008",
         "_deepnote_index_column": 7
        },
        {
         "Date": 1003,
         "Rot": 5,
         "VH": "V",
         "Team": "Ottawa",
         "1st": 2,
         "2nd": 0,
         "3rd": 1,
         "Final": 4,
         "Open": -120,
         "Close": -125,
         "OpenOU": 6,
         "OpenOUOdds": -120,
         "CloseOU": 6,
         "CloseOUOdds": -135,
         "Year": "2008",
         "_deepnote_index_column": 8
        },
        {
         "Date": 1003,
         "Rot": 6,
         "VH": "H",
         "Team": "Toronto",
         "1st": 2,
         "2nd": 1,
         "3rd": 0,
         "Final": 3,
         "Open": 100,
         "Close": 105,
         "OpenOU": 6,
         "OpenOUOdds": 100,
         "CloseOU": 6,
         "CloseOUOdds": 115,
         "Year": "2008",
         "_deepnote_index_column": 9
        },
        {
         "Date": 1003,
         "Rot": 7,
         "VH": "V",
         "Team": "Dallas",
         "1st": 0,
         "2nd": 1,
         "3rd": 2,
         "Final": 3,
         "Open": 115,
         "Close": 135,
         "OpenOU": 5.5,
         "OpenOUOdds": -115,
         "CloseOU": 5.5,
         "CloseOUOdds": -115,
         "Year": "2008",
         "_deepnote_index_column": 10
        },
        {
         "Date": 1003,
         "Rot": 8,
         "VH": "H",
         "Team": "Colorado",
         "1st": 1,
         "2nd": 3,
         "3rd": 0,
         "Final": 4,
         "Open": -135,
         "Close": -155,
         "OpenOU": 5.5,
         "OpenOUOdds": -105,
         "CloseOU": 5.5,
         "CloseOUOdds": -105,
         "Year": "2008",
         "_deepnote_index_column": 11
        },
        {
         "Date": 1004,
         "Rot": 51,
         "VH": "V",
         "Team": "Toronto",
         "1st": 0,
         "2nd": 2,
         "3rd": 0,
         "Final": 2,
         "Open": 170,
         "Close": 150,
         "OpenOU": 6,
         "OpenOUOdds": -130,
         "CloseOU": 6,
         "CloseOUOdds": -125,
         "Year": "2008",
         "_deepnote_index_column": 12
        },
        {
         "Date": 1004,
         "Rot": 52,
         "VH": "H",
         "Team": "Ottawa",
         "1st": 1,
         "2nd": 1,
         "3rd": 1,
         "Final": 3,
         "Open": -200,
         "Close": -170,
         "OpenOU": 6,
         "OpenOUOdds": 110,
         "CloseOU": 6,
         "CloseOUOdds": 105,
         "Year": "2008",
         "_deepnote_index_column": 13
        },
        {
         "Date": 1004,
         "Rot": 53,
         "VH": "V",
         "Team": "Florida",
         "1st": 0,
         "2nd": 2,
         "3rd": 0,
         "Final": 2,
         "Open": 160,
         "Close": 170,
         "OpenOU": 5.5,
         "OpenOUOdds": -105,
         "CloseOU": 5.5,
         "CloseOUOdds": 100,
         "Year": "2008",
         "_deepnote_index_column": 14
        },
        {
         "Date": 1004,
         "Rot": 54,
         "VH": "H",
         "Team": "NYRangers",
         "1st": 1,
         "2nd": 0,
         "3rd": 4,
         "Final": 5,
         "Open": -180,
         "Close": -190,
         "OpenOU": 5.5,
         "OpenOUOdds": -115,
         "CloseOU": 5.5,
         "CloseOUOdds": -120,
         "Year": "2008",
         "_deepnote_index_column": 15
        },
        {
         "Date": 1004,
         "Rot": 55,
         "VH": "V",
         "Team": "NewJersey",
         "1st": 1,
         "2nd": 0,
         "3rd": 0,
         "Final": 1,
         "Open": 115,
         "Close": 115,
         "OpenOU": 5.5,
         "OpenOUOdds": 105,
         "CloseOU": 5.5,
         "CloseOUOdds": 120,
         "Year": "2008",
         "_deepnote_index_column": 16
        },
        {
         "Date": 1004,
         "Rot": 56,
         "VH": "H",
         "Team": "TampaBay",
         "1st": 0,
         "2nd": 1,
         "3rd": 2,
         "Final": 3,
         "Open": -135,
         "Close": -135,
         "OpenOU": 5.5,
         "OpenOUOdds": -125,
         "CloseOU": 5.5,
         "CloseOUOdds": -140,
         "Year": "2008",
         "_deepnote_index_column": 17
        },
        {
         "Date": 1004,
         "Rot": 57,
         "VH": "V",
         "Team": "Colorado",
         "1st": 0,
         "2nd": 0,
         "3rd": 0,
         "Final": 0,
         "Open": -105,
         "Close": 100,
         "OpenOU": 5.5,
         "OpenOUOdds": -130,
         "CloseOU": 5.5,
         "CloseOUOdds": -125,
         "Year": "2008",
         "_deepnote_index_column": 18
        },
        {
         "Date": 1004,
         "Rot": 58,
         "VH": "H",
         "Team": "Nashville",
         "1st": 2,
         "2nd": 1,
         "3rd": 1,
         "Final": 4,
         "Open": -115,
         "Close": -120,
         "OpenOU": 5.5,
         "OpenOUOdds": 110,
         "CloseOU": 5.5,
         "CloseOUOdds": 105,
         "Year": "2008",
         "_deepnote_index_column": 19
        },
        {
         "Date": 1004,
         "Rot": 59,
         "VH": "V",
         "Team": "Chicago",
         "1st": 0,
         "2nd": 0,
         "3rd": 0,
         "Final": 0,
         "Open": 175,
         "Close": 190,
         "OpenOU": 5,
         "OpenOUOdds": -130,
         "CloseOU": 5,
         "CloseOUOdds": -135,
         "Year": "2008",
         "_deepnote_index_column": 20
        },
        {
         "Date": 1004,
         "Rot": 60,
         "VH": "H",
         "Team": "Minnesota",
         "1st": 0,
         "2nd": 1,
         "3rd": 0,
         "Final": 1,
         "Open": -205,
         "Close": -230,
         "OpenOU": 5,
         "OpenOUOdds": 110,
         "CloseOU": 5,
         "CloseOUOdds": 115,
         "Year": "2008",
         "_deepnote_index_column": 21
        },
        {
         "Date": 1004,
         "Rot": 61,
         "VH": "V",
         "Team": "SanJose",
         "1st": 0,
         "2nd": 0,
         "3rd": 2,
         "Final": 2,
         "Open": -135,
         "Close": -145,
         "OpenOU": 5.5,
         "OpenOUOdds": -110,
         "CloseOU": 5.5,
         "CloseOUOdds": 110,
         "Year": "2008",
         "_deepnote_index_column": 22
        },
        {
         "Date": 1004,
         "Rot": 62,
         "VH": "H",
         "Team": "Edmonton",
         "1st": 0,
         "2nd": 0,
         "3rd": 2,
         "Final": 3,
         "Open": 115,
         "Close": 125,
         "OpenOU": 5.5,
         "OpenOUOdds": -110,
         "CloseOU": 5.5,
         "CloseOUOdds": -130,
         "Year": "2008",
         "_deepnote_index_column": 23
        },
        {
         "Date": 1004,
         "Rot": 63,
         "VH": "V",
         "Team": "Philadelphia",
         "1st": 2,
         "2nd": 0,
         "3rd": 1,
         "Final": 3,
         "Open": 155,
         "Close": 130,
         "OpenOU": 5.5,
         "OpenOUOdds": -110,
         "CloseOU": 5.5,
         "CloseOUOdds": -105,
         "Year": "2008",
         "_deepnote_index_column": 24
        },
        {
         "Date": 1004,
         "Rot": 64,
         "VH": "H",
         "Team": "Calgary",
         "1st": 0,
         "2nd": 1,
         "3rd": 1,
         "Final": 2,
         "Open": -175,
         "Close": -150,
         "OpenOU": 5.5,
         "OpenOUOdds": -110,
         "CloseOU": 5.5,
         "CloseOUOdds": -115,
         "Year": "2008",
         "_deepnote_index_column": 25
        },
        {
         "Date": 1004,
         "Rot": 65,
         "VH": "V",
         "Team": "St.Louis",
         "1st": 0,
         "2nd": 0,
         "3rd": 2,
         "Final": 2,
         "Open": -115,
         "Close": -120,
         "OpenOU": 5.5,
         "OpenOUOdds": -120,
         "CloseOU": 5.5,
         "CloseOUOdds": -125,
         "Year": "2008",
         "_deepnote_index_column": 26
        },
        {
         "Date": 1004,
         "Rot": 66,
         "VH": "H",
         "Team": "Arizona",
         "1st": 0,
         "2nd": 1,
         "3rd": 2,
         "Final": 3,
         "Open": -105,
         "Close": 100,
         "OpenOU": 5.5,
         "OpenOUOdds": 100,
         "CloseOU": 5.5,
         "CloseOUOdds": 105,
         "Year": "2008",
         "_deepnote_index_column": 27
        },
        {
         "Date": 1005,
         "Rot": 1,
         "VH": "V",
         "Team": "Anaheim",
         "1st": 0,
         "2nd": 0,
         "3rd": 0,
         "Final": 0,
         "Open": -110,
         "Close": -120,
         "OpenOU": 5.5,
         "OpenOUOdds": -110,
         "CloseOU": 5.5,
         "CloseOUOdds": 110,
         "Year": "2008",
         "_deepnote_index_column": 28
        },
        {
         "Date": 1005,
         "Rot": 2,
         "VH": "H",
         "Team": "Columbus",
         "1st": 2,
         "2nd": 0,
         "3rd": 2,
         "Final": 4,
         "Open": -110,
         "Close": 100,
         "OpenOU": 5.5,
         "OpenOUOdds": -110,
         "CloseOU": 5.5,
         "CloseOUOdds": -130,
         "Year": "2008",
         "_deepnote_index_column": 29
        },
        {
         "Date": 1005,
         "Rot": 3,
         "VH": "V",
         "Team": "Pittsburgh",
         "1st": 0,
         "2nd": 0,
         "3rd": 1,
         "Final": 1,
         "Open": -110,
         "Close": -110,
         "OpenOU": 6.5,
         "OpenOUOdds": -105,
         "CloseOU": 6.5,
         "CloseOUOdds": 100,
         "Year": "2008",
         "_deepnote_index_column": 30
        },
        {
         "Date": 1005,
         "Rot": 4,
         "VH": "H",
         "Team": "Carolina",
         "1st": 2,
         "2nd": 2,
         "3rd": 0,
         "Final": 4,
         "Open": -110,
         "Close": -110,
         "OpenOU": 6.5,
         "OpenOUOdds": -115,
         "CloseOU": 6.5,
         "CloseOUOdds": -120,
         "Year": "2008",
         "_deepnote_index_column": 31
        },
        {
         "Date": 1005,
         "Rot": 5,
         "VH": "V",
         "Team": "NYIslanders",
         "1st": 3,
         "2nd": 2,
         "3rd": 1,
         "Final": 6,
         "Open": 160,
         "Close": 160,
         "OpenOU": 6,
         "OpenOUOdds": -120,
         "CloseOU": 6,
         "CloseOUOdds": -125,
         "Year": "2008",
         "_deepnote_index_column": 32
        }
       ],
       "rows_bottom": [
        {
         "Date": 614,
         "Rot": 2,
         "VH": "H",
         "Team": "Vegas",
         "1st": 1,
         "2nd": 2,
         "3rd": 1,
         "Final": 4,
         "Open": -270,
         "Close": -260,
         "OpenOU": 2,
         "OpenOUOdds": 115,
         "CloseOU": 5.5,
         "CloseOUOdds": -145,
         "Year": "2021",
         "_deepnote_index_column": 1871
        },
        {
         "Date": 615,
         "Rot": 11,
         "VH": "V",
         "Team": "NYIslanders",
         "1st": 1,
         "2nd": 0,
         "3rd": 1,
         "Final": 2,
         "Open": 160,
         "Close": 175,
         "OpenOU": 5.5,
         "OpenOUOdds": 130,
         "CloseOU": 5,
         "CloseOUOdds": -140,
         "Year": "2021",
         "_deepnote_index_column": 1872
        },
        {
         "Date": 615,
         "Rot": 12,
         "VH": "H",
         "Team": "TampaBay",
         "1st": 1,
         "2nd": 1,
         "3rd": 2,
         "Final": 4,
         "Open": -190,
         "Close": -195,
         "OpenOU": 5.5,
         "OpenOUOdds": -150,
         "CloseOU": 5,
         "CloseOUOdds": 120,
         "Year": "2021",
         "_deepnote_index_column": 1873
        },
        {
         "Date": 616,
         "Rot": 21,
         "VH": "V",
         "Team": "Montreal",
         "1st": 2,
         "2nd": 1,
         "3rd": 0,
         "Final": 3,
         "Open": 220,
         "Close": 220,
         "OpenOU": 5.5,
         "OpenOUOdds": 120,
         "CloseOU": 5,
         "CloseOUOdds": -140,
         "Year": "2021",
         "_deepnote_index_column": 1874
        },
        {
         "Date": 616,
         "Rot": 22,
         "VH": "H",
         "Team": "Vegas",
         "1st": 0,
         "2nd": 1,
         "3rd": 1,
         "Final": 2,
         "Open": -270,
         "Close": -250,
         "OpenOU": 5.5,
         "OpenOUOdds": -140,
         "CloseOU": 5,
         "CloseOUOdds": 120,
         "Year": "2021",
         "_deepnote_index_column": 1875
        },
        {
         "Date": 617,
         "Rot": 31,
         "VH": "V",
         "Team": "TampaBay",
         "1st": 1,
         "2nd": 1,
         "3rd": 0,
         "Final": 2,
         "Open": -140,
         "Close": -129,
         "OpenOU": 5.5,
         "OpenOUOdds": 125,
         "CloseOU": 5,
         "CloseOUOdds": -135,
         "Year": "2021",
         "_deepnote_index_column": 1876
        },
        {
         "Date": 617,
         "Rot": 32,
         "VH": "H",
         "Team": "NYIslanders",
         "1st": 0,
         "2nd": 1,
         "3rd": 0,
         "Final": 1,
         "Open": 120,
         "Close": 119,
         "OpenOU": 5.5,
         "OpenOUOdds": -145,
         "CloseOU": 5,
         "CloseOUOdds": 115,
         "Year": "2021",
         "_deepnote_index_column": 1877
        },
        {
         "Date": 618,
         "Rot": 41,
         "VH": "V",
         "Team": "Vegas",
         "1st": 0,
         "2nd": 1,
         "3rd": 1,
         "Final": 2,
         "Open": -165,
         "Close": -170,
         "OpenOU": 5.5,
         "OpenOUOdds": 125,
         "CloseOU": 5,
         "CloseOUOdds": -145,
         "Year": "2021",
         "_deepnote_index_column": 1878
        },
        {
         "Date": 618,
         "Rot": 42,
         "VH": "H",
         "Team": "Montreal",
         "1st": 0,
         "2nd": 1,
         "3rd": 1,
         "Final": 3,
         "Open": 140,
         "Close": 155,
         "OpenOU": 5.5,
         "OpenOUOdds": -145,
         "CloseOU": 5,
         "CloseOUOdds": 125,
         "Year": "2021",
         "_deepnote_index_column": 1879
        },
        {
         "Date": 619,
         "Rot": 51,
         "VH": "V",
         "Team": "TampaBay",
         "1st": 0,
         "2nd": 0,
         "3rd": 2,
         "Final": 2,
         "Open": -135,
         "Close": -120,
         "OpenOU": 5,
         "OpenOUOdds": -125,
         "CloseOU": 5,
         "CloseOUOdds": -130,
         "Year": "2021",
         "_deepnote_index_column": 1880
        },
        {
         "Date": 619,
         "Rot": 52,
         "VH": "H",
         "Team": "NYIslanders",
         "1st": 0,
         "2nd": 3,
         "3rd": 0,
         "Final": 3,
         "Open": 115,
         "Close": 110,
         "OpenOU": 5,
         "OpenOUOdds": 105,
         "CloseOU": 5,
         "CloseOUOdds": 110,
         "Year": "2021",
         "_deepnote_index_column": 1881
        },
        {
         "Date": 620,
         "Rot": 61,
         "VH": "V",
         "Team": "Vegas",
         "1st": 0,
         "2nd": 0,
         "3rd": 1,
         "Final": 2,
         "Open": -180,
         "Close": -170,
         "OpenOU": 5,
         "OpenOUOdds": -130,
         "CloseOU": 5.5,
         "CloseOUOdds": 120,
         "Year": "2021",
         "_deepnote_index_column": 1882
        },
        {
         "Date": 620,
         "Rot": 62,
         "VH": "H",
         "Team": "Montreal",
         "1st": 0,
         "2nd": 1,
         "3rd": 0,
         "Final": 1,
         "Open": 150,
         "Close": 155,
         "OpenOU": 5,
         "OpenOUOdds": 110,
         "CloseOU": 5.5,
         "CloseOUOdds": -140,
         "Year": "2021",
         "_deepnote_index_column": 1883
        },
        {
         "Date": 621,
         "Rot": 71,
         "VH": "V",
         "Team": "NYIslanders",
         "1st": 0,
         "2nd": 0,
         "3rd": 0,
         "Final": 0,
         "Open": 165,
         "Close": 165,
         "OpenOU": 5,
         "OpenOUOdds": -135,
         "CloseOU": 5,
         "CloseOUOdds": -135,
         "Year": "2021",
         "_deepnote_index_column": 1884
        },
        {
         "Date": 621,
         "Rot": 72,
         "VH": "H",
         "Team": "TampaBay",
         "1st": 3,
         "2nd": 3,
         "3rd": 2,
         "Final": 8,
         "Open": -195,
         "Close": -185,
         "OpenOU": 5,
         "OpenOUOdds": 115,
         "CloseOU": 5,
         "CloseOUOdds": 115,
         "Year": "2021",
         "_deepnote_index_column": 1885
        },
        {
         "Date": 622,
         "Rot": 81,
         "VH": "V",
         "Team": "Montreal",
         "1st": 1,
         "2nd": 2,
         "3rd": 1,
         "Final": 4,
         "Open": 205,
         "Close": 205,
         "OpenOU": 5,
         "OpenOUOdds": -135,
         "CloseOU": 5,
         "CloseOUOdds": -135,
         "Year": "2021",
         "_deepnote_index_column": 1886
        },
        {
         "Date": 622,
         "Rot": 82,
         "VH": "H",
         "Team": "Vegas",
         "1st": 0,
         "2nd": 0,
         "3rd": 1,
         "Final": 1,
         "Open": -255,
         "Close": -230,
         "OpenOU": 5,
         "OpenOUOdds": 115,
         "CloseOU": 5,
         "CloseOUOdds": 115,
         "Year": "2021",
         "_deepnote_index_column": 1887
        },
        {
         "Date": 623,
         "Rot": 11,
         "VH": "V",
         "Team": "TampaBay",
         "1st": 1,
         "2nd": 1,
         "3rd": 0,
         "Final": 2,
         "Open": -150,
         "Close": -140,
         "OpenOU": 5,
         "OpenOUOdds": -130,
         "CloseOU": 5,
         "CloseOUOdds": -130,
         "Year": "2021",
         "_deepnote_index_column": 1888
        },
        {
         "Date": 623,
         "Rot": 12,
         "VH": "H",
         "Team": "NYIslanders",
         "1st": 0,
         "2nd": 1,
         "3rd": 1,
         "Final": 3,
         "Open": 130,
         "Close": 130,
         "OpenOU": 5,
         "OpenOUOdds": 110,
         "CloseOU": 5,
         "CloseOUOdds": 110,
         "Year": "2021",
         "_deepnote_index_column": 1889
        },
        {
         "Date": 624,
         "Rot": 21,
         "VH": "V",
         "Team": "Vegas",
         "1st": 1,
         "2nd": 0,
         "3rd": 1,
         "Final": 2,
         "Open": -140,
         "Close": -135,
         "OpenOU": 5,
         "OpenOUOdds": -130,
         "CloseOU": 5,
         "CloseOUOdds": -130,
         "Year": "2021",
         "_deepnote_index_column": 1890
        },
        {
         "Date": 624,
         "Rot": 22,
         "VH": "H",
         "Team": "Montreal",
         "1st": 1,
         "2nd": 1,
         "3rd": 0,
         "Final": 3,
         "Open": 120,
         "Close": 125,
         "OpenOU": 5,
         "OpenOUOdds": 110,
         "CloseOU": 5,
         "CloseOUOdds": 110,
         "Year": "2021",
         "_deepnote_index_column": 1891
        },
        {
         "Date": 625,
         "Rot": 31,
         "VH": "V",
         "Team": "NYIslanders",
         "1st": 0,
         "2nd": 0,
         "3rd": 0,
         "Final": 0,
         "Open": 150,
         "Close": 165,
         "OpenOU": 5,
         "OpenOUOdds": -130,
         "CloseOU": 5,
         "CloseOUOdds": -105,
         "Year": "2021",
         "_deepnote_index_column": 1892
        },
        {
         "Date": 625,
         "Rot": 32,
         "VH": "H",
         "Team": "TampaBay",
         "1st": 0,
         "2nd": 1,
         "3rd": 0,
         "Final": 1,
         "Open": -180,
         "Close": -185,
         "OpenOU": 5,
         "OpenOUOdds": 110,
         "CloseOU": 5,
         "CloseOUOdds": -115,
         "Year": "2021",
         "_deepnote_index_column": 1893
        },
        {
         "Date": 628,
         "Rot": 61,
         "VH": "V",
         "Team": "Montreal",
         "1st": 0,
         "2nd": 1,
         "3rd": 0,
         "Final": 1,
         "Open": 185,
         "Close": 180,
         "OpenOU": 5,
         "OpenOUOdds": -120,
         "CloseOU": 5,
         "CloseOUOdds": -125,
         "Year": "2021",
         "_deepnote_index_column": 1894
        },
        {
         "Date": 628,
         "Rot": 62,
         "VH": "H",
         "Team": "TampaBay",
         "1st": 1,
         "2nd": 1,
         "3rd": 3,
         "Final": 5,
         "Open": -225,
         "Close": -200,
         "OpenOU": 5,
         "OpenOUOdds": 100,
         "CloseOU": 5,
         "CloseOUOdds": 105,
         "Year": "2021",
         "_deepnote_index_column": 1895
        },
        {
         "Date": 630,
         "Rot": 81,
         "VH": "V",
         "Team": "Montreal",
         "1st": 0,
         "2nd": 1,
         "3rd": 0,
         "Final": 1,
         "Open": 180,
         "Close": 177,
         "OpenOU": 5,
         "OpenOUOdds": -120,
         "CloseOU": 5,
         "CloseOUOdds": -120,
         "Year": "2021",
         "_deepnote_index_column": 1896
        },
        {
         "Date": 630,
         "Rot": 82,
         "VH": "H",
         "Team": "TampaBay",
         "1st": 0,
         "2nd": 2,
         "3rd": 1,
         "Final": 3,
         "Open": -220,
         "Close": -197,
         "OpenOU": 5,
         "OpenOUOdds": 100,
         "CloseOU": 5,
         "CloseOUOdds": 100,
         "Year": "2021",
         "_deepnote_index_column": 1897
        },
        {
         "Date": 702,
         "Rot": 11,
         "VH": "V",
         "Team": "TampaBay",
         "1st": 2,
         "2nd": 2,
         "3rd": 2,
         "Final": 6,
         "Open": -145,
         "Close": -123,
         "OpenOU": 5,
         "OpenOUOdds": -120,
         "CloseOU": 5,
         "CloseOUOdds": -120,
         "Year": "2021",
         "_deepnote_index_column": 1898
        },
        {
         "Date": 702,
         "Rot": 12,
         "VH": "H",
         "Team": "Montreal",
         "1st": 1,
         "2nd": 1,
         "3rd": 1,
         "Final": 3,
         "Open": 125,
         "Close": 113,
         "OpenOU": 5,
         "OpenOUOdds": 100,
         "CloseOU": 5,
         "CloseOUOdds": 100,
         "Year": "2021",
         "_deepnote_index_column": 1899
        },
        {
         "Date": 705,
         "Rot": 21,
         "VH": "V",
         "Team": "TampaBay",
         "1st": 0,
         "2nd": 1,
         "3rd": 1,
         "Final": 2,
         "Open": -145,
         "Close": -150,
         "OpenOU": 5,
         "OpenOUOdds": -135,
         "CloseOU": 5,
         "CloseOUOdds": -140,
         "Year": "2021",
         "_deepnote_index_column": 1900
        },
        {
         "Date": 705,
         "Rot": 22,
         "VH": "H",
         "Team": "Montreal",
         "1st": 1,
         "2nd": 0,
         "3rd": 1,
         "Final": 3,
         "Open": 125,
         "Close": 135,
         "OpenOU": 5,
         "OpenOUOdds": 115,
         "CloseOU": 5,
         "CloseOUOdds": 120,
         "Year": "2021",
         "_deepnote_index_column": 1901
        },
        {
         "Date": 707,
         "Rot": 31,
         "VH": "V",
         "Team": "Montreal",
         "1st": 0,
         "2nd": 0,
         "3rd": 0,
         "Final": 0,
         "Open": 180,
         "Close": 215,
         "OpenOU": 5,
         "OpenOUOdds": -120,
         "CloseOU": 5,
         "CloseOUOdds": -140,
         "Year": "2021",
         "_deepnote_index_column": 1902
        },
        {
         "Date": 707,
         "Rot": 32,
         "VH": "H",
         "Team": "TampaBay",
         "1st": 0,
         "2nd": 1,
         "3rd": 0,
         "Final": 1,
         "Open": -220,
         "Close": -245,
         "OpenOU": 5,
         "OpenOUOdds": 100,
         "CloseOU": 5,
         "CloseOUOdds": 120,
         "Year": "2021",
         "_deepnote_index_column": 1903
        }
       ]
      },
      "text/plain": "      Date  Rot VH        Team  1st  2nd  3rd  Final   Open  Close  OpenOU  \\\n0      929    1  V     Anaheim    0    0    1      1 -155.0 -123.0     6.0   \n1      929    2  H  LosAngeles    1    1    2      4  135.0  103.0     6.0   \n2      930   51  V  LosAngeles    0    1    0      1  115.0  132.0     6.0   \n3      930   52  H     Anaheim    2    2    0      4 -135.0 -152.0     6.0   \n4     1003    1  V     Anaheim    0    2    0      2  165.0  190.0     5.5   \n...    ...  ... ..         ...  ...  ...  ...    ...    ...    ...     ...   \n1899   702   12  H    Montreal    1    1    1      3  125.0  113.0     5.0   \n1900   705   21  V    TampaBay    0    1    1      2 -145.0 -150.0     5.0   \n1901   705   22  H    Montreal    1    0    1      3  125.0  135.0     5.0   \n1902   707   31  V    Montreal    0    0    0      0  180.0  215.0     5.0   \n1903   707   32  H    TampaBay    0    1    0      1 -220.0 -245.0     5.0   \n\n      OpenOUOdds  CloseOU  CloseOUOdds  Year  \n0            100      6.0         -105  2008  \n1           -120      6.0         -115  2008  \n2           -115      6.0          112  2008  \n3           -105      6.0         -132  2008  \n4            105      5.5          120  2008  \n...          ...      ...          ...   ...  \n1899         100      5.0          100  2021  \n1900        -135      5.0         -140  2021  \n1901         115      5.0          120  2021  \n1902        -120      5.0         -140  2021  \n1903         100      5.0          120  2021  \n\n[35094 rows x 15 columns]",
      "text/html": "<div>\n<style scoped>\n    .dataframe tbody tr th:only-of-type {\n        vertical-align: middle;\n    }\n\n    .dataframe tbody tr th {\n        vertical-align: top;\n    }\n\n    .dataframe thead th {\n        text-align: right;\n    }\n</style>\n<table border=\"1\" class=\"dataframe\">\n  <thead>\n    <tr style=\"text-align: right;\">\n      <th></th>\n      <th>Date</th>\n      <th>Rot</th>\n      <th>VH</th>\n      <th>Team</th>\n      <th>1st</th>\n      <th>2nd</th>\n      <th>3rd</th>\n      <th>Final</th>\n      <th>Open</th>\n      <th>Close</th>\n      <th>OpenOU</th>\n      <th>OpenOUOdds</th>\n      <th>CloseOU</th>\n      <th>CloseOUOdds</th>\n      <th>Year</th>\n    </tr>\n  </thead>\n  <tbody>\n    <tr>\n      <th>0</th>\n      <td>929</td>\n      <td>1</td>\n      <td>V</td>\n      <td>Anaheim</td>\n      <td>0</td>\n      <td>0</td>\n      <td>1</td>\n      <td>1</td>\n      <td>-155.0</td>\n      <td>-123.0</td>\n      <td>6.0</td>\n      <td>100</td>\n      <td>6.0</td>\n      <td>-105</td>\n      <td>2008</td>\n    </tr>\n    <tr>\n      <th>1</th>\n      <td>929</td>\n      <td>2</td>\n      <td>H</td>\n      <td>LosAngeles</td>\n      <td>1</td>\n      <td>1</td>\n      <td>2</td>\n      <td>4</td>\n      <td>135.0</td>\n      <td>103.0</td>\n      <td>6.0</td>\n      <td>-120</td>\n      <td>6.0</td>\n      <td>-115</td>\n      <td>2008</td>\n    </tr>\n    <tr>\n      <th>2</th>\n      <td>930</td>\n      <td>51</td>\n      <td>V</td>\n      <td>LosAngeles</td>\n      <td>0</td>\n      <td>1</td>\n      <td>0</td>\n      <td>1</td>\n      <td>115.0</td>\n      <td>132.0</td>\n      <td>6.0</td>\n      <td>-115</td>\n      <td>6.0</td>\n      <td>112</td>\n      <td>2008</td>\n    </tr>\n    <tr>\n      <th>3</th>\n      <td>930</td>\n      <td>52</td>\n      <td>H</td>\n      <td>Anaheim</td>\n      <td>2</td>\n      <td>2</td>\n      <td>0</td>\n      <td>4</td>\n      <td>-135.0</td>\n      <td>-152.0</td>\n      <td>6.0</td>\n      <td>-105</td>\n      <td>6.0</td>\n      <td>-132</td>\n      <td>2008</td>\n    </tr>\n    <tr>\n      <th>4</th>\n      <td>1003</td>\n      <td>1</td>\n      <td>V</td>\n      <td>Anaheim</td>\n      <td>0</td>\n      <td>2</td>\n      <td>0</td>\n      <td>2</td>\n      <td>165.0</td>\n      <td>190.0</td>\n      <td>5.5</td>\n      <td>105</td>\n      <td>5.5</td>\n      <td>120</td>\n      <td>2008</td>\n    </tr>\n    <tr>\n      <th>...</th>\n      <td>...</td>\n      <td>...</td>\n      <td>...</td>\n      <td>...</td>\n      <td>...</td>\n      <td>...</td>\n      <td>...</td>\n      <td>...</td>\n      <td>...</td>\n      <td>...</td>\n      <td>...</td>\n      <td>...</td>\n      <td>...</td>\n      <td>...</td>\n      <td>...</td>\n    </tr>\n    <tr>\n      <th>1899</th>\n      <td>702</td>\n      <td>12</td>\n      <td>H</td>\n      <td>Montreal</td>\n      <td>1</td>\n      <td>1</td>\n      <td>1</td>\n      <td>3</td>\n      <td>125.0</td>\n      <td>113.0</td>\n      <td>5.0</td>\n      <td>100</td>\n      <td>5.0</td>\n      <td>100</td>\n      <td>2021</td>\n    </tr>\n    <tr>\n      <th>1900</th>\n      <td>705</td>\n      <td>21</td>\n      <td>V</td>\n      <td>TampaBay</td>\n      <td>0</td>\n      <td>1</td>\n      <td>1</td>\n      <td>2</td>\n      <td>-145.0</td>\n      <td>-150.0</td>\n      <td>5.0</td>\n      <td>-135</td>\n      <td>5.0</td>\n      <td>-140</td>\n      <td>2021</td>\n    </tr>\n    <tr>\n      <th>1901</th>\n      <td>705</td>\n      <td>22</td>\n      <td>H</td>\n      <td>Montreal</td>\n      <td>1</td>\n      <td>0</td>\n      <td>1</td>\n      <td>3</td>\n      <td>125.0</td>\n      <td>135.0</td>\n      <td>5.0</td>\n      <td>115</td>\n      <td>5.0</td>\n      <td>120</td>\n      <td>2021</td>\n    </tr>\n    <tr>\n      <th>1902</th>\n      <td>707</td>\n      <td>31</td>\n      <td>V</td>\n      <td>Montreal</td>\n      <td>0</td>\n      <td>0</td>\n      <td>0</td>\n      <td>0</td>\n      <td>180.0</td>\n      <td>215.0</td>\n      <td>5.0</td>\n      <td>-120</td>\n      <td>5.0</td>\n      <td>-140</td>\n      <td>2021</td>\n    </tr>\n    <tr>\n      <th>1903</th>\n      <td>707</td>\n      <td>32</td>\n      <td>H</td>\n      <td>TampaBay</td>\n      <td>0</td>\n      <td>1</td>\n      <td>0</td>\n      <td>1</td>\n      <td>-220.0</td>\n      <td>-245.0</td>\n      <td>5.0</td>\n      <td>100</td>\n      <td>5.0</td>\n      <td>120</td>\n      <td>2021</td>\n    </tr>\n  </tbody>\n</table>\n<p>35094 rows × 15 columns</p>\n</div>"
     },
     "metadata": {}
    }
   ],
   "execution_count": null
  },
  {
   "cell_type": "code",
   "source": "# Now I need to build a new dataframe with the games combined. Each game is on a separate row. Over, then under odds\n# The data only has a few years of Puckline, so I can't go too far back historically. I will therefore drop it and not use it.\ncombined_df['HomeTeam'] = combined_df.Team.shift(-1)\ncombined_df['Home1st'] = combined_df['1st'].shift(-1)\ncombined_df['Home2nd'] = combined_df['2nd'].shift(-1)\ncombined_df['Home3rd'] = combined_df['3rd'].shift(-1)\ncombined_df['HomeFinal'] = combined_df.Final.shift(-1)\ncombined_df['MlHomeOpen'] = combined_df.Open.shift(-1)\ncombined_df['MlHomeClose'] = combined_df.Close.shift(-1)\n\n# For over-under, the first row (visitors) is over, then the second row (home) is under\n# Because the over will always equal the under, I only need to pull the opening and closing odds\ncombined_df['OpenUOdds'] = combined_df.OpenOUOdds.shift(-1)\ncombined_df['CloseUOdds'] = combined_df.CloseOUOdds.shift(-1)\n\n# Now we've pulled the needed data into a single row, so we can drop the extra (now in-correct) Home row\ncombined_df.drop(combined_df[combined_df['VH'] == 'H'].index, inplace = True)\n\n# Clean up and rename columns\ncombined_df.drop(columns=['Rot','VH'], inplace=True)\ncombined_df.rename(columns={'Team': 'AwayTeam', '1st': 'Away1st', '2nd': 'Away2nd', '3rd': 'Away3rd', 'Final': 'AwayFinal', \\\n  'Open': 'MlAwayOpen', 'Close': 'MlAwayClose', 'OpenOUOdds': 'OpenOOdds', 'CloseOUOdds': 'CloseOOdds'}, inplace=True)\ncombined_df['Year'] = '2021'\n\n\ncombined_df",
   "metadata": {
    "tags": [],
    "cell_id": "00012-1f0e17c3-496e-451c-a37b-960e6f6e1c55",
    "deepnote_to_be_reexecuted": false,
    "source_hash": "790ad654",
    "execution_start": 1633407169316,
    "execution_millis": 194,
    "deepnote_cell_type": "code"
   },
   "outputs": [
    {
     "output_type": "execute_result",
     "execution_count": 12,
     "data": {
      "application/vnd.deepnote.dataframe.v2+json": {
       "row_count": 17533,
       "column_count": 22,
       "columns": [
        {
         "name": "Date",
         "dtype": "int64",
         "stats": {
          "unique_count": 324,
          "nan_count": 0,
          "min": "101",
          "max": "1231",
          "histogram": [
           {
            "bin_start": 101,
            "bin_end": 214,
            "count": 3679
           },
           {
            "bin_start": 214,
            "bin_end": 327,
            "count": 3833
           },
           {
            "bin_start": 327,
            "bin_end": 440,
            "count": 2242
           },
           {
            "bin_start": 440,
            "bin_end": 553,
            "count": 549
           },
           {
            "bin_start": 553,
            "bin_end": 666,
            "count": 99
           },
           {
            "bin_start": 666,
            "bin_end": 779,
            "count": 3
           },
           {
            "bin_start": 779,
            "bin_end": 892,
            "count": 105
           },
           {
            "bin_start": 892,
            "bin_end": 1005,
            "count": 119
           },
           {
            "bin_start": 1005,
            "bin_end": 1118,
            "count": 3296
           },
           {
            "bin_start": 1118,
            "bin_end": 1231,
            "count": 3608
           }
          ]
         }
        },
        {
         "name": "AwayTeam",
         "dtype": "object",
         "stats": {
          "unique_count": 31,
          "nan_count": 0,
          "categories": [
           {
            "name": "Pittsburgh",
            "count": 622
           },
           {
            "name": "Boston",
            "count": 615
           },
           {
            "name": "29 others",
            "count": 16296
           }
          ]
         }
        },
        {
         "name": "Away1st",
         "dtype": "int64",
         "stats": {
          "unique_count": 7,
          "nan_count": 0,
          "min": "0",
          "max": "6",
          "histogram": [
           {
            "bin_start": 0,
            "bin_end": 0.6,
            "count": 8178
           },
           {
            "bin_start": 0.6,
            "bin_end": 1.2,
            "count": 6276
           },
           {
            "bin_start": 1.2,
            "bin_end": 1.7999999999999998,
            "count": 0
           },
           {
            "bin_start": 1.7999999999999998,
            "bin_end": 2.4,
            "count": 2387
           },
           {
            "bin_start": 2.4,
            "bin_end": 3,
            "count": 0
           },
           {
            "bin_start": 3,
            "bin_end": 3.5999999999999996,
            "count": 586
           },
           {
            "bin_start": 3.5999999999999996,
            "bin_end": 4.2,
            "count": 98
           },
           {
            "bin_start": 4.2,
            "bin_end": 4.8,
            "count": 0
           },
           {
            "bin_start": 4.8,
            "bin_end": 5.3999999999999995,
            "count": 6
           },
           {
            "bin_start": 5.3999999999999995,
            "bin_end": 6,
            "count": 2
           }
          ]
         }
        },
        {
         "name": "Away2nd",
         "dtype": "int64",
         "stats": {
          "unique_count": 8,
          "nan_count": 0,
          "min": "-1",
          "max": "6",
          "histogram": [
           {
            "bin_start": -1,
            "bin_end": -0.30000000000000004,
            "count": 1
           },
           {
            "bin_start": -0.30000000000000004,
            "bin_end": 0.3999999999999999,
            "count": 6884
           },
           {
            "bin_start": 0.3999999999999999,
            "bin_end": 1.0999999999999996,
            "count": 6613
           },
           {
            "bin_start": 1.0999999999999996,
            "bin_end": 1.7999999999999998,
            "count": 0
           },
           {
            "bin_start": 1.7999999999999998,
            "bin_end": 2.5,
            "count": 2937
           },
           {
            "bin_start": 2.5,
            "bin_end": 3.1999999999999993,
            "count": 886
           },
           {
            "bin_start": 3.1999999999999993,
            "bin_end": 3.8999999999999995,
            "count": 0
           },
           {
            "bin_start": 3.8999999999999995,
            "bin_end": 4.6,
            "count": 184
           },
           {
            "bin_start": 4.6,
            "bin_end": 5.3,
            "count": 24
           },
           {
            "bin_start": 5.3,
            "bin_end": 6,
            "count": 4
           }
          ]
         }
        },
        {
         "name": "Away3rd",
         "dtype": "int64",
         "stats": {
          "unique_count": 8,
          "nan_count": 0,
          "min": "0",
          "max": "7",
          "histogram": [
           {
            "bin_start": 0,
            "bin_end": 0.7,
            "count": 7098
           },
           {
            "bin_start": 0.7,
            "bin_end": 1.4,
            "count": 6385
           },
           {
            "bin_start": 1.4,
            "bin_end": 2.0999999999999996,
            "count": 2960
           },
           {
            "bin_start": 2.0999999999999996,
            "bin_end": 2.8,
            "count": 0
           },
           {
            "bin_start": 2.8,
            "bin_end": 3.5,
            "count": 872
           },
           {
            "bin_start": 3.5,
            "bin_end": 4.199999999999999,
            "count": 194
           },
           {
            "bin_start": 4.199999999999999,
            "bin_end": 4.8999999999999995,
            "count": 0
           },
           {
            "bin_start": 4.8999999999999995,
            "bin_end": 5.6,
            "count": 22
           },
           {
            "bin_start": 5.6,
            "bin_end": 6.3,
            "count": 1
           },
           {
            "bin_start": 6.3,
            "bin_end": 7,
            "count": 1
           }
          ]
         }
        },
        {
         "name": "AwayFinal",
         "dtype": "int64"
        },
        {
         "name": "MlAwayOpen",
         "dtype": "float64"
        },
        {
         "name": "MlAwayClose",
         "dtype": "float64"
        },
        {
         "name": "OpenOU",
         "dtype": "float64"
        },
        {
         "name": "OpenOOdds",
         "dtype": "int64"
        },
        {
         "name": "CloseOU",
         "dtype": "float64"
        },
        {
         "name": "CloseOOdds",
         "dtype": "int64"
        },
        {
         "name": "Year",
         "dtype": "object"
        },
        {
         "name": "HomeTeam",
         "dtype": "object"
        },
        {
         "name": "Home1st",
         "dtype": "float64"
        },
        {
         "name": "Home2nd",
         "dtype": "float64"
        },
        {
         "name": "Home3rd",
         "dtype": "float64"
        },
        {
         "name": "HomeFinal",
         "dtype": "float64"
        },
        {
         "name": "MlHomeOpen",
         "dtype": "float64"
        },
        {
         "name": "MlHomeClose",
         "dtype": "float64"
        },
        {
         "name": "OpenUOdds",
         "dtype": "float64"
        },
        {
         "name": "CloseUOdds",
         "dtype": "float64"
        },
        {
         "name": "_deepnote_index_column",
         "dtype": "int64"
        }
       ],
       "rows_top": [
        {
         "Date": 929,
         "AwayTeam": "Anaheim",
         "Away1st": 0,
         "Away2nd": 0,
         "Away3rd": 1,
         "AwayFinal": 1,
         "MlAwayOpen": -155,
         "MlAwayClose": -123,
         "OpenOU": 6,
         "OpenOOdds": 100,
         "CloseOU": 6,
         "CloseOOdds": -105,
         "Year": "2021",
         "HomeTeam": "LosAngeles",
         "Home1st": 0,
         "Home2nd": 1,
         "Home3rd": 0,
         "HomeFinal": 1,
         "MlHomeOpen": 115,
         "MlHomeClose": 132,
         "OpenUOdds": -115,
         "CloseUOdds": 112,
         "_deepnote_index_column": 0
        },
        {
         "Date": 930,
         "AwayTeam": "LosAngeles",
         "Away1st": 0,
         "Away2nd": 1,
         "Away3rd": 0,
         "AwayFinal": 1,
         "MlAwayOpen": 115,
         "MlAwayClose": 132,
         "OpenOU": 6,
         "OpenOOdds": -115,
         "CloseOU": 6,
         "CloseOOdds": 112,
         "Year": "2021",
         "HomeTeam": "Anaheim",
         "Home1st": 0,
         "Home2nd": 2,
         "Home3rd": 0,
         "HomeFinal": 2,
         "MlHomeOpen": 165,
         "MlHomeClose": 190,
         "OpenUOdds": 105,
         "CloseUOdds": 120,
         "_deepnote_index_column": 2
        },
        {
         "Date": 1003,
         "AwayTeam": "Anaheim",
         "Away1st": 0,
         "Away2nd": 2,
         "Away3rd": 0,
         "AwayFinal": 2,
         "MlAwayOpen": 165,
         "MlAwayClose": 190,
         "OpenOU": 5.5,
         "OpenOOdds": 105,
         "CloseOU": 5.5,
         "CloseOOdds": 120,
         "Year": "2021",
         "HomeTeam": "Montreal",
         "Home1st": 1,
         "Home2nd": 0,
         "Home3rd": 1,
         "HomeFinal": 3,
         "MlHomeOpen": 130,
         "MlHomeClose": 140,
         "OpenUOdds": -105,
         "CloseUOdds": 110,
         "_deepnote_index_column": 4
        },
        {
         "Date": 1003,
         "AwayTeam": "Montreal",
         "Away1st": 1,
         "Away2nd": 0,
         "Away3rd": 1,
         "AwayFinal": 3,
         "MlAwayOpen": 130,
         "MlAwayClose": 140,
         "OpenOU": 6,
         "OpenOOdds": -105,
         "CloseOU": 6,
         "CloseOOdds": 110,
         "Year": "2021",
         "HomeTeam": "Ottawa",
         "Home1st": 2,
         "Home2nd": 0,
         "Home3rd": 1,
         "HomeFinal": 4,
         "MlHomeOpen": -120,
         "MlHomeClose": -125,
         "OpenUOdds": -120,
         "CloseUOdds": -135,
         "_deepnote_index_column": 6
        },
        {
         "Date": 1003,
         "AwayTeam": "Ottawa",
         "Away1st": 2,
         "Away2nd": 0,
         "Away3rd": 1,
         "AwayFinal": 4,
         "MlAwayOpen": -120,
         "MlAwayClose": -125,
         "OpenOU": 6,
         "OpenOOdds": -120,
         "CloseOU": 6,
         "CloseOOdds": -135,
         "Year": "2021",
         "HomeTeam": "Dallas",
         "Home1st": 0,
         "Home2nd": 1,
         "Home3rd": 2,
         "HomeFinal": 3,
         "MlHomeOpen": 115,
         "MlHomeClose": 135,
         "OpenUOdds": -115,
         "CloseUOdds": -115,
         "_deepnote_index_column": 8
        },
        {
         "Date": 1003,
         "AwayTeam": "Dallas",
         "Away1st": 0,
         "Away2nd": 1,
         "Away3rd": 2,
         "AwayFinal": 3,
         "MlAwayOpen": 115,
         "MlAwayClose": 135,
         "OpenOU": 5.5,
         "OpenOOdds": -115,
         "CloseOU": 5.5,
         "CloseOOdds": -115,
         "Year": "2021",
         "HomeTeam": "Toronto",
         "Home1st": 0,
         "Home2nd": 2,
         "Home3rd": 0,
         "HomeFinal": 2,
         "MlHomeOpen": 170,
         "MlHomeClose": 150,
         "OpenUOdds": -130,
         "CloseUOdds": -125,
         "_deepnote_index_column": 10
        },
        {
         "Date": 1004,
         "AwayTeam": "Toronto",
         "Away1st": 0,
         "Away2nd": 2,
         "Away3rd": 0,
         "AwayFinal": 2,
         "MlAwayOpen": 170,
         "MlAwayClose": 150,
         "OpenOU": 6,
         "OpenOOdds": -130,
         "CloseOU": 6,
         "CloseOOdds": -125,
         "Year": "2021",
         "HomeTeam": "Florida",
         "Home1st": 0,
         "Home2nd": 2,
         "Home3rd": 0,
         "HomeFinal": 2,
         "MlHomeOpen": 160,
         "MlHomeClose": 170,
         "OpenUOdds": -105,
         "CloseUOdds": 100,
         "_deepnote_index_column": 12
        },
        {
         "Date": 1004,
         "AwayTeam": "Florida",
         "Away1st": 0,
         "Away2nd": 2,
         "Away3rd": 0,
         "AwayFinal": 2,
         "MlAwayOpen": 160,
         "MlAwayClose": 170,
         "OpenOU": 5.5,
         "OpenOOdds": -105,
         "CloseOU": 5.5,
         "CloseOOdds": 100,
         "Year": "2021",
         "HomeTeam": "NewJersey",
         "Home1st": 1,
         "Home2nd": 0,
         "Home3rd": 0,
         "HomeFinal": 1,
         "MlHomeOpen": 115,
         "MlHomeClose": 115,
         "OpenUOdds": 105,
         "CloseUOdds": 120,
         "_deepnote_index_column": 14
        },
        {
         "Date": 1004,
         "AwayTeam": "NewJersey",
         "Away1st": 1,
         "Away2nd": 0,
         "Away3rd": 0,
         "AwayFinal": 1,
         "MlAwayOpen": 115,
         "MlAwayClose": 115,
         "OpenOU": 5.5,
         "OpenOOdds": 105,
         "CloseOU": 5.5,
         "CloseOOdds": 120,
         "Year": "2021",
         "HomeTeam": "Colorado",
         "Home1st": 0,
         "Home2nd": 0,
         "Home3rd": 0,
         "HomeFinal": 0,
         "MlHomeOpen": -105,
         "MlHomeClose": 100,
         "OpenUOdds": -130,
         "CloseUOdds": -125,
         "_deepnote_index_column": 16
        },
        {
         "Date": 1004,
         "AwayTeam": "Colorado",
         "Away1st": 0,
         "Away2nd": 0,
         "Away3rd": 0,
         "AwayFinal": 0,
         "MlAwayOpen": -105,
         "MlAwayClose": 100,
         "OpenOU": 5.5,
         "OpenOOdds": -130,
         "CloseOU": 5.5,
         "CloseOOdds": -125,
         "Year": "2021",
         "HomeTeam": "Chicago",
         "Home1st": 0,
         "Home2nd": 0,
         "Home3rd": 0,
         "HomeFinal": 0,
         "MlHomeOpen": 175,
         "MlHomeClose": 190,
         "OpenUOdds": -130,
         "CloseUOdds": -135,
         "_deepnote_index_column": 18
        },
        {
         "Date": 1004,
         "AwayTeam": "Chicago",
         "Away1st": 0,
         "Away2nd": 0,
         "Away3rd": 0,
         "AwayFinal": 0,
         "MlAwayOpen": 175,
         "MlAwayClose": 190,
         "OpenOU": 5,
         "OpenOOdds": -130,
         "CloseOU": 5,
         "CloseOOdds": -135,
         "Year": "2021",
         "HomeTeam": "SanJose",
         "Home1st": 0,
         "Home2nd": 0,
         "Home3rd": 2,
         "HomeFinal": 2,
         "MlHomeOpen": -135,
         "MlHomeClose": -145,
         "OpenUOdds": -110,
         "CloseUOdds": 110,
         "_deepnote_index_column": 20
        },
        {
         "Date": 1004,
         "AwayTeam": "SanJose",
         "Away1st": 0,
         "Away2nd": 0,
         "Away3rd": 2,
         "AwayFinal": 2,
         "MlAwayOpen": -135,
         "MlAwayClose": -145,
         "OpenOU": 5.5,
         "OpenOOdds": -110,
         "CloseOU": 5.5,
         "CloseOOdds": 110,
         "Year": "2021",
         "HomeTeam": "Philadelphia",
         "Home1st": 2,
         "Home2nd": 0,
         "Home3rd": 1,
         "HomeFinal": 3,
         "MlHomeOpen": 155,
         "MlHomeClose": 130,
         "OpenUOdds": -110,
         "CloseUOdds": -105,
         "_deepnote_index_column": 22
        },
        {
         "Date": 1004,
         "AwayTeam": "Philadelphia",
         "Away1st": 2,
         "Away2nd": 0,
         "Away3rd": 1,
         "AwayFinal": 3,
         "MlAwayOpen": 155,
         "MlAwayClose": 130,
         "OpenOU": 5.5,
         "OpenOOdds": -110,
         "CloseOU": 5.5,
         "CloseOOdds": -105,
         "Year": "2021",
         "HomeTeam": "St.Louis",
         "Home1st": 0,
         "Home2nd": 0,
         "Home3rd": 2,
         "HomeFinal": 2,
         "MlHomeOpen": -115,
         "MlHomeClose": -120,
         "OpenUOdds": -120,
         "CloseUOdds": -125,
         "_deepnote_index_column": 24
        },
        {
         "Date": 1004,
         "AwayTeam": "St.Louis",
         "Away1st": 0,
         "Away2nd": 0,
         "Away3rd": 2,
         "AwayFinal": 2,
         "MlAwayOpen": -115,
         "MlAwayClose": -120,
         "OpenOU": 5.5,
         "OpenOOdds": -120,
         "CloseOU": 5.5,
         "CloseOOdds": -125,
         "Year": "2021",
         "HomeTeam": "Anaheim",
         "Home1st": 0,
         "Home2nd": 0,
         "Home3rd": 0,
         "HomeFinal": 0,
         "MlHomeOpen": -110,
         "MlHomeClose": -120,
         "OpenUOdds": -110,
         "CloseUOdds": 110,
         "_deepnote_index_column": 26
        },
        {
         "Date": 1005,
         "AwayTeam": "Anaheim",
         "Away1st": 0,
         "Away2nd": 0,
         "Away3rd": 0,
         "AwayFinal": 0,
         "MlAwayOpen": -110,
         "MlAwayClose": -120,
         "OpenOU": 5.5,
         "OpenOOdds": -110,
         "CloseOU": 5.5,
         "CloseOOdds": 110,
         "Year": "2021",
         "HomeTeam": "Pittsburgh",
         "Home1st": 0,
         "Home2nd": 0,
         "Home3rd": 1,
         "HomeFinal": 1,
         "MlHomeOpen": -110,
         "MlHomeClose": -110,
         "OpenUOdds": -105,
         "CloseUOdds": 100,
         "_deepnote_index_column": 28
        },
        {
         "Date": 1005,
         "AwayTeam": "Pittsburgh",
         "Away1st": 0,
         "Away2nd": 0,
         "Away3rd": 1,
         "AwayFinal": 1,
         "MlAwayOpen": -110,
         "MlAwayClose": -110,
         "OpenOU": 6.5,
         "OpenOOdds": -105,
         "CloseOU": 6.5,
         "CloseOOdds": 100,
         "Year": "2021",
         "HomeTeam": "NYIslanders",
         "Home1st": 3,
         "Home2nd": 2,
         "Home3rd": 1,
         "HomeFinal": 6,
         "MlHomeOpen": 160,
         "MlHomeClose": 160,
         "OpenUOdds": -120,
         "CloseUOdds": -125,
         "_deepnote_index_column": 30
        },
        {
         "Date": 1005,
         "AwayTeam": "NYIslanders",
         "Away1st": 3,
         "Away2nd": 2,
         "Away3rd": 1,
         "AwayFinal": 6,
         "MlAwayOpen": 160,
         "MlAwayClose": 160,
         "OpenOU": 6,
         "OpenOOdds": -120,
         "CloseOU": 6,
         "CloseOOdds": -125,
         "Year": "2021",
         "HomeTeam": "Washington",
         "Home1st": 2,
         "Home2nd": 0,
         "Home3rd": 1,
         "HomeFinal": 3,
         "MlHomeOpen": 120,
         "MlHomeClose": 135,
         "OpenUOdds": -115,
         "CloseUOdds": -115,
         "_deepnote_index_column": 32
        },
        {
         "Date": 1005,
         "AwayTeam": "Washington",
         "Away1st": 2,
         "Away2nd": 0,
         "Away3rd": 1,
         "AwayFinal": 3,
         "MlAwayOpen": 120,
         "MlAwayClose": 135,
         "OpenOU": 6.5,
         "OpenOOdds": -115,
         "CloseOU": 6.5,
         "CloseOOdds": -115,
         "Year": "2021",
         "HomeTeam": "Boston",
         "Home1st": 0,
         "Home2nd": 1,
         "Home3rd": 0,
         "HomeFinal": 1,
         "MlHomeOpen": 160,
         "MlHomeClose": 160,
         "OpenUOdds": -105,
         "CloseUOdds": 110,
         "_deepnote_index_column": 34
        },
        {
         "Date": 1005,
         "AwayTeam": "Boston",
         "Away1st": 0,
         "Away2nd": 1,
         "Away3rd": 0,
         "AwayFinal": 1,
         "MlAwayOpen": 160,
         "MlAwayClose": 160,
         "OpenOU": 5.5,
         "OpenOOdds": -105,
         "CloseOU": 5.5,
         "CloseOOdds": 110,
         "Year": "2021",
         "HomeTeam": "SanJose",
         "Home1st": 3,
         "Home2nd": 0,
         "Home3rd": 0,
         "HomeFinal": 3,
         "MlHomeOpen": -105,
         "MlHomeClose": 105,
         "OpenUOdds": -115,
         "CloseUOdds": -115,
         "_deepnote_index_column": 36
        },
        {
         "Date": 1005,
         "AwayTeam": "SanJose",
         "Away1st": 3,
         "Away2nd": 0,
         "Away3rd": 0,
         "AwayFinal": 3,
         "MlAwayOpen": -105,
         "MlAwayClose": 105,
         "OpenOU": 5,
         "OpenOOdds": -115,
         "CloseOU": 5,
         "CloseOOdds": -115,
         "Year": "2021",
         "HomeTeam": "Montreal",
         "Home1st": 1,
         "Home2nd": 2,
         "Home3rd": 0,
         "HomeFinal": 3,
         "MlHomeOpen": 120,
         "MlHomeClose": 135,
         "OpenUOdds": 100,
         "CloseUOdds": -110,
         "_deepnote_index_column": 38
        },
        {
         "Date": 1006,
         "AwayTeam": "Montreal",
         "Away1st": 1,
         "Away2nd": 2,
         "Away3rd": 0,
         "AwayFinal": 3,
         "MlAwayOpen": 120,
         "MlAwayClose": 135,
         "OpenOU": 6,
         "OpenOOdds": 100,
         "CloseOU": 6,
         "CloseOOdds": -110,
         "Year": "2021",
         "HomeTeam": "Buffalo",
         "Home1st": 1,
         "Home2nd": 0,
         "Home3rd": 1,
         "HomeFinal": 2,
         "MlHomeOpen": -125,
         "MlHomeClose": -130,
         "OpenUOdds": -120,
         "CloseUOdds": -125,
         "_deepnote_index_column": 40
        },
        {
         "Date": 1006,
         "AwayTeam": "Buffalo",
         "Away1st": 1,
         "Away2nd": 0,
         "Away3rd": 1,
         "AwayFinal": 2,
         "MlAwayOpen": -125,
         "MlAwayClose": -130,
         "OpenOU": 6,
         "OpenOOdds": -120,
         "CloseOU": 6,
         "CloseOOdds": -125,
         "Year": "2021",
         "HomeTeam": "NYRangers",
         "Home1st": 0,
         "Home2nd": 0,
         "Home3rd": 0,
         "HomeFinal": 0,
         "MlHomeOpen": 105,
         "MlHomeClose": 110,
         "OpenUOdds": -110,
         "CloseUOdds": -115,
         "_deepnote_index_column": 42
        }
       ],
       "rows_bottom": [
        {
         "Date": 607,
         "AwayTeam": "Winnipeg",
         "Away1st": 0,
         "Away2nd": 2,
         "Away3rd": 0,
         "AwayFinal": 2,
         "MlAwayOpen": 130,
         "MlAwayClose": 130,
         "OpenOU": 5.5,
         "OpenOOdds": 120,
         "CloseOU": 5.5,
         "CloseOOdds": 110,
         "Year": "2021",
         "HomeTeam": "TampaBay",
         "Home1st": 0,
         "Home2nd": 1,
         "Home3rd": 1,
         "HomeFinal": 2,
         "MlHomeOpen": -120,
         "MlHomeClose": -115,
         "OpenUOdds": 110,
         "CloseUOdds": 110,
         "_deepnote_index_column": 1858
        },
        {
         "Date": 608,
         "AwayTeam": "TampaBay",
         "Away1st": 0,
         "Away2nd": 1,
         "Away3rd": 1,
         "AwayFinal": 2,
         "MlAwayOpen": -120,
         "MlAwayClose": -115,
         "OpenOU": 5.5,
         "OpenOOdds": 110,
         "CloseOU": 5.5,
         "CloseOOdds": 110,
         "Year": "2021",
         "HomeTeam": "Vegas",
         "Home1st": 0,
         "Home2nd": 0,
         "Home3rd": 2,
         "HomeFinal": 3,
         "MlHomeOpen": 130,
         "MlHomeClose": 125,
         "OpenUOdds": -105,
         "CloseUOdds": 100,
         "_deepnote_index_column": 1860
        },
        {
         "Date": 608,
         "AwayTeam": "Vegas",
         "Away1st": 0,
         "Away2nd": 0,
         "Away3rd": 2,
         "AwayFinal": 3,
         "MlAwayOpen": 130,
         "MlAwayClose": 125,
         "OpenOU": 5.5,
         "OpenOOdds": -105,
         "CloseOU": 5.5,
         "CloseOOdds": 100,
         "Year": "2021",
         "HomeTeam": "Boston",
         "Home1st": 1,
         "Home2nd": 0,
         "Home3rd": 1,
         "HomeFinal": 2,
         "MlHomeOpen": -135,
         "MlHomeClose": -137,
         "OpenUOdds": -140,
         "CloseUOdds": -135,
         "_deepnote_index_column": 1862
        },
        {
         "Date": 609,
         "AwayTeam": "Boston",
         "Away1st": 1,
         "Away2nd": 0,
         "Away3rd": 1,
         "AwayFinal": 2,
         "MlAwayOpen": -135,
         "MlAwayClose": -137,
         "OpenOU": 5,
         "OpenOOdds": -140,
         "CloseOU": 5,
         "CloseOOdds": -135,
         "Year": "2021",
         "HomeTeam": "Colorado",
         "Home1st": 1,
         "Home2nd": 2,
         "Home3rd": 0,
         "HomeFinal": 3,
         "MlHomeOpen": 120,
         "MlHomeClose": 119,
         "OpenUOdds": 100,
         "CloseUOdds": 100,
         "_deepnote_index_column": 1864
        },
        {
         "Date": 610,
         "AwayTeam": "Colorado",
         "Away1st": 1,
         "Away2nd": 2,
         "Away3rd": 0,
         "AwayFinal": 3,
         "MlAwayOpen": 120,
         "MlAwayClose": 119,
         "OpenOU": 5.5,
         "OpenOOdds": 100,
         "CloseOU": 5.5,
         "CloseOOdds": 100,
         "Year": "2021",
         "HomeTeam": "NYIslanders",
         "Home1st": 0,
         "Home2nd": 1,
         "Home3rd": 1,
         "HomeFinal": 2,
         "MlHomeOpen": 160,
         "MlHomeClose": 160,
         "OpenUOdds": 120,
         "CloseUOdds": 125,
         "_deepnote_index_column": 1866
        },
        {
         "Date": 613,
         "AwayTeam": "NYIslanders",
         "Away1st": 0,
         "Away2nd": 1,
         "Away3rd": 1,
         "AwayFinal": 2,
         "MlAwayOpen": 160,
         "MlAwayClose": 160,
         "OpenOU": 5.5,
         "OpenOOdds": 120,
         "CloseOU": 5.5,
         "CloseOOdds": 125,
         "Year": "2021",
         "HomeTeam": "Montreal",
         "Home1st": 0,
         "Home2nd": 1,
         "Home3rd": 0,
         "HomeFinal": 1,
         "MlHomeOpen": 220,
         "MlHomeClose": 230,
         "OpenUOdds": -135,
         "CloseUOdds": 125,
         "_deepnote_index_column": 1868
        },
        {
         "Date": 614,
         "AwayTeam": "Montreal",
         "Away1st": 0,
         "Away2nd": 1,
         "Away3rd": 0,
         "AwayFinal": 1,
         "MlAwayOpen": 220,
         "MlAwayClose": 230,
         "OpenOU": 2,
         "OpenOOdds": -135,
         "CloseOU": 5.5,
         "CloseOOdds": 125,
         "Year": "2021",
         "HomeTeam": "NYIslanders",
         "Home1st": 1,
         "Home2nd": 0,
         "Home3rd": 1,
         "HomeFinal": 2,
         "MlHomeOpen": 160,
         "MlHomeClose": 175,
         "OpenUOdds": 130,
         "CloseUOdds": -140,
         "_deepnote_index_column": 1870
        },
        {
         "Date": 615,
         "AwayTeam": "NYIslanders",
         "Away1st": 1,
         "Away2nd": 0,
         "Away3rd": 1,
         "AwayFinal": 2,
         "MlAwayOpen": 160,
         "MlAwayClose": 175,
         "OpenOU": 5.5,
         "OpenOOdds": 130,
         "CloseOU": 5,
         "CloseOOdds": -140,
         "Year": "2021",
         "HomeTeam": "Montreal",
         "Home1st": 2,
         "Home2nd": 1,
         "Home3rd": 0,
         "HomeFinal": 3,
         "MlHomeOpen": 220,
         "MlHomeClose": 220,
         "OpenUOdds": 120,
         "CloseUOdds": -140,
         "_deepnote_index_column": 1872
        },
        {
         "Date": 616,
         "AwayTeam": "Montreal",
         "Away1st": 2,
         "Away2nd": 1,
         "Away3rd": 0,
         "AwayFinal": 3,
         "MlAwayOpen": 220,
         "MlAwayClose": 220,
         "OpenOU": 5.5,
         "OpenOOdds": 120,
         "CloseOU": 5,
         "CloseOOdds": -140,
         "Year": "2021",
         "HomeTeam": "TampaBay",
         "Home1st": 1,
         "Home2nd": 1,
         "Home3rd": 0,
         "HomeFinal": 2,
         "MlHomeOpen": -140,
         "MlHomeClose": -129,
         "OpenUOdds": 125,
         "CloseUOdds": -135,
         "_deepnote_index_column": 1874
        },
        {
         "Date": 617,
         "AwayTeam": "TampaBay",
         "Away1st": 1,
         "Away2nd": 1,
         "Away3rd": 0,
         "AwayFinal": 2,
         "MlAwayOpen": -140,
         "MlAwayClose": -129,
         "OpenOU": 5.5,
         "OpenOOdds": 125,
         "CloseOU": 5,
         "CloseOOdds": -135,
         "Year": "2021",
         "HomeTeam": "Vegas",
         "Home1st": 0,
         "Home2nd": 1,
         "Home3rd": 1,
         "HomeFinal": 2,
         "MlHomeOpen": -165,
         "MlHomeClose": -170,
         "OpenUOdds": 125,
         "CloseUOdds": -145,
         "_deepnote_index_column": 1876
        },
        {
         "Date": 618,
         "AwayTeam": "Vegas",
         "Away1st": 0,
         "Away2nd": 1,
         "Away3rd": 1,
         "AwayFinal": 2,
         "MlAwayOpen": -165,
         "MlAwayClose": -170,
         "OpenOU": 5.5,
         "OpenOOdds": 125,
         "CloseOU": 5,
         "CloseOOdds": -145,
         "Year": "2021",
         "HomeTeam": "TampaBay",
         "Home1st": 0,
         "Home2nd": 0,
         "Home3rd": 2,
         "HomeFinal": 2,
         "MlHomeOpen": -135,
         "MlHomeClose": -120,
         "OpenUOdds": -125,
         "CloseUOdds": -130,
         "_deepnote_index_column": 1878
        },
        {
         "Date": 619,
         "AwayTeam": "TampaBay",
         "Away1st": 0,
         "Away2nd": 0,
         "Away3rd": 2,
         "AwayFinal": 2,
         "MlAwayOpen": -135,
         "MlAwayClose": -120,
         "OpenOU": 5,
         "OpenOOdds": -125,
         "CloseOU": 5,
         "CloseOOdds": -130,
         "Year": "2021",
         "HomeTeam": "Vegas",
         "Home1st": 0,
         "Home2nd": 0,
         "Home3rd": 1,
         "HomeFinal": 2,
         "MlHomeOpen": -180,
         "MlHomeClose": -170,
         "OpenUOdds": -130,
         "CloseUOdds": 120,
         "_deepnote_index_column": 1880
        },
        {
         "Date": 620,
         "AwayTeam": "Vegas",
         "Away1st": 0,
         "Away2nd": 0,
         "Away3rd": 1,
         "AwayFinal": 2,
         "MlAwayOpen": -180,
         "MlAwayClose": -170,
         "OpenOU": 5,
         "OpenOOdds": -130,
         "CloseOU": 5.5,
         "CloseOOdds": 120,
         "Year": "2021",
         "HomeTeam": "NYIslanders",
         "Home1st": 0,
         "Home2nd": 0,
         "Home3rd": 0,
         "HomeFinal": 0,
         "MlHomeOpen": 165,
         "MlHomeClose": 165,
         "OpenUOdds": -135,
         "CloseUOdds": -135,
         "_deepnote_index_column": 1882
        },
        {
         "Date": 621,
         "AwayTeam": "NYIslanders",
         "Away1st": 0,
         "Away2nd": 0,
         "Away3rd": 0,
         "AwayFinal": 0,
         "MlAwayOpen": 165,
         "MlAwayClose": 165,
         "OpenOU": 5,
         "OpenOOdds": -135,
         "CloseOU": 5,
         "CloseOOdds": -135,
         "Year": "2021",
         "HomeTeam": "Montreal",
         "Home1st": 1,
         "Home2nd": 2,
         "Home3rd": 1,
         "HomeFinal": 4,
         "MlHomeOpen": 205,
         "MlHomeClose": 205,
         "OpenUOdds": -135,
         "CloseUOdds": -135,
         "_deepnote_index_column": 1884
        },
        {
         "Date": 622,
         "AwayTeam": "Montreal",
         "Away1st": 1,
         "Away2nd": 2,
         "Away3rd": 1,
         "AwayFinal": 4,
         "MlAwayOpen": 205,
         "MlAwayClose": 205,
         "OpenOU": 5,
         "OpenOOdds": -135,
         "CloseOU": 5,
         "CloseOOdds": -135,
         "Year": "2021",
         "HomeTeam": "TampaBay",
         "Home1st": 1,
         "Home2nd": 1,
         "Home3rd": 0,
         "HomeFinal": 2,
         "MlHomeOpen": -150,
         "MlHomeClose": -140,
         "OpenUOdds": -130,
         "CloseUOdds": -130,
         "_deepnote_index_column": 1886
        },
        {
         "Date": 623,
         "AwayTeam": "TampaBay",
         "Away1st": 1,
         "Away2nd": 1,
         "Away3rd": 0,
         "AwayFinal": 2,
         "MlAwayOpen": -150,
         "MlAwayClose": -140,
         "OpenOU": 5,
         "OpenOOdds": -130,
         "CloseOU": 5,
         "CloseOOdds": -130,
         "Year": "2021",
         "HomeTeam": "Vegas",
         "Home1st": 1,
         "Home2nd": 0,
         "Home3rd": 1,
         "HomeFinal": 2,
         "MlHomeOpen": -140,
         "MlHomeClose": -135,
         "OpenUOdds": -130,
         "CloseUOdds": -130,
         "_deepnote_index_column": 1888
        },
        {
         "Date": 624,
         "AwayTeam": "Vegas",
         "Away1st": 1,
         "Away2nd": 0,
         "Away3rd": 1,
         "AwayFinal": 2,
         "MlAwayOpen": -140,
         "MlAwayClose": -135,
         "OpenOU": 5,
         "OpenOOdds": -130,
         "CloseOU": 5,
         "CloseOOdds": -130,
         "Year": "2021",
         "HomeTeam": "NYIslanders",
         "Home1st": 0,
         "Home2nd": 0,
         "Home3rd": 0,
         "HomeFinal": 0,
         "MlHomeOpen": 150,
         "MlHomeClose": 165,
         "OpenUOdds": -130,
         "CloseUOdds": -105,
         "_deepnote_index_column": 1890
        },
        {
         "Date": 625,
         "AwayTeam": "NYIslanders",
         "Away1st": 0,
         "Away2nd": 0,
         "Away3rd": 0,
         "AwayFinal": 0,
         "MlAwayOpen": 150,
         "MlAwayClose": 165,
         "OpenOU": 5,
         "OpenOOdds": -130,
         "CloseOU": 5,
         "CloseOOdds": -105,
         "Year": "2021",
         "HomeTeam": "Montreal",
         "Home1st": 0,
         "Home2nd": 1,
         "Home3rd": 0,
         "HomeFinal": 1,
         "MlHomeOpen": 185,
         "MlHomeClose": 180,
         "OpenUOdds": -120,
         "CloseUOdds": -125,
         "_deepnote_index_column": 1892
        },
        {
         "Date": 628,
         "AwayTeam": "Montreal",
         "Away1st": 0,
         "Away2nd": 1,
         "Away3rd": 0,
         "AwayFinal": 1,
         "MlAwayOpen": 185,
         "MlAwayClose": 180,
         "OpenOU": 5,
         "OpenOOdds": -120,
         "CloseOU": 5,
         "CloseOOdds": -125,
         "Year": "2021",
         "HomeTeam": "Montreal",
         "Home1st": 0,
         "Home2nd": 1,
         "Home3rd": 0,
         "HomeFinal": 1,
         "MlHomeOpen": 180,
         "MlHomeClose": 177,
         "OpenUOdds": -120,
         "CloseUOdds": -120,
         "_deepnote_index_column": 1894
        },
        {
         "Date": 630,
         "AwayTeam": "Montreal",
         "Away1st": 0,
         "Away2nd": 1,
         "Away3rd": 0,
         "AwayFinal": 1,
         "MlAwayOpen": 180,
         "MlAwayClose": 177,
         "OpenOU": 5,
         "OpenOOdds": -120,
         "CloseOU": 5,
         "CloseOOdds": -120,
         "Year": "2021",
         "HomeTeam": "TampaBay",
         "Home1st": 2,
         "Home2nd": 2,
         "Home3rd": 2,
         "HomeFinal": 6,
         "MlHomeOpen": -145,
         "MlHomeClose": -123,
         "OpenUOdds": -120,
         "CloseUOdds": -120,
         "_deepnote_index_column": 1896
        },
        {
         "Date": 702,
         "AwayTeam": "TampaBay",
         "Away1st": 2,
         "Away2nd": 2,
         "Away3rd": 2,
         "AwayFinal": 6,
         "MlAwayOpen": -145,
         "MlAwayClose": -123,
         "OpenOU": 5,
         "OpenOOdds": -120,
         "CloseOU": 5,
         "CloseOOdds": -120,
         "Year": "2021",
         "HomeTeam": "TampaBay",
         "Home1st": 0,
         "Home2nd": 1,
         "Home3rd": 1,
         "HomeFinal": 2,
         "MlHomeOpen": -145,
         "MlHomeClose": -150,
         "OpenUOdds": -135,
         "CloseUOdds": -140,
         "_deepnote_index_column": 1898
        },
        {
         "Date": 705,
         "AwayTeam": "TampaBay",
         "Away1st": 0,
         "Away2nd": 1,
         "Away3rd": 1,
         "AwayFinal": 2,
         "MlAwayOpen": -145,
         "MlAwayClose": -150,
         "OpenOU": 5,
         "OpenOOdds": -135,
         "CloseOU": 5,
         "CloseOOdds": -140,
         "Year": "2021",
         "HomeTeam": "Montreal",
         "Home1st": 0,
         "Home2nd": 0,
         "Home3rd": 0,
         "HomeFinal": 0,
         "MlHomeOpen": 180,
         "MlHomeClose": 215,
         "OpenUOdds": -120,
         "CloseUOdds": -140,
         "_deepnote_index_column": 1900
        },
        {
         "Date": 707,
         "AwayTeam": "Montreal",
         "Away1st": 0,
         "Away2nd": 0,
         "Away3rd": 0,
         "AwayFinal": 0,
         "MlAwayOpen": 180,
         "MlAwayClose": 215,
         "OpenOU": 5,
         "OpenOOdds": -120,
         "CloseOU": 5,
         "CloseOOdds": -140,
         "Year": "2021",
         "HomeTeam": "nan",
         "Home1st": "nan",
         "Home2nd": "nan",
         "Home3rd": "nan",
         "HomeFinal": "nan",
         "MlHomeOpen": "nan",
         "MlHomeClose": "nan",
         "OpenUOdds": "nan",
         "CloseUOdds": "nan",
         "_deepnote_index_column": 1902
        }
       ]
      },
      "text/plain": "      Date    AwayTeam  Away1st  Away2nd  Away3rd  AwayFinal  MlAwayOpen  \\\n0      929     Anaheim        0        0        1          1      -155.0   \n2      930  LosAngeles        0        1        0          1       115.0   \n4     1003     Anaheim        0        2        0          2       165.0   \n6     1003    Montreal        1        0        1          3       130.0   \n8     1003      Ottawa        2        0        1          4      -120.0   \n...    ...         ...      ...      ...      ...        ...         ...   \n1894   628    Montreal        0        1        0          1       185.0   \n1896   630    Montreal        0        1        0          1       180.0   \n1898   702    TampaBay        2        2        2          6      -145.0   \n1900   705    TampaBay        0        1        1          2      -145.0   \n1902   707    Montreal        0        0        0          0       180.0   \n\n      MlAwayClose  OpenOU  OpenOOdds  ...  Year    HomeTeam Home1st Home2nd  \\\n0          -123.0     6.0        100  ...  2021  LosAngeles     0.0     1.0   \n2           132.0     6.0       -115  ...  2021     Anaheim     0.0     2.0   \n4           190.0     5.5        105  ...  2021    Montreal     1.0     0.0   \n6           140.0     6.0       -105  ...  2021      Ottawa     2.0     0.0   \n8          -125.0     6.0       -120  ...  2021      Dallas     0.0     1.0   \n...           ...     ...        ...  ...   ...         ...     ...     ...   \n1894        180.0     5.0       -120  ...  2021    Montreal     0.0     1.0   \n1896        177.0     5.0       -120  ...  2021    TampaBay     2.0     2.0   \n1898       -123.0     5.0       -120  ...  2021    TampaBay     0.0     1.0   \n1900       -150.0     5.0       -135  ...  2021    Montreal     0.0     0.0   \n1902        215.0     5.0       -120  ...  2021         NaN     NaN     NaN   \n\n      Home3rd  HomeFinal  MlHomeOpen  MlHomeClose  OpenUOdds  CloseUOdds  \n0         0.0        1.0       115.0        132.0     -115.0       112.0  \n2         0.0        2.0       165.0        190.0      105.0       120.0  \n4         1.0        3.0       130.0        140.0     -105.0       110.0  \n6         1.0        4.0      -120.0       -125.0     -120.0      -135.0  \n8         2.0        3.0       115.0        135.0     -115.0      -115.0  \n...       ...        ...         ...          ...        ...         ...  \n1894      0.0        1.0       180.0        177.0     -120.0      -120.0  \n1896      2.0        6.0      -145.0       -123.0     -120.0      -120.0  \n1898      1.0        2.0      -145.0       -150.0     -135.0      -140.0  \n1900      0.0        0.0       180.0        215.0     -120.0      -140.0  \n1902      NaN        NaN         NaN          NaN        NaN         NaN  \n\n[17533 rows x 22 columns]",
      "text/html": "<div>\n<style scoped>\n    .dataframe tbody tr th:only-of-type {\n        vertical-align: middle;\n    }\n\n    .dataframe tbody tr th {\n        vertical-align: top;\n    }\n\n    .dataframe thead th {\n        text-align: right;\n    }\n</style>\n<table border=\"1\" class=\"dataframe\">\n  <thead>\n    <tr style=\"text-align: right;\">\n      <th></th>\n      <th>Date</th>\n      <th>AwayTeam</th>\n      <th>Away1st</th>\n      <th>Away2nd</th>\n      <th>Away3rd</th>\n      <th>AwayFinal</th>\n      <th>MlAwayOpen</th>\n      <th>MlAwayClose</th>\n      <th>OpenOU</th>\n      <th>OpenOOdds</th>\n      <th>...</th>\n      <th>Year</th>\n      <th>HomeTeam</th>\n      <th>Home1st</th>\n      <th>Home2nd</th>\n      <th>Home3rd</th>\n      <th>HomeFinal</th>\n      <th>MlHomeOpen</th>\n      <th>MlHomeClose</th>\n      <th>OpenUOdds</th>\n      <th>CloseUOdds</th>\n    </tr>\n  </thead>\n  <tbody>\n    <tr>\n      <th>0</th>\n      <td>929</td>\n      <td>Anaheim</td>\n      <td>0</td>\n      <td>0</td>\n      <td>1</td>\n      <td>1</td>\n      <td>-155.0</td>\n      <td>-123.0</td>\n      <td>6.0</td>\n      <td>100</td>\n      <td>...</td>\n      <td>2021</td>\n      <td>LosAngeles</td>\n      <td>0.0</td>\n      <td>1.0</td>\n      <td>0.0</td>\n      <td>1.0</td>\n      <td>115.0</td>\n      <td>132.0</td>\n      <td>-115.0</td>\n      <td>112.0</td>\n    </tr>\n    <tr>\n      <th>2</th>\n      <td>930</td>\n      <td>LosAngeles</td>\n      <td>0</td>\n      <td>1</td>\n      <td>0</td>\n      <td>1</td>\n      <td>115.0</td>\n      <td>132.0</td>\n      <td>6.0</td>\n      <td>-115</td>\n      <td>...</td>\n      <td>2021</td>\n      <td>Anaheim</td>\n      <td>0.0</td>\n      <td>2.0</td>\n      <td>0.0</td>\n      <td>2.0</td>\n      <td>165.0</td>\n      <td>190.0</td>\n      <td>105.0</td>\n      <td>120.0</td>\n    </tr>\n    <tr>\n      <th>4</th>\n      <td>1003</td>\n      <td>Anaheim</td>\n      <td>0</td>\n      <td>2</td>\n      <td>0</td>\n      <td>2</td>\n      <td>165.0</td>\n      <td>190.0</td>\n      <td>5.5</td>\n      <td>105</td>\n      <td>...</td>\n      <td>2021</td>\n      <td>Montreal</td>\n      <td>1.0</td>\n      <td>0.0</td>\n      <td>1.0</td>\n      <td>3.0</td>\n      <td>130.0</td>\n      <td>140.0</td>\n      <td>-105.0</td>\n      <td>110.0</td>\n    </tr>\n    <tr>\n      <th>6</th>\n      <td>1003</td>\n      <td>Montreal</td>\n      <td>1</td>\n      <td>0</td>\n      <td>1</td>\n      <td>3</td>\n      <td>130.0</td>\n      <td>140.0</td>\n      <td>6.0</td>\n      <td>-105</td>\n      <td>...</td>\n      <td>2021</td>\n      <td>Ottawa</td>\n      <td>2.0</td>\n      <td>0.0</td>\n      <td>1.0</td>\n      <td>4.0</td>\n      <td>-120.0</td>\n      <td>-125.0</td>\n      <td>-120.0</td>\n      <td>-135.0</td>\n    </tr>\n    <tr>\n      <th>8</th>\n      <td>1003</td>\n      <td>Ottawa</td>\n      <td>2</td>\n      <td>0</td>\n      <td>1</td>\n      <td>4</td>\n      <td>-120.0</td>\n      <td>-125.0</td>\n      <td>6.0</td>\n      <td>-120</td>\n      <td>...</td>\n      <td>2021</td>\n      <td>Dallas</td>\n      <td>0.0</td>\n      <td>1.0</td>\n      <td>2.0</td>\n      <td>3.0</td>\n      <td>115.0</td>\n      <td>135.0</td>\n      <td>-115.0</td>\n      <td>-115.0</td>\n    </tr>\n    <tr>\n      <th>...</th>\n      <td>...</td>\n      <td>...</td>\n      <td>...</td>\n      <td>...</td>\n      <td>...</td>\n      <td>...</td>\n      <td>...</td>\n      <td>...</td>\n      <td>...</td>\n      <td>...</td>\n      <td>...</td>\n      <td>...</td>\n      <td>...</td>\n      <td>...</td>\n      <td>...</td>\n      <td>...</td>\n      <td>...</td>\n      <td>...</td>\n      <td>...</td>\n      <td>...</td>\n      <td>...</td>\n    </tr>\n    <tr>\n      <th>1894</th>\n      <td>628</td>\n      <td>Montreal</td>\n      <td>0</td>\n      <td>1</td>\n      <td>0</td>\n      <td>1</td>\n      <td>185.0</td>\n      <td>180.0</td>\n      <td>5.0</td>\n      <td>-120</td>\n      <td>...</td>\n      <td>2021</td>\n      <td>Montreal</td>\n      <td>0.0</td>\n      <td>1.0</td>\n      <td>0.0</td>\n      <td>1.0</td>\n      <td>180.0</td>\n      <td>177.0</td>\n      <td>-120.0</td>\n      <td>-120.0</td>\n    </tr>\n    <tr>\n      <th>1896</th>\n      <td>630</td>\n      <td>Montreal</td>\n      <td>0</td>\n      <td>1</td>\n      <td>0</td>\n      <td>1</td>\n      <td>180.0</td>\n      <td>177.0</td>\n      <td>5.0</td>\n      <td>-120</td>\n      <td>...</td>\n      <td>2021</td>\n      <td>TampaBay</td>\n      <td>2.0</td>\n      <td>2.0</td>\n      <td>2.0</td>\n      <td>6.0</td>\n      <td>-145.0</td>\n      <td>-123.0</td>\n      <td>-120.0</td>\n      <td>-120.0</td>\n    </tr>\n    <tr>\n      <th>1898</th>\n      <td>702</td>\n      <td>TampaBay</td>\n      <td>2</td>\n      <td>2</td>\n      <td>2</td>\n      <td>6</td>\n      <td>-145.0</td>\n      <td>-123.0</td>\n      <td>5.0</td>\n      <td>-120</td>\n      <td>...</td>\n      <td>2021</td>\n      <td>TampaBay</td>\n      <td>0.0</td>\n      <td>1.0</td>\n      <td>1.0</td>\n      <td>2.0</td>\n      <td>-145.0</td>\n      <td>-150.0</td>\n      <td>-135.0</td>\n      <td>-140.0</td>\n    </tr>\n    <tr>\n      <th>1900</th>\n      <td>705</td>\n      <td>TampaBay</td>\n      <td>0</td>\n      <td>1</td>\n      <td>1</td>\n      <td>2</td>\n      <td>-145.0</td>\n      <td>-150.0</td>\n      <td>5.0</td>\n      <td>-135</td>\n      <td>...</td>\n      <td>2021</td>\n      <td>Montreal</td>\n      <td>0.0</td>\n      <td>0.0</td>\n      <td>0.0</td>\n      <td>0.0</td>\n      <td>180.0</td>\n      <td>215.0</td>\n      <td>-120.0</td>\n      <td>-140.0</td>\n    </tr>\n    <tr>\n      <th>1902</th>\n      <td>707</td>\n      <td>Montreal</td>\n      <td>0</td>\n      <td>0</td>\n      <td>0</td>\n      <td>0</td>\n      <td>180.0</td>\n      <td>215.0</td>\n      <td>5.0</td>\n      <td>-120</td>\n      <td>...</td>\n      <td>2021</td>\n      <td>NaN</td>\n      <td>NaN</td>\n      <td>NaN</td>\n      <td>NaN</td>\n      <td>NaN</td>\n      <td>NaN</td>\n      <td>NaN</td>\n      <td>NaN</td>\n      <td>NaN</td>\n    </tr>\n  </tbody>\n</table>\n<p>17533 rows × 22 columns</p>\n</div>"
     },
     "metadata": {}
    }
   ],
   "execution_count": null
  },
  {
   "cell_type": "code",
   "source": "combined_df.to_csv('x.csv', index=True)",
   "metadata": {
    "tags": [],
    "cell_id": "00013-16a2c8b3-4f4d-457c-8680-c65880108da6",
    "deepnote_to_be_reexecuted": false,
    "source_hash": "f97e0c83",
    "execution_start": 1633407461313,
    "execution_millis": 314,
    "deepnote_cell_type": "code"
   },
   "outputs": [],
   "execution_count": null
  },
  {
   "cell_type": "markdown",
   "source": "<a style='text-decoration:none;line-height:16px;display:flex;color:#5B5B62;padding:10px;justify-content:end;' href='https://deepnote.com?utm_source=created-in-deepnote-cell&projectId=f0efbe77-01fa-4860-b5ee-e7eac30d44e8' target=\"_blank\">\n<img alt='Created in deepnote.com' style='display:inline;max-height:16px;margin:0px;margin-right:7.5px;' src='data:image/svg+xml;base64,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' > </img>\nCreated in <span style='font-weight:600;margin-left:4px;'>Deepnote</span></a>",
   "metadata": {
    "tags": [],
    "created_in_deepnote_cell": true,
    "deepnote_cell_type": "markdown"
   }
  }
 ],
 "nbformat": 4,
 "nbformat_minor": 2,
 "metadata": {
  "orig_nbformat": 2,
  "deepnote": {
   "is_reactive": false
  },
  "deepnote_notebook_id": "e013aaa5-3acb-46db-9c2a-a43d73d5d18c",
  "deepnote_execution_queue": []
 }
}